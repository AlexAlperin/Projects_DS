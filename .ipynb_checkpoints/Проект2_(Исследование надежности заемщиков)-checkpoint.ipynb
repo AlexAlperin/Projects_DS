{
 "cells": [
  {
   "cell_type": "markdown",
   "id": "f2bdf231",
   "metadata": {},
   "source": [
    "# Исследование надежности заемщиков."
   ]
  },
  {
   "cell_type": "markdown",
   "id": "9e3c4a14",
   "metadata": {},
   "source": [
    "### Шаг 1. Обзор данных"
   ]
  },
  {
   "cell_type": "markdown",
   "id": "bd7c3367",
   "metadata": {},
   "source": [
    "<div class=\"alert alert-info\">\n",
    "<font color='black'> <b> В данном проекте нужно разобраться, влияет ли семейное положение, количество детей клиента, образование, доход клиента на факт погашения кредита в срок. Входные данные от банка — статистика о платёжеспособности клиентов</font> <b> \n",
    "  \n",
    "\n"
   ]
  },
  {
   "cell_type": "code",
   "execution_count": 1,
   "id": "882a01a5",
   "metadata": {},
   "outputs": [
    {
     "name": "stdout",
     "output_type": "stream",
     "text": [
      "<class 'pandas.core.frame.DataFrame'>\n",
      "RangeIndex: 21525 entries, 0 to 21524\n",
      "Data columns (total 12 columns):\n",
      "children            21525 non-null int64\n",
      "days_employed       19351 non-null float64\n",
      "dob_years           21525 non-null int64\n",
      "education           21525 non-null object\n",
      "education_id        21525 non-null int64\n",
      "family_status       21525 non-null object\n",
      "family_status_id    21525 non-null int64\n",
      "gender              21525 non-null object\n",
      "income_type         21525 non-null object\n",
      "debt                21525 non-null int64\n",
      "total_income        19351 non-null float64\n",
      "purpose             21525 non-null object\n",
      "dtypes: float64(2), int64(5), object(5)\n",
      "memory usage: 2.0+ MB\n"
     ]
    },
    {
     "data": {
      "text/html": [
       "<div>\n",
       "<style scoped>\n",
       "    .dataframe tbody tr th:only-of-type {\n",
       "        vertical-align: middle;\n",
       "    }\n",
       "\n",
       "    .dataframe tbody tr th {\n",
       "        vertical-align: top;\n",
       "    }\n",
       "\n",
       "    .dataframe thead th {\n",
       "        text-align: right;\n",
       "    }\n",
       "</style>\n",
       "<table border=\"1\" class=\"dataframe\">\n",
       "  <thead>\n",
       "    <tr style=\"text-align: right;\">\n",
       "      <th></th>\n",
       "      <th>children</th>\n",
       "      <th>days_employed</th>\n",
       "      <th>dob_years</th>\n",
       "      <th>education</th>\n",
       "      <th>education_id</th>\n",
       "      <th>family_status</th>\n",
       "      <th>family_status_id</th>\n",
       "      <th>gender</th>\n",
       "      <th>income_type</th>\n",
       "      <th>debt</th>\n",
       "      <th>total_income</th>\n",
       "      <th>purpose</th>\n",
       "    </tr>\n",
       "  </thead>\n",
       "  <tbody>\n",
       "    <tr>\n",
       "      <td>0</td>\n",
       "      <td>1</td>\n",
       "      <td>-8437.673028</td>\n",
       "      <td>42</td>\n",
       "      <td>высшее</td>\n",
       "      <td>0</td>\n",
       "      <td>женат / замужем</td>\n",
       "      <td>0</td>\n",
       "      <td>F</td>\n",
       "      <td>сотрудник</td>\n",
       "      <td>0</td>\n",
       "      <td>253875.639453</td>\n",
       "      <td>покупка жилья</td>\n",
       "    </tr>\n",
       "    <tr>\n",
       "      <td>1</td>\n",
       "      <td>1</td>\n",
       "      <td>-4024.803754</td>\n",
       "      <td>36</td>\n",
       "      <td>среднее</td>\n",
       "      <td>1</td>\n",
       "      <td>женат / замужем</td>\n",
       "      <td>0</td>\n",
       "      <td>F</td>\n",
       "      <td>сотрудник</td>\n",
       "      <td>0</td>\n",
       "      <td>112080.014102</td>\n",
       "      <td>приобретение автомобиля</td>\n",
       "    </tr>\n",
       "    <tr>\n",
       "      <td>2</td>\n",
       "      <td>0</td>\n",
       "      <td>-5623.422610</td>\n",
       "      <td>33</td>\n",
       "      <td>Среднее</td>\n",
       "      <td>1</td>\n",
       "      <td>женат / замужем</td>\n",
       "      <td>0</td>\n",
       "      <td>M</td>\n",
       "      <td>сотрудник</td>\n",
       "      <td>0</td>\n",
       "      <td>145885.952297</td>\n",
       "      <td>покупка жилья</td>\n",
       "    </tr>\n",
       "    <tr>\n",
       "      <td>3</td>\n",
       "      <td>3</td>\n",
       "      <td>-4124.747207</td>\n",
       "      <td>32</td>\n",
       "      <td>среднее</td>\n",
       "      <td>1</td>\n",
       "      <td>женат / замужем</td>\n",
       "      <td>0</td>\n",
       "      <td>M</td>\n",
       "      <td>сотрудник</td>\n",
       "      <td>0</td>\n",
       "      <td>267628.550329</td>\n",
       "      <td>дополнительное образование</td>\n",
       "    </tr>\n",
       "    <tr>\n",
       "      <td>4</td>\n",
       "      <td>0</td>\n",
       "      <td>340266.072047</td>\n",
       "      <td>53</td>\n",
       "      <td>среднее</td>\n",
       "      <td>1</td>\n",
       "      <td>гражданский брак</td>\n",
       "      <td>1</td>\n",
       "      <td>F</td>\n",
       "      <td>пенсионер</td>\n",
       "      <td>0</td>\n",
       "      <td>158616.077870</td>\n",
       "      <td>сыграть свадьбу</td>\n",
       "    </tr>\n",
       "    <tr>\n",
       "      <td>5</td>\n",
       "      <td>0</td>\n",
       "      <td>-926.185831</td>\n",
       "      <td>27</td>\n",
       "      <td>высшее</td>\n",
       "      <td>0</td>\n",
       "      <td>гражданский брак</td>\n",
       "      <td>1</td>\n",
       "      <td>M</td>\n",
       "      <td>компаньон</td>\n",
       "      <td>0</td>\n",
       "      <td>255763.565419</td>\n",
       "      <td>покупка жилья</td>\n",
       "    </tr>\n",
       "    <tr>\n",
       "      <td>6</td>\n",
       "      <td>0</td>\n",
       "      <td>-2879.202052</td>\n",
       "      <td>43</td>\n",
       "      <td>высшее</td>\n",
       "      <td>0</td>\n",
       "      <td>женат / замужем</td>\n",
       "      <td>0</td>\n",
       "      <td>F</td>\n",
       "      <td>компаньон</td>\n",
       "      <td>0</td>\n",
       "      <td>240525.971920</td>\n",
       "      <td>операции с жильем</td>\n",
       "    </tr>\n",
       "    <tr>\n",
       "      <td>7</td>\n",
       "      <td>0</td>\n",
       "      <td>-152.779569</td>\n",
       "      <td>50</td>\n",
       "      <td>СРЕДНЕЕ</td>\n",
       "      <td>1</td>\n",
       "      <td>женат / замужем</td>\n",
       "      <td>0</td>\n",
       "      <td>M</td>\n",
       "      <td>сотрудник</td>\n",
       "      <td>0</td>\n",
       "      <td>135823.934197</td>\n",
       "      <td>образование</td>\n",
       "    </tr>\n",
       "    <tr>\n",
       "      <td>8</td>\n",
       "      <td>2</td>\n",
       "      <td>-6929.865299</td>\n",
       "      <td>35</td>\n",
       "      <td>ВЫСШЕЕ</td>\n",
       "      <td>0</td>\n",
       "      <td>гражданский брак</td>\n",
       "      <td>1</td>\n",
       "      <td>F</td>\n",
       "      <td>сотрудник</td>\n",
       "      <td>0</td>\n",
       "      <td>95856.832424</td>\n",
       "      <td>на проведение свадьбы</td>\n",
       "    </tr>\n",
       "    <tr>\n",
       "      <td>9</td>\n",
       "      <td>0</td>\n",
       "      <td>-2188.756445</td>\n",
       "      <td>41</td>\n",
       "      <td>среднее</td>\n",
       "      <td>1</td>\n",
       "      <td>женат / замужем</td>\n",
       "      <td>0</td>\n",
       "      <td>M</td>\n",
       "      <td>сотрудник</td>\n",
       "      <td>0</td>\n",
       "      <td>144425.938277</td>\n",
       "      <td>покупка жилья для семьи</td>\n",
       "    </tr>\n",
       "    <tr>\n",
       "      <td>10</td>\n",
       "      <td>2</td>\n",
       "      <td>-4171.483647</td>\n",
       "      <td>36</td>\n",
       "      <td>высшее</td>\n",
       "      <td>0</td>\n",
       "      <td>женат / замужем</td>\n",
       "      <td>0</td>\n",
       "      <td>M</td>\n",
       "      <td>компаньон</td>\n",
       "      <td>0</td>\n",
       "      <td>113943.491460</td>\n",
       "      <td>покупка недвижимости</td>\n",
       "    </tr>\n",
       "    <tr>\n",
       "      <td>11</td>\n",
       "      <td>0</td>\n",
       "      <td>-792.701887</td>\n",
       "      <td>40</td>\n",
       "      <td>среднее</td>\n",
       "      <td>1</td>\n",
       "      <td>женат / замужем</td>\n",
       "      <td>0</td>\n",
       "      <td>F</td>\n",
       "      <td>сотрудник</td>\n",
       "      <td>0</td>\n",
       "      <td>77069.234271</td>\n",
       "      <td>покупка коммерческой недвижимости</td>\n",
       "    </tr>\n",
       "    <tr>\n",
       "      <td>12</td>\n",
       "      <td>0</td>\n",
       "      <td>NaN</td>\n",
       "      <td>65</td>\n",
       "      <td>среднее</td>\n",
       "      <td>1</td>\n",
       "      <td>гражданский брак</td>\n",
       "      <td>1</td>\n",
       "      <td>M</td>\n",
       "      <td>пенсионер</td>\n",
       "      <td>0</td>\n",
       "      <td>NaN</td>\n",
       "      <td>сыграть свадьбу</td>\n",
       "    </tr>\n",
       "    <tr>\n",
       "      <td>13</td>\n",
       "      <td>0</td>\n",
       "      <td>-1846.641941</td>\n",
       "      <td>54</td>\n",
       "      <td>неоконченное высшее</td>\n",
       "      <td>2</td>\n",
       "      <td>женат / замужем</td>\n",
       "      <td>0</td>\n",
       "      <td>F</td>\n",
       "      <td>сотрудник</td>\n",
       "      <td>0</td>\n",
       "      <td>130458.228857</td>\n",
       "      <td>приобретение автомобиля</td>\n",
       "    </tr>\n",
       "    <tr>\n",
       "      <td>14</td>\n",
       "      <td>0</td>\n",
       "      <td>-1844.956182</td>\n",
       "      <td>56</td>\n",
       "      <td>высшее</td>\n",
       "      <td>0</td>\n",
       "      <td>гражданский брак</td>\n",
       "      <td>1</td>\n",
       "      <td>F</td>\n",
       "      <td>компаньон</td>\n",
       "      <td>1</td>\n",
       "      <td>165127.911772</td>\n",
       "      <td>покупка жилой недвижимости</td>\n",
       "    </tr>\n",
       "  </tbody>\n",
       "</table>\n",
       "</div>"
      ],
      "text/plain": [
       "    children  days_employed  dob_years            education  education_id  \\\n",
       "0          1   -8437.673028         42               высшее             0   \n",
       "1          1   -4024.803754         36              среднее             1   \n",
       "2          0   -5623.422610         33              Среднее             1   \n",
       "3          3   -4124.747207         32              среднее             1   \n",
       "4          0  340266.072047         53              среднее             1   \n",
       "5          0    -926.185831         27               высшее             0   \n",
       "6          0   -2879.202052         43               высшее             0   \n",
       "7          0    -152.779569         50              СРЕДНЕЕ             1   \n",
       "8          2   -6929.865299         35               ВЫСШЕЕ             0   \n",
       "9          0   -2188.756445         41              среднее             1   \n",
       "10         2   -4171.483647         36               высшее             0   \n",
       "11         0    -792.701887         40              среднее             1   \n",
       "12         0            NaN         65              среднее             1   \n",
       "13         0   -1846.641941         54  неоконченное высшее             2   \n",
       "14         0   -1844.956182         56               высшее             0   \n",
       "\n",
       "       family_status  family_status_id gender income_type  debt  \\\n",
       "0    женат / замужем                 0      F   сотрудник     0   \n",
       "1    женат / замужем                 0      F   сотрудник     0   \n",
       "2    женат / замужем                 0      M   сотрудник     0   \n",
       "3    женат / замужем                 0      M   сотрудник     0   \n",
       "4   гражданский брак                 1      F   пенсионер     0   \n",
       "5   гражданский брак                 1      M   компаньон     0   \n",
       "6    женат / замужем                 0      F   компаньон     0   \n",
       "7    женат / замужем                 0      M   сотрудник     0   \n",
       "8   гражданский брак                 1      F   сотрудник     0   \n",
       "9    женат / замужем                 0      M   сотрудник     0   \n",
       "10   женат / замужем                 0      M   компаньон     0   \n",
       "11   женат / замужем                 0      F   сотрудник     0   \n",
       "12  гражданский брак                 1      M   пенсионер     0   \n",
       "13   женат / замужем                 0      F   сотрудник     0   \n",
       "14  гражданский брак                 1      F   компаньон     1   \n",
       "\n",
       "     total_income                            purpose  \n",
       "0   253875.639453                      покупка жилья  \n",
       "1   112080.014102            приобретение автомобиля  \n",
       "2   145885.952297                      покупка жилья  \n",
       "3   267628.550329         дополнительное образование  \n",
       "4   158616.077870                    сыграть свадьбу  \n",
       "5   255763.565419                      покупка жилья  \n",
       "6   240525.971920                  операции с жильем  \n",
       "7   135823.934197                        образование  \n",
       "8    95856.832424              на проведение свадьбы  \n",
       "9   144425.938277            покупка жилья для семьи  \n",
       "10  113943.491460               покупка недвижимости  \n",
       "11   77069.234271  покупка коммерческой недвижимости  \n",
       "12            NaN                    сыграть свадьбу  \n",
       "13  130458.228857            приобретение автомобиля  \n",
       "14  165127.911772         покупка жилой недвижимости  "
      ]
     },
     "metadata": {},
     "output_type": "display_data"
    }
   ],
   "source": [
    "import pandas as pd\n",
    "data=pd.read_csv('/datasets/data.csv')\n",
    "data.info()\n",
    "display(data.head(15))\n",
    "\n"
   ]
  },
  {
   "cell_type": "markdown",
   "id": "d495f36d",
   "metadata": {},
   "source": [
    "<div class=\"alert alert-info\">\n",
    "<font color='black'> <b> По открытой таблице с данными можно сделать следующие выводы:  \n",
    "   В данных имеетя 12 колонок, в двух колонках значений меньше, чем в остальных.\n",
    "   Присутствуют целые числа, дробные числа и значения типа \"object\" </font> <b> \n",
    "   \n",
    "    "
   ]
  },
  {
   "cell_type": "markdown",
   "id": "68fba502",
   "metadata": {},
   "source": [
    "### Шаг 2.1 Заполнение пропусков"
   ]
  },
  {
   "cell_type": "code",
   "execution_count": 2,
   "id": "965d59e2",
   "metadata": {},
   "outputs": [
    {
     "data": {
      "text/html": [
       "<div>\n",
       "<style scoped>\n",
       "    .dataframe tbody tr th:only-of-type {\n",
       "        vertical-align: middle;\n",
       "    }\n",
       "\n",
       "    .dataframe tbody tr th {\n",
       "        vertical-align: top;\n",
       "    }\n",
       "\n",
       "    .dataframe thead th {\n",
       "        text-align: right;\n",
       "    }\n",
       "</style>\n",
       "<table border=\"1\" class=\"dataframe\">\n",
       "  <thead>\n",
       "    <tr style=\"text-align: right;\">\n",
       "      <th></th>\n",
       "      <th>children</th>\n",
       "      <th>days_employed</th>\n",
       "      <th>dob_years</th>\n",
       "      <th>education</th>\n",
       "      <th>education_id</th>\n",
       "      <th>family_status</th>\n",
       "      <th>family_status_id</th>\n",
       "      <th>gender</th>\n",
       "      <th>income_type</th>\n",
       "      <th>debt</th>\n",
       "      <th>total_income</th>\n",
       "      <th>purpose</th>\n",
       "    </tr>\n",
       "  </thead>\n",
       "  <tbody>\n",
       "    <tr>\n",
       "      <td>0</td>\n",
       "      <td>1</td>\n",
       "      <td>-8437.673028</td>\n",
       "      <td>42</td>\n",
       "      <td>высшее</td>\n",
       "      <td>0</td>\n",
       "      <td>женат / замужем</td>\n",
       "      <td>0</td>\n",
       "      <td>F</td>\n",
       "      <td>сотрудник</td>\n",
       "      <td>0</td>\n",
       "      <td>253875.639453</td>\n",
       "      <td>покупка жилья</td>\n",
       "    </tr>\n",
       "    <tr>\n",
       "      <td>1</td>\n",
       "      <td>1</td>\n",
       "      <td>-4024.803754</td>\n",
       "      <td>36</td>\n",
       "      <td>среднее</td>\n",
       "      <td>1</td>\n",
       "      <td>женат / замужем</td>\n",
       "      <td>0</td>\n",
       "      <td>F</td>\n",
       "      <td>сотрудник</td>\n",
       "      <td>0</td>\n",
       "      <td>112080.014102</td>\n",
       "      <td>приобретение автомобиля</td>\n",
       "    </tr>\n",
       "    <tr>\n",
       "      <td>2</td>\n",
       "      <td>0</td>\n",
       "      <td>-5623.422610</td>\n",
       "      <td>33</td>\n",
       "      <td>Среднее</td>\n",
       "      <td>1</td>\n",
       "      <td>женат / замужем</td>\n",
       "      <td>0</td>\n",
       "      <td>M</td>\n",
       "      <td>сотрудник</td>\n",
       "      <td>0</td>\n",
       "      <td>145885.952297</td>\n",
       "      <td>покупка жилья</td>\n",
       "    </tr>\n",
       "    <tr>\n",
       "      <td>3</td>\n",
       "      <td>3</td>\n",
       "      <td>-4124.747207</td>\n",
       "      <td>32</td>\n",
       "      <td>среднее</td>\n",
       "      <td>1</td>\n",
       "      <td>женат / замужем</td>\n",
       "      <td>0</td>\n",
       "      <td>M</td>\n",
       "      <td>сотрудник</td>\n",
       "      <td>0</td>\n",
       "      <td>267628.550329</td>\n",
       "      <td>дополнительное образование</td>\n",
       "    </tr>\n",
       "    <tr>\n",
       "      <td>4</td>\n",
       "      <td>0</td>\n",
       "      <td>340266.072047</td>\n",
       "      <td>53</td>\n",
       "      <td>среднее</td>\n",
       "      <td>1</td>\n",
       "      <td>гражданский брак</td>\n",
       "      <td>1</td>\n",
       "      <td>F</td>\n",
       "      <td>пенсионер</td>\n",
       "      <td>0</td>\n",
       "      <td>158616.077870</td>\n",
       "      <td>сыграть свадьбу</td>\n",
       "    </tr>\n",
       "    <tr>\n",
       "      <td>5</td>\n",
       "      <td>0</td>\n",
       "      <td>-926.185831</td>\n",
       "      <td>27</td>\n",
       "      <td>высшее</td>\n",
       "      <td>0</td>\n",
       "      <td>гражданский брак</td>\n",
       "      <td>1</td>\n",
       "      <td>M</td>\n",
       "      <td>компаньон</td>\n",
       "      <td>0</td>\n",
       "      <td>255763.565419</td>\n",
       "      <td>покупка жилья</td>\n",
       "    </tr>\n",
       "    <tr>\n",
       "      <td>6</td>\n",
       "      <td>0</td>\n",
       "      <td>-2879.202052</td>\n",
       "      <td>43</td>\n",
       "      <td>высшее</td>\n",
       "      <td>0</td>\n",
       "      <td>женат / замужем</td>\n",
       "      <td>0</td>\n",
       "      <td>F</td>\n",
       "      <td>компаньон</td>\n",
       "      <td>0</td>\n",
       "      <td>240525.971920</td>\n",
       "      <td>операции с жильем</td>\n",
       "    </tr>\n",
       "    <tr>\n",
       "      <td>7</td>\n",
       "      <td>0</td>\n",
       "      <td>-152.779569</td>\n",
       "      <td>50</td>\n",
       "      <td>СРЕДНЕЕ</td>\n",
       "      <td>1</td>\n",
       "      <td>женат / замужем</td>\n",
       "      <td>0</td>\n",
       "      <td>M</td>\n",
       "      <td>сотрудник</td>\n",
       "      <td>0</td>\n",
       "      <td>135823.934197</td>\n",
       "      <td>образование</td>\n",
       "    </tr>\n",
       "    <tr>\n",
       "      <td>8</td>\n",
       "      <td>2</td>\n",
       "      <td>-6929.865299</td>\n",
       "      <td>35</td>\n",
       "      <td>ВЫСШЕЕ</td>\n",
       "      <td>0</td>\n",
       "      <td>гражданский брак</td>\n",
       "      <td>1</td>\n",
       "      <td>F</td>\n",
       "      <td>сотрудник</td>\n",
       "      <td>0</td>\n",
       "      <td>95856.832424</td>\n",
       "      <td>на проведение свадьбы</td>\n",
       "    </tr>\n",
       "    <tr>\n",
       "      <td>9</td>\n",
       "      <td>0</td>\n",
       "      <td>-2188.756445</td>\n",
       "      <td>41</td>\n",
       "      <td>среднее</td>\n",
       "      <td>1</td>\n",
       "      <td>женат / замужем</td>\n",
       "      <td>0</td>\n",
       "      <td>M</td>\n",
       "      <td>сотрудник</td>\n",
       "      <td>0</td>\n",
       "      <td>144425.938277</td>\n",
       "      <td>покупка жилья для семьи</td>\n",
       "    </tr>\n",
       "    <tr>\n",
       "      <td>10</td>\n",
       "      <td>2</td>\n",
       "      <td>-4171.483647</td>\n",
       "      <td>36</td>\n",
       "      <td>высшее</td>\n",
       "      <td>0</td>\n",
       "      <td>женат / замужем</td>\n",
       "      <td>0</td>\n",
       "      <td>M</td>\n",
       "      <td>компаньон</td>\n",
       "      <td>0</td>\n",
       "      <td>113943.491460</td>\n",
       "      <td>покупка недвижимости</td>\n",
       "    </tr>\n",
       "    <tr>\n",
       "      <td>11</td>\n",
       "      <td>0</td>\n",
       "      <td>-792.701887</td>\n",
       "      <td>40</td>\n",
       "      <td>среднее</td>\n",
       "      <td>1</td>\n",
       "      <td>женат / замужем</td>\n",
       "      <td>0</td>\n",
       "      <td>F</td>\n",
       "      <td>сотрудник</td>\n",
       "      <td>0</td>\n",
       "      <td>77069.234271</td>\n",
       "      <td>покупка коммерческой недвижимости</td>\n",
       "    </tr>\n",
       "    <tr>\n",
       "      <td>12</td>\n",
       "      <td>0</td>\n",
       "      <td>-1203.369529</td>\n",
       "      <td>65</td>\n",
       "      <td>среднее</td>\n",
       "      <td>1</td>\n",
       "      <td>гражданский брак</td>\n",
       "      <td>1</td>\n",
       "      <td>M</td>\n",
       "      <td>пенсионер</td>\n",
       "      <td>0</td>\n",
       "      <td>145017.937533</td>\n",
       "      <td>сыграть свадьбу</td>\n",
       "    </tr>\n",
       "    <tr>\n",
       "      <td>13</td>\n",
       "      <td>0</td>\n",
       "      <td>-1846.641941</td>\n",
       "      <td>54</td>\n",
       "      <td>неоконченное высшее</td>\n",
       "      <td>2</td>\n",
       "      <td>женат / замужем</td>\n",
       "      <td>0</td>\n",
       "      <td>F</td>\n",
       "      <td>сотрудник</td>\n",
       "      <td>0</td>\n",
       "      <td>130458.228857</td>\n",
       "      <td>приобретение автомобиля</td>\n",
       "    </tr>\n",
       "    <tr>\n",
       "      <td>14</td>\n",
       "      <td>0</td>\n",
       "      <td>-1844.956182</td>\n",
       "      <td>56</td>\n",
       "      <td>высшее</td>\n",
       "      <td>0</td>\n",
       "      <td>гражданский брак</td>\n",
       "      <td>1</td>\n",
       "      <td>F</td>\n",
       "      <td>компаньон</td>\n",
       "      <td>1</td>\n",
       "      <td>165127.911772</td>\n",
       "      <td>покупка жилой недвижимости</td>\n",
       "    </tr>\n",
       "  </tbody>\n",
       "</table>\n",
       "</div>"
      ],
      "text/plain": [
       "    children  days_employed  dob_years            education  education_id  \\\n",
       "0          1   -8437.673028         42               высшее             0   \n",
       "1          1   -4024.803754         36              среднее             1   \n",
       "2          0   -5623.422610         33              Среднее             1   \n",
       "3          3   -4124.747207         32              среднее             1   \n",
       "4          0  340266.072047         53              среднее             1   \n",
       "5          0    -926.185831         27               высшее             0   \n",
       "6          0   -2879.202052         43               высшее             0   \n",
       "7          0    -152.779569         50              СРЕДНЕЕ             1   \n",
       "8          2   -6929.865299         35               ВЫСШЕЕ             0   \n",
       "9          0   -2188.756445         41              среднее             1   \n",
       "10         2   -4171.483647         36               высшее             0   \n",
       "11         0    -792.701887         40              среднее             1   \n",
       "12         0   -1203.369529         65              среднее             1   \n",
       "13         0   -1846.641941         54  неоконченное высшее             2   \n",
       "14         0   -1844.956182         56               высшее             0   \n",
       "\n",
       "       family_status  family_status_id gender income_type  debt  \\\n",
       "0    женат / замужем                 0      F   сотрудник     0   \n",
       "1    женат / замужем                 0      F   сотрудник     0   \n",
       "2    женат / замужем                 0      M   сотрудник     0   \n",
       "3    женат / замужем                 0      M   сотрудник     0   \n",
       "4   гражданский брак                 1      F   пенсионер     0   \n",
       "5   гражданский брак                 1      M   компаньон     0   \n",
       "6    женат / замужем                 0      F   компаньон     0   \n",
       "7    женат / замужем                 0      M   сотрудник     0   \n",
       "8   гражданский брак                 1      F   сотрудник     0   \n",
       "9    женат / замужем                 0      M   сотрудник     0   \n",
       "10   женат / замужем                 0      M   компаньон     0   \n",
       "11   женат / замужем                 0      F   сотрудник     0   \n",
       "12  гражданский брак                 1      M   пенсионер     0   \n",
       "13   женат / замужем                 0      F   сотрудник     0   \n",
       "14  гражданский брак                 1      F   компаньон     1   \n",
       "\n",
       "     total_income                            purpose  \n",
       "0   253875.639453                      покупка жилья  \n",
       "1   112080.014102            приобретение автомобиля  \n",
       "2   145885.952297                      покупка жилья  \n",
       "3   267628.550329         дополнительное образование  \n",
       "4   158616.077870                    сыграть свадьбу  \n",
       "5   255763.565419                      покупка жилья  \n",
       "6   240525.971920                  операции с жильем  \n",
       "7   135823.934197                        образование  \n",
       "8    95856.832424              на проведение свадьбы  \n",
       "9   144425.938277            покупка жилья для семьи  \n",
       "10  113943.491460               покупка недвижимости  \n",
       "11   77069.234271  покупка коммерческой недвижимости  \n",
       "12  145017.937533                    сыграть свадьбу  \n",
       "13  130458.228857            приобретение автомобиля  \n",
       "14  165127.911772         покупка жилой недвижимости  "
      ]
     },
     "metadata": {},
     "output_type": "display_data"
    }
   ],
   "source": [
    "data.isna().sum()\n",
    "median_days_employed=data['days_employed'].median()\n",
    "median_total_income=data['total_income'].median()\n",
    "data['days_employed']=data['days_employed'].fillna(median_days_employed)\n",
    "data['total_income']=data['total_income'].fillna(median_total_income)\n",
    "display(data.head(15))"
   ]
  },
  {
   "cell_type": "markdown",
   "id": "22bbdd2b",
   "metadata": {},
   "source": [
    "<div class=\"alert alert-info\">\n",
    "<font color='black'> <b>Имеются пропуски типа Nan в двух столбцах 'days_employed' и 'total_income'. Пропуски составляют около 10% от количества значений по каждому из этих столбцов. Ошибки могли быть вызваны человеческим фактором, либо некорректное считывание, копирование. Заполнить пропуски медианными значениями нужно для того, чтобы минимизировать влияние пропущенных значений на общую картину данных*</font> <b> "
   ]
  },
  {
   "cell_type": "markdown",
   "id": "015f327a",
   "metadata": {},
   "source": [
    "### Шаг 2.2 Проверка данных на аномалии и исправления."
   ]
  },
  {
   "cell_type": "code",
   "execution_count": 3,
   "id": "095111c7",
   "metadata": {},
   "outputs": [
    {
     "name": "stdout",
     "output_type": "stream",
     "text": [
      "<class 'pandas.core.frame.DataFrame'>\n",
      "Int64Index: 21423 entries, 0 to 21524\n",
      "Data columns (total 12 columns):\n",
      "children            21423 non-null int64\n",
      "days_employed       21423 non-null float64\n",
      "dob_years           21423 non-null int64\n",
      "education           21423 non-null object\n",
      "education_id        21423 non-null int64\n",
      "family_status       21423 non-null object\n",
      "family_status_id    21423 non-null int64\n",
      "gender              21423 non-null object\n",
      "income_type         21423 non-null object\n",
      "debt                21423 non-null int64\n",
      "total_income        21423 non-null float64\n",
      "purpose             21423 non-null object\n",
      "dtypes: float64(2), int64(5), object(5)\n",
      "memory usage: 2.1+ MB\n"
     ]
    }
   ],
   "source": [
    "data['days_employed'] = pd.to_numeric(data['days_employed']) \n",
    "data['total_income'] = pd.to_numeric(data['total_income'])\n",
    "data['days_employed'] = data['days_employed'].abs()\n",
    "data=data.loc[(data['dob_years']>10) & (data['gender']!='XNA')]\n",
    "data.info()\n",
    "data['children'] = data['children'].replace(-1, 1)\n",
    "data['children'] = data['children'].replace(20, 2)\n",
    "\n",
    "#display(data['children'].value_counts())\n",
    "#display(data['dob_years'].value_counts())\n",
    "#display(data['gender'].value_counts())"
   ]
  },
  {
   "cell_type": "markdown",
   "id": "8ff62239",
   "metadata": {},
   "source": [
    "<div class=\"alert alert-info\">\n",
    "<font color='black'> <b>В столбце 'days_employed' присутствовали отрицательные значения и значения, которых не может существовать (300000 рабочих дней существовать не может). В столбце 'children' есть отрицательное значение и аномально большое значение равное 20. Заменил отрицательное значение на такое же положительное, аномально большое значение заменил на среднее. Их не так много, большой роли не сыграет. Есть странное значение в столбце \"пол\" в количестве 1 шт., удалим (всего одно значение!). Возраста \"0\" не бывает, удалил эти значения (их сравнительно мало)</font> <b> "
   ]
  },
  {
   "cell_type": "markdown",
   "id": "f5c2e069",
   "metadata": {},
   "source": [
    "### Шаг 2.3. Изменение типов данных."
   ]
  },
  {
   "cell_type": "code",
   "execution_count": 4,
   "id": "9892bc2a",
   "metadata": {},
   "outputs": [
    {
     "data": {
      "text/html": [
       "<div>\n",
       "<style scoped>\n",
       "    .dataframe tbody tr th:only-of-type {\n",
       "        vertical-align: middle;\n",
       "    }\n",
       "\n",
       "    .dataframe tbody tr th {\n",
       "        vertical-align: top;\n",
       "    }\n",
       "\n",
       "    .dataframe thead th {\n",
       "        text-align: right;\n",
       "    }\n",
       "</style>\n",
       "<table border=\"1\" class=\"dataframe\">\n",
       "  <thead>\n",
       "    <tr style=\"text-align: right;\">\n",
       "      <th></th>\n",
       "      <th>children</th>\n",
       "      <th>days_employed</th>\n",
       "      <th>dob_years</th>\n",
       "      <th>education</th>\n",
       "      <th>education_id</th>\n",
       "      <th>family_status</th>\n",
       "      <th>family_status_id</th>\n",
       "      <th>gender</th>\n",
       "      <th>income_type</th>\n",
       "      <th>debt</th>\n",
       "      <th>total_income</th>\n",
       "      <th>purpose</th>\n",
       "    </tr>\n",
       "  </thead>\n",
       "  <tbody>\n",
       "    <tr>\n",
       "      <td>0</td>\n",
       "      <td>1</td>\n",
       "      <td>8437</td>\n",
       "      <td>42</td>\n",
       "      <td>высшее</td>\n",
       "      <td>0</td>\n",
       "      <td>женат / замужем</td>\n",
       "      <td>0</td>\n",
       "      <td>F</td>\n",
       "      <td>сотрудник</td>\n",
       "      <td>0</td>\n",
       "      <td>253875</td>\n",
       "      <td>покупка жилья</td>\n",
       "    </tr>\n",
       "    <tr>\n",
       "      <td>1</td>\n",
       "      <td>1</td>\n",
       "      <td>4024</td>\n",
       "      <td>36</td>\n",
       "      <td>среднее</td>\n",
       "      <td>1</td>\n",
       "      <td>женат / замужем</td>\n",
       "      <td>0</td>\n",
       "      <td>F</td>\n",
       "      <td>сотрудник</td>\n",
       "      <td>0</td>\n",
       "      <td>112080</td>\n",
       "      <td>приобретение автомобиля</td>\n",
       "    </tr>\n",
       "    <tr>\n",
       "      <td>2</td>\n",
       "      <td>0</td>\n",
       "      <td>5623</td>\n",
       "      <td>33</td>\n",
       "      <td>Среднее</td>\n",
       "      <td>1</td>\n",
       "      <td>женат / замужем</td>\n",
       "      <td>0</td>\n",
       "      <td>M</td>\n",
       "      <td>сотрудник</td>\n",
       "      <td>0</td>\n",
       "      <td>145885</td>\n",
       "      <td>покупка жилья</td>\n",
       "    </tr>\n",
       "    <tr>\n",
       "      <td>3</td>\n",
       "      <td>3</td>\n",
       "      <td>4124</td>\n",
       "      <td>32</td>\n",
       "      <td>среднее</td>\n",
       "      <td>1</td>\n",
       "      <td>женат / замужем</td>\n",
       "      <td>0</td>\n",
       "      <td>M</td>\n",
       "      <td>сотрудник</td>\n",
       "      <td>0</td>\n",
       "      <td>267628</td>\n",
       "      <td>дополнительное образование</td>\n",
       "    </tr>\n",
       "    <tr>\n",
       "      <td>4</td>\n",
       "      <td>0</td>\n",
       "      <td>340266</td>\n",
       "      <td>53</td>\n",
       "      <td>среднее</td>\n",
       "      <td>1</td>\n",
       "      <td>гражданский брак</td>\n",
       "      <td>1</td>\n",
       "      <td>F</td>\n",
       "      <td>пенсионер</td>\n",
       "      <td>0</td>\n",
       "      <td>158616</td>\n",
       "      <td>сыграть свадьбу</td>\n",
       "    </tr>\n",
       "  </tbody>\n",
       "</table>\n",
       "</div>"
      ],
      "text/plain": [
       "   children  days_employed  dob_years education  education_id  \\\n",
       "0         1           8437         42    высшее             0   \n",
       "1         1           4024         36   среднее             1   \n",
       "2         0           5623         33   Среднее             1   \n",
       "3         3           4124         32   среднее             1   \n",
       "4         0         340266         53   среднее             1   \n",
       "\n",
       "      family_status  family_status_id gender income_type  debt  total_income  \\\n",
       "0   женат / замужем                 0      F   сотрудник     0        253875   \n",
       "1   женат / замужем                 0      F   сотрудник     0        112080   \n",
       "2   женат / замужем                 0      M   сотрудник     0        145885   \n",
       "3   женат / замужем                 0      M   сотрудник     0        267628   \n",
       "4  гражданский брак                 1      F   пенсионер     0        158616   \n",
       "\n",
       "                      purpose  \n",
       "0               покупка жилья  \n",
       "1     приобретение автомобиля  \n",
       "2               покупка жилья  \n",
       "3  дополнительное образование  \n",
       "4             сыграть свадьбу  "
      ]
     },
     "metadata": {},
     "output_type": "display_data"
    }
   ],
   "source": [
    "data['total_income']=data['total_income'].astype('int')\n",
    "data['days_employed']=data['days_employed'].astype('int')\n",
    "\n",
    "display(data.head())"
   ]
  },
  {
   "cell_type": "markdown",
   "id": "7771dff6",
   "metadata": {},
   "source": [
    "### Шаг 2.4. Удаление дубликатов."
   ]
  },
  {
   "cell_type": "code",
   "execution_count": 5,
   "id": "001728c6",
   "metadata": {},
   "outputs": [
    {
     "data": {
      "text/plain": [
       "54"
      ]
     },
     "metadata": {},
     "output_type": "display_data"
    }
   ],
   "source": [
    "display(data.duplicated().sum())\n",
    "data['education']=data['education'].str.lower()\n",
    "data=data.drop_duplicates()\n",
    "\n",
    "\n",
    "\n"
   ]
  },
  {
   "cell_type": "markdown",
   "id": "3721163b",
   "metadata": {},
   "source": [
    "<div class=\"alert alert-info\">\n",
    "<font color='black'> <b>Был применен метод 'duplicated().sum()' для поиска количества строк-дубликатов\n",
    "Было найдены строки с одинаковыми значениями в столбцах 'days_employed' и 'total_income', которые были удалены. В столбце 'education' значения приведены к единому регистру<b>"
   ]
  },
  {
   "cell_type": "markdown",
   "id": "d3c7f491",
   "metadata": {},
   "source": [
    "### Шаг 2.5. Формирование дополнительных датафреймов словарей, декомпозиция исходного датафрейма."
   ]
  },
  {
   "cell_type": "code",
   "execution_count": 6,
   "id": "5827e769",
   "metadata": {},
   "outputs": [
    {
     "data": {
      "text/html": [
       "<div>\n",
       "<style scoped>\n",
       "    .dataframe tbody tr th:only-of-type {\n",
       "        vertical-align: middle;\n",
       "    }\n",
       "\n",
       "    .dataframe tbody tr th {\n",
       "        vertical-align: top;\n",
       "    }\n",
       "\n",
       "    .dataframe thead th {\n",
       "        text-align: right;\n",
       "    }\n",
       "</style>\n",
       "<table border=\"1\" class=\"dataframe\">\n",
       "  <thead>\n",
       "    <tr style=\"text-align: right;\">\n",
       "      <th></th>\n",
       "      <th>education_id</th>\n",
       "      <th>education</th>\n",
       "    </tr>\n",
       "  </thead>\n",
       "  <tbody>\n",
       "    <tr>\n",
       "      <td>0</td>\n",
       "      <td>0</td>\n",
       "      <td>высшее</td>\n",
       "    </tr>\n",
       "    <tr>\n",
       "      <td>1</td>\n",
       "      <td>1</td>\n",
       "      <td>среднее</td>\n",
       "    </tr>\n",
       "    <tr>\n",
       "      <td>2</td>\n",
       "      <td>2</td>\n",
       "      <td>неоконченное высшее</td>\n",
       "    </tr>\n",
       "    <tr>\n",
       "      <td>3</td>\n",
       "      <td>3</td>\n",
       "      <td>начальное</td>\n",
       "    </tr>\n",
       "    <tr>\n",
       "      <td>4</td>\n",
       "      <td>4</td>\n",
       "      <td>ученая степень</td>\n",
       "    </tr>\n",
       "  </tbody>\n",
       "</table>\n",
       "</div>"
      ],
      "text/plain": [
       "   education_id            education\n",
       "0             0               высшее\n",
       "1             1              среднее\n",
       "2             2  неоконченное высшее\n",
       "3             3            начальное\n",
       "4             4       ученая степень"
      ]
     },
     "metadata": {},
     "output_type": "display_data"
    },
    {
     "data": {
      "text/html": [
       "<div>\n",
       "<style scoped>\n",
       "    .dataframe tbody tr th:only-of-type {\n",
       "        vertical-align: middle;\n",
       "    }\n",
       "\n",
       "    .dataframe tbody tr th {\n",
       "        vertical-align: top;\n",
       "    }\n",
       "\n",
       "    .dataframe thead th {\n",
       "        text-align: right;\n",
       "    }\n",
       "</style>\n",
       "<table border=\"1\" class=\"dataframe\">\n",
       "  <thead>\n",
       "    <tr style=\"text-align: right;\">\n",
       "      <th></th>\n",
       "      <th>family_status_id</th>\n",
       "      <th>family_status</th>\n",
       "    </tr>\n",
       "  </thead>\n",
       "  <tbody>\n",
       "    <tr>\n",
       "      <td>0</td>\n",
       "      <td>0</td>\n",
       "      <td>женат / замужем</td>\n",
       "    </tr>\n",
       "    <tr>\n",
       "      <td>1</td>\n",
       "      <td>1</td>\n",
       "      <td>гражданский брак</td>\n",
       "    </tr>\n",
       "    <tr>\n",
       "      <td>2</td>\n",
       "      <td>2</td>\n",
       "      <td>вдовец / вдова</td>\n",
       "    </tr>\n",
       "    <tr>\n",
       "      <td>3</td>\n",
       "      <td>3</td>\n",
       "      <td>в разводе</td>\n",
       "    </tr>\n",
       "    <tr>\n",
       "      <td>4</td>\n",
       "      <td>4</td>\n",
       "      <td>Не женат / не замужем</td>\n",
       "    </tr>\n",
       "  </tbody>\n",
       "</table>\n",
       "</div>"
      ],
      "text/plain": [
       "   family_status_id          family_status\n",
       "0                 0        женат / замужем\n",
       "1                 1       гражданский брак\n",
       "2                 2         вдовец / вдова\n",
       "3                 3              в разводе\n",
       "4                 4  Не женат / не замужем"
      ]
     },
     "metadata": {},
     "output_type": "display_data"
    },
    {
     "data": {
      "text/html": [
       "<div>\n",
       "<style scoped>\n",
       "    .dataframe tbody tr th:only-of-type {\n",
       "        vertical-align: middle;\n",
       "    }\n",
       "\n",
       "    .dataframe tbody tr th {\n",
       "        vertical-align: top;\n",
       "    }\n",
       "\n",
       "    .dataframe thead th {\n",
       "        text-align: right;\n",
       "    }\n",
       "</style>\n",
       "<table border=\"1\" class=\"dataframe\">\n",
       "  <thead>\n",
       "    <tr style=\"text-align: right;\">\n",
       "      <th></th>\n",
       "      <th>children</th>\n",
       "      <th>days_employed</th>\n",
       "      <th>dob_years</th>\n",
       "      <th>education_id</th>\n",
       "      <th>family_status_id</th>\n",
       "      <th>gender</th>\n",
       "      <th>income_type</th>\n",
       "      <th>debt</th>\n",
       "      <th>total_income</th>\n",
       "      <th>purpose</th>\n",
       "    </tr>\n",
       "  </thead>\n",
       "  <tbody>\n",
       "    <tr>\n",
       "      <td>0</td>\n",
       "      <td>1</td>\n",
       "      <td>8437</td>\n",
       "      <td>42</td>\n",
       "      <td>0</td>\n",
       "      <td>0</td>\n",
       "      <td>F</td>\n",
       "      <td>сотрудник</td>\n",
       "      <td>0</td>\n",
       "      <td>253875</td>\n",
       "      <td>покупка жилья</td>\n",
       "    </tr>\n",
       "    <tr>\n",
       "      <td>1</td>\n",
       "      <td>1</td>\n",
       "      <td>4024</td>\n",
       "      <td>36</td>\n",
       "      <td>1</td>\n",
       "      <td>0</td>\n",
       "      <td>F</td>\n",
       "      <td>сотрудник</td>\n",
       "      <td>0</td>\n",
       "      <td>112080</td>\n",
       "      <td>приобретение автомобиля</td>\n",
       "    </tr>\n",
       "    <tr>\n",
       "      <td>2</td>\n",
       "      <td>0</td>\n",
       "      <td>5623</td>\n",
       "      <td>33</td>\n",
       "      <td>1</td>\n",
       "      <td>0</td>\n",
       "      <td>M</td>\n",
       "      <td>сотрудник</td>\n",
       "      <td>0</td>\n",
       "      <td>145885</td>\n",
       "      <td>покупка жилья</td>\n",
       "    </tr>\n",
       "    <tr>\n",
       "      <td>3</td>\n",
       "      <td>3</td>\n",
       "      <td>4124</td>\n",
       "      <td>32</td>\n",
       "      <td>1</td>\n",
       "      <td>0</td>\n",
       "      <td>M</td>\n",
       "      <td>сотрудник</td>\n",
       "      <td>0</td>\n",
       "      <td>267628</td>\n",
       "      <td>дополнительное образование</td>\n",
       "    </tr>\n",
       "    <tr>\n",
       "      <td>4</td>\n",
       "      <td>0</td>\n",
       "      <td>340266</td>\n",
       "      <td>53</td>\n",
       "      <td>1</td>\n",
       "      <td>1</td>\n",
       "      <td>F</td>\n",
       "      <td>пенсионер</td>\n",
       "      <td>0</td>\n",
       "      <td>158616</td>\n",
       "      <td>сыграть свадьбу</td>\n",
       "    </tr>\n",
       "    <tr>\n",
       "      <td>5</td>\n",
       "      <td>0</td>\n",
       "      <td>926</td>\n",
       "      <td>27</td>\n",
       "      <td>0</td>\n",
       "      <td>1</td>\n",
       "      <td>M</td>\n",
       "      <td>компаньон</td>\n",
       "      <td>0</td>\n",
       "      <td>255763</td>\n",
       "      <td>покупка жилья</td>\n",
       "    </tr>\n",
       "    <tr>\n",
       "      <td>6</td>\n",
       "      <td>0</td>\n",
       "      <td>2879</td>\n",
       "      <td>43</td>\n",
       "      <td>0</td>\n",
       "      <td>0</td>\n",
       "      <td>F</td>\n",
       "      <td>компаньон</td>\n",
       "      <td>0</td>\n",
       "      <td>240525</td>\n",
       "      <td>операции с жильем</td>\n",
       "    </tr>\n",
       "    <tr>\n",
       "      <td>7</td>\n",
       "      <td>0</td>\n",
       "      <td>152</td>\n",
       "      <td>50</td>\n",
       "      <td>1</td>\n",
       "      <td>0</td>\n",
       "      <td>M</td>\n",
       "      <td>сотрудник</td>\n",
       "      <td>0</td>\n",
       "      <td>135823</td>\n",
       "      <td>образование</td>\n",
       "    </tr>\n",
       "    <tr>\n",
       "      <td>8</td>\n",
       "      <td>2</td>\n",
       "      <td>6929</td>\n",
       "      <td>35</td>\n",
       "      <td>0</td>\n",
       "      <td>1</td>\n",
       "      <td>F</td>\n",
       "      <td>сотрудник</td>\n",
       "      <td>0</td>\n",
       "      <td>95856</td>\n",
       "      <td>на проведение свадьбы</td>\n",
       "    </tr>\n",
       "    <tr>\n",
       "      <td>9</td>\n",
       "      <td>0</td>\n",
       "      <td>2188</td>\n",
       "      <td>41</td>\n",
       "      <td>1</td>\n",
       "      <td>0</td>\n",
       "      <td>M</td>\n",
       "      <td>сотрудник</td>\n",
       "      <td>0</td>\n",
       "      <td>144425</td>\n",
       "      <td>покупка жилья для семьи</td>\n",
       "    </tr>\n",
       "  </tbody>\n",
       "</table>\n",
       "</div>"
      ],
      "text/plain": [
       "   children  days_employed  dob_years  education_id  family_status_id gender  \\\n",
       "0         1           8437         42             0                 0      F   \n",
       "1         1           4024         36             1                 0      F   \n",
       "2         0           5623         33             1                 0      M   \n",
       "3         3           4124         32             1                 0      M   \n",
       "4         0         340266         53             1                 1      F   \n",
       "5         0            926         27             0                 1      M   \n",
       "6         0           2879         43             0                 0      F   \n",
       "7         0            152         50             1                 0      M   \n",
       "8         2           6929         35             0                 1      F   \n",
       "9         0           2188         41             1                 0      M   \n",
       "\n",
       "  income_type  debt  total_income                     purpose  \n",
       "0   сотрудник     0        253875               покупка жилья  \n",
       "1   сотрудник     0        112080     приобретение автомобиля  \n",
       "2   сотрудник     0        145885               покупка жилья  \n",
       "3   сотрудник     0        267628  дополнительное образование  \n",
       "4   пенсионер     0        158616             сыграть свадьбу  \n",
       "5   компаньон     0        255763               покупка жилья  \n",
       "6   компаньон     0        240525           операции с жильем  \n",
       "7   сотрудник     0        135823                 образование  \n",
       "8   сотрудник     0         95856       на проведение свадьбы  \n",
       "9   сотрудник     0        144425     покупка жилья для семьи  "
      ]
     },
     "metadata": {},
     "output_type": "display_data"
    }
   ],
   "source": [
    "education_data = data[['education_id','education']]\n",
    "family_data = data[['family_status_id','family_status']]\n",
    "#data = data[['children','days_employed','dob_years', 'education_id', 'family_status_id', 'gender', 'income_type', 'debt', 'total_income', 'purpose']]\n",
    "education_data=education_data.drop_duplicates().reset_index(drop=True)\n",
    "family_data=family_data.drop_duplicates().reset_index(drop=True)\n",
    "data=data.drop('education', axis=1)\n",
    "data=data.drop('family_status', axis=1)\n",
    "display (education_data.head(10))\n",
    "display (family_data.head(10))\n",
    "display (data.head(10))\n"
   ]
  },
  {
   "cell_type": "markdown",
   "id": "e2ce2ab7",
   "metadata": {},
   "source": [
    "### Шаг 2.6. Категоризация дохода."
   ]
  },
  {
   "cell_type": "code",
   "execution_count": 7,
   "id": "a8e1d02c",
   "metadata": {},
   "outputs": [
    {
     "data": {
      "text/plain": [
       "C    15943\n",
       "B     5014\n",
       "D      348\n",
       "A       25\n",
       "E       22\n",
       "Name: total_income_category, dtype: int64"
      ]
     },
     "metadata": {},
     "output_type": "display_data"
    },
    {
     "data": {
      "text/plain": [
       "операции с недвижимостью    10763\n",
       "операции с автомобилем       4284\n",
       "получение образования        3995\n",
       "проведение свадьбы           2310\n",
       "Name: purpose_category, dtype: int64"
      ]
     },
     "metadata": {},
     "output_type": "display_data"
    },
    {
     "data": {
      "text/html": [
       "<div>\n",
       "<style scoped>\n",
       "    .dataframe tbody tr th:only-of-type {\n",
       "        vertical-align: middle;\n",
       "    }\n",
       "\n",
       "    .dataframe tbody tr th {\n",
       "        vertical-align: top;\n",
       "    }\n",
       "\n",
       "    .dataframe thead th {\n",
       "        text-align: right;\n",
       "    }\n",
       "</style>\n",
       "<table border=\"1\" class=\"dataframe\">\n",
       "  <thead>\n",
       "    <tr style=\"text-align: right;\">\n",
       "      <th></th>\n",
       "      <th>children</th>\n",
       "      <th>days_employed</th>\n",
       "      <th>dob_years</th>\n",
       "      <th>education_id</th>\n",
       "      <th>family_status_id</th>\n",
       "      <th>gender</th>\n",
       "      <th>income_type</th>\n",
       "      <th>debt</th>\n",
       "      <th>total_income</th>\n",
       "      <th>purpose</th>\n",
       "      <th>total_income_category</th>\n",
       "      <th>purpose_category</th>\n",
       "    </tr>\n",
       "  </thead>\n",
       "  <tbody>\n",
       "    <tr>\n",
       "      <td>0</td>\n",
       "      <td>1</td>\n",
       "      <td>8437</td>\n",
       "      <td>42</td>\n",
       "      <td>0</td>\n",
       "      <td>0</td>\n",
       "      <td>F</td>\n",
       "      <td>сотрудник</td>\n",
       "      <td>0</td>\n",
       "      <td>253875</td>\n",
       "      <td>покупка жилья</td>\n",
       "      <td>B</td>\n",
       "      <td>операции с недвижимостью</td>\n",
       "    </tr>\n",
       "    <tr>\n",
       "      <td>1</td>\n",
       "      <td>1</td>\n",
       "      <td>4024</td>\n",
       "      <td>36</td>\n",
       "      <td>1</td>\n",
       "      <td>0</td>\n",
       "      <td>F</td>\n",
       "      <td>сотрудник</td>\n",
       "      <td>0</td>\n",
       "      <td>112080</td>\n",
       "      <td>приобретение автомобиля</td>\n",
       "      <td>C</td>\n",
       "      <td>операции с автомобилем</td>\n",
       "    </tr>\n",
       "    <tr>\n",
       "      <td>2</td>\n",
       "      <td>0</td>\n",
       "      <td>5623</td>\n",
       "      <td>33</td>\n",
       "      <td>1</td>\n",
       "      <td>0</td>\n",
       "      <td>M</td>\n",
       "      <td>сотрудник</td>\n",
       "      <td>0</td>\n",
       "      <td>145885</td>\n",
       "      <td>покупка жилья</td>\n",
       "      <td>C</td>\n",
       "      <td>операции с недвижимостью</td>\n",
       "    </tr>\n",
       "    <tr>\n",
       "      <td>3</td>\n",
       "      <td>3</td>\n",
       "      <td>4124</td>\n",
       "      <td>32</td>\n",
       "      <td>1</td>\n",
       "      <td>0</td>\n",
       "      <td>M</td>\n",
       "      <td>сотрудник</td>\n",
       "      <td>0</td>\n",
       "      <td>267628</td>\n",
       "      <td>дополнительное образование</td>\n",
       "      <td>B</td>\n",
       "      <td>получение образования</td>\n",
       "    </tr>\n",
       "    <tr>\n",
       "      <td>4</td>\n",
       "      <td>0</td>\n",
       "      <td>340266</td>\n",
       "      <td>53</td>\n",
       "      <td>1</td>\n",
       "      <td>1</td>\n",
       "      <td>F</td>\n",
       "      <td>пенсионер</td>\n",
       "      <td>0</td>\n",
       "      <td>158616</td>\n",
       "      <td>сыграть свадьбу</td>\n",
       "      <td>C</td>\n",
       "      <td>проведение свадьбы</td>\n",
       "    </tr>\n",
       "    <tr>\n",
       "      <td>5</td>\n",
       "      <td>0</td>\n",
       "      <td>926</td>\n",
       "      <td>27</td>\n",
       "      <td>0</td>\n",
       "      <td>1</td>\n",
       "      <td>M</td>\n",
       "      <td>компаньон</td>\n",
       "      <td>0</td>\n",
       "      <td>255763</td>\n",
       "      <td>покупка жилья</td>\n",
       "      <td>B</td>\n",
       "      <td>операции с недвижимостью</td>\n",
       "    </tr>\n",
       "    <tr>\n",
       "      <td>6</td>\n",
       "      <td>0</td>\n",
       "      <td>2879</td>\n",
       "      <td>43</td>\n",
       "      <td>0</td>\n",
       "      <td>0</td>\n",
       "      <td>F</td>\n",
       "      <td>компаньон</td>\n",
       "      <td>0</td>\n",
       "      <td>240525</td>\n",
       "      <td>операции с жильем</td>\n",
       "      <td>B</td>\n",
       "      <td>операции с недвижимостью</td>\n",
       "    </tr>\n",
       "    <tr>\n",
       "      <td>7</td>\n",
       "      <td>0</td>\n",
       "      <td>152</td>\n",
       "      <td>50</td>\n",
       "      <td>1</td>\n",
       "      <td>0</td>\n",
       "      <td>M</td>\n",
       "      <td>сотрудник</td>\n",
       "      <td>0</td>\n",
       "      <td>135823</td>\n",
       "      <td>образование</td>\n",
       "      <td>C</td>\n",
       "      <td>получение образования</td>\n",
       "    </tr>\n",
       "    <tr>\n",
       "      <td>8</td>\n",
       "      <td>2</td>\n",
       "      <td>6929</td>\n",
       "      <td>35</td>\n",
       "      <td>0</td>\n",
       "      <td>1</td>\n",
       "      <td>F</td>\n",
       "      <td>сотрудник</td>\n",
       "      <td>0</td>\n",
       "      <td>95856</td>\n",
       "      <td>на проведение свадьбы</td>\n",
       "      <td>C</td>\n",
       "      <td>проведение свадьбы</td>\n",
       "    </tr>\n",
       "    <tr>\n",
       "      <td>9</td>\n",
       "      <td>0</td>\n",
       "      <td>2188</td>\n",
       "      <td>41</td>\n",
       "      <td>1</td>\n",
       "      <td>0</td>\n",
       "      <td>M</td>\n",
       "      <td>сотрудник</td>\n",
       "      <td>0</td>\n",
       "      <td>144425</td>\n",
       "      <td>покупка жилья для семьи</td>\n",
       "      <td>C</td>\n",
       "      <td>операции с недвижимостью</td>\n",
       "    </tr>\n",
       "  </tbody>\n",
       "</table>\n",
       "</div>"
      ],
      "text/plain": [
       "   children  days_employed  dob_years  education_id  family_status_id gender  \\\n",
       "0         1           8437         42             0                 0      F   \n",
       "1         1           4024         36             1                 0      F   \n",
       "2         0           5623         33             1                 0      M   \n",
       "3         3           4124         32             1                 0      M   \n",
       "4         0         340266         53             1                 1      F   \n",
       "5         0            926         27             0                 1      M   \n",
       "6         0           2879         43             0                 0      F   \n",
       "7         0            152         50             1                 0      M   \n",
       "8         2           6929         35             0                 1      F   \n",
       "9         0           2188         41             1                 0      M   \n",
       "\n",
       "  income_type  debt  total_income                     purpose  \\\n",
       "0   сотрудник     0        253875               покупка жилья   \n",
       "1   сотрудник     0        112080     приобретение автомобиля   \n",
       "2   сотрудник     0        145885               покупка жилья   \n",
       "3   сотрудник     0        267628  дополнительное образование   \n",
       "4   пенсионер     0        158616             сыграть свадьбу   \n",
       "5   компаньон     0        255763               покупка жилья   \n",
       "6   компаньон     0        240525           операции с жильем   \n",
       "7   сотрудник     0        135823                 образование   \n",
       "8   сотрудник     0         95856       на проведение свадьбы   \n",
       "9   сотрудник     0        144425     покупка жилья для семьи   \n",
       "\n",
       "  total_income_category          purpose_category  \n",
       "0                     B  операции с недвижимостью  \n",
       "1                     C    операции с автомобилем  \n",
       "2                     C  операции с недвижимостью  \n",
       "3                     B     получение образования  \n",
       "4                     C        проведение свадьбы  \n",
       "5                     B  операции с недвижимостью  \n",
       "6                     B  операции с недвижимостью  \n",
       "7                     C     получение образования  \n",
       "8                     C        проведение свадьбы  \n",
       "9                     C  операции с недвижимостью  "
      ]
     },
     "metadata": {},
     "output_type": "display_data"
    }
   ],
   "source": [
    "def category_income(total_income):\n",
    "    if 0<=total_income<= 30000:\n",
    "        return 'E'\n",
    "    elif 30001<=total_income<= 50000:\n",
    "        return 'D'\n",
    "    elif 50001<=total_income<= 200000:\n",
    "        return 'C'\n",
    "    elif 200001<=total_income<= 1000000:\n",
    "        return 'B'\n",
    "    return 'A'\n",
    "data['total_income_category']=data['total_income'].apply(category_income)\n",
    "display (data['total_income_category'].value_counts()) \n",
    "\n",
    "def purpose_category(category):\n",
    "    if 'автомоб' in category:\n",
    "        return 'операции с автомобилем'\n",
    "    elif 'свадь' in category:\n",
    "        return 'проведение свадьбы'\n",
    "    elif 'образова' in category:\n",
    "        return 'получение образования'\n",
    "    elif 'недвижим' or 'жиль' in category:\n",
    "        return 'операции с недвижимостью'\n",
    "    \n",
    "data['purpose_category']=data['purpose'].apply(purpose_category)\n",
    "display (data['purpose_category'].value_counts())\n",
    "display (data.head(10))\n"
   ]
  },
  {
   "cell_type": "markdown",
   "id": "484ef69f",
   "metadata": {},
   "source": [
    "### Шаг 2.7. Категоризация целей кредита."
   ]
  },
  {
   "cell_type": "code",
   "execution_count": 8,
   "id": "a71d6467",
   "metadata": {},
   "outputs": [
    {
     "data": {
      "text/plain": [
       "total_income_category\n",
       "A    0.080000\n",
       "B    0.070802\n",
       "C    0.084865\n",
       "D    0.060345\n",
       "E    0.090909\n",
       "Name: debt, dtype: float64"
      ]
     },
     "metadata": {},
     "output_type": "display_data"
    },
    {
     "data": {
      "text/plain": [
       "children\n",
       "4    0.097561\n",
       "2    0.095553\n",
       "1    0.091341\n",
       "3    0.082317\n",
       "0    0.075458\n",
       "5    0.000000\n",
       "Name: debt, dtype: float64"
      ]
     },
     "metadata": {},
     "output_type": "display_data"
    },
    {
     "data": {
      "text/plain": [
       "education_id\n",
       "3    0.109929\n",
       "2    0.091768\n",
       "1    0.089820\n",
       "0    0.053116\n",
       "4    0.000000\n",
       "Name: debt, dtype: float64"
      ]
     },
     "metadata": {},
     "output_type": "display_data"
    },
    {
     "data": {
      "text/plain": [
       "family_status_id\n",
       "4    0.097709\n",
       "1    0.093485\n",
       "0    0.075427\n",
       "3    0.071730\n",
       "2    0.064990\n",
       "Name: debt, dtype: float64"
      ]
     },
     "metadata": {},
     "output_type": "display_data"
    },
    {
     "data": {
      "text/plain": [
       "purpose_category\n",
       "операции с автомобилем      0.093371\n",
       "получение образования       0.092616\n",
       "проведение свадьбы          0.079654\n",
       "операции с недвижимостью    0.072378\n",
       "Name: debt, dtype: float64"
      ]
     },
     "metadata": {},
     "output_type": "display_data"
    }
   ],
   "source": [
    "total_income_category_count=data.groupby('total_income_category')['debt'].count()\n",
    "total_income_category_sum=data.groupby('total_income_category')['debt'].sum()\n",
    "total_income_conversion=total_income_category_sum/total_income_category_count\n",
    "display(total_income_conversion)\n",
    "children_count=data.groupby('children')['debt'].count()\n",
    "children_sum=data.groupby('children')['debt'].sum()\n",
    "children_conversion=children_sum/children_count\n",
    "display(children_conversion.sort_values( ascending=False))\n",
    "education_count=data.groupby('education_id')['debt'].count()\n",
    "education_sum=data.groupby('education_id')['debt'].sum()\n",
    "education_conversion=education_sum/education_count\n",
    "display (education_conversion.sort_values( ascending=False))\n",
    "family_count=data.groupby('family_status_id')['debt'].count()\n",
    "family_sum=data.groupby('family_status_id')['debt'].sum()\n",
    "family_conversion=family_sum/family_count\n",
    "display (family_conversion.sort_values( ascending=False))\n",
    "purpose_count=data.groupby('purpose_category')['debt'].count()\n",
    "purpose_sum=data.groupby('purpose_category')['debt'].sum()\n",
    "purpose_conversion=purpose_sum/purpose_count\n",
    "display (purpose_conversion.sort_values( ascending=False))\n",
    "\n",
    "\n"
   ]
  },
  {
   "cell_type": "markdown",
   "id": "65aee355",
   "metadata": {},
   "source": [
    "### Ответы на вопросы."
   ]
  },
  {
   "cell_type": "markdown",
   "id": "c147cea9",
   "metadata": {},
   "source": [
    "##### Вопрос 1:"
   ]
  },
  {
   "cell_type": "markdown",
   "id": "52662404",
   "metadata": {},
   "source": [
    "<div class=\"alert alert-info\">\n",
    "<font color='black'> <b>1) Есть ли зависимость между количеством детей и возвратом кредита в срок?\n",
    "У тех людей, у которых больше детей, больше вероятность просрочки по кредитам\n",
    "2) Есть ли зависимость между семейным положением и возвратом кредита в срок?\n",
    "У тех людей, кто потерял супруга или в разводе, меньше вероятность просрочки по кредитам\n",
    "3) Есть ли зависимость между уровнем дохода и возвратом кредита в срок?\n",
    "Большой разницы судя по всему нет \n",
    "4) Как разные цели кредита влияют на его возврат в срок?\n",
    "У тех, кто проводит операции с авто, больше вероятность просрочки.\n",
    "У тех, кто проводит операции с недвижимостью, эта вероятность меньше всех<b>\n",
    "\n"
   ]
  },
  {
   "cell_type": "markdown",
   "id": "00564a75",
   "metadata": {},
   "source": [
    "##### Вывод 1:"
   ]
  },
  {
   "cell_type": "markdown",
   "id": "5acaea51",
   "metadata": {},
   "source": [
    "## Общий вывод:"
   ]
  },
  {
   "cell_type": "markdown",
   "id": "9ef4dd41",
   "metadata": {},
   "source": [
    "<div class=\"alert alert-info\" >\n",
    "<font color='black'> <b>\n",
    "    Наибольшую вероятность просрочки имеют следующие люди:\n",
    "    1) Имеющие 4 детей - 9.7 %\n",
    "    2) Имеющие начальное образование - 10.9%\n",
    "    3) Не состоящие в официальных отношениях - 9.7%\n",
    "    4) Берущие кредит на операции с автомобилем - 9.3%.\n",
    "    Наименьшую вероятность просрочки имеют следующие люди:\n",
    "    1) Имеющие 0 детей - 7.5 %\n",
    "    2) Имеющие высшее образование - 5.3%\n",
    "    3) Вдовцы и вдовы - 6.4%\n",
    "    4) Берущие кредит на операции с недвижимостью - 7.2%  <b>"
   ]
  }
 ],
 "metadata": {
  "ExecuteTimeLog": [
   {
    "duration": 785,
    "start_time": "2022-02-20T15:54:45.790Z"
   },
   {
    "duration": 99,
    "start_time": "2022-02-20T15:55:04.522Z"
   },
   {
    "duration": 108,
    "start_time": "2022-02-20T15:55:43.066Z"
   },
   {
    "duration": 31,
    "start_time": "2022-02-20T16:03:38.200Z"
   },
   {
    "duration": 13,
    "start_time": "2022-02-20T16:04:17.633Z"
   },
   {
    "duration": 120,
    "start_time": "2022-02-20T16:07:03.672Z"
   },
   {
    "duration": 429,
    "start_time": "2022-02-20T16:07:08.949Z"
   },
   {
    "duration": 13,
    "start_time": "2022-02-20T16:10:17.121Z"
   },
   {
    "duration": -1544,
    "start_time": "2022-02-20T16:13:19.265Z"
   },
   {
    "duration": 320,
    "start_time": "2022-02-20T16:13:34.714Z"
   },
   {
    "duration": 371,
    "start_time": "2022-02-20T16:13:43.287Z"
   },
   {
    "duration": 8907,
    "start_time": "2022-02-20T16:13:52.072Z"
   },
   {
    "duration": 19,
    "start_time": "2022-02-20T16:14:05.470Z"
   },
   {
    "duration": -1606,
    "start_time": "2022-02-20T16:16:54.818Z"
   },
   {
    "duration": 7689,
    "start_time": "2022-02-20T16:16:55.752Z"
   },
   {
    "duration": 19,
    "start_time": "2022-02-20T16:17:17.135Z"
   },
   {
    "duration": 15,
    "start_time": "2022-02-20T16:17:49.069Z"
   },
   {
    "duration": 21,
    "start_time": "2022-02-20T16:24:21.446Z"
   },
   {
    "duration": 13,
    "start_time": "2022-02-20T16:27:40.413Z"
   },
   {
    "duration": 19,
    "start_time": "2022-02-20T16:47:44.453Z"
   },
   {
    "duration": 21,
    "start_time": "2022-02-20T16:48:06.573Z"
   },
   {
    "duration": 6,
    "start_time": "2022-02-20T16:53:33.388Z"
   },
   {
    "duration": 7,
    "start_time": "2022-02-20T16:55:22.845Z"
   },
   {
    "duration": 7,
    "start_time": "2022-02-20T16:55:28.075Z"
   },
   {
    "duration": 9,
    "start_time": "2022-02-20T16:55:42.577Z"
   },
   {
    "duration": 8,
    "start_time": "2022-02-20T16:55:49.437Z"
   },
   {
    "duration": 10,
    "start_time": "2022-02-20T16:57:36.986Z"
   },
   {
    "duration": 7,
    "start_time": "2022-02-20T17:08:20.672Z"
   },
   {
    "duration": 9,
    "start_time": "2022-02-20T17:08:45.411Z"
   },
   {
    "duration": 12,
    "start_time": "2022-02-20T17:10:03.024Z"
   },
   {
    "duration": 15,
    "start_time": "2022-02-20T17:10:32.123Z"
   },
   {
    "duration": 18,
    "start_time": "2022-02-20T17:11:00.240Z"
   },
   {
    "duration": 84,
    "start_time": "2022-02-20T17:47:17.397Z"
   },
   {
    "duration": 89,
    "start_time": "2022-02-20T17:47:37.562Z"
   },
   {
    "duration": 86,
    "start_time": "2022-02-20T17:47:48.536Z"
   },
   {
    "duration": 100,
    "start_time": "2022-02-20T17:48:12.279Z"
   },
   {
    "duration": 309,
    "start_time": "2022-02-20T17:54:13.562Z"
   },
   {
    "duration": 19,
    "start_time": "2022-02-20T17:54:55.772Z"
   },
   {
    "duration": 6,
    "start_time": "2022-02-20T17:54:58.350Z"
   },
   {
    "duration": 6,
    "start_time": "2022-02-20T17:54:59.677Z"
   },
   {
    "duration": 4,
    "start_time": "2022-02-20T17:55:01.877Z"
   },
   {
    "duration": 5,
    "start_time": "2022-02-20T17:55:11.958Z"
   },
   {
    "duration": 4,
    "start_time": "2022-02-20T17:55:31.858Z"
   },
   {
    "duration": 10,
    "start_time": "2022-02-20T17:55:48.168Z"
   },
   {
    "duration": 423,
    "start_time": "2022-02-22T17:10:24.110Z"
   },
   {
    "duration": 232,
    "start_time": "2022-02-22T17:11:47.913Z"
   },
   {
    "duration": 678,
    "start_time": "2022-02-22T17:12:06.979Z"
   },
   {
    "duration": 277,
    "start_time": "2022-02-22T17:12:10.699Z"
   },
   {
    "duration": 19,
    "start_time": "2022-02-22T17:12:51.301Z"
   },
   {
    "duration": 18,
    "start_time": "2022-02-22T17:13:11.245Z"
   },
   {
    "duration": 242,
    "start_time": "2022-02-22T17:14:20.071Z"
   },
   {
    "duration": 269,
    "start_time": "2022-02-22T17:15:34.840Z"
   },
   {
    "duration": 255,
    "start_time": "2022-02-22T17:16:59.758Z"
   },
   {
    "duration": 124,
    "start_time": "2022-02-22T17:17:03.904Z"
   },
   {
    "duration": 20,
    "start_time": "2022-02-22T17:17:14.808Z"
   },
   {
    "duration": 19,
    "start_time": "2022-02-22T17:17:29.297Z"
   },
   {
    "duration": 29,
    "start_time": "2022-02-22T17:20:04.548Z"
   },
   {
    "duration": 30,
    "start_time": "2022-02-22T17:20:34.059Z"
   },
   {
    "duration": 25,
    "start_time": "2022-02-22T17:20:56.306Z"
   },
   {
    "duration": 20,
    "start_time": "2022-02-22T17:21:19.144Z"
   },
   {
    "duration": 21,
    "start_time": "2022-02-22T17:21:32.656Z"
   },
   {
    "duration": 72,
    "start_time": "2022-02-22T17:24:19.879Z"
   },
   {
    "duration": 88,
    "start_time": "2022-02-22T17:27:11.187Z"
   },
   {
    "duration": 324,
    "start_time": "2022-02-22T17:27:26.514Z"
   },
   {
    "duration": 255,
    "start_time": "2022-02-22T17:27:55.827Z"
   },
   {
    "duration": 19,
    "start_time": "2022-02-22T17:29:33.498Z"
   },
   {
    "duration": 20,
    "start_time": "2022-02-22T17:29:38.629Z"
   },
   {
    "duration": 7,
    "start_time": "2022-02-22T17:29:48.804Z"
   },
   {
    "duration": 18,
    "start_time": "2022-02-22T17:32:24.073Z"
   },
   {
    "duration": 23,
    "start_time": "2022-02-22T17:33:20.270Z"
   },
   {
    "duration": 24,
    "start_time": "2022-02-22T17:33:36.448Z"
   },
   {
    "duration": 70,
    "start_time": "2022-02-22T17:34:20.241Z"
   },
   {
    "duration": 24,
    "start_time": "2022-02-22T17:34:25.340Z"
   },
   {
    "duration": 22,
    "start_time": "2022-02-22T17:34:45.980Z"
   },
   {
    "duration": 13,
    "start_time": "2022-02-22T17:35:08.822Z"
   },
   {
    "duration": 246,
    "start_time": "2022-02-22T17:37:18.589Z"
   },
   {
    "duration": 260,
    "start_time": "2022-02-22T17:37:44.429Z"
   },
   {
    "duration": 14,
    "start_time": "2022-02-22T17:37:51.919Z"
   },
   {
    "duration": 64,
    "start_time": "2022-02-22T17:40:47.340Z"
   },
   {
    "duration": 15,
    "start_time": "2022-02-22T17:41:31.688Z"
   },
   {
    "duration": 10,
    "start_time": "2022-02-22T17:42:08.440Z"
   },
   {
    "duration": 17,
    "start_time": "2022-02-22T17:43:10.766Z"
   },
   {
    "duration": 19,
    "start_time": "2022-02-22T17:43:15.236Z"
   },
   {
    "duration": 15,
    "start_time": "2022-02-22T17:43:30.286Z"
   },
   {
    "duration": 21,
    "start_time": "2022-02-22T17:47:51.128Z"
   },
   {
    "duration": 18,
    "start_time": "2022-02-22T17:48:01.515Z"
   },
   {
    "duration": 240,
    "start_time": "2022-02-22T17:49:47.144Z"
   },
   {
    "duration": 20,
    "start_time": "2022-02-22T17:49:54.575Z"
   },
   {
    "duration": 21,
    "start_time": "2022-02-22T17:50:26.058Z"
   },
   {
    "duration": 16,
    "start_time": "2022-02-22T17:50:35.757Z"
   },
   {
    "duration": 17,
    "start_time": "2022-02-22T17:58:35.241Z"
   },
   {
    "duration": 16,
    "start_time": "2022-02-22T17:58:45.785Z"
   },
   {
    "duration": 16,
    "start_time": "2022-02-22T18:01:40.312Z"
   },
   {
    "duration": 22,
    "start_time": "2022-02-22T18:02:05.625Z"
   },
   {
    "duration": 22,
    "start_time": "2022-02-22T18:03:06.141Z"
   },
   {
    "duration": 22,
    "start_time": "2022-02-22T18:05:52.937Z"
   },
   {
    "duration": 22,
    "start_time": "2022-02-22T18:06:10.213Z"
   },
   {
    "duration": 279,
    "start_time": "2022-02-22T18:06:25.512Z"
   },
   {
    "duration": 248,
    "start_time": "2022-02-22T18:06:31.011Z"
   },
   {
    "duration": 25,
    "start_time": "2022-02-22T18:06:40.444Z"
   },
   {
    "duration": 828,
    "start_time": "2022-02-22T18:07:19.785Z"
   },
   {
    "duration": 65,
    "start_time": "2022-02-22T18:07:23.053Z"
   },
   {
    "duration": 24,
    "start_time": "2022-02-22T18:07:27.495Z"
   },
   {
    "duration": 6,
    "start_time": "2022-02-22T18:07:36.563Z"
   },
   {
    "duration": 15,
    "start_time": "2022-02-22T18:07:38.722Z"
   },
   {
    "duration": 22,
    "start_time": "2022-02-22T18:08:04.597Z"
   },
   {
    "duration": 19,
    "start_time": "2022-02-22T18:10:49.626Z"
   },
   {
    "duration": 28,
    "start_time": "2022-02-22T18:12:09.362Z"
   },
   {
    "duration": 34,
    "start_time": "2022-02-22T18:12:20.391Z"
   },
   {
    "duration": 49,
    "start_time": "2022-02-22T18:12:57.045Z"
   },
   {
    "duration": 43,
    "start_time": "2022-02-22T18:13:39.698Z"
   },
   {
    "duration": 48,
    "start_time": "2022-02-22T18:13:49.503Z"
   },
   {
    "duration": 47,
    "start_time": "2022-02-22T18:14:02.662Z"
   },
   {
    "duration": 55,
    "start_time": "2022-02-22T18:30:15.205Z"
   },
   {
    "duration": 54,
    "start_time": "2022-02-22T18:30:38.456Z"
   },
   {
    "duration": 22,
    "start_time": "2022-02-22T18:30:55.610Z"
   },
   {
    "duration": 55,
    "start_time": "2022-02-22T18:31:35.115Z"
   },
   {
    "duration": 47,
    "start_time": "2022-02-22T18:32:30.046Z"
   },
   {
    "duration": 42,
    "start_time": "2022-02-22T18:32:34.422Z"
   },
   {
    "duration": 45,
    "start_time": "2022-02-22T18:32:47.253Z"
   },
   {
    "duration": 29,
    "start_time": "2022-02-22T18:32:50.860Z"
   },
   {
    "duration": 44,
    "start_time": "2022-02-22T18:32:53.715Z"
   },
   {
    "duration": 56,
    "start_time": "2022-02-22T18:33:04.731Z"
   },
   {
    "duration": 55,
    "start_time": "2022-02-22T18:39:41.013Z"
   },
   {
    "duration": 56,
    "start_time": "2022-02-22T18:39:45.779Z"
   },
   {
    "duration": 55,
    "start_time": "2022-02-22T18:44:45.641Z"
   },
   {
    "duration": 50,
    "start_time": "2022-02-22T18:45:07.802Z"
   },
   {
    "duration": 70,
    "start_time": "2022-02-22T18:45:11.493Z"
   },
   {
    "duration": 48,
    "start_time": "2022-02-22T18:45:35.957Z"
   },
   {
    "duration": 9,
    "start_time": "2022-02-22T18:51:43.554Z"
   },
   {
    "duration": 10,
    "start_time": "2022-02-22T18:52:18.521Z"
   },
   {
    "duration": 9,
    "start_time": "2022-02-22T18:52:46.066Z"
   },
   {
    "duration": 9,
    "start_time": "2022-02-22T18:55:42.089Z"
   },
   {
    "duration": 9,
    "start_time": "2022-02-22T18:55:44.270Z"
   },
   {
    "duration": 5,
    "start_time": "2022-02-22T18:55:48.329Z"
   },
   {
    "duration": 9,
    "start_time": "2022-02-22T18:55:52.138Z"
   },
   {
    "duration": 10,
    "start_time": "2022-02-22T18:56:00.052Z"
   },
   {
    "duration": 7,
    "start_time": "2022-02-22T18:58:10.947Z"
   },
   {
    "duration": 7,
    "start_time": "2022-02-22T18:58:21.573Z"
   },
   {
    "duration": 14,
    "start_time": "2022-02-22T18:58:34.225Z"
   },
   {
    "duration": 6,
    "start_time": "2022-02-22T18:58:41.889Z"
   },
   {
    "duration": 10,
    "start_time": "2022-02-22T18:58:43.853Z"
   },
   {
    "duration": 13,
    "start_time": "2022-02-22T18:58:48.389Z"
   },
   {
    "duration": 9,
    "start_time": "2022-02-22T18:58:54.356Z"
   },
   {
    "duration": 320,
    "start_time": "2022-02-22T18:59:17.583Z"
   },
   {
    "duration": 7,
    "start_time": "2022-02-22T18:59:35.389Z"
   },
   {
    "duration": 7,
    "start_time": "2022-02-22T18:59:51.473Z"
   },
   {
    "duration": -81,
    "start_time": "2022-02-22T19:00:01.027Z"
   },
   {
    "duration": 6999,
    "start_time": "2022-02-22T19:00:14.050Z"
   },
   {
    "duration": -88,
    "start_time": "2022-02-22T19:00:21.139Z"
   },
   {
    "duration": 6448,
    "start_time": "2022-02-22T19:00:26.778Z"
   },
   {
    "duration": 7771,
    "start_time": "2022-02-22T19:00:51.030Z"
   },
   {
    "duration": 6962,
    "start_time": "2022-02-22T19:01:14.070Z"
   },
   {
    "duration": 6625,
    "start_time": "2022-02-22T19:01:38.621Z"
   },
   {
    "duration": 7670,
    "start_time": "2022-02-22T19:02:05.190Z"
   },
   {
    "duration": 6420,
    "start_time": "2022-02-22T19:02:23.445Z"
   },
   {
    "duration": 61,
    "start_time": "2022-02-22T19:02:33.472Z"
   },
   {
    "duration": 665,
    "start_time": "2022-02-22T19:02:40.633Z"
   },
   {
    "duration": 22,
    "start_time": "2022-02-22T19:02:44.762Z"
   },
   {
    "duration": 7,
    "start_time": "2022-02-22T19:02:47.219Z"
   },
   {
    "duration": 15,
    "start_time": "2022-02-22T19:02:49.054Z"
   },
   {
    "duration": 62,
    "start_time": "2022-02-22T19:02:51.050Z"
   },
   {
    "duration": 15,
    "start_time": "2022-02-22T19:03:40.136Z"
   },
   {
    "duration": 28,
    "start_time": "2022-02-22T19:03:47.669Z"
   },
   {
    "duration": 17,
    "start_time": "2022-02-22T19:04:03.622Z"
   },
   {
    "duration": 9,
    "start_time": "2022-02-22T19:06:32.238Z"
   },
   {
    "duration": 14,
    "start_time": "2022-02-22T19:06:35.460Z"
   },
   {
    "duration": 110,
    "start_time": "2022-02-22T19:10:10.053Z"
   },
   {
    "duration": 14,
    "start_time": "2022-02-22T19:10:40.005Z"
   },
   {
    "duration": 49,
    "start_time": "2022-02-22T19:13:48.604Z"
   },
   {
    "duration": 38,
    "start_time": "2022-02-22T19:13:57.534Z"
   },
   {
    "duration": 21,
    "start_time": "2022-02-22T19:16:16.019Z"
   },
   {
    "duration": 38,
    "start_time": "2022-02-22T19:16:35.681Z"
   },
   {
    "duration": 86,
    "start_time": "2022-02-22T19:16:39.823Z"
   },
   {
    "duration": 28,
    "start_time": "2022-02-22T19:16:44.995Z"
   },
   {
    "duration": 29,
    "start_time": "2022-02-22T19:16:47.163Z"
   },
   {
    "duration": 690,
    "start_time": "2022-02-22T19:17:01.026Z"
   },
   {
    "duration": 22,
    "start_time": "2022-02-22T19:17:06.278Z"
   },
   {
    "duration": 8,
    "start_time": "2022-02-22T19:17:11.666Z"
   },
   {
    "duration": 17,
    "start_time": "2022-02-22T19:17:14.222Z"
   },
   {
    "duration": 26,
    "start_time": "2022-02-22T19:17:23.282Z"
   },
   {
    "duration": 37,
    "start_time": "2022-02-22T19:17:56.388Z"
   },
   {
    "duration": 212,
    "start_time": "2022-02-22T19:18:36.515Z"
   },
   {
    "duration": 117,
    "start_time": "2022-02-22T19:18:48.882Z"
   },
   {
    "duration": 26,
    "start_time": "2022-02-22T19:23:08.040Z"
   },
   {
    "duration": 27,
    "start_time": "2022-02-22T19:23:13.034Z"
   },
   {
    "duration": 40,
    "start_time": "2022-02-22T19:23:24.813Z"
   },
   {
    "duration": 25,
    "start_time": "2022-02-22T19:23:44.766Z"
   },
   {
    "duration": 26,
    "start_time": "2022-02-22T19:25:09.333Z"
   },
   {
    "duration": 38,
    "start_time": "2022-02-22T19:26:52.843Z"
   },
   {
    "duration": 39,
    "start_time": "2022-02-22T19:27:01.640Z"
   },
   {
    "duration": 397,
    "start_time": "2022-02-23T08:48:42.773Z"
   },
   {
    "duration": 1305,
    "start_time": "2022-02-23T08:48:59.592Z"
   },
   {
    "duration": 825,
    "start_time": "2022-02-23T08:49:08.018Z"
   },
   {
    "duration": 33,
    "start_time": "2022-02-23T08:49:12.248Z"
   },
   {
    "duration": 14,
    "start_time": "2022-02-23T08:49:14.590Z"
   },
   {
    "duration": 22,
    "start_time": "2022-02-23T08:49:16.560Z"
   },
   {
    "duration": 57,
    "start_time": "2022-02-23T08:49:18.777Z"
   },
   {
    "duration": 6,
    "start_time": "2022-02-23T08:49:21.052Z"
   },
   {
    "duration": 15,
    "start_time": "2022-02-23T08:49:38.135Z"
   },
   {
    "duration": 5,
    "start_time": "2022-02-23T08:49:49.281Z"
   },
   {
    "duration": 12,
    "start_time": "2022-02-23T08:50:46.748Z"
   },
   {
    "duration": 13,
    "start_time": "2022-02-23T08:50:53.755Z"
   },
   {
    "duration": 14,
    "start_time": "2022-02-23T08:52:13.921Z"
   },
   {
    "duration": 18,
    "start_time": "2022-02-23T08:52:37.624Z"
   },
   {
    "duration": 29,
    "start_time": "2022-02-23T08:58:11.793Z"
   },
   {
    "duration": 361,
    "start_time": "2022-02-23T08:58:22.860Z"
   },
   {
    "duration": 237,
    "start_time": "2022-02-23T08:59:21.333Z"
   },
   {
    "duration": 246,
    "start_time": "2022-02-23T08:59:25.136Z"
   },
   {
    "duration": 255,
    "start_time": "2022-02-23T08:59:31.883Z"
   },
   {
    "duration": 863,
    "start_time": "2022-02-23T08:59:53.739Z"
   },
   {
    "duration": 35,
    "start_time": "2022-02-23T08:59:57.511Z"
   },
   {
    "duration": 12,
    "start_time": "2022-02-23T09:00:05.108Z"
   },
   {
    "duration": 21,
    "start_time": "2022-02-23T09:00:07.628Z"
   },
   {
    "duration": 61,
    "start_time": "2022-02-23T09:00:08.586Z"
   },
   {
    "duration": 29,
    "start_time": "2022-02-23T09:00:10.283Z"
   },
   {
    "duration": 359,
    "start_time": "2022-02-23T09:00:24.017Z"
   },
   {
    "duration": 240,
    "start_time": "2022-02-23T09:00:39.902Z"
   },
   {
    "duration": 878,
    "start_time": "2022-02-23T09:00:50.457Z"
   },
   {
    "duration": 33,
    "start_time": "2022-02-23T09:00:58.111Z"
   },
   {
    "duration": 11,
    "start_time": "2022-02-23T09:01:01.375Z"
   },
   {
    "duration": 20,
    "start_time": "2022-02-23T09:01:03.811Z"
   },
   {
    "duration": 49,
    "start_time": "2022-02-23T09:01:05.807Z"
   },
   {
    "duration": 26,
    "start_time": "2022-02-23T09:01:07.669Z"
   },
   {
    "duration": 413,
    "start_time": "2022-02-23T09:01:21.075Z"
   },
   {
    "duration": 272,
    "start_time": "2022-02-23T09:01:30.775Z"
   },
   {
    "duration": 901,
    "start_time": "2022-02-23T09:01:46.468Z"
   },
   {
    "duration": 34,
    "start_time": "2022-02-23T09:01:51.843Z"
   },
   {
    "duration": 16,
    "start_time": "2022-02-23T09:01:55.798Z"
   },
   {
    "duration": 21,
    "start_time": "2022-02-23T09:01:57.683Z"
   },
   {
    "duration": 56,
    "start_time": "2022-02-23T09:02:00.436Z"
   },
   {
    "duration": 25,
    "start_time": "2022-02-23T09:02:02.034Z"
   },
   {
    "duration": 321,
    "start_time": "2022-02-23T09:29:10.260Z"
   },
   {
    "duration": 232,
    "start_time": "2022-02-23T09:29:21.177Z"
   },
   {
    "duration": 802,
    "start_time": "2022-02-23T09:29:36.029Z"
   },
   {
    "duration": 32,
    "start_time": "2022-02-23T09:29:39.737Z"
   },
   {
    "duration": 12,
    "start_time": "2022-02-23T09:29:43.470Z"
   },
   {
    "duration": 21,
    "start_time": "2022-02-23T09:29:45.465Z"
   },
   {
    "duration": 53,
    "start_time": "2022-02-23T09:29:47.357Z"
   },
   {
    "duration": 33,
    "start_time": "2022-02-23T09:29:49.931Z"
   },
   {
    "duration": 39,
    "start_time": "2022-02-23T09:30:12.479Z"
   },
   {
    "duration": 60,
    "start_time": "2022-02-23T09:30:30.278Z"
   },
   {
    "duration": 41,
    "start_time": "2022-02-23T09:32:53.784Z"
   },
   {
    "duration": 18,
    "start_time": "2022-02-23T09:33:33.175Z"
   },
   {
    "duration": 17,
    "start_time": "2022-02-23T09:33:56.834Z"
   },
   {
    "duration": 30,
    "start_time": "2022-02-23T09:34:52.847Z"
   },
   {
    "duration": 28,
    "start_time": "2022-02-23T09:59:00.012Z"
   },
   {
    "duration": 353,
    "start_time": "2022-02-23T09:59:55.613Z"
   },
   {
    "duration": 28,
    "start_time": "2022-02-23T10:00:10.421Z"
   },
   {
    "duration": 35,
    "start_time": "2022-02-23T10:02:04.614Z"
   },
   {
    "duration": 32,
    "start_time": "2022-02-23T10:03:32.997Z"
   },
   {
    "duration": 36,
    "start_time": "2022-02-23T10:03:44.313Z"
   },
   {
    "duration": 33,
    "start_time": "2022-02-23T10:09:01.420Z"
   },
   {
    "duration": 34,
    "start_time": "2022-02-23T10:09:18.939Z"
   },
   {
    "duration": 43,
    "start_time": "2022-02-23T10:09:54.605Z"
   },
   {
    "duration": 323,
    "start_time": "2022-02-23T10:11:05.935Z"
   },
   {
    "duration": 47,
    "start_time": "2022-02-23T10:11:23.383Z"
   },
   {
    "duration": 60,
    "start_time": "2022-02-23T10:18:37.534Z"
   },
   {
    "duration": 87,
    "start_time": "2022-02-23T10:20:33.911Z"
   },
   {
    "duration": 93,
    "start_time": "2022-02-23T10:21:31.901Z"
   },
   {
    "duration": 39,
    "start_time": "2022-02-23T10:21:48.017Z"
   },
   {
    "duration": 39,
    "start_time": "2022-02-23T10:22:03.597Z"
   },
   {
    "duration": 44,
    "start_time": "2022-02-23T10:22:55.852Z"
   },
   {
    "duration": 89,
    "start_time": "2022-02-23T10:26:48.783Z"
   },
   {
    "duration": 116,
    "start_time": "2022-02-23T10:27:04.784Z"
   },
   {
    "duration": 36,
    "start_time": "2022-02-23T10:27:09.760Z"
   },
   {
    "duration": 41,
    "start_time": "2022-02-23T10:27:29.129Z"
   },
   {
    "duration": 66,
    "start_time": "2022-02-23T10:28:17.136Z"
   },
   {
    "duration": 298,
    "start_time": "2022-02-23T10:29:27.062Z"
   },
   {
    "duration": 43,
    "start_time": "2022-02-23T10:29:42.222Z"
   },
   {
    "duration": 39,
    "start_time": "2022-02-23T10:31:58.850Z"
   },
   {
    "duration": 42,
    "start_time": "2022-02-23T10:33:55.986Z"
   },
   {
    "duration": 5,
    "start_time": "2022-02-23T10:33:58.894Z"
   },
   {
    "duration": 22,
    "start_time": "2022-02-23T10:34:08.494Z"
   },
   {
    "duration": 39,
    "start_time": "2022-02-23T10:35:13.434Z"
   },
   {
    "duration": 38,
    "start_time": "2022-02-23T10:35:58.265Z"
   },
   {
    "duration": 44,
    "start_time": "2022-02-23T10:38:20.207Z"
   },
   {
    "duration": 44,
    "start_time": "2022-02-23T10:38:39.856Z"
   },
   {
    "duration": 46,
    "start_time": "2022-02-23T10:39:24.753Z"
   },
   {
    "duration": 23,
    "start_time": "2022-02-23T12:01:37.672Z"
   },
   {
    "duration": 22,
    "start_time": "2022-02-23T12:07:11.695Z"
   },
   {
    "duration": 249,
    "start_time": "2022-02-23T12:10:25.959Z"
   },
   {
    "duration": 15,
    "start_time": "2022-02-23T12:10:36.160Z"
   },
   {
    "duration": 15,
    "start_time": "2022-02-23T12:10:41.349Z"
   },
   {
    "duration": 19,
    "start_time": "2022-02-23T12:10:54.460Z"
   },
   {
    "duration": 21,
    "start_time": "2022-02-23T12:12:54.526Z"
   },
   {
    "duration": 460,
    "start_time": "2022-02-23T12:15:32.535Z"
   },
   {
    "duration": 28,
    "start_time": "2022-02-23T12:15:39.226Z"
   },
   {
    "duration": 94,
    "start_time": "2022-02-23T12:19:43.425Z"
   },
   {
    "duration": 22,
    "start_time": "2022-02-23T12:19:55.056Z"
   },
   {
    "duration": 28,
    "start_time": "2022-02-23T12:20:12.959Z"
   },
   {
    "duration": 42,
    "start_time": "2022-02-23T12:20:45.479Z"
   },
   {
    "duration": 34,
    "start_time": "2022-02-23T12:21:01.607Z"
   },
   {
    "duration": 289,
    "start_time": "2022-02-23T12:23:11.234Z"
   },
   {
    "duration": 1034,
    "start_time": "2022-02-23T12:23:17.236Z"
   },
   {
    "duration": 36,
    "start_time": "2022-02-23T12:23:24.107Z"
   },
   {
    "duration": 19,
    "start_time": "2022-02-23T12:23:28.476Z"
   },
   {
    "duration": 20,
    "start_time": "2022-02-23T12:23:35.118Z"
   },
   {
    "duration": 53,
    "start_time": "2022-02-23T12:23:38.430Z"
   },
   {
    "duration": 21,
    "start_time": "2022-02-23T12:23:44.546Z"
   },
   {
    "duration": 21,
    "start_time": "2022-02-23T12:23:48.952Z"
   },
   {
    "duration": 36,
    "start_time": "2022-02-23T12:23:51.352Z"
   },
   {
    "duration": 48,
    "start_time": "2022-02-23T12:24:02.562Z"
   },
   {
    "duration": 66,
    "start_time": "2022-02-23T12:25:27.342Z"
   },
   {
    "duration": 98,
    "start_time": "2022-02-23T12:27:12.819Z"
   },
   {
    "duration": 80,
    "start_time": "2022-02-23T12:28:21.538Z"
   },
   {
    "duration": 77,
    "start_time": "2022-02-23T12:29:02.493Z"
   },
   {
    "duration": 77,
    "start_time": "2022-02-23T12:32:33.383Z"
   },
   {
    "duration": 102,
    "start_time": "2022-02-23T12:33:13.540Z"
   },
   {
    "duration": 87,
    "start_time": "2022-02-23T12:33:29.027Z"
   },
   {
    "duration": 82,
    "start_time": "2022-02-23T12:34:14.204Z"
   },
   {
    "duration": 846,
    "start_time": "2022-02-23T12:34:30.398Z"
   },
   {
    "duration": 91,
    "start_time": "2022-02-23T12:34:34.533Z"
   },
   {
    "duration": 33,
    "start_time": "2022-02-23T12:34:39.320Z"
   },
   {
    "duration": 18,
    "start_time": "2022-02-23T12:34:49.409Z"
   },
   {
    "duration": 46,
    "start_time": "2022-02-23T12:35:01.938Z"
   },
   {
    "duration": 19,
    "start_time": "2022-02-23T12:35:20.609Z"
   },
   {
    "duration": 18,
    "start_time": "2022-02-23T12:35:28.655Z"
   },
   {
    "duration": 53,
    "start_time": "2022-02-23T12:35:31.932Z"
   },
   {
    "duration": 20,
    "start_time": "2022-02-23T12:35:36.476Z"
   },
   {
    "duration": 20,
    "start_time": "2022-02-23T12:35:38.421Z"
   },
   {
    "duration": 69,
    "start_time": "2022-02-23T12:35:41.335Z"
   },
   {
    "duration": 70,
    "start_time": "2022-02-23T12:36:18.957Z"
   },
   {
    "duration": 77,
    "start_time": "2022-02-23T12:36:39.224Z"
   },
   {
    "duration": 65,
    "start_time": "2022-02-23T12:36:44.383Z"
   },
   {
    "duration": 103,
    "start_time": "2022-02-23T12:37:24.632Z"
   },
   {
    "duration": 60,
    "start_time": "2022-02-23T12:37:35.622Z"
   },
   {
    "duration": 60,
    "start_time": "2022-02-23T12:37:55.232Z"
   },
   {
    "duration": 63,
    "start_time": "2022-02-23T12:38:22.703Z"
   },
   {
    "duration": 70,
    "start_time": "2022-02-23T12:38:42.100Z"
   },
   {
    "duration": 62,
    "start_time": "2022-02-23T12:38:45.846Z"
   },
   {
    "duration": 55,
    "start_time": "2022-02-23T12:39:33.900Z"
   },
   {
    "duration": 55,
    "start_time": "2022-02-23T12:39:52.676Z"
   },
   {
    "duration": 61,
    "start_time": "2022-02-23T12:41:17.626Z"
   },
   {
    "duration": 1428,
    "start_time": "2022-03-05T23:51:23.014Z"
   },
   {
    "duration": 35,
    "start_time": "2022-03-05T23:51:24.446Z"
   },
   {
    "duration": 17,
    "start_time": "2022-03-05T23:51:24.484Z"
   },
   {
    "duration": 23,
    "start_time": "2022-03-05T23:51:24.532Z"
   },
   {
    "duration": 76,
    "start_time": "2022-03-05T23:51:24.559Z"
   },
   {
    "duration": 22,
    "start_time": "2022-03-05T23:51:24.638Z"
   },
   {
    "duration": 79,
    "start_time": "2022-03-05T23:51:24.662Z"
   },
   {
    "duration": 54,
    "start_time": "2022-03-05T23:51:24.744Z"
   },
   {
    "duration": 15,
    "start_time": "2022-03-05T23:55:01.022Z"
   },
   {
    "duration": 16,
    "start_time": "2022-03-05T23:55:04.402Z"
   },
   {
    "duration": 16,
    "start_time": "2022-03-05T23:55:08.851Z"
   },
   {
    "duration": 120,
    "start_time": "2022-03-05T23:55:29.873Z"
   },
   {
    "duration": 53,
    "start_time": "2022-03-05T23:55:29.996Z"
   },
   {
    "duration": 16,
    "start_time": "2022-03-05T23:55:30.052Z"
   },
   {
    "duration": 19,
    "start_time": "2022-03-05T23:55:30.071Z"
   },
   {
    "duration": 93,
    "start_time": "2022-03-05T23:55:30.092Z"
   },
   {
    "duration": 21,
    "start_time": "2022-03-05T23:55:30.188Z"
   },
   {
    "duration": 58,
    "start_time": "2022-03-05T23:55:30.234Z"
   },
   {
    "duration": 89,
    "start_time": "2022-03-05T23:55:30.296Z"
   },
   {
    "duration": 13,
    "start_time": "2022-03-05T23:55:30.388Z"
   },
   {
    "duration": 50,
    "start_time": "2022-03-05T23:55:30.403Z"
   },
   {
    "duration": 19,
    "start_time": "2022-03-05T23:55:30.456Z"
   },
   {
    "duration": 6,
    "start_time": "2022-03-05T23:56:30.555Z"
   },
   {
    "duration": 106,
    "start_time": "2022-03-05T23:56:36.074Z"
   },
   {
    "duration": 31,
    "start_time": "2022-03-05T23:56:36.182Z"
   },
   {
    "duration": 6,
    "start_time": "2022-03-05T23:56:37.365Z"
   },
   {
    "duration": 444,
    "start_time": "2022-03-05T23:57:29.280Z"
   },
   {
    "duration": 7,
    "start_time": "2022-03-05T23:57:33.898Z"
   },
   {
    "duration": 34,
    "start_time": "2022-03-05T23:59:06.413Z"
   },
   {
    "duration": 113,
    "start_time": "2022-03-05T23:59:08.486Z"
   },
   {
    "duration": 50,
    "start_time": "2022-03-05T23:59:08.602Z"
   },
   {
    "duration": 28,
    "start_time": "2022-03-05T23:59:09.978Z"
   },
   {
    "duration": 19,
    "start_time": "2022-03-05T23:59:12.336Z"
   },
   {
    "duration": 29,
    "start_time": "2022-03-05T23:59:14.540Z"
   },
   {
    "duration": 117,
    "start_time": "2022-03-06T00:00:08.138Z"
   },
   {
    "duration": 34,
    "start_time": "2022-03-06T00:00:08.259Z"
   },
   {
    "duration": 29,
    "start_time": "2022-03-06T00:00:12.974Z"
   },
   {
    "duration": 30,
    "start_time": "2022-03-06T00:00:21.784Z"
   },
   {
    "duration": 602,
    "start_time": "2022-03-07T07:26:42.760Z"
   },
   {
    "duration": 11,
    "start_time": "2022-03-07T07:38:40.874Z"
   },
   {
    "duration": 11,
    "start_time": "2022-03-07T07:44:00.210Z"
   },
   {
    "duration": 11,
    "start_time": "2022-03-07T07:44:06.881Z"
   },
   {
    "duration": 12,
    "start_time": "2022-03-07T07:44:23.056Z"
   },
   {
    "duration": 11,
    "start_time": "2022-03-07T07:44:30.533Z"
   },
   {
    "duration": 11,
    "start_time": "2022-03-07T07:44:48.660Z"
   },
   {
    "duration": 10,
    "start_time": "2022-03-07T07:45:49.692Z"
   },
   {
    "duration": 11,
    "start_time": "2022-03-07T07:45:58.250Z"
   },
   {
    "duration": 10,
    "start_time": "2022-03-07T07:51:14.964Z"
   },
   {
    "duration": 14,
    "start_time": "2022-03-07T07:51:24.618Z"
   },
   {
    "duration": 10,
    "start_time": "2022-03-07T07:51:36.494Z"
   },
   {
    "duration": 11,
    "start_time": "2022-03-07T07:51:43.792Z"
   },
   {
    "duration": 11,
    "start_time": "2022-03-07T07:51:47.299Z"
   },
   {
    "duration": 10,
    "start_time": "2022-03-07T07:51:53.679Z"
   },
   {
    "duration": 16,
    "start_time": "2022-03-07T07:53:01.707Z"
   },
   {
    "duration": 17,
    "start_time": "2022-03-07T07:53:30.261Z"
   },
   {
    "duration": 17,
    "start_time": "2022-03-07T07:53:34.469Z"
   },
   {
    "duration": 15,
    "start_time": "2022-03-07T07:53:46.689Z"
   },
   {
    "duration": 16,
    "start_time": "2022-03-07T07:53:56.609Z"
   },
   {
    "duration": 615,
    "start_time": "2022-03-07T07:54:15.531Z"
   },
   {
    "duration": 21,
    "start_time": "2022-03-07T07:54:19.297Z"
   },
   {
    "duration": 18,
    "start_time": "2022-03-07T07:54:23.701Z"
   },
   {
    "duration": 17,
    "start_time": "2022-03-07T07:54:39.702Z"
   },
   {
    "duration": 375,
    "start_time": "2022-03-07T07:54:48.661Z"
   },
   {
    "duration": 611,
    "start_time": "2022-03-07T07:54:53.307Z"
   },
   {
    "duration": 599,
    "start_time": "2022-03-07T07:54:58.932Z"
   },
   {
    "duration": 20,
    "start_time": "2022-03-07T07:55:02.188Z"
   },
   {
    "duration": 18,
    "start_time": "2022-03-07T07:55:06.113Z"
   },
   {
    "duration": 16,
    "start_time": "2022-03-07T08:00:58.748Z"
   },
   {
    "duration": 17,
    "start_time": "2022-03-07T08:01:05.138Z"
   },
   {
    "duration": 17,
    "start_time": "2022-03-07T08:01:08.730Z"
   },
   {
    "duration": 18,
    "start_time": "2022-03-07T08:01:12.804Z"
   },
   {
    "duration": 17,
    "start_time": "2022-03-07T08:01:16.782Z"
   },
   {
    "duration": 16,
    "start_time": "2022-03-07T08:01:23.816Z"
   },
   {
    "duration": 649,
    "start_time": "2022-03-07T08:01:33.394Z"
   },
   {
    "duration": 20,
    "start_time": "2022-03-07T08:01:36.570Z"
   },
   {
    "duration": 17,
    "start_time": "2022-03-07T08:01:38.729Z"
   },
   {
    "duration": 17,
    "start_time": "2022-03-07T08:01:50.513Z"
   },
   {
    "duration": 651,
    "start_time": "2022-03-07T08:01:57.886Z"
   },
   {
    "duration": 20,
    "start_time": "2022-03-07T08:02:02.157Z"
   },
   {
    "duration": 20,
    "start_time": "2022-03-07T08:02:05.359Z"
   },
   {
    "duration": 630,
    "start_time": "2022-03-07T08:02:24.948Z"
   },
   {
    "duration": 19,
    "start_time": "2022-03-07T08:02:27.995Z"
   },
   {
    "duration": 18,
    "start_time": "2022-03-07T08:02:30.333Z"
   },
   {
    "duration": 17,
    "start_time": "2022-03-07T08:02:35.954Z"
   },
   {
    "duration": 585,
    "start_time": "2022-03-07T08:02:42.143Z"
   },
   {
    "duration": 20,
    "start_time": "2022-03-07T08:02:45.205Z"
   },
   {
    "duration": 18,
    "start_time": "2022-03-07T08:02:48.648Z"
   },
   {
    "duration": 589,
    "start_time": "2022-03-07T08:03:09.857Z"
   },
   {
    "duration": 21,
    "start_time": "2022-03-07T08:03:12.608Z"
   },
   {
    "duration": 17,
    "start_time": "2022-03-07T08:03:14.865Z"
   },
   {
    "duration": 16,
    "start_time": "2022-03-07T08:04:23.395Z"
   },
   {
    "duration": 652,
    "start_time": "2022-03-07T08:04:30.812Z"
   },
   {
    "duration": 20,
    "start_time": "2022-03-07T08:04:34.754Z"
   },
   {
    "duration": 17,
    "start_time": "2022-03-07T08:04:37.542Z"
   },
   {
    "duration": 17,
    "start_time": "2022-03-07T08:04:48.584Z"
   },
   {
    "duration": 636,
    "start_time": "2022-03-07T08:04:54.199Z"
   },
   {
    "duration": 61,
    "start_time": "2022-03-07T08:04:58.822Z"
   },
   {
    "duration": 20,
    "start_time": "2022-03-07T08:05:01.969Z"
   },
   {
    "duration": 21,
    "start_time": "2022-03-07T08:05:04.069Z"
   },
   {
    "duration": 18,
    "start_time": "2022-03-07T08:05:16.685Z"
   },
   {
    "duration": 18,
    "start_time": "2022-03-07T08:05:20.432Z"
   },
   {
    "duration": 17,
    "start_time": "2022-03-07T08:05:23.845Z"
   },
   {
    "duration": 585,
    "start_time": "2022-03-07T08:05:39.054Z"
   },
   {
    "duration": 19,
    "start_time": "2022-03-07T08:05:41.961Z"
   },
   {
    "duration": 20,
    "start_time": "2022-03-07T08:05:44.481Z"
   },
   {
    "duration": 17,
    "start_time": "2022-03-07T08:06:48.342Z"
   },
   {
    "duration": 18,
    "start_time": "2022-03-07T08:09:12.567Z"
   },
   {
    "duration": -44,
    "start_time": "2022-03-07T08:10:04.721Z"
   },
   {
    "duration": 7175,
    "start_time": "2022-03-07T08:10:06.507Z"
   },
   {
    "duration": 21,
    "start_time": "2022-03-07T08:10:33.529Z"
   },
   {
    "duration": 19,
    "start_time": "2022-03-07T08:13:56.258Z"
   },
   {
    "duration": 674,
    "start_time": "2022-03-07T08:14:04.716Z"
   },
   {
    "duration": 21,
    "start_time": "2022-03-07T08:14:07.799Z"
   },
   {
    "duration": 23,
    "start_time": "2022-03-07T08:14:10.185Z"
   },
   {
    "duration": 21,
    "start_time": "2022-03-07T08:16:07.691Z"
   },
   {
    "duration": 31,
    "start_time": "2022-03-07T08:16:21.355Z"
   },
   {
    "duration": 25,
    "start_time": "2022-03-07T08:19:05.517Z"
   },
   {
    "duration": 356,
    "start_time": "2022-03-07T08:21:19.977Z"
   },
   {
    "duration": 292,
    "start_time": "2022-03-07T08:22:17.870Z"
   },
   {
    "duration": 22,
    "start_time": "2022-03-07T08:22:24.032Z"
   },
   {
    "duration": 25,
    "start_time": "2022-03-07T08:22:58.865Z"
   },
   {
    "duration": 17,
    "start_time": "2022-03-07T08:26:18.004Z"
   },
   {
    "duration": 27,
    "start_time": "2022-03-07T08:28:43.830Z"
   },
   {
    "duration": 33,
    "start_time": "2022-03-07T08:34:39.999Z"
   },
   {
    "duration": 449,
    "start_time": "2022-03-07T08:41:17.822Z"
   },
   {
    "duration": 654,
    "start_time": "2022-03-07T08:41:58.277Z"
   },
   {
    "duration": 22,
    "start_time": "2022-03-07T08:42:01.505Z"
   },
   {
    "duration": 17,
    "start_time": "2022-03-07T08:42:08.506Z"
   },
   {
    "duration": 12,
    "start_time": "2022-03-07T08:42:14.915Z"
   },
   {
    "duration": 30,
    "start_time": "2022-03-07T08:42:17.705Z"
   },
   {
    "duration": 12,
    "start_time": "2022-03-07T08:42:49.786Z"
   },
   {
    "duration": 356,
    "start_time": "2022-03-07T08:43:07.289Z"
   },
   {
    "duration": 355,
    "start_time": "2022-03-07T08:44:09.421Z"
   },
   {
    "duration": 31,
    "start_time": "2022-03-07T08:46:14.481Z"
   },
   {
    "duration": 82,
    "start_time": "2022-03-07T08:46:17.814Z"
   },
   {
    "duration": 31,
    "start_time": "2022-03-07T08:59:15.238Z"
   },
   {
    "duration": 12,
    "start_time": "2022-03-07T09:00:15.349Z"
   },
   {
    "duration": 10,
    "start_time": "2022-03-07T09:00:20.063Z"
   },
   {
    "duration": 18,
    "start_time": "2022-03-07T09:06:02.465Z"
   },
   {
    "duration": 37,
    "start_time": "2022-03-07T09:06:09.436Z"
   },
   {
    "duration": 34,
    "start_time": "2022-03-07T09:06:12.416Z"
   },
   {
    "duration": 13,
    "start_time": "2022-03-07T09:06:18.016Z"
   },
   {
    "duration": 33,
    "start_time": "2022-03-07T09:06:21.177Z"
   },
   {
    "duration": 34,
    "start_time": "2022-03-07T09:06:25.824Z"
   },
   {
    "duration": 18,
    "start_time": "2022-03-07T09:07:18.151Z"
   },
   {
    "duration": 22,
    "start_time": "2022-03-07T09:07:22.060Z"
   },
   {
    "duration": 590,
    "start_time": "2022-03-07T09:07:32.063Z"
   },
   {
    "duration": 18,
    "start_time": "2022-03-07T09:07:36.702Z"
   },
   {
    "duration": 17,
    "start_time": "2022-03-07T09:07:40.834Z"
   },
   {
    "duration": 29,
    "start_time": "2022-03-07T09:07:45.137Z"
   },
   {
    "duration": 12,
    "start_time": "2022-03-07T09:07:47.273Z"
   },
   {
    "duration": 31,
    "start_time": "2022-03-07T09:07:57.898Z"
   },
   {
    "duration": 37,
    "start_time": "2022-03-07T09:08:02.050Z"
   },
   {
    "duration": 11,
    "start_time": "2022-03-07T09:08:11.810Z"
   },
   {
    "duration": 32,
    "start_time": "2022-03-07T09:08:42.005Z"
   },
   {
    "duration": 11,
    "start_time": "2022-03-07T09:08:53.346Z"
   },
   {
    "duration": 12,
    "start_time": "2022-03-07T09:08:58.401Z"
   },
   {
    "duration": 14,
    "start_time": "2022-03-07T09:09:02.162Z"
   },
   {
    "duration": 54,
    "start_time": "2022-03-07T09:09:04.794Z"
   },
   {
    "duration": 38,
    "start_time": "2022-03-07T09:09:07.058Z"
   },
   {
    "duration": 38,
    "start_time": "2022-03-07T09:09:09.478Z"
   },
   {
    "duration": 10,
    "start_time": "2022-03-07T09:09:15.122Z"
   },
   {
    "duration": 13,
    "start_time": "2022-03-07T09:09:17.089Z"
   },
   {
    "duration": -89,
    "start_time": "2022-03-07T09:15:29.899Z"
   },
   {
    "duration": 7134,
    "start_time": "2022-03-07T09:15:33.668Z"
   },
   {
    "duration": 17,
    "start_time": "2022-03-07T09:16:16.756Z"
   },
   {
    "duration": 26,
    "start_time": "2022-03-07T09:50:04.401Z"
   },
   {
    "duration": 322,
    "start_time": "2022-03-07T09:50:25.890Z"
   },
   {
    "duration": 321,
    "start_time": "2022-03-07T09:53:01.248Z"
   },
   {
    "duration": 330,
    "start_time": "2022-03-07T09:53:34.269Z"
   },
   {
    "duration": 655,
    "start_time": "2022-03-07T09:53:53.375Z"
   },
   {
    "duration": 20,
    "start_time": "2022-03-07T09:53:57.446Z"
   },
   {
    "duration": 18,
    "start_time": "2022-03-07T09:54:00.512Z"
   },
   {
    "duration": 14,
    "start_time": "2022-03-07T09:54:06.317Z"
   },
   {
    "duration": 33,
    "start_time": "2022-03-07T09:54:10.326Z"
   },
   {
    "duration": 29,
    "start_time": "2022-03-07T09:54:12.852Z"
   },
   {
    "duration": 405,
    "start_time": "2022-03-07T09:56:27.909Z"
   },
   {
    "duration": 598,
    "start_time": "2022-03-07T09:56:41.317Z"
   },
   {
    "duration": 19,
    "start_time": "2022-03-07T09:56:45.126Z"
   },
   {
    "duration": 17,
    "start_time": "2022-03-07T09:56:47.962Z"
   },
   {
    "duration": 12,
    "start_time": "2022-03-07T09:56:53.891Z"
   },
   {
    "duration": 30,
    "start_time": "2022-03-07T09:56:55.794Z"
   },
   {
    "duration": 28,
    "start_time": "2022-03-07T09:56:58.372Z"
   },
   {
    "duration": 397,
    "start_time": "2022-03-07T09:57:56.717Z"
   },
   {
    "duration": 352,
    "start_time": "2022-03-07T09:58:19.756Z"
   },
   {
    "duration": 639,
    "start_time": "2022-03-07T09:58:28.909Z"
   },
   {
    "duration": 19,
    "start_time": "2022-03-07T09:58:43.220Z"
   },
   {
    "duration": 16,
    "start_time": "2022-03-07T09:58:46.011Z"
   },
   {
    "duration": 11,
    "start_time": "2022-03-07T09:58:49.136Z"
   },
   {
    "duration": 31,
    "start_time": "2022-03-07T09:58:53.710Z"
   },
   {
    "duration": 25,
    "start_time": "2022-03-07T09:58:55.782Z"
   },
   {
    "duration": 351,
    "start_time": "2022-03-07T10:00:00.531Z"
   },
   {
    "duration": 714,
    "start_time": "2022-03-07T10:00:13.182Z"
   },
   {
    "duration": 19,
    "start_time": "2022-03-07T10:00:17.140Z"
   },
   {
    "duration": 18,
    "start_time": "2022-03-07T10:00:19.315Z"
   },
   {
    "duration": 11,
    "start_time": "2022-03-07T10:00:22.723Z"
   },
   {
    "duration": 29,
    "start_time": "2022-03-07T10:00:25.294Z"
   },
   {
    "duration": 26,
    "start_time": "2022-03-07T10:00:27.349Z"
   },
   {
    "duration": 29,
    "start_time": "2022-03-07T10:00:40.196Z"
   },
   {
    "duration": 361,
    "start_time": "2022-03-07T10:00:44.212Z"
   },
   {
    "duration": 841,
    "start_time": "2022-03-07T10:47:44.558Z"
   },
   {
    "duration": 14,
    "start_time": "2022-03-07T10:47:57.500Z"
   },
   {
    "duration": 981,
    "start_time": "2022-03-08T08:20:02.634Z"
   },
   {
    "duration": 91,
    "start_time": "2022-03-08T08:20:03.618Z"
   },
   {
    "duration": 83,
    "start_time": "2022-03-08T08:20:03.711Z"
   },
   {
    "duration": 20,
    "start_time": "2022-03-08T08:20:03.796Z"
   },
   {
    "duration": 108,
    "start_time": "2022-03-08T08:20:03.874Z"
   },
   {
    "duration": 96,
    "start_time": "2022-03-08T08:20:03.984Z"
   },
   {
    "duration": 112,
    "start_time": "2022-03-08T08:20:04.083Z"
   },
   {
    "duration": 510,
    "start_time": "2022-03-08T08:20:04.198Z"
   },
   {
    "duration": -153,
    "start_time": "2022-03-08T08:20:04.863Z"
   },
   {
    "duration": -152,
    "start_time": "2022-03-08T08:20:04.864Z"
   },
   {
    "duration": -152,
    "start_time": "2022-03-08T08:20:04.865Z"
   },
   {
    "duration": 336,
    "start_time": "2022-03-08T16:55:35.067Z"
   },
   {
    "duration": 723,
    "start_time": "2022-03-08T16:55:44.666Z"
   },
   {
    "duration": 21,
    "start_time": "2022-03-08T16:55:48.979Z"
   },
   {
    "duration": 20,
    "start_time": "2022-03-08T16:55:52.292Z"
   },
   {
    "duration": 12,
    "start_time": "2022-03-08T16:56:06.008Z"
   },
   {
    "duration": 47,
    "start_time": "2022-03-08T16:56:15.604Z"
   },
   {
    "duration": 28,
    "start_time": "2022-03-08T16:56:20.073Z"
   },
   {
    "duration": 32,
    "start_time": "2022-03-08T16:56:31.767Z"
   },
   {
    "duration": 371,
    "start_time": "2022-03-08T16:56:57.381Z"
   },
   {
    "duration": 309,
    "start_time": "2022-03-08T16:57:01.397Z"
   },
   {
    "duration": 323,
    "start_time": "2022-03-08T16:57:27.611Z"
   },
   {
    "duration": 632,
    "start_time": "2022-03-08T16:57:36.911Z"
   },
   {
    "duration": 20,
    "start_time": "2022-03-08T16:57:40.638Z"
   },
   {
    "duration": 18,
    "start_time": "2022-03-08T16:57:49.736Z"
   },
   {
    "duration": 13,
    "start_time": "2022-03-08T16:57:56.534Z"
   },
   {
    "duration": 36,
    "start_time": "2022-03-08T16:57:59.279Z"
   },
   {
    "duration": 27,
    "start_time": "2022-03-08T16:58:01.898Z"
   },
   {
    "duration": 33,
    "start_time": "2022-03-08T16:58:05.660Z"
   },
   {
    "duration": 375,
    "start_time": "2022-03-08T16:58:26.335Z"
   },
   {
    "duration": 29,
    "start_time": "2022-03-08T17:01:35.510Z"
   },
   {
    "duration": 294,
    "start_time": "2022-03-08T17:12:22.900Z"
   },
   {
    "duration": 638,
    "start_time": "2022-03-08T17:12:34.902Z"
   },
   {
    "duration": 21,
    "start_time": "2022-03-08T17:12:38.533Z"
   },
   {
    "duration": 17,
    "start_time": "2022-03-08T17:12:41.699Z"
   },
   {
    "duration": 11,
    "start_time": "2022-03-08T17:12:45.477Z"
   },
   {
    "duration": 35,
    "start_time": "2022-03-08T17:12:47.568Z"
   },
   {
    "duration": 32,
    "start_time": "2022-03-08T17:12:49.726Z"
   },
   {
    "duration": 32,
    "start_time": "2022-03-08T17:12:53.424Z"
   },
   {
    "duration": 40,
    "start_time": "2022-03-08T17:12:55.781Z"
   },
   {
    "duration": 1325,
    "start_time": "2022-03-29T17:27:58.873Z"
   },
   {
    "duration": 55,
    "start_time": "2022-03-29T17:28:50.064Z"
   },
   {
    "duration": 65,
    "start_time": "2022-03-29T17:29:02.565Z"
   },
   {
    "duration": 76,
    "start_time": "2022-03-29T17:30:44.611Z"
   },
   {
    "duration": 89,
    "start_time": "2022-03-29T17:31:00.997Z"
   },
   {
    "duration": 94,
    "start_time": "2022-03-29T17:31:43.066Z"
   },
   {
    "duration": 92,
    "start_time": "2022-03-29T17:31:53.958Z"
   },
   {
    "duration": 103,
    "start_time": "2022-03-29T17:32:18.755Z"
   },
   {
    "duration": 1087,
    "start_time": "2022-03-29T17:36:56.574Z"
   },
   {
    "duration": 104,
    "start_time": "2022-03-29T17:37:43.689Z"
   },
   {
    "duration": 109,
    "start_time": "2022-03-29T17:38:11.603Z"
   },
   {
    "duration": 23,
    "start_time": "2022-03-29T17:38:26.557Z"
   },
   {
    "duration": 3002,
    "start_time": "2022-03-29T17:45:39.274Z"
   },
   {
    "duration": 18,
    "start_time": "2022-03-29T17:46:32.083Z"
   },
   {
    "duration": 22,
    "start_time": "2022-03-29T17:46:42.059Z"
   },
   {
    "duration": 14,
    "start_time": "2022-03-29T17:48:10.915Z"
   },
   {
    "duration": 6,
    "start_time": "2022-03-29T17:49:46.145Z"
   },
   {
    "duration": 8,
    "start_time": "2022-03-29T17:49:58.416Z"
   },
   {
    "duration": 114,
    "start_time": "2022-03-29T17:54:02.108Z"
   },
   {
    "duration": 99,
    "start_time": "2022-03-29T17:54:26.888Z"
   },
   {
    "duration": 3,
    "start_time": "2022-03-29T17:54:33.608Z"
   },
   {
    "duration": 103,
    "start_time": "2022-03-29T17:54:35.995Z"
   },
   {
    "duration": 31,
    "start_time": "2022-03-29T17:54:56.049Z"
   },
   {
    "duration": 7,
    "start_time": "2022-03-29T17:55:17.829Z"
   },
   {
    "duration": 73,
    "start_time": "2022-03-30T17:18:48.021Z"
   },
   {
    "duration": 1260,
    "start_time": "2022-03-30T17:18:56.704Z"
   },
   {
    "duration": 108,
    "start_time": "2022-03-30T17:19:01.921Z"
   },
   {
    "duration": 19,
    "start_time": "2022-03-30T17:19:05.473Z"
   },
   {
    "duration": 19,
    "start_time": "2022-03-30T17:19:07.713Z"
   },
   {
    "duration": 9,
    "start_time": "2022-03-30T17:19:10.092Z"
   },
   {
    "duration": 2418,
    "start_time": "2022-03-30T17:19:12.103Z"
   },
   {
    "duration": 2328,
    "start_time": "2022-03-30T17:19:34.894Z"
   },
   {
    "duration": 11,
    "start_time": "2022-03-30T17:19:50.478Z"
   },
   {
    "duration": 39,
    "start_time": "2022-03-30T17:25:03.446Z"
   },
   {
    "duration": 32,
    "start_time": "2022-03-30T17:25:47.755Z"
   },
   {
    "duration": 34,
    "start_time": "2022-03-30T17:25:53.654Z"
   },
   {
    "duration": 3,
    "start_time": "2022-03-30T17:26:03.784Z"
   },
   {
    "duration": 87,
    "start_time": "2022-03-30T17:26:06.542Z"
   },
   {
    "duration": 19,
    "start_time": "2022-03-30T17:26:16.988Z"
   },
   {
    "duration": 7,
    "start_time": "2022-03-30T17:26:19.326Z"
   },
   {
    "duration": 38,
    "start_time": "2022-03-30T17:26:21.691Z"
   },
   {
    "duration": 8,
    "start_time": "2022-03-30T17:28:08.998Z"
   },
   {
    "duration": 6,
    "start_time": "2022-03-30T17:28:19.775Z"
   },
   {
    "duration": 10,
    "start_time": "2022-03-30T17:28:41.747Z"
   },
   {
    "duration": 10,
    "start_time": "2022-03-30T17:28:56.243Z"
   },
   {
    "duration": 597,
    "start_time": "2022-03-30T17:29:26.135Z"
   },
   {
    "duration": 578,
    "start_time": "2022-03-30T17:43:42.763Z"
   },
   {
    "duration": 661,
    "start_time": "2022-03-30T17:44:13.322Z"
   },
   {
    "duration": 649,
    "start_time": "2022-03-30T17:49:10.158Z"
   },
   {
    "duration": 600,
    "start_time": "2022-03-30T17:50:01.529Z"
   },
   {
    "duration": 659,
    "start_time": "2022-03-30T17:50:20.315Z"
   },
   {
    "duration": 544,
    "start_time": "2022-03-30T17:51:13.456Z"
   },
   {
    "duration": 576,
    "start_time": "2022-03-30T17:51:36.644Z"
   },
   {
    "duration": 583,
    "start_time": "2022-03-30T17:52:09.411Z"
   },
   {
    "duration": 559,
    "start_time": "2022-03-30T17:52:13.483Z"
   },
   {
    "duration": 16,
    "start_time": "2022-03-30T17:52:34.412Z"
   },
   {
    "duration": 598,
    "start_time": "2022-03-30T17:56:00.274Z"
   },
   {
    "duration": 670,
    "start_time": "2022-03-30T17:56:08.659Z"
   },
   {
    "duration": 590,
    "start_time": "2022-03-30T17:56:16.116Z"
   },
   {
    "duration": 19,
    "start_time": "2022-03-30T17:57:58.011Z"
   },
   {
    "duration": 16,
    "start_time": "2022-03-30T17:58:36.010Z"
   },
   {
    "duration": 17,
    "start_time": "2022-03-30T18:03:09.590Z"
   },
   {
    "duration": 20,
    "start_time": "2022-03-30T18:03:53.309Z"
   },
   {
    "duration": 15,
    "start_time": "2022-03-30T18:04:41.380Z"
   },
   {
    "duration": 34,
    "start_time": "2022-03-30T18:05:46.267Z"
   },
   {
    "duration": 256,
    "start_time": "2022-03-30T18:07:47.628Z"
   },
   {
    "duration": 205,
    "start_time": "2022-03-30T18:08:10.539Z"
   },
   {
    "duration": 18,
    "start_time": "2022-03-30T18:13:04.399Z"
   },
   {
    "duration": 22,
    "start_time": "2022-03-30T18:25:51.370Z"
   },
   {
    "duration": 24,
    "start_time": "2022-03-30T18:27:14.314Z"
   },
   {
    "duration": 17,
    "start_time": "2022-03-30T18:27:51.648Z"
   },
   {
    "duration": 17,
    "start_time": "2022-03-30T18:28:37.476Z"
   },
   {
    "duration": 16,
    "start_time": "2022-03-30T18:29:16.840Z"
   },
   {
    "duration": 15,
    "start_time": "2022-03-30T18:29:27.535Z"
   },
   {
    "duration": 18,
    "start_time": "2022-03-30T18:30:10.684Z"
   },
   {
    "duration": 17,
    "start_time": "2022-03-30T18:30:56.268Z"
   },
   {
    "duration": 16,
    "start_time": "2022-03-30T18:31:03.111Z"
   },
   {
    "duration": 176,
    "start_time": "2022-03-30T18:31:44.746Z"
   },
   {
    "duration": 154,
    "start_time": "2022-03-30T18:31:49.557Z"
   },
   {
    "duration": 171,
    "start_time": "2022-03-30T18:31:56.657Z"
   },
   {
    "duration": 166,
    "start_time": "2022-03-30T18:32:03.999Z"
   },
   {
    "duration": 190,
    "start_time": "2022-03-30T18:32:11.543Z"
   },
   {
    "duration": 47,
    "start_time": "2022-03-30T18:44:50.876Z"
   },
   {
    "duration": 1289,
    "start_time": "2022-03-30T18:45:00.560Z"
   },
   {
    "duration": 119,
    "start_time": "2022-03-30T18:45:03.927Z"
   },
   {
    "duration": 22,
    "start_time": "2022-03-30T18:45:12.788Z"
   },
   {
    "duration": 34,
    "start_time": "2022-03-30T18:45:16.348Z"
   },
   {
    "duration": 21,
    "start_time": "2022-03-30T18:45:18.598Z"
   },
   {
    "duration": 215,
    "start_time": "2022-03-30T18:45:21.433Z"
   },
   {
    "duration": 198,
    "start_time": "2022-03-30T18:45:23.475Z"
   },
   {
    "duration": 195,
    "start_time": "2022-03-30T18:47:20.588Z"
   },
   {
    "duration": 191,
    "start_time": "2022-03-30T18:47:24.781Z"
   },
   {
    "duration": 204,
    "start_time": "2022-03-30T18:48:22.056Z"
   },
   {
    "duration": 146,
    "start_time": "2022-03-30T18:49:24.036Z"
   },
   {
    "duration": 150,
    "start_time": "2022-03-30T18:50:27.571Z"
   },
   {
    "duration": 210,
    "start_time": "2022-03-30T18:51:47.785Z"
   },
   {
    "duration": 267,
    "start_time": "2022-03-30T18:51:59.925Z"
   },
   {
    "duration": 535,
    "start_time": "2022-03-30T18:52:40.149Z"
   },
   {
    "duration": 461,
    "start_time": "2022-03-30T18:53:10.304Z"
   },
   {
    "duration": 408,
    "start_time": "2022-03-30T18:53:41.315Z"
   },
   {
    "duration": 156,
    "start_time": "2022-03-30T18:54:20.042Z"
   },
   {
    "duration": 431,
    "start_time": "2022-03-30T18:55:10.453Z"
   },
   {
    "duration": 420,
    "start_time": "2022-03-30T18:55:24.968Z"
   },
   {
    "duration": 532,
    "start_time": "2022-03-30T18:55:39.259Z"
   },
   {
    "duration": 427,
    "start_time": "2022-03-30T18:55:50.460Z"
   },
   {
    "duration": 4,
    "start_time": "2022-03-31T17:49:52.313Z"
   },
   {
    "duration": 53,
    "start_time": "2022-03-31T17:52:04.821Z"
   },
   {
    "duration": 1376,
    "start_time": "2022-03-31T17:52:08.802Z"
   },
   {
    "duration": 146,
    "start_time": "2022-03-31T17:52:11.443Z"
   },
   {
    "duration": 86,
    "start_time": "2022-03-31T17:52:25.489Z"
   },
   {
    "duration": 76,
    "start_time": "2022-03-31T17:52:40.378Z"
   },
   {
    "duration": 72,
    "start_time": "2022-03-31T17:52:51.378Z"
   },
   {
    "duration": 23,
    "start_time": "2022-03-31T18:07:54.066Z"
   },
   {
    "duration": 16,
    "start_time": "2022-03-31T18:08:08.269Z"
   },
   {
    "duration": 4,
    "start_time": "2022-03-31T18:08:16.421Z"
   },
   {
    "duration": 72,
    "start_time": "2022-03-31T18:08:20.423Z"
   },
   {
    "duration": 27,
    "start_time": "2022-03-31T18:08:24.035Z"
   },
   {
    "duration": 37,
    "start_time": "2022-03-31T18:08:27.034Z"
   },
   {
    "duration": 25,
    "start_time": "2022-03-31T18:08:30.199Z"
   },
   {
    "duration": 216,
    "start_time": "2022-03-31T18:08:32.723Z"
   },
   {
    "duration": 672,
    "start_time": "2022-03-31T18:08:34.674Z"
   },
   {
    "duration": 655,
    "start_time": "2022-03-31T18:08:41.508Z"
   },
   {
    "duration": 836,
    "start_time": "2022-03-31T18:09:33.302Z"
   },
   {
    "duration": 25,
    "start_time": "2022-03-31T18:11:38.892Z"
   },
   {
    "duration": 23,
    "start_time": "2022-03-31T18:14:12.122Z"
   },
   {
    "duration": 17,
    "start_time": "2022-03-31T18:14:22.659Z"
   },
   {
    "duration": 18,
    "start_time": "2022-03-31T18:14:41.755Z"
   },
   {
    "duration": 18,
    "start_time": "2022-03-31T18:14:43.913Z"
   },
   {
    "duration": 18,
    "start_time": "2022-03-31T18:14:48.431Z"
   },
   {
    "duration": 20,
    "start_time": "2022-03-31T18:15:33.434Z"
   },
   {
    "duration": 26,
    "start_time": "2022-03-31T18:15:40.106Z"
   },
   {
    "duration": 110,
    "start_time": "2022-03-31T18:15:46.986Z"
   },
   {
    "duration": 41,
    "start_time": "2022-03-31T18:24:09.709Z"
   },
   {
    "duration": 37,
    "start_time": "2022-03-31T18:25:31.704Z"
   },
   {
    "duration": 21,
    "start_time": "2022-03-31T18:25:49.453Z"
   },
   {
    "duration": 16,
    "start_time": "2022-03-31T18:26:05.387Z"
   },
   {
    "duration": 16,
    "start_time": "2022-03-31T18:26:22.042Z"
   },
   {
    "duration": 16,
    "start_time": "2022-03-31T18:26:29.194Z"
   },
   {
    "duration": 21,
    "start_time": "2022-03-31T18:26:32.324Z"
   },
   {
    "duration": 15,
    "start_time": "2022-03-31T18:26:34.893Z"
   },
   {
    "duration": 17,
    "start_time": "2022-03-31T18:29:45.999Z"
   },
   {
    "duration": 15,
    "start_time": "2022-03-31T18:30:52.886Z"
   },
   {
    "duration": 15,
    "start_time": "2022-03-31T18:31:10.430Z"
   },
   {
    "duration": 15,
    "start_time": "2022-03-31T18:31:12.766Z"
   },
   {
    "duration": 20,
    "start_time": "2022-03-31T18:32:29.102Z"
   },
   {
    "duration": 17,
    "start_time": "2022-03-31T18:32:32.191Z"
   },
   {
    "duration": 20,
    "start_time": "2022-03-31T18:32:37.303Z"
   },
   {
    "duration": 15,
    "start_time": "2022-03-31T18:32:53.793Z"
   },
   {
    "duration": 21,
    "start_time": "2022-03-31T18:33:12.109Z"
   },
   {
    "duration": 136,
    "start_time": "2022-03-31T18:36:27.029Z"
   },
   {
    "duration": 32,
    "start_time": "2022-03-31T18:36:41.734Z"
   },
   {
    "duration": 32,
    "start_time": "2022-03-31T18:36:49.954Z"
   },
   {
    "duration": 19,
    "start_time": "2022-03-31T18:37:18.683Z"
   },
   {
    "duration": 19,
    "start_time": "2022-03-31T18:37:35.077Z"
   },
   {
    "duration": 29,
    "start_time": "2022-03-31T18:37:40.898Z"
   },
   {
    "duration": 21,
    "start_time": "2022-03-31T18:37:50.874Z"
   },
   {
    "duration": 11,
    "start_time": "2022-03-31T18:44:00.560Z"
   },
   {
    "duration": 15,
    "start_time": "2022-03-31T18:44:23.771Z"
   },
   {
    "duration": 15,
    "start_time": "2022-03-31T18:44:28.457Z"
   },
   {
    "duration": 15,
    "start_time": "2022-03-31T18:44:51.498Z"
   },
   {
    "duration": 14,
    "start_time": "2022-03-31T18:44:58.311Z"
   },
   {
    "duration": 17,
    "start_time": "2022-03-31T18:45:52.064Z"
   },
   {
    "duration": 16,
    "start_time": "2022-03-31T18:46:11.112Z"
   },
   {
    "duration": 16,
    "start_time": "2022-03-31T18:46:23.883Z"
   },
   {
    "duration": 14,
    "start_time": "2022-03-31T18:47:17.923Z"
   },
   {
    "duration": 821,
    "start_time": "2022-03-31T18:58:10.727Z"
   },
   {
    "duration": 20,
    "start_time": "2022-03-31T19:04:31.964Z"
   },
   {
    "duration": 135,
    "start_time": "2022-03-31T19:12:44.310Z"
   },
   {
    "duration": 18,
    "start_time": "2022-03-31T19:12:52.622Z"
   },
   {
    "duration": 18,
    "start_time": "2022-03-31T19:13:16.824Z"
   },
   {
    "duration": 18,
    "start_time": "2022-03-31T19:13:29.159Z"
   },
   {
    "duration": 17,
    "start_time": "2022-03-31T19:17:25.519Z"
   },
   {
    "duration": 168,
    "start_time": "2022-03-31T19:18:22.939Z"
   },
   {
    "duration": 172,
    "start_time": "2022-03-31T19:20:34.580Z"
   },
   {
    "duration": 185,
    "start_time": "2022-03-31T19:21:07.809Z"
   },
   {
    "duration": 192,
    "start_time": "2022-03-31T19:24:09.924Z"
   },
   {
    "duration": 171,
    "start_time": "2022-03-31T19:24:33.327Z"
   },
   {
    "duration": 169,
    "start_time": "2022-03-31T19:25:08.372Z"
   },
   {
    "duration": 138,
    "start_time": "2022-03-31T19:28:20.192Z"
   },
   {
    "duration": 147,
    "start_time": "2022-03-31T19:28:46.524Z"
   },
   {
    "duration": 26,
    "start_time": "2022-03-31T19:28:56.257Z"
   },
   {
    "duration": 31,
    "start_time": "2022-03-31T19:29:21.452Z"
   },
   {
    "duration": 11,
    "start_time": "2022-03-31T19:32:52.839Z"
   },
   {
    "duration": 30,
    "start_time": "2022-03-31T19:32:59.788Z"
   },
   {
    "duration": 31,
    "start_time": "2022-03-31T19:39:02.557Z"
   },
   {
    "duration": 32,
    "start_time": "2022-03-31T19:39:18.672Z"
   },
   {
    "duration": 33,
    "start_time": "2022-03-31T19:40:10.318Z"
   },
   {
    "duration": 31,
    "start_time": "2022-03-31T19:40:21.952Z"
   },
   {
    "duration": 34,
    "start_time": "2022-03-31T19:40:41.416Z"
   },
   {
    "duration": 35,
    "start_time": "2022-03-31T19:40:47.493Z"
   },
   {
    "duration": 13,
    "start_time": "2022-03-31T19:41:18.229Z"
   },
   {
    "duration": 33,
    "start_time": "2022-03-31T19:41:30.941Z"
   },
   {
    "duration": 33,
    "start_time": "2022-03-31T19:43:02.206Z"
   },
   {
    "duration": 35,
    "start_time": "2022-03-31T19:43:08.200Z"
   },
   {
    "duration": 143,
    "start_time": "2022-03-31T19:55:27.093Z"
   },
   {
    "duration": 138,
    "start_time": "2022-03-31T19:55:34.310Z"
   },
   {
    "duration": 42,
    "start_time": "2022-03-31T19:55:46.489Z"
   },
   {
    "duration": 230,
    "start_time": "2022-03-31T19:56:29.857Z"
   },
   {
    "duration": 41,
    "start_time": "2022-03-31T19:56:42.451Z"
   },
   {
    "duration": 41,
    "start_time": "2022-03-31T19:56:52.363Z"
   },
   {
    "duration": 41,
    "start_time": "2022-03-31T19:56:56.478Z"
   },
   {
    "duration": 24,
    "start_time": "2022-03-31T19:57:08.690Z"
   },
   {
    "duration": 3,
    "start_time": "2022-03-31T19:57:14.348Z"
   },
   {
    "duration": 71,
    "start_time": "2022-03-31T19:57:17.556Z"
   },
   {
    "duration": 23,
    "start_time": "2022-03-31T19:57:19.930Z"
   },
   {
    "duration": 37,
    "start_time": "2022-03-31T19:57:23.042Z"
   },
   {
    "duration": 21,
    "start_time": "2022-03-31T19:57:27.162Z"
   },
   {
    "duration": 195,
    "start_time": "2022-03-31T19:57:30.010Z"
   },
   {
    "duration": 926,
    "start_time": "2022-03-31T19:57:32.256Z"
   },
   {
    "duration": 23,
    "start_time": "2022-03-31T19:57:36.519Z"
   },
   {
    "duration": 25,
    "start_time": "2022-03-31T19:57:41.794Z"
   },
   {
    "duration": 3,
    "start_time": "2022-03-31T19:58:02.346Z"
   },
   {
    "duration": 80,
    "start_time": "2022-03-31T19:58:04.500Z"
   },
   {
    "duration": 24,
    "start_time": "2022-03-31T19:58:09.178Z"
   },
   {
    "duration": 38,
    "start_time": "2022-03-31T19:58:12.247Z"
   },
   {
    "duration": 23,
    "start_time": "2022-03-31T19:58:15.572Z"
   },
   {
    "duration": 194,
    "start_time": "2022-03-31T19:58:18.685Z"
   },
   {
    "duration": 874,
    "start_time": "2022-03-31T19:58:21.683Z"
   },
   {
    "duration": 26,
    "start_time": "2022-03-31T19:58:33.236Z"
   },
   {
    "duration": 1160,
    "start_time": "2022-03-31T19:58:49.932Z"
   },
   {
    "duration": 77,
    "start_time": "2022-03-31T19:58:52.703Z"
   },
   {
    "duration": 24,
    "start_time": "2022-03-31T19:58:56.133Z"
   },
   {
    "duration": 37,
    "start_time": "2022-03-31T19:58:58.908Z"
   },
   {
    "duration": 25,
    "start_time": "2022-03-31T19:59:01.973Z"
   },
   {
    "duration": 218,
    "start_time": "2022-03-31T19:59:04.324Z"
   },
   {
    "duration": 794,
    "start_time": "2022-03-31T19:59:06.326Z"
   },
   {
    "duration": 97,
    "start_time": "2022-03-31T19:59:09.448Z"
   },
   {
    "duration": 61,
    "start_time": "2022-03-31T19:59:40.348Z"
   },
   {
    "duration": 32,
    "start_time": "2022-03-31T20:11:08.282Z"
   },
   {
    "duration": 65,
    "start_time": "2022-03-31T20:11:53.080Z"
   },
   {
    "duration": 29,
    "start_time": "2022-03-31T20:12:37.777Z"
   },
   {
    "duration": 27,
    "start_time": "2022-03-31T20:12:45.513Z"
   },
   {
    "duration": 27,
    "start_time": "2022-03-31T20:12:57.505Z"
   },
   {
    "duration": 28,
    "start_time": "2022-03-31T20:13:00.878Z"
   },
   {
    "duration": 815,
    "start_time": "2022-03-31T20:13:06.738Z"
   },
   {
    "duration": 29,
    "start_time": "2022-03-31T20:13:10.688Z"
   },
   {
    "duration": 1185,
    "start_time": "2022-03-31T20:13:22.484Z"
   },
   {
    "duration": 82,
    "start_time": "2022-03-31T20:13:24.849Z"
   },
   {
    "duration": 25,
    "start_time": "2022-03-31T20:13:27.919Z"
   },
   {
    "duration": 37,
    "start_time": "2022-03-31T20:13:30.586Z"
   },
   {
    "duration": 25,
    "start_time": "2022-03-31T20:13:32.449Z"
   },
   {
    "duration": 214,
    "start_time": "2022-03-31T20:13:34.969Z"
   },
   {
    "duration": 789,
    "start_time": "2022-03-31T20:13:36.962Z"
   },
   {
    "duration": 51,
    "start_time": "2022-03-31T20:13:40.172Z"
   },
   {
    "duration": 21,
    "start_time": "2022-03-31T20:14:47.760Z"
   },
   {
    "duration": 21,
    "start_time": "2022-03-31T20:16:06.620Z"
   },
   {
    "duration": 46,
    "start_time": "2022-04-02T11:34:20.759Z"
   },
   {
    "duration": 1278,
    "start_time": "2022-04-02T11:34:36.070Z"
   },
   {
    "duration": 75,
    "start_time": "2022-04-02T11:34:38.428Z"
   },
   {
    "duration": 22,
    "start_time": "2022-04-02T11:34:42.460Z"
   },
   {
    "duration": 31,
    "start_time": "2022-04-02T11:34:45.606Z"
   },
   {
    "duration": 21,
    "start_time": "2022-04-02T11:34:47.958Z"
   },
   {
    "duration": 189,
    "start_time": "2022-04-02T11:34:50.460Z"
   },
   {
    "duration": 836,
    "start_time": "2022-04-02T11:34:52.594Z"
   },
   {
    "duration": 40,
    "start_time": "2022-04-02T11:34:57.320Z"
   },
   {
    "duration": 18,
    "start_time": "2022-04-02T11:35:03.539Z"
   },
   {
    "duration": 21,
    "start_time": "2022-04-02T11:35:12.989Z"
   },
   {
    "duration": 13,
    "start_time": "2022-04-02T11:36:38.526Z"
   },
   {
    "duration": 13,
    "start_time": "2022-04-02T11:37:27.791Z"
   },
   {
    "duration": 12,
    "start_time": "2022-04-02T11:38:11.216Z"
   },
   {
    "duration": 13,
    "start_time": "2022-04-02T11:38:29.885Z"
   },
   {
    "duration": 22,
    "start_time": "2022-04-02T11:39:00.812Z"
   },
   {
    "duration": 62,
    "start_time": "2022-04-02T11:40:02.101Z"
   },
   {
    "duration": 131,
    "start_time": "2022-04-02T11:41:09.071Z"
   },
   {
    "duration": 217,
    "start_time": "2022-04-02T11:44:59.665Z"
   },
   {
    "duration": 122,
    "start_time": "2022-04-02T11:45:43.174Z"
   },
   {
    "duration": 12,
    "start_time": "2022-04-02T11:47:06.100Z"
   },
   {
    "duration": 202,
    "start_time": "2022-04-02T11:57:15.024Z"
   },
   {
    "duration": 128,
    "start_time": "2022-04-02T12:01:16.540Z"
   },
   {
    "duration": 128,
    "start_time": "2022-04-02T12:01:28.543Z"
   },
   {
    "duration": 352,
    "start_time": "2022-04-02T12:03:12.629Z"
   },
   {
    "duration": 159,
    "start_time": "2022-04-02T12:03:43.704Z"
   },
   {
    "duration": 1538,
    "start_time": "2022-04-02T12:04:16.675Z"
   },
   {
    "duration": 169,
    "start_time": "2022-04-02T12:04:26.765Z"
   },
   {
    "duration": 159,
    "start_time": "2022-04-02T12:04:34.180Z"
   },
   {
    "duration": 227,
    "start_time": "2022-04-02T12:04:47.157Z"
   },
   {
    "duration": 224,
    "start_time": "2022-04-02T12:07:04.092Z"
   },
   {
    "duration": 222,
    "start_time": "2022-04-02T12:07:19.636Z"
   },
   {
    "duration": 219,
    "start_time": "2022-04-02T12:07:29.478Z"
   },
   {
    "duration": 366,
    "start_time": "2022-04-02T12:08:56.877Z"
   },
   {
    "duration": 435,
    "start_time": "2022-04-02T12:09:07.148Z"
   },
   {
    "duration": 456,
    "start_time": "2022-04-02T12:09:21.775Z"
   },
   {
    "duration": 623,
    "start_time": "2022-04-02T12:09:28.504Z"
   },
   {
    "duration": 466,
    "start_time": "2022-04-02T12:14:07.042Z"
   },
   {
    "duration": 539,
    "start_time": "2022-04-02T12:14:16.220Z"
   },
   {
    "duration": 3,
    "start_time": "2022-04-02T12:14:27.435Z"
   },
   {
    "duration": 69,
    "start_time": "2022-04-02T12:14:30.611Z"
   },
   {
    "duration": 23,
    "start_time": "2022-04-02T12:14:33.749Z"
   },
   {
    "duration": 33,
    "start_time": "2022-04-02T12:14:36.440Z"
   },
   {
    "duration": 19,
    "start_time": "2022-04-02T12:14:38.490Z"
   },
   {
    "duration": 308,
    "start_time": "2022-04-02T12:14:40.947Z"
   },
   {
    "duration": 752,
    "start_time": "2022-04-02T12:14:42.934Z"
   },
   {
    "duration": 39,
    "start_time": "2022-04-02T12:14:47.352Z"
   },
   {
    "duration": 20,
    "start_time": "2022-04-02T12:14:55.195Z"
   },
   {
    "duration": 20,
    "start_time": "2022-04-02T12:14:58.375Z"
   },
   {
    "duration": 13,
    "start_time": "2022-04-02T12:15:00.834Z"
   },
   {
    "duration": 25,
    "start_time": "2022-04-02T12:15:04.094Z"
   },
   {
    "duration": 421,
    "start_time": "2022-04-02T12:15:07.837Z"
   },
   {
    "duration": 456,
    "start_time": "2022-04-02T12:15:19.758Z"
   },
   {
    "duration": 23,
    "start_time": "2022-04-02T12:15:30.659Z"
   },
   {
    "duration": 461,
    "start_time": "2022-04-02T12:15:32.969Z"
   },
   {
    "duration": 3,
    "start_time": "2022-04-02T12:15:43.708Z"
   },
   {
    "duration": 82,
    "start_time": "2022-04-02T12:15:46.369Z"
   },
   {
    "duration": 21,
    "start_time": "2022-04-02T12:15:49.852Z"
   },
   {
    "duration": 34,
    "start_time": "2022-04-02T12:15:53.755Z"
   },
   {
    "duration": 19,
    "start_time": "2022-04-02T12:15:55.561Z"
   },
   {
    "duration": 190,
    "start_time": "2022-04-02T12:15:59.184Z"
   },
   {
    "duration": 894,
    "start_time": "2022-04-02T12:16:01.437Z"
   },
   {
    "duration": 44,
    "start_time": "2022-04-02T12:16:04.182Z"
   },
   {
    "duration": 19,
    "start_time": "2022-04-02T12:16:06.996Z"
   },
   {
    "duration": 19,
    "start_time": "2022-04-02T12:16:10.005Z"
   },
   {
    "duration": 14,
    "start_time": "2022-04-02T12:16:12.191Z"
   },
   {
    "duration": 24,
    "start_time": "2022-04-02T12:16:14.201Z"
   },
   {
    "duration": 428,
    "start_time": "2022-04-02T12:16:17.417Z"
   },
   {
    "duration": 7,
    "start_time": "2022-04-02T12:26:35.223Z"
   },
   {
    "duration": 7,
    "start_time": "2022-04-02T12:27:05.811Z"
   },
   {
    "duration": 6,
    "start_time": "2022-04-02T12:27:30.648Z"
   },
   {
    "duration": 17,
    "start_time": "2022-04-02T12:28:18.300Z"
   },
   {
    "duration": 237,
    "start_time": "2022-04-02T12:28:30.709Z"
   },
   {
    "duration": 7,
    "start_time": "2022-04-02T12:28:50.419Z"
   },
   {
    "duration": 1003,
    "start_time": "2022-04-02T12:29:44.387Z"
   },
   {
    "duration": 16,
    "start_time": "2022-04-02T12:30:13.339Z"
   },
   {
    "duration": 18,
    "start_time": "2022-04-02T12:33:02.975Z"
   },
   {
    "duration": 123,
    "start_time": "2022-04-02T12:33:16.033Z"
   },
   {
    "duration": 170,
    "start_time": "2022-04-02T12:33:33.181Z"
   },
   {
    "duration": 160,
    "start_time": "2022-04-02T12:33:39.493Z"
   },
   {
    "duration": 10861,
    "start_time": "2022-04-02T12:35:13.999Z"
   },
   {
    "duration": 332,
    "start_time": "2022-04-02T12:35:58.640Z"
   },
   {
    "duration": 329,
    "start_time": "2022-04-02T12:37:08.208Z"
   },
   {
    "duration": 327,
    "start_time": "2022-04-02T12:37:30.341Z"
   },
   {
    "duration": 430,
    "start_time": "2022-04-02T12:38:16.730Z"
   },
   {
    "duration": 346,
    "start_time": "2022-04-02T12:39:04.918Z"
   },
   {
    "duration": 501,
    "start_time": "2022-04-02T12:42:33.090Z"
   },
   {
    "duration": 346,
    "start_time": "2022-04-02T12:43:25.383Z"
   },
   {
    "duration": 3,
    "start_time": "2022-04-02T12:48:53.118Z"
   },
   {
    "duration": 9,
    "start_time": "2022-04-02T12:51:56.302Z"
   },
   {
    "duration": 10,
    "start_time": "2022-04-02T12:52:04.406Z"
   },
   {
    "duration": 33,
    "start_time": "2022-04-02T12:52:20.487Z"
   },
   {
    "duration": 31,
    "start_time": "2022-04-02T12:53:17.059Z"
   },
   {
    "duration": 10,
    "start_time": "2022-04-02T12:53:37.436Z"
   },
   {
    "duration": 29,
    "start_time": "2022-04-02T12:53:47.750Z"
   },
   {
    "duration": 31,
    "start_time": "2022-04-02T12:54:03.466Z"
   },
   {
    "duration": 29,
    "start_time": "2022-04-02T12:54:29.470Z"
   },
   {
    "duration": 16,
    "start_time": "2022-04-02T12:55:17.740Z"
   },
   {
    "duration": 8,
    "start_time": "2022-04-02T12:55:32.262Z"
   },
   {
    "duration": 15,
    "start_time": "2022-04-02T12:56:14.162Z"
   },
   {
    "duration": 11,
    "start_time": "2022-04-02T12:56:19.247Z"
   },
   {
    "duration": 8,
    "start_time": "2022-04-02T12:56:48.823Z"
   },
   {
    "duration": 10,
    "start_time": "2022-04-02T12:58:11.688Z"
   },
   {
    "duration": 189,
    "start_time": "2022-04-02T12:59:38.226Z"
   },
   {
    "duration": 201,
    "start_time": "2022-04-02T12:59:56.837Z"
   },
   {
    "duration": 201,
    "start_time": "2022-04-02T13:00:22.557Z"
   },
   {
    "duration": 11,
    "start_time": "2022-04-02T13:00:40.304Z"
   },
   {
    "duration": 10,
    "start_time": "2022-04-02T13:00:48.759Z"
   },
   {
    "duration": 10,
    "start_time": "2022-04-02T13:01:52.045Z"
   },
   {
    "duration": 11,
    "start_time": "2022-04-02T13:02:04.599Z"
   },
   {
    "duration": 11,
    "start_time": "2022-04-02T13:02:14.498Z"
   },
   {
    "duration": 11,
    "start_time": "2022-04-02T13:02:46.267Z"
   },
   {
    "duration": 10,
    "start_time": "2022-04-02T13:04:27.817Z"
   },
   {
    "duration": 11,
    "start_time": "2022-04-02T13:04:39.107Z"
   },
   {
    "duration": 11,
    "start_time": "2022-04-02T13:10:38.819Z"
   },
   {
    "duration": 11,
    "start_time": "2022-04-02T13:10:46.727Z"
   },
   {
    "duration": 16,
    "start_time": "2022-04-02T13:10:57.654Z"
   },
   {
    "duration": 11,
    "start_time": "2022-04-02T13:11:02.549Z"
   },
   {
    "duration": 15,
    "start_time": "2022-04-02T13:11:37.610Z"
   },
   {
    "duration": 10,
    "start_time": "2022-04-02T13:11:41.919Z"
   },
   {
    "duration": 3,
    "start_time": "2022-04-02T13:11:55.930Z"
   },
   {
    "duration": 69,
    "start_time": "2022-04-02T13:11:58.685Z"
   },
   {
    "duration": 22,
    "start_time": "2022-04-02T13:12:02.036Z"
   },
   {
    "duration": 17,
    "start_time": "2022-04-02T13:12:35.251Z"
   },
   {
    "duration": 16,
    "start_time": "2022-04-02T13:12:41.959Z"
   },
   {
    "duration": 16,
    "start_time": "2022-04-02T13:13:03.107Z"
   },
   {
    "duration": 33,
    "start_time": "2022-04-02T13:13:05.673Z"
   },
   {
    "duration": 20,
    "start_time": "2022-04-02T13:13:07.526Z"
   },
   {
    "duration": 184,
    "start_time": "2022-04-02T13:13:10.405Z"
   },
   {
    "duration": 738,
    "start_time": "2022-04-02T13:13:12.417Z"
   },
   {
    "duration": 44,
    "start_time": "2022-04-02T13:13:14.567Z"
   },
   {
    "duration": 19,
    "start_time": "2022-04-02T13:13:17.320Z"
   },
   {
    "duration": 19,
    "start_time": "2022-04-02T13:13:19.549Z"
   },
   {
    "duration": 14,
    "start_time": "2022-04-02T13:13:22.060Z"
   },
   {
    "duration": 23,
    "start_time": "2022-04-02T13:13:23.899Z"
   },
   {
    "duration": 489,
    "start_time": "2022-04-02T13:13:25.330Z"
   },
   {
    "duration": 336,
    "start_time": "2022-04-02T13:13:29.656Z"
   },
   {
    "duration": 10,
    "start_time": "2022-04-02T13:13:34.721Z"
   },
   {
    "duration": 18,
    "start_time": "2022-04-02T13:19:22.694Z"
   },
   {
    "duration": 18,
    "start_time": "2022-04-02T13:20:03.662Z"
   },
   {
    "duration": 3,
    "start_time": "2022-04-02T13:20:08.418Z"
   },
   {
    "duration": 72,
    "start_time": "2022-04-02T13:20:10.596Z"
   },
   {
    "duration": 19,
    "start_time": "2022-04-02T13:20:22.150Z"
   },
   {
    "duration": 35,
    "start_time": "2022-04-02T13:20:51.109Z"
   },
   {
    "duration": 19,
    "start_time": "2022-04-02T13:20:53.378Z"
   },
   {
    "duration": 170,
    "start_time": "2022-04-02T13:20:55.610Z"
   },
   {
    "duration": 727,
    "start_time": "2022-04-02T13:20:57.797Z"
   },
   {
    "duration": 42,
    "start_time": "2022-04-02T13:21:00.370Z"
   },
   {
    "duration": 19,
    "start_time": "2022-04-02T13:21:02.794Z"
   },
   {
    "duration": 19,
    "start_time": "2022-04-02T13:21:04.954Z"
   },
   {
    "duration": 13,
    "start_time": "2022-04-02T13:21:07.069Z"
   },
   {
    "duration": 23,
    "start_time": "2022-04-02T13:21:09.089Z"
   },
   {
    "duration": 458,
    "start_time": "2022-04-02T13:21:11.012Z"
   },
   {
    "duration": 360,
    "start_time": "2022-04-02T13:21:14.869Z"
   },
   {
    "duration": 10,
    "start_time": "2022-04-02T13:21:24.924Z"
   },
   {
    "duration": 17,
    "start_time": "2022-04-02T13:22:45.686Z"
   },
   {
    "duration": 17,
    "start_time": "2022-04-02T13:22:48.104Z"
   },
   {
    "duration": 3,
    "start_time": "2022-04-02T13:22:54.827Z"
   },
   {
    "duration": 80,
    "start_time": "2022-04-02T13:22:57.040Z"
   },
   {
    "duration": 23,
    "start_time": "2022-04-02T13:23:00.455Z"
   },
   {
    "duration": 35,
    "start_time": "2022-04-02T13:23:28.369Z"
   },
   {
    "duration": 19,
    "start_time": "2022-04-02T13:23:30.935Z"
   },
   {
    "duration": 172,
    "start_time": "2022-04-02T13:23:33.777Z"
   },
   {
    "duration": 923,
    "start_time": "2022-04-02T13:23:35.973Z"
   },
   {
    "duration": 40,
    "start_time": "2022-04-02T13:23:39.824Z"
   },
   {
    "duration": 18,
    "start_time": "2022-04-02T13:23:42.579Z"
   },
   {
    "duration": 17,
    "start_time": "2022-04-02T13:23:44.970Z"
   },
   {
    "duration": 12,
    "start_time": "2022-04-02T13:23:49.650Z"
   },
   {
    "duration": 25,
    "start_time": "2022-04-02T13:23:51.958Z"
   },
   {
    "duration": 458,
    "start_time": "2022-04-02T13:23:58.709Z"
   },
   {
    "duration": 357,
    "start_time": "2022-04-02T13:24:04.187Z"
   },
   {
    "duration": 11,
    "start_time": "2022-04-02T13:24:12.463Z"
   },
   {
    "duration": 14,
    "start_time": "2022-04-02T13:32:12.141Z"
   },
   {
    "duration": 306,
    "start_time": "2022-04-02T13:33:40.415Z"
   },
   {
    "duration": 3195,
    "start_time": "2022-04-02T13:34:26.299Z"
   },
   {
    "duration": 153,
    "start_time": "2022-04-02T13:35:35.901Z"
   },
   {
    "duration": 152,
    "start_time": "2022-04-02T13:36:03.056Z"
   },
   {
    "duration": 23,
    "start_time": "2022-04-02T13:36:19.360Z"
   },
   {
    "duration": 5255,
    "start_time": "2022-04-02T13:36:43.325Z"
   },
   {
    "duration": 162,
    "start_time": "2022-04-02T13:37:41.715Z"
   },
   {
    "duration": 139,
    "start_time": "2022-04-02T13:38:41.157Z"
   },
   {
    "duration": 164,
    "start_time": "2022-04-02T13:38:52.676Z"
   },
   {
    "duration": 200,
    "start_time": "2022-04-02T13:39:00.101Z"
   },
   {
    "duration": 162,
    "start_time": "2022-04-02T13:39:57.739Z"
   },
   {
    "duration": 10,
    "start_time": "2022-04-02T13:52:17.275Z"
   },
   {
    "duration": 14,
    "start_time": "2022-04-02T13:52:34.355Z"
   },
   {
    "duration": 16,
    "start_time": "2022-04-02T13:53:13.492Z"
   },
   {
    "duration": 14,
    "start_time": "2022-04-02T13:53:58.949Z"
   },
   {
    "duration": 26,
    "start_time": "2022-04-02T15:11:28.166Z"
   },
   {
    "duration": 21,
    "start_time": "2022-04-02T15:12:32.603Z"
   },
   {
    "duration": 24,
    "start_time": "2022-04-02T15:13:09.653Z"
   },
   {
    "duration": 28,
    "start_time": "2022-04-02T15:15:22.737Z"
   },
   {
    "duration": 33,
    "start_time": "2022-04-02T15:15:40.750Z"
   },
   {
    "duration": 204,
    "start_time": "2022-04-02T15:19:00.015Z"
   },
   {
    "duration": 35,
    "start_time": "2022-04-02T15:22:48.927Z"
   },
   {
    "duration": 30,
    "start_time": "2022-04-02T15:24:54.983Z"
   },
   {
    "duration": 50,
    "start_time": "2022-04-03T08:44:52.751Z"
   },
   {
    "duration": 1298,
    "start_time": "2022-04-03T08:45:33.758Z"
   },
   {
    "duration": 85,
    "start_time": "2022-04-03T08:45:35.981Z"
   },
   {
    "duration": 23,
    "start_time": "2022-04-03T08:45:40.009Z"
   },
   {
    "duration": 21,
    "start_time": "2022-04-03T08:45:41.943Z"
   },
   {
    "duration": 41,
    "start_time": "2022-04-03T08:45:44.212Z"
   },
   {
    "duration": 25,
    "start_time": "2022-04-03T08:45:46.320Z"
   },
   {
    "duration": 235,
    "start_time": "2022-04-03T08:45:48.437Z"
   },
   {
    "duration": 882,
    "start_time": "2022-04-03T08:45:50.312Z"
   },
   {
    "duration": 51,
    "start_time": "2022-04-03T08:45:53.548Z"
   },
   {
    "duration": 22,
    "start_time": "2022-04-03T08:45:56.357Z"
   },
   {
    "duration": 22,
    "start_time": "2022-04-03T08:45:58.699Z"
   },
   {
    "duration": 16,
    "start_time": "2022-04-03T08:46:00.611Z"
   },
   {
    "duration": 26,
    "start_time": "2022-04-03T08:46:02.656Z"
   },
   {
    "duration": 507,
    "start_time": "2022-04-03T08:46:05.181Z"
   },
   {
    "duration": 393,
    "start_time": "2022-04-03T08:46:09.049Z"
   },
   {
    "duration": 12,
    "start_time": "2022-04-03T08:46:13.179Z"
   },
   {
    "duration": 187,
    "start_time": "2022-04-03T08:46:19.066Z"
   },
   {
    "duration": 39,
    "start_time": "2022-04-03T08:46:23.698Z"
   },
   {
    "duration": 38,
    "start_time": "2022-04-03T08:46:25.734Z"
   },
   {
    "duration": 38,
    "start_time": "2022-04-03T08:46:28.237Z"
   },
   {
    "duration": 24,
    "start_time": "2022-04-03T08:46:31.593Z"
   },
   {
    "duration": 26,
    "start_time": "2022-04-03T08:47:39.294Z"
   },
   {
    "duration": 26,
    "start_time": "2022-04-03T08:48:18.082Z"
   },
   {
    "duration": 27,
    "start_time": "2022-04-03T08:55:26.973Z"
   },
   {
    "duration": 26,
    "start_time": "2022-04-03T08:55:36.791Z"
   },
   {
    "duration": 27,
    "start_time": "2022-04-03T08:55:48.376Z"
   },
   {
    "duration": 25,
    "start_time": "2022-04-03T08:55:58.461Z"
   },
   {
    "duration": 12,
    "start_time": "2022-04-03T08:57:23.082Z"
   },
   {
    "duration": 42,
    "start_time": "2022-04-07T17:41:43.153Z"
   },
   {
    "duration": 1246,
    "start_time": "2022-04-07T17:41:57.553Z"
   },
   {
    "duration": 74,
    "start_time": "2022-04-07T17:41:59.543Z"
   },
   {
    "duration": 17,
    "start_time": "2022-04-07T17:42:03.139Z"
   },
   {
    "duration": 35,
    "start_time": "2022-04-07T17:42:05.822Z"
   },
   {
    "duration": 20,
    "start_time": "2022-04-07T17:42:08.218Z"
   },
   {
    "duration": 183,
    "start_time": "2022-04-07T17:42:10.656Z"
   },
   {
    "duration": 773,
    "start_time": "2022-04-07T17:42:13.156Z"
   },
   {
    "duration": 40,
    "start_time": "2022-04-07T17:42:17.089Z"
   },
   {
    "duration": 18,
    "start_time": "2022-04-07T17:42:19.706Z"
   },
   {
    "duration": 18,
    "start_time": "2022-04-07T17:42:22.488Z"
   },
   {
    "duration": 12,
    "start_time": "2022-04-07T17:42:24.910Z"
   },
   {
    "duration": 22,
    "start_time": "2022-04-07T17:42:26.940Z"
   },
   {
    "duration": 408,
    "start_time": "2022-04-07T17:42:36.174Z"
   },
   {
    "duration": 317,
    "start_time": "2022-04-07T17:42:40.229Z"
   },
   {
    "duration": 9,
    "start_time": "2022-04-07T17:42:46.804Z"
   },
   {
    "duration": 152,
    "start_time": "2022-04-07T17:43:02.638Z"
   },
   {
    "duration": 32,
    "start_time": "2022-04-07T17:43:09.378Z"
   },
   {
    "duration": 31,
    "start_time": "2022-04-07T17:43:11.912Z"
   },
   {
    "duration": 31,
    "start_time": "2022-04-07T17:43:13.927Z"
   },
   {
    "duration": 24,
    "start_time": "2022-04-07T17:43:16.517Z"
   },
   {
    "duration": 77,
    "start_time": "2022-04-07T17:43:19.471Z"
   },
   {
    "duration": 276,
    "start_time": "2022-04-07T17:44:16.951Z"
   },
   {
    "duration": 76,
    "start_time": "2022-04-07T17:44:42.865Z"
   },
   {
    "duration": 73,
    "start_time": "2022-04-07T17:45:27.673Z"
   },
   {
    "duration": 70,
    "start_time": "2022-04-07T17:45:53.080Z"
   },
   {
    "duration": 73,
    "start_time": "2022-04-07T17:47:28.982Z"
   },
   {
    "duration": 55,
    "start_time": "2022-04-07T17:55:25.009Z"
   },
   {
    "duration": 1441,
    "start_time": "2022-04-07T17:57:57.333Z"
   },
   {
    "duration": 282,
    "start_time": "2022-04-07T17:59:09.376Z"
   },
   {
    "duration": 292,
    "start_time": "2022-04-07T17:59:45.244Z"
   },
   {
    "duration": 380,
    "start_time": "2022-04-07T18:00:17.955Z"
   },
   {
    "duration": 277,
    "start_time": "2022-04-07T18:01:42.536Z"
   },
   {
    "duration": 276,
    "start_time": "2022-04-07T18:01:57.205Z"
   },
   {
    "duration": 296,
    "start_time": "2022-04-07T18:02:42.942Z"
   },
   {
    "duration": 325,
    "start_time": "2022-04-07T18:02:56.778Z"
   },
   {
    "duration": 664,
    "start_time": "2022-04-07T18:03:31.191Z"
   },
   {
    "duration": 430,
    "start_time": "2022-04-07T18:03:40.061Z"
   },
   {
    "duration": 327,
    "start_time": "2022-04-07T18:03:47.587Z"
   },
   {
    "duration": 372,
    "start_time": "2022-04-07T18:03:57.813Z"
   },
   {
    "duration": 613,
    "start_time": "2022-04-07T18:05:14.822Z"
   },
   {
    "duration": 492,
    "start_time": "2022-04-07T18:08:08.318Z"
   },
   {
    "duration": 3,
    "start_time": "2022-04-07T18:08:49.299Z"
   },
   {
    "duration": 697,
    "start_time": "2022-04-07T18:08:57.654Z"
   },
   {
    "duration": 509,
    "start_time": "2022-04-07T18:10:06.633Z"
   },
   {
    "duration": 117,
    "start_time": "2022-04-07T18:14:11.237Z"
   },
   {
    "duration": 115,
    "start_time": "2022-04-07T18:14:22.343Z"
   },
   {
    "duration": 376,
    "start_time": "2022-04-07T18:14:36.094Z"
   },
   {
    "duration": 188,
    "start_time": "2022-04-07T18:17:36.729Z"
   },
   {
    "duration": 186,
    "start_time": "2022-04-07T18:18:08.714Z"
   },
   {
    "duration": 196,
    "start_time": "2022-04-07T18:19:00.864Z"
   },
   {
    "duration": 484,
    "start_time": "2022-04-07T18:19:23.407Z"
   },
   {
    "duration": 1285,
    "start_time": "2022-04-07T18:19:53.745Z"
   },
   {
    "duration": 1292,
    "start_time": "2022-04-07T18:20:29.903Z"
   },
   {
    "duration": 1153,
    "start_time": "2022-04-07T18:20:53.533Z"
   },
   {
    "duration": 1403,
    "start_time": "2022-04-07T18:22:26.479Z"
   },
   {
    "duration": 74,
    "start_time": "2022-04-07T18:30:56.316Z"
   },
   {
    "duration": 109,
    "start_time": "2022-04-07T18:31:42.639Z"
   },
   {
    "duration": 1129,
    "start_time": "2022-04-07T18:31:54.978Z"
   },
   {
    "duration": 50,
    "start_time": "2022-04-09T18:08:23.051Z"
   },
   {
    "duration": 1290,
    "start_time": "2022-04-09T18:08:42.267Z"
   },
   {
    "duration": 74,
    "start_time": "2022-04-09T18:08:46.974Z"
   },
   {
    "duration": 19,
    "start_time": "2022-04-09T18:08:49.637Z"
   },
   {
    "duration": 17,
    "start_time": "2022-04-09T18:08:51.453Z"
   },
   {
    "duration": 31,
    "start_time": "2022-04-09T18:08:53.970Z"
   },
   {
    "duration": 23,
    "start_time": "2022-04-09T18:08:56.145Z"
   },
   {
    "duration": 203,
    "start_time": "2022-04-09T18:08:58.940Z"
   },
   {
    "duration": 733,
    "start_time": "2022-04-09T18:09:01.321Z"
   },
   {
    "duration": 42,
    "start_time": "2022-04-09T18:09:07.812Z"
   },
   {
    "duration": 26,
    "start_time": "2022-04-09T18:09:10.710Z"
   },
   {
    "duration": 26,
    "start_time": "2022-04-09T18:09:13.776Z"
   },
   {
    "duration": 13,
    "start_time": "2022-04-09T18:09:16.535Z"
   },
   {
    "duration": 24,
    "start_time": "2022-04-09T18:09:19.308Z"
   },
   {
    "duration": 454,
    "start_time": "2022-04-09T18:09:35.666Z"
   },
   {
    "duration": 326,
    "start_time": "2022-04-09T18:09:43.538Z"
   },
   {
    "duration": 9,
    "start_time": "2022-04-09T18:09:59.682Z"
   },
   {
    "duration": 169,
    "start_time": "2022-04-09T18:10:06.705Z"
   },
   {
    "duration": 39,
    "start_time": "2022-04-09T18:10:14.977Z"
   },
   {
    "duration": 31,
    "start_time": "2022-04-09T18:10:22.083Z"
   },
   {
    "duration": 32,
    "start_time": "2022-04-09T18:10:28.091Z"
   },
   {
    "duration": 25,
    "start_time": "2022-04-09T18:10:30.521Z"
   },
   {
    "duration": 11,
    "start_time": "2022-04-09T18:10:37.568Z"
   },
   {
    "duration": 81,
    "start_time": "2022-04-09T18:10:45.650Z"
   },
   {
    "duration": 79,
    "start_time": "2022-04-09T18:10:49.751Z"
   },
   {
    "duration": 2424,
    "start_time": "2022-04-09T18:10:54.129Z"
   },
   {
    "duration": 3239,
    "start_time": "2022-04-09T18:11:41.466Z"
   },
   {
    "duration": 1676,
    "start_time": "2022-04-09T18:12:14.227Z"
   },
   {
    "duration": 1826,
    "start_time": "2022-04-09T18:12:47.191Z"
   },
   {
    "duration": 1820,
    "start_time": "2022-04-09T18:13:09.553Z"
   },
   {
    "duration": 1577,
    "start_time": "2022-04-09T18:13:47.052Z"
   },
   {
    "duration": 1622,
    "start_time": "2022-04-09T18:13:56.721Z"
   },
   {
    "duration": 7,
    "start_time": "2022-04-09T18:32:11.312Z"
   },
   {
    "duration": 11,
    "start_time": "2022-04-09T18:33:25.374Z"
   },
   {
    "duration": 9,
    "start_time": "2022-04-09T18:33:49.677Z"
   },
   {
    "duration": 11,
    "start_time": "2022-04-09T18:33:53.127Z"
   },
   {
    "duration": 16,
    "start_time": "2022-04-09T18:34:28.410Z"
   },
   {
    "duration": 15,
    "start_time": "2022-04-09T18:35:26.372Z"
   },
   {
    "duration": 13,
    "start_time": "2022-04-09T18:35:34.482Z"
   },
   {
    "duration": 11,
    "start_time": "2022-04-09T18:35:48.688Z"
   },
   {
    "duration": 17,
    "start_time": "2022-04-09T18:36:08.305Z"
   },
   {
    "duration": 13,
    "start_time": "2022-04-09T18:36:11.880Z"
   },
   {
    "duration": 17,
    "start_time": "2022-04-09T18:36:45.553Z"
   },
   {
    "duration": 20,
    "start_time": "2022-04-09T18:37:12.308Z"
   },
   {
    "duration": 17,
    "start_time": "2022-04-09T18:39:47.173Z"
   },
   {
    "duration": 14,
    "start_time": "2022-04-09T18:42:37.530Z"
   },
   {
    "duration": 15,
    "start_time": "2022-04-09T18:42:46.286Z"
   },
   {
    "duration": 14,
    "start_time": "2022-04-09T18:42:58.271Z"
   },
   {
    "duration": 14,
    "start_time": "2022-04-09T18:43:15.399Z"
   },
   {
    "duration": 14,
    "start_time": "2022-04-09T18:43:37.160Z"
   },
   {
    "duration": 14,
    "start_time": "2022-04-09T18:44:08.302Z"
   },
   {
    "duration": 15,
    "start_time": "2022-04-09T18:44:18.364Z"
   },
   {
    "duration": 14,
    "start_time": "2022-04-09T18:45:28.512Z"
   },
   {
    "duration": 14,
    "start_time": "2022-04-09T18:45:37.831Z"
   },
   {
    "duration": 14,
    "start_time": "2022-04-09T18:45:54.736Z"
   },
   {
    "duration": 14,
    "start_time": "2022-04-09T18:46:41.118Z"
   },
   {
    "duration": 14,
    "start_time": "2022-04-09T18:46:49.259Z"
   },
   {
    "duration": 14,
    "start_time": "2022-04-09T18:46:55.812Z"
   },
   {
    "duration": 14,
    "start_time": "2022-04-09T18:47:05.277Z"
   },
   {
    "duration": 14,
    "start_time": "2022-04-09T18:47:49.153Z"
   },
   {
    "duration": 13,
    "start_time": "2022-04-09T18:47:54.632Z"
   },
   {
    "duration": 9,
    "start_time": "2022-04-09T18:49:40.546Z"
   },
   {
    "duration": 16,
    "start_time": "2022-04-09T18:50:40.467Z"
   },
   {
    "duration": 15,
    "start_time": "2022-04-09T18:50:59.877Z"
   },
   {
    "duration": 13,
    "start_time": "2022-04-09T18:51:03.488Z"
   },
   {
    "duration": 13,
    "start_time": "2022-04-09T18:51:44.762Z"
   },
   {
    "duration": 19,
    "start_time": "2022-04-09T18:52:14.507Z"
   },
   {
    "duration": 13,
    "start_time": "2022-04-09T18:52:44.441Z"
   },
   {
    "duration": 1160,
    "start_time": "2022-04-09T19:03:08.985Z"
   },
   {
    "duration": 81,
    "start_time": "2022-04-09T19:03:11.311Z"
   },
   {
    "duration": 21,
    "start_time": "2022-04-09T19:03:13.780Z"
   },
   {
    "duration": 23,
    "start_time": "2022-04-09T19:03:16.045Z"
   },
   {
    "duration": 36,
    "start_time": "2022-04-09T19:03:18.938Z"
   },
   {
    "duration": 22,
    "start_time": "2022-04-09T19:03:21.529Z"
   },
   {
    "duration": 192,
    "start_time": "2022-04-09T19:03:24.218Z"
   },
   {
    "duration": 709,
    "start_time": "2022-04-09T19:03:26.757Z"
   },
   {
    "duration": 45,
    "start_time": "2022-04-09T19:03:29.821Z"
   },
   {
    "duration": 20,
    "start_time": "2022-04-09T19:03:32.279Z"
   },
   {
    "duration": 21,
    "start_time": "2022-04-09T19:03:34.949Z"
   },
   {
    "duration": 15,
    "start_time": "2022-04-09T19:03:37.250Z"
   },
   {
    "duration": 23,
    "start_time": "2022-04-09T19:03:39.501Z"
   },
   {
    "duration": 431,
    "start_time": "2022-04-09T19:03:43.559Z"
   },
   {
    "duration": 336,
    "start_time": "2022-04-09T19:03:47.589Z"
   },
   {
    "duration": 9,
    "start_time": "2022-04-09T19:03:51.399Z"
   },
   {
    "duration": 11,
    "start_time": "2022-04-09T19:03:54.517Z"
   },
   {
    "duration": 9,
    "start_time": "2022-04-09T19:03:56.289Z"
   },
   {
    "duration": 10,
    "start_time": "2022-04-09T19:03:58.096Z"
   },
   {
    "duration": 183,
    "start_time": "2022-04-09T19:04:00.288Z"
   },
   {
    "duration": 34,
    "start_time": "2022-04-09T19:04:04.064Z"
   },
   {
    "duration": 34,
    "start_time": "2022-04-09T19:04:06.833Z"
   },
   {
    "duration": 35,
    "start_time": "2022-04-09T19:04:09.391Z"
   },
   {
    "duration": 25,
    "start_time": "2022-04-09T19:04:11.819Z"
   },
   {
    "duration": 11,
    "start_time": "2022-04-09T19:04:14.848Z"
   },
   {
    "duration": 92,
    "start_time": "2022-04-09T19:04:22.895Z"
   },
   {
    "duration": 10,
    "start_time": "2022-04-09T19:04:33.275Z"
   },
   {
    "duration": 1129,
    "start_time": "2022-04-09T19:04:46.116Z"
   },
   {
    "duration": 78,
    "start_time": "2022-04-09T19:04:48.540Z"
   },
   {
    "duration": 18,
    "start_time": "2022-04-09T19:04:50.968Z"
   },
   {
    "duration": 19,
    "start_time": "2022-04-09T19:04:54.594Z"
   },
   {
    "duration": 35,
    "start_time": "2022-04-09T19:04:57.600Z"
   },
   {
    "duration": 20,
    "start_time": "2022-04-09T19:04:59.833Z"
   },
   {
    "duration": 198,
    "start_time": "2022-04-09T19:05:02.347Z"
   },
   {
    "duration": 761,
    "start_time": "2022-04-09T19:05:04.629Z"
   },
   {
    "duration": 45,
    "start_time": "2022-04-09T19:05:08.276Z"
   },
   {
    "duration": 20,
    "start_time": "2022-04-09T19:05:10.806Z"
   },
   {
    "duration": 21,
    "start_time": "2022-04-09T19:05:13.447Z"
   },
   {
    "duration": 13,
    "start_time": "2022-04-09T19:05:15.606Z"
   },
   {
    "duration": 23,
    "start_time": "2022-04-09T19:05:18.126Z"
   },
   {
    "duration": 441,
    "start_time": "2022-04-09T19:05:21.532Z"
   },
   {
    "duration": 354,
    "start_time": "2022-04-09T19:05:25.325Z"
   },
   {
    "duration": 12,
    "start_time": "2022-04-09T19:05:29.348Z"
   },
   {
    "duration": 10,
    "start_time": "2022-04-09T19:05:31.678Z"
   },
   {
    "duration": 10,
    "start_time": "2022-04-09T19:05:33.544Z"
   },
   {
    "duration": 9,
    "start_time": "2022-04-09T19:05:35.082Z"
   },
   {
    "duration": 163,
    "start_time": "2022-04-09T19:05:37.324Z"
   },
   {
    "duration": 33,
    "start_time": "2022-04-09T19:05:41.637Z"
   },
   {
    "duration": 35,
    "start_time": "2022-04-09T19:05:44.709Z"
   },
   {
    "duration": 32,
    "start_time": "2022-04-09T19:05:47.475Z"
   },
   {
    "duration": 23,
    "start_time": "2022-04-09T19:05:50.646Z"
   },
   {
    "duration": 10,
    "start_time": "2022-04-09T19:05:53.776Z"
   },
   {
    "duration": 81,
    "start_time": "2022-04-09T19:05:58.358Z"
   },
   {
    "duration": 88,
    "start_time": "2022-04-09T19:06:01.052Z"
   },
   {
    "duration": 1476,
    "start_time": "2022-04-09T19:06:03.257Z"
   },
   {
    "duration": 14,
    "start_time": "2022-04-09T19:06:08.795Z"
   },
   {
    "duration": 15,
    "start_time": "2022-04-09T19:06:11.989Z"
   },
   {
    "duration": 1784,
    "start_time": "2022-04-20T16:42:41.283Z"
   },
   {
    "duration": 31,
    "start_time": "2022-04-20T16:43:03.952Z"
   },
   {
    "duration": 18,
    "start_time": "2022-04-20T16:43:19.935Z"
   },
   {
    "duration": 11,
    "start_time": "2022-04-20T16:43:56.763Z"
   },
   {
    "duration": 5,
    "start_time": "2022-04-20T16:56:11.653Z"
   },
   {
    "duration": 5,
    "start_time": "2022-04-20T17:01:27.738Z"
   },
   {
    "duration": 96,
    "start_time": "2022-04-20T17:01:54.183Z"
   },
   {
    "duration": 191,
    "start_time": "2022-04-20T17:02:07.901Z"
   },
   {
    "duration": 4,
    "start_time": "2022-04-20T17:02:21.014Z"
   },
   {
    "duration": 9,
    "start_time": "2022-04-20T17:09:02.291Z"
   },
   {
    "duration": 5,
    "start_time": "2022-04-20T17:09:10.969Z"
   },
   {
    "duration": 4,
    "start_time": "2022-04-20T17:09:13.388Z"
   },
   {
    "duration": 5,
    "start_time": "2022-04-20T17:09:14.833Z"
   },
   {
    "duration": 4,
    "start_time": "2022-04-20T17:10:01.877Z"
   },
   {
    "duration": 4,
    "start_time": "2022-04-20T17:11:34.107Z"
   },
   {
    "duration": 3,
    "start_time": "2022-04-20T17:11:38.258Z"
   },
   {
    "duration": 19,
    "start_time": "2022-04-20T17:11:40.536Z"
   },
   {
    "duration": 13,
    "start_time": "2022-04-20T17:11:42.362Z"
   },
   {
    "duration": 10,
    "start_time": "2022-04-20T17:11:44.893Z"
   },
   {
    "duration": 5,
    "start_time": "2022-04-20T17:11:46.798Z"
   },
   {
    "duration": 3,
    "start_time": "2022-04-20T17:11:48.496Z"
   },
   {
    "duration": 5,
    "start_time": "2022-04-20T17:11:50.123Z"
   },
   {
    "duration": 4,
    "start_time": "2022-04-20T17:11:52.020Z"
   },
   {
    "duration": 53,
    "start_time": "2022-04-24T14:40:02.690Z"
   },
   {
    "duration": 1322,
    "start_time": "2022-04-24T14:40:14.297Z"
   },
   {
    "duration": 20,
    "start_time": "2022-04-24T14:40:17.834Z"
   },
   {
    "duration": 19,
    "start_time": "2022-04-24T14:40:19.910Z"
   },
   {
    "duration": 12,
    "start_time": "2022-04-24T14:40:25.030Z"
   },
   {
    "duration": 6,
    "start_time": "2022-04-24T14:40:27.982Z"
   },
   {
    "duration": 4,
    "start_time": "2022-04-24T14:40:29.297Z"
   },
   {
    "duration": 5,
    "start_time": "2022-04-24T14:40:30.802Z"
   },
   {
    "duration": 5,
    "start_time": "2022-04-24T14:40:32.179Z"
   },
   {
    "duration": 118,
    "start_time": "2022-04-24T14:40:34.345Z"
   },
   {
    "duration": 76,
    "start_time": "2022-04-24T14:40:50.854Z"
   },
   {
    "duration": 25,
    "start_time": "2022-04-24T14:41:00.273Z"
   },
   {
    "duration": 26,
    "start_time": "2022-04-24T14:41:11.492Z"
   },
   {
    "duration": 29,
    "start_time": "2022-04-24T14:41:34.483Z"
   },
   {
    "duration": 15379,
    "start_time": "2022-04-24T14:42:20.824Z"
   },
   {
    "duration": 5055,
    "start_time": "2022-04-24T14:51:07.420Z"
   },
   {
    "duration": 168,
    "start_time": "2022-04-24T14:54:45.937Z"
   },
   {
    "duration": 916,
    "start_time": "2022-04-24T14:55:21.388Z"
   },
   {
    "duration": 230,
    "start_time": "2022-04-24T14:55:46.797Z"
   },
   {
    "duration": 1870,
    "start_time": "2022-04-24T14:55:53.695Z"
   },
   {
    "duration": 19661,
    "start_time": "2022-04-24T14:56:07.271Z"
   },
   {
    "duration": 10163,
    "start_time": "2022-04-24T14:56:35.675Z"
   },
   {
    "duration": 3344,
    "start_time": "2022-04-24T14:56:46.213Z"
   },
   {
    "duration": 3277,
    "start_time": "2022-04-24T14:58:41.472Z"
   },
   {
    "duration": 3216,
    "start_time": "2022-04-24T14:58:56.978Z"
   },
   {
    "duration": 27,
    "start_time": "2022-04-24T15:12:00.433Z"
   },
   {
    "duration": 26,
    "start_time": "2022-04-24T15:12:14.525Z"
   },
   {
    "duration": 28,
    "start_time": "2022-04-24T15:12:19.687Z"
   },
   {
    "duration": 3267,
    "start_time": "2022-04-24T15:12:22.285Z"
   },
   {
    "duration": 26,
    "start_time": "2022-04-24T15:12:29.975Z"
   },
   {
    "duration": 26,
    "start_time": "2022-04-24T15:12:32.309Z"
   },
   {
    "duration": 13,
    "start_time": "2022-04-24T15:14:41.125Z"
   },
   {
    "duration": 3344,
    "start_time": "2022-04-24T15:15:17.233Z"
   },
   {
    "duration": 27,
    "start_time": "2022-04-24T15:15:28.557Z"
   },
   {
    "duration": 13,
    "start_time": "2022-04-24T15:16:36.521Z"
   },
   {
    "duration": 27,
    "start_time": "2022-04-24T15:16:38.624Z"
   },
   {
    "duration": 165,
    "start_time": "2022-04-24T15:16:40.692Z"
   },
   {
    "duration": 14,
    "start_time": "2022-04-24T15:19:52.729Z"
   },
   {
    "duration": 12,
    "start_time": "2022-04-24T15:20:42.287Z"
   },
   {
    "duration": 28,
    "start_time": "2022-04-24T15:20:46.897Z"
   },
   {
    "duration": 102,
    "start_time": "2022-04-24T15:20:48.951Z"
   },
   {
    "duration": 3,
    "start_time": "2022-04-24T15:21:43.480Z"
   },
   {
    "duration": 19,
    "start_time": "2022-04-24T15:21:46.363Z"
   },
   {
    "duration": 11,
    "start_time": "2022-04-24T15:21:48.365Z"
   },
   {
    "duration": 12,
    "start_time": "2022-04-24T15:21:50.589Z"
   },
   {
    "duration": 5,
    "start_time": "2022-04-24T15:21:52.973Z"
   },
   {
    "duration": 3,
    "start_time": "2022-04-24T15:21:54.567Z"
   },
   {
    "duration": 4,
    "start_time": "2022-04-24T15:21:57.756Z"
   },
   {
    "duration": 5,
    "start_time": "2022-04-24T15:21:59.172Z"
   },
   {
    "duration": 27,
    "start_time": "2022-04-24T15:22:02.528Z"
   },
   {
    "duration": 28,
    "start_time": "2022-04-24T15:22:04.969Z"
   },
   {
    "duration": 3220,
    "start_time": "2022-04-24T15:22:06.782Z"
   },
   {
    "duration": 13,
    "start_time": "2022-04-24T15:22:31.461Z"
   },
   {
    "duration": 29,
    "start_time": "2022-04-24T15:22:34.247Z"
   },
   {
    "duration": 102,
    "start_time": "2022-04-24T15:22:35.914Z"
   },
   {
    "duration": 16,
    "start_time": "2022-04-24T15:26:42.437Z"
   },
   {
    "duration": 11,
    "start_time": "2022-04-24T15:26:47.990Z"
   },
   {
    "duration": 15,
    "start_time": "2022-04-24T15:26:52.928Z"
   },
   {
    "duration": 12,
    "start_time": "2022-04-24T15:27:05.234Z"
   },
   {
    "duration": 26,
    "start_time": "2022-04-24T15:27:36.774Z"
   },
   {
    "duration": 14,
    "start_time": "2022-04-24T15:27:57.855Z"
   },
   {
    "duration": 29,
    "start_time": "2022-04-24T15:28:02.658Z"
   },
   {
    "duration": 173,
    "start_time": "2022-04-24T15:28:05.737Z"
   },
   {
    "duration": 3379,
    "start_time": "2022-04-24T15:35:00.273Z"
   },
   {
    "duration": 106,
    "start_time": "2022-04-24T15:35:14.497Z"
   },
   {
    "duration": 12,
    "start_time": "2022-04-24T15:35:21.460Z"
   },
   {
    "duration": 1419,
    "start_time": "2022-04-24T15:36:23.037Z"
   },
   {
    "duration": 19,
    "start_time": "2022-04-24T15:36:25.652Z"
   },
   {
    "duration": 19,
    "start_time": "2022-04-24T15:36:27.304Z"
   },
   {
    "duration": 12,
    "start_time": "2022-04-24T15:36:30.199Z"
   },
   {
    "duration": 6,
    "start_time": "2022-04-24T15:36:32.265Z"
   },
   {
    "duration": 4,
    "start_time": "2022-04-24T15:36:33.802Z"
   },
   {
    "duration": 5,
    "start_time": "2022-04-24T15:36:35.333Z"
   },
   {
    "duration": 5,
    "start_time": "2022-04-24T15:36:36.944Z"
   },
   {
    "duration": 26,
    "start_time": "2022-04-24T15:36:39.133Z"
   },
   {
    "duration": 29,
    "start_time": "2022-04-24T15:36:40.800Z"
   },
   {
    "duration": 3247,
    "start_time": "2022-04-24T15:36:42.440Z"
   },
   {
    "duration": 14,
    "start_time": "2022-04-24T15:36:55.083Z"
   },
   {
    "duration": 28,
    "start_time": "2022-04-24T15:36:58.209Z"
   },
   {
    "duration": 106,
    "start_time": "2022-04-24T15:37:00.429Z"
   }
  ],
  "kernelspec": {
   "display_name": "Python 3 (ipykernel)",
   "language": "python",
   "name": "python3"
  },
  "language_info": {
   "codemirror_mode": {
    "name": "ipython",
    "version": 3
   },
   "file_extension": ".py",
   "mimetype": "text/x-python",
   "name": "python",
   "nbconvert_exporter": "python",
   "pygments_lexer": "ipython3",
   "version": "3.9.7"
  },
  "toc": {
   "base_numbering": 1,
   "nav_menu": {},
   "number_sections": true,
   "sideBar": true,
   "skip_h1_title": true,
   "title_cell": "Table of Contents",
   "title_sidebar": "Contents",
   "toc_cell": false,
   "toc_position": {
    "height": "calc(100% - 180px)",
    "left": "10px",
    "top": "150px",
    "width": "262px"
   },
   "toc_section_display": true,
   "toc_window_display": true
  }
 },
 "nbformat": 4,
 "nbformat_minor": 5
}
