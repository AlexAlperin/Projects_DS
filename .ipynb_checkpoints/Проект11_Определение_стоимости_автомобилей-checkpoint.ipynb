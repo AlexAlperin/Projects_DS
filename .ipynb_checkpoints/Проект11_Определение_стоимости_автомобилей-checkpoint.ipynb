{
 "cells": [
  {
   "cell_type": "markdown",
   "metadata": {},
   "source": [
    "# Определение стоимости автомобилей"
   ]
  },
  {
   "cell_type": "markdown",
   "metadata": {},
   "source": [
    "Сервис по продаже автомобилей с пробегом «Не бит, не крашен» разрабатывает приложение для привлечения новых клиентов. В нём можно быстро узнать рыночную стоимость своего автомобиля. В вашем распоряжении исторические данные: технические характеристики, комплектации и цены автомобилей. Вам нужно построить модель для определения стоимости. \n",
    "\n",
    "Заказчику важны:\n",
    "\n",
    "- качество предсказания;\n",
    "- скорость предсказания;\n",
    "- время обучения."
   ]
  },
  {
   "cell_type": "markdown",
   "metadata": {},
   "source": [
    "## Подготовка данных"
   ]
  },
  {
   "cell_type": "code",
   "execution_count": 1,
   "metadata": {},
   "outputs": [],
   "source": [
    "import pandas as pd\n",
    "import numpy as np\n",
    "import lightgbm as lgb\n",
    "import matplotlib.pyplot as plt\n",
    "import warnings\n",
    "warnings.filterwarnings('ignore')\n",
    "\n",
    "from catboost import CatBoostRegressor\n",
    "from sklearn.model_selection import train_test_split, GridSearchCV\n",
    "from sklearn.metrics import mean_squared_error, fbeta_score, make_scorer\n",
    "from sklearn.ensemble import RandomForestRegressor"
   ]
  },
  {
   "cell_type": "code",
   "execution_count": 2,
   "metadata": {},
   "outputs": [
    {
     "name": "stdout",
     "output_type": "stream",
     "text": [
      "<class 'pandas.core.frame.DataFrame'>\n",
      "RangeIndex: 354369 entries, 0 to 354368\n",
      "Data columns (total 16 columns):\n",
      " #   Column             Non-Null Count   Dtype \n",
      "---  ------             --------------   ----- \n",
      " 0   DateCrawled        354369 non-null  object\n",
      " 1   Price              354369 non-null  int64 \n",
      " 2   VehicleType        316879 non-null  object\n",
      " 3   RegistrationYear   354369 non-null  int64 \n",
      " 4   Gearbox            334536 non-null  object\n",
      " 5   Power              354369 non-null  int64 \n",
      " 6   Model              334664 non-null  object\n",
      " 7   Kilometer          354369 non-null  int64 \n",
      " 8   RegistrationMonth  354369 non-null  int64 \n",
      " 9   FuelType           321474 non-null  object\n",
      " 10  Brand              354369 non-null  object\n",
      " 11  NotRepaired        283215 non-null  object\n",
      " 12  DateCreated        354369 non-null  object\n",
      " 13  NumberOfPictures   354369 non-null  int64 \n",
      " 14  PostalCode         354369 non-null  int64 \n",
      " 15  LastSeen           354369 non-null  object\n",
      "dtypes: int64(7), object(9)\n",
      "memory usage: 43.3+ MB\n"
     ]
    }
   ],
   "source": [
    "data = pd.read_csv(\"/datasets/autos.csv\")\n",
    "data.info()"
   ]
  },
  {
   "cell_type": "markdown",
   "metadata": {},
   "source": [
    "<div class=\"alert alert-info\">\n",
    "<font color='black'> <b> При анализе датасета видно, что: есть столбцы с целочисленными значениями и категориальные столбцы. В категориальных столбцах имеется множество пропущенных значений  <b>"
   ]
  },
  {
   "cell_type": "code",
   "execution_count": 3,
   "metadata": {},
   "outputs": [
    {
     "data": {
      "text/html": [
       "<div>\n",
       "<style scoped>\n",
       "    .dataframe tbody tr th:only-of-type {\n",
       "        vertical-align: middle;\n",
       "    }\n",
       "\n",
       "    .dataframe tbody tr th {\n",
       "        vertical-align: top;\n",
       "    }\n",
       "\n",
       "    .dataframe thead th {\n",
       "        text-align: right;\n",
       "    }\n",
       "</style>\n",
       "<table border=\"1\" class=\"dataframe\">\n",
       "  <thead>\n",
       "    <tr style=\"text-align: right;\">\n",
       "      <th></th>\n",
       "      <th>DateCrawled</th>\n",
       "      <th>Price</th>\n",
       "      <th>VehicleType</th>\n",
       "      <th>RegistrationYear</th>\n",
       "      <th>Gearbox</th>\n",
       "      <th>Power</th>\n",
       "      <th>Model</th>\n",
       "      <th>Kilometer</th>\n",
       "      <th>RegistrationMonth</th>\n",
       "      <th>FuelType</th>\n",
       "      <th>Brand</th>\n",
       "      <th>NotRepaired</th>\n",
       "      <th>DateCreated</th>\n",
       "      <th>NumberOfPictures</th>\n",
       "      <th>PostalCode</th>\n",
       "      <th>LastSeen</th>\n",
       "    </tr>\n",
       "  </thead>\n",
       "  <tbody>\n",
       "    <tr>\n",
       "      <th>0</th>\n",
       "      <td>2016-03-24 11:52:17</td>\n",
       "      <td>480</td>\n",
       "      <td>NaN</td>\n",
       "      <td>1993</td>\n",
       "      <td>manual</td>\n",
       "      <td>0</td>\n",
       "      <td>golf</td>\n",
       "      <td>150000</td>\n",
       "      <td>0</td>\n",
       "      <td>petrol</td>\n",
       "      <td>volkswagen</td>\n",
       "      <td>NaN</td>\n",
       "      <td>2016-03-24 00:00:00</td>\n",
       "      <td>0</td>\n",
       "      <td>70435</td>\n",
       "      <td>2016-04-07 03:16:57</td>\n",
       "    </tr>\n",
       "    <tr>\n",
       "      <th>1</th>\n",
       "      <td>2016-03-24 10:58:45</td>\n",
       "      <td>18300</td>\n",
       "      <td>coupe</td>\n",
       "      <td>2011</td>\n",
       "      <td>manual</td>\n",
       "      <td>190</td>\n",
       "      <td>NaN</td>\n",
       "      <td>125000</td>\n",
       "      <td>5</td>\n",
       "      <td>gasoline</td>\n",
       "      <td>audi</td>\n",
       "      <td>yes</td>\n",
       "      <td>2016-03-24 00:00:00</td>\n",
       "      <td>0</td>\n",
       "      <td>66954</td>\n",
       "      <td>2016-04-07 01:46:50</td>\n",
       "    </tr>\n",
       "    <tr>\n",
       "      <th>2</th>\n",
       "      <td>2016-03-14 12:52:21</td>\n",
       "      <td>9800</td>\n",
       "      <td>suv</td>\n",
       "      <td>2004</td>\n",
       "      <td>auto</td>\n",
       "      <td>163</td>\n",
       "      <td>grand</td>\n",
       "      <td>125000</td>\n",
       "      <td>8</td>\n",
       "      <td>gasoline</td>\n",
       "      <td>jeep</td>\n",
       "      <td>NaN</td>\n",
       "      <td>2016-03-14 00:00:00</td>\n",
       "      <td>0</td>\n",
       "      <td>90480</td>\n",
       "      <td>2016-04-05 12:47:46</td>\n",
       "    </tr>\n",
       "    <tr>\n",
       "      <th>3</th>\n",
       "      <td>2016-03-17 16:54:04</td>\n",
       "      <td>1500</td>\n",
       "      <td>small</td>\n",
       "      <td>2001</td>\n",
       "      <td>manual</td>\n",
       "      <td>75</td>\n",
       "      <td>golf</td>\n",
       "      <td>150000</td>\n",
       "      <td>6</td>\n",
       "      <td>petrol</td>\n",
       "      <td>volkswagen</td>\n",
       "      <td>no</td>\n",
       "      <td>2016-03-17 00:00:00</td>\n",
       "      <td>0</td>\n",
       "      <td>91074</td>\n",
       "      <td>2016-03-17 17:40:17</td>\n",
       "    </tr>\n",
       "    <tr>\n",
       "      <th>4</th>\n",
       "      <td>2016-03-31 17:25:20</td>\n",
       "      <td>3600</td>\n",
       "      <td>small</td>\n",
       "      <td>2008</td>\n",
       "      <td>manual</td>\n",
       "      <td>69</td>\n",
       "      <td>fabia</td>\n",
       "      <td>90000</td>\n",
       "      <td>7</td>\n",
       "      <td>gasoline</td>\n",
       "      <td>skoda</td>\n",
       "      <td>no</td>\n",
       "      <td>2016-03-31 00:00:00</td>\n",
       "      <td>0</td>\n",
       "      <td>60437</td>\n",
       "      <td>2016-04-06 10:17:21</td>\n",
       "    </tr>\n",
       "  </tbody>\n",
       "</table>\n",
       "</div>"
      ],
      "text/plain": [
       "           DateCrawled  Price VehicleType  RegistrationYear Gearbox  Power  \\\n",
       "0  2016-03-24 11:52:17    480         NaN              1993  manual      0   \n",
       "1  2016-03-24 10:58:45  18300       coupe              2011  manual    190   \n",
       "2  2016-03-14 12:52:21   9800         suv              2004    auto    163   \n",
       "3  2016-03-17 16:54:04   1500       small              2001  manual     75   \n",
       "4  2016-03-31 17:25:20   3600       small              2008  manual     69   \n",
       "\n",
       "   Model  Kilometer  RegistrationMonth  FuelType       Brand NotRepaired  \\\n",
       "0   golf     150000                  0    petrol  volkswagen         NaN   \n",
       "1    NaN     125000                  5  gasoline        audi         yes   \n",
       "2  grand     125000                  8  gasoline        jeep         NaN   \n",
       "3   golf     150000                  6    petrol  volkswagen          no   \n",
       "4  fabia      90000                  7  gasoline       skoda          no   \n",
       "\n",
       "           DateCreated  NumberOfPictures  PostalCode             LastSeen  \n",
       "0  2016-03-24 00:00:00                 0       70435  2016-04-07 03:16:57  \n",
       "1  2016-03-24 00:00:00                 0       66954  2016-04-07 01:46:50  \n",
       "2  2016-03-14 00:00:00                 0       90480  2016-04-05 12:47:46  \n",
       "3  2016-03-17 00:00:00                 0       91074  2016-03-17 17:40:17  \n",
       "4  2016-03-31 00:00:00                 0       60437  2016-04-06 10:17:21  "
      ]
     },
     "execution_count": 3,
     "metadata": {},
     "output_type": "execute_result"
    }
   ],
   "source": [
    "data.head()"
   ]
  },
  {
   "cell_type": "code",
   "execution_count": 4,
   "metadata": {},
   "outputs": [
    {
     "data": {
      "text/plain": [
       "DateCrawled              0\n",
       "Price                    0\n",
       "VehicleType          37490\n",
       "RegistrationYear         0\n",
       "Gearbox              19833\n",
       "Power                    0\n",
       "Model                19705\n",
       "Kilometer                0\n",
       "RegistrationMonth        0\n",
       "FuelType             32895\n",
       "Brand                    0\n",
       "NotRepaired          71154\n",
       "DateCreated              0\n",
       "NumberOfPictures         0\n",
       "PostalCode               0\n",
       "LastSeen                 0\n",
       "dtype: int64"
      ]
     },
     "execution_count": 4,
     "metadata": {},
     "output_type": "execute_result"
    }
   ],
   "source": [
    "data.isna().sum()"
   ]
  },
  {
   "cell_type": "markdown",
   "metadata": {},
   "source": [
    "<div class=\"alert alert-info\">\n",
    "<font color='black'> <b> Выведем сумму пропусков в категориальных столбцах <b>"
   ]
  },
  {
   "cell_type": "code",
   "execution_count": 5,
   "metadata": {},
   "outputs": [
    {
     "data": {
      "text/plain": [
       "4"
      ]
     },
     "execution_count": 5,
     "metadata": {},
     "output_type": "execute_result"
    }
   ],
   "source": [
    "data.duplicated().sum()"
   ]
  },
  {
   "cell_type": "code",
   "execution_count": 6,
   "metadata": {},
   "outputs": [],
   "source": [
    "data=data.drop_duplicates()"
   ]
  },
  {
   "cell_type": "code",
   "execution_count": 7,
   "metadata": {},
   "outputs": [
    {
     "data": {
      "text/plain": [
       "0"
      ]
     },
     "execution_count": 7,
     "metadata": {},
     "output_type": "execute_result"
    }
   ],
   "source": [
    "data.duplicated().sum()"
   ]
  },
  {
   "cell_type": "code",
   "execution_count": 8,
   "metadata": {},
   "outputs": [],
   "source": [
    "data.columns=data.columns.str.lower() "
   ]
  },
  {
   "cell_type": "code",
   "execution_count": 9,
   "metadata": {},
   "outputs": [
    {
     "data": {
      "text/html": [
       "<div>\n",
       "<style scoped>\n",
       "    .dataframe tbody tr th:only-of-type {\n",
       "        vertical-align: middle;\n",
       "    }\n",
       "\n",
       "    .dataframe tbody tr th {\n",
       "        vertical-align: top;\n",
       "    }\n",
       "\n",
       "    .dataframe thead th {\n",
       "        text-align: right;\n",
       "    }\n",
       "</style>\n",
       "<table border=\"1\" class=\"dataframe\">\n",
       "  <thead>\n",
       "    <tr style=\"text-align: right;\">\n",
       "      <th></th>\n",
       "      <th>datecrawled</th>\n",
       "      <th>price</th>\n",
       "      <th>vehicletype</th>\n",
       "      <th>registrationyear</th>\n",
       "      <th>gearbox</th>\n",
       "      <th>power</th>\n",
       "      <th>model</th>\n",
       "      <th>kilometer</th>\n",
       "      <th>registrationmonth</th>\n",
       "      <th>fueltype</th>\n",
       "      <th>brand</th>\n",
       "      <th>notrepaired</th>\n",
       "      <th>datecreated</th>\n",
       "      <th>numberofpictures</th>\n",
       "      <th>postalcode</th>\n",
       "      <th>lastseen</th>\n",
       "    </tr>\n",
       "  </thead>\n",
       "  <tbody>\n",
       "    <tr>\n",
       "      <th>0</th>\n",
       "      <td>2016-03-24 11:52:17</td>\n",
       "      <td>480</td>\n",
       "      <td>NaN</td>\n",
       "      <td>1993</td>\n",
       "      <td>manual</td>\n",
       "      <td>0</td>\n",
       "      <td>golf</td>\n",
       "      <td>150000</td>\n",
       "      <td>0</td>\n",
       "      <td>petrol</td>\n",
       "      <td>volkswagen</td>\n",
       "      <td>NaN</td>\n",
       "      <td>2016-03-24 00:00:00</td>\n",
       "      <td>0</td>\n",
       "      <td>70435</td>\n",
       "      <td>2016-04-07 03:16:57</td>\n",
       "    </tr>\n",
       "    <tr>\n",
       "      <th>1</th>\n",
       "      <td>2016-03-24 10:58:45</td>\n",
       "      <td>18300</td>\n",
       "      <td>coupe</td>\n",
       "      <td>2011</td>\n",
       "      <td>manual</td>\n",
       "      <td>190</td>\n",
       "      <td>NaN</td>\n",
       "      <td>125000</td>\n",
       "      <td>5</td>\n",
       "      <td>gasoline</td>\n",
       "      <td>audi</td>\n",
       "      <td>yes</td>\n",
       "      <td>2016-03-24 00:00:00</td>\n",
       "      <td>0</td>\n",
       "      <td>66954</td>\n",
       "      <td>2016-04-07 01:46:50</td>\n",
       "    </tr>\n",
       "    <tr>\n",
       "      <th>2</th>\n",
       "      <td>2016-03-14 12:52:21</td>\n",
       "      <td>9800</td>\n",
       "      <td>suv</td>\n",
       "      <td>2004</td>\n",
       "      <td>auto</td>\n",
       "      <td>163</td>\n",
       "      <td>grand</td>\n",
       "      <td>125000</td>\n",
       "      <td>8</td>\n",
       "      <td>gasoline</td>\n",
       "      <td>jeep</td>\n",
       "      <td>NaN</td>\n",
       "      <td>2016-03-14 00:00:00</td>\n",
       "      <td>0</td>\n",
       "      <td>90480</td>\n",
       "      <td>2016-04-05 12:47:46</td>\n",
       "    </tr>\n",
       "    <tr>\n",
       "      <th>3</th>\n",
       "      <td>2016-03-17 16:54:04</td>\n",
       "      <td>1500</td>\n",
       "      <td>small</td>\n",
       "      <td>2001</td>\n",
       "      <td>manual</td>\n",
       "      <td>75</td>\n",
       "      <td>golf</td>\n",
       "      <td>150000</td>\n",
       "      <td>6</td>\n",
       "      <td>petrol</td>\n",
       "      <td>volkswagen</td>\n",
       "      <td>no</td>\n",
       "      <td>2016-03-17 00:00:00</td>\n",
       "      <td>0</td>\n",
       "      <td>91074</td>\n",
       "      <td>2016-03-17 17:40:17</td>\n",
       "    </tr>\n",
       "    <tr>\n",
       "      <th>4</th>\n",
       "      <td>2016-03-31 17:25:20</td>\n",
       "      <td>3600</td>\n",
       "      <td>small</td>\n",
       "      <td>2008</td>\n",
       "      <td>manual</td>\n",
       "      <td>69</td>\n",
       "      <td>fabia</td>\n",
       "      <td>90000</td>\n",
       "      <td>7</td>\n",
       "      <td>gasoline</td>\n",
       "      <td>skoda</td>\n",
       "      <td>no</td>\n",
       "      <td>2016-03-31 00:00:00</td>\n",
       "      <td>0</td>\n",
       "      <td>60437</td>\n",
       "      <td>2016-04-06 10:17:21</td>\n",
       "    </tr>\n",
       "  </tbody>\n",
       "</table>\n",
       "</div>"
      ],
      "text/plain": [
       "           datecrawled  price vehicletype  registrationyear gearbox  power  \\\n",
       "0  2016-03-24 11:52:17    480         NaN              1993  manual      0   \n",
       "1  2016-03-24 10:58:45  18300       coupe              2011  manual    190   \n",
       "2  2016-03-14 12:52:21   9800         suv              2004    auto    163   \n",
       "3  2016-03-17 16:54:04   1500       small              2001  manual     75   \n",
       "4  2016-03-31 17:25:20   3600       small              2008  manual     69   \n",
       "\n",
       "   model  kilometer  registrationmonth  fueltype       brand notrepaired  \\\n",
       "0   golf     150000                  0    petrol  volkswagen         NaN   \n",
       "1    NaN     125000                  5  gasoline        audi         yes   \n",
       "2  grand     125000                  8  gasoline        jeep         NaN   \n",
       "3   golf     150000                  6    petrol  volkswagen          no   \n",
       "4  fabia      90000                  7  gasoline       skoda          no   \n",
       "\n",
       "           datecreated  numberofpictures  postalcode             lastseen  \n",
       "0  2016-03-24 00:00:00                 0       70435  2016-04-07 03:16:57  \n",
       "1  2016-03-24 00:00:00                 0       66954  2016-04-07 01:46:50  \n",
       "2  2016-03-14 00:00:00                 0       90480  2016-04-05 12:47:46  \n",
       "3  2016-03-17 00:00:00                 0       91074  2016-03-17 17:40:17  \n",
       "4  2016-03-31 00:00:00                 0       60437  2016-04-06 10:17:21  "
      ]
     },
     "execution_count": 9,
     "metadata": {},
     "output_type": "execute_result"
    }
   ],
   "source": [
    "data.head()"
   ]
  },
  {
   "cell_type": "code",
   "execution_count": 10,
   "metadata": {},
   "outputs": [
    {
     "data": {
      "text/html": [
       "<div>\n",
       "<style scoped>\n",
       "    .dataframe tbody tr th:only-of-type {\n",
       "        vertical-align: middle;\n",
       "    }\n",
       "\n",
       "    .dataframe tbody tr th {\n",
       "        vertical-align: top;\n",
       "    }\n",
       "\n",
       "    .dataframe thead th {\n",
       "        text-align: right;\n",
       "    }\n",
       "</style>\n",
       "<table border=\"1\" class=\"dataframe\">\n",
       "  <thead>\n",
       "    <tr style=\"text-align: right;\">\n",
       "      <th></th>\n",
       "      <th>price</th>\n",
       "      <th>registrationyear</th>\n",
       "      <th>power</th>\n",
       "      <th>kilometer</th>\n",
       "      <th>registrationmonth</th>\n",
       "      <th>numberofpictures</th>\n",
       "      <th>postalcode</th>\n",
       "    </tr>\n",
       "  </thead>\n",
       "  <tbody>\n",
       "    <tr>\n",
       "      <th>count</th>\n",
       "      <td>354365.000000</td>\n",
       "      <td>354365.000000</td>\n",
       "      <td>354365.000000</td>\n",
       "      <td>354365.000000</td>\n",
       "      <td>354365.000000</td>\n",
       "      <td>354365.0</td>\n",
       "      <td>354365.000000</td>\n",
       "    </tr>\n",
       "    <tr>\n",
       "      <th>mean</th>\n",
       "      <td>4416.679830</td>\n",
       "      <td>2004.234481</td>\n",
       "      <td>110.093816</td>\n",
       "      <td>128211.363989</td>\n",
       "      <td>5.714650</td>\n",
       "      <td>0.0</td>\n",
       "      <td>50508.503800</td>\n",
       "    </tr>\n",
       "    <tr>\n",
       "      <th>std</th>\n",
       "      <td>4514.176349</td>\n",
       "      <td>90.228466</td>\n",
       "      <td>189.851330</td>\n",
       "      <td>37905.083858</td>\n",
       "      <td>3.726432</td>\n",
       "      <td>0.0</td>\n",
       "      <td>25783.100078</td>\n",
       "    </tr>\n",
       "    <tr>\n",
       "      <th>min</th>\n",
       "      <td>0.000000</td>\n",
       "      <td>1000.000000</td>\n",
       "      <td>0.000000</td>\n",
       "      <td>5000.000000</td>\n",
       "      <td>0.000000</td>\n",
       "      <td>0.0</td>\n",
       "      <td>1067.000000</td>\n",
       "    </tr>\n",
       "    <tr>\n",
       "      <th>25%</th>\n",
       "      <td>1050.000000</td>\n",
       "      <td>1999.000000</td>\n",
       "      <td>69.000000</td>\n",
       "      <td>125000.000000</td>\n",
       "      <td>3.000000</td>\n",
       "      <td>0.0</td>\n",
       "      <td>30165.000000</td>\n",
       "    </tr>\n",
       "    <tr>\n",
       "      <th>50%</th>\n",
       "      <td>2700.000000</td>\n",
       "      <td>2003.000000</td>\n",
       "      <td>105.000000</td>\n",
       "      <td>150000.000000</td>\n",
       "      <td>6.000000</td>\n",
       "      <td>0.0</td>\n",
       "      <td>49413.000000</td>\n",
       "    </tr>\n",
       "    <tr>\n",
       "      <th>75%</th>\n",
       "      <td>6400.000000</td>\n",
       "      <td>2008.000000</td>\n",
       "      <td>143.000000</td>\n",
       "      <td>150000.000000</td>\n",
       "      <td>9.000000</td>\n",
       "      <td>0.0</td>\n",
       "      <td>71083.000000</td>\n",
       "    </tr>\n",
       "    <tr>\n",
       "      <th>max</th>\n",
       "      <td>20000.000000</td>\n",
       "      <td>9999.000000</td>\n",
       "      <td>20000.000000</td>\n",
       "      <td>150000.000000</td>\n",
       "      <td>12.000000</td>\n",
       "      <td>0.0</td>\n",
       "      <td>99998.000000</td>\n",
       "    </tr>\n",
       "  </tbody>\n",
       "</table>\n",
       "</div>"
      ],
      "text/plain": [
       "               price  registrationyear          power      kilometer  \\\n",
       "count  354365.000000     354365.000000  354365.000000  354365.000000   \n",
       "mean     4416.679830       2004.234481     110.093816  128211.363989   \n",
       "std      4514.176349         90.228466     189.851330   37905.083858   \n",
       "min         0.000000       1000.000000       0.000000    5000.000000   \n",
       "25%      1050.000000       1999.000000      69.000000  125000.000000   \n",
       "50%      2700.000000       2003.000000     105.000000  150000.000000   \n",
       "75%      6400.000000       2008.000000     143.000000  150000.000000   \n",
       "max     20000.000000       9999.000000   20000.000000  150000.000000   \n",
       "\n",
       "       registrationmonth  numberofpictures     postalcode  \n",
       "count      354365.000000          354365.0  354365.000000  \n",
       "mean            5.714650               0.0   50508.503800  \n",
       "std             3.726432               0.0   25783.100078  \n",
       "min             0.000000               0.0    1067.000000  \n",
       "25%             3.000000               0.0   30165.000000  \n",
       "50%             6.000000               0.0   49413.000000  \n",
       "75%             9.000000               0.0   71083.000000  \n",
       "max            12.000000               0.0   99998.000000  "
      ]
     },
     "execution_count": 10,
     "metadata": {},
     "output_type": "execute_result"
    }
   ],
   "source": [
    "data.describe()"
   ]
  },
  {
   "cell_type": "code",
   "execution_count": 11,
   "metadata": {},
   "outputs": [],
   "source": [
    "data = data.drop([\"datecrawled\",\"datecreated\",\"lastseen\",\"numberofpictures\",\"postalcode\"],axis = 1)"
   ]
  },
  {
   "cell_type": "markdown",
   "metadata": {},
   "source": [
    "<div class=\"alert alert-info\">\n",
    "<font color='black'> <b> При анализе входных данных видим достаточно много пропущенных значений и дубликатов. Также замечены аномальные значения в столбцах \"registrationyear\" (9999 год) и \"power\" (20000 л.с.). Удалим дубликаты и столбцы, не влияющие на значение целевого признака <b>"
   ]
  },
  {
   "cell_type": "code",
   "execution_count": 12,
   "metadata": {},
   "outputs": [
    {
     "data": {
      "text/plain": [
       "<AxesSubplot:xlabel='price', ylabel='power'>"
      ]
     },
     "execution_count": 12,
     "metadata": {},
     "output_type": "execute_result"
    },
    {
     "data": {
      "image/png": "[encoded data removed]",
      "text/plain": [
       "<Figure size 1080x720 with 1 Axes>"
      ]
     },
     "metadata": {
      "needs_background": "light"
     },
     "output_type": "display_data"
    }
   ],
   "source": [
    "data.plot( x='price', y='power', kind='scatter', figsize=(15,10))\n"
   ]
  },
  {
   "cell_type": "code",
   "execution_count": 13,
   "metadata": {},
   "outputs": [
    {
     "data": {
      "text/plain": [
       "(1900.0, 2040.0)"
      ]
     },
     "execution_count": 13,
     "metadata": {},
     "output_type": "execute_result"
    },
    {
     "data": {
      "image/png": "[encoded data removed]",
      "text/plain": [
       "<Figure size 1080x720 with 1 Axes>"
      ]
     },
     "metadata": {
      "needs_background": "light"
     },
     "output_type": "display_data"
    }
   ],
   "source": [
    "data.plot( x='price', y='registrationyear' , kind='scatter', figsize=(15,10))\n",
    "plt.ylim(1900, 2040)"
   ]
  },
  {
   "cell_type": "markdown",
   "metadata": {},
   "source": [
    "<div class=\"alert alert-info\">\n",
    "<font color='black'> <b> При построении диаграмм рассеяния по аномальным столбцам видно, что выбросы по столбцу \"power\" начинаются где-то от 2500 л.с.,  выбросы по столбцу \"registrationyear\" находятся до 1950 г и после 2020. Надо избавиться от аномальных значений <b>"
   ]
  },
  {
   "cell_type": "code",
   "execution_count": 14,
   "metadata": {},
   "outputs": [
    {
     "data": {
      "text/plain": [
       "(1900.0, 2040.0)"
      ]
     },
     "execution_count": 14,
     "metadata": {},
     "output_type": "execute_result"
    },
    {
     "data": {
      "image/png": "[encoded data removed]",
      "text/plain": [
       "<Figure size 1080x720 with 1 Axes>"
      ]
     },
     "metadata": {
      "needs_background": "light"
     },
     "output_type": "display_data"
    }
   ],
   "source": [
    "data.loc[data['registrationyear']>2020, 'registrationyear'] = 2020\n",
    "data.loc[data['registrationyear']<1930, 'registrationyear'] = 1930\n",
    "data.plot( x='price', y='registrationyear' , kind='scatter', figsize=(15,10))\n",
    "plt.ylim(1900, 2040)"
   ]
  },
  {
   "cell_type": "code",
   "execution_count": 15,
   "metadata": {},
   "outputs": [
    {
     "data": {
      "text/plain": [
       "(0.0, 10000.0)"
      ]
     },
     "execution_count": 15,
     "metadata": {},
     "output_type": "execute_result"
    },
    {
     "data": {
      "image/png": "[encoded data removed]",
      "text/plain": [
       "<Figure size 1080x720 with 1 Axes>"
      ]
     },
     "metadata": {
      "needs_background": "light"
     },
     "output_type": "display_data"
    }
   ],
   "source": [
    "data.loc[data['power']>2500, 'power'] = 2500\n",
    "data.plot( x='price', y='power' , kind='scatter', figsize=(15,10))\n",
    "plt.ylim(0, 10000)"
   ]
  },
  {
   "cell_type": "markdown",
   "metadata": {},
   "source": [
    "<div class=\"alert alert-info\">\n",
    "<font color='black'> <b> Избавились от аномальных значений <b>"
   ]
  },
  {
   "cell_type": "code",
   "execution_count": 16,
   "metadata": {},
   "outputs": [],
   "source": [
    "data['vehicletype'] = data['vehicletype'].fillna('unknown')\n",
    "data['gearbox'] = data['gearbox'].fillna('unknown')\n",
    "data['model'] = data['model'].fillna('unknown')\n",
    "data['fueltype'] = data['fueltype'].fillna('unknown')\n",
    "data['notrepaired'] = data['notrepaired'].fillna('unknown')"
   ]
  },
  {
   "cell_type": "markdown",
   "metadata": {},
   "source": [
    "<div class=\"alert alert-info\">\n",
    "<font color='black'> <b> Избавились от пропусков. Т.к. признаки категориальные, то применим замену на 'unknown' (замена на определенный существующий тип приведет к большому дисбалансу признака)  <b>"
   ]
  },
  {
   "cell_type": "code",
   "execution_count": 17,
   "metadata": {},
   "outputs": [
    {
     "data": {
      "text/plain": [
       "price                0\n",
       "vehicletype          0\n",
       "registrationyear     0\n",
       "gearbox              0\n",
       "power                0\n",
       "model                0\n",
       "kilometer            0\n",
       "registrationmonth    0\n",
       "fueltype             0\n",
       "brand                0\n",
       "notrepaired          0\n",
       "dtype: int64"
      ]
     },
     "execution_count": 17,
     "metadata": {},
     "output_type": "execute_result"
    }
   ],
   "source": [
    "data.isna().sum()"
   ]
  },
  {
   "cell_type": "code",
   "execution_count": 18,
   "metadata": {},
   "outputs": [],
   "source": [
    "data_ohe = pd.get_dummies(data)"
   ]
  },
  {
   "cell_type": "code",
   "execution_count": 19,
   "metadata": {},
   "outputs": [],
   "source": [
    "features = data.drop('price', axis=1)\n",
    "target = data['price']\n",
    "features_ohe = data_ohe.drop('price', axis=1)\n",
    "target_ohe = data_ohe['price']\n",
    "\n",
    "features_train, features_sum, target_train, target_sum= train_test_split(features, target, test_size=0.4, random_state=12345)\n",
    "features_val, features_test, target_val, target_test = train_test_split(features_sum, target_sum, test_size=0.5, random_state=12345)\n",
    "\n",
    "features_train_ohe, features_sum_ohe, target_train_ohe, target_sum_ohe= train_test_split(features_ohe, target_ohe, test_size=0.4, random_state=12345)\n",
    "features_val_ohe, features_test_ohe, target_val_ohe, target_test_ohe = train_test_split(features_sum_ohe, target_sum_ohe, test_size=0.5, random_state=12345)"
   ]
  },
  {
   "cell_type": "markdown",
   "metadata": {},
   "source": [
    "## Обучение моделей"
   ]
  },
  {
   "cell_type": "code",
   "execution_count": 20,
   "metadata": {},
   "outputs": [
    {
     "name": "stdout",
     "output_type": "stream",
     "text": [
      "Learning rate set to 0.5\n",
      "0:\tlearn: 3285.2881760\ttotal: 153ms\tremaining: 7.52s\n",
      "10:\tlearn: 2037.1629419\ttotal: 976ms\tremaining: 3.46s\n",
      "20:\tlearn: 1951.5865119\ttotal: 1.7s\tremaining: 2.35s\n",
      "30:\tlearn: 1906.4978161\ttotal: 2.48s\tremaining: 1.52s\n",
      "40:\tlearn: 1870.5710860\ttotal: 3.2s\tremaining: 702ms\n",
      "49:\tlearn: 1851.1845999\ttotal: 3.86s\tremaining: 0us\n",
      "CPU times: user 4.12 s, sys: 87.5 ms, total: 4.21 s\n",
      "Wall time: 4.96 s\n"
     ]
    },
    {
     "data": {
      "text/plain": [
       "<catboost.core.CatBoostRegressor at 0x7f28f2502f40>"
      ]
     },
     "execution_count": 20,
     "metadata": {},
     "output_type": "execute_result"
    }
   ],
   "source": [
    "%%time\n",
    "model = CatBoostRegressor(loss_function='RMSE', iterations=50)\n",
    "cat_features=['vehicletype','gearbox','model','fueltype','brand','notrepaired']\n",
    "model.fit(features_train, target_train, cat_features=cat_features, verbose=10) "
   ]
  },
  {
   "cell_type": "code",
   "execution_count": 21,
   "metadata": {},
   "outputs": [
    {
     "name": "stdout",
     "output_type": "stream",
     "text": [
      "Fitting 5 folds for each of 3 candidates, totalling 15 fits\n",
      "[CV] END ........................................max_depth=4; total time= 1.5min\n",
      "[CV] END ........................................max_depth=4; total time= 1.5min\n",
      "[CV] END ........................................max_depth=4; total time= 1.5min\n",
      "[CV] END ........................................max_depth=4; total time= 1.5min\n",
      "[CV] END ........................................max_depth=4; total time= 1.5min\n",
      "[CV] END ........................................max_depth=5; total time= 1.9min\n",
      "[CV] END ........................................max_depth=5; total time= 1.9min\n",
      "[CV] END ........................................max_depth=5; total time= 1.9min\n",
      "[CV] END ........................................max_depth=5; total time= 1.9min\n",
      "[CV] END ........................................max_depth=5; total time= 2.0min\n",
      "[CV] END ........................................max_depth=6; total time= 2.4min\n",
      "[CV] END ........................................max_depth=6; total time= 2.3min\n",
      "[CV] END ........................................max_depth=6; total time= 2.4min\n",
      "[CV] END ........................................max_depth=6; total time= 2.4min\n",
      "[CV] END ........................................max_depth=6; total time= 2.3min\n",
      "CPU times: user 34min 55s, sys: 9.35 s, total: 35min 4s\n",
      "Wall time: 35min 6s\n"
     ]
    },
    {
     "data": {
      "text/plain": [
       "RandomForestRegressor(max_depth=6, random_state=12345)"
      ]
     },
     "execution_count": 21,
     "metadata": {},
     "output_type": "execute_result"
    }
   ],
   "source": [
    "%%time\n",
    "params_rf = {'max_depth': list(range(4, 7))}\n",
    "model_rf = GridSearchCV(RandomForestRegressor(random_state=12345),\n",
    "                         params_rf, cv=5, n_jobs=-1, scoring = 'neg_mean_squared_error', verbose=2) \n",
    "model_rf.fit(features_train_ohe, target_train_ohe)\n",
    "params = model_rf.best_params_\n",
    "rf_best = RandomForestRegressor(**params, random_state=12345)\n",
    "rf_best.fit(features_train_ohe, target_train_ohe)"
   ]
  },
  {
   "cell_type": "code",
   "execution_count": 22,
   "metadata": {},
   "outputs": [
    {
     "data": {
      "text/plain": [
       "{'max_depth': 6}"
      ]
     },
     "metadata": {},
     "output_type": "display_data"
    }
   ],
   "source": [
    "display (params)"
   ]
  },
  {
   "cell_type": "code",
   "execution_count": 23,
   "metadata": {},
   "outputs": [
    {
     "name": "stdout",
     "output_type": "stream",
     "text": [
      "[LightGBM] [Warning] Auto-choosing row-wise multi-threading, the overhead of testing was 0.006706 seconds.\n",
      "You can set `force_row_wise=true` to remove the overhead.\n",
      "And if memory is not enough, you can set `force_col_wise=true`.\n",
      "[LightGBM] [Info] Total Bins 939\n",
      "[LightGBM] [Info] Number of data points in the train set: 212619, number of used features: 300\n",
      "[LightGBM] [Info] Start training from score 4424.848635\n",
      "[10]\ttraining's l2: 7.32025e+06\tvalid_1's l2: 7.38325e+06\n",
      "[20]\ttraining's l2: 4.88006e+06\tvalid_1's l2: 4.93798e+06\n",
      "[30]\ttraining's l2: 4.1355e+06\tvalid_1's l2: 4.20909e+06\n",
      "[40]\ttraining's l2: 3.80633e+06\tvalid_1's l2: 3.89209e+06\n",
      "[50]\ttraining's l2: 3.63534e+06\tvalid_1's l2: 3.73722e+06\n",
      "[60]\ttraining's l2: 3.5206e+06\tvalid_1's l2: 3.63382e+06\n",
      "[70]\ttraining's l2: 3.43453e+06\tvalid_1's l2: 3.55661e+06\n",
      "[80]\ttraining's l2: 3.36986e+06\tvalid_1's l2: 3.50112e+06\n",
      "[90]\ttraining's l2: 3.32292e+06\tvalid_1's l2: 3.4623e+06\n",
      "[100]\ttraining's l2: 3.28194e+06\tvalid_1's l2: 3.43159e+06\n",
      "CPU times: user 10.2 s, sys: 498 ms, total: 10.7 s\n",
      "Wall time: 10.7 s\n"
     ]
    }
   ],
   "source": [
    "%%time\n",
    "lgb_train = lgb.Dataset(features_train_ohe, target_train_ohe)\n",
    "lgb_val = lgb.Dataset(features_val_ohe, target_val_ohe)\n",
    "model_lgb = lgb.train({\"objective\": \"regression\"},\n",
    "                    train_set=lgb_train, valid_sets=(lgb_train, lgb_val),\n",
    "                    num_boost_round=100, verbose_eval=10)"
   ]
  },
  {
   "cell_type": "markdown",
   "metadata": {},
   "source": [
    "## Анализ моделей"
   ]
  },
  {
   "cell_type": "code",
   "execution_count": 24,
   "metadata": {},
   "outputs": [
    {
     "data": {
      "text/plain": [
       "'CatBoost:'"
      ]
     },
     "metadata": {},
     "output_type": "display_data"
    },
    {
     "data": {
      "text/plain": [
       "1881.7591618457752"
      ]
     },
     "metadata": {},
     "output_type": "display_data"
    },
    {
     "name": "stdout",
     "output_type": "stream",
     "text": [
      "CPU times: user 79.5 ms, sys: 11.9 ms, total: 91.3 ms\n",
      "Wall time: 174 ms\n"
     ]
    }
   ],
   "source": [
    "%%time\n",
    "display (\"CatBoost:\",mean_squared_error(target_val, model.predict(features_val), squared=False))"
   ]
  },
  {
   "cell_type": "code",
   "execution_count": 25,
   "metadata": {},
   "outputs": [
    {
     "data": {
      "text/plain": [
       "'RandomForestRegressor:'"
      ]
     },
     "metadata": {},
     "output_type": "display_data"
    },
    {
     "data": {
      "text/plain": [
       "2338.813222462695"
      ]
     },
     "metadata": {},
     "output_type": "display_data"
    },
    {
     "name": "stdout",
     "output_type": "stream",
     "text": [
      "CPU times: user 354 ms, sys: 83.8 ms, total: 438 ms\n",
      "Wall time: 450 ms\n"
     ]
    }
   ],
   "source": [
    "%%time\n",
    "display (\"RandomForestRegressor:\",mean_squared_error(target_val_ohe, rf_best.predict(features_val_ohe), squared=False))"
   ]
  },
  {
   "cell_type": "code",
   "execution_count": 26,
   "metadata": {},
   "outputs": [
    {
     "data": {
      "text/plain": [
       "'lightGBM:'"
      ]
     },
     "metadata": {},
     "output_type": "display_data"
    },
    {
     "data": {
      "text/plain": [
       "1852.4555607417778"
      ]
     },
     "metadata": {},
     "output_type": "display_data"
    },
    {
     "name": "stdout",
     "output_type": "stream",
     "text": [
      "CPU times: user 820 ms, sys: 83.2 ms, total: 903 ms\n",
      "Wall time: 878 ms\n"
     ]
    }
   ],
   "source": [
    "%%time\n",
    "display (\"lightGBM:\",mean_squared_error(target_val_ohe, model_lgb.predict(features_val_ohe), squared=False))"
   ]
  },
  {
   "cell_type": "markdown",
   "metadata": {},
   "source": [
    "<div class=\"alert alert-info\">\n",
    "<font color='black'> <b> Вывод: После проверки на валидационной выборке наилучшее качество у модели LightGBM - RMSE составило 1852, худшее - у RandomForestRegressor: 2338. Модель LightGBM и CatBoost обучаются быстро,  RandomForestRegressor - сильно дольше . Делаем вывод, что модель LightGBM проявила себя наилучшим образом.    <b>"
   ]
  },
  {
   "cell_type": "code",
   "execution_count": 27,
   "metadata": {},
   "outputs": [
    {
     "data": {
      "text/plain": [
       "'lightGBM:'"
      ]
     },
     "metadata": {},
     "output_type": "display_data"
    },
    {
     "data": {
      "text/plain": [
       "1835.1751973108685"
      ]
     },
     "metadata": {},
     "output_type": "display_data"
    },
    {
     "name": "stdout",
     "output_type": "stream",
     "text": [
      "CPU times: user 785 ms, sys: 103 ms, total: 888 ms\n",
      "Wall time: 889 ms\n"
     ]
    }
   ],
   "source": [
    "%%time\n",
    "display (\"lightGBM:\",mean_squared_error(target_test_ohe, model_lgb.predict(features_test_ohe), squared=False))"
   ]
  },
  {
   "cell_type": "markdown",
   "metadata": {},
   "source": [
    "<div class=\"alert alert-info\">\n",
    "<font color='black'> <b> После проверки на тестовой выборке качество LightGBM почти не изменилось - 1835 (даже улучшилось)    <b>"
   ]
  }
 ],
 "metadata": {
  "ExecuteTimeLog": [
   {
    "duration": 1643,
    "start_time": "2022-06-29T17:28:21.678Z"
   },
   {
    "duration": 1330,
    "start_time": "2022-06-29T17:29:40.302Z"
   },
   {
    "duration": 50,
    "start_time": "2022-06-29T17:30:10.635Z"
   },
   {
    "duration": 1563,
    "start_time": "2022-06-29T17:30:14.193Z"
   },
   {
    "duration": 992,
    "start_time": "2022-06-29T17:30:15.758Z"
   },
   {
    "duration": 1466,
    "start_time": "2022-06-29T17:30:25.130Z"
   },
   {
    "duration": 1008,
    "start_time": "2022-06-29T17:30:26.597Z"
   },
   {
    "duration": 25,
    "start_time": "2022-06-29T17:33:41.278Z"
   },
   {
    "duration": 140,
    "start_time": "2022-06-29T17:34:05.498Z"
   },
   {
    "duration": 138,
    "start_time": "2022-06-29T17:34:11.950Z"
   },
   {
    "duration": 163,
    "start_time": "2022-06-29T17:34:17.735Z"
   },
   {
    "duration": 1644,
    "start_time": "2022-06-29T17:34:33.382Z"
   },
   {
    "duration": 988,
    "start_time": "2022-06-29T17:34:35.029Z"
   },
   {
    "duration": 147,
    "start_time": "2022-06-29T17:34:36.019Z"
   },
   {
    "duration": 129,
    "start_time": "2022-06-29T17:34:47.408Z"
   },
   {
    "duration": 23,
    "start_time": "2022-06-29T17:34:50.489Z"
   },
   {
    "duration": 1569,
    "start_time": "2022-06-29T17:34:56.885Z"
   },
   {
    "duration": 1037,
    "start_time": "2022-06-29T17:34:58.457Z"
   },
   {
    "duration": 30,
    "start_time": "2022-06-29T17:34:59.496Z"
   },
   {
    "duration": 135,
    "start_time": "2022-06-29T17:34:59.528Z"
   },
   {
    "duration": 493,
    "start_time": "2022-06-29T17:35:51.988Z"
   },
   {
    "duration": 553,
    "start_time": "2022-06-29T17:36:37.923Z"
   },
   {
    "duration": 493,
    "start_time": "2022-06-29T17:36:42.615Z"
   },
   {
    "duration": 148,
    "start_time": "2022-06-29T17:37:28.674Z"
   },
   {
    "duration": 4,
    "start_time": "2022-06-29T17:40:49.413Z"
   },
   {
    "duration": 16,
    "start_time": "2022-06-29T17:41:11.574Z"
   },
   {
    "duration": 108,
    "start_time": "2022-06-29T17:49:10.629Z"
   },
   {
    "duration": 21,
    "start_time": "2022-06-29T17:52:23.019Z"
   },
   {
    "duration": 16,
    "start_time": "2022-06-29T17:53:11.187Z"
   },
   {
    "duration": 28,
    "start_time": "2022-06-29T17:53:38.837Z"
   },
   {
    "duration": 50,
    "start_time": "2022-06-29T19:02:09.067Z"
   },
   {
    "duration": 1537,
    "start_time": "2022-06-30T18:13:00.567Z"
   },
   {
    "duration": 1116,
    "start_time": "2022-06-30T18:13:02.106Z"
   },
   {
    "duration": 15,
    "start_time": "2022-06-30T18:13:03.223Z"
   },
   {
    "duration": 107,
    "start_time": "2022-06-30T18:13:03.240Z"
   },
   {
    "duration": 403,
    "start_time": "2022-06-30T18:13:03.349Z"
   },
   {
    "duration": 447,
    "start_time": "2022-06-30T18:13:03.753Z"
   },
   {
    "duration": 395,
    "start_time": "2022-06-30T18:13:04.202Z"
   },
   {
    "duration": 3,
    "start_time": "2022-06-30T18:13:04.599Z"
   },
   {
    "duration": 31,
    "start_time": "2022-06-30T18:13:04.603Z"
   },
   {
    "duration": 113,
    "start_time": "2022-06-30T18:13:04.636Z"
   },
   {
    "duration": 20,
    "start_time": "2022-06-30T18:13:04.751Z"
   },
   {
    "duration": 78,
    "start_time": "2022-06-30T18:13:04.773Z"
   },
   {
    "duration": 1453,
    "start_time": "2022-06-30T18:16:32.900Z"
   },
   {
    "duration": 46,
    "start_time": "2022-06-30T18:17:54.994Z"
   },
   {
    "duration": 113,
    "start_time": "2022-06-30T18:18:00.265Z"
   },
   {
    "duration": 807,
    "start_time": "2022-06-30T18:19:25.553Z"
   },
   {
    "duration": 11,
    "start_time": "2022-06-30T18:19:36.281Z"
   },
   {
    "duration": 14945,
    "start_time": "2022-06-30T18:19:49.064Z"
   },
   {
    "duration": 11,
    "start_time": "2022-06-30T18:20:37.905Z"
   },
   {
    "duration": 16009,
    "start_time": "2022-06-30T18:24:27.105Z"
   },
   {
    "duration": 43,
    "start_time": "2022-06-30T18:28:35.061Z"
   },
   {
    "duration": 264,
    "start_time": "2022-06-30T18:28:54.794Z"
   },
   {
    "duration": 420,
    "start_time": "2022-06-30T18:29:11.662Z"
   },
   {
    "duration": 373,
    "start_time": "2022-06-30T18:29:20.785Z"
   },
   {
    "duration": 300,
    "start_time": "2022-06-30T18:29:28.462Z"
   },
   {
    "duration": 270,
    "start_time": "2022-06-30T18:29:33.932Z"
   },
   {
    "duration": 302,
    "start_time": "2022-06-30T18:29:52.470Z"
   },
   {
    "duration": 285,
    "start_time": "2022-06-30T18:30:52.660Z"
   },
   {
    "duration": 761,
    "start_time": "2022-06-30T18:31:01.925Z"
   },
   {
    "duration": 1540,
    "start_time": "2022-06-30T18:32:31.749Z"
   },
   {
    "duration": 1529,
    "start_time": "2022-06-30T18:33:18.577Z"
   },
   {
    "duration": 846,
    "start_time": "2022-06-30T18:33:47.282Z"
   },
   {
    "duration": 711,
    "start_time": "2022-06-30T18:33:51.289Z"
   },
   {
    "duration": 741,
    "start_time": "2022-06-30T18:34:44.763Z"
   },
   {
    "duration": 798,
    "start_time": "2022-06-30T18:34:57.788Z"
   },
   {
    "duration": 749,
    "start_time": "2022-06-30T18:35:27.413Z"
   },
   {
    "duration": 744,
    "start_time": "2022-06-30T18:35:46.385Z"
   },
   {
    "duration": 79,
    "start_time": "2022-06-30T18:38:53.362Z"
   },
   {
    "duration": 781,
    "start_time": "2022-06-30T18:38:59.199Z"
   },
   {
    "duration": 8,
    "start_time": "2022-06-30T18:52:10.541Z"
   },
   {
    "duration": 8,
    "start_time": "2022-06-30T18:52:31.016Z"
   },
   {
    "duration": 723,
    "start_time": "2022-06-30T18:52:48.455Z"
   },
   {
    "duration": 759,
    "start_time": "2022-06-30T18:53:44.610Z"
   },
   {
    "duration": 716,
    "start_time": "2022-06-30T18:54:10.374Z"
   },
   {
    "duration": 3,
    "start_time": "2022-06-30T19:02:03.156Z"
   },
   {
    "duration": 732,
    "start_time": "2022-06-30T19:02:26.275Z"
   },
   {
    "duration": 736,
    "start_time": "2022-06-30T19:02:54.386Z"
   },
   {
    "duration": 73,
    "start_time": "2022-06-30T19:03:57.304Z"
   },
   {
    "duration": 67,
    "start_time": "2022-06-30T19:04:19.107Z"
   },
   {
    "duration": 5720,
    "start_time": "2022-07-04T10:07:38.126Z"
   },
   {
    "duration": 5,
    "start_time": "2022-07-04T10:07:52.744Z"
   },
   {
    "duration": 5508,
    "start_time": "2022-07-04T10:07:52.925Z"
   },
   {
    "duration": 101,
    "start_time": "2022-07-04T10:07:58.435Z"
   },
   {
    "duration": 598,
    "start_time": "2022-07-04T10:07:58.538Z"
   },
   {
    "duration": 1897,
    "start_time": "2022-07-04T10:07:59.138Z"
   },
   {
    "duration": 2011,
    "start_time": "2022-07-04T10:08:01.036Z"
   },
   {
    "duration": 1985,
    "start_time": "2022-07-04T10:08:03.049Z"
   },
   {
    "duration": 5,
    "start_time": "2022-07-04T10:08:05.036Z"
   },
   {
    "duration": 95,
    "start_time": "2022-07-04T10:08:05.043Z"
   },
   {
    "duration": 592,
    "start_time": "2022-07-04T10:08:05.140Z"
   },
   {
    "duration": 111,
    "start_time": "2022-07-04T10:08:05.735Z"
   },
   {
    "duration": 5307,
    "start_time": "2022-07-04T10:08:31.426Z"
   },
   {
    "duration": 4407,
    "start_time": "2022-07-04T10:08:36.736Z"
   },
   {
    "duration": 181,
    "start_time": "2022-07-04T10:08:41.146Z"
   },
   {
    "duration": 412,
    "start_time": "2022-07-04T10:08:41.330Z"
   },
   {
    "duration": 2499,
    "start_time": "2022-07-04T10:08:41.826Z"
   },
   {
    "duration": 2210,
    "start_time": "2022-07-04T10:08:44.327Z"
   },
   {
    "duration": 2394,
    "start_time": "2022-07-04T10:08:46.541Z"
   },
   {
    "duration": 4,
    "start_time": "2022-07-04T10:08:48.937Z"
   },
   {
    "duration": 101,
    "start_time": "2022-07-04T10:08:48.943Z"
   },
   {
    "duration": 511,
    "start_time": "2022-07-04T10:08:49.126Z"
   },
   {
    "duration": 188,
    "start_time": "2022-07-04T10:08:49.639Z"
   },
   {
    "duration": 4596,
    "start_time": "2022-07-04T10:08:49.830Z"
   },
   {
    "duration": 4123,
    "start_time": "2022-07-04T10:08:54.428Z"
   },
   {
    "duration": 3909,
    "start_time": "2022-07-04T10:08:58.627Z"
   },
   {
    "duration": 3104,
    "start_time": "2022-07-04T10:09:02.538Z"
   },
   {
    "duration": 387,
    "start_time": "2022-07-04T10:09:05.644Z"
   },
   {
    "duration": 406,
    "start_time": "2022-07-04T10:09:06.032Z"
   },
   {
    "duration": 4885,
    "start_time": "2022-07-04T10:09:06.440Z"
   },
   {
    "duration": 3203,
    "start_time": "2022-07-04T10:09:11.327Z"
   },
   {
    "duration": 28096,
    "start_time": "2022-07-04T10:09:14.533Z"
   },
   {
    "duration": 1869,
    "start_time": "2022-07-05T17:50:01.705Z"
   },
   {
    "duration": 1665,
    "start_time": "2022-07-08T18:28:02.737Z"
   },
   {
    "duration": 1199,
    "start_time": "2022-07-08T18:28:04.404Z"
   },
   {
    "duration": 16,
    "start_time": "2022-07-08T18:28:05.605Z"
   },
   {
    "duration": 136,
    "start_time": "2022-07-08T18:28:05.622Z"
   },
   {
    "duration": 458,
    "start_time": "2022-07-08T18:28:05.761Z"
   },
   {
    "duration": 497,
    "start_time": "2022-07-08T18:28:06.221Z"
   },
   {
    "duration": 459,
    "start_time": "2022-07-08T18:28:06.720Z"
   },
   {
    "duration": 3,
    "start_time": "2022-07-08T18:28:07.180Z"
   },
   {
    "duration": 15,
    "start_time": "2022-07-08T18:28:07.185Z"
   },
   {
    "duration": 104,
    "start_time": "2022-07-08T18:28:07.201Z"
   },
   {
    "duration": 22,
    "start_time": "2022-07-08T18:28:07.306Z"
   },
   {
    "duration": 841,
    "start_time": "2022-07-08T18:28:07.329Z"
   },
   {
    "duration": 881,
    "start_time": "2022-07-08T18:28:08.171Z"
   },
   {
    "duration": 821,
    "start_time": "2022-07-08T18:28:09.056Z"
   },
   {
    "duration": 831,
    "start_time": "2022-07-08T18:28:09.879Z"
   },
   {
    "duration": 95,
    "start_time": "2022-07-08T18:28:10.711Z"
   },
   {
    "duration": 82,
    "start_time": "2022-07-08T18:28:10.808Z"
   },
   {
    "duration": 897,
    "start_time": "2022-07-08T18:28:10.891Z"
   },
   {
    "duration": 692,
    "start_time": "2022-07-08T18:28:11.790Z"
   },
   {
    "duration": 6077,
    "start_time": "2022-07-08T18:28:12.483Z"
   },
   {
    "duration": 1423,
    "start_time": "2022-07-08T18:28:36.715Z"
   },
   {
    "duration": 983,
    "start_time": "2022-07-08T18:28:38.140Z"
   },
   {
    "duration": 22,
    "start_time": "2022-07-08T18:28:39.125Z"
   },
   {
    "duration": 132,
    "start_time": "2022-07-08T18:28:39.149Z"
   },
   {
    "duration": 454,
    "start_time": "2022-07-08T18:28:39.282Z"
   },
   {
    "duration": 467,
    "start_time": "2022-07-08T18:28:39.738Z"
   },
   {
    "duration": 421,
    "start_time": "2022-07-08T18:28:40.206Z"
   },
   {
    "duration": 3,
    "start_time": "2022-07-08T18:28:40.629Z"
   },
   {
    "duration": 25,
    "start_time": "2022-07-08T18:28:40.633Z"
   },
   {
    "duration": 101,
    "start_time": "2022-07-08T18:28:40.660Z"
   },
   {
    "duration": 25,
    "start_time": "2022-07-08T18:28:40.763Z"
   },
   {
    "duration": 846,
    "start_time": "2022-07-08T18:28:40.789Z"
   },
   {
    "duration": 835,
    "start_time": "2022-07-08T18:28:41.637Z"
   },
   {
    "duration": 800,
    "start_time": "2022-07-08T18:28:42.474Z"
   },
   {
    "duration": 796,
    "start_time": "2022-07-08T18:28:43.276Z"
   },
   {
    "duration": 95,
    "start_time": "2022-07-08T18:28:44.074Z"
   },
   {
    "duration": 116,
    "start_time": "2022-07-08T18:28:44.171Z"
   },
   {
    "duration": 865,
    "start_time": "2022-07-08T18:28:44.289Z"
   },
   {
    "duration": 674,
    "start_time": "2022-07-08T18:28:45.156Z"
   },
   {
    "duration": 5990,
    "start_time": "2022-07-08T18:28:45.832Z"
   },
   {
    "duration": 171,
    "start_time": "2022-07-08T18:28:51.824Z"
   },
   {
    "duration": 12253,
    "start_time": "2022-07-08T18:28:51.997Z"
   },
   {
    "duration": 140,
    "start_time": "2022-07-08T18:29:04.252Z"
   },
   {
    "duration": 54,
    "start_time": "2022-07-08T18:29:04.394Z"
   },
   {
    "duration": 1119,
    "start_time": "2022-07-08T18:29:04.449Z"
   },
   {
    "duration": 3,
    "start_time": "2022-07-08T18:29:23.707Z"
   },
   {
    "duration": 1427,
    "start_time": "2022-07-08T18:29:28.584Z"
   },
   {
    "duration": 979,
    "start_time": "2022-07-08T18:29:30.013Z"
   },
   {
    "duration": 16,
    "start_time": "2022-07-08T18:29:30.994Z"
   },
   {
    "duration": 139,
    "start_time": "2022-07-08T18:29:31.012Z"
   },
   {
    "duration": 475,
    "start_time": "2022-07-08T18:29:31.153Z"
   },
   {
    "duration": 511,
    "start_time": "2022-07-08T18:29:31.630Z"
   },
   {
    "duration": 487,
    "start_time": "2022-07-08T18:29:32.143Z"
   },
   {
    "duration": 3,
    "start_time": "2022-07-08T18:29:32.632Z"
   },
   {
    "duration": 20,
    "start_time": "2022-07-08T18:29:32.637Z"
   },
   {
    "duration": 102,
    "start_time": "2022-07-08T18:29:32.661Z"
   },
   {
    "duration": 25,
    "start_time": "2022-07-08T18:29:32.765Z"
   },
   {
    "duration": 837,
    "start_time": "2022-07-08T18:29:32.793Z"
   },
   {
    "duration": 884,
    "start_time": "2022-07-08T18:29:33.632Z"
   },
   {
    "duration": 840,
    "start_time": "2022-07-08T18:29:34.518Z"
   },
   {
    "duration": 813,
    "start_time": "2022-07-08T18:29:35.360Z"
   },
   {
    "duration": 108,
    "start_time": "2022-07-08T18:29:36.175Z"
   },
   {
    "duration": 90,
    "start_time": "2022-07-08T18:29:36.285Z"
   },
   {
    "duration": 949,
    "start_time": "2022-07-08T18:29:36.377Z"
   },
   {
    "duration": 685,
    "start_time": "2022-07-08T18:29:37.328Z"
   },
   {
    "duration": 5959,
    "start_time": "2022-07-08T18:29:38.015Z"
   },
   {
    "duration": 157,
    "start_time": "2022-07-08T18:29:43.976Z"
   },
   {
    "duration": 12116,
    "start_time": "2022-07-08T18:29:44.135Z"
   },
   {
    "duration": 159,
    "start_time": "2022-07-08T18:29:56.253Z"
   },
   {
    "duration": 52,
    "start_time": "2022-07-08T18:29:56.414Z"
   },
   {
    "duration": 1087,
    "start_time": "2022-07-08T18:29:56.468Z"
   },
   {
    "duration": 1483,
    "start_time": "2022-07-08T18:31:03.749Z"
   },
   {
    "duration": 968,
    "start_time": "2022-07-08T18:31:05.234Z"
   },
   {
    "duration": 17,
    "start_time": "2022-07-08T18:31:06.204Z"
   },
   {
    "duration": 132,
    "start_time": "2022-07-08T18:31:06.223Z"
   },
   {
    "duration": 500,
    "start_time": "2022-07-08T18:31:06.357Z"
   },
   {
    "duration": 529,
    "start_time": "2022-07-08T18:31:06.859Z"
   },
   {
    "duration": 513,
    "start_time": "2022-07-08T18:31:07.390Z"
   },
   {
    "duration": 3,
    "start_time": "2022-07-08T18:31:07.905Z"
   },
   {
    "duration": 19,
    "start_time": "2022-07-08T18:31:07.911Z"
   },
   {
    "duration": 107,
    "start_time": "2022-07-08T18:31:07.945Z"
   },
   {
    "duration": 27,
    "start_time": "2022-07-08T18:31:08.054Z"
   },
   {
    "duration": 845,
    "start_time": "2022-07-08T18:31:08.082Z"
   },
   {
    "duration": 907,
    "start_time": "2022-07-08T18:31:08.929Z"
   },
   {
    "duration": 807,
    "start_time": "2022-07-08T18:31:09.838Z"
   },
   {
    "duration": 813,
    "start_time": "2022-07-08T18:31:10.647Z"
   },
   {
    "duration": 113,
    "start_time": "2022-07-08T18:31:11.462Z"
   },
   {
    "duration": 88,
    "start_time": "2022-07-08T18:31:11.577Z"
   },
   {
    "duration": 983,
    "start_time": "2022-07-08T18:31:11.667Z"
   },
   {
    "duration": 678,
    "start_time": "2022-07-08T18:31:12.651Z"
   },
   {
    "duration": 6150,
    "start_time": "2022-07-08T18:31:13.330Z"
   },
   {
    "duration": 124,
    "start_time": "2022-07-08T19:10:00.310Z"
   },
   {
    "duration": 1472,
    "start_time": "2022-07-08T19:10:03.097Z"
   },
   {
    "duration": 960,
    "start_time": "2022-07-08T19:10:04.571Z"
   },
   {
    "duration": 23,
    "start_time": "2022-07-08T19:10:05.533Z"
   },
   {
    "duration": 126,
    "start_time": "2022-07-08T19:10:05.557Z"
   },
   {
    "duration": 505,
    "start_time": "2022-07-08T19:10:05.685Z"
   },
   {
    "duration": 538,
    "start_time": "2022-07-08T19:10:06.191Z"
   },
   {
    "duration": 485,
    "start_time": "2022-07-08T19:10:06.731Z"
   },
   {
    "duration": 3,
    "start_time": "2022-07-08T19:10:07.218Z"
   },
   {
    "duration": 24,
    "start_time": "2022-07-08T19:10:07.224Z"
   },
   {
    "duration": 103,
    "start_time": "2022-07-08T19:10:07.251Z"
   },
   {
    "duration": 29,
    "start_time": "2022-07-08T19:10:07.356Z"
   },
   {
    "duration": 826,
    "start_time": "2022-07-08T19:10:07.387Z"
   },
   {
    "duration": 890,
    "start_time": "2022-07-08T19:10:08.215Z"
   },
   {
    "duration": 813,
    "start_time": "2022-07-08T19:10:09.107Z"
   },
   {
    "duration": 778,
    "start_time": "2022-07-08T19:10:09.922Z"
   },
   {
    "duration": 94,
    "start_time": "2022-07-08T19:10:10.702Z"
   },
   {
    "duration": 85,
    "start_time": "2022-07-08T19:10:10.797Z"
   },
   {
    "duration": 950,
    "start_time": "2022-07-08T19:10:10.883Z"
   },
   {
    "duration": 711,
    "start_time": "2022-07-08T19:10:11.835Z"
   },
   {
    "duration": 5989,
    "start_time": "2022-07-08T19:10:12.548Z"
   },
   {
    "duration": 1467,
    "start_time": "2022-07-08T19:10:38.446Z"
   },
   {
    "duration": 950,
    "start_time": "2022-07-08T19:10:39.915Z"
   },
   {
    "duration": 16,
    "start_time": "2022-07-08T19:10:40.870Z"
   },
   {
    "duration": 139,
    "start_time": "2022-07-08T19:10:40.888Z"
   },
   {
    "duration": 490,
    "start_time": "2022-07-08T19:10:41.029Z"
   },
   {
    "duration": 526,
    "start_time": "2022-07-08T19:10:41.520Z"
   },
   {
    "duration": 524,
    "start_time": "2022-07-08T19:10:42.048Z"
   },
   {
    "duration": 4,
    "start_time": "2022-07-08T19:10:42.574Z"
   },
   {
    "duration": 24,
    "start_time": "2022-07-08T19:10:42.580Z"
   },
   {
    "duration": 116,
    "start_time": "2022-07-08T19:10:42.605Z"
   },
   {
    "duration": 40,
    "start_time": "2022-07-08T19:10:42.723Z"
   },
   {
    "duration": 926,
    "start_time": "2022-07-08T19:10:42.765Z"
   },
   {
    "duration": 898,
    "start_time": "2022-07-08T19:10:43.694Z"
   },
   {
    "duration": 821,
    "start_time": "2022-07-08T19:10:44.595Z"
   },
   {
    "duration": 777,
    "start_time": "2022-07-08T19:10:45.418Z"
   },
   {
    "duration": 93,
    "start_time": "2022-07-08T19:10:46.197Z"
   },
   {
    "duration": 80,
    "start_time": "2022-07-08T19:10:46.292Z"
   },
   {
    "duration": 983,
    "start_time": "2022-07-08T19:10:46.373Z"
   },
   {
    "duration": 683,
    "start_time": "2022-07-08T19:10:47.357Z"
   },
   {
    "duration": 6173,
    "start_time": "2022-07-08T19:10:48.042Z"
   },
   {
    "duration": 158,
    "start_time": "2022-07-08T19:10:54.217Z"
   },
   {
    "duration": 14371,
    "start_time": "2022-07-08T19:10:54.376Z"
   },
   {
    "duration": 141,
    "start_time": "2022-07-08T19:11:08.749Z"
   },
   {
    "duration": 59,
    "start_time": "2022-07-08T19:11:08.892Z"
   },
   {
    "duration": 1094,
    "start_time": "2022-07-08T19:11:08.953Z"
   },
   {
    "duration": 1396,
    "start_time": "2022-07-08T19:17:15.611Z"
   },
   {
    "duration": 993,
    "start_time": "2022-07-08T19:17:17.009Z"
   },
   {
    "duration": 17,
    "start_time": "2022-07-08T19:17:18.003Z"
   },
   {
    "duration": 135,
    "start_time": "2022-07-08T19:17:18.022Z"
   },
   {
    "duration": 508,
    "start_time": "2022-07-08T19:17:18.159Z"
   },
   {
    "duration": 590,
    "start_time": "2022-07-08T19:17:18.669Z"
   },
   {
    "duration": 497,
    "start_time": "2022-07-08T19:17:19.260Z"
   },
   {
    "duration": 3,
    "start_time": "2022-07-08T19:17:19.758Z"
   },
   {
    "duration": 15,
    "start_time": "2022-07-08T19:17:19.763Z"
   },
   {
    "duration": 104,
    "start_time": "2022-07-08T19:17:19.780Z"
   },
   {
    "duration": 25,
    "start_time": "2022-07-08T19:17:19.886Z"
   },
   {
    "duration": 837,
    "start_time": "2022-07-08T19:17:19.912Z"
   },
   {
    "duration": 829,
    "start_time": "2022-07-08T19:17:20.751Z"
   },
   {
    "duration": 802,
    "start_time": "2022-07-08T19:17:21.582Z"
   },
   {
    "duration": 818,
    "start_time": "2022-07-08T19:17:22.386Z"
   },
   {
    "duration": 107,
    "start_time": "2022-07-08T19:17:23.206Z"
   },
   {
    "duration": 87,
    "start_time": "2022-07-08T19:17:23.315Z"
   },
   {
    "duration": 1034,
    "start_time": "2022-07-08T19:17:23.404Z"
   },
   {
    "duration": 691,
    "start_time": "2022-07-08T19:17:24.440Z"
   },
   {
    "duration": 6189,
    "start_time": "2022-07-08T19:17:25.133Z"
   },
   {
    "duration": 1391,
    "start_time": "2022-07-08T19:24:43.714Z"
   },
   {
    "duration": 965,
    "start_time": "2022-07-08T19:24:45.107Z"
   },
   {
    "duration": 16,
    "start_time": "2022-07-08T19:24:46.074Z"
   },
   {
    "duration": 138,
    "start_time": "2022-07-08T19:24:46.091Z"
   },
   {
    "duration": 501,
    "start_time": "2022-07-08T19:24:46.231Z"
   },
   {
    "duration": 542,
    "start_time": "2022-07-08T19:24:46.734Z"
   },
   {
    "duration": 500,
    "start_time": "2022-07-08T19:24:47.278Z"
   },
   {
    "duration": 3,
    "start_time": "2022-07-08T19:24:47.780Z"
   },
   {
    "duration": 17,
    "start_time": "2022-07-08T19:24:47.784Z"
   },
   {
    "duration": 106,
    "start_time": "2022-07-08T19:24:47.802Z"
   },
   {
    "duration": 27,
    "start_time": "2022-07-08T19:24:47.909Z"
   },
   {
    "duration": 828,
    "start_time": "2022-07-08T19:24:47.945Z"
   },
   {
    "duration": 857,
    "start_time": "2022-07-08T19:24:48.775Z"
   },
   {
    "duration": 817,
    "start_time": "2022-07-08T19:24:49.635Z"
   },
   {
    "duration": 786,
    "start_time": "2022-07-08T19:24:50.454Z"
   },
   {
    "duration": 91,
    "start_time": "2022-07-08T19:24:51.241Z"
   },
   {
    "duration": 88,
    "start_time": "2022-07-08T19:24:51.334Z"
   },
   {
    "duration": 1048,
    "start_time": "2022-07-08T19:24:51.424Z"
   },
   {
    "duration": 956,
    "start_time": "2022-07-08T19:24:52.473Z"
   },
   {
    "duration": 4960,
    "start_time": "2022-07-08T19:24:53.431Z"
   },
   {
    "duration": 3,
    "start_time": "2022-07-08T19:24:58.393Z"
   },
   {
    "duration": 11057,
    "start_time": "2022-07-08T19:24:58.398Z"
   },
   {
    "duration": 157,
    "start_time": "2022-07-08T19:25:09.457Z"
   },
   {
    "duration": 150,
    "start_time": "2022-07-08T19:25:09.615Z"
   },
   {
    "duration": 890,
    "start_time": "2022-07-08T19:25:09.767Z"
   },
   {
    "duration": 98,
    "start_time": "2022-07-08T19:29:21.600Z"
   },
   {
    "duration": 94,
    "start_time": "2022-07-08T19:29:45.645Z"
   },
   {
    "duration": 1510,
    "start_time": "2022-07-08T19:30:01.578Z"
   },
   {
    "duration": 1070,
    "start_time": "2022-07-08T19:30:03.090Z"
   },
   {
    "duration": 18,
    "start_time": "2022-07-08T19:30:04.162Z"
   },
   {
    "duration": 146,
    "start_time": "2022-07-08T19:30:04.183Z"
   },
   {
    "duration": 550,
    "start_time": "2022-07-08T19:30:04.331Z"
   },
   {
    "duration": 561,
    "start_time": "2022-07-08T19:30:04.883Z"
   },
   {
    "duration": 541,
    "start_time": "2022-07-08T19:30:05.447Z"
   },
   {
    "duration": 3,
    "start_time": "2022-07-08T19:30:05.990Z"
   },
   {
    "duration": 23,
    "start_time": "2022-07-08T19:30:05.995Z"
   },
   {
    "duration": 109,
    "start_time": "2022-07-08T19:30:06.022Z"
   },
   {
    "duration": 33,
    "start_time": "2022-07-08T19:30:06.133Z"
   },
   {
    "duration": 848,
    "start_time": "2022-07-08T19:30:06.168Z"
   },
   {
    "duration": 834,
    "start_time": "2022-07-08T19:30:07.018Z"
   },
   {
    "duration": 844,
    "start_time": "2022-07-08T19:30:07.853Z"
   },
   {
    "duration": 869,
    "start_time": "2022-07-08T19:30:08.700Z"
   },
   {
    "duration": 101,
    "start_time": "2022-07-08T19:30:09.571Z"
   },
   {
    "duration": 86,
    "start_time": "2022-07-08T19:30:09.674Z"
   },
   {
    "duration": 1014,
    "start_time": "2022-07-08T19:30:09.761Z"
   },
   {
    "duration": 913,
    "start_time": "2022-07-08T19:30:10.777Z"
   },
   {
    "duration": 5193,
    "start_time": "2022-07-08T19:30:11.691Z"
   },
   {
    "duration": 3,
    "start_time": "2022-07-08T19:30:16.886Z"
   },
   {
    "duration": 11360,
    "start_time": "2022-07-08T19:30:16.891Z"
   },
   {
    "duration": 144,
    "start_time": "2022-07-08T19:30:28.253Z"
   },
   {
    "duration": 149,
    "start_time": "2022-07-08T19:30:28.399Z"
   },
   {
    "duration": 904,
    "start_time": "2022-07-08T19:30:28.550Z"
   },
   {
    "duration": 114,
    "start_time": "2022-07-08T19:30:29.456Z"
   },
   {
    "duration": 1434,
    "start_time": "2022-07-08T19:31:37.759Z"
   },
   {
    "duration": 1005,
    "start_time": "2022-07-08T19:31:39.195Z"
   },
   {
    "duration": 16,
    "start_time": "2022-07-08T19:31:40.202Z"
   },
   {
    "duration": 139,
    "start_time": "2022-07-08T19:31:40.220Z"
   },
   {
    "duration": 510,
    "start_time": "2022-07-08T19:31:40.360Z"
   },
   {
    "duration": 562,
    "start_time": "2022-07-08T19:31:40.872Z"
   },
   {
    "duration": 473,
    "start_time": "2022-07-08T19:31:41.436Z"
   },
   {
    "duration": 3,
    "start_time": "2022-07-08T19:31:41.911Z"
   },
   {
    "duration": 14,
    "start_time": "2022-07-08T19:31:41.916Z"
   },
   {
    "duration": 100,
    "start_time": "2022-07-08T19:31:41.947Z"
   },
   {
    "duration": 27,
    "start_time": "2022-07-08T19:31:42.049Z"
   },
   {
    "duration": 868,
    "start_time": "2022-07-08T19:31:42.078Z"
   },
   {
    "duration": 815,
    "start_time": "2022-07-08T19:31:42.948Z"
   },
   {
    "duration": 832,
    "start_time": "2022-07-08T19:31:43.764Z"
   },
   {
    "duration": 779,
    "start_time": "2022-07-08T19:31:44.598Z"
   },
   {
    "duration": 102,
    "start_time": "2022-07-08T19:31:45.379Z"
   },
   {
    "duration": 91,
    "start_time": "2022-07-08T19:31:45.483Z"
   },
   {
    "duration": 926,
    "start_time": "2022-07-08T19:31:45.575Z"
   },
   {
    "duration": 913,
    "start_time": "2022-07-08T19:31:46.503Z"
   },
   {
    "duration": 4891,
    "start_time": "2022-07-08T19:31:47.417Z"
   },
   {
    "duration": 3,
    "start_time": "2022-07-08T19:31:52.310Z"
   },
   {
    "duration": 12940,
    "start_time": "2022-07-08T19:31:52.314Z"
   },
   {
    "duration": 138,
    "start_time": "2022-07-08T19:32:05.256Z"
   },
   {
    "duration": 158,
    "start_time": "2022-07-08T19:32:05.396Z"
   },
   {
    "duration": 811,
    "start_time": "2022-07-08T19:32:05.556Z"
   },
   {
    "duration": 156,
    "start_time": "2022-07-08T19:32:06.368Z"
   },
   {
    "duration": 1720,
    "start_time": "2022-07-09T12:38:32.356Z"
   },
   {
    "duration": 1209,
    "start_time": "2022-07-09T12:38:34.078Z"
   },
   {
    "duration": 18,
    "start_time": "2022-07-09T12:38:35.289Z"
   },
   {
    "duration": 198,
    "start_time": "2022-07-09T12:38:35.311Z"
   },
   {
    "duration": 499,
    "start_time": "2022-07-09T12:38:35.511Z"
   },
   {
    "duration": 489,
    "start_time": "2022-07-09T12:38:36.012Z"
   },
   {
    "duration": 453,
    "start_time": "2022-07-09T12:38:36.503Z"
   },
   {
    "duration": 8,
    "start_time": "2022-07-09T12:38:36.958Z"
   },
   {
    "duration": 17,
    "start_time": "2022-07-09T12:38:36.968Z"
   },
   {
    "duration": 124,
    "start_time": "2022-07-09T12:38:36.988Z"
   },
   {
    "duration": 23,
    "start_time": "2022-07-09T12:38:37.115Z"
   },
   {
    "duration": 828,
    "start_time": "2022-07-09T12:38:37.140Z"
   },
   {
    "duration": 814,
    "start_time": "2022-07-09T12:38:37.970Z"
   },
   {
    "duration": 821,
    "start_time": "2022-07-09T12:38:38.786Z"
   },
   {
    "duration": 846,
    "start_time": "2022-07-09T12:38:39.608Z"
   },
   {
    "duration": 108,
    "start_time": "2022-07-09T12:38:40.456Z"
   },
   {
    "duration": 83,
    "start_time": "2022-07-09T12:38:40.566Z"
   },
   {
    "duration": 922,
    "start_time": "2022-07-09T12:38:40.651Z"
   },
   {
    "duration": 813,
    "start_time": "2022-07-09T12:38:41.575Z"
   },
   {
    "duration": 588677,
    "start_time": "2022-07-09T12:38:55.693Z"
   },
   {
    "duration": 351,
    "start_time": "2022-07-09T12:58:57.625Z"
   },
   {
    "duration": 1808,
    "start_time": "2022-07-10T14:57:25.946Z"
   },
   {
    "duration": 3052,
    "start_time": "2022-07-10T14:57:27.756Z"
   },
   {
    "duration": 21,
    "start_time": "2022-07-10T14:57:30.810Z"
   },
   {
    "duration": 125,
    "start_time": "2022-07-10T14:57:30.833Z"
   },
   {
    "duration": 580,
    "start_time": "2022-07-10T14:57:30.960Z"
   },
   {
    "duration": 583,
    "start_time": "2022-07-10T14:57:31.543Z"
   },
   {
    "duration": 540,
    "start_time": "2022-07-10T14:57:32.128Z"
   },
   {
    "duration": 4,
    "start_time": "2022-07-10T14:57:32.670Z"
   },
   {
    "duration": 17,
    "start_time": "2022-07-10T14:57:32.676Z"
   },
   {
    "duration": 129,
    "start_time": "2022-07-10T14:57:32.707Z"
   },
   {
    "duration": 27,
    "start_time": "2022-07-10T14:57:32.837Z"
   },
   {
    "duration": 964,
    "start_time": "2022-07-10T14:57:32.865Z"
   },
   {
    "duration": 930,
    "start_time": "2022-07-10T14:57:33.831Z"
   },
   {
    "duration": 927,
    "start_time": "2022-07-10T14:57:34.763Z"
   },
   {
    "duration": 973,
    "start_time": "2022-07-10T14:57:35.692Z"
   },
   {
    "duration": 123,
    "start_time": "2022-07-10T14:57:36.667Z"
   },
   {
    "duration": 93,
    "start_time": "2022-07-10T14:57:36.792Z"
   },
   {
    "duration": 1049,
    "start_time": "2022-07-10T14:57:36.887Z"
   },
   {
    "duration": 838,
    "start_time": "2022-07-10T14:57:37.937Z"
   },
   {
    "duration": 5154,
    "start_time": "2022-07-10T14:57:38.776Z"
   },
   {
    "duration": 1397,
    "start_time": "2022-07-10T15:10:17.635Z"
   },
   {
    "duration": 889,
    "start_time": "2022-07-10T15:10:19.033Z"
   },
   {
    "duration": 17,
    "start_time": "2022-07-10T15:10:19.924Z"
   },
   {
    "duration": 118,
    "start_time": "2022-07-10T15:10:19.942Z"
   },
   {
    "duration": 491,
    "start_time": "2022-07-10T15:10:20.062Z"
   },
   {
    "duration": 509,
    "start_time": "2022-07-10T15:10:20.554Z"
   },
   {
    "duration": 466,
    "start_time": "2022-07-10T15:10:21.064Z"
   },
   {
    "duration": 3,
    "start_time": "2022-07-10T15:10:21.531Z"
   },
   {
    "duration": 17,
    "start_time": "2022-07-10T15:10:21.536Z"
   },
   {
    "duration": 110,
    "start_time": "2022-07-10T15:10:21.554Z"
   },
   {
    "duration": 24,
    "start_time": "2022-07-10T15:10:21.666Z"
   },
   {
    "duration": 851,
    "start_time": "2022-07-10T15:10:21.692Z"
   },
   {
    "duration": 847,
    "start_time": "2022-07-10T15:10:22.546Z"
   },
   {
    "duration": 836,
    "start_time": "2022-07-10T15:10:23.396Z"
   },
   {
    "duration": 787,
    "start_time": "2022-07-10T15:10:24.233Z"
   },
   {
    "duration": 88,
    "start_time": "2022-07-10T15:10:25.022Z"
   },
   {
    "duration": 68,
    "start_time": "2022-07-10T15:10:25.114Z"
   },
   {
    "duration": 899,
    "start_time": "2022-07-10T15:10:25.184Z"
   },
   {
    "duration": 909,
    "start_time": "2022-07-10T15:10:26.084Z"
   },
   {
    "duration": 5095,
    "start_time": "2022-07-10T15:10:26.995Z"
   },
   {
    "duration": 1417,
    "start_time": "2022-07-10T15:11:06.562Z"
   },
   {
    "duration": 968,
    "start_time": "2022-07-10T15:11:07.981Z"
   },
   {
    "duration": 15,
    "start_time": "2022-07-10T15:11:08.951Z"
   },
   {
    "duration": 122,
    "start_time": "2022-07-10T15:11:08.968Z"
   },
   {
    "duration": 499,
    "start_time": "2022-07-10T15:11:09.093Z"
   },
   {
    "duration": 548,
    "start_time": "2022-07-10T15:11:09.594Z"
   },
   {
    "duration": 504,
    "start_time": "2022-07-10T15:11:10.144Z"
   },
   {
    "duration": 4,
    "start_time": "2022-07-10T15:11:10.650Z"
   },
   {
    "duration": 19,
    "start_time": "2022-07-10T15:11:10.655Z"
   },
   {
    "duration": 112,
    "start_time": "2022-07-10T15:11:10.675Z"
   },
   {
    "duration": 34,
    "start_time": "2022-07-10T15:11:10.789Z"
   },
   {
    "duration": 870,
    "start_time": "2022-07-10T15:11:10.825Z"
   },
   {
    "duration": 940,
    "start_time": "2022-07-10T15:11:11.705Z"
   },
   {
    "duration": 888,
    "start_time": "2022-07-10T15:11:12.649Z"
   },
   {
    "duration": 820,
    "start_time": "2022-07-10T15:11:13.539Z"
   },
   {
    "duration": 94,
    "start_time": "2022-07-10T15:11:14.361Z"
   },
   {
    "duration": 78,
    "start_time": "2022-07-10T15:11:14.457Z"
   },
   {
    "duration": 996,
    "start_time": "2022-07-10T15:11:14.537Z"
   },
   {
    "duration": 933,
    "start_time": "2022-07-10T15:11:15.535Z"
   },
   {
    "duration": 5268,
    "start_time": "2022-07-10T15:11:16.469Z"
   },
   {
    "duration": 1332,
    "start_time": "2022-07-10T15:12:24.254Z"
   },
   {
    "duration": 903,
    "start_time": "2022-07-10T15:12:25.588Z"
   },
   {
    "duration": 19,
    "start_time": "2022-07-10T15:12:26.505Z"
   },
   {
    "duration": 135,
    "start_time": "2022-07-10T15:12:26.526Z"
   },
   {
    "duration": 480,
    "start_time": "2022-07-10T15:12:26.663Z"
   },
   {
    "duration": 517,
    "start_time": "2022-07-10T15:12:27.144Z"
   },
   {
    "duration": 472,
    "start_time": "2022-07-10T15:12:27.662Z"
   },
   {
    "duration": 3,
    "start_time": "2022-07-10T15:12:28.136Z"
   },
   {
    "duration": 17,
    "start_time": "2022-07-10T15:12:28.141Z"
   },
   {
    "duration": 105,
    "start_time": "2022-07-10T15:12:28.159Z"
   },
   {
    "duration": 26,
    "start_time": "2022-07-10T15:12:28.266Z"
   },
   {
    "duration": 854,
    "start_time": "2022-07-10T15:12:28.304Z"
   },
   {
    "duration": 855,
    "start_time": "2022-07-10T15:12:29.162Z"
   },
   {
    "duration": 966,
    "start_time": "2022-07-10T15:12:30.020Z"
   },
   {
    "duration": 790,
    "start_time": "2022-07-10T15:12:30.987Z"
   },
   {
    "duration": 82,
    "start_time": "2022-07-10T15:12:31.779Z"
   },
   {
    "duration": 77,
    "start_time": "2022-07-10T15:12:31.863Z"
   },
   {
    "duration": 917,
    "start_time": "2022-07-10T15:12:31.942Z"
   },
   {
    "duration": 894,
    "start_time": "2022-07-10T15:12:32.861Z"
   },
   {
    "duration": 4933,
    "start_time": "2022-07-10T15:12:33.756Z"
   },
   {
    "duration": 1926190,
    "start_time": "2022-07-10T15:12:38.691Z"
   },
   {
    "duration": 11322,
    "start_time": "2022-07-10T15:44:44.883Z"
   },
   {
    "duration": 112,
    "start_time": "2022-07-10T15:44:56.206Z"
   },
   {
    "duration": 233,
    "start_time": "2022-07-10T15:44:56.320Z"
   },
   {
    "duration": 859,
    "start_time": "2022-07-10T15:44:56.555Z"
   },
   {
    "duration": 129,
    "start_time": "2022-07-10T15:44:57.416Z"
   },
   {
    "duration": 1367,
    "start_time": "2022-07-10T15:54:51.293Z"
   },
   {
    "duration": 898,
    "start_time": "2022-07-10T15:54:52.662Z"
   },
   {
    "duration": 17,
    "start_time": "2022-07-10T15:54:53.562Z"
   },
   {
    "duration": 116,
    "start_time": "2022-07-10T15:54:53.580Z"
   },
   {
    "duration": 466,
    "start_time": "2022-07-10T15:54:53.698Z"
   },
   {
    "duration": 526,
    "start_time": "2022-07-10T15:54:54.166Z"
   },
   {
    "duration": 455,
    "start_time": "2022-07-10T15:54:54.693Z"
   },
   {
    "duration": 4,
    "start_time": "2022-07-10T15:54:55.149Z"
   },
   {
    "duration": 15,
    "start_time": "2022-07-10T15:54:55.154Z"
   },
   {
    "duration": 99,
    "start_time": "2022-07-10T15:54:55.171Z"
   },
   {
    "duration": 32,
    "start_time": "2022-07-10T15:54:55.272Z"
   },
   {
    "duration": 834,
    "start_time": "2022-07-10T15:54:55.306Z"
   },
   {
    "duration": 824,
    "start_time": "2022-07-10T15:54:56.141Z"
   },
   {
    "duration": 775,
    "start_time": "2022-07-10T15:54:56.968Z"
   },
   {
    "duration": 749,
    "start_time": "2022-07-10T15:54:57.744Z"
   },
   {
    "duration": 72,
    "start_time": "2022-07-10T15:54:58.494Z"
   },
   {
    "duration": 74,
    "start_time": "2022-07-10T15:54:58.568Z"
   },
   {
    "duration": 786,
    "start_time": "2022-07-10T15:54:58.644Z"
   },
   {
    "duration": 889,
    "start_time": "2022-07-10T15:54:59.432Z"
   },
   {
    "duration": 4949,
    "start_time": "2022-07-10T15:55:00.323Z"
   },
   {
    "duration": 2410229,
    "start_time": "2022-07-10T15:55:05.274Z"
   },
   {
    "duration": 80501,
    "start_time": "2022-07-10T16:35:15.506Z"
   },
   {
    "duration": 210,
    "start_time": "2022-07-10T16:36:36.009Z"
   },
   {
    "duration": 924,
    "start_time": "2022-07-10T16:36:36.221Z"
   },
   {
    "duration": 1177,
    "start_time": "2022-07-10T16:36:37.147Z"
   },
   {
    "duration": 218,
    "start_time": "2022-07-10T16:36:38.325Z"
   },
   {
    "duration": 60,
    "start_time": "2022-07-10T16:36:38.546Z"
   },
   {
    "duration": 1292,
    "start_time": "2022-07-10T16:37:42.144Z"
   },
   {
    "duration": 861,
    "start_time": "2022-07-10T16:37:43.437Z"
   },
   {
    "duration": 20,
    "start_time": "2022-07-10T16:37:44.299Z"
   },
   {
    "duration": 102,
    "start_time": "2022-07-10T16:37:44.321Z"
   },
   {
    "duration": 462,
    "start_time": "2022-07-10T16:37:44.426Z"
   },
   {
    "duration": 503,
    "start_time": "2022-07-10T16:37:44.890Z"
   },
   {
    "duration": 453,
    "start_time": "2022-07-10T16:37:45.395Z"
   },
   {
    "duration": 4,
    "start_time": "2022-07-10T16:37:45.849Z"
   },
   {
    "duration": 15,
    "start_time": "2022-07-10T16:37:45.854Z"
   },
   {
    "duration": 97,
    "start_time": "2022-07-10T16:37:45.871Z"
   },
   {
    "duration": 23,
    "start_time": "2022-07-10T16:37:45.970Z"
   },
   {
    "duration": 866,
    "start_time": "2022-07-10T16:37:46.004Z"
   },
   {
    "duration": 797,
    "start_time": "2022-07-10T16:37:46.872Z"
   },
   {
    "duration": 788,
    "start_time": "2022-07-10T16:37:47.672Z"
   },
   {
    "duration": 744,
    "start_time": "2022-07-10T16:37:48.462Z"
   },
   {
    "duration": 76,
    "start_time": "2022-07-10T16:37:49.208Z"
   },
   {
    "duration": 76,
    "start_time": "2022-07-10T16:37:49.286Z"
   },
   {
    "duration": 901,
    "start_time": "2022-07-10T16:37:49.364Z"
   },
   {
    "duration": 889,
    "start_time": "2022-07-10T16:37:50.267Z"
   },
   {
    "duration": 4881,
    "start_time": "2022-07-10T16:37:51.157Z"
   },
   {
    "duration": 2591069,
    "start_time": "2022-07-10T16:37:56.040Z"
   },
   {
    "duration": 13688,
    "start_time": "2022-07-10T17:21:07.117Z"
   },
   {
    "duration": 112,
    "start_time": "2022-07-10T17:21:20.807Z"
   },
   {
    "duration": 468,
    "start_time": "2022-07-10T17:21:20.921Z"
   },
   {
    "duration": 837,
    "start_time": "2022-07-10T17:21:21.390Z"
   },
   {
    "duration": 155,
    "start_time": "2022-07-10T17:21:22.228Z"
   },
   {
    "duration": 20,
    "start_time": "2022-07-10T17:21:22.385Z"
   },
   {
    "duration": 88,
    "start_time": "2022-07-10T17:29:50.835Z"
   },
   {
    "duration": 890,
    "start_time": "2022-07-10T17:30:12.820Z"
   },
   {
    "duration": 96,
    "start_time": "2022-07-10T17:30:16.430Z"
   },
   {
    "duration": 886,
    "start_time": "2022-07-10T17:30:40.238Z"
   },
   {
    "duration": 1474,
    "start_time": "2022-07-10T17:32:56.835Z"
   },
   {
    "duration": 909,
    "start_time": "2022-07-10T17:32:58.311Z"
   },
   {
    "duration": 17,
    "start_time": "2022-07-10T17:32:59.221Z"
   },
   {
    "duration": 125,
    "start_time": "2022-07-10T17:32:59.240Z"
   },
   {
    "duration": 521,
    "start_time": "2022-07-10T17:32:59.366Z"
   },
   {
    "duration": 572,
    "start_time": "2022-07-10T17:32:59.888Z"
   },
   {
    "duration": 487,
    "start_time": "2022-07-10T17:33:00.462Z"
   },
   {
    "duration": 3,
    "start_time": "2022-07-10T17:33:00.951Z"
   },
   {
    "duration": 22,
    "start_time": "2022-07-10T17:33:00.956Z"
   },
   {
    "duration": 112,
    "start_time": "2022-07-10T17:33:00.981Z"
   },
   {
    "duration": 28,
    "start_time": "2022-07-10T17:33:01.095Z"
   },
   {
    "duration": 856,
    "start_time": "2022-07-10T17:33:01.125Z"
   },
   {
    "duration": 890,
    "start_time": "2022-07-10T17:33:01.983Z"
   },
   {
    "duration": 811,
    "start_time": "2022-07-10T17:33:02.875Z"
   },
   {
    "duration": 792,
    "start_time": "2022-07-10T17:33:03.687Z"
   },
   {
    "duration": 82,
    "start_time": "2022-07-10T17:33:04.481Z"
   },
   {
    "duration": 76,
    "start_time": "2022-07-10T17:33:04.565Z"
   },
   {
    "duration": 887,
    "start_time": "2022-07-10T17:33:04.643Z"
   },
   {
    "duration": 858,
    "start_time": "2022-07-10T17:33:05.532Z"
   },
   {
    "duration": 4874,
    "start_time": "2022-07-10T17:33:06.391Z"
   },
   {
    "duration": 3293906,
    "start_time": "2022-07-10T17:33:11.266Z"
   },
   {
    "duration": 5,
    "start_time": "2022-07-10T18:28:05.173Z"
   },
   {
    "duration": 9831,
    "start_time": "2022-07-10T18:28:05.180Z"
   },
   {
    "duration": 160,
    "start_time": "2022-07-10T18:28:15.013Z"
   },
   {
    "duration": 448,
    "start_time": "2022-07-10T18:28:15.175Z"
   },
   {
    "duration": 885,
    "start_time": "2022-07-10T18:28:15.625Z"
   },
   {
    "duration": 910,
    "start_time": "2022-07-10T18:28:16.512Z"
   },
   {
    "duration": 1455,
    "start_time": "2022-07-10T18:35:54.789Z"
   },
   {
    "duration": 925,
    "start_time": "2022-07-10T18:35:56.245Z"
   },
   {
    "duration": 15,
    "start_time": "2022-07-10T18:35:57.172Z"
   },
   {
    "duration": 118,
    "start_time": "2022-07-10T18:35:57.189Z"
   },
   {
    "duration": 458,
    "start_time": "2022-07-10T18:35:57.309Z"
   },
   {
    "duration": 488,
    "start_time": "2022-07-10T18:35:57.768Z"
   },
   {
    "duration": 436,
    "start_time": "2022-07-10T18:35:58.257Z"
   },
   {
    "duration": 3,
    "start_time": "2022-07-10T18:35:58.694Z"
   },
   {
    "duration": 15,
    "start_time": "2022-07-10T18:35:58.703Z"
   },
   {
    "duration": 97,
    "start_time": "2022-07-10T18:35:58.720Z"
   },
   {
    "duration": 26,
    "start_time": "2022-07-10T18:35:58.819Z"
   },
   {
    "duration": 796,
    "start_time": "2022-07-10T18:35:58.846Z"
   },
   {
    "duration": 821,
    "start_time": "2022-07-10T18:35:59.644Z"
   },
   {
    "duration": 854,
    "start_time": "2022-07-10T18:36:00.468Z"
   },
   {
    "duration": 795,
    "start_time": "2022-07-10T18:36:01.324Z"
   },
   {
    "duration": 85,
    "start_time": "2022-07-10T18:36:02.120Z"
   },
   {
    "duration": 64,
    "start_time": "2022-07-10T18:36:02.206Z"
   },
   {
    "duration": 784,
    "start_time": "2022-07-10T18:36:02.272Z"
   },
   {
    "duration": 847,
    "start_time": "2022-07-10T18:36:03.057Z"
   },
   {
    "duration": 4970,
    "start_time": "2022-07-10T18:36:03.905Z"
   },
   {
    "duration": 2106023,
    "start_time": "2022-07-10T18:36:08.877Z"
   },
   {
    "duration": 4,
    "start_time": "2022-07-10T19:11:14.904Z"
   },
   {
    "duration": 10701,
    "start_time": "2022-07-10T19:11:14.910Z"
   },
   {
    "duration": 177,
    "start_time": "2022-07-10T19:11:25.613Z"
   },
   {
    "duration": 453,
    "start_time": "2022-07-10T19:11:25.791Z"
   },
   {
    "duration": 881,
    "start_time": "2022-07-10T19:11:26.246Z"
   },
   {
    "duration": 892,
    "start_time": "2022-07-10T19:11:27.129Z"
   }
  ],
  "kernelspec": {
   "display_name": "Python 3 (ipykernel)",
   "language": "python",
   "name": "python3"
  },
  "language_info": {
   "codemirror_mode": {
    "name": "ipython",
    "version": 3
   },
   "file_extension": ".py",
   "mimetype": "text/x-python",
   "name": "python",
   "nbconvert_exporter": "python",
   "pygments_lexer": "ipython3",
   "version": "3.9.7"
  },
  "toc": {
   "base_numbering": 1,
   "nav_menu": {},
   "number_sections": true,
   "sideBar": true,
   "skip_h1_title": true,
   "title_cell": "Table of Contents",
   "title_sidebar": "Contents",
   "toc_cell": false,
   "toc_position": {},
   "toc_section_display": true,
   "toc_window_display": false
  }
 },
 "nbformat": 4,
 "nbformat_minor": 2
}
