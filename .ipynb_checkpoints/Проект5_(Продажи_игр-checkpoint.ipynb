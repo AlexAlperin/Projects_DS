{
 "cells": [
  {
   "cell_type": "markdown",
   "metadata": {},
   "source": [
    "# Мы работаем в интернет-магазине «Стримчик», который продаёт по всему миру компьютерные игры. Из открытых источников доступны исторические данные о продажах игр, оценки пользователей и экспертов, жанры и платформы (например, Xbox или PlayStation). Нам нужно выявить определяющие успешность игры закономерности. Это позволит сделать ставку на потенциально популярный продукт и спланировать рекламные кампании.   Перед нами данные до 2016 года. Представим, что сейчас декабрь 2016 г., и мы планируем кампанию на 2017-й. Нужно отработать принцип работы с данными. \n",
    "# *Описание данных:*\n",
    "# Name — название игры\n",
    "# Platform — платформа\n",
    "# Year_of_Release — год выпуска\n",
    "# Genre — жанр игры\n",
    "# NA_sales — продажи в Северной Америке (миллионы проданных копий)\n",
    "# EU_sales — продажи в Европе (миллионы проданных копий)\n",
    "# JP_sales — продажи в Японии (миллионы проданных копий)\n",
    "# Other_sales — продажи в других странах (миллионы проданных копий)\n",
    "# Critic_Score — оценка критиков (максимум 100)\n",
    "# User_Score — оценка пользователей (максимум 10)\n",
    "# Rating — рейтинг от организации ESRB (англ. Entertainment Software Rating Board). Эта ассоциация определяет рейтинг компьютерных игр и присваивает им подходящую возрастную категорию.\n",
    "\n",
    "# *План выполнения проекта:*\n",
    "# 1. Выполнить анализ и подготовку данных\n",
    "# 2. Провести исследовательский анализ данных -  \n",
    "# Cколько игр выпускалось в разные годы. Важны ли данные за все периоды?\n",
    "# Как менялись продажи по платформам? За какой характерный срок появляются новые и исчезают старые платформы?\n",
    "# Какие платформы лидируют по продажам, растут или падают?\n",
    "# Как влияют на продажи внутри одной популярной платформы отзывы пользователей и критиков?\n",
    "# Что можно сказать о самых прибыльных жанрах? Выделяются ли жанры с высокими и низкими продажами?\n",
    "# 3. Определить для пользователя каждого региона - самые популярные платформы (топ-5), самые популярные жанры (топ-5), влияет ли рейтинг ESRB на продажи в отдельном регионе?\n",
    "# 4. Проверка гипотез - Средние пользовательские рейтинги платформ Xbox One и PC одинаковые, Средние пользовательские рейтинги жанров Action (англ. «действие», экшен-игры) и Sports (англ. «спортивные соревнования») разные"
   ]
  },
  {
   "cell_type": "markdown",
   "metadata": {},
   "source": [
    "## Импорт библиотек и анализ данных"
   ]
  },
  {
   "cell_type": "code",
   "execution_count": 1,
   "metadata": {},
   "outputs": [],
   "source": [
    "import pandas as pd\n",
    "import numpy as np\n",
    "import matplotlib.pyplot as plt\n",
    "from scipy import stats as st"
   ]
  },
  {
   "cell_type": "code",
   "execution_count": 2,
   "metadata": {
    "scrolled": false
   },
   "outputs": [
    {
     "data": {
      "text/html": [
       "<div>\n",
       "<style scoped>\n",
       "    .dataframe tbody tr th:only-of-type {\n",
       "        vertical-align: middle;\n",
       "    }\n",
       "\n",
       "    .dataframe tbody tr th {\n",
       "        vertical-align: top;\n",
       "    }\n",
       "\n",
       "    .dataframe thead th {\n",
       "        text-align: right;\n",
       "    }\n",
       "</style>\n",
       "<table border=\"1\" class=\"dataframe\">\n",
       "  <thead>\n",
       "    <tr style=\"text-align: right;\">\n",
       "      <th></th>\n",
       "      <th>Name</th>\n",
       "      <th>Platform</th>\n",
       "      <th>Year_of_Release</th>\n",
       "      <th>Genre</th>\n",
       "      <th>NA_sales</th>\n",
       "      <th>EU_sales</th>\n",
       "      <th>JP_sales</th>\n",
       "      <th>Other_sales</th>\n",
       "      <th>Critic_Score</th>\n",
       "      <th>User_Score</th>\n",
       "      <th>Rating</th>\n",
       "    </tr>\n",
       "  </thead>\n",
       "  <tbody>\n",
       "    <tr>\n",
       "      <th>0</th>\n",
       "      <td>Wii Sports</td>\n",
       "      <td>Wii</td>\n",
       "      <td>2006.0</td>\n",
       "      <td>Sports</td>\n",
       "      <td>41.36</td>\n",
       "      <td>28.96</td>\n",
       "      <td>3.77</td>\n",
       "      <td>8.45</td>\n",
       "      <td>76.0</td>\n",
       "      <td>8</td>\n",
       "      <td>E</td>\n",
       "    </tr>\n",
       "    <tr>\n",
       "      <th>1</th>\n",
       "      <td>Super Mario Bros.</td>\n",
       "      <td>NES</td>\n",
       "      <td>1985.0</td>\n",
       "      <td>Platform</td>\n",
       "      <td>29.08</td>\n",
       "      <td>3.58</td>\n",
       "      <td>6.81</td>\n",
       "      <td>0.77</td>\n",
       "      <td>NaN</td>\n",
       "      <td>NaN</td>\n",
       "      <td>NaN</td>\n",
       "    </tr>\n",
       "    <tr>\n",
       "      <th>2</th>\n",
       "      <td>Mario Kart Wii</td>\n",
       "      <td>Wii</td>\n",
       "      <td>2008.0</td>\n",
       "      <td>Racing</td>\n",
       "      <td>15.68</td>\n",
       "      <td>12.76</td>\n",
       "      <td>3.79</td>\n",
       "      <td>3.29</td>\n",
       "      <td>82.0</td>\n",
       "      <td>8.3</td>\n",
       "      <td>E</td>\n",
       "    </tr>\n",
       "    <tr>\n",
       "      <th>3</th>\n",
       "      <td>Wii Sports Resort</td>\n",
       "      <td>Wii</td>\n",
       "      <td>2009.0</td>\n",
       "      <td>Sports</td>\n",
       "      <td>15.61</td>\n",
       "      <td>10.93</td>\n",
       "      <td>3.28</td>\n",
       "      <td>2.95</td>\n",
       "      <td>80.0</td>\n",
       "      <td>8</td>\n",
       "      <td>E</td>\n",
       "    </tr>\n",
       "    <tr>\n",
       "      <th>4</th>\n",
       "      <td>Pokemon Red/Pokemon Blue</td>\n",
       "      <td>GB</td>\n",
       "      <td>1996.0</td>\n",
       "      <td>Role-Playing</td>\n",
       "      <td>11.27</td>\n",
       "      <td>8.89</td>\n",
       "      <td>10.22</td>\n",
       "      <td>1.00</td>\n",
       "      <td>NaN</td>\n",
       "      <td>NaN</td>\n",
       "      <td>NaN</td>\n",
       "    </tr>\n",
       "  </tbody>\n",
       "</table>\n",
       "</div>"
      ],
      "text/plain": [
       "                       Name Platform  Year_of_Release         Genre  NA_sales  \\\n",
       "0                Wii Sports      Wii           2006.0        Sports     41.36   \n",
       "1         Super Mario Bros.      NES           1985.0      Platform     29.08   \n",
       "2            Mario Kart Wii      Wii           2008.0        Racing     15.68   \n",
       "3         Wii Sports Resort      Wii           2009.0        Sports     15.61   \n",
       "4  Pokemon Red/Pokemon Blue       GB           1996.0  Role-Playing     11.27   \n",
       "\n",
       "   EU_sales  JP_sales  Other_sales  Critic_Score User_Score Rating  \n",
       "0     28.96      3.77         8.45          76.0          8      E  \n",
       "1      3.58      6.81         0.77           NaN        NaN    NaN  \n",
       "2     12.76      3.79         3.29          82.0        8.3      E  \n",
       "3     10.93      3.28         2.95          80.0          8      E  \n",
       "4      8.89     10.22         1.00           NaN        NaN    NaN  "
      ]
     },
     "metadata": {},
     "output_type": "display_data"
    }
   ],
   "source": [
    "games=pd.read_csv('/datasets/games.csv')\n",
    "display(games.head())\n",
    "games.describe()\n",
    "games.columns=games.columns.str.lower() \n"
   ]
  },
  {
   "cell_type": "code",
   "execution_count": 3,
   "metadata": {
    "scrolled": false
   },
   "outputs": [
    {
     "data": {
      "text/html": [
       "<div>\n",
       "<style scoped>\n",
       "    .dataframe tbody tr th:only-of-type {\n",
       "        vertical-align: middle;\n",
       "    }\n",
       "\n",
       "    .dataframe tbody tr th {\n",
       "        vertical-align: top;\n",
       "    }\n",
       "\n",
       "    .dataframe thead th {\n",
       "        text-align: right;\n",
       "    }\n",
       "</style>\n",
       "<table border=\"1\" class=\"dataframe\">\n",
       "  <thead>\n",
       "    <tr style=\"text-align: right;\">\n",
       "      <th></th>\n",
       "      <th>name</th>\n",
       "      <th>platform</th>\n",
       "      <th>year_of_release</th>\n",
       "      <th>genre</th>\n",
       "      <th>na_sales</th>\n",
       "      <th>eu_sales</th>\n",
       "      <th>jp_sales</th>\n",
       "      <th>other_sales</th>\n",
       "      <th>critic_score</th>\n",
       "      <th>user_score</th>\n",
       "      <th>rating</th>\n",
       "    </tr>\n",
       "  </thead>\n",
       "  <tbody>\n",
       "    <tr>\n",
       "      <th>0</th>\n",
       "      <td>Wii Sports</td>\n",
       "      <td>Wii</td>\n",
       "      <td>2006.0</td>\n",
       "      <td>Sports</td>\n",
       "      <td>41.36</td>\n",
       "      <td>28.96</td>\n",
       "      <td>3.77</td>\n",
       "      <td>8.45</td>\n",
       "      <td>76.0</td>\n",
       "      <td>8</td>\n",
       "      <td>E</td>\n",
       "    </tr>\n",
       "    <tr>\n",
       "      <th>1</th>\n",
       "      <td>Super Mario Bros.</td>\n",
       "      <td>NES</td>\n",
       "      <td>1985.0</td>\n",
       "      <td>Platform</td>\n",
       "      <td>29.08</td>\n",
       "      <td>3.58</td>\n",
       "      <td>6.81</td>\n",
       "      <td>0.77</td>\n",
       "      <td>NaN</td>\n",
       "      <td>NaN</td>\n",
       "      <td>NaN</td>\n",
       "    </tr>\n",
       "    <tr>\n",
       "      <th>2</th>\n",
       "      <td>Mario Kart Wii</td>\n",
       "      <td>Wii</td>\n",
       "      <td>2008.0</td>\n",
       "      <td>Racing</td>\n",
       "      <td>15.68</td>\n",
       "      <td>12.76</td>\n",
       "      <td>3.79</td>\n",
       "      <td>3.29</td>\n",
       "      <td>82.0</td>\n",
       "      <td>8.3</td>\n",
       "      <td>E</td>\n",
       "    </tr>\n",
       "    <tr>\n",
       "      <th>3</th>\n",
       "      <td>Wii Sports Resort</td>\n",
       "      <td>Wii</td>\n",
       "      <td>2009.0</td>\n",
       "      <td>Sports</td>\n",
       "      <td>15.61</td>\n",
       "      <td>10.93</td>\n",
       "      <td>3.28</td>\n",
       "      <td>2.95</td>\n",
       "      <td>80.0</td>\n",
       "      <td>8</td>\n",
       "      <td>E</td>\n",
       "    </tr>\n",
       "    <tr>\n",
       "      <th>4</th>\n",
       "      <td>Pokemon Red/Pokemon Blue</td>\n",
       "      <td>GB</td>\n",
       "      <td>1996.0</td>\n",
       "      <td>Role-Playing</td>\n",
       "      <td>11.27</td>\n",
       "      <td>8.89</td>\n",
       "      <td>10.22</td>\n",
       "      <td>1.00</td>\n",
       "      <td>NaN</td>\n",
       "      <td>NaN</td>\n",
       "      <td>NaN</td>\n",
       "    </tr>\n",
       "  </tbody>\n",
       "</table>\n",
       "</div>"
      ],
      "text/plain": [
       "                       name platform  year_of_release         genre  na_sales  \\\n",
       "0                Wii Sports      Wii           2006.0        Sports     41.36   \n",
       "1         Super Mario Bros.      NES           1985.0      Platform     29.08   \n",
       "2            Mario Kart Wii      Wii           2008.0        Racing     15.68   \n",
       "3         Wii Sports Resort      Wii           2009.0        Sports     15.61   \n",
       "4  Pokemon Red/Pokemon Blue       GB           1996.0  Role-Playing     11.27   \n",
       "\n",
       "   eu_sales  jp_sales  other_sales  critic_score user_score rating  \n",
       "0     28.96      3.77         8.45          76.0          8      E  \n",
       "1      3.58      6.81         0.77           NaN        NaN    NaN  \n",
       "2     12.76      3.79         3.29          82.0        8.3      E  \n",
       "3     10.93      3.28         2.95          80.0          8      E  \n",
       "4      8.89     10.22         1.00           NaN        NaN    NaN  "
      ]
     },
     "metadata": {},
     "output_type": "display_data"
    },
    {
     "name": "stdout",
     "output_type": "stream",
     "text": [
      "<class 'pandas.core.frame.DataFrame'>\n",
      "RangeIndex: 16715 entries, 0 to 16714\n",
      "Data columns (total 11 columns):\n",
      " #   Column           Non-Null Count  Dtype  \n",
      "---  ------           --------------  -----  \n",
      " 0   name             16713 non-null  object \n",
      " 1   platform         16715 non-null  object \n",
      " 2   year_of_release  16446 non-null  float64\n",
      " 3   genre            16713 non-null  object \n",
      " 4   na_sales         16715 non-null  float64\n",
      " 5   eu_sales         16715 non-null  float64\n",
      " 6   jp_sales         16715 non-null  float64\n",
      " 7   other_sales      16715 non-null  float64\n",
      " 8   critic_score     8137 non-null   float64\n",
      " 9   user_score       10014 non-null  object \n",
      " 10  rating           9949 non-null   object \n",
      "dtypes: float64(6), object(5)\n",
      "memory usage: 1.4+ MB\n"
     ]
    },
    {
     "data": {
      "text/plain": [
       "name                  2\n",
       "platform              0\n",
       "year_of_release     269\n",
       "genre                 2\n",
       "na_sales              0\n",
       "eu_sales              0\n",
       "jp_sales              0\n",
       "other_sales           0\n",
       "critic_score       8578\n",
       "user_score         6701\n",
       "rating             6766\n",
       "dtype: int64"
      ]
     },
     "metadata": {},
     "output_type": "display_data"
    },
    {
     "data": {
      "text/plain": [
       "'процент пропусков в столбце name: 0.011965300628178284%'"
      ]
     },
     "metadata": {},
     "output_type": "display_data"
    },
    {
     "data": {
      "text/plain": [
       "'процент пропусков в столбце platform: 0.0%'"
      ]
     },
     "metadata": {},
     "output_type": "display_data"
    },
    {
     "data": {
      "text/plain": [
       "'процент пропусков в столбце year_of_release: 1.6093329344899792%'"
      ]
     },
     "metadata": {},
     "output_type": "display_data"
    },
    {
     "data": {
      "text/plain": [
       "'процент пропусков в столбце genre: 0.011965300628178284%'"
      ]
     },
     "metadata": {},
     "output_type": "display_data"
    },
    {
     "data": {
      "text/plain": [
       "'процент пропусков в столбце na_sales: 0.0%'"
      ]
     },
     "metadata": {},
     "output_type": "display_data"
    },
    {
     "data": {
      "text/plain": [
       "'процент пропусков в столбце eu_sales: 0.0%'"
      ]
     },
     "metadata": {},
     "output_type": "display_data"
    },
    {
     "data": {
      "text/plain": [
       "'процент пропусков в столбце jp_sales: 0.0%'"
      ]
     },
     "metadata": {},
     "output_type": "display_data"
    },
    {
     "data": {
      "text/plain": [
       "'процент пропусков в столбце other_sales: 0.0%'"
      ]
     },
     "metadata": {},
     "output_type": "display_data"
    },
    {
     "data": {
      "text/plain": [
       "'процент пропусков в столбце critic_score: 51.319174394256656%'"
      ]
     },
     "metadata": {},
     "output_type": "display_data"
    },
    {
     "data": {
      "text/plain": [
       "'процент пропусков в столбце user_score: 40.08973975471134%'"
      ]
     },
     "metadata": {},
     "output_type": "display_data"
    },
    {
     "data": {
      "text/plain": [
       "'процент пропусков в столбце rating: 40.478612025127134%'"
      ]
     },
     "metadata": {},
     "output_type": "display_data"
    },
    {
     "data": {
      "text/plain": [
       "'Дубликатов обнаружено: 0'"
      ]
     },
     "metadata": {},
     "output_type": "display_data"
    }
   ],
   "source": [
    "display(games.head())\n",
    "games.info()\n",
    "display(games.isna().sum())\n",
    "for column in games:\n",
    "            display (f'процент пропусков в столбце {column}: {(games[column].isna().sum())*100/16715}%')\n",
    "display(f'Дубликатов обнаружено: {games.duplicated().sum()}')"
   ]
  },
  {
   "cell_type": "markdown",
   "metadata": {},
   "source": [
    "<div class=\"alert alert-info\">\n",
    "<font color='black'> <b> Посчитаем пропуски в данных: можно сделать вывод, что довольно много пропусков (40-50%) содержится в столбцах с оценками критиков и пользователей, а также в столбце с рейтингом. Возможно это связано с годом выпуска игр и консолей, ведь раньше (скажем в 2000 году) оценки и рейтинг не считали и не публиковали <b>"
   ]
  },
  {
   "cell_type": "markdown",
   "metadata": {},
   "source": []
  },
  {
   "cell_type": "markdown",
   "metadata": {},
   "source": [
    "## Обработка данных"
   ]
  },
  {
   "cell_type": "markdown",
   "metadata": {},
   "source": [
    "<div class=\"alert alert-info\">\n",
    "<font color='black'> <b> Удалим строки с пропусками в столбце 'year_of_release', доля пропусков составляет всего около 1%. Заменим значения 'tbd' в столбце 'user_score' на пропуски, т.к. они аналогичны друг другу.<b>"
   ]
  },
  {
   "cell_type": "code",
   "execution_count": 4,
   "metadata": {
    "scrolled": true
   },
   "outputs": [
    {
     "data": {
      "text/plain": [
       "0        2006\n",
       "1        1985\n",
       "2        2008\n",
       "3        2009\n",
       "4        1996\n",
       "         ... \n",
       "16441    2016\n",
       "16442    2006\n",
       "16443    2016\n",
       "16444    2003\n",
       "16445    2016\n",
       "Name: year_of_release, Length: 16446, dtype: int64"
      ]
     },
     "metadata": {},
     "output_type": "display_data"
    },
    {
     "data": {
      "text/plain": [
       "name                  2\n",
       "platform              0\n",
       "year_of_release       0\n",
       "genre                 2\n",
       "na_sales              0\n",
       "eu_sales              0\n",
       "jp_sales              0\n",
       "other_sales           0\n",
       "critic_score       8463\n",
       "user_score         6607\n",
       "rating             6678\n",
       "dtype: int64"
      ]
     },
     "metadata": {},
     "output_type": "display_data"
    },
    {
     "data": {
      "text/plain": [
       "array(['8', nan, '8.3', '8.5', '6.6', '8.4', '8.6', '7.7', '6.3', '7.4',\n",
       "       '8.2', '9', '7.9', '8.1', '8.7', '7.1', '3.4', '5.3', '4.8', '3.2',\n",
       "       '8.9', '6.4', '7.8', '7.5', '2.6', '7.2', '9.2', '7', '7.3', '4.3',\n",
       "       '7.6', '5.7', '5', '9.1', '6.5', 'tbd', '8.8', '6.9', '9.4', '6.8',\n",
       "       '6.1', '6.7', '5.4', '4', '4.9', '4.5', '9.3', '6.2', '4.2', '6',\n",
       "       '3.7', '4.1', '5.8', '5.6', '5.5', '4.4', '4.6', '5.9', '3.9',\n",
       "       '3.1', '2.9', '5.2', '3.3', '4.7', '5.1', '3.5', '2.5', '1.9', '3',\n",
       "       '2.7', '2.2', '2', '9.5', '2.1', '3.6', '2.8', '1.8', '3.8', '0',\n",
       "       '1.6', '9.6', '2.4', '1.7', '1.1', '0.3', '1.5', '0.7', '1.2',\n",
       "       '2.3', '0.5', '1.3', '0.2', '0.6', '1.4', '0.9', '1', '9.7'],\n",
       "      dtype=object)"
      ]
     },
     "metadata": {},
     "output_type": "display_data"
    },
    {
     "data": {
      "text/plain": [
       "array([8. , nan, 8.3, 8.5, 6.6, 8.4, 8.6, 7.7, 6.3, 7.4, 8.2, 9. , 7.9,\n",
       "       8.1, 8.7, 7.1, 3.4, 5.3, 4.8, 3.2, 8.9, 6.4, 7.8, 7.5, 2.6, 7.2,\n",
       "       9.2, 7. , 7.3, 4.3, 7.6, 5.7, 5. , 9.1, 6.5, 8.8, 6.9, 9.4, 6.8,\n",
       "       6.1, 6.7, 5.4, 4. , 4.9, 4.5, 9.3, 6.2, 4.2, 6. , 3.7, 4.1, 5.8,\n",
       "       5.6, 5.5, 4.4, 4.6, 5.9, 3.9, 3.1, 2.9, 5.2, 3.3, 4.7, 5.1, 3.5,\n",
       "       2.5, 1.9, 3. , 2.7, 2.2, 2. , 9.5, 2.1, 3.6, 2.8, 1.8, 3.8, 0. ,\n",
       "       1.6, 9.6, 2.4, 1.7, 1.1, 0.3, 1.5, 0.7, 1.2, 2.3, 0.5, 1.3, 0.2,\n",
       "       0.6, 1.4, 0.9, 1. , 9.7])"
      ]
     },
     "metadata": {},
     "output_type": "display_data"
    },
    {
     "data": {
      "text/plain": [
       "0        8.0\n",
       "1        NaN\n",
       "2        8.3\n",
       "3        8.0\n",
       "4        NaN\n",
       "        ... \n",
       "16441    NaN\n",
       "16442    NaN\n",
       "16443    NaN\n",
       "16444    NaN\n",
       "16445    NaN\n",
       "Name: user_score, Length: 16446, dtype: float64"
      ]
     },
     "metadata": {},
     "output_type": "display_data"
    }
   ],
   "source": [
    "games =games.dropna(subset=['year_of_release']).reset_index(drop=True) \n",
    "games['year_of_release']=games['year_of_release'].astype('int')\n",
    "display(games['year_of_release'])\n",
    "display(games.isna().sum())\n",
    "display (games['user_score'].unique())\n",
    "games['user_score'] = games['user_score'].replace(\"tbd\", np.NaN)\n",
    "games['user_score'] = games['user_score'].astype('float')\n",
    "display (games['user_score'].unique())\n",
    "display (games['user_score']) "
   ]
  },
  {
   "cell_type": "code",
   "execution_count": 5,
   "metadata": {
    "scrolled": true
   },
   "outputs": [
    {
     "data": {
      "text/html": [
       "<div>\n",
       "<style scoped>\n",
       "    .dataframe tbody tr th:only-of-type {\n",
       "        vertical-align: middle;\n",
       "    }\n",
       "\n",
       "    .dataframe tbody tr th {\n",
       "        vertical-align: top;\n",
       "    }\n",
       "\n",
       "    .dataframe thead th {\n",
       "        text-align: right;\n",
       "    }\n",
       "</style>\n",
       "<table border=\"1\" class=\"dataframe\">\n",
       "  <thead>\n",
       "    <tr style=\"text-align: right;\">\n",
       "      <th></th>\n",
       "      <th>year_of_release</th>\n",
       "      <th>na_sales</th>\n",
       "      <th>eu_sales</th>\n",
       "      <th>jp_sales</th>\n",
       "      <th>other_sales</th>\n",
       "      <th>critic_score</th>\n",
       "      <th>user_score</th>\n",
       "    </tr>\n",
       "  </thead>\n",
       "  <tbody>\n",
       "    <tr>\n",
       "      <th>count</th>\n",
       "      <td>16444.000000</td>\n",
       "      <td>16444.000000</td>\n",
       "      <td>16444.000000</td>\n",
       "      <td>16444.000000</td>\n",
       "      <td>16444.000000</td>\n",
       "      <td>7983.000000</td>\n",
       "      <td>7463.000000</td>\n",
       "    </tr>\n",
       "    <tr>\n",
       "      <th>mean</th>\n",
       "      <td>2006.486256</td>\n",
       "      <td>0.264012</td>\n",
       "      <td>0.145930</td>\n",
       "      <td>0.078487</td>\n",
       "      <td>0.047594</td>\n",
       "      <td>68.994363</td>\n",
       "      <td>7.126330</td>\n",
       "    </tr>\n",
       "    <tr>\n",
       "      <th>std</th>\n",
       "      <td>5.875525</td>\n",
       "      <td>0.818378</td>\n",
       "      <td>0.506716</td>\n",
       "      <td>0.311100</td>\n",
       "      <td>0.188005</td>\n",
       "      <td>13.920060</td>\n",
       "      <td>1.499447</td>\n",
       "    </tr>\n",
       "    <tr>\n",
       "      <th>min</th>\n",
       "      <td>1980.000000</td>\n",
       "      <td>0.000000</td>\n",
       "      <td>0.000000</td>\n",
       "      <td>0.000000</td>\n",
       "      <td>0.000000</td>\n",
       "      <td>13.000000</td>\n",
       "      <td>0.000000</td>\n",
       "    </tr>\n",
       "    <tr>\n",
       "      <th>25%</th>\n",
       "      <td>2003.000000</td>\n",
       "      <td>0.000000</td>\n",
       "      <td>0.000000</td>\n",
       "      <td>0.000000</td>\n",
       "      <td>0.000000</td>\n",
       "      <td>60.000000</td>\n",
       "      <td>6.400000</td>\n",
       "    </tr>\n",
       "    <tr>\n",
       "      <th>50%</th>\n",
       "      <td>2007.000000</td>\n",
       "      <td>0.080000</td>\n",
       "      <td>0.020000</td>\n",
       "      <td>0.000000</td>\n",
       "      <td>0.010000</td>\n",
       "      <td>71.000000</td>\n",
       "      <td>7.500000</td>\n",
       "    </tr>\n",
       "    <tr>\n",
       "      <th>75%</th>\n",
       "      <td>2010.000000</td>\n",
       "      <td>0.240000</td>\n",
       "      <td>0.110000</td>\n",
       "      <td>0.040000</td>\n",
       "      <td>0.030000</td>\n",
       "      <td>79.000000</td>\n",
       "      <td>8.200000</td>\n",
       "    </tr>\n",
       "    <tr>\n",
       "      <th>max</th>\n",
       "      <td>2016.000000</td>\n",
       "      <td>41.360000</td>\n",
       "      <td>28.960000</td>\n",
       "      <td>10.220000</td>\n",
       "      <td>10.570000</td>\n",
       "      <td>98.000000</td>\n",
       "      <td>9.700000</td>\n",
       "    </tr>\n",
       "  </tbody>\n",
       "</table>\n",
       "</div>"
      ],
      "text/plain": [
       "       year_of_release      na_sales      eu_sales      jp_sales  \\\n",
       "count     16444.000000  16444.000000  16444.000000  16444.000000   \n",
       "mean       2006.486256      0.264012      0.145930      0.078487   \n",
       "std           5.875525      0.818378      0.506716      0.311100   \n",
       "min        1980.000000      0.000000      0.000000      0.000000   \n",
       "25%        2003.000000      0.000000      0.000000      0.000000   \n",
       "50%        2007.000000      0.080000      0.020000      0.000000   \n",
       "75%        2010.000000      0.240000      0.110000      0.040000   \n",
       "max        2016.000000     41.360000     28.960000     10.220000   \n",
       "\n",
       "        other_sales  critic_score   user_score  \n",
       "count  16444.000000   7983.000000  7463.000000  \n",
       "mean       0.047594     68.994363     7.126330  \n",
       "std        0.188005     13.920060     1.499447  \n",
       "min        0.000000     13.000000     0.000000  \n",
       "25%        0.000000     60.000000     6.400000  \n",
       "50%        0.010000     71.000000     7.500000  \n",
       "75%        0.030000     79.000000     8.200000  \n",
       "max       10.570000     98.000000     9.700000  "
      ]
     },
     "execution_count": 5,
     "metadata": {},
     "output_type": "execute_result"
    }
   ],
   "source": [
    "games =games.dropna(subset=['name', 'genre']).reset_index(drop=True) \n",
    "games['rating'] = games['rating'].fillna('out of rating')\n",
    "games.describe()"
   ]
  },
  {
   "cell_type": "markdown",
   "metadata": {},
   "source": [
    "<div class=\"alert alert-info\">\n",
    "<font color='black'> <b> Пропуски в столбцах critic_score , user_score  оставим незаполненными. Их количество довольно большое, заполнение пропусков может привести к искажению статистики<b>"
   ]
  },
  {
   "cell_type": "markdown",
   "metadata": {},
   "source": [
    "<div class=\"alert alert-info\">\n",
    "<font color='black'> <b> По данным можно сделать некоторые выводы: в Северной Америке есть игры, которые имели наибольшее количество проданных копий, чем в других частях света. Имеются игры с нулевыми оценками пользователей. Максимальных оценок в 100 и 10 баллов нет среди баллов оценки критиками и пользователями<b>"
   ]
  },
  {
   "cell_type": "markdown",
   "metadata": {},
   "source": [
    "<div class=\"alert alert-info\">\n",
    "<font color='black'> <b> Посчитаем суммарные продажи во всех регионах и занесем их в отдельный столбец <b>"
   ]
  },
  {
   "cell_type": "code",
   "execution_count": 6,
   "metadata": {
    "scrolled": true
   },
   "outputs": [
    {
     "data": {
      "text/html": [
       "<div>\n",
       "<style scoped>\n",
       "    .dataframe tbody tr th:only-of-type {\n",
       "        vertical-align: middle;\n",
       "    }\n",
       "\n",
       "    .dataframe tbody tr th {\n",
       "        vertical-align: top;\n",
       "    }\n",
       "\n",
       "    .dataframe thead th {\n",
       "        text-align: right;\n",
       "    }\n",
       "</style>\n",
       "<table border=\"1\" class=\"dataframe\">\n",
       "  <thead>\n",
       "    <tr style=\"text-align: right;\">\n",
       "      <th></th>\n",
       "      <th>name</th>\n",
       "      <th>platform</th>\n",
       "      <th>year_of_release</th>\n",
       "      <th>genre</th>\n",
       "      <th>na_sales</th>\n",
       "      <th>eu_sales</th>\n",
       "      <th>jp_sales</th>\n",
       "      <th>other_sales</th>\n",
       "      <th>critic_score</th>\n",
       "      <th>user_score</th>\n",
       "      <th>rating</th>\n",
       "      <th>total_sales</th>\n",
       "    </tr>\n",
       "  </thead>\n",
       "  <tbody>\n",
       "    <tr>\n",
       "      <th>0</th>\n",
       "      <td>Wii Sports</td>\n",
       "      <td>Wii</td>\n",
       "      <td>2006</td>\n",
       "      <td>Sports</td>\n",
       "      <td>41.36</td>\n",
       "      <td>28.96</td>\n",
       "      <td>3.77</td>\n",
       "      <td>8.45</td>\n",
       "      <td>76.0</td>\n",
       "      <td>8.0</td>\n",
       "      <td>E</td>\n",
       "      <td>82.54</td>\n",
       "    </tr>\n",
       "    <tr>\n",
       "      <th>1</th>\n",
       "      <td>Super Mario Bros.</td>\n",
       "      <td>NES</td>\n",
       "      <td>1985</td>\n",
       "      <td>Platform</td>\n",
       "      <td>29.08</td>\n",
       "      <td>3.58</td>\n",
       "      <td>6.81</td>\n",
       "      <td>0.77</td>\n",
       "      <td>NaN</td>\n",
       "      <td>NaN</td>\n",
       "      <td>out of rating</td>\n",
       "      <td>40.24</td>\n",
       "    </tr>\n",
       "    <tr>\n",
       "      <th>2</th>\n",
       "      <td>Mario Kart Wii</td>\n",
       "      <td>Wii</td>\n",
       "      <td>2008</td>\n",
       "      <td>Racing</td>\n",
       "      <td>15.68</td>\n",
       "      <td>12.76</td>\n",
       "      <td>3.79</td>\n",
       "      <td>3.29</td>\n",
       "      <td>82.0</td>\n",
       "      <td>8.3</td>\n",
       "      <td>E</td>\n",
       "      <td>35.52</td>\n",
       "    </tr>\n",
       "    <tr>\n",
       "      <th>3</th>\n",
       "      <td>Wii Sports Resort</td>\n",
       "      <td>Wii</td>\n",
       "      <td>2009</td>\n",
       "      <td>Sports</td>\n",
       "      <td>15.61</td>\n",
       "      <td>10.93</td>\n",
       "      <td>3.28</td>\n",
       "      <td>2.95</td>\n",
       "      <td>80.0</td>\n",
       "      <td>8.0</td>\n",
       "      <td>E</td>\n",
       "      <td>32.77</td>\n",
       "    </tr>\n",
       "    <tr>\n",
       "      <th>4</th>\n",
       "      <td>Pokemon Red/Pokemon Blue</td>\n",
       "      <td>GB</td>\n",
       "      <td>1996</td>\n",
       "      <td>Role-Playing</td>\n",
       "      <td>11.27</td>\n",
       "      <td>8.89</td>\n",
       "      <td>10.22</td>\n",
       "      <td>1.00</td>\n",
       "      <td>NaN</td>\n",
       "      <td>NaN</td>\n",
       "      <td>out of rating</td>\n",
       "      <td>31.38</td>\n",
       "    </tr>\n",
       "    <tr>\n",
       "      <th>5</th>\n",
       "      <td>Tetris</td>\n",
       "      <td>GB</td>\n",
       "      <td>1989</td>\n",
       "      <td>Puzzle</td>\n",
       "      <td>23.20</td>\n",
       "      <td>2.26</td>\n",
       "      <td>4.22</td>\n",
       "      <td>0.58</td>\n",
       "      <td>NaN</td>\n",
       "      <td>NaN</td>\n",
       "      <td>out of rating</td>\n",
       "      <td>30.26</td>\n",
       "    </tr>\n",
       "    <tr>\n",
       "      <th>6</th>\n",
       "      <td>New Super Mario Bros.</td>\n",
       "      <td>DS</td>\n",
       "      <td>2006</td>\n",
       "      <td>Platform</td>\n",
       "      <td>11.28</td>\n",
       "      <td>9.14</td>\n",
       "      <td>6.50</td>\n",
       "      <td>2.88</td>\n",
       "      <td>89.0</td>\n",
       "      <td>8.5</td>\n",
       "      <td>E</td>\n",
       "      <td>29.80</td>\n",
       "    </tr>\n",
       "    <tr>\n",
       "      <th>7</th>\n",
       "      <td>Wii Play</td>\n",
       "      <td>Wii</td>\n",
       "      <td>2006</td>\n",
       "      <td>Misc</td>\n",
       "      <td>13.96</td>\n",
       "      <td>9.18</td>\n",
       "      <td>2.93</td>\n",
       "      <td>2.84</td>\n",
       "      <td>58.0</td>\n",
       "      <td>6.6</td>\n",
       "      <td>E</td>\n",
       "      <td>28.91</td>\n",
       "    </tr>\n",
       "    <tr>\n",
       "      <th>8</th>\n",
       "      <td>New Super Mario Bros. Wii</td>\n",
       "      <td>Wii</td>\n",
       "      <td>2009</td>\n",
       "      <td>Platform</td>\n",
       "      <td>14.44</td>\n",
       "      <td>6.94</td>\n",
       "      <td>4.70</td>\n",
       "      <td>2.24</td>\n",
       "      <td>87.0</td>\n",
       "      <td>8.4</td>\n",
       "      <td>E</td>\n",
       "      <td>28.32</td>\n",
       "    </tr>\n",
       "    <tr>\n",
       "      <th>9</th>\n",
       "      <td>Duck Hunt</td>\n",
       "      <td>NES</td>\n",
       "      <td>1984</td>\n",
       "      <td>Shooter</td>\n",
       "      <td>26.93</td>\n",
       "      <td>0.63</td>\n",
       "      <td>0.28</td>\n",
       "      <td>0.47</td>\n",
       "      <td>NaN</td>\n",
       "      <td>NaN</td>\n",
       "      <td>out of rating</td>\n",
       "      <td>28.31</td>\n",
       "    </tr>\n",
       "    <tr>\n",
       "      <th>10</th>\n",
       "      <td>Nintendogs</td>\n",
       "      <td>DS</td>\n",
       "      <td>2005</td>\n",
       "      <td>Simulation</td>\n",
       "      <td>9.05</td>\n",
       "      <td>10.95</td>\n",
       "      <td>1.93</td>\n",
       "      <td>2.74</td>\n",
       "      <td>NaN</td>\n",
       "      <td>NaN</td>\n",
       "      <td>out of rating</td>\n",
       "      <td>24.67</td>\n",
       "    </tr>\n",
       "    <tr>\n",
       "      <th>11</th>\n",
       "      <td>Mario Kart DS</td>\n",
       "      <td>DS</td>\n",
       "      <td>2005</td>\n",
       "      <td>Racing</td>\n",
       "      <td>9.71</td>\n",
       "      <td>7.47</td>\n",
       "      <td>4.13</td>\n",
       "      <td>1.90</td>\n",
       "      <td>91.0</td>\n",
       "      <td>8.6</td>\n",
       "      <td>E</td>\n",
       "      <td>23.21</td>\n",
       "    </tr>\n",
       "    <tr>\n",
       "      <th>12</th>\n",
       "      <td>Pokemon Gold/Pokemon Silver</td>\n",
       "      <td>GB</td>\n",
       "      <td>1999</td>\n",
       "      <td>Role-Playing</td>\n",
       "      <td>9.00</td>\n",
       "      <td>6.18</td>\n",
       "      <td>7.20</td>\n",
       "      <td>0.71</td>\n",
       "      <td>NaN</td>\n",
       "      <td>NaN</td>\n",
       "      <td>out of rating</td>\n",
       "      <td>23.09</td>\n",
       "    </tr>\n",
       "    <tr>\n",
       "      <th>13</th>\n",
       "      <td>Wii Fit</td>\n",
       "      <td>Wii</td>\n",
       "      <td>2007</td>\n",
       "      <td>Sports</td>\n",
       "      <td>8.92</td>\n",
       "      <td>8.03</td>\n",
       "      <td>3.60</td>\n",
       "      <td>2.15</td>\n",
       "      <td>80.0</td>\n",
       "      <td>7.7</td>\n",
       "      <td>E</td>\n",
       "      <td>22.70</td>\n",
       "    </tr>\n",
       "    <tr>\n",
       "      <th>14</th>\n",
       "      <td>Kinect Adventures!</td>\n",
       "      <td>X360</td>\n",
       "      <td>2010</td>\n",
       "      <td>Misc</td>\n",
       "      <td>15.00</td>\n",
       "      <td>4.89</td>\n",
       "      <td>0.24</td>\n",
       "      <td>1.69</td>\n",
       "      <td>61.0</td>\n",
       "      <td>6.3</td>\n",
       "      <td>E</td>\n",
       "      <td>21.82</td>\n",
       "    </tr>\n",
       "  </tbody>\n",
       "</table>\n",
       "</div>"
      ],
      "text/plain": [
       "                           name platform  year_of_release         genre  \\\n",
       "0                    Wii Sports      Wii             2006        Sports   \n",
       "1             Super Mario Bros.      NES             1985      Platform   \n",
       "2                Mario Kart Wii      Wii             2008        Racing   \n",
       "3             Wii Sports Resort      Wii             2009        Sports   \n",
       "4      Pokemon Red/Pokemon Blue       GB             1996  Role-Playing   \n",
       "5                        Tetris       GB             1989        Puzzle   \n",
       "6         New Super Mario Bros.       DS             2006      Platform   \n",
       "7                      Wii Play      Wii             2006          Misc   \n",
       "8     New Super Mario Bros. Wii      Wii             2009      Platform   \n",
       "9                     Duck Hunt      NES             1984       Shooter   \n",
       "10                   Nintendogs       DS             2005    Simulation   \n",
       "11                Mario Kart DS       DS             2005        Racing   \n",
       "12  Pokemon Gold/Pokemon Silver       GB             1999  Role-Playing   \n",
       "13                      Wii Fit      Wii             2007        Sports   \n",
       "14           Kinect Adventures!     X360             2010          Misc   \n",
       "\n",
       "    na_sales  eu_sales  jp_sales  other_sales  critic_score  user_score  \\\n",
       "0      41.36     28.96      3.77         8.45          76.0         8.0   \n",
       "1      29.08      3.58      6.81         0.77           NaN         NaN   \n",
       "2      15.68     12.76      3.79         3.29          82.0         8.3   \n",
       "3      15.61     10.93      3.28         2.95          80.0         8.0   \n",
       "4      11.27      8.89     10.22         1.00           NaN         NaN   \n",
       "5      23.20      2.26      4.22         0.58           NaN         NaN   \n",
       "6      11.28      9.14      6.50         2.88          89.0         8.5   \n",
       "7      13.96      9.18      2.93         2.84          58.0         6.6   \n",
       "8      14.44      6.94      4.70         2.24          87.0         8.4   \n",
       "9      26.93      0.63      0.28         0.47           NaN         NaN   \n",
       "10      9.05     10.95      1.93         2.74           NaN         NaN   \n",
       "11      9.71      7.47      4.13         1.90          91.0         8.6   \n",
       "12      9.00      6.18      7.20         0.71           NaN         NaN   \n",
       "13      8.92      8.03      3.60         2.15          80.0         7.7   \n",
       "14     15.00      4.89      0.24         1.69          61.0         6.3   \n",
       "\n",
       "           rating  total_sales  \n",
       "0               E        82.54  \n",
       "1   out of rating        40.24  \n",
       "2               E        35.52  \n",
       "3               E        32.77  \n",
       "4   out of rating        31.38  \n",
       "5   out of rating        30.26  \n",
       "6               E        29.80  \n",
       "7               E        28.91  \n",
       "8               E        28.32  \n",
       "9   out of rating        28.31  \n",
       "10  out of rating        24.67  \n",
       "11              E        23.21  \n",
       "12  out of rating        23.09  \n",
       "13              E        22.70  \n",
       "14              E        21.82  "
      ]
     },
     "execution_count": 6,
     "metadata": {},
     "output_type": "execute_result"
    }
   ],
   "source": [
    "games['total_sales'] = games['na_sales'] + games['eu_sales'] + games['jp_sales'] + games['other_sales']\n",
    "games.head(15)"
   ]
  },
  {
   "cell_type": "markdown",
   "metadata": {},
   "source": [
    "## Анализ данных"
   ]
  },
  {
   "cell_type": "markdown",
   "metadata": {},
   "source": [
    "<div class=\"alert alert-info\">\n",
    "<font color='black'> <b>Построим гистограмму количества выпускаемых игр по годам. Скорее всего данными до 1990 года можно пренебречь ввиду их малочисленности <b>"
   ]
  },
  {
   "cell_type": "code",
   "execution_count": 7,
   "metadata": {},
   "outputs": [
    {
     "data": {
      "image/png": "[encoded data removed]",
      "text/plain": [
       "<Figure size 432x288 with 1 Axes>"
      ]
     },
     "metadata": {
      "needs_background": "light"
     },
     "output_type": "display_data"
    }
   ],
   "source": [
    "games_hist_year = games.plot(y='year_of_release', kind='hist', bins=40, title= 'год выпуска игр')"
   ]
  },
  {
   "cell_type": "markdown",
   "metadata": {},
   "source": [
    "<div class=\"alert alert-info\">\n",
    "<font color='black'> <b> Построим графики продаж по первым пяти топовым платформам. Можно сделать вывод, что 10 лет - промежуток, за который платформа успевает набрать обороты и потом их сбавить <b>"
   ]
  },
  {
   "cell_type": "code",
   "execution_count": 8,
   "metadata": {
    "scrolled": true
   },
   "outputs": [
    {
     "data": {
      "text/html": [
       "<div>\n",
       "<style scoped>\n",
       "    .dataframe tbody tr th:only-of-type {\n",
       "        vertical-align: middle;\n",
       "    }\n",
       "\n",
       "    .dataframe tbody tr th {\n",
       "        vertical-align: top;\n",
       "    }\n",
       "\n",
       "    .dataframe thead th {\n",
       "        text-align: right;\n",
       "    }\n",
       "</style>\n",
       "<table border=\"1\" class=\"dataframe\">\n",
       "  <thead>\n",
       "    <tr style=\"text-align: right;\">\n",
       "      <th></th>\n",
       "      <th>sum_sales</th>\n",
       "    </tr>\n",
       "    <tr>\n",
       "      <th>platform</th>\n",
       "      <th></th>\n",
       "    </tr>\n",
       "  </thead>\n",
       "  <tbody>\n",
       "    <tr>\n",
       "      <th>PS2</th>\n",
       "      <td>1233.56</td>\n",
       "    </tr>\n",
       "    <tr>\n",
       "      <th>X360</th>\n",
       "      <td>961.24</td>\n",
       "    </tr>\n",
       "    <tr>\n",
       "      <th>PS3</th>\n",
       "      <td>931.34</td>\n",
       "    </tr>\n",
       "    <tr>\n",
       "      <th>Wii</th>\n",
       "      <td>891.18</td>\n",
       "    </tr>\n",
       "    <tr>\n",
       "      <th>DS</th>\n",
       "      <td>802.78</td>\n",
       "    </tr>\n",
       "    <tr>\n",
       "      <th>PS</th>\n",
       "      <td>727.58</td>\n",
       "    </tr>\n",
       "    <tr>\n",
       "      <th>PS4</th>\n",
       "      <td>314.14</td>\n",
       "    </tr>\n",
       "    <tr>\n",
       "      <th>GBA</th>\n",
       "      <td>312.88</td>\n",
       "    </tr>\n",
       "    <tr>\n",
       "      <th>PSP</th>\n",
       "      <td>289.53</td>\n",
       "    </tr>\n",
       "    <tr>\n",
       "      <th>3DS</th>\n",
       "      <td>257.81</td>\n",
       "    </tr>\n",
       "    <tr>\n",
       "      <th>PC</th>\n",
       "      <td>255.76</td>\n",
       "    </tr>\n",
       "    <tr>\n",
       "      <th>GB</th>\n",
       "      <td>254.43</td>\n",
       "    </tr>\n",
       "    <tr>\n",
       "      <th>XB</th>\n",
       "      <td>251.57</td>\n",
       "    </tr>\n",
       "    <tr>\n",
       "      <th>NES</th>\n",
       "      <td>251.05</td>\n",
       "    </tr>\n",
       "    <tr>\n",
       "      <th>N64</th>\n",
       "      <td>218.01</td>\n",
       "    </tr>\n",
       "    <tr>\n",
       "      <th>SNES</th>\n",
       "      <td>200.04</td>\n",
       "    </tr>\n",
       "    <tr>\n",
       "      <th>GC</th>\n",
       "      <td>196.73</td>\n",
       "    </tr>\n",
       "    <tr>\n",
       "      <th>XOne</th>\n",
       "      <td>159.32</td>\n",
       "    </tr>\n",
       "    <tr>\n",
       "      <th>2600</th>\n",
       "      <td>86.48</td>\n",
       "    </tr>\n",
       "    <tr>\n",
       "      <th>WiiU</th>\n",
       "      <td>82.19</td>\n",
       "    </tr>\n",
       "    <tr>\n",
       "      <th>PSV</th>\n",
       "      <td>53.81</td>\n",
       "    </tr>\n",
       "    <tr>\n",
       "      <th>SAT</th>\n",
       "      <td>33.59</td>\n",
       "    </tr>\n",
       "    <tr>\n",
       "      <th>GEN</th>\n",
       "      <td>28.35</td>\n",
       "    </tr>\n",
       "    <tr>\n",
       "      <th>DC</th>\n",
       "      <td>15.95</td>\n",
       "    </tr>\n",
       "    <tr>\n",
       "      <th>SCD</th>\n",
       "      <td>1.86</td>\n",
       "    </tr>\n",
       "    <tr>\n",
       "      <th>NG</th>\n",
       "      <td>1.44</td>\n",
       "    </tr>\n",
       "    <tr>\n",
       "      <th>WS</th>\n",
       "      <td>1.42</td>\n",
       "    </tr>\n",
       "    <tr>\n",
       "      <th>TG16</th>\n",
       "      <td>0.16</td>\n",
       "    </tr>\n",
       "    <tr>\n",
       "      <th>3DO</th>\n",
       "      <td>0.10</td>\n",
       "    </tr>\n",
       "    <tr>\n",
       "      <th>GG</th>\n",
       "      <td>0.04</td>\n",
       "    </tr>\n",
       "    <tr>\n",
       "      <th>PCFX</th>\n",
       "      <td>0.03</td>\n",
       "    </tr>\n",
       "  </tbody>\n",
       "</table>\n",
       "</div>"
      ],
      "text/plain": [
       "          sum_sales\n",
       "platform           \n",
       "PS2         1233.56\n",
       "X360         961.24\n",
       "PS3          931.34\n",
       "Wii          891.18\n",
       "DS           802.78\n",
       "PS           727.58\n",
       "PS4          314.14\n",
       "GBA          312.88\n",
       "PSP          289.53\n",
       "3DS          257.81\n",
       "PC           255.76\n",
       "GB           254.43\n",
       "XB           251.57\n",
       "NES          251.05\n",
       "N64          218.01\n",
       "SNES         200.04\n",
       "GC           196.73\n",
       "XOne         159.32\n",
       "2600          86.48\n",
       "WiiU          82.19\n",
       "PSV           53.81\n",
       "SAT           33.59\n",
       "GEN           28.35\n",
       "DC            15.95\n",
       "SCD            1.86\n",
       "NG             1.44\n",
       "WS             1.42\n",
       "TG16           0.16\n",
       "3DO            0.10\n",
       "GG             0.04\n",
       "PCFX           0.03"
      ]
     },
     "metadata": {},
     "output_type": "display_data"
    },
    {
     "data": {
      "text/plain": [
       "Text(0.5, 1.0, 'Продажи DS')"
      ]
     },
     "execution_count": 8,
     "metadata": {},
     "output_type": "execute_result"
    },
    {
     "data": {
      "image/png": "[encoded data removed]",
      "text/plain": [
       "<Figure size 720x360 with 1 Axes>"
      ]
     },
     "metadata": {
      "needs_background": "light"
     },
     "output_type": "display_data"
    },
    {
     "data": {
      "image/png": "[encoded data removed]",
      "text/plain": [
       "<Figure size 720x360 with 1 Axes>"
      ]
     },
     "metadata": {
      "needs_background": "light"
     },
     "output_type": "display_data"
    },
    {
     "data": {
      "image/png": "[encoded data removed]",
      "text/plain": [
       "<Figure size 720x360 with 1 Axes>"
      ]
     },
     "metadata": {
      "needs_background": "light"
     },
     "output_type": "display_data"
    },
    {
     "data": {
      "image/png": "[encoded data removed]",
      "text/plain": [
       "<Figure size 720x360 with 1 Axes>"
      ]
     },
     "metadata": {
      "needs_background": "light"
     },
     "output_type": "display_data"
    },
    {
     "data": {
      "image/png": "[encoded data removed]",
      "text/plain": [
       "<Figure size 720x360 with 1 Axes>"
      ]
     },
     "metadata": {
      "needs_background": "light"
     },
     "output_type": "display_data"
    }
   ],
   "source": [
    "platform = games.pivot_table(index = 'platform', values = 'total_sales', aggfunc='sum')\n",
    "platform.columns = ['sum_sales']\n",
    "platform = platform.sort_values(by='sum_sales', ascending = False)\n",
    "display (platform)\n",
    "first_sales_platform = games.query('platform == \"PS2\"').pivot_table(index = 'year_of_release', values = 'total_sales', aggfunc = 'sum')\n",
    "first_sales_platform.plot(grid=True, figsize=(10, 5), legend=None)\n",
    "plt.title('Продажи PS2')\n",
    "second_sales_platform = games.query('platform == \"X360\"').pivot_table(index = 'year_of_release', values = 'total_sales', aggfunc = 'sum')\n",
    "second_sales_platform.plot(grid=True, figsize=(10, 5), legend=None)\n",
    "plt.title('Продажи X360')\n",
    "third_sales_platform = games.query('platform == \"PS3\"').pivot_table(index = 'year_of_release', values = 'total_sales', aggfunc = 'sum')\n",
    "third_sales_platform.plot(grid=True, figsize=(10, 5), legend=None)\n",
    "plt.title('Продажи PS3')\n",
    "fourth_sales_platform = games.query('platform == \"Wii\"').pivot_table(index = 'year_of_release', values = 'total_sales', aggfunc = 'sum')\n",
    "fourth_sales_platform.plot(grid=True, figsize=(10, 5), legend=None)\n",
    "plt.title('Продажи Wii')\n",
    "fifth_sales_platform = games.query('platform == \"DS\"').pivot_table(index = 'year_of_release', values = 'total_sales', aggfunc = 'sum')\n",
    "fifth_sales_platform.plot(grid=True, figsize=(10, 5), legend=None)\n",
    "plt.title('Продажи DS')"
   ]
  },
  {
   "cell_type": "markdown",
   "metadata": {},
   "source": [
    "<div class=\"alert alert-info\">\n",
    "<font color='black'> <b> Выведем данные по годам, чтобы узнать на каких платформах игры давно уже не выпускаются. Выберем актуальный период: после 2012 года наблюдается динамика продаж по тем играм, которые выпускаются и в 2016 году. До этого периода много игр консолей уже прошли свой пик успеха и продаж, на будущее эти данные не представляют большого интереса и значения <b>"
   ]
  },
  {
   "cell_type": "code",
   "execution_count": 9,
   "metadata": {},
   "outputs": [
    {
     "data": {
      "text/html": [
       "<div>\n",
       "<style scoped>\n",
       "    .dataframe tbody tr th:only-of-type {\n",
       "        vertical-align: middle;\n",
       "    }\n",
       "\n",
       "    .dataframe tbody tr th {\n",
       "        vertical-align: top;\n",
       "    }\n",
       "\n",
       "    .dataframe thead th {\n",
       "        text-align: right;\n",
       "    }\n",
       "</style>\n",
       "<table border=\"1\" class=\"dataframe\">\n",
       "  <thead>\n",
       "    <tr style=\"text-align: right;\">\n",
       "      <th>year_of_release</th>\n",
       "      <th>2001</th>\n",
       "      <th>2002</th>\n",
       "      <th>2003</th>\n",
       "      <th>2004</th>\n",
       "      <th>2005</th>\n",
       "      <th>2006</th>\n",
       "      <th>2007</th>\n",
       "      <th>2008</th>\n",
       "      <th>2009</th>\n",
       "      <th>2010</th>\n",
       "      <th>2011</th>\n",
       "      <th>2012</th>\n",
       "      <th>2013</th>\n",
       "      <th>2014</th>\n",
       "      <th>2015</th>\n",
       "      <th>2016</th>\n",
       "    </tr>\n",
       "    <tr>\n",
       "      <th>platform</th>\n",
       "      <th></th>\n",
       "      <th></th>\n",
       "      <th></th>\n",
       "      <th></th>\n",
       "      <th></th>\n",
       "      <th></th>\n",
       "      <th></th>\n",
       "      <th></th>\n",
       "      <th></th>\n",
       "      <th></th>\n",
       "      <th></th>\n",
       "      <th></th>\n",
       "      <th></th>\n",
       "      <th></th>\n",
       "      <th></th>\n",
       "      <th></th>\n",
       "    </tr>\n",
       "  </thead>\n",
       "  <tbody>\n",
       "    <tr>\n",
       "      <th>3DS</th>\n",
       "      <td>NaN</td>\n",
       "      <td>NaN</td>\n",
       "      <td>NaN</td>\n",
       "      <td>NaN</td>\n",
       "      <td>NaN</td>\n",
       "      <td>NaN</td>\n",
       "      <td>NaN</td>\n",
       "      <td>NaN</td>\n",
       "      <td>NaN</td>\n",
       "      <td>NaN</td>\n",
       "      <td>116.0</td>\n",
       "      <td>93.0</td>\n",
       "      <td>91.0</td>\n",
       "      <td>80.0</td>\n",
       "      <td>86.0</td>\n",
       "      <td>46.0</td>\n",
       "    </tr>\n",
       "    <tr>\n",
       "      <th>DC</th>\n",
       "      <td>8.0</td>\n",
       "      <td>1.0</td>\n",
       "      <td>NaN</td>\n",
       "      <td>NaN</td>\n",
       "      <td>NaN</td>\n",
       "      <td>NaN</td>\n",
       "      <td>1.0</td>\n",
       "      <td>1.0</td>\n",
       "      <td>NaN</td>\n",
       "      <td>NaN</td>\n",
       "      <td>NaN</td>\n",
       "      <td>NaN</td>\n",
       "      <td>NaN</td>\n",
       "      <td>NaN</td>\n",
       "      <td>NaN</td>\n",
       "      <td>NaN</td>\n",
       "    </tr>\n",
       "    <tr>\n",
       "      <th>DS</th>\n",
       "      <td>NaN</td>\n",
       "      <td>NaN</td>\n",
       "      <td>NaN</td>\n",
       "      <td>23.0</td>\n",
       "      <td>118.0</td>\n",
       "      <td>201.0</td>\n",
       "      <td>376.0</td>\n",
       "      <td>492.0</td>\n",
       "      <td>403.0</td>\n",
       "      <td>323.0</td>\n",
       "      <td>153.0</td>\n",
       "      <td>23.0</td>\n",
       "      <td>8.0</td>\n",
       "      <td>NaN</td>\n",
       "      <td>NaN</td>\n",
       "      <td>NaN</td>\n",
       "    </tr>\n",
       "    <tr>\n",
       "      <th>GB</th>\n",
       "      <td>10.0</td>\n",
       "      <td>NaN</td>\n",
       "      <td>NaN</td>\n",
       "      <td>NaN</td>\n",
       "      <td>NaN</td>\n",
       "      <td>NaN</td>\n",
       "      <td>NaN</td>\n",
       "      <td>NaN</td>\n",
       "      <td>NaN</td>\n",
       "      <td>NaN</td>\n",
       "      <td>NaN</td>\n",
       "      <td>NaN</td>\n",
       "      <td>NaN</td>\n",
       "      <td>NaN</td>\n",
       "      <td>NaN</td>\n",
       "      <td>NaN</td>\n",
       "    </tr>\n",
       "    <tr>\n",
       "      <th>GBA</th>\n",
       "      <td>107.0</td>\n",
       "      <td>198.0</td>\n",
       "      <td>150.0</td>\n",
       "      <td>175.0</td>\n",
       "      <td>135.0</td>\n",
       "      <td>39.0</td>\n",
       "      <td>6.0</td>\n",
       "      <td>NaN</td>\n",
       "      <td>NaN</td>\n",
       "      <td>NaN</td>\n",
       "      <td>NaN</td>\n",
       "      <td>NaN</td>\n",
       "      <td>NaN</td>\n",
       "      <td>NaN</td>\n",
       "      <td>NaN</td>\n",
       "      <td>NaN</td>\n",
       "    </tr>\n",
       "    <tr>\n",
       "      <th>GC</th>\n",
       "      <td>22.0</td>\n",
       "      <td>152.0</td>\n",
       "      <td>144.0</td>\n",
       "      <td>83.0</td>\n",
       "      <td>97.0</td>\n",
       "      <td>40.0</td>\n",
       "      <td>4.0</td>\n",
       "      <td>NaN</td>\n",
       "      <td>NaN</td>\n",
       "      <td>NaN</td>\n",
       "      <td>NaN</td>\n",
       "      <td>NaN</td>\n",
       "      <td>NaN</td>\n",
       "      <td>NaN</td>\n",
       "      <td>NaN</td>\n",
       "      <td>NaN</td>\n",
       "    </tr>\n",
       "    <tr>\n",
       "      <th>N64</th>\n",
       "      <td>9.0</td>\n",
       "      <td>1.0</td>\n",
       "      <td>NaN</td>\n",
       "      <td>NaN</td>\n",
       "      <td>NaN</td>\n",
       "      <td>NaN</td>\n",
       "      <td>NaN</td>\n",
       "      <td>NaN</td>\n",
       "      <td>NaN</td>\n",
       "      <td>NaN</td>\n",
       "      <td>NaN</td>\n",
       "      <td>NaN</td>\n",
       "      <td>NaN</td>\n",
       "      <td>NaN</td>\n",
       "      <td>NaN</td>\n",
       "      <td>NaN</td>\n",
       "    </tr>\n",
       "    <tr>\n",
       "      <th>PC</th>\n",
       "      <td>15.0</td>\n",
       "      <td>19.0</td>\n",
       "      <td>33.0</td>\n",
       "      <td>30.0</td>\n",
       "      <td>37.0</td>\n",
       "      <td>52.0</td>\n",
       "      <td>62.0</td>\n",
       "      <td>76.0</td>\n",
       "      <td>107.0</td>\n",
       "      <td>90.0</td>\n",
       "      <td>139.0</td>\n",
       "      <td>61.0</td>\n",
       "      <td>38.0</td>\n",
       "      <td>47.0</td>\n",
       "      <td>50.0</td>\n",
       "      <td>54.0</td>\n",
       "    </tr>\n",
       "    <tr>\n",
       "      <th>PS</th>\n",
       "      <td>91.0</td>\n",
       "      <td>20.0</td>\n",
       "      <td>3.0</td>\n",
       "      <td>NaN</td>\n",
       "      <td>NaN</td>\n",
       "      <td>NaN</td>\n",
       "      <td>NaN</td>\n",
       "      <td>NaN</td>\n",
       "      <td>NaN</td>\n",
       "      <td>NaN</td>\n",
       "      <td>NaN</td>\n",
       "      <td>NaN</td>\n",
       "      <td>NaN</td>\n",
       "      <td>NaN</td>\n",
       "      <td>NaN</td>\n",
       "      <td>NaN</td>\n",
       "    </tr>\n",
       "    <tr>\n",
       "      <th>PS2</th>\n",
       "      <td>185.0</td>\n",
       "      <td>280.0</td>\n",
       "      <td>256.0</td>\n",
       "      <td>259.0</td>\n",
       "      <td>260.0</td>\n",
       "      <td>259.0</td>\n",
       "      <td>214.0</td>\n",
       "      <td>191.0</td>\n",
       "      <td>96.0</td>\n",
       "      <td>38.0</td>\n",
       "      <td>7.0</td>\n",
       "      <td>NaN</td>\n",
       "      <td>NaN</td>\n",
       "      <td>NaN</td>\n",
       "      <td>NaN</td>\n",
       "      <td>NaN</td>\n",
       "    </tr>\n",
       "    <tr>\n",
       "      <th>PS3</th>\n",
       "      <td>NaN</td>\n",
       "      <td>NaN</td>\n",
       "      <td>NaN</td>\n",
       "      <td>NaN</td>\n",
       "      <td>NaN</td>\n",
       "      <td>27.0</td>\n",
       "      <td>90.0</td>\n",
       "      <td>138.0</td>\n",
       "      <td>162.0</td>\n",
       "      <td>181.0</td>\n",
       "      <td>215.0</td>\n",
       "      <td>148.0</td>\n",
       "      <td>126.0</td>\n",
       "      <td>108.0</td>\n",
       "      <td>73.0</td>\n",
       "      <td>38.0</td>\n",
       "    </tr>\n",
       "    <tr>\n",
       "      <th>PS4</th>\n",
       "      <td>NaN</td>\n",
       "      <td>NaN</td>\n",
       "      <td>NaN</td>\n",
       "      <td>NaN</td>\n",
       "      <td>NaN</td>\n",
       "      <td>NaN</td>\n",
       "      <td>NaN</td>\n",
       "      <td>NaN</td>\n",
       "      <td>NaN</td>\n",
       "      <td>NaN</td>\n",
       "      <td>NaN</td>\n",
       "      <td>NaN</td>\n",
       "      <td>16.0</td>\n",
       "      <td>75.0</td>\n",
       "      <td>137.0</td>\n",
       "      <td>164.0</td>\n",
       "    </tr>\n",
       "    <tr>\n",
       "      <th>PSP</th>\n",
       "      <td>NaN</td>\n",
       "      <td>NaN</td>\n",
       "      <td>NaN</td>\n",
       "      <td>15.0</td>\n",
       "      <td>95.0</td>\n",
       "      <td>189.0</td>\n",
       "      <td>133.0</td>\n",
       "      <td>100.0</td>\n",
       "      <td>161.0</td>\n",
       "      <td>188.0</td>\n",
       "      <td>139.0</td>\n",
       "      <td>106.0</td>\n",
       "      <td>54.0</td>\n",
       "      <td>10.0</td>\n",
       "      <td>3.0</td>\n",
       "      <td>NaN</td>\n",
       "    </tr>\n",
       "    <tr>\n",
       "      <th>PSV</th>\n",
       "      <td>NaN</td>\n",
       "      <td>NaN</td>\n",
       "      <td>NaN</td>\n",
       "      <td>NaN</td>\n",
       "      <td>NaN</td>\n",
       "      <td>NaN</td>\n",
       "      <td>NaN</td>\n",
       "      <td>NaN</td>\n",
       "      <td>NaN</td>\n",
       "      <td>NaN</td>\n",
       "      <td>18.0</td>\n",
       "      <td>53.0</td>\n",
       "      <td>63.0</td>\n",
       "      <td>100.0</td>\n",
       "      <td>110.0</td>\n",
       "      <td>85.0</td>\n",
       "    </tr>\n",
       "    <tr>\n",
       "      <th>WS</th>\n",
       "      <td>2.0</td>\n",
       "      <td>NaN</td>\n",
       "      <td>NaN</td>\n",
       "      <td>NaN</td>\n",
       "      <td>NaN</td>\n",
       "      <td>NaN</td>\n",
       "      <td>NaN</td>\n",
       "      <td>NaN</td>\n",
       "      <td>NaN</td>\n",
       "      <td>NaN</td>\n",
       "      <td>NaN</td>\n",
       "      <td>NaN</td>\n",
       "      <td>NaN</td>\n",
       "      <td>NaN</td>\n",
       "      <td>NaN</td>\n",
       "      <td>NaN</td>\n",
       "    </tr>\n",
       "    <tr>\n",
       "      <th>Wii</th>\n",
       "      <td>NaN</td>\n",
       "      <td>NaN</td>\n",
       "      <td>NaN</td>\n",
       "      <td>NaN</td>\n",
       "      <td>NaN</td>\n",
       "      <td>44.0</td>\n",
       "      <td>185.0</td>\n",
       "      <td>282.0</td>\n",
       "      <td>325.0</td>\n",
       "      <td>253.0</td>\n",
       "      <td>143.0</td>\n",
       "      <td>31.0</td>\n",
       "      <td>12.0</td>\n",
       "      <td>6.0</td>\n",
       "      <td>4.0</td>\n",
       "      <td>1.0</td>\n",
       "    </tr>\n",
       "    <tr>\n",
       "      <th>WiiU</th>\n",
       "      <td>NaN</td>\n",
       "      <td>NaN</td>\n",
       "      <td>NaN</td>\n",
       "      <td>NaN</td>\n",
       "      <td>NaN</td>\n",
       "      <td>NaN</td>\n",
       "      <td>NaN</td>\n",
       "      <td>NaN</td>\n",
       "      <td>NaN</td>\n",
       "      <td>NaN</td>\n",
       "      <td>NaN</td>\n",
       "      <td>32.0</td>\n",
       "      <td>42.0</td>\n",
       "      <td>31.0</td>\n",
       "      <td>28.0</td>\n",
       "      <td>14.0</td>\n",
       "    </tr>\n",
       "    <tr>\n",
       "      <th>X360</th>\n",
       "      <td>NaN</td>\n",
       "      <td>NaN</td>\n",
       "      <td>NaN</td>\n",
       "      <td>NaN</td>\n",
       "      <td>18.0</td>\n",
       "      <td>93.0</td>\n",
       "      <td>123.0</td>\n",
       "      <td>146.0</td>\n",
       "      <td>172.0</td>\n",
       "      <td>182.0</td>\n",
       "      <td>206.0</td>\n",
       "      <td>106.0</td>\n",
       "      <td>75.0</td>\n",
       "      <td>63.0</td>\n",
       "      <td>35.0</td>\n",
       "      <td>13.0</td>\n",
       "    </tr>\n",
       "    <tr>\n",
       "      <th>XB</th>\n",
       "      <td>33.0</td>\n",
       "      <td>158.0</td>\n",
       "      <td>189.0</td>\n",
       "      <td>177.0</td>\n",
       "      <td>179.0</td>\n",
       "      <td>62.0</td>\n",
       "      <td>3.0</td>\n",
       "      <td>1.0</td>\n",
       "      <td>NaN</td>\n",
       "      <td>NaN</td>\n",
       "      <td>NaN</td>\n",
       "      <td>NaN</td>\n",
       "      <td>NaN</td>\n",
       "      <td>NaN</td>\n",
       "      <td>NaN</td>\n",
       "      <td>NaN</td>\n",
       "    </tr>\n",
       "    <tr>\n",
       "      <th>XOne</th>\n",
       "      <td>NaN</td>\n",
       "      <td>NaN</td>\n",
       "      <td>NaN</td>\n",
       "      <td>NaN</td>\n",
       "      <td>NaN</td>\n",
       "      <td>NaN</td>\n",
       "      <td>NaN</td>\n",
       "      <td>NaN</td>\n",
       "      <td>NaN</td>\n",
       "      <td>NaN</td>\n",
       "      <td>NaN</td>\n",
       "      <td>NaN</td>\n",
       "      <td>19.0</td>\n",
       "      <td>61.0</td>\n",
       "      <td>80.0</td>\n",
       "      <td>87.0</td>\n",
       "    </tr>\n",
       "  </tbody>\n",
       "</table>\n",
       "</div>"
      ],
      "text/plain": [
       "year_of_release   2001   2002   2003   2004   2005   2006   2007   2008  \\\n",
       "platform                                                                  \n",
       "3DS                NaN    NaN    NaN    NaN    NaN    NaN    NaN    NaN   \n",
       "DC                 8.0    1.0    NaN    NaN    NaN    NaN    1.0    1.0   \n",
       "DS                 NaN    NaN    NaN   23.0  118.0  201.0  376.0  492.0   \n",
       "GB                10.0    NaN    NaN    NaN    NaN    NaN    NaN    NaN   \n",
       "GBA              107.0  198.0  150.0  175.0  135.0   39.0    6.0    NaN   \n",
       "GC                22.0  152.0  144.0   83.0   97.0   40.0    4.0    NaN   \n",
       "N64                9.0    1.0    NaN    NaN    NaN    NaN    NaN    NaN   \n",
       "PC                15.0   19.0   33.0   30.0   37.0   52.0   62.0   76.0   \n",
       "PS                91.0   20.0    3.0    NaN    NaN    NaN    NaN    NaN   \n",
       "PS2              185.0  280.0  256.0  259.0  260.0  259.0  214.0  191.0   \n",
       "PS3                NaN    NaN    NaN    NaN    NaN   27.0   90.0  138.0   \n",
       "PS4                NaN    NaN    NaN    NaN    NaN    NaN    NaN    NaN   \n",
       "PSP                NaN    NaN    NaN   15.0   95.0  189.0  133.0  100.0   \n",
       "PSV                NaN    NaN    NaN    NaN    NaN    NaN    NaN    NaN   \n",
       "WS                 2.0    NaN    NaN    NaN    NaN    NaN    NaN    NaN   \n",
       "Wii                NaN    NaN    NaN    NaN    NaN   44.0  185.0  282.0   \n",
       "WiiU               NaN    NaN    NaN    NaN    NaN    NaN    NaN    NaN   \n",
       "X360               NaN    NaN    NaN    NaN   18.0   93.0  123.0  146.0   \n",
       "XB                33.0  158.0  189.0  177.0  179.0   62.0    3.0    1.0   \n",
       "XOne               NaN    NaN    NaN    NaN    NaN    NaN    NaN    NaN   \n",
       "\n",
       "year_of_release   2009   2010   2011   2012   2013   2014   2015   2016  \n",
       "platform                                                                 \n",
       "3DS                NaN    NaN  116.0   93.0   91.0   80.0   86.0   46.0  \n",
       "DC                 NaN    NaN    NaN    NaN    NaN    NaN    NaN    NaN  \n",
       "DS               403.0  323.0  153.0   23.0    8.0    NaN    NaN    NaN  \n",
       "GB                 NaN    NaN    NaN    NaN    NaN    NaN    NaN    NaN  \n",
       "GBA                NaN    NaN    NaN    NaN    NaN    NaN    NaN    NaN  \n",
       "GC                 NaN    NaN    NaN    NaN    NaN    NaN    NaN    NaN  \n",
       "N64                NaN    NaN    NaN    NaN    NaN    NaN    NaN    NaN  \n",
       "PC               107.0   90.0  139.0   61.0   38.0   47.0   50.0   54.0  \n",
       "PS                 NaN    NaN    NaN    NaN    NaN    NaN    NaN    NaN  \n",
       "PS2               96.0   38.0    7.0    NaN    NaN    NaN    NaN    NaN  \n",
       "PS3              162.0  181.0  215.0  148.0  126.0  108.0   73.0   38.0  \n",
       "PS4                NaN    NaN    NaN    NaN   16.0   75.0  137.0  164.0  \n",
       "PSP              161.0  188.0  139.0  106.0   54.0   10.0    3.0    NaN  \n",
       "PSV                NaN    NaN   18.0   53.0   63.0  100.0  110.0   85.0  \n",
       "WS                 NaN    NaN    NaN    NaN    NaN    NaN    NaN    NaN  \n",
       "Wii              325.0  253.0  143.0   31.0   12.0    6.0    4.0    1.0  \n",
       "WiiU               NaN    NaN    NaN   32.0   42.0   31.0   28.0   14.0  \n",
       "X360             172.0  182.0  206.0  106.0   75.0   63.0   35.0   13.0  \n",
       "XB                 NaN    NaN    NaN    NaN    NaN    NaN    NaN    NaN  \n",
       "XOne               NaN    NaN    NaN    NaN   19.0   61.0   80.0   87.0  "
      ]
     },
     "metadata": {},
     "output_type": "display_data"
    }
   ],
   "source": [
    "games = games.query('year_of_release> 2000')\n",
    "actual_games_pivot = games.pivot_table(index = 'platform', columns='year_of_release', values = 'name', aggfunc = 'count')\n",
    "display (actual_games_pivot)"
   ]
  },
  {
   "cell_type": "code",
   "execution_count": 10,
   "metadata": {},
   "outputs": [
    {
     "data": {
      "text/html": [
       "<div>\n",
       "<style scoped>\n",
       "    .dataframe tbody tr th:only-of-type {\n",
       "        vertical-align: middle;\n",
       "    }\n",
       "\n",
       "    .dataframe tbody tr th {\n",
       "        vertical-align: top;\n",
       "    }\n",
       "\n",
       "    .dataframe thead th {\n",
       "        text-align: right;\n",
       "    }\n",
       "</style>\n",
       "<table border=\"1\" class=\"dataframe\">\n",
       "  <thead>\n",
       "    <tr style=\"text-align: right;\">\n",
       "      <th></th>\n",
       "      <th>name</th>\n",
       "      <th>platform</th>\n",
       "      <th>year_of_release</th>\n",
       "      <th>genre</th>\n",
       "      <th>na_sales</th>\n",
       "      <th>eu_sales</th>\n",
       "      <th>jp_sales</th>\n",
       "      <th>other_sales</th>\n",
       "      <th>critic_score</th>\n",
       "      <th>user_score</th>\n",
       "      <th>rating</th>\n",
       "      <th>total_sales</th>\n",
       "    </tr>\n",
       "  </thead>\n",
       "  <tbody>\n",
       "    <tr>\n",
       "      <th>16</th>\n",
       "      <td>Grand Theft Auto V</td>\n",
       "      <td>PS3</td>\n",
       "      <td>2013</td>\n",
       "      <td>Action</td>\n",
       "      <td>7.02</td>\n",
       "      <td>9.09</td>\n",
       "      <td>0.98</td>\n",
       "      <td>3.96</td>\n",
       "      <td>97.0</td>\n",
       "      <td>8.2</td>\n",
       "      <td>M</td>\n",
       "      <td>21.05</td>\n",
       "    </tr>\n",
       "    <tr>\n",
       "      <th>23</th>\n",
       "      <td>Grand Theft Auto V</td>\n",
       "      <td>X360</td>\n",
       "      <td>2013</td>\n",
       "      <td>Action</td>\n",
       "      <td>9.66</td>\n",
       "      <td>5.14</td>\n",
       "      <td>0.06</td>\n",
       "      <td>1.41</td>\n",
       "      <td>97.0</td>\n",
       "      <td>8.1</td>\n",
       "      <td>M</td>\n",
       "      <td>16.27</td>\n",
       "    </tr>\n",
       "    <tr>\n",
       "      <th>31</th>\n",
       "      <td>Call of Duty: Black Ops 3</td>\n",
       "      <td>PS4</td>\n",
       "      <td>2015</td>\n",
       "      <td>Shooter</td>\n",
       "      <td>6.03</td>\n",
       "      <td>5.86</td>\n",
       "      <td>0.36</td>\n",
       "      <td>2.38</td>\n",
       "      <td>NaN</td>\n",
       "      <td>NaN</td>\n",
       "      <td>out of rating</td>\n",
       "      <td>14.63</td>\n",
       "    </tr>\n",
       "    <tr>\n",
       "      <th>33</th>\n",
       "      <td>Pokemon X/Pokemon Y</td>\n",
       "      <td>3DS</td>\n",
       "      <td>2013</td>\n",
       "      <td>Role-Playing</td>\n",
       "      <td>5.28</td>\n",
       "      <td>4.19</td>\n",
       "      <td>4.35</td>\n",
       "      <td>0.78</td>\n",
       "      <td>NaN</td>\n",
       "      <td>NaN</td>\n",
       "      <td>out of rating</td>\n",
       "      <td>14.60</td>\n",
       "    </tr>\n",
       "    <tr>\n",
       "      <th>42</th>\n",
       "      <td>Grand Theft Auto V</td>\n",
       "      <td>PS4</td>\n",
       "      <td>2014</td>\n",
       "      <td>Action</td>\n",
       "      <td>3.96</td>\n",
       "      <td>6.31</td>\n",
       "      <td>0.38</td>\n",
       "      <td>1.97</td>\n",
       "      <td>97.0</td>\n",
       "      <td>8.3</td>\n",
       "      <td>M</td>\n",
       "      <td>12.62</td>\n",
       "    </tr>\n",
       "    <tr>\n",
       "      <th>47</th>\n",
       "      <td>Pokemon Omega Ruby/Pokemon Alpha Sapphire</td>\n",
       "      <td>3DS</td>\n",
       "      <td>2014</td>\n",
       "      <td>Role-Playing</td>\n",
       "      <td>4.35</td>\n",
       "      <td>3.49</td>\n",
       "      <td>3.10</td>\n",
       "      <td>0.74</td>\n",
       "      <td>NaN</td>\n",
       "      <td>NaN</td>\n",
       "      <td>out of rating</td>\n",
       "      <td>11.68</td>\n",
       "    </tr>\n",
       "    <tr>\n",
       "      <th>60</th>\n",
       "      <td>Call of Duty: Ghosts</td>\n",
       "      <td>X360</td>\n",
       "      <td>2013</td>\n",
       "      <td>Shooter</td>\n",
       "      <td>6.73</td>\n",
       "      <td>2.56</td>\n",
       "      <td>0.04</td>\n",
       "      <td>0.91</td>\n",
       "      <td>73.0</td>\n",
       "      <td>2.6</td>\n",
       "      <td>M</td>\n",
       "      <td>10.24</td>\n",
       "    </tr>\n",
       "    <tr>\n",
       "      <th>69</th>\n",
       "      <td>Call of Duty: Ghosts</td>\n",
       "      <td>PS3</td>\n",
       "      <td>2013</td>\n",
       "      <td>Shooter</td>\n",
       "      <td>4.10</td>\n",
       "      <td>3.63</td>\n",
       "      <td>0.38</td>\n",
       "      <td>1.25</td>\n",
       "      <td>71.0</td>\n",
       "      <td>2.6</td>\n",
       "      <td>M</td>\n",
       "      <td>9.36</td>\n",
       "    </tr>\n",
       "    <tr>\n",
       "      <th>72</th>\n",
       "      <td>Minecraft</td>\n",
       "      <td>X360</td>\n",
       "      <td>2013</td>\n",
       "      <td>Misc</td>\n",
       "      <td>5.70</td>\n",
       "      <td>2.65</td>\n",
       "      <td>0.02</td>\n",
       "      <td>0.81</td>\n",
       "      <td>NaN</td>\n",
       "      <td>NaN</td>\n",
       "      <td>out of rating</td>\n",
       "      <td>9.18</td>\n",
       "    </tr>\n",
       "    <tr>\n",
       "      <th>77</th>\n",
       "      <td>FIFA 16</td>\n",
       "      <td>PS4</td>\n",
       "      <td>2015</td>\n",
       "      <td>Sports</td>\n",
       "      <td>1.12</td>\n",
       "      <td>6.12</td>\n",
       "      <td>0.06</td>\n",
       "      <td>1.28</td>\n",
       "      <td>82.0</td>\n",
       "      <td>4.3</td>\n",
       "      <td>E</td>\n",
       "      <td>8.58</td>\n",
       "    </tr>\n",
       "  </tbody>\n",
       "</table>\n",
       "</div>"
      ],
      "text/plain": [
       "                                         name platform  year_of_release  \\\n",
       "16                         Grand Theft Auto V      PS3             2013   \n",
       "23                         Grand Theft Auto V     X360             2013   \n",
       "31                  Call of Duty: Black Ops 3      PS4             2015   \n",
       "33                        Pokemon X/Pokemon Y      3DS             2013   \n",
       "42                         Grand Theft Auto V      PS4             2014   \n",
       "47  Pokemon Omega Ruby/Pokemon Alpha Sapphire      3DS             2014   \n",
       "60                       Call of Duty: Ghosts     X360             2013   \n",
       "69                       Call of Duty: Ghosts      PS3             2013   \n",
       "72                                  Minecraft     X360             2013   \n",
       "77                                    FIFA 16      PS4             2015   \n",
       "\n",
       "           genre  na_sales  eu_sales  jp_sales  other_sales  critic_score  \\\n",
       "16        Action      7.02      9.09      0.98         3.96          97.0   \n",
       "23        Action      9.66      5.14      0.06         1.41          97.0   \n",
       "31       Shooter      6.03      5.86      0.36         2.38           NaN   \n",
       "33  Role-Playing      5.28      4.19      4.35         0.78           NaN   \n",
       "42        Action      3.96      6.31      0.38         1.97          97.0   \n",
       "47  Role-Playing      4.35      3.49      3.10         0.74           NaN   \n",
       "60       Shooter      6.73      2.56      0.04         0.91          73.0   \n",
       "69       Shooter      4.10      3.63      0.38         1.25          71.0   \n",
       "72          Misc      5.70      2.65      0.02         0.81           NaN   \n",
       "77        Sports      1.12      6.12      0.06         1.28          82.0   \n",
       "\n",
       "    user_score         rating  total_sales  \n",
       "16         8.2              M        21.05  \n",
       "23         8.1              M        16.27  \n",
       "31         NaN  out of rating        14.63  \n",
       "33         NaN  out of rating        14.60  \n",
       "42         8.3              M        12.62  \n",
       "47         NaN  out of rating        11.68  \n",
       "60         2.6              M        10.24  \n",
       "69         2.6              M         9.36  \n",
       "72         NaN  out of rating         9.18  \n",
       "77         4.3              E         8.58  "
      ]
     },
     "execution_count": 10,
     "metadata": {},
     "output_type": "execute_result"
    }
   ],
   "source": [
    "actual_period_data = games.query('year_of_release> 2012')\n",
    "actual_period_data.head(10)"
   ]
  },
  {
   "cell_type": "markdown",
   "metadata": {},
   "source": [
    "<div class=\"alert alert-info\">\n",
    "<font color='black'> <b> Выберем топ-5 платформ и преобразуем данные  <b>"
   ]
  },
  {
   "cell_type": "code",
   "execution_count": 11,
   "metadata": {},
   "outputs": [
    {
     "data": {
      "text/html": [
       "<div>\n",
       "<style scoped>\n",
       "    .dataframe tbody tr th:only-of-type {\n",
       "        vertical-align: middle;\n",
       "    }\n",
       "\n",
       "    .dataframe tbody tr th {\n",
       "        vertical-align: top;\n",
       "    }\n",
       "\n",
       "    .dataframe thead th {\n",
       "        text-align: right;\n",
       "    }\n",
       "</style>\n",
       "<table border=\"1\" class=\"dataframe\">\n",
       "  <thead>\n",
       "    <tr style=\"text-align: right;\">\n",
       "      <th></th>\n",
       "      <th>sum_sales</th>\n",
       "    </tr>\n",
       "    <tr>\n",
       "      <th>platform</th>\n",
       "      <th></th>\n",
       "    </tr>\n",
       "  </thead>\n",
       "  <tbody>\n",
       "    <tr>\n",
       "      <th>PS4</th>\n",
       "      <td>314.14</td>\n",
       "    </tr>\n",
       "    <tr>\n",
       "      <th>PS3</th>\n",
       "      <td>181.43</td>\n",
       "    </tr>\n",
       "    <tr>\n",
       "      <th>XOne</th>\n",
       "      <td>159.32</td>\n",
       "    </tr>\n",
       "    <tr>\n",
       "      <th>3DS</th>\n",
       "      <td>143.25</td>\n",
       "    </tr>\n",
       "    <tr>\n",
       "      <th>X360</th>\n",
       "      <td>136.80</td>\n",
       "    </tr>\n",
       "    <tr>\n",
       "      <th>WiiU</th>\n",
       "      <td>64.63</td>\n",
       "    </tr>\n",
       "    <tr>\n",
       "      <th>PC</th>\n",
       "      <td>39.43</td>\n",
       "    </tr>\n",
       "    <tr>\n",
       "      <th>PSV</th>\n",
       "      <td>32.99</td>\n",
       "    </tr>\n",
       "    <tr>\n",
       "      <th>Wii</th>\n",
       "      <td>13.66</td>\n",
       "    </tr>\n",
       "    <tr>\n",
       "      <th>PSP</th>\n",
       "      <td>3.50</td>\n",
       "    </tr>\n",
       "    <tr>\n",
       "      <th>DS</th>\n",
       "      <td>1.54</td>\n",
       "    </tr>\n",
       "  </tbody>\n",
       "</table>\n",
       "</div>"
      ],
      "text/plain": [
       "          sum_sales\n",
       "platform           \n",
       "PS4          314.14\n",
       "PS3          181.43\n",
       "XOne         159.32\n",
       "3DS          143.25\n",
       "X360         136.80\n",
       "WiiU          64.63\n",
       "PC            39.43\n",
       "PSV           32.99\n",
       "Wii           13.66\n",
       "PSP            3.50\n",
       "DS             1.54"
      ]
     },
     "metadata": {},
     "output_type": "display_data"
    },
    {
     "data": {
      "text/html": [
       "<div>\n",
       "<style scoped>\n",
       "    .dataframe tbody tr th:only-of-type {\n",
       "        vertical-align: middle;\n",
       "    }\n",
       "\n",
       "    .dataframe tbody tr th {\n",
       "        vertical-align: top;\n",
       "    }\n",
       "\n",
       "    .dataframe thead th {\n",
       "        text-align: right;\n",
       "    }\n",
       "</style>\n",
       "<table border=\"1\" class=\"dataframe\">\n",
       "  <thead>\n",
       "    <tr style=\"text-align: right;\">\n",
       "      <th></th>\n",
       "      <th>name</th>\n",
       "      <th>platform</th>\n",
       "      <th>year_of_release</th>\n",
       "      <th>genre</th>\n",
       "      <th>na_sales</th>\n",
       "      <th>eu_sales</th>\n",
       "      <th>jp_sales</th>\n",
       "      <th>other_sales</th>\n",
       "      <th>critic_score</th>\n",
       "      <th>user_score</th>\n",
       "      <th>rating</th>\n",
       "      <th>total_sales</th>\n",
       "    </tr>\n",
       "  </thead>\n",
       "  <tbody>\n",
       "    <tr>\n",
       "      <th>16</th>\n",
       "      <td>Grand Theft Auto V</td>\n",
       "      <td>PS3</td>\n",
       "      <td>2013</td>\n",
       "      <td>Action</td>\n",
       "      <td>7.02</td>\n",
       "      <td>9.09</td>\n",
       "      <td>0.98</td>\n",
       "      <td>3.96</td>\n",
       "      <td>97.0</td>\n",
       "      <td>8.2</td>\n",
       "      <td>M</td>\n",
       "      <td>21.05</td>\n",
       "    </tr>\n",
       "    <tr>\n",
       "      <th>23</th>\n",
       "      <td>Grand Theft Auto V</td>\n",
       "      <td>X360</td>\n",
       "      <td>2013</td>\n",
       "      <td>Action</td>\n",
       "      <td>9.66</td>\n",
       "      <td>5.14</td>\n",
       "      <td>0.06</td>\n",
       "      <td>1.41</td>\n",
       "      <td>97.0</td>\n",
       "      <td>8.1</td>\n",
       "      <td>M</td>\n",
       "      <td>16.27</td>\n",
       "    </tr>\n",
       "    <tr>\n",
       "      <th>31</th>\n",
       "      <td>Call of Duty: Black Ops 3</td>\n",
       "      <td>PS4</td>\n",
       "      <td>2015</td>\n",
       "      <td>Shooter</td>\n",
       "      <td>6.03</td>\n",
       "      <td>5.86</td>\n",
       "      <td>0.36</td>\n",
       "      <td>2.38</td>\n",
       "      <td>NaN</td>\n",
       "      <td>NaN</td>\n",
       "      <td>out of rating</td>\n",
       "      <td>14.63</td>\n",
       "    </tr>\n",
       "    <tr>\n",
       "      <th>33</th>\n",
       "      <td>Pokemon X/Pokemon Y</td>\n",
       "      <td>3DS</td>\n",
       "      <td>2013</td>\n",
       "      <td>Role-Playing</td>\n",
       "      <td>5.28</td>\n",
       "      <td>4.19</td>\n",
       "      <td>4.35</td>\n",
       "      <td>0.78</td>\n",
       "      <td>NaN</td>\n",
       "      <td>NaN</td>\n",
       "      <td>out of rating</td>\n",
       "      <td>14.60</td>\n",
       "    </tr>\n",
       "    <tr>\n",
       "      <th>42</th>\n",
       "      <td>Grand Theft Auto V</td>\n",
       "      <td>PS4</td>\n",
       "      <td>2014</td>\n",
       "      <td>Action</td>\n",
       "      <td>3.96</td>\n",
       "      <td>6.31</td>\n",
       "      <td>0.38</td>\n",
       "      <td>1.97</td>\n",
       "      <td>97.0</td>\n",
       "      <td>8.3</td>\n",
       "      <td>M</td>\n",
       "      <td>12.62</td>\n",
       "    </tr>\n",
       "    <tr>\n",
       "      <th>47</th>\n",
       "      <td>Pokemon Omega Ruby/Pokemon Alpha Sapphire</td>\n",
       "      <td>3DS</td>\n",
       "      <td>2014</td>\n",
       "      <td>Role-Playing</td>\n",
       "      <td>4.35</td>\n",
       "      <td>3.49</td>\n",
       "      <td>3.10</td>\n",
       "      <td>0.74</td>\n",
       "      <td>NaN</td>\n",
       "      <td>NaN</td>\n",
       "      <td>out of rating</td>\n",
       "      <td>11.68</td>\n",
       "    </tr>\n",
       "    <tr>\n",
       "      <th>60</th>\n",
       "      <td>Call of Duty: Ghosts</td>\n",
       "      <td>X360</td>\n",
       "      <td>2013</td>\n",
       "      <td>Shooter</td>\n",
       "      <td>6.73</td>\n",
       "      <td>2.56</td>\n",
       "      <td>0.04</td>\n",
       "      <td>0.91</td>\n",
       "      <td>73.0</td>\n",
       "      <td>2.6</td>\n",
       "      <td>M</td>\n",
       "      <td>10.24</td>\n",
       "    </tr>\n",
       "    <tr>\n",
       "      <th>69</th>\n",
       "      <td>Call of Duty: Ghosts</td>\n",
       "      <td>PS3</td>\n",
       "      <td>2013</td>\n",
       "      <td>Shooter</td>\n",
       "      <td>4.10</td>\n",
       "      <td>3.63</td>\n",
       "      <td>0.38</td>\n",
       "      <td>1.25</td>\n",
       "      <td>71.0</td>\n",
       "      <td>2.6</td>\n",
       "      <td>M</td>\n",
       "      <td>9.36</td>\n",
       "    </tr>\n",
       "    <tr>\n",
       "      <th>72</th>\n",
       "      <td>Minecraft</td>\n",
       "      <td>X360</td>\n",
       "      <td>2013</td>\n",
       "      <td>Misc</td>\n",
       "      <td>5.70</td>\n",
       "      <td>2.65</td>\n",
       "      <td>0.02</td>\n",
       "      <td>0.81</td>\n",
       "      <td>NaN</td>\n",
       "      <td>NaN</td>\n",
       "      <td>out of rating</td>\n",
       "      <td>9.18</td>\n",
       "    </tr>\n",
       "    <tr>\n",
       "      <th>77</th>\n",
       "      <td>FIFA 16</td>\n",
       "      <td>PS4</td>\n",
       "      <td>2015</td>\n",
       "      <td>Sports</td>\n",
       "      <td>1.12</td>\n",
       "      <td>6.12</td>\n",
       "      <td>0.06</td>\n",
       "      <td>1.28</td>\n",
       "      <td>82.0</td>\n",
       "      <td>4.3</td>\n",
       "      <td>E</td>\n",
       "      <td>8.58</td>\n",
       "    </tr>\n",
       "  </tbody>\n",
       "</table>\n",
       "</div>"
      ],
      "text/plain": [
       "                                         name platform  year_of_release  \\\n",
       "16                         Grand Theft Auto V      PS3             2013   \n",
       "23                         Grand Theft Auto V     X360             2013   \n",
       "31                  Call of Duty: Black Ops 3      PS4             2015   \n",
       "33                        Pokemon X/Pokemon Y      3DS             2013   \n",
       "42                         Grand Theft Auto V      PS4             2014   \n",
       "47  Pokemon Omega Ruby/Pokemon Alpha Sapphire      3DS             2014   \n",
       "60                       Call of Duty: Ghosts     X360             2013   \n",
       "69                       Call of Duty: Ghosts      PS3             2013   \n",
       "72                                  Minecraft     X360             2013   \n",
       "77                                    FIFA 16      PS4             2015   \n",
       "\n",
       "           genre  na_sales  eu_sales  jp_sales  other_sales  critic_score  \\\n",
       "16        Action      7.02      9.09      0.98         3.96          97.0   \n",
       "23        Action      9.66      5.14      0.06         1.41          97.0   \n",
       "31       Shooter      6.03      5.86      0.36         2.38           NaN   \n",
       "33  Role-Playing      5.28      4.19      4.35         0.78           NaN   \n",
       "42        Action      3.96      6.31      0.38         1.97          97.0   \n",
       "47  Role-Playing      4.35      3.49      3.10         0.74           NaN   \n",
       "60       Shooter      6.73      2.56      0.04         0.91          73.0   \n",
       "69       Shooter      4.10      3.63      0.38         1.25          71.0   \n",
       "72          Misc      5.70      2.65      0.02         0.81           NaN   \n",
       "77        Sports      1.12      6.12      0.06         1.28          82.0   \n",
       "\n",
       "    user_score         rating  total_sales  \n",
       "16         8.2              M        21.05  \n",
       "23         8.1              M        16.27  \n",
       "31         NaN  out of rating        14.63  \n",
       "33         NaN  out of rating        14.60  \n",
       "42         8.3              M        12.62  \n",
       "47         NaN  out of rating        11.68  \n",
       "60         2.6              M        10.24  \n",
       "69         2.6              M         9.36  \n",
       "72         NaN  out of rating         9.18  \n",
       "77         4.3              E         8.58  "
      ]
     },
     "metadata": {},
     "output_type": "display_data"
    }
   ],
   "source": [
    "platform = actual_period_data.pivot_table(index = 'platform', values = 'total_sales', aggfunc='sum')\n",
    "platform.columns = ['sum_sales']\n",
    "platform = platform.sort_values(by='sum_sales', ascending = False)\n",
    "display (platform)\n",
    "top_five = actual_period_data.query('platform==[\"PS4\", \"PS3\", \"XOne\", \"3DS\" , \"X360\"]')\n",
    "display (top_five.head(10))"
   ]
  },
  {
   "cell_type": "code",
   "execution_count": 12,
   "metadata": {},
   "outputs": [
    {
     "data": {
      "text/html": [
       "<div>\n",
       "<style scoped>\n",
       "    .dataframe tbody tr th:only-of-type {\n",
       "        vertical-align: middle;\n",
       "    }\n",
       "\n",
       "    .dataframe tbody tr th {\n",
       "        vertical-align: top;\n",
       "    }\n",
       "\n",
       "    .dataframe thead th {\n",
       "        text-align: right;\n",
       "    }\n",
       "</style>\n",
       "<table border=\"1\" class=\"dataframe\">\n",
       "  <thead>\n",
       "    <tr style=\"text-align: right;\">\n",
       "      <th></th>\n",
       "      <th>sum_sales</th>\n",
       "    </tr>\n",
       "    <tr>\n",
       "      <th>platform</th>\n",
       "      <th></th>\n",
       "    </tr>\n",
       "  </thead>\n",
       "  <tbody>\n",
       "    <tr>\n",
       "      <th>PS4</th>\n",
       "      <td>314.14</td>\n",
       "    </tr>\n",
       "    <tr>\n",
       "      <th>PS3</th>\n",
       "      <td>181.43</td>\n",
       "    </tr>\n",
       "    <tr>\n",
       "      <th>XOne</th>\n",
       "      <td>159.32</td>\n",
       "    </tr>\n",
       "    <tr>\n",
       "      <th>3DS</th>\n",
       "      <td>143.25</td>\n",
       "    </tr>\n",
       "    <tr>\n",
       "      <th>X360</th>\n",
       "      <td>136.80</td>\n",
       "    </tr>\n",
       "  </tbody>\n",
       "</table>\n",
       "</div>"
      ],
      "text/plain": [
       "          sum_sales\n",
       "platform           \n",
       "PS4          314.14\n",
       "PS3          181.43\n",
       "XOne         159.32\n",
       "3DS          143.25\n",
       "X360         136.80"
      ]
     },
     "metadata": {},
     "output_type": "display_data"
    }
   ],
   "source": [
    "top_five_pivot = top_five.pivot_table(index = 'platform', values = 'total_sales', aggfunc='sum')\n",
    "top_five_pivot.columns = ['sum_sales']\n",
    "top_five_pivot=top_five_pivot.sort_values(by='sum_sales', ascending=False)\n",
    "display (top_five_pivot)"
   ]
  },
  {
   "cell_type": "markdown",
   "metadata": {},
   "source": [
    "<div class=\"alert alert-info\">\n",
    "<font color='black'> <b> <div class=\"alert alert-info\">\n",
    "<font color='black'> <b> PS4 и PS3 лидируют по продажам из топ-5.  <b> <b>"
   ]
  },
  {
   "cell_type": "markdown",
   "metadata": {},
   "source": [
    "<div class=\"alert alert-info\">\n",
    "<font color='black'> <b> Выведем статистические данные по продажам для топ-5 платформ и построим \"ящик с усами\". После построения \"ящика с усами\" были замечены выбросы, от которых нужно избавиться <b>"
   ]
  },
  {
   "cell_type": "code",
   "execution_count": 13,
   "metadata": {},
   "outputs": [
    {
     "data": {
      "text/html": [
       "<div>\n",
       "<style scoped>\n",
       "    .dataframe tbody tr th:only-of-type {\n",
       "        vertical-align: middle;\n",
       "    }\n",
       "\n",
       "    .dataframe tbody tr th {\n",
       "        vertical-align: top;\n",
       "    }\n",
       "\n",
       "    .dataframe thead th {\n",
       "        text-align: right;\n",
       "    }\n",
       "</style>\n",
       "<table border=\"1\" class=\"dataframe\">\n",
       "  <thead>\n",
       "    <tr style=\"text-align: right;\">\n",
       "      <th></th>\n",
       "      <th>count</th>\n",
       "      <th>mean</th>\n",
       "      <th>std</th>\n",
       "      <th>min</th>\n",
       "      <th>25%</th>\n",
       "      <th>50%</th>\n",
       "      <th>75%</th>\n",
       "      <th>max</th>\n",
       "    </tr>\n",
       "    <tr>\n",
       "      <th>platform</th>\n",
       "      <th></th>\n",
       "      <th></th>\n",
       "      <th></th>\n",
       "      <th></th>\n",
       "      <th></th>\n",
       "      <th></th>\n",
       "      <th></th>\n",
       "      <th></th>\n",
       "    </tr>\n",
       "  </thead>\n",
       "  <tbody>\n",
       "    <tr>\n",
       "      <th>3DS</th>\n",
       "      <td>303.0</td>\n",
       "      <td>0.472772</td>\n",
       "      <td>1.381347</td>\n",
       "      <td>0.01</td>\n",
       "      <td>0.04</td>\n",
       "      <td>0.090</td>\n",
       "      <td>0.280</td>\n",
       "      <td>14.60</td>\n",
       "    </tr>\n",
       "    <tr>\n",
       "      <th>PS3</th>\n",
       "      <td>345.0</td>\n",
       "      <td>0.525884</td>\n",
       "      <td>1.451939</td>\n",
       "      <td>0.01</td>\n",
       "      <td>0.04</td>\n",
       "      <td>0.150</td>\n",
       "      <td>0.510</td>\n",
       "      <td>21.05</td>\n",
       "    </tr>\n",
       "    <tr>\n",
       "      <th>PS4</th>\n",
       "      <td>392.0</td>\n",
       "      <td>0.801378</td>\n",
       "      <td>1.609456</td>\n",
       "      <td>0.01</td>\n",
       "      <td>0.06</td>\n",
       "      <td>0.200</td>\n",
       "      <td>0.730</td>\n",
       "      <td>14.63</td>\n",
       "    </tr>\n",
       "    <tr>\n",
       "      <th>X360</th>\n",
       "      <td>186.0</td>\n",
       "      <td>0.735484</td>\n",
       "      <td>1.663275</td>\n",
       "      <td>0.01</td>\n",
       "      <td>0.08</td>\n",
       "      <td>0.265</td>\n",
       "      <td>0.795</td>\n",
       "      <td>16.27</td>\n",
       "    </tr>\n",
       "    <tr>\n",
       "      <th>XOne</th>\n",
       "      <td>247.0</td>\n",
       "      <td>0.645020</td>\n",
       "      <td>1.036139</td>\n",
       "      <td>0.01</td>\n",
       "      <td>0.06</td>\n",
       "      <td>0.220</td>\n",
       "      <td>0.685</td>\n",
       "      <td>7.39</td>\n",
       "    </tr>\n",
       "  </tbody>\n",
       "</table>\n",
       "</div>"
      ],
      "text/plain": [
       "          count      mean       std   min   25%    50%    75%    max\n",
       "platform                                                            \n",
       "3DS       303.0  0.472772  1.381347  0.01  0.04  0.090  0.280  14.60\n",
       "PS3       345.0  0.525884  1.451939  0.01  0.04  0.150  0.510  21.05\n",
       "PS4       392.0  0.801378  1.609456  0.01  0.06  0.200  0.730  14.63\n",
       "X360      186.0  0.735484  1.663275  0.01  0.08  0.265  0.795  16.27\n",
       "XOne      247.0  0.645020  1.036139  0.01  0.06  0.220  0.685   7.39"
      ]
     },
     "execution_count": 13,
     "metadata": {},
     "output_type": "execute_result"
    }
   ],
   "source": [
    "top_five.groupby('platform')['total_sales'].describe()"
   ]
  },
  {
   "cell_type": "code",
   "execution_count": 14,
   "metadata": {},
   "outputs": [
    {
     "data": {
      "text/plain": [
       "Text(0, 0.5, 'Глобальные продажи')"
      ]
     },
     "execution_count": 14,
     "metadata": {},
     "output_type": "execute_result"
    },
    {
     "data": {
      "image/png": "[encoded data removed]",
      "text/plain": [
       "<Figure size 1440x720 with 1 Axes>"
      ]
     },
     "metadata": {
      "needs_background": "light"
     },
     "output_type": "display_data"
    },
    {
     "data": {
      "image/png": "[encoded data removed]",
      "text/plain": [
       "<Figure size 1440x720 with 1 Axes>"
      ]
     },
     "metadata": {
      "needs_background": "light"
     },
     "output_type": "display_data"
    }
   ],
   "source": [
    "top_five.boxplot( by='platform', column='total_sales', figsize=(20,10) )\n",
    "top_five = top_five[top_five['total_sales']<2]\n",
    "top_five.boxplot( by='platform', column='total_sales', figsize=(20,10) )\n",
    "plt.title('Ящик с усами', fontsize=20)\n",
    "plt.xlabel('Платформа', fontsize=20)\n",
    "plt.ylabel('Глобальные продажи',fontsize=20)"
   ]
  },
  {
   "cell_type": "markdown",
   "metadata": {},
   "source": [
    "<div class=\"alert alert-info\">\n",
    "<font color='black'> <b> По Xone и X360 замечен больший разброс по продажам игр, чем на других консолях. Однако по предыдущему исследованию видно, что суммарные продажи на этих консолях ниже, чем на PlayStation   <b>"
   ]
  },
  {
   "cell_type": "markdown",
   "metadata": {},
   "source": [
    "<div class=\"alert alert-info\">\n",
    "<font color='black'> <b> Посчитаем корреляцию и построим диаграмму рассеяния для XOne <b>"
   ]
  },
  {
   "cell_type": "code",
   "execution_count": 15,
   "metadata": {},
   "outputs": [
    {
     "data": {
      "text/plain": [
       "-0.06892505328279414"
      ]
     },
     "metadata": {},
     "output_type": "display_data"
    },
    {
     "data": {
      "text/plain": [
       "0.4169983280084017"
      ]
     },
     "metadata": {},
     "output_type": "display_data"
    },
    {
     "data": {
      "text/plain": [
       "Text(0, 0.5, 'Глобальные продажи')"
      ]
     },
     "execution_count": 15,
     "metadata": {},
     "output_type": "execute_result"
    },
    {
     "data": {
      "image/png": "[encoded data removed]",
      "text/plain": [
       "<Figure size 1080x720 with 1 Axes>"
      ]
     },
     "metadata": {
      "needs_background": "light"
     },
     "output_type": "display_data"
    },
    {
     "data": {
      "image/png": "[encoded data removed]",
      "text/plain": [
       "<Figure size 1080x720 with 1 Axes>"
      ]
     },
     "metadata": {
      "needs_background": "light"
     },
     "output_type": "display_data"
    }
   ],
   "source": [
    "xone = actual_period_data.query('platform==\"XOne\"')\n",
    "display (xone['user_score'].corr(xone['total_sales']))\n",
    "xone.plot(x='user_score', y='total_sales', kind='scatter', figsize=(15,10))\n",
    "plt.title('Диаграмма рассеяния', fontsize=20)\n",
    "plt.xlabel('Отзыв пользователей', fontsize=20)\n",
    "plt.ylabel('Глобальные продажи',fontsize=20)\n",
    "display(xone['critic_score'].corr(xone['total_sales']))\n",
    "xone.plot(x='critic_score', y='total_sales', kind='scatter', figsize=(15,10))\n",
    "plt.title('Диаграмма рассеяния', fontsize=20)\n",
    "plt.xlabel('Отзыв критиков', fontsize=20)\n",
    "plt.ylabel('Глобальные продажи',fontsize=20)"
   ]
  },
  {
   "cell_type": "markdown",
   "metadata": {},
   "source": [
    "<div class=\"alert alert-info\">\n",
    "<font color='black'> <b> Как видно, по значениям корреляции -0.06 и 0.41 нет очевидной зависимости продаж от отзывов пользователей, но есть зависимость от отзывов критиков. Посчитаем корреляцию для других актуальных и популярных платформ <b>"
   ]
  },
  {
   "cell_type": "code",
   "execution_count": 16,
   "metadata": {},
   "outputs": [
    {
     "data": {
      "text/plain": [
       "'Корреляция оценок пользователей и продаж -0.031957110204556424'"
      ]
     },
     "metadata": {},
     "output_type": "display_data"
    },
    {
     "data": {
      "text/plain": [
       "'Корреляция оценок критиков и продаж 0.40656790206178095'"
      ]
     },
     "metadata": {},
     "output_type": "display_data"
    },
    {
     "data": {
      "text/plain": [
       "None"
      ]
     },
     "metadata": {},
     "output_type": "display_data"
    }
   ],
   "source": [
    "def other_platform(name_of_platform):\n",
    "    platf = actual_period_data[actual_period_data['platform']==name_of_platform]\n",
    "    display(f\"Корреляция оценок пользователей и продаж {platf['user_score'].corr(platf['total_sales'])}\")\n",
    "    display( f\"Корреляция оценок критиков и продаж {platf['critic_score'].corr(platf['total_sales'])}\")\n",
    "display(other_platform('PS4'))"
   ]
  },
  {
   "cell_type": "code",
   "execution_count": 17,
   "metadata": {},
   "outputs": [
    {
     "data": {
      "text/plain": [
       "'Корреляция оценок пользователей и продаж 0.0023944027357566925'"
      ]
     },
     "metadata": {},
     "output_type": "display_data"
    },
    {
     "data": {
      "text/plain": [
       "'Корреляция оценок критиков и продаж 0.3342853393371919'"
      ]
     },
     "metadata": {},
     "output_type": "display_data"
    },
    {
     "data": {
      "text/plain": [
       "None"
      ]
     },
     "metadata": {},
     "output_type": "display_data"
    }
   ],
   "source": [
    "display(other_platform('PS3'))"
   ]
  },
  {
   "cell_type": "code",
   "execution_count": 18,
   "metadata": {},
   "outputs": [
    {
     "data": {
      "text/plain": [
       "'Корреляция оценок пользователей и продаж 0.24150411773563016'"
      ]
     },
     "metadata": {},
     "output_type": "display_data"
    },
    {
     "data": {
      "text/plain": [
       "'Корреляция оценок критиков и продаж 0.3570566142288103'"
      ]
     },
     "metadata": {},
     "output_type": "display_data"
    },
    {
     "data": {
      "text/plain": [
       "None"
      ]
     },
     "metadata": {},
     "output_type": "display_data"
    }
   ],
   "source": [
    "display(other_platform('3DS'))"
   ]
  },
  {
   "cell_type": "code",
   "execution_count": 19,
   "metadata": {},
   "outputs": [
    {
     "data": {
      "text/plain": [
       "'Корреляция оценок пользователей и продаж -0.011742185147181342'"
      ]
     },
     "metadata": {},
     "output_type": "display_data"
    },
    {
     "data": {
      "text/plain": [
       "'Корреляция оценок критиков и продаж 0.3503445460228664'"
      ]
     },
     "metadata": {},
     "output_type": "display_data"
    },
    {
     "data": {
      "text/plain": [
       "None"
      ]
     },
     "metadata": {},
     "output_type": "display_data"
    }
   ],
   "source": [
    "display(other_platform('X360'))"
   ]
  },
  {
   "cell_type": "markdown",
   "metadata": {},
   "source": [
    "<div class=\"alert alert-info\">\n",
    "<font color='black'> <b> По платформам X360 и PS3 зависимостей не наблюдается, по 3DS и PS4 есть зависимость (слабая) продаж от отзывов критиков <b>"
   ]
  },
  {
   "cell_type": "markdown",
   "metadata": {},
   "source": [
    "<div class=\"alert alert-info\">\n",
    "<font color='black'> <b> Найдем самые прибыльные жанры игр из топ-5 платформ<b>"
   ]
  },
  {
   "cell_type": "code",
   "execution_count": 20,
   "metadata": {},
   "outputs": [
    {
     "data": {
      "text/html": [
       "<div>\n",
       "<style scoped>\n",
       "    .dataframe tbody tr th:only-of-type {\n",
       "        vertical-align: middle;\n",
       "    }\n",
       "\n",
       "    .dataframe tbody tr th {\n",
       "        vertical-align: top;\n",
       "    }\n",
       "\n",
       "    .dataframe thead th {\n",
       "        text-align: right;\n",
       "    }\n",
       "</style>\n",
       "<table border=\"1\" class=\"dataframe\">\n",
       "  <thead>\n",
       "    <tr style=\"text-align: right;\">\n",
       "      <th></th>\n",
       "      <th>total_sales</th>\n",
       "    </tr>\n",
       "    <tr>\n",
       "      <th>genre</th>\n",
       "      <th></th>\n",
       "    </tr>\n",
       "  </thead>\n",
       "  <tbody>\n",
       "    <tr>\n",
       "      <th>Shooter</th>\n",
       "      <td>0.620</td>\n",
       "    </tr>\n",
       "    <tr>\n",
       "      <th>Sports</th>\n",
       "      <td>0.365</td>\n",
       "    </tr>\n",
       "    <tr>\n",
       "      <th>Platform</th>\n",
       "      <td>0.240</td>\n",
       "    </tr>\n",
       "    <tr>\n",
       "      <th>Racing</th>\n",
       "      <td>0.180</td>\n",
       "    </tr>\n",
       "    <tr>\n",
       "      <th>Role-Playing</th>\n",
       "      <td>0.180</td>\n",
       "    </tr>\n",
       "    <tr>\n",
       "      <th>Fighting</th>\n",
       "      <td>0.150</td>\n",
       "    </tr>\n",
       "    <tr>\n",
       "      <th>Action</th>\n",
       "      <td>0.140</td>\n",
       "    </tr>\n",
       "    <tr>\n",
       "      <th>Misc</th>\n",
       "      <td>0.130</td>\n",
       "    </tr>\n",
       "    <tr>\n",
       "      <th>Simulation</th>\n",
       "      <td>0.100</td>\n",
       "    </tr>\n",
       "    <tr>\n",
       "      <th>Strategy</th>\n",
       "      <td>0.080</td>\n",
       "    </tr>\n",
       "    <tr>\n",
       "      <th>Puzzle</th>\n",
       "      <td>0.070</td>\n",
       "    </tr>\n",
       "    <tr>\n",
       "      <th>Adventure</th>\n",
       "      <td>0.060</td>\n",
       "    </tr>\n",
       "  </tbody>\n",
       "</table>\n",
       "</div>"
      ],
      "text/plain": [
       "              total_sales\n",
       "genre                    \n",
       "Shooter             0.620\n",
       "Sports              0.365\n",
       "Platform            0.240\n",
       "Racing              0.180\n",
       "Role-Playing        0.180\n",
       "Fighting            0.150\n",
       "Action              0.140\n",
       "Misc                0.130\n",
       "Simulation          0.100\n",
       "Strategy            0.080\n",
       "Puzzle              0.070\n",
       "Adventure           0.060"
      ]
     },
     "metadata": {},
     "output_type": "display_data"
    },
    {
     "data": {
      "text/plain": [
       "Text(0, 0.5, 'Продажи')"
      ]
     },
     "execution_count": 20,
     "metadata": {},
     "output_type": "execute_result"
    },
    {
     "data": {
      "image/png": "[encoded data removed]",
      "text/plain": [
       "<Figure size 1080x360 with 1 Axes>"
      ]
     },
     "metadata": {
      "needs_background": "light"
     },
     "output_type": "display_data"
    }
   ],
   "source": [
    "top_five = actual_period_data.query('platform==[\"PS4\", \"PS3\", \"XOne\", \"3DS\" , \"X360\"]')\n",
    "games_genre = top_five.pivot_table(index='genre', values='total_sales', aggfunc='median').sort_values(\n",
    "    by='total_sales', ascending=False)\n",
    "display (games_genre)\n",
    "games_genre.plot(grid=True, figsize=(15, 5), legend=None)\n",
    "plt.title('Распределение игр по жанрам ',fontsize=15)\n",
    "plt.xlabel('Жанры игр',fontsize=12)\n",
    "plt.ylabel('Продажи',fontsize=12)"
   ]
  },
  {
   "cell_type": "markdown",
   "metadata": {},
   "source": [
    "<div class=\"alert alert-info\">\n",
    "<font color='black'> <b> Сделав анализ медианных продаж по различным жанрам, делаем вывод, что наиболее стабильный доход приносит жанр Shooter, жанр Adventure в конце списка <b>"
   ]
  },
  {
   "cell_type": "markdown",
   "metadata": {},
   "source": [
    " ## Составим портрет пользователя каждого региона"
   ]
  },
  {
   "cell_type": "markdown",
   "metadata": {},
   "source": [
    "<div class=\"alert alert-info\">\n",
    "<font color='black'> <b> Для Северной Америки: Любимые платформы - XOne, PS4. Жанр - \"Action\" и \"Shooter\". Наивысший рейтинг - игры для взрослых (\"М\") (Жанры \"Action\" и \"Shooter\" предполагают игры с ограничениями по возрасту ) <b>"
   ]
  },
  {
   "cell_type": "code",
   "execution_count": 21,
   "metadata": {},
   "outputs": [
    {
     "data": {
      "text/html": [
       "<div>\n",
       "<style scoped>\n",
       "    .dataframe tbody tr th:only-of-type {\n",
       "        vertical-align: middle;\n",
       "    }\n",
       "\n",
       "    .dataframe tbody tr th {\n",
       "        vertical-align: top;\n",
       "    }\n",
       "\n",
       "    .dataframe thead th {\n",
       "        text-align: right;\n",
       "    }\n",
       "</style>\n",
       "<table border=\"1\" class=\"dataframe\">\n",
       "  <thead>\n",
       "    <tr style=\"text-align: right;\">\n",
       "      <th></th>\n",
       "      <th>na_sales</th>\n",
       "    </tr>\n",
       "    <tr>\n",
       "      <th>platform</th>\n",
       "      <th></th>\n",
       "    </tr>\n",
       "  </thead>\n",
       "  <tbody>\n",
       "    <tr>\n",
       "      <th>PS4</th>\n",
       "      <td>108.74</td>\n",
       "    </tr>\n",
       "    <tr>\n",
       "      <th>XOne</th>\n",
       "      <td>93.12</td>\n",
       "    </tr>\n",
       "    <tr>\n",
       "      <th>X360</th>\n",
       "      <td>81.66</td>\n",
       "    </tr>\n",
       "    <tr>\n",
       "      <th>PS3</th>\n",
       "      <td>63.50</td>\n",
       "    </tr>\n",
       "    <tr>\n",
       "      <th>3DS</th>\n",
       "      <td>38.20</td>\n",
       "    </tr>\n",
       "  </tbody>\n",
       "</table>\n",
       "</div>"
      ],
      "text/plain": [
       "          na_sales\n",
       "platform          \n",
       "PS4         108.74\n",
       "XOne         93.12\n",
       "X360         81.66\n",
       "PS3          63.50\n",
       "3DS          38.20"
      ]
     },
     "metadata": {},
     "output_type": "display_data"
    },
    {
     "data": {
      "text/html": [
       "<div>\n",
       "<style scoped>\n",
       "    .dataframe tbody tr th:only-of-type {\n",
       "        vertical-align: middle;\n",
       "    }\n",
       "\n",
       "    .dataframe tbody tr th {\n",
       "        vertical-align: top;\n",
       "    }\n",
       "\n",
       "    .dataframe thead th {\n",
       "        text-align: right;\n",
       "    }\n",
       "</style>\n",
       "<table border=\"1\" class=\"dataframe\">\n",
       "  <thead>\n",
       "    <tr style=\"text-align: right;\">\n",
       "      <th></th>\n",
       "      <th>na_sales</th>\n",
       "    </tr>\n",
       "    <tr>\n",
       "      <th>genre</th>\n",
       "      <th></th>\n",
       "    </tr>\n",
       "  </thead>\n",
       "  <tbody>\n",
       "    <tr>\n",
       "      <th>Action</th>\n",
       "      <td>126.05</td>\n",
       "    </tr>\n",
       "    <tr>\n",
       "      <th>Shooter</th>\n",
       "      <td>109.74</td>\n",
       "    </tr>\n",
       "    <tr>\n",
       "      <th>Sports</th>\n",
       "      <td>65.27</td>\n",
       "    </tr>\n",
       "    <tr>\n",
       "      <th>Role-Playing</th>\n",
       "      <td>46.40</td>\n",
       "    </tr>\n",
       "    <tr>\n",
       "      <th>Misc</th>\n",
       "      <td>27.49</td>\n",
       "    </tr>\n",
       "  </tbody>\n",
       "</table>\n",
       "</div>"
      ],
      "text/plain": [
       "              na_sales\n",
       "genre                 \n",
       "Action          126.05\n",
       "Shooter         109.74\n",
       "Sports           65.27\n",
       "Role-Playing     46.40\n",
       "Misc             27.49"
      ]
     },
     "metadata": {},
     "output_type": "display_data"
    },
    {
     "data": {
      "text/html": [
       "<div>\n",
       "<style scoped>\n",
       "    .dataframe tbody tr th:only-of-type {\n",
       "        vertical-align: middle;\n",
       "    }\n",
       "\n",
       "    .dataframe tbody tr th {\n",
       "        vertical-align: top;\n",
       "    }\n",
       "\n",
       "    .dataframe thead th {\n",
       "        text-align: right;\n",
       "    }\n",
       "</style>\n",
       "<table border=\"1\" class=\"dataframe\">\n",
       "  <thead>\n",
       "    <tr style=\"text-align: right;\">\n",
       "      <th></th>\n",
       "      <th>na_sales</th>\n",
       "    </tr>\n",
       "    <tr>\n",
       "      <th>rating</th>\n",
       "      <th></th>\n",
       "    </tr>\n",
       "  </thead>\n",
       "  <tbody>\n",
       "    <tr>\n",
       "      <th>M</th>\n",
       "      <td>165.21</td>\n",
       "    </tr>\n",
       "    <tr>\n",
       "      <th>out of rating</th>\n",
       "      <td>89.42</td>\n",
       "    </tr>\n",
       "    <tr>\n",
       "      <th>E</th>\n",
       "      <td>79.05</td>\n",
       "    </tr>\n",
       "    <tr>\n",
       "      <th>E10+</th>\n",
       "      <td>54.24</td>\n",
       "    </tr>\n",
       "    <tr>\n",
       "      <th>T</th>\n",
       "      <td>49.79</td>\n",
       "    </tr>\n",
       "  </tbody>\n",
       "</table>\n",
       "</div>"
      ],
      "text/plain": [
       "               na_sales\n",
       "rating                 \n",
       "M                165.21\n",
       "out of rating     89.42\n",
       "E                 79.05\n",
       "E10+              54.24\n",
       "T                 49.79"
      ]
     },
     "metadata": {},
     "output_type": "display_data"
    }
   ],
   "source": [
    "na_games_platform = actual_period_data.pivot_table(index = 'platform', values = 'na_sales', aggfunc = 'sum')\n",
    "na_games_platform=na_games_platform.sort_values(by='na_sales', ascending=False)\n",
    "na_games_genre = actual_period_data.pivot_table(index = 'genre', values = 'na_sales', aggfunc = 'sum')\n",
    "na_games_genre=na_games_genre.sort_values(by='na_sales', ascending=False)\n",
    "na_games_rating = actual_period_data.pivot_table(index = 'rating', values = 'na_sales', aggfunc = 'sum')\n",
    "na_games_rating=na_games_rating.sort_values(by='na_sales', ascending=False)\n",
    "display (na_games_platform.head(), na_games_genre.head(), na_games_rating.head() )"
   ]
  },
  {
   "cell_type": "markdown",
   "metadata": {},
   "source": [
    "<div class=\"alert alert-info\">\n",
    "<font color='black'> <b> Для Японии: Любимые платформы - 3DS\t, PS3. Жанр - \"Action\" и \"Role-Playing\". Наивысшие продажи замечены для игр без упоминания рейтинга. Возможно в Японии более строгие ограничения по возрасту для продажи игры, поэтому очень много покупателей брали игры с отсутствием ограничений <b>"
   ]
  },
  {
   "cell_type": "code",
   "execution_count": 22,
   "metadata": {},
   "outputs": [
    {
     "data": {
      "text/html": [
       "<div>\n",
       "<style scoped>\n",
       "    .dataframe tbody tr th:only-of-type {\n",
       "        vertical-align: middle;\n",
       "    }\n",
       "\n",
       "    .dataframe tbody tr th {\n",
       "        vertical-align: top;\n",
       "    }\n",
       "\n",
       "    .dataframe thead th {\n",
       "        text-align: right;\n",
       "    }\n",
       "</style>\n",
       "<table border=\"1\" class=\"dataframe\">\n",
       "  <thead>\n",
       "    <tr style=\"text-align: right;\">\n",
       "      <th></th>\n",
       "      <th>jp_sales</th>\n",
       "    </tr>\n",
       "    <tr>\n",
       "      <th>platform</th>\n",
       "      <th></th>\n",
       "    </tr>\n",
       "  </thead>\n",
       "  <tbody>\n",
       "    <tr>\n",
       "      <th>3DS</th>\n",
       "      <td>67.81</td>\n",
       "    </tr>\n",
       "    <tr>\n",
       "      <th>PS3</th>\n",
       "      <td>23.35</td>\n",
       "    </tr>\n",
       "    <tr>\n",
       "      <th>PSV</th>\n",
       "      <td>18.59</td>\n",
       "    </tr>\n",
       "    <tr>\n",
       "      <th>PS4</th>\n",
       "      <td>15.96</td>\n",
       "    </tr>\n",
       "    <tr>\n",
       "      <th>WiiU</th>\n",
       "      <td>10.88</td>\n",
       "    </tr>\n",
       "  </tbody>\n",
       "</table>\n",
       "</div>"
      ],
      "text/plain": [
       "          jp_sales\n",
       "platform          \n",
       "3DS          67.81\n",
       "PS3          23.35\n",
       "PSV          18.59\n",
       "PS4          15.96\n",
       "WiiU         10.88"
      ]
     },
     "metadata": {},
     "output_type": "display_data"
    },
    {
     "data": {
      "text/html": [
       "<div>\n",
       "<style scoped>\n",
       "    .dataframe tbody tr th:only-of-type {\n",
       "        vertical-align: middle;\n",
       "    }\n",
       "\n",
       "    .dataframe tbody tr th {\n",
       "        vertical-align: top;\n",
       "    }\n",
       "\n",
       "    .dataframe thead th {\n",
       "        text-align: right;\n",
       "    }\n",
       "</style>\n",
       "<table border=\"1\" class=\"dataframe\">\n",
       "  <thead>\n",
       "    <tr style=\"text-align: right;\">\n",
       "      <th></th>\n",
       "      <th>jp_sales</th>\n",
       "    </tr>\n",
       "    <tr>\n",
       "      <th>genre</th>\n",
       "      <th></th>\n",
       "    </tr>\n",
       "  </thead>\n",
       "  <tbody>\n",
       "    <tr>\n",
       "      <th>Role-Playing</th>\n",
       "      <td>51.04</td>\n",
       "    </tr>\n",
       "    <tr>\n",
       "      <th>Action</th>\n",
       "      <td>40.49</td>\n",
       "    </tr>\n",
       "    <tr>\n",
       "      <th>Misc</th>\n",
       "      <td>9.20</td>\n",
       "    </tr>\n",
       "    <tr>\n",
       "      <th>Fighting</th>\n",
       "      <td>7.65</td>\n",
       "    </tr>\n",
       "    <tr>\n",
       "      <th>Shooter</th>\n",
       "      <td>6.61</td>\n",
       "    </tr>\n",
       "  </tbody>\n",
       "</table>\n",
       "</div>"
      ],
      "text/plain": [
       "              jp_sales\n",
       "genre                 \n",
       "Role-Playing     51.04\n",
       "Action           40.49\n",
       "Misc              9.20\n",
       "Fighting          7.65\n",
       "Shooter           6.61"
      ]
     },
     "metadata": {},
     "output_type": "display_data"
    },
    {
     "data": {
      "text/html": [
       "<div>\n",
       "<style scoped>\n",
       "    .dataframe tbody tr th:only-of-type {\n",
       "        vertical-align: middle;\n",
       "    }\n",
       "\n",
       "    .dataframe tbody tr th {\n",
       "        vertical-align: top;\n",
       "    }\n",
       "\n",
       "    .dataframe thead th {\n",
       "        text-align: right;\n",
       "    }\n",
       "</style>\n",
       "<table border=\"1\" class=\"dataframe\">\n",
       "  <thead>\n",
       "    <tr style=\"text-align: right;\">\n",
       "      <th></th>\n",
       "      <th>jp_sales</th>\n",
       "    </tr>\n",
       "    <tr>\n",
       "      <th>rating</th>\n",
       "      <th></th>\n",
       "    </tr>\n",
       "  </thead>\n",
       "  <tbody>\n",
       "    <tr>\n",
       "      <th>out of rating</th>\n",
       "      <td>85.05</td>\n",
       "    </tr>\n",
       "    <tr>\n",
       "      <th>T</th>\n",
       "      <td>20.59</td>\n",
       "    </tr>\n",
       "    <tr>\n",
       "      <th>E</th>\n",
       "      <td>15.14</td>\n",
       "    </tr>\n",
       "    <tr>\n",
       "      <th>M</th>\n",
       "      <td>14.11</td>\n",
       "    </tr>\n",
       "    <tr>\n",
       "      <th>E10+</th>\n",
       "      <td>5.89</td>\n",
       "    </tr>\n",
       "  </tbody>\n",
       "</table>\n",
       "</div>"
      ],
      "text/plain": [
       "               jp_sales\n",
       "rating                 \n",
       "out of rating     85.05\n",
       "T                 20.59\n",
       "E                 15.14\n",
       "M                 14.11\n",
       "E10+               5.89"
      ]
     },
     "metadata": {},
     "output_type": "display_data"
    }
   ],
   "source": [
    "jp_games_platform = actual_period_data.pivot_table(index = 'platform', values = 'jp_sales', aggfunc = 'sum')\n",
    "jp_games_platform=jp_games_platform.sort_values(by='jp_sales', ascending=False)\n",
    "jp_games_genre = actual_period_data.pivot_table(index = 'genre', values = 'jp_sales', aggfunc = 'sum')\n",
    "jp_games_genre=jp_games_genre.sort_values(by='jp_sales', ascending=False)\n",
    "jp_games_rating = actual_period_data.pivot_table(index = 'rating', values = 'jp_sales', aggfunc = 'sum')\n",
    "jp_games_rating=jp_games_rating.sort_values(by='jp_sales', ascending=False)\n",
    "display (jp_games_platform.head(), jp_games_genre.head(), jp_games_rating.head() )"
   ]
  },
  {
   "cell_type": "markdown",
   "metadata": {},
   "source": [
    "<div class=\"alert alert-info\">\n",
    "<font color='black'> <b> Для Европы: Любимые платформы - PS3, PS4. Жанр - \"Action\" и \"Shooter\". Наивысший рейтинг - игры для взрослых (\"М\"). Портрет похож на типичного пользователя из Северной Америки <b>"
   ]
  },
  {
   "cell_type": "code",
   "execution_count": 23,
   "metadata": {},
   "outputs": [
    {
     "data": {
      "text/html": [
       "<div>\n",
       "<style scoped>\n",
       "    .dataframe tbody tr th:only-of-type {\n",
       "        vertical-align: middle;\n",
       "    }\n",
       "\n",
       "    .dataframe tbody tr th {\n",
       "        vertical-align: top;\n",
       "    }\n",
       "\n",
       "    .dataframe thead th {\n",
       "        text-align: right;\n",
       "    }\n",
       "</style>\n",
       "<table border=\"1\" class=\"dataframe\">\n",
       "  <thead>\n",
       "    <tr style=\"text-align: right;\">\n",
       "      <th></th>\n",
       "      <th>eu_sales</th>\n",
       "    </tr>\n",
       "    <tr>\n",
       "      <th>platform</th>\n",
       "      <th></th>\n",
       "    </tr>\n",
       "  </thead>\n",
       "  <tbody>\n",
       "    <tr>\n",
       "      <th>PS4</th>\n",
       "      <td>141.09</td>\n",
       "    </tr>\n",
       "    <tr>\n",
       "      <th>PS3</th>\n",
       "      <td>67.81</td>\n",
       "    </tr>\n",
       "    <tr>\n",
       "      <th>XOne</th>\n",
       "      <td>51.59</td>\n",
       "    </tr>\n",
       "    <tr>\n",
       "      <th>X360</th>\n",
       "      <td>42.52</td>\n",
       "    </tr>\n",
       "    <tr>\n",
       "      <th>3DS</th>\n",
       "      <td>30.96</td>\n",
       "    </tr>\n",
       "  </tbody>\n",
       "</table>\n",
       "</div>"
      ],
      "text/plain": [
       "          eu_sales\n",
       "platform          \n",
       "PS4         141.09\n",
       "PS3          67.81\n",
       "XOne         51.59\n",
       "X360         42.52\n",
       "3DS          30.96"
      ]
     },
     "metadata": {},
     "output_type": "display_data"
    },
    {
     "data": {
      "text/html": [
       "<div>\n",
       "<style scoped>\n",
       "    .dataframe tbody tr th:only-of-type {\n",
       "        vertical-align: middle;\n",
       "    }\n",
       "\n",
       "    .dataframe tbody tr th {\n",
       "        vertical-align: top;\n",
       "    }\n",
       "\n",
       "    .dataframe thead th {\n",
       "        text-align: right;\n",
       "    }\n",
       "</style>\n",
       "<table border=\"1\" class=\"dataframe\">\n",
       "  <thead>\n",
       "    <tr style=\"text-align: right;\">\n",
       "      <th></th>\n",
       "      <th>eu_sales</th>\n",
       "    </tr>\n",
       "    <tr>\n",
       "      <th>genre</th>\n",
       "      <th></th>\n",
       "    </tr>\n",
       "  </thead>\n",
       "  <tbody>\n",
       "    <tr>\n",
       "      <th>Action</th>\n",
       "      <td>118.13</td>\n",
       "    </tr>\n",
       "    <tr>\n",
       "      <th>Shooter</th>\n",
       "      <td>87.86</td>\n",
       "    </tr>\n",
       "    <tr>\n",
       "      <th>Sports</th>\n",
       "      <td>60.52</td>\n",
       "    </tr>\n",
       "    <tr>\n",
       "      <th>Role-Playing</th>\n",
       "      <td>36.97</td>\n",
       "    </tr>\n",
       "    <tr>\n",
       "      <th>Racing</th>\n",
       "      <td>20.19</td>\n",
       "    </tr>\n",
       "  </tbody>\n",
       "</table>\n",
       "</div>"
      ],
      "text/plain": [
       "              eu_sales\n",
       "genre                 \n",
       "Action          118.13\n",
       "Shooter          87.86\n",
       "Sports           60.52\n",
       "Role-Playing     36.97\n",
       "Racing           20.19"
      ]
     },
     "metadata": {},
     "output_type": "display_data"
    },
    {
     "data": {
      "text/html": [
       "<div>\n",
       "<style scoped>\n",
       "    .dataframe tbody tr th:only-of-type {\n",
       "        vertical-align: middle;\n",
       "    }\n",
       "\n",
       "    .dataframe tbody tr th {\n",
       "        vertical-align: top;\n",
       "    }\n",
       "\n",
       "    .dataframe thead th {\n",
       "        text-align: right;\n",
       "    }\n",
       "</style>\n",
       "<table border=\"1\" class=\"dataframe\">\n",
       "  <thead>\n",
       "    <tr style=\"text-align: right;\">\n",
       "      <th></th>\n",
       "      <th>eu_sales</th>\n",
       "    </tr>\n",
       "    <tr>\n",
       "      <th>rating</th>\n",
       "      <th></th>\n",
       "    </tr>\n",
       "  </thead>\n",
       "  <tbody>\n",
       "    <tr>\n",
       "      <th>M</th>\n",
       "      <td>145.32</td>\n",
       "    </tr>\n",
       "    <tr>\n",
       "      <th>E</th>\n",
       "      <td>83.36</td>\n",
       "    </tr>\n",
       "    <tr>\n",
       "      <th>out of rating</th>\n",
       "      <td>78.91</td>\n",
       "    </tr>\n",
       "    <tr>\n",
       "      <th>E10+</th>\n",
       "      <td>42.69</td>\n",
       "    </tr>\n",
       "    <tr>\n",
       "      <th>T</th>\n",
       "      <td>41.95</td>\n",
       "    </tr>\n",
       "  </tbody>\n",
       "</table>\n",
       "</div>"
      ],
      "text/plain": [
       "               eu_sales\n",
       "rating                 \n",
       "M                145.32\n",
       "E                 83.36\n",
       "out of rating     78.91\n",
       "E10+              42.69\n",
       "T                 41.95"
      ]
     },
     "metadata": {},
     "output_type": "display_data"
    }
   ],
   "source": [
    "eu_games_platform = actual_period_data.pivot_table(index = 'platform', values = 'eu_sales', aggfunc = 'sum')\n",
    "eu_games_platform=eu_games_platform.sort_values(by='eu_sales', ascending=False)\n",
    "eu_games_genre = actual_period_data.pivot_table(index = 'genre', values = 'eu_sales', aggfunc = 'sum')\n",
    "eu_games_genre=eu_games_genre.sort_values(by='eu_sales', ascending=False)\n",
    "eu_games_rating = actual_period_data.pivot_table(index = 'rating', values = 'eu_sales', aggfunc = 'sum')\n",
    "eu_games_rating=eu_games_rating.sort_values(by='eu_sales', ascending=False)\n",
    "display (eu_games_platform.head(), eu_games_genre.head(), eu_games_rating.head() )"
   ]
  },
  {
   "cell_type": "markdown",
   "metadata": {},
   "source": [
    "## Проведем исследование статистических показателей"
   ]
  },
  {
   "cell_type": "code",
   "execution_count": 24,
   "metadata": {},
   "outputs": [
    {
     "data": {
      "text/html": [
       "<div>\n",
       "<style scoped>\n",
       "    .dataframe tbody tr th:only-of-type {\n",
       "        vertical-align: middle;\n",
       "    }\n",
       "\n",
       "    .dataframe tbody tr th {\n",
       "        vertical-align: top;\n",
       "    }\n",
       "\n",
       "    .dataframe thead th {\n",
       "        text-align: right;\n",
       "    }\n",
       "</style>\n",
       "<table border=\"1\" class=\"dataframe\">\n",
       "  <thead>\n",
       "    <tr style=\"text-align: right;\">\n",
       "      <th></th>\n",
       "      <th>critic_score</th>\n",
       "    </tr>\n",
       "    <tr>\n",
       "      <th>genre</th>\n",
       "      <th></th>\n",
       "    </tr>\n",
       "  </thead>\n",
       "  <tbody>\n",
       "    <tr>\n",
       "      <th>Strategy</th>\n",
       "      <td>83.625000</td>\n",
       "    </tr>\n",
       "    <tr>\n",
       "      <th>Role-Playing</th>\n",
       "      <td>76.285714</td>\n",
       "    </tr>\n",
       "    <tr>\n",
       "      <th>Shooter</th>\n",
       "      <td>75.947368</td>\n",
       "    </tr>\n",
       "    <tr>\n",
       "      <th>Sports</th>\n",
       "      <td>75.192308</td>\n",
       "    </tr>\n",
       "    <tr>\n",
       "      <th>Racing</th>\n",
       "      <td>74.733333</td>\n",
       "    </tr>\n",
       "    <tr>\n",
       "      <th>Fighting</th>\n",
       "      <td>73.900000</td>\n",
       "    </tr>\n",
       "    <tr>\n",
       "      <th>Adventure</th>\n",
       "      <td>73.666667</td>\n",
       "    </tr>\n",
       "    <tr>\n",
       "      <th>Misc</th>\n",
       "      <td>72.666667</td>\n",
       "    </tr>\n",
       "    <tr>\n",
       "      <th>Action</th>\n",
       "      <td>70.144928</td>\n",
       "    </tr>\n",
       "    <tr>\n",
       "      <th>Platform</th>\n",
       "      <td>68.909091</td>\n",
       "    </tr>\n",
       "    <tr>\n",
       "      <th>Simulation</th>\n",
       "      <td>64.000000</td>\n",
       "    </tr>\n",
       "  </tbody>\n",
       "</table>\n",
       "</div>"
      ],
      "text/plain": [
       "              critic_score\n",
       "genre                     \n",
       "Strategy         83.625000\n",
       "Role-Playing     76.285714\n",
       "Shooter          75.947368\n",
       "Sports           75.192308\n",
       "Racing           74.733333\n",
       "Fighting         73.900000\n",
       "Adventure        73.666667\n",
       "Misc             72.666667\n",
       "Action           70.144928\n",
       "Platform         68.909091\n",
       "Simulation       64.000000"
      ]
     },
     "metadata": {},
     "output_type": "display_data"
    },
    {
     "data": {
      "text/html": [
       "<div>\n",
       "<style scoped>\n",
       "    .dataframe tbody tr th:only-of-type {\n",
       "        vertical-align: middle;\n",
       "    }\n",
       "\n",
       "    .dataframe tbody tr th {\n",
       "        vertical-align: top;\n",
       "    }\n",
       "\n",
       "    .dataframe thead th {\n",
       "        text-align: right;\n",
       "    }\n",
       "</style>\n",
       "<table border=\"1\" class=\"dataframe\">\n",
       "  <thead>\n",
       "    <tr style=\"text-align: right;\">\n",
       "      <th></th>\n",
       "      <th>user_score</th>\n",
       "    </tr>\n",
       "    <tr>\n",
       "      <th>genre</th>\n",
       "      <th></th>\n",
       "    </tr>\n",
       "  </thead>\n",
       "  <tbody>\n",
       "    <tr>\n",
       "      <th>Role-Playing</th>\n",
       "      <td>7.690909</td>\n",
       "    </tr>\n",
       "    <tr>\n",
       "      <th>Adventure</th>\n",
       "      <td>7.600000</td>\n",
       "    </tr>\n",
       "    <tr>\n",
       "      <th>Misc</th>\n",
       "      <td>7.516667</td>\n",
       "    </tr>\n",
       "    <tr>\n",
       "      <th>Strategy</th>\n",
       "      <td>7.475000</td>\n",
       "    </tr>\n",
       "    <tr>\n",
       "      <th>Racing</th>\n",
       "      <td>7.094118</td>\n",
       "    </tr>\n",
       "    <tr>\n",
       "      <th>Fighting</th>\n",
       "      <td>6.870000</td>\n",
       "    </tr>\n",
       "    <tr>\n",
       "      <th>Action</th>\n",
       "      <td>6.638824</td>\n",
       "    </tr>\n",
       "    <tr>\n",
       "      <th>Shooter</th>\n",
       "      <td>6.589474</td>\n",
       "    </tr>\n",
       "    <tr>\n",
       "      <th>Simulation</th>\n",
       "      <td>6.300000</td>\n",
       "    </tr>\n",
       "    <tr>\n",
       "      <th>Sports</th>\n",
       "      <td>5.432432</td>\n",
       "    </tr>\n",
       "    <tr>\n",
       "      <th>Platform</th>\n",
       "      <td>5.050000</td>\n",
       "    </tr>\n",
       "  </tbody>\n",
       "</table>\n",
       "</div>"
      ],
      "text/plain": [
       "              user_score\n",
       "genre                   \n",
       "Role-Playing    7.690909\n",
       "Adventure       7.600000\n",
       "Misc            7.516667\n",
       "Strategy        7.475000\n",
       "Racing          7.094118\n",
       "Fighting        6.870000\n",
       "Action          6.638824\n",
       "Shooter         6.589474\n",
       "Simulation      6.300000\n",
       "Sports          5.432432\n",
       "Platform        5.050000"
      ]
     },
     "metadata": {},
     "output_type": "display_data"
    }
   ],
   "source": [
    "critic_genre = games[games['year_of_release'] > 2015].pivot_table(\n",
    "    index='genre', values='critic_score', aggfunc='mean')\n",
    "critic_genre=critic_genre.fillna(0).sort_values(by='critic_score', ascending=False)\n",
    "\n",
    "user_genre = games[games['year_of_release'] > 2015].pivot_table(\n",
    "    index='genre', values='user_score', aggfunc='mean')\n",
    "user_genre=user_genre.fillna(0).sort_values(by='user_score', ascending=False)\n",
    "display (critic_genre, user_genre )"
   ]
  },
  {
   "cell_type": "code",
   "execution_count": 25,
   "metadata": {},
   "outputs": [
    {
     "data": {
      "text/html": [
       "<div>\n",
       "<style scoped>\n",
       "    .dataframe tbody tr th:only-of-type {\n",
       "        vertical-align: middle;\n",
       "    }\n",
       "\n",
       "    .dataframe tbody tr th {\n",
       "        vertical-align: top;\n",
       "    }\n",
       "\n",
       "    .dataframe thead th {\n",
       "        text-align: right;\n",
       "    }\n",
       "</style>\n",
       "<table border=\"1\" class=\"dataframe\">\n",
       "  <thead>\n",
       "    <tr style=\"text-align: right;\">\n",
       "      <th></th>\n",
       "      <th>critic_score</th>\n",
       "    </tr>\n",
       "  </thead>\n",
       "  <tbody>\n",
       "    <tr>\n",
       "      <th>count</th>\n",
       "      <td>11.000000</td>\n",
       "    </tr>\n",
       "    <tr>\n",
       "      <th>mean</th>\n",
       "      <td>73.551916</td>\n",
       "    </tr>\n",
       "    <tr>\n",
       "      <th>std</th>\n",
       "      <td>4.940506</td>\n",
       "    </tr>\n",
       "    <tr>\n",
       "      <th>min</th>\n",
       "      <td>64.000000</td>\n",
       "    </tr>\n",
       "    <tr>\n",
       "      <th>25%</th>\n",
       "      <td>71.405797</td>\n",
       "    </tr>\n",
       "    <tr>\n",
       "      <th>50%</th>\n",
       "      <td>73.900000</td>\n",
       "    </tr>\n",
       "    <tr>\n",
       "      <th>75%</th>\n",
       "      <td>75.569838</td>\n",
       "    </tr>\n",
       "    <tr>\n",
       "      <th>max</th>\n",
       "      <td>83.625000</td>\n",
       "    </tr>\n",
       "  </tbody>\n",
       "</table>\n",
       "</div>"
      ],
      "text/plain": [
       "       critic_score\n",
       "count     11.000000\n",
       "mean      73.551916\n",
       "std        4.940506\n",
       "min       64.000000\n",
       "25%       71.405797\n",
       "50%       73.900000\n",
       "75%       75.569838\n",
       "max       83.625000"
      ]
     },
     "execution_count": 25,
     "metadata": {},
     "output_type": "execute_result"
    }
   ],
   "source": [
    "critic_genre.describe()"
   ]
  },
  {
   "cell_type": "code",
   "execution_count": 26,
   "metadata": {},
   "outputs": [
    {
     "name": "stdout",
     "output_type": "stream",
     "text": [
      "Дисперсия Sports - 2.632437660381078\n",
      "Стандартное отклонение Sports - 1.6224788628457008\n",
      "Среднее Sports - 6.9409943714821765\n",
      "Дисперсия Racing - 2.415526473439423\n",
      "Стандартное отклонение Racing - 1.5541964076137298\n",
      "Среднее Racing - 7.013531353135313\n",
      "Дисперсия Platform - 2.2937832242712672\n",
      "Стандартное отклонение Platform - 1.5145240916774045\n",
      "Среднее Platform - 7.2785365853658535\n",
      "Дисперсия Misc - 2.416695031141869\n",
      "Стандартное отклонение Misc - 1.554572298460856\n",
      "Среднее Misc - 6.796705882352941\n",
      "Дисперсия Simulation - 2.5804246490270617\n",
      "Стандартное отклонение Simulation - 1.6063700224503263\n",
      "Среднее Simulation - 7.112576687116563\n",
      "Дисперсия Action - 2.0033766100361934\n",
      "Стандартное отклонение Action - 1.4154068708453387\n",
      "Среднее Action - 7.047308781869688\n",
      "Дисперсия Role-Playing - 1.1757301765653365\n",
      "Стандартное отклонение Role-Playing - 1.084310922459668\n",
      "Среднее Role-Playing - 7.5861230329041485\n",
      "Дисперсия Puzzle - 2.320264041924214\n",
      "Стандартное отклонение Puzzle - 1.5232412947147325\n",
      "Среднее Puzzle - 7.13360655737705\n",
      "Дисперсия Shooter - 2.277421402189743\n",
      "Стандартное отклонение Shooter - 1.5091127864376948\n",
      "Среднее Shooter - 7.037682789651294\n",
      "Дисперсия Fighting - 1.9153071949977365\n",
      "Стандартное отклонение Fighting - 1.3839462399232625\n",
      "Среднее Fighting - 7.2784574468085115\n",
      "Дисперсия Adventure - 2.7219773878776508\n",
      "Стандартное отклонение Adventure - 1.6498416250894057\n",
      "Среднее Adventure - 7.132191780821917\n",
      "Дисперсия Strategy - 2.705867573302469\n",
      "Стандартное отклонение Strategy - 1.6449521492440042\n",
      "Среднее Strategy - 7.225694444444445\n"
     ]
    }
   ],
   "source": [
    "game_genres = games['genre'].unique()\n",
    "for genre in game_genres:\n",
    "    print('Дисперсия', genre,'-', np.var(games[games['genre']==genre]['user_score']))\n",
    "    print('Стандартное отклонение', genre,'-', np.std(games[games['genre']==genre]['user_score']))\n",
    "    print('Среднее',genre,'-',  games[games['genre']==genre]['user_score'].mean())"
   ]
  },
  {
   "cell_type": "code",
   "execution_count": 27,
   "metadata": {},
   "outputs": [
    {
     "name": "stdout",
     "output_type": "stream",
     "text": [
      "Дисперсия Sports - 192.13904150266623\n",
      "Стандартное отклонение Sports - 13.861422780604675\n",
      "Среднее Sports - 72.0044286979628\n",
      "Дисперсия Racing - 201.33533529352798\n",
      "Стандартное отклонение Racing - 14.189268314241152\n",
      "Среднее Racing - 67.80635838150289\n",
      "Дисперсия Platform - 171.42667802415082\n",
      "Стандартное отклонение Platform - 13.093001108384236\n",
      "Среднее Platform - 67.8172268907563\n",
      "Дисперсия Misc - 196.47602259208168\n",
      "Стандартное отклонение Misc - 14.01699049696766\n",
      "Среднее Misc - 66.52485089463221\n",
      "Дисперсия Simulation - 153.42715742488025\n",
      "Стандартное отклонение Simulation - 12.386571657439369\n",
      "Среднее Simulation - 68.21385542168674\n",
      "Дисперсия Action - 197.50975937872903\n",
      "Стандартное отклонение Action - 14.053816541378682\n",
      "Среднее Action - 66.61943986820428\n",
      "Дисперсия Role-Playing - 139.12698204473097\n",
      "Стандартное отклонение Role-Playing - 11.795210131436022\n",
      "Среднее Role-Playing - 72.27128427128427\n",
      "Дисперсия Puzzle - 163.04177393185503\n",
      "Стандартное отклонение Puzzle - 12.768781223431429\n",
      "Среднее Puzzle - 66.9906976744186\n",
      "Дисперсия Shooter - 210.09458454068445\n",
      "Стандартное отклонение Shooter - 14.494639855501221\n",
      "Среднее Shooter - 70.21681415929204\n",
      "Дисперсия Fighting - 192.44962725586103\n",
      "Стандартное отклонение Fighting - 13.872621499048442\n",
      "Среднее Fighting - 69.07012987012988\n",
      "Дисперсия Adventure - 188.2551612903226\n",
      "Стандартное отклонение Adventure - 13.720610820598425\n",
      "Среднее Adventure - 65.3\n",
      "Дисперсия Strategy - 136.42878397143423\n",
      "Стандартное отклонение Strategy - 11.680273283251305\n",
      "Среднее Strategy - 72.02816901408451\n"
     ]
    }
   ],
   "source": [
    "for genre in game_genres:\n",
    "    print('Дисперсия', genre,'-', np.var(games[games['genre']==genre]['critic_score']))\n",
    "    print('Стандартное отклонение', genre,'-', np.std(games[games['genre']==genre]['critic_score']))\n",
    "    print('Среднее',genre,'-',  games[games['genre']==genre]['critic_score'].mean())"
   ]
  },
  {
   "cell_type": "code",
   "execution_count": 28,
   "metadata": {},
   "outputs": [
    {
     "data": {
      "image/png": "[encoded data removed]",
      "text/plain": [
       "<Figure size 432x288 with 1 Axes>"
      ]
     },
     "metadata": {
      "needs_background": "light"
     },
     "output_type": "display_data"
    },
    {
     "data": {
      "image/png": "[encoded data removed]",
      "text/plain": [
       "<Figure size 432x288 with 1 Axes>"
      ]
     },
     "metadata": {
      "needs_background": "light"
     },
     "output_type": "display_data"
    },
    {
     "data": {
      "image/png": "[encoded data removed]",
      "text/plain": [
       "<Figure size 432x288 with 1 Axes>"
      ]
     },
     "metadata": {
      "needs_background": "light"
     },
     "output_type": "display_data"
    },
    {
     "data": {
      "image/png": "[encoded data removed]",
      "text/plain": [
       "<Figure size 432x288 with 1 Axes>"
      ]
     },
     "metadata": {
      "needs_background": "light"
     },
     "output_type": "display_data"
    },
    {
     "data": {
      "image/png": "[encoded data removed]",
      "text/plain": [
       "<Figure size 432x288 with 1 Axes>"
      ]
     },
     "metadata": {
      "needs_background": "light"
     },
     "output_type": "display_data"
    },
    {
     "data": {
      "image/png": "[encoded data removed]",
      "text/plain": [
       "<Figure size 432x288 with 1 Axes>"
      ]
     },
     "metadata": {
      "needs_background": "light"
     },
     "output_type": "display_data"
    },
    {
     "data": {
      "image/png": "[encoded data removed]",
      "text/plain": [
       "<Figure size 432x288 with 1 Axes>"
      ]
     },
     "metadata": {
      "needs_background": "light"
     },
     "output_type": "display_data"
    },
    {
     "data": {
      "image/png": "[encoded data removed]",
      "text/plain": [
       "<Figure size 432x288 with 1 Axes>"
      ]
     },
     "metadata": {
      "needs_background": "light"
     },
     "output_type": "display_data"
    },
    {
     "data": {
      "image/png": "[encoded data removed]",
      "text/plain": [
       "<Figure size 432x288 with 1 Axes>"
      ]
     },
     "metadata": {
      "needs_background": "light"
     },
     "output_type": "display_data"
    },
    {
     "data": {
      "image/png": "[encoded data removed]",
      "text/plain": [
       "<Figure size 432x288 with 1 Axes>"
      ]
     },
     "metadata": {
      "needs_background": "light"
     },
     "output_type": "display_data"
    },
    {
     "data": {
      "image/png": "[encoded data removed]",
      "text/plain": [
       "<Figure size 432x288 with 1 Axes>"
      ]
     },
     "metadata": {
      "needs_background": "light"
     },
     "output_type": "display_data"
    },
    {
     "data": {
      "image/png": "[encoded data removed]",
      "text/plain": [
       "<Figure size 432x288 with 1 Axes>"
      ]
     },
     "metadata": {
      "needs_background": "light"
     },
     "output_type": "display_data"
    }
   ],
   "source": [
    "for genre in game_genres:\n",
    "    fig, axes = plt.subplots()\n",
    "    plt.hist(games[games['genre'] == genre]['user_score']*10)\n",
    "    plt.hist(games[games['genre'] == genre]['critic_score'])\n",
    "    plt.title(genre)"
   ]
  },
  {
   "cell_type": "markdown",
   "metadata": {},
   "source": [
    "<div class=\"alert alert-info\">\n",
    "<font color='black'> <b> Распределения оценок пользователей и критиков симметричны. Для удобства построим на 1 графике гистограммы оценок пользователей и критиков - для этого надо домножить значения оценокпользователей на 10 (будем держать это в уме).Больше всего игр с оценками 75 от критиков и 8 от пользователей. Игр, имеющих оценки больше вышеуказанных значений сильно меньше, чем игр, имеюищих оценки меньше  <b>"
   ]
  },
  {
   "cell_type": "markdown",
   "metadata": {},
   "source": [
    "<div class=\"alert alert-info\">\n",
    "<font color='black'> <b> Нулевая гипотеза H0: Средние пользовательские рейтинги платформ Xbox One и PC одинаковые. Альтернативная гипотеза H1: Средние пользовательские рейтинги платформ Xbox One и PC различаются.   <b>"
   ]
  },
  {
   "cell_type": "code",
   "execution_count": 29,
   "metadata": {},
   "outputs": [
    {
     "data": {
      "text/plain": [
       "6.521428571428572"
      ]
     },
     "metadata": {},
     "output_type": "display_data"
    },
    {
     "data": {
      "text/plain": [
       "6.2696774193548395"
      ]
     },
     "metadata": {},
     "output_type": "display_data"
    },
    {
     "name": "stdout",
     "output_type": "stream",
     "text": [
      "p-значение: 0.14759594013430463\n",
      "Не получилось отвергнуть нулевую гипотезу\n"
     ]
    }
   ],
   "source": [
    "xone_hyp = games[(games['platform']=='XOne') & (games['year_of_release']>2012)]['user_score']\n",
    "pc_hyp = games[(games['platform']=='PC') & (games['year_of_release']>2012)]['user_score']\n",
    "xone_hyp=xone_hyp.dropna()\n",
    "pc_hyp=pc_hyp.dropna()\n",
    "\n",
    "display(xone_hyp.mean())\n",
    "display(pc_hyp.mean())\n",
    "alpha = .05\n",
    "results = st.ttest_ind(xone_hyp, pc_hyp,  equal_var=False)\n",
    "\n",
    "print('p-значение:', results.pvalue)\n",
    "\n",
    "if (results.pvalue < alpha):\n",
    "    print(\"Отвергаем нулевую гипотезу\")\n",
    "else:\n",
    "    print(\"Не получилось отвергнуть нулевую гипотезу\")"
   ]
  },
  {
   "cell_type": "markdown",
   "metadata": {},
   "source": [
    "<div class=\"alert alert-info\">\n",
    "<font color='black'> <b> Нулевая гипотеза H0:  Средние пользовательские рейтинги жанров Action и Sports одинаковые. Альтернативная гипотеза H1: Средние пользовательские рейтинги жанров Action и Sports различаются.  <b>"
   ]
  },
  {
   "cell_type": "code",
   "execution_count": 30,
   "metadata": {},
   "outputs": [
    {
     "data": {
      "text/plain": [
       "6.837532133676092"
      ]
     },
     "metadata": {},
     "output_type": "display_data"
    },
    {
     "data": {
      "text/plain": [
       "5.238124999999999"
      ]
     },
     "metadata": {},
     "output_type": "display_data"
    },
    {
     "name": "stdout",
     "output_type": "stream",
     "text": [
      "p-значение: 1.4460039700704315e-20\n",
      "Отвергаем нулевую гипотезу\n"
     ]
    }
   ],
   "source": [
    "genre_action_hyp = games[(games['genre']=='Action') & (games['year_of_release']>2012)]['user_score']\n",
    "genre_sports_hyp = games[(games['genre']=='Sports') & (games['year_of_release']>2012)]['user_score']\n",
    "genre_action_hyp=genre_action_hyp.dropna()\n",
    "genre_sports_hyp=genre_sports_hyp.dropna()\n",
    "\n",
    "display(genre_action_hyp.mean())\n",
    "display(genre_sports_hyp.mean())\n",
    "alpha = .05\n",
    "results = st.ttest_ind(genre_action_hyp, genre_sports_hyp,  equal_var=False)\n",
    "\n",
    "print('p-значение:', results.pvalue)\n",
    "\n",
    "if (results.pvalue < alpha):\n",
    "    print(\"Отвергаем нулевую гипотезу\")\n",
    "else:\n",
    "    print(\"Не получилось отвергнуть нулевую гипотезу\")"
   ]
  },
  {
   "cell_type": "markdown",
   "metadata": {},
   "source": [
    "<div class=\"alert alert-info\">\n",
    "<font color='black'> <b> ОБЩИЙ ВЫВОД: За весь период консольных приставок самые популярные оказались: PS2, X360, PS3, WII, DS, PS. Также мы выявили, что средняя продолжительность жизни игровой приставки составляет порядка 10 лет. Для Северной Америки: Любимые платформы - XOne, PS4. Жанр - \"Action\" и \"Shooter\". Для Японии: Любимые платформы - 3DS\t, PS3. Жанр - \"Action\" и \"Role-Playing\".Для Европы: Любимые платформы - PS3, PS4. Жанр - \"Action\" и \"Shooter\". Было выявлено, что распределения оценок пользователей и критиков симметричны;  cредние пользовательские рейтинги платформ Xbox One и PC примерно равны, а средние пользовательские рейтинги жанров Action и Sports различаются   <b>"
   ]
  }
 ],
 "metadata": {
  "ExecuteTimeLog": [
   {
    "duration": 1747,
    "start_time": "2022-04-10T08:57:07.465Z"
   },
   {
    "duration": 109,
    "start_time": "2022-04-10T08:57:24.040Z"
   },
   {
    "duration": 32,
    "start_time": "2022-04-10T08:57:35.106Z"
   },
   {
    "duration": 36,
    "start_time": "2022-04-10T08:58:09.569Z"
   },
   {
    "duration": 56,
    "start_time": "2022-04-10T08:58:19.727Z"
   },
   {
    "duration": 33,
    "start_time": "2022-04-10T08:58:58.180Z"
   },
   {
    "duration": 4,
    "start_time": "2022-04-10T08:59:18.261Z"
   },
   {
    "duration": 334,
    "start_time": "2022-04-10T08:59:40.787Z"
   },
   {
    "duration": 327,
    "start_time": "2022-04-10T09:01:47.915Z"
   },
   {
    "duration": 339,
    "start_time": "2022-04-10T09:02:02.885Z"
   },
   {
    "duration": 1414,
    "start_time": "2022-04-10T09:03:24.763Z"
   },
   {
    "duration": 65,
    "start_time": "2022-04-10T09:03:58.391Z"
   },
   {
    "duration": 30,
    "start_time": "2022-04-10T09:04:31.237Z"
   },
   {
    "duration": 36,
    "start_time": "2022-04-10T09:05:03.245Z"
   },
   {
    "duration": 20,
    "start_time": "2022-04-10T09:05:10.992Z"
   },
   {
    "duration": 236,
    "start_time": "2022-04-10T09:05:27.121Z"
   },
   {
    "duration": 36,
    "start_time": "2022-04-10T09:05:44.426Z"
   },
   {
    "duration": 858,
    "start_time": "2022-04-10T09:05:58.135Z"
   },
   {
    "duration": 666,
    "start_time": "2022-04-10T09:08:09.461Z"
   },
   {
    "duration": 16,
    "start_time": "2022-04-10T09:08:57.192Z"
   },
   {
    "duration": 14,
    "start_time": "2022-04-10T09:09:15.779Z"
   },
   {
    "duration": 14,
    "start_time": "2022-04-10T09:09:24.621Z"
   },
   {
    "duration": 13,
    "start_time": "2022-04-10T09:09:30.652Z"
   },
   {
    "duration": 376,
    "start_time": "2022-04-10T09:10:24.084Z"
   },
   {
    "duration": 49,
    "start_time": "2022-04-10T09:12:35.816Z"
   },
   {
    "duration": 52,
    "start_time": "2022-04-10T09:12:52.680Z"
   },
   {
    "duration": 56,
    "start_time": "2022-04-10T09:13:13.005Z"
   },
   {
    "duration": 37,
    "start_time": "2022-04-10T09:13:40.080Z"
   },
   {
    "duration": 24,
    "start_time": "2022-04-10T09:13:59.760Z"
   },
   {
    "duration": 119,
    "start_time": "2022-04-10T09:14:07.587Z"
   },
   {
    "duration": 124,
    "start_time": "2022-04-10T09:14:15.632Z"
   },
   {
    "duration": 2555,
    "start_time": "2022-04-10T09:14:32.344Z"
   },
   {
    "duration": 18,
    "start_time": "2022-04-10T09:15:29.232Z"
   },
   {
    "duration": 19,
    "start_time": "2022-04-10T09:15:43.606Z"
   },
   {
    "duration": 20,
    "start_time": "2022-04-10T09:16:02.092Z"
   },
   {
    "duration": 1394,
    "start_time": "2022-04-10T09:16:46.327Z"
   },
   {
    "duration": 112,
    "start_time": "2022-04-10T09:16:49.255Z"
   },
   {
    "duration": 37,
    "start_time": "2022-04-10T09:16:51.762Z"
   },
   {
    "duration": 27,
    "start_time": "2022-04-10T09:16:53.899Z"
   },
   {
    "duration": 57,
    "start_time": "2022-04-10T09:16:56.029Z"
   },
   {
    "duration": 33,
    "start_time": "2022-04-10T09:16:58.479Z"
   },
   {
    "duration": 373,
    "start_time": "2022-04-10T09:17:05.660Z"
   },
   {
    "duration": 1299,
    "start_time": "2022-04-10T09:17:08.340Z"
   },
   {
    "duration": 81,
    "start_time": "2022-04-10T09:17:12.640Z"
   },
   {
    "duration": 29,
    "start_time": "2022-04-10T09:17:15.182Z"
   },
   {
    "duration": 31,
    "start_time": "2022-04-10T09:17:17.520Z"
   },
   {
    "duration": 20,
    "start_time": "2022-04-10T09:17:19.516Z"
   },
   {
    "duration": 54,
    "start_time": "2022-04-10T09:17:21.719Z"
   },
   {
    "duration": 1090,
    "start_time": "2022-04-10T09:17:25.507Z"
   },
   {
    "duration": 694,
    "start_time": "2022-04-10T09:17:30.157Z"
   },
   {
    "duration": 14,
    "start_time": "2022-04-10T09:17:34.421Z"
   },
   {
    "duration": 21,
    "start_time": "2022-04-10T09:17:37.162Z"
   },
   {
    "duration": 18,
    "start_time": "2022-04-10T09:17:38.963Z"
   },
   {
    "duration": 18,
    "start_time": "2022-04-10T09:17:40.669Z"
   },
   {
    "duration": 315,
    "start_time": "2022-04-10T09:17:42.872Z"
   },
   {
    "duration": 49,
    "start_time": "2022-04-10T09:17:48.280Z"
   },
   {
    "duration": 50,
    "start_time": "2022-04-10T09:17:51.180Z"
   },
   {
    "duration": 50,
    "start_time": "2022-04-10T09:17:53.209Z"
   },
   {
    "duration": 36,
    "start_time": "2022-04-10T09:17:55.383Z"
   },
   {
    "duration": 15,
    "start_time": "2022-04-10T09:17:58.386Z"
   },
   {
    "duration": 120,
    "start_time": "2022-04-10T09:18:03.717Z"
   },
   {
    "duration": 121,
    "start_time": "2022-04-10T09:18:06.924Z"
   },
   {
    "duration": 2652,
    "start_time": "2022-04-10T09:18:09.915Z"
   },
   {
    "duration": 18,
    "start_time": "2022-04-10T09:18:14.705Z"
   },
   {
    "duration": 20,
    "start_time": "2022-04-10T09:18:16.709Z"
   },
   {
    "duration": 97,
    "start_time": "2022-04-19T17:10:03.984Z"
   },
   {
    "duration": 1753,
    "start_time": "2022-04-19T17:14:58.619Z"
   },
   {
    "duration": 110,
    "start_time": "2022-04-19T17:15:01.086Z"
   },
   {
    "duration": 515,
    "start_time": "2022-04-19T17:15:18.434Z"
   },
   {
    "duration": 0,
    "start_time": "2022-04-19T17:15:18.953Z"
   },
   {
    "duration": 0,
    "start_time": "2022-04-19T17:15:18.955Z"
   },
   {
    "duration": 0,
    "start_time": "2022-04-19T17:15:18.957Z"
   },
   {
    "duration": 0,
    "start_time": "2022-04-19T17:15:18.959Z"
   },
   {
    "duration": 0,
    "start_time": "2022-04-19T17:15:18.961Z"
   },
   {
    "duration": 0,
    "start_time": "2022-04-19T17:15:18.963Z"
   },
   {
    "duration": 0,
    "start_time": "2022-04-19T17:15:18.965Z"
   },
   {
    "duration": 0,
    "start_time": "2022-04-19T17:15:18.967Z"
   },
   {
    "duration": 1,
    "start_time": "2022-04-19T17:15:18.969Z"
   },
   {
    "duration": 0,
    "start_time": "2022-04-19T17:15:18.971Z"
   },
   {
    "duration": 0,
    "start_time": "2022-04-19T17:15:18.974Z"
   },
   {
    "duration": 0,
    "start_time": "2022-04-19T17:15:18.976Z"
   },
   {
    "duration": 0,
    "start_time": "2022-04-19T17:15:18.978Z"
   },
   {
    "duration": 0,
    "start_time": "2022-04-19T17:15:18.980Z"
   },
   {
    "duration": 0,
    "start_time": "2022-04-19T17:15:18.982Z"
   },
   {
    "duration": 0,
    "start_time": "2022-04-19T17:15:18.984Z"
   },
   {
    "duration": 0,
    "start_time": "2022-04-19T17:15:18.986Z"
   },
   {
    "duration": 0,
    "start_time": "2022-04-19T17:15:18.988Z"
   },
   {
    "duration": 0,
    "start_time": "2022-04-19T17:15:18.990Z"
   },
   {
    "duration": 0,
    "start_time": "2022-04-19T17:15:18.992Z"
   },
   {
    "duration": 0,
    "start_time": "2022-04-19T17:15:19.052Z"
   },
   {
    "duration": 0,
    "start_time": "2022-04-19T17:15:19.054Z"
   },
   {
    "duration": 0,
    "start_time": "2022-04-19T17:15:19.055Z"
   },
   {
    "duration": 0,
    "start_time": "2022-04-19T17:15:19.056Z"
   },
   {
    "duration": 1,
    "start_time": "2022-04-19T17:15:19.057Z"
   },
   {
    "duration": 0,
    "start_time": "2022-04-19T17:15:19.059Z"
   },
   {
    "duration": 0,
    "start_time": "2022-04-19T17:15:19.060Z"
   },
   {
    "duration": 1,
    "start_time": "2022-04-19T17:15:19.061Z"
   },
   {
    "duration": 0,
    "start_time": "2022-04-19T17:15:19.063Z"
   },
   {
    "duration": 0,
    "start_time": "2022-04-19T17:15:19.066Z"
   },
   {
    "duration": 1418,
    "start_time": "2022-04-19T17:15:43.782Z"
   },
   {
    "duration": 114,
    "start_time": "2022-04-19T17:15:45.202Z"
   },
   {
    "duration": 52,
    "start_time": "2022-04-19T17:15:45.319Z"
   },
   {
    "duration": 32,
    "start_time": "2022-04-19T17:15:45.375Z"
   },
   {
    "duration": 81,
    "start_time": "2022-04-19T17:15:45.410Z"
   },
   {
    "duration": 33,
    "start_time": "2022-04-19T17:15:45.493Z"
   },
   {
    "duration": 368,
    "start_time": "2022-04-19T17:15:45.528Z"
   },
   {
    "duration": 1304,
    "start_time": "2022-04-19T17:15:45.899Z"
   },
   {
    "duration": 81,
    "start_time": "2022-04-19T17:15:47.205Z"
   },
   {
    "duration": 30,
    "start_time": "2022-04-19T17:15:47.289Z"
   },
   {
    "duration": 49,
    "start_time": "2022-04-19T17:15:47.321Z"
   },
   {
    "duration": 21,
    "start_time": "2022-04-19T17:15:47.373Z"
   },
   {
    "duration": 71,
    "start_time": "2022-04-19T17:15:47.397Z"
   },
   {
    "duration": 892,
    "start_time": "2022-04-19T17:15:47.470Z"
   },
   {
    "duration": 698,
    "start_time": "2022-04-19T17:15:48.365Z"
   },
   {
    "duration": 13,
    "start_time": "2022-04-19T17:15:49.065Z"
   },
   {
    "duration": 13,
    "start_time": "2022-04-19T17:15:49.081Z"
   },
   {
    "duration": 60,
    "start_time": "2022-04-19T17:15:49.096Z"
   },
   {
    "duration": 16,
    "start_time": "2022-04-19T17:15:49.158Z"
   },
   {
    "duration": 460,
    "start_time": "2022-04-19T17:15:49.177Z"
   },
   {
    "duration": 75,
    "start_time": "2022-04-19T17:15:49.639Z"
   },
   {
    "duration": 90,
    "start_time": "2022-04-19T17:15:49.716Z"
   },
   {
    "duration": 91,
    "start_time": "2022-04-19T17:15:49.809Z"
   },
   {
    "duration": 69,
    "start_time": "2022-04-19T17:15:49.903Z"
   },
   {
    "duration": 42,
    "start_time": "2022-04-19T17:15:49.974Z"
   },
   {
    "duration": 135,
    "start_time": "2022-04-19T17:15:50.018Z"
   },
   {
    "duration": 141,
    "start_time": "2022-04-19T17:15:50.156Z"
   },
   {
    "duration": 2915,
    "start_time": "2022-04-19T17:15:50.304Z"
   },
   {
    "duration": 31,
    "start_time": "2022-04-19T17:15:53.222Z"
   },
   {
    "duration": 19,
    "start_time": "2022-04-19T17:15:53.255Z"
   },
   {
    "duration": 93,
    "start_time": "2022-04-19T17:19:06.027Z"
   },
   {
    "duration": 118,
    "start_time": "2022-04-19T17:39:42.483Z"
   },
   {
    "duration": 84,
    "start_time": "2022-04-19T18:02:53.405Z"
   },
   {
    "duration": 73,
    "start_time": "2022-04-21T07:37:03.568Z"
   },
   {
    "duration": 1623,
    "start_time": "2022-04-21T07:37:08.587Z"
   },
   {
    "duration": 97,
    "start_time": "2022-04-21T07:37:13.354Z"
   },
   {
    "duration": 21,
    "start_time": "2022-04-21T07:39:18.468Z"
   },
   {
    "duration": 36,
    "start_time": "2022-04-21T07:39:35.478Z"
   },
   {
    "duration": 48,
    "start_time": "2022-04-21T07:41:13.558Z"
   },
   {
    "duration": 44,
    "start_time": "2022-04-21T07:44:50.095Z"
   },
   {
    "duration": 1724,
    "start_time": "2022-04-21T07:50:37.969Z"
   },
   {
    "duration": 51,
    "start_time": "2022-04-21T07:51:18.983Z"
   },
   {
    "duration": 87,
    "start_time": "2022-04-21T07:56:20.447Z"
   },
   {
    "duration": 4,
    "start_time": "2022-04-21T07:56:26.888Z"
   },
   {
    "duration": 47,
    "start_time": "2022-04-21T07:56:31.045Z"
   },
   {
    "duration": 58,
    "start_time": "2022-04-21T07:57:23.868Z"
   },
   {
    "duration": 45,
    "start_time": "2022-04-21T07:58:51.813Z"
   },
   {
    "duration": 55,
    "start_time": "2022-04-21T07:59:42.953Z"
   },
   {
    "duration": 69,
    "start_time": "2022-04-21T08:01:41.486Z"
   },
   {
    "duration": 120,
    "start_time": "2022-04-21T08:02:24.347Z"
   },
   {
    "duration": 67,
    "start_time": "2022-04-21T08:03:14.799Z"
   },
   {
    "duration": 69,
    "start_time": "2022-04-21T08:03:39.117Z"
   },
   {
    "duration": 69,
    "start_time": "2022-04-21T08:03:57.812Z"
   },
   {
    "duration": 86,
    "start_time": "2022-04-21T08:04:21.967Z"
   },
   {
    "duration": 123,
    "start_time": "2022-04-21T08:07:30.304Z"
   },
   {
    "duration": 6,
    "start_time": "2022-04-21T08:08:09.967Z"
   },
   {
    "duration": 6,
    "start_time": "2022-04-21T08:08:57.878Z"
   },
   {
    "duration": 113,
    "start_time": "2022-04-21T08:09:26.032Z"
   },
   {
    "duration": 6,
    "start_time": "2022-04-21T08:09:38.255Z"
   },
   {
    "duration": 5,
    "start_time": "2022-04-21T08:11:51.279Z"
   },
   {
    "duration": 79,
    "start_time": "2022-04-21T08:12:00.102Z"
   },
   {
    "duration": 63,
    "start_time": "2022-04-21T08:12:30.858Z"
   },
   {
    "duration": 87,
    "start_time": "2022-04-21T08:14:08.426Z"
   },
   {
    "duration": 64,
    "start_time": "2022-04-21T08:14:27.996Z"
   },
   {
    "duration": 5,
    "start_time": "2022-04-21T08:14:41.664Z"
   },
   {
    "duration": 87,
    "start_time": "2022-04-21T08:14:47.118Z"
   },
   {
    "duration": 68,
    "start_time": "2022-04-21T08:14:57.123Z"
   },
   {
    "duration": 1392,
    "start_time": "2022-04-21T08:15:58.812Z"
   },
   {
    "duration": 115,
    "start_time": "2022-04-21T08:16:02.114Z"
   },
   {
    "duration": 81,
    "start_time": "2022-04-21T08:16:07.172Z"
   },
   {
    "duration": 93,
    "start_time": "2022-04-21T08:16:33.299Z"
   },
   {
    "duration": 134,
    "start_time": "2022-04-21T08:16:38.124Z"
   },
   {
    "duration": 100,
    "start_time": "2022-04-21T08:17:14.897Z"
   },
   {
    "duration": 86,
    "start_time": "2022-04-21T08:17:20.067Z"
   },
   {
    "duration": 64,
    "start_time": "2022-04-21T08:24:27.026Z"
   },
   {
    "duration": 76,
    "start_time": "2022-04-21T08:24:47.205Z"
   },
   {
    "duration": 109,
    "start_time": "2022-04-21T08:24:53.354Z"
   },
   {
    "duration": 71,
    "start_time": "2022-04-21T08:25:10.407Z"
   },
   {
    "duration": 26,
    "start_time": "2022-04-21T09:09:59.326Z"
   },
   {
    "duration": 1457,
    "start_time": "2022-04-21T09:10:48.664Z"
   },
   {
    "duration": 105,
    "start_time": "2022-04-21T09:10:52.311Z"
   },
   {
    "duration": 66,
    "start_time": "2022-04-21T09:10:58.894Z"
   },
   {
    "duration": 149,
    "start_time": "2022-04-21T09:11:08.222Z"
   },
   {
    "duration": 26,
    "start_time": "2022-04-21T09:13:16.759Z"
   },
   {
    "duration": 22,
    "start_time": "2022-04-21T09:14:37.764Z"
   },
   {
    "duration": 22,
    "start_time": "2022-04-21T09:14:46.313Z"
   },
   {
    "duration": 22,
    "start_time": "2022-04-21T09:17:41.710Z"
   },
   {
    "duration": 24,
    "start_time": "2022-04-21T09:18:02.903Z"
   },
   {
    "duration": 25,
    "start_time": "2022-04-21T09:18:22.105Z"
   },
   {
    "duration": 23,
    "start_time": "2022-04-21T09:18:34.500Z"
   },
   {
    "duration": 67,
    "start_time": "2022-04-21T09:19:19.536Z"
   },
   {
    "duration": 1484,
    "start_time": "2022-04-21T09:19:57.508Z"
   },
   {
    "duration": 93,
    "start_time": "2022-04-21T09:20:00.881Z"
   },
   {
    "duration": 69,
    "start_time": "2022-04-21T09:20:07.919Z"
   },
   {
    "duration": 159,
    "start_time": "2022-04-21T09:20:29.819Z"
   },
   {
    "duration": 23,
    "start_time": "2022-04-21T09:20:41.974Z"
   },
   {
    "duration": 123,
    "start_time": "2022-04-21T09:21:35.439Z"
   },
   {
    "duration": 82,
    "start_time": "2022-04-21T09:21:47.689Z"
   },
   {
    "duration": 4,
    "start_time": "2022-04-21T09:21:58.503Z"
   },
   {
    "duration": 90,
    "start_time": "2022-04-21T09:22:00.209Z"
   },
   {
    "duration": 115,
    "start_time": "2022-04-21T09:22:03.939Z"
   },
   {
    "duration": 95,
    "start_time": "2022-04-21T09:22:16.559Z"
   },
   {
    "duration": 38,
    "start_time": "2022-04-21T09:26:22.607Z"
   },
   {
    "duration": 1468,
    "start_time": "2022-04-21T09:26:54.145Z"
   },
   {
    "duration": 100,
    "start_time": "2022-04-21T09:26:57.064Z"
   },
   {
    "duration": 71,
    "start_time": "2022-04-21T09:27:01.231Z"
   },
   {
    "duration": 54,
    "start_time": "2022-04-21T09:27:06.671Z"
   },
   {
    "duration": 36,
    "start_time": "2022-04-21T09:28:13.804Z"
   },
   {
    "duration": 38,
    "start_time": "2022-04-21T09:29:36.506Z"
   },
   {
    "duration": 31,
    "start_time": "2022-04-21T09:29:48.239Z"
   },
   {
    "duration": 30,
    "start_time": "2022-04-21T09:29:57.195Z"
   },
   {
    "duration": 1389,
    "start_time": "2022-04-21T09:30:07.998Z"
   },
   {
    "duration": 93,
    "start_time": "2022-04-21T09:30:11.612Z"
   },
   {
    "duration": 68,
    "start_time": "2022-04-21T09:30:18.021Z"
   },
   {
    "duration": 149,
    "start_time": "2022-04-21T09:30:24.508Z"
   },
   {
    "duration": 45,
    "start_time": "2022-04-21T09:30:31.429Z"
   },
   {
    "duration": 32,
    "start_time": "2022-04-21T09:31:33.453Z"
   },
   {
    "duration": 36,
    "start_time": "2022-04-21T09:32:08.066Z"
   },
   {
    "duration": 38,
    "start_time": "2022-04-21T09:47:53.017Z"
   },
   {
    "duration": 1415,
    "start_time": "2022-04-21T09:49:21.593Z"
   },
   {
    "duration": 92,
    "start_time": "2022-04-21T09:49:25.150Z"
   },
   {
    "duration": 70,
    "start_time": "2022-04-21T09:49:29.102Z"
   },
   {
    "duration": 46,
    "start_time": "2022-04-21T09:49:39.854Z"
   },
   {
    "duration": 61,
    "start_time": "2022-04-22T08:10:27.402Z"
   },
   {
    "duration": 1930,
    "start_time": "2022-04-22T08:11:13.931Z"
   },
   {
    "duration": 92,
    "start_time": "2022-04-22T08:11:18.810Z"
   },
   {
    "duration": 75,
    "start_time": "2022-04-22T08:11:24.591Z"
   },
   {
    "duration": 77,
    "start_time": "2022-04-22T08:12:05.581Z"
   },
   {
    "duration": 1207,
    "start_time": "2022-04-22T08:12:21.832Z"
   },
   {
    "duration": 98,
    "start_time": "2022-04-22T08:12:24.766Z"
   },
   {
    "duration": 65,
    "start_time": "2022-04-22T08:12:31.698Z"
   },
   {
    "duration": 36,
    "start_time": "2022-04-22T08:12:40.299Z"
   },
   {
    "duration": 46,
    "start_time": "2022-04-22T08:12:49.368Z"
   },
   {
    "duration": 51,
    "start_time": "2022-04-22T08:13:41.373Z"
   },
   {
    "duration": 76,
    "start_time": "2022-04-22T08:14:39.207Z"
   },
   {
    "duration": 73,
    "start_time": "2022-04-22T08:27:05.576Z"
   },
   {
    "duration": 59,
    "start_time": "2022-04-22T08:27:25.459Z"
   },
   {
    "duration": 83,
    "start_time": "2022-04-22T08:27:38.121Z"
   },
   {
    "duration": 54,
    "start_time": "2022-04-22T08:27:58.373Z"
   },
   {
    "duration": 67,
    "start_time": "2022-04-22T08:29:36.869Z"
   },
   {
    "duration": 1961,
    "start_time": "2022-04-22T08:30:16.017Z"
   },
   {
    "duration": 82,
    "start_time": "2022-04-22T08:30:34.217Z"
   },
   {
    "duration": 120,
    "start_time": "2022-04-22T08:30:41.739Z"
   },
   {
    "duration": 100,
    "start_time": "2022-04-22T08:30:46.954Z"
   },
   {
    "duration": 43,
    "start_time": "2022-04-22T08:31:02.753Z"
   },
   {
    "duration": 1203,
    "start_time": "2022-04-22T09:01:53.957Z"
   },
   {
    "duration": 103,
    "start_time": "2022-04-22T09:01:57.202Z"
   },
   {
    "duration": 83,
    "start_time": "2022-04-22T09:02:02.417Z"
   },
   {
    "duration": 31,
    "start_time": "2022-04-22T09:02:16.767Z"
   },
   {
    "duration": 50,
    "start_time": "2022-04-22T09:02:26.833Z"
   },
   {
    "duration": 22,
    "start_time": "2022-04-22T09:02:32.173Z"
   },
   {
    "duration": 23,
    "start_time": "2022-04-22T09:15:30.261Z"
   },
   {
    "duration": 24,
    "start_time": "2022-04-22T09:21:26.258Z"
   },
   {
    "duration": 20,
    "start_time": "2022-04-22T09:21:31.979Z"
   },
   {
    "duration": 55,
    "start_time": "2022-04-22T09:23:45.004Z"
   },
   {
    "duration": 31,
    "start_time": "2022-04-22T09:24:39.036Z"
   },
   {
    "duration": 41,
    "start_time": "2022-04-22T09:24:41.992Z"
   },
   {
    "duration": 21,
    "start_time": "2022-04-22T09:25:50.501Z"
   },
   {
    "duration": 36,
    "start_time": "2022-04-22T09:25:53.678Z"
   },
   {
    "duration": 1215,
    "start_time": "2022-04-22T09:26:21.885Z"
   },
   {
    "duration": 104,
    "start_time": "2022-04-22T09:26:25.424Z"
   },
   {
    "duration": 98,
    "start_time": "2022-04-22T09:26:30.351Z"
   },
   {
    "duration": 36,
    "start_time": "2022-04-22T09:26:36.550Z"
   },
   {
    "duration": 59,
    "start_time": "2022-04-22T09:26:43.351Z"
   },
   {
    "duration": 25,
    "start_time": "2022-04-22T09:26:54.262Z"
   },
   {
    "duration": 294,
    "start_time": "2022-04-22T09:27:00.092Z"
   },
   {
    "duration": 971,
    "start_time": "2022-04-22T09:27:03.708Z"
   },
   {
    "duration": 68,
    "start_time": "2022-04-22T09:27:09.460Z"
   },
   {
    "duration": 22,
    "start_time": "2022-04-22T09:27:13.059Z"
   },
   {
    "duration": 36,
    "start_time": "2022-04-22T09:27:17.382Z"
   },
   {
    "duration": 47,
    "start_time": "2022-04-22T09:29:07.866Z"
   },
   {
    "duration": 15,
    "start_time": "2022-04-22T09:30:07.833Z"
   },
   {
    "duration": 40,
    "start_time": "2022-04-22T09:31:39.707Z"
   },
   {
    "duration": 664,
    "start_time": "2022-04-22T09:32:53.750Z"
   },
   {
    "duration": 615,
    "start_time": "2022-04-22T09:35:00.968Z"
   },
   {
    "duration": 480,
    "start_time": "2022-04-22T09:39:45.417Z"
   },
   {
    "duration": 14,
    "start_time": "2022-04-22T09:45:32.150Z"
   },
   {
    "duration": 26,
    "start_time": "2022-04-22T09:46:20.326Z"
   },
   {
    "duration": 8,
    "start_time": "2022-04-24T09:43:17.640Z"
   },
   {
    "duration": 4,
    "start_time": "2022-04-24T09:43:26.844Z"
   },
   {
    "duration": 4,
    "start_time": "2022-04-24T09:43:42.886Z"
   },
   {
    "duration": 234,
    "start_time": "2022-04-24T09:43:59.869Z"
   },
   {
    "duration": 43,
    "start_time": "2022-04-24T09:44:16.496Z"
   },
   {
    "duration": 1385,
    "start_time": "2022-04-24T09:44:21.796Z"
   },
   {
    "duration": 86,
    "start_time": "2022-04-24T09:44:25.196Z"
   },
   {
    "duration": 66,
    "start_time": "2022-04-24T09:44:29.435Z"
   },
   {
    "duration": 63,
    "start_time": "2022-04-24T09:45:23.589Z"
   },
   {
    "duration": 104,
    "start_time": "2022-04-24T09:45:40.726Z"
   },
   {
    "duration": 85,
    "start_time": "2022-04-24T09:45:48.391Z"
   },
   {
    "duration": 4,
    "start_time": "2022-04-24T09:46:34.757Z"
   },
   {
    "duration": 106,
    "start_time": "2022-04-24T09:46:48.028Z"
   },
   {
    "duration": 70,
    "start_time": "2022-04-24T09:51:52.892Z"
   },
   {
    "duration": 1442,
    "start_time": "2022-04-24T09:52:12.431Z"
   },
   {
    "duration": 76,
    "start_time": "2022-04-24T09:52:15.719Z"
   },
   {
    "duration": 68,
    "start_time": "2022-04-24T09:52:19.967Z"
   },
   {
    "duration": 31,
    "start_time": "2022-04-24T09:52:25.540Z"
   },
   {
    "duration": 37,
    "start_time": "2022-04-24T09:52:29.431Z"
   },
   {
    "duration": 21,
    "start_time": "2022-04-24T09:52:33.320Z"
   },
   {
    "duration": 198,
    "start_time": "2022-04-24T09:52:36.256Z"
   },
   {
    "duration": 231,
    "start_time": "2022-04-24T09:52:38.958Z"
   },
   {
    "duration": 151,
    "start_time": "2022-04-24T09:53:37.113Z"
   },
   {
    "duration": 737,
    "start_time": "2022-04-24T09:54:12.295Z"
   },
   {
    "duration": 706,
    "start_time": "2022-04-24T09:54:37.951Z"
   },
   {
    "duration": 748,
    "start_time": "2022-04-24T09:54:56.695Z"
   },
   {
    "duration": 11,
    "start_time": "2022-04-24T10:14:20.011Z"
   },
   {
    "duration": 9,
    "start_time": "2022-04-24T10:14:39.123Z"
   },
   {
    "duration": 1235,
    "start_time": "2022-04-24T10:14:48.972Z"
   },
   {
    "duration": 74,
    "start_time": "2022-04-24T10:14:52.092Z"
   },
   {
    "duration": 66,
    "start_time": "2022-04-24T10:14:56.042Z"
   },
   {
    "duration": 35,
    "start_time": "2022-04-24T10:14:59.825Z"
   },
   {
    "duration": 1113,
    "start_time": "2022-04-24T10:15:32.959Z"
   },
   {
    "duration": 76,
    "start_time": "2022-04-24T10:15:34.074Z"
   },
   {
    "duration": 64,
    "start_time": "2022-04-24T10:15:37.314Z"
   },
   {
    "duration": 31,
    "start_time": "2022-04-24T10:15:49.747Z"
   },
   {
    "duration": 37,
    "start_time": "2022-04-24T10:15:52.754Z"
   },
   {
    "duration": 20,
    "start_time": "2022-04-24T10:16:09.147Z"
   },
   {
    "duration": 202,
    "start_time": "2022-04-24T10:16:12.550Z"
   },
   {
    "duration": 1030,
    "start_time": "2022-04-24T10:16:29.106Z"
   },
   {
    "duration": 60,
    "start_time": "2022-04-24T10:16:35.348Z"
   },
   {
    "duration": 28,
    "start_time": "2022-04-24T10:16:38.447Z"
   },
   {
    "duration": 48,
    "start_time": "2022-04-24T10:16:44.837Z"
   },
   {
    "duration": 18,
    "start_time": "2022-04-24T10:17:00.499Z"
   },
   {
    "duration": 33,
    "start_time": "2022-04-24T10:17:15.031Z"
   },
   {
    "duration": 670,
    "start_time": "2022-04-24T10:17:19.433Z"
   },
   {
    "duration": 362,
    "start_time": "2022-04-24T10:17:28.087Z"
   },
   {
    "duration": 9,
    "start_time": "2022-04-24T10:17:35.313Z"
   },
   {
    "duration": 248,
    "start_time": "2022-04-24T10:17:51.874Z"
   },
   {
    "duration": 151,
    "start_time": "2022-04-24T10:18:19.887Z"
   },
   {
    "duration": 253,
    "start_time": "2022-04-24T10:33:58.108Z"
   },
   {
    "duration": 173,
    "start_time": "2022-04-24T10:34:18.985Z"
   },
   {
    "duration": 1443,
    "start_time": "2022-04-24T10:34:36.804Z"
   },
   {
    "duration": 82,
    "start_time": "2022-04-24T10:34:39.917Z"
   },
   {
    "duration": 76,
    "start_time": "2022-04-24T10:34:42.995Z"
   },
   {
    "duration": 51,
    "start_time": "2022-04-24T10:34:45.987Z"
   },
   {
    "duration": 45,
    "start_time": "2022-04-24T10:34:49.196Z"
   },
   {
    "duration": 19,
    "start_time": "2022-04-24T10:34:53.043Z"
   },
   {
    "duration": 208,
    "start_time": "2022-04-24T10:34:55.770Z"
   },
   {
    "duration": 695,
    "start_time": "2022-04-24T10:34:58.412Z"
   },
   {
    "duration": 49,
    "start_time": "2022-04-24T10:35:03.916Z"
   },
   {
    "duration": 19,
    "start_time": "2022-04-24T10:35:06.852Z"
   },
   {
    "duration": 41,
    "start_time": "2022-04-24T10:35:11.010Z"
   },
   {
    "duration": 20,
    "start_time": "2022-04-24T10:35:13.731Z"
   },
   {
    "duration": 24,
    "start_time": "2022-04-24T10:35:21.267Z"
   },
   {
    "duration": 477,
    "start_time": "2022-04-24T10:35:26.232Z"
   },
   {
    "duration": 375,
    "start_time": "2022-04-24T10:35:34.042Z"
   },
   {
    "duration": 9,
    "start_time": "2022-04-24T10:35:40.203Z"
   },
   {
    "duration": 250,
    "start_time": "2022-04-24T10:35:43.435Z"
   },
   {
    "duration": 155,
    "start_time": "2022-04-24T10:37:18.845Z"
   },
   {
    "duration": 281,
    "start_time": "2022-04-24T10:37:35.816Z"
   },
   {
    "duration": 175,
    "start_time": "2022-04-24T10:37:48.909Z"
   },
   {
    "duration": 105,
    "start_time": "2022-04-24T10:39:08.252Z"
   },
   {
    "duration": 14,
    "start_time": "2022-04-24T10:39:32.895Z"
   },
   {
    "duration": 19,
    "start_time": "2022-04-24T10:39:51.620Z"
   },
   {
    "duration": 22,
    "start_time": "2022-04-24T10:40:50.111Z"
   },
   {
    "duration": 17,
    "start_time": "2022-04-24T10:41:05.958Z"
   },
   {
    "duration": 152,
    "start_time": "2022-04-24T10:42:52.451Z"
   },
   {
    "duration": 164,
    "start_time": "2022-04-24T10:43:00.054Z"
   },
   {
    "duration": 159,
    "start_time": "2022-04-24T10:43:29.135Z"
   },
   {
    "duration": 1319,
    "start_time": "2022-04-24T10:43:42.788Z"
   },
   {
    "duration": 78,
    "start_time": "2022-04-24T10:43:46.078Z"
   },
   {
    "duration": 62,
    "start_time": "2022-04-24T10:43:57.830Z"
   },
   {
    "duration": 41,
    "start_time": "2022-04-24T10:44:02.101Z"
   },
   {
    "duration": 44,
    "start_time": "2022-04-24T10:44:05.217Z"
   },
   {
    "duration": 21,
    "start_time": "2022-04-24T10:44:08.581Z"
   },
   {
    "duration": 224,
    "start_time": "2022-04-24T10:44:11.608Z"
   },
   {
    "duration": 776,
    "start_time": "2022-04-24T10:44:14.114Z"
   },
   {
    "duration": 44,
    "start_time": "2022-04-24T10:44:18.158Z"
   },
   {
    "duration": 19,
    "start_time": "2022-04-24T10:44:20.733Z"
   },
   {
    "duration": 30,
    "start_time": "2022-04-24T10:44:23.482Z"
   },
   {
    "duration": 15,
    "start_time": "2022-04-24T10:44:26.432Z"
   },
   {
    "duration": 24,
    "start_time": "2022-04-24T10:44:28.872Z"
   },
   {
    "duration": 426,
    "start_time": "2022-04-24T10:44:32.355Z"
   },
   {
    "duration": 466,
    "start_time": "2022-04-24T10:44:39.206Z"
   },
   {
    "duration": 10,
    "start_time": "2022-04-24T10:44:43.680Z"
   },
   {
    "duration": 9,
    "start_time": "2022-04-24T10:44:48.350Z"
   },
   {
    "duration": 11,
    "start_time": "2022-04-24T10:44:50.005Z"
   },
   {
    "duration": 10,
    "start_time": "2022-04-24T10:44:51.334Z"
   },
   {
    "duration": 161,
    "start_time": "2022-04-24T10:45:02.717Z"
   },
   {
    "duration": 163,
    "start_time": "2022-04-24T10:45:24.062Z"
   },
   {
    "duration": 249,
    "start_time": "2022-04-24T10:45:42.644Z"
   },
   {
    "duration": 670,
    "start_time": "2022-04-24T10:47:15.684Z"
   },
   {
    "duration": 178,
    "start_time": "2022-04-24T10:50:35.314Z"
   },
   {
    "duration": 175,
    "start_time": "2022-04-24T10:52:00.713Z"
   },
   {
    "duration": 182,
    "start_time": "2022-04-24T10:52:10.599Z"
   },
   {
    "duration": 197,
    "start_time": "2022-04-24T10:52:24.169Z"
   },
   {
    "duration": 969,
    "start_time": "2022-04-24T10:52:59.695Z"
   },
   {
    "duration": 192,
    "start_time": "2022-04-24T10:53:28.662Z"
   },
   {
    "duration": 277,
    "start_time": "2022-04-24T10:53:38.552Z"
   },
   {
    "duration": 181,
    "start_time": "2022-04-24T10:54:39.028Z"
   },
   {
    "duration": 186,
    "start_time": "2022-04-24T10:54:58.524Z"
   },
   {
    "duration": 34,
    "start_time": "2022-04-24T11:11:54.509Z"
   },
   {
    "duration": 40,
    "start_time": "2022-04-24T11:12:36.702Z"
   },
   {
    "duration": 109,
    "start_time": "2022-04-24T11:12:46.974Z"
   },
   {
    "duration": 1469,
    "start_time": "2022-04-24T11:25:59.213Z"
   },
   {
    "duration": 104,
    "start_time": "2022-04-24T11:26:02.186Z"
   },
   {
    "duration": 97,
    "start_time": "2022-04-24T11:26:05.578Z"
   },
   {
    "duration": 33,
    "start_time": "2022-04-24T11:26:11.242Z"
   },
   {
    "duration": 40,
    "start_time": "2022-04-24T11:26:17.361Z"
   },
   {
    "duration": 21,
    "start_time": "2022-04-24T11:26:36.062Z"
   },
   {
    "duration": 211,
    "start_time": "2022-04-24T11:26:38.777Z"
   },
   {
    "duration": 871,
    "start_time": "2022-04-24T11:26:41.291Z"
   },
   {
    "duration": 48,
    "start_time": "2022-04-24T11:26:58.090Z"
   },
   {
    "duration": 28,
    "start_time": "2022-04-24T11:27:01.105Z"
   },
   {
    "duration": 48,
    "start_time": "2022-04-24T11:27:03.899Z"
   },
   {
    "duration": 22,
    "start_time": "2022-04-24T11:27:11.705Z"
   },
   {
    "duration": 25,
    "start_time": "2022-04-24T11:27:17.079Z"
   },
   {
    "duration": 615,
    "start_time": "2022-04-24T11:27:33.209Z"
   },
   {
    "duration": 373,
    "start_time": "2022-04-24T11:27:41.428Z"
   },
   {
    "duration": 11,
    "start_time": "2022-04-24T11:27:48.337Z"
   },
   {
    "duration": 9,
    "start_time": "2022-04-24T11:27:52.417Z"
   },
   {
    "duration": 10,
    "start_time": "2022-04-24T11:27:54.662Z"
   },
   {
    "duration": 10,
    "start_time": "2022-04-24T11:27:57.219Z"
   },
   {
    "duration": 163,
    "start_time": "2022-04-24T11:28:01.079Z"
   },
   {
    "duration": 40,
    "start_time": "2022-04-24T11:28:15.907Z"
   },
   {
    "duration": 31,
    "start_time": "2022-04-24T11:32:29.748Z"
   },
   {
    "duration": 33,
    "start_time": "2022-04-24T11:34:21.757Z"
   },
   {
    "duration": 25,
    "start_time": "2022-04-24T11:46:26.964Z"
   },
   {
    "duration": 14,
    "start_time": "2022-04-24T11:46:38.843Z"
   },
   {
    "duration": 90,
    "start_time": "2022-04-24T11:46:44.946Z"
   },
   {
    "duration": 86,
    "start_time": "2022-04-24T11:46:55.437Z"
   },
   {
    "duration": 1684,
    "start_time": "2022-04-24T11:46:58.983Z"
   },
   {
    "duration": 13,
    "start_time": "2022-04-24T11:50:27.002Z"
   },
   {
    "duration": 14,
    "start_time": "2022-04-24T11:50:30.495Z"
   },
   {
    "duration": 1225,
    "start_time": "2022-04-25T08:16:41.648Z"
   },
   {
    "duration": 79,
    "start_time": "2022-04-25T08:16:43.591Z"
   },
   {
    "duration": 13,
    "start_time": "2022-04-25T08:19:31.272Z"
   },
   {
    "duration": 96,
    "start_time": "2022-04-25T08:53:14.666Z"
   },
   {
    "duration": 1136,
    "start_time": "2022-04-25T08:53:36.542Z"
   },
   {
    "duration": 64,
    "start_time": "2022-04-25T08:53:37.680Z"
   },
   {
    "duration": 63,
    "start_time": "2022-04-25T08:53:37.746Z"
   },
   {
    "duration": 67,
    "start_time": "2022-04-25T08:53:37.811Z"
   },
   {
    "duration": 34,
    "start_time": "2022-04-25T08:53:37.879Z"
   },
   {
    "duration": 18,
    "start_time": "2022-04-25T08:53:37.914Z"
   },
   {
    "duration": 219,
    "start_time": "2022-04-25T08:53:37.952Z"
   },
   {
    "duration": 679,
    "start_time": "2022-04-25T08:53:38.173Z"
   },
   {
    "duration": 42,
    "start_time": "2022-04-25T08:53:38.855Z"
   },
   {
    "duration": 18,
    "start_time": "2022-04-25T08:53:38.899Z"
   },
   {
    "duration": 52,
    "start_time": "2022-04-25T08:53:38.919Z"
   },
   {
    "duration": 12,
    "start_time": "2022-04-25T08:53:38.972Z"
   },
   {
    "duration": 30,
    "start_time": "2022-04-25T08:53:38.985Z"
   },
   {
    "duration": 455,
    "start_time": "2022-04-25T08:53:39.017Z"
   },
   {
    "duration": 360,
    "start_time": "2022-04-25T08:53:39.473Z"
   },
   {
    "duration": 24,
    "start_time": "2022-04-25T08:53:39.834Z"
   },
   {
    "duration": 9,
    "start_time": "2022-04-25T08:53:39.860Z"
   },
   {
    "duration": 8,
    "start_time": "2022-04-25T08:53:39.871Z"
   },
   {
    "duration": 8,
    "start_time": "2022-04-25T08:53:39.881Z"
   },
   {
    "duration": 198,
    "start_time": "2022-04-25T08:53:39.891Z"
   },
   {
    "duration": 29,
    "start_time": "2022-04-25T08:53:40.090Z"
   },
   {
    "duration": 45,
    "start_time": "2022-04-25T08:53:40.120Z"
   },
   {
    "duration": 28,
    "start_time": "2022-04-25T08:53:40.166Z"
   },
   {
    "duration": 21,
    "start_time": "2022-04-25T08:53:40.195Z"
   },
   {
    "duration": 43,
    "start_time": "2022-04-25T08:53:40.217Z"
   },
   {
    "duration": 90,
    "start_time": "2022-04-25T08:53:40.262Z"
   },
   {
    "duration": 75,
    "start_time": "2022-04-25T08:53:40.354Z"
   },
   {
    "duration": 1477,
    "start_time": "2022-04-25T08:53:40.432Z"
   },
   {
    "duration": 13,
    "start_time": "2022-04-25T08:53:41.911Z"
   },
   {
    "duration": 30,
    "start_time": "2022-04-25T08:53:41.926Z"
   },
   {
    "duration": 107,
    "start_time": "2022-04-25T08:53:49.287Z"
   },
   {
    "duration": 1508,
    "start_time": "2022-04-25T08:54:47.706Z"
   },
   {
    "duration": 115,
    "start_time": "2022-04-25T08:56:42.623Z"
   }
  ],
  "kernelspec": {
   "display_name": "Python 3 (ipykernel)",
   "language": "python",
   "name": "python3"
  },
  "language_info": {
   "codemirror_mode": {
    "name": "ipython",
    "version": 3
   },
   "file_extension": ".py",
   "mimetype": "text/x-python",
   "name": "python",
   "nbconvert_exporter": "python",
   "pygments_lexer": "ipython3",
   "version": "3.9.7"
  },
  "toc": {
   "base_numbering": 1,
   "nav_menu": {},
   "number_sections": true,
   "sideBar": true,
   "skip_h1_title": true,
   "title_cell": "Table of Contents",
   "title_sidebar": "Contents",
   "toc_cell": false,
   "toc_position": {},
   "toc_section_display": true,
   "toc_window_display": false
  }
 },
 "nbformat": 4,
 "nbformat_minor": 2
}
