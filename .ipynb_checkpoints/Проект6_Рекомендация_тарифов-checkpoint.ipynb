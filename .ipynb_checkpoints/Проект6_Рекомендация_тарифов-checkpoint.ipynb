{
 "cells": [
  {
   "cell_type": "markdown",
   "metadata": {},
   "source": [
    "# Рекомендация тарифов"
   ]
  },
  {
   "cell_type": "markdown",
   "metadata": {},
   "source": [
    "В вашем распоряжении данные о поведении клиентов, которые уже перешли на эти тарифы (из проекта курса «Статистический анализ данных»). Нужно построить модель для задачи классификации, которая выберет подходящий тариф. Предобработка данных не понадобится — вы её уже сделали.\n",
    "\n",
    "Постройте модель с максимально большим значением *accuracy*. Чтобы сдать проект успешно, нужно довести долю правильных ответов по крайней мере до 0.75. Проверьте *accuracy* на тестовой выборке самостоятельно."
   ]
  },
  {
   "cell_type": "markdown",
   "metadata": {},
   "source": [
    "## Откройте и изучите файл"
   ]
  },
  {
   "cell_type": "code",
   "execution_count": 1,
   "metadata": {},
   "outputs": [],
   "source": [
    "import pandas as pd\n",
    "from sklearn.model_selection import train_test_split\n",
    "from sklearn.tree import DecisionTreeClassifier\n",
    "from sklearn.linear_model import LogisticRegression\n",
    "from sklearn.ensemble "
   ]
  },
  {
   "cell_type": "code",
   "execution_count": 2,
   "metadata": {},
   "outputs": [],
   "source": [
    "data = pd.read_csv('/datasets/users_behavior.csv')"
   ]
  },
  {
   "cell_type": "code",
   "execution_count": 3,
   "metadata": {},
   "outputs": [
    {
     "name": "stdout",
     "output_type": "stream",
     "text": [
      "<class 'pandas.core.frame.DataFrame'>\n",
      "RangeIndex: 3214 entries, 0 to 3213\n",
      "Data columns (total 5 columns):\n",
      " #   Column    Non-Null Count  Dtype  \n",
      "---  ------    --------------  -----  \n",
      " 0   calls     3214 non-null   float64\n",
      " 1   minutes   3214 non-null   float64\n",
      " 2   messages  3214 non-null   float64\n",
      " 3   mb_used   3214 non-null   float64\n",
      " 4   is_ultra  3214 non-null   int64  \n",
      "dtypes: float64(4), int64(1)\n",
      "memory usage: 125.7 KB\n"
     ]
    }
   ],
   "source": [
    "display (data.head())\n",
    "data.info()"
   ]
  },
  {
   "cell_type": "markdown",
   "metadata": {},
   "source": [
    "## Разбейте данные на выборки"
   ]
  },
  {
   "cell_type": "markdown",
   "metadata": {},
   "source": [
    "### Разобьем данные сначала на тренировочную и проверочную выборки. "
   ]
  },
  {
   "cell_type": "code",
   "execution_count": 4,
   "metadata": {},
   "outputs": [],
   "source": [
    "features = data.drop('is_ultra', axis=1)\n",
    "target = data['is_ultra']\n",
    "features_train, features_sum, target_train, target_sum= train_test_split(features, target, test_size=0.4, random_state=12345)\n"
   ]
  },
  {
   "cell_type": "markdown",
   "metadata": {},
   "source": [
    "### Проверочную выборку в свою очередь разобьем на валидационную и тестовую выборки"
   ]
  },
  {
   "cell_type": "code",
   "execution_count": 5,
   "metadata": {},
   "outputs": [],
   "source": [
    "features_val, features_test, target_val, target_test = train_test_split(features_sum, target_sum, test_size=0.5, random_state=12345)"
   ]
  },
  {
   "cell_type": "markdown",
   "metadata": {},
   "source": [
    "## Исследуйте модели"
   ]
  },
  {
   "cell_type": "markdown",
   "metadata": {},
   "source": [
    "### Модель дерева решений"
   ]
  },
  {
   "cell_type": "code",
   "execution_count": 6,
   "metadata": {},
   "outputs": [
    {
     "name": "stdout",
     "output_type": "stream",
     "text": [
      "Глубина дерева: 1     Качество тренировочной выборки: 0.7577800829875518\n",
      "Глубина дерева: 1     Качество валидационной выборки: 0.7542768273716952\n",
      "Глубина дерева: 2     Качество тренировочной выборки: 0.7878630705394191\n",
      "Глубина дерева: 2     Качество валидационной выборки: 0.7822706065318819\n",
      "Глубина дерева: 3     Качество тренировочной выборки: 0.8075726141078838\n",
      "Глубина дерева: 3     Качество валидационной выборки: 0.7853810264385692\n",
      "Глубина дерева: 4     Качество тренировочной выборки: 0.8106846473029046\n",
      "Глубина дерева: 4     Качество валидационной выборки: 0.7853810264385692\n",
      "Глубина дерева: 5     Качество тренировочной выборки: 0.8200207468879668\n",
      "Глубина дерева: 5     Качество валидационной выборки: 0.7853810264385692\n",
      "Глубина дерева: 6     Качество тренировочной выборки: 0.8376556016597511\n",
      "Глубина дерева: 6     Качество валидационной выборки: 0.7853810264385692\n",
      "Глубина дерева: 7     Качество тренировочной выборки: 0.8558091286307054\n",
      "Глубина дерева: 7     Качество валидационной выборки: 0.7853810264385692\n",
      "Глубина дерева: 8     Качество тренировочной выборки: 0.8625518672199171\n",
      "Глубина дерева: 8     Качество валидационной выборки: 0.7853810264385692\n",
      "Глубина дерева: 9     Качество тренировочной выборки: 0.8812240663900415\n",
      "Глубина дерева: 9     Качество валидационной выборки: 0.7853810264385692\n",
      "Лучшие параметры:      Глубина дерева: 3     Качество: 0.7853810264385692\n",
      "CPU times: user 117 ms, sys: 14.6 ms, total: 131 ms\n",
      "Wall time: 131 ms\n"
     ]
    }
   ],
   "source": [
    "%%time\n",
    "best_accuracy = 0\n",
    "best_depth = 0\n",
    "for depth in range(1,10):\n",
    "    model = DecisionTreeClassifier(max_depth=depth, random_state=12345)\n",
    "    model.fit(features_train, target_train)\n",
    "    accuracy_train = model.score(features_train, target_train)\n",
    "    accuracy_val = model.score(features_val, target_val)\n",
    "    #predictions=model.predict(features_val) мой вопрос по этой строке ниже \n",
    "    #accuracy_1=accuracy_score (target_val, predictions) мой вопрос по этой строке ниже \n",
    "    if accuracy_val > best_accuracy:\n",
    "        best_accuracy = accuracy_val\n",
    "        best_depth = depth\n",
    "    print(\"Глубина дерева:\", depth, \"    Качество тренировочной выборки:\", accuracy_train)    \n",
    "    print(\"Глубина дерева:\", depth, \"    Качество валидационной выборки:\", best_accuracy)\n",
    "    #print(\"Глубина дерева:\", depth, \"    Качество валидационной выборки:\",  accuracy_1)\n",
    "print(\"Лучшие параметры:      Глубина дерева:\", best_depth, \"    Качество:\", best_accuracy)\n",
    "\n",
    "\n"
   ]
  },
  {
   "cell_type": "markdown",
   "metadata": {},
   "source": [
    "<div class=\"alert alert-info\">\n",
    "<font color='black'> <b> При глубине дерева \"3\" качество на валидационной выборке достигло максимума и уже не меняется </font> <b>"
   ]
  },
  {
   "cell_type": "markdown",
   "metadata": {},
   "source": [
    "### Модель логистической регрессии"
   ]
  },
  {
   "cell_type": "code",
   "execution_count": 7,
   "metadata": {
    "scrolled": true
   },
   "outputs": [
    {
     "name": "stdout",
     "output_type": "stream",
     "text": [
      "Качество: 0.7107309486780715\n",
      "CPU times: user 19 ms, sys: 3.5 ms, total: 22.5 ms\n",
      "Wall time: 21.1 ms\n"
     ]
    }
   ],
   "source": [
    "%%time\n",
    "model = LogisticRegression()\n",
    "model.fit(features_train, target_train)\n",
    "accuracy = model.score(features_val, target_val)\n",
    "print(\"Качество:\", accuracy)"
   ]
  },
  {
   "cell_type": "markdown",
   "metadata": {},
   "source": [
    "### Модель случайного леса"
   ]
  },
  {
   "cell_type": "code",
   "execution_count": 8,
   "metadata": {},
   "outputs": [
    {
     "name": "stdout",
     "output_type": "stream",
     "text": [
      "Количество деревьев: 1     Качество тренировочной выборки: 0.9035269709543569\n",
      "Количество деревьев: 1     Качество валидационной выборки: 0.7107309486780715\n",
      "Количество деревьев: 2     Качество тренировочной выборки: 0.9097510373443983\n",
      "Количество деревьев: 2     Качество валидационной выборки: 0.7636080870917574\n",
      "Количество деревьев: 3     Качество тренировочной выборки: 0.9507261410788381\n",
      "Количество деревьев: 3     Качество валидационной выборки: 0.7636080870917574\n",
      "Количество деревьев: 4     Качество тренировочной выборки: 0.946058091286307\n",
      "Количество деревьев: 4     Качество валидационной выборки: 0.7713841368584758\n",
      "Количество деревьев: 5     Качество тренировочной выборки: 0.9678423236514523\n",
      "Количество деревьев: 5     Качество валидационной выборки: 0.7713841368584758\n",
      "Количество деревьев: 6     Качество тренировочной выборки: 0.9693983402489627\n",
      "Количество деревьев: 6     Качество валидационной выборки: 0.7807153965785381\n",
      "Количество деревьев: 7     Качество тренировочной выборки: 0.9787344398340249\n",
      "Количество деревьев: 7     Качество валидационной выборки: 0.7807153965785381\n",
      "Количество деревьев: 8     Качество тренировочной выборки: 0.9771784232365145\n",
      "Количество деревьев: 8     Качество валидационной выборки: 0.7822706065318819\n",
      "Количество деревьев: 9     Качество тренировочной выборки: 0.983402489626556\n",
      "Количество деревьев: 9     Качество валидационной выборки: 0.7822706065318819\n",
      "Количество деревьев: 10     Качество тренировочной выборки: 0.9823651452282157\n",
      "Количество деревьев: 10     Качество валидационной выборки: 0.7853810264385692\n",
      "Количество деревьев: 11     Качество тренировочной выборки: 0.9854771784232366\n",
      "Количество деревьев: 11     Качество валидационной выборки: 0.7853810264385692\n",
      "Количество деревьев: 12     Качество тренировочной выборки: 0.983402489626556\n",
      "Количество деревьев: 12     Качество валидационной выборки: 0.7869362363919129\n",
      "Количество деревьев: 13     Качество тренировочной выборки: 0.9870331950207469\n",
      "Количество деревьев: 13     Качество валидационной выборки: 0.7869362363919129\n",
      "Количество деревьев: 14     Качество тренировочной выборки: 0.9844398340248963\n",
      "Количество деревьев: 14     Качество валидационной выборки: 0.7869362363919129\n",
      "Количество деревьев: 15     Качество тренировочной выборки: 0.9896265560165975\n",
      "Количество деревьев: 15     Качество валидационной выборки: 0.7869362363919129\n",
      "Количество деревьев: 16     Качество тренировочной выборки: 0.9865145228215768\n",
      "Количество деревьев: 16     Качество валидационной выборки: 0.7869362363919129\n",
      "Количество деревьев: 17     Качество тренировочной выборки: 0.9906639004149378\n",
      "Количество деревьев: 17     Качество валидационной выборки: 0.7869362363919129\n",
      "Количество деревьев: 18     Качество тренировочной выборки: 0.9875518672199171\n",
      "Количество деревьев: 18     Качество валидационной выборки: 0.7931570762052877\n",
      "Количество деревьев: 19     Качество тренировочной выборки: 0.9911825726141079\n",
      "Количество деревьев: 19     Качество валидационной выборки: 0.7931570762052877\n",
      "Количество деревьев: 20     Качество тренировочной выборки: 0.9891078838174274\n",
      "Количество деревьев: 20     Качество валидационной выборки: 0.7931570762052877\n",
      "Количество деревьев: 21     Качество тренировочной выборки: 0.9922199170124482\n",
      "Количество деревьев: 21     Качество валидационной выборки: 0.7931570762052877\n",
      "Количество деревьев: 22     Качество тренировочной выборки: 0.991701244813278\n",
      "Количество деревьев: 22     Качество валидационной выборки: 0.7931570762052877\n",
      "Количество деревьев: 23     Качество тренировочной выборки: 0.9937759336099585\n",
      "Количество деревьев: 23     Качество валидационной выборки: 0.7947122861586314\n",
      "Количество деревьев: 24     Качество тренировочной выборки: 0.9948132780082988\n",
      "Количество деревьев: 24     Качество валидационной выборки: 0.7947122861586314\n",
      "Количество деревьев: 25     Качество тренировочной выборки: 0.995850622406639\n",
      "Количество деревьев: 25     Качество валидационной выборки: 0.7947122861586314\n",
      "Количество деревьев: 26     Качество тренировочной выборки: 0.995850622406639\n",
      "Количество деревьев: 26     Качество валидационной выборки: 0.7947122861586314\n",
      "Количество деревьев: 27     Качество тренировочной выборки: 0.9963692946058091\n",
      "Количество деревьев: 27     Качество валидационной выборки: 0.7947122861586314\n",
      "Количество деревьев: 28     Качество тренировочной выборки: 0.9963692946058091\n",
      "Количество деревьев: 28     Качество валидационной выборки: 0.7947122861586314\n",
      "Количество деревьев: 29     Качество тренировочной выборки: 0.9974066390041494\n",
      "Количество деревьев: 29     Качество валидационной выборки: 0.7947122861586314\n",
      "Количество деревьев: 30     Качество тренировочной выборки: 0.995850622406639\n",
      "Количество деревьев: 30     Качество валидационной выборки: 0.7947122861586314\n",
      "Количество деревьев: 31     Качество тренировочной выборки: 0.9979253112033195\n",
      "Количество деревьев: 31     Качество валидационной выборки: 0.7947122861586314\n",
      "Количество деревьев: 32     Качество тренировочной выборки: 0.9974066390041494\n",
      "Количество деревьев: 32     Качество валидационной выборки: 0.7947122861586314\n",
      "Количество деревьев: 33     Качество тренировочной выборки: 0.9979253112033195\n",
      "Количество деревьев: 33     Качество валидационной выборки: 0.7947122861586314\n",
      "Количество деревьев: 34     Качество тренировочной выборки: 0.9979253112033195\n",
      "Количество деревьев: 34     Качество валидационной выборки: 0.7947122861586314\n",
      "Количество деревьев: 35     Качество тренировочной выборки: 0.9984439834024896\n",
      "Количество деревьев: 35     Качество валидационной выборки: 0.7947122861586314\n",
      "Количество деревьев: 36     Качество тренировочной выборки: 0.9979253112033195\n",
      "Количество деревьев: 36     Качество валидационной выборки: 0.7947122861586314\n",
      "Количество деревьев: 37     Качество тренировочной выборки: 0.9989626556016598\n",
      "Количество деревьев: 37     Качество валидационной выборки: 0.7947122861586314\n",
      "Количество деревьев: 38     Качество тренировочной выборки: 0.9963692946058091\n",
      "Количество деревьев: 38     Качество валидационной выборки: 0.7947122861586314\n",
      "Количество деревьев: 39     Качество тренировочной выборки: 0.9989626556016598\n",
      "Количество деревьев: 39     Качество валидационной выборки: 0.7947122861586314\n",
      "Лучшие параметры:     Количество деревьев: 23     Качество: 0.7947122861586314\n",
      "CPU times: user 3.63 s, sys: 38.1 ms, total: 3.67 s\n",
      "Wall time: 3.69 s\n"
     ]
    }
   ],
   "source": [
    "%%time\n",
    "best_accuracy = 0\n",
    "best_est = 0\n",
    "for est in range(1,40):\n",
    "    model = RandomForestClassifier(n_estimators=est, random_state=12345)\n",
    "    model.fit(features_train, target_train)\n",
    "    accuracy_train = model.score(features_train, target_train)\n",
    "    accuracy_val = model.score(features_val, target_val)\n",
    "    if accuracy_val > best_accuracy:\n",
    "        best_accuracy = accuracy_val\n",
    "        best_est = est\n",
    "    print(\"Количество деревьев:\", est, \"    Качество тренировочной выборки:\", accuracy_train)    \n",
    "    print(\"Количество деревьев:\", est, \"    Качество валидационной выборки:\", best_accuracy)\n",
    "print(\"Лучшие параметры:     Количество деревьев:\", best_est, \"    Качество:\", best_accuracy)\n"
   ]
  },
  {
   "cell_type": "markdown",
   "metadata": {},
   "source": [
    "<div class=\"alert alert-info\">\n",
    "<font color='black'> <b>На валидационной выборке наилучшим образом показала себя модель случайного леса: качество составило 0.794. Видно, что при числе деревьев=40 , точность на обучающей выборке почти идеальная<b>"
   ]
  },
  {
   "cell_type": "markdown",
   "metadata": {},
   "source": [
    "## Проверьте модель на тестовой выборке"
   ]
  },
  {
   "cell_type": "markdown",
   "metadata": {},
   "source": [
    "### Модель дерева решений"
   ]
  },
  {
   "cell_type": "code",
   "execution_count": 9,
   "metadata": {},
   "outputs": [
    {
     "data": {
      "text/plain": [
       "'Качество:'"
      ]
     },
     "metadata": {},
     "output_type": "display_data"
    },
    {
     "data": {
      "text/plain": [
       "0.7791601866251944"
      ]
     },
     "metadata": {},
     "output_type": "display_data"
    }
   ],
   "source": [
    "model = DecisionTreeClassifier(max_depth=3, random_state=12345)\n",
    "model.fit(features_train, target_train)\n",
    "accuracy = model.score(features_test, target_test)\n",
    "display(\"Качество:\", accuracy)"
   ]
  },
  {
   "cell_type": "markdown",
   "metadata": {},
   "source": [
    "### Модель логистической регрессии"
   ]
  },
  {
   "cell_type": "code",
   "execution_count": 10,
   "metadata": {},
   "outputs": [
    {
     "data": {
      "text/plain": [
       "'Качество:'"
      ]
     },
     "metadata": {},
     "output_type": "display_data"
    },
    {
     "data": {
      "text/plain": [
       "0.6842923794712286"
      ]
     },
     "metadata": {},
     "output_type": "display_data"
    }
   ],
   "source": [
    "model = LogisticRegression()\n",
    "model.fit(features_train, target_train)\n",
    "accuracy = model.score(features_test, target_test)\n",
    "display(\"Качество:\", accuracy)"
   ]
  },
  {
   "cell_type": "markdown",
   "metadata": {},
   "source": [
    "### Модель случайного леса"
   ]
  },
  {
   "cell_type": "code",
   "execution_count": 11,
   "metadata": {},
   "outputs": [
    {
     "data": {
      "text/plain": [
       "'Качество:'"
      ]
     },
     "metadata": {},
     "output_type": "display_data"
    },
    {
     "data": {
      "text/plain": [
       "0.7807153965785381"
      ]
     },
     "metadata": {},
     "output_type": "display_data"
    }
   ],
   "source": [
    "model = RandomForestClassifier(n_estimators=23, random_state=12345)\n",
    "model.fit(features_train, target_train)\n",
    "accuracy = model.score(features_test, target_test)\n",
    "display(\"Качество:\", accuracy)"
   ]
  },
  {
   "cell_type": "markdown",
   "metadata": {},
   "source": [
    "<div class=\"alert alert-info\">\n",
    "<font color='black'> <b>Проверим лучшую модель на совмещенной выборке (валидационная + обучающая). Из-за большего набора данных модель обучилась лучше и качество соответственно увеличилось и составило 0.8 <b>"
   ]
  },
  {
   "cell_type": "code",
   "execution_count": 12,
   "metadata": {},
   "outputs": [
    {
     "data": {
      "text/plain": [
       "'Качество:'"
      ]
     },
     "metadata": {},
     "output_type": "display_data"
    },
    {
     "data": {
      "text/plain": [
       "0.8055987558320373"
      ]
     },
     "metadata": {},
     "output_type": "display_data"
    }
   ],
   "source": [
    "model = RandomForestClassifier(n_estimators=23, random_state=12345)\n",
    "feat = pd.concat([features_train, features_val], ignore_index=True)\n",
    "target = pd.concat([target_train, target_val], ignore_index=True)\n",
    "model.fit(feat, target)\n",
    "accuracy1 = model.score(features_test, target_test)\n",
    "display(\"Качество:\", accuracy1)"
   ]
  },
  {
   "cell_type": "markdown",
   "metadata": {},
   "source": [
    "<div class=\"alert alert-info\">\n",
    "<font color='black'> <b>ВЫВОД: На тестовой выборке наилучшим образом показала себя снова модель случайного леса: качество тем не менее немного ухудшилось и составило 0.78"
   ]
  }
 ],
 "metadata": {
  "ExecuteTimeLog": [
   {
    "duration": 1586,
    "start_time": "2022-04-26T11:07:31.295Z"
   },
   {
    "duration": 7,
    "start_time": "2022-04-26T11:07:36.069Z"
   },
   {
    "duration": 5,
    "start_time": "2022-04-26T11:07:37.933Z"
   },
   {
    "duration": 7,
    "start_time": "2022-04-26T11:07:39.244Z"
   },
   {
    "duration": 5,
    "start_time": "2022-04-26T11:07:40.710Z"
   },
   {
    "duration": 5,
    "start_time": "2022-04-26T11:07:41.956Z"
   },
   {
    "duration": 37,
    "start_time": "2022-04-26T11:07:44.308Z"
   },
   {
    "duration": 37,
    "start_time": "2022-04-26T11:07:46.464Z"
   },
   {
    "duration": 5371,
    "start_time": "2022-04-26T11:07:48.369Z"
   },
   {
    "duration": 26,
    "start_time": "2022-04-26T11:07:58.639Z"
   },
   {
    "duration": 38,
    "start_time": "2022-04-26T11:08:02.004Z"
   },
   {
    "duration": 145,
    "start_time": "2022-04-26T11:08:05.102Z"
   },
   {
    "duration": 162,
    "start_time": "2022-04-26T11:54:12.929Z"
   },
   {
    "duration": 27,
    "start_time": "2022-04-26T11:54:21.128Z"
   },
   {
    "duration": 10,
    "start_time": "2022-04-26T11:54:26.009Z"
   },
   {
    "duration": 7,
    "start_time": "2022-04-26T11:54:27.949Z"
   },
   {
    "duration": 28,
    "start_time": "2022-04-26T11:54:57.330Z"
   },
   {
    "duration": 50,
    "start_time": "2022-04-26T11:55:33.160Z"
   },
   {
    "duration": 39,
    "start_time": "2022-04-26T11:55:42.380Z"
   },
   {
    "duration": 6,
    "start_time": "2022-04-26T11:56:53.682Z"
   },
   {
    "duration": 42,
    "start_time": "2022-04-26T11:56:56.353Z"
   },
   {
    "duration": 32,
    "start_time": "2022-04-26T11:57:00.024Z"
   },
   {
    "duration": 4789,
    "start_time": "2022-04-26T11:57:02.537Z"
   },
   {
    "duration": 19,
    "start_time": "2022-04-26T11:57:17.271Z"
   },
   {
    "duration": 34,
    "start_time": "2022-04-26T11:57:26.144Z"
   },
   {
    "duration": 146,
    "start_time": "2022-04-26T11:57:31.104Z"
   },
   {
    "duration": 11,
    "start_time": "2022-04-26T12:03:04.099Z"
   },
   {
    "duration": 9,
    "start_time": "2022-04-26T12:03:24.634Z"
   },
   {
    "duration": 9,
    "start_time": "2022-04-26T12:03:25.956Z"
   },
   {
    "duration": 36,
    "start_time": "2022-04-26T12:03:49.412Z"
   },
   {
    "duration": 33,
    "start_time": "2022-04-26T12:03:52.445Z"
   },
   {
    "duration": 4764,
    "start_time": "2022-04-26T12:03:54.686Z"
   },
   {
    "duration": 17,
    "start_time": "2022-04-26T12:04:02.653Z"
   },
   {
    "duration": 39,
    "start_time": "2022-04-26T12:04:04.859Z"
   },
   {
    "duration": 149,
    "start_time": "2022-04-26T12:04:07.009Z"
   },
   {
    "duration": 1544,
    "start_time": "2022-04-26T12:08:07.817Z"
   },
   {
    "duration": 8,
    "start_time": "2022-04-26T12:08:47.112Z"
   },
   {
    "duration": 8,
    "start_time": "2022-04-26T12:08:49.121Z"
   },
   {
    "duration": 37,
    "start_time": "2022-04-26T12:08:50.926Z"
   },
   {
    "duration": 34,
    "start_time": "2022-04-26T12:08:52.615Z"
   },
   {
    "duration": 4683,
    "start_time": "2022-04-26T12:08:54.621Z"
   },
   {
    "duration": 25,
    "start_time": "2022-04-26T12:09:02.419Z"
   },
   {
    "duration": 34,
    "start_time": "2022-04-26T12:09:04.319Z"
   },
   {
    "duration": 147,
    "start_time": "2022-04-26T12:09:06.236Z"
   },
   {
    "duration": 70,
    "start_time": "2022-04-27T11:34:17.191Z"
   },
   {
    "duration": 8,
    "start_time": "2022-04-27T11:34:21.845Z"
   },
   {
    "duration": 8,
    "start_time": "2022-04-27T11:34:34.996Z"
   },
   {
    "duration": 1645,
    "start_time": "2022-04-27T11:34:42.127Z"
   },
   {
    "duration": 9,
    "start_time": "2022-04-27T11:34:43.775Z"
   },
   {
    "duration": 7,
    "start_time": "2022-04-27T11:34:43.786Z"
   },
   {
    "duration": 14,
    "start_time": "2022-04-27T11:34:43.796Z"
   },
   {
    "duration": 35,
    "start_time": "2022-04-27T11:34:43.812Z"
   },
   {
    "duration": 60,
    "start_time": "2022-04-27T11:34:43.849Z"
   },
   {
    "duration": 4241,
    "start_time": "2022-04-27T11:34:43.912Z"
   },
   {
    "duration": 17,
    "start_time": "2022-04-27T11:34:48.156Z"
   },
   {
    "duration": 35,
    "start_time": "2022-04-27T11:34:48.194Z"
   },
   {
    "duration": 168,
    "start_time": "2022-04-27T11:34:48.232Z"
   },
   {
    "duration": 145,
    "start_time": "2022-04-29T07:57:37.333Z"
   },
   {
    "duration": 1156,
    "start_time": "2022-04-30T09:43:26.245Z"
   },
   {
    "duration": 6,
    "start_time": "2022-04-30T09:43:31.858Z"
   },
   {
    "duration": 20,
    "start_time": "2022-04-30T09:43:34.847Z"
   },
   {
    "duration": 3,
    "start_time": "2022-04-30T10:04:55.946Z"
   },
   {
    "duration": 3,
    "start_time": "2022-04-30T10:04:58.089Z"
   },
   {
    "duration": 13,
    "start_time": "2022-04-30T10:04:59.955Z"
   },
   {
    "duration": 13,
    "start_time": "2022-04-30T10:05:01.677Z"
   },
   {
    "duration": 1212,
    "start_time": "2022-04-30T10:06:33.683Z"
   },
   {
    "duration": 13,
    "start_time": "2022-04-30T10:06:36.238Z"
   },
   {
    "duration": 13,
    "start_time": "2022-04-30T10:06:39.891Z"
   },
   {
    "duration": 113,
    "start_time": "2022-04-30T10:13:48.833Z"
   },
   {
    "duration": 1098,
    "start_time": "2022-04-30T10:13:57.158Z"
   },
   {
    "duration": 14,
    "start_time": "2022-04-30T10:13:59.366Z"
   },
   {
    "duration": 13,
    "start_time": "2022-04-30T10:14:00.777Z"
   },
   {
    "duration": 7,
    "start_time": "2022-04-30T10:14:03.992Z"
   },
   {
    "duration": 6,
    "start_time": "2022-04-30T10:14:06.222Z"
   },
   {
    "duration": 74,
    "start_time": "2022-04-30T10:14:08.713Z"
   },
   {
    "duration": 71,
    "start_time": "2022-04-30T10:15:18.736Z"
   },
   {
    "duration": 87,
    "start_time": "2022-04-30T10:16:46.980Z"
   },
   {
    "duration": 89,
    "start_time": "2022-04-30T10:17:12.971Z"
   },
   {
    "duration": 96,
    "start_time": "2022-04-30T10:17:27.881Z"
   },
   {
    "duration": 92,
    "start_time": "2022-04-30T10:17:54.344Z"
   },
   {
    "duration": 85,
    "start_time": "2022-04-30T10:18:50.200Z"
   },
   {
    "duration": 3,
    "start_time": "2022-04-30T10:27:01.351Z"
   },
   {
    "duration": 15,
    "start_time": "2022-04-30T10:27:03.423Z"
   },
   {
    "duration": 11,
    "start_time": "2022-04-30T10:27:04.755Z"
   },
   {
    "duration": 6,
    "start_time": "2022-04-30T10:27:07.334Z"
   },
   {
    "duration": 5,
    "start_time": "2022-04-30T10:27:09.078Z"
   },
   {
    "duration": 110,
    "start_time": "2022-04-30T10:27:10.976Z"
   },
   {
    "duration": 106,
    "start_time": "2022-04-30T10:27:48.667Z"
   },
   {
    "duration": 102,
    "start_time": "2022-04-30T10:37:11.168Z"
   },
   {
    "duration": 34,
    "start_time": "2022-04-30T10:39:12.782Z"
   },
   {
    "duration": 65,
    "start_time": "2022-04-30T10:40:56.423Z"
   },
   {
    "duration": 60,
    "start_time": "2022-04-30T10:41:00.572Z"
   },
   {
    "duration": 108,
    "start_time": "2022-04-30T10:41:06.475Z"
   },
   {
    "duration": 111,
    "start_time": "2022-04-30T10:42:13.236Z"
   },
   {
    "duration": 114,
    "start_time": "2022-04-30T10:45:00.121Z"
   },
   {
    "duration": 95,
    "start_time": "2022-04-30T10:47:03.739Z"
   },
   {
    "duration": 26,
    "start_time": "2022-04-30T10:47:27.951Z"
   },
   {
    "duration": 27,
    "start_time": "2022-04-30T10:47:44.449Z"
   },
   {
    "duration": 38,
    "start_time": "2022-04-30T10:50:11.904Z"
   },
   {
    "duration": 68,
    "start_time": "2022-04-30T10:50:21.937Z"
   },
   {
    "duration": 3566,
    "start_time": "2022-04-30T10:51:13.049Z"
   },
   {
    "duration": 4047,
    "start_time": "2022-04-30T10:55:02.526Z"
   },
   {
    "duration": 3817,
    "start_time": "2022-04-30T10:55:38.067Z"
   },
   {
    "duration": 3651,
    "start_time": "2022-04-30T10:59:36.196Z"
   },
   {
    "duration": 25,
    "start_time": "2022-04-30T11:00:00.527Z"
   },
   {
    "duration": 87,
    "start_time": "2022-04-30T11:00:14.137Z"
   },
   {
    "duration": 32,
    "start_time": "2022-04-30T11:01:18.230Z"
   },
   {
    "duration": 24,
    "start_time": "2022-04-30T11:01:36.950Z"
   },
   {
    "duration": 25,
    "start_time": "2022-04-30T11:01:46.480Z"
   },
   {
    "duration": 25,
    "start_time": "2022-04-30T11:01:56.235Z"
   },
   {
    "duration": 196,
    "start_time": "2022-04-30T11:08:45.326Z"
   },
   {
    "duration": 107,
    "start_time": "2022-04-30T11:09:00.275Z"
   },
   {
    "duration": 112,
    "start_time": "2022-04-30T11:09:02.773Z"
   },
   {
    "duration": 119,
    "start_time": "2022-04-30T11:15:36.259Z"
   },
   {
    "duration": 111,
    "start_time": "2022-04-30T11:17:59.697Z"
   },
   {
    "duration": 125,
    "start_time": "2022-04-30T11:21:31.216Z"
   },
   {
    "duration": 1115,
    "start_time": "2022-04-30T11:26:31.231Z"
   },
   {
    "duration": 14,
    "start_time": "2022-04-30T11:26:33.428Z"
   },
   {
    "duration": 12,
    "start_time": "2022-04-30T11:26:34.825Z"
   },
   {
    "duration": 7,
    "start_time": "2022-04-30T11:26:37.870Z"
   },
   {
    "duration": 5,
    "start_time": "2022-04-30T11:26:39.458Z"
   },
   {
    "duration": 82,
    "start_time": "2022-04-30T11:26:41.736Z"
   },
   {
    "duration": 25,
    "start_time": "2022-04-30T11:26:46.355Z"
   },
   {
    "duration": 3695,
    "start_time": "2022-04-30T11:26:49.748Z"
   },
   {
    "duration": 16,
    "start_time": "2022-04-30T11:27:11.304Z"
   },
   {
    "duration": 27,
    "start_time": "2022-04-30T11:27:13.214Z"
   },
   {
    "duration": 104,
    "start_time": "2022-04-30T11:27:14.876Z"
   },
   {
    "duration": 131,
    "start_time": "2022-04-30T11:27:18.919Z"
   },
   {
    "duration": 2611,
    "start_time": "2022-04-30T13:40:52.350Z"
   },
   {
    "duration": 25,
    "start_time": "2022-04-30T13:40:54.964Z"
   },
   {
    "duration": 24,
    "start_time": "2022-04-30T13:40:54.992Z"
   },
   {
    "duration": 10,
    "start_time": "2022-04-30T13:40:57.981Z"
   },
   {
    "duration": 7,
    "start_time": "2022-04-30T13:40:58.616Z"
   },
   {
    "duration": 139,
    "start_time": "2022-04-30T13:40:59.974Z"
   },
   {
    "duration": 143,
    "start_time": "2022-04-30T13:41:05.591Z"
   },
   {
    "duration": 104,
    "start_time": "2022-04-30T13:41:40.970Z"
   },
   {
    "duration": 18,
    "start_time": "2022-04-30T13:41:49.259Z"
   },
   {
    "duration": 13,
    "start_time": "2022-04-30T13:42:30.071Z"
   },
   {
    "duration": 4,
    "start_time": "2022-04-30T13:42:50.076Z"
   },
   {
    "duration": 10,
    "start_time": "2022-04-30T13:42:51.225Z"
   },
   {
    "duration": 12,
    "start_time": "2022-04-30T13:42:58.146Z"
   },
   {
    "duration": 6,
    "start_time": "2022-04-30T13:43:06.721Z"
   }
  ],
  "kernelspec": {
   "display_name": "Python 3 (ipykernel)",
   "language": "python",
   "name": "python3"
  },
  "language_info": {
   "codemirror_mode": {
    "name": "ipython",
    "version": 3
   },
   "file_extension": ".py",
   "mimetype": "text/x-python",
   "name": "python",
   "nbconvert_exporter": "python",
   "pygments_lexer": "ipython3",
   "version": "3.9.7"
  },
  "toc": {
   "base_numbering": 1,
   "nav_menu": {},
   "number_sections": true,
   "sideBar": true,
   "skip_h1_title": true,
   "title_cell": "Table of Contents",
   "title_sidebar": "Contents",
   "toc_cell": false,
   "toc_position": {},
   "toc_section_display": true,
   "toc_window_display": false
  }
 },
 "nbformat": 4,
 "nbformat_minor": 2
}
