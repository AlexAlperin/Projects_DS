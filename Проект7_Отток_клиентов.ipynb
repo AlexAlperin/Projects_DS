{
 "cells": [
  {
   "cell_type": "markdown",
   "metadata": {},
   "source": [
    "<h1> Комментарий ревьюера </h1>\n",
    "\n",
    "Привет, Александр!\n",
    "Меня зовут Виктория Ильина, и я буду проверять твой проект. Предлагаю общаться на \"ты\", но если тебе будет не комфортно, обязательно сообщи и мы перейдем на \"вы\". \n",
    "\n",
    "Моя основная цель - не указать на совершённые тобой ошибки, а поделиться своим опытом и помочь тебе стать специалистом по Data Science. Ты уже проделал большую работу над проектом, но давай сделаем его ещё лучше. Ниже ты найдёшь мои комментарии - пожалуйста, не перемещай, не изменяй и не удаляй их. Я буду использовать различные цвета, чтобы было легче воспринимать мои комментарии:\n",
    "\n",
    "<div class=\"alert alert-block alert-danger\">\n",
    "<b>Комментарий ревьюера❌:</b> Так выделены самые важные замечания. Без их отработки проект не будет принят.\n",
    "</div>\n",
    "\n",
    "<div class=\"alert alert-block alert-warning\">\n",
    "<b>Комментарий ревьюера🤔:</b> Так выделены небольшие замечания. Одно-два таких замечания в проекте допустимы, но если их будет больше - тебе будет необходимо внести исправления. Однако, если перед нами стоит цель не просто сдать проект и забыть, а приобрести новые знания и успешно применять их в будущем, я бы всё-таки рекомендовала тебе прорабатывать эти недочёты.\n",
    "</div>\n",
    "    \n",
    "<div class=\"alert alert-block alert-success\">\n",
    "<b>Комментарий ревьюера👍:</b> Так я выделю все остальные комментарии.\n",
    "</div>\n",
    "    \n",
    "Давай работать над проектом в диалоге: если ты что-то меняешь в проекте или отвечаешь на мои комментарии - пиши об этом. Мне будет легче отследить изменения, если ты выделишь свои комментарии:\n",
    "\n",
    "<div class=\"alert alert-block alert-info\">\n",
    "<b>Комментарий студента:</b> Например, вот так.\n",
    "</div>\n",
    "\n",
    "Давай посмотрим, что получилось!\n",
    "\n",
    "\n",
    "<div class=\"alert alert-info\">\n",
    "    <h2> Комментарий студента</h2>  Расскажи пожалуйста немного поподробнее:\n",
    "    1. Почему при примении техники downsample произошло снижение метрики f1? При проверке модели на тестовой выборке\n",
    "    2. Какой все-таки критерий прохождения теста модели на адекватность? какой должна быть разница в метриках?\n",
    "    3. Корректно ли использование условия \"if accuracy_val > best_accuracy and f1 > best_f1\" при поиске модели?\n",
    "    нужно ли учитывать обе метрики или хватит f1?. </div>"
   ]
  },
  {
   "cell_type": "markdown",
   "metadata": {},
   "source": [
    "<div class=\"alert alert-block alert-success\">\n",
    "<b>Комментарий ревьюера V.2👍:</b> Давай разбираться =)\n",
    "    \n",
    "1. Дисбаланс классов очень частая проблема в реальных данных, и пока не придумали идеальную универсальную методику как решать эту проблему, поэтому мы всегда пробуем несколько разных вариантов решения проблемы и выбираем лучший по нашим критериям. Для данных в этом проекте downsampling не помог. Так что тут никакой мистики, так бывает и часто\n",
    "    \n",
    "2. Конкретно в этом проекте главным критерием заявлен f1, поэтому мы смотрим на него, в реальной работе, мы всегда изучаем несколько метрик и сравниваем модели. Единой меры, что вот скажем на 2% лучше плохо, а 3% хорошо нет, если модель лучше чем константная, она в принципе рабочая, вопрос в том для чего мы создаем модель и что за данные мы в принципе изучаем. Ошибка в медицинских программах будет стоить гораздо выше, чем скажем в маркетинге.\n",
    "    \n",
    "3. При работе с несбалансированными данными метрика accuracy теряет свою актуальность, так как зачастую модель \"ленится\" и в непонятной ситуации просто присваивает наиболее часто встречаемый класс, поэтому более важными являются метрики показывающие именно правильное присвоение классов, а не общий результат. Поэтому тут стоит ориентироваться на f1, идеально максимизировать обе метрики не получится, так как увеличение f1 при несбалансированности зачастую влечет за собой снижение accuracy и нам приходится идти на компромисс. \n",
    "    \n",
    "Подробно объясненные метрики для моделей классификации:\n",
    "    \n",
    "- https://neptune.ai/blog/evaluation-metrics-binary-classification\n",
    "    \n",
    "- https://github.com/neptune-ai/blog-binary-classification-metrics/blob/master/binary_classification_metrics_cheathsheet.pdf\n",
    "    \n",
    "Удачи в будущих проектах и работе =)\n",
    "</div>"
   ]
  },
  {
   "cell_type": "markdown",
   "metadata": {
    "toc": true
   },
   "source": [
    "<h1>Содержание<span class=\"tocSkip\"></span></h1>\n",
    "<div class=\"toc\"><ul class=\"toc-item\"><li><span><a href=\"#-Комментарий-студента\" data-toc-modified-id=\"-Комментарий-студента-1\"><span class=\"toc-item-num\">1&nbsp;&nbsp;</span> Комментарий студента</a></span></li><li><span><a href=\"#Подготовка-данных\" data-toc-modified-id=\"Подготовка-данных-2\"><span class=\"toc-item-num\">2&nbsp;&nbsp;</span>Подготовка данных</a></span><ul class=\"toc-item\"><li><span><a href=\"#Импорт-библиотек,-исследование-данных\" data-toc-modified-id=\"Импорт-библиотек,-исследование-данных-2.1\"><span class=\"toc-item-num\">2.1&nbsp;&nbsp;</span>Импорт библиотек, исследование данных</a></span></li><li><span><a href=\"#Предобработка-данных\" data-toc-modified-id=\"Предобработка-данных-2.2\"><span class=\"toc-item-num\">2.2&nbsp;&nbsp;</span>Предобработка данных</a></span></li></ul></li><li><span><a href=\"#Исследование-задачи\" data-toc-modified-id=\"Исследование-задачи-3\"><span class=\"toc-item-num\">3&nbsp;&nbsp;</span>Исследование задачи</a></span><ul class=\"toc-item\"><li><span><a href=\"#Разобьем-данные-на-тренировочную,-проверочную-и-валидационную-выборки.\" data-toc-modified-id=\"Разобьем-данные-на-тренировочную,-проверочную-и-валидационную-выборки.-3.1\"><span class=\"toc-item-num\">3.1&nbsp;&nbsp;</span>Разобьем данные на тренировочную, проверочную и валидационную выборки.</a></span></li><li><span><a href=\"#Модель-дерева-решений\" data-toc-modified-id=\"Модель-дерева-решений-3.2\"><span class=\"toc-item-num\">3.2&nbsp;&nbsp;</span>Модель дерева решений</a></span></li><li><span><a href=\"#Модель-логистической-регрессии\" data-toc-modified-id=\"Модель-логистической-регрессии-3.3\"><span class=\"toc-item-num\">3.3&nbsp;&nbsp;</span>Модель логистической регрессии</a></span></li><li><span><a href=\"#Модель-случайного-леса\" data-toc-modified-id=\"Модель-случайного-леса-3.4\"><span class=\"toc-item-num\">3.4&nbsp;&nbsp;</span>Модель случайного леса</a></span></li></ul></li><li><span><a href=\"#Борьба-с-дисбалансом\" data-toc-modified-id=\"Борьба-с-дисбалансом-4\"><span class=\"toc-item-num\">4&nbsp;&nbsp;</span>Борьба с дисбалансом</a></span></li><li><span><a href=\"#Тестирование-модели\" data-toc-modified-id=\"Тестирование-модели-5\"><span class=\"toc-item-num\">5&nbsp;&nbsp;</span>Тестирование модели</a></span></li><li><span><a href=\"#Чек-лист-готовности-проекта\" data-toc-modified-id=\"Чек-лист-готовности-проекта-6\"><span class=\"toc-item-num\">6&nbsp;&nbsp;</span>Чек-лист готовности проекта</a></span></li><li><span><a href=\"#-Комментарий-студента\" data-toc-modified-id=\"-Комментарий-студента-7\"><span class=\"toc-item-num\">7&nbsp;&nbsp;</span> Комментарий студента</a></span></li></ul></div>"
   ]
  },
  {
   "cell_type": "markdown",
   "metadata": {},
   "source": [
    "# Отток клиентов"
   ]
  },
  {
   "cell_type": "markdown",
   "metadata": {},
   "source": [
    "Из «Бета-Банка» стали уходить клиенты. Каждый месяц. Немного, но заметно. Банковские маркетологи посчитали: сохранять текущих клиентов дешевле, чем привлекать новых.\n",
    "\n",
    "Нужно спрогнозировать, уйдёт клиент из банка в ближайшее время или нет. Вам предоставлены исторические данные о поведении клиентов и расторжении договоров с банком. \n",
    "\n",
    "Постройте модель с предельно большим значением *F1*-меры. Чтобы сдать проект успешно, нужно довести метрику до 0.59. Проверьте *F1*-меру на тестовой выборке самостоятельно.\n",
    "\n",
    "Дополнительно измеряйте *AUC-ROC*, сравнивайте её значение с *F1*-мерой.\n",
    "\n",
    "Источник данных: [https://www.kaggle.com/barelydedicated/bank-customer-churn-modeling](https://www.kaggle.com/barelydedicated/bank-customer-churn-modeling)"
   ]
  },
  {
   "cell_type": "markdown",
   "metadata": {},
   "source": [
    "## Подготовка данных"
   ]
  },
  {
   "cell_type": "markdown",
   "metadata": {},
   "source": [
    "### Импорт библиотек, исследование данных"
   ]
  },
  {
   "cell_type": "code",
   "execution_count": 1,
   "metadata": {},
   "outputs": [],
   "source": [
    "import pandas as pd\n",
    "import matplotlib.pyplot as plt\n",
    "from sklearn.model_selection import train_test_split\n",
    "from sklearn.tree import DecisionTreeClassifier\n",
    "from sklearn.linear_model import LogisticRegression\n",
    "from sklearn.ensemble import RandomForestClassifier\n",
    "from sklearn.metrics import accuracy_score\n",
    "from sklearn.metrics import f1_score\n",
    "from sklearn.utils import shuffle\n",
    "from sklearn.metrics import roc_curve \n",
    "from sklearn.metrics import roc_auc_score "
   ]
  },
  {
   "cell_type": "markdown",
   "metadata": {},
   "source": [
    "<div class=\"alert alert-block alert-warning\">\n",
    "<b>Комментарий ревьюера🤔:</b> Все библиотеки импортированы, на будущее, когда импортируешь из одного места, то можно просто перечислять через запятую:\n",
    "\n",
    "from sklearn.metrics import accuracy_score, f1_score, roc_curve, roc_auc_score \n",
    "    \n",
    "</div>\n"
   ]
  },
  {
   "cell_type": "code",
   "execution_count": 2,
   "metadata": {},
   "outputs": [
    {
     "data": {
      "text/html": [
       "<div>\n",
       "<style scoped>\n",
       "    .dataframe tbody tr th:only-of-type {\n",
       "        vertical-align: middle;\n",
       "    }\n",
       "\n",
       "    .dataframe tbody tr th {\n",
       "        vertical-align: top;\n",
       "    }\n",
       "\n",
       "    .dataframe thead th {\n",
       "        text-align: right;\n",
       "    }\n",
       "</style>\n",
       "<table border=\"1\" class=\"dataframe\">\n",
       "  <thead>\n",
       "    <tr style=\"text-align: right;\">\n",
       "      <th></th>\n",
       "      <th>RowNumber</th>\n",
       "      <th>CustomerId</th>\n",
       "      <th>Surname</th>\n",
       "      <th>CreditScore</th>\n",
       "      <th>Geography</th>\n",
       "      <th>Gender</th>\n",
       "      <th>Age</th>\n",
       "      <th>Tenure</th>\n",
       "      <th>Balance</th>\n",
       "      <th>NumOfProducts</th>\n",
       "      <th>HasCrCard</th>\n",
       "      <th>IsActiveMember</th>\n",
       "      <th>EstimatedSalary</th>\n",
       "      <th>Exited</th>\n",
       "    </tr>\n",
       "  </thead>\n",
       "  <tbody>\n",
       "    <tr>\n",
       "      <th>0</th>\n",
       "      <td>1</td>\n",
       "      <td>15634602</td>\n",
       "      <td>Hargrave</td>\n",
       "      <td>619</td>\n",
       "      <td>France</td>\n",
       "      <td>Female</td>\n",
       "      <td>42</td>\n",
       "      <td>2.0</td>\n",
       "      <td>0.00</td>\n",
       "      <td>1</td>\n",
       "      <td>1</td>\n",
       "      <td>1</td>\n",
       "      <td>101348.88</td>\n",
       "      <td>1</td>\n",
       "    </tr>\n",
       "    <tr>\n",
       "      <th>1</th>\n",
       "      <td>2</td>\n",
       "      <td>15647311</td>\n",
       "      <td>Hill</td>\n",
       "      <td>608</td>\n",
       "      <td>Spain</td>\n",
       "      <td>Female</td>\n",
       "      <td>41</td>\n",
       "      <td>1.0</td>\n",
       "      <td>83807.86</td>\n",
       "      <td>1</td>\n",
       "      <td>0</td>\n",
       "      <td>1</td>\n",
       "      <td>112542.58</td>\n",
       "      <td>0</td>\n",
       "    </tr>\n",
       "    <tr>\n",
       "      <th>2</th>\n",
       "      <td>3</td>\n",
       "      <td>15619304</td>\n",
       "      <td>Onio</td>\n",
       "      <td>502</td>\n",
       "      <td>France</td>\n",
       "      <td>Female</td>\n",
       "      <td>42</td>\n",
       "      <td>8.0</td>\n",
       "      <td>159660.80</td>\n",
       "      <td>3</td>\n",
       "      <td>1</td>\n",
       "      <td>0</td>\n",
       "      <td>113931.57</td>\n",
       "      <td>1</td>\n",
       "    </tr>\n",
       "    <tr>\n",
       "      <th>3</th>\n",
       "      <td>4</td>\n",
       "      <td>15701354</td>\n",
       "      <td>Boni</td>\n",
       "      <td>699</td>\n",
       "      <td>France</td>\n",
       "      <td>Female</td>\n",
       "      <td>39</td>\n",
       "      <td>1.0</td>\n",
       "      <td>0.00</td>\n",
       "      <td>2</td>\n",
       "      <td>0</td>\n",
       "      <td>0</td>\n",
       "      <td>93826.63</td>\n",
       "      <td>0</td>\n",
       "    </tr>\n",
       "    <tr>\n",
       "      <th>4</th>\n",
       "      <td>5</td>\n",
       "      <td>15737888</td>\n",
       "      <td>Mitchell</td>\n",
       "      <td>850</td>\n",
       "      <td>Spain</td>\n",
       "      <td>Female</td>\n",
       "      <td>43</td>\n",
       "      <td>2.0</td>\n",
       "      <td>125510.82</td>\n",
       "      <td>1</td>\n",
       "      <td>1</td>\n",
       "      <td>1</td>\n",
       "      <td>79084.10</td>\n",
       "      <td>0</td>\n",
       "    </tr>\n",
       "  </tbody>\n",
       "</table>\n",
       "</div>"
      ],
      "text/plain": [
       "   RowNumber  CustomerId   Surname  CreditScore Geography  Gender  Age  \\\n",
       "0          1    15634602  Hargrave          619    France  Female   42   \n",
       "1          2    15647311      Hill          608     Spain  Female   41   \n",
       "2          3    15619304      Onio          502    France  Female   42   \n",
       "3          4    15701354      Boni          699    France  Female   39   \n",
       "4          5    15737888  Mitchell          850     Spain  Female   43   \n",
       "\n",
       "   Tenure    Balance  NumOfProducts  HasCrCard  IsActiveMember  \\\n",
       "0     2.0       0.00              1          1               1   \n",
       "1     1.0   83807.86              1          0               1   \n",
       "2     8.0  159660.80              3          1               0   \n",
       "3     1.0       0.00              2          0               0   \n",
       "4     2.0  125510.82              1          1               1   \n",
       "\n",
       "   EstimatedSalary  Exited  \n",
       "0        101348.88       1  \n",
       "1        112542.58       0  \n",
       "2        113931.57       1  \n",
       "3         93826.63       0  \n",
       "4         79084.10       0  "
      ]
     },
     "metadata": {},
     "output_type": "display_data"
    },
    {
     "name": "stdout",
     "output_type": "stream",
     "text": [
      "<class 'pandas.core.frame.DataFrame'>\n",
      "RangeIndex: 10000 entries, 0 to 9999\n",
      "Data columns (total 14 columns):\n",
      " #   Column           Non-Null Count  Dtype  \n",
      "---  ------           --------------  -----  \n",
      " 0   RowNumber        10000 non-null  int64  \n",
      " 1   CustomerId       10000 non-null  int64  \n",
      " 2   Surname          10000 non-null  object \n",
      " 3   CreditScore      10000 non-null  int64  \n",
      " 4   Geography        10000 non-null  object \n",
      " 5   Gender           10000 non-null  object \n",
      " 6   Age              10000 non-null  int64  \n",
      " 7   Tenure           9091 non-null   float64\n",
      " 8   Balance          10000 non-null  float64\n",
      " 9   NumOfProducts    10000 non-null  int64  \n",
      " 10  HasCrCard        10000 non-null  int64  \n",
      " 11  IsActiveMember   10000 non-null  int64  \n",
      " 12  EstimatedSalary  10000 non-null  float64\n",
      " 13  Exited           10000 non-null  int64  \n",
      "dtypes: float64(3), int64(8), object(3)\n",
      "memory usage: 1.1+ MB\n"
     ]
    },
    {
     "data": {
      "text/plain": [
       "'Доля положительного класса:'"
      ]
     },
     "metadata": {},
     "output_type": "display_data"
    },
    {
     "data": {
      "text/plain": [
       "0.2037"
      ]
     },
     "metadata": {},
     "output_type": "display_data"
    },
    {
     "data": {
      "text/plain": [
       "'Доля отрицательного класса:'"
      ]
     },
     "metadata": {},
     "output_type": "display_data"
    },
    {
     "data": {
      "text/plain": [
       "0.7963"
      ]
     },
     "metadata": {},
     "output_type": "display_data"
    }
   ],
   "source": [
    "data=pd.read_csv('/datasets/Churn.csv')\n",
    "display (data.head())\n",
    "data.info()\n",
    "data.isna().sum()\n",
    "data.duplicated().sum()\n",
    "display (\"Доля положительного класса:\", data.query('Exited==1')['Exited'].count()/len (data['Exited']))\n",
    "display (\"Доля отрицательного класса:\", data.query('Exited==0')['Exited'].count()/len (data['Exited']))\n"
   ]
  },
  {
   "cell_type": "markdown",
   "metadata": {},
   "source": [
    "<div class=\"alert alert-info\">\n",
    "<font color='black'> <b> При исследовании данных обаружены пропуски в столбце \"Tenure\". Дубликатов в данных не обнаружено. Перед нами - задача классификации, так как нужно установить, уйдет ли клиент из банка или останется. Доля положительного класса в целевом признаке составляет всего 0.2, тогда как доля отрицательного класса составляет почти 0.8. Имеется дисбаланс классов целевого признака </font> <b>"
   ]
  },
  {
   "cell_type": "markdown",
   "metadata": {},
   "source": [
    "<div class=\"alert alert-block alert-success\">\n",
    "<b>Комментарий ревьюера👍:</b> Хорошо\n",
    "</div>"
   ]
  },
  {
   "cell_type": "markdown",
   "metadata": {},
   "source": [
    "### Предобработка данных"
   ]
  },
  {
   "cell_type": "code",
   "execution_count": 3,
   "metadata": {},
   "outputs": [
    {
     "data": {
      "text/html": [
       "<div>\n",
       "<style scoped>\n",
       "    .dataframe tbody tr th:only-of-type {\n",
       "        vertical-align: middle;\n",
       "    }\n",
       "\n",
       "    .dataframe tbody tr th {\n",
       "        vertical-align: top;\n",
       "    }\n",
       "\n",
       "    .dataframe thead th {\n",
       "        text-align: right;\n",
       "    }\n",
       "</style>\n",
       "<table border=\"1\" class=\"dataframe\">\n",
       "  <thead>\n",
       "    <tr style=\"text-align: right;\">\n",
       "      <th></th>\n",
       "      <th>creditscore</th>\n",
       "      <th>geography</th>\n",
       "      <th>gender</th>\n",
       "      <th>age</th>\n",
       "      <th>tenure</th>\n",
       "      <th>balance</th>\n",
       "      <th>numofproducts</th>\n",
       "      <th>hascrcard</th>\n",
       "      <th>isactivemember</th>\n",
       "      <th>estimatedsalary</th>\n",
       "      <th>exited</th>\n",
       "    </tr>\n",
       "  </thead>\n",
       "  <tbody>\n",
       "    <tr>\n",
       "      <th>0</th>\n",
       "      <td>619</td>\n",
       "      <td>France</td>\n",
       "      <td>Female</td>\n",
       "      <td>42</td>\n",
       "      <td>2.0</td>\n",
       "      <td>0.00</td>\n",
       "      <td>1</td>\n",
       "      <td>1</td>\n",
       "      <td>1</td>\n",
       "      <td>101348.88</td>\n",
       "      <td>1</td>\n",
       "    </tr>\n",
       "    <tr>\n",
       "      <th>1</th>\n",
       "      <td>608</td>\n",
       "      <td>Spain</td>\n",
       "      <td>Female</td>\n",
       "      <td>41</td>\n",
       "      <td>1.0</td>\n",
       "      <td>83807.86</td>\n",
       "      <td>1</td>\n",
       "      <td>0</td>\n",
       "      <td>1</td>\n",
       "      <td>112542.58</td>\n",
       "      <td>0</td>\n",
       "    </tr>\n",
       "    <tr>\n",
       "      <th>2</th>\n",
       "      <td>502</td>\n",
       "      <td>France</td>\n",
       "      <td>Female</td>\n",
       "      <td>42</td>\n",
       "      <td>8.0</td>\n",
       "      <td>159660.80</td>\n",
       "      <td>3</td>\n",
       "      <td>1</td>\n",
       "      <td>0</td>\n",
       "      <td>113931.57</td>\n",
       "      <td>1</td>\n",
       "    </tr>\n",
       "    <tr>\n",
       "      <th>3</th>\n",
       "      <td>699</td>\n",
       "      <td>France</td>\n",
       "      <td>Female</td>\n",
       "      <td>39</td>\n",
       "      <td>1.0</td>\n",
       "      <td>0.00</td>\n",
       "      <td>2</td>\n",
       "      <td>0</td>\n",
       "      <td>0</td>\n",
       "      <td>93826.63</td>\n",
       "      <td>0</td>\n",
       "    </tr>\n",
       "    <tr>\n",
       "      <th>4</th>\n",
       "      <td>850</td>\n",
       "      <td>Spain</td>\n",
       "      <td>Female</td>\n",
       "      <td>43</td>\n",
       "      <td>2.0</td>\n",
       "      <td>125510.82</td>\n",
       "      <td>1</td>\n",
       "      <td>1</td>\n",
       "      <td>1</td>\n",
       "      <td>79084.10</td>\n",
       "      <td>0</td>\n",
       "    </tr>\n",
       "    <tr>\n",
       "      <th>5</th>\n",
       "      <td>645</td>\n",
       "      <td>Spain</td>\n",
       "      <td>Male</td>\n",
       "      <td>44</td>\n",
       "      <td>8.0</td>\n",
       "      <td>113755.78</td>\n",
       "      <td>2</td>\n",
       "      <td>1</td>\n",
       "      <td>0</td>\n",
       "      <td>149756.71</td>\n",
       "      <td>1</td>\n",
       "    </tr>\n",
       "    <tr>\n",
       "      <th>6</th>\n",
       "      <td>822</td>\n",
       "      <td>France</td>\n",
       "      <td>Male</td>\n",
       "      <td>50</td>\n",
       "      <td>7.0</td>\n",
       "      <td>0.00</td>\n",
       "      <td>2</td>\n",
       "      <td>1</td>\n",
       "      <td>1</td>\n",
       "      <td>10062.80</td>\n",
       "      <td>0</td>\n",
       "    </tr>\n",
       "    <tr>\n",
       "      <th>7</th>\n",
       "      <td>376</td>\n",
       "      <td>Germany</td>\n",
       "      <td>Female</td>\n",
       "      <td>29</td>\n",
       "      <td>4.0</td>\n",
       "      <td>115046.74</td>\n",
       "      <td>4</td>\n",
       "      <td>1</td>\n",
       "      <td>0</td>\n",
       "      <td>119346.88</td>\n",
       "      <td>1</td>\n",
       "    </tr>\n",
       "    <tr>\n",
       "      <th>8</th>\n",
       "      <td>501</td>\n",
       "      <td>France</td>\n",
       "      <td>Male</td>\n",
       "      <td>44</td>\n",
       "      <td>4.0</td>\n",
       "      <td>142051.07</td>\n",
       "      <td>2</td>\n",
       "      <td>0</td>\n",
       "      <td>1</td>\n",
       "      <td>74940.50</td>\n",
       "      <td>0</td>\n",
       "    </tr>\n",
       "    <tr>\n",
       "      <th>9</th>\n",
       "      <td>684</td>\n",
       "      <td>France</td>\n",
       "      <td>Male</td>\n",
       "      <td>27</td>\n",
       "      <td>2.0</td>\n",
       "      <td>134603.88</td>\n",
       "      <td>1</td>\n",
       "      <td>1</td>\n",
       "      <td>1</td>\n",
       "      <td>71725.73</td>\n",
       "      <td>0</td>\n",
       "    </tr>\n",
       "    <tr>\n",
       "      <th>10</th>\n",
       "      <td>528</td>\n",
       "      <td>France</td>\n",
       "      <td>Male</td>\n",
       "      <td>31</td>\n",
       "      <td>6.0</td>\n",
       "      <td>102016.72</td>\n",
       "      <td>2</td>\n",
       "      <td>0</td>\n",
       "      <td>0</td>\n",
       "      <td>80181.12</td>\n",
       "      <td>0</td>\n",
       "    </tr>\n",
       "    <tr>\n",
       "      <th>11</th>\n",
       "      <td>497</td>\n",
       "      <td>Spain</td>\n",
       "      <td>Male</td>\n",
       "      <td>24</td>\n",
       "      <td>3.0</td>\n",
       "      <td>0.00</td>\n",
       "      <td>2</td>\n",
       "      <td>1</td>\n",
       "      <td>0</td>\n",
       "      <td>76390.01</td>\n",
       "      <td>0</td>\n",
       "    </tr>\n",
       "    <tr>\n",
       "      <th>12</th>\n",
       "      <td>476</td>\n",
       "      <td>France</td>\n",
       "      <td>Female</td>\n",
       "      <td>34</td>\n",
       "      <td>10.0</td>\n",
       "      <td>0.00</td>\n",
       "      <td>2</td>\n",
       "      <td>1</td>\n",
       "      <td>0</td>\n",
       "      <td>26260.98</td>\n",
       "      <td>0</td>\n",
       "    </tr>\n",
       "    <tr>\n",
       "      <th>13</th>\n",
       "      <td>549</td>\n",
       "      <td>France</td>\n",
       "      <td>Female</td>\n",
       "      <td>25</td>\n",
       "      <td>5.0</td>\n",
       "      <td>0.00</td>\n",
       "      <td>2</td>\n",
       "      <td>0</td>\n",
       "      <td>0</td>\n",
       "      <td>190857.79</td>\n",
       "      <td>0</td>\n",
       "    </tr>\n",
       "    <tr>\n",
       "      <th>14</th>\n",
       "      <td>635</td>\n",
       "      <td>Spain</td>\n",
       "      <td>Female</td>\n",
       "      <td>35</td>\n",
       "      <td>7.0</td>\n",
       "      <td>0.00</td>\n",
       "      <td>2</td>\n",
       "      <td>1</td>\n",
       "      <td>1</td>\n",
       "      <td>65951.65</td>\n",
       "      <td>0</td>\n",
       "    </tr>\n",
       "    <tr>\n",
       "      <th>15</th>\n",
       "      <td>616</td>\n",
       "      <td>Germany</td>\n",
       "      <td>Male</td>\n",
       "      <td>45</td>\n",
       "      <td>3.0</td>\n",
       "      <td>143129.41</td>\n",
       "      <td>2</td>\n",
       "      <td>0</td>\n",
       "      <td>1</td>\n",
       "      <td>64327.26</td>\n",
       "      <td>0</td>\n",
       "    </tr>\n",
       "    <tr>\n",
       "      <th>16</th>\n",
       "      <td>653</td>\n",
       "      <td>Germany</td>\n",
       "      <td>Male</td>\n",
       "      <td>58</td>\n",
       "      <td>1.0</td>\n",
       "      <td>132602.88</td>\n",
       "      <td>1</td>\n",
       "      <td>1</td>\n",
       "      <td>0</td>\n",
       "      <td>5097.67</td>\n",
       "      <td>1</td>\n",
       "    </tr>\n",
       "    <tr>\n",
       "      <th>17</th>\n",
       "      <td>549</td>\n",
       "      <td>Spain</td>\n",
       "      <td>Female</td>\n",
       "      <td>24</td>\n",
       "      <td>9.0</td>\n",
       "      <td>0.00</td>\n",
       "      <td>2</td>\n",
       "      <td>1</td>\n",
       "      <td>1</td>\n",
       "      <td>14406.41</td>\n",
       "      <td>0</td>\n",
       "    </tr>\n",
       "    <tr>\n",
       "      <th>18</th>\n",
       "      <td>587</td>\n",
       "      <td>Spain</td>\n",
       "      <td>Male</td>\n",
       "      <td>45</td>\n",
       "      <td>6.0</td>\n",
       "      <td>0.00</td>\n",
       "      <td>1</td>\n",
       "      <td>0</td>\n",
       "      <td>0</td>\n",
       "      <td>158684.81</td>\n",
       "      <td>0</td>\n",
       "    </tr>\n",
       "    <tr>\n",
       "      <th>19</th>\n",
       "      <td>726</td>\n",
       "      <td>France</td>\n",
       "      <td>Female</td>\n",
       "      <td>24</td>\n",
       "      <td>6.0</td>\n",
       "      <td>0.00</td>\n",
       "      <td>2</td>\n",
       "      <td>1</td>\n",
       "      <td>1</td>\n",
       "      <td>54724.03</td>\n",
       "      <td>0</td>\n",
       "    </tr>\n",
       "    <tr>\n",
       "      <th>20</th>\n",
       "      <td>732</td>\n",
       "      <td>France</td>\n",
       "      <td>Male</td>\n",
       "      <td>41</td>\n",
       "      <td>8.0</td>\n",
       "      <td>0.00</td>\n",
       "      <td>2</td>\n",
       "      <td>1</td>\n",
       "      <td>1</td>\n",
       "      <td>170886.17</td>\n",
       "      <td>0</td>\n",
       "    </tr>\n",
       "    <tr>\n",
       "      <th>21</th>\n",
       "      <td>636</td>\n",
       "      <td>Spain</td>\n",
       "      <td>Female</td>\n",
       "      <td>32</td>\n",
       "      <td>8.0</td>\n",
       "      <td>0.00</td>\n",
       "      <td>2</td>\n",
       "      <td>1</td>\n",
       "      <td>0</td>\n",
       "      <td>138555.46</td>\n",
       "      <td>0</td>\n",
       "    </tr>\n",
       "    <tr>\n",
       "      <th>22</th>\n",
       "      <td>510</td>\n",
       "      <td>Spain</td>\n",
       "      <td>Female</td>\n",
       "      <td>38</td>\n",
       "      <td>4.0</td>\n",
       "      <td>0.00</td>\n",
       "      <td>1</td>\n",
       "      <td>1</td>\n",
       "      <td>0</td>\n",
       "      <td>118913.53</td>\n",
       "      <td>1</td>\n",
       "    </tr>\n",
       "    <tr>\n",
       "      <th>23</th>\n",
       "      <td>669</td>\n",
       "      <td>France</td>\n",
       "      <td>Male</td>\n",
       "      <td>46</td>\n",
       "      <td>3.0</td>\n",
       "      <td>0.00</td>\n",
       "      <td>2</td>\n",
       "      <td>0</td>\n",
       "      <td>1</td>\n",
       "      <td>8487.75</td>\n",
       "      <td>0</td>\n",
       "    </tr>\n",
       "    <tr>\n",
       "      <th>24</th>\n",
       "      <td>846</td>\n",
       "      <td>France</td>\n",
       "      <td>Female</td>\n",
       "      <td>38</td>\n",
       "      <td>5.0</td>\n",
       "      <td>0.00</td>\n",
       "      <td>1</td>\n",
       "      <td>1</td>\n",
       "      <td>1</td>\n",
       "      <td>187616.16</td>\n",
       "      <td>0</td>\n",
       "    </tr>\n",
       "    <tr>\n",
       "      <th>25</th>\n",
       "      <td>577</td>\n",
       "      <td>France</td>\n",
       "      <td>Male</td>\n",
       "      <td>25</td>\n",
       "      <td>3.0</td>\n",
       "      <td>0.00</td>\n",
       "      <td>2</td>\n",
       "      <td>0</td>\n",
       "      <td>1</td>\n",
       "      <td>124508.29</td>\n",
       "      <td>0</td>\n",
       "    </tr>\n",
       "    <tr>\n",
       "      <th>26</th>\n",
       "      <td>756</td>\n",
       "      <td>Germany</td>\n",
       "      <td>Male</td>\n",
       "      <td>36</td>\n",
       "      <td>2.0</td>\n",
       "      <td>136815.64</td>\n",
       "      <td>1</td>\n",
       "      <td>1</td>\n",
       "      <td>1</td>\n",
       "      <td>170041.95</td>\n",
       "      <td>0</td>\n",
       "    </tr>\n",
       "    <tr>\n",
       "      <th>27</th>\n",
       "      <td>571</td>\n",
       "      <td>France</td>\n",
       "      <td>Male</td>\n",
       "      <td>44</td>\n",
       "      <td>9.0</td>\n",
       "      <td>0.00</td>\n",
       "      <td>2</td>\n",
       "      <td>0</td>\n",
       "      <td>0</td>\n",
       "      <td>38433.35</td>\n",
       "      <td>0</td>\n",
       "    </tr>\n",
       "    <tr>\n",
       "      <th>28</th>\n",
       "      <td>574</td>\n",
       "      <td>Germany</td>\n",
       "      <td>Female</td>\n",
       "      <td>43</td>\n",
       "      <td>3.0</td>\n",
       "      <td>141349.43</td>\n",
       "      <td>1</td>\n",
       "      <td>1</td>\n",
       "      <td>1</td>\n",
       "      <td>100187.43</td>\n",
       "      <td>0</td>\n",
       "    </tr>\n",
       "    <tr>\n",
       "      <th>29</th>\n",
       "      <td>411</td>\n",
       "      <td>France</td>\n",
       "      <td>Male</td>\n",
       "      <td>29</td>\n",
       "      <td>0.0</td>\n",
       "      <td>59697.17</td>\n",
       "      <td>2</td>\n",
       "      <td>1</td>\n",
       "      <td>1</td>\n",
       "      <td>53483.21</td>\n",
       "      <td>0</td>\n",
       "    </tr>\n",
       "  </tbody>\n",
       "</table>\n",
       "</div>"
      ],
      "text/plain": [
       "    creditscore geography  gender  age  tenure    balance  numofproducts  \\\n",
       "0           619    France  Female   42     2.0       0.00              1   \n",
       "1           608     Spain  Female   41     1.0   83807.86              1   \n",
       "2           502    France  Female   42     8.0  159660.80              3   \n",
       "3           699    France  Female   39     1.0       0.00              2   \n",
       "4           850     Spain  Female   43     2.0  125510.82              1   \n",
       "5           645     Spain    Male   44     8.0  113755.78              2   \n",
       "6           822    France    Male   50     7.0       0.00              2   \n",
       "7           376   Germany  Female   29     4.0  115046.74              4   \n",
       "8           501    France    Male   44     4.0  142051.07              2   \n",
       "9           684    France    Male   27     2.0  134603.88              1   \n",
       "10          528    France    Male   31     6.0  102016.72              2   \n",
       "11          497     Spain    Male   24     3.0       0.00              2   \n",
       "12          476    France  Female   34    10.0       0.00              2   \n",
       "13          549    France  Female   25     5.0       0.00              2   \n",
       "14          635     Spain  Female   35     7.0       0.00              2   \n",
       "15          616   Germany    Male   45     3.0  143129.41              2   \n",
       "16          653   Germany    Male   58     1.0  132602.88              1   \n",
       "17          549     Spain  Female   24     9.0       0.00              2   \n",
       "18          587     Spain    Male   45     6.0       0.00              1   \n",
       "19          726    France  Female   24     6.0       0.00              2   \n",
       "20          732    France    Male   41     8.0       0.00              2   \n",
       "21          636     Spain  Female   32     8.0       0.00              2   \n",
       "22          510     Spain  Female   38     4.0       0.00              1   \n",
       "23          669    France    Male   46     3.0       0.00              2   \n",
       "24          846    France  Female   38     5.0       0.00              1   \n",
       "25          577    France    Male   25     3.0       0.00              2   \n",
       "26          756   Germany    Male   36     2.0  136815.64              1   \n",
       "27          571    France    Male   44     9.0       0.00              2   \n",
       "28          574   Germany  Female   43     3.0  141349.43              1   \n",
       "29          411    France    Male   29     0.0   59697.17              2   \n",
       "\n",
       "    hascrcard  isactivemember  estimatedsalary  exited  \n",
       "0           1               1        101348.88       1  \n",
       "1           0               1        112542.58       0  \n",
       "2           1               0        113931.57       1  \n",
       "3           0               0         93826.63       0  \n",
       "4           1               1         79084.10       0  \n",
       "5           1               0        149756.71       1  \n",
       "6           1               1         10062.80       0  \n",
       "7           1               0        119346.88       1  \n",
       "8           0               1         74940.50       0  \n",
       "9           1               1         71725.73       0  \n",
       "10          0               0         80181.12       0  \n",
       "11          1               0         76390.01       0  \n",
       "12          1               0         26260.98       0  \n",
       "13          0               0        190857.79       0  \n",
       "14          1               1         65951.65       0  \n",
       "15          0               1         64327.26       0  \n",
       "16          1               0          5097.67       1  \n",
       "17          1               1         14406.41       0  \n",
       "18          0               0        158684.81       0  \n",
       "19          1               1         54724.03       0  \n",
       "20          1               1        170886.17       0  \n",
       "21          1               0        138555.46       0  \n",
       "22          1               0        118913.53       1  \n",
       "23          0               1          8487.75       0  \n",
       "24          1               1        187616.16       0  \n",
       "25          0               1        124508.29       0  \n",
       "26          1               1        170041.95       0  \n",
       "27          0               0         38433.35       0  \n",
       "28          1               1        100187.43       0  \n",
       "29          1               1         53483.21       0  "
      ]
     },
     "metadata": {},
     "output_type": "display_data"
    },
    {
     "data": {
      "text/plain": [
       "creditscore        0\n",
       "geography          0\n",
       "gender             0\n",
       "age                0\n",
       "tenure             0\n",
       "balance            0\n",
       "numofproducts      0\n",
       "hascrcard          0\n",
       "isactivemember     0\n",
       "estimatedsalary    0\n",
       "exited             0\n",
       "dtype: int64"
      ]
     },
     "execution_count": 3,
     "metadata": {},
     "output_type": "execute_result"
    }
   ],
   "source": [
    "data.columns=data.columns.str.lower() \n",
    "data=data.drop(['rownumber','customerid','surname'], axis=1)\n",
    "display (data.head(30))\n",
    "tenure_median=data['tenure'].median()\n",
    "data['tenure']=data['tenure'].fillna(tenure_median)\n",
    "data.isna().sum()\n"
   ]
  },
  {
   "cell_type": "code",
   "execution_count": 4,
   "metadata": {},
   "outputs": [
    {
     "data": {
      "text/html": [
       "<div>\n",
       "<style scoped>\n",
       "    .dataframe tbody tr th:only-of-type {\n",
       "        vertical-align: middle;\n",
       "    }\n",
       "\n",
       "    .dataframe tbody tr th {\n",
       "        vertical-align: top;\n",
       "    }\n",
       "\n",
       "    .dataframe thead th {\n",
       "        text-align: right;\n",
       "    }\n",
       "</style>\n",
       "<table border=\"1\" class=\"dataframe\">\n",
       "  <thead>\n",
       "    <tr style=\"text-align: right;\">\n",
       "      <th></th>\n",
       "      <th>creditscore</th>\n",
       "      <th>age</th>\n",
       "      <th>tenure</th>\n",
       "      <th>balance</th>\n",
       "      <th>numofproducts</th>\n",
       "      <th>hascrcard</th>\n",
       "      <th>isactivemember</th>\n",
       "      <th>estimatedsalary</th>\n",
       "      <th>exited</th>\n",
       "      <th>geography_Germany</th>\n",
       "      <th>geography_Spain</th>\n",
       "      <th>gender_Male</th>\n",
       "    </tr>\n",
       "  </thead>\n",
       "  <tbody>\n",
       "    <tr>\n",
       "      <th>0</th>\n",
       "      <td>619</td>\n",
       "      <td>42</td>\n",
       "      <td>2.0</td>\n",
       "      <td>0.00</td>\n",
       "      <td>1</td>\n",
       "      <td>1</td>\n",
       "      <td>1</td>\n",
       "      <td>101348.88</td>\n",
       "      <td>1</td>\n",
       "      <td>0</td>\n",
       "      <td>0</td>\n",
       "      <td>0</td>\n",
       "    </tr>\n",
       "    <tr>\n",
       "      <th>1</th>\n",
       "      <td>608</td>\n",
       "      <td>41</td>\n",
       "      <td>1.0</td>\n",
       "      <td>83807.86</td>\n",
       "      <td>1</td>\n",
       "      <td>0</td>\n",
       "      <td>1</td>\n",
       "      <td>112542.58</td>\n",
       "      <td>0</td>\n",
       "      <td>0</td>\n",
       "      <td>1</td>\n",
       "      <td>0</td>\n",
       "    </tr>\n",
       "    <tr>\n",
       "      <th>2</th>\n",
       "      <td>502</td>\n",
       "      <td>42</td>\n",
       "      <td>8.0</td>\n",
       "      <td>159660.80</td>\n",
       "      <td>3</td>\n",
       "      <td>1</td>\n",
       "      <td>0</td>\n",
       "      <td>113931.57</td>\n",
       "      <td>1</td>\n",
       "      <td>0</td>\n",
       "      <td>0</td>\n",
       "      <td>0</td>\n",
       "    </tr>\n",
       "    <tr>\n",
       "      <th>3</th>\n",
       "      <td>699</td>\n",
       "      <td>39</td>\n",
       "      <td>1.0</td>\n",
       "      <td>0.00</td>\n",
       "      <td>2</td>\n",
       "      <td>0</td>\n",
       "      <td>0</td>\n",
       "      <td>93826.63</td>\n",
       "      <td>0</td>\n",
       "      <td>0</td>\n",
       "      <td>0</td>\n",
       "      <td>0</td>\n",
       "    </tr>\n",
       "    <tr>\n",
       "      <th>4</th>\n",
       "      <td>850</td>\n",
       "      <td>43</td>\n",
       "      <td>2.0</td>\n",
       "      <td>125510.82</td>\n",
       "      <td>1</td>\n",
       "      <td>1</td>\n",
       "      <td>1</td>\n",
       "      <td>79084.10</td>\n",
       "      <td>0</td>\n",
       "      <td>0</td>\n",
       "      <td>1</td>\n",
       "      <td>0</td>\n",
       "    </tr>\n",
       "  </tbody>\n",
       "</table>\n",
       "</div>"
      ],
      "text/plain": [
       "   creditscore  age  tenure    balance  numofproducts  hascrcard  \\\n",
       "0          619   42     2.0       0.00              1          1   \n",
       "1          608   41     1.0   83807.86              1          0   \n",
       "2          502   42     8.0  159660.80              3          1   \n",
       "3          699   39     1.0       0.00              2          0   \n",
       "4          850   43     2.0  125510.82              1          1   \n",
       "\n",
       "   isactivemember  estimatedsalary  exited  geography_Germany  \\\n",
       "0               1        101348.88       1                  0   \n",
       "1               1        112542.58       0                  0   \n",
       "2               0        113931.57       1                  0   \n",
       "3               0         93826.63       0                  0   \n",
       "4               1         79084.10       0                  0   \n",
       "\n",
       "   geography_Spain  gender_Male  \n",
       "0                0            0  \n",
       "1                1            0  \n",
       "2                0            0  \n",
       "3                0            0  \n",
       "4                1            0  "
      ]
     },
     "metadata": {},
     "output_type": "display_data"
    }
   ],
   "source": [
    "data_ohe = pd.get_dummies(data, drop_first=True)\n",
    "display (data_ohe.head())"
   ]
  },
  {
   "cell_type": "markdown",
   "metadata": {},
   "source": [
    "<div class=\"alert alert-info\">\n",
    "<font color='black'> <b> Приведем столбцы к нижнему регистру. Столбцы \"RowNumber\", \"CustomerId\", \"Surname \" не несут полезной информации для расчета задачи, можно их удалить.  Избавимся от пропусков в столбце \"Tenure\". На первый взгляд признак немаловажный, заменим на медианное значение. Применим технику прямого кодирования к столбцам типа \"object\" </font> <b>"
   ]
  },
  {
   "cell_type": "markdown",
   "metadata": {},
   "source": [
    "<div class=\"alert alert-block alert-success\">\n",
    "<b>Комментарий ревьюера👍:</b> Отлично, двигаемся дальше!\n",
    "</div>"
   ]
  },
  {
   "cell_type": "markdown",
   "metadata": {},
   "source": [
    "## Исследование задачи"
   ]
  },
  {
   "cell_type": "markdown",
   "metadata": {},
   "source": [
    "### Разобьем данные на тренировочную, проверочную и валидационную выборки. "
   ]
  },
  {
   "cell_type": "code",
   "execution_count": 5,
   "metadata": {},
   "outputs": [],
   "source": [
    "features = data_ohe.drop('exited', axis=1)\n",
    "target = data_ohe['exited']\n",
    "features_train, features_sum, target_train, target_sum= train_test_split(features, target, test_size=0.4, random_state=12345)\n",
    "features_val, features_test, target_val, target_test = train_test_split(features_sum, target_sum, test_size=0.5, random_state=12345)"
   ]
  },
  {
   "cell_type": "markdown",
   "metadata": {},
   "source": [
    "<div class=\"alert alert-block alert-success\">\n",
    "<b>Комментарий ревьюера👍:</b> Разделение на выборки произведено корректно в пропорции 3:1:1\n",
    "</div>"
   ]
  },
  {
   "cell_type": "markdown",
   "metadata": {},
   "source": [
    "### Модель дерева решений"
   ]
  },
  {
   "cell_type": "code",
   "execution_count": 6,
   "metadata": {},
   "outputs": [
    {
     "name": "stdout",
     "output_type": "stream",
     "text": [
      "Глубина дерева: 1     Качество тренировочной выборки: 0.8006666666666666\n",
      "Глубина дерева: 1     Качество валидационной выборки: 0     F1: 0.0\n",
      "Глубина дерева: 2     Качество тренировочной выборки: 0.8353333333333334\n",
      "Глубина дерева: 2     Качество валидационной выборки: 0.824     F1: 0.5217391304347825\n",
      "Глубина дерева: 3     Качество тренировочной выборки: 0.8463333333333334\n",
      "Глубина дерева: 3     Качество валидационной выборки: 0.824     F1: 0.4234875444839857\n",
      "Глубина дерева: 4     Качество тренировочной выборки: 0.856\n",
      "Глубина дерева: 4     Качество валидационной выборки: 0.852     F1: 0.5528700906344411\n",
      "Глубина дерева: 5     Качество тренировочной выборки: 0.8645\n",
      "Глубина дерева: 5     Качество валидационной выборки: 0.852     F1: 0.5406249999999999\n",
      "Глубина дерева: 6     Качество тренировочной выборки: 0.8723333333333333\n",
      "Глубина дерева: 6     Качество валидационной выборки: 0.858     F1: 0.5696969696969697\n",
      "Глубина дерева: 7     Качество тренировочной выборки: 0.8813333333333333\n",
      "Глубина дерева: 7     Качество валидационной выборки: 0.858     F1: 0.5320813771517998\n",
      "Глубина дерева: 8     Качество тренировочной выборки: 0.8886666666666667\n",
      "Глубина дерева: 8     Качество валидационной выборки: 0.858     F1: 0.5454545454545454\n",
      "Глубина дерева: 9     Качество тренировочной выборки: 0.8988333333333334\n",
      "Глубина дерева: 9     Качество валидационной выборки: 0.858     F1: 0.5633802816901409\n",
      "Лучшие параметры:      Глубина дерева: 6     Качество: 0.858     F1: 0.5696969696969697\n",
      "CPU times: user 238 ms, sys: 0 ns, total: 238 ms\n",
      "Wall time: 241 ms\n"
     ]
    }
   ],
   "source": [
    "%%time\n",
    "best_accuracy = 0\n",
    "best_depth = 0\n",
    "best_f1 = 0\n",
    "for depth in range(1,10):\n",
    "    model = DecisionTreeClassifier(max_depth=depth, random_state=12345)\n",
    "    model.fit(features_train, target_train)\n",
    "    accuracy_train = model.score(features_train, target_train)\n",
    "    accuracy_val = model.score(features_val, target_val)\n",
    "    predictions = model.predict(features_val)\n",
    "    f1 = f1_score(predictions, target_val)\n",
    "    if accuracy_val> best_accuracy and f1 > best_f1:\n",
    "        best_accuracy = accuracy_val\n",
    "        best_depth = depth\n",
    "        best_f1=f1\n",
    "    print(\"Глубина дерева:\", depth, \"    Качество тренировочной выборки:\", accuracy_train,)    \n",
    "    print(\"Глубина дерева:\", depth, \"    Качество валидационной выборки:\", best_accuracy, \"    F1:\", f1)\n",
    "print(\"Лучшие параметры:      Глубина дерева:\", best_depth, \"    Качество:\", best_accuracy, \"    F1:\", best_f1)"
   ]
  },
  {
   "cell_type": "markdown",
   "metadata": {},
   "source": [
    "<div class=\"alert alert-block alert-success\">\n",
    "<b>Комментарий ревьюера👍:</b> Для подбора оптимальных параметров можно использовать функции Gridsearchcv или Randomizedsearchcv. Статья про разницу между ними: https://towardsdatascience.com/gridsearchcv-or-randomsearchcv-5aa4acf5348c#:~:text=RandomSearchCV%20has%20the%20same%20purpose,parameters%20to%20improve%20your%20model.&text=The%20main%20difference%20between%20the,want%20to%20sample%20and%20test. И просто очень большая статья по их применению: https://machinelearningmastery.com/hyperparameter-optimization-with-random-search-and-grid-search/ Совсем обьемная статья с огромным количеством библиотек для подбора гиперпараметров: https://neptune.ai/blog/hyperparameter-tuning-in-python-complete-guide/. Ускоренная версия GridsearchCV https://towardsdatascience.com/20x-times-faster-grid-search-cross-validation-19ef01409b7c.\n",
    "</div>\n"
   ]
  },
  {
   "cell_type": "markdown",
   "metadata": {},
   "source": [
    "### Модель логистической регрессии"
   ]
  },
  {
   "cell_type": "code",
   "execution_count": 7,
   "metadata": {},
   "outputs": [
    {
     "name": "stdout",
     "output_type": "stream",
     "text": [
      "F1: 0.08786610878661089\n",
      "Качество: 0.782\n",
      "CPU times: user 716 ms, sys: 1.09 s, total: 1.8 s\n",
      "Wall time: 1.8 s\n"
     ]
    }
   ],
   "source": [
    "%%time\n",
    "model = LogisticRegression()\n",
    "model.fit(features_train, target_train)\n",
    "accuracy = model.score(features_val, target_val)\n",
    "predictions = model.predict(features_val)\n",
    "f1 = f1_score(predictions, target_val)\n",
    "print(\"F1:\", f1)\n",
    "print(\"Качество:\", accuracy)"
   ]
  },
  {
   "cell_type": "markdown",
   "metadata": {},
   "source": [
    "### Модель случайного леса"
   ]
  },
  {
   "cell_type": "code",
   "execution_count": 8,
   "metadata": {},
   "outputs": [
    {
     "name": "stdout",
     "output_type": "stream",
     "text": [
      "Количество деревьев: 1 Глубина дерева: 1     Качество тренировочной выборки: 0.8245\n",
      "Количество деревьев: 1 Глубина дерева: 1     Качество валидационной выборки: 0.8155     F1: 0.2484725050916497\n",
      "Количество деревьев: 2 Глубина дерева: 1     Качество тренировочной выборки: 0.8245\n",
      "Количество деревьев: 2 Глубина дерева: 1     Качество валидационной выборки: 0.8155     F1: 0.2484725050916497\n",
      "Количество деревьев: 3 Глубина дерева: 1     Качество тренировочной выборки: 0.8125\n",
      "Количество деревьев: 3 Глубина дерева: 1     Качество валидационной выборки: 0.8155     F1: 0.12107623318385652\n",
      "Количество деревьев: 4 Глубина дерева: 1     Качество тренировочной выборки: 0.8006666666666666\n",
      "Количество деревьев: 4 Глубина дерева: 1     Качество валидационной выборки: 0.8155     F1: 0.0\n",
      "Количество деревьев: 5 Глубина дерева: 1     Качество тренировочной выборки: 0.8158333333333333\n",
      "Количество деревьев: 5 Глубина дерева: 1     Качество валидационной выборки: 0.8155     F1: 0.12527964205816555\n",
      "Количество деревьев: 6 Глубина дерева: 1     Качество тренировочной выборки: 0.8006666666666666\n",
      "Количество деревьев: 6 Глубина дерева: 1     Качество валидационной выборки: 0.8155     F1: 0.0\n",
      "Количество деревьев: 7 Глубина дерева: 1     Качество тренировочной выборки: 0.8006666666666666\n",
      "Количество деревьев: 7 Глубина дерева: 1     Качество валидационной выборки: 0.8155     F1: 0.0\n",
      "Количество деревьев: 8 Глубина дерева: 1     Качество тренировочной выборки: 0.8006666666666666\n",
      "Количество деревьев: 8 Глубина дерева: 1     Качество валидационной выборки: 0.8155     F1: 0.0\n",
      "Количество деревьев: 9 Глубина дерева: 1     Качество тренировочной выборки: 0.8006666666666666\n",
      "Количество деревьев: 9 Глубина дерева: 1     Качество валидационной выборки: 0.8155     F1: 0.0\n",
      "Количество деревьев: 10 Глубина дерева: 1     Качество тренировочной выборки: 0.8006666666666666\n",
      "Количество деревьев: 10 Глубина дерева: 1     Качество валидационной выборки: 0.8155     F1: 0.0\n",
      "Количество деревьев: 11 Глубина дерева: 1     Качество тренировочной выборки: 0.8006666666666666\n",
      "Количество деревьев: 11 Глубина дерева: 1     Качество валидационной выборки: 0.8155     F1: 0.0\n",
      "Количество деревьев: 12 Глубина дерева: 1     Качество тренировочной выборки: 0.8006666666666666\n",
      "Количество деревьев: 12 Глубина дерева: 1     Качество валидационной выборки: 0.8155     F1: 0.0\n",
      "Количество деревьев: 13 Глубина дерева: 1     Качество тренировочной выборки: 0.8006666666666666\n",
      "Количество деревьев: 13 Глубина дерева: 1     Качество валидационной выборки: 0.8155     F1: 0.0\n",
      "Количество деревьев: 14 Глубина дерева: 1     Качество тренировочной выборки: 0.8006666666666666\n",
      "Количество деревьев: 14 Глубина дерева: 1     Качество валидационной выборки: 0.8155     F1: 0.0\n",
      "Количество деревьев: 15 Глубина дерева: 1     Качество тренировочной выборки: 0.8006666666666666\n",
      "Количество деревьев: 15 Глубина дерева: 1     Качество валидационной выборки: 0.8155     F1: 0.0\n",
      "Количество деревьев: 16 Глубина дерева: 1     Качество тренировочной выборки: 0.8006666666666666\n",
      "Количество деревьев: 16 Глубина дерева: 1     Качество валидационной выборки: 0.8155     F1: 0.0\n",
      "Количество деревьев: 17 Глубина дерева: 1     Качество тренировочной выборки: 0.8006666666666666\n",
      "Количество деревьев: 17 Глубина дерева: 1     Качество валидационной выборки: 0.8155     F1: 0.0\n",
      "Количество деревьев: 18 Глубина дерева: 1     Качество тренировочной выборки: 0.8006666666666666\n",
      "Количество деревьев: 18 Глубина дерева: 1     Качество валидационной выборки: 0.8155     F1: 0.0\n",
      "Количество деревьев: 19 Глубина дерева: 1     Качество тренировочной выборки: 0.8006666666666666\n",
      "Количество деревьев: 19 Глубина дерева: 1     Качество валидационной выборки: 0.8155     F1: 0.0\n",
      "Количество деревьев: 20 Глубина дерева: 1     Качество тренировочной выборки: 0.8006666666666666\n",
      "Количество деревьев: 20 Глубина дерева: 1     Качество валидационной выборки: 0.8155     F1: 0.0\n",
      "Количество деревьев: 21 Глубина дерева: 1     Качество тренировочной выборки: 0.8006666666666666\n",
      "Количество деревьев: 21 Глубина дерева: 1     Качество валидационной выборки: 0.8155     F1: 0.0\n",
      "Количество деревьев: 22 Глубина дерева: 1     Качество тренировочной выборки: 0.8006666666666666\n",
      "Количество деревьев: 22 Глубина дерева: 1     Качество валидационной выборки: 0.8155     F1: 0.0\n",
      "Количество деревьев: 23 Глубина дерева: 1     Качество тренировочной выборки: 0.8006666666666666\n",
      "Количество деревьев: 23 Глубина дерева: 1     Качество валидационной выборки: 0.8155     F1: 0.0\n",
      "Количество деревьев: 24 Глубина дерева: 1     Качество тренировочной выборки: 0.8006666666666666\n",
      "Количество деревьев: 24 Глубина дерева: 1     Качество валидационной выборки: 0.8155     F1: 0.0\n",
      "Количество деревьев: 25 Глубина дерева: 1     Качество тренировочной выборки: 0.8006666666666666\n",
      "Количество деревьев: 25 Глубина дерева: 1     Качество валидационной выборки: 0.8155     F1: 0.0\n",
      "Количество деревьев: 26 Глубина дерева: 1     Качество тренировочной выборки: 0.8006666666666666\n",
      "Количество деревьев: 26 Глубина дерева: 1     Качество валидационной выборки: 0.8155     F1: 0.0\n",
      "Количество деревьев: 27 Глубина дерева: 1     Качество тренировочной выборки: 0.8006666666666666\n",
      "Количество деревьев: 27 Глубина дерева: 1     Качество валидационной выборки: 0.8155     F1: 0.0\n",
      "Количество деревьев: 28 Глубина дерева: 1     Качество тренировочной выборки: 0.8006666666666666\n",
      "Количество деревьев: 28 Глубина дерева: 1     Качество валидационной выборки: 0.8155     F1: 0.0\n",
      "Количество деревьев: 29 Глубина дерева: 1     Качество тренировочной выборки: 0.8006666666666666\n",
      "Количество деревьев: 29 Глубина дерева: 1     Качество валидационной выборки: 0.8155     F1: 0.0\n",
      "Количество деревьев: 30 Глубина дерева: 1     Качество тренировочной выборки: 0.8006666666666666\n",
      "Количество деревьев: 30 Глубина дерева: 1     Качество валидационной выборки: 0.8155     F1: 0.0\n",
      "Количество деревьев: 31 Глубина дерева: 1     Качество тренировочной выборки: 0.8006666666666666\n",
      "Количество деревьев: 31 Глубина дерева: 1     Качество валидационной выборки: 0.8155     F1: 0.0\n",
      "Количество деревьев: 32 Глубина дерева: 1     Качество тренировочной выборки: 0.8006666666666666\n",
      "Количество деревьев: 32 Глубина дерева: 1     Качество валидационной выборки: 0.8155     F1: 0.0\n",
      "Количество деревьев: 33 Глубина дерева: 1     Качество тренировочной выборки: 0.8006666666666666\n",
      "Количество деревьев: 33 Глубина дерева: 1     Качество валидационной выборки: 0.8155     F1: 0.0\n",
      "Количество деревьев: 34 Глубина дерева: 1     Качество тренировочной выборки: 0.8006666666666666\n",
      "Количество деревьев: 34 Глубина дерева: 1     Качество валидационной выборки: 0.8155     F1: 0.0\n",
      "Количество деревьев: 35 Глубина дерева: 1     Качество тренировочной выборки: 0.8006666666666666\n",
      "Количество деревьев: 35 Глубина дерева: 1     Качество валидационной выборки: 0.8155     F1: 0.0\n",
      "Количество деревьев: 36 Глубина дерева: 1     Качество тренировочной выборки: 0.8006666666666666\n",
      "Количество деревьев: 36 Глубина дерева: 1     Качество валидационной выборки: 0.8155     F1: 0.0\n",
      "Количество деревьев: 37 Глубина дерева: 1     Качество тренировочной выборки: 0.8006666666666666\n",
      "Количество деревьев: 37 Глубина дерева: 1     Качество валидационной выборки: 0.8155     F1: 0.0\n",
      "Количество деревьев: 38 Глубина дерева: 1     Качество тренировочной выборки: 0.8006666666666666\n",
      "Количество деревьев: 38 Глубина дерева: 1     Качество валидационной выборки: 0.8155     F1: 0.0\n",
      "Количество деревьев: 39 Глубина дерева: 1     Качество тренировочной выборки: 0.8006666666666666\n",
      "Количество деревьев: 39 Глубина дерева: 1     Качество валидационной выборки: 0.8155     F1: 0.0\n",
      "Количество деревьев: 40 Глубина дерева: 1     Качество тренировочной выборки: 0.8006666666666666\n",
      "Количество деревьев: 40 Глубина дерева: 1     Качество валидационной выборки: 0.8155     F1: 0.0\n",
      "Количество деревьев: 41 Глубина дерева: 1     Качество тренировочной выборки: 0.8006666666666666\n",
      "Количество деревьев: 41 Глубина дерева: 1     Качество валидационной выборки: 0.8155     F1: 0.0\n",
      "Количество деревьев: 42 Глубина дерева: 1     Качество тренировочной выборки: 0.8006666666666666\n",
      "Количество деревьев: 42 Глубина дерева: 1     Качество валидационной выборки: 0.8155     F1: 0.0\n",
      "Количество деревьев: 43 Глубина дерева: 1     Качество тренировочной выборки: 0.8006666666666666\n",
      "Количество деревьев: 43 Глубина дерева: 1     Качество валидационной выборки: 0.8155     F1: 0.0\n",
      "Количество деревьев: 44 Глубина дерева: 1     Качество тренировочной выборки: 0.8006666666666666\n",
      "Количество деревьев: 44 Глубина дерева: 1     Качество валидационной выборки: 0.8155     F1: 0.0\n",
      "Количество деревьев: 45 Глубина дерева: 1     Качество тренировочной выборки: 0.8006666666666666\n",
      "Количество деревьев: 45 Глубина дерева: 1     Качество валидационной выборки: 0.8155     F1: 0.0\n",
      "Количество деревьев: 46 Глубина дерева: 1     Качество тренировочной выборки: 0.8006666666666666\n",
      "Количество деревьев: 46 Глубина дерева: 1     Качество валидационной выборки: 0.8155     F1: 0.0\n",
      "Количество деревьев: 47 Глубина дерева: 1     Качество тренировочной выборки: 0.8006666666666666\n",
      "Количество деревьев: 47 Глубина дерева: 1     Качество валидационной выборки: 0.8155     F1: 0.0\n",
      "Количество деревьев: 48 Глубина дерева: 1     Качество тренировочной выборки: 0.8006666666666666\n",
      "Количество деревьев: 48 Глубина дерева: 1     Качество валидационной выборки: 0.8155     F1: 0.0\n",
      "Количество деревьев: 49 Глубина дерева: 1     Качество тренировочной выборки: 0.8006666666666666\n",
      "Количество деревьев: 49 Глубина дерева: 1     Качество валидационной выборки: 0.8155     F1: 0.0\n",
      "Количество деревьев: 50 Глубина дерева: 1     Качество тренировочной выборки: 0.8006666666666666\n",
      "Количество деревьев: 50 Глубина дерева: 1     Качество валидационной выборки: 0.8155     F1: 0.0\n",
      "Количество деревьев: 51 Глубина дерева: 1     Качество тренировочной выборки: 0.8006666666666666\n",
      "Количество деревьев: 51 Глубина дерева: 1     Качество валидационной выборки: 0.8155     F1: 0.0\n",
      "Количество деревьев: 52 Глубина дерева: 1     Качество тренировочной выборки: 0.8006666666666666\n",
      "Количество деревьев: 52 Глубина дерева: 1     Качество валидационной выборки: 0.8155     F1: 0.0\n",
      "Количество деревьев: 53 Глубина дерева: 1     Качество тренировочной выборки: 0.8006666666666666\n",
      "Количество деревьев: 53 Глубина дерева: 1     Качество валидационной выборки: 0.8155     F1: 0.0\n",
      "Количество деревьев: 54 Глубина дерева: 1     Качество тренировочной выборки: 0.8006666666666666\n",
      "Количество деревьев: 54 Глубина дерева: 1     Качество валидационной выборки: 0.8155     F1: 0.0\n",
      "Количество деревьев: 55 Глубина дерева: 1     Качество тренировочной выборки: 0.8006666666666666\n",
      "Количество деревьев: 55 Глубина дерева: 1     Качество валидационной выборки: 0.8155     F1: 0.0\n",
      "Количество деревьев: 56 Глубина дерева: 1     Качество тренировочной выборки: 0.8006666666666666\n",
      "Количество деревьев: 56 Глубина дерева: 1     Качество валидационной выборки: 0.8155     F1: 0.0\n",
      "Количество деревьев: 57 Глубина дерева: 1     Качество тренировочной выборки: 0.8006666666666666\n",
      "Количество деревьев: 57 Глубина дерева: 1     Качество валидационной выборки: 0.8155     F1: 0.0\n",
      "Количество деревьев: 58 Глубина дерева: 1     Качество тренировочной выборки: 0.8006666666666666\n",
      "Количество деревьев: 58 Глубина дерева: 1     Качество валидационной выборки: 0.8155     F1: 0.0\n",
      "Количество деревьев: 59 Глубина дерева: 1     Качество тренировочной выборки: 0.8006666666666666\n",
      "Количество деревьев: 59 Глубина дерева: 1     Качество валидационной выборки: 0.8155     F1: 0.0\n",
      "Количество деревьев: 60 Глубина дерева: 1     Качество тренировочной выборки: 0.8006666666666666\n",
      "Количество деревьев: 60 Глубина дерева: 1     Качество валидационной выборки: 0.8155     F1: 0.0\n",
      "Количество деревьев: 61 Глубина дерева: 1     Качество тренировочной выборки: 0.8006666666666666\n",
      "Количество деревьев: 61 Глубина дерева: 1     Качество валидационной выборки: 0.8155     F1: 0.0\n",
      "Количество деревьев: 62 Глубина дерева: 1     Качество тренировочной выборки: 0.8006666666666666\n",
      "Количество деревьев: 62 Глубина дерева: 1     Качество валидационной выборки: 0.8155     F1: 0.0\n",
      "Количество деревьев: 63 Глубина дерева: 1     Качество тренировочной выборки: 0.8006666666666666\n",
      "Количество деревьев: 63 Глубина дерева: 1     Качество валидационной выборки: 0.8155     F1: 0.0\n",
      "Количество деревьев: 64 Глубина дерева: 1     Качество тренировочной выборки: 0.8006666666666666\n",
      "Количество деревьев: 64 Глубина дерева: 1     Качество валидационной выборки: 0.8155     F1: 0.0\n",
      "Количество деревьев: 65 Глубина дерева: 1     Качество тренировочной выборки: 0.8006666666666666\n",
      "Количество деревьев: 65 Глубина дерева: 1     Качество валидационной выборки: 0.8155     F1: 0.0\n",
      "Количество деревьев: 66 Глубина дерева: 1     Качество тренировочной выборки: 0.8006666666666666\n",
      "Количество деревьев: 66 Глубина дерева: 1     Качество валидационной выборки: 0.8155     F1: 0.0\n",
      "Количество деревьев: 67 Глубина дерева: 1     Качество тренировочной выборки: 0.8006666666666666\n",
      "Количество деревьев: 67 Глубина дерева: 1     Качество валидационной выборки: 0.8155     F1: 0.0\n",
      "Количество деревьев: 68 Глубина дерева: 1     Качество тренировочной выборки: 0.8006666666666666\n",
      "Количество деревьев: 68 Глубина дерева: 1     Качество валидационной выборки: 0.8155     F1: 0.0\n",
      "Количество деревьев: 69 Глубина дерева: 1     Качество тренировочной выборки: 0.8006666666666666\n",
      "Количество деревьев: 69 Глубина дерева: 1     Качество валидационной выборки: 0.8155     F1: 0.0\n",
      "Количество деревьев: 1 Глубина дерева: 2     Качество тренировочной выборки: 0.8245\n",
      "Количество деревьев: 1 Глубина дерева: 2     Качество валидационной выборки: 0.8155     F1: 0.2484725050916497\n",
      "Количество деревьев: 2 Глубина дерева: 2     Качество тренировочной выборки: 0.8248333333333333\n",
      "Количество деревьев: 2 Глубина дерева: 2     Качество валидационной выборки: 0.8155     F1: 0.225\n",
      "Количество деревьев: 3 Глубина дерева: 2     Качество тренировочной выборки: 0.8178333333333333\n",
      "Количество деревьев: 3 Глубина дерева: 2     Качество валидационной выборки: 0.8155     F1: 0.1294642857142857\n",
      "Количество деревьев: 4 Глубина дерева: 2     Качество тренировочной выборки: 0.8173333333333334\n",
      "Количество деревьев: 4 Глубина дерева: 2     Качество валидационной выборки: 0.8155     F1: 0.1294642857142857\n",
      "Количество деревьев: 5 Глубина дерева: 2     Качество тренировочной выборки: 0.8175\n",
      "Количество деревьев: 5 Глубина дерева: 2     Качество валидационной выборки: 0.8155     F1: 0.1294642857142857\n",
      "Количество деревьев: 6 Глубина дерева: 2     Качество тренировочной выборки: 0.8236666666666667\n",
      "Количество деревьев: 6 Глубина дерева: 2     Качество валидационной выборки: 0.8155     F1: 0.20718816067653276\n",
      "Количество деревьев: 7 Глубина дерева: 2     Качество тренировочной выборки: 0.8216666666666667\n",
      "Количество деревьев: 7 Глубина дерева: 2     Качество валидационной выборки: 0.8155     F1: 0.2\n",
      "Количество деревьев: 8 Глубина дерева: 2     Качество тренировочной выборки: 0.8216666666666667\n",
      "Количество деревьев: 8 Глубина дерева: 2     Качество валидационной выборки: 0.8155     F1: 0.2\n",
      "Количество деревьев: 9 Глубина дерева: 2     Качество тренировочной выборки: 0.823\n",
      "Количество деревьев: 9 Глубина дерева: 2     Качество валидационной выборки: 0.8155     F1: 0.20762711864406783\n",
      "Количество деревьев: 10 Глубина дерева: 2     Качество тренировочной выборки: 0.8216666666666667\n",
      "Количество деревьев: 10 Глубина дерева: 2     Качество валидационной выборки: 0.8155     F1: 0.2\n",
      "Количество деревьев: 11 Глубина дерева: 2     Качество тренировочной выборки: 0.821\n",
      "Количество деревьев: 11 Глубина дерева: 2     Качество валидационной выборки: 0.8155     F1: 0.19313304721030045\n",
      "Количество деревьев: 12 Глубина дерева: 2     Качество тренировочной выборки: 0.8216666666666667\n",
      "Количество деревьев: 12 Глубина дерева: 2     Качество валидационной выборки: 0.8155     F1: 0.2\n",
      "Количество деревьев: 13 Глубина дерева: 2     Качество тренировочной выборки: 0.8216666666666667\n",
      "Количество деревьев: 13 Глубина дерева: 2     Качество валидационной выборки: 0.8155     F1: 0.2\n",
      "Количество деревьев: 14 Глубина дерева: 2     Качество тренировочной выборки: 0.8216666666666667\n",
      "Количество деревьев: 14 Глубина дерева: 2     Качество валидационной выборки: 0.8155     F1: 0.2\n",
      "Количество деревьев: 15 Глубина дерева: 2     Качество тренировочной выборки: 0.8216666666666667\n",
      "Количество деревьев: 15 Глубина дерева: 2     Качество валидационной выборки: 0.8155     F1: 0.20042643923240938\n",
      "Количество деревьев: 16 Глубина дерева: 2     Качество тренировочной выборки: 0.821\n",
      "Количество деревьев: 16 Глубина дерева: 2     Качество валидационной выборки: 0.8155     F1: 0.1853448275862069\n",
      "Количество деревьев: 17 Глубина дерева: 2     Качество тренировочной выборки: 0.8216666666666667\n",
      "Количество деревьев: 17 Глубина дерева: 2     Качество валидационной выборки: 0.8155     F1: 0.20042643923240938\n",
      "Количество деревьев: 18 Глубина дерева: 2     Качество тренировочной выборки: 0.8213333333333334\n",
      "Количество деревьев: 18 Глубина дерева: 2     Качество валидационной выборки: 0.8155     F1: 0.1965811965811966\n",
      "Количество деревьев: 19 Глубина дерева: 2     Качество тренировочной выборки: 0.8206666666666667\n",
      "Количество деревьев: 19 Глубина дерева: 2     Качество валидационной выборки: 0.8155     F1: 0.17748917748917747\n",
      "Количество деревьев: 20 Глубина дерева: 2     Качество тренировочной выборки: 0.819\n",
      "Количество деревьев: 20 Глубина дерева: 2     Качество валидационной выборки: 0.8155     F1: 0.15789473684210525\n",
      "Количество деревьев: 21 Глубина дерева: 2     Качество тренировочной выборки: 0.818\n",
      "Количество деревьев: 21 Глубина дерева: 2     Качество валидационной выборки: 0.8155     F1: 0.1377777777777778\n",
      "Количество деревьев: 22 Глубина дерева: 2     Качество тренировочной выборки: 0.8175\n",
      "Количество деревьев: 22 Глубина дерева: 2     Качество валидационной выборки: 0.8155     F1: 0.133630289532294\n",
      "Количество деревьев: 23 Глубина дерева: 2     Качество тренировочной выборки: 0.818\n",
      "Количество деревьев: 23 Глубина дерева: 2     Качество валидационной выборки: 0.8155     F1: 0.1377777777777778\n",
      "Количество деревьев: 24 Глубина дерева: 2     Качество тренировочной выборки: 0.8193333333333334\n",
      "Количество деревьев: 24 Глубина дерева: 2     Качество валидационной выборки: 0.8155     F1: 0.16192560175054704\n",
      "Количество деревьев: 25 Глубина дерева: 2     Качество тренировочной выборки: 0.8178333333333333\n",
      "Количество деревьев: 25 Глубина дерева: 2     Качество валидационной выборки: 0.8155     F1: 0.133630289532294\n",
      "Количество деревьев: 26 Глубина дерева: 2     Качество тренировочной выборки: 0.8185\n",
      "Количество деревьев: 26 Глубина дерева: 2     Качество валидационной выборки: 0.8155     F1: 0.1377777777777778\n",
      "Количество деревьев: 27 Глубина дерева: 2     Качество тренировочной выборки: 0.8208333333333333\n",
      "Количество деревьев: 27 Глубина дерева: 2     Качество валидационной выборки: 0.8155     F1: 0.16993464052287582\n",
      "Количество деревьев: 28 Глубина дерева: 2     Качество тренировочной выборки: 0.8201666666666667\n",
      "Количество деревьев: 28 Глубина дерева: 2     Качество валидационной выборки: 0.8155     F1: 0.15824175824175826\n",
      "Количество деревьев: 29 Глубина дерева: 2     Качество тренировочной выборки: 0.8175\n",
      "Количество деревьев: 29 Глубина дерева: 2     Качество валидационной выборки: 0.8155     F1: 0.133630289532294\n",
      "Количество деревьев: 30 Глубина дерева: 2     Качество тренировочной выборки: 0.8186666666666667\n",
      "Количество деревьев: 30 Глубина дерева: 2     Качество валидационной выборки: 0.8155     F1: 0.14222222222222222\n",
      "Количество деревьев: 31 Глубина дерева: 2     Качество тренировочной выборки: 0.8178333333333333\n",
      "Количество деревьев: 31 Глубина дерева: 2     Качество валидационной выборки: 0.8155     F1: 0.13392857142857142\n",
      "Количество деревьев: 32 Глубина дерева: 2     Качество тренировочной выборки: 0.8193333333333334\n",
      "Количество деревьев: 32 Глубина дерева: 2     Качество валидационной выборки: 0.8155     F1: 0.15418502202643172\n",
      "Количество деревьев: 33 Глубина дерева: 2     Качество тренировочной выборки: 0.8173333333333334\n",
      "Количество деревьев: 33 Глубина дерева: 2     Качество валидационной выборки: 0.8155     F1: 0.14222222222222222\n",
      "Количество деревьев: 34 Глубина дерева: 2     Качество тренировочной выборки: 0.8201666666666667\n",
      "Количество деревьев: 34 Глубина дерева: 2     Качество валидационной выборки: 0.8155     F1: 0.16228070175438597\n",
      "Количество деревьев: 35 Глубина дерева: 2     Качество тренировочной выборки: 0.8213333333333334\n",
      "Количество деревьев: 35 Глубина дерева: 2     Качество валидационной выборки: 0.8155     F1: 0.17391304347826086\n",
      "Количество деревьев: 36 Глубина дерева: 2     Качество тренировочной выборки: 0.8218333333333333\n",
      "Количество деревьев: 36 Глубина дерева: 2     Качество валидационной выборки: 0.8155     F1: 0.1857451403887689\n",
      "Количество деревьев: 37 Глубина дерева: 2     Качество тренировочной выборки: 0.8218333333333333\n",
      "Количество деревьев: 37 Глубина дерева: 2     Качество валидационной выборки: 0.8155     F1: 0.189247311827957\n",
      "Количество деревьев: 38 Глубина дерева: 2     Качество тренировочной выборки: 0.8218333333333333\n",
      "Количество деревьев: 38 Глубина дерева: 2     Качество валидационной выборки: 0.8155     F1: 0.18181818181818182\n",
      "Количество деревьев: 39 Глубина дерева: 2     Качество тренировочной выборки: 0.8211666666666667\n",
      "Количество деревьев: 39 Глубина дерева: 2     Качество валидационной выборки: 0.8155     F1: 0.17391304347826086\n",
      "Количество деревьев: 40 Глубина дерева: 2     Качество тренировочной выборки: 0.821\n",
      "Количество деревьев: 40 Глубина дерева: 2     Качество валидационной выборки: 0.8155     F1: 0.17391304347826086\n",
      "Количество деревьев: 41 Глубина дерева: 2     Качество тренировочной выборки: 0.82\n",
      "Количество деревьев: 41 Глубина дерева: 2     Качество валидационной выборки: 0.8155     F1: 0.15789473684210525\n",
      "Количество деревьев: 42 Глубина дерева: 2     Качество тренировочной выборки: 0.8213333333333334\n",
      "Количество деревьев: 42 Глубина дерева: 2     Качество валидационной выборки: 0.8155     F1: 0.18181818181818182\n",
      "Количество деревьев: 43 Глубина дерева: 2     Качество тренировочной выборки: 0.8206666666666667\n",
      "Количество деревьев: 43 Глубина дерева: 2     Качество валидационной выборки: 0.8155     F1: 0.165938864628821\n",
      "Количество деревьев: 44 Глубина дерева: 2     Качество тренировочной выборки: 0.8213333333333334\n",
      "Количество деревьев: 44 Глубина дерева: 2     Качество валидационной выборки: 0.8155     F1: 0.18181818181818182\n",
      "Количество деревьев: 45 Глубина дерева: 2     Качество тренировочной выборки: 0.8213333333333334\n",
      "Количество деревьев: 45 Глубина дерева: 2     Качество валидационной выборки: 0.8155     F1: 0.18181818181818182\n",
      "Количество деревьев: 46 Глубина дерева: 2     Качество тренировочной выборки: 0.8211666666666667\n",
      "Количество деревьев: 46 Глубина дерева: 2     Качество валидационной выборки: 0.8155     F1: 0.1853448275862069\n",
      "Количество деревьев: 47 Глубина дерева: 2     Качество тренировочной выборки: 0.8211666666666667\n",
      "Количество деревьев: 47 Глубина дерева: 2     Качество валидационной выборки: 0.8155     F1: 0.18181818181818182\n",
      "Количество деревьев: 48 Глубина дерева: 2     Качество тренировочной выборки: 0.8208333333333333\n",
      "Количество деревьев: 48 Глубина дерева: 2     Качество валидационной выборки: 0.8155     F1: 0.16993464052287582\n",
      "Количество деревьев: 49 Глубина дерева: 2     Качество тренировочной выборки: 0.8211666666666667\n",
      "Количество деревьев: 49 Глубина дерева: 2     Качество валидационной выборки: 0.8155     F1: 0.18181818181818182\n",
      "Количество деревьев: 50 Глубина дерева: 2     Качество тренировочной выборки: 0.8211666666666667\n",
      "Количество деревьев: 50 Глубина дерева: 2     Качество валидационной выборки: 0.8155     F1: 0.1853448275862069\n",
      "Количество деревьев: 51 Глубина дерева: 2     Качество тренировочной выборки: 0.8213333333333334\n",
      "Количество деревьев: 51 Глубина дерева: 2     Качество валидационной выборки: 0.8155     F1: 0.1822125813449024\n",
      "Количество деревьев: 52 Глубина дерева: 2     Качество тренировочной выборки: 0.8213333333333334\n",
      "Количество деревьев: 52 Глубина дерева: 2     Качество валидационной выборки: 0.8155     F1: 0.1822125813449024\n",
      "Количество деревьев: 53 Глубина дерева: 2     Качество тренировочной выборки: 0.821\n",
      "Количество деревьев: 53 Глубина дерева: 2     Качество валидационной выборки: 0.8155     F1: 0.17030567685589518\n",
      "Количество деревьев: 54 Глубина дерева: 2     Качество тренировочной выборки: 0.82\n",
      "Количество деревьев: 54 Глубина дерева: 2     Качество валидационной выборки: 0.8155     F1: 0.16630196936542668\n",
      "Количество деревьев: 55 Глубина дерева: 2     Качество тренировочной выборки: 0.8198333333333333\n",
      "Количество деревьев: 55 Глубина дерева: 2     Качество валидационной выборки: 0.8155     F1: 0.14601769911504425\n",
      "Количество деревьев: 56 Глубина дерева: 2     Качество тренировочной выборки: 0.8188333333333333\n",
      "Количество деревьев: 56 Глубина дерева: 2     Качество валидационной выборки: 0.8155     F1: 0.13392857142857142\n",
      "Количество деревьев: 57 Глубина дерева: 2     Качество тренировочной выборки: 0.8196666666666667\n",
      "Количество деревьев: 57 Глубина дерева: 2     Качество валидационной выборки: 0.8155     F1: 0.15011037527593818\n",
      "Количество деревьев: 58 Глубина дерева: 2     Качество тренировочной выборки: 0.8188333333333333\n",
      "Количество деревьев: 58 Глубина дерева: 2     Качество валидационной выборки: 0.8155     F1: 0.14601769911504425\n",
      "Количество деревьев: 59 Глубина дерева: 2     Качество тренировочной выборки: 0.8185\n",
      "Количество деревьев: 59 Глубина дерева: 2     Качество валидационной выборки: 0.8155     F1: 0.1380846325167038\n",
      "Количество деревьев: 60 Глубина дерева: 2     Качество тренировочной выборки: 0.8196666666666667\n",
      "Количество деревьев: 60 Глубина дерева: 2     Качество валидационной выборки: 0.8155     F1: 0.15418502202643172\n",
      "Количество деревьев: 61 Глубина дерева: 2     Качество тренировочной выборки: 0.8198333333333333\n",
      "Количество деревьев: 61 Глубина дерева: 2     Качество валидационной выборки: 0.8155     F1: 0.16192560175054704\n",
      "Количество деревьев: 62 Глубина дерева: 2     Качество тренировочной выборки: 0.8196666666666667\n",
      "Количество деревьев: 62 Глубина дерева: 2     Качество валидационной выборки: 0.8155     F1: 0.16228070175438597\n",
      "Количество деревьев: 63 Глубина дерева: 2     Качество тренировочной выборки: 0.8188333333333333\n",
      "Количество деревьев: 63 Глубина дерева: 2     Качество валидационной выборки: 0.8155     F1: 0.1419068736141907\n",
      "Количество деревьев: 64 Глубина дерева: 2     Качество тренировочной выборки: 0.8185\n",
      "Количество деревьев: 64 Глубина дерева: 2     Качество валидационной выборки: 0.8155     F1: 0.133630289532294\n",
      "Количество деревьев: 65 Глубина дерева: 2     Качество тренировочной выборки: 0.8178333333333333\n",
      "Количество деревьев: 65 Глубина дерева: 2     Качество валидационной выборки: 0.8155     F1: 0.13392857142857142\n",
      "Количество деревьев: 66 Глубина дерева: 2     Качество тренировочной выборки: 0.8178333333333333\n",
      "Количество деревьев: 66 Глубина дерева: 2     Качество валидационной выборки: 0.8155     F1: 0.12975391498881433\n",
      "Количество деревьев: 67 Глубина дерева: 2     Качество тренировочной выборки: 0.8166666666666667\n",
      "Количество деревьев: 67 Глубина дерева: 2     Качество валидационной выборки: 0.8155     F1: 0.12975391498881433\n",
      "Количество деревьев: 68 Глубина дерева: 2     Качество тренировочной выборки: 0.8163333333333334\n",
      "Количество деревьев: 68 Глубина дерева: 2     Качество валидационной выборки: 0.8155     F1: 0.12975391498881433\n",
      "Количество деревьев: 69 Глубина дерева: 2     Качество тренировочной выборки: 0.8163333333333334\n",
      "Количество деревьев: 69 Глубина дерева: 2     Качество валидационной выборки: 0.8155     F1: 0.11286681715575622\n",
      "Количество деревьев: 1 Глубина дерева: 3     Качество тренировочной выборки: 0.8253333333333334\n",
      "Количество деревьев: 1 Глубина дерева: 3     Качество валидационной выборки: 0.8155     F1: 0.22268041237113403\n",
      "Количество деревьев: 2 Глубина дерева: 3     Качество тренировочной выборки: 0.8271666666666667\n",
      "Количество деревьев: 2 Глубина дерева: 3     Качество валидационной выборки: 0.8155     F1: 0.2318840579710145\n",
      "Количество деревьев: 3 Глубина дерева: 3     Качество тренировочной выборки: 0.836\n",
      "Количество деревьев: 3 Глубина дерева: 3     Качество валидационной выборки: 0.8185     F1: 0.4\n",
      "Количество деревьев: 4 Глубина дерева: 3     Качество тренировочной выборки: 0.8416666666666667\n",
      "Количество деревьев: 4 Глубина дерева: 3     Качество валидационной выборки: 0.8185     F1: 0.34146341463414626\n",
      "Количество деревьев: 5 Глубина дерева: 3     Качество тренировочной выборки: 0.844\n",
      "Количество деревьев: 5 Глубина дерева: 3     Качество валидационной выборки: 0.8185     F1: 0.362962962962963\n",
      "Количество деревьев: 6 Глубина дерева: 3     Качество тренировочной выборки: 0.8455\n",
      "Количество деревьев: 6 Глубина дерева: 3     Качество валидационной выборки: 0.8185     F1: 0.3795620437956204\n",
      "Количество деревьев: 7 Глубина дерева: 3     Качество тренировочной выборки: 0.8456666666666667\n",
      "Количество деревьев: 7 Глубина дерева: 3     Качество валидационной выборки: 0.8185     F1: 0.3788706739526412\n",
      "Количество деревьев: 8 Глубина дерева: 3     Качество тренировочной выборки: 0.8263333333333334\n",
      "Количество деревьев: 8 Глубина дерева: 3     Качество валидационной выборки: 0.8185     F1: 0.24793388429752067\n",
      "Количество деревьев: 9 Глубина дерева: 3     Качество тренировочной выборки: 0.8265\n",
      "Количество деревьев: 9 Глубина дерева: 3     Качество валидационной выборки: 0.8185     F1: 0.25102880658436216\n",
      "Количество деревьев: 10 Глубина дерева: 3     Качество тренировочной выборки: 0.8263333333333334\n",
      "Количество деревьев: 10 Глубина дерева: 3     Качество валидационной выборки: 0.8185     F1: 0.25102880658436216\n",
      "Количество деревьев: 11 Глубина дерева: 3     Качество тренировочной выборки: 0.8261666666666667\n",
      "Количество деревьев: 11 Глубина дерева: 3     Качество валидационной выборки: 0.8185     F1: 0.237006237006237\n",
      "Количество деревьев: 12 Глубина дерева: 3     Качество тренировочной выборки: 0.8265\n",
      "Количество деревьев: 12 Глубина дерева: 3     Качество валидационной выборки: 0.8185     F1: 0.24793388429752067\n",
      "Количество деревьев: 13 Глубина дерева: 3     Качество тренировочной выборки: 0.8256666666666667\n",
      "Количество деревьев: 13 Глубина дерева: 3     Качество валидационной выборки: 0.8185     F1: 0.24742268041237114\n",
      "Количество деревьев: 14 Глубина дерева: 3     Качество тренировочной выборки: 0.8251666666666667\n",
      "Количество деревьев: 14 Глубина дерева: 3     Качество валидационной выборки: 0.8185     F1: 0.24793388429752067\n",
      "Количество деревьев: 15 Глубина дерева: 3     Качество тренировочной выборки: 0.8256666666666667\n",
      "Количество деревьев: 15 Глубина дерева: 3     Качество валидационной выборки: 0.8185     F1: 0.24430641821946172\n",
      "Количество деревьев: 16 Глубина дерева: 3     Качество тренировочной выборки: 0.825\n",
      "Количество деревьев: 16 Глубина дерева: 3     Качество валидационной выборки: 0.8185     F1: 0.22964509394572025\n",
      "Количество деревьев: 17 Глубина дерева: 3     Качество тренировочной выборки: 0.8245\n",
      "Количество деревьев: 17 Глубина дерева: 3     Качество валидационной выборки: 0.8185     F1: 0.22641509433962267\n",
      "Количество деревьев: 18 Глубина дерева: 3     Качество тренировочной выборки: 0.8251666666666667\n",
      "Количество деревьев: 18 Глубина дерева: 3     Качество валидационной выборки: 0.8185     F1: 0.237006237006237\n",
      "Количество деревьев: 19 Глубина дерева: 3     Качество тренировочной выборки: 0.8248333333333333\n",
      "Количество деревьев: 19 Глубина дерева: 3     Качество валидационной выборки: 0.8185     F1: 0.22964509394572025\n",
      "Количество деревьев: 20 Глубина дерева: 3     Качество тренировочной выборки: 0.8253333333333334\n",
      "Количество деревьев: 20 Глубина дерева: 3     Качество валидационной выборки: 0.8185     F1: 0.23284823284823286\n",
      "Количество деревьев: 21 Глубина дерева: 3     Качество тренировочной выборки: 0.8253333333333334\n",
      "Количество деревьев: 21 Глубина дерева: 3     Качество валидационной выборки: 0.8185     F1: 0.2401656314699793\n",
      "Количество деревьев: 22 Глубина дерева: 3     Качество тренировочной выборки: 0.8255\n",
      "Количество деревьев: 22 Глубина дерева: 3     Качество валидационной выборки: 0.8185     F1: 0.23651452282157678\n",
      "Количество деревьев: 23 Глубина дерева: 3     Качество тренировочной выборки: 0.8251666666666667\n",
      "Количество деревьев: 23 Глубина дерева: 3     Качество валидационной выборки: 0.8185     F1: 0.23284823284823286\n",
      "Количество деревьев: 24 Глубина дерева: 3     Качество тренировочной выборки: 0.8255\n",
      "Количество деревьев: 24 Глубина дерева: 3     Качество валидационной выборки: 0.8185     F1: 0.23333333333333336\n",
      "Количество деревьев: 25 Глубина дерева: 3     Качество тренировочной выборки: 0.8253333333333334\n",
      "Количество деревьев: 25 Глубина дерева: 3     Качество валидационной выборки: 0.8185     F1: 0.22964509394572025\n",
      "Количество деревьев: 26 Глубина дерева: 3     Качество тренировочной выборки: 0.8255\n",
      "Количество деревьев: 26 Глубина дерева: 3     Качество валидационной выборки: 0.8185     F1: 0.23012552301255226\n",
      "Количество деревьев: 27 Глубина дерева: 3     Качество тренировочной выборки: 0.8251666666666667\n",
      "Количество деревьев: 27 Глубина дерева: 3     Качество валидационной выборки: 0.8185     F1: 0.22641509433962267\n",
      "Количество деревьев: 28 Глубина дерева: 3     Качество тренировочной выборки: 0.8275\n",
      "Количество деревьев: 28 Глубина дерева: 3     Качество валидационной выборки: 0.8185     F1: 0.23430962343096237\n",
      "Количество деревьев: 29 Глубина дерева: 3     Качество тренировочной выборки: 0.8266666666666667\n",
      "Количество деревьев: 29 Глубина дерева: 3     Качество валидационной выборки: 0.8185     F1: 0.22362869198312232\n",
      "Количество деревьев: 30 Глубина дерева: 3     Качество тренировочной выборки: 0.8261666666666667\n",
      "Количество деревьев: 30 Глубина дерева: 3     Качество валидационной выборки: 0.8185     F1: 0.22268907563025211\n",
      "Количество деревьев: 31 Глубина дерева: 3     Качество тренировочной выборки: 0.8288333333333333\n",
      "Количество деревьев: 31 Глубина дерева: 3     Качество валидационной выборки: 0.8185     F1: 0.24166666666666667\n",
      "Количество деревьев: 32 Глубина дерева: 3     Качество тренировочной выборки: 0.8268333333333333\n",
      "Количество деревьев: 32 Глубина дерева: 3     Качество валидационной выборки: 0.8185     F1: 0.22268907563025211\n",
      "Количество деревьев: 33 Глубина дерева: 3     Качество тренировочной выборки: 0.8253333333333334\n",
      "Количество деревьев: 33 Глубина дерева: 3     Качество валидационной выборки: 0.8185     F1: 0.2198731501057082\n",
      "Количество деревьев: 34 Глубина дерева: 3     Качество тренировочной выборки: 0.8268333333333333\n",
      "Количество деревьев: 34 Глубина дерева: 3     Качество валидационной выборки: 0.8185     F1: 0.22268907563025211\n",
      "Количество деревьев: 35 Глубина дерева: 3     Качество тренировочной выборки: 0.8266666666666667\n",
      "Количество деревьев: 35 Глубина дерева: 3     Качество валидационной выборки: 0.8185     F1: 0.23012552301255226\n",
      "Количество деревьев: 36 Глубина дерева: 3     Качество тренировочной выборки: 0.8258333333333333\n",
      "Количество деревьев: 36 Глубина дерева: 3     Качество валидационной выборки: 0.8185     F1: 0.23382045929018794\n",
      "Количество деревьев: 37 Глубина дерева: 3     Качество тренировочной выборки: 0.8258333333333333\n",
      "Количество деревьев: 37 Глубина дерева: 3     Качество валидационной выборки: 0.8185     F1: 0.22641509433962267\n",
      "Количество деревьев: 38 Глубина дерева: 3     Качество тренировочной выборки: 0.8265\n",
      "Количество деревьев: 38 Глубина дерева: 3     Качество валидационной выборки: 0.8185     F1: 0.22641509433962267\n",
      "Количество деревьев: 39 Глубина дерева: 3     Качество тренировочной выборки: 0.8265\n",
      "Количество деревьев: 39 Глубина дерева: 3     Качество валидационной выборки: 0.8185     F1: 0.22315789473684208\n",
      "Количество деревьев: 40 Глубина дерева: 3     Качество тренировочной выборки: 0.8265\n",
      "Количество деревьев: 40 Глубина дерева: 3     Качество валидационной выборки: 0.8185     F1: 0.22315789473684208\n",
      "Количество деревьев: 41 Глубина дерева: 3     Качество тренировочной выборки: 0.828\n",
      "Количество деревьев: 41 Глубина дерева: 3     Качество валидационной выборки: 0.8185     F1: 0.23012552301255226\n",
      "Количество деревьев: 42 Глубина дерева: 3     Качество тренировочной выборки: 0.8306666666666667\n",
      "Количество деревьев: 42 Глубина дерева: 3     Качество валидационной выборки: 0.8185     F1: 0.2520661157024794\n",
      "Количество деревьев: 43 Глубина дерева: 3     Качество тренировочной выборки: 0.8306666666666667\n",
      "Количество деревьев: 43 Глубина дерева: 3     Качество валидационной выборки: 0.8185     F1: 0.24793388429752067\n",
      "Количество деревьев: 44 Глубина дерева: 3     Качество тренировочной выборки: 0.8286666666666667\n",
      "Количество деревьев: 44 Глубина дерева: 3     Качество валидационной выборки: 0.8185     F1: 0.23749999999999996\n",
      "Количество деревьев: 45 Глубина дерева: 3     Качество тренировочной выборки: 0.8335\n",
      "Количество деревьев: 45 Глубина дерева: 3     Качество валидационной выборки: 0.8185     F1: 0.2693877551020408\n",
      "Количество деревьев: 46 Глубина дерева: 3     Качество тренировочной выборки: 0.8326666666666667\n",
      "Количество деревьев: 46 Глубина дерева: 3     Качество валидационной выборки: 0.8185     F1: 0.26283367556468173\n",
      "Количество деревьев: 47 Глубина дерева: 3     Качество тренировочной выборки: 0.8336666666666667\n",
      "Количество деревьев: 47 Глубина дерева: 3     Качество валидационной выборки: 0.8185     F1: 0.26639344262295084\n",
      "Количество деревьев: 48 Глубина дерева: 3     Качество тренировочной выборки: 0.8346666666666667\n",
      "Количество деревьев: 48 Глубина дерева: 3     Качество валидационной выборки: 0.8185     F1: 0.26993865030674846\n",
      "Количество деревьев: 49 Глубина дерева: 3     Качество тренировочной выборки: 0.8351666666666666\n",
      "Количество деревьев: 49 Глубина дерева: 3     Качество валидационной выборки: 0.8185     F1: 0.2734693877551021\n",
      "Количество деревьев: 50 Глубина дерева: 3     Качество тренировочной выборки: 0.8338333333333333\n",
      "Количество деревьев: 50 Глубина дерева: 3     Качество валидационной выборки: 0.8185     F1: 0.26993865030674846\n",
      "Количество деревьев: 51 Глубина дерева: 3     Качество тренировочной выборки: 0.833\n",
      "Количество деревьев: 51 Глубина дерева: 3     Качество валидационной выборки: 0.8185     F1: 0.26283367556468173\n",
      "Количество деревьев: 52 Глубина дерева: 3     Качество тренировочной выборки: 0.8321666666666667\n",
      "Количество деревьев: 52 Глубина дерева: 3     Качество валидационной выборки: 0.8185     F1: 0.2556701030927835\n",
      "Количество деревьев: 53 Глубина дерева: 3     Качество тренировочной выборки: 0.8291666666666667\n",
      "Количество деревьев: 53 Глубина дерева: 3     Качество валидационной выборки: 0.8185     F1: 0.2453222453222453\n",
      "Количество деревьев: 54 Глубина дерева: 3     Качество тренировочной выборки: 0.8288333333333333\n",
      "Количество деревьев: 54 Глубина дерева: 3     Качество валидационной выборки: 0.8185     F1: 0.24166666666666667\n",
      "Количество деревьев: 55 Глубина дерева: 3     Качество тренировочной выборки: 0.8306666666666667\n",
      "Количество деревьев: 55 Глубина дерева: 3     Качество валидационной выборки: 0.8185     F1: 0.2453222453222453\n",
      "Количество деревьев: 56 Глубина дерева: 3     Качество тренировочной выборки: 0.8313333333333334\n",
      "Количество деревьев: 56 Глубина дерева: 3     Качество валидационной выборки: 0.8185     F1: 0.2453222453222453\n",
      "Количество деревьев: 57 Глубина дерева: 3     Качество тренировочной выборки: 0.83\n",
      "Количество деревьев: 57 Глубина дерева: 3     Качество валидационной выборки: 0.8185     F1: 0.23799582463465552\n",
      "Количество деревьев: 58 Глубина дерева: 3     Качество тренировочной выборки: 0.8315\n",
      "Количество деревьев: 58 Глубина дерева: 3     Качество валидационной выборки: 0.8185     F1: 0.24896265560165973\n",
      "Количество деревьев: 59 Глубина дерева: 3     Качество тренировочной выборки: 0.8326666666666667\n",
      "Количество деревьев: 59 Глубина дерева: 3     Качество валидационной выборки: 0.8185     F1: 0.256198347107438\n",
      "Количество деревьев: 60 Глубина дерева: 3     Качество тренировочной выборки: 0.8315\n",
      "Количество деревьев: 60 Глубина дерева: 3     Качество валидационной выборки: 0.8185     F1: 0.2520661157024794\n",
      "Количество деревьев: 61 Глубина дерева: 3     Качество тренировочной выборки: 0.8316666666666667\n",
      "Количество деревьев: 61 Глубина дерева: 3     Качество валидационной выборки: 0.8185     F1: 0.2520661157024794\n",
      "Количество деревьев: 62 Глубина дерева: 3     Качество тренировочной выборки: 0.8331666666666667\n",
      "Количество деревьев: 62 Глубина дерева: 3     Качество валидационной выборки: 0.8185     F1: 0.2556701030927835\n",
      "Количество деревьев: 63 Глубина дерева: 3     Качество тренировочной выборки: 0.8315\n",
      "Количество деревьев: 63 Глубина дерева: 3     Качество валидационной выборки: 0.8185     F1: 0.24116424116424112\n",
      "Количество деревьев: 64 Глубина дерева: 3     Качество тренировочной выборки: 0.8298333333333333\n",
      "Количество деревьев: 64 Глубина дерева: 3     Качество валидационной выборки: 0.8185     F1: 0.23382045929018794\n",
      "Количество деревьев: 65 Глубина дерева: 3     Качество тренировочной выборки: 0.8293333333333334\n",
      "Количество деревьев: 65 Глубина дерева: 3     Качество валидационной выборки: 0.8185     F1: 0.23430962343096237\n",
      "Количество деревьев: 66 Глубина дерева: 3     Качество тренировочной выборки: 0.8311666666666667\n",
      "Количество деревьев: 66 Глубина дерева: 3     Качество валидационной выборки: 0.8185     F1: 0.24166666666666667\n",
      "Количество деревьев: 67 Глубина дерева: 3     Качество тренировочной выборки: 0.8318333333333333\n",
      "Количество деревьев: 67 Глубина дерева: 3     Качество валидационной выборки: 0.8185     F1: 0.24896265560165973\n",
      "Количество деревьев: 68 Глубина дерева: 3     Качество тренировочной выборки: 0.8311666666666667\n",
      "Количество деревьев: 68 Глубина дерева: 3     Качество валидационной выборки: 0.8185     F1: 0.24166666666666667\n",
      "Количество деревьев: 69 Глубина дерева: 3     Качество тренировочной выборки: 0.8295\n",
      "Количество деревьев: 69 Глубина дерева: 3     Качество валидационной выборки: 0.8185     F1: 0.23060796645702306\n",
      "Количество деревьев: 1 Глубина дерева: 4     Качество тренировочной выборки: 0.8495\n",
      "Количество деревьев: 1 Глубина дерева: 4     Качество валидационной выборки: 0.8365     F1: 0.4391080617495712\n",
      "Количество деревьев: 2 Глубина дерева: 4     Качество тренировочной выборки: 0.849\n",
      "Количество деревьев: 2 Глубина дерева: 4     Качество валидационной выборки: 0.842     F1: 0.48867313915857613\n",
      "Количество деревьев: 3 Глубина дерева: 4     Качество тренировочной выборки: 0.8491666666666666\n",
      "Количество деревьев: 3 Глубина дерева: 4     Качество валидационной выборки: 0.842     F1: 0.4542372881355932\n",
      "Количество деревьев: 4 Глубина дерева: 4     Качество тренировочной выборки: 0.8556666666666667\n",
      "Количество деревьев: 4 Глубина дерева: 4     Качество валидационной выборки: 0.842     F1: 0.4525043177892919\n",
      "Количество деревьев: 5 Глубина дерева: 4     Качество тренировочной выборки: 0.8585\n",
      "Количество деревьев: 5 Глубина дерева: 4     Качество валидационной выборки: 0.8505     F1: 0.49578414839797635\n",
      "Количество деревьев: 6 Глубина дерева: 4     Качество тренировочной выборки: 0.8583333333333333\n",
      "Количество деревьев: 6 Глубина дерева: 4     Качество валидационной выборки: 0.8505     F1: 0.5\n",
      "Количество деревьев: 7 Глубина дерева: 4     Качество тренировочной выборки: 0.8618333333333333\n",
      "Количество деревьев: 7 Глубина дерева: 4     Качество валидационной выборки: 0.855     F1: 0.5245901639344263\n",
      "Количество деревьев: 8 Глубина дерева: 4     Качество тренировочной выборки: 0.862\n",
      "Количество деревьев: 8 Глубина дерева: 4     Качество валидационной выборки: 0.855     F1: 0.5166666666666667\n",
      "Количество деревьев: 9 Глубина дерева: 4     Качество тренировочной выборки: 0.8621666666666666\n",
      "Количество деревьев: 9 Глубина дерева: 4     Качество валидационной выборки: 0.8575     F1: 0.5380875202593193\n",
      "Количество деревьев: 10 Глубина дерева: 4     Качество тренировочной выборки: 0.8595\n",
      "Количество деревьев: 10 Глубина дерева: 4     Качество валидационной выборки: 0.8575     F1: 0.49578414839797635\n",
      "Количество деревьев: 11 Глубина дерева: 4     Качество тренировочной выборки: 0.855\n",
      "Количество деревьев: 11 Глубина дерева: 4     Качество валидационной выборки: 0.8575     F1: 0.4564459930313589\n",
      "Количество деревьев: 12 Глубина дерева: 4     Качество тренировочной выборки: 0.8555\n",
      "Количество деревьев: 12 Глубина дерева: 4     Качество валидационной выборки: 0.8575     F1: 0.4491228070175438\n",
      "Количество деревьев: 13 Глубина дерева: 4     Качество тренировочной выборки: 0.8531666666666666\n",
      "Количество деревьев: 13 Глубина дерева: 4     Качество валидационной выборки: 0.8575     F1: 0.4195298372513563\n",
      "Количество деревьев: 14 Глубина дерева: 4     Качество тренировочной выборки: 0.8538333333333333\n",
      "Количество деревьев: 14 Глубина дерева: 4     Качество валидационной выборки: 0.8575     F1: 0.42576028622540246\n",
      "Количество деревьев: 15 Глубина дерева: 4     Качество тренировочной выборки: 0.8536666666666667\n",
      "Количество деревьев: 15 Глубина дерева: 4     Качество валидационной выборки: 0.8575     F1: 0.42086330935251803\n",
      "Количество деревьев: 16 Глубина дерева: 4     Качество тренировочной выборки: 0.8546666666666667\n",
      "Количество деревьев: 16 Глубина дерева: 4     Качество валидационной выборки: 0.8575     F1: 0.4151624548736462\n",
      "Количество деревьев: 17 Глубина дерева: 4     Качество тренировочной выборки: 0.8536666666666667\n",
      "Количество деревьев: 17 Глубина дерева: 4     Качество валидационной выборки: 0.8575     F1: 0.4272890484739676\n",
      "Количество деревьев: 18 Глубина дерева: 4     Качество тренировочной выборки: 0.8531666666666666\n",
      "Количество деревьев: 18 Глубина дерева: 4     Качество валидационной выборки: 0.8575     F1: 0.4121863799283154\n",
      "Количество деревьев: 19 Глубина дерева: 4     Качество тренировочной выборки: 0.856\n",
      "Количество деревьев: 19 Глубина дерева: 4     Качество валидационной выборки: 0.8575     F1: 0.44169611307420503\n",
      "Количество деревьев: 20 Глубина дерева: 4     Качество тренировочной выборки: 0.8538333333333333\n",
      "Количество деревьев: 20 Глубина дерева: 4     Качество валидационной выборки: 0.8575     F1: 0.42369838420107714\n",
      "Количество деревьев: 21 Глубина дерева: 4     Качество тренировочной выборки: 0.853\n",
      "Количество деревьев: 21 Глубина дерева: 4     Качество валидационной выборки: 0.8575     F1: 0.41454545454545455\n",
      "Количество деревьев: 22 Глубина дерева: 4     Качество тренировочной выборки: 0.8531666666666666\n",
      "Количество деревьев: 22 Глубина дерева: 4     Качество валидационной выборки: 0.8575     F1: 0.4080145719489982\n",
      "Количество деревьев: 23 Глубина дерева: 4     Качество тренировочной выборки: 0.8528333333333333\n",
      "Количество деревьев: 23 Глубина дерева: 4     Качество валидационной выборки: 0.8575     F1: 0.40221402214022134\n",
      "Количество деревьев: 24 Глубина дерева: 4     Качество тренировочной выборки: 0.853\n",
      "Количество деревьев: 24 Глубина дерева: 4     Качество валидационной выборки: 0.8575     F1: 0.40441176470588236\n",
      "Количество деревьев: 25 Глубина дерева: 4     Качество тренировочной выборки: 0.8528333333333333\n",
      "Количество деревьев: 25 Глубина дерева: 4     Качество валидационной выборки: 0.8575     F1: 0.4036697247706422\n",
      "Количество деревьев: 26 Глубина дерева: 4     Качество тренировочной выборки: 0.8543333333333333\n",
      "Количество деревьев: 26 Глубина дерева: 4     Качество валидационной выборки: 0.8575     F1: 0.41454545454545455\n",
      "Количество деревьев: 27 Глубина дерева: 4     Качество тренировочной выборки: 0.8528333333333333\n",
      "Количество деревьев: 27 Глубина дерева: 4     Качество валидационной выборки: 0.8575     F1: 0.39999999999999997\n",
      "Количество деревьев: 28 Глубина дерева: 4     Качество тренировочной выборки: 0.8523333333333334\n",
      "Количество деревьев: 28 Глубина дерева: 4     Качество валидационной выборки: 0.8575     F1: 0.3896103896103896\n",
      "Количество деревьев: 29 Глубина дерева: 4     Качество тренировочной выборки: 0.8516666666666667\n",
      "Количество деревьев: 29 Глубина дерева: 4     Качество валидационной выборки: 0.8575     F1: 0.37988826815642457\n",
      "Количество деревьев: 30 Глубина дерева: 4     Качество тренировочной выборки: 0.849\n",
      "Количество деревьев: 30 Глубина дерева: 4     Качество валидационной выборки: 0.8575     F1: 0.36158192090395475\n",
      "Количество деревьев: 31 Глубина дерева: 4     Качество тренировочной выборки: 0.8515\n",
      "Количество деревьев: 31 Глубина дерева: 4     Качество валидационной выборки: 0.8575     F1: 0.38888888888888884\n",
      "Количество деревьев: 32 Глубина дерева: 4     Качество тренировочной выборки: 0.8513333333333334\n",
      "Количество деревьев: 32 Глубина дерева: 4     Качество валидационной выборки: 0.8575     F1: 0.37757009345794396\n",
      "Количество деревьев: 33 Глубина дерева: 4     Качество тренировочной выборки: 0.85\n",
      "Количество деревьев: 33 Глубина дерева: 4     Качество валидационной выборки: 0.8575     F1: 0.3667296786389414\n",
      "Количество деревьев: 34 Глубина дерева: 4     Качество тренировочной выборки: 0.8508333333333333\n",
      "Количество деревьев: 34 Глубина дерева: 4     Качество валидационной выборки: 0.8575     F1: 0.3782771535580524\n",
      "Количество деревьев: 35 Глубина дерева: 4     Качество тренировочной выборки: 0.8513333333333334\n",
      "Количество деревьев: 35 Глубина дерева: 4     Качество валидационной выборки: 0.8575     F1: 0.38733705772811916\n",
      "Количество деревьев: 36 Глубина дерева: 4     Качество тренировочной выборки: 0.8491666666666666\n",
      "Количество деревьев: 36 Глубина дерева: 4     Качество валидационной выборки: 0.8575     F1: 0.36226415094339626\n",
      "Количество деревьев: 37 Глубина дерева: 4     Качество тренировочной выборки: 0.8488333333333333\n",
      "Количество деревьев: 37 Глубина дерева: 4     Качество валидационной выборки: 0.8575     F1: 0.3691148775894539\n",
      "Количество деревьев: 38 Глубина дерева: 4     Качество тренировочной выборки: 0.8486666666666667\n",
      "Количество деревьев: 38 Глубина дерева: 4     Качество валидационной выборки: 0.8575     F1: 0.36603773584905663\n",
      "Количество деревьев: 39 Глубина дерева: 4     Качество тренировочной выборки: 0.85\n",
      "Количество деревьев: 39 Глубина дерева: 4     Качество валидационной выборки: 0.8575     F1: 0.368421052631579\n",
      "Количество деревьев: 40 Глубина дерева: 4     Качество тренировочной выборки: 0.8515\n",
      "Количество деревьев: 40 Глубина дерева: 4     Качество валидационной выборки: 0.8575     F1: 0.3866171003717472\n",
      "Количество деревьев: 41 Глубина дерева: 4     Качество тренировочной выборки: 0.8521666666666666\n",
      "Количество деревьев: 41 Глубина дерева: 4     Качество валидационной выборки: 0.8575     F1: 0.3866171003717472\n",
      "Количество деревьев: 42 Глубина дерева: 4     Качество тренировочной выборки: 0.8516666666666667\n",
      "Количество деревьев: 42 Глубина дерева: 4     Качество валидационной выборки: 0.8575     F1: 0.40441176470588236\n",
      "Количество деревьев: 43 Глубина дерева: 4     Качество тренировочной выборки: 0.852\n",
      "Количество деревьев: 43 Глубина дерева: 4     Качество валидационной выборки: 0.8575     F1: 0.4014732965009208\n",
      "Количество деревьев: 44 Глубина дерева: 4     Качество тренировочной выборки: 0.8516666666666667\n",
      "Количество деревьев: 44 Глубина дерева: 4     Качество валидационной выборки: 0.8575     F1: 0.3896103896103896\n",
      "Количество деревьев: 45 Глубина дерева: 4     Качество тренировочной выборки: 0.8516666666666667\n",
      "Количество деревьев: 45 Глубина дерева: 4     Качество валидационной выборки: 0.8575     F1: 0.3955637707948244\n",
      "Количество деревьев: 46 Глубина дерева: 4     Качество тренировочной выборки: 0.8516666666666667\n",
      "Количество деревьев: 46 Глубина дерева: 4     Качество валидационной выборки: 0.8575     F1: 0.4007352941176471\n",
      "Количество деревьев: 47 Глубина дерева: 4     Качество тренировочной выборки: 0.8518333333333333\n",
      "Количество деревьев: 47 Глубина дерева: 4     Качество валидационной выборки: 0.8575     F1: 0.39999999999999997\n",
      "Количество деревьев: 48 Глубина дерева: 4     Качество тренировочной выборки: 0.8516666666666667\n",
      "Количество деревьев: 48 Глубина дерева: 4     Качество валидационной выборки: 0.8575     F1: 0.3970588235294118\n",
      "Количество деревьев: 49 Глубина дерева: 4     Качество тренировочной выборки: 0.8521666666666666\n",
      "Количество деревьев: 49 Глубина дерева: 4     Качество валидационной выборки: 0.8575     F1: 0.40293040293040294\n",
      "Количество деревьев: 50 Глубина дерева: 4     Качество тренировочной выборки: 0.8515\n",
      "Количество деревьев: 50 Глубина дерева: 4     Качество валидационной выборки: 0.8575     F1: 0.40293040293040294\n",
      "Количество деревьев: 51 Глубина дерева: 4     Качество тренировочной выборки: 0.8516666666666667\n",
      "Количество деревьев: 51 Глубина дерева: 4     Качество валидационной выборки: 0.8575     F1: 0.39999999999999997\n",
      "Количество деревьев: 52 Глубина дерева: 4     Качество тренировочной выборки: 0.8518333333333333\n",
      "Количество деревьев: 52 Глубина дерева: 4     Качество валидационной выборки: 0.8575     F1: 0.3992673992673993\n",
      "Количество деревьев: 53 Глубина дерева: 4     Качество тренировочной выборки: 0.8518333333333333\n",
      "Количество деревьев: 53 Глубина дерева: 4     Качество валидационной выборки: 0.8575     F1: 0.39999999999999997\n",
      "Количество деревьев: 54 Глубина дерева: 4     Качество тренировочной выборки: 0.8513333333333334\n",
      "Количество деревьев: 54 Глубина дерева: 4     Качество валидационной выборки: 0.8575     F1: 0.3992673992673993\n",
      "Количество деревьев: 55 Глубина дерева: 4     Качество тренировочной выборки: 0.8515\n",
      "Количество деревьев: 55 Глубина дерева: 4     Качество валидационной выборки: 0.8575     F1: 0.3992673992673993\n",
      "Количество деревьев: 56 Глубина дерева: 4     Качество тренировочной выборки: 0.8523333333333334\n",
      "Количество деревьев: 56 Глубина дерева: 4     Качество валидационной выборки: 0.8575     F1: 0.3963302752293578\n",
      "Количество деревьев: 57 Глубина дерева: 4     Качество тренировочной выборки: 0.8525\n",
      "Количество деревьев: 57 Глубина дерева: 4     Качество валидационной выборки: 0.8575     F1: 0.40585009140767825\n",
      "Количество деревьев: 58 Глубина дерева: 4     Качество тренировочной выборки: 0.852\n",
      "Количество деревьев: 58 Глубина дерева: 4     Качество валидационной выборки: 0.8575     F1: 0.39999999999999997\n",
      "Количество деревьев: 59 Глубина дерева: 4     Качество тренировочной выборки: 0.8526666666666667\n",
      "Количество деревьев: 59 Глубина дерева: 4     Качество валидационной выборки: 0.8575     F1: 0.40585009140767825\n",
      "Количество деревьев: 60 Глубина дерева: 4     Качество тренировочной выборки: 0.8521666666666666\n",
      "Количество деревьев: 60 Глубина дерева: 4     Качество валидационной выборки: 0.8575     F1: 0.40293040293040294\n",
      "Количество деревьев: 61 Глубина дерева: 4     Качество тренировочной выборки: 0.852\n",
      "Количество деревьев: 61 Глубина дерева: 4     Качество валидационной выборки: 0.8575     F1: 0.3948339483394834\n",
      "Количество деревьев: 62 Глубина дерева: 4     Качество тренировочной выборки: 0.8518333333333333\n",
      "Количество деревьев: 62 Глубина дерева: 4     Качество валидационной выборки: 0.8575     F1: 0.3948339483394834\n",
      "Количество деревьев: 63 Глубина дерева: 4     Качество тренировочной выборки: 0.852\n",
      "Количество деревьев: 63 Глубина дерева: 4     Качество валидационной выборки: 0.8575     F1: 0.3970588235294118\n",
      "Количество деревьев: 64 Глубина дерева: 4     Качество тренировочной выборки: 0.8518333333333333\n",
      "Количество деревьев: 64 Глубина дерева: 4     Качество валидационной выборки: 0.8575     F1: 0.38888888888888884\n",
      "Количество деревьев: 65 Глубина дерева: 4     Качество тренировочной выборки: 0.852\n",
      "Количество деревьев: 65 Глубина дерева: 4     Качество валидационной выборки: 0.8575     F1: 0.3918669131238447\n",
      "Количество деревьев: 66 Глубина дерева: 4     Качество тренировочной выборки: 0.8521666666666666\n",
      "Количество деревьев: 66 Глубина дерева: 4     Качество валидационной выборки: 0.8575     F1: 0.39410681399631675\n",
      "Количество деревьев: 67 Глубина дерева: 4     Качество тренировочной выборки: 0.852\n",
      "Количество деревьев: 67 Глубина дерева: 4     Качество валидационной выборки: 0.8575     F1: 0.39410681399631675\n",
      "Количество деревьев: 68 Глубина дерева: 4     Качество тренировочной выборки: 0.8526666666666667\n",
      "Количество деревьев: 68 Глубина дерева: 4     Качество валидационной выборки: 0.8575     F1: 0.3970588235294118\n",
      "Количество деревьев: 69 Глубина дерева: 4     Качество тренировочной выборки: 0.8528333333333333\n",
      "Количество деревьев: 69 Глубина дерева: 4     Качество валидационной выборки: 0.8575     F1: 0.3948339483394834\n",
      "Количество деревьев: 1 Глубина дерева: 5     Качество тренировочной выборки: 0.8481666666666666\n",
      "Количество деревьев: 1 Глубина дерева: 5     Качество валидационной выборки: 0.8575     F1: 0.4410774410774411\n",
      "Количество деревьев: 2 Глубина дерева: 5     Качество тренировочной выборки: 0.8498333333333333\n",
      "Количество деревьев: 2 Глубина дерева: 5     Качество валидационной выборки: 0.8575     F1: 0.4704\n",
      "Количество деревьев: 3 Глубина дерева: 5     Качество тренировочной выборки: 0.8591666666666666\n",
      "Количество деревьев: 3 Глубина дерева: 5     Качество валидационной выборки: 0.8575     F1: 0.494345718901454\n",
      "Количество деревьев: 4 Глубина дерева: 5     Качество тренировочной выборки: 0.8613333333333333\n",
      "Количество деревьев: 4 Глубина дерева: 5     Качество валидационной выборки: 0.8575     F1: 0.5176848874598071\n",
      "Количество деревьев: 5 Глубина дерева: 5     Качество тренировочной выборки: 0.864\n",
      "Количество деревьев: 5 Глубина дерева: 5     Качество валидационной выборки: 0.8575     F1: 0.504950495049505\n",
      "Количество деревьев: 6 Глубина дерева: 5     Качество тренировочной выборки: 0.8643333333333333\n",
      "Количество деревьев: 6 Глубина дерева: 5     Качество валидационной выборки: 0.8575     F1: 0.5194805194805194\n",
      "Количество деревьев: 7 Глубина дерева: 5     Качество тренировочной выборки: 0.8631666666666666\n",
      "Количество деревьев: 7 Глубина дерева: 5     Качество валидационной выборки: 0.8575     F1: 0.522314049586777\n",
      "Количество деревьев: 8 Глубина дерева: 5     Качество тренировочной выборки: 0.864\n",
      "Количество деревьев: 8 Глубина дерева: 5     Качество валидационной выборки: 0.8575     F1: 0.5271828665568369\n",
      "Количество деревьев: 9 Глубина дерева: 5     Качество тренировочной выборки: 0.8636666666666667\n",
      "Количество деревьев: 9 Глубина дерева: 5     Качество валидационной выборки: 0.8575     F1: 0.5024793388429752\n",
      "Количество деревьев: 10 Глубина дерева: 5     Качество тренировочной выборки: 0.8636666666666667\n",
      "Количество деревьев: 10 Глубина дерева: 5     Качество валидационной выборки: 0.8575     F1: 0.5170731707317073\n",
      "Количество деревьев: 11 Глубина дерева: 5     Качество тренировочной выборки: 0.8641666666666666\n",
      "Количество деревьев: 11 Глубина дерева: 5     Качество валидационной выборки: 0.8575     F1: 0.5174129353233832\n",
      "Количество деревьев: 12 Глубина дерева: 5     Качество тренировочной выборки: 0.8618333333333333\n",
      "Количество деревьев: 12 Глубина дерева: 5     Качество валидационной выборки: 0.8575     F1: 0.49917355371900823\n",
      "Количество деревьев: 13 Глубина дерева: 5     Качество тренировочной выборки: 0.8611666666666666\n",
      "Количество деревьев: 13 Глубина дерева: 5     Качество валидационной выборки: 0.8575     F1: 0.5041459369817578\n",
      "Количество деревьев: 14 Глубина дерева: 5     Качество тренировочной выборки: 0.8638333333333333\n",
      "Количество деревьев: 14 Глубина дерева: 5     Качество валидационной выборки: 0.8575     F1: 0.5251215559157212\n",
      "Количество деревьев: 15 Глубина дерева: 5     Качество тренировочной выборки: 0.863\n",
      "Количество деревьев: 15 Глубина дерева: 5     Качество валидационной выборки: 0.8575     F1: 0.506578947368421\n",
      "Количество деревьев: 16 Глубина дерева: 5     Качество тренировочной выборки: 0.8643333333333333\n",
      "Количество деревьев: 16 Глубина дерева: 5     Качество валидационной выборки: 0.8575     F1: 0.5225806451612903\n",
      "Количество деревьев: 17 Глубина дерева: 5     Качество тренировочной выборки: 0.8638333333333333\n",
      "Количество деревьев: 17 Глубина дерева: 5     Качество валидационной выборки: 0.8575     F1: 0.529886914378029\n",
      "Количество деревьев: 18 Глубина дерева: 5     Качество тренировочной выборки: 0.864\n",
      "Количество деревьев: 18 Глубина дерева: 5     Качество валидационной выборки: 0.8575     F1: 0.5235772357723578\n",
      "Количество деревьев: 19 Глубина дерева: 5     Качество тренировочной выборки: 0.8643333333333333\n",
      "Количество деревьев: 19 Глубина дерева: 5     Качество валидационной выборки: 0.8575     F1: 0.5307443365695793\n",
      "Количество деревьев: 20 Глубина дерева: 5     Качество тренировочной выборки: 0.8646666666666667\n",
      "Количество деревьев: 20 Глубина дерева: 5     Качество валидационной выборки: 0.8575     F1: 0.5188834154351396\n",
      "Количество деревьев: 21 Глубина дерева: 5     Качество тренировочной выборки: 0.864\n",
      "Количество деревьев: 21 Глубина дерева: 5     Качество валидационной выборки: 0.8575     F1: 0.5188834154351396\n",
      "Количество деревьев: 22 Глубина дерева: 5     Качество тренировочной выборки: 0.8635\n",
      "Количество деревьев: 22 Глубина дерева: 5     Качество валидационной выборки: 0.8575     F1: 0.5123966942148759\n",
      "Количество деревьев: 23 Глубина дерева: 5     Качество тренировочной выборки: 0.8631666666666666\n",
      "Количество деревьев: 23 Глубина дерева: 5     Качество валидационной выборки: 0.8575     F1: 0.5033112582781457\n",
      "Количество деревьев: 24 Глубина дерева: 5     Качество тренировочной выборки: 0.863\n",
      "Количество деревьев: 24 Глубина дерева: 5     Качество валидационной выборки: 0.8575     F1: 0.5066225165562914\n",
      "Количество деревьев: 25 Глубина дерева: 5     Качество тренировочной выборки: 0.8631666666666666\n",
      "Количество деревьев: 25 Глубина дерева: 5     Качество валидационной выборки: 0.8575     F1: 0.5107084019769357\n",
      "Количество деревьев: 26 Глубина дерева: 5     Качество тренировочной выборки: 0.8641666666666666\n",
      "Количество деревьев: 26 Глубина дерева: 5     Качество валидационной выборки: 0.8575     F1: 0.5074135090609555\n",
      "Количество деревьев: 27 Глубина дерева: 5     Качество тренировочной выборки: 0.8641666666666666\n",
      "Количество деревьев: 27 Глубина дерева: 5     Качество валидационной выборки: 0.8575     F1: 0.5066225165562914\n",
      "Количество деревьев: 28 Глубина дерева: 5     Качество тренировочной выборки: 0.8638333333333333\n",
      "Количество деревьев: 28 Глубина дерева: 5     Качество валидационной выборки: 0.8575     F1: 0.49498327759197325\n",
      "Количество деревьев: 29 Глубина дерева: 5     Качество тренировочной выборки: 0.8635\n",
      "Количество деревьев: 29 Глубина дерева: 5     Качество валидационной выборки: 0.8575     F1: 0.5\n",
      "Количество деревьев: 30 Глубина дерева: 5     Качество тренировочной выборки: 0.8638333333333333\n",
      "Количество деревьев: 30 Глубина дерева: 5     Качество валидационной выборки: 0.8575     F1: 0.49749582637729545\n",
      "Количество деревьев: 31 Глубина дерева: 5     Качество тренировочной выборки: 0.864\n",
      "Количество деревьев: 31 Глубина дерева: 5     Качество валидационной выборки: 0.8575     F1: 0.49749582637729545\n",
      "Количество деревьев: 32 Глубина дерева: 5     Качество тренировочной выборки: 0.8641666666666666\n",
      "Количество деревьев: 32 Глубина дерева: 5     Качество валидационной выборки: 0.8575     F1: 0.49916805324459235\n",
      "Количество деревьев: 33 Глубина дерева: 5     Качество тренировочной выборки: 0.864\n",
      "Количество деревьев: 33 Глубина дерева: 5     Качество валидационной выборки: 0.8575     F1: 0.49498327759197325\n",
      "Количество деревьев: 34 Глубина дерева: 5     Качество тренировочной выборки: 0.8641666666666666\n",
      "Количество деревьев: 34 Глубина дерева: 5     Качество валидационной выборки: 0.8575     F1: 0.48903878583473864\n",
      "Количество деревьев: 35 Глубина дерева: 5     Качество тренировочной выборки: 0.8643333333333333\n",
      "Количество деревьев: 35 Глубина дерева: 5     Качество валидационной выборки: 0.8575     F1: 0.5\n",
      "Количество деревьев: 36 Глубина дерева: 5     Качество тренировочной выборки: 0.864\n",
      "Количество деревьев: 36 Глубина дерева: 5     Качество валидационной выборки: 0.8575     F1: 0.49246231155778897\n",
      "Количество деревьев: 37 Глубина дерева: 5     Качество тренировочной выборки: 0.8636666666666667\n",
      "Количество деревьев: 37 Глубина дерева: 5     Качество валидационной выборки: 0.8575     F1: 0.48217317487266553\n",
      "Количество деревьев: 38 Глубина дерева: 5     Качество тренировочной выборки: 0.8638333333333333\n",
      "Количество деревьев: 38 Глубина дерева: 5     Качество валидационной выборки: 0.8575     F1: 0.4873949579831932\n",
      "Количество деревьев: 39 Глубина дерева: 5     Качество тренировочной выборки: 0.8638333333333333\n",
      "Количество деревьев: 39 Глубина дерева: 5     Качество валидационной выборки: 0.8575     F1: 0.47877758913412566\n",
      "Количество деревьев: 40 Глубина дерева: 5     Качество тренировочной выборки: 0.8643333333333333\n",
      "Количество деревьев: 40 Глубина дерева: 5     Качество валидационной выборки: 0.8575     F1: 0.4745762711864407\n",
      "Количество деревьев: 41 Глубина дерева: 5     Качество тренировочной выборки: 0.8636666666666667\n",
      "Количество деревьев: 41 Глубина дерева: 5     Качество валидационной выборки: 0.8575     F1: 0.46757679180887374\n",
      "Количество деревьев: 42 Глубина дерева: 5     Качество тренировочной выборки: 0.8643333333333333\n",
      "Количество деревьев: 42 Глубина дерева: 5     Качество валидационной выборки: 0.8575     F1: 0.4753820033955858\n",
      "Количество деревьев: 43 Глубина дерева: 5     Качество тренировочной выборки: 0.8643333333333333\n",
      "Количество деревьев: 43 Глубина дерева: 5     Качество валидационной выборки: 0.8575     F1: 0.4753820033955858\n",
      "Количество деревьев: 44 Глубина дерева: 5     Качество тренировочной выборки: 0.8625\n",
      "Количество деревьев: 44 Глубина дерева: 5     Качество валидационной выборки: 0.8575     F1: 0.4657534246575343\n",
      "Количество деревьев: 45 Глубина дерева: 5     Качество тренировочной выборки: 0.8636666666666667\n",
      "Количество деревьев: 45 Глубина дерева: 5     Качество валидационной выборки: 0.8575     F1: 0.4761904761904762\n",
      "Количество деревьев: 46 Глубина дерева: 5     Качество тренировочной выборки: 0.8633333333333333\n",
      "Количество деревьев: 46 Глубина дерева: 5     Качество валидационной выборки: 0.8575     F1: 0.4709897610921501\n",
      "Количество деревьев: 47 Глубина дерева: 5     Качество тренировочной выборки: 0.8625\n",
      "Количество деревьев: 47 Глубина дерева: 5     Качество валидационной выборки: 0.8575     F1: 0.46998284734133794\n",
      "Количество деревьев: 48 Глубина дерева: 5     Качество тренировочной выборки: 0.8611666666666666\n",
      "Количество деревьев: 48 Глубина дерева: 5     Качество валидационной выборки: 0.8575     F1: 0.4657534246575343\n",
      "Количество деревьев: 49 Глубина дерева: 5     Качество тренировочной выборки: 0.8633333333333333\n",
      "Количество деревьев: 49 Глубина дерева: 5     Качество валидационной выборки: 0.8575     F1: 0.47521367521367525\n",
      "Количество деревьев: 50 Глубина дерева: 5     Качество тренировочной выборки: 0.8621666666666666\n",
      "Количество деревьев: 50 Глубина дерева: 5     Качество валидационной выборки: 0.8575     F1: 0.46735395189003437\n",
      "Количество деревьев: 51 Глубина дерева: 5     Качество тренировочной выборки: 0.8611666666666666\n",
      "Количество деревьев: 51 Глубина дерева: 5     Качество валидационной выборки: 0.8575     F1: 0.46551724137931044\n",
      "Количество деревьев: 52 Глубина дерева: 5     Качество тренировочной выборки: 0.8608333333333333\n",
      "Количество деревьев: 52 Глубина дерева: 5     Качество валидационной выборки: 0.8575     F1: 0.4689655172413793\n",
      "Количество деревьев: 53 Глубина дерева: 5     Качество тренировочной выборки: 0.8618333333333333\n",
      "Количество деревьев: 53 Глубина дерева: 5     Качество валидационной выборки: 0.8575     F1: 0.4671280276816609\n",
      "Количество деревьев: 54 Глубина дерева: 5     Качество тренировочной выборки: 0.8621666666666666\n",
      "Количество деревьев: 54 Глубина дерева: 5     Качество валидационной выборки: 0.8575     F1: 0.4644714038128249\n",
      "Количество деревьев: 55 Глубина дерева: 5     Качество тренировочной выборки: 0.8636666666666667\n",
      "Количество деревьев: 55 Глубина дерева: 5     Качество валидационной выборки: 0.8575     F1: 0.48370497427101194\n",
      "Количество деревьев: 56 Глубина дерева: 5     Качество тренировочной выборки: 0.8631666666666666\n",
      "Количество деревьев: 56 Глубина дерева: 5     Качество валидационной выборки: 0.8575     F1: 0.476843910806175\n",
      "Количество деревьев: 57 Глубина дерева: 5     Качество тренировочной выборки: 0.863\n",
      "Количество деревьев: 57 Глубина дерева: 5     Качество валидационной выборки: 0.8575     F1: 0.4734133790737564\n",
      "Количество деревьев: 58 Глубина дерева: 5     Качество тренировочной выборки: 0.8626666666666667\n",
      "Количество деревьев: 58 Глубина дерева: 5     Качество валидационной выборки: 0.8575     F1: 0.4689655172413793\n",
      "Количество деревьев: 59 Глубина дерева: 5     Качество тренировочной выборки: 0.8636666666666667\n",
      "Количество деревьев: 59 Глубина дерева: 5     Качество валидационной выборки: 0.8575     F1: 0.47602739726027404\n",
      "Количество деревьев: 60 Глубина дерева: 5     Качество тренировочной выборки: 0.864\n",
      "Количество деревьев: 60 Глубина дерева: 5     Качество валидационной выборки: 0.8575     F1: 0.4802744425385935\n",
      "Количество деревьев: 61 Глубина дерева: 5     Качество тренировочной выборки: 0.8645\n",
      "Количество деревьев: 61 Глубина дерева: 5     Качество валидационной выборки: 0.8575     F1: 0.4923599320882852\n",
      "Количество деревьев: 62 Глубина дерева: 5     Качество тренировочной выборки: 0.8636666666666667\n",
      "Количество деревьев: 62 Глубина дерева: 5     Качество валидационной выборки: 0.8575     F1: 0.48464163822525597\n",
      "Количество деревьев: 63 Глубина дерева: 5     Качество тренировочной выборки: 0.8638333333333333\n",
      "Количество деревьев: 63 Глубина дерева: 5     Качество валидационной выборки: 0.8575     F1: 0.48722316865417375\n",
      "Количество деревьев: 64 Глубина дерева: 5     Качество тренировочной выборки: 0.8638333333333333\n",
      "Количество деревьев: 64 Глубина дерева: 5     Качество валидационной выборки: 0.8575     F1: 0.48464163822525597\n",
      "Количество деревьев: 65 Глубина дерева: 5     Качество тренировочной выборки: 0.8635\n",
      "Количество деревьев: 65 Глубина дерева: 5     Качество валидационной выборки: 0.8575     F1: 0.48287671232876717\n",
      "Количество деревьев: 66 Глубина дерева: 5     Качество тренировочной выборки: 0.8646666666666667\n",
      "Количество деревьев: 66 Глубина дерева: 5     Качество валидационной выборки: 0.8575     F1: 0.48547008547008547\n",
      "Количество деревьев: 67 Глубина дерева: 5     Качество тренировочной выборки: 0.8641666666666666\n",
      "Количество деревьев: 67 Глубина дерева: 5     Качество валидационной выборки: 0.8575     F1: 0.48547008547008547\n",
      "Количество деревьев: 68 Глубина дерева: 5     Качество тренировочной выборки: 0.8643333333333333\n",
      "Количество деревьев: 68 Глубина дерева: 5     Качество валидационной выборки: 0.8575     F1: 0.48109965635738833\n",
      "Количество деревьев: 69 Глубина дерева: 5     Качество тренировочной выборки: 0.8641666666666666\n",
      "Количество деревьев: 69 Глубина дерева: 5     Качество валидационной выборки: 0.8575     F1: 0.48453608247422686\n",
      "Количество деревьев: 1 Глубина дерева: 6     Качество тренировочной выборки: 0.8503333333333334\n",
      "Количество деревьев: 1 Глубина дерева: 6     Качество валидационной выборки: 0.8575     F1: 0.4238178633975481\n",
      "Количество деревьев: 2 Глубина дерева: 6     Качество тренировочной выборки: 0.854\n",
      "Количество деревьев: 2 Глубина дерева: 6     Качество валидационной выборки: 0.8575     F1: 0.44112769485903813\n",
      "Количество деревьев: 3 Глубина дерева: 6     Качество тренировочной выборки: 0.863\n",
      "Количество деревьев: 3 Глубина дерева: 6     Качество валидационной выборки: 0.8575     F1: 0.48772504091653024\n",
      "Количество деревьев: 4 Глубина дерева: 6     Качество тренировочной выборки: 0.868\n",
      "Количество деревьев: 4 Глубина дерева: 6     Качество валидационной выборки: 0.8575     F1: 0.5263157894736843\n",
      "Количество деревьев: 5 Глубина дерева: 6     Качество тренировочной выборки: 0.8681666666666666\n",
      "Количество деревьев: 5 Глубина дерева: 6     Качество валидационной выборки: 0.8575     F1: 0.5275080906148867\n",
      "Количество деревьев: 6 Глубина дерева: 6     Качество тренировочной выборки: 0.8675\n",
      "Количество деревьев: 6 Глубина дерева: 6     Качество валидационной выборки: 0.8575     F1: 0.5237315875613747\n",
      "Количество деревьев: 7 Глубина дерева: 6     Качество тренировочной выборки: 0.8691666666666666\n",
      "Количество деревьев: 7 Глубина дерева: 6     Качество валидационной выборки: 0.8575     F1: 0.5252854812398042\n",
      "Количество деревьев: 8 Глубина дерева: 6     Качество тренировочной выборки: 0.8676666666666667\n",
      "Количество деревьев: 8 Глубина дерева: 6     Качество валидационной выборки: 0.8595     F1: 0.5385878489326765\n",
      "Количество деревьев: 9 Глубина дерева: 6     Качество тренировочной выборки: 0.8676666666666667\n",
      "Количество деревьев: 9 Глубина дерева: 6     Качество валидационной выборки: 0.8595     F1: 0.5415986949429037\n",
      "Количество деревьев: 10 Глубина дерева: 6     Качество тренировочной выборки: 0.8676666666666667\n",
      "Количество деревьев: 10 Глубина дерева: 6     Качество валидационной выборки: 0.862     F1: 0.5475409836065573\n",
      "Количество деревьев: 11 Глубина дерева: 6     Качество тренировочной выборки: 0.8675\n",
      "Количество деревьев: 11 Глубина дерева: 6     Качество валидационной выборки: 0.862     F1: 0.545751633986928\n",
      "Количество деревьев: 12 Глубина дерева: 6     Качество тренировочной выборки: 0.87\n",
      "Количество деревьев: 12 Глубина дерева: 6     Качество валидационной выборки: 0.862     F1: 0.5463414634146341\n",
      "Количество деревьев: 13 Глубина дерева: 6     Качество тренировочной выборки: 0.8673333333333333\n",
      "Количество деревьев: 13 Глубина дерева: 6     Качество валидационной выборки: 0.862     F1: 0.5442622950819672\n",
      "Количество деревьев: 14 Глубина дерева: 6     Качество тренировочной выборки: 0.867\n",
      "Количество деревьев: 14 Глубина дерева: 6     Качество валидационной выборки: 0.862     F1: 0.5439739413680782\n",
      "Количество деревьев: 15 Глубина дерева: 6     Качество тренировочной выборки: 0.8683333333333333\n",
      "Количество деревьев: 15 Глубина дерева: 6     Качество валидационной выборки: 0.862     F1: 0.5439739413680782\n",
      "Количество деревьев: 16 Глубина дерева: 6     Качество тренировочной выборки: 0.8705\n",
      "Количество деревьев: 16 Глубина дерева: 6     Качество валидационной выборки: 0.862     F1: 0.5454545454545455\n",
      "Количество деревьев: 17 Глубина дерева: 6     Качество тренировочной выборки: 0.8683333333333333\n",
      "Количество деревьев: 17 Глубина дерева: 6     Качество валидационной выборки: 0.862     F1: 0.5403624382207578\n",
      "Количество деревьев: 18 Глубина дерева: 6     Качество тренировочной выборки: 0.8695\n",
      "Количество деревьев: 18 Глубина дерева: 6     Качество валидационной выборки: 0.862     F1: 0.5355371900826447\n",
      "Количество деревьев: 19 Глубина дерева: 6     Качество тренировочной выборки: 0.8705\n",
      "Количество деревьев: 19 Глубина дерева: 6     Качество валидационной выборки: 0.862     F1: 0.5379537953795379\n",
      "Количество деревьев: 20 Глубина дерева: 6     Качество тренировочной выборки: 0.8695\n",
      "Количество деревьев: 20 Глубина дерева: 6     Качество валидационной выборки: 0.862     F1: 0.5333333333333333\n",
      "Количество деревьев: 21 Глубина дерева: 6     Качество тренировочной выборки: 0.8708333333333333\n",
      "Количество деревьев: 21 Глубина дерева: 6     Качество валидационной выборки: 0.862     F1: 0.5324459234608986\n",
      "Количество деревьев: 22 Глубина дерева: 6     Качество тренировочной выборки: 0.8701666666666666\n",
      "Количество деревьев: 22 Глубина дерева: 6     Качество валидационной выборки: 0.862     F1: 0.5364238410596026\n",
      "Количество деревьев: 23 Глубина дерева: 6     Качество тренировочной выборки: 0.8698333333333333\n",
      "Количество деревьев: 23 Глубина дерева: 6     Качество валидационной выборки: 0.862     F1: 0.5421487603305785\n",
      "Количество деревьев: 24 Глубина дерева: 6     Качество тренировочной выборки: 0.8721666666666666\n",
      "Количество деревьев: 24 Глубина дерева: 6     Качество валидационной выборки: 0.862     F1: 0.543657331136738\n",
      "Количество деревьев: 25 Глубина дерева: 6     Качество тренировочной выборки: 0.871\n",
      "Количество деревьев: 25 Глубина дерева: 6     Качество валидационной выборки: 0.862     F1: 0.5403624382207578\n",
      "Количество деревьев: 26 Глубина дерева: 6     Качество тренировочной выборки: 0.8713333333333333\n",
      "Количество деревьев: 26 Глубина дерева: 6     Качество валидационной выборки: 0.862     F1: 0.5448613376835236\n",
      "Количество деревьев: 27 Глубина дерева: 6     Качество тренировочной выборки: 0.871\n",
      "Количество деревьев: 27 Глубина дерева: 6     Качество валидационной выборки: 0.862     F1: 0.5394736842105262\n",
      "Количество деревьев: 28 Глубина дерева: 6     Качество тренировочной выборки: 0.8715\n",
      "Количество деревьев: 28 Глубина дерева: 6     Качество валидационной выборки: 0.862     F1: 0.5296052631578947\n",
      "Количество деревьев: 29 Глубина дерева: 6     Качество тренировочной выборки: 0.871\n",
      "Количество деревьев: 29 Глубина дерева: 6     Качество валидационной выборки: 0.862     F1: 0.5337726523887973\n",
      "Количество деревьев: 30 Глубина дерева: 6     Качество тренировочной выборки: 0.8718333333333333\n",
      "Количество деревьев: 30 Глубина дерева: 6     Качество валидационной выборки: 0.862     F1: 0.5306799336650083\n",
      "Количество деревьев: 31 Глубина дерева: 6     Качество тренировочной выборки: 0.8721666666666666\n",
      "Количество деревьев: 31 Глубина дерева: 6     Качество валидационной выборки: 0.862     F1: 0.5385878489326765\n",
      "Количество деревьев: 32 Глубина дерева: 6     Качество тренировочной выборки: 0.8716666666666667\n",
      "Количество деревьев: 32 Глубина дерева: 6     Качество валидационной выборки: 0.862     F1: 0.5298013245033113\n",
      "Количество деревьев: 33 Глубина дерева: 6     Качество тренировочной выборки: 0.871\n",
      "Количество деревьев: 33 Глубина дерева: 6     Качество валидационной выборки: 0.862     F1: 0.5315614617940199\n",
      "Количество деревьев: 34 Глубина дерева: 6     Качество тренировочной выборки: 0.8713333333333333\n",
      "Количество деревьев: 34 Глубина дерева: 6     Качество валидационной выборки: 0.862     F1: 0.5275459098497496\n",
      "Количество деревьев: 35 Глубина дерева: 6     Качество тренировочной выборки: 0.871\n",
      "Количество деревьев: 35 Глубина дерева: 6     Качество валидационной выборки: 0.862     F1: 0.5266666666666666\n",
      "Количество деревьев: 36 Глубина дерева: 6     Качество тренировочной выборки: 0.8698333333333333\n",
      "Количество деревьев: 36 Глубина дерева: 6     Качество валидационной выборки: 0.862     F1: 0.5208681135225376\n",
      "Количество деревьев: 37 Глубина дерева: 6     Качество тренировочной выборки: 0.8703333333333333\n",
      "Количество деревьев: 37 Глубина дерева: 6     Качество валидационной выборки: 0.862     F1: 0.5217391304347826\n",
      "Количество деревьев: 38 Глубина дерева: 6     Качество тренировочной выборки: 0.8713333333333333\n",
      "Количество деревьев: 38 Глубина дерева: 6     Качество валидационной выборки: 0.862     F1: 0.5289256198347106\n",
      "Количество деревьев: 39 Глубина дерева: 6     Качество тренировочной выборки: 0.872\n",
      "Количество деревьев: 39 Глубина дерева: 6     Качество валидационной выборки: 0.862     F1: 0.525963149078727\n",
      "Количество деревьев: 40 Глубина дерева: 6     Качество тренировочной выборки: 0.872\n",
      "Количество деревьев: 40 Глубина дерева: 6     Качество валидационной выборки: 0.862     F1: 0.53\n",
      "Количество деревьев: 41 Глубина дерева: 6     Качество тренировочной выборки: 0.8713333333333333\n",
      "Количество деревьев: 41 Глубина дерева: 6     Качество валидационной выборки: 0.862     F1: 0.5282392026578073\n",
      "Количество деревьев: 42 Глубина дерева: 6     Качество тренировочной выборки: 0.8711666666666666\n",
      "Количество деревьев: 42 Глубина дерева: 6     Качество валидационной выборки: 0.862     F1: 0.5346534653465346\n",
      "Количество деревьев: 43 Глубина дерева: 6     Качество тренировочной выборки: 0.871\n",
      "Количество деревьев: 43 Глубина дерева: 6     Качество валидационной выборки: 0.862     F1: 0.5361842105263157\n",
      "Количество деревьев: 44 Глубина дерева: 6     Качество тренировочной выборки: 0.8703333333333333\n",
      "Количество деревьев: 44 Глубина дерева: 6     Качество валидационной выборки: 0.862     F1: 0.5282392026578073\n",
      "Количество деревьев: 45 Глубина дерева: 6     Качество тренировочной выборки: 0.871\n",
      "Количество деревьев: 45 Глубина дерева: 6     Качество валидационной выборки: 0.862     F1: 0.5315614617940199\n",
      "Количество деревьев: 46 Глубина дерева: 6     Качество тренировочной выборки: 0.8705\n",
      "Количество деревьев: 46 Глубина дерева: 6     Качество валидационной выборки: 0.862     F1: 0.5315614617940199\n",
      "Количество деревьев: 47 Глубина дерева: 6     Качество тренировочной выборки: 0.8711666666666666\n",
      "Количество деревьев: 47 Глубина дерева: 6     Качество валидационной выборки: 0.862     F1: 0.5348837209302326\n",
      "Количество деревьев: 48 Глубина дерева: 6     Качество тренировочной выборки: 0.8723333333333333\n",
      "Количество деревьев: 48 Глубина дерева: 6     Качество валидационной выборки: 0.862     F1: 0.5315614617940199\n",
      "Количество деревьев: 49 Глубина дерева: 6     Качество тренировочной выборки: 0.8713333333333333\n",
      "Количество деревьев: 49 Глубина дерева: 6     Качество валидационной выборки: 0.862     F1: 0.5306799336650083\n",
      "Количество деревьев: 50 Глубина дерева: 6     Качество тренировочной выборки: 0.8713333333333333\n",
      "Количество деревьев: 50 Глубина дерева: 6     Качество валидационной выборки: 0.862     F1: 0.5348837209302326\n",
      "Количество деревьев: 51 Глубина дерева: 6     Качество тренировочной выборки: 0.8706666666666667\n",
      "Количество деревьев: 51 Глубина дерева: 6     Качество валидационной выборки: 0.862     F1: 0.5388429752066116\n",
      "Количество деревьев: 52 Глубина дерева: 6     Качество тренировочной выборки: 0.8706666666666667\n",
      "Количество деревьев: 52 Глубина дерева: 6     Качество валидационной выборки: 0.862     F1: 0.5308848080133556\n",
      "Количество деревьев: 53 Глубина дерева: 6     Качество тренировочной выборки: 0.8705\n",
      "Количество деревьев: 53 Глубина дерева: 6     Качество валидационной выборки: 0.862     F1: 0.5308848080133556\n",
      "Количество деревьев: 54 Глубина дерева: 6     Качество тренировочной выборки: 0.871\n",
      "Количество деревьев: 54 Глубина дерева: 6     Качество валидационной выборки: 0.862     F1: 0.5348837209302326\n",
      "Количество деревьев: 55 Глубина дерева: 6     Качество тренировочной выборки: 0.8718333333333333\n",
      "Количество деревьев: 55 Глубина дерева: 6     Качество валидационной выборки: 0.862     F1: 0.5373134328358209\n",
      "Количество деревьев: 56 Глубина дерева: 6     Качество тренировочной выборки: 0.873\n",
      "Количество деревьев: 56 Глубина дерева: 6     Качество валидационной выборки: 0.862     F1: 0.5357737104825291\n",
      "Количество деревьев: 57 Глубина дерева: 6     Качество тренировочной выборки: 0.872\n",
      "Количество деревьев: 57 Глубина дерева: 6     Качество валидационной выборки: 0.862     F1: 0.5460526315789473\n",
      "Количество деревьев: 58 Глубина дерева: 6     Качество тренировочной выборки: 0.8725\n",
      "Количество деревьев: 58 Глубина дерева: 6     Качество валидационной выборки: 0.862     F1: 0.5403624382207578\n",
      "Количество деревьев: 59 Глубина дерева: 6     Качество тренировочной выборки: 0.8726666666666667\n",
      "Количество деревьев: 59 Глубина дерева: 6     Качество валидационной выборки: 0.862     F1: 0.5427631578947368\n",
      "Количество деревьев: 60 Глубина дерева: 6     Качество тренировочной выборки: 0.872\n",
      "Количество деревьев: 60 Глубина дерева: 6     Качество валидационной выборки: 0.862     F1: 0.5460526315789473\n",
      "Количество деревьев: 61 Глубина дерева: 6     Качество тренировочной выборки: 0.8726666666666667\n",
      "Количество деревьев: 61 Глубина дерева: 6     Качество валидационной выборки: 0.862     F1: 0.5445544554455445\n",
      "Количество деревьев: 62 Глубина дерева: 6     Качество тренировочной выборки: 0.8723333333333333\n",
      "Количество деревьев: 62 Глубина дерева: 6     Качество валидационной выборки: 0.862     F1: 0.543657331136738\n",
      "Количество деревьев: 63 Глубина дерева: 6     Качество тренировочной выборки: 0.8723333333333333\n",
      "Количество деревьев: 63 Глубина дерева: 6     Качество валидационной выборки: 0.862     F1: 0.5403624382207578\n",
      "Количество деревьев: 64 Глубина дерева: 6     Качество тренировочной выборки: 0.8715\n",
      "Количество деревьев: 64 Глубина дерева: 6     Качество валидационной выборки: 0.862     F1: 0.5355371900826447\n",
      "Количество деревьев: 65 Глубина дерева: 6     Качество тренировочной выборки: 0.8716666666666667\n",
      "Количество деревьев: 65 Глубина дерева: 6     Качество валидационной выборки: 0.862     F1: 0.5339966832504146\n",
      "Количество деревьев: 66 Глубина дерева: 6     Качество тренировочной выборки: 0.8723333333333333\n",
      "Количество деревьев: 66 Глубина дерева: 6     Качество валидационной выборки: 0.862     F1: 0.5364238410596026\n",
      "Количество деревьев: 67 Глубина дерева: 6     Качество тренировочной выборки: 0.8725\n",
      "Количество деревьев: 67 Глубина дерева: 6     Качество валидационной выборки: 0.862     F1: 0.5364238410596026\n",
      "Количество деревьев: 68 Глубина дерева: 6     Качество тренировочной выборки: 0.8723333333333333\n",
      "Количество деревьев: 68 Глубина дерева: 6     Качество валидационной выборки: 0.862     F1: 0.5388429752066116\n",
      "Количество деревьев: 69 Глубина дерева: 6     Качество тренировочной выборки: 0.8725\n",
      "Количество деревьев: 69 Глубина дерева: 6     Качество валидационной выборки: 0.862     F1: 0.5339966832504146\n",
      "Количество деревьев: 1 Глубина дерева: 7     Качество тренировочной выборки: 0.851\n",
      "Количество деревьев: 1 Глубина дерева: 7     Качество валидационной выборки: 0.862     F1: 0.5327510917030567\n",
      "Количество деревьев: 2 Глубина дерева: 7     Качество тренировочной выборки: 0.8633333333333333\n",
      "Количество деревьев: 2 Глубина дерева: 7     Качество валидационной выборки: 0.862     F1: 0.5059880239520957\n",
      "Количество деревьев: 3 Глубина дерева: 7     Качество тренировочной выборки: 0.8703333333333333\n",
      "Количество деревьев: 3 Глубина дерева: 7     Качество валидационной выборки: 0.862     F1: 0.5304878048780488\n",
      "Количество деревьев: 4 Глубина дерева: 7     Качество тренировочной выборки: 0.875\n",
      "Количество деревьев: 4 Глубина дерева: 7     Качество валидационной выборки: 0.862     F1: 0.5714285714285715\n",
      "Количество деревьев: 5 Глубина дерева: 7     Качество тренировочной выборки: 0.8755\n",
      "Количество деревьев: 5 Глубина дерева: 7     Качество валидационной выборки: 0.862     F1: 0.5908419497784343\n",
      "Количество деревьев: 6 Глубина дерева: 7     Качество тренировочной выборки: 0.8746666666666667\n",
      "Количество деревьев: 6 Глубина дерева: 7     Качество валидационной выборки: 0.862     F1: 0.5769805680119582\n",
      "Количество деревьев: 7 Глубина дерева: 7     Качество тренировочной выборки: 0.8746666666666667\n",
      "Количество деревьев: 7 Глубина дерева: 7     Качество валидационной выборки: 0.862     F1: 0.5740181268882175\n",
      "Количество деревьев: 8 Глубина дерева: 7     Качество тренировочной выборки: 0.8773333333333333\n",
      "Количество деревьев: 8 Глубина дерева: 7     Качество валидационной выборки: 0.862     F1: 0.5762195121951219\n",
      "Количество деревьев: 9 Глубина дерева: 7     Качество тренировочной выборки: 0.8776666666666667\n",
      "Количество деревьев: 9 Глубина дерева: 7     Качество валидационной выборки: 0.862     F1: 0.565284178187404\n",
      "Количество деревьев: 10 Глубина дерева: 7     Качество тренировочной выборки: 0.879\n",
      "Количество деревьев: 10 Глубина дерева: 7     Качество валидационной выборки: 0.862     F1: 0.5625965996908809\n",
      "Количество деревьев: 11 Глубина дерева: 7     Качество тренировочной выборки: 0.8793333333333333\n",
      "Количество деревьев: 11 Глубина дерева: 7     Качество валидационной выборки: 0.862     F1: 0.5688073394495413\n",
      "Количество деревьев: 12 Глубина дерева: 7     Качество тренировочной выборки: 0.8793333333333333\n",
      "Количество деревьев: 12 Глубина дерева: 7     Качество валидационной выборки: 0.862     F1: 0.5564142194744978\n",
      "Количество деревьев: 13 Глубина дерева: 7     Качество тренировочной выборки: 0.8806666666666667\n",
      "Количество деревьев: 13 Глубина дерева: 7     Качество валидационной выборки: 0.862     F1: 0.5688073394495413\n",
      "Количество деревьев: 14 Глубина дерева: 7     Качество тренировочной выборки: 0.88\n",
      "Количество деревьев: 14 Глубина дерева: 7     Качество валидационной выборки: 0.862     F1: 0.5696784073506891\n",
      "Количество деревьев: 15 Глубина дерева: 7     Качество тренировочной выборки: 0.8793333333333333\n",
      "Количество деревьев: 15 Глубина дерева: 7     Качество валидационной выборки: 0.862     F1: 0.5625965996908809\n",
      "Количество деревьев: 16 Глубина дерева: 7     Качество тренировочной выборки: 0.8805\n",
      "Количество деревьев: 16 Глубина дерева: 7     Качество валидационной выборки: 0.862     F1: 0.5622119815668203\n",
      "Количество деревьев: 17 Глубина дерева: 7     Качество тренировочной выборки: 0.8823333333333333\n",
      "Количество деревьев: 17 Глубина дерева: 7     Качество валидационной выборки: 0.862     F1: 0.5617283950617283\n",
      "Количество деревьев: 18 Глубина дерева: 7     Качество тренировочной выборки: 0.882\n",
      "Количество деревьев: 18 Глубина дерева: 7     Качество валидационной выборки: 0.862     F1: 0.5683563748079876\n",
      "Количество деревьев: 19 Глубина дерева: 7     Качество тренировочной выборки: 0.8818333333333334\n",
      "Количество деревьев: 19 Глубина дерева: 7     Качество валидационной выборки: 0.862     F1: 0.563944530046225\n",
      "Количество деревьев: 20 Глубина дерева: 7     Качество тренировочной выборки: 0.8816666666666667\n",
      "Количество деревьев: 20 Глубина дерева: 7     Качество валидационной выборки: 0.862     F1: 0.5625000000000001\n",
      "Количество деревьев: 21 Глубина дерева: 7     Качество тренировочной выборки: 0.882\n",
      "Количество деревьев: 21 Глубина дерева: 7     Качество валидационной выборки: 0.862     F1: 0.5642633228840126\n",
      "Количество деревьев: 22 Глубина дерева: 7     Качество тренировочной выборки: 0.881\n",
      "Количество деревьев: 22 Глубина дерева: 7     Качество валидационной выборки: 0.862     F1: 0.5569620253164557\n",
      "Количество деревьев: 23 Глубина дерева: 7     Качество тренировочной выборки: 0.8808333333333334\n",
      "Количество деревьев: 23 Глубина дерева: 7     Качество валидационной выборки: 0.862     F1: 0.5515055467511886\n",
      "Количество деревьев: 24 Глубина дерева: 7     Качество тренировочной выборки: 0.882\n",
      "Количество деревьев: 24 Глубина дерева: 7     Качество валидационной выборки: 0.862     F1: 0.5511811023622047\n",
      "Количество деревьев: 25 Глубина дерева: 7     Качество тренировочной выборки: 0.881\n",
      "Количество деревьев: 25 Глубина дерева: 7     Качество валидационной выборки: 0.862     F1: 0.5520504731861199\n",
      "Количество деревьев: 26 Глубина дерева: 7     Качество тренировочной выборки: 0.882\n",
      "Количество деревьев: 26 Глубина дерева: 7     Качество валидационной выборки: 0.862     F1: 0.5620094191522763\n",
      "Количество деревьев: 27 Глубина дерева: 7     Качество тренировочной выборки: 0.8813333333333333\n",
      "Количество деревьев: 27 Глубина дерева: 7     Качество валидационной выборки: 0.862     F1: 0.5477707006369427\n",
      "Количество деревьев: 28 Глубина дерева: 7     Качество тренировочной выборки: 0.8808333333333334\n",
      "Количество деревьев: 28 Глубина дерева: 7     Качество валидационной выборки: 0.862     F1: 0.5468998410174881\n",
      "Количество деревьев: 29 Глубина дерева: 7     Качество тренировочной выборки: 0.8818333333333334\n",
      "Количество деревьев: 29 Глубина дерева: 7     Качество валидационной выборки: 0.862     F1: 0.5437201907790143\n",
      "Количество деревьев: 30 Глубина дерева: 7     Качество тренировочной выборки: 0.8816666666666667\n",
      "Количество деревьев: 30 Глубина дерева: 7     Качество валидационной выборки: 0.862     F1: 0.5414012738853503\n",
      "Количество деревьев: 31 Глубина дерева: 7     Качество тренировочной выборки: 0.882\n",
      "Количество деревьев: 31 Глубина дерева: 7     Качество валидационной выборки: 0.862     F1: 0.5460317460317461\n",
      "Количество деревьев: 32 Глубина дерева: 7     Качество тренировочной выборки: 0.882\n",
      "Количество деревьев: 32 Глубина дерева: 7     Качество валидационной выборки: 0.862     F1: 0.5445859872611465\n",
      "Количество деревьев: 33 Глубина дерева: 7     Качество тренировочной выборки: 0.882\n",
      "Количество деревьев: 33 Глубина дерева: 7     Качество валидационной выборки: 0.862     F1: 0.5468998410174881\n",
      "Количество деревьев: 34 Глубина дерева: 7     Качество тренировочной выборки: 0.8818333333333334\n",
      "Количество деревьев: 34 Глубина дерева: 7     Качество валидационной выборки: 0.862     F1: 0.5537974683544303\n",
      "Количество деревьев: 35 Глубина дерева: 7     Качество тренировочной выборки: 0.8816666666666667\n",
      "Количество деревьев: 35 Глубина дерева: 7     Качество валидационной выборки: 0.862     F1: 0.5606299212598426\n",
      "Количество деревьев: 36 Глубина дерева: 7     Качество тренировочной выборки: 0.8808333333333334\n",
      "Количество деревьев: 36 Глубина дерева: 7     Качество валидационной выборки: 0.862     F1: 0.5509554140127388\n",
      "Количество деревьев: 37 Глубина дерева: 7     Качество тренировочной выборки: 0.8811666666666667\n",
      "Количество деревьев: 37 Глубина дерева: 7     Качество валидационной выборки: 0.862     F1: 0.5486443381180223\n",
      "Количество деревьев: 38 Глубина дерева: 7     Качество тренировочной выборки: 0.8811666666666667\n",
      "Количество деревьев: 38 Глубина дерева: 7     Качество валидационной выборки: 0.862     F1: 0.5477707006369427\n",
      "Количество деревьев: 39 Глубина дерева: 7     Качество тренировочной выборки: 0.8815\n",
      "Количество деревьев: 39 Глубина дерева: 7     Качество валидационной выборки: 0.862     F1: 0.5492063492063491\n",
      "Количество деревьев: 40 Глубина дерева: 7     Качество тренировочной выборки: 0.882\n",
      "Количество деревьев: 40 Глубина дерева: 7     Качество валидационной выборки: 0.862     F1: 0.5500794912559619\n",
      "Количество деревьев: 41 Глубина дерева: 7     Качество тренировочной выборки: 0.8816666666666667\n",
      "Количество деревьев: 41 Глубина дерева: 7     Качество валидационной выборки: 0.862     F1: 0.5523809523809524\n",
      "Количество деревьев: 42 Глубина дерева: 7     Качество тренировочной выборки: 0.881\n",
      "Количество деревьев: 42 Глубина дерева: 7     Качество валидационной выборки: 0.862     F1: 0.5592417061611374\n",
      "Количество деревьев: 43 Глубина дерева: 7     Качество тренировочной выборки: 0.8811666666666667\n",
      "Количество деревьев: 43 Глубина дерева: 7     Качество валидационной выборки: 0.862     F1: 0.554675118858954\n",
      "Количество деревьев: 44 Глубина дерева: 7     Качество тренировочной выборки: 0.8805\n",
      "Количество деревьев: 44 Глубина дерева: 7     Качество валидационной выборки: 0.862     F1: 0.5569620253164557\n",
      "Количество деревьев: 45 Глубина дерева: 7     Качество тренировочной выборки: 0.8806666666666667\n",
      "Количество деревьев: 45 Глубина дерева: 7     Качество валидационной выборки: 0.862     F1: 0.5569620253164557\n",
      "Количество деревьев: 46 Глубина дерева: 7     Качество тренировочной выборки: 0.8806666666666667\n",
      "Количество деревьев: 46 Глубина дерева: 7     Качество валидационной выборки: 0.862     F1: 0.5583596214511041\n",
      "Количество деревьев: 47 Глубина дерева: 7     Качество тренировочной выборки: 0.881\n",
      "Количество деревьев: 47 Глубина дерева: 7     Качество валидационной выборки: 0.862     F1: 0.5592417061611374\n",
      "Количество деревьев: 48 Глубина дерева: 7     Качество тренировочной выборки: 0.8805\n",
      "Количество деревьев: 48 Глубина дерева: 7     Качество валидационной выборки: 0.862     F1: 0.5578446909667195\n",
      "Количество деревьев: 49 Глубина дерева: 7     Качество тренировочной выборки: 0.8795\n",
      "Количество деревьев: 49 Глубина дерева: 7     Качество валидационной выборки: 0.862     F1: 0.5578446909667195\n",
      "Количество деревьев: 50 Глубина дерева: 7     Качество тренировочной выборки: 0.879\n",
      "Количество деревьев: 50 Глубина дерева: 7     Качество валидационной выборки: 0.862     F1: 0.560126582278481\n",
      "Количество деревьев: 51 Глубина дерева: 7     Качество тренировочной выборки: 0.88\n",
      "Количество деревьев: 51 Глубина дерева: 7     Качество валидационной выборки: 0.862     F1: 0.5532591414944357\n",
      "Количество деревьев: 52 Глубина дерева: 7     Качество тренировочной выборки: 0.88\n",
      "Количество деревьев: 52 Глубина дерева: 7     Качество валидационной выборки: 0.862     F1: 0.5569620253164557\n",
      "Количество деревьев: 53 Глубина дерева: 7     Качество тренировочной выборки: 0.8796666666666667\n",
      "Количество деревьев: 53 Глубина дерева: 7     Качество валидационной выборки: 0.862     F1: 0.5660377358490566\n",
      "Количество деревьев: 54 Глубина дерева: 7     Качество тренировочной выборки: 0.88\n",
      "Количество деревьев: 54 Глубина дерева: 7     Качество валидационной выборки: 0.862     F1: 0.563779527559055\n",
      "Количество деревьев: 55 Глубина дерева: 7     Качество тренировочной выборки: 0.8801666666666667\n",
      "Количество деревьев: 55 Глубина дерева: 7     Качество валидационной выборки: 0.862     F1: 0.5615141955835962\n",
      "Количество деревьев: 56 Глубина дерева: 7     Качество тренировочной выборки: 0.881\n",
      "Количество деревьев: 56 Глубина дерева: 7     Качество валидационной выборки: 0.862     F1: 0.5592417061611374\n",
      "Количество деревьев: 57 Глубина дерева: 7     Качество тренировочной выборки: 0.88\n",
      "Количество деревьев: 57 Глубина дерева: 7     Качество валидационной выборки: 0.8625     F1: 0.5669291338582677\n",
      "Количество деревьев: 58 Глубина дерева: 7     Качество тренировочной выборки: 0.8796666666666667\n",
      "Количество деревьев: 58 Глубина дерева: 7     Качество валидационной выборки: 0.8625     F1: 0.563779527559055\n",
      "Количество деревьев: 59 Глубина дерева: 7     Качество тренировочной выборки: 0.8798333333333334\n",
      "Количество деревьев: 59 Глубина дерева: 7     Качество валидационной выборки: 0.8625     F1: 0.563779527559055\n",
      "Количество деревьев: 60 Глубина дерева: 7     Качество тренировочной выборки: 0.88\n",
      "Количество деревьев: 60 Глубина дерева: 7     Качество валидационной выборки: 0.8625     F1: 0.5615141955835962\n",
      "Количество деревьев: 61 Глубина дерева: 7     Качество тренировочной выборки: 0.8808333333333334\n",
      "Количество деревьев: 61 Глубина дерева: 7     Качество валидационной выборки: 0.8625     F1: 0.5646687697160884\n",
      "Количество деревьев: 62 Глубина дерева: 7     Качество тренировочной выборки: 0.8806666666666667\n",
      "Количество деревьев: 62 Глубина дерева: 7     Качество валидационной выборки: 0.8625     F1: 0.5641838351822503\n",
      "Количество деревьев: 63 Глубина дерева: 7     Качество тренировочной выборки: 0.8806666666666667\n",
      "Количество деревьев: 63 Глубина дерева: 7     Качество валидационной выборки: 0.8625     F1: 0.5646687697160884\n",
      "Количество деревьев: 64 Глубина дерева: 7     Качество тренировочной выборки: 0.881\n",
      "Количество деревьев: 64 Глубина дерева: 7     Качество валидационной выборки: 0.8625     F1: 0.5624012638230648\n",
      "Количество деревьев: 65 Глубина дерева: 7     Качество тренировочной выборки: 0.8808333333333334\n",
      "Количество деревьев: 65 Глубина дерева: 7     Качество валидационной выборки: 0.8625     F1: 0.560126582278481\n",
      "Количество деревьев: 66 Глубина дерева: 7     Качество тренировочной выборки: 0.881\n",
      "Количество деревьев: 66 Глубина дерева: 7     Качество валидационной выборки: 0.8625     F1: 0.5632911392405064\n",
      "Количество деревьев: 67 Глубина дерева: 7     Качество тренировочной выборки: 0.8808333333333334\n",
      "Количество деревьев: 67 Глубина дерева: 7     Качество валидационной выборки: 0.8625     F1: 0.5624012638230648\n",
      "Количество деревьев: 68 Глубина дерева: 7     Качество тренировочной выборки: 0.8808333333333334\n",
      "Количество деревьев: 68 Глубина дерева: 7     Качество валидационной выборки: 0.8625     F1: 0.560126582278481\n",
      "Количество деревьев: 69 Глубина дерева: 7     Качество тренировочной выборки: 0.8803333333333333\n",
      "Количество деревьев: 69 Глубина дерева: 7     Качество валидационной выборки: 0.8625     F1: 0.5596184419713831\n",
      "Количество деревьев: 1 Глубина дерева: 8     Качество тренировочной выборки: 0.865\n",
      "Количество деревьев: 1 Глубина дерева: 8     Качество валидационной выборки: 0.8625     F1: 0.5345345345345345\n",
      "Количество деревьев: 2 Глубина дерева: 8     Качество тренировочной выборки: 0.8711666666666666\n",
      "Количество деревьев: 2 Глубина дерева: 8     Качество валидационной выборки: 0.8625     F1: 0.5385779122541603\n",
      "Количество деревьев: 3 Глубина дерева: 8     Качество тренировочной выборки: 0.8735\n",
      "Количество деревьев: 3 Глубина дерева: 8     Качество валидационной выборки: 0.8625     F1: 0.5295007564296521\n",
      "Количество деревьев: 4 Глубина дерева: 8     Качество тренировочной выборки: 0.88\n",
      "Количество деревьев: 4 Глубина дерева: 8     Качество валидационной выборки: 0.8625     F1: 0.5404580152671755\n",
      "Количество деревьев: 5 Глубина дерева: 8     Качество тренировочной выборки: 0.8818333333333334\n",
      "Количество деревьев: 5 Глубина дерева: 8     Качество валидационной выборки: 0.8625     F1: 0.5591397849462365\n",
      "Количество деревьев: 6 Глубина дерева: 8     Качество тренировочной выборки: 0.882\n",
      "Количество деревьев: 6 Глубина дерева: 8     Качество валидационной выборки: 0.8625     F1: 0.565284178187404\n",
      "Количество деревьев: 7 Глубина дерева: 8     Качество тренировочной выборки: 0.8803333333333333\n",
      "Количество деревьев: 7 Глубина дерева: 8     Качество валидационной выборки: 0.8625     F1: 0.5692068429237946\n",
      "Количество деревьев: 8 Глубина дерева: 8     Качество тренировочной выборки: 0.882\n",
      "Количество деревьев: 8 Глубина дерева: 8     Качество валидационной выборки: 0.8625     F1: 0.5443037974683544\n",
      "Количество деревьев: 9 Глубина дерева: 8     Качество тренировочной выборки: 0.8805\n",
      "Количество деревьев: 9 Глубина дерева: 8     Качество валидационной выборки: 0.8625     F1: 0.5571205007824727\n",
      "Количество деревьев: 10 Глубина дерева: 8     Качество тренировочной выборки: 0.8806666666666667\n",
      "Количество деревьев: 10 Глубина дерева: 8     Качество валидационной выборки: 0.8625     F1: 0.5480314960629922\n",
      "Количество деревьев: 11 Глубина дерева: 8     Качество тренировочной выборки: 0.8818333333333334\n",
      "Количество деревьев: 11 Глубина дерева: 8     Качество валидационной выборки: 0.8625     F1: 0.5569620253164557\n",
      "Количество деревьев: 12 Глубина дерева: 8     Качество тренировочной выборки: 0.8823333333333333\n",
      "Количество деревьев: 12 Глубина дерева: 8     Качество валидационной выборки: 0.8625     F1: 0.5628930817610063\n",
      "Количество деревьев: 13 Глубина дерева: 8     Качество тренировочной выборки: 0.8821666666666667\n",
      "Количество деревьев: 13 Глубина дерева: 8     Качество валидационной выборки: 0.8625     F1: 0.5571205007824727\n",
      "Количество деревьев: 14 Глубина дерева: 8     Качество тренировочной выборки: 0.8813333333333333\n",
      "Количество деревьев: 14 Глубина дерева: 8     Качество валидационной выборки: 0.8625     F1: 0.5437201907790143\n",
      "Количество деревьев: 15 Глубина дерева: 8     Качество тренировочной выборки: 0.8828333333333334\n",
      "Количество деревьев: 15 Глубина дерева: 8     Качество валидационной выборки: 0.8625     F1: 0.5486443381180223\n",
      "Количество деревьев: 16 Глубина дерева: 8     Качество тренировочной выборки: 0.8831666666666667\n",
      "Количество деревьев: 16 Глубина дерева: 8     Качество валидационной выборки: 0.8625     F1: 0.5537974683544303\n",
      "Количество деревьев: 17 Глубина дерева: 8     Качество тренировочной выборки: 0.8831666666666667\n",
      "Количество деревьев: 17 Глубина дерева: 8     Качество валидационной выборки: 0.8625     F1: 0.5492063492063491\n",
      "Количество деревьев: 18 Глубина дерева: 8     Качество тренировочной выборки: 0.8825\n",
      "Количество деревьев: 18 Глубина дерева: 8     Качество валидационной выборки: 0.8625     F1: 0.5564387917329094\n",
      "Количество деревьев: 19 Глубина дерева: 8     Качество тренировочной выборки: 0.884\n",
      "Количество деревьев: 19 Глубина дерева: 8     Качество валидационной выборки: 0.8625     F1: 0.5605095541401274\n",
      "Количество деревьев: 20 Глубина дерева: 8     Качество тренировочной выборки: 0.8831666666666667\n",
      "Количество деревьев: 20 Глубина дерева: 8     Качество валидационной выборки: 0.8625     F1: 0.5641838351822503\n",
      "Количество деревьев: 21 Глубина дерева: 8     Качество тренировочной выборки: 0.8835\n",
      "Количество деревьев: 21 Глубина дерева: 8     Качество валидационной выборки: 0.8635     F1: 0.5700787401574803\n",
      "Количество деревьев: 22 Глубина дерева: 8     Качество тренировочной выборки: 0.884\n",
      "Количество деревьев: 22 Глубина дерева: 8     Качество валидационной выборки: 0.8645     F1: 0.5705229793977813\n",
      "Количество деревьев: 23 Глубина дерева: 8     Качество тренировочной выборки: 0.8835\n",
      "Количество деревьев: 23 Глубина дерева: 8     Качество валидационной выборки: 0.8645     F1: 0.5687203791469195\n",
      "Количество деревьев: 24 Глубина дерева: 8     Качество тренировочной выборки: 0.883\n",
      "Количество деревьев: 24 Глубина дерева: 8     Качество валидационной выборки: 0.8645     F1: 0.5627980922098569\n",
      "Количество деревьев: 25 Глубина дерева: 8     Качество тренировочной выборки: 0.8823333333333333\n",
      "Количество деревьев: 25 Глубина дерева: 8     Качество валидационной выборки: 0.8645     F1: 0.5673534072900158\n",
      "Количество деревьев: 26 Глубина дерева: 8     Качество тренировочной выборки: 0.883\n",
      "Количество деревьев: 26 Глубина дерева: 8     Качество валидационной выборки: 0.8645     F1: 0.5664556962025317\n",
      "Количество деревьев: 27 Глубина дерева: 8     Качество тренировочной выборки: 0.8835\n",
      "Количество деревьев: 27 Глубина дерева: 8     Качество валидационной выборки: 0.8645     F1: 0.5664556962025317\n",
      "Количество деревьев: 28 Глубина дерева: 8     Качество тренировочной выборки: 0.8848333333333334\n",
      "Количество деревьев: 28 Глубина дерева: 8     Качество валидационной выборки: 0.8645     F1: 0.5641838351822503\n",
      "Количество деревьев: 29 Глубина дерева: 8     Качество тренировочной выборки: 0.8841666666666667\n",
      "Количество деревьев: 29 Глубина дерева: 8     Качество валидационной выборки: 0.8645     F1: 0.5673534072900158\n",
      "Количество деревьев: 30 Глубина дерева: 8     Качество тренировочной выборки: 0.8838333333333334\n",
      "Количество деревьев: 30 Глубина дерева: 8     Качество валидационной выборки: 0.8645     F1: 0.5650793650793651\n",
      "Количество деревьев: 31 Глубина дерева: 8     Качество тренировочной выборки: 0.8841666666666667\n",
      "Количество деревьев: 31 Глубина дерева: 8     Качество валидационной выборки: 0.8645     F1: 0.5650793650793651\n",
      "Количество деревьев: 32 Глубина дерева: 8     Качество тренировочной выборки: 0.8845\n",
      "Количество деревьев: 32 Глубина дерева: 8     Качество валидационной выборки: 0.8645     F1: 0.5641838351822503\n",
      "Количество деревьев: 33 Глубина дерева: 8     Качество тренировочной выборки: 0.8841666666666667\n",
      "Количество деревьев: 33 Глубина дерева: 8     Качество валидационной выборки: 0.8645     F1: 0.5627980922098569\n",
      "Количество деревьев: 34 Глубина дерева: 8     Качество тренировочной выборки: 0.8856666666666667\n",
      "Количество деревьев: 34 Глубина дерева: 8     Качество валидационной выборки: 0.8645     F1: 0.5564387917329094\n",
      "Количество деревьев: 35 Глубина дерева: 8     Качество тренировочной выборки: 0.8858333333333334\n",
      "Количество деревьев: 35 Глубина дерева: 8     Качество валидационной выборки: 0.8645     F1: 0.5582137161084529\n",
      "Количество деревьев: 36 Глубина дерева: 8     Качество тренировочной выборки: 0.8856666666666667\n",
      "Количество деревьев: 36 Глубина дерева: 8     Качество валидационной выборки: 0.8645     F1: 0.5591054313099042\n",
      "Количество деревьев: 37 Глубина дерева: 8     Качество тренировочной выборки: 0.8845\n",
      "Количество деревьев: 37 Глубина дерева: 8     Качество валидационной выборки: 0.8645     F1: 0.5659777424483307\n",
      "Количество деревьев: 38 Глубина дерева: 8     Качество тренировочной выборки: 0.8853333333333333\n",
      "Количество деревьев: 38 Глубина дерева: 8     Качество валидационной выборки: 0.8645     F1: 0.5582137161084529\n",
      "Количество деревьев: 39 Глубина дерева: 8     Качество тренировочной выборки: 0.8846666666666667\n",
      "Количество деревьев: 39 Глубина дерева: 8     Качество валидационной выборки: 0.8645     F1: 0.5623003194888179\n",
      "Количество деревьев: 40 Глубина дерева: 8     Качество тренировочной выборки: 0.8845\n",
      "Количество деревьев: 40 Глубина дерева: 8     Качество валидационной выборки: 0.8645     F1: 0.5654952076677316\n",
      "Количество деревьев: 41 Глубина дерева: 8     Качество тренировочной выборки: 0.8855\n",
      "Количество деревьев: 41 Глубина дерева: 8     Качество валидационной выборки: 0.8645     F1: 0.5608974358974359\n",
      "Количество деревьев: 42 Глубина дерева: 8     Качество тренировочной выборки: 0.8843333333333333\n",
      "Количество деревьев: 42 Глубина дерева: 8     Качество валидационной выборки: 0.8645     F1: 0.5623003194888179\n",
      "Количество деревьев: 43 Глубина дерева: 8     Качество тренировочной выборки: 0.8841666666666667\n",
      "Количество деревьев: 43 Глубина дерева: 8     Качество валидационной выборки: 0.8645     F1: 0.5627980922098569\n",
      "Количество деревьев: 44 Глубина дерева: 8     Качество тренировочной выборки: 0.8841666666666667\n",
      "Количество деревьев: 44 Глубина дерева: 8     Качество валидационной выборки: 0.8645     F1: 0.5627980922098569\n",
      "Количество деревьев: 45 Глубина дерева: 8     Качество тренировочной выборки: 0.8856666666666667\n",
      "Количество деревьев: 45 Глубина дерева: 8     Качество валидационной выборки: 0.866     F1: 0.5759493670886076\n",
      "Количество деревьев: 46 Глубина дерева: 8     Качество тренировочной выборки: 0.8858333333333334\n",
      "Количество деревьев: 46 Глубина дерева: 8     Качество валидационной выборки: 0.866     F1: 0.5714285714285715\n",
      "Количество деревьев: 47 Глубина дерева: 8     Качество тренировочной выборки: 0.8855\n",
      "Количество деревьев: 47 Глубина дерева: 8     Качество валидационной выборки: 0.866     F1: 0.5714285714285715\n",
      "Количество деревьев: 48 Глубина дерева: 8     Качество тренировочной выборки: 0.8845\n",
      "Количество деревьев: 48 Глубина дерева: 8     Качество валидационной выборки: 0.866     F1: 0.5705229793977813\n",
      "Количество деревьев: 49 Глубина дерева: 8     Качество тренировочной выборки: 0.8848333333333334\n",
      "Количество деревьев: 49 Глубина дерева: 8     Качество валидационной выборки: 0.866     F1: 0.5727848101265823\n",
      "Количество деревьев: 50 Глубина дерева: 8     Качество тренировочной выборки: 0.8856666666666667\n",
      "Количество деревьев: 50 Глубина дерева: 8     Качество валидационной выборки: 0.866     F1: 0.5705229793977813\n",
      "Количество деревьев: 51 Глубина дерева: 8     Качество тренировочной выборки: 0.8858333333333334\n",
      "Количество деревьев: 51 Глубина дерева: 8     Качество валидационной выборки: 0.866     F1: 0.5705229793977813\n",
      "Количество деревьев: 52 Глубина дерева: 8     Качество тренировочной выборки: 0.8856666666666667\n",
      "Количество деревьев: 52 Глубина дерева: 8     Качество валидационной выборки: 0.866     F1: 0.5700636942675159\n",
      "Количество деревьев: 53 Глубина дерева: 8     Качество тренировочной выборки: 0.8865\n",
      "Количество деревьев: 53 Глубина дерева: 8     Качество валидационной выборки: 0.866     F1: 0.5700636942675159\n",
      "Количество деревьев: 54 Глубина дерева: 8     Качество тренировочной выборки: 0.8865\n",
      "Количество деревьев: 54 Глубина дерева: 8     Качество валидационной выборки: 0.866     F1: 0.5723370429252782\n",
      "Количество деревьев: 55 Глубина дерева: 8     Качество тренировочной выборки: 0.8871666666666667\n",
      "Количество деревьев: 55 Глубина дерева: 8     Качество валидационной выборки: 0.866     F1: 0.5709728867623605\n",
      "Количество деревьев: 56 Глубина дерева: 8     Качество тренировочной выборки: 0.8875\n",
      "Количество деревьев: 56 Глубина дерева: 8     Качество валидационной выборки: 0.866     F1: 0.5691573926868045\n",
      "Количество деревьев: 57 Глубина дерева: 8     Качество тренировочной выборки: 0.8861666666666667\n",
      "Количество деревьев: 57 Глубина дерева: 8     Качество валидационной выборки: 0.866     F1: 0.5677830940988836\n",
      "Количество деревьев: 58 Глубина дерева: 8     Качество тренировочной выборки: 0.887\n",
      "Количество деревьев: 58 Глубина дерева: 8     Качество валидационной выборки: 0.866     F1: 0.5732484076433122\n",
      "Количество деревьев: 59 Глубина дерева: 8     Качество тренировочной выборки: 0.8873333333333333\n",
      "Количество деревьев: 59 Глубина дерева: 8     Качество валидационной выборки: 0.866     F1: 0.5700636942675159\n",
      "Количество деревьев: 60 Глубина дерева: 8     Качество тренировочной выборки: 0.887\n",
      "Количество деревьев: 60 Глубина дерева: 8     Качество валидационной выборки: 0.866     F1: 0.5700636942675159\n",
      "Количество деревьев: 61 Глубина дерева: 8     Качество тренировочной выборки: 0.8875\n",
      "Количество деревьев: 61 Глубина дерева: 8     Качество валидационной выборки: 0.866     F1: 0.5691573926868045\n",
      "Количество деревьев: 62 Глубина дерева: 8     Качество тренировочной выборки: 0.8875\n",
      "Количество деревьев: 62 Глубина дерева: 8     Качество валидационной выборки: 0.866     F1: 0.5677830940988836\n",
      "Количество деревьев: 63 Глубина дерева: 8     Качество тренировочной выборки: 0.8878333333333334\n",
      "Количество деревьев: 63 Глубина дерева: 8     Качество валидационной выборки: 0.866     F1: 0.5700636942675159\n",
      "Количество деревьев: 64 Глубина дерева: 8     Качество тренировочной выборки: 0.8881666666666667\n",
      "Количество деревьев: 64 Глубина дерева: 8     Качество валидационной выборки: 0.866     F1: 0.5691573926868045\n",
      "Количество деревьев: 65 Глубина дерева: 8     Качество тренировочной выборки: 0.8883333333333333\n",
      "Количество деревьев: 65 Глубина дерева: 8     Качество валидационной выборки: 0.866     F1: 0.5682539682539683\n",
      "Количество деревьев: 66 Глубина дерева: 8     Качество тренировочной выборки: 0.8881666666666667\n",
      "Количество деревьев: 66 Глубина дерева: 8     Качество валидационной выборки: 0.866     F1: 0.5654952076677316\n",
      "Количество деревьев: 67 Глубина дерева: 8     Качество тренировочной выборки: 0.8881666666666667\n",
      "Количество деревьев: 67 Глубина дерева: 8     Качество валидационной выборки: 0.866     F1: 0.5668789808917197\n",
      "Количество деревьев: 68 Глубина дерева: 8     Качество тренировочной выборки: 0.8878333333333334\n",
      "Количество деревьев: 68 Глубина дерева: 8     Качество валидационной выборки: 0.866     F1: 0.5668789808917197\n",
      "Количество деревьев: 69 Глубина дерева: 8     Качество тренировочной выборки: 0.8878333333333334\n",
      "Количество деревьев: 69 Глубина дерева: 8     Качество валидационной выборки: 0.866     F1: 0.5645933014354068\n",
      "Количество деревьев: 1 Глубина дерева: 9     Качество тренировочной выборки: 0.8661666666666666\n",
      "Количество деревьев: 1 Глубина дерева: 9     Качество валидационной выборки: 0.866     F1: 0.4801097393689987\n",
      "Количество деревьев: 2 Глубина дерева: 9     Качество тренировочной выборки: 0.8848333333333334\n",
      "Количество деревьев: 2 Глубина дерева: 9     Качество валидационной выборки: 0.866     F1: 0.5219858156028369\n",
      "Количество деревьев: 3 Глубина дерева: 9     Качество тренировочной выборки: 0.8868333333333334\n",
      "Количество деревьев: 3 Глубина дерева: 9     Качество валидационной выборки: 0.866     F1: 0.5449189985272459\n",
      "Количество деревьев: 4 Глубина дерева: 9     Качество тренировочной выборки: 0.8906666666666667\n",
      "Количество деревьев: 4 Глубина дерева: 9     Качество валидационной выборки: 0.866     F1: 0.534142640364188\n",
      "Количество деревьев: 5 Глубина дерева: 9     Качество тренировочной выборки: 0.8925\n",
      "Количество деревьев: 5 Глубина дерева: 9     Качество валидационной выборки: 0.866     F1: 0.5489614243323442\n",
      "Количество деревьев: 6 Глубина дерева: 9     Качество тренировочной выборки: 0.8925\n",
      "Количество деревьев: 6 Глубина дерева: 9     Качество валидационной выборки: 0.866     F1: 0.5667166416791604\n",
      "Количество деревьев: 7 Глубина дерева: 9     Качество тренировочной выборки: 0.891\n",
      "Количество деревьев: 7 Глубина дерева: 9     Качество валидационной выборки: 0.866     F1: 0.5701219512195123\n",
      "Количество деревьев: 8 Глубина дерева: 9     Качество тренировочной выборки: 0.8903333333333333\n",
      "Количество деревьев: 8 Глубина дерева: 9     Качество валидационной выборки: 0.866     F1: 0.5722983257229833\n",
      "Количество деревьев: 9 Глубина дерева: 9     Качество тренировочной выборки: 0.8901666666666667\n",
      "Количество деревьев: 9 Глубина дерева: 9     Качество валидационной выборки: 0.866     F1: 0.5766312594840668\n",
      "Количество деревьев: 10 Глубина дерева: 9     Качество тренировочной выборки: 0.8918333333333334\n",
      "Количество деревьев: 10 Глубина дерева: 9     Качество валидационной выборки: 0.866     F1: 0.5809379727685325\n",
      "Количество деревьев: 11 Глубина дерева: 9     Качество тренировочной выборки: 0.8906666666666667\n",
      "Количество деревьев: 11 Глубина дерева: 9     Качество валидационной выборки: 0.866     F1: 0.5696969696969697\n",
      "Количество деревьев: 12 Глубина дерева: 9     Качество тренировочной выборки: 0.8928333333333334\n",
      "Количество деревьев: 12 Глубина дерева: 9     Качество валидационной выборки: 0.866     F1: 0.5657492354740061\n",
      "Количество деревьев: 13 Глубина дерева: 9     Качество тренировочной выборки: 0.8923333333333333\n",
      "Количество деревьев: 13 Глубина дерева: 9     Качество валидационной выборки: 0.866     F1: 0.5635528330781011\n",
      "Количество деревьев: 14 Глубина дерева: 9     Качество тренировочной выборки: 0.8925\n",
      "Количество деревьев: 14 Глубина дерева: 9     Качество валидационной выборки: 0.866     F1: 0.5670731707317073\n",
      "Количество деревьев: 15 Глубина дерева: 9     Качество тренировочной выборки: 0.8941666666666667\n",
      "Количество деревьев: 15 Глубина дерева: 9     Качество валидационной выборки: 0.866     F1: 0.5696784073506891\n",
      "Количество деревьев: 16 Глубина дерева: 9     Качество тренировочной выборки: 0.8943333333333333\n",
      "Количество деревьев: 16 Глубина дерева: 9     Качество валидационной выборки: 0.866     F1: 0.5648854961832062\n",
      "Количество деревьев: 17 Глубина дерева: 9     Качество тренировочной выборки: 0.894\n",
      "Количество деревьев: 17 Глубина дерева: 9     Качество валидационной выборки: 0.866     F1: 0.5613496932515338\n",
      "Количество деревьев: 18 Глубина дерева: 9     Качество тренировочной выборки: 0.8931666666666667\n",
      "Количество деревьев: 18 Глубина дерева: 9     Качество валидационной выборки: 0.866     F1: 0.5595054095826894\n",
      "Количество деревьев: 19 Глубина дерева: 9     Качество тренировочной выборки: 0.8931666666666667\n",
      "Количество деревьев: 19 Глубина дерева: 9     Качество валидационной выборки: 0.866     F1: 0.5740740740740741\n",
      "Количество деревьев: 20 Глубина дерева: 9     Качество тренировочной выборки: 0.8931666666666667\n",
      "Количество деревьев: 20 Глубина дерева: 9     Качество валидационной выборки: 0.866     F1: 0.5763239875389408\n",
      "Количество деревьев: 21 Глубина дерева: 9     Качество тренировочной выборки: 0.8936666666666667\n",
      "Количество деревьев: 21 Глубина дерева: 9     Качество валидационной выборки: 0.866     F1: 0.5633802816901409\n",
      "Количество деревьев: 22 Глубина дерева: 9     Качество тренировочной выборки: 0.8938333333333334\n",
      "Количество деревьев: 22 Глубина дерева: 9     Качество валидационной выборки: 0.866     F1: 0.5664556962025317\n",
      "Количество деревьев: 23 Глубина дерева: 9     Качество тренировочной выборки: 0.8938333333333334\n",
      "Количество деревьев: 23 Глубина дерева: 9     Качество валидационной выборки: 0.866     F1: 0.5714285714285714\n",
      "Количество деревьев: 24 Глубина дерева: 9     Качество тренировочной выборки: 0.8933333333333333\n",
      "Количество деревьев: 24 Глубина дерева: 9     Качество валидационной выборки: 0.866     F1: 0.5768025078369907\n",
      "Количество деревьев: 25 Глубина дерева: 9     Качество тренировочной выборки: 0.8946666666666667\n",
      "Количество деревьев: 25 Глубина дерева: 9     Качество валидационной выборки: 0.866     F1: 0.5687203791469195\n",
      "Количество деревьев: 26 Глубина дерева: 9     Качество тренировочной выборки: 0.8933333333333333\n",
      "Количество деревьев: 26 Глубина дерева: 9     Качество валидационной выборки: 0.866     F1: 0.5763779527559055\n",
      "Количество деревьев: 27 Глубина дерева: 9     Качество тренировочной выборки: 0.8943333333333333\n",
      "Количество деревьев: 27 Глубина дерева: 9     Качество валидационной выборки: 0.866     F1: 0.5745682888540031\n",
      "Количество деревьев: 28 Глубина дерева: 9     Качество тренировочной выборки: 0.8948333333333334\n",
      "Количество деревьев: 28 Глубина дерева: 9     Качество валидационной выборки: 0.866     F1: 0.5790297339593113\n",
      "Количество деревьев: 29 Глубина дерева: 9     Качество тренировочной выборки: 0.8945\n",
      "Количество деревьев: 29 Глубина дерева: 9     Качество валидационной выборки: 0.866     F1: 0.5736677115987461\n",
      "Количество деревьев: 30 Глубина дерева: 9     Качество тренировочной выборки: 0.8951666666666667\n",
      "Количество деревьев: 30 Глубина дерева: 9     Качество валидационной выборки: 0.866     F1: 0.5709828393135726\n",
      "Количество деревьев: 31 Глубина дерева: 9     Качество тренировочной выборки: 0.8945\n",
      "Количество деревьев: 31 Глубина дерева: 9     Качество валидационной выборки: 0.866     F1: 0.5696400625978091\n",
      "Количество деревьев: 32 Глубина дерева: 9     Качество тренировочной выборки: 0.8941666666666667\n",
      "Количество деревьев: 32 Глубина дерева: 9     Качество валидационной выборки: 0.866     F1: 0.5714285714285714\n",
      "Количество деревьев: 33 Глубина дерева: 9     Качество тренировочной выборки: 0.8941666666666667\n",
      "Количество деревьев: 33 Глубина дерева: 9     Качество валидационной выборки: 0.866     F1: 0.5655608214849921\n",
      "Количество деревьев: 34 Глубина дерева: 9     Качество тренировочной выборки: 0.8945\n",
      "Количество деревьев: 34 Глубина дерева: 9     Качество валидационной выборки: 0.866     F1: 0.567398119122257\n",
      "Количество деревьев: 35 Глубина дерева: 9     Качество тренировочной выборки: 0.8951666666666667\n",
      "Количество деревьев: 35 Глубина дерева: 9     Качество валидационной выборки: 0.866     F1: 0.567398119122257\n",
      "Количество деревьев: 36 Глубина дерева: 9     Качество тренировочной выборки: 0.8945\n",
      "Количество деревьев: 36 Глубина дерева: 9     Качество валидационной выборки: 0.866     F1: 0.5727699530516431\n",
      "Количество деревьев: 37 Глубина дерева: 9     Качество тренировочной выборки: 0.8943333333333333\n",
      "Количество деревьев: 37 Глубина дерева: 9     Качество валидационной выборки: 0.866     F1: 0.5772230889235569\n",
      "Количество деревьев: 38 Глубина дерева: 9     Качество тренировочной выборки: 0.8946666666666667\n",
      "Количество деревьев: 38 Глубина дерева: 9     Качество валидационной выборки: 0.866     F1: 0.578125\n",
      "Количество деревьев: 39 Глубина дерева: 9     Качество тренировочной выборки: 0.8941666666666667\n",
      "Количество деревьев: 39 Глубина дерева: 9     Качество валидационной выборки: 0.866     F1: 0.5745341614906833\n",
      "Количество деревьев: 40 Глубина дерева: 9     Качество тренировочной выборки: 0.8943333333333333\n",
      "Количество деревьев: 40 Глубина дерева: 9     Качество валидационной выборки: 0.866     F1: 0.5745682888540031\n",
      "Количество деревьев: 41 Глубина дерева: 9     Качество тренировочной выборки: 0.8945\n",
      "Количество деревьев: 41 Глубина дерева: 9     Качество валидационной выборки: 0.866     F1: 0.571875\n",
      "Количество деревьев: 42 Глубина дерева: 9     Качество тренировочной выборки: 0.895\n",
      "Количество деревьев: 42 Глубина дерева: 9     Качество валидационной выборки: 0.866     F1: 0.5741029641185648\n",
      "Количество деревьев: 43 Глубина дерева: 9     Качество тренировочной выборки: 0.894\n",
      "Количество деревьев: 43 Глубина дерева: 9     Качество валидационной выборки: 0.866     F1: 0.5678627145085803\n",
      "Количество деревьев: 44 Глубина дерева: 9     Качество тренировочной выборки: 0.8943333333333333\n",
      "Количество деревьев: 44 Глубина дерева: 9     Качество валидационной выборки: 0.866     F1: 0.5642633228840126\n",
      "Количество деревьев: 45 Глубина дерева: 9     Качество тренировочной выборки: 0.8948333333333334\n",
      "Количество деревьев: 45 Глубина дерева: 9     Качество валидационной выборки: 0.866     F1: 0.5705329153605015\n",
      "Количество деревьев: 46 Глубина дерева: 9     Качество тренировочной выборки: 0.894\n",
      "Количество деревьев: 46 Глубина дерева: 9     Качество валидационной выборки: 0.866     F1: 0.563779527559055\n",
      "Количество деревьев: 47 Глубина дерева: 9     Качество тренировочной выборки: 0.8941666666666667\n",
      "Количество деревьев: 47 Глубина дерева: 9     Качество валидационной выборки: 0.866     F1: 0.5669291338582677\n",
      "Количество деревьев: 48 Глубина дерева: 9     Качество тренировочной выборки: 0.8951666666666667\n",
      "Количество деревьев: 48 Глубина дерева: 9     Качество валидационной выборки: 0.866     F1: 0.5660377358490566\n",
      "Количество деревьев: 49 Глубина дерева: 9     Качество тренировочной выборки: 0.8943333333333333\n",
      "Количество деревьев: 49 Глубина дерева: 9     Качество валидационной выборки: 0.866     F1: 0.5727699530516431\n",
      "Количество деревьев: 50 Глубина дерева: 9     Качество тренировочной выборки: 0.8941666666666667\n",
      "Количество деревьев: 50 Глубина дерева: 9     Качество валидационной выборки: 0.866     F1: 0.5709779179810726\n",
      "Количество деревьев: 51 Глубина дерева: 9     Качество тренировочной выборки: 0.8935\n",
      "Количество деревьев: 51 Глубина дерева: 9     Качество валидационной выборки: 0.866     F1: 0.5714285714285714\n",
      "Количество деревьев: 52 Глубина дерева: 9     Качество тренировочной выборки: 0.8935\n",
      "Количество деревьев: 52 Глубина дерева: 9     Качество валидационной выборки: 0.866     F1: 0.5736677115987461\n",
      "Количество деревьев: 53 Глубина дерева: 9     Качество тренировочной выборки: 0.8936666666666667\n",
      "Количество деревьев: 53 Глубина дерева: 9     Качество валидационной выборки: 0.866     F1: 0.5714285714285714\n",
      "Количество деревьев: 54 Глубина дерева: 9     Качество тренировочной выборки: 0.8935\n",
      "Количество деревьев: 54 Глубина дерева: 9     Качество валидационной выборки: 0.866     F1: 0.5700787401574803\n",
      "Количество деревьев: 55 Глубина дерева: 9     Качество тренировочной выборки: 0.8938333333333334\n",
      "Количество деревьев: 55 Глубина дерева: 9     Качество валидационной выборки: 0.866     F1: 0.5691823899371069\n",
      "Количество деревьев: 56 Глубина дерева: 9     Качество тренировочной выборки: 0.8933333333333333\n",
      "Количество деревьев: 56 Глубина дерева: 9     Качество валидационной выборки: 0.866     F1: 0.5696400625978091\n",
      "Количество деревьев: 57 Глубина дерева: 9     Качество тренировочной выборки: 0.8936666666666667\n",
      "Количество деревьев: 57 Глубина дерева: 9     Качество валидационной выборки: 0.866     F1: 0.5642633228840126\n",
      "Количество деревьев: 58 Глубина дерева: 9     Качество тренировочной выборки: 0.8931666666666667\n",
      "Количество деревьев: 58 Глубина дерева: 9     Качество валидационной выборки: 0.866     F1: 0.5620094191522763\n",
      "Количество деревьев: 59 Глубина дерева: 9     Качество тренировочной выборки: 0.8938333333333334\n",
      "Количество деревьев: 59 Глубина дерева: 9     Качество валидационной выборки: 0.866     F1: 0.5611285266457681\n",
      "Количество деревьев: 60 Глубина дерева: 9     Качество тренировочной выборки: 0.8933333333333333\n",
      "Количество деревьев: 60 Глубина дерева: 9     Качество валидационной выборки: 0.866     F1: 0.5611285266457681\n",
      "Количество деревьев: 61 Глубина дерева: 9     Качество тренировочной выборки: 0.8931666666666667\n",
      "Количество деревьев: 61 Глубина дерева: 9     Качество валидационной выборки: 0.866     F1: 0.5611285266457681\n",
      "Количество деревьев: 62 Глубина дерева: 9     Качество тренировочной выборки: 0.893\n",
      "Количество деревьев: 62 Глубина дерева: 9     Качество валидационной выборки: 0.866     F1: 0.563779527559055\n",
      "Количество деревьев: 63 Глубина дерева: 9     Качество тренировочной выборки: 0.8938333333333334\n",
      "Количество деревьев: 63 Глубина дерева: 9     Качество валидационной выборки: 0.866     F1: 0.563779527559055\n",
      "Количество деревьев: 64 Глубина дерева: 9     Качество тренировочной выборки: 0.8941666666666667\n",
      "Количество деревьев: 64 Глубина дерева: 9     Качество валидационной выборки: 0.866     F1: 0.5642633228840126\n",
      "Количество деревьев: 65 Глубина дерева: 9     Качество тренировочной выборки: 0.8943333333333333\n",
      "Количество деревьев: 65 Глубина дерева: 9     Качество валидационной выборки: 0.866     F1: 0.5597484276729561\n",
      "Количество деревьев: 66 Глубина дерева: 9     Качество тренировочной выборки: 0.894\n",
      "Количество деревьев: 66 Глубина дерева: 9     Качество валидационной выборки: 0.866     F1: 0.5606299212598426\n",
      "Количество деревьев: 67 Глубина дерева: 9     Качество тренировочной выборки: 0.8943333333333333\n",
      "Количество деревьев: 67 Глубина дерева: 9     Качество валидационной выборки: 0.866     F1: 0.5628930817610063\n",
      "Количество деревьев: 68 Глубина дерева: 9     Качество тренировочной выборки: 0.894\n",
      "Количество деревьев: 68 Глубина дерева: 9     Качество валидационной выборки: 0.866     F1: 0.563779527559055\n",
      "Количество деревьев: 69 Глубина дерева: 9     Качество тренировочной выборки: 0.8941666666666667\n",
      "Количество деревьев: 69 Глубина дерева: 9     Качество валидационной выборки: 0.866     F1: 0.5569620253164557\n",
      "Лучшие параметры:     Количество деревьев: 45 Глубина дерева: 8     Качество: 0.866     F1: 0.5759493670886076\n",
      "CPU times: user 2min 8s, sys: 748 ms, total: 2min 9s\n",
      "Wall time: 2min 13s\n"
     ]
    }
   ],
   "source": [
    "%%time\n",
    "best_accuracy = 0\n",
    "best_est = 0\n",
    "best_f1 = 0\n",
    "for depth in range(1,10):\n",
    "    for est in range(1,70):\n",
    "        model = RandomForestClassifier(n_estimators=est, max_depth=depth, random_state=12345)\n",
    "        model.fit(features_train, target_train)\n",
    "        accuracy_train = model.score(features_train, target_train)\n",
    "        accuracy_val = model.score(features_val, target_val)\n",
    "        predictions=model.predict(features_val)\n",
    "        f1 = f1_score(predictions, target_val)\n",
    "        if accuracy_val > best_accuracy and f1 > best_f1:\n",
    "            best_accuracy = accuracy_val\n",
    "            best_depth = depth\n",
    "            best_est = est\n",
    "            best_f1=f1\n",
    "        print(\"Количество деревьев:\", est,\"Глубина дерева:\", depth, \"    Качество тренировочной выборки:\", accuracy_train)    \n",
    "        print(\"Количество деревьев:\", est,\"Глубина дерева:\", depth, \"    Качество валидационной выборки:\", best_accuracy, \"    F1:\", f1)\n",
    "print(\"Лучшие параметры:     Количество деревьев:\", best_est, \"Глубина дерева:\", best_depth, \"    Качество:\", best_accuracy, \"    F1:\", best_f1)"
   ]
  },
  {
   "cell_type": "markdown",
   "metadata": {},
   "source": [
    "<div class=\"alert alert-info\">\n",
    "<font color='black'> <b> Наилучшим образом показала себя модель случайного леса. F1 - 0.576, Качество: -  0.866. Необходимо улучшить работу модели путем балансировки исходных данных   </font> <b>"
   ]
  },
  {
   "cell_type": "markdown",
   "metadata": {},
   "source": [
    "## Борьба с дисбалансом"
   ]
  },
  {
   "cell_type": "markdown",
   "metadata": {},
   "source": [
    "<div class=\"alert alert-info\">\n",
    "<font color='black'> <b> Улучшим модель случайного леса путем увеличения числа положительных объектов целевого признака   </font> <b>"
   ]
  },
  {
   "cell_type": "code",
   "execution_count": 9,
   "metadata": {},
   "outputs": [],
   "source": [
    "def upsample(features, target, repeat):\n",
    "    features_zeros = features[target == 0]\n",
    "    features_ones = features[target == 1]\n",
    "    target_zeros = target[target == 0]\n",
    "    target_ones = target[target == 1]\n",
    "    \n",
    "    features_upsampled = pd.concat([features_zeros] + [features_ones] * repeat)\n",
    "    target_upsampled = pd.concat([target_zeros] + [target_ones] * repeat)\n",
    "    \n",
    "    features_upsampled, target_upsampled = shuffle(\n",
    "        features_upsampled, target_upsampled, random_state=12345)\n",
    "    return features_upsampled, target_upsampled\n",
    "\n",
    "features_upsampled, target_upsampled = upsample(features_train, target_train, 4)"
   ]
  },
  {
   "cell_type": "code",
   "execution_count": 10,
   "metadata": {},
   "outputs": [
    {
     "name": "stdout",
     "output_type": "stream",
     "text": [
      "F1: 0.6142709410548086\n",
      "Точность: 0.8135\n",
      "AUC-ROC: 0.8544571404375783\n"
     ]
    }
   ],
   "source": [
    "model = RandomForestClassifier(n_estimators=45, max_depth=8, random_state=12345)\n",
    "model.fit(features_upsampled, target_upsampled)\n",
    "accuracy_val = model.score(features_val, target_val)\n",
    "predictions=model.predict(features_val)\n",
    "probabilities_valid = model.predict_proba(features_val)\n",
    "probabilities_one_valid = probabilities_valid[:, 1]\n",
    "auc_roc=roc_auc_score(target_val, probabilities_one_valid)\n",
    "f1 = f1_score(predictions, target_val)\n",
    "print(\"F1:\", f1)\n",
    "print(\"Точность:\", accuracy_val)\n",
    "print(\"AUC-ROC:\", auc_roc)"
   ]
  },
  {
   "cell_type": "code",
   "execution_count": 11,
   "metadata": {},
   "outputs": [
    {
     "data": {
      "image/png": "[encoded data removed]",
      "text/plain": [
       "<Figure size 432x288 with 1 Axes>"
      ]
     },
     "metadata": {
      "needs_background": "light"
     },
     "output_type": "display_data"
    }
   ],
   "source": [
    "fpr, tpr, thresholds = roc_curve(target_val, probabilities_one_valid) \n",
    "\n",
    "plt.figure()\n",
    "plt.plot(fpr, tpr)\n",
    "plt.xlim([0.0, 1.0])\n",
    "plt.ylim([0.0, 1.0])\n",
    "plt.xlabel('False Positive Rate')\n",
    "plt.ylabel('True Positive Rate')\n",
    "plt.title('ROC-кривая')\n",
    "plt.show() "
   ]
  },
  {
   "cell_type": "markdown",
   "metadata": {},
   "source": [
    "<div class=\"alert alert-info\">\n",
    "<font color='black'> <b> Метрика F1 выросла и достигла 0.61. AUC-ROC составила 0.85 - близко к единице!   </font> <b>"
   ]
  },
  {
   "cell_type": "markdown",
   "metadata": {},
   "source": [
    "<div class=\"alert alert-info\">\n",
    "<font color='black'> <b> Улучшим модель случайного леса путем уменьшения числа отрицательных объектов целевого признака   </font> <b>"
   ]
  },
  {
   "cell_type": "code",
   "execution_count": 12,
   "metadata": {},
   "outputs": [],
   "source": [
    "def downsample(features, target, fraction):\n",
    "    features_zeros = features[target == 0]\n",
    "    features_ones = features[target == 1]\n",
    "    target_zeros = target[target == 0]\n",
    "    target_ones = target[target == 1]\n",
    "\n",
    "    features_downsampled = pd.concat(\n",
    "        [features_zeros.sample(frac=fraction, random_state=12345)] + [features_ones])\n",
    "    target_downsampled = pd.concat(\n",
    "        [target_zeros.sample(frac=fraction, random_state=12345)] + [target_ones])\n",
    "    \n",
    "    features_downsampled, target_downsampled = shuffle(\n",
    "        features_downsampled, target_downsampled, random_state=12345)\n",
    "    \n",
    "    return features_downsampled, target_downsampled\n",
    "\n",
    "features_downsampled, target_downsampled = downsample(features_train, target_train, 0.5)"
   ]
  },
  {
   "cell_type": "code",
   "execution_count": 13,
   "metadata": {},
   "outputs": [
    {
     "name": "stdout",
     "output_type": "stream",
     "text": [
      "F1: 0.6141935483870967\n",
      "Точность: 0.8505\n",
      "AUC-ROC: 0.8512073627350759\n"
     ]
    }
   ],
   "source": [
    "model = RandomForestClassifier(n_estimators=45, max_depth=8, random_state=12345)\n",
    "model.fit(features_downsampled, target_downsampled)\n",
    "accuracy_val = model.score(features_val, target_val)\n",
    "predictions=model.predict(features_val)\n",
    "probabilities_valid = model.predict_proba(features_val)\n",
    "probabilities_one_valid = probabilities_valid[:, 1]\n",
    "auc_roc=roc_auc_score(target_val, probabilities_one_valid)\n",
    "f1 = f1_score(predictions, target_val)\n",
    "print(\"F1:\", f1)\n",
    "print(\"Точность:\", accuracy_val)\n",
    "print(\"AUC-ROC:\", auc_roc)"
   ]
  },
  {
   "cell_type": "code",
   "execution_count": 14,
   "metadata": {},
   "outputs": [
    {
     "data": {
      "image/png": "[encoded data removed]",
      "text/plain": [
       "<Figure size 432x288 with 1 Axes>"
      ]
     },
     "metadata": {
      "needs_background": "light"
     },
     "output_type": "display_data"
    }
   ],
   "source": [
    "fpr, tpr, thresholds = roc_curve(target_val, probabilities_one_valid) \n",
    "\n",
    "plt.figure()\n",
    "plt.plot(fpr, tpr)\n",
    "plt.xlim([0.0, 1.0])\n",
    "plt.ylim([0.0, 1.0])\n",
    "plt.xlabel('False Positive Rate')\n",
    "plt.ylabel('True Positive Rate')\n",
    "plt.title('ROC-кривая')\n",
    "plt.show()"
   ]
  },
  {
   "cell_type": "markdown",
   "metadata": {},
   "source": [
    "<div class=\"alert alert-info\">\n",
    "<font color='black'> <b> Метрики F1 и AUC-ROC почти не изменились.       </font> <b>"
   ]
  },
  {
   "cell_type": "markdown",
   "metadata": {},
   "source": [
    "<div class=\"alert alert-block alert-success\">\n",
    "<b>Комментарий ревьюера👍:</b> Для решения проблемы дисбаланса классов можешь на будущее посмотреть: https://www.analyticsvidhya.com/blog/2020/10/overcoming-class-imbalance-using-smote-techniques/. SMOTE очень распространен в реальной жизни и исследованиях. Дисклеймер: у тебя не получится запустить эту методику здесь в Jupyter Hub из-за конфликта dependencies в результате предустановленных библиотек, поэтому поиграться с этими способами ты сможешь в локальном блокноте или в облаках типа IBM Watson или AWS.\n",
    "</div>\n"
   ]
  },
  {
   "cell_type": "markdown",
   "metadata": {},
   "source": [
    "## Тестирование модели"
   ]
  },
  {
   "cell_type": "code",
   "execution_count": 15,
   "metadata": {},
   "outputs": [
    {
     "name": "stdout",
     "output_type": "stream",
     "text": [
      "F1: 0.6175580221997982\n",
      "Точность: 0.8105\n"
     ]
    }
   ],
   "source": [
    "model = RandomForestClassifier(n_estimators=45, max_depth=8, random_state=12345)\n",
    "model.fit(features_upsampled, target_upsampled)\n",
    "accuracy_test = model.score(features_test, target_test)\n",
    "predictions=model.predict(features_test)\n",
    "f1 = f1_score(predictions, target_test)\n",
    "print(\"F1:\", f1)\n",
    "print(\"Точность:\", accuracy_test)"
   ]
  },
  {
   "cell_type": "code",
   "execution_count": 16,
   "metadata": {},
   "outputs": [
    {
     "name": "stdout",
     "output_type": "stream",
     "text": [
      "F1: 0.5906735751295338\n",
      "Точность: 0.842\n"
     ]
    }
   ],
   "source": [
    "model = RandomForestClassifier(n_estimators=45, max_depth=8, random_state=12345)\n",
    "model.fit(features_downsampled, target_downsampled)\n",
    "accuracy_test = model.score(features_test, target_test)\n",
    "predictions=model.predict(features_test)\n",
    "f1 = f1_score(predictions, target_test)\n",
    "print(\"F1:\", f1)\n",
    "print(\"Точность:\", accuracy_test)"
   ]
  },
  {
   "cell_type": "markdown",
   "metadata": {},
   "source": [
    "<div class=\"alert alert-info\">\n",
    "<font color='black'> <b> На тестовой выборке метрика F1 практически не изменилась при применении техники \"upsample\" и немного уменьшилась при применении техники \"downsample\". Проверка на адекватность модели пройдена   </font> <b>"
   ]
  },
  {
   "cell_type": "markdown",
   "metadata": {},
   "source": [
    "## Чек-лист готовности проекта"
   ]
  },
  {
   "cell_type": "markdown",
   "metadata": {},
   "source": [
    "Поставьте 'x' в выполненных пунктах. Далее нажмите Shift+Enter."
   ]
  },
  {
   "cell_type": "markdown",
   "metadata": {},
   "source": [
    "- [x]  Jupyter Notebook открыт\n",
    "- [x]  Весь код выполняется без ошибок\n",
    "- [x]  Ячейки с кодом расположены в порядке исполнения\n",
    "- [x]  Выполнен шаг 1: данные подготовлены\n",
    "- [x]  Выполнен шаг 2: задача исследована\n",
    "    - [x]  Исследован баланс классов\n",
    "    - [x]  Изучены модели без учёта дисбаланса\n",
    "    - [x]  Написаны выводы по результатам исследования\n",
    "- [x]  Выполнен шаг 3: учтён дисбаланс\n",
    "    - [x]  Применено несколько способов борьбы с дисбалансом\n",
    "    - [x]  Написаны выводы по результатам исследования\n",
    "- [x]  Выполнен шаг 4: проведено тестирование\n",
    "- [x]  Удалось достичь *F1*-меры не менее 0.59\n",
    "- [x]  Исследована метрика *AUC-ROC*"
   ]
  },
  {
   "cell_type": "markdown",
   "metadata": {
    "toc": true
   },
   "source": [
    "<h1>Содержание<span class=\"tocSkip\"></span></h1>\n",
    "<div class=\"toc\"><ul class=\"toc-item\"><li><span><a href=\"#Подготовка-данных\" data-toc-modified-id=\"Подготовка-данных-1\"><span class=\"toc-item-num\">1&nbsp;&nbsp;</span>Подготовка данных</a></span><ul class=\"toc-item\"><li><span><a href=\"#Импорт-библиотек,-исследование-данных\" data-toc-modified-id=\"Импорт-библиотек,-исследование-данных-1.1\"><span class=\"toc-item-num\">1.1&nbsp;&nbsp;</span>Импорт библиотек, исследование данных</a></span></li><li><span><a href=\"#Предобработка-данных\" data-toc-modified-id=\"Предобработка-данных-1.2\"><span class=\"toc-item-num\">1.2&nbsp;&nbsp;</span>Предобработка данных</a></span></li></ul></li><li><span><a href=\"#Исследование-задачи\" data-toc-modified-id=\"Исследование-задачи-2\"><span class=\"toc-item-num\">2&nbsp;&nbsp;</span>Исследование задачи</a></span></li><li><span><a href=\"#Борьба-с-дисбалансом\" data-toc-modified-id=\"Борьба-с-дисбалансом-3\"><span class=\"toc-item-num\">3&nbsp;&nbsp;</span>Борьба с дисбалансом</a></span></li><li><span><a href=\"#Тестирование-модели\" data-toc-modified-id=\"Тестирование-модели-4\"><span class=\"toc-item-num\">4&nbsp;&nbsp;</span>Тестирование модели</a></span></li><li><span><a href=\"#Чек-лист-готовности-проекта\" data-toc-modified-id=\"Чек-лист-готовности-проекта-5\"><span class=\"toc-item-num\">5&nbsp;&nbsp;</span>Чек-лист готовности проекта</a></span></li></ul></div>"
   ]
  },
  {
   "cell_type": "markdown",
   "metadata": {},
   "source": [
    "<div class=\"alert alert-block alert-success\">\n",
    "<b>Комментарий ревьюера👍:</b> Спасибо тебе за проделанную работу, ты демонстрируешь хорошее владение материалом спринта!\n",
    "    \n",
    "Работа зачтена, отправляю обратно, чтобы ты мог задать какие-то вопросы, может хочешь какую-то подборку статей.   \n",
    "\n",
    "\n",
    "<div class=\"alert alert-info\">\n",
    "    <h2> Комментарий студента</h2>  Написал вопросы в начале. Спасибо! </div>"
   ]
  }
 ],
 "metadata": {
  "ExecuteTimeLog": [
   {
    "duration": 182,
    "start_time": "2022-05-03T10:23:12.491Z"
   },
   {
    "duration": 53,
    "start_time": "2022-05-03T10:23:18.873Z"
   },
   {
    "duration": 455,
    "start_time": "2022-05-03T10:23:22.827Z"
   },
   {
    "duration": 48,
    "start_time": "2022-05-03T10:23:24.309Z"
   },
   {
    "duration": 47,
    "start_time": "2022-05-03T10:23:40.159Z"
   },
   {
    "duration": 53,
    "start_time": "2022-05-03T10:24:27.290Z"
   },
   {
    "duration": 59,
    "start_time": "2022-05-03T10:26:32.326Z"
   },
   {
    "duration": 79,
    "start_time": "2022-05-03T10:39:54.757Z"
   },
   {
    "duration": 55,
    "start_time": "2022-05-03T10:40:06.577Z"
   },
   {
    "duration": 57,
    "start_time": "2022-05-03T10:52:29.298Z"
   },
   {
    "duration": 6,
    "start_time": "2022-05-03T11:13:44.535Z"
   },
   {
    "duration": 10,
    "start_time": "2022-05-03T11:13:55.387Z"
   },
   {
    "duration": 10,
    "start_time": "2022-05-03T11:14:34.348Z"
   },
   {
    "duration": 208,
    "start_time": "2022-05-03T11:19:20.093Z"
   },
   {
    "duration": 12,
    "start_time": "2022-05-03T11:19:36.529Z"
   },
   {
    "duration": 16,
    "start_time": "2022-05-03T11:19:55.198Z"
   },
   {
    "duration": 13,
    "start_time": "2022-05-03T11:20:10.912Z"
   },
   {
    "duration": 12,
    "start_time": "2022-05-03T11:20:14.655Z"
   },
   {
    "duration": 847,
    "start_time": "2022-05-03T11:20:22.272Z"
   },
   {
    "duration": 59,
    "start_time": "2022-05-03T11:20:25.315Z"
   },
   {
    "duration": 56,
    "start_time": "2022-05-03T11:20:27.525Z"
   },
   {
    "duration": 13,
    "start_time": "2022-05-03T11:20:32.000Z"
   },
   {
    "duration": 48,
    "start_time": "2022-05-03T11:20:42.655Z"
   },
   {
    "duration": 16,
    "start_time": "2022-05-03T11:20:58.985Z"
   },
   {
    "duration": 10,
    "start_time": "2022-05-03T11:21:49.469Z"
   },
   {
    "duration": 13,
    "start_time": "2022-05-03T11:22:56.553Z"
   },
   {
    "duration": 13,
    "start_time": "2022-05-03T11:23:17.041Z"
   },
   {
    "duration": 14,
    "start_time": "2022-05-03T11:24:04.779Z"
   },
   {
    "duration": 13,
    "start_time": "2022-05-03T11:24:13.368Z"
   },
   {
    "duration": 14,
    "start_time": "2022-05-03T11:25:36.792Z"
   },
   {
    "duration": 2835,
    "start_time": "2022-05-03T11:25:40.016Z"
   },
   {
    "duration": 21,
    "start_time": "2022-05-03T11:26:05.663Z"
   },
   {
    "duration": 1248,
    "start_time": "2022-05-03T11:26:37.520Z"
   },
   {
    "duration": 68,
    "start_time": "2022-05-03T11:26:40.359Z"
   },
   {
    "duration": 24,
    "start_time": "2022-05-03T11:26:43.870Z"
   },
   {
    "duration": 121,
    "start_time": "2022-05-03T11:27:15.166Z"
   },
   {
    "duration": 1235,
    "start_time": "2022-05-03T11:27:28.238Z"
   },
   {
    "duration": 80,
    "start_time": "2022-05-03T11:27:30.943Z"
   },
   {
    "duration": 41,
    "start_time": "2022-05-03T11:27:34.137Z"
   },
   {
    "duration": 131,
    "start_time": "2022-05-03T11:32:34.878Z"
   },
   {
    "duration": 16,
    "start_time": "2022-05-03T11:32:50.638Z"
   },
   {
    "duration": 1269,
    "start_time": "2022-05-03T11:33:05.032Z"
   },
   {
    "duration": 100,
    "start_time": "2022-05-03T11:33:07.021Z"
   },
   {
    "duration": 147,
    "start_time": "2022-05-03T11:33:09.704Z"
   },
   {
    "duration": 21,
    "start_time": "2022-05-03T11:33:31.439Z"
   },
   {
    "duration": 1162,
    "start_time": "2022-05-03T11:33:38.684Z"
   },
   {
    "duration": 92,
    "start_time": "2022-05-03T11:33:40.475Z"
   },
   {
    "duration": 44,
    "start_time": "2022-05-03T11:33:42.772Z"
   },
   {
    "duration": 167,
    "start_time": "2022-05-03T11:34:47.426Z"
   },
   {
    "duration": 149,
    "start_time": "2022-05-03T11:34:52.757Z"
   },
   {
    "duration": 1276,
    "start_time": "2022-05-03T11:35:00.315Z"
   },
   {
    "duration": 89,
    "start_time": "2022-05-03T11:35:02.403Z"
   },
   {
    "duration": 155,
    "start_time": "2022-05-03T11:35:04.915Z"
   },
   {
    "duration": 18,
    "start_time": "2022-05-03T11:35:28.643Z"
   },
   {
    "duration": 1249,
    "start_time": "2022-05-03T11:35:35.396Z"
   },
   {
    "duration": 70,
    "start_time": "2022-05-03T11:35:37.205Z"
   },
   {
    "duration": 36,
    "start_time": "2022-05-03T11:35:39.534Z"
   },
   {
    "duration": 120,
    "start_time": "2022-05-03T11:36:02.022Z"
   },
   {
    "duration": 16,
    "start_time": "2022-05-03T11:36:09.970Z"
   },
   {
    "duration": 1461,
    "start_time": "2022-05-03T11:36:19.850Z"
   },
   {
    "duration": 73,
    "start_time": "2022-05-03T11:36:21.690Z"
   },
   {
    "duration": 67,
    "start_time": "2022-05-03T11:36:24.177Z"
   },
   {
    "duration": 117,
    "start_time": "2022-05-03T11:44:13.668Z"
   },
   {
    "duration": 94,
    "start_time": "2022-05-03T11:44:25.828Z"
   },
   {
    "duration": 96,
    "start_time": "2022-05-03T11:44:41.199Z"
   },
   {
    "duration": 129,
    "start_time": "2022-05-03T11:45:24.261Z"
   },
   {
    "duration": 75,
    "start_time": "2022-05-03T11:46:31.150Z"
   },
   {
    "duration": 83,
    "start_time": "2022-05-03T11:47:04.421Z"
   },
   {
    "duration": 70,
    "start_time": "2022-05-03T11:47:14.030Z"
   },
   {
    "duration": 25,
    "start_time": "2022-05-03T11:49:20.259Z"
   },
   {
    "duration": 21,
    "start_time": "2022-05-03T11:49:26.114Z"
   },
   {
    "duration": 14,
    "start_time": "2022-05-03T11:49:51.766Z"
   },
   {
    "duration": 1370,
    "start_time": "2022-05-03T11:50:32.547Z"
   },
   {
    "duration": 97,
    "start_time": "2022-05-03T11:50:34.966Z"
   },
   {
    "duration": 145,
    "start_time": "2022-05-03T11:50:42.286Z"
   },
   {
    "duration": 30,
    "start_time": "2022-05-03T11:50:48.590Z"
   },
   {
    "duration": 51,
    "start_time": "2022-05-03T16:16:08.416Z"
   },
   {
    "duration": 1195,
    "start_time": "2022-05-03T16:16:19.186Z"
   },
   {
    "duration": 80,
    "start_time": "2022-05-03T16:16:22.230Z"
   },
   {
    "duration": 22,
    "start_time": "2022-05-03T16:16:25.637Z"
   },
   {
    "duration": 27,
    "start_time": "2022-05-03T16:16:29.337Z"
   },
   {
    "duration": 132,
    "start_time": "2022-05-03T16:20:04.916Z"
   },
   {
    "duration": 1191,
    "start_time": "2022-05-03T16:20:16.282Z"
   },
   {
    "duration": 79,
    "start_time": "2022-05-03T16:20:19.060Z"
   },
   {
    "duration": 503,
    "start_time": "2022-05-03T16:20:22.429Z"
   },
   {
    "duration": 18,
    "start_time": "2022-05-03T16:20:59.573Z"
   },
   {
    "duration": 1162,
    "start_time": "2022-05-03T16:21:09.815Z"
   },
   {
    "duration": 83,
    "start_time": "2022-05-03T16:21:11.856Z"
   },
   {
    "duration": 435,
    "start_time": "2022-05-03T16:21:16.793Z"
   },
   {
    "duration": 19,
    "start_time": "2022-05-03T16:22:33.343Z"
   },
   {
    "duration": 1112,
    "start_time": "2022-05-03T16:22:39.739Z"
   },
   {
    "duration": 75,
    "start_time": "2022-05-03T16:22:41.941Z"
   },
   {
    "duration": 28,
    "start_time": "2022-05-03T16:22:44.368Z"
   },
   {
    "duration": 118,
    "start_time": "2022-05-03T16:23:09.885Z"
   },
   {
    "duration": 16,
    "start_time": "2022-05-03T16:23:52.752Z"
   },
   {
    "duration": 1153,
    "start_time": "2022-05-03T16:23:57.686Z"
   },
   {
    "duration": 77,
    "start_time": "2022-05-03T16:23:59.793Z"
   },
   {
    "duration": 37,
    "start_time": "2022-05-03T16:24:02.365Z"
   },
   {
    "duration": 122,
    "start_time": "2022-05-03T16:26:21.291Z"
   },
   {
    "duration": 1176,
    "start_time": "2022-05-03T16:26:36.603Z"
   },
   {
    "duration": 77,
    "start_time": "2022-05-03T16:26:38.929Z"
   },
   {
    "duration": 38,
    "start_time": "2022-05-03T16:26:41.496Z"
   },
   {
    "duration": 22,
    "start_time": "2022-05-03T16:27:13.411Z"
   },
   {
    "duration": 1115,
    "start_time": "2022-05-03T16:28:24.941Z"
   },
   {
    "duration": 77,
    "start_time": "2022-05-03T16:28:28.076Z"
   },
   {
    "duration": 27,
    "start_time": "2022-05-03T16:28:30.975Z"
   },
   {
    "duration": 111,
    "start_time": "2022-05-03T16:34:36.466Z"
   },
   {
    "duration": 18,
    "start_time": "2022-05-03T16:34:40.684Z"
   },
   {
    "duration": 16,
    "start_time": "2022-05-03T16:34:43.136Z"
   },
   {
    "duration": 1223,
    "start_time": "2022-05-03T16:34:54.764Z"
   },
   {
    "duration": 88,
    "start_time": "2022-05-03T16:34:57.384Z"
   },
   {
    "duration": 31,
    "start_time": "2022-05-03T16:35:00.353Z"
   },
   {
    "duration": 19,
    "start_time": "2022-05-03T16:35:03.685Z"
   },
   {
    "duration": 126,
    "start_time": "2022-05-03T16:35:06.927Z"
   },
   {
    "duration": 8,
    "start_time": "2022-05-03T16:35:18.821Z"
   },
   {
    "duration": 10,
    "start_time": "2022-05-03T16:40:44.849Z"
   },
   {
    "duration": 187,
    "start_time": "2022-05-03T16:50:09.502Z"
   },
   {
    "duration": 543,
    "start_time": "2022-05-03T16:52:52.165Z"
   },
   {
    "duration": 6936,
    "start_time": "2022-05-03T16:54:28.125Z"
   },
   {
    "duration": 114,
    "start_time": "2022-05-03T16:57:34.694Z"
   },
   {
    "duration": 35389,
    "start_time": "2022-05-03T16:59:06.879Z"
   },
   {
    "duration": 35302,
    "start_time": "2022-05-03T17:04:34.658Z"
   },
   {
    "duration": 170,
    "start_time": "2022-05-03T17:06:06.675Z"
   },
   {
    "duration": 104328,
    "start_time": "2022-05-03T17:06:49.706Z"
   },
   {
    "duration": 730,
    "start_time": "2022-05-03T17:12:06.012Z"
   },
   {
    "duration": 95,
    "start_time": "2022-05-03T17:13:16.448Z"
   },
   {
    "duration": 93,
    "start_time": "2022-05-03T17:13:42.268Z"
   },
   {
    "duration": 91,
    "start_time": "2022-05-03T17:15:36.836Z"
   },
   {
    "duration": 1124,
    "start_time": "2022-05-03T17:15:54.110Z"
   },
   {
    "duration": 77,
    "start_time": "2022-05-03T17:15:56.728Z"
   },
   {
    "duration": 27,
    "start_time": "2022-05-03T17:16:00.188Z"
   },
   {
    "duration": 18,
    "start_time": "2022-05-03T17:16:04.203Z"
   },
   {
    "duration": 10,
    "start_time": "2022-05-03T17:16:13.578Z"
   },
   {
    "duration": 198,
    "start_time": "2022-05-03T17:16:19.211Z"
   },
   {
    "duration": 2006,
    "start_time": "2022-05-03T17:16:25.325Z"
   },
   {
    "duration": 84,
    "start_time": "2022-05-03T17:16:32.897Z"
   },
   {
    "duration": 81,
    "start_time": "2022-05-03T17:17:17.702Z"
   },
   {
    "duration": 224,
    "start_time": "2022-05-03T17:17:59.113Z"
   },
   {
    "duration": 201,
    "start_time": "2022-05-03T17:20:49.692Z"
   },
   {
    "duration": 191,
    "start_time": "2022-05-03T17:22:35.266Z"
   },
   {
    "duration": 608,
    "start_time": "2022-05-03T17:23:59.708Z"
   },
   {
    "duration": 720,
    "start_time": "2022-05-03T17:24:29.200Z"
   },
   {
    "duration": 129263,
    "start_time": "2022-05-03T17:26:58.569Z"
   },
   {
    "duration": 1282,
    "start_time": "2022-05-05T17:03:27.970Z"
   },
   {
    "duration": 76,
    "start_time": "2022-05-05T17:03:31.951Z"
   },
   {
    "duration": 27,
    "start_time": "2022-05-05T17:03:36.913Z"
   },
   {
    "duration": 23,
    "start_time": "2022-05-05T17:03:41.068Z"
   },
   {
    "duration": 15,
    "start_time": "2022-05-05T17:03:44.559Z"
   },
   {
    "duration": 263,
    "start_time": "2022-05-05T17:03:46.577Z"
   },
   {
    "duration": 1743,
    "start_time": "2022-05-05T17:03:51.365Z"
   },
   {
    "duration": 120376,
    "start_time": "2022-05-05T17:03:56.900Z"
   },
   {
    "duration": 165,
    "start_time": "2022-05-05T17:06:05.149Z"
   },
   {
    "duration": 4,
    "start_time": "2022-05-05T17:06:34.428Z"
   },
   {
    "duration": 1395,
    "start_time": "2022-05-05T17:06:43.555Z"
   },
   {
    "duration": 73,
    "start_time": "2022-05-05T17:06:47.014Z"
   },
   {
    "duration": 26,
    "start_time": "2022-05-05T17:06:49.562Z"
   },
   {
    "duration": 17,
    "start_time": "2022-05-05T17:06:52.288Z"
   },
   {
    "duration": 9,
    "start_time": "2022-05-05T17:06:54.228Z"
   },
   {
    "duration": 197,
    "start_time": "2022-05-05T17:06:55.906Z"
   },
   {
    "duration": 298,
    "start_time": "2022-05-05T17:06:58.396Z"
   },
   {
    "duration": 126054,
    "start_time": "2022-05-05T17:07:01.370Z"
   },
   {
    "duration": 13,
    "start_time": "2022-05-05T17:09:40.138Z"
   },
   {
    "duration": 364,
    "start_time": "2022-05-05T17:14:03.384Z"
   },
   {
    "duration": 365,
    "start_time": "2022-05-05T17:14:34.036Z"
   },
   {
    "duration": 336,
    "start_time": "2022-05-05T17:19:45.692Z"
   },
   {
    "duration": 325,
    "start_time": "2022-05-05T17:20:58.362Z"
   },
   {
    "duration": 337,
    "start_time": "2022-05-05T17:21:02.239Z"
   },
   {
    "duration": 327,
    "start_time": "2022-05-05T17:21:06.292Z"
   },
   {
    "duration": 1688,
    "start_time": "2022-05-05T17:24:30.418Z"
   },
   {
    "duration": 120,
    "start_time": "2022-05-05T17:24:33.905Z"
   },
   {
    "duration": 41,
    "start_time": "2022-05-05T17:24:37.514Z"
   },
   {
    "duration": 20,
    "start_time": "2022-05-05T17:24:41.336Z"
   },
   {
    "duration": 11,
    "start_time": "2022-05-05T17:24:44.032Z"
   },
   {
    "duration": 264,
    "start_time": "2022-05-05T17:24:46.317Z"
   },
   {
    "duration": 1231,
    "start_time": "2022-05-05T17:24:49.064Z"
   },
   {
    "duration": 136385,
    "start_time": "2022-05-05T17:24:52.999Z"
   },
   {
    "duration": 15,
    "start_time": "2022-05-05T17:27:28.214Z"
   },
   {
    "duration": 406,
    "start_time": "2022-05-05T17:27:32.868Z"
   },
   {
    "duration": 370,
    "start_time": "2022-05-05T17:27:37.036Z"
   },
   {
    "duration": 25,
    "start_time": "2022-05-05T17:32:09.493Z"
   },
   {
    "duration": 216,
    "start_time": "2022-05-05T17:32:32.538Z"
   },
   {
    "duration": 18,
    "start_time": "2022-05-05T17:33:11.318Z"
   },
   {
    "duration": 227,
    "start_time": "2022-05-05T17:33:13.635Z"
   },
   {
    "duration": 222,
    "start_time": "2022-05-05T17:33:18.447Z"
   },
   {
    "duration": 224,
    "start_time": "2022-05-05T17:33:24.757Z"
   },
   {
    "duration": 220,
    "start_time": "2022-05-05T17:33:29.272Z"
   },
   {
    "duration": 234,
    "start_time": "2022-05-05T17:33:33.847Z"
   },
   {
    "duration": 405,
    "start_time": "2022-05-05T17:33:54.366Z"
   },
   {
    "duration": 283,
    "start_time": "2022-05-05T17:35:30.649Z"
   },
   {
    "duration": 425,
    "start_time": "2022-05-05T17:35:42.822Z"
   },
   {
    "duration": 245,
    "start_time": "2022-05-05T17:35:44.975Z"
   },
   {
    "duration": 494,
    "start_time": "2022-05-05T17:45:06.724Z"
   },
   {
    "duration": 414,
    "start_time": "2022-05-05T17:45:20.537Z"
   },
   {
    "duration": 1634,
    "start_time": "2022-05-05T17:46:49.191Z"
   },
   {
    "duration": 96,
    "start_time": "2022-05-05T17:46:52.724Z"
   },
   {
    "duration": 54,
    "start_time": "2022-05-05T17:46:58.085Z"
   },
   {
    "duration": 43,
    "start_time": "2022-05-05T17:47:01.391Z"
   },
   {
    "duration": 9,
    "start_time": "2022-05-05T17:47:08.379Z"
   },
   {
    "duration": 294,
    "start_time": "2022-05-05T17:47:11.834Z"
   },
   {
    "duration": 1818,
    "start_time": "2022-05-05T17:47:21.614Z"
   },
   {
    "duration": 138403,
    "start_time": "2022-05-05T17:47:28.440Z"
   },
   {
    "duration": 13,
    "start_time": "2022-05-05T17:50:12.538Z"
   },
   {
    "duration": 432,
    "start_time": "2022-05-05T17:50:17.612Z"
   },
   {
    "duration": 13,
    "start_time": "2022-05-05T17:50:26.630Z"
   },
   {
    "duration": 206,
    "start_time": "2022-05-05T17:50:28.762Z"
   },
   {
    "duration": 460,
    "start_time": "2022-05-05T17:51:21.710Z"
   },
   {
    "duration": 191,
    "start_time": "2022-05-05T17:51:24.979Z"
   },
   {
    "duration": 122,
    "start_time": "2022-05-05T17:54:38.166Z"
   },
   {
    "duration": 1691,
    "start_time": "2022-05-05T17:57:24.391Z"
   },
   {
    "duration": 140,
    "start_time": "2022-05-05T17:57:28.009Z"
   },
   {
    "duration": 37,
    "start_time": "2022-05-05T17:57:32.321Z"
   },
   {
    "duration": 20,
    "start_time": "2022-05-05T17:57:38.361Z"
   },
   {
    "duration": 33,
    "start_time": "2022-05-05T17:57:40.891Z"
   },
   {
    "duration": 262,
    "start_time": "2022-05-05T17:57:42.650Z"
   },
   {
    "duration": 1350,
    "start_time": "2022-05-05T17:57:45.774Z"
   },
   {
    "duration": 136698,
    "start_time": "2022-05-05T17:57:49.270Z"
   },
   {
    "duration": 19,
    "start_time": "2022-05-05T18:00:19.585Z"
   },
   {
    "duration": 422,
    "start_time": "2022-05-05T18:00:23.085Z"
   },
   {
    "duration": 132,
    "start_time": "2022-05-05T18:00:28.557Z"
   },
   {
    "duration": 562,
    "start_time": "2022-05-05T18:00:48.019Z"
   },
   {
    "duration": 1772,
    "start_time": "2022-05-05T18:00:59.277Z"
   },
   {
    "duration": 96,
    "start_time": "2022-05-05T18:01:02.867Z"
   },
   {
    "duration": 29,
    "start_time": "2022-05-05T18:01:05.358Z"
   },
   {
    "duration": 19,
    "start_time": "2022-05-05T18:01:08.129Z"
   },
   {
    "duration": 15,
    "start_time": "2022-05-05T18:01:10.317Z"
   },
   {
    "duration": 257,
    "start_time": "2022-05-05T18:01:11.873Z"
   },
   {
    "duration": 2674,
    "start_time": "2022-05-05T18:01:14.453Z"
   },
   {
    "duration": 161150,
    "start_time": "2022-05-05T18:01:19.461Z"
   },
   {
    "duration": 17,
    "start_time": "2022-05-05T18:04:07.454Z"
   },
   {
    "duration": 518,
    "start_time": "2022-05-05T18:04:10.741Z"
   },
   {
    "duration": 209,
    "start_time": "2022-05-05T18:04:13.634Z"
   },
   {
    "duration": 12,
    "start_time": "2022-05-05T18:04:36.369Z"
   },
   {
    "duration": 263,
    "start_time": "2022-05-05T18:04:38.689Z"
   },
   {
    "duration": 266,
    "start_time": "2022-05-05T18:04:42.009Z"
   },
   {
    "duration": 505,
    "start_time": "2022-05-05T18:05:29.412Z"
   },
   {
    "duration": 218,
    "start_time": "2022-05-05T18:05:31.959Z"
   },
   {
    "duration": 15,
    "start_time": "2022-05-05T18:09:33.856Z"
   },
   {
    "duration": 282,
    "start_time": "2022-05-05T18:09:36.784Z"
   },
   {
    "duration": 250,
    "start_time": "2022-05-05T18:09:48.913Z"
   },
   {
    "duration": 1764,
    "start_time": "2022-05-05T18:10:38.299Z"
   },
   {
    "duration": 87,
    "start_time": "2022-05-05T18:10:41.233Z"
   },
   {
    "duration": 61,
    "start_time": "2022-05-05T18:10:44.207Z"
   },
   {
    "duration": 20,
    "start_time": "2022-05-05T18:10:47.833Z"
   },
   {
    "duration": 10,
    "start_time": "2022-05-05T18:10:51.346Z"
   },
   {
    "duration": 273,
    "start_time": "2022-05-05T18:10:53.334Z"
   },
   {
    "duration": 1813,
    "start_time": "2022-05-05T18:10:56.298Z"
   },
   {
    "duration": 133770,
    "start_time": "2022-05-05T18:11:00.291Z"
   },
   {
    "duration": 19,
    "start_time": "2022-05-05T18:13:27.189Z"
   },
   {
    "duration": 437,
    "start_time": "2022-05-05T18:13:29.656Z"
   },
   {
    "duration": 208,
    "start_time": "2022-05-05T18:13:34.721Z"
   },
   {
    "duration": 17,
    "start_time": "2022-05-05T18:13:40.135Z"
   },
   {
    "duration": 261,
    "start_time": "2022-05-05T18:13:43.019Z"
   },
   {
    "duration": 254,
    "start_time": "2022-05-05T18:13:45.585Z"
   },
   {
    "duration": 423,
    "start_time": "2022-05-05T18:13:49.585Z"
   },
   {
    "duration": 242,
    "start_time": "2022-05-05T18:13:51.771Z"
   },
   {
    "duration": 1391,
    "start_time": "2022-05-24T15:29:58.055Z"
   },
   {
    "duration": 128,
    "start_time": "2022-05-24T15:30:01.156Z"
   },
   {
    "duration": 20,
    "start_time": "2022-05-24T15:30:23.723Z"
   },
   {
    "duration": 8,
    "start_time": "2022-05-24T15:35:57.664Z"
   }
  ],
  "kernelspec": {
   "display_name": "Python 3 (ipykernel)",
   "language": "python",
   "name": "python3"
  },
  "language_info": {
   "codemirror_mode": {
    "name": "ipython",
    "version": 3
   },
   "file_extension": ".py",
   "mimetype": "text/x-python",
   "name": "python",
   "nbconvert_exporter": "python",
   "pygments_lexer": "ipython3",
   "version": "3.9.5"
  },
  "toc": {
   "base_numbering": 1,
   "nav_menu": {},
   "number_sections": true,
   "sideBar": true,
   "skip_h1_title": true,
   "title_cell": "Содержание",
   "title_sidebar": "Contents",
   "toc_cell": true,
   "toc_position": {
    "height": "calc(100% - 180px)",
    "left": "10px",
    "top": "150px",
    "width": "289.6px"
   },
   "toc_section_display": true,
   "toc_window_display": false
  }
 },
 "nbformat": 4,
 "nbformat_minor": 2
}
