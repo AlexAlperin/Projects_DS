{
 "cells": [
  {
   "cell_type": "markdown",
   "metadata": {},
   "source": [
    "<font color='blue' size=5><b>Комментарий ревьюера</b></font>\n",
    "\n",
    "<font color='blue'>Привет, Александр ! Меня зовут Павел Григорьев, и я буду проверять этот проект. Спасибо за проделанную работу! Предлагаю общаться на «ты».</font>\n",
    "\n",
    "<font color='blue'>Я буду использовать различные цвета, чтобы было удобнее воспринимать мои комментарии:</font>\n",
    "\n",
    "\n",
    "---\n",
    "\n",
    "\n",
    "<font color='blue'>синий текст - просто текст комментария</font>\n",
    "\n",
    "<font color='green'>✔️ и зеленый текст - все отлично</font>\n",
    "\n",
    "<font color='orange'>⚠️ и оранжевый текст - сделано все правильно, однако есть рекомендации, на что стоит обратить внимание</font>\n",
    "\n",
    "<font color='red'>❌ и красный текст - есть недочеты</font>\n",
    "\n",
    "\n",
    "---\n",
    "\n",
    "<font color='blue'>Пожалуйста, не удаляй мои комментарии в случае возврата работы, так будет проще разобраться, какие были недочеты, а также сразу увидеть исправленное. </font>\n",
    "\n",
    "Ответы на мои комментарии лучше тоже помечать.\n",
    "Например: <font color='purple'><b>Комментарий студента</b></font>\n",
    "\n",
    "<font color='blue'><b>Давай смотреть, что получилось!</b></font>\n"
   ]
  },
  {
   "cell_type": "markdown",
   "metadata": {},
   "source": [
    "<font color='blue' size=3><b>Комментарий ревьюера 2</b></font>\n",
    "\n",
    "<font color='blue'>Привет еще раз. Спасибо, за исправления. Оформление комментариев по работе сохраняется. Только обозначим, что это вторая итерация.</font>"
   ]
  },
  {
   "cell_type": "markdown",
   "metadata": {},
   "source": [
    "<font color='blue' size=3><b>Комментарий ревьюера 3</b></font>\n",
    "\n",
    "<font color='blue'>Привет еще раз. Спасибо, за исправления. Оформление комментариев по работе сохраняется.</font>"
   ]
  },
  {
   "cell_type": "markdown",
   "metadata": {
    "toc": true
   },
   "source": [
    "<h1>Содержание<span class=\"tocSkip\"></span></h1>\n",
    "<div class=\"toc\"><ul class=\"toc-item\"><li><span><a href=\"#Подготовка-данных\" data-toc-modified-id=\"Подготовка-данных-1\"><span class=\"toc-item-num\">1&nbsp;&nbsp;</span>Подготовка данных</a></span></li><li><span><a href=\"#Анализ-данных\" data-toc-modified-id=\"Анализ-данных-2\"><span class=\"toc-item-num\">2&nbsp;&nbsp;</span>Анализ данных</a></span></li><li><span><a href=\"#Модель\" data-toc-modified-id=\"Модель-3\"><span class=\"toc-item-num\">3&nbsp;&nbsp;</span>Модель</a></span></li><li><span><a href=\"#Чек-лист-готовности-проекта\" data-toc-modified-id=\"Чек-лист-готовности-проекта-4\"><span class=\"toc-item-num\">4&nbsp;&nbsp;</span>Чек-лист готовности проекта</a></span></li></ul></div>"
   ]
  },
  {
   "cell_type": "markdown",
   "metadata": {},
   "source": [
    "# Восстановление золота из руды"
   ]
  },
  {
   "cell_type": "markdown",
   "metadata": {},
   "source": [
    "Подготовьте прототип модели машинного обучения для «Цифры». Компания разрабатывает решения для эффективной работы промышленных предприятий.\n",
    "\n",
    "Модель должна предсказать коэффициент восстановления золота из золотосодержащей руды. Используйте данные с параметрами добычи и очистки. \n",
    "\n",
    "Модель поможет оптимизировать производство, чтобы не запускать предприятие с убыточными характеристиками.\n",
    "\n",
    "Вам нужно:\n",
    "\n",
    "1. Подготовить данные;\n",
    "2. Провести исследовательский анализ данных;\n",
    "3. Построить и обучить модель.\n",
    "\n",
    "Чтобы выполнить проект, обращайтесь к библиотекам *pandas*, *matplotlib* и *sklearn.* Вам поможет их документация."
   ]
  },
  {
   "cell_type": "markdown",
   "metadata": {},
   "source": [
    "<font color='blue'><b>Комментарий ревьюера: </b></font> ✔️\\\n",
    "<font color='green'>Вступление в работу очень важно. Так ты поясняешь то, чему она посвящена.\\\n",
    "Можно ещё сделать краткий обзор данных с которыми предстоит работать.</font>"
   ]
  },
  {
   "cell_type": "markdown",
   "metadata": {},
   "source": [
    "## Подготовка данных"
   ]
  },
  {
   "cell_type": "code",
   "execution_count": 1,
   "metadata": {},
   "outputs": [],
   "source": [
    "import pandas as pd\n",
    "import numpy as np\n",
    "import matplotlib.pyplot as plt\n",
    "from sklearn.model_selection import train_test_split, GridSearchCV\n",
    "from sklearn.linear_model import LinearRegression\n",
    "from sklearn.ensemble import RandomForestRegressor\n",
    "from sklearn.tree import DecisionTreeRegressor\n",
    "from sklearn.metrics import mean_absolute_error, make_scorer\n",
    "from sklearn.model_selection import cross_val_score\n",
    "import warnings\n",
    "warnings.filterwarnings('ignore')"
   ]
  },
  {
   "cell_type": "markdown",
   "metadata": {},
   "source": [
    "<font color='blue'><b>Комментарий ревьюера: </b></font> ✔️ <br>\n",
    "<font color='green'>Здорово, что все импорты находятся в одной ячейке.<br>\n",
    "Если хочешь сделать ещё лучше, соблюдай стандарт PEP-8, разбей импорты на функциональные группы, раздели группы пустой строкой. Можно в каждой группе отсортировать импорты в алфавитном порядке.<br>\n",
    "Ссылка для ознакомления: https://pythonworld.ru/osnovy/pep-8-rukovodstvo-po-napisaniyu-koda-na-python.html\n",
    "</font>"
   ]
  },
  {
   "cell_type": "code",
   "execution_count": 2,
   "metadata": {},
   "outputs": [],
   "source": [
    "train = pd.read_csv('/datasets/gold_recovery_train_new.csv')\n",
    "test = pd.read_csv('/datasets/gold_recovery_test_new.csv')\n",
    "full_data = pd.read_csv('/datasets/gold_recovery_full_new.csv')\n"
   ]
  },
  {
   "cell_type": "code",
   "execution_count": 3,
   "metadata": {},
   "outputs": [
    {
     "data": {
      "text/plain": [
       "((14149, 87), (5290, 53), (19439, 87))"
      ]
     },
     "execution_count": 3,
     "metadata": {},
     "output_type": "execute_result"
    }
   ],
   "source": [
    "(train.shape), (test.shape), (full_data.shape)"
   ]
  },
  {
   "cell_type": "code",
   "execution_count": 4,
   "metadata": {},
   "outputs": [
    {
     "data": {
      "text/html": [
       "<div>\n",
       "<style scoped>\n",
       "    .dataframe tbody tr th:only-of-type {\n",
       "        vertical-align: middle;\n",
       "    }\n",
       "\n",
       "    .dataframe tbody tr th {\n",
       "        vertical-align: top;\n",
       "    }\n",
       "\n",
       "    .dataframe thead th {\n",
       "        text-align: right;\n",
       "    }\n",
       "</style>\n",
       "<table border=\"1\" class=\"dataframe\">\n",
       "  <thead>\n",
       "    <tr style=\"text-align: right;\">\n",
       "      <th></th>\n",
       "      <th>date</th>\n",
       "      <th>final.output.concentrate_ag</th>\n",
       "      <th>final.output.concentrate_pb</th>\n",
       "      <th>final.output.concentrate_sol</th>\n",
       "      <th>final.output.concentrate_au</th>\n",
       "      <th>final.output.recovery</th>\n",
       "      <th>final.output.tail_ag</th>\n",
       "      <th>final.output.tail_pb</th>\n",
       "      <th>final.output.tail_sol</th>\n",
       "      <th>final.output.tail_au</th>\n",
       "      <th>...</th>\n",
       "      <th>secondary_cleaner.state.floatbank4_a_air</th>\n",
       "      <th>secondary_cleaner.state.floatbank4_a_level</th>\n",
       "      <th>secondary_cleaner.state.floatbank4_b_air</th>\n",
       "      <th>secondary_cleaner.state.floatbank4_b_level</th>\n",
       "      <th>secondary_cleaner.state.floatbank5_a_air</th>\n",
       "      <th>secondary_cleaner.state.floatbank5_a_level</th>\n",
       "      <th>secondary_cleaner.state.floatbank5_b_air</th>\n",
       "      <th>secondary_cleaner.state.floatbank5_b_level</th>\n",
       "      <th>secondary_cleaner.state.floatbank6_a_air</th>\n",
       "      <th>secondary_cleaner.state.floatbank6_a_level</th>\n",
       "    </tr>\n",
       "  </thead>\n",
       "  <tbody>\n",
       "    <tr>\n",
       "      <th>0</th>\n",
       "      <td>2016-01-15 00:00:00</td>\n",
       "      <td>6.055403</td>\n",
       "      <td>9.889648</td>\n",
       "      <td>5.507324</td>\n",
       "      <td>42.192020</td>\n",
       "      <td>70.541216</td>\n",
       "      <td>10.411962</td>\n",
       "      <td>0.895447</td>\n",
       "      <td>16.904297</td>\n",
       "      <td>2.143149</td>\n",
       "      <td>...</td>\n",
       "      <td>14.016835</td>\n",
       "      <td>-502.488007</td>\n",
       "      <td>12.099931</td>\n",
       "      <td>-504.715942</td>\n",
       "      <td>9.925633</td>\n",
       "      <td>-498.310211</td>\n",
       "      <td>8.079666</td>\n",
       "      <td>-500.470978</td>\n",
       "      <td>14.151341</td>\n",
       "      <td>-605.841980</td>\n",
       "    </tr>\n",
       "    <tr>\n",
       "      <th>1</th>\n",
       "      <td>2016-01-15 01:00:00</td>\n",
       "      <td>6.029369</td>\n",
       "      <td>9.968944</td>\n",
       "      <td>5.257781</td>\n",
       "      <td>42.701629</td>\n",
       "      <td>69.266198</td>\n",
       "      <td>10.462676</td>\n",
       "      <td>0.927452</td>\n",
       "      <td>16.634514</td>\n",
       "      <td>2.224930</td>\n",
       "      <td>...</td>\n",
       "      <td>13.992281</td>\n",
       "      <td>-505.503262</td>\n",
       "      <td>11.950531</td>\n",
       "      <td>-501.331529</td>\n",
       "      <td>10.039245</td>\n",
       "      <td>-500.169983</td>\n",
       "      <td>7.984757</td>\n",
       "      <td>-500.582168</td>\n",
       "      <td>13.998353</td>\n",
       "      <td>-599.787184</td>\n",
       "    </tr>\n",
       "    <tr>\n",
       "      <th>2</th>\n",
       "      <td>2016-01-15 02:00:00</td>\n",
       "      <td>6.055926</td>\n",
       "      <td>10.213995</td>\n",
       "      <td>5.383759</td>\n",
       "      <td>42.657501</td>\n",
       "      <td>68.116445</td>\n",
       "      <td>10.507046</td>\n",
       "      <td>0.953716</td>\n",
       "      <td>16.208849</td>\n",
       "      <td>2.257889</td>\n",
       "      <td>...</td>\n",
       "      <td>14.015015</td>\n",
       "      <td>-502.520901</td>\n",
       "      <td>11.912783</td>\n",
       "      <td>-501.133383</td>\n",
       "      <td>10.070913</td>\n",
       "      <td>-500.129135</td>\n",
       "      <td>8.013877</td>\n",
       "      <td>-500.517572</td>\n",
       "      <td>14.028663</td>\n",
       "      <td>-601.427363</td>\n",
       "    </tr>\n",
       "    <tr>\n",
       "      <th>3</th>\n",
       "      <td>2016-01-15 03:00:00</td>\n",
       "      <td>6.047977</td>\n",
       "      <td>9.977019</td>\n",
       "      <td>4.858634</td>\n",
       "      <td>42.689819</td>\n",
       "      <td>68.347543</td>\n",
       "      <td>10.422762</td>\n",
       "      <td>0.883763</td>\n",
       "      <td>16.532835</td>\n",
       "      <td>2.146849</td>\n",
       "      <td>...</td>\n",
       "      <td>14.036510</td>\n",
       "      <td>-500.857308</td>\n",
       "      <td>11.999550</td>\n",
       "      <td>-501.193686</td>\n",
       "      <td>9.970366</td>\n",
       "      <td>-499.201640</td>\n",
       "      <td>7.977324</td>\n",
       "      <td>-500.255908</td>\n",
       "      <td>14.005551</td>\n",
       "      <td>-599.996129</td>\n",
       "    </tr>\n",
       "    <tr>\n",
       "      <th>4</th>\n",
       "      <td>2016-01-15 04:00:00</td>\n",
       "      <td>6.148599</td>\n",
       "      <td>10.142511</td>\n",
       "      <td>4.939416</td>\n",
       "      <td>42.774141</td>\n",
       "      <td>66.927016</td>\n",
       "      <td>10.360302</td>\n",
       "      <td>0.792826</td>\n",
       "      <td>16.525686</td>\n",
       "      <td>2.055292</td>\n",
       "      <td>...</td>\n",
       "      <td>14.027298</td>\n",
       "      <td>-499.838632</td>\n",
       "      <td>11.953070</td>\n",
       "      <td>-501.053894</td>\n",
       "      <td>9.925709</td>\n",
       "      <td>-501.686727</td>\n",
       "      <td>7.894242</td>\n",
       "      <td>-500.356035</td>\n",
       "      <td>13.996647</td>\n",
       "      <td>-601.496691</td>\n",
       "    </tr>\n",
       "  </tbody>\n",
       "</table>\n",
       "<p>5 rows × 87 columns</p>\n",
       "</div>"
      ],
      "text/plain": [
       "                  date  final.output.concentrate_ag  \\\n",
       "0  2016-01-15 00:00:00                     6.055403   \n",
       "1  2016-01-15 01:00:00                     6.029369   \n",
       "2  2016-01-15 02:00:00                     6.055926   \n",
       "3  2016-01-15 03:00:00                     6.047977   \n",
       "4  2016-01-15 04:00:00                     6.148599   \n",
       "\n",
       "   final.output.concentrate_pb  final.output.concentrate_sol  \\\n",
       "0                     9.889648                      5.507324   \n",
       "1                     9.968944                      5.257781   \n",
       "2                    10.213995                      5.383759   \n",
       "3                     9.977019                      4.858634   \n",
       "4                    10.142511                      4.939416   \n",
       "\n",
       "   final.output.concentrate_au  final.output.recovery  final.output.tail_ag  \\\n",
       "0                    42.192020              70.541216             10.411962   \n",
       "1                    42.701629              69.266198             10.462676   \n",
       "2                    42.657501              68.116445             10.507046   \n",
       "3                    42.689819              68.347543             10.422762   \n",
       "4                    42.774141              66.927016             10.360302   \n",
       "\n",
       "   final.output.tail_pb  final.output.tail_sol  final.output.tail_au  ...  \\\n",
       "0              0.895447              16.904297              2.143149  ...   \n",
       "1              0.927452              16.634514              2.224930  ...   \n",
       "2              0.953716              16.208849              2.257889  ...   \n",
       "3              0.883763              16.532835              2.146849  ...   \n",
       "4              0.792826              16.525686              2.055292  ...   \n",
       "\n",
       "   secondary_cleaner.state.floatbank4_a_air  \\\n",
       "0                                 14.016835   \n",
       "1                                 13.992281   \n",
       "2                                 14.015015   \n",
       "3                                 14.036510   \n",
       "4                                 14.027298   \n",
       "\n",
       "   secondary_cleaner.state.floatbank4_a_level  \\\n",
       "0                                 -502.488007   \n",
       "1                                 -505.503262   \n",
       "2                                 -502.520901   \n",
       "3                                 -500.857308   \n",
       "4                                 -499.838632   \n",
       "\n",
       "   secondary_cleaner.state.floatbank4_b_air  \\\n",
       "0                                 12.099931   \n",
       "1                                 11.950531   \n",
       "2                                 11.912783   \n",
       "3                                 11.999550   \n",
       "4                                 11.953070   \n",
       "\n",
       "   secondary_cleaner.state.floatbank4_b_level  \\\n",
       "0                                 -504.715942   \n",
       "1                                 -501.331529   \n",
       "2                                 -501.133383   \n",
       "3                                 -501.193686   \n",
       "4                                 -501.053894   \n",
       "\n",
       "   secondary_cleaner.state.floatbank5_a_air  \\\n",
       "0                                  9.925633   \n",
       "1                                 10.039245   \n",
       "2                                 10.070913   \n",
       "3                                  9.970366   \n",
       "4                                  9.925709   \n",
       "\n",
       "   secondary_cleaner.state.floatbank5_a_level  \\\n",
       "0                                 -498.310211   \n",
       "1                                 -500.169983   \n",
       "2                                 -500.129135   \n",
       "3                                 -499.201640   \n",
       "4                                 -501.686727   \n",
       "\n",
       "   secondary_cleaner.state.floatbank5_b_air  \\\n",
       "0                                  8.079666   \n",
       "1                                  7.984757   \n",
       "2                                  8.013877   \n",
       "3                                  7.977324   \n",
       "4                                  7.894242   \n",
       "\n",
       "   secondary_cleaner.state.floatbank5_b_level  \\\n",
       "0                                 -500.470978   \n",
       "1                                 -500.582168   \n",
       "2                                 -500.517572   \n",
       "3                                 -500.255908   \n",
       "4                                 -500.356035   \n",
       "\n",
       "   secondary_cleaner.state.floatbank6_a_air  \\\n",
       "0                                 14.151341   \n",
       "1                                 13.998353   \n",
       "2                                 14.028663   \n",
       "3                                 14.005551   \n",
       "4                                 13.996647   \n",
       "\n",
       "   secondary_cleaner.state.floatbank6_a_level  \n",
       "0                                 -605.841980  \n",
       "1                                 -599.787184  \n",
       "2                                 -601.427363  \n",
       "3                                 -599.996129  \n",
       "4                                 -601.496691  \n",
       "\n",
       "[5 rows x 87 columns]"
      ]
     },
     "metadata": {},
     "output_type": "display_data"
    }
   ],
   "source": [
    "display (train.head())"
   ]
  },
  {
   "cell_type": "code",
   "execution_count": 5,
   "metadata": {},
   "outputs": [
    {
     "data": {
      "text/html": [
       "<div>\n",
       "<style scoped>\n",
       "    .dataframe tbody tr th:only-of-type {\n",
       "        vertical-align: middle;\n",
       "    }\n",
       "\n",
       "    .dataframe tbody tr th {\n",
       "        vertical-align: top;\n",
       "    }\n",
       "\n",
       "    .dataframe thead th {\n",
       "        text-align: right;\n",
       "    }\n",
       "</style>\n",
       "<table border=\"1\" class=\"dataframe\">\n",
       "  <thead>\n",
       "    <tr style=\"text-align: right;\">\n",
       "      <th></th>\n",
       "      <th>date</th>\n",
       "      <th>primary_cleaner.input.sulfate</th>\n",
       "      <th>primary_cleaner.input.depressant</th>\n",
       "      <th>primary_cleaner.input.feed_size</th>\n",
       "      <th>primary_cleaner.input.xanthate</th>\n",
       "      <th>primary_cleaner.state.floatbank8_a_air</th>\n",
       "      <th>primary_cleaner.state.floatbank8_a_level</th>\n",
       "      <th>primary_cleaner.state.floatbank8_b_air</th>\n",
       "      <th>primary_cleaner.state.floatbank8_b_level</th>\n",
       "      <th>primary_cleaner.state.floatbank8_c_air</th>\n",
       "      <th>...</th>\n",
       "      <th>secondary_cleaner.state.floatbank4_a_air</th>\n",
       "      <th>secondary_cleaner.state.floatbank4_a_level</th>\n",
       "      <th>secondary_cleaner.state.floatbank4_b_air</th>\n",
       "      <th>secondary_cleaner.state.floatbank4_b_level</th>\n",
       "      <th>secondary_cleaner.state.floatbank5_a_air</th>\n",
       "      <th>secondary_cleaner.state.floatbank5_a_level</th>\n",
       "      <th>secondary_cleaner.state.floatbank5_b_air</th>\n",
       "      <th>secondary_cleaner.state.floatbank5_b_level</th>\n",
       "      <th>secondary_cleaner.state.floatbank6_a_air</th>\n",
       "      <th>secondary_cleaner.state.floatbank6_a_level</th>\n",
       "    </tr>\n",
       "  </thead>\n",
       "  <tbody>\n",
       "    <tr>\n",
       "      <th>0</th>\n",
       "      <td>2016-09-01 00:59:59</td>\n",
       "      <td>210.800909</td>\n",
       "      <td>14.993118</td>\n",
       "      <td>8.080000</td>\n",
       "      <td>1.005021</td>\n",
       "      <td>1398.981301</td>\n",
       "      <td>-500.225577</td>\n",
       "      <td>1399.144926</td>\n",
       "      <td>-499.919735</td>\n",
       "      <td>1400.102998</td>\n",
       "      <td>...</td>\n",
       "      <td>12.023554</td>\n",
       "      <td>-497.795834</td>\n",
       "      <td>8.016656</td>\n",
       "      <td>-501.289139</td>\n",
       "      <td>7.946562</td>\n",
       "      <td>-432.317850</td>\n",
       "      <td>4.872511</td>\n",
       "      <td>-500.037437</td>\n",
       "      <td>26.705889</td>\n",
       "      <td>-499.709414</td>\n",
       "    </tr>\n",
       "    <tr>\n",
       "      <th>1</th>\n",
       "      <td>2016-09-01 01:59:59</td>\n",
       "      <td>215.392455</td>\n",
       "      <td>14.987471</td>\n",
       "      <td>8.080000</td>\n",
       "      <td>0.990469</td>\n",
       "      <td>1398.777912</td>\n",
       "      <td>-500.057435</td>\n",
       "      <td>1398.055362</td>\n",
       "      <td>-499.778182</td>\n",
       "      <td>1396.151033</td>\n",
       "      <td>...</td>\n",
       "      <td>12.058140</td>\n",
       "      <td>-498.695773</td>\n",
       "      <td>8.130979</td>\n",
       "      <td>-499.634209</td>\n",
       "      <td>7.958270</td>\n",
       "      <td>-525.839648</td>\n",
       "      <td>4.878850</td>\n",
       "      <td>-500.162375</td>\n",
       "      <td>25.019940</td>\n",
       "      <td>-499.819438</td>\n",
       "    </tr>\n",
       "    <tr>\n",
       "      <th>2</th>\n",
       "      <td>2016-09-01 02:59:59</td>\n",
       "      <td>215.259946</td>\n",
       "      <td>12.884934</td>\n",
       "      <td>7.786667</td>\n",
       "      <td>0.996043</td>\n",
       "      <td>1398.493666</td>\n",
       "      <td>-500.868360</td>\n",
       "      <td>1398.860436</td>\n",
       "      <td>-499.764529</td>\n",
       "      <td>1398.075709</td>\n",
       "      <td>...</td>\n",
       "      <td>11.962366</td>\n",
       "      <td>-498.767484</td>\n",
       "      <td>8.096893</td>\n",
       "      <td>-500.827423</td>\n",
       "      <td>8.071056</td>\n",
       "      <td>-500.801673</td>\n",
       "      <td>4.905125</td>\n",
       "      <td>-499.828510</td>\n",
       "      <td>24.994862</td>\n",
       "      <td>-500.622559</td>\n",
       "    </tr>\n",
       "    <tr>\n",
       "      <th>3</th>\n",
       "      <td>2016-09-01 03:59:59</td>\n",
       "      <td>215.336236</td>\n",
       "      <td>12.006805</td>\n",
       "      <td>7.640000</td>\n",
       "      <td>0.863514</td>\n",
       "      <td>1399.618111</td>\n",
       "      <td>-498.863574</td>\n",
       "      <td>1397.440120</td>\n",
       "      <td>-499.211024</td>\n",
       "      <td>1400.129303</td>\n",
       "      <td>...</td>\n",
       "      <td>12.033091</td>\n",
       "      <td>-498.350935</td>\n",
       "      <td>8.074946</td>\n",
       "      <td>-499.474407</td>\n",
       "      <td>7.897085</td>\n",
       "      <td>-500.868509</td>\n",
       "      <td>4.931400</td>\n",
       "      <td>-499.963623</td>\n",
       "      <td>24.948919</td>\n",
       "      <td>-498.709987</td>\n",
       "    </tr>\n",
       "    <tr>\n",
       "      <th>4</th>\n",
       "      <td>2016-09-01 04:59:59</td>\n",
       "      <td>199.099327</td>\n",
       "      <td>10.682530</td>\n",
       "      <td>7.530000</td>\n",
       "      <td>0.805575</td>\n",
       "      <td>1401.268123</td>\n",
       "      <td>-500.808305</td>\n",
       "      <td>1398.128818</td>\n",
       "      <td>-499.504543</td>\n",
       "      <td>1402.172226</td>\n",
       "      <td>...</td>\n",
       "      <td>12.025367</td>\n",
       "      <td>-500.786497</td>\n",
       "      <td>8.054678</td>\n",
       "      <td>-500.397500</td>\n",
       "      <td>8.107890</td>\n",
       "      <td>-509.526725</td>\n",
       "      <td>4.957674</td>\n",
       "      <td>-500.360026</td>\n",
       "      <td>25.003331</td>\n",
       "      <td>-500.856333</td>\n",
       "    </tr>\n",
       "  </tbody>\n",
       "</table>\n",
       "<p>5 rows × 53 columns</p>\n",
       "</div>"
      ],
      "text/plain": [
       "                  date  primary_cleaner.input.sulfate  \\\n",
       "0  2016-09-01 00:59:59                     210.800909   \n",
       "1  2016-09-01 01:59:59                     215.392455   \n",
       "2  2016-09-01 02:59:59                     215.259946   \n",
       "3  2016-09-01 03:59:59                     215.336236   \n",
       "4  2016-09-01 04:59:59                     199.099327   \n",
       "\n",
       "   primary_cleaner.input.depressant  primary_cleaner.input.feed_size  \\\n",
       "0                         14.993118                         8.080000   \n",
       "1                         14.987471                         8.080000   \n",
       "2                         12.884934                         7.786667   \n",
       "3                         12.006805                         7.640000   \n",
       "4                         10.682530                         7.530000   \n",
       "\n",
       "   primary_cleaner.input.xanthate  primary_cleaner.state.floatbank8_a_air  \\\n",
       "0                        1.005021                             1398.981301   \n",
       "1                        0.990469                             1398.777912   \n",
       "2                        0.996043                             1398.493666   \n",
       "3                        0.863514                             1399.618111   \n",
       "4                        0.805575                             1401.268123   \n",
       "\n",
       "   primary_cleaner.state.floatbank8_a_level  \\\n",
       "0                               -500.225577   \n",
       "1                               -500.057435   \n",
       "2                               -500.868360   \n",
       "3                               -498.863574   \n",
       "4                               -500.808305   \n",
       "\n",
       "   primary_cleaner.state.floatbank8_b_air  \\\n",
       "0                             1399.144926   \n",
       "1                             1398.055362   \n",
       "2                             1398.860436   \n",
       "3                             1397.440120   \n",
       "4                             1398.128818   \n",
       "\n",
       "   primary_cleaner.state.floatbank8_b_level  \\\n",
       "0                               -499.919735   \n",
       "1                               -499.778182   \n",
       "2                               -499.764529   \n",
       "3                               -499.211024   \n",
       "4                               -499.504543   \n",
       "\n",
       "   primary_cleaner.state.floatbank8_c_air  ...  \\\n",
       "0                             1400.102998  ...   \n",
       "1                             1396.151033  ...   \n",
       "2                             1398.075709  ...   \n",
       "3                             1400.129303  ...   \n",
       "4                             1402.172226  ...   \n",
       "\n",
       "   secondary_cleaner.state.floatbank4_a_air  \\\n",
       "0                                 12.023554   \n",
       "1                                 12.058140   \n",
       "2                                 11.962366   \n",
       "3                                 12.033091   \n",
       "4                                 12.025367   \n",
       "\n",
       "   secondary_cleaner.state.floatbank4_a_level  \\\n",
       "0                                 -497.795834   \n",
       "1                                 -498.695773   \n",
       "2                                 -498.767484   \n",
       "3                                 -498.350935   \n",
       "4                                 -500.786497   \n",
       "\n",
       "   secondary_cleaner.state.floatbank4_b_air  \\\n",
       "0                                  8.016656   \n",
       "1                                  8.130979   \n",
       "2                                  8.096893   \n",
       "3                                  8.074946   \n",
       "4                                  8.054678   \n",
       "\n",
       "   secondary_cleaner.state.floatbank4_b_level  \\\n",
       "0                                 -501.289139   \n",
       "1                                 -499.634209   \n",
       "2                                 -500.827423   \n",
       "3                                 -499.474407   \n",
       "4                                 -500.397500   \n",
       "\n",
       "   secondary_cleaner.state.floatbank5_a_air  \\\n",
       "0                                  7.946562   \n",
       "1                                  7.958270   \n",
       "2                                  8.071056   \n",
       "3                                  7.897085   \n",
       "4                                  8.107890   \n",
       "\n",
       "   secondary_cleaner.state.floatbank5_a_level  \\\n",
       "0                                 -432.317850   \n",
       "1                                 -525.839648   \n",
       "2                                 -500.801673   \n",
       "3                                 -500.868509   \n",
       "4                                 -509.526725   \n",
       "\n",
       "   secondary_cleaner.state.floatbank5_b_air  \\\n",
       "0                                  4.872511   \n",
       "1                                  4.878850   \n",
       "2                                  4.905125   \n",
       "3                                  4.931400   \n",
       "4                                  4.957674   \n",
       "\n",
       "   secondary_cleaner.state.floatbank5_b_level  \\\n",
       "0                                 -500.037437   \n",
       "1                                 -500.162375   \n",
       "2                                 -499.828510   \n",
       "3                                 -499.963623   \n",
       "4                                 -500.360026   \n",
       "\n",
       "   secondary_cleaner.state.floatbank6_a_air  \\\n",
       "0                                 26.705889   \n",
       "1                                 25.019940   \n",
       "2                                 24.994862   \n",
       "3                                 24.948919   \n",
       "4                                 25.003331   \n",
       "\n",
       "   secondary_cleaner.state.floatbank6_a_level  \n",
       "0                                 -499.709414  \n",
       "1                                 -499.819438  \n",
       "2                                 -500.622559  \n",
       "3                                 -498.709987  \n",
       "4                                 -500.856333  \n",
       "\n",
       "[5 rows x 53 columns]"
      ]
     },
     "metadata": {},
     "output_type": "display_data"
    }
   ],
   "source": [
    "display (test.head())"
   ]
  },
  {
   "cell_type": "code",
   "execution_count": 6,
   "metadata": {},
   "outputs": [
    {
     "data": {
      "text/html": [
       "<div>\n",
       "<style scoped>\n",
       "    .dataframe tbody tr th:only-of-type {\n",
       "        vertical-align: middle;\n",
       "    }\n",
       "\n",
       "    .dataframe tbody tr th {\n",
       "        vertical-align: top;\n",
       "    }\n",
       "\n",
       "    .dataframe thead th {\n",
       "        text-align: right;\n",
       "    }\n",
       "</style>\n",
       "<table border=\"1\" class=\"dataframe\">\n",
       "  <thead>\n",
       "    <tr style=\"text-align: right;\">\n",
       "      <th></th>\n",
       "      <th>date</th>\n",
       "      <th>final.output.concentrate_ag</th>\n",
       "      <th>final.output.concentrate_pb</th>\n",
       "      <th>final.output.concentrate_sol</th>\n",
       "      <th>final.output.concentrate_au</th>\n",
       "      <th>final.output.recovery</th>\n",
       "      <th>final.output.tail_ag</th>\n",
       "      <th>final.output.tail_pb</th>\n",
       "      <th>final.output.tail_sol</th>\n",
       "      <th>final.output.tail_au</th>\n",
       "      <th>...</th>\n",
       "      <th>secondary_cleaner.state.floatbank4_a_air</th>\n",
       "      <th>secondary_cleaner.state.floatbank4_a_level</th>\n",
       "      <th>secondary_cleaner.state.floatbank4_b_air</th>\n",
       "      <th>secondary_cleaner.state.floatbank4_b_level</th>\n",
       "      <th>secondary_cleaner.state.floatbank5_a_air</th>\n",
       "      <th>secondary_cleaner.state.floatbank5_a_level</th>\n",
       "      <th>secondary_cleaner.state.floatbank5_b_air</th>\n",
       "      <th>secondary_cleaner.state.floatbank5_b_level</th>\n",
       "      <th>secondary_cleaner.state.floatbank6_a_air</th>\n",
       "      <th>secondary_cleaner.state.floatbank6_a_level</th>\n",
       "    </tr>\n",
       "  </thead>\n",
       "  <tbody>\n",
       "    <tr>\n",
       "      <th>0</th>\n",
       "      <td>2016-01-15 00:00:00</td>\n",
       "      <td>6.055403</td>\n",
       "      <td>9.889648</td>\n",
       "      <td>5.507324</td>\n",
       "      <td>42.192020</td>\n",
       "      <td>70.541216</td>\n",
       "      <td>10.411962</td>\n",
       "      <td>0.895447</td>\n",
       "      <td>16.904297</td>\n",
       "      <td>2.143149</td>\n",
       "      <td>...</td>\n",
       "      <td>14.016835</td>\n",
       "      <td>-502.488007</td>\n",
       "      <td>12.099931</td>\n",
       "      <td>-504.715942</td>\n",
       "      <td>9.925633</td>\n",
       "      <td>-498.310211</td>\n",
       "      <td>8.079666</td>\n",
       "      <td>-500.470978</td>\n",
       "      <td>14.151341</td>\n",
       "      <td>-605.841980</td>\n",
       "    </tr>\n",
       "    <tr>\n",
       "      <th>1</th>\n",
       "      <td>2016-01-15 01:00:00</td>\n",
       "      <td>6.029369</td>\n",
       "      <td>9.968944</td>\n",
       "      <td>5.257781</td>\n",
       "      <td>42.701629</td>\n",
       "      <td>69.266198</td>\n",
       "      <td>10.462676</td>\n",
       "      <td>0.927452</td>\n",
       "      <td>16.634514</td>\n",
       "      <td>2.224930</td>\n",
       "      <td>...</td>\n",
       "      <td>13.992281</td>\n",
       "      <td>-505.503262</td>\n",
       "      <td>11.950531</td>\n",
       "      <td>-501.331529</td>\n",
       "      <td>10.039245</td>\n",
       "      <td>-500.169983</td>\n",
       "      <td>7.984757</td>\n",
       "      <td>-500.582168</td>\n",
       "      <td>13.998353</td>\n",
       "      <td>-599.787184</td>\n",
       "    </tr>\n",
       "    <tr>\n",
       "      <th>2</th>\n",
       "      <td>2016-01-15 02:00:00</td>\n",
       "      <td>6.055926</td>\n",
       "      <td>10.213995</td>\n",
       "      <td>5.383759</td>\n",
       "      <td>42.657501</td>\n",
       "      <td>68.116445</td>\n",
       "      <td>10.507046</td>\n",
       "      <td>0.953716</td>\n",
       "      <td>16.208849</td>\n",
       "      <td>2.257889</td>\n",
       "      <td>...</td>\n",
       "      <td>14.015015</td>\n",
       "      <td>-502.520901</td>\n",
       "      <td>11.912783</td>\n",
       "      <td>-501.133383</td>\n",
       "      <td>10.070913</td>\n",
       "      <td>-500.129135</td>\n",
       "      <td>8.013877</td>\n",
       "      <td>-500.517572</td>\n",
       "      <td>14.028663</td>\n",
       "      <td>-601.427363</td>\n",
       "    </tr>\n",
       "    <tr>\n",
       "      <th>3</th>\n",
       "      <td>2016-01-15 03:00:00</td>\n",
       "      <td>6.047977</td>\n",
       "      <td>9.977019</td>\n",
       "      <td>4.858634</td>\n",
       "      <td>42.689819</td>\n",
       "      <td>68.347543</td>\n",
       "      <td>10.422762</td>\n",
       "      <td>0.883763</td>\n",
       "      <td>16.532835</td>\n",
       "      <td>2.146849</td>\n",
       "      <td>...</td>\n",
       "      <td>14.036510</td>\n",
       "      <td>-500.857308</td>\n",
       "      <td>11.999550</td>\n",
       "      <td>-501.193686</td>\n",
       "      <td>9.970366</td>\n",
       "      <td>-499.201640</td>\n",
       "      <td>7.977324</td>\n",
       "      <td>-500.255908</td>\n",
       "      <td>14.005551</td>\n",
       "      <td>-599.996129</td>\n",
       "    </tr>\n",
       "    <tr>\n",
       "      <th>4</th>\n",
       "      <td>2016-01-15 04:00:00</td>\n",
       "      <td>6.148599</td>\n",
       "      <td>10.142511</td>\n",
       "      <td>4.939416</td>\n",
       "      <td>42.774141</td>\n",
       "      <td>66.927016</td>\n",
       "      <td>10.360302</td>\n",
       "      <td>0.792826</td>\n",
       "      <td>16.525686</td>\n",
       "      <td>2.055292</td>\n",
       "      <td>...</td>\n",
       "      <td>14.027298</td>\n",
       "      <td>-499.838632</td>\n",
       "      <td>11.953070</td>\n",
       "      <td>-501.053894</td>\n",
       "      <td>9.925709</td>\n",
       "      <td>-501.686727</td>\n",
       "      <td>7.894242</td>\n",
       "      <td>-500.356035</td>\n",
       "      <td>13.996647</td>\n",
       "      <td>-601.496691</td>\n",
       "    </tr>\n",
       "  </tbody>\n",
       "</table>\n",
       "<p>5 rows × 87 columns</p>\n",
       "</div>"
      ],
      "text/plain": [
       "                  date  final.output.concentrate_ag  \\\n",
       "0  2016-01-15 00:00:00                     6.055403   \n",
       "1  2016-01-15 01:00:00                     6.029369   \n",
       "2  2016-01-15 02:00:00                     6.055926   \n",
       "3  2016-01-15 03:00:00                     6.047977   \n",
       "4  2016-01-15 04:00:00                     6.148599   \n",
       "\n",
       "   final.output.concentrate_pb  final.output.concentrate_sol  \\\n",
       "0                     9.889648                      5.507324   \n",
       "1                     9.968944                      5.257781   \n",
       "2                    10.213995                      5.383759   \n",
       "3                     9.977019                      4.858634   \n",
       "4                    10.142511                      4.939416   \n",
       "\n",
       "   final.output.concentrate_au  final.output.recovery  final.output.tail_ag  \\\n",
       "0                    42.192020              70.541216             10.411962   \n",
       "1                    42.701629              69.266198             10.462676   \n",
       "2                    42.657501              68.116445             10.507046   \n",
       "3                    42.689819              68.347543             10.422762   \n",
       "4                    42.774141              66.927016             10.360302   \n",
       "\n",
       "   final.output.tail_pb  final.output.tail_sol  final.output.tail_au  ...  \\\n",
       "0              0.895447              16.904297              2.143149  ...   \n",
       "1              0.927452              16.634514              2.224930  ...   \n",
       "2              0.953716              16.208849              2.257889  ...   \n",
       "3              0.883763              16.532835              2.146849  ...   \n",
       "4              0.792826              16.525686              2.055292  ...   \n",
       "\n",
       "   secondary_cleaner.state.floatbank4_a_air  \\\n",
       "0                                 14.016835   \n",
       "1                                 13.992281   \n",
       "2                                 14.015015   \n",
       "3                                 14.036510   \n",
       "4                                 14.027298   \n",
       "\n",
       "   secondary_cleaner.state.floatbank4_a_level  \\\n",
       "0                                 -502.488007   \n",
       "1                                 -505.503262   \n",
       "2                                 -502.520901   \n",
       "3                                 -500.857308   \n",
       "4                                 -499.838632   \n",
       "\n",
       "   secondary_cleaner.state.floatbank4_b_air  \\\n",
       "0                                 12.099931   \n",
       "1                                 11.950531   \n",
       "2                                 11.912783   \n",
       "3                                 11.999550   \n",
       "4                                 11.953070   \n",
       "\n",
       "   secondary_cleaner.state.floatbank4_b_level  \\\n",
       "0                                 -504.715942   \n",
       "1                                 -501.331529   \n",
       "2                                 -501.133383   \n",
       "3                                 -501.193686   \n",
       "4                                 -501.053894   \n",
       "\n",
       "   secondary_cleaner.state.floatbank5_a_air  \\\n",
       "0                                  9.925633   \n",
       "1                                 10.039245   \n",
       "2                                 10.070913   \n",
       "3                                  9.970366   \n",
       "4                                  9.925709   \n",
       "\n",
       "   secondary_cleaner.state.floatbank5_a_level  \\\n",
       "0                                 -498.310211   \n",
       "1                                 -500.169983   \n",
       "2                                 -500.129135   \n",
       "3                                 -499.201640   \n",
       "4                                 -501.686727   \n",
       "\n",
       "   secondary_cleaner.state.floatbank5_b_air  \\\n",
       "0                                  8.079666   \n",
       "1                                  7.984757   \n",
       "2                                  8.013877   \n",
       "3                                  7.977324   \n",
       "4                                  7.894242   \n",
       "\n",
       "   secondary_cleaner.state.floatbank5_b_level  \\\n",
       "0                                 -500.470978   \n",
       "1                                 -500.582168   \n",
       "2                                 -500.517572   \n",
       "3                                 -500.255908   \n",
       "4                                 -500.356035   \n",
       "\n",
       "   secondary_cleaner.state.floatbank6_a_air  \\\n",
       "0                                 14.151341   \n",
       "1                                 13.998353   \n",
       "2                                 14.028663   \n",
       "3                                 14.005551   \n",
       "4                                 13.996647   \n",
       "\n",
       "   secondary_cleaner.state.floatbank6_a_level  \n",
       "0                                 -605.841980  \n",
       "1                                 -599.787184  \n",
       "2                                 -601.427363  \n",
       "3                                 -599.996129  \n",
       "4                                 -601.496691  \n",
       "\n",
       "[5 rows x 87 columns]"
      ]
     },
     "metadata": {},
     "output_type": "display_data"
    }
   ],
   "source": [
    "display (full_data.head())"
   ]
  },
  {
   "cell_type": "code",
   "execution_count": 7,
   "metadata": {},
   "outputs": [
    {
     "name": "stdout",
     "output_type": "stream",
     "text": [
      "<class 'pandas.core.frame.DataFrame'>\n",
      "RangeIndex: 14149 entries, 0 to 14148\n",
      "Data columns (total 87 columns):\n",
      " #   Column                                              Non-Null Count  Dtype  \n",
      "---  ------                                              --------------  -----  \n",
      " 0   date                                                14149 non-null  object \n",
      " 1   final.output.concentrate_ag                         14148 non-null  float64\n",
      " 2   final.output.concentrate_pb                         14148 non-null  float64\n",
      " 3   final.output.concentrate_sol                        13938 non-null  float64\n",
      " 4   final.output.concentrate_au                         14149 non-null  float64\n",
      " 5   final.output.recovery                               14149 non-null  float64\n",
      " 6   final.output.tail_ag                                14149 non-null  float64\n",
      " 7   final.output.tail_pb                                14049 non-null  float64\n",
      " 8   final.output.tail_sol                               14144 non-null  float64\n",
      " 9   final.output.tail_au                                14149 non-null  float64\n",
      " 10  primary_cleaner.input.sulfate                       14129 non-null  float64\n",
      " 11  primary_cleaner.input.depressant                    14117 non-null  float64\n",
      " 12  primary_cleaner.input.feed_size                     14149 non-null  float64\n",
      " 13  primary_cleaner.input.xanthate                      14049 non-null  float64\n",
      " 14  primary_cleaner.output.concentrate_ag               14149 non-null  float64\n",
      " 15  primary_cleaner.output.concentrate_pb               14063 non-null  float64\n",
      " 16  primary_cleaner.output.concentrate_sol              13863 non-null  float64\n",
      " 17  primary_cleaner.output.concentrate_au               14149 non-null  float64\n",
      " 18  primary_cleaner.output.tail_ag                      14148 non-null  float64\n",
      " 19  primary_cleaner.output.tail_pb                      14134 non-null  float64\n",
      " 20  primary_cleaner.output.tail_sol                     14103 non-null  float64\n",
      " 21  primary_cleaner.output.tail_au                      14149 non-null  float64\n",
      " 22  primary_cleaner.state.floatbank8_a_air              14145 non-null  float64\n",
      " 23  primary_cleaner.state.floatbank8_a_level            14148 non-null  float64\n",
      " 24  primary_cleaner.state.floatbank8_b_air              14145 non-null  float64\n",
      " 25  primary_cleaner.state.floatbank8_b_level            14148 non-null  float64\n",
      " 26  primary_cleaner.state.floatbank8_c_air              14147 non-null  float64\n",
      " 27  primary_cleaner.state.floatbank8_c_level            14148 non-null  float64\n",
      " 28  primary_cleaner.state.floatbank8_d_air              14146 non-null  float64\n",
      " 29  primary_cleaner.state.floatbank8_d_level            14148 non-null  float64\n",
      " 30  rougher.calculation.sulfate_to_au_concentrate       14148 non-null  float64\n",
      " 31  rougher.calculation.floatbank10_sulfate_to_au_feed  14148 non-null  float64\n",
      " 32  rougher.calculation.floatbank11_sulfate_to_au_feed  14148 non-null  float64\n",
      " 33  rougher.calculation.au_pb_ratio                     14149 non-null  float64\n",
      " 34  rougher.input.feed_ag                               14149 non-null  float64\n",
      " 35  rougher.input.feed_pb                               14049 non-null  float64\n",
      " 36  rougher.input.feed_rate                             14141 non-null  float64\n",
      " 37  rougher.input.feed_size                             14005 non-null  float64\n",
      " 38  rougher.input.feed_sol                              14071 non-null  float64\n",
      " 39  rougher.input.feed_au                               14149 non-null  float64\n",
      " 40  rougher.input.floatbank10_sulfate                   14120 non-null  float64\n",
      " 41  rougher.input.floatbank10_xanthate                  14141 non-null  float64\n",
      " 42  rougher.input.floatbank11_sulfate                   14113 non-null  float64\n",
      " 43  rougher.input.floatbank11_xanthate                  13721 non-null  float64\n",
      " 44  rougher.output.concentrate_ag                       14149 non-null  float64\n",
      " 45  rougher.output.concentrate_pb                       14149 non-null  float64\n",
      " 46  rougher.output.concentrate_sol                      14127 non-null  float64\n",
      " 47  rougher.output.concentrate_au                       14149 non-null  float64\n",
      " 48  rougher.output.recovery                             14149 non-null  float64\n",
      " 49  rougher.output.tail_ag                              14148 non-null  float64\n",
      " 50  rougher.output.tail_pb                              14149 non-null  float64\n",
      " 51  rougher.output.tail_sol                             14149 non-null  float64\n",
      " 52  rougher.output.tail_au                              14149 non-null  float64\n",
      " 53  rougher.state.floatbank10_a_air                     14148 non-null  float64\n",
      " 54  rougher.state.floatbank10_a_level                   14148 non-null  float64\n",
      " 55  rougher.state.floatbank10_b_air                     14148 non-null  float64\n",
      " 56  rougher.state.floatbank10_b_level                   14148 non-null  float64\n",
      " 57  rougher.state.floatbank10_c_air                     14148 non-null  float64\n",
      " 58  rougher.state.floatbank10_c_level                   14148 non-null  float64\n",
      " 59  rougher.state.floatbank10_d_air                     14149 non-null  float64\n",
      " 60  rougher.state.floatbank10_d_level                   14149 non-null  float64\n",
      " 61  rougher.state.floatbank10_e_air                     13713 non-null  float64\n",
      " 62  rougher.state.floatbank10_e_level                   14149 non-null  float64\n",
      " 63  rougher.state.floatbank10_f_air                     14149 non-null  float64\n",
      " 64  rougher.state.floatbank10_f_level                   14149 non-null  float64\n",
      " 65  secondary_cleaner.output.tail_ag                    14147 non-null  float64\n",
      " 66  secondary_cleaner.output.tail_pb                    14139 non-null  float64\n",
      " 67  secondary_cleaner.output.tail_sol                   12544 non-null  float64\n",
      " 68  secondary_cleaner.output.tail_au                    14149 non-null  float64\n",
      " 69  secondary_cleaner.state.floatbank2_a_air            13932 non-null  float64\n",
      " 70  secondary_cleaner.state.floatbank2_a_level          14148 non-null  float64\n",
      " 71  secondary_cleaner.state.floatbank2_b_air            14128 non-null  float64\n",
      " 72  secondary_cleaner.state.floatbank2_b_level          14148 non-null  float64\n",
      " 73  secondary_cleaner.state.floatbank3_a_air            14145 non-null  float64\n",
      " 74  secondary_cleaner.state.floatbank3_a_level          14148 non-null  float64\n",
      " 75  secondary_cleaner.state.floatbank3_b_air            14148 non-null  float64\n",
      " 76  secondary_cleaner.state.floatbank3_b_level          14148 non-null  float64\n",
      " 77  secondary_cleaner.state.floatbank4_a_air            14143 non-null  float64\n",
      " 78  secondary_cleaner.state.floatbank4_a_level          14148 non-null  float64\n",
      " 79  secondary_cleaner.state.floatbank4_b_air            14148 non-null  float64\n",
      " 80  secondary_cleaner.state.floatbank4_b_level          14148 non-null  float64\n",
      " 81  secondary_cleaner.state.floatbank5_a_air            14148 non-null  float64\n",
      " 82  secondary_cleaner.state.floatbank5_a_level          14148 non-null  float64\n",
      " 83  secondary_cleaner.state.floatbank5_b_air            14148 non-null  float64\n",
      " 84  secondary_cleaner.state.floatbank5_b_level          14148 non-null  float64\n",
      " 85  secondary_cleaner.state.floatbank6_a_air            14147 non-null  float64\n",
      " 86  secondary_cleaner.state.floatbank6_a_level          14148 non-null  float64\n",
      "dtypes: float64(86), object(1)\n",
      "memory usage: 9.4+ MB\n"
     ]
    },
    {
     "data": {
      "text/plain": [
       "0"
      ]
     },
     "execution_count": 7,
     "metadata": {},
     "output_type": "execute_result"
    }
   ],
   "source": [
    "train.info()\n",
    "train.duplicated().sum()"
   ]
  },
  {
   "cell_type": "code",
   "execution_count": 8,
   "metadata": {},
   "outputs": [
    {
     "data": {
      "text/plain": [
       "date                                            0\n",
       "final.output.concentrate_ag                     1\n",
       "final.output.concentrate_pb                     1\n",
       "final.output.concentrate_sol                  211\n",
       "final.output.concentrate_au                     0\n",
       "                                             ... \n",
       "secondary_cleaner.state.floatbank5_a_level      1\n",
       "secondary_cleaner.state.floatbank5_b_air        1\n",
       "secondary_cleaner.state.floatbank5_b_level      1\n",
       "secondary_cleaner.state.floatbank6_a_air        2\n",
       "secondary_cleaner.state.floatbank6_a_level      1\n",
       "Length: 87, dtype: int64"
      ]
     },
     "execution_count": 8,
     "metadata": {},
     "output_type": "execute_result"
    }
   ],
   "source": [
    "train.isna().sum()"
   ]
  },
  {
   "cell_type": "code",
   "execution_count": 9,
   "metadata": {},
   "outputs": [
    {
     "name": "stdout",
     "output_type": "stream",
     "text": [
      "<class 'pandas.core.frame.DataFrame'>\n",
      "RangeIndex: 5290 entries, 0 to 5289\n",
      "Data columns (total 53 columns):\n",
      " #   Column                                      Non-Null Count  Dtype  \n",
      "---  ------                                      --------------  -----  \n",
      " 0   date                                        5290 non-null   object \n",
      " 1   primary_cleaner.input.sulfate               5286 non-null   float64\n",
      " 2   primary_cleaner.input.depressant            5285 non-null   float64\n",
      " 3   primary_cleaner.input.feed_size             5290 non-null   float64\n",
      " 4   primary_cleaner.input.xanthate              5286 non-null   float64\n",
      " 5   primary_cleaner.state.floatbank8_a_air      5290 non-null   float64\n",
      " 6   primary_cleaner.state.floatbank8_a_level    5290 non-null   float64\n",
      " 7   primary_cleaner.state.floatbank8_b_air      5290 non-null   float64\n",
      " 8   primary_cleaner.state.floatbank8_b_level    5290 non-null   float64\n",
      " 9   primary_cleaner.state.floatbank8_c_air      5290 non-null   float64\n",
      " 10  primary_cleaner.state.floatbank8_c_level    5290 non-null   float64\n",
      " 11  primary_cleaner.state.floatbank8_d_air      5290 non-null   float64\n",
      " 12  primary_cleaner.state.floatbank8_d_level    5290 non-null   float64\n",
      " 13  rougher.input.feed_ag                       5290 non-null   float64\n",
      " 14  rougher.input.feed_pb                       5290 non-null   float64\n",
      " 15  rougher.input.feed_rate                     5287 non-null   float64\n",
      " 16  rougher.input.feed_size                     5289 non-null   float64\n",
      " 17  rougher.input.feed_sol                      5269 non-null   float64\n",
      " 18  rougher.input.feed_au                       5290 non-null   float64\n",
      " 19  rougher.input.floatbank10_sulfate           5285 non-null   float64\n",
      " 20  rougher.input.floatbank10_xanthate          5290 non-null   float64\n",
      " 21  rougher.input.floatbank11_sulfate           5282 non-null   float64\n",
      " 22  rougher.input.floatbank11_xanthate          5265 non-null   float64\n",
      " 23  rougher.state.floatbank10_a_air             5290 non-null   float64\n",
      " 24  rougher.state.floatbank10_a_level           5290 non-null   float64\n",
      " 25  rougher.state.floatbank10_b_air             5290 non-null   float64\n",
      " 26  rougher.state.floatbank10_b_level           5290 non-null   float64\n",
      " 27  rougher.state.floatbank10_c_air             5290 non-null   float64\n",
      " 28  rougher.state.floatbank10_c_level           5290 non-null   float64\n",
      " 29  rougher.state.floatbank10_d_air             5290 non-null   float64\n",
      " 30  rougher.state.floatbank10_d_level           5290 non-null   float64\n",
      " 31  rougher.state.floatbank10_e_air             5290 non-null   float64\n",
      " 32  rougher.state.floatbank10_e_level           5290 non-null   float64\n",
      " 33  rougher.state.floatbank10_f_air             5290 non-null   float64\n",
      " 34  rougher.state.floatbank10_f_level           5290 non-null   float64\n",
      " 35  secondary_cleaner.state.floatbank2_a_air    5287 non-null   float64\n",
      " 36  secondary_cleaner.state.floatbank2_a_level  5290 non-null   float64\n",
      " 37  secondary_cleaner.state.floatbank2_b_air    5288 non-null   float64\n",
      " 38  secondary_cleaner.state.floatbank2_b_level  5290 non-null   float64\n",
      " 39  secondary_cleaner.state.floatbank3_a_air    5281 non-null   float64\n",
      " 40  secondary_cleaner.state.floatbank3_a_level  5290 non-null   float64\n",
      " 41  secondary_cleaner.state.floatbank3_b_air    5290 non-null   float64\n",
      " 42  secondary_cleaner.state.floatbank3_b_level  5290 non-null   float64\n",
      " 43  secondary_cleaner.state.floatbank4_a_air    5290 non-null   float64\n",
      " 44  secondary_cleaner.state.floatbank4_a_level  5290 non-null   float64\n",
      " 45  secondary_cleaner.state.floatbank4_b_air    5290 non-null   float64\n",
      " 46  secondary_cleaner.state.floatbank4_b_level  5290 non-null   float64\n",
      " 47  secondary_cleaner.state.floatbank5_a_air    5290 non-null   float64\n",
      " 48  secondary_cleaner.state.floatbank5_a_level  5290 non-null   float64\n",
      " 49  secondary_cleaner.state.floatbank5_b_air    5290 non-null   float64\n",
      " 50  secondary_cleaner.state.floatbank5_b_level  5290 non-null   float64\n",
      " 51  secondary_cleaner.state.floatbank6_a_air    5290 non-null   float64\n",
      " 52  secondary_cleaner.state.floatbank6_a_level  5290 non-null   float64\n",
      "dtypes: float64(52), object(1)\n",
      "memory usage: 2.1+ MB\n"
     ]
    },
    {
     "data": {
      "text/plain": [
       "0"
      ]
     },
     "execution_count": 9,
     "metadata": {},
     "output_type": "execute_result"
    }
   ],
   "source": [
    "test.info()\n",
    "test.duplicated().sum()"
   ]
  },
  {
   "cell_type": "code",
   "execution_count": 10,
   "metadata": {},
   "outputs": [
    {
     "data": {
      "text/plain": [
       "date                                           0\n",
       "primary_cleaner.input.sulfate                  4\n",
       "primary_cleaner.input.depressant               5\n",
       "primary_cleaner.input.feed_size                0\n",
       "primary_cleaner.input.xanthate                 4\n",
       "primary_cleaner.state.floatbank8_a_air         0\n",
       "primary_cleaner.state.floatbank8_a_level       0\n",
       "primary_cleaner.state.floatbank8_b_air         0\n",
       "primary_cleaner.state.floatbank8_b_level       0\n",
       "primary_cleaner.state.floatbank8_c_air         0\n",
       "primary_cleaner.state.floatbank8_c_level       0\n",
       "primary_cleaner.state.floatbank8_d_air         0\n",
       "primary_cleaner.state.floatbank8_d_level       0\n",
       "rougher.input.feed_ag                          0\n",
       "rougher.input.feed_pb                          0\n",
       "rougher.input.feed_rate                        3\n",
       "rougher.input.feed_size                        1\n",
       "rougher.input.feed_sol                        21\n",
       "rougher.input.feed_au                          0\n",
       "rougher.input.floatbank10_sulfate              5\n",
       "rougher.input.floatbank10_xanthate             0\n",
       "rougher.input.floatbank11_sulfate              8\n",
       "rougher.input.floatbank11_xanthate            25\n",
       "rougher.state.floatbank10_a_air                0\n",
       "rougher.state.floatbank10_a_level              0\n",
       "rougher.state.floatbank10_b_air                0\n",
       "rougher.state.floatbank10_b_level              0\n",
       "rougher.state.floatbank10_c_air                0\n",
       "rougher.state.floatbank10_c_level              0\n",
       "rougher.state.floatbank10_d_air                0\n",
       "rougher.state.floatbank10_d_level              0\n",
       "rougher.state.floatbank10_e_air                0\n",
       "rougher.state.floatbank10_e_level              0\n",
       "rougher.state.floatbank10_f_air                0\n",
       "rougher.state.floatbank10_f_level              0\n",
       "secondary_cleaner.state.floatbank2_a_air       3\n",
       "secondary_cleaner.state.floatbank2_a_level     0\n",
       "secondary_cleaner.state.floatbank2_b_air       2\n",
       "secondary_cleaner.state.floatbank2_b_level     0\n",
       "secondary_cleaner.state.floatbank3_a_air       9\n",
       "secondary_cleaner.state.floatbank3_a_level     0\n",
       "secondary_cleaner.state.floatbank3_b_air       0\n",
       "secondary_cleaner.state.floatbank3_b_level     0\n",
       "secondary_cleaner.state.floatbank4_a_air       0\n",
       "secondary_cleaner.state.floatbank4_a_level     0\n",
       "secondary_cleaner.state.floatbank4_b_air       0\n",
       "secondary_cleaner.state.floatbank4_b_level     0\n",
       "secondary_cleaner.state.floatbank5_a_air       0\n",
       "secondary_cleaner.state.floatbank5_a_level     0\n",
       "secondary_cleaner.state.floatbank5_b_air       0\n",
       "secondary_cleaner.state.floatbank5_b_level     0\n",
       "secondary_cleaner.state.floatbank6_a_air       0\n",
       "secondary_cleaner.state.floatbank6_a_level     0\n",
       "dtype: int64"
      ]
     },
     "execution_count": 10,
     "metadata": {},
     "output_type": "execute_result"
    }
   ],
   "source": [
    "test.isna().sum()"
   ]
  },
  {
   "cell_type": "code",
   "execution_count": 11,
   "metadata": {},
   "outputs": [
    {
     "name": "stdout",
     "output_type": "stream",
     "text": [
      "<class 'pandas.core.frame.DataFrame'>\n",
      "RangeIndex: 19439 entries, 0 to 19438\n",
      "Data columns (total 87 columns):\n",
      " #   Column                                              Non-Null Count  Dtype  \n",
      "---  ------                                              --------------  -----  \n",
      " 0   date                                                19439 non-null  object \n",
      " 1   final.output.concentrate_ag                         19438 non-null  float64\n",
      " 2   final.output.concentrate_pb                         19438 non-null  float64\n",
      " 3   final.output.concentrate_sol                        19228 non-null  float64\n",
      " 4   final.output.concentrate_au                         19439 non-null  float64\n",
      " 5   final.output.recovery                               19439 non-null  float64\n",
      " 6   final.output.tail_ag                                19438 non-null  float64\n",
      " 7   final.output.tail_pb                                19338 non-null  float64\n",
      " 8   final.output.tail_sol                               19433 non-null  float64\n",
      " 9   final.output.tail_au                                19439 non-null  float64\n",
      " 10  primary_cleaner.input.sulfate                       19415 non-null  float64\n",
      " 11  primary_cleaner.input.depressant                    19402 non-null  float64\n",
      " 12  primary_cleaner.input.feed_size                     19439 non-null  float64\n",
      " 13  primary_cleaner.input.xanthate                      19335 non-null  float64\n",
      " 14  primary_cleaner.output.concentrate_ag               19439 non-null  float64\n",
      " 15  primary_cleaner.output.concentrate_pb               19323 non-null  float64\n",
      " 16  primary_cleaner.output.concentrate_sol              19069 non-null  float64\n",
      " 17  primary_cleaner.output.concentrate_au               19439 non-null  float64\n",
      " 18  primary_cleaner.output.tail_ag                      19435 non-null  float64\n",
      " 19  primary_cleaner.output.tail_pb                      19418 non-null  float64\n",
      " 20  primary_cleaner.output.tail_sol                     19377 non-null  float64\n",
      " 21  primary_cleaner.output.tail_au                      19439 non-null  float64\n",
      " 22  primary_cleaner.state.floatbank8_a_air              19435 non-null  float64\n",
      " 23  primary_cleaner.state.floatbank8_a_level            19438 non-null  float64\n",
      " 24  primary_cleaner.state.floatbank8_b_air              19435 non-null  float64\n",
      " 25  primary_cleaner.state.floatbank8_b_level            19438 non-null  float64\n",
      " 26  primary_cleaner.state.floatbank8_c_air              19437 non-null  float64\n",
      " 27  primary_cleaner.state.floatbank8_c_level            19438 non-null  float64\n",
      " 28  primary_cleaner.state.floatbank8_d_air              19436 non-null  float64\n",
      " 29  primary_cleaner.state.floatbank8_d_level            19438 non-null  float64\n",
      " 30  rougher.calculation.sulfate_to_au_concentrate       19437 non-null  float64\n",
      " 31  rougher.calculation.floatbank10_sulfate_to_au_feed  19437 non-null  float64\n",
      " 32  rougher.calculation.floatbank11_sulfate_to_au_feed  19437 non-null  float64\n",
      " 33  rougher.calculation.au_pb_ratio                     19439 non-null  float64\n",
      " 34  rougher.input.feed_ag                               19439 non-null  float64\n",
      " 35  rougher.input.feed_pb                               19339 non-null  float64\n",
      " 36  rougher.input.feed_rate                             19428 non-null  float64\n",
      " 37  rougher.input.feed_size                             19294 non-null  float64\n",
      " 38  rougher.input.feed_sol                              19340 non-null  float64\n",
      " 39  rougher.input.feed_au                               19439 non-null  float64\n",
      " 40  rougher.input.floatbank10_sulfate                   19405 non-null  float64\n",
      " 41  rougher.input.floatbank10_xanthate                  19431 non-null  float64\n",
      " 42  rougher.input.floatbank11_sulfate                   19395 non-null  float64\n",
      " 43  rougher.input.floatbank11_xanthate                  18986 non-null  float64\n",
      " 44  rougher.output.concentrate_ag                       19439 non-null  float64\n",
      " 45  rougher.output.concentrate_pb                       19439 non-null  float64\n",
      " 46  rougher.output.concentrate_sol                      19416 non-null  float64\n",
      " 47  rougher.output.concentrate_au                       19439 non-null  float64\n",
      " 48  rougher.output.recovery                             19439 non-null  float64\n",
      " 49  rougher.output.tail_ag                              19438 non-null  float64\n",
      " 50  rougher.output.tail_pb                              19439 non-null  float64\n",
      " 51  rougher.output.tail_sol                             19439 non-null  float64\n",
      " 52  rougher.output.tail_au                              19439 non-null  float64\n",
      " 53  rougher.state.floatbank10_a_air                     19438 non-null  float64\n",
      " 54  rougher.state.floatbank10_a_level                   19438 non-null  float64\n",
      " 55  rougher.state.floatbank10_b_air                     19438 non-null  float64\n",
      " 56  rougher.state.floatbank10_b_level                   19438 non-null  float64\n",
      " 57  rougher.state.floatbank10_c_air                     19438 non-null  float64\n",
      " 58  rougher.state.floatbank10_c_level                   19438 non-null  float64\n",
      " 59  rougher.state.floatbank10_d_air                     19439 non-null  float64\n",
      " 60  rougher.state.floatbank10_d_level                   19439 non-null  float64\n",
      " 61  rougher.state.floatbank10_e_air                     19003 non-null  float64\n",
      " 62  rougher.state.floatbank10_e_level                   19439 non-null  float64\n",
      " 63  rougher.state.floatbank10_f_air                     19439 non-null  float64\n",
      " 64  rougher.state.floatbank10_f_level                   19439 non-null  float64\n",
      " 65  secondary_cleaner.output.tail_ag                    19437 non-null  float64\n",
      " 66  secondary_cleaner.output.tail_pb                    19427 non-null  float64\n",
      " 67  secondary_cleaner.output.tail_sol                   17691 non-null  float64\n",
      " 68  secondary_cleaner.output.tail_au                    19439 non-null  float64\n",
      " 69  secondary_cleaner.state.floatbank2_a_air            19219 non-null  float64\n",
      " 70  secondary_cleaner.state.floatbank2_a_level          19438 non-null  float64\n",
      " 71  secondary_cleaner.state.floatbank2_b_air            19416 non-null  float64\n",
      " 72  secondary_cleaner.state.floatbank2_b_level          19438 non-null  float64\n",
      " 73  secondary_cleaner.state.floatbank3_a_air            19426 non-null  float64\n",
      " 74  secondary_cleaner.state.floatbank3_a_level          19438 non-null  float64\n",
      " 75  secondary_cleaner.state.floatbank3_b_air            19438 non-null  float64\n",
      " 76  secondary_cleaner.state.floatbank3_b_level          19438 non-null  float64\n",
      " 77  secondary_cleaner.state.floatbank4_a_air            19433 non-null  float64\n",
      " 78  secondary_cleaner.state.floatbank4_a_level          19438 non-null  float64\n",
      " 79  secondary_cleaner.state.floatbank4_b_air            19438 non-null  float64\n",
      " 80  secondary_cleaner.state.floatbank4_b_level          19438 non-null  float64\n",
      " 81  secondary_cleaner.state.floatbank5_a_air            19438 non-null  float64\n",
      " 82  secondary_cleaner.state.floatbank5_a_level          19438 non-null  float64\n",
      " 83  secondary_cleaner.state.floatbank5_b_air            19438 non-null  float64\n",
      " 84  secondary_cleaner.state.floatbank5_b_level          19438 non-null  float64\n",
      " 85  secondary_cleaner.state.floatbank6_a_air            19437 non-null  float64\n",
      " 86  secondary_cleaner.state.floatbank6_a_level          19438 non-null  float64\n",
      "dtypes: float64(86), object(1)\n",
      "memory usage: 12.9+ MB\n"
     ]
    },
    {
     "ename": "KeyboardInterrupt",
     "evalue": "",
     "output_type": "error",
     "traceback": [
      "\u001b[0;31m---------------------------------------------------------------------------\u001b[0m",
      "\u001b[0;31mKeyboardInterrupt\u001b[0m                         Traceback (most recent call last)",
      "\u001b[0;32m/tmp/ipykernel_496/4014547117.py\u001b[0m in \u001b[0;36m<module>\u001b[0;34m\u001b[0m\n\u001b[1;32m      1\u001b[0m \u001b[0mfull_data\u001b[0m\u001b[0;34m.\u001b[0m\u001b[0minfo\u001b[0m\u001b[0;34m(\u001b[0m\u001b[0;34m)\u001b[0m\u001b[0;34m\u001b[0m\u001b[0;34m\u001b[0m\u001b[0m\n\u001b[0;32m----> 2\u001b[0;31m \u001b[0mfull_data\u001b[0m\u001b[0;34m.\u001b[0m\u001b[0mduplicated\u001b[0m\u001b[0;34m(\u001b[0m\u001b[0;34m)\u001b[0m\u001b[0;34m.\u001b[0m\u001b[0msum\u001b[0m\u001b[0;34m(\u001b[0m\u001b[0;34m)\u001b[0m\u001b[0;34m\u001b[0m\u001b[0;34m\u001b[0m\u001b[0m\n\u001b[0m",
      "\u001b[0;32m/opt/conda/lib/python3.9/site-packages/pandas/core/frame.py\u001b[0m in \u001b[0;36mduplicated\u001b[0;34m(self, subset, keep)\u001b[0m\n\u001b[1;32m   5406\u001b[0m \u001b[0;34m\u001b[0m\u001b[0m\n\u001b[1;32m   5407\u001b[0m         \u001b[0mvals\u001b[0m \u001b[0;34m=\u001b[0m \u001b[0;34m(\u001b[0m\u001b[0mcol\u001b[0m\u001b[0;34m.\u001b[0m\u001b[0mvalues\u001b[0m \u001b[0;32mfor\u001b[0m \u001b[0mname\u001b[0m\u001b[0;34m,\u001b[0m \u001b[0mcol\u001b[0m \u001b[0;32min\u001b[0m \u001b[0mself\u001b[0m\u001b[0;34m.\u001b[0m\u001b[0mitems\u001b[0m\u001b[0;34m(\u001b[0m\u001b[0;34m)\u001b[0m \u001b[0;32mif\u001b[0m \u001b[0mname\u001b[0m \u001b[0;32min\u001b[0m \u001b[0msubset\u001b[0m\u001b[0;34m)\u001b[0m\u001b[0;34m\u001b[0m\u001b[0;34m\u001b[0m\u001b[0m\n\u001b[0;32m-> 5408\u001b[0;31m         \u001b[0mlabels\u001b[0m\u001b[0;34m,\u001b[0m \u001b[0mshape\u001b[0m \u001b[0;34m=\u001b[0m \u001b[0mmap\u001b[0m\u001b[0;34m(\u001b[0m\u001b[0mlist\u001b[0m\u001b[0;34m,\u001b[0m \u001b[0mzip\u001b[0m\u001b[0;34m(\u001b[0m\u001b[0;34m*\u001b[0m\u001b[0mmap\u001b[0m\u001b[0;34m(\u001b[0m\u001b[0mf\u001b[0m\u001b[0;34m,\u001b[0m \u001b[0mvals\u001b[0m\u001b[0;34m)\u001b[0m\u001b[0;34m)\u001b[0m\u001b[0;34m)\u001b[0m\u001b[0;34m\u001b[0m\u001b[0;34m\u001b[0m\u001b[0m\n\u001b[0m\u001b[1;32m   5409\u001b[0m \u001b[0;34m\u001b[0m\u001b[0m\n\u001b[1;32m   5410\u001b[0m         \u001b[0mids\u001b[0m \u001b[0;34m=\u001b[0m \u001b[0mget_group_index\u001b[0m\u001b[0;34m(\u001b[0m\u001b[0mlabels\u001b[0m\u001b[0;34m,\u001b[0m \u001b[0mshape\u001b[0m\u001b[0;34m,\u001b[0m \u001b[0msort\u001b[0m\u001b[0;34m=\u001b[0m\u001b[0;32mFalse\u001b[0m\u001b[0;34m,\u001b[0m \u001b[0mxnull\u001b[0m\u001b[0;34m=\u001b[0m\u001b[0;32mFalse\u001b[0m\u001b[0;34m)\u001b[0m\u001b[0;34m\u001b[0m\u001b[0;34m\u001b[0m\u001b[0m\n",
      "\u001b[0;32m/opt/conda/lib/python3.9/site-packages/pandas/core/frame.py\u001b[0m in \u001b[0;36mf\u001b[0;34m(vals)\u001b[0m\n\u001b[1;32m   5380\u001b[0m \u001b[0;34m\u001b[0m\u001b[0m\n\u001b[1;32m   5381\u001b[0m         \u001b[0;32mdef\u001b[0m \u001b[0mf\u001b[0m\u001b[0;34m(\u001b[0m\u001b[0mvals\u001b[0m\u001b[0;34m)\u001b[0m\u001b[0;34m:\u001b[0m\u001b[0;34m\u001b[0m\u001b[0;34m\u001b[0m\u001b[0m\n\u001b[0;32m-> 5382\u001b[0;31m             labels, shape = algorithms.factorize(\n\u001b[0m\u001b[1;32m   5383\u001b[0m                 \u001b[0mvals\u001b[0m\u001b[0;34m,\u001b[0m \u001b[0msize_hint\u001b[0m\u001b[0;34m=\u001b[0m\u001b[0mmin\u001b[0m\u001b[0;34m(\u001b[0m\u001b[0mlen\u001b[0m\u001b[0;34m(\u001b[0m\u001b[0mself\u001b[0m\u001b[0;34m)\u001b[0m\u001b[0;34m,\u001b[0m \u001b[0mSIZE_HINT_LIMIT\u001b[0m\u001b[0;34m)\u001b[0m\u001b[0;34m\u001b[0m\u001b[0;34m\u001b[0m\u001b[0m\n\u001b[1;32m   5384\u001b[0m             )\n",
      "\u001b[0;32m/opt/conda/lib/python3.9/site-packages/pandas/core/algorithms.py\u001b[0m in \u001b[0;36mfactorize\u001b[0;34m(values, sort, na_sentinel, size_hint)\u001b[0m\n\u001b[1;32m    720\u001b[0m             \u001b[0mna_value\u001b[0m \u001b[0;34m=\u001b[0m \u001b[0;32mNone\u001b[0m\u001b[0;34m\u001b[0m\u001b[0;34m\u001b[0m\u001b[0m\n\u001b[1;32m    721\u001b[0m \u001b[0;34m\u001b[0m\u001b[0m\n\u001b[0;32m--> 722\u001b[0;31m         codes, uniques = factorize_array(\n\u001b[0m\u001b[1;32m    723\u001b[0m             \u001b[0mvalues\u001b[0m\u001b[0;34m,\u001b[0m \u001b[0mna_sentinel\u001b[0m\u001b[0;34m=\u001b[0m\u001b[0mna_sentinel\u001b[0m\u001b[0;34m,\u001b[0m \u001b[0msize_hint\u001b[0m\u001b[0;34m=\u001b[0m\u001b[0msize_hint\u001b[0m\u001b[0;34m,\u001b[0m \u001b[0mna_value\u001b[0m\u001b[0;34m=\u001b[0m\u001b[0mna_value\u001b[0m\u001b[0;34m\u001b[0m\u001b[0;34m\u001b[0m\u001b[0m\n\u001b[1;32m    724\u001b[0m         )\n",
      "\u001b[0;32m/opt/conda/lib/python3.9/site-packages/pandas/core/algorithms.py\u001b[0m in \u001b[0;36mfactorize_array\u001b[0;34m(values, na_sentinel, size_hint, na_value, mask)\u001b[0m\n\u001b[1;32m    526\u001b[0m \u001b[0;34m\u001b[0m\u001b[0m\n\u001b[1;32m    527\u001b[0m     \u001b[0mtable\u001b[0m \u001b[0;34m=\u001b[0m \u001b[0mhash_klass\u001b[0m\u001b[0;34m(\u001b[0m\u001b[0msize_hint\u001b[0m \u001b[0;32mor\u001b[0m \u001b[0mlen\u001b[0m\u001b[0;34m(\u001b[0m\u001b[0mvalues\u001b[0m\u001b[0;34m)\u001b[0m\u001b[0;34m)\u001b[0m\u001b[0;34m\u001b[0m\u001b[0;34m\u001b[0m\u001b[0m\n\u001b[0;32m--> 528\u001b[0;31m     uniques, codes = table.factorize(\n\u001b[0m\u001b[1;32m    529\u001b[0m         \u001b[0mvalues\u001b[0m\u001b[0;34m,\u001b[0m \u001b[0mna_sentinel\u001b[0m\u001b[0;34m=\u001b[0m\u001b[0mna_sentinel\u001b[0m\u001b[0;34m,\u001b[0m \u001b[0mna_value\u001b[0m\u001b[0;34m=\u001b[0m\u001b[0mna_value\u001b[0m\u001b[0;34m,\u001b[0m \u001b[0mmask\u001b[0m\u001b[0;34m=\u001b[0m\u001b[0mmask\u001b[0m\u001b[0;34m\u001b[0m\u001b[0;34m\u001b[0m\u001b[0m\n\u001b[1;32m    530\u001b[0m     )\n",
      "\u001b[0;31mKeyboardInterrupt\u001b[0m: "
     ]
    }
   ],
   "source": [
    "full_data.info()\n",
    "full_data.duplicated().sum()"
   ]
  },
  {
   "cell_type": "code",
   "execution_count": null,
   "metadata": {},
   "outputs": [],
   "source": [
    "full_data.isna().sum()"
   ]
  },
  {
   "cell_type": "markdown",
   "metadata": {},
   "source": [
    "<div class=\"alert alert-info\">\n",
    "<font color='black'> <b> Пропущенные значения имеются во всех трех датасетах</font> <b>"
   ]
  },
  {
   "cell_type": "markdown",
   "metadata": {},
   "source": [
    "<font color='blue'><b>Комментарий ревьюера: </b></font> ✔️\\\n",
    "<font color='green'>Данные загружены корректно, первичный осмотр проведен.</font>"
   ]
  },
  {
   "cell_type": "code",
   "execution_count": null,
   "metadata": {},
   "outputs": [],
   "source": [
    "C = train['rougher.output.concentrate_au']\n",
    "F = train['rougher.input.feed_au']\n",
    "T = train['rougher.output.tail_au']\n",
    "recovery = (C*(F-T))/(F*(C-T))*100"
   ]
  },
  {
   "cell_type": "markdown",
   "metadata": {},
   "source": [
    "<font color='blue'><b>Комментарий ревьюера: </b></font> ✔️\\\n",
    "<font color='green'>Расчёт верный!</font>"
   ]
  },
  {
   "cell_type": "code",
   "execution_count": null,
   "metadata": {},
   "outputs": [],
   "source": [
    "mae_recovery=mean_absolute_error(train['rougher.output.recovery'], recovery)\n",
    "display (mae_recovery)"
   ]
  },
  {
   "cell_type": "code",
   "execution_count": null,
   "metadata": {},
   "outputs": [],
   "source": [
    "display (recovery.head(10), train['rougher.output.recovery'].head(10))"
   ]
  },
  {
   "cell_type": "markdown",
   "metadata": {},
   "source": [
    "<div class=\"alert alert-info\">\n",
    "<font color='black'> <b> При проверке столбца эффективности обогащения видно, что расчеты по формуле совпали со значениями столбца. МАЕ ничтожно мала </font> <b>"
   ]
  },
  {
   "cell_type": "markdown",
   "metadata": {},
   "source": [
    "<font color='blue'><b>Комментарий ревьюера: </b></font> ✔️\\\n",
    "<font color='green'>👍</font>"
   ]
  },
  {
   "cell_type": "markdown",
   "metadata": {},
   "source": [
    "<div class=\"alert alert-info\">\n",
    "<font color='black'> <b> Проверим, сколько столбцов (34 шт.)и какие столбцы не попали в тестовый датафрейм. Видно, что эти признаки характеризуют концентрацию металлов после флотации и очисток,\"отвальные хвосты\" после каждого этапа обработки, расчетные характеристики применения флотационных реагентов </font> <b>"
   ]
  },
  {
   "cell_type": "code",
   "execution_count": null,
   "metadata": {},
   "outputs": [],
   "source": [
    "columns_not_in_test=[]\n",
    "for column in train.columns:\n",
    "    if column not in test.columns:\n",
    "        print (column)\n",
    "        columns_not_in_test.append(column)"
   ]
  },
  {
   "cell_type": "code",
   "execution_count": null,
   "metadata": {},
   "outputs": [],
   "source": [
    "display (len(columns_not_in_test))"
   ]
  },
  {
   "cell_type": "markdown",
   "metadata": {},
   "source": [
    "<div class=\"alert alert-info\">\n",
    "<font color='black'> <b>  В тестовый датафрейм не попали характеристики продукта после флотации и очисток,  а также характеристики эффективности обогащения</font> <b>"
   ]
  },
  {
   "cell_type": "markdown",
   "metadata": {},
   "source": [
    "<font color='blue'><b>Комментарий ревьюера: </b></font> ⚠️\\\n",
    "<font color='darkorange'> Проанализируйте признаки, недоступные в тестовой выборке. Что это за параметры? К какому типу относятся?</font>\n",
    "<div class=\"alert alert-info\"> <b>Комментарий студента:</b> Сделал</div>"
   ]
  },
  {
   "cell_type": "markdown",
   "metadata": {},
   "source": [
    "<font color='blue'><b>Комментарий ревьюера 2: </b></font> ✔️\\\n",
    "<font color='green'> 👍</font>"
   ]
  },
  {
   "cell_type": "markdown",
   "metadata": {},
   "source": [
    "<div class=\"alert alert-info\">\n",
    "<font color='black'> <b> Приведем столбец с датой к нужному формату </font> <b>"
   ]
  },
  {
   "cell_type": "code",
   "execution_count": null,
   "metadata": {},
   "outputs": [],
   "source": [
    "full_data['date'] = pd.to_datetime(full_data['date'], format = '%Y-%m-%d')"
   ]
  },
  {
   "cell_type": "markdown",
   "metadata": {},
   "source": [
    "## Анализ данных"
   ]
  },
  {
   "cell_type": "code",
   "execution_count": null,
   "metadata": {},
   "outputs": [],
   "source": [
    "plt.figure(figsize=(13, 8))\n",
    "plt.hist(full_data['final.output.concentrate_ag'], bins = 150, label = 'Финальная очистка', stacked=True,  alpha=0.7)\n",
    "plt.hist(full_data['primary_cleaner.output.concentrate_ag'], bins = 150, label = 'Первая очистка', stacked=True, alpha=0.7)\n",
    "plt.hist(full_data['rougher.output.concentrate_ag'], bins = 150, label = 'Флотация', stacked=True, alpha=0.7)\n",
    "plt.hist(full_data['rougher.input.feed_ag'], bins = 150, label = 'Сырье', stacked=True, alpha=0.7)\n",
    "plt.legend()\n",
    "plt.title('Концентрация серебра', fontsize=16)\n",
    "plt.xlabel('Концентрация',fontsize=12)\n",
    "plt.ylabel('Количество',fontsize=12)"
   ]
  },
  {
   "cell_type": "code",
   "execution_count": null,
   "metadata": {},
   "outputs": [],
   "source": [
    "plt.figure(figsize=(13, 8))\n",
    "plt.hist(full_data['final.output.concentrate_au'], bins = 150, label = 'Финальная очистка', stacked=True,  alpha=0.7)\n",
    "plt.hist(full_data['primary_cleaner.output.concentrate_au'], bins = 150, label = 'Первая очистка', stacked=True, alpha=0.7)\n",
    "plt.hist(full_data['rougher.output.concentrate_au'], bins = 150, label = 'Флотация', stacked=True, alpha=0.7)\n",
    "plt.hist(full_data['rougher.input.feed_au'], bins = 150, label = 'Сырье', stacked=True, alpha=0.7)\n",
    "plt.legend()\n",
    "plt.title('Концентрация золота', fontsize=16)\n",
    "plt.xlabel('Концентрация',fontsize=12)\n",
    "plt.ylabel('Количество',fontsize=12)"
   ]
  },
  {
   "cell_type": "code",
   "execution_count": null,
   "metadata": {},
   "outputs": [],
   "source": [
    "plt.figure(figsize=(13, 8))\n",
    "plt.hist(full_data['final.output.concentrate_pb'], bins = 150, label = 'Финальная очистка', stacked=True,  alpha=0.7)\n",
    "plt.hist(full_data['primary_cleaner.output.concentrate_pb'], bins = 150, label = 'Первая очистка', stacked=True, alpha=0.7)\n",
    "plt.hist(full_data['rougher.output.concentrate_pb'], bins = 150, label = 'Флотация', stacked=True, alpha=0.7)\n",
    "plt.hist(full_data['rougher.input.feed_pb'], bins = 150, label = 'Сырье', stacked=True, alpha=0.7)\n",
    "plt.legend()\n",
    "plt.title('Концентрация свинца', fontsize=16)\n",
    "plt.xlabel('Концентрация',fontsize=12)\n",
    "plt.ylabel('Количество',fontsize=12)"
   ]
  },
  {
   "cell_type": "markdown",
   "metadata": {},
   "source": [
    "<div class=\"alert alert-info\">\n",
    "<font color='black'> <b> Концентрация серебра после флотации повысилась, а потом начала снижаться. Для золота ситуация иная - к финальной очистке его концентрация заметно выросла. Концентрация свинца после первой очистки практическине изменилась</font> <b>"
   ]
  },
  {
   "cell_type": "markdown",
   "metadata": {},
   "source": [
    "<font color='blue'><b>Комментарий ревьюера: </b></font> ✔️\\\n",
    "<font color='green'> Всё верно!</font>"
   ]
  },
  {
   "cell_type": "code",
   "execution_count": null,
   "metadata": {},
   "outputs": [],
   "source": [
    "plt.figure(figsize=(13, 8))\n",
    "plt.hist(train['rougher.input.feed_size'], bins = 150, label = 'Тренироврчная выборка', stacked=True,  alpha=0.7)\n",
    "plt.hist(full_data['rougher.input.feed_size'], bins = 150, label = 'Тестовая выборка', stacked=True, alpha=0.7)\n",
    "plt.legend()\n",
    "plt.title('Размер гранул', fontsize=16)\n",
    "plt.xlabel('Размер',fontsize=12)\n",
    "plt.ylabel('Количество',fontsize=12)"
   ]
  },
  {
   "cell_type": "code",
   "execution_count": null,
   "metadata": {
    "scrolled": true
   },
   "outputs": [],
   "source": [
    "plt.figure(figsize=(13, 8))\n",
    "plt.hist(train['primary_cleaner.input.feed_size'], bins = 150, label = 'Тренироврчная выборка', stacked=True,  alpha=0.7)\n",
    "plt.hist(full_data['primary_cleaner.input.feed_size'], bins = 150, label = 'Тестовая выборка', stacked=True, alpha=0.7)\n",
    "plt.legend()\n",
    "plt.title('Размер гранул', fontsize=16)\n",
    "plt.xlabel('Размер',fontsize=12)\n",
    "plt.ylabel('Количество',fontsize=12)"
   ]
  },
  {
   "cell_type": "markdown",
   "metadata": {},
   "source": [
    "<div class=\"alert alert-info\">\n",
    "<font color='black'> <b> При исследовании размеров гранул на тренировочной и тестовой выборках было установлено, что распределения размеров гранул близки друг к другу </font> <b>"
   ]
  },
  {
   "cell_type": "markdown",
   "metadata": {},
   "source": [
    "<font color='blue'><b>Комментарий ревьюера: </b></font> ✔️\\\n",
    "<font color='green'> Вывод верный!</font>"
   ]
  },
  {
   "cell_type": "code",
   "execution_count": null,
   "metadata": {},
   "outputs": [],
   "source": [
    "sum_rougher_input=full_data['rougher.input.feed_ag']+\\\n",
    "full_data['rougher.input.feed_au']+\\\n",
    "full_data['rougher.input.feed_pb']+full_data['rougher.input.feed_sol']\n",
    "sum_rougher_output=full_data['rougher.output.concentrate_ag']\\\n",
    "+full_data['rougher.output.concentrate_au']+\\\n",
    "full_data['rougher.output.concentrate_pb']+full_data['rougher.output.concentrate_sol']\n",
    "sum_final=full_data['final.output.concentrate_ag']+\\\n",
    "full_data['final.output.concentrate_au']+\\\n",
    "full_data['final.output.concentrate_pb']+full_data['final.output.concentrate_sol']"
   ]
  },
  {
   "cell_type": "markdown",
   "metadata": {},
   "source": [
    "<font color='blue'><b>Комментарий ревьюера 2: </b></font> ⚠️\\\n",
    "<font color='darkorange'> Старайся разбивать код на строчки так, что бы всё было перед глазами. По стандарту строка кода не должна превышать 79 символов.\n",
    "<div class=\"alert alert-info\"> <b>Комментарий студента:</b> Сделал</div>"
   ]
  },
  {
   "cell_type": "markdown",
   "metadata": {},
   "source": [
    "<font color='blue'><b>Комментарий ревьюера 2: </b></font> ✔️\\\n",
    "<font color='green'> 👍</font>"
   ]
  },
  {
   "cell_type": "code",
   "execution_count": null,
   "metadata": {},
   "outputs": [],
   "source": [
    "plt.figure(figsize=(13, 8))\n",
    "plt.hist(sum_rougher_input, bins = 150, label = 'Сырье', stacked=True,  alpha=0.7)\n",
    "plt.hist(sum_rougher_output, bins = 150, label = 'Флотация', stacked=True,  alpha=0.7)\n",
    "plt.hist(sum_final, bins = 150, label = 'Финальная очистка', stacked=True,  alpha=0.7)\n",
    "plt.legend()\n",
    "plt.title('Концентрация металлов', fontsize=16)\n",
    "plt.xlabel('Концентрация',fontsize=12)\n",
    "plt.ylabel('Количество',fontsize=12)"
   ]
  },
  {
   "cell_type": "markdown",
   "metadata": {},
   "source": [
    "<div class=\"alert alert-info\">\n",
    "<font color='black'> <b> Суммарная концентрация металлов увеличивается от стадии к стадии. На финальном этапе заметно, что сократился интервал значений концентрации, и увеличилось количество значений внутри этого интервала </font> <b>"
   ]
  },
  {
   "cell_type": "markdown",
   "metadata": {},
   "source": []
  },
  {
   "cell_type": "markdown",
   "metadata": {},
   "source": [
    "## Модель"
   ]
  },
  {
   "cell_type": "code",
   "execution_count": null,
   "metadata": {},
   "outputs": [],
   "source": [
    "def f_smape(target_r, pred_r, target_f, pred_f):\n",
    "    rougher = 100/len(target_r)*np.sum(2*np.abs(pred_r-target_r)/(np.abs(target_r)+np.abs(pred_r)))\n",
    "    final = 100/len(target_f)*np.sum(2*np.abs(pred_f-target_f)/(np.abs(target_f)+np.abs(pred_f)))\n",
    "    return 0.25 * rougher + 0.75 * final"
   ]
  },
  {
   "cell_type": "markdown",
   "metadata": {},
   "source": [
    "<font color='blue'><b>Комментарий ревьюера: </b></font> ✔️\\\n",
    "<font color='green'> Расчёт итоговой smape верный.</font>"
   ]
  },
  {
   "cell_type": "markdown",
   "metadata": {},
   "source": [
    "<font color='blue'><b>Комментарий ревьюера: </b></font> ⚠️\\\n",
    "<font color='darkorange'> Для кроссвалидации нам понадобится функция принимающая на вход только (target,prediction) и отдающая одно число (float)</font>"
   ]
  },
  {
   "cell_type": "code",
   "execution_count": null,
   "metadata": {},
   "outputs": [],
   "source": [
    "test['rougher.output.recovery']=train['rougher.output.recovery'].loc[:5290]\n",
    "test['final.output.recovery']=train['final.output.recovery'].loc[:5290]\n",
    "test=test.dropna()\n",
    "test = test.drop('date', axis=1)\n",
    "#full_data['rougher.output.recovery']=train['rougher.output.recovery']\n",
    "#full_data['final.output.recovery']=train['final.output.recovery']\n",
    "#full_data=full_data.dropna()\n",
    "#full_data = full_data.drop('date', axis=1)\n",
    "#full_data = full_data.loc[:5290]\n",
    "\n",
    "features= test.drop(['rougher.output.recovery','final.output.recovery'], axis=1)\n",
    "y_rougher = test['rougher.output.recovery']\n",
    "y_final = test['final.output.recovery']\n",
    "\n",
    "#features= full_data.drop(['rougher.output.recovery','final.output.recovery'], axis=1)\n",
    "#y_rougher = full_data['rougher.output.recovery']\n",
    "#y_final = full_data['final.output.recovery']\n",
    "\n",
    "x_train_r, x_test_r, y_train_r, y_test_r = \\\n",
    "train_test_split(features, y_rougher, test_size=0.25, random_state=12345)\n",
    "x_train_f, x_test_f, y_train_f, y_test_f = \\\n",
    "train_test_split(features, y_final, test_size=0.25, random_state=12345)"
   ]
  },
  {
   "cell_type": "code",
   "execution_count": null,
   "metadata": {},
   "outputs": [],
   "source": [
    "tree_params = {'max_depth': list(range(1, 20))}"
   ]
  },
  {
   "cell_type": "code",
   "execution_count": null,
   "metadata": {},
   "outputs": [],
   "source": [
    "dtr_model_r = GridSearchCV(DecisionTreeRegressor(random_state=12345),\n",
    "                         tree_params, cv=5) \n",
    "dtr_model_r.fit(x_train_r, y_train_r)\n",
    "params = dtr_model_r.best_params_\n",
    "dtr_best_r = DecisionTreeRegressor(**params, random_state=12345)\n",
    "dtr_best_r.fit(x_train_r, y_train_r)\n",
    "dtr_model_r.best_params_"
   ]
  },
  {
   "cell_type": "code",
   "execution_count": null,
   "metadata": {},
   "outputs": [],
   "source": [
    "dtr_model_f = GridSearchCV(DecisionTreeRegressor(random_state=12345),\n",
    "                         tree_params, cv=5) \n",
    "dtr_model_f.fit(x_train_f, y_train_f)\n",
    "params = dtr_model_f.best_params_\n",
    "dtr_best_f = DecisionTreeRegressor(**params, random_state=12345)\n",
    "dtr_best_f.fit(x_train_f, y_train_f)\n",
    "dtr_model_f.best_params_"
   ]
  },
  {
   "cell_type": "code",
   "execution_count": null,
   "metadata": {},
   "outputs": [],
   "source": [
    "pred_rougher = dtr_best_r.predict(x_test_r)\n",
    "pred_final = dtr_best_f.predict(x_test_f)\n",
    "f_smape(y_test_r, pred_rougher, y_test_f, pred_final)"
   ]
  },
  {
   "cell_type": "code",
   "execution_count": null,
   "metadata": {},
   "outputs": [],
   "source": [
    "def smape_loss(y_true, y_pred):\n",
    "    return 200 * (abs(y_true - y_pred)/\n",
    "                 (abs(y_true) + abs(y_pred))).mean()"
   ]
  },
  {
   "cell_type": "code",
   "execution_count": null,
   "metadata": {},
   "outputs": [],
   "source": [
    "from sklearn.metrics import make_scorer\n",
    "scorer = make_scorer(smape_loss, greater_is_better=False)"
   ]
  },
  {
   "cell_type": "code",
   "execution_count": null,
   "metadata": {},
   "outputs": [],
   "source": [
    "rfr_params = {'max_depth': list(range(3, 6))}\n",
    "rfr_model_r = GridSearchCV(RandomForestRegressor(random_state=12345),\n",
    "                         rfr_params, cv=5, n_jobs=-1, scoring = scorer) \n",
    "rfr_model_r.fit(x_train_r, y_train_r)\n",
    "params = rfr_model_r.best_params_\n",
    "rfr_best_r = RandomForestRegressor(**params, random_state=12345)\n",
    "rfr_best_r.fit(x_train_r, y_train_r)\n",
    "rfr_model_r.best_params_"
   ]
  },
  {
   "cell_type": "code",
   "execution_count": null,
   "metadata": {},
   "outputs": [],
   "source": [
    "rfr_model_f = GridSearchCV(RandomForestRegressor(random_state=12345),\n",
    "                         rfr_params, cv=5, n_jobs=-1, scoring = scorer) \n",
    "rfr_model_f.fit(x_train_f, y_train_f)\n",
    "params = rfr_model_f.best_params_\n",
    "rfr_best_f = RandomForestRegressor(**params, random_state=12345)\n",
    "rfr_best_f.fit(x_train_f, y_train_f)\n",
    "rfr_model_f.best_params_"
   ]
  },
  {
   "cell_type": "code",
   "execution_count": null,
   "metadata": {},
   "outputs": [],
   "source": [
    "pred_rougher = rfr_best_r.predict(x_test_r)\n",
    "pred_final = rfr_best_f.predict(x_test_f)\n",
    "f_smape(y_test_r, pred_rougher, y_test_f, pred_final)"
   ]
  },
  {
   "cell_type": "markdown",
   "metadata": {},
   "source": [
    "<font color='blue'><b>Комментарий ревьюера 3: </b></font> ✔️\\\n",
    "<font color='green'> 👍</font>"
   ]
  },
  {
   "cell_type": "markdown",
   "metadata": {},
   "source": [
    "def smape_loss(y_true, y_pred):\n",
    "    return 200 * (abs(y_true - y_pred)/\n",
    "                 (abs(y_true) + abs(y_pred))).mean()"
   ]
  },
  {
   "cell_type": "markdown",
   "metadata": {},
   "source": [
    "<font color='blue'><b>Комментарий ревьюера: </b></font> ❌\\\n",
    "<font color='red'><s> У нас есть выделенные тестовые данные, нужно использовать их. Можно извлечь только таргеты для теста из полного датасета</s> </font>"
   ]
  },
  {
   "cell_type": "markdown",
   "metadata": {},
   "source": []
  },
  {
   "cell_type": "markdown",
   "metadata": {},
   "source": [
    "<font color='blue'><b>Комментарий ревьюера: </b></font> ❌\\\n",
    "<font color='red'><s> Размеры таргетов и предиктов не совпадают.</s></font>"
   ]
  },
  {
   "cell_type": "markdown",
   "metadata": {},
   "source": [
    "<font color='blue'><b>Комментарий ревьюера: </b></font> ❌\\\n",
    "<font color='red'> В задании говорится про оценку моделей кроссвалидацией на основе нашей метрики, то есть smape. Для этого из нее нужно сделать scorer с помощью функции make_scorer. Результат нужно передать в параметр scoring функции основанной на кросс-валидации.</font>\n",
    "<div class=\"alert alert-info\"> <b>Комментарий студента:</b> Прошу прощения,но про make_scorer ничего не было в теории!! я не прав? поэтому мне ничего и непонятно. Спросил у коллег. Почему надо брать тестовые данные для обучения? там нет нужных столбцов recovery. Сделал для train, почему-то выводит nan  - не понимаю. Задавать вопросы в чате - путь вникуда (кидать часть кода в чат отдельно от проекта - мне это не поможет, проходил), прошу помочь и внятно объяснить здесь, что я делаю не так. Теория очень скупая, из-за этого такие проблемы. Прекращать обучение не хочется, но нервы на пределе </div>"
   ]
  },
  {
   "cell_type": "markdown",
   "metadata": {},
   "source": [
    "<font color='blue'><b>Комментарий ревьюера 2: </b></font> ✔️\\\n",
    "<font color='blue'> \n",
    "<ul><font color='blue'>Модель сможет работать (предсказывать) только с теми признаками на которых она обучалась. Но в момент предполагаемой работы модели (до начала процесса) доступны только признаки (клонки) собранные в тестовой таблице. Выходит, что и в обучающих данных нужно оставить только колонки, которые присутствуют в тестовой таблице. (+ таргеты отдельно). Тестовые данные не надо брать для обучения, они нужны для теста моделей, к ним можно временно присоеденить соответствующие таргеты из полного датасета, выбрав 'date' в качестве общего признака. И в train и в test должно остаться не более 52 колонок и не должно содержаться признаков со словами output и concentrate.</font></ul>\n",
    "<ul><font color='blue'>Всю теорию дать не возможно. Основной и самый востребованный навык в DS это поиск информации в сети и умение работать с документацией. Обучение в этой профессии не заканчивается никогда. В задании специально дана \"непопулярная\" метрика, которой нет готовой в sklearn.<br>\n",
    "Чтобы передать свою функцию метрики в make_scorer, нужно чтобы эта функция принимала на вход только два аргумента (target, predict). Сейчас функция f_smape принимает 4 аргумента, поэтому оценка не получается и выходят nan. Можно написать отдельную функцию считающую smape для одного этапа. (Мы ведь проводим кроссвалидацию для каждого этапа отдельно). И уже её подавать в make_scorer.</font></ul>\n",
    "<ul><font color='blue'>Нам нужно сделать подбор гиперпараметров хотябы одной модели по кросс-валидации.<br>\n",
    "Для этого можно использовать `GridSearchCV` или написать цикл где будут перебираться параметры модели (например, `'max_depth'` для `RandomForestRegressor`), оцениваться средняя метрика по кроссвалидации и сохраняться параметры дающие лучшую метрику.</font></ul>\n",
    " <div class=\"alert alert-info\"> <b> Комментарий студента:</b>  Про объём теории согласен, но тогда не надо писать, что всё необходимое для проекта есть в шпаргалках и конспектах прошлых тем! По проекту: переделал последний этап в соответвтии с GridSearchCV. RandomForest не хочет считать, я не могу дождаться результатов(( </div>\n",
    "    \n"
   ]
  },
  {
   "cell_type": "markdown",
   "metadata": {},
   "source": [
    "<font color='blue'><b>Итоговый комментарий ревьюера</b></font>\\\n",
    "<font color='green'>Александр, хорошее начало!\n",
    "Большое спасибо за проделанную работу. Видно, что приложено много усилий.\n",
    "</font>\n",
    "\n",
    "<font color='blue'>Напишу что осталось сделать :</font>\n",
    "<ul><font color='blue'>Сформируй тестовую выборку из таблицы `gold_recovery_test_new.csv`</font></ul>\n",
    "<ul><font color='blue'>Оцени работу более чем одной модели по кроссвалидации с использованием smape.</font></ul>\n",
    "<ul><font color='blue'>Подбери гиперпараметры, хотябы для одной модели, по кроссвалидации с использованием smape.</font></ul>\n",
    "<ul><font color='blue'>Проведи тестирование моделей на тестовых данных.</font></ul>\n",
    "\n",
    "<font color='blue'>Что можно сделать лучше:</font>\n",
    "<font color='orange'>В работе я оставил несколько советов. Буду рад, если ты учтешь их.</font></ul>\n",
    "\n",
    "<font color='green'>По всем вопросам и уточнениям можно обращаться к наставникам, преподавателям и коммьюнити студентов.\n",
    "</font>\n",
    "\n",
    "<font color='blue'><b>Жду новую версию проекта :)</b></font>"
   ]
  },
  {
   "cell_type": "markdown",
   "metadata": {},
   "source": [
    "<font color='blue'><b>Итоговый комментарий ревьюера 2</b></font>\\\n",
    "<font color='green'>Александр, большое спасибо за доработку.\n",
    "</font>\n",
    "\n",
    "<font color='blue'>Напишу что осталось сделать :</font>\n",
    "<ul><font color='blue'>Сформируй тестовую выборку из таблицы `gold_recovery_test_new.csv`</font></ul>\n",
    "<ul><font color='blue'>Оцени работу более чем одной модели по кроссвалидации с использованием smape.</font></ul>\n",
    "<ul><font color='blue'>Подбери гиперпараметры, хотябы для одной модели, по кроссвалидации с использованием smape.</font></ul>\n",
    "<ul><font color='blue'>Проведи тестирование моделей на тестовых данных.</font></ul>\n",
    "\n",
    "<font color='blue'>Что можно сделать лучше:</font>\n",
    "<font color='orange'>В работе я оставил несколько советов. Буду рад, если ты учтешь их.</font></ul>\n",
    "\n",
    "<font color='green'>По всем вопросам и уточнениям можно обращаться к наставникам, преподавателям и коммьюнити студентов.\n",
    "</font>\n",
    "\n",
    "<font color='blue'><b>Жду новую версию проекта :)</b></font>"
   ]
  },
  {
   "cell_type": "markdown",
   "metadata": {},
   "source": [
    "<font color='blue'><b>Итоговый комментарий ревьюера 2</b></font>\\\n",
    "<font color='green'>Александр, проект принят! \\\n",
    "Все этапы пройдены. Все критичные рекомендации учтены.\\\n",
    "Надеюсь, тебе понравился процесс выполнения и результат.</font> \\\n",
    "<font color='blue'><b>Спасибо, удачи в освоении профессии!</b></font>"
   ]
  },
  {
   "cell_type": "markdown",
   "metadata": {},
   "source": [
    "## Чек-лист готовности проекта"
   ]
  },
  {
   "cell_type": "markdown",
   "metadata": {},
   "source": [
    "- [x]  Jupyter Notebook открыт\n",
    "- [x]  Весь код выполняется без ошибок\n",
    "- [x]  Ячейки с кодом расположены в порядке выполнения\n",
    "- [x]  Выполнен шаг 1: данные подготовлены\n",
    "    - [x]  Проверена формула вычисления эффективности обогащения\n",
    "    - [x]  Проанализированы признаки, недоступные в тестовой выборке\n",
    "    - [x]  Проведена предобработка данных\n",
    "- [x]  Выполнен шаг 2: данные проанализированы\n",
    "    - [x]  Исследовано изменение концентрации элементов на каждом этапе\n",
    "    - [x]  Проанализированы распределения размеров гранул на обучающей и тестовой выборках\n",
    "    - [x]  Исследованы суммарные концентрации\n",
    "- [ ]  Выполнен шаг 3: построена модель прогнозирования\n",
    "    - [ ]  Написана функция для вычисления итогового *sMAPE*\n",
    "    - [ ]  Обучено и проверено несколько моделей\n",
    "    - [ ]  Выбрана лучшая модель, её качество проверено на тестовой выборке"
   ]
  }
 ],
 "metadata": {
  "ExecuteTimeLog": [
   {
    "duration": 1072,
    "start_time": "2022-05-25T14:43:47.015Z"
   },
   {
    "duration": 112,
    "start_time": "2022-05-25T14:44:33.027Z"
   },
   {
    "duration": 14,
    "start_time": "2022-05-25T14:45:16.547Z"
   },
   {
    "duration": 46,
    "start_time": "2022-05-25T14:45:35.914Z"
   },
   {
    "duration": 15,
    "start_time": "2022-05-25T14:46:29.438Z"
   },
   {
    "duration": 15,
    "start_time": "2022-05-25T14:46:37.661Z"
   },
   {
    "duration": 14,
    "start_time": "2022-05-25T14:47:33.772Z"
   },
   {
    "duration": 873,
    "start_time": "2022-05-25T14:47:41.774Z"
   },
   {
    "duration": 105,
    "start_time": "2022-05-25T14:47:44.169Z"
   },
   {
    "duration": 14,
    "start_time": "2022-05-25T14:48:23.348Z"
   },
   {
    "duration": 3037,
    "start_time": "2022-05-25T14:50:22.395Z"
   },
   {
    "duration": 9,
    "start_time": "2022-05-25T14:55:04.583Z"
   },
   {
    "duration": 5,
    "start_time": "2022-05-25T14:55:18.916Z"
   },
   {
    "duration": 3,
    "start_time": "2022-05-25T14:55:20.968Z"
   },
   {
    "duration": 4,
    "start_time": "2022-05-25T14:55:23.003Z"
   },
   {
    "duration": 25,
    "start_time": "2022-05-25T14:55:59.973Z"
   },
   {
    "duration": 3,
    "start_time": "2022-05-25T14:58:37.188Z"
   },
   {
    "duration": 4,
    "start_time": "2022-05-25T14:59:03.219Z"
   },
   {
    "duration": 23,
    "start_time": "2022-05-25T14:59:20.153Z"
   },
   {
    "duration": 9,
    "start_time": "2022-05-25T14:59:44.940Z"
   },
   {
    "duration": 20,
    "start_time": "2022-05-25T14:59:47.929Z"
   },
   {
    "duration": 142,
    "start_time": "2022-05-25T15:02:44.922Z"
   },
   {
    "duration": 119,
    "start_time": "2022-05-25T15:03:10.332Z"
   },
   {
    "duration": 21,
    "start_time": "2022-05-25T15:03:14.311Z"
   },
   {
    "duration": 132,
    "start_time": "2022-05-25T15:03:45.179Z"
   },
   {
    "duration": 155,
    "start_time": "2022-05-25T15:22:12.757Z"
   },
   {
    "duration": 9,
    "start_time": "2022-05-25T15:22:28.177Z"
   },
   {
    "duration": 203,
    "start_time": "2022-05-25T15:22:32.530Z"
   },
   {
    "duration": 125,
    "start_time": "2022-05-25T15:22:44.643Z"
   },
   {
    "duration": 33,
    "start_time": "2022-05-25T15:26:56.978Z"
   },
   {
    "duration": 6,
    "start_time": "2022-05-25T15:27:38.697Z"
   },
   {
    "duration": 103,
    "start_time": "2022-05-25T15:28:21.297Z"
   },
   {
    "duration": 12,
    "start_time": "2022-05-25T15:28:47.041Z"
   },
   {
    "duration": 436,
    "start_time": "2022-05-25T15:57:34.465Z"
   },
   {
    "duration": 5,
    "start_time": "2022-05-25T16:03:54.056Z"
   },
   {
    "duration": 5,
    "start_time": "2022-05-25T16:03:55.713Z"
   },
   {
    "duration": 482,
    "start_time": "2022-05-25T16:10:44.507Z"
   },
   {
    "duration": 863,
    "start_time": "2022-05-25T16:11:02.589Z"
   },
   {
    "duration": 5,
    "start_time": "2022-05-25T16:11:46.297Z"
   },
   {
    "duration": 5,
    "start_time": "2022-05-25T16:12:10.816Z"
   },
   {
    "duration": 5,
    "start_time": "2022-05-25T16:13:04.156Z"
   },
   {
    "duration": 5,
    "start_time": "2022-05-25T16:13:35.302Z"
   },
   {
    "duration": 5,
    "start_time": "2022-05-25T16:14:04.933Z"
   },
   {
    "duration": 2,
    "start_time": "2022-05-25T16:15:41.718Z"
   },
   {
    "duration": 4,
    "start_time": "2022-05-25T16:15:43.247Z"
   },
   {
    "duration": 5,
    "start_time": "2022-05-25T16:15:44.838Z"
   },
   {
    "duration": 5,
    "start_time": "2022-05-25T16:15:47.276Z"
   },
   {
    "duration": 7,
    "start_time": "2022-05-25T16:15:52.623Z"
   },
   {
    "duration": 5,
    "start_time": "2022-05-25T16:15:54.117Z"
   },
   {
    "duration": 5,
    "start_time": "2022-05-25T16:15:55.731Z"
   },
   {
    "duration": 30,
    "start_time": "2022-05-25T16:17:49.335Z"
   },
   {
    "duration": 928,
    "start_time": "2022-05-25T16:25:10.359Z"
   },
   {
    "duration": 701,
    "start_time": "2022-05-25T16:25:12.721Z"
   },
   {
    "duration": 8,
    "start_time": "2022-05-25T16:25:15.581Z"
   },
   {
    "duration": 23,
    "start_time": "2022-05-25T16:25:17.560Z"
   },
   {
    "duration": 20,
    "start_time": "2022-05-25T16:25:20.590Z"
   },
   {
    "duration": 25,
    "start_time": "2022-05-25T16:25:22.605Z"
   },
   {
    "duration": 135,
    "start_time": "2022-05-25T16:25:26.959Z"
   },
   {
    "duration": 9,
    "start_time": "2022-05-25T16:25:30.732Z"
   },
   {
    "duration": 29,
    "start_time": "2022-05-25T16:25:34.823Z"
   },
   {
    "duration": 7,
    "start_time": "2022-05-25T16:25:37.785Z"
   },
   {
    "duration": 110,
    "start_time": "2022-05-25T16:25:43.198Z"
   },
   {
    "duration": 10,
    "start_time": "2022-05-25T16:25:46.958Z"
   },
   {
    "duration": 9,
    "start_time": "2022-05-25T16:25:52.602Z"
   },
   {
    "duration": 6,
    "start_time": "2022-05-25T16:25:54.744Z"
   },
   {
    "duration": 5,
    "start_time": "2022-05-25T16:25:56.886Z"
   },
   {
    "duration": 4,
    "start_time": "2022-05-25T16:25:59.708Z"
   },
   {
    "duration": 992,
    "start_time": "2022-05-25T16:26:41.959Z"
   },
   {
    "duration": 723,
    "start_time": "2022-05-25T16:26:45.533Z"
   },
   {
    "duration": 10,
    "start_time": "2022-05-25T16:26:48.011Z"
   },
   {
    "duration": 23,
    "start_time": "2022-05-25T16:26:49.943Z"
   },
   {
    "duration": 20,
    "start_time": "2022-05-25T16:26:52.083Z"
   },
   {
    "duration": 22,
    "start_time": "2022-05-25T16:26:54.439Z"
   },
   {
    "duration": 146,
    "start_time": "2022-05-25T16:26:57.638Z"
   },
   {
    "duration": 10,
    "start_time": "2022-05-25T16:27:00.967Z"
   },
   {
    "duration": 30,
    "start_time": "2022-05-25T16:27:03.275Z"
   },
   {
    "duration": 7,
    "start_time": "2022-05-25T16:27:07.578Z"
   },
   {
    "duration": 108,
    "start_time": "2022-05-25T16:27:10.454Z"
   },
   {
    "duration": 10,
    "start_time": "2022-05-25T16:27:14.307Z"
   },
   {
    "duration": 6,
    "start_time": "2022-05-25T16:27:17.626Z"
   },
   {
    "duration": 5,
    "start_time": "2022-05-25T16:27:19.279Z"
   },
   {
    "duration": 1036,
    "start_time": "2022-05-25T16:27:57.026Z"
   },
   {
    "duration": 766,
    "start_time": "2022-05-25T16:27:59.523Z"
   },
   {
    "duration": 9,
    "start_time": "2022-05-25T16:28:02.169Z"
   },
   {
    "duration": 22,
    "start_time": "2022-05-25T16:28:04.223Z"
   },
   {
    "duration": 19,
    "start_time": "2022-05-25T16:28:06.819Z"
   },
   {
    "duration": 22,
    "start_time": "2022-05-25T16:28:08.817Z"
   },
   {
    "duration": 133,
    "start_time": "2022-05-25T16:28:11.454Z"
   },
   {
    "duration": 10,
    "start_time": "2022-05-25T16:28:14.990Z"
   },
   {
    "duration": 32,
    "start_time": "2022-05-25T16:28:17.243Z"
   },
   {
    "duration": 7,
    "start_time": "2022-05-25T16:28:19.524Z"
   },
   {
    "duration": 115,
    "start_time": "2022-05-25T16:28:23.911Z"
   },
   {
    "duration": 10,
    "start_time": "2022-05-25T16:28:28.014Z"
   },
   {
    "duration": 6,
    "start_time": "2022-05-25T16:28:31.335Z"
   },
   {
    "duration": 5,
    "start_time": "2022-05-25T16:28:34.282Z"
   },
   {
    "duration": 5,
    "start_time": "2022-05-25T16:29:22.846Z"
   },
   {
    "duration": 5,
    "start_time": "2022-05-25T16:29:32.748Z"
   },
   {
    "duration": 5,
    "start_time": "2022-05-25T16:29:34.662Z"
   },
   {
    "duration": 7,
    "start_time": "2022-05-25T16:31:11.829Z"
   },
   {
    "duration": 6,
    "start_time": "2022-05-25T16:31:36.538Z"
   },
   {
    "duration": 67,
    "start_time": "2022-05-26T12:28:32.147Z"
   },
   {
    "duration": 978,
    "start_time": "2022-05-26T12:28:50.699Z"
   },
   {
    "duration": 3537,
    "start_time": "2022-05-26T12:28:53.181Z"
   },
   {
    "duration": 9,
    "start_time": "2022-05-26T12:28:57.378Z"
   },
   {
    "duration": 25,
    "start_time": "2022-05-26T12:28:59.124Z"
   },
   {
    "duration": 27,
    "start_time": "2022-05-26T12:29:01.345Z"
   },
   {
    "duration": 24,
    "start_time": "2022-05-26T12:29:03.339Z"
   },
   {
    "duration": 146,
    "start_time": "2022-05-26T12:29:08.200Z"
   },
   {
    "duration": 10,
    "start_time": "2022-05-26T12:29:12.821Z"
   },
   {
    "duration": 38,
    "start_time": "2022-05-26T12:29:15.572Z"
   },
   {
    "duration": 21,
    "start_time": "2022-05-26T12:29:21.348Z"
   },
   {
    "duration": 130,
    "start_time": "2022-05-26T12:29:24.740Z"
   },
   {
    "duration": 10,
    "start_time": "2022-05-26T12:29:27.977Z"
   },
   {
    "duration": 8,
    "start_time": "2022-05-26T12:29:30.703Z"
   },
   {
    "duration": 5,
    "start_time": "2022-05-26T12:29:32.697Z"
   },
   {
    "duration": 10,
    "start_time": "2022-05-26T12:29:34.779Z"
   },
   {
    "duration": 116,
    "start_time": "2022-05-26T12:29:38.425Z"
   },
   {
    "duration": 732,
    "start_time": "2022-05-26T12:29:47.272Z"
   },
   {
    "duration": 10,
    "start_time": "2022-05-26T12:30:39.685Z"
   },
   {
    "duration": 511,
    "start_time": "2022-05-26T12:30:46.067Z"
   },
   {
    "duration": 11,
    "start_time": "2022-05-26T12:30:52.365Z"
   },
   {
    "duration": 56,
    "start_time": "2022-05-26T12:31:03.611Z"
   },
   {
    "duration": 4,
    "start_time": "2022-05-26T12:31:08.919Z"
   },
   {
    "duration": 9,
    "start_time": "2022-05-26T12:31:14.623Z"
   },
   {
    "duration": 16,
    "start_time": "2022-05-26T12:31:35.209Z"
   },
   {
    "duration": 603,
    "start_time": "2022-05-26T12:35:21.126Z"
   },
   {
    "duration": 640,
    "start_time": "2022-05-26T12:36:39.494Z"
   },
   {
    "duration": 428,
    "start_time": "2022-05-26T12:37:32.316Z"
   },
   {
    "duration": 8,
    "start_time": "2022-05-26T12:37:50.951Z"
   },
   {
    "duration": 31,
    "start_time": "2022-05-26T12:40:11.716Z"
   },
   {
    "duration": 19,
    "start_time": "2022-05-26T12:40:19.074Z"
   },
   {
    "duration": 9,
    "start_time": "2022-05-26T12:42:11.799Z"
   },
   {
    "duration": 62,
    "start_time": "2022-05-26T12:43:54.600Z"
   },
   {
    "duration": 13,
    "start_time": "2022-05-26T12:44:15.056Z"
   },
   {
    "duration": 12,
    "start_time": "2022-05-26T12:47:48.946Z"
   },
   {
    "duration": 15,
    "start_time": "2022-05-26T12:48:13.003Z"
   },
   {
    "duration": 7,
    "start_time": "2022-05-26T12:48:33.869Z"
   },
   {
    "duration": 13,
    "start_time": "2022-05-26T12:49:16.531Z"
   },
   {
    "duration": 11,
    "start_time": "2022-05-26T12:49:35.605Z"
   },
   {
    "duration": 8,
    "start_time": "2022-05-26T12:49:47.472Z"
   },
   {
    "duration": 13,
    "start_time": "2022-05-26T12:55:46.412Z"
   },
   {
    "duration": 11,
    "start_time": "2022-05-26T12:56:02.273Z"
   },
   {
    "duration": 6,
    "start_time": "2022-05-26T12:56:10.918Z"
   },
   {
    "duration": 4,
    "start_time": "2022-05-26T12:59:00.202Z"
   },
   {
    "duration": 4,
    "start_time": "2022-05-26T12:59:11.113Z"
   },
   {
    "duration": 8,
    "start_time": "2022-05-26T12:59:42.870Z"
   },
   {
    "duration": 9,
    "start_time": "2022-05-26T12:59:53.845Z"
   },
   {
    "duration": 6,
    "start_time": "2022-05-26T13:02:49.298Z"
   },
   {
    "duration": 6,
    "start_time": "2022-05-26T13:03:05.046Z"
   },
   {
    "duration": 14,
    "start_time": "2022-05-26T13:03:09.758Z"
   },
   {
    "duration": 3,
    "start_time": "2022-05-26T13:03:13.420Z"
   },
   {
    "duration": 4,
    "start_time": "2022-05-26T13:03:23.672Z"
   },
   {
    "duration": 8,
    "start_time": "2022-05-26T13:43:00.936Z"
   },
   {
    "duration": 22,
    "start_time": "2022-05-26T13:43:32.879Z"
   },
   {
    "duration": 38,
    "start_time": "2022-05-26T13:45:08.884Z"
   },
   {
    "duration": 12,
    "start_time": "2022-05-26T13:46:46.266Z"
   },
   {
    "duration": 11,
    "start_time": "2022-05-26T13:51:53.402Z"
   },
   {
    "duration": 1007,
    "start_time": "2022-05-26T14:01:25.289Z"
   },
   {
    "duration": 337,
    "start_time": "2022-05-26T14:01:41.209Z"
   },
   {
    "duration": 476,
    "start_time": "2022-05-26T14:04:53.868Z"
   },
   {
    "duration": 457,
    "start_time": "2022-05-26T14:13:01.324Z"
   },
   {
    "duration": 1188,
    "start_time": "2022-05-26T14:14:45.985Z"
   },
   {
    "duration": 920,
    "start_time": "2022-05-26T14:14:48.770Z"
   },
   {
    "duration": 7,
    "start_time": "2022-05-26T14:14:51.164Z"
   },
   {
    "duration": 33,
    "start_time": "2022-05-26T14:14:52.839Z"
   },
   {
    "duration": 29,
    "start_time": "2022-05-26T14:14:56.766Z"
   },
   {
    "duration": 21,
    "start_time": "2022-05-26T14:14:59.090Z"
   },
   {
    "duration": 142,
    "start_time": "2022-05-26T14:15:06.708Z"
   },
   {
    "duration": 9,
    "start_time": "2022-05-26T14:15:10.781Z"
   },
   {
    "duration": 37,
    "start_time": "2022-05-26T14:15:13.641Z"
   },
   {
    "duration": 8,
    "start_time": "2022-05-26T14:15:15.868Z"
   },
   {
    "duration": 140,
    "start_time": "2022-05-26T14:15:17.747Z"
   },
   {
    "duration": 14,
    "start_time": "2022-05-26T14:15:24.805Z"
   },
   {
    "duration": 6,
    "start_time": "2022-05-26T14:15:28.207Z"
   },
   {
    "duration": 5,
    "start_time": "2022-05-26T14:15:29.942Z"
   },
   {
    "duration": 11,
    "start_time": "2022-05-26T14:15:31.645Z"
   },
   {
    "duration": 7,
    "start_time": "2022-05-26T14:15:39.169Z"
   },
   {
    "duration": 18,
    "start_time": "2022-05-26T14:15:48.550Z"
   },
   {
    "duration": 8,
    "start_time": "2022-05-26T14:15:50.820Z"
   },
   {
    "duration": 247,
    "start_time": "2022-05-26T14:15:53.280Z"
   },
   {
    "duration": 256,
    "start_time": "2022-05-26T14:18:22.601Z"
   },
   {
    "duration": 803,
    "start_time": "2022-05-26T14:20:27.277Z"
   },
   {
    "duration": 602,
    "start_time": "2022-05-26T14:20:42.436Z"
   },
   {
    "duration": 475,
    "start_time": "2022-05-26T14:23:45.906Z"
   },
   {
    "duration": 542,
    "start_time": "2022-05-26T14:24:12.404Z"
   },
   {
    "duration": 521,
    "start_time": "2022-05-26T14:24:47.578Z"
   },
   {
    "duration": 612,
    "start_time": "2022-05-26T14:24:56.977Z"
   },
   {
    "duration": 543,
    "start_time": "2022-05-26T14:26:35.517Z"
   },
   {
    "duration": 940,
    "start_time": "2022-05-26T14:27:06.169Z"
   },
   {
    "duration": 497,
    "start_time": "2022-05-26T14:34:44.898Z"
   },
   {
    "duration": 657,
    "start_time": "2022-05-26T14:38:00.582Z"
   },
   {
    "duration": 467,
    "start_time": "2022-05-26T14:38:06.789Z"
   },
   {
    "duration": 467,
    "start_time": "2022-05-26T14:38:21.325Z"
   },
   {
    "duration": 470,
    "start_time": "2022-05-26T14:38:23.629Z"
   },
   {
    "duration": 677,
    "start_time": "2022-05-26T14:39:03.111Z"
   },
   {
    "duration": 478,
    "start_time": "2022-05-26T14:39:10.993Z"
   },
   {
    "duration": 10,
    "start_time": "2022-05-26T14:39:23.722Z"
   },
   {
    "duration": 504,
    "start_time": "2022-05-26T14:39:25.387Z"
   },
   {
    "duration": 654,
    "start_time": "2022-05-26T14:39:48.766Z"
   },
   {
    "duration": 1174,
    "start_time": "2022-05-26T14:40:05.537Z"
   },
   {
    "duration": 806,
    "start_time": "2022-05-26T14:40:08.284Z"
   },
   {
    "duration": 5,
    "start_time": "2022-05-26T14:40:10.417Z"
   },
   {
    "duration": 23,
    "start_time": "2022-05-26T14:40:11.964Z"
   },
   {
    "duration": 21,
    "start_time": "2022-05-26T14:40:14.284Z"
   },
   {
    "duration": 23,
    "start_time": "2022-05-26T14:40:16.617Z"
   },
   {
    "duration": 142,
    "start_time": "2022-05-26T14:40:20.377Z"
   },
   {
    "duration": 9,
    "start_time": "2022-05-26T14:40:24.001Z"
   },
   {
    "duration": 34,
    "start_time": "2022-05-26T14:40:27.035Z"
   },
   {
    "duration": 10,
    "start_time": "2022-05-26T14:40:30.127Z"
   },
   {
    "duration": 116,
    "start_time": "2022-05-26T14:40:31.678Z"
   },
   {
    "duration": 11,
    "start_time": "2022-05-26T14:40:38.466Z"
   },
   {
    "duration": 7,
    "start_time": "2022-05-26T14:40:41.978Z"
   },
   {
    "duration": 4,
    "start_time": "2022-05-26T14:40:43.565Z"
   },
   {
    "duration": 8,
    "start_time": "2022-05-26T14:40:45.405Z"
   },
   {
    "duration": 6,
    "start_time": "2022-05-26T14:40:47.920Z"
   },
   {
    "duration": 4,
    "start_time": "2022-05-26T14:40:50.068Z"
   },
   {
    "duration": 8,
    "start_time": "2022-05-26T14:40:51.672Z"
   },
   {
    "duration": 523,
    "start_time": "2022-05-26T14:40:53.645Z"
   },
   {
    "duration": 487,
    "start_time": "2022-05-26T14:41:00.678Z"
   },
   {
    "duration": 474,
    "start_time": "2022-05-26T14:41:21.622Z"
   },
   {
    "duration": 580,
    "start_time": "2022-05-26T14:41:33.240Z"
   },
   {
    "duration": 289,
    "start_time": "2022-05-26T14:41:48.338Z"
   },
   {
    "duration": 243,
    "start_time": "2022-05-26T14:41:54.464Z"
   },
   {
    "duration": 774,
    "start_time": "2022-05-26T14:41:58.593Z"
   },
   {
    "duration": 7202,
    "start_time": "2022-05-26T14:42:03.217Z"
   },
   {
    "duration": 1583,
    "start_time": "2022-05-26T14:42:19.625Z"
   },
   {
    "duration": 919,
    "start_time": "2022-05-26T14:42:35.717Z"
   },
   {
    "duration": 622,
    "start_time": "2022-05-26T14:42:40.145Z"
   },
   {
    "duration": 894,
    "start_time": "2022-05-26T14:42:46.632Z"
   },
   {
    "duration": 536,
    "start_time": "2022-05-26T14:42:54.838Z"
   },
   {
    "duration": 481,
    "start_time": "2022-05-26T14:43:50.819Z"
   },
   {
    "duration": 494,
    "start_time": "2022-05-26T14:44:02.543Z"
   },
   {
    "duration": 4953,
    "start_time": "2022-05-26T14:44:45.513Z"
   },
   {
    "duration": 4964,
    "start_time": "2022-05-26T14:44:59.910Z"
   },
   {
    "duration": 604,
    "start_time": "2022-05-26T14:45:18.344Z"
   },
   {
    "duration": 698,
    "start_time": "2022-05-26T14:45:37.445Z"
   },
   {
    "duration": 495,
    "start_time": "2022-05-26T14:45:47.245Z"
   },
   {
    "duration": 493,
    "start_time": "2022-05-26T14:46:02.103Z"
   },
   {
    "duration": 593,
    "start_time": "2022-05-26T14:46:16.199Z"
   },
   {
    "duration": 490,
    "start_time": "2022-05-26T14:46:23.325Z"
   },
   {
    "duration": 505,
    "start_time": "2022-05-26T14:49:03.119Z"
   },
   {
    "duration": 555,
    "start_time": "2022-05-26T14:49:12.229Z"
   },
   {
    "duration": 32,
    "start_time": "2022-05-26T14:53:22.992Z"
   },
   {
    "duration": 128,
    "start_time": "2022-05-26T14:54:05.490Z"
   },
   {
    "duration": 693,
    "start_time": "2022-05-26T14:54:14.935Z"
   },
   {
    "duration": 489,
    "start_time": "2022-05-26T14:54:40.524Z"
   },
   {
    "duration": 754,
    "start_time": "2022-05-26T14:55:36.899Z"
   },
   {
    "duration": 1155,
    "start_time": "2022-05-26T14:55:43.668Z"
   },
   {
    "duration": 1214,
    "start_time": "2022-05-26T14:55:51.065Z"
   },
   {
    "duration": 1324,
    "start_time": "2022-05-26T14:59:43.675Z"
   },
   {
    "duration": 1377,
    "start_time": "2022-05-26T14:59:55.207Z"
   },
   {
    "duration": 1228,
    "start_time": "2022-05-26T15:00:51.877Z"
   },
   {
    "duration": 1384,
    "start_time": "2022-05-26T15:00:55.986Z"
   },
   {
    "duration": 1357,
    "start_time": "2022-05-26T15:03:56.024Z"
   },
   {
    "duration": 1297,
    "start_time": "2022-05-26T15:04:15.713Z"
   },
   {
    "duration": 1335,
    "start_time": "2022-05-26T15:06:18.037Z"
   },
   {
    "duration": 1489,
    "start_time": "2022-05-26T15:12:09.876Z"
   },
   {
    "duration": 1378,
    "start_time": "2022-05-26T15:12:18.900Z"
   },
   {
    "duration": 59,
    "start_time": "2022-05-26T15:16:05.777Z"
   },
   {
    "duration": 441,
    "start_time": "2022-05-26T15:17:18.290Z"
   },
   {
    "duration": 932,
    "start_time": "2022-05-26T15:17:46.214Z"
   },
   {
    "duration": 931,
    "start_time": "2022-05-26T15:18:07.255Z"
   },
   {
    "duration": 1502,
    "start_time": "2022-05-26T15:18:42.202Z"
   },
   {
    "duration": 1166,
    "start_time": "2022-05-26T15:19:26.945Z"
   },
   {
    "duration": 1604,
    "start_time": "2022-05-26T15:20:27.587Z"
   },
   {
    "duration": 1129,
    "start_time": "2022-05-26T15:20:37.981Z"
   },
   {
    "duration": 1546,
    "start_time": "2022-05-26T15:20:42.401Z"
   },
   {
    "duration": 1153,
    "start_time": "2022-05-26T15:21:13.031Z"
   },
   {
    "duration": 1273,
    "start_time": "2022-05-26T15:21:22.952Z"
   },
   {
    "duration": 1949,
    "start_time": "2022-05-26T15:21:44.077Z"
   },
   {
    "duration": 1430,
    "start_time": "2022-05-26T15:22:02.403Z"
   },
   {
    "duration": 1924,
    "start_time": "2022-05-26T15:22:22.934Z"
   },
   {
    "duration": 1393,
    "start_time": "2022-05-26T15:23:00.381Z"
   },
   {
    "duration": 2045,
    "start_time": "2022-05-26T15:23:14.278Z"
   },
   {
    "duration": 1240,
    "start_time": "2022-05-26T15:23:52.443Z"
   },
   {
    "duration": 1260,
    "start_time": "2022-05-26T15:24:05.629Z"
   },
   {
    "duration": 1996,
    "start_time": "2022-05-26T15:24:19.685Z"
   },
   {
    "duration": 1468,
    "start_time": "2022-05-26T15:25:24.553Z"
   },
   {
    "duration": 1395,
    "start_time": "2022-05-26T15:25:40.289Z"
   },
   {
    "duration": 1221,
    "start_time": "2022-05-26T15:26:25.423Z"
   },
   {
    "duration": 2159,
    "start_time": "2022-05-26T15:26:36.591Z"
   },
   {
    "duration": 1149,
    "start_time": "2022-05-26T15:26:50.591Z"
   },
   {
    "duration": 1398,
    "start_time": "2022-05-26T15:27:04.015Z"
   },
   {
    "duration": 1462,
    "start_time": "2022-05-26T15:27:17.136Z"
   },
   {
    "duration": 2306,
    "start_time": "2022-05-26T15:27:24.507Z"
   },
   {
    "duration": 1449,
    "start_time": "2022-05-26T15:27:32.017Z"
   },
   {
    "duration": 1344,
    "start_time": "2022-05-26T15:27:43.725Z"
   },
   {
    "duration": 1351,
    "start_time": "2022-05-26T15:27:55.487Z"
   },
   {
    "duration": 2150,
    "start_time": "2022-05-26T15:28:09.108Z"
   },
   {
    "duration": 1251,
    "start_time": "2022-05-26T15:28:18.183Z"
   },
   {
    "duration": 1287,
    "start_time": "2022-05-26T15:28:31.078Z"
   },
   {
    "duration": 1380,
    "start_time": "2022-05-26T15:28:39.486Z"
   },
   {
    "duration": 1455,
    "start_time": "2022-05-26T15:28:49.141Z"
   },
   {
    "duration": 2441,
    "start_time": "2022-05-26T15:29:01.250Z"
   },
   {
    "duration": 1346,
    "start_time": "2022-05-26T15:37:01.079Z"
   },
   {
    "duration": 1377,
    "start_time": "2022-05-26T15:48:41.835Z"
   },
   {
    "duration": 1585,
    "start_time": "2022-05-31T13:34:32.803Z"
   },
   {
    "duration": 3070,
    "start_time": "2022-05-31T13:34:36.206Z"
   },
   {
    "duration": 6,
    "start_time": "2022-05-31T13:34:41.090Z"
   },
   {
    "duration": 21,
    "start_time": "2022-05-31T13:34:42.968Z"
   },
   {
    "duration": 21,
    "start_time": "2022-05-31T13:34:45.452Z"
   },
   {
    "duration": 21,
    "start_time": "2022-05-31T13:34:48.124Z"
   },
   {
    "duration": 130,
    "start_time": "2022-05-31T13:34:52.114Z"
   },
   {
    "duration": 10,
    "start_time": "2022-05-31T13:35:00.634Z"
   },
   {
    "duration": 31,
    "start_time": "2022-05-31T13:35:04.237Z"
   },
   {
    "duration": 7,
    "start_time": "2022-05-31T13:35:08.835Z"
   },
   {
    "duration": 104,
    "start_time": "2022-05-31T13:35:10.991Z"
   },
   {
    "duration": 12,
    "start_time": "2022-05-31T13:35:14.484Z"
   },
   {
    "duration": 6,
    "start_time": "2022-05-31T13:35:19.631Z"
   },
   {
    "duration": 6,
    "start_time": "2022-05-31T13:35:21.309Z"
   },
   {
    "duration": 6,
    "start_time": "2022-05-31T13:35:25.544Z"
   },
   {
    "duration": 8,
    "start_time": "2022-05-31T13:35:31.323Z"
   },
   {
    "duration": 3,
    "start_time": "2022-05-31T13:35:34.850Z"
   },
   {
    "duration": 8,
    "start_time": "2022-05-31T13:35:37.125Z"
   },
   {
    "duration": 1034,
    "start_time": "2022-05-31T13:35:38.950Z"
   },
   {
    "duration": 1131,
    "start_time": "2022-05-31T13:35:43.244Z"
   },
   {
    "duration": 1266,
    "start_time": "2022-05-31T13:35:50.880Z"
   },
   {
    "duration": 629,
    "start_time": "2022-05-31T13:35:55.025Z"
   },
   {
    "duration": 775,
    "start_time": "2022-05-31T13:36:00.464Z"
   },
   {
    "duration": 6,
    "start_time": "2022-05-31T13:36:04.308Z"
   },
   {
    "duration": 1002,
    "start_time": "2022-05-31T13:36:10.523Z"
   },
   {
    "duration": 1113,
    "start_time": "2022-05-31T13:39:46.725Z"
   },
   {
    "duration": 764,
    "start_time": "2022-05-31T13:39:51.327Z"
   },
   {
    "duration": 5,
    "start_time": "2022-05-31T13:39:54.085Z"
   },
   {
    "duration": 21,
    "start_time": "2022-05-31T13:39:56.206Z"
   },
   {
    "duration": 20,
    "start_time": "2022-05-31T13:39:58.845Z"
   },
   {
    "duration": 22,
    "start_time": "2022-05-31T13:40:02.034Z"
   },
   {
    "duration": 131,
    "start_time": "2022-05-31T13:40:04.798Z"
   },
   {
    "duration": 8,
    "start_time": "2022-05-31T13:40:08.892Z"
   },
   {
    "duration": 1079,
    "start_time": "2022-05-31T13:47:26.449Z"
   },
   {
    "duration": 753,
    "start_time": "2022-05-31T13:47:30.423Z"
   },
   {
    "duration": 6,
    "start_time": "2022-05-31T13:47:33.428Z"
   },
   {
    "duration": 22,
    "start_time": "2022-05-31T13:47:35.308Z"
   },
   {
    "duration": 19,
    "start_time": "2022-05-31T13:47:39.200Z"
   },
   {
    "duration": 26,
    "start_time": "2022-05-31T13:47:41.949Z"
   },
   {
    "duration": 130,
    "start_time": "2022-05-31T13:47:45.552Z"
   },
   {
    "duration": 12,
    "start_time": "2022-05-31T13:47:48.841Z"
   },
   {
    "duration": 29,
    "start_time": "2022-05-31T13:47:51.606Z"
   },
   {
    "duration": 6,
    "start_time": "2022-05-31T13:47:54.436Z"
   },
   {
    "duration": 105,
    "start_time": "2022-05-31T13:47:57.353Z"
   },
   {
    "duration": 10,
    "start_time": "2022-05-31T13:48:00.948Z"
   },
   {
    "duration": 5,
    "start_time": "2022-05-31T13:48:03.343Z"
   },
   {
    "duration": 5,
    "start_time": "2022-05-31T13:48:05.682Z"
   },
   {
    "duration": 6,
    "start_time": "2022-05-31T13:48:08.152Z"
   },
   {
    "duration": 7,
    "start_time": "2022-05-31T13:48:10.842Z"
   },
   {
    "duration": 4,
    "start_time": "2022-05-31T13:48:14.070Z"
   },
   {
    "duration": 8,
    "start_time": "2022-05-31T13:48:16.279Z"
   },
   {
    "duration": 1149,
    "start_time": "2022-05-31T13:48:20.476Z"
   },
   {
    "duration": 1226,
    "start_time": "2022-05-31T13:48:32.640Z"
   },
   {
    "duration": 1291,
    "start_time": "2022-05-31T13:48:38.553Z"
   },
   {
    "duration": 686,
    "start_time": "2022-05-31T13:48:42.463Z"
   },
   {
    "duration": 795,
    "start_time": "2022-05-31T13:48:47.942Z"
   },
   {
    "duration": 7,
    "start_time": "2022-05-31T13:48:51.710Z"
   },
   {
    "duration": 976,
    "start_time": "2022-05-31T13:48:54.703Z"
   },
   {
    "duration": 3,
    "start_time": "2022-05-31T13:59:31.311Z"
   },
   {
    "duration": 3,
    "start_time": "2022-05-31T14:00:45.789Z"
   },
   {
    "duration": 4,
    "start_time": "2022-05-31T14:01:28.439Z"
   },
   {
    "duration": 15,
    "start_time": "2022-05-31T14:09:07.632Z"
   },
   {
    "duration": 33,
    "start_time": "2022-05-31T14:22:53.669Z"
   },
   {
    "duration": 113,
    "start_time": "2022-05-31T14:46:53.911Z"
   },
   {
    "duration": 40,
    "start_time": "2022-05-31T14:49:30.240Z"
   },
   {
    "duration": 34,
    "start_time": "2022-05-31T14:49:44.321Z"
   },
   {
    "duration": 37,
    "start_time": "2022-05-31T14:51:57.791Z"
   },
   {
    "duration": 34,
    "start_time": "2022-05-31T14:53:35.912Z"
   },
   {
    "duration": 203,
    "start_time": "2022-05-31T14:53:59.066Z"
   },
   {
    "duration": 191,
    "start_time": "2022-05-31T14:54:43.861Z"
   },
   {
    "duration": 221,
    "start_time": "2022-05-31T14:56:33.756Z"
   },
   {
    "duration": 186,
    "start_time": "2022-05-31T14:59:02.648Z"
   },
   {
    "duration": 228,
    "start_time": "2022-05-31T14:59:31.061Z"
   },
   {
    "duration": 27,
    "start_time": "2022-05-31T15:04:44.675Z"
   },
   {
    "duration": 28,
    "start_time": "2022-05-31T15:05:29.875Z"
   },
   {
    "duration": 30,
    "start_time": "2022-05-31T15:05:33.017Z"
   },
   {
    "duration": 10,
    "start_time": "2022-05-31T15:06:39.439Z"
   },
   {
    "duration": 28,
    "start_time": "2022-05-31T15:07:12.277Z"
   },
   {
    "duration": 33,
    "start_time": "2022-05-31T15:07:25.915Z"
   },
   {
    "duration": 11,
    "start_time": "2022-05-31T15:26:53.999Z"
   },
   {
    "duration": 37,
    "start_time": "2022-05-31T15:27:13.161Z"
   },
   {
    "duration": 10,
    "start_time": "2022-05-31T15:29:16.600Z"
   },
   {
    "duration": 43,
    "start_time": "2022-05-31T15:29:33.725Z"
   },
   {
    "duration": 36,
    "start_time": "2022-05-31T15:30:13.553Z"
   },
   {
    "duration": 66,
    "start_time": "2022-05-31T15:30:32.348Z"
   },
   {
    "duration": 36,
    "start_time": "2022-05-31T15:30:51.857Z"
   },
   {
    "duration": 35,
    "start_time": "2022-05-31T15:30:59.915Z"
   },
   {
    "duration": 24,
    "start_time": "2022-05-31T15:31:24.145Z"
   },
   {
    "duration": 43,
    "start_time": "2022-05-31T15:31:28.302Z"
   },
   {
    "duration": 1123,
    "start_time": "2022-05-31T15:32:44.523Z"
   },
   {
    "duration": 764,
    "start_time": "2022-05-31T15:32:46.952Z"
   },
   {
    "duration": 6,
    "start_time": "2022-05-31T15:32:49.613Z"
   },
   {
    "duration": 20,
    "start_time": "2022-05-31T15:32:51.444Z"
   },
   {
    "duration": 20,
    "start_time": "2022-05-31T15:32:53.403Z"
   },
   {
    "duration": 20,
    "start_time": "2022-05-31T15:32:55.442Z"
   },
   {
    "duration": 126,
    "start_time": "2022-05-31T15:32:57.893Z"
   },
   {
    "duration": 9,
    "start_time": "2022-05-31T15:33:01.353Z"
   },
   {
    "duration": 31,
    "start_time": "2022-05-31T15:33:03.791Z"
   },
   {
    "duration": 7,
    "start_time": "2022-05-31T15:33:07.767Z"
   },
   {
    "duration": 113,
    "start_time": "2022-05-31T15:33:10.394Z"
   },
   {
    "duration": 10,
    "start_time": "2022-05-31T15:33:13.582Z"
   },
   {
    "duration": 6,
    "start_time": "2022-05-31T15:33:16.201Z"
   },
   {
    "duration": 6,
    "start_time": "2022-05-31T15:33:17.964Z"
   },
   {
    "duration": 7,
    "start_time": "2022-05-31T15:33:20.053Z"
   },
   {
    "duration": 6,
    "start_time": "2022-05-31T15:33:22.365Z"
   },
   {
    "duration": 3,
    "start_time": "2022-05-31T15:33:25.874Z"
   },
   {
    "duration": 7,
    "start_time": "2022-05-31T15:33:27.864Z"
   },
   {
    "duration": 1036,
    "start_time": "2022-05-31T15:33:29.599Z"
   },
   {
    "duration": 1146,
    "start_time": "2022-05-31T15:33:34.807Z"
   },
   {
    "duration": 1129,
    "start_time": "2022-05-31T15:33:38.327Z"
   },
   {
    "duration": 615,
    "start_time": "2022-05-31T15:33:42.296Z"
   },
   {
    "duration": 736,
    "start_time": "2022-05-31T15:33:45.278Z"
   },
   {
    "duration": 6,
    "start_time": "2022-05-31T15:33:48.293Z"
   },
   {
    "duration": 971,
    "start_time": "2022-05-31T15:33:51.317Z"
   },
   {
    "duration": 4,
    "start_time": "2022-05-31T15:33:54.785Z"
   },
   {
    "duration": 15,
    "start_time": "2022-05-31T15:33:56.367Z"
   },
   {
    "duration": 31,
    "start_time": "2022-05-31T15:33:57.971Z"
   },
   {
    "duration": 151,
    "start_time": "2022-05-31T15:34:02.283Z"
   },
   {
    "duration": 50,
    "start_time": "2022-05-31T15:35:19.758Z"
   },
   {
    "duration": 52,
    "start_time": "2022-05-31T15:35:43.685Z"
   },
   {
    "duration": 42,
    "start_time": "2022-05-31T15:36:00.605Z"
   },
   {
    "duration": 62,
    "start_time": "2022-05-31T15:36:06.111Z"
   },
   {
    "duration": 67,
    "start_time": "2022-05-31T15:57:46.932Z"
   },
   {
    "duration": 28,
    "start_time": "2022-05-31T15:59:49.573Z"
   },
   {
    "duration": 26,
    "start_time": "2022-05-31T16:00:09.273Z"
   },
   {
    "duration": 21,
    "start_time": "2022-05-31T16:00:56.597Z"
   },
   {
    "duration": 24,
    "start_time": "2022-05-31T16:01:02.916Z"
   },
   {
    "duration": 1121,
    "start_time": "2022-05-31T16:01:05.374Z"
   },
   {
    "duration": 1134,
    "start_time": "2022-05-31T16:01:58.097Z"
   },
   {
    "duration": 14,
    "start_time": "2022-05-31T16:03:12.935Z"
   },
   {
    "duration": 1429,
    "start_time": "2022-06-01T08:54:37.483Z"
   },
   {
    "duration": 3602,
    "start_time": "2022-06-01T08:54:38.915Z"
   },
   {
    "duration": 6,
    "start_time": "2022-06-01T08:54:42.518Z"
   },
   {
    "duration": 54,
    "start_time": "2022-06-01T08:54:42.536Z"
   },
   {
    "duration": 21,
    "start_time": "2022-06-01T08:54:42.592Z"
   },
   {
    "duration": 30,
    "start_time": "2022-06-01T08:54:42.615Z"
   },
   {
    "duration": 165,
    "start_time": "2022-06-01T08:54:42.647Z"
   },
   {
    "duration": 32,
    "start_time": "2022-06-01T08:54:42.813Z"
   },
   {
    "duration": 32,
    "start_time": "2022-06-01T08:54:42.853Z"
   },
   {
    "duration": 8,
    "start_time": "2022-06-01T08:54:42.888Z"
   },
   {
    "duration": 138,
    "start_time": "2022-06-01T08:54:42.898Z"
   },
   {
    "duration": 16,
    "start_time": "2022-06-01T08:54:43.043Z"
   },
   {
    "duration": 7,
    "start_time": "2022-06-01T08:54:43.061Z"
   },
   {
    "duration": 6,
    "start_time": "2022-06-01T08:54:43.070Z"
   },
   {
    "duration": 10,
    "start_time": "2022-06-01T08:54:43.077Z"
   },
   {
    "duration": 7,
    "start_time": "2022-06-01T08:54:43.089Z"
   },
   {
    "duration": 41,
    "start_time": "2022-06-01T08:54:43.098Z"
   },
   {
    "duration": 29,
    "start_time": "2022-06-01T08:54:43.140Z"
   },
   {
    "duration": 1234,
    "start_time": "2022-06-01T08:54:43.171Z"
   },
   {
    "duration": 1368,
    "start_time": "2022-06-01T08:54:44.407Z"
   },
   {
    "duration": 1440,
    "start_time": "2022-06-01T08:54:45.777Z"
   },
   {
    "duration": 700,
    "start_time": "2022-06-01T08:54:47.225Z"
   },
   {
    "duration": 981,
    "start_time": "2022-06-01T08:54:47.927Z"
   },
   {
    "duration": 6,
    "start_time": "2022-06-01T08:54:48.910Z"
   },
   {
    "duration": 1243,
    "start_time": "2022-06-01T08:54:48.917Z"
   },
   {
    "duration": 4,
    "start_time": "2022-06-01T08:54:50.162Z"
   },
   {
    "duration": 40,
    "start_time": "2022-06-01T08:54:50.168Z"
   },
   {
    "duration": 42,
    "start_time": "2022-06-01T08:54:50.211Z"
   },
   {
    "duration": 1272,
    "start_time": "2022-06-01T08:54:50.257Z"
   },
   {
    "duration": 1271,
    "start_time": "2022-06-01T08:54:51.531Z"
   },
   {
    "duration": 5,
    "start_time": "2022-06-01T08:54:52.803Z"
   },
   {
    "duration": 69,
    "start_time": "2022-06-01T14:24:23.821Z"
   },
   {
    "duration": 1932,
    "start_time": "2022-06-01T14:28:21.441Z"
   },
   {
    "duration": 1258,
    "start_time": "2022-06-01T14:28:30.464Z"
   },
   {
    "duration": 6428,
    "start_time": "2022-06-01T14:28:34.208Z"
   },
   {
    "duration": 8,
    "start_time": "2022-06-01T14:28:43.453Z"
   },
   {
    "duration": 38,
    "start_time": "2022-06-01T14:28:45.302Z"
   },
   {
    "duration": 39,
    "start_time": "2022-06-01T14:28:49.521Z"
   },
   {
    "duration": 32,
    "start_time": "2022-06-01T14:28:55.389Z"
   },
   {
    "duration": 221,
    "start_time": "2022-06-01T14:29:00.038Z"
   },
   {
    "duration": 12,
    "start_time": "2022-06-01T14:29:04.885Z"
   },
   {
    "duration": 53,
    "start_time": "2022-06-01T14:29:11.077Z"
   },
   {
    "duration": 8,
    "start_time": "2022-06-01T14:29:13.886Z"
   },
   {
    "duration": 144,
    "start_time": "2022-06-01T14:29:21.516Z"
   },
   {
    "duration": 19,
    "start_time": "2022-06-01T14:29:24.973Z"
   },
   {
    "duration": 7,
    "start_time": "2022-06-01T14:29:32.286Z"
   },
   {
    "duration": 6,
    "start_time": "2022-06-01T14:29:45.085Z"
   },
   {
    "duration": 9,
    "start_time": "2022-06-01T14:29:47.514Z"
   },
   {
    "duration": 12,
    "start_time": "2022-06-01T14:30:10.196Z"
   },
   {
    "duration": 4,
    "start_time": "2022-06-01T14:30:18.155Z"
   },
   {
    "duration": 14,
    "start_time": "2022-06-01T14:30:20.152Z"
   },
   {
    "duration": 1316,
    "start_time": "2022-06-01T14:30:22.004Z"
   },
   {
    "duration": 1431,
    "start_time": "2022-06-01T14:30:29.670Z"
   },
   {
    "duration": 1797,
    "start_time": "2022-06-01T14:30:33.989Z"
   },
   {
    "duration": 722,
    "start_time": "2022-06-01T14:30:38.593Z"
   },
   {
    "duration": 982,
    "start_time": "2022-06-01T14:30:43.688Z"
   },
   {
    "duration": 10,
    "start_time": "2022-06-01T14:30:47.113Z"
   },
   {
    "duration": 1241,
    "start_time": "2022-06-01T14:30:49.074Z"
   },
   {
    "duration": 4,
    "start_time": "2022-06-01T14:30:56.094Z"
   },
   {
    "duration": 35,
    "start_time": "2022-06-01T14:30:58.930Z"
   },
   {
    "duration": 51,
    "start_time": "2022-06-01T14:31:01.365Z"
   },
   {
    "duration": 49,
    "start_time": "2022-06-01T14:33:54.166Z"
   },
   {
    "duration": 9,
    "start_time": "2022-06-01T14:34:17.167Z"
   },
   {
    "duration": 32,
    "start_time": "2022-06-01T14:34:37.166Z"
   },
   {
    "duration": 8,
    "start_time": "2022-06-01T14:34:43.877Z"
   },
   {
    "duration": 8,
    "start_time": "2022-06-01T14:35:33.141Z"
   },
   {
    "duration": 8,
    "start_time": "2022-06-01T14:35:41.457Z"
   },
   {
    "duration": 1232,
    "start_time": "2022-06-01T15:39:19.118Z"
   },
   {
    "duration": 1134,
    "start_time": "2022-06-01T15:39:25.655Z"
   },
   {
    "duration": 806,
    "start_time": "2022-06-01T15:39:29.570Z"
   },
   {
    "duration": 6,
    "start_time": "2022-06-01T15:39:32.375Z"
   },
   {
    "duration": 36,
    "start_time": "2022-06-01T15:39:34.442Z"
   },
   {
    "duration": 34,
    "start_time": "2022-06-01T15:39:36.864Z"
   },
   {
    "duration": 21,
    "start_time": "2022-06-01T15:39:39.250Z"
   },
   {
    "duration": 156,
    "start_time": "2022-06-01T15:39:42.004Z"
   },
   {
    "duration": 9,
    "start_time": "2022-06-01T15:39:45.460Z"
   },
   {
    "duration": 44,
    "start_time": "2022-06-01T15:39:49.896Z"
   },
   {
    "duration": 9,
    "start_time": "2022-06-01T15:39:52.579Z"
   },
   {
    "duration": 138,
    "start_time": "2022-06-01T15:39:55.144Z"
   },
   {
    "duration": 11,
    "start_time": "2022-06-01T15:39:58.355Z"
   },
   {
    "duration": 7,
    "start_time": "2022-06-01T15:40:03.858Z"
   },
   {
    "duration": 6,
    "start_time": "2022-06-01T15:40:06.002Z"
   },
   {
    "duration": 8,
    "start_time": "2022-06-01T15:40:09.245Z"
   },
   {
    "duration": 7,
    "start_time": "2022-06-01T15:40:11.580Z"
   },
   {
    "duration": 3,
    "start_time": "2022-06-01T15:40:14.796Z"
   },
   {
    "duration": 13,
    "start_time": "2022-06-01T15:40:17.837Z"
   },
   {
    "duration": 1170,
    "start_time": "2022-06-01T15:40:20.172Z"
   },
   {
    "duration": 1301,
    "start_time": "2022-06-01T15:40:24.847Z"
   },
   {
    "duration": 1401,
    "start_time": "2022-06-01T15:40:28.743Z"
   },
   {
    "duration": 670,
    "start_time": "2022-06-01T15:40:33.016Z"
   },
   {
    "duration": 854,
    "start_time": "2022-06-01T15:40:36.493Z"
   },
   {
    "duration": 7,
    "start_time": "2022-06-01T15:40:43.769Z"
   },
   {
    "duration": 1220,
    "start_time": "2022-06-01T15:40:50.299Z"
   },
   {
    "duration": 4,
    "start_time": "2022-06-01T15:40:55.048Z"
   },
   {
    "duration": 24,
    "start_time": "2022-06-01T15:40:57.248Z"
   },
   {
    "duration": 43,
    "start_time": "2022-06-01T15:40:59.162Z"
   },
   {
    "duration": 1356,
    "start_time": "2022-06-01T15:41:02.735Z"
   },
   {
    "duration": 1385,
    "start_time": "2022-06-01T15:41:53.546Z"
   },
   {
    "duration": 833,
    "start_time": "2022-06-01T15:41:56.765Z"
   },
   {
    "duration": 7,
    "start_time": "2022-06-01T15:41:59.336Z"
   },
   {
    "duration": 22,
    "start_time": "2022-06-01T15:42:01.676Z"
   },
   {
    "duration": 22,
    "start_time": "2022-06-01T15:42:03.853Z"
   },
   {
    "duration": 37,
    "start_time": "2022-06-01T15:42:05.813Z"
   },
   {
    "duration": 144,
    "start_time": "2022-06-01T15:42:07.853Z"
   },
   {
    "duration": 16,
    "start_time": "2022-06-01T15:42:11.102Z"
   },
   {
    "duration": 31,
    "start_time": "2022-06-01T15:42:15.277Z"
   },
   {
    "duration": 7,
    "start_time": "2022-06-01T15:42:17.356Z"
   },
   {
    "duration": 118,
    "start_time": "2022-06-01T15:42:21.052Z"
   },
   {
    "duration": 12,
    "start_time": "2022-06-01T15:42:24.343Z"
   },
   {
    "duration": 11,
    "start_time": "2022-06-01T15:42:29.123Z"
   },
   {
    "duration": 6,
    "start_time": "2022-06-01T15:42:31.345Z"
   },
   {
    "duration": 7,
    "start_time": "2022-06-01T15:42:34.084Z"
   },
   {
    "duration": 6,
    "start_time": "2022-06-01T15:42:36.780Z"
   },
   {
    "duration": 5,
    "start_time": "2022-06-01T15:42:39.943Z"
   },
   {
    "duration": 8,
    "start_time": "2022-06-01T15:42:42.581Z"
   },
   {
    "duration": 1249,
    "start_time": "2022-06-01T15:42:44.683Z"
   },
   {
    "duration": 1252,
    "start_time": "2022-06-01T15:42:48.024Z"
   },
   {
    "duration": 1345,
    "start_time": "2022-06-01T15:42:51.564Z"
   },
   {
    "duration": 748,
    "start_time": "2022-06-01T15:42:55.215Z"
   },
   {
    "duration": 884,
    "start_time": "2022-06-01T15:42:59.061Z"
   },
   {
    "duration": 6,
    "start_time": "2022-06-01T15:43:02.682Z"
   },
   {
    "duration": 1177,
    "start_time": "2022-06-01T15:43:05.204Z"
   },
   {
    "duration": 4,
    "start_time": "2022-06-01T15:43:09.138Z"
   },
   {
    "duration": 26,
    "start_time": "2022-06-01T15:43:10.807Z"
   },
   {
    "duration": 35,
    "start_time": "2022-06-01T15:43:12.557Z"
   },
   {
    "duration": 5977,
    "start_time": "2022-06-01T15:43:14.208Z"
   },
   {
    "duration": 6201,
    "start_time": "2022-06-01T15:43:26.063Z"
   },
   {
    "duration": 6,
    "start_time": "2022-06-01T15:43:34.545Z"
   },
   {
    "duration": 6719,
    "start_time": "2022-06-01T15:55:06.878Z"
   },
   {
    "duration": 1288,
    "start_time": "2022-06-01T15:55:52.703Z"
   },
   {
    "duration": 840,
    "start_time": "2022-06-01T15:55:56.502Z"
   },
   {
    "duration": 6,
    "start_time": "2022-06-01T15:55:59.015Z"
   },
   {
    "duration": 28,
    "start_time": "2022-06-01T15:56:01.189Z"
   },
   {
    "duration": 22,
    "start_time": "2022-06-01T15:56:03.490Z"
   },
   {
    "duration": 34,
    "start_time": "2022-06-01T15:56:05.683Z"
   },
   {
    "duration": 185,
    "start_time": "2022-06-01T15:56:09.416Z"
   },
   {
    "duration": 11,
    "start_time": "2022-06-01T15:56:13.506Z"
   },
   {
    "duration": 34,
    "start_time": "2022-06-01T15:56:17.954Z"
   },
   {
    "duration": 8,
    "start_time": "2022-06-01T15:56:25.260Z"
   },
   {
    "duration": 134,
    "start_time": "2022-06-01T15:56:29.011Z"
   },
   {
    "duration": 12,
    "start_time": "2022-06-01T15:56:32.344Z"
   },
   {
    "duration": 7,
    "start_time": "2022-06-01T15:56:38.042Z"
   },
   {
    "duration": 5,
    "start_time": "2022-06-01T15:56:40.116Z"
   },
   {
    "duration": 6,
    "start_time": "2022-06-01T15:56:42.799Z"
   },
   {
    "duration": 6,
    "start_time": "2022-06-01T15:56:45.513Z"
   },
   {
    "duration": 5,
    "start_time": "2022-06-01T15:56:48.355Z"
   },
   {
    "duration": 13,
    "start_time": "2022-06-01T15:56:50.605Z"
   },
   {
    "duration": 1307,
    "start_time": "2022-06-01T15:56:52.558Z"
   },
   {
    "duration": 1349,
    "start_time": "2022-06-01T15:56:56.120Z"
   },
   {
    "duration": 1462,
    "start_time": "2022-06-01T15:57:01.743Z"
   },
   {
    "duration": 669,
    "start_time": "2022-06-01T15:57:06.110Z"
   },
   {
    "duration": 893,
    "start_time": "2022-06-01T15:57:09.316Z"
   },
   {
    "duration": 18,
    "start_time": "2022-06-01T15:57:13.221Z"
   },
   {
    "duration": 1126,
    "start_time": "2022-06-01T15:57:15.706Z"
   },
   {
    "duration": 5,
    "start_time": "2022-06-01T15:57:19.661Z"
   },
   {
    "duration": 25,
    "start_time": "2022-06-01T15:57:21.536Z"
   },
   {
    "duration": 10,
    "start_time": "2022-06-01T15:57:23.203Z"
   },
   {
    "duration": 1910,
    "start_time": "2022-06-01T15:57:25.056Z"
   },
   {
    "duration": 8817,
    "start_time": "2022-06-01T15:57:46.124Z"
   },
   {
    "duration": 8548,
    "start_time": "2022-06-01T15:58:12.978Z"
   },
   {
    "duration": 5,
    "start_time": "2022-06-01T15:58:23.930Z"
   },
   {
    "duration": 4,
    "start_time": "2022-06-01T15:58:51.894Z"
   },
   {
    "duration": 8720,
    "start_time": "2022-06-01T15:59:35.180Z"
   },
   {
    "duration": 4,
    "start_time": "2022-06-01T15:59:46.109Z"
   },
   {
    "duration": 8,
    "start_time": "2022-06-01T16:03:07.687Z"
   },
   {
    "duration": 20,
    "start_time": "2022-06-01T16:03:59.077Z"
   },
   {
    "duration": 7,
    "start_time": "2022-06-01T16:07:18.565Z"
   },
   {
    "duration": 18,
    "start_time": "2022-06-01T16:07:38.366Z"
   },
   {
    "duration": 9,
    "start_time": "2022-06-01T16:07:41.195Z"
   },
   {
    "duration": 5528,
    "start_time": "2022-06-01T16:07:50.687Z"
   },
   {
    "duration": 16,
    "start_time": "2022-06-01T16:07:58.477Z"
   },
   {
    "duration": 7,
    "start_time": "2022-06-01T16:08:31.070Z"
   },
   {
    "duration": 5555,
    "start_time": "2022-06-01T16:08:33.209Z"
   },
   {
    "duration": 5647,
    "start_time": "2022-06-01T16:08:40.356Z"
   },
   {
    "duration": 8,
    "start_time": "2022-06-01T16:08:48.527Z"
   },
   {
    "duration": 5536,
    "start_time": "2022-06-01T16:09:49.354Z"
   },
   {
    "duration": 6013,
    "start_time": "2022-06-01T16:09:56.540Z"
   },
   {
    "duration": 4,
    "start_time": "2022-06-01T16:10:04.688Z"
   },
   {
    "duration": 1695,
    "start_time": "2022-06-02T14:04:20.382Z"
   },
   {
    "duration": 4674,
    "start_time": "2022-06-02T14:04:24.145Z"
   },
   {
    "duration": 11,
    "start_time": "2022-06-02T14:04:30.743Z"
   },
   {
    "duration": 39,
    "start_time": "2022-06-02T14:04:32.802Z"
   },
   {
    "duration": 22,
    "start_time": "2022-06-02T14:04:35.065Z"
   },
   {
    "duration": 24,
    "start_time": "2022-06-02T14:04:37.579Z"
   },
   {
    "duration": 181,
    "start_time": "2022-06-02T14:04:42.993Z"
   },
   {
    "duration": 11,
    "start_time": "2022-06-02T14:04:46.565Z"
   },
   {
    "duration": 50,
    "start_time": "2022-06-02T14:04:50.798Z"
   },
   {
    "duration": 166,
    "start_time": "2022-06-02T14:04:57.452Z"
   },
   {
    "duration": 166,
    "start_time": "2022-06-02T14:05:03.540Z"
   },
   {
    "duration": 1507,
    "start_time": "2022-06-02T14:05:20.119Z"
   },
   {
    "duration": 1029,
    "start_time": "2022-06-02T14:05:23.507Z"
   },
   {
    "duration": 8,
    "start_time": "2022-06-02T14:05:25.878Z"
   },
   {
    "duration": 58,
    "start_time": "2022-06-02T14:05:28.046Z"
   },
   {
    "duration": 43,
    "start_time": "2022-06-02T14:05:32.718Z"
   },
   {
    "duration": 38,
    "start_time": "2022-06-02T14:05:36.978Z"
   },
   {
    "duration": 167,
    "start_time": "2022-06-02T14:05:42.361Z"
   },
   {
    "duration": 13,
    "start_time": "2022-06-02T14:05:45.903Z"
   },
   {
    "duration": 53,
    "start_time": "2022-06-02T14:05:48.198Z"
   },
   {
    "duration": 9,
    "start_time": "2022-06-02T14:05:51.220Z"
   },
   {
    "duration": 181,
    "start_time": "2022-06-02T14:05:57.965Z"
   },
   {
    "duration": 18,
    "start_time": "2022-06-02T14:06:01.970Z"
   },
   {
    "duration": 10,
    "start_time": "2022-06-02T14:06:08.071Z"
   },
   {
    "duration": 6,
    "start_time": "2022-06-02T14:06:10.265Z"
   },
   {
    "duration": 16,
    "start_time": "2022-06-02T14:06:12.774Z"
   },
   {
    "duration": 16,
    "start_time": "2022-06-02T14:06:15.751Z"
   },
   {
    "duration": 9,
    "start_time": "2022-06-02T14:09:26.361Z"
   },
   {
    "duration": 5,
    "start_time": "2022-06-02T14:09:33.119Z"
   },
   {
    "duration": 8,
    "start_time": "2022-06-02T14:09:35.595Z"
   },
   {
    "duration": 1309,
    "start_time": "2022-06-02T14:09:37.361Z"
   },
   {
    "duration": 1404,
    "start_time": "2022-06-02T14:09:41.045Z"
   },
   {
    "duration": 1445,
    "start_time": "2022-06-02T14:09:44.792Z"
   },
   {
    "duration": 1581,
    "start_time": "2022-06-02T14:09:53.923Z"
   },
   {
    "duration": 699,
    "start_time": "2022-06-02T14:09:58.161Z"
   },
   {
    "duration": 1044,
    "start_time": "2022-06-02T14:10:02.072Z"
   },
   {
    "duration": 8,
    "start_time": "2022-06-02T14:10:05.620Z"
   },
   {
    "duration": 996,
    "start_time": "2022-06-02T14:10:07.485Z"
   },
   {
    "duration": 6,
    "start_time": "2022-06-02T14:10:11.810Z"
   },
   {
    "duration": 38,
    "start_time": "2022-06-02T14:29:51.625Z"
   },
   {
    "duration": 7,
    "start_time": "2022-06-02T14:30:34.581Z"
   },
   {
    "duration": 217,
    "start_time": "2022-06-02T14:30:47.000Z"
   },
   {
    "duration": 9,
    "start_time": "2022-06-02T14:38:02.933Z"
   },
   {
    "duration": 13,
    "start_time": "2022-06-02T14:38:32.223Z"
   },
   {
    "duration": 22,
    "start_time": "2022-06-02T14:39:08.521Z"
   },
   {
    "duration": 19,
    "start_time": "2022-06-02T14:39:30.707Z"
   },
   {
    "duration": 30,
    "start_time": "2022-06-02T14:40:21.141Z"
   },
   {
    "duration": 2045,
    "start_time": "2022-06-02T14:40:43.490Z"
   },
   {
    "duration": 1773,
    "start_time": "2022-06-02T14:40:47.439Z"
   },
   {
    "duration": 9,
    "start_time": "2022-06-02T14:40:51.193Z"
   },
   {
    "duration": 40,
    "start_time": "2022-06-02T14:40:52.806Z"
   },
   {
    "duration": 38,
    "start_time": "2022-06-02T14:40:55.928Z"
   },
   {
    "duration": 29,
    "start_time": "2022-06-02T14:40:58.625Z"
   },
   {
    "duration": 220,
    "start_time": "2022-06-02T14:41:03.159Z"
   },
   {
    "duration": 12,
    "start_time": "2022-06-02T14:41:07.124Z"
   },
   {
    "duration": 44,
    "start_time": "2022-06-02T14:41:09.674Z"
   },
   {
    "duration": 12,
    "start_time": "2022-06-02T14:41:12.401Z"
   },
   {
    "duration": 260,
    "start_time": "2022-06-02T14:41:16.931Z"
   },
   {
    "duration": 14,
    "start_time": "2022-06-02T14:41:20.874Z"
   },
   {
    "duration": 8,
    "start_time": "2022-06-02T14:41:25.920Z"
   },
   {
    "duration": 8,
    "start_time": "2022-06-02T14:41:27.914Z"
   },
   {
    "duration": 11,
    "start_time": "2022-06-02T14:41:30.175Z"
   },
   {
    "duration": 9,
    "start_time": "2022-06-02T14:41:32.701Z"
   },
   {
    "duration": 5,
    "start_time": "2022-06-02T14:41:34.881Z"
   },
   {
    "duration": 13,
    "start_time": "2022-06-02T14:41:36.903Z"
   },
   {
    "duration": 1727,
    "start_time": "2022-06-02T14:41:39.881Z"
   },
   {
    "duration": 1858,
    "start_time": "2022-06-02T14:41:49.891Z"
   },
   {
    "duration": 2006,
    "start_time": "2022-06-02T14:41:54.490Z"
   },
   {
    "duration": 953,
    "start_time": "2022-06-02T14:41:59.077Z"
   },
   {
    "duration": 1220,
    "start_time": "2022-06-02T14:42:03.625Z"
   },
   {
    "duration": 9,
    "start_time": "2022-06-02T14:42:07.481Z"
   },
   {
    "duration": 1670,
    "start_time": "2022-06-02T14:42:09.487Z"
   },
   {
    "duration": 6,
    "start_time": "2022-06-02T14:42:13.840Z"
   },
   {
    "duration": 20,
    "start_time": "2022-06-02T14:42:15.976Z"
   },
   {
    "duration": 19,
    "start_time": "2022-06-02T14:42:19.737Z"
   },
   {
    "duration": 227,
    "start_time": "2022-06-02T14:42:33.881Z"
   },
   {
    "duration": 23,
    "start_time": "2022-06-02T14:42:52.576Z"
   },
   {
    "duration": 23,
    "start_time": "2022-06-02T14:43:03.827Z"
   },
   {
    "duration": 25,
    "start_time": "2022-06-02T14:43:21.862Z"
   },
   {
    "duration": 26,
    "start_time": "2022-06-02T14:43:51.376Z"
   },
   {
    "duration": 24,
    "start_time": "2022-06-02T14:44:35.547Z"
   },
   {
    "duration": 28,
    "start_time": "2022-06-02T14:45:43.726Z"
   },
   {
    "duration": 26,
    "start_time": "2022-06-02T14:45:49.336Z"
   },
   {
    "duration": 9,
    "start_time": "2022-06-02T14:46:24.071Z"
   },
   {
    "duration": 9,
    "start_time": "2022-06-02T14:46:40.689Z"
   },
   {
    "duration": 22,
    "start_time": "2022-06-02T14:47:04.759Z"
   },
   {
    "duration": 19,
    "start_time": "2022-06-02T14:48:41.170Z"
   },
   {
    "duration": 16,
    "start_time": "2022-06-02T14:49:02.968Z"
   },
   {
    "duration": 21,
    "start_time": "2022-06-02T14:49:30.651Z"
   },
   {
    "duration": 16,
    "start_time": "2022-06-02T14:52:04.672Z"
   },
   {
    "duration": 6,
    "start_time": "2022-06-02T14:52:13.081Z"
   },
   {
    "duration": 6,
    "start_time": "2022-06-02T15:10:23.871Z"
   },
   {
    "duration": 1571,
    "start_time": "2022-06-02T15:10:33.274Z"
   },
   {
    "duration": 1257,
    "start_time": "2022-06-02T15:10:37.084Z"
   },
   {
    "duration": 8,
    "start_time": "2022-06-02T15:10:39.716Z"
   },
   {
    "duration": 38,
    "start_time": "2022-06-02T15:10:41.869Z"
   },
   {
    "duration": 29,
    "start_time": "2022-06-02T15:10:44.530Z"
   },
   {
    "duration": 33,
    "start_time": "2022-06-02T15:10:47.001Z"
   },
   {
    "duration": 202,
    "start_time": "2022-06-02T15:10:51.350Z"
   },
   {
    "duration": 13,
    "start_time": "2022-06-02T15:10:55.664Z"
   },
   {
    "duration": 64,
    "start_time": "2022-06-02T15:10:59.067Z"
   },
   {
    "duration": 9,
    "start_time": "2022-06-02T15:11:05.894Z"
   },
   {
    "duration": 140,
    "start_time": "2022-06-02T15:11:09.598Z"
   },
   {
    "duration": 12,
    "start_time": "2022-06-02T15:11:13.302Z"
   },
   {
    "duration": 9,
    "start_time": "2022-06-02T15:11:16.216Z"
   },
   {
    "duration": 7,
    "start_time": "2022-06-02T15:11:18.253Z"
   },
   {
    "duration": 11,
    "start_time": "2022-06-02T15:11:20.105Z"
   },
   {
    "duration": 14,
    "start_time": "2022-06-02T15:11:22.944Z"
   },
   {
    "duration": 5,
    "start_time": "2022-06-02T15:11:25.414Z"
   },
   {
    "duration": 13,
    "start_time": "2022-06-02T15:11:27.904Z"
   },
   {
    "duration": 1619,
    "start_time": "2022-06-02T15:11:32.951Z"
   },
   {
    "duration": 1855,
    "start_time": "2022-06-02T15:11:39.442Z"
   },
   {
    "duration": 2271,
    "start_time": "2022-06-02T15:11:43.231Z"
   },
   {
    "duration": 882,
    "start_time": "2022-06-02T15:11:48.218Z"
   },
   {
    "duration": 1267,
    "start_time": "2022-06-02T15:11:51.332Z"
   },
   {
    "duration": 12,
    "start_time": "2022-06-02T15:11:55.795Z"
   },
   {
    "duration": 1921,
    "start_time": "2022-06-02T15:12:01.027Z"
   },
   {
    "duration": 6,
    "start_time": "2022-06-02T15:12:06.185Z"
   },
   {
    "duration": 91,
    "start_time": "2022-06-02T15:12:11.561Z"
   },
   {
    "duration": 183,
    "start_time": "2022-06-02T15:19:57.956Z"
   },
   {
    "duration": 1578,
    "start_time": "2022-06-02T15:20:35.624Z"
   },
   {
    "duration": 1017,
    "start_time": "2022-06-02T15:20:39.972Z"
   },
   {
    "duration": 9,
    "start_time": "2022-06-02T15:20:42.724Z"
   },
   {
    "duration": 42,
    "start_time": "2022-06-02T15:20:44.677Z"
   },
   {
    "duration": 26,
    "start_time": "2022-06-02T15:20:47.744Z"
   },
   {
    "duration": 32,
    "start_time": "2022-06-02T15:20:50.349Z"
   },
   {
    "duration": 154,
    "start_time": "2022-06-02T15:20:54.048Z"
   },
   {
    "duration": 12,
    "start_time": "2022-06-02T15:20:57.957Z"
   },
   {
    "duration": 65,
    "start_time": "2022-06-02T15:21:01.425Z"
   },
   {
    "duration": 1415,
    "start_time": "2022-06-02T15:21:16.614Z"
   },
   {
    "duration": 1038,
    "start_time": "2022-06-02T15:21:19.896Z"
   },
   {
    "duration": 7,
    "start_time": "2022-06-02T15:21:22.165Z"
   },
   {
    "duration": 37,
    "start_time": "2022-06-02T15:21:24.288Z"
   },
   {
    "duration": 32,
    "start_time": "2022-06-02T15:21:28.482Z"
   },
   {
    "duration": 40,
    "start_time": "2022-06-02T15:21:31.003Z"
   },
   {
    "duration": 179,
    "start_time": "2022-06-02T15:21:36.744Z"
   },
   {
    "duration": 12,
    "start_time": "2022-06-02T15:21:41.485Z"
   },
   {
    "duration": 49,
    "start_time": "2022-06-02T15:21:44.765Z"
   },
   {
    "duration": 179,
    "start_time": "2022-06-02T15:21:58.687Z"
   },
   {
    "duration": 1372,
    "start_time": "2022-06-02T15:22:09.819Z"
   },
   {
    "duration": 935,
    "start_time": "2022-06-02T15:22:13.411Z"
   },
   {
    "duration": 9,
    "start_time": "2022-06-02T15:22:15.900Z"
   },
   {
    "duration": 30,
    "start_time": "2022-06-02T15:22:18.497Z"
   },
   {
    "duration": 30,
    "start_time": "2022-06-02T15:22:21.883Z"
   },
   {
    "duration": 37,
    "start_time": "2022-06-02T15:22:24.018Z"
   },
   {
    "duration": 165,
    "start_time": "2022-06-02T15:22:28.100Z"
   },
   {
    "duration": 15,
    "start_time": "2022-06-02T15:22:32.051Z"
   },
   {
    "duration": 50,
    "start_time": "2022-06-02T15:22:35.525Z"
   },
   {
    "duration": 7,
    "start_time": "2022-06-02T15:22:38.173Z"
   },
   {
    "duration": 151,
    "start_time": "2022-06-02T15:22:42.107Z"
   },
   {
    "duration": 19,
    "start_time": "2022-06-02T15:22:46.475Z"
   },
   {
    "duration": 6,
    "start_time": "2022-06-02T15:22:49.006Z"
   },
   {
    "duration": 8,
    "start_time": "2022-06-02T15:22:52.205Z"
   },
   {
    "duration": 11,
    "start_time": "2022-06-02T15:22:57.965Z"
   },
   {
    "duration": 7,
    "start_time": "2022-06-02T15:23:00.449Z"
   },
   {
    "duration": 5,
    "start_time": "2022-06-02T15:23:03.398Z"
   },
   {
    "duration": 12,
    "start_time": "2022-06-02T15:23:05.843Z"
   },
   {
    "duration": 1217,
    "start_time": "2022-06-02T15:23:07.994Z"
   },
   {
    "duration": 1483,
    "start_time": "2022-06-02T15:23:12.504Z"
   },
   {
    "duration": 1404,
    "start_time": "2022-06-02T15:23:15.916Z"
   },
   {
    "duration": 736,
    "start_time": "2022-06-02T15:23:19.871Z"
   },
   {
    "duration": 955,
    "start_time": "2022-06-02T15:23:22.803Z"
   },
   {
    "duration": 9,
    "start_time": "2022-06-02T15:23:29.252Z"
   },
   {
    "duration": 1190,
    "start_time": "2022-06-02T15:23:38.909Z"
   },
   {
    "duration": 5,
    "start_time": "2022-06-02T15:23:43.187Z"
   },
   {
    "duration": 54,
    "start_time": "2022-06-02T15:23:45.507Z"
   },
   {
    "duration": 7,
    "start_time": "2022-06-02T15:23:48.234Z"
   },
   {
    "duration": 1054,
    "start_time": "2022-06-02T15:23:50.344Z"
   },
   {
    "duration": 933,
    "start_time": "2022-06-02T15:24:25.949Z"
   },
   {
    "duration": 1065,
    "start_time": "2022-06-02T15:24:40.146Z"
   },
   {
    "duration": 55,
    "start_time": "2022-06-02T15:25:03.413Z"
   },
   {
    "duration": 1057,
    "start_time": "2022-06-02T15:25:13.695Z"
   },
   {
    "duration": 1060,
    "start_time": "2022-06-02T15:28:41.495Z"
   },
   {
    "duration": 15,
    "start_time": "2022-06-02T15:28:46.352Z"
   },
   {
    "duration": 72,
    "start_time": "2022-06-02T15:34:31.278Z"
   },
   {
    "duration": 15,
    "start_time": "2022-06-02T15:35:25.699Z"
   },
   {
    "duration": 13,
    "start_time": "2022-06-02T15:36:00.486Z"
   },
   {
    "duration": 47,
    "start_time": "2022-06-02T15:36:55.841Z"
   },
   {
    "duration": 12,
    "start_time": "2022-06-02T15:37:06.649Z"
   },
   {
    "duration": 1365,
    "start_time": "2022-06-02T15:37:24.339Z"
   },
   {
    "duration": 903,
    "start_time": "2022-06-02T15:37:25.708Z"
   },
   {
    "duration": 7,
    "start_time": "2022-06-02T15:37:26.613Z"
   },
   {
    "duration": 43,
    "start_time": "2022-06-02T15:37:26.627Z"
   },
   {
    "duration": 29,
    "start_time": "2022-06-02T15:37:26.672Z"
   },
   {
    "duration": 32,
    "start_time": "2022-06-02T15:37:26.703Z"
   },
   {
    "duration": 169,
    "start_time": "2022-06-02T15:37:26.737Z"
   },
   {
    "duration": 28,
    "start_time": "2022-06-02T15:37:26.908Z"
   },
   {
    "duration": 39,
    "start_time": "2022-06-02T15:37:26.939Z"
   },
   {
    "duration": 7,
    "start_time": "2022-06-02T15:37:26.981Z"
   },
   {
    "duration": 150,
    "start_time": "2022-06-02T15:37:26.990Z"
   },
   {
    "duration": 12,
    "start_time": "2022-06-02T15:37:27.144Z"
   },
   {
    "duration": 5,
    "start_time": "2022-06-02T15:37:27.158Z"
   },
   {
    "duration": 8,
    "start_time": "2022-06-02T15:37:27.165Z"
   },
   {
    "duration": 13,
    "start_time": "2022-06-02T15:37:27.175Z"
   },
   {
    "duration": 10,
    "start_time": "2022-06-02T15:37:27.190Z"
   },
   {
    "duration": 41,
    "start_time": "2022-06-02T15:37:27.201Z"
   },
   {
    "duration": 25,
    "start_time": "2022-06-02T15:37:27.247Z"
   },
   {
    "duration": 1232,
    "start_time": "2022-06-02T15:37:27.274Z"
   },
   {
    "duration": 1339,
    "start_time": "2022-06-02T15:37:28.508Z"
   },
   {
    "duration": 1400,
    "start_time": "2022-06-02T15:37:29.849Z"
   },
   {
    "duration": 758,
    "start_time": "2022-06-02T15:37:31.251Z"
   },
   {
    "duration": 939,
    "start_time": "2022-06-02T15:37:32.011Z"
   },
   {
    "duration": 8,
    "start_time": "2022-06-02T15:37:32.953Z"
   },
   {
    "duration": 1228,
    "start_time": "2022-06-02T15:37:32.963Z"
   },
   {
    "duration": 4,
    "start_time": "2022-06-02T15:37:34.193Z"
   },
   {
    "duration": 154,
    "start_time": "2022-06-02T15:37:34.199Z"
   },
   {
    "duration": 0,
    "start_time": "2022-06-02T15:37:34.355Z"
   },
   {
    "duration": 0,
    "start_time": "2022-06-02T15:37:34.357Z"
   },
   {
    "duration": 0,
    "start_time": "2022-06-02T15:37:34.358Z"
   },
   {
    "duration": 0,
    "start_time": "2022-06-02T15:37:34.359Z"
   },
   {
    "duration": 0,
    "start_time": "2022-06-02T15:37:34.360Z"
   },
   {
    "duration": 0,
    "start_time": "2022-06-02T15:37:34.361Z"
   },
   {
    "duration": 0,
    "start_time": "2022-06-02T15:37:34.362Z"
   },
   {
    "duration": 0,
    "start_time": "2022-06-02T15:37:34.363Z"
   },
   {
    "duration": 14,
    "start_time": "2022-06-02T15:38:13.138Z"
   },
   {
    "duration": 14,
    "start_time": "2022-06-02T15:38:29.124Z"
   },
   {
    "duration": 14,
    "start_time": "2022-06-02T15:38:36.543Z"
   },
   {
    "duration": 12,
    "start_time": "2022-06-02T15:38:51.058Z"
   },
   {
    "duration": 15,
    "start_time": "2022-06-02T15:38:55.224Z"
   },
   {
    "duration": 4,
    "start_time": "2022-06-02T15:39:01.989Z"
   },
   {
    "duration": 13,
    "start_time": "2022-06-02T15:39:11.811Z"
   },
   {
    "duration": 12,
    "start_time": "2022-06-02T15:39:22.970Z"
   },
   {
    "duration": 17,
    "start_time": "2022-06-02T15:39:40.149Z"
   },
   {
    "duration": 18,
    "start_time": "2022-06-02T15:40:31.132Z"
   },
   {
    "duration": 4,
    "start_time": "2022-06-02T15:40:46.686Z"
   },
   {
    "duration": 11,
    "start_time": "2022-06-02T15:41:05.052Z"
   },
   {
    "duration": 5,
    "start_time": "2022-06-02T15:41:24.593Z"
   },
   {
    "duration": 877,
    "start_time": "2022-06-02T15:41:24.600Z"
   },
   {
    "duration": 8,
    "start_time": "2022-06-02T15:41:25.480Z"
   },
   {
    "duration": 36,
    "start_time": "2022-06-02T15:41:25.490Z"
   },
   {
    "duration": 39,
    "start_time": "2022-06-02T15:41:25.529Z"
   },
   {
    "duration": 35,
    "start_time": "2022-06-02T15:41:25.570Z"
   },
   {
    "duration": 175,
    "start_time": "2022-06-02T15:41:25.607Z"
   },
   {
    "duration": 16,
    "start_time": "2022-06-02T15:41:25.784Z"
   },
   {
    "duration": 65,
    "start_time": "2022-06-02T15:41:25.802Z"
   },
   {
    "duration": 9,
    "start_time": "2022-06-02T15:41:25.869Z"
   },
   {
    "duration": 137,
    "start_time": "2022-06-02T15:41:25.882Z"
   },
   {
    "duration": 15,
    "start_time": "2022-06-02T15:41:26.026Z"
   },
   {
    "duration": 8,
    "start_time": "2022-06-02T15:41:26.043Z"
   },
   {
    "duration": 9,
    "start_time": "2022-06-02T15:41:26.054Z"
   },
   {
    "duration": 11,
    "start_time": "2022-06-02T15:41:26.065Z"
   },
   {
    "duration": 6,
    "start_time": "2022-06-02T15:41:26.079Z"
   },
   {
    "duration": 41,
    "start_time": "2022-06-02T15:41:26.087Z"
   },
   {
    "duration": 12,
    "start_time": "2022-06-02T15:41:26.131Z"
   },
   {
    "duration": 1184,
    "start_time": "2022-06-02T15:41:26.145Z"
   },
   {
    "duration": 1449,
    "start_time": "2022-06-02T15:41:27.331Z"
   },
   {
    "duration": 1516,
    "start_time": "2022-06-02T15:41:28.783Z"
   },
   {
    "duration": 742,
    "start_time": "2022-06-02T15:41:30.301Z"
   },
   {
    "duration": 725,
    "start_time": "2022-06-02T15:41:31.046Z"
   },
   {
    "duration": 8,
    "start_time": "2022-06-02T15:41:31.772Z"
   },
   {
    "duration": 1451,
    "start_time": "2022-06-02T15:41:31.782Z"
   },
   {
    "duration": 6,
    "start_time": "2022-06-02T15:41:33.236Z"
   },
   {
    "duration": 68,
    "start_time": "2022-06-02T15:41:33.244Z"
   },
   {
    "duration": 3,
    "start_time": "2022-06-02T15:41:33.314Z"
   },
   {
    "duration": 1253,
    "start_time": "2022-06-02T15:41:40.168Z"
   },
   {
    "duration": 865,
    "start_time": "2022-06-02T15:41:41.426Z"
   },
   {
    "duration": 8,
    "start_time": "2022-06-02T15:41:42.293Z"
   },
   {
    "duration": 52,
    "start_time": "2022-06-02T15:41:42.303Z"
   },
   {
    "duration": 24,
    "start_time": "2022-06-02T15:41:42.358Z"
   },
   {
    "duration": 48,
    "start_time": "2022-06-02T15:41:42.384Z"
   },
   {
    "duration": 205,
    "start_time": "2022-06-02T15:41:42.435Z"
   },
   {
    "duration": 11,
    "start_time": "2022-06-02T15:41:42.642Z"
   },
   {
    "duration": 45,
    "start_time": "2022-06-02T15:41:42.654Z"
   },
   {
    "duration": 9,
    "start_time": "2022-06-02T15:41:42.727Z"
   },
   {
    "duration": 155,
    "start_time": "2022-06-02T15:41:42.739Z"
   },
   {
    "duration": 12,
    "start_time": "2022-06-02T15:41:42.896Z"
   },
   {
    "duration": 19,
    "start_time": "2022-06-02T15:41:42.909Z"
   },
   {
    "duration": 34,
    "start_time": "2022-06-02T15:41:42.931Z"
   },
   {
    "duration": 21,
    "start_time": "2022-06-02T15:41:42.967Z"
   },
   {
    "duration": 10,
    "start_time": "2022-06-02T15:41:42.991Z"
   },
   {
    "duration": 8,
    "start_time": "2022-06-02T15:41:43.003Z"
   },
   {
    "duration": 15,
    "start_time": "2022-06-02T15:41:43.013Z"
   },
   {
    "duration": 1171,
    "start_time": "2022-06-02T15:41:43.030Z"
   },
   {
    "duration": 1394,
    "start_time": "2022-06-02T15:41:44.203Z"
   },
   {
    "duration": 1345,
    "start_time": "2022-06-02T15:41:45.599Z"
   },
   {
    "duration": 684,
    "start_time": "2022-06-02T15:41:46.946Z"
   },
   {
    "duration": 884,
    "start_time": "2022-06-02T15:41:47.631Z"
   },
   {
    "duration": 14,
    "start_time": "2022-06-02T15:41:48.518Z"
   },
   {
    "duration": 1190,
    "start_time": "2022-06-02T15:41:48.535Z"
   },
   {
    "duration": 5,
    "start_time": "2022-06-02T15:41:49.728Z"
   },
   {
    "duration": 51,
    "start_time": "2022-06-02T15:41:49.735Z"
   },
   {
    "duration": 3,
    "start_time": "2022-06-02T15:41:49.788Z"
   },
   {
    "duration": 83874,
    "start_time": "2022-06-02T15:41:49.793Z"
   },
   {
    "duration": 0,
    "start_time": "2022-06-02T15:43:13.669Z"
   },
   {
    "duration": 0,
    "start_time": "2022-06-02T15:43:13.671Z"
   },
   {
    "duration": 0,
    "start_time": "2022-06-02T15:43:13.673Z"
   },
   {
    "duration": 0,
    "start_time": "2022-06-02T15:43:13.674Z"
   },
   {
    "duration": 0,
    "start_time": "2022-06-02T15:43:13.675Z"
   },
   {
    "duration": 0,
    "start_time": "2022-06-02T15:43:13.677Z"
   },
   {
    "duration": 1320,
    "start_time": "2022-06-02T15:44:32.766Z"
   },
   {
    "duration": 921,
    "start_time": "2022-06-02T15:44:34.090Z"
   },
   {
    "duration": 13,
    "start_time": "2022-06-02T15:44:35.013Z"
   },
   {
    "duration": 26,
    "start_time": "2022-06-02T15:44:35.028Z"
   },
   {
    "duration": 21,
    "start_time": "2022-06-02T15:44:35.056Z"
   },
   {
    "duration": 47,
    "start_time": "2022-06-02T15:44:35.079Z"
   },
   {
    "duration": 150,
    "start_time": "2022-06-02T15:44:35.129Z"
   },
   {
    "duration": 11,
    "start_time": "2022-06-02T15:44:35.281Z"
   },
   {
    "duration": 49,
    "start_time": "2022-06-02T15:44:35.295Z"
   },
   {
    "duration": 9,
    "start_time": "2022-06-02T15:44:35.348Z"
   },
   {
    "duration": 150,
    "start_time": "2022-06-02T15:44:35.359Z"
   },
   {
    "duration": 16,
    "start_time": "2022-06-02T15:44:35.511Z"
   },
   {
    "duration": 11,
    "start_time": "2022-06-02T15:44:35.529Z"
   },
   {
    "duration": 6,
    "start_time": "2022-06-02T15:44:35.542Z"
   },
   {
    "duration": 17,
    "start_time": "2022-06-02T15:44:35.550Z"
   },
   {
    "duration": 11,
    "start_time": "2022-06-02T15:44:35.569Z"
   },
   {
    "duration": 7,
    "start_time": "2022-06-02T15:44:35.582Z"
   },
   {
    "duration": 39,
    "start_time": "2022-06-02T15:44:35.590Z"
   },
   {
    "duration": 1571,
    "start_time": "2022-06-02T15:44:35.631Z"
   },
   {
    "duration": 1389,
    "start_time": "2022-06-02T15:44:37.204Z"
   },
   {
    "duration": 1382,
    "start_time": "2022-06-02T15:44:38.596Z"
   },
   {
    "duration": 719,
    "start_time": "2022-06-02T15:44:39.980Z"
   },
   {
    "duration": 867,
    "start_time": "2022-06-02T15:44:40.701Z"
   },
   {
    "duration": 8,
    "start_time": "2022-06-02T15:44:41.570Z"
   },
   {
    "duration": 1159,
    "start_time": "2022-06-02T15:44:41.580Z"
   },
   {
    "duration": 5,
    "start_time": "2022-06-02T15:44:42.741Z"
   },
   {
    "duration": 65,
    "start_time": "2022-06-02T15:44:42.750Z"
   },
   {
    "duration": 4,
    "start_time": "2022-06-02T15:44:42.825Z"
   },
   {
    "duration": 86154,
    "start_time": "2022-06-02T15:44:42.831Z"
   },
   {
    "duration": 81092,
    "start_time": "2022-06-02T15:46:08.987Z"
   },
   {
    "duration": 16,
    "start_time": "2022-06-02T15:47:30.081Z"
   },
   {
    "duration": 26,
    "start_time": "2022-06-02T15:47:30.100Z"
   },
   {
    "duration": 24,
    "start_time": "2022-06-02T15:47:30.129Z"
   },
   {
    "duration": 14,
    "start_time": "2022-06-02T15:47:30.156Z"
   },
   {
    "duration": 133,
    "start_time": "2022-06-02T15:47:30.172Z"
   },
   {
    "duration": 1339,
    "start_time": "2022-06-02T15:47:48.732Z"
   },
   {
    "duration": 841,
    "start_time": "2022-06-02T15:47:50.075Z"
   },
   {
    "duration": 10,
    "start_time": "2022-06-02T15:47:50.918Z"
   },
   {
    "duration": 37,
    "start_time": "2022-06-02T15:47:50.930Z"
   },
   {
    "duration": 34,
    "start_time": "2022-06-02T15:47:50.968Z"
   },
   {
    "duration": 39,
    "start_time": "2022-06-02T15:47:51.004Z"
   },
   {
    "duration": 203,
    "start_time": "2022-06-02T15:47:51.045Z"
   },
   {
    "duration": 10,
    "start_time": "2022-06-02T15:47:51.250Z"
   },
   {
    "duration": 35,
    "start_time": "2022-06-02T15:47:51.261Z"
   },
   {
    "duration": 34,
    "start_time": "2022-06-02T15:47:51.298Z"
   },
   {
    "duration": 156,
    "start_time": "2022-06-02T15:47:51.334Z"
   },
   {
    "duration": 10,
    "start_time": "2022-06-02T15:47:51.492Z"
   },
   {
    "duration": 21,
    "start_time": "2022-06-02T15:47:51.505Z"
   },
   {
    "duration": 6,
    "start_time": "2022-06-02T15:47:51.528Z"
   },
   {
    "duration": 14,
    "start_time": "2022-06-02T15:47:51.536Z"
   },
   {
    "duration": 15,
    "start_time": "2022-06-02T15:47:51.552Z"
   },
   {
    "duration": 6,
    "start_time": "2022-06-02T15:47:51.570Z"
   },
   {
    "duration": 17,
    "start_time": "2022-06-02T15:47:51.578Z"
   },
   {
    "duration": 1334,
    "start_time": "2022-06-02T15:47:51.597Z"
   },
   {
    "duration": 1355,
    "start_time": "2022-06-02T15:47:52.934Z"
   },
   {
    "duration": 1524,
    "start_time": "2022-06-02T15:47:54.291Z"
   },
   {
    "duration": 698,
    "start_time": "2022-06-02T15:47:55.817Z"
   },
   {
    "duration": 912,
    "start_time": "2022-06-02T15:47:56.525Z"
   },
   {
    "duration": 8,
    "start_time": "2022-06-02T15:47:57.439Z"
   },
   {
    "duration": 1277,
    "start_time": "2022-06-02T15:47:57.450Z"
   },
   {
    "duration": 4,
    "start_time": "2022-06-02T15:47:58.729Z"
   },
   {
    "duration": 60,
    "start_time": "2022-06-02T15:47:58.735Z"
   },
   {
    "duration": 4,
    "start_time": "2022-06-02T15:47:58.800Z"
   },
   {
    "duration": 83911,
    "start_time": "2022-06-02T15:47:58.806Z"
   },
   {
    "duration": 79376,
    "start_time": "2022-06-02T15:49:22.719Z"
   },
   {
    "duration": 14,
    "start_time": "2022-06-02T15:50:42.097Z"
   },
   {
    "duration": 13,
    "start_time": "2022-06-02T15:50:42.114Z"
   },
   {
    "duration": 17,
    "start_time": "2022-06-02T15:50:42.130Z"
   },
   {
    "duration": 17,
    "start_time": "2022-06-02T15:50:42.150Z"
   },
   {
    "duration": 126,
    "start_time": "2022-06-02T15:50:42.169Z"
   },
   {
    "duration": 1414,
    "start_time": "2022-06-02T16:01:44.605Z"
   },
   {
    "duration": 917,
    "start_time": "2022-06-02T16:01:46.022Z"
   },
   {
    "duration": 8,
    "start_time": "2022-06-02T16:01:46.941Z"
   },
   {
    "duration": 49,
    "start_time": "2022-06-02T16:01:46.953Z"
   },
   {
    "duration": 32,
    "start_time": "2022-06-02T16:01:47.005Z"
   },
   {
    "duration": 26,
    "start_time": "2022-06-02T16:01:47.039Z"
   },
   {
    "duration": 205,
    "start_time": "2022-06-02T16:01:47.069Z"
   },
   {
    "duration": 10,
    "start_time": "2022-06-02T16:01:47.277Z"
   },
   {
    "duration": 54,
    "start_time": "2022-06-02T16:01:47.289Z"
   },
   {
    "duration": 11,
    "start_time": "2022-06-02T16:01:47.347Z"
   },
   {
    "duration": 145,
    "start_time": "2022-06-02T16:01:47.361Z"
   },
   {
    "duration": 28,
    "start_time": "2022-06-02T16:01:47.508Z"
   },
   {
    "duration": 8,
    "start_time": "2022-06-02T16:01:47.538Z"
   },
   {
    "duration": 9,
    "start_time": "2022-06-02T16:01:47.548Z"
   },
   {
    "duration": 10,
    "start_time": "2022-06-02T16:01:47.559Z"
   },
   {
    "duration": 12,
    "start_time": "2022-06-02T16:01:47.571Z"
   },
   {
    "duration": 40,
    "start_time": "2022-06-02T16:01:47.586Z"
   },
   {
    "duration": 9,
    "start_time": "2022-06-02T16:01:47.628Z"
   },
   {
    "duration": 1234,
    "start_time": "2022-06-02T16:01:47.639Z"
   },
   {
    "duration": 1289,
    "start_time": "2022-06-02T16:01:48.874Z"
   },
   {
    "duration": 1302,
    "start_time": "2022-06-02T16:01:50.165Z"
   },
   {
    "duration": 699,
    "start_time": "2022-06-02T16:01:51.469Z"
   },
   {
    "duration": 1039,
    "start_time": "2022-06-02T16:01:52.170Z"
   },
   {
    "duration": 16,
    "start_time": "2022-06-02T16:01:53.211Z"
   },
   {
    "duration": 1240,
    "start_time": "2022-06-02T16:01:53.229Z"
   },
   {
    "duration": 6,
    "start_time": "2022-06-02T16:01:54.471Z"
   },
   {
    "duration": 66,
    "start_time": "2022-06-02T16:01:54.478Z"
   },
   {
    "duration": 3,
    "start_time": "2022-06-02T16:01:54.550Z"
   },
   {
    "duration": 83412,
    "start_time": "2022-06-02T16:01:54.556Z"
   },
   {
    "duration": 78215,
    "start_time": "2022-06-02T16:03:17.970Z"
   },
   {
    "duration": 15,
    "start_time": "2022-06-02T16:04:36.187Z"
   },
   {
    "duration": 1244,
    "start_time": "2022-06-02T16:06:48.538Z"
   },
   {
    "duration": 843,
    "start_time": "2022-06-02T16:06:49.786Z"
   },
   {
    "duration": 9,
    "start_time": "2022-06-02T16:06:50.631Z"
   },
   {
    "duration": 54,
    "start_time": "2022-06-02T16:06:50.642Z"
   },
   {
    "duration": 24,
    "start_time": "2022-06-02T16:06:50.698Z"
   },
   {
    "duration": 61,
    "start_time": "2022-06-02T16:06:50.726Z"
   },
   {
    "duration": 143,
    "start_time": "2022-06-02T16:06:50.789Z"
   },
   {
    "duration": 15,
    "start_time": "2022-06-02T16:06:50.934Z"
   },
   {
    "duration": 41,
    "start_time": "2022-06-02T16:06:50.951Z"
   },
   {
    "duration": 33,
    "start_time": "2022-06-02T16:06:50.997Z"
   },
   {
    "duration": 130,
    "start_time": "2022-06-02T16:06:51.032Z"
   },
   {
    "duration": 14,
    "start_time": "2022-06-02T16:06:51.164Z"
   },
   {
    "duration": 14,
    "start_time": "2022-06-02T16:06:51.180Z"
   },
   {
    "duration": 15,
    "start_time": "2022-06-02T16:06:51.197Z"
   },
   {
    "duration": 21,
    "start_time": "2022-06-02T16:06:51.227Z"
   },
   {
    "duration": 26,
    "start_time": "2022-06-02T16:06:51.250Z"
   },
   {
    "duration": 38,
    "start_time": "2022-06-02T16:06:51.278Z"
   },
   {
    "duration": 37,
    "start_time": "2022-06-02T16:06:51.318Z"
   },
   {
    "duration": 1275,
    "start_time": "2022-06-02T16:06:51.357Z"
   },
   {
    "duration": 1431,
    "start_time": "2022-06-02T16:06:52.634Z"
   },
   {
    "duration": 1861,
    "start_time": "2022-06-02T16:06:54.067Z"
   },
   {
    "duration": 1071,
    "start_time": "2022-06-02T16:06:55.930Z"
   },
   {
    "duration": 1183,
    "start_time": "2022-06-02T16:06:57.003Z"
   },
   {
    "duration": 8,
    "start_time": "2022-06-02T16:06:58.188Z"
   },
   {
    "duration": 1185,
    "start_time": "2022-06-02T16:06:58.198Z"
   },
   {
    "duration": 7,
    "start_time": "2022-06-02T16:06:59.385Z"
   },
   {
    "duration": 73,
    "start_time": "2022-06-02T16:06:59.394Z"
   },
   {
    "duration": 4,
    "start_time": "2022-06-02T16:06:59.472Z"
   },
   {
    "duration": 83696,
    "start_time": "2022-06-02T16:06:59.478Z"
   },
   {
    "duration": 78148,
    "start_time": "2022-06-02T16:08:23.176Z"
   },
   {
    "duration": 12,
    "start_time": "2022-06-02T16:09:41.326Z"
   },
   {
    "duration": 1257,
    "start_time": "2022-06-03T14:21:12.784Z"
   },
   {
    "duration": 794,
    "start_time": "2022-06-03T14:21:14.044Z"
   },
   {
    "duration": 6,
    "start_time": "2022-06-03T14:21:14.840Z"
   },
   {
    "duration": 26,
    "start_time": "2022-06-03T14:21:14.848Z"
   },
   {
    "duration": 34,
    "start_time": "2022-06-03T14:21:14.875Z"
   },
   {
    "duration": 24,
    "start_time": "2022-06-03T14:21:14.911Z"
   },
   {
    "duration": 170,
    "start_time": "2022-06-03T14:21:14.936Z"
   },
   {
    "duration": 11,
    "start_time": "2022-06-03T14:21:15.107Z"
   },
   {
    "duration": 34,
    "start_time": "2022-06-03T14:21:15.120Z"
   },
   {
    "duration": 37,
    "start_time": "2022-06-03T14:21:15.158Z"
   },
   {
    "duration": 134,
    "start_time": "2022-06-03T14:21:15.197Z"
   },
   {
    "duration": 10,
    "start_time": "2022-06-03T14:21:15.332Z"
   },
   {
    "duration": 5,
    "start_time": "2022-06-03T14:21:15.344Z"
   },
   {
    "duration": 13,
    "start_time": "2022-06-03T14:21:15.351Z"
   },
   {
    "duration": 25,
    "start_time": "2022-06-03T14:21:15.365Z"
   },
   {
    "duration": 8,
    "start_time": "2022-06-03T14:21:15.392Z"
   },
   {
    "duration": 12,
    "start_time": "2022-06-03T14:21:15.402Z"
   },
   {
    "duration": 12,
    "start_time": "2022-06-03T14:21:15.415Z"
   },
   {
    "duration": 1279,
    "start_time": "2022-06-03T14:21:15.428Z"
   },
   {
    "duration": 1358,
    "start_time": "2022-06-03T14:21:16.709Z"
   },
   {
    "duration": 1485,
    "start_time": "2022-06-03T14:21:18.069Z"
   },
   {
    "duration": 692,
    "start_time": "2022-06-03T14:21:19.556Z"
   },
   {
    "duration": 878,
    "start_time": "2022-06-03T14:21:20.250Z"
   },
   {
    "duration": 7,
    "start_time": "2022-06-03T14:21:21.130Z"
   },
   {
    "duration": 1128,
    "start_time": "2022-06-03T14:21:21.139Z"
   },
   {
    "duration": 4,
    "start_time": "2022-06-03T14:21:22.269Z"
   },
   {
    "duration": 62,
    "start_time": "2022-06-03T14:21:22.275Z"
   },
   {
    "duration": 3,
    "start_time": "2022-06-03T14:21:22.340Z"
   },
   {
    "duration": 57561,
    "start_time": "2022-06-03T14:21:22.344Z"
   },
   {
    "duration": 55870,
    "start_time": "2022-06-03T14:22:19.908Z"
   },
   {
    "duration": 18,
    "start_time": "2022-06-03T14:23:15.779Z"
   },
   {
    "duration": 1311,
    "start_time": "2022-06-03T14:54:13.225Z"
   },
   {
    "duration": 837,
    "start_time": "2022-06-03T14:54:14.539Z"
   },
   {
    "duration": 7,
    "start_time": "2022-06-03T14:54:15.378Z"
   },
   {
    "duration": 48,
    "start_time": "2022-06-03T14:54:15.390Z"
   },
   {
    "duration": 31,
    "start_time": "2022-06-03T14:54:15.440Z"
   },
   {
    "duration": 43,
    "start_time": "2022-06-03T14:54:15.474Z"
   },
   {
    "duration": 172,
    "start_time": "2022-06-03T14:54:15.519Z"
   },
   {
    "duration": 12,
    "start_time": "2022-06-03T14:54:15.693Z"
   },
   {
    "duration": 46,
    "start_time": "2022-06-03T14:54:15.707Z"
   },
   {
    "duration": 36,
    "start_time": "2022-06-03T14:54:15.755Z"
   },
   {
    "duration": 137,
    "start_time": "2022-06-03T14:54:15.792Z"
   },
   {
    "duration": 12,
    "start_time": "2022-06-03T14:54:15.932Z"
   },
   {
    "duration": 8,
    "start_time": "2022-06-03T14:54:15.946Z"
   },
   {
    "duration": 32,
    "start_time": "2022-06-03T14:54:15.958Z"
   },
   {
    "duration": 11,
    "start_time": "2022-06-03T14:54:15.992Z"
   },
   {
    "duration": 10,
    "start_time": "2022-06-03T14:54:16.005Z"
   },
   {
    "duration": 5,
    "start_time": "2022-06-03T14:54:16.016Z"
   },
   {
    "duration": 16,
    "start_time": "2022-06-03T14:54:16.022Z"
   },
   {
    "duration": 1474,
    "start_time": "2022-06-03T14:54:16.041Z"
   },
   {
    "duration": 1539,
    "start_time": "2022-06-03T14:54:17.517Z"
   },
   {
    "duration": 1543,
    "start_time": "2022-06-03T14:54:19.058Z"
   },
   {
    "duration": 725,
    "start_time": "2022-06-03T14:54:20.603Z"
   },
   {
    "duration": 923,
    "start_time": "2022-06-03T14:54:21.330Z"
   },
   {
    "duration": 17,
    "start_time": "2022-06-03T14:54:22.255Z"
   },
   {
    "duration": 1171,
    "start_time": "2022-06-03T14:54:22.274Z"
   },
   {
    "duration": 4,
    "start_time": "2022-06-03T14:54:23.446Z"
   },
   {
    "duration": 8,
    "start_time": "2022-06-03T14:54:23.452Z"
   },
   {
    "duration": 0,
    "start_time": "2022-06-03T14:54:23.461Z"
   },
   {
    "duration": 0,
    "start_time": "2022-06-03T14:54:23.462Z"
   },
   {
    "duration": 0,
    "start_time": "2022-06-03T14:54:23.464Z"
   },
   {
    "duration": 0,
    "start_time": "2022-06-03T14:54:23.465Z"
   },
   {
    "duration": 0,
    "start_time": "2022-06-03T14:54:23.466Z"
   },
   {
    "duration": 0,
    "start_time": "2022-06-03T14:54:23.466Z"
   },
   {
    "duration": 0,
    "start_time": "2022-06-03T14:54:23.489Z"
   },
   {
    "duration": 5,
    "start_time": "2022-06-03T14:54:40.118Z"
   },
   {
    "duration": 152,
    "start_time": "2022-06-03T15:01:32.549Z"
   },
   {
    "duration": 37,
    "start_time": "2022-06-03T15:01:51.373Z"
   },
   {
    "duration": 37,
    "start_time": "2022-06-03T15:01:58.754Z"
   },
   {
    "duration": 27,
    "start_time": "2022-06-03T15:10:02.476Z"
   },
   {
    "duration": 1303,
    "start_time": "2022-06-03T15:10:19.465Z"
   },
   {
    "duration": 862,
    "start_time": "2022-06-03T15:10:20.771Z"
   },
   {
    "duration": 7,
    "start_time": "2022-06-03T15:10:21.635Z"
   },
   {
    "duration": 46,
    "start_time": "2022-06-03T15:10:21.644Z"
   },
   {
    "duration": 29,
    "start_time": "2022-06-03T15:10:21.694Z"
   },
   {
    "duration": 28,
    "start_time": "2022-06-03T15:10:21.725Z"
   },
   {
    "duration": 216,
    "start_time": "2022-06-03T15:10:21.755Z"
   },
   {
    "duration": 16,
    "start_time": "2022-06-03T15:10:21.974Z"
   },
   {
    "duration": 36,
    "start_time": "2022-06-03T15:10:21.992Z"
   },
   {
    "duration": 7,
    "start_time": "2022-06-03T15:10:22.030Z"
   },
   {
    "duration": 161,
    "start_time": "2022-06-03T15:10:22.038Z"
   },
   {
    "duration": 11,
    "start_time": "2022-06-03T15:10:22.200Z"
   },
   {
    "duration": 6,
    "start_time": "2022-06-03T15:10:22.213Z"
   },
   {
    "duration": 6,
    "start_time": "2022-06-03T15:10:22.221Z"
   },
   {
    "duration": 10,
    "start_time": "2022-06-03T15:10:22.228Z"
   },
   {
    "duration": 8,
    "start_time": "2022-06-03T15:10:22.239Z"
   },
   {
    "duration": 42,
    "start_time": "2022-06-03T15:10:22.249Z"
   },
   {
    "duration": 13,
    "start_time": "2022-06-03T15:10:22.293Z"
   },
   {
    "duration": 1332,
    "start_time": "2022-06-03T15:10:22.308Z"
   },
   {
    "duration": 1417,
    "start_time": "2022-06-03T15:10:23.642Z"
   },
   {
    "duration": 1435,
    "start_time": "2022-06-03T15:10:25.060Z"
   },
   {
    "duration": 736,
    "start_time": "2022-06-03T15:10:26.497Z"
   },
   {
    "duration": 957,
    "start_time": "2022-06-03T15:10:27.235Z"
   },
   {
    "duration": 10,
    "start_time": "2022-06-03T15:10:28.194Z"
   },
   {
    "duration": 1255,
    "start_time": "2022-06-03T15:10:28.206Z"
   },
   {
    "duration": 4,
    "start_time": "2022-06-03T15:10:29.462Z"
   },
   {
    "duration": 43,
    "start_time": "2022-06-03T15:10:29.468Z"
   },
   {
    "duration": 3,
    "start_time": "2022-06-03T15:10:29.513Z"
   },
   {
    "duration": 18572,
    "start_time": "2022-06-03T15:10:29.518Z"
   },
   {
    "duration": 19179,
    "start_time": "2022-06-03T15:10:48.092Z"
   },
   {
    "duration": 22,
    "start_time": "2022-06-03T15:11:07.273Z"
   },
   {
    "duration": 1248,
    "start_time": "2022-06-03T15:27:43.948Z"
   },
   {
    "duration": 903,
    "start_time": "2022-06-03T15:27:45.200Z"
   },
   {
    "duration": 7,
    "start_time": "2022-06-03T15:27:46.104Z"
   },
   {
    "duration": 32,
    "start_time": "2022-06-03T15:27:46.114Z"
   },
   {
    "duration": 42,
    "start_time": "2022-06-03T15:27:46.148Z"
   },
   {
    "duration": 24,
    "start_time": "2022-06-03T15:27:46.191Z"
   },
   {
    "duration": 175,
    "start_time": "2022-06-03T15:27:46.217Z"
   },
   {
    "duration": 11,
    "start_time": "2022-06-03T15:27:46.394Z"
   },
   {
    "duration": 36,
    "start_time": "2022-06-03T15:27:46.407Z"
   },
   {
    "duration": 6,
    "start_time": "2022-06-03T15:27:46.446Z"
   },
   {
    "duration": 175,
    "start_time": "2022-06-03T15:27:46.454Z"
   },
   {
    "duration": 10,
    "start_time": "2022-06-03T15:27:46.631Z"
   },
   {
    "duration": 6,
    "start_time": "2022-06-03T15:27:46.642Z"
   },
   {
    "duration": 5,
    "start_time": "2022-06-03T15:27:46.650Z"
   },
   {
    "duration": 38,
    "start_time": "2022-06-03T15:27:46.656Z"
   },
   {
    "duration": 11,
    "start_time": "2022-06-03T15:27:46.696Z"
   },
   {
    "duration": 9,
    "start_time": "2022-06-03T15:27:46.709Z"
   },
   {
    "duration": 13,
    "start_time": "2022-06-03T15:27:46.720Z"
   },
   {
    "duration": 1460,
    "start_time": "2022-06-03T15:27:46.735Z"
   },
   {
    "duration": 1586,
    "start_time": "2022-06-03T15:27:48.197Z"
   },
   {
    "duration": 1547,
    "start_time": "2022-06-03T15:27:49.784Z"
   },
   {
    "duration": 787,
    "start_time": "2022-06-03T15:27:51.333Z"
   },
   {
    "duration": 992,
    "start_time": "2022-06-03T15:27:52.121Z"
   },
   {
    "duration": 8,
    "start_time": "2022-06-03T15:27:53.115Z"
   },
   {
    "duration": 1302,
    "start_time": "2022-06-03T15:27:53.125Z"
   },
   {
    "duration": 4,
    "start_time": "2022-06-03T15:27:54.428Z"
   },
   {
    "duration": 30,
    "start_time": "2022-06-03T15:27:54.434Z"
   },
   {
    "duration": 3,
    "start_time": "2022-06-03T15:27:54.467Z"
   },
   {
    "duration": 13695,
    "start_time": "2022-06-03T15:27:54.472Z"
   },
   {
    "duration": 13940,
    "start_time": "2022-06-03T15:28:08.169Z"
   },
   {
    "duration": 16,
    "start_time": "2022-06-03T15:28:22.111Z"
   },
   {
    "duration": 1349,
    "start_time": "2022-06-03T15:35:17.319Z"
   },
   {
    "duration": 862,
    "start_time": "2022-06-03T15:35:18.672Z"
   },
   {
    "duration": 9,
    "start_time": "2022-06-03T15:35:19.536Z"
   },
   {
    "duration": 51,
    "start_time": "2022-06-03T15:35:19.548Z"
   },
   {
    "duration": 36,
    "start_time": "2022-06-03T15:35:19.602Z"
   },
   {
    "duration": 57,
    "start_time": "2022-06-03T15:35:19.640Z"
   },
   {
    "duration": 174,
    "start_time": "2022-06-03T15:35:19.699Z"
   },
   {
    "duration": 21,
    "start_time": "2022-06-03T15:35:19.875Z"
   },
   {
    "duration": 54,
    "start_time": "2022-06-03T15:35:19.899Z"
   },
   {
    "duration": 34,
    "start_time": "2022-06-03T15:35:19.957Z"
   },
   {
    "duration": 142,
    "start_time": "2022-06-03T15:35:19.994Z"
   },
   {
    "duration": 10,
    "start_time": "2022-06-03T15:35:20.138Z"
   },
   {
    "duration": 8,
    "start_time": "2022-06-03T15:35:20.150Z"
   },
   {
    "duration": 31,
    "start_time": "2022-06-03T15:35:20.160Z"
   },
   {
    "duration": 17,
    "start_time": "2022-06-03T15:35:20.193Z"
   },
   {
    "duration": 9,
    "start_time": "2022-06-03T15:35:20.212Z"
   },
   {
    "duration": 6,
    "start_time": "2022-06-03T15:35:20.223Z"
   },
   {
    "duration": 19,
    "start_time": "2022-06-03T15:35:20.231Z"
   },
   {
    "duration": 1413,
    "start_time": "2022-06-03T15:35:20.252Z"
   },
   {
    "duration": 1402,
    "start_time": "2022-06-03T15:35:21.667Z"
   },
   {
    "duration": 1607,
    "start_time": "2022-06-03T15:35:23.071Z"
   },
   {
    "duration": 857,
    "start_time": "2022-06-03T15:35:24.681Z"
   },
   {
    "duration": 1071,
    "start_time": "2022-06-03T15:35:25.540Z"
   },
   {
    "duration": 8,
    "start_time": "2022-06-03T15:35:26.614Z"
   },
   {
    "duration": 1364,
    "start_time": "2022-06-03T15:35:26.624Z"
   },
   {
    "duration": 5,
    "start_time": "2022-06-03T15:35:27.990Z"
   },
   {
    "duration": 34,
    "start_time": "2022-06-03T15:35:27.998Z"
   },
   {
    "duration": 4,
    "start_time": "2022-06-03T15:35:28.037Z"
   },
   {
    "duration": 14047,
    "start_time": "2022-06-03T15:35:28.043Z"
   },
   {
    "duration": 12985,
    "start_time": "2022-06-03T15:35:42.092Z"
   },
   {
    "duration": 18,
    "start_time": "2022-06-03T15:35:55.079Z"
   },
   {
    "duration": 2532,
    "start_time": "2022-06-04T10:45:21.056Z"
   },
   {
    "duration": 2869,
    "start_time": "2022-06-04T10:45:23.593Z"
   },
   {
    "duration": 11,
    "start_time": "2022-06-04T10:45:26.466Z"
   },
   {
    "duration": 27,
    "start_time": "2022-06-04T10:45:26.479Z"
   },
   {
    "duration": 43,
    "start_time": "2022-06-04T10:45:26.509Z"
   },
   {
    "duration": 99,
    "start_time": "2022-06-04T10:45:26.554Z"
   },
   {
    "duration": 277,
    "start_time": "2022-06-04T10:45:26.658Z"
   },
   {
    "duration": 11,
    "start_time": "2022-06-04T10:45:26.937Z"
   },
   {
    "duration": 106,
    "start_time": "2022-06-04T10:45:26.950Z"
   },
   {
    "duration": 13,
    "start_time": "2022-06-04T10:45:27.058Z"
   },
   {
    "duration": 149,
    "start_time": "2022-06-04T10:45:27.074Z"
   },
   {
    "duration": 21,
    "start_time": "2022-06-04T10:45:27.234Z"
   },
   {
    "duration": 33,
    "start_time": "2022-06-04T10:45:27.257Z"
   },
   {
    "duration": 5,
    "start_time": "2022-06-04T10:45:27.294Z"
   },
   {
    "duration": 9,
    "start_time": "2022-06-04T10:45:27.301Z"
   },
   {
    "duration": 11,
    "start_time": "2022-06-04T10:45:27.312Z"
   },
   {
    "duration": 33,
    "start_time": "2022-06-04T10:45:27.325Z"
   },
   {
    "duration": 27,
    "start_time": "2022-06-04T10:45:27.360Z"
   },
   {
    "duration": 1638,
    "start_time": "2022-06-04T10:45:27.389Z"
   },
   {
    "duration": 1577,
    "start_time": "2022-06-04T10:45:29.029Z"
   },
   {
    "duration": 1672,
    "start_time": "2022-06-04T10:45:30.608Z"
   },
   {
    "duration": 1127,
    "start_time": "2022-06-04T10:45:32.283Z"
   },
   {
    "duration": 1359,
    "start_time": "2022-06-04T10:45:33.414Z"
   },
   {
    "duration": 9,
    "start_time": "2022-06-04T10:45:34.775Z"
   },
   {
    "duration": 1327,
    "start_time": "2022-06-04T10:45:34.787Z"
   },
   {
    "duration": 5,
    "start_time": "2022-06-04T10:45:36.116Z"
   },
   {
    "duration": 4,
    "start_time": "2022-06-04T10:45:47.092Z"
   },
   {
    "duration": 10,
    "start_time": "2022-06-04T10:45:47.741Z"
   },
   {
    "duration": 232,
    "start_time": "2022-06-04T10:45:48.445Z"
   },
   {
    "duration": 10,
    "start_time": "2022-06-04T10:45:49.196Z"
   },
   {
    "duration": 34,
    "start_time": "2022-06-04T10:46:06.676Z"
   },
   {
    "duration": 83350,
    "start_time": "2022-06-04T10:46:12.877Z"
   },
   {
    "duration": 82033,
    "start_time": "2022-06-04T10:48:25.591Z"
   },
   {
    "duration": 52,
    "start_time": "2022-06-04T11:00:05.898Z"
   },
   {
    "duration": 1720,
    "start_time": "2022-07-09T07:40:44.818Z"
   },
   {
    "duration": 161,
    "start_time": "2022-07-09T07:41:01.368Z"
   },
   {
    "duration": 95,
    "start_time": "2022-07-09T07:46:49.397Z"
   },
   {
    "duration": 50,
    "start_time": "2022-07-09T07:47:18.279Z"
   },
   {
    "duration": 15,
    "start_time": "2022-07-09T07:47:46.867Z"
   },
   {
    "duration": 36,
    "start_time": "2022-07-09T07:47:57.999Z"
   },
   {
    "duration": 16,
    "start_time": "2022-07-09T07:47:59.529Z"
   },
   {
    "duration": 8,
    "start_time": "2022-07-09T07:48:29.428Z"
   },
   {
    "duration": 9,
    "start_time": "2022-07-09T07:51:40.655Z"
   },
   {
    "duration": 11,
    "start_time": "2022-07-09T07:52:36.355Z"
   },
   {
    "duration": 23,
    "start_time": "2022-07-09T07:52:46.290Z"
   },
   {
    "duration": 246,
    "start_time": "2022-07-09T07:53:13.370Z"
   },
   {
    "duration": 7,
    "start_time": "2022-07-09T08:10:14.798Z"
   },
   {
    "duration": 351,
    "start_time": "2022-07-09T08:10:20.223Z"
   },
   {
    "duration": 5,
    "start_time": "2022-07-09T08:10:28.016Z"
   },
   {
    "duration": 260,
    "start_time": "2022-07-09T08:10:30.537Z"
   },
   {
    "duration": 5,
    "start_time": "2022-07-09T08:10:38.317Z"
   },
   {
    "duration": 236,
    "start_time": "2022-07-09T08:10:41.260Z"
   },
   {
    "duration": 5,
    "start_time": "2022-07-09T08:11:05.366Z"
   },
   {
    "duration": 248,
    "start_time": "2022-07-09T08:11:07.100Z"
   },
   {
    "duration": 11,
    "start_time": "2022-07-09T08:14:31.558Z"
   },
   {
    "duration": 5,
    "start_time": "2022-07-09T08:14:34.332Z"
   },
   {
    "duration": 263,
    "start_time": "2022-07-09T08:14:36.401Z"
   },
   {
    "duration": 6,
    "start_time": "2022-07-09T08:23:47.491Z"
   },
   {
    "duration": 23,
    "start_time": "2022-07-09T08:24:45.696Z"
   },
   {
    "duration": 18,
    "start_time": "2022-07-09T08:25:50.158Z"
   },
   {
    "duration": 30,
    "start_time": "2022-07-09T08:27:48.510Z"
   },
   {
    "duration": 13,
    "start_time": "2022-07-09T08:27:50.133Z"
   },
   {
    "duration": 38,
    "start_time": "2022-07-09T08:28:10.533Z"
   },
   {
    "duration": 10,
    "start_time": "2022-07-09T08:28:11.844Z"
   },
   {
    "duration": 14,
    "start_time": "2022-07-09T08:40:06.578Z"
   },
   {
    "duration": 15,
    "start_time": "2022-07-09T08:41:09.572Z"
   },
   {
    "duration": 1411,
    "start_time": "2022-07-09T08:41:21.245Z"
   },
   {
    "duration": 1556,
    "start_time": "2022-07-09T08:41:22.657Z"
   },
   {
    "duration": 6,
    "start_time": "2022-07-09T08:41:24.214Z"
   },
   {
    "duration": 27,
    "start_time": "2022-07-09T08:41:24.223Z"
   },
   {
    "duration": 20,
    "start_time": "2022-07-09T08:41:24.252Z"
   },
   {
    "duration": 23,
    "start_time": "2022-07-09T08:41:24.274Z"
   },
   {
    "duration": 150,
    "start_time": "2022-07-09T08:41:24.300Z"
   },
   {
    "duration": 11,
    "start_time": "2022-07-09T08:41:24.451Z"
   },
   {
    "duration": 32,
    "start_time": "2022-07-09T08:41:24.463Z"
   },
   {
    "duration": 7,
    "start_time": "2022-07-09T08:41:24.498Z"
   },
   {
    "duration": 148,
    "start_time": "2022-07-09T08:41:24.506Z"
   },
   {
    "duration": 12,
    "start_time": "2022-07-09T08:41:24.656Z"
   },
   {
    "duration": 8,
    "start_time": "2022-07-09T08:41:24.670Z"
   },
   {
    "duration": 9,
    "start_time": "2022-07-09T08:41:24.680Z"
   },
   {
    "duration": 10,
    "start_time": "2022-07-09T08:41:24.691Z"
   },
   {
    "duration": 10,
    "start_time": "2022-07-09T08:41:24.703Z"
   },
   {
    "duration": 4,
    "start_time": "2022-07-09T08:41:24.746Z"
   },
   {
    "duration": 9,
    "start_time": "2022-07-09T08:41:24.752Z"
   },
   {
    "duration": 1190,
    "start_time": "2022-07-09T08:41:24.763Z"
   },
   {
    "duration": 1256,
    "start_time": "2022-07-09T08:41:25.955Z"
   },
   {
    "duration": 1165,
    "start_time": "2022-07-09T08:41:27.213Z"
   },
   {
    "duration": 913,
    "start_time": "2022-07-09T08:41:28.380Z"
   },
   {
    "duration": 665,
    "start_time": "2022-07-09T08:41:29.296Z"
   },
   {
    "duration": 9,
    "start_time": "2022-07-09T08:41:29.962Z"
   },
   {
    "duration": 1111,
    "start_time": "2022-07-09T08:41:29.972Z"
   },
   {
    "duration": 3,
    "start_time": "2022-07-09T08:41:31.085Z"
   },
   {
    "duration": 43,
    "start_time": "2022-07-09T08:41:31.090Z"
   },
   {
    "duration": 7,
    "start_time": "2022-07-09T08:41:31.136Z"
   },
   {
    "duration": 11360,
    "start_time": "2022-07-09T08:41:31.145Z"
   },
   {
    "duration": 11383,
    "start_time": "2022-07-09T08:41:42.507Z"
   },
   {
    "duration": 14,
    "start_time": "2022-07-09T08:41:53.892Z"
   },
   {
    "duration": 12,
    "start_time": "2022-07-09T08:41:53.908Z"
   },
   {
    "duration": 23,
    "start_time": "2022-07-09T08:41:53.921Z"
   },
   {
    "duration": 63870,
    "start_time": "2022-07-09T08:41:53.946Z"
   },
   {
    "duration": 63398,
    "start_time": "2022-07-09T08:42:57.818Z"
   },
   {
    "duration": 43,
    "start_time": "2022-07-09T08:44:01.217Z"
   },
   {
    "duration": 105,
    "start_time": "2022-07-09T08:44:01.262Z"
   },
   {
    "duration": 39,
    "start_time": "2022-07-09T08:44:01.369Z"
   },
   {
    "duration": 11,
    "start_time": "2022-07-09T08:44:01.410Z"
   },
   {
    "duration": 14,
    "start_time": "2022-07-09T08:44:01.423Z"
   },
   {
    "duration": 14,
    "start_time": "2022-07-09T08:44:01.439Z"
   },
   {
    "duration": 21,
    "start_time": "2022-07-09T08:44:01.455Z"
   },
   {
    "duration": 14,
    "start_time": "2022-07-09T08:44:01.478Z"
   },
   {
    "duration": 252,
    "start_time": "2022-07-09T08:44:01.493Z"
   },
   {
    "duration": 7,
    "start_time": "2022-07-09T08:44:01.747Z"
   },
   {
    "duration": 270,
    "start_time": "2022-07-09T08:44:01.756Z"
   },
   {
    "duration": 5,
    "start_time": "2022-07-09T08:44:02.028Z"
   },
   {
    "duration": 296,
    "start_time": "2022-07-09T08:44:02.035Z"
   },
   {
    "duration": 5,
    "start_time": "2022-07-09T08:44:02.333Z"
   },
   {
    "duration": 83,
    "start_time": "2022-07-09T08:44:02.346Z"
   },
   {
    "duration": 893,
    "start_time": "2022-07-09T08:44:02.431Z"
   },
   {
    "duration": 915,
    "start_time": "2022-07-09T08:45:03.189Z"
   },
   {
    "duration": 994,
    "start_time": "2022-07-09T08:45:18.420Z"
   },
   {
    "duration": 1132,
    "start_time": "2022-07-09T08:45:28.452Z"
   },
   {
    "duration": 1038,
    "start_time": "2022-07-09T08:48:47.587Z"
   },
   {
    "duration": 1099,
    "start_time": "2022-07-09T08:49:08.694Z"
   },
   {
    "duration": 509,
    "start_time": "2022-07-09T08:55:52.112Z"
   },
   {
    "duration": 404,
    "start_time": "2022-07-09T08:56:03.247Z"
   },
   {
    "duration": 358,
    "start_time": "2022-07-09T08:56:10.210Z"
   },
   {
    "duration": 369,
    "start_time": "2022-07-09T08:56:17.312Z"
   },
   {
    "duration": 1753,
    "start_time": "2022-07-09T08:56:33.209Z"
   },
   {
    "duration": 1675,
    "start_time": "2022-07-09T08:56:53.606Z"
   },
   {
    "duration": 4,
    "start_time": "2022-07-09T08:57:21.294Z"
   },
   {
    "duration": 37,
    "start_time": "2022-07-09T08:57:23.337Z"
   },
   {
    "duration": 11,
    "start_time": "2022-07-09T08:57:25.087Z"
   },
   {
    "duration": 6,
    "start_time": "2022-07-09T08:57:27.477Z"
   },
   {
    "duration": 4,
    "start_time": "2022-07-09T08:57:36.182Z"
   },
   {
    "duration": 40,
    "start_time": "2022-07-09T08:57:36.189Z"
   },
   {
    "duration": 13,
    "start_time": "2022-07-09T08:57:36.232Z"
   },
   {
    "duration": 4,
    "start_time": "2022-07-09T08:57:36.247Z"
   },
   {
    "duration": 9,
    "start_time": "2022-07-09T08:57:36.254Z"
   },
   {
    "duration": 11,
    "start_time": "2022-07-09T08:57:36.265Z"
   },
   {
    "duration": 8,
    "start_time": "2022-07-09T08:57:36.956Z"
   },
   {
    "duration": 251,
    "start_time": "2022-07-09T08:57:36.968Z"
   },
   {
    "duration": 6,
    "start_time": "2022-07-09T08:57:37.221Z"
   },
   {
    "duration": 294,
    "start_time": "2022-07-09T08:57:37.229Z"
   },
   {
    "duration": 4,
    "start_time": "2022-07-09T08:57:37.525Z"
   },
   {
    "duration": 351,
    "start_time": "2022-07-09T08:57:37.531Z"
   },
   {
    "duration": 4,
    "start_time": "2022-07-09T08:57:37.884Z"
   },
   {
    "duration": 30,
    "start_time": "2022-07-09T08:57:37.890Z"
   },
   {
    "duration": 1429,
    "start_time": "2022-07-09T08:57:37.922Z"
   },
   {
    "duration": 5,
    "start_time": "2022-07-09T08:57:49.917Z"
   },
   {
    "duration": 40,
    "start_time": "2022-07-09T08:57:49.924Z"
   },
   {
    "duration": 10,
    "start_time": "2022-07-09T08:57:49.966Z"
   },
   {
    "duration": 4,
    "start_time": "2022-07-09T08:57:49.978Z"
   },
   {
    "duration": 9,
    "start_time": "2022-07-09T08:57:49.985Z"
   },
   {
    "duration": 11,
    "start_time": "2022-07-09T08:57:49.996Z"
   },
   {
    "duration": 38,
    "start_time": "2022-07-09T08:57:50.008Z"
   },
   {
    "duration": 236,
    "start_time": "2022-07-09T08:57:50.049Z"
   },
   {
    "duration": 6,
    "start_time": "2022-07-09T08:57:50.286Z"
   },
   {
    "duration": 347,
    "start_time": "2022-07-09T08:57:50.294Z"
   },
   {
    "duration": 6,
    "start_time": "2022-07-09T08:57:50.647Z"
   },
   {
    "duration": 429,
    "start_time": "2022-07-09T08:57:50.655Z"
   },
   {
    "duration": 4,
    "start_time": "2022-07-09T08:57:51.086Z"
   },
   {
    "duration": 33,
    "start_time": "2022-07-09T08:57:51.092Z"
   },
   {
    "duration": 1084,
    "start_time": "2022-07-09T08:57:51.127Z"
   },
   {
    "duration": 1927,
    "start_time": "2022-07-09T08:58:08.876Z"
   },
   {
    "duration": 4,
    "start_time": "2022-07-09T08:58:16.619Z"
   },
   {
    "duration": 53,
    "start_time": "2022-07-09T08:58:16.626Z"
   },
   {
    "duration": 11,
    "start_time": "2022-07-09T08:58:16.682Z"
   },
   {
    "duration": 7,
    "start_time": "2022-07-09T08:58:16.695Z"
   },
   {
    "duration": 8,
    "start_time": "2022-07-09T08:58:16.704Z"
   },
   {
    "duration": 35,
    "start_time": "2022-07-09T08:58:16.714Z"
   },
   {
    "duration": 10,
    "start_time": "2022-07-09T08:58:16.751Z"
   },
   {
    "duration": 324,
    "start_time": "2022-07-09T08:58:16.763Z"
   },
   {
    "duration": 6,
    "start_time": "2022-07-09T08:58:17.089Z"
   },
   {
    "duration": 346,
    "start_time": "2022-07-09T08:58:17.096Z"
   },
   {
    "duration": 5,
    "start_time": "2022-07-09T08:58:17.443Z"
   },
   {
    "duration": 355,
    "start_time": "2022-07-09T08:58:17.449Z"
   },
   {
    "duration": 5,
    "start_time": "2022-07-09T08:58:17.805Z"
   },
   {
    "duration": 41,
    "start_time": "2022-07-09T08:58:17.813Z"
   },
   {
    "duration": 1090,
    "start_time": "2022-07-09T08:58:17.856Z"
   },
   {
    "duration": 5,
    "start_time": "2022-07-09T08:58:38.454Z"
   },
   {
    "duration": 1493,
    "start_time": "2022-07-09T08:58:42.442Z"
   },
   {
    "duration": 4,
    "start_time": "2022-07-09T08:58:51.418Z"
   },
   {
    "duration": 46,
    "start_time": "2022-07-09T08:58:51.427Z"
   },
   {
    "duration": 15,
    "start_time": "2022-07-09T08:58:51.475Z"
   },
   {
    "duration": 8,
    "start_time": "2022-07-09T08:58:51.492Z"
   },
   {
    "duration": 15,
    "start_time": "2022-07-09T08:58:51.502Z"
   },
   {
    "duration": 27,
    "start_time": "2022-07-09T08:58:51.519Z"
   },
   {
    "duration": 17,
    "start_time": "2022-07-09T08:58:51.548Z"
   },
   {
    "duration": 314,
    "start_time": "2022-07-09T08:58:51.568Z"
   },
   {
    "duration": 5,
    "start_time": "2022-07-09T08:58:51.885Z"
   },
   {
    "duration": 412,
    "start_time": "2022-07-09T08:58:51.892Z"
   },
   {
    "duration": 4,
    "start_time": "2022-07-09T08:58:52.307Z"
   },
   {
    "duration": 725,
    "start_time": "2022-07-09T08:58:52.313Z"
   },
   {
    "duration": 5,
    "start_time": "2022-07-09T08:58:53.045Z"
   },
   {
    "duration": 41,
    "start_time": "2022-07-09T08:58:53.052Z"
   },
   {
    "duration": 1113,
    "start_time": "2022-07-09T08:58:53.095Z"
   },
   {
    "duration": 6,
    "start_time": "2022-07-09T08:59:22.109Z"
   },
   {
    "duration": 64,
    "start_time": "2022-07-09T08:59:22.117Z"
   },
   {
    "duration": 16,
    "start_time": "2022-07-09T08:59:22.184Z"
   },
   {
    "duration": 15,
    "start_time": "2022-07-09T08:59:22.203Z"
   },
   {
    "duration": 15,
    "start_time": "2022-07-09T08:59:22.220Z"
   },
   {
    "duration": 16,
    "start_time": "2022-07-09T08:59:22.237Z"
   },
   {
    "duration": 8,
    "start_time": "2022-07-09T08:59:22.255Z"
   },
   {
    "duration": 313,
    "start_time": "2022-07-09T08:59:22.265Z"
   },
   {
    "duration": 5,
    "start_time": "2022-07-09T08:59:22.582Z"
   },
   {
    "duration": 337,
    "start_time": "2022-07-09T08:59:22.589Z"
   },
   {
    "duration": 5,
    "start_time": "2022-07-09T08:59:22.928Z"
   },
   {
    "duration": 364,
    "start_time": "2022-07-09T08:59:22.934Z"
   },
   {
    "duration": 4,
    "start_time": "2022-07-09T08:59:23.300Z"
   },
   {
    "duration": 40,
    "start_time": "2022-07-09T08:59:23.306Z"
   },
   {
    "duration": 1018,
    "start_time": "2022-07-09T08:59:23.348Z"
   },
   {
    "duration": 37,
    "start_time": "2022-07-09T09:09:26.144Z"
   },
   {
    "duration": 32,
    "start_time": "2022-07-09T09:09:57.817Z"
   },
   {
    "duration": 88,
    "start_time": "2022-07-10T15:25:49.040Z"
   },
   {
    "duration": 2592,
    "start_time": "2022-07-10T15:26:02.043Z"
   },
   {
    "duration": 171,
    "start_time": "2022-07-10T15:26:04.637Z"
   },
   {
    "duration": 13,
    "start_time": "2022-07-10T15:26:04.810Z"
   },
   {
    "duration": 6,
    "start_time": "2022-07-10T15:26:04.825Z"
   },
   {
    "duration": 10,
    "start_time": "2022-07-10T15:26:04.834Z"
   },
   {
    "duration": 15,
    "start_time": "2022-07-10T15:26:04.905Z"
   },
   {
    "duration": 12,
    "start_time": "2022-07-10T15:26:04.923Z"
   },
   {
    "duration": 736,
    "start_time": "2022-07-10T15:26:04.937Z"
   },
   {
    "duration": 7,
    "start_time": "2022-07-10T15:26:05.709Z"
   },
   {
    "duration": 703,
    "start_time": "2022-07-10T15:26:05.717Z"
   },
   {
    "duration": 6,
    "start_time": "2022-07-10T15:26:06.422Z"
   },
   {
    "duration": 983,
    "start_time": "2022-07-10T15:26:06.429Z"
   },
   {
    "duration": 4,
    "start_time": "2022-07-10T15:26:07.413Z"
   },
   {
    "duration": 24,
    "start_time": "2022-07-10T15:26:07.420Z"
   },
   {
    "duration": 2093,
    "start_time": "2022-07-10T15:26:07.446Z"
   },
   {
    "duration": 97,
    "start_time": "2022-07-10T15:26:09.541Z"
   },
   {
    "duration": 10,
    "start_time": "2022-07-10T15:26:09.640Z"
   },
   {
    "duration": 18340,
    "start_time": "2022-07-10T15:49:48.762Z"
   },
   {
    "duration": 159846,
    "start_time": "2022-07-10T15:59:59.205Z"
   },
   {
    "duration": 160189,
    "start_time": "2022-07-10T16:05:28.055Z"
   },
   {
    "duration": 5,
    "start_time": "2022-07-10T16:10:34.433Z"
   },
   {
    "duration": 40,
    "start_time": "2022-07-10T16:20:51.020Z"
   },
   {
    "duration": 166,
    "start_time": "2022-07-10T16:21:02.154Z"
   },
   {
    "duration": 17,
    "start_time": "2022-07-10T16:27:21.406Z"
   },
   {
    "duration": 102,
    "start_time": "2022-07-10T16:27:37.477Z"
   },
   {
    "duration": 10,
    "start_time": "2022-07-10T16:29:22.405Z"
   },
   {
    "duration": 41843,
    "start_time": "2022-07-10T16:29:25.962Z"
   },
   {
    "duration": 11,
    "start_time": "2022-07-10T16:30:50.227Z"
   },
   {
    "duration": 38519,
    "start_time": "2022-07-10T16:32:05.833Z"
   },
   {
    "duration": 4,
    "start_time": "2022-07-10T16:32:55.387Z"
   },
   {
    "duration": 42062,
    "start_time": "2022-07-10T16:33:13.050Z"
   },
   {
    "duration": 5,
    "start_time": "2022-07-10T16:34:55.505Z"
   },
   {
    "duration": 11266,
    "start_time": "2022-07-10T16:36:46.538Z"
   },
   {
    "duration": 4,
    "start_time": "2022-07-10T16:39:01.165Z"
   },
   {
    "duration": 211143,
    "start_time": "2022-07-10T16:57:05.468Z"
   },
   {
    "duration": 85,
    "start_time": "2022-07-10T17:02:05.220Z"
   },
   {
    "duration": 23,
    "start_time": "2022-07-10T17:03:43.998Z"
   },
   {
    "duration": 16,
    "start_time": "2022-07-10T17:04:40.119Z"
   },
   {
    "duration": 79,
    "start_time": "2022-07-10T17:05:13.429Z"
   },
   {
    "duration": 41,
    "start_time": "2022-07-10T17:05:26.669Z"
   },
   {
    "duration": 32,
    "start_time": "2022-07-10T17:08:32.322Z"
   },
   {
    "duration": 11,
    "start_time": "2022-07-10T17:09:25.637Z"
   },
   {
    "duration": 10,
    "start_time": "2022-07-10T17:09:40.516Z"
   },
   {
    "duration": 38,
    "start_time": "2022-07-10T17:10:13.876Z"
   },
   {
    "duration": 44,
    "start_time": "2022-07-10T17:10:34.389Z"
   },
   {
    "duration": 2444,
    "start_time": "2022-07-10T17:13:30.206Z"
   },
   {
    "duration": 51,
    "start_time": "2022-07-10T17:13:32.703Z"
   },
   {
    "duration": 52,
    "start_time": "2022-07-10T17:13:32.755Z"
   },
   {
    "duration": 6,
    "start_time": "2022-07-10T17:13:32.809Z"
   },
   {
    "duration": 14,
    "start_time": "2022-07-10T17:13:32.817Z"
   },
   {
    "duration": 12,
    "start_time": "2022-07-10T17:13:32.833Z"
   },
   {
    "duration": 8,
    "start_time": "2022-07-10T17:13:32.905Z"
   },
   {
    "duration": 689,
    "start_time": "2022-07-10T17:13:32.915Z"
   },
   {
    "duration": 7,
    "start_time": "2022-07-10T17:13:33.607Z"
   },
   {
    "duration": 695,
    "start_time": "2022-07-10T17:13:33.616Z"
   },
   {
    "duration": 4,
    "start_time": "2022-07-10T17:13:34.313Z"
   },
   {
    "duration": 901,
    "start_time": "2022-07-10T17:13:34.319Z"
   },
   {
    "duration": 5,
    "start_time": "2022-07-10T17:13:35.221Z"
   },
   {
    "duration": 84,
    "start_time": "2022-07-10T17:13:35.230Z"
   },
   {
    "duration": 1936,
    "start_time": "2022-07-10T17:13:35.316Z"
   },
   {
    "duration": 31,
    "start_time": "2022-07-10T17:13:37.304Z"
   },
   {
    "duration": 73,
    "start_time": "2022-07-10T17:13:37.337Z"
   },
   {
    "duration": 104770,
    "start_time": "2022-07-10T17:13:37.412Z"
   },
   {
    "duration": 13,
    "start_time": "2022-07-10T17:15:22.203Z"
   },
   {
    "duration": 41716,
    "start_time": "2022-07-10T17:15:22.218Z"
   },
   {
    "duration": 4,
    "start_time": "2022-07-10T17:16:03.936Z"
   },
   {
    "duration": 261374,
    "start_time": "2022-07-10T17:16:03.941Z"
   },
   {
    "duration": 101,
    "start_time": "2022-07-10T17:20:25.319Z"
   },
   {
    "duration": 13,
    "start_time": "2022-07-10T17:20:25.422Z"
   },
   {
    "duration": 78,
    "start_time": "2022-07-10T17:20:25.437Z"
   },
   {
    "duration": 90,
    "start_time": "2022-07-10T17:20:25.517Z"
   },
   {
    "duration": 406,
    "start_time": "2022-07-10T17:40:40.910Z"
   },
   {
    "duration": 2481,
    "start_time": "2022-07-10T17:40:58.766Z"
   },
   {
    "duration": 76,
    "start_time": "2022-07-10T17:41:01.248Z"
   },
   {
    "duration": 13,
    "start_time": "2022-07-10T17:41:01.326Z"
   },
   {
    "duration": 64,
    "start_time": "2022-07-10T17:41:01.341Z"
   },
   {
    "duration": 17,
    "start_time": "2022-07-10T17:41:01.408Z"
   },
   {
    "duration": 13,
    "start_time": "2022-07-10T17:41:01.426Z"
   },
   {
    "duration": 66,
    "start_time": "2022-07-10T17:41:01.442Z"
   },
   {
    "duration": 747,
    "start_time": "2022-07-10T17:41:01.510Z"
   },
   {
    "duration": 6,
    "start_time": "2022-07-10T17:41:02.259Z"
   },
   {
    "duration": 665,
    "start_time": "2022-07-10T17:41:02.267Z"
   },
   {
    "duration": 5,
    "start_time": "2022-07-10T17:41:02.933Z"
   },
   {
    "duration": 875,
    "start_time": "2022-07-10T17:41:02.940Z"
   },
   {
    "duration": 4,
    "start_time": "2022-07-10T17:41:03.817Z"
   },
   {
    "duration": 84,
    "start_time": "2022-07-10T17:41:03.824Z"
   },
   {
    "duration": 2029,
    "start_time": "2022-07-10T17:41:03.910Z"
   },
   {
    "duration": 94,
    "start_time": "2022-07-10T17:41:05.941Z"
   },
   {
    "duration": 289,
    "start_time": "2022-07-10T17:41:06.038Z"
   },
   {
    "duration": 0,
    "start_time": "2022-07-10T17:41:06.330Z"
   },
   {
    "duration": 0,
    "start_time": "2022-07-10T17:41:06.331Z"
   },
   {
    "duration": 0,
    "start_time": "2022-07-10T17:41:06.332Z"
   },
   {
    "duration": 0,
    "start_time": "2022-07-10T17:41:06.334Z"
   },
   {
    "duration": 0,
    "start_time": "2022-07-10T17:41:06.336Z"
   },
   {
    "duration": 0,
    "start_time": "2022-07-10T17:41:06.337Z"
   },
   {
    "duration": 0,
    "start_time": "2022-07-10T17:41:06.339Z"
   },
   {
    "duration": 0,
    "start_time": "2022-07-10T17:41:06.340Z"
   },
   {
    "duration": 0,
    "start_time": "2022-07-10T17:41:06.342Z"
   },
   {
    "duration": 13,
    "start_time": "2022-07-10T17:41:39.961Z"
   },
   {
    "duration": 2706,
    "start_time": "2022-07-10T17:41:51.813Z"
   },
   {
    "duration": 91,
    "start_time": "2022-07-10T17:41:54.522Z"
   },
   {
    "duration": 16,
    "start_time": "2022-07-10T17:41:54.616Z"
   },
   {
    "duration": 9,
    "start_time": "2022-07-10T17:41:54.634Z"
   },
   {
    "duration": 74,
    "start_time": "2022-07-10T17:41:54.645Z"
   },
   {
    "duration": 13,
    "start_time": "2022-07-10T17:41:54.722Z"
   },
   {
    "duration": 69,
    "start_time": "2022-07-10T17:41:54.737Z"
   },
   {
    "duration": 785,
    "start_time": "2022-07-10T17:41:54.808Z"
   },
   {
    "duration": 7,
    "start_time": "2022-07-10T17:41:55.604Z"
   },
   {
    "duration": 830,
    "start_time": "2022-07-10T17:41:55.613Z"
   },
   {
    "duration": 61,
    "start_time": "2022-07-10T17:41:56.445Z"
   },
   {
    "duration": 1005,
    "start_time": "2022-07-10T17:41:56.508Z"
   },
   {
    "duration": 4,
    "start_time": "2022-07-10T17:41:57.515Z"
   },
   {
    "duration": 83,
    "start_time": "2022-07-10T17:41:57.521Z"
   },
   {
    "duration": 1823,
    "start_time": "2022-07-10T17:41:57.606Z"
   },
   {
    "duration": 90,
    "start_time": "2022-07-10T17:41:59.431Z"
   },
   {
    "duration": 15,
    "start_time": "2022-07-10T17:41:59.523Z"
   },
   {
    "duration": 78524,
    "start_time": "2022-07-10T17:41:59.540Z"
   },
   {
    "duration": 4,
    "start_time": "2022-07-10T17:43:18.065Z"
   },
   {
    "duration": 46770,
    "start_time": "2022-07-10T17:43:18.071Z"
   },
   {
    "duration": 62,
    "start_time": "2022-07-10T17:44:04.844Z"
   },
   {
    "duration": 322009,
    "start_time": "2022-07-10T17:44:04.909Z"
   },
   {
    "duration": 102,
    "start_time": "2022-07-10T17:49:26.921Z"
   },
   {
    "duration": 11,
    "start_time": "2022-07-10T17:49:27.025Z"
   },
   {
    "duration": 81,
    "start_time": "2022-07-10T17:49:27.038Z"
   },
   {
    "duration": 17,
    "start_time": "2022-07-10T17:49:27.206Z"
   },
   {
    "duration": 2504,
    "start_time": "2022-07-10T17:53:18.709Z"
   },
   {
    "duration": 3821,
    "start_time": "2022-07-10T17:53:21.215Z"
   },
   {
    "duration": 6,
    "start_time": "2022-07-10T17:53:25.038Z"
   },
   {
    "duration": 85,
    "start_time": "2022-07-10T17:53:25.046Z"
   },
   {
    "duration": 77,
    "start_time": "2022-07-10T17:53:25.133Z"
   },
   {
    "duration": 19,
    "start_time": "2022-07-10T17:53:25.212Z"
   },
   {
    "duration": 293,
    "start_time": "2022-07-10T17:53:25.233Z"
   },
   {
    "duration": 9,
    "start_time": "2022-07-10T17:53:25.528Z"
   },
   {
    "duration": 90,
    "start_time": "2022-07-10T17:53:25.539Z"
   },
   {
    "duration": 6,
    "start_time": "2022-07-10T17:53:25.630Z"
   },
   {
    "duration": 302,
    "start_time": "2022-07-10T17:53:25.638Z"
   },
   {
    "duration": 0,
    "start_time": "2022-07-10T17:53:25.945Z"
   },
   {
    "duration": 0,
    "start_time": "2022-07-10T17:53:25.947Z"
   },
   {
    "duration": 0,
    "start_time": "2022-07-10T17:53:25.948Z"
   },
   {
    "duration": 0,
    "start_time": "2022-07-10T17:53:26.004Z"
   },
   {
    "duration": 0,
    "start_time": "2022-07-10T17:53:26.006Z"
   },
   {
    "duration": 0,
    "start_time": "2022-07-10T17:53:26.008Z"
   },
   {
    "duration": 0,
    "start_time": "2022-07-10T17:53:26.009Z"
   },
   {
    "duration": 0,
    "start_time": "2022-07-10T17:53:26.011Z"
   },
   {
    "duration": 0,
    "start_time": "2022-07-10T17:53:26.012Z"
   },
   {
    "duration": 0,
    "start_time": "2022-07-10T17:53:26.016Z"
   },
   {
    "duration": 0,
    "start_time": "2022-07-10T17:53:26.017Z"
   },
   {
    "duration": 0,
    "start_time": "2022-07-10T17:53:26.019Z"
   },
   {
    "duration": 0,
    "start_time": "2022-07-10T17:53:26.021Z"
   },
   {
    "duration": 0,
    "start_time": "2022-07-10T17:53:26.023Z"
   },
   {
    "duration": 0,
    "start_time": "2022-07-10T17:53:26.024Z"
   },
   {
    "duration": 0,
    "start_time": "2022-07-10T17:53:26.026Z"
   },
   {
    "duration": 0,
    "start_time": "2022-07-10T17:53:26.028Z"
   },
   {
    "duration": 0,
    "start_time": "2022-07-10T17:53:26.030Z"
   },
   {
    "duration": 0,
    "start_time": "2022-07-10T17:53:26.032Z"
   },
   {
    "duration": 0,
    "start_time": "2022-07-10T17:53:26.104Z"
   },
   {
    "duration": 0,
    "start_time": "2022-07-10T17:53:26.106Z"
   },
   {
    "duration": 0,
    "start_time": "2022-07-10T17:53:26.107Z"
   },
   {
    "duration": 0,
    "start_time": "2022-07-10T17:53:26.108Z"
   },
   {
    "duration": 0,
    "start_time": "2022-07-10T17:53:26.110Z"
   },
   {
    "duration": 0,
    "start_time": "2022-07-10T17:53:26.111Z"
   },
   {
    "duration": 0,
    "start_time": "2022-07-10T17:53:26.112Z"
   },
   {
    "duration": 0,
    "start_time": "2022-07-10T17:53:26.113Z"
   },
   {
    "duration": 0,
    "start_time": "2022-07-10T17:53:26.115Z"
   },
   {
    "duration": 0,
    "start_time": "2022-07-10T17:53:26.116Z"
   },
   {
    "duration": 0,
    "start_time": "2022-07-10T17:53:26.117Z"
   },
   {
    "duration": 0,
    "start_time": "2022-07-10T17:53:26.118Z"
   },
   {
    "duration": 0,
    "start_time": "2022-07-10T17:53:26.119Z"
   },
   {
    "duration": 0,
    "start_time": "2022-07-10T17:53:26.121Z"
   },
   {
    "duration": 0,
    "start_time": "2022-07-10T17:53:26.122Z"
   },
   {
    "duration": 0,
    "start_time": "2022-07-10T17:53:26.123Z"
   },
   {
    "duration": 0,
    "start_time": "2022-07-10T17:53:26.125Z"
   },
   {
    "duration": 0,
    "start_time": "2022-07-10T17:53:26.126Z"
   },
   {
    "duration": 0,
    "start_time": "2022-07-10T17:53:26.127Z"
   },
   {
    "duration": 0,
    "start_time": "2022-07-10T17:53:26.204Z"
   },
   {
    "duration": 0,
    "start_time": "2022-07-10T17:53:26.206Z"
   },
   {
    "duration": 0,
    "start_time": "2022-07-10T17:53:26.207Z"
   },
   {
    "duration": 0,
    "start_time": "2022-07-10T17:53:26.208Z"
   },
   {
    "duration": 0,
    "start_time": "2022-07-10T17:53:26.209Z"
   },
   {
    "duration": 0,
    "start_time": "2022-07-10T17:53:26.211Z"
   },
   {
    "duration": 0,
    "start_time": "2022-07-10T17:53:26.212Z"
   },
   {
    "duration": 0,
    "start_time": "2022-07-10T17:53:26.213Z"
   },
   {
    "duration": 0,
    "start_time": "2022-07-10T17:53:26.215Z"
   },
   {
    "duration": 0,
    "start_time": "2022-07-10T17:53:26.217Z"
   },
   {
    "duration": 0,
    "start_time": "2022-07-10T17:53:26.218Z"
   },
   {
    "duration": 0,
    "start_time": "2022-07-10T17:53:26.220Z"
   },
   {
    "duration": 0,
    "start_time": "2022-07-10T17:53:26.221Z"
   },
   {
    "duration": 2738,
    "start_time": "2022-07-10T17:53:32.569Z"
   },
   {
    "duration": 98,
    "start_time": "2022-07-10T17:53:35.310Z"
   },
   {
    "duration": 13,
    "start_time": "2022-07-10T17:53:35.410Z"
   },
   {
    "duration": 8,
    "start_time": "2022-07-10T17:53:35.426Z"
   },
   {
    "duration": 12,
    "start_time": "2022-07-10T17:53:35.435Z"
   },
   {
    "duration": 13,
    "start_time": "2022-07-10T17:53:35.503Z"
   },
   {
    "duration": 9,
    "start_time": "2022-07-10T17:53:35.518Z"
   },
   {
    "duration": 700,
    "start_time": "2022-07-10T17:53:35.529Z"
   },
   {
    "duration": 8,
    "start_time": "2022-07-10T17:53:36.232Z"
   },
   {
    "duration": 862,
    "start_time": "2022-07-10T17:53:36.244Z"
   },
   {
    "duration": 6,
    "start_time": "2022-07-10T17:53:37.108Z"
   },
   {
    "duration": 1000,
    "start_time": "2022-07-10T17:53:37.117Z"
   },
   {
    "duration": 4,
    "start_time": "2022-07-10T17:53:38.119Z"
   },
   {
    "duration": 88,
    "start_time": "2022-07-10T17:53:38.124Z"
   },
   {
    "duration": 1920,
    "start_time": "2022-07-10T17:53:38.214Z"
   },
   {
    "duration": 101,
    "start_time": "2022-07-10T17:53:40.137Z"
   },
   {
    "duration": 73,
    "start_time": "2022-07-10T17:53:40.240Z"
   },
   {
    "duration": 75862,
    "start_time": "2022-07-10T17:53:40.315Z"
   },
   {
    "duration": 28,
    "start_time": "2022-07-10T17:54:56.178Z"
   },
   {
    "duration": 38896,
    "start_time": "2022-07-10T17:54:56.209Z"
   },
   {
    "duration": 5,
    "start_time": "2022-07-10T17:55:35.107Z"
   },
   {
    "duration": 260898,
    "start_time": "2022-07-10T17:55:35.115Z"
   },
   {
    "duration": 99,
    "start_time": "2022-07-10T17:59:56.015Z"
   },
   {
    "duration": 14,
    "start_time": "2022-07-10T17:59:56.116Z"
   },
   {
    "duration": 84,
    "start_time": "2022-07-10T17:59:56.132Z"
   },
   {
    "duration": 89,
    "start_time": "2022-07-10T17:59:56.219Z"
   },
   {
    "duration": 2567,
    "start_time": "2022-07-10T18:01:13.948Z"
   },
   {
    "duration": 92,
    "start_time": "2022-07-10T18:01:16.517Z"
   },
   {
    "duration": 17,
    "start_time": "2022-07-10T18:01:16.612Z"
   },
   {
    "duration": 17,
    "start_time": "2022-07-10T18:01:16.632Z"
   },
   {
    "duration": 15,
    "start_time": "2022-07-10T18:01:16.707Z"
   },
   {
    "duration": 24,
    "start_time": "2022-07-10T18:01:16.724Z"
   },
   {
    "duration": 9,
    "start_time": "2022-07-10T18:01:16.805Z"
   },
   {
    "duration": 889,
    "start_time": "2022-07-10T18:01:16.816Z"
   },
   {
    "duration": 6,
    "start_time": "2022-07-10T18:01:17.707Z"
   },
   {
    "duration": 723,
    "start_time": "2022-07-10T18:01:17.716Z"
   },
   {
    "duration": 4,
    "start_time": "2022-07-10T18:01:18.441Z"
   },
   {
    "duration": 841,
    "start_time": "2022-07-10T18:01:18.505Z"
   },
   {
    "duration": 58,
    "start_time": "2022-07-10T18:01:19.348Z"
   },
   {
    "duration": 39,
    "start_time": "2022-07-10T18:01:19.407Z"
   },
   {
    "duration": 2095,
    "start_time": "2022-07-10T18:01:19.448Z"
   },
   {
    "duration": 90,
    "start_time": "2022-07-10T18:01:21.544Z"
   },
   {
    "duration": 69,
    "start_time": "2022-07-10T18:01:21.635Z"
   },
   {
    "duration": 61106,
    "start_time": "2022-07-10T18:01:21.706Z"
   },
   {
    "duration": 4,
    "start_time": "2022-07-10T18:02:22.814Z"
   },
   {
    "duration": 33411,
    "start_time": "2022-07-10T18:02:22.821Z"
   },
   {
    "duration": 4,
    "start_time": "2022-07-10T18:02:56.234Z"
   },
   {
    "duration": 400069,
    "start_time": "2022-07-10T18:02:56.241Z"
   },
   {
    "duration": 96,
    "start_time": "2022-07-10T18:09:36.312Z"
   },
   {
    "duration": 10,
    "start_time": "2022-07-10T18:09:36.409Z"
   },
   {
    "duration": 95,
    "start_time": "2022-07-10T18:09:36.420Z"
   },
   {
    "duration": 11,
    "start_time": "2022-07-10T18:09:36.518Z"
   },
   {
    "duration": 2625,
    "start_time": "2022-07-10T18:10:28.512Z"
   },
   {
    "duration": 87,
    "start_time": "2022-07-10T18:10:31.140Z"
   },
   {
    "duration": 11,
    "start_time": "2022-07-10T18:10:31.228Z"
   },
   {
    "duration": 66,
    "start_time": "2022-07-10T18:10:31.241Z"
   },
   {
    "duration": 16,
    "start_time": "2022-07-10T18:10:31.309Z"
   },
   {
    "duration": 10,
    "start_time": "2022-07-10T18:10:31.326Z"
   },
   {
    "duration": 7,
    "start_time": "2022-07-10T18:10:31.338Z"
   },
   {
    "duration": 758,
    "start_time": "2022-07-10T18:10:31.346Z"
   },
   {
    "duration": 8,
    "start_time": "2022-07-10T18:10:32.106Z"
   },
   {
    "duration": 886,
    "start_time": "2022-07-10T18:10:32.118Z"
   },
   {
    "duration": 4,
    "start_time": "2022-07-10T18:10:33.006Z"
   },
   {
    "duration": 823,
    "start_time": "2022-07-10T18:10:33.013Z"
   },
   {
    "duration": 4,
    "start_time": "2022-07-10T18:10:33.838Z"
   },
   {
    "duration": 80,
    "start_time": "2022-07-10T18:10:33.844Z"
   },
   {
    "duration": 1910,
    "start_time": "2022-07-10T18:10:33.926Z"
   },
   {
    "duration": 89,
    "start_time": "2022-07-10T18:10:35.837Z"
   },
   {
    "duration": 13,
    "start_time": "2022-07-10T18:10:35.928Z"
   },
   {
    "duration": 70223,
    "start_time": "2022-07-10T18:10:35.943Z"
   },
   {
    "duration": 35,
    "start_time": "2022-07-10T18:11:46.168Z"
   },
   {
    "duration": 38724,
    "start_time": "2022-07-10T18:11:46.205Z"
   },
   {
    "duration": 5,
    "start_time": "2022-07-10T18:12:24.931Z"
   },
   {
    "duration": 129167,
    "start_time": "2022-07-10T18:12:24.938Z"
   },
   {
    "duration": 25,
    "start_time": "2022-07-10T18:14:34.107Z"
   },
   {
    "duration": 74,
    "start_time": "2022-07-10T18:14:34.134Z"
   },
   {
    "duration": 100,
    "start_time": "2022-07-10T18:14:34.210Z"
   },
   {
    "duration": 9,
    "start_time": "2022-07-10T18:14:34.312Z"
   }
  ],
  "kernelspec": {
   "display_name": "Python 3 (ipykernel)",
   "language": "python",
   "name": "python3"
  },
  "language_info": {
   "codemirror_mode": {
    "name": "ipython",
    "version": 3
   },
   "file_extension": ".py",
   "mimetype": "text/x-python",
   "name": "python",
   "nbconvert_exporter": "python",
   "pygments_lexer": "ipython3",
   "version": "3.9.5"
  },
  "toc": {
   "base_numbering": 1,
   "nav_menu": {},
   "number_sections": true,
   "sideBar": true,
   "skip_h1_title": true,
   "title_cell": "Содержание",
   "title_sidebar": "Contents",
   "toc_cell": true,
   "toc_position": {
    "height": "calc(100% - 180px)",
    "left": "10px",
    "top": "150px",
    "width": "165px"
   },
   "toc_section_display": true,
   "toc_window_display": true
  }
 },
 "nbformat": 4,
 "nbformat_minor": 2
}
