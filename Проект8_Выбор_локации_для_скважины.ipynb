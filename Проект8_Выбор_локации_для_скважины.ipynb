{
 "cells": [
  {
   "cell_type": "markdown",
   "metadata": {},
   "source": [
    "Привет, меня зовут Артем Хуршудов. Сегодня я проверю твой проект.\n",
    "<br> Дальнейшее общение будет происходить на \"ты\" если это не вызывает никаких проблем.\n",
    "<br> Желательно реагировать на каждый мой комментарий ('исправил', 'не понятно как исправить ошибку', ...)\n",
    "<br> Пожалуйста, не удаляй комментарии ревьюера, так как они повышают качество повторного ревью.\n",
    "\n",
    "Комментарии будут в <font color='green'>зеленой</font>, <font color='blue'>синей</font> или <font color='red'>красной</font> рамках:\n",
    "\n",
    "<div class=\"alert alert-block alert-success\">\n",
    "<b>Успех:</b> Если все сделано отлично\n",
    "</div>\n",
    "\n",
    "<div class=\"alert alert-block alert-info\">\n",
    "<b>Совет: </b> Если можно немного улучшить\n",
    "</div>\n",
    "\n",
    "<div class=\"alert alert-block alert-danger\">\n",
    "<b>Ошибка:</b> Если требуются исправления. Работа не может быть принята с красными комментариями.\n",
    "</div>\n",
    "\n",
    "-------------------\n",
    "\n",
    "Будет очень хорошо, если ты будешь помечать свои действия следующим образом:\n",
    "<div class=\"alert alert-block alert-warning\">\n",
    "<b>Комментарий студента:</b> ...\n",
    "</div>\n",
    "\n",
    "<div class=\"alert alert-block alert-warning\">\n",
    "<b>Изменения:</b> Были внесены следующие изменения ...\n",
    "</div>\n",
    "\n",
    "### <font color='orange'>Общее впечатление</font>\n",
    "* Большое спасибо за проделанную работу. Видно, что приложено много усилий.\n",
    "* Выводы и рассуждения получились содержательными, их было интересно читать.\n",
    "* Радует, что тебе удалось разобраться с техникой бутстрапа.\n",
    "* Отлично, что доверительный интервал и риск убытков посчитаны верно.\n",
    "* Я оставил несколько советов, надеюсь, что они будут учтены в будущих проектах.\n",
    "* Редко, кто сдает эту работу с первого раза, молодец!\n",
    "* Проект может быть зачтен, но я его отправлю назад, чтобы у тебя была возможность задать вопросы и внести правки, при желании. Однако, ты можешь просто вернуть проект в таком же виде и я его зачту."
   ]
  },
  {
   "cell_type": "markdown",
   "metadata": {},
   "source": [
    "### <font color='orange'>Общее впечатление (ревью 2)</font>\n",
    "* Проект зачтен!\n",
    "* Удачи в дальнейшем обучении и следующих работах!"
   ]
  },
  {
   "cell_type": "markdown",
   "metadata": {},
   "source": [
    "# Выбор локации для скважины"
   ]
  },
  {
   "cell_type": "markdown",
   "metadata": {},
   "source": [
    "Допустим, вы работаете в добывающей компании «ГлавРосГосНефть». Нужно решить, где бурить новую скважину.\n",
    "\n",
    "Вам предоставлены пробы нефти в трёх регионах: в каждом 10 000 месторождений, где измерили качество нефти и объём её запасов. Постройте модель машинного обучения, которая поможет определить регион, где добыча принесёт наибольшую прибыль. Проанализируйте возможную прибыль и риски техникой *Bootstrap.*\n",
    "\n",
    "Шаги для выбора локации:\n",
    "\n",
    "- В избранном регионе ищут месторождения, для каждого определяют значения признаков;\n",
    "- Строят модель и оценивают объём запасов;\n",
    "- Выбирают месторождения с самым высокими оценками значений. Количество месторождений зависит от бюджета компании и стоимости разработки одной скважины;\n",
    "- Прибыль равна суммарной прибыли отобранных месторождений."
   ]
  },
  {
   "cell_type": "markdown",
   "metadata": {},
   "source": [
    "## Загрузка и подготовка данных"
   ]
  },
  {
   "cell_type": "code",
   "execution_count": 1,
   "metadata": {},
   "outputs": [],
   "source": [
    "import numpy as np\n",
    "import pandas as pd\n",
    "from sklearn.model_selection import train_test_split\n",
    "from sklearn.linear_model import LinearRegression\n",
    "from sklearn.metrics import mean_squared_error\n",
    "import warnings\n",
    "warnings.filterwarnings('ignore')"
   ]
  },
  {
   "cell_type": "markdown",
   "metadata": {},
   "source": [
    "<div class=\"alert alert-block alert-success\">\n",
    "<b>Успех:</b> Отлично, что все импорты собраны в первой ячейке ноутбука! Если у того, кто будет запускать твой ноутбук будут отсутствовать некоторые библиотеки, то он это увидит сразу, а не в процессе!\n",
    "</div>"
   ]
  },
  {
   "cell_type": "code",
   "execution_count": 2,
   "metadata": {},
   "outputs": [
    {
     "name": "stdout",
     "output_type": "stream",
     "text": [
      "<class 'pandas.core.frame.DataFrame'>\n",
      "RangeIndex: 100000 entries, 0 to 99999\n",
      "Data columns (total 5 columns):\n",
      " #   Column   Non-Null Count   Dtype  \n",
      "---  ------   --------------   -----  \n",
      " 0   id       100000 non-null  object \n",
      " 1   f0       100000 non-null  float64\n",
      " 2   f1       100000 non-null  float64\n",
      " 3   f2       100000 non-null  float64\n",
      " 4   product  100000 non-null  float64\n",
      "dtypes: float64(4), object(1)\n",
      "memory usage: 3.8+ MB\n"
     ]
    },
    {
     "data": {
      "text/html": [
       "<div>\n",
       "<style scoped>\n",
       "    .dataframe tbody tr th:only-of-type {\n",
       "        vertical-align: middle;\n",
       "    }\n",
       "\n",
       "    .dataframe tbody tr th {\n",
       "        vertical-align: top;\n",
       "    }\n",
       "\n",
       "    .dataframe thead th {\n",
       "        text-align: right;\n",
       "    }\n",
       "</style>\n",
       "<table border=\"1\" class=\"dataframe\">\n",
       "  <thead>\n",
       "    <tr style=\"text-align: right;\">\n",
       "      <th></th>\n",
       "      <th>id</th>\n",
       "      <th>f0</th>\n",
       "      <th>f1</th>\n",
       "      <th>f2</th>\n",
       "      <th>product</th>\n",
       "    </tr>\n",
       "  </thead>\n",
       "  <tbody>\n",
       "    <tr>\n",
       "      <th>0</th>\n",
       "      <td>txEyH</td>\n",
       "      <td>0.705745</td>\n",
       "      <td>-0.497823</td>\n",
       "      <td>1.221170</td>\n",
       "      <td>105.280062</td>\n",
       "    </tr>\n",
       "    <tr>\n",
       "      <th>1</th>\n",
       "      <td>2acmU</td>\n",
       "      <td>1.334711</td>\n",
       "      <td>-0.340164</td>\n",
       "      <td>4.365080</td>\n",
       "      <td>73.037750</td>\n",
       "    </tr>\n",
       "    <tr>\n",
       "      <th>2</th>\n",
       "      <td>409Wp</td>\n",
       "      <td>1.022732</td>\n",
       "      <td>0.151990</td>\n",
       "      <td>1.419926</td>\n",
       "      <td>85.265647</td>\n",
       "    </tr>\n",
       "    <tr>\n",
       "      <th>3</th>\n",
       "      <td>iJLyR</td>\n",
       "      <td>-0.032172</td>\n",
       "      <td>0.139033</td>\n",
       "      <td>2.978566</td>\n",
       "      <td>168.620776</td>\n",
       "    </tr>\n",
       "    <tr>\n",
       "      <th>4</th>\n",
       "      <td>Xdl7t</td>\n",
       "      <td>1.988431</td>\n",
       "      <td>0.155413</td>\n",
       "      <td>4.751769</td>\n",
       "      <td>154.036647</td>\n",
       "    </tr>\n",
       "  </tbody>\n",
       "</table>\n",
       "</div>"
      ],
      "text/plain": [
       "      id        f0        f1        f2     product\n",
       "0  txEyH  0.705745 -0.497823  1.221170  105.280062\n",
       "1  2acmU  1.334711 -0.340164  4.365080   73.037750\n",
       "2  409Wp  1.022732  0.151990  1.419926   85.265647\n",
       "3  iJLyR -0.032172  0.139033  2.978566  168.620776\n",
       "4  Xdl7t  1.988431  0.155413  4.751769  154.036647"
      ]
     },
     "metadata": {},
     "output_type": "display_data"
    }
   ],
   "source": [
    "geo_data_0 = pd.read_csv('/datasets/geo_data_0.csv')\n",
    "geo_data_0.info()\n",
    "display (geo_data_0.head())"
   ]
  },
  {
   "cell_type": "code",
   "execution_count": 3,
   "metadata": {},
   "outputs": [
    {
     "name": "stdout",
     "output_type": "stream",
     "text": [
      "<class 'pandas.core.frame.DataFrame'>\n",
      "RangeIndex: 100000 entries, 0 to 99999\n",
      "Data columns (total 5 columns):\n",
      " #   Column   Non-Null Count   Dtype  \n",
      "---  ------   --------------   -----  \n",
      " 0   id       100000 non-null  object \n",
      " 1   f0       100000 non-null  float64\n",
      " 2   f1       100000 non-null  float64\n",
      " 3   f2       100000 non-null  float64\n",
      " 4   product  100000 non-null  float64\n",
      "dtypes: float64(4), object(1)\n",
      "memory usage: 3.8+ MB\n"
     ]
    },
    {
     "data": {
      "text/html": [
       "<div>\n",
       "<style scoped>\n",
       "    .dataframe tbody tr th:only-of-type {\n",
       "        vertical-align: middle;\n",
       "    }\n",
       "\n",
       "    .dataframe tbody tr th {\n",
       "        vertical-align: top;\n",
       "    }\n",
       "\n",
       "    .dataframe thead th {\n",
       "        text-align: right;\n",
       "    }\n",
       "</style>\n",
       "<table border=\"1\" class=\"dataframe\">\n",
       "  <thead>\n",
       "    <tr style=\"text-align: right;\">\n",
       "      <th></th>\n",
       "      <th>id</th>\n",
       "      <th>f0</th>\n",
       "      <th>f1</th>\n",
       "      <th>f2</th>\n",
       "      <th>product</th>\n",
       "    </tr>\n",
       "  </thead>\n",
       "  <tbody>\n",
       "    <tr>\n",
       "      <th>0</th>\n",
       "      <td>kBEdx</td>\n",
       "      <td>-15.001348</td>\n",
       "      <td>-8.276000</td>\n",
       "      <td>-0.005876</td>\n",
       "      <td>3.179103</td>\n",
       "    </tr>\n",
       "    <tr>\n",
       "      <th>1</th>\n",
       "      <td>62mP7</td>\n",
       "      <td>14.272088</td>\n",
       "      <td>-3.475083</td>\n",
       "      <td>0.999183</td>\n",
       "      <td>26.953261</td>\n",
       "    </tr>\n",
       "    <tr>\n",
       "      <th>2</th>\n",
       "      <td>vyE1P</td>\n",
       "      <td>6.263187</td>\n",
       "      <td>-5.948386</td>\n",
       "      <td>5.001160</td>\n",
       "      <td>134.766305</td>\n",
       "    </tr>\n",
       "    <tr>\n",
       "      <th>3</th>\n",
       "      <td>KcrkZ</td>\n",
       "      <td>-13.081196</td>\n",
       "      <td>-11.506057</td>\n",
       "      <td>4.999415</td>\n",
       "      <td>137.945408</td>\n",
       "    </tr>\n",
       "    <tr>\n",
       "      <th>4</th>\n",
       "      <td>AHL4O</td>\n",
       "      <td>12.702195</td>\n",
       "      <td>-8.147433</td>\n",
       "      <td>5.004363</td>\n",
       "      <td>134.766305</td>\n",
       "    </tr>\n",
       "  </tbody>\n",
       "</table>\n",
       "</div>"
      ],
      "text/plain": [
       "      id         f0         f1        f2     product\n",
       "0  kBEdx -15.001348  -8.276000 -0.005876    3.179103\n",
       "1  62mP7  14.272088  -3.475083  0.999183   26.953261\n",
       "2  vyE1P   6.263187  -5.948386  5.001160  134.766305\n",
       "3  KcrkZ -13.081196 -11.506057  4.999415  137.945408\n",
       "4  AHL4O  12.702195  -8.147433  5.004363  134.766305"
      ]
     },
     "metadata": {},
     "output_type": "display_data"
    }
   ],
   "source": [
    "geo_data_1 = pd.read_csv('/datasets/geo_data_1.csv')\n",
    "geo_data_1.info()\n",
    "display (geo_data_1.head())"
   ]
  },
  {
   "cell_type": "code",
   "execution_count": 4,
   "metadata": {},
   "outputs": [
    {
     "name": "stdout",
     "output_type": "stream",
     "text": [
      "<class 'pandas.core.frame.DataFrame'>\n",
      "RangeIndex: 100000 entries, 0 to 99999\n",
      "Data columns (total 5 columns):\n",
      " #   Column   Non-Null Count   Dtype  \n",
      "---  ------   --------------   -----  \n",
      " 0   id       100000 non-null  object \n",
      " 1   f0       100000 non-null  float64\n",
      " 2   f1       100000 non-null  float64\n",
      " 3   f2       100000 non-null  float64\n",
      " 4   product  100000 non-null  float64\n",
      "dtypes: float64(4), object(1)\n",
      "memory usage: 3.8+ MB\n"
     ]
    },
    {
     "data": {
      "text/html": [
       "<div>\n",
       "<style scoped>\n",
       "    .dataframe tbody tr th:only-of-type {\n",
       "        vertical-align: middle;\n",
       "    }\n",
       "\n",
       "    .dataframe tbody tr th {\n",
       "        vertical-align: top;\n",
       "    }\n",
       "\n",
       "    .dataframe thead th {\n",
       "        text-align: right;\n",
       "    }\n",
       "</style>\n",
       "<table border=\"1\" class=\"dataframe\">\n",
       "  <thead>\n",
       "    <tr style=\"text-align: right;\">\n",
       "      <th></th>\n",
       "      <th>id</th>\n",
       "      <th>f0</th>\n",
       "      <th>f1</th>\n",
       "      <th>f2</th>\n",
       "      <th>product</th>\n",
       "    </tr>\n",
       "  </thead>\n",
       "  <tbody>\n",
       "    <tr>\n",
       "      <th>0</th>\n",
       "      <td>fwXo0</td>\n",
       "      <td>-1.146987</td>\n",
       "      <td>0.963328</td>\n",
       "      <td>-0.828965</td>\n",
       "      <td>27.758673</td>\n",
       "    </tr>\n",
       "    <tr>\n",
       "      <th>1</th>\n",
       "      <td>WJtFt</td>\n",
       "      <td>0.262778</td>\n",
       "      <td>0.269839</td>\n",
       "      <td>-2.530187</td>\n",
       "      <td>56.069697</td>\n",
       "    </tr>\n",
       "    <tr>\n",
       "      <th>2</th>\n",
       "      <td>ovLUW</td>\n",
       "      <td>0.194587</td>\n",
       "      <td>0.289035</td>\n",
       "      <td>-5.586433</td>\n",
       "      <td>62.871910</td>\n",
       "    </tr>\n",
       "    <tr>\n",
       "      <th>3</th>\n",
       "      <td>q6cA6</td>\n",
       "      <td>2.236060</td>\n",
       "      <td>-0.553760</td>\n",
       "      <td>0.930038</td>\n",
       "      <td>114.572842</td>\n",
       "    </tr>\n",
       "    <tr>\n",
       "      <th>4</th>\n",
       "      <td>WPMUX</td>\n",
       "      <td>-0.515993</td>\n",
       "      <td>1.716266</td>\n",
       "      <td>5.899011</td>\n",
       "      <td>149.600746</td>\n",
       "    </tr>\n",
       "  </tbody>\n",
       "</table>\n",
       "</div>"
      ],
      "text/plain": [
       "      id        f0        f1        f2     product\n",
       "0  fwXo0 -1.146987  0.963328 -0.828965   27.758673\n",
       "1  WJtFt  0.262778  0.269839 -2.530187   56.069697\n",
       "2  ovLUW  0.194587  0.289035 -5.586433   62.871910\n",
       "3  q6cA6  2.236060 -0.553760  0.930038  114.572842\n",
       "4  WPMUX -0.515993  1.716266  5.899011  149.600746"
      ]
     },
     "metadata": {},
     "output_type": "display_data"
    }
   ],
   "source": [
    "geo_data_2 = pd.read_csv('/datasets/geo_data_2.csv')\n",
    "geo_data_2.info()\n",
    "display (geo_data_2.head())"
   ]
  },
  {
   "cell_type": "markdown",
   "metadata": {},
   "source": [
    "<div class=\"alert alert-info\">\n",
    "<font color='black'> <b> Определим количество пропущенных значений и дубликаты. Видно, что в трех файлах отсутствуют пропуски и дубликаты. Удалим лишний столбец 'id', не несущий полезной информации</font> <b>"
   ]
  },
  {
   "cell_type": "code",
   "execution_count": 5,
   "metadata": {},
   "outputs": [
    {
     "data": {
      "text/plain": [
       "id         0\n",
       "f0         0\n",
       "f1         0\n",
       "f2         0\n",
       "product    0\n",
       "dtype: int64"
      ]
     },
     "metadata": {},
     "output_type": "display_data"
    },
    {
     "data": {
      "text/plain": [
       "0"
      ]
     },
     "execution_count": 5,
     "metadata": {},
     "output_type": "execute_result"
    }
   ],
   "source": [
    "display (geo_data_0.isna().sum())\n",
    "geo_data_0.duplicated().sum()"
   ]
  },
  {
   "cell_type": "code",
   "execution_count": 6,
   "metadata": {},
   "outputs": [
    {
     "data": {
      "text/plain": [
       "id         0\n",
       "f0         0\n",
       "f1         0\n",
       "f2         0\n",
       "product    0\n",
       "dtype: int64"
      ]
     },
     "metadata": {},
     "output_type": "display_data"
    },
    {
     "data": {
      "text/plain": [
       "0"
      ]
     },
     "execution_count": 6,
     "metadata": {},
     "output_type": "execute_result"
    }
   ],
   "source": [
    "display (geo_data_1.isna().sum())\n",
    "geo_data_1.duplicated().sum()"
   ]
  },
  {
   "cell_type": "code",
   "execution_count": 7,
   "metadata": {},
   "outputs": [
    {
     "data": {
      "text/plain": [
       "id         0\n",
       "f0         0\n",
       "f1         0\n",
       "f2         0\n",
       "product    0\n",
       "dtype: int64"
      ]
     },
     "metadata": {},
     "output_type": "display_data"
    },
    {
     "data": {
      "text/plain": [
       "0"
      ]
     },
     "execution_count": 7,
     "metadata": {},
     "output_type": "execute_result"
    }
   ],
   "source": [
    "display (geo_data_2.isna().sum())\n",
    "geo_data_2.duplicated().sum()"
   ]
  },
  {
   "cell_type": "code",
   "execution_count": 8,
   "metadata": {},
   "outputs": [],
   "source": [
    "geo_data_0 = geo_data_0.drop(['id'], axis=1)\n",
    "geo_data_1 = geo_data_1.drop(['id'], axis=1)\n",
    "geo_data_2 = geo_data_2.drop(['id'], axis=1)"
   ]
  },
  {
   "cell_type": "markdown",
   "metadata": {},
   "source": [
    "<div class=\"alert alert-block alert-success\">\n",
    "<b>Успех:</b> Данные загружены и осмотрены корректно. Согласен, что колонка id нам не нужна.\n",
    "</div>"
   ]
  },
  {
   "cell_type": "markdown",
   "metadata": {},
   "source": [
    "## Обучение и проверка модели"
   ]
  },
  {
   "cell_type": "code",
   "execution_count": 9,
   "metadata": {},
   "outputs": [],
   "source": [
    "features_0 = geo_data_0.drop('product', axis=1)\n",
    "target_0 = geo_data_0['product']\n",
    "features_train_0, features_val_0, target_train_0, target_val_0 = train_test_split(features_0, target_0, test_size=0.25, random_state=12345)"
   ]
  },
  {
   "cell_type": "code",
   "execution_count": 10,
   "metadata": {},
   "outputs": [],
   "source": [
    "features_1 = geo_data_1.drop('product', axis=1)\n",
    "target_1 = geo_data_1['product']\n",
    "features_train_1, features_val_1, target_train_1, target_val_1 = train_test_split(features_1, target_1, test_size=0.25, random_state=12345)"
   ]
  },
  {
   "cell_type": "code",
   "execution_count": 11,
   "metadata": {},
   "outputs": [],
   "source": [
    "features_2 = geo_data_2.drop('product', axis=1)\n",
    "target_2 = geo_data_2['product']\n",
    "features_train_2, features_val_2, target_train_2, target_val_2 = train_test_split(features_2, target_2, test_size=0.25, random_state=12345)"
   ]
  },
  {
   "cell_type": "code",
   "execution_count": 12,
   "metadata": {},
   "outputs": [
    {
     "name": "stdout",
     "output_type": "stream",
     "text": [
      "RMSE - 37.5794217150813\n"
     ]
    }
   ],
   "source": [
    "model = LinearRegression()\n",
    "\n",
    "model.fit(features_train_0, target_train_0)\n",
    "predicted_target_0 = model.predict(features_val_0)\n",
    "print('RMSE -', mean_squared_error(target_val_0, predicted_target_0)**0.5)"
   ]
  },
  {
   "cell_type": "code",
   "execution_count": 13,
   "metadata": {},
   "outputs": [
    {
     "name": "stdout",
     "output_type": "stream",
     "text": [
      "RMSE - 0.893099286775617\n"
     ]
    }
   ],
   "source": [
    "model.fit(features_train_1, target_train_1)\n",
    "predicted_target_1 = model.predict(features_val_1)\n",
    "print('RMSE -', mean_squared_error(target_val_1, predicted_target_1)**0.5)"
   ]
  },
  {
   "cell_type": "code",
   "execution_count": 14,
   "metadata": {},
   "outputs": [
    {
     "name": "stdout",
     "output_type": "stream",
     "text": [
      "RMSE - 40.02970873393434\n"
     ]
    }
   ],
   "source": [
    "model.fit(features_train_2, target_train_2)\n",
    "predicted_target_2 = model.predict(features_val_2)\n",
    "print('RMSE -', mean_squared_error(target_val_2, predicted_target_2)**0.5)"
   ]
  },
  {
   "cell_type": "code",
   "execution_count": 15,
   "metadata": {},
   "outputs": [
    {
     "data": {
      "text/html": [
       "<div>\n",
       "<style scoped>\n",
       "    .dataframe tbody tr th:only-of-type {\n",
       "        vertical-align: middle;\n",
       "    }\n",
       "\n",
       "    .dataframe tbody tr th {\n",
       "        vertical-align: top;\n",
       "    }\n",
       "\n",
       "    .dataframe thead th {\n",
       "        text-align: right;\n",
       "    }\n",
       "</style>\n",
       "<table border=\"1\" class=\"dataframe\">\n",
       "  <thead>\n",
       "    <tr style=\"text-align: right;\">\n",
       "      <th></th>\n",
       "      <th>product</th>\n",
       "      <th>predicted_product</th>\n",
       "    </tr>\n",
       "  </thead>\n",
       "  <tbody>\n",
       "    <tr>\n",
       "      <th>71751</th>\n",
       "      <td>10.038645</td>\n",
       "      <td>95.894952</td>\n",
       "    </tr>\n",
       "    <tr>\n",
       "      <th>80493</th>\n",
       "      <td>114.551489</td>\n",
       "      <td>77.572583</td>\n",
       "    </tr>\n",
       "    <tr>\n",
       "      <th>2655</th>\n",
       "      <td>132.603635</td>\n",
       "      <td>77.892640</td>\n",
       "    </tr>\n",
       "    <tr>\n",
       "      <th>53233</th>\n",
       "      <td>169.072125</td>\n",
       "      <td>90.175134</td>\n",
       "    </tr>\n",
       "    <tr>\n",
       "      <th>91141</th>\n",
       "      <td>122.325180</td>\n",
       "      <td>70.510088</td>\n",
       "    </tr>\n",
       "  </tbody>\n",
       "</table>\n",
       "</div>"
      ],
      "text/plain": [
       "          product  predicted_product\n",
       "71751   10.038645          95.894952\n",
       "80493  114.551489          77.572583\n",
       "2655   132.603635          77.892640\n",
       "53233  169.072125          90.175134\n",
       "91141  122.325180          70.510088"
      ]
     },
     "metadata": {},
     "output_type": "display_data"
    },
    {
     "data": {
      "text/plain": [
       "'Среднее предсказанное количество'"
      ]
     },
     "metadata": {},
     "output_type": "display_data"
    },
    {
     "data": {
      "text/plain": [
       "92.59256778438035"
      ]
     },
     "metadata": {},
     "output_type": "display_data"
    },
    {
     "data": {
      "text/plain": [
       "'Среднее количество'"
      ]
     },
     "metadata": {},
     "output_type": "display_data"
    },
    {
     "data": {
      "text/plain": [
       "92.07859674082927"
      ]
     },
     "metadata": {},
     "output_type": "display_data"
    }
   ],
   "source": [
    "data_0 = {'product' : target_val_0,\n",
    "          'predicted_product' : predicted_target_0}\n",
    "data_0_pd=pd.DataFrame(data_0, columns = ['product', 'predicted_product'])\n",
    "display (data_0_pd.head(), 'Среднее предсказанное количество', data_0_pd['predicted_product'].mean(), 'Среднее количество', data_0_pd['product'].mean())\n"
   ]
  },
  {
   "cell_type": "code",
   "execution_count": 16,
   "metadata": {},
   "outputs": [
    {
     "data": {
      "text/html": [
       "<div>\n",
       "<style scoped>\n",
       "    .dataframe tbody tr th:only-of-type {\n",
       "        vertical-align: middle;\n",
       "    }\n",
       "\n",
       "    .dataframe tbody tr th {\n",
       "        vertical-align: top;\n",
       "    }\n",
       "\n",
       "    .dataframe thead th {\n",
       "        text-align: right;\n",
       "    }\n",
       "</style>\n",
       "<table border=\"1\" class=\"dataframe\">\n",
       "  <thead>\n",
       "    <tr style=\"text-align: right;\">\n",
       "      <th></th>\n",
       "      <th>product</th>\n",
       "      <th>predicted_product</th>\n",
       "    </tr>\n",
       "  </thead>\n",
       "  <tbody>\n",
       "    <tr>\n",
       "      <th>71751</th>\n",
       "      <td>80.859783</td>\n",
       "      <td>82.663314</td>\n",
       "    </tr>\n",
       "    <tr>\n",
       "      <th>80493</th>\n",
       "      <td>53.906522</td>\n",
       "      <td>54.431786</td>\n",
       "    </tr>\n",
       "    <tr>\n",
       "      <th>2655</th>\n",
       "      <td>30.132364</td>\n",
       "      <td>29.748760</td>\n",
       "    </tr>\n",
       "    <tr>\n",
       "      <th>53233</th>\n",
       "      <td>53.906522</td>\n",
       "      <td>53.552133</td>\n",
       "    </tr>\n",
       "    <tr>\n",
       "      <th>91141</th>\n",
       "      <td>0.000000</td>\n",
       "      <td>1.243856</td>\n",
       "    </tr>\n",
       "  </tbody>\n",
       "</table>\n",
       "</div>"
      ],
      "text/plain": [
       "         product  predicted_product\n",
       "71751  80.859783          82.663314\n",
       "80493  53.906522          54.431786\n",
       "2655   30.132364          29.748760\n",
       "53233  53.906522          53.552133\n",
       "91141   0.000000           1.243856"
      ]
     },
     "metadata": {},
     "output_type": "display_data"
    },
    {
     "data": {
      "text/plain": [
       "'Среднее предсказанное количество'"
      ]
     },
     "metadata": {},
     "output_type": "display_data"
    },
    {
     "data": {
      "text/plain": [
       "68.728546895446"
      ]
     },
     "metadata": {},
     "output_type": "display_data"
    },
    {
     "data": {
      "text/plain": [
       "'Среднее количество'"
      ]
     },
     "metadata": {},
     "output_type": "display_data"
    },
    {
     "data": {
      "text/plain": [
       "68.72313602435997"
      ]
     },
     "metadata": {},
     "output_type": "display_data"
    }
   ],
   "source": [
    "data_1 = {'product' : target_val_1,\n",
    "          'predicted_product' : predicted_target_1}\n",
    "data_1_pd=pd.DataFrame(data_1, columns = ['product', 'predicted_product'])\n",
    "display (data_1_pd.head(), 'Среднее предсказанное количество', data_1_pd['predicted_product'].mean(), 'Среднее количество', data_1_pd['product'].mean())\n"
   ]
  },
  {
   "cell_type": "code",
   "execution_count": 17,
   "metadata": {},
   "outputs": [
    {
     "data": {
      "text/html": [
       "<div>\n",
       "<style scoped>\n",
       "    .dataframe tbody tr th:only-of-type {\n",
       "        vertical-align: middle;\n",
       "    }\n",
       "\n",
       "    .dataframe tbody tr th {\n",
       "        vertical-align: top;\n",
       "    }\n",
       "\n",
       "    .dataframe thead th {\n",
       "        text-align: right;\n",
       "    }\n",
       "</style>\n",
       "<table border=\"1\" class=\"dataframe\">\n",
       "  <thead>\n",
       "    <tr style=\"text-align: right;\">\n",
       "      <th></th>\n",
       "      <th>product</th>\n",
       "      <th>predicted_product</th>\n",
       "    </tr>\n",
       "  </thead>\n",
       "  <tbody>\n",
       "    <tr>\n",
       "      <th>71751</th>\n",
       "      <td>61.212375</td>\n",
       "      <td>93.599633</td>\n",
       "    </tr>\n",
       "    <tr>\n",
       "      <th>80493</th>\n",
       "      <td>41.850118</td>\n",
       "      <td>75.105159</td>\n",
       "    </tr>\n",
       "    <tr>\n",
       "      <th>2655</th>\n",
       "      <td>57.776581</td>\n",
       "      <td>90.066809</td>\n",
       "    </tr>\n",
       "    <tr>\n",
       "      <th>53233</th>\n",
       "      <td>100.053761</td>\n",
       "      <td>105.162375</td>\n",
       "    </tr>\n",
       "    <tr>\n",
       "      <th>91141</th>\n",
       "      <td>109.897122</td>\n",
       "      <td>115.303310</td>\n",
       "    </tr>\n",
       "  </tbody>\n",
       "</table>\n",
       "</div>"
      ],
      "text/plain": [
       "          product  predicted_product\n",
       "71751   61.212375          93.599633\n",
       "80493   41.850118          75.105159\n",
       "2655    57.776581          90.066809\n",
       "53233  100.053761         105.162375\n",
       "91141  109.897122         115.303310"
      ]
     },
     "metadata": {},
     "output_type": "display_data"
    },
    {
     "data": {
      "text/plain": [
       "'Среднее предсказанное количество'"
      ]
     },
     "metadata": {},
     "output_type": "display_data"
    },
    {
     "data": {
      "text/plain": [
       "94.96504596800489"
      ]
     },
     "metadata": {},
     "output_type": "display_data"
    },
    {
     "data": {
      "text/plain": [
       "'Среднее количество'"
      ]
     },
     "metadata": {},
     "output_type": "display_data"
    },
    {
     "data": {
      "text/plain": [
       "94.88423280885438"
      ]
     },
     "metadata": {},
     "output_type": "display_data"
    }
   ],
   "source": [
    "data_2 = {'product' : target_val_2,\n",
    "          'predicted_product' : predicted_target_2}\n",
    "data_2_pd=pd.DataFrame(data_2, columns = ['product', 'predicted_product'])\n",
    "display (data_2_pd.head(), 'Среднее предсказанное количество', data_2_pd['predicted_product'].mean(), 'Среднее количество', data_2_pd['product'].mean())"
   ]
  },
  {
   "cell_type": "markdown",
   "metadata": {},
   "source": [
    "<div class=\"alert alert-block alert-success\">\n",
    "<b>Успех:</b> Модели обучены корректно.\n",
    "</div>\n",
    "\n",
    "<div class=\"alert alert-block alert-info\">\n",
    "<b>Совет: </b> На протяжении всего проекта происходит работа с 3мя одинаковыми таблицами. В связи с этим можно было использовать функции и/или циклы, чтобы избежать копирования кода.\n",
    "<br> Зачем его нужно избегать? Потому что очень часто оно приводит к ошибкам (например, забыл поменять одну из переменных). Впоследствии такие ошибки очень трудно найти.\n",
    "</div>"
   ]
  },
  {
   "cell_type": "markdown",
   "metadata": {},
   "source": [
    "## Подготовка к расчёту прибыли"
   ]
  },
  {
   "cell_type": "code",
   "execution_count": 18,
   "metadata": {},
   "outputs": [],
   "source": [
    "budget = 10000000\n",
    "chosen_points = 500\n",
    "best_points = 200\n",
    "price_per_barrel = 450"
   ]
  },
  {
   "cell_type": "code",
   "execution_count": 19,
   "metadata": {},
   "outputs": [
    {
     "name": "stdout",
     "output_type": "stream",
     "text": [
      "Необходимая выручка на месторождение - 50000.0 тыс.руб.\n",
      "Необходимый объем нефти на точку - 111.11111111111111 тыс. барелей\n",
      "Необходимый объем нефти на регион - 22222.222222222223 тыс. барелей\n"
     ]
    }
   ],
   "source": [
    "revenue_per_point = budget / best_points\n",
    "print('Необходимая выручка на месторождение -', revenue_per_point, 'тыс.руб.')\n",
    "\n",
    "barrels_per_point = revenue_per_point  / price_per_barrel\n",
    "print('Необходимый объем нефти на точку -', barrels_per_point, 'тыс. барелей')\n",
    "\n",
    "barrels_sum = budget / price_per_barrel\n",
    "print('Необходимый объем нефти на регион -', barrels_sum, 'тыс. барелей')"
   ]
  },
  {
   "cell_type": "code",
   "execution_count": 20,
   "metadata": {},
   "outputs": [
    {
     "name": "stdout",
     "output_type": "stream",
     "text": [
      "Средний запас фактичекой нефти на скважину в регионе 1 92.50000000000001\n",
      "Средний запас фактичекой нефти на скважину в регионе 2 68.82500000000002\n",
      "Средний запас фактичекой нефти на скважину в регионе 3 95.00000000000004\n"
     ]
    }
   ],
   "source": [
    "print('Средний запас фактичекой нефти на скважину в регионе 1', geo_data_0['product'].mean())\n",
    "print('Средний запас фактичекой нефти на скважину в регионе 2', geo_data_1['product'].mean())\n",
    "print('Средний запас фактичекой нефти на скважину в регионе 3', geo_data_2['product'].mean())"
   ]
  },
  {
   "cell_type": "markdown",
   "metadata": {},
   "source": [
    "<div class=\"alert alert-info\">\n",
    "<font color='black'> <b> В 1 и 3 регионе среднее значение имеющейся нефти близко к необходимому объему нефти на точку</font> <b>"
   ]
  },
  {
   "cell_type": "markdown",
   "metadata": {},
   "source": [
    "<div class=\"alert alert-block alert-info\">\n",
    "\n",
    "<b>Совет: </b> В названиях константных переменных лучше использовать только БОЛЬШИЕ буквы. Это соглашение между программистами: https://pythonworld.ru/osnovy/pep-8-rukovodstvo-po-napisaniyu-koda-na-python.html#id29 .\n",
    "</div>\n",
    "\n",
    "<div class=\"alert alert-block alert-success\">\n",
    "<b>Успех:</b> Точка безубыточности найдена верно, сравнение проведено!\n",
    "</div>"
   ]
  },
  {
   "cell_type": "code",
   "execution_count": 21,
   "metadata": {},
   "outputs": [],
   "source": [
    "def profit_calculation(target, probabilities, count):\n",
    "    probs_sorted = probabilities.sort_values(ascending=False)\n",
    "    selected = target[probs_sorted.index][:count]\n",
    "    return price_per_barrel * selected.sum() - budget"
   ]
  },
  {
   "cell_type": "markdown",
   "metadata": {},
   "source": [
    "<div class=\"alert alert-block alert-success\">\n",
    "<b>Успех:</b> Верно.\n",
    "</div>"
   ]
  },
  {
   "cell_type": "markdown",
   "metadata": {},
   "source": [
    "## Расчёт прибыли и рисков "
   ]
  },
  {
   "cell_type": "code",
   "execution_count": 22,
   "metadata": {},
   "outputs": [],
   "source": [
    "state = np.random.RandomState(12345)\n",
    "def bootstrap_1000(target, probs):\n",
    "    values=[]\n",
    "    lost = 0\n",
    "    for i in range(1000):\n",
    "        target_sample = target.sample(replace=True, random_state=state, n=chosen_points)\n",
    "        probs_sample = probs[target_sample.index]\n",
    "        profit = profit_calculation(target, probs_sample, best_points)\n",
    "        if profit < 0:\n",
    "            lost +=1\n",
    "        values.append(profit)\n",
    "    \n",
    "    values = pd.Series(values)\n",
    "    lower = values.quantile(0.025)\n",
    "    upper = values.quantile(0.975)\n",
    "    average = values.mean()\n",
    "    risk = lost / 1000\n",
    "    return average, lower, upper, risk"
   ]
  },
  {
   "cell_type": "markdown",
   "metadata": {},
   "source": [
    "<div class=\"alert alert-block alert-success\">\n",
    "<b>Успех:</b> Отлично, что для подсчета доверительного интервала использовался именно метод квантилей!\n",
    "</div>\n",
    "\n",
    "\n",
    "<div class=\"alert alert-block alert-info\">\n",
    "\n",
    "<b>Совет: </b> Риск можно было найти чуть проще: `(values < 0).mean()`, если объект типа pandas Series или numpy array.\n",
    "</div>"
   ]
  },
  {
   "cell_type": "code",
   "execution_count": 23,
   "metadata": {},
   "outputs": [],
   "source": [
    "average_0, lower_0, upper_0, risk_0 = bootstrap_1000(data_0_pd['product'], \n",
    "                                                     data_0_pd['predicted_product'])\n",
    "average_1, lower_1, upper_1, risk_1 = bootstrap_1000(data_1_pd['product'], \n",
    "                                                     data_1_pd['predicted_product'])\n",
    "average_2, lower_2, upper_2, risk_2 = bootstrap_1000(data_2_pd['product'], \n",
    "                                                     data_2_pd['predicted_product'])"
   ]
  },
  {
   "cell_type": "code",
   "execution_count": 24,
   "metadata": {},
   "outputs": [
    {
     "name": "stdout",
     "output_type": "stream",
     "text": [
      "Первый регион:\n",
      "Средняя прибыль по региону = 396164.9848023711 тыс.руб.\n",
      "95% доверительный интервал от -111215.54589049607 до 909766.9415534219 тыс.руб.\n",
      "Процент риска 6.9%\n"
     ]
    }
   ],
   "source": [
    "print('Первый регион:')\n",
    "print('Средняя прибыль по региону =',  average_0, 'тыс.руб.')\n",
    "print(f'95% доверительный интервал от {lower_0} до {upper_0} тыс.руб.')\n",
    "print(f'Процент риска {risk_0*100}%')"
   ]
  },
  {
   "cell_type": "code",
   "execution_count": 25,
   "metadata": {},
   "outputs": [
    {
     "name": "stdout",
     "output_type": "stream",
     "text": [
      "Второй регион:\n",
      "Средняя прибыль по региону = 461155.8172772397 тыс.руб.\n",
      "95% доверительный интервал от 78050.81075174105 до 862952.0602637231 тыс.руб.\n",
      "Процент риска 0.7000000000000001%\n"
     ]
    }
   ],
   "source": [
    "print('Второй регион:')\n",
    "print('Средняя прибыль по региону =',  average_1, 'тыс.руб.')\n",
    "print(f'95% доверительный интервал от {lower_1} до {upper_1} тыс.руб.')\n",
    "print(f'Процент риска {risk_1*100}%')"
   ]
  },
  {
   "cell_type": "code",
   "execution_count": 26,
   "metadata": {},
   "outputs": [
    {
     "name": "stdout",
     "output_type": "stream",
     "text": [
      "Третий регион:\n",
      "Средняя прибыль по региону = 392950.47517060454 тыс.руб.\n",
      "95% доверительный интервал от -112227.62537857569 до 934562.914551164 тыс.руб.\n",
      "Процент риска 6.5%\n"
     ]
    }
   ],
   "source": [
    "print('Третий регион:')\n",
    "print('Средняя прибыль по региону =',  average_2, 'тыс.руб.')\n",
    "print(f'95% доверительный интервал от {lower_2} до {upper_2} тыс.руб.')\n",
    "print(f'Процент риска {risk_2*100}%')"
   ]
  },
  {
   "cell_type": "markdown",
   "metadata": {},
   "source": [
    "<div class=\"alert alert-info\">\n",
    "<font color='black'> <b> 1 и 3 регион не проходят по требуемому уровню риска, во втором будет прибыль</font> <b>"
   ]
  },
  {
   "cell_type": "markdown",
   "metadata": {},
   "source": [
    "<div class=\"alert alert-block alert-success\">\n",
    "<b>Успех:</b> С выбором региона согласен.\n",
    "</div>"
   ]
  },
  {
   "cell_type": "markdown",
   "metadata": {},
   "source": [
    "## Чек-лист готовности проекта"
   ]
  },
  {
   "cell_type": "markdown",
   "metadata": {},
   "source": [
    "Поставьте 'x' в выполненных пунктах. Далее нажмите Shift+Enter."
   ]
  },
  {
   "cell_type": "markdown",
   "metadata": {},
   "source": [
    "- [x]  Jupyter Notebook открыт\n",
    "- [x]  Весь код выполняется без ошибок\n",
    "- [x]  Ячейки с кодом расположены в порядке исполнения\n",
    "- [x]  Выполнен шаг 1: данные подготовлены\n",
    "- [x]  Выполнен шаг 2: модели обучены и проверены\n",
    "    - [x]  Данные корректно разбиты на обучающую и валидационную выборки\n",
    "    - [x]  Модели обучены, предсказания сделаны\n",
    "    - [x]  Предсказания и правильные ответы на валидационной выборке сохранены\n",
    "    - [x]  На экране напечатаны результаты\n",
    "    - [x]  Сделаны выводы\n",
    "- [x]  Выполнен шаг 3: проведена подготовка к расчёту прибыли\n",
    "    - [x]  Для всех ключевых значений созданы константы Python\n",
    "    - [x]  Посчитано минимальное среднее количество продукта в месторождениях региона, достаточное для разработки\n",
    "    - [x]  По предыдущему пункту сделаны выводы\n",
    "    - [x]  Написана функция расчёта прибыли\n",
    "- [x]  Выполнен шаг 4: посчитаны риски и прибыль\n",
    "    - [x]  Проведена процедура *Bootstrap*\n",
    "    - [x]  Все параметры бутстрепа соответствуют условию\n",
    "    - [x]  Найдены все нужные величины\n",
    "    - [x]  Предложен регион для разработки месторождения\n",
    "    - [x]  Выбор региона обоснован"
   ]
  }
 ],
 "metadata": {
  "ExecuteTimeLog": [
   {
    "duration": 1308,
    "start_time": "2022-05-18T18:25:17.730Z"
   },
   {
    "duration": 580,
    "start_time": "2022-05-18T18:25:34.589Z"
   },
   {
    "duration": 618,
    "start_time": "2022-05-18T18:25:57.647Z"
   },
   {
    "duration": 642,
    "start_time": "2022-05-18T18:26:01.826Z"
   },
   {
    "duration": 13,
    "start_time": "2022-05-18T18:31:29.118Z"
   },
   {
    "duration": 10,
    "start_time": "2022-05-18T18:31:46.455Z"
   },
   {
    "duration": 11,
    "start_time": "2022-05-18T18:32:01.047Z"
   },
   {
    "duration": 49,
    "start_time": "2022-05-18T18:34:56.259Z"
   },
   {
    "duration": 55,
    "start_time": "2022-05-18T18:35:06.991Z"
   },
   {
    "duration": 10,
    "start_time": "2022-05-18T18:35:14.266Z"
   },
   {
    "duration": 47,
    "start_time": "2022-05-18T18:35:21.945Z"
   },
   {
    "duration": 51,
    "start_time": "2022-05-18T18:35:30.616Z"
   },
   {
    "duration": 56,
    "start_time": "2022-05-18T18:36:07.087Z"
   },
   {
    "duration": 1157,
    "start_time": "2022-05-18T18:36:18.153Z"
   },
   {
    "duration": 162,
    "start_time": "2022-05-18T18:36:20.516Z"
   },
   {
    "duration": 151,
    "start_time": "2022-05-18T18:36:42.596Z"
   },
   {
    "duration": 145,
    "start_time": "2022-05-18T18:36:54.946Z"
   },
   {
    "duration": 52,
    "start_time": "2022-05-18T18:37:48.114Z"
   },
   {
    "duration": 50,
    "start_time": "2022-05-18T18:37:49.876Z"
   },
   {
    "duration": 52,
    "start_time": "2022-05-18T18:37:51.274Z"
   },
   {
    "duration": 10,
    "start_time": "2022-05-18T18:38:00.726Z"
   },
   {
    "duration": 50,
    "start_time": "2022-05-18T18:38:05.326Z"
   },
   {
    "duration": 52,
    "start_time": "2022-05-18T18:38:23.535Z"
   },
   {
    "duration": 49,
    "start_time": "2022-05-18T18:38:39.835Z"
   },
   {
    "duration": 48,
    "start_time": "2022-05-18T18:38:41.405Z"
   },
   {
    "duration": 15,
    "start_time": "2022-05-18T18:41:14.385Z"
   },
   {
    "duration": 1035,
    "start_time": "2022-05-18T19:05:30.285Z"
   },
   {
    "duration": 15,
    "start_time": "2022-05-18T19:05:39.375Z"
   },
   {
    "duration": 18,
    "start_time": "2022-05-18T19:08:50.159Z"
   },
   {
    "duration": 18,
    "start_time": "2022-05-18T19:09:58.002Z"
   },
   {
    "duration": 18,
    "start_time": "2022-05-18T19:09:59.689Z"
   },
   {
    "duration": 86,
    "start_time": "2022-05-20T17:46:09.034Z"
   },
   {
    "duration": 55,
    "start_time": "2022-05-20T17:51:14.183Z"
   },
   {
    "duration": 1371,
    "start_time": "2022-05-20T17:51:20.172Z"
   },
   {
    "duration": 415,
    "start_time": "2022-05-20T17:51:22.602Z"
   },
   {
    "duration": 290,
    "start_time": "2022-05-20T17:51:26.413Z"
   },
   {
    "duration": 206,
    "start_time": "2022-05-20T17:51:29.236Z"
   },
   {
    "duration": 62,
    "start_time": "2022-05-20T17:51:34.546Z"
   },
   {
    "duration": 49,
    "start_time": "2022-05-20T17:51:37.182Z"
   },
   {
    "duration": 49,
    "start_time": "2022-05-20T17:51:39.289Z"
   },
   {
    "duration": 15,
    "start_time": "2022-05-20T17:51:41.619Z"
   },
   {
    "duration": 18,
    "start_time": "2022-05-20T17:51:45.539Z"
   },
   {
    "duration": 16,
    "start_time": "2022-05-20T17:51:47.066Z"
   },
   {
    "duration": 14,
    "start_time": "2022-05-20T17:51:48.923Z"
   },
   {
    "duration": 316,
    "start_time": "2022-05-20T17:51:50.652Z"
   },
   {
    "duration": 24,
    "start_time": "2022-05-20T17:52:00.948Z"
   },
   {
    "duration": 18,
    "start_time": "2022-05-20T17:56:25.379Z"
   },
   {
    "duration": 14,
    "start_time": "2022-05-20T17:57:11.978Z"
   },
   {
    "duration": 13,
    "start_time": "2022-05-20T18:24:33.872Z"
   },
   {
    "duration": 7,
    "start_time": "2022-05-20T18:27:27.850Z"
   },
   {
    "duration": 18,
    "start_time": "2022-05-20T18:28:18.446Z"
   },
   {
    "duration": 12,
    "start_time": "2022-05-20T18:29:34.692Z"
   },
   {
    "duration": 13,
    "start_time": "2022-05-20T18:30:18.304Z"
   },
   {
    "duration": 16,
    "start_time": "2022-05-20T18:34:07.532Z"
   },
   {
    "duration": 14,
    "start_time": "2022-05-20T18:34:20.976Z"
   },
   {
    "duration": 1149,
    "start_time": "2022-05-20T18:34:38.843Z"
   },
   {
    "duration": 151,
    "start_time": "2022-05-20T18:34:43.327Z"
   },
   {
    "duration": 152,
    "start_time": "2022-05-20T18:34:45.804Z"
   },
   {
    "duration": 143,
    "start_time": "2022-05-20T18:34:47.891Z"
   },
   {
    "duration": 51,
    "start_time": "2022-05-20T18:34:50.256Z"
   },
   {
    "duration": 46,
    "start_time": "2022-05-20T18:34:52.244Z"
   },
   {
    "duration": 51,
    "start_time": "2022-05-20T18:34:54.202Z"
   },
   {
    "duration": 2,
    "start_time": "2022-05-20T18:34:57.963Z"
   },
   {
    "duration": 21,
    "start_time": "2022-05-20T18:34:59.424Z"
   },
   {
    "duration": 23,
    "start_time": "2022-05-20T18:35:01.094Z"
   },
   {
    "duration": 28,
    "start_time": "2022-05-20T18:35:02.569Z"
   },
   {
    "duration": 147,
    "start_time": "2022-05-20T18:35:04.349Z"
   },
   {
    "duration": 36,
    "start_time": "2022-05-20T18:35:26.503Z"
   },
   {
    "duration": 21,
    "start_time": "2022-05-20T18:35:32.157Z"
   },
   {
    "duration": 16,
    "start_time": "2022-05-20T18:35:33.964Z"
   },
   {
    "duration": 30,
    "start_time": "2022-05-20T18:35:35.635Z"
   },
   {
    "duration": 18,
    "start_time": "2022-05-20T18:35:36.902Z"
   },
   {
    "duration": 14,
    "start_time": "2022-05-20T18:35:40.189Z"
   },
   {
    "duration": 15,
    "start_time": "2022-05-20T18:35:43.317Z"
   },
   {
    "duration": 16,
    "start_time": "2022-05-20T18:35:44.907Z"
   },
   {
    "duration": 13,
    "start_time": "2022-05-20T18:35:46.991Z"
   },
   {
    "duration": 10,
    "start_time": "2022-05-20T18:38:15.913Z"
   },
   {
    "duration": 10,
    "start_time": "2022-05-20T18:38:38.105Z"
   },
   {
    "duration": 4,
    "start_time": "2022-05-20T18:39:27.563Z"
   },
   {
    "duration": 8,
    "start_time": "2022-05-20T18:39:50.472Z"
   },
   {
    "duration": 8,
    "start_time": "2022-05-20T18:53:01.376Z"
   },
   {
    "duration": 18,
    "start_time": "2022-05-20T18:53:20.455Z"
   },
   {
    "duration": 9,
    "start_time": "2022-05-20T18:53:47.997Z"
   },
   {
    "duration": 14,
    "start_time": "2022-05-20T18:53:57.937Z"
   },
   {
    "duration": 39,
    "start_time": "2022-05-20T18:54:26.333Z"
   },
   {
    "duration": 15,
    "start_time": "2022-05-20T18:54:55.065Z"
   },
   {
    "duration": 20,
    "start_time": "2022-05-20T18:59:02.537Z"
   },
   {
    "duration": 10,
    "start_time": "2022-05-20T18:59:47.727Z"
   },
   {
    "duration": 16,
    "start_time": "2022-05-20T19:00:52.543Z"
   },
   {
    "duration": 12,
    "start_time": "2022-05-20T19:02:00.981Z"
   },
   {
    "duration": 14,
    "start_time": "2022-05-20T19:02:14.284Z"
   },
   {
    "duration": 7,
    "start_time": "2022-05-20T19:02:58.328Z"
   },
   {
    "duration": 9,
    "start_time": "2022-05-20T19:04:19.289Z"
   },
   {
    "duration": 9,
    "start_time": "2022-05-20T19:05:50.084Z"
   },
   {
    "duration": 22,
    "start_time": "2022-05-20T19:06:08.562Z"
   },
   {
    "duration": 12,
    "start_time": "2022-05-20T19:06:25.030Z"
   },
   {
    "duration": 13,
    "start_time": "2022-05-20T19:06:33.579Z"
   },
   {
    "duration": 14,
    "start_time": "2022-05-20T19:06:58.788Z"
   },
   {
    "duration": 14,
    "start_time": "2022-05-20T19:07:33.178Z"
   },
   {
    "duration": 15,
    "start_time": "2022-05-20T19:12:45.526Z"
   },
   {
    "duration": 14,
    "start_time": "2022-05-20T19:12:58.900Z"
   },
   {
    "duration": 14,
    "start_time": "2022-05-20T19:13:23.691Z"
   },
   {
    "duration": 13,
    "start_time": "2022-05-20T19:13:45.665Z"
   },
   {
    "duration": 14,
    "start_time": "2022-05-20T19:14:57.582Z"
   },
   {
    "duration": 37,
    "start_time": "2022-05-20T19:15:51.021Z"
   },
   {
    "duration": 21,
    "start_time": "2022-05-20T19:17:05.221Z"
   },
   {
    "duration": 5,
    "start_time": "2022-05-20T19:17:16.240Z"
   },
   {
    "duration": 16,
    "start_time": "2022-05-20T19:17:21.725Z"
   },
   {
    "duration": 18,
    "start_time": "2022-05-20T19:18:08.838Z"
   },
   {
    "duration": 32,
    "start_time": "2022-05-20T19:18:56.140Z"
   },
   {
    "duration": 12,
    "start_time": "2022-05-20T19:19:12.850Z"
   },
   {
    "duration": 18,
    "start_time": "2022-05-20T19:19:23.129Z"
   },
   {
    "duration": 19,
    "start_time": "2022-05-20T19:19:45.192Z"
   },
   {
    "duration": 16,
    "start_time": "2022-05-20T19:20:26.093Z"
   },
   {
    "duration": 20,
    "start_time": "2022-05-20T19:20:29.265Z"
   },
   {
    "duration": 16,
    "start_time": "2022-05-20T19:20:31.108Z"
   },
   {
    "duration": 62,
    "start_time": "2022-05-23T14:05:55.872Z"
   },
   {
    "duration": 1314,
    "start_time": "2022-05-23T14:10:13.579Z"
   },
   {
    "duration": 409,
    "start_time": "2022-05-23T14:10:25.320Z"
   },
   {
    "duration": 247,
    "start_time": "2022-05-23T14:10:32.221Z"
   },
   {
    "duration": 273,
    "start_time": "2022-05-23T14:10:42.605Z"
   },
   {
    "duration": 57,
    "start_time": "2022-05-23T14:10:49.327Z"
   },
   {
    "duration": 48,
    "start_time": "2022-05-23T14:10:53.042Z"
   },
   {
    "duration": 55,
    "start_time": "2022-05-23T14:10:58.182Z"
   },
   {
    "duration": 16,
    "start_time": "2022-05-23T14:11:03.642Z"
   },
   {
    "duration": 15,
    "start_time": "2022-05-23T14:11:24.902Z"
   },
   {
    "duration": 14,
    "start_time": "2022-05-23T14:11:27.609Z"
   },
   {
    "duration": 18,
    "start_time": "2022-05-23T14:11:30.264Z"
   },
   {
    "duration": 20,
    "start_time": "2022-05-23T14:11:32.518Z"
   },
   {
    "duration": 14,
    "start_time": "2022-05-23T14:11:34.886Z"
   },
   {
    "duration": 14,
    "start_time": "2022-05-23T14:11:37.440Z"
   },
   {
    "duration": 15,
    "start_time": "2022-05-23T14:11:42.023Z"
   },
   {
    "duration": 14,
    "start_time": "2022-05-23T14:11:50.917Z"
   },
   {
    "duration": 21,
    "start_time": "2022-05-23T14:11:53.893Z"
   },
   {
    "duration": 2,
    "start_time": "2022-05-23T15:02:34.420Z"
   },
   {
    "duration": 27,
    "start_time": "2022-05-23T15:02:38.523Z"
   },
   {
    "duration": 6,
    "start_time": "2022-05-23T15:03:21.346Z"
   },
   {
    "duration": 5,
    "start_time": "2022-05-23T15:08:57.014Z"
   },
   {
    "duration": 3,
    "start_time": "2022-05-23T15:11:52.491Z"
   },
   {
    "duration": 5,
    "start_time": "2022-05-23T15:11:54.164Z"
   },
   {
    "duration": 638,
    "start_time": "2022-05-23T15:12:45.045Z"
   },
   {
    "duration": 962,
    "start_time": "2022-05-23T15:13:04.159Z"
   },
   {
    "duration": 12,
    "start_time": "2022-05-23T15:13:59.025Z"
   },
   {
    "duration": 2919,
    "start_time": "2022-05-23T15:15:59.776Z"
   },
   {
    "duration": 12,
    "start_time": "2022-05-23T15:19:35.678Z"
   },
   {
    "duration": 4,
    "start_time": "2022-05-23T15:19:49.756Z"
   },
   {
    "duration": 9,
    "start_time": "2022-05-23T15:20:25.277Z"
   },
   {
    "duration": 4,
    "start_time": "2022-05-23T15:22:00.509Z"
   },
   {
    "duration": 5,
    "start_time": "2022-05-23T15:22:02.660Z"
   },
   {
    "duration": 4,
    "start_time": "2022-05-23T15:23:19.516Z"
   },
   {
    "duration": 5,
    "start_time": "2022-05-23T15:23:37.863Z"
   },
   {
    "duration": 5,
    "start_time": "2022-05-23T15:23:41.255Z"
   },
   {
    "duration": 48,
    "start_time": "2022-05-23T15:32:01.351Z"
   },
   {
    "duration": 4,
    "start_time": "2022-05-23T15:32:06.298Z"
   },
   {
    "duration": 4,
    "start_time": "2022-05-23T15:32:32.674Z"
   },
   {
    "duration": 4,
    "start_time": "2022-05-23T15:32:34.487Z"
   },
   {
    "duration": 5,
    "start_time": "2022-05-23T15:32:36.496Z"
   },
   {
    "duration": 924,
    "start_time": "2022-05-23T16:01:16.267Z"
   },
   {
    "duration": 626,
    "start_time": "2022-05-23T16:01:18.948Z"
   },
   {
    "duration": 268,
    "start_time": "2022-05-23T16:01:22.133Z"
   },
   {
    "duration": 242,
    "start_time": "2022-05-23T16:01:24.183Z"
   },
   {
    "duration": 50,
    "start_time": "2022-05-23T16:01:27.386Z"
   },
   {
    "duration": 53,
    "start_time": "2022-05-23T16:01:29.228Z"
   },
   {
    "duration": 62,
    "start_time": "2022-05-23T16:01:31.018Z"
   },
   {
    "duration": 19,
    "start_time": "2022-05-23T16:01:32.660Z"
   },
   {
    "duration": 15,
    "start_time": "2022-05-23T16:01:34.913Z"
   },
   {
    "duration": 17,
    "start_time": "2022-05-23T16:01:36.082Z"
   },
   {
    "duration": 16,
    "start_time": "2022-05-23T16:01:37.412Z"
   },
   {
    "duration": 21,
    "start_time": "2022-05-23T16:01:39.098Z"
   },
   {
    "duration": 15,
    "start_time": "2022-05-23T16:01:41.236Z"
   },
   {
    "duration": 14,
    "start_time": "2022-05-23T16:01:42.985Z"
   },
   {
    "duration": 15,
    "start_time": "2022-05-23T16:01:47.700Z"
   },
   {
    "duration": 862,
    "start_time": "2022-05-23T16:02:10.657Z"
   },
   {
    "duration": 223,
    "start_time": "2022-05-23T16:02:12.836Z"
   },
   {
    "duration": 143,
    "start_time": "2022-05-23T16:02:14.762Z"
   },
   {
    "duration": 184,
    "start_time": "2022-05-23T16:02:16.503Z"
   },
   {
    "duration": 56,
    "start_time": "2022-05-23T16:02:18.883Z"
   },
   {
    "duration": 52,
    "start_time": "2022-05-23T16:02:20.353Z"
   },
   {
    "duration": 53,
    "start_time": "2022-05-23T16:02:22.724Z"
   },
   {
    "duration": 16,
    "start_time": "2022-05-23T16:02:24.404Z"
   },
   {
    "duration": 16,
    "start_time": "2022-05-23T16:02:27.416Z"
   },
   {
    "duration": 16,
    "start_time": "2022-05-23T16:02:29.470Z"
   },
   {
    "duration": 20,
    "start_time": "2022-05-23T16:02:31.107Z"
   },
   {
    "duration": 24,
    "start_time": "2022-05-23T16:02:33.450Z"
   },
   {
    "duration": 13,
    "start_time": "2022-05-23T16:02:35.071Z"
   },
   {
    "duration": 13,
    "start_time": "2022-05-23T16:02:36.708Z"
   },
   {
    "duration": 17,
    "start_time": "2022-05-23T16:02:38.918Z"
   },
   {
    "duration": 15,
    "start_time": "2022-05-23T16:02:41.320Z"
   },
   {
    "duration": 14,
    "start_time": "2022-05-23T16:02:43.137Z"
   },
   {
    "duration": 3,
    "start_time": "2022-05-23T16:02:45.082Z"
   },
   {
    "duration": 4,
    "start_time": "2022-05-23T16:02:46.729Z"
   },
   {
    "duration": 7,
    "start_time": "2022-05-23T16:02:48.811Z"
   },
   {
    "duration": 4,
    "start_time": "2022-05-23T16:02:51.765Z"
   },
   {
    "duration": 5,
    "start_time": "2022-05-23T16:02:53.534Z"
   },
   {
    "duration": 2961,
    "start_time": "2022-05-23T16:02:55.352Z"
   },
   {
    "duration": 4,
    "start_time": "2022-05-23T16:02:59.965Z"
   },
   {
    "duration": 4,
    "start_time": "2022-05-23T16:03:02.403Z"
   },
   {
    "duration": 4,
    "start_time": "2022-05-23T16:03:03.966Z"
   },
   {
    "duration": 3,
    "start_time": "2022-05-23T16:06:27.601Z"
   },
   {
    "duration": 899,
    "start_time": "2022-05-23T16:06:33.991Z"
   },
   {
    "duration": 211,
    "start_time": "2022-05-23T16:06:37.226Z"
   },
   {
    "duration": 142,
    "start_time": "2022-05-23T16:06:42.964Z"
   },
   {
    "duration": 188,
    "start_time": "2022-05-23T16:06:45.347Z"
   },
   {
    "duration": 55,
    "start_time": "2022-05-23T16:06:47.752Z"
   },
   {
    "duration": 55,
    "start_time": "2022-05-23T16:06:49.810Z"
   },
   {
    "duration": 59,
    "start_time": "2022-05-23T16:06:51.455Z"
   },
   {
    "duration": 18,
    "start_time": "2022-05-23T16:06:53.148Z"
   },
   {
    "duration": 16,
    "start_time": "2022-05-23T16:06:54.721Z"
   },
   {
    "duration": 16,
    "start_time": "2022-05-23T16:06:58.305Z"
   },
   {
    "duration": 18,
    "start_time": "2022-05-23T16:07:00.504Z"
   },
   {
    "duration": 23,
    "start_time": "2022-05-23T16:07:02.356Z"
   },
   {
    "duration": 13,
    "start_time": "2022-05-23T16:07:03.968Z"
   },
   {
    "duration": 16,
    "start_time": "2022-05-23T16:07:05.321Z"
   },
   {
    "duration": 18,
    "start_time": "2022-05-23T16:07:06.903Z"
   },
   {
    "duration": 16,
    "start_time": "2022-05-23T16:07:08.864Z"
   },
   {
    "duration": 14,
    "start_time": "2022-05-23T16:07:13.190Z"
   },
   {
    "duration": 3,
    "start_time": "2022-05-23T16:07:15.911Z"
   },
   {
    "duration": 6,
    "start_time": "2022-05-23T16:07:17.408Z"
   },
   {
    "duration": 6,
    "start_time": "2022-05-23T16:07:19.864Z"
   },
   {
    "duration": 4,
    "start_time": "2022-05-23T16:07:21.564Z"
   },
   {
    "duration": 5,
    "start_time": "2022-05-23T16:07:23.087Z"
   },
   {
    "duration": 2810,
    "start_time": "2022-05-23T16:07:25.171Z"
   },
   {
    "duration": 3,
    "start_time": "2022-05-23T16:07:29.388Z"
   },
   {
    "duration": 4,
    "start_time": "2022-05-23T16:07:31.165Z"
   },
   {
    "duration": 4,
    "start_time": "2022-05-23T16:07:32.548Z"
   }
  ],
  "kernelspec": {
   "display_name": "Python 3 (ipykernel)",
   "language": "python",
   "name": "python3"
  },
  "language_info": {
   "codemirror_mode": {
    "name": "ipython",
    "version": 3
   },
   "file_extension": ".py",
   "mimetype": "text/x-python",
   "name": "python",
   "nbconvert_exporter": "python",
   "pygments_lexer": "ipython3",
   "version": "3.9.5"
  },
  "toc": {
   "base_numbering": 1,
   "nav_menu": {},
   "number_sections": true,
   "sideBar": true,
   "skip_h1_title": true,
   "title_cell": "Table of Contents",
   "title_sidebar": "Contents",
   "toc_cell": false,
   "toc_position": {},
   "toc_section_display": true,
   "toc_window_display": false
  }
 },
 "nbformat": 4,
 "nbformat_minor": 2
}
