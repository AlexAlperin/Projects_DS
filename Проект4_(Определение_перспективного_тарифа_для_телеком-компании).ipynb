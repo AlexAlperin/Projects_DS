{
 "cells": [
  {
   "cell_type": "markdown",
   "metadata": {},
   "source": [
    "<div style=\"border:solid purple 2px; padding: 20px\"> \n",
    "\n",
    "**Привет!**\n",
    "\n",
    "Меня зовут Мария Новожилова и я буду делать ревью проектной работы по статистическому анализу данных. Давай будем общаться на **«ты»**. Если это неприемлемо, обязательно напиши мне в комментариях — мы перейдем на **«вы»**.\n",
    "\n",
    "<div class=\"alert alert-danger\">\n",
    "<b>Комментарий ревьюера \"ошибка\":</b> Так я выделяю те комментарии, на которые нужно обратить внимание в первую очередь. После их доработки проект будет принят. </div>\n",
    "\n",
    "<div class=\"alert alert-success\">\n",
    "<b>Комментарий ревьюера \"хорошее решение\":</b> Зеленым цветом отмечены удачные и элегантные решения, на которые можно опираться в будущих проектах.</div>\n",
    "\n",
    "<div class=\"alert alert-warning\">\n",
    "<b>Комментарий ревьюера \"пожелания\":</b> Оранжевым цветом выделено то, что в следующий раз можно сделать по-другому. Ты можешь учесть эти комментарии при выполнении будущих заданий или доработать проект сейчас (однако это не обязательно).</div>\n",
    "    \n",
    "Давай работать над проектом в диалоге: если ты **что-то меняешь** в проекте по моим рекомендациям — **пиши об этом**. Выбери для своих комментариев какой-то заметный цвет, так мне будет легче отследить изменения. Пожалуйста, **не перемещай, не изменяй и не удаляй мои комментарии**. Всё это поможет выполнить повторную проверку твоего проекта оперативнее»."
   ]
  },
  {
   "cell_type": "markdown",
   "metadata": {},
   "source": [
    "<div class=\"alert alert-danger\">\n",
    "<b>Комментарий ревьюера \"ошибка\":</b> Александр, начну сразу с красного комментария. В проекте очень не хватает хотя бы краткого введения (как называется проект, какие у него цели и задачи, контекст) и структуры. \n",
    " \n",
    "Структуру удобно задавать с помощью ячеек Markdown и заголовков. Вот так:\n",
    "    \n",
    "    \n",
    "# Заголовок\n",
    " Подзаголовок\n",
    "    \n",
    " Следующий подзаголовок\n",
    "    \n",
    "    \n",
    "Прочитать подробнее про оформление проектов можно тут:\n",
    "    https://www.notion.so/e56b058e7f1a438e9c1247451daf20f8\n",
    " <div class=\"alert alert-info\"> <b>Комментарий студента:</b> Описание проекта и заголовки добавлены           \n",
    "     P.S. Очень долгая проверка проекта. Я ничего уже не помню, чем я здесь занимался, от слова совсем(. Надо сдавать сборный проект. Очень хотел разобраться , куда же подевались пользователи, но у меня не выходит. Тут либо завершать учебу, либо двигаться дальше. Много материала, много что запомнилось хорошо, некоторые вещи не помню и не понимаю( Округлил длительность звонков, интернет до ГБ. Построил гистограммы на 1 графике, добавил гипотезы  </div>"
   ]
  },
  {
   "cell_type": "markdown",
   "metadata": {},
   "source": [
    "<div class=\"alert alert-success\">\n",
    "<b>2 Комментарий ревьюера ✔️:</b> Александр, да, я понимаю, о чем ты говоришь. Ситуация со скоростью проверки уже улучшается, следующие проекты должны пойти быстрее. И я понимаю, что спустя две недели уже сложно вспомнить, что тут и как. В рамках моего ревью я постараюсь помочь с непонятными моментами."
   ]
  },
  {
   "cell_type": "markdown",
   "metadata": {},
   "source": [
    "# Определение перспективного тарифа для телеком-компании\n",
    "\n",
    "Вы аналитик компании «Мегалайн» — федерального оператора сотовой связи. Клиентам предлагают два тарифных плана: «Смарт» и «Ультра». Чтобы скорректировать рекламный бюджет, коммерческий департамент хочет понять, какой тариф приносит больше денег.\n",
    "Вам предстоит сделать предварительный анализ тарифов на небольшой выборке клиентов. В вашем распоряжении данные 500 пользователей «Мегалайна»: кто они, откуда, каким тарифом пользуются, сколько звонков и сообщений каждый отправил за 2018 год. Нужно проанализировать поведение клиентов и сделать вывод — какой тариф лучше."
   ]
  },
  {
   "cell_type": "markdown",
   "metadata": {},
   "source": [
    "## Изучение данных из файла"
   ]
  },
  {
   "cell_type": "code",
   "execution_count": 1,
   "metadata": {},
   "outputs": [
    {
     "data": {
      "text/html": [
       "<div>\n",
       "<style scoped>\n",
       "    .dataframe tbody tr th:only-of-type {\n",
       "        vertical-align: middle;\n",
       "    }\n",
       "\n",
       "    .dataframe tbody tr th {\n",
       "        vertical-align: top;\n",
       "    }\n",
       "\n",
       "    .dataframe thead th {\n",
       "        text-align: right;\n",
       "    }\n",
       "</style>\n",
       "<table border=\"1\" class=\"dataframe\">\n",
       "  <thead>\n",
       "    <tr style=\"text-align: right;\">\n",
       "      <th></th>\n",
       "      <th>id</th>\n",
       "      <th>call_date</th>\n",
       "      <th>duration</th>\n",
       "      <th>user_id</th>\n",
       "    </tr>\n",
       "  </thead>\n",
       "  <tbody>\n",
       "    <tr>\n",
       "      <th>0</th>\n",
       "      <td>1000_0</td>\n",
       "      <td>2018-07-25</td>\n",
       "      <td>0.00</td>\n",
       "      <td>1000</td>\n",
       "    </tr>\n",
       "    <tr>\n",
       "      <th>1</th>\n",
       "      <td>1000_1</td>\n",
       "      <td>2018-08-17</td>\n",
       "      <td>0.00</td>\n",
       "      <td>1000</td>\n",
       "    </tr>\n",
       "    <tr>\n",
       "      <th>2</th>\n",
       "      <td>1000_2</td>\n",
       "      <td>2018-06-11</td>\n",
       "      <td>2.85</td>\n",
       "      <td>1000</td>\n",
       "    </tr>\n",
       "    <tr>\n",
       "      <th>3</th>\n",
       "      <td>1000_3</td>\n",
       "      <td>2018-09-21</td>\n",
       "      <td>13.80</td>\n",
       "      <td>1000</td>\n",
       "    </tr>\n",
       "    <tr>\n",
       "      <th>4</th>\n",
       "      <td>1000_4</td>\n",
       "      <td>2018-12-15</td>\n",
       "      <td>5.18</td>\n",
       "      <td>1000</td>\n",
       "    </tr>\n",
       "    <tr>\n",
       "      <th>5</th>\n",
       "      <td>1000_5</td>\n",
       "      <td>2018-11-02</td>\n",
       "      <td>0.00</td>\n",
       "      <td>1000</td>\n",
       "    </tr>\n",
       "    <tr>\n",
       "      <th>6</th>\n",
       "      <td>1000_6</td>\n",
       "      <td>2018-10-18</td>\n",
       "      <td>0.00</td>\n",
       "      <td>1000</td>\n",
       "    </tr>\n",
       "    <tr>\n",
       "      <th>7</th>\n",
       "      <td>1000_7</td>\n",
       "      <td>2018-08-22</td>\n",
       "      <td>18.31</td>\n",
       "      <td>1000</td>\n",
       "    </tr>\n",
       "    <tr>\n",
       "      <th>8</th>\n",
       "      <td>1000_8</td>\n",
       "      <td>2018-09-15</td>\n",
       "      <td>18.44</td>\n",
       "      <td>1000</td>\n",
       "    </tr>\n",
       "    <tr>\n",
       "      <th>9</th>\n",
       "      <td>1000_9</td>\n",
       "      <td>2018-08-15</td>\n",
       "      <td>0.00</td>\n",
       "      <td>1000</td>\n",
       "    </tr>\n",
       "    <tr>\n",
       "      <th>10</th>\n",
       "      <td>1000_10</td>\n",
       "      <td>2018-08-22</td>\n",
       "      <td>5.03</td>\n",
       "      <td>1000</td>\n",
       "    </tr>\n",
       "    <tr>\n",
       "      <th>11</th>\n",
       "      <td>1000_11</td>\n",
       "      <td>2018-05-28</td>\n",
       "      <td>18.82</td>\n",
       "      <td>1000</td>\n",
       "    </tr>\n",
       "    <tr>\n",
       "      <th>12</th>\n",
       "      <td>1000_12</td>\n",
       "      <td>2018-07-05</td>\n",
       "      <td>2.02</td>\n",
       "      <td>1000</td>\n",
       "    </tr>\n",
       "    <tr>\n",
       "      <th>13</th>\n",
       "      <td>1000_13</td>\n",
       "      <td>2018-09-29</td>\n",
       "      <td>7.15</td>\n",
       "      <td>1000</td>\n",
       "    </tr>\n",
       "    <tr>\n",
       "      <th>14</th>\n",
       "      <td>1000_14</td>\n",
       "      <td>2018-12-11</td>\n",
       "      <td>9.13</td>\n",
       "      <td>1000</td>\n",
       "    </tr>\n",
       "    <tr>\n",
       "      <th>15</th>\n",
       "      <td>1000_15</td>\n",
       "      <td>2018-07-27</td>\n",
       "      <td>9.36</td>\n",
       "      <td>1000</td>\n",
       "    </tr>\n",
       "    <tr>\n",
       "      <th>16</th>\n",
       "      <td>1000_16</td>\n",
       "      <td>2018-08-11</td>\n",
       "      <td>4.08</td>\n",
       "      <td>1000</td>\n",
       "    </tr>\n",
       "    <tr>\n",
       "      <th>17</th>\n",
       "      <td>1000_17</td>\n",
       "      <td>2018-08-02</td>\n",
       "      <td>12.63</td>\n",
       "      <td>1000</td>\n",
       "    </tr>\n",
       "    <tr>\n",
       "      <th>18</th>\n",
       "      <td>1000_18</td>\n",
       "      <td>2018-06-15</td>\n",
       "      <td>4.46</td>\n",
       "      <td>1000</td>\n",
       "    </tr>\n",
       "    <tr>\n",
       "      <th>19</th>\n",
       "      <td>1000_19</td>\n",
       "      <td>2018-11-02</td>\n",
       "      <td>15.08</td>\n",
       "      <td>1000</td>\n",
       "    </tr>\n",
       "  </tbody>\n",
       "</table>\n",
       "</div>"
      ],
      "text/plain": [
       "         id   call_date  duration  user_id\n",
       "0    1000_0  2018-07-25      0.00     1000\n",
       "1    1000_1  2018-08-17      0.00     1000\n",
       "2    1000_2  2018-06-11      2.85     1000\n",
       "3    1000_3  2018-09-21     13.80     1000\n",
       "4    1000_4  2018-12-15      5.18     1000\n",
       "5    1000_5  2018-11-02      0.00     1000\n",
       "6    1000_6  2018-10-18      0.00     1000\n",
       "7    1000_7  2018-08-22     18.31     1000\n",
       "8    1000_8  2018-09-15     18.44     1000\n",
       "9    1000_9  2018-08-15      0.00     1000\n",
       "10  1000_10  2018-08-22      5.03     1000\n",
       "11  1000_11  2018-05-28     18.82     1000\n",
       "12  1000_12  2018-07-05      2.02     1000\n",
       "13  1000_13  2018-09-29      7.15     1000\n",
       "14  1000_14  2018-12-11      9.13     1000\n",
       "15  1000_15  2018-07-27      9.36     1000\n",
       "16  1000_16  2018-08-11      4.08     1000\n",
       "17  1000_17  2018-08-02     12.63     1000\n",
       "18  1000_18  2018-06-15      4.46     1000\n",
       "19  1000_19  2018-11-02     15.08     1000"
      ]
     },
     "metadata": {},
     "output_type": "display_data"
    },
    {
     "data": {
      "text/html": [
       "<div>\n",
       "<style scoped>\n",
       "    .dataframe tbody tr th:only-of-type {\n",
       "        vertical-align: middle;\n",
       "    }\n",
       "\n",
       "    .dataframe tbody tr th {\n",
       "        vertical-align: top;\n",
       "    }\n",
       "\n",
       "    .dataframe thead th {\n",
       "        text-align: right;\n",
       "    }\n",
       "</style>\n",
       "<table border=\"1\" class=\"dataframe\">\n",
       "  <thead>\n",
       "    <tr style=\"text-align: right;\">\n",
       "      <th></th>\n",
       "      <th>Unnamed: 0</th>\n",
       "      <th>id</th>\n",
       "      <th>mb_used</th>\n",
       "      <th>session_date</th>\n",
       "      <th>user_id</th>\n",
       "    </tr>\n",
       "  </thead>\n",
       "  <tbody>\n",
       "    <tr>\n",
       "      <th>0</th>\n",
       "      <td>0</td>\n",
       "      <td>1000_0</td>\n",
       "      <td>112.95</td>\n",
       "      <td>2018-11-25</td>\n",
       "      <td>1000</td>\n",
       "    </tr>\n",
       "    <tr>\n",
       "      <th>1</th>\n",
       "      <td>1</td>\n",
       "      <td>1000_1</td>\n",
       "      <td>1052.81</td>\n",
       "      <td>2018-09-07</td>\n",
       "      <td>1000</td>\n",
       "    </tr>\n",
       "    <tr>\n",
       "      <th>2</th>\n",
       "      <td>2</td>\n",
       "      <td>1000_2</td>\n",
       "      <td>1197.26</td>\n",
       "      <td>2018-06-25</td>\n",
       "      <td>1000</td>\n",
       "    </tr>\n",
       "    <tr>\n",
       "      <th>3</th>\n",
       "      <td>3</td>\n",
       "      <td>1000_3</td>\n",
       "      <td>550.27</td>\n",
       "      <td>2018-08-22</td>\n",
       "      <td>1000</td>\n",
       "    </tr>\n",
       "    <tr>\n",
       "      <th>4</th>\n",
       "      <td>4</td>\n",
       "      <td>1000_4</td>\n",
       "      <td>302.56</td>\n",
       "      <td>2018-09-24</td>\n",
       "      <td>1000</td>\n",
       "    </tr>\n",
       "    <tr>\n",
       "      <th>5</th>\n",
       "      <td>5</td>\n",
       "      <td>1000_5</td>\n",
       "      <td>399.97</td>\n",
       "      <td>2018-10-02</td>\n",
       "      <td>1000</td>\n",
       "    </tr>\n",
       "    <tr>\n",
       "      <th>6</th>\n",
       "      <td>6</td>\n",
       "      <td>1000_6</td>\n",
       "      <td>540.08</td>\n",
       "      <td>2018-09-07</td>\n",
       "      <td>1000</td>\n",
       "    </tr>\n",
       "    <tr>\n",
       "      <th>7</th>\n",
       "      <td>7</td>\n",
       "      <td>1000_7</td>\n",
       "      <td>415.70</td>\n",
       "      <td>2018-07-11</td>\n",
       "      <td>1000</td>\n",
       "    </tr>\n",
       "    <tr>\n",
       "      <th>8</th>\n",
       "      <td>8</td>\n",
       "      <td>1000_8</td>\n",
       "      <td>505.40</td>\n",
       "      <td>2018-10-08</td>\n",
       "      <td>1000</td>\n",
       "    </tr>\n",
       "    <tr>\n",
       "      <th>9</th>\n",
       "      <td>9</td>\n",
       "      <td>1000_9</td>\n",
       "      <td>345.54</td>\n",
       "      <td>2018-09-03</td>\n",
       "      <td>1000</td>\n",
       "    </tr>\n",
       "    <tr>\n",
       "      <th>10</th>\n",
       "      <td>10</td>\n",
       "      <td>1000_10</td>\n",
       "      <td>385.14</td>\n",
       "      <td>2018-09-27</td>\n",
       "      <td>1000</td>\n",
       "    </tr>\n",
       "    <tr>\n",
       "      <th>11</th>\n",
       "      <td>11</td>\n",
       "      <td>1000_11</td>\n",
       "      <td>0.00</td>\n",
       "      <td>2018-08-28</td>\n",
       "      <td>1000</td>\n",
       "    </tr>\n",
       "    <tr>\n",
       "      <th>12</th>\n",
       "      <td>12</td>\n",
       "      <td>1000_12</td>\n",
       "      <td>375.87</td>\n",
       "      <td>2018-06-20</td>\n",
       "      <td>1000</td>\n",
       "    </tr>\n",
       "    <tr>\n",
       "      <th>13</th>\n",
       "      <td>13</td>\n",
       "      <td>1000_13</td>\n",
       "      <td>393.83</td>\n",
       "      <td>2018-08-09</td>\n",
       "      <td>1000</td>\n",
       "    </tr>\n",
       "    <tr>\n",
       "      <th>14</th>\n",
       "      <td>14</td>\n",
       "      <td>1000_14</td>\n",
       "      <td>180.64</td>\n",
       "      <td>2018-08-11</td>\n",
       "      <td>1000</td>\n",
       "    </tr>\n",
       "    <tr>\n",
       "      <th>15</th>\n",
       "      <td>15</td>\n",
       "      <td>1000_15</td>\n",
       "      <td>337.71</td>\n",
       "      <td>2018-07-21</td>\n",
       "      <td>1000</td>\n",
       "    </tr>\n",
       "    <tr>\n",
       "      <th>16</th>\n",
       "      <td>16</td>\n",
       "      <td>1000_16</td>\n",
       "      <td>459.28</td>\n",
       "      <td>2018-06-09</td>\n",
       "      <td>1000</td>\n",
       "    </tr>\n",
       "    <tr>\n",
       "      <th>17</th>\n",
       "      <td>17</td>\n",
       "      <td>1000_17</td>\n",
       "      <td>204.14</td>\n",
       "      <td>2018-06-03</td>\n",
       "      <td>1000</td>\n",
       "    </tr>\n",
       "    <tr>\n",
       "      <th>18</th>\n",
       "      <td>18</td>\n",
       "      <td>1000_18</td>\n",
       "      <td>658.10</td>\n",
       "      <td>2018-11-01</td>\n",
       "      <td>1000</td>\n",
       "    </tr>\n",
       "    <tr>\n",
       "      <th>19</th>\n",
       "      <td>19</td>\n",
       "      <td>1000_19</td>\n",
       "      <td>452.73</td>\n",
       "      <td>2018-11-28</td>\n",
       "      <td>1000</td>\n",
       "    </tr>\n",
       "  </tbody>\n",
       "</table>\n",
       "</div>"
      ],
      "text/plain": [
       "    Unnamed: 0       id  mb_used session_date  user_id\n",
       "0            0   1000_0   112.95   2018-11-25     1000\n",
       "1            1   1000_1  1052.81   2018-09-07     1000\n",
       "2            2   1000_2  1197.26   2018-06-25     1000\n",
       "3            3   1000_3   550.27   2018-08-22     1000\n",
       "4            4   1000_4   302.56   2018-09-24     1000\n",
       "5            5   1000_5   399.97   2018-10-02     1000\n",
       "6            6   1000_6   540.08   2018-09-07     1000\n",
       "7            7   1000_7   415.70   2018-07-11     1000\n",
       "8            8   1000_8   505.40   2018-10-08     1000\n",
       "9            9   1000_9   345.54   2018-09-03     1000\n",
       "10          10  1000_10   385.14   2018-09-27     1000\n",
       "11          11  1000_11     0.00   2018-08-28     1000\n",
       "12          12  1000_12   375.87   2018-06-20     1000\n",
       "13          13  1000_13   393.83   2018-08-09     1000\n",
       "14          14  1000_14   180.64   2018-08-11     1000\n",
       "15          15  1000_15   337.71   2018-07-21     1000\n",
       "16          16  1000_16   459.28   2018-06-09     1000\n",
       "17          17  1000_17   204.14   2018-06-03     1000\n",
       "18          18  1000_18   658.10   2018-11-01     1000\n",
       "19          19  1000_19   452.73   2018-11-28     1000"
      ]
     },
     "metadata": {},
     "output_type": "display_data"
    },
    {
     "data": {
      "text/html": [
       "<div>\n",
       "<style scoped>\n",
       "    .dataframe tbody tr th:only-of-type {\n",
       "        vertical-align: middle;\n",
       "    }\n",
       "\n",
       "    .dataframe tbody tr th {\n",
       "        vertical-align: top;\n",
       "    }\n",
       "\n",
       "    .dataframe thead th {\n",
       "        text-align: right;\n",
       "    }\n",
       "</style>\n",
       "<table border=\"1\" class=\"dataframe\">\n",
       "  <thead>\n",
       "    <tr style=\"text-align: right;\">\n",
       "      <th></th>\n",
       "      <th>id</th>\n",
       "      <th>message_date</th>\n",
       "      <th>user_id</th>\n",
       "    </tr>\n",
       "  </thead>\n",
       "  <tbody>\n",
       "    <tr>\n",
       "      <th>0</th>\n",
       "      <td>1000_0</td>\n",
       "      <td>2018-06-27</td>\n",
       "      <td>1000</td>\n",
       "    </tr>\n",
       "    <tr>\n",
       "      <th>1</th>\n",
       "      <td>1000_1</td>\n",
       "      <td>2018-10-08</td>\n",
       "      <td>1000</td>\n",
       "    </tr>\n",
       "    <tr>\n",
       "      <th>2</th>\n",
       "      <td>1000_2</td>\n",
       "      <td>2018-08-04</td>\n",
       "      <td>1000</td>\n",
       "    </tr>\n",
       "    <tr>\n",
       "      <th>3</th>\n",
       "      <td>1000_3</td>\n",
       "      <td>2018-06-16</td>\n",
       "      <td>1000</td>\n",
       "    </tr>\n",
       "    <tr>\n",
       "      <th>4</th>\n",
       "      <td>1000_4</td>\n",
       "      <td>2018-12-05</td>\n",
       "      <td>1000</td>\n",
       "    </tr>\n",
       "    <tr>\n",
       "      <th>5</th>\n",
       "      <td>1000_5</td>\n",
       "      <td>2018-06-20</td>\n",
       "      <td>1000</td>\n",
       "    </tr>\n",
       "    <tr>\n",
       "      <th>6</th>\n",
       "      <td>1000_6</td>\n",
       "      <td>2018-11-19</td>\n",
       "      <td>1000</td>\n",
       "    </tr>\n",
       "    <tr>\n",
       "      <th>7</th>\n",
       "      <td>1000_7</td>\n",
       "      <td>2018-10-29</td>\n",
       "      <td>1000</td>\n",
       "    </tr>\n",
       "    <tr>\n",
       "      <th>8</th>\n",
       "      <td>1000_8</td>\n",
       "      <td>2018-06-25</td>\n",
       "      <td>1000</td>\n",
       "    </tr>\n",
       "    <tr>\n",
       "      <th>9</th>\n",
       "      <td>1000_9</td>\n",
       "      <td>2018-12-18</td>\n",
       "      <td>1000</td>\n",
       "    </tr>\n",
       "    <tr>\n",
       "      <th>10</th>\n",
       "      <td>1000_10</td>\n",
       "      <td>2018-05-30</td>\n",
       "      <td>1000</td>\n",
       "    </tr>\n",
       "    <tr>\n",
       "      <th>11</th>\n",
       "      <td>1000_11</td>\n",
       "      <td>2018-07-06</td>\n",
       "      <td>1000</td>\n",
       "    </tr>\n",
       "    <tr>\n",
       "      <th>12</th>\n",
       "      <td>1000_12</td>\n",
       "      <td>2018-08-20</td>\n",
       "      <td>1000</td>\n",
       "    </tr>\n",
       "    <tr>\n",
       "      <th>13</th>\n",
       "      <td>1000_13</td>\n",
       "      <td>2018-10-30</td>\n",
       "      <td>1000</td>\n",
       "    </tr>\n",
       "    <tr>\n",
       "      <th>14</th>\n",
       "      <td>1000_14</td>\n",
       "      <td>2018-09-14</td>\n",
       "      <td>1000</td>\n",
       "    </tr>\n",
       "    <tr>\n",
       "      <th>15</th>\n",
       "      <td>1000_15</td>\n",
       "      <td>2018-08-28</td>\n",
       "      <td>1000</td>\n",
       "    </tr>\n",
       "    <tr>\n",
       "      <th>16</th>\n",
       "      <td>1000_16</td>\n",
       "      <td>2018-06-25</td>\n",
       "      <td>1000</td>\n",
       "    </tr>\n",
       "    <tr>\n",
       "      <th>17</th>\n",
       "      <td>1000_17</td>\n",
       "      <td>2018-06-29</td>\n",
       "      <td>1000</td>\n",
       "    </tr>\n",
       "    <tr>\n",
       "      <th>18</th>\n",
       "      <td>1000_18</td>\n",
       "      <td>2018-07-07</td>\n",
       "      <td>1000</td>\n",
       "    </tr>\n",
       "    <tr>\n",
       "      <th>19</th>\n",
       "      <td>1000_19</td>\n",
       "      <td>2018-05-29</td>\n",
       "      <td>1000</td>\n",
       "    </tr>\n",
       "  </tbody>\n",
       "</table>\n",
       "</div>"
      ],
      "text/plain": [
       "         id message_date  user_id\n",
       "0    1000_0   2018-06-27     1000\n",
       "1    1000_1   2018-10-08     1000\n",
       "2    1000_2   2018-08-04     1000\n",
       "3    1000_3   2018-06-16     1000\n",
       "4    1000_4   2018-12-05     1000\n",
       "5    1000_5   2018-06-20     1000\n",
       "6    1000_6   2018-11-19     1000\n",
       "7    1000_7   2018-10-29     1000\n",
       "8    1000_8   2018-06-25     1000\n",
       "9    1000_9   2018-12-18     1000\n",
       "10  1000_10   2018-05-30     1000\n",
       "11  1000_11   2018-07-06     1000\n",
       "12  1000_12   2018-08-20     1000\n",
       "13  1000_13   2018-10-30     1000\n",
       "14  1000_14   2018-09-14     1000\n",
       "15  1000_15   2018-08-28     1000\n",
       "16  1000_16   2018-06-25     1000\n",
       "17  1000_17   2018-06-29     1000\n",
       "18  1000_18   2018-07-07     1000\n",
       "19  1000_19   2018-05-29     1000"
      ]
     },
     "metadata": {},
     "output_type": "display_data"
    },
    {
     "data": {
      "text/html": [
       "<div>\n",
       "<style scoped>\n",
       "    .dataframe tbody tr th:only-of-type {\n",
       "        vertical-align: middle;\n",
       "    }\n",
       "\n",
       "    .dataframe tbody tr th {\n",
       "        vertical-align: top;\n",
       "    }\n",
       "\n",
       "    .dataframe thead th {\n",
       "        text-align: right;\n",
       "    }\n",
       "</style>\n",
       "<table border=\"1\" class=\"dataframe\">\n",
       "  <thead>\n",
       "    <tr style=\"text-align: right;\">\n",
       "      <th></th>\n",
       "      <th>messages_included</th>\n",
       "      <th>mb_per_month_included</th>\n",
       "      <th>minutes_included</th>\n",
       "      <th>rub_monthly_fee</th>\n",
       "      <th>rub_per_gb</th>\n",
       "      <th>rub_per_message</th>\n",
       "      <th>rub_per_minute</th>\n",
       "      <th>tariff_name</th>\n",
       "    </tr>\n",
       "  </thead>\n",
       "  <tbody>\n",
       "    <tr>\n",
       "      <th>0</th>\n",
       "      <td>50</td>\n",
       "      <td>15360</td>\n",
       "      <td>500</td>\n",
       "      <td>550</td>\n",
       "      <td>200</td>\n",
       "      <td>3</td>\n",
       "      <td>3</td>\n",
       "      <td>smart</td>\n",
       "    </tr>\n",
       "    <tr>\n",
       "      <th>1</th>\n",
       "      <td>1000</td>\n",
       "      <td>30720</td>\n",
       "      <td>3000</td>\n",
       "      <td>1950</td>\n",
       "      <td>150</td>\n",
       "      <td>1</td>\n",
       "      <td>1</td>\n",
       "      <td>ultra</td>\n",
       "    </tr>\n",
       "  </tbody>\n",
       "</table>\n",
       "</div>"
      ],
      "text/plain": [
       "   messages_included  mb_per_month_included  minutes_included  \\\n",
       "0                 50                  15360               500   \n",
       "1               1000                  30720              3000   \n",
       "\n",
       "   rub_monthly_fee  rub_per_gb  rub_per_message  rub_per_minute tariff_name  \n",
       "0              550         200                3               3       smart  \n",
       "1             1950         150                1               1       ultra  "
      ]
     },
     "metadata": {},
     "output_type": "display_data"
    },
    {
     "data": {
      "text/html": [
       "<div>\n",
       "<style scoped>\n",
       "    .dataframe tbody tr th:only-of-type {\n",
       "        vertical-align: middle;\n",
       "    }\n",
       "\n",
       "    .dataframe tbody tr th {\n",
       "        vertical-align: top;\n",
       "    }\n",
       "\n",
       "    .dataframe thead th {\n",
       "        text-align: right;\n",
       "    }\n",
       "</style>\n",
       "<table border=\"1\" class=\"dataframe\">\n",
       "  <thead>\n",
       "    <tr style=\"text-align: right;\">\n",
       "      <th></th>\n",
       "      <th>user_id</th>\n",
       "      <th>age</th>\n",
       "      <th>churn_date</th>\n",
       "      <th>city</th>\n",
       "      <th>first_name</th>\n",
       "      <th>last_name</th>\n",
       "      <th>reg_date</th>\n",
       "      <th>tariff</th>\n",
       "    </tr>\n",
       "  </thead>\n",
       "  <tbody>\n",
       "    <tr>\n",
       "      <th>0</th>\n",
       "      <td>1000</td>\n",
       "      <td>52</td>\n",
       "      <td>NaN</td>\n",
       "      <td>Краснодар</td>\n",
       "      <td>Рафаил</td>\n",
       "      <td>Верещагин</td>\n",
       "      <td>2018-05-25</td>\n",
       "      <td>ultra</td>\n",
       "    </tr>\n",
       "    <tr>\n",
       "      <th>1</th>\n",
       "      <td>1001</td>\n",
       "      <td>41</td>\n",
       "      <td>NaN</td>\n",
       "      <td>Москва</td>\n",
       "      <td>Иван</td>\n",
       "      <td>Ежов</td>\n",
       "      <td>2018-11-01</td>\n",
       "      <td>smart</td>\n",
       "    </tr>\n",
       "    <tr>\n",
       "      <th>2</th>\n",
       "      <td>1002</td>\n",
       "      <td>59</td>\n",
       "      <td>NaN</td>\n",
       "      <td>Стерлитамак</td>\n",
       "      <td>Евгений</td>\n",
       "      <td>Абрамович</td>\n",
       "      <td>2018-06-17</td>\n",
       "      <td>smart</td>\n",
       "    </tr>\n",
       "    <tr>\n",
       "      <th>3</th>\n",
       "      <td>1003</td>\n",
       "      <td>23</td>\n",
       "      <td>NaN</td>\n",
       "      <td>Москва</td>\n",
       "      <td>Белла</td>\n",
       "      <td>Белякова</td>\n",
       "      <td>2018-08-17</td>\n",
       "      <td>ultra</td>\n",
       "    </tr>\n",
       "    <tr>\n",
       "      <th>4</th>\n",
       "      <td>1004</td>\n",
       "      <td>68</td>\n",
       "      <td>NaN</td>\n",
       "      <td>Новокузнецк</td>\n",
       "      <td>Татьяна</td>\n",
       "      <td>Авдеенко</td>\n",
       "      <td>2018-05-14</td>\n",
       "      <td>ultra</td>\n",
       "    </tr>\n",
       "    <tr>\n",
       "      <th>5</th>\n",
       "      <td>1005</td>\n",
       "      <td>67</td>\n",
       "      <td>NaN</td>\n",
       "      <td>Набережные Челны</td>\n",
       "      <td>Афанасий</td>\n",
       "      <td>Горлов</td>\n",
       "      <td>2018-01-25</td>\n",
       "      <td>smart</td>\n",
       "    </tr>\n",
       "    <tr>\n",
       "      <th>6</th>\n",
       "      <td>1006</td>\n",
       "      <td>21</td>\n",
       "      <td>NaN</td>\n",
       "      <td>Ульяновск</td>\n",
       "      <td>Леонид</td>\n",
       "      <td>Ермолаев</td>\n",
       "      <td>2018-02-26</td>\n",
       "      <td>smart</td>\n",
       "    </tr>\n",
       "    <tr>\n",
       "      <th>7</th>\n",
       "      <td>1007</td>\n",
       "      <td>65</td>\n",
       "      <td>NaN</td>\n",
       "      <td>Москва</td>\n",
       "      <td>Юна</td>\n",
       "      <td>Березина</td>\n",
       "      <td>2018-04-19</td>\n",
       "      <td>smart</td>\n",
       "    </tr>\n",
       "    <tr>\n",
       "      <th>8</th>\n",
       "      <td>1008</td>\n",
       "      <td>63</td>\n",
       "      <td>NaN</td>\n",
       "      <td>Челябинск</td>\n",
       "      <td>Рустэм</td>\n",
       "      <td>Пономарёв</td>\n",
       "      <td>2018-12-19</td>\n",
       "      <td>smart</td>\n",
       "    </tr>\n",
       "    <tr>\n",
       "      <th>9</th>\n",
       "      <td>1009</td>\n",
       "      <td>24</td>\n",
       "      <td>NaN</td>\n",
       "      <td>Пермь</td>\n",
       "      <td>Василиса</td>\n",
       "      <td>Блинова</td>\n",
       "      <td>2018-03-22</td>\n",
       "      <td>smart</td>\n",
       "    </tr>\n",
       "    <tr>\n",
       "      <th>10</th>\n",
       "      <td>1010</td>\n",
       "      <td>26</td>\n",
       "      <td>NaN</td>\n",
       "      <td>Тюмень</td>\n",
       "      <td>Эдуард</td>\n",
       "      <td>Кононов</td>\n",
       "      <td>2018-08-05</td>\n",
       "      <td>smart</td>\n",
       "    </tr>\n",
       "    <tr>\n",
       "      <th>11</th>\n",
       "      <td>1011</td>\n",
       "      <td>44</td>\n",
       "      <td>NaN</td>\n",
       "      <td>Самара</td>\n",
       "      <td>Веселина</td>\n",
       "      <td>Алёшко</td>\n",
       "      <td>2018-03-19</td>\n",
       "      <td>smart</td>\n",
       "    </tr>\n",
       "    <tr>\n",
       "      <th>12</th>\n",
       "      <td>1012</td>\n",
       "      <td>38</td>\n",
       "      <td>NaN</td>\n",
       "      <td>Санкт-Петербург</td>\n",
       "      <td>Варлам</td>\n",
       "      <td>Соловьев</td>\n",
       "      <td>2018-03-28</td>\n",
       "      <td>smart</td>\n",
       "    </tr>\n",
       "    <tr>\n",
       "      <th>13</th>\n",
       "      <td>1013</td>\n",
       "      <td>36</td>\n",
       "      <td>NaN</td>\n",
       "      <td>Иваново</td>\n",
       "      <td>Борис</td>\n",
       "      <td>Андреенко</td>\n",
       "      <td>2018-11-14</td>\n",
       "      <td>ultra</td>\n",
       "    </tr>\n",
       "    <tr>\n",
       "      <th>14</th>\n",
       "      <td>1014</td>\n",
       "      <td>64</td>\n",
       "      <td>NaN</td>\n",
       "      <td>Чебоксары</td>\n",
       "      <td>Яков</td>\n",
       "      <td>Акинфьев</td>\n",
       "      <td>2018-05-15</td>\n",
       "      <td>smart</td>\n",
       "    </tr>\n",
       "    <tr>\n",
       "      <th>15</th>\n",
       "      <td>1015</td>\n",
       "      <td>26</td>\n",
       "      <td>NaN</td>\n",
       "      <td>Челябинск</td>\n",
       "      <td>Рузана</td>\n",
       "      <td>Алюшина</td>\n",
       "      <td>2018-04-30</td>\n",
       "      <td>smart</td>\n",
       "    </tr>\n",
       "    <tr>\n",
       "      <th>16</th>\n",
       "      <td>1016</td>\n",
       "      <td>58</td>\n",
       "      <td>NaN</td>\n",
       "      <td>Омск</td>\n",
       "      <td>Марица</td>\n",
       "      <td>Сазонова</td>\n",
       "      <td>2018-11-21</td>\n",
       "      <td>ultra</td>\n",
       "    </tr>\n",
       "    <tr>\n",
       "      <th>17</th>\n",
       "      <td>1017</td>\n",
       "      <td>73</td>\n",
       "      <td>NaN</td>\n",
       "      <td>Краснодар</td>\n",
       "      <td>Мария</td>\n",
       "      <td>Аленникова</td>\n",
       "      <td>2018-05-22</td>\n",
       "      <td>smart</td>\n",
       "    </tr>\n",
       "    <tr>\n",
       "      <th>18</th>\n",
       "      <td>1018</td>\n",
       "      <td>71</td>\n",
       "      <td>NaN</td>\n",
       "      <td>Уфа</td>\n",
       "      <td>Матвей</td>\n",
       "      <td>Золотов</td>\n",
       "      <td>2018-04-01</td>\n",
       "      <td>ultra</td>\n",
       "    </tr>\n",
       "    <tr>\n",
       "      <th>19</th>\n",
       "      <td>1019</td>\n",
       "      <td>63</td>\n",
       "      <td>2018-10-05</td>\n",
       "      <td>Томск</td>\n",
       "      <td>Игнатий</td>\n",
       "      <td>Круглов</td>\n",
       "      <td>2018-05-16</td>\n",
       "      <td>ultra</td>\n",
       "    </tr>\n",
       "  </tbody>\n",
       "</table>\n",
       "</div>"
      ],
      "text/plain": [
       "    user_id  age  churn_date              city first_name   last_name  \\\n",
       "0      1000   52         NaN         Краснодар     Рафаил   Верещагин   \n",
       "1      1001   41         NaN            Москва       Иван        Ежов   \n",
       "2      1002   59         NaN       Стерлитамак    Евгений   Абрамович   \n",
       "3      1003   23         NaN            Москва      Белла    Белякова   \n",
       "4      1004   68         NaN       Новокузнецк    Татьяна    Авдеенко   \n",
       "5      1005   67         NaN  Набережные Челны   Афанасий      Горлов   \n",
       "6      1006   21         NaN         Ульяновск     Леонид    Ермолаев   \n",
       "7      1007   65         NaN            Москва        Юна    Березина   \n",
       "8      1008   63         NaN         Челябинск     Рустэм   Пономарёв   \n",
       "9      1009   24         NaN             Пермь   Василиса     Блинова   \n",
       "10     1010   26         NaN            Тюмень     Эдуард     Кононов   \n",
       "11     1011   44         NaN            Самара   Веселина      Алёшко   \n",
       "12     1012   38         NaN   Санкт-Петербург     Варлам    Соловьев   \n",
       "13     1013   36         NaN           Иваново      Борис   Андреенко   \n",
       "14     1014   64         NaN         Чебоксары       Яков    Акинфьев   \n",
       "15     1015   26         NaN         Челябинск     Рузана     Алюшина   \n",
       "16     1016   58         NaN              Омск     Марица    Сазонова   \n",
       "17     1017   73         NaN         Краснодар      Мария  Аленникова   \n",
       "18     1018   71         NaN               Уфа     Матвей     Золотов   \n",
       "19     1019   63  2018-10-05             Томск    Игнатий     Круглов   \n",
       "\n",
       "      reg_date tariff  \n",
       "0   2018-05-25  ultra  \n",
       "1   2018-11-01  smart  \n",
       "2   2018-06-17  smart  \n",
       "3   2018-08-17  ultra  \n",
       "4   2018-05-14  ultra  \n",
       "5   2018-01-25  smart  \n",
       "6   2018-02-26  smart  \n",
       "7   2018-04-19  smart  \n",
       "8   2018-12-19  smart  \n",
       "9   2018-03-22  smart  \n",
       "10  2018-08-05  smart  \n",
       "11  2018-03-19  smart  \n",
       "12  2018-03-28  smart  \n",
       "13  2018-11-14  ultra  \n",
       "14  2018-05-15  smart  \n",
       "15  2018-04-30  smart  \n",
       "16  2018-11-21  ultra  \n",
       "17  2018-05-22  smart  \n",
       "18  2018-04-01  ultra  \n",
       "19  2018-05-16  ultra  "
      ]
     },
     "metadata": {},
     "output_type": "display_data"
    },
    {
     "name": "stdout",
     "output_type": "stream",
     "text": [
      "<class 'pandas.core.frame.DataFrame'>\n",
      "RangeIndex: 202607 entries, 0 to 202606\n",
      "Data columns (total 4 columns):\n",
      " #   Column     Non-Null Count   Dtype  \n",
      "---  ------     --------------   -----  \n",
      " 0   id         202607 non-null  object \n",
      " 1   call_date  202607 non-null  object \n",
      " 2   duration   202607 non-null  float64\n",
      " 3   user_id    202607 non-null  int64  \n",
      "dtypes: float64(1), int64(1), object(2)\n",
      "memory usage: 6.2+ MB\n",
      "<class 'pandas.core.frame.DataFrame'>\n",
      "RangeIndex: 149396 entries, 0 to 149395\n",
      "Data columns (total 5 columns):\n",
      " #   Column        Non-Null Count   Dtype  \n",
      "---  ------        --------------   -----  \n",
      " 0   Unnamed: 0    149396 non-null  int64  \n",
      " 1   id            149396 non-null  object \n",
      " 2   mb_used       149396 non-null  float64\n",
      " 3   session_date  149396 non-null  object \n",
      " 4   user_id       149396 non-null  int64  \n",
      "dtypes: float64(1), int64(2), object(2)\n",
      "memory usage: 5.7+ MB\n",
      "<class 'pandas.core.frame.DataFrame'>\n",
      "RangeIndex: 123036 entries, 0 to 123035\n",
      "Data columns (total 3 columns):\n",
      " #   Column        Non-Null Count   Dtype \n",
      "---  ------        --------------   ----- \n",
      " 0   id            123036 non-null  object\n",
      " 1   message_date  123036 non-null  object\n",
      " 2   user_id       123036 non-null  int64 \n",
      "dtypes: int64(1), object(2)\n",
      "memory usage: 2.8+ MB\n",
      "<class 'pandas.core.frame.DataFrame'>\n",
      "RangeIndex: 2 entries, 0 to 1\n",
      "Data columns (total 8 columns):\n",
      " #   Column                 Non-Null Count  Dtype \n",
      "---  ------                 --------------  ----- \n",
      " 0   messages_included      2 non-null      int64 \n",
      " 1   mb_per_month_included  2 non-null      int64 \n",
      " 2   minutes_included       2 non-null      int64 \n",
      " 3   rub_monthly_fee        2 non-null      int64 \n",
      " 4   rub_per_gb             2 non-null      int64 \n",
      " 5   rub_per_message        2 non-null      int64 \n",
      " 6   rub_per_minute         2 non-null      int64 \n",
      " 7   tariff_name            2 non-null      object\n",
      "dtypes: int64(7), object(1)\n",
      "memory usage: 256.0+ bytes\n",
      "<class 'pandas.core.frame.DataFrame'>\n",
      "RangeIndex: 500 entries, 0 to 499\n",
      "Data columns (total 8 columns):\n",
      " #   Column      Non-Null Count  Dtype \n",
      "---  ------      --------------  ----- \n",
      " 0   user_id     500 non-null    int64 \n",
      " 1   age         500 non-null    int64 \n",
      " 2   churn_date  38 non-null     object\n",
      " 3   city        500 non-null    object\n",
      " 4   first_name  500 non-null    object\n",
      " 5   last_name   500 non-null    object\n",
      " 6   reg_date    500 non-null    object\n",
      " 7   tariff      500 non-null    object\n",
      "dtypes: int64(2), object(6)\n",
      "memory usage: 31.4+ KB\n"
     ]
    }
   ],
   "source": [
    "import pandas as pd\n",
    "import math\n",
    "import numpy as np\n",
    "from scipy import stats as st\n",
    "import matplotlib.pyplot as plt\n",
    "\n",
    "calls = pd.read_csv('/datasets/calls.csv')\n",
    "internet = pd.read_csv('/datasets/internet.csv')\n",
    "messages = pd.read_csv('/datasets/messages.csv')\n",
    "tariffs = pd.read_csv('/datasets/tariffs.csv')\n",
    "users = pd.read_csv('/datasets/users.csv')\n",
    "display (calls.head(20))\n",
    "display (internet.head(20))\n",
    "display (messages.head(20))\n",
    "display (tariffs.head(20))\n",
    "display (users.head(20))\n",
    "calls.info()\n",
    "internet.info()\n",
    "messages.info()\n",
    "tariffs.info()\n",
    "users.info()"
   ]
  },
  {
   "cell_type": "markdown",
   "metadata": {},
   "source": [
    "<div class=\"alert alert-success\">\n",
    "<b>Комментарий ревьюера \"хорошее решение\":</b> Библиотеки и данные успешно загружены</div>\n"
   ]
  },
  {
   "cell_type": "markdown",
   "metadata": {},
   "source": [
    "<div class=\"alert alert-info\">\n",
    "<font color='black'> <b> По открытым таблицам с данными можно сделать следующие выводы:  \n",
    "   Столбцы с датами требует обработки. В таблице \"users\" имеются пропуски в столбце \"churn_date\". После преобразования столбца заменил пропуски в нем на последнее по хронологии время (как описано в задании, если пропуск,значит на текущую дату пользователь не ушел с тарифа) </font> <b> "
   ]
  },
  {
   "cell_type": "markdown",
   "metadata": {},
   "source": [
    "<div class=\"alert alert-success\">\n",
    "<b>Комментарий ревьюера \"хорошее решение\":</b> Рада промежуточным выводам и комментариям! Это упрощает проверку работы и внесение исправлений. \n",
    "\n",
    "По сути комментария: даты действительно требуют обработки, а вот заполнять пропуски в churn_date для целей проекта не требуется.\n"
   ]
  },
  {
   "cell_type": "markdown",
   "metadata": {},
   "source": [
    "## Подготовка данных"
   ]
  },
  {
   "cell_type": "code",
   "execution_count": 38,
   "metadata": {},
   "outputs": [
    {
     "data": {
      "text/html": [
       "<div>\n",
       "<style scoped>\n",
       "    .dataframe tbody tr th:only-of-type {\n",
       "        vertical-align: middle;\n",
       "    }\n",
       "\n",
       "    .dataframe tbody tr th {\n",
       "        vertical-align: top;\n",
       "    }\n",
       "\n",
       "    .dataframe thead th {\n",
       "        text-align: right;\n",
       "    }\n",
       "</style>\n",
       "<table border=\"1\" class=\"dataframe\">\n",
       "  <thead>\n",
       "    <tr style=\"text-align: right;\">\n",
       "      <th></th>\n",
       "      <th>id</th>\n",
       "      <th>call_date</th>\n",
       "      <th>duration</th>\n",
       "      <th>user_id</th>\n",
       "      <th>day_weekday</th>\n",
       "      <th>day_month</th>\n",
       "      <th>day_year</th>\n",
       "    </tr>\n",
       "  </thead>\n",
       "  <tbody>\n",
       "    <tr>\n",
       "      <th>0</th>\n",
       "      <td>1000_0</td>\n",
       "      <td>2018-07-25</td>\n",
       "      <td>1</td>\n",
       "      <td>1000</td>\n",
       "      <td>2</td>\n",
       "      <td>7</td>\n",
       "      <td>2018</td>\n",
       "    </tr>\n",
       "    <tr>\n",
       "      <th>1</th>\n",
       "      <td>1000_1</td>\n",
       "      <td>2018-08-17</td>\n",
       "      <td>1</td>\n",
       "      <td>1000</td>\n",
       "      <td>4</td>\n",
       "      <td>8</td>\n",
       "      <td>2018</td>\n",
       "    </tr>\n",
       "    <tr>\n",
       "      <th>2</th>\n",
       "      <td>1000_2</td>\n",
       "      <td>2018-06-11</td>\n",
       "      <td>3</td>\n",
       "      <td>1000</td>\n",
       "      <td>0</td>\n",
       "      <td>6</td>\n",
       "      <td>2018</td>\n",
       "    </tr>\n",
       "    <tr>\n",
       "      <th>3</th>\n",
       "      <td>1000_3</td>\n",
       "      <td>2018-09-21</td>\n",
       "      <td>14</td>\n",
       "      <td>1000</td>\n",
       "      <td>4</td>\n",
       "      <td>9</td>\n",
       "      <td>2018</td>\n",
       "    </tr>\n",
       "    <tr>\n",
       "      <th>4</th>\n",
       "      <td>1000_4</td>\n",
       "      <td>2018-12-15</td>\n",
       "      <td>6</td>\n",
       "      <td>1000</td>\n",
       "      <td>5</td>\n",
       "      <td>12</td>\n",
       "      <td>2018</td>\n",
       "    </tr>\n",
       "  </tbody>\n",
       "</table>\n",
       "</div>"
      ],
      "text/plain": [
       "       id  call_date  duration  user_id  day_weekday  day_month  day_year\n",
       "0  1000_0 2018-07-25         1     1000            2          7      2018\n",
       "1  1000_1 2018-08-17         1     1000            4          8      2018\n",
       "2  1000_2 2018-06-11         3     1000            0          6      2018\n",
       "3  1000_3 2018-09-21        14     1000            4          9      2018\n",
       "4  1000_4 2018-12-15         6     1000            5         12      2018"
      ]
     },
     "metadata": {},
     "output_type": "display_data"
    },
    {
     "name": "stdout",
     "output_type": "stream",
     "text": [
      "<class 'pandas.core.frame.DataFrame'>\n",
      "RangeIndex: 202607 entries, 0 to 202606\n",
      "Data columns (total 7 columns):\n",
      " #   Column       Non-Null Count   Dtype         \n",
      "---  ------       --------------   -----         \n",
      " 0   id           202607 non-null  object        \n",
      " 1   call_date    202607 non-null  datetime64[ns]\n",
      " 2   duration     202607 non-null  int64         \n",
      " 3   user_id      202607 non-null  int64         \n",
      " 4   day_weekday  202607 non-null  int64         \n",
      " 5   day_month    202607 non-null  int64         \n",
      " 6   day_year     202607 non-null  int64         \n",
      "dtypes: datetime64[ns](1), int64(5), object(1)\n",
      "memory usage: 10.8+ MB\n"
     ]
    },
    {
     "data": {
      "text/html": [
       "<div>\n",
       "<style scoped>\n",
       "    .dataframe tbody tr th:only-of-type {\n",
       "        vertical-align: middle;\n",
       "    }\n",
       "\n",
       "    .dataframe tbody tr th {\n",
       "        vertical-align: top;\n",
       "    }\n",
       "\n",
       "    .dataframe thead th {\n",
       "        text-align: right;\n",
       "    }\n",
       "</style>\n",
       "<table border=\"1\" class=\"dataframe\">\n",
       "  <thead>\n",
       "    <tr style=\"text-align: right;\">\n",
       "      <th></th>\n",
       "      <th>id</th>\n",
       "      <th>message_date</th>\n",
       "      <th>user_id</th>\n",
       "      <th>day_weekday</th>\n",
       "      <th>day_month</th>\n",
       "      <th>day_year</th>\n",
       "    </tr>\n",
       "  </thead>\n",
       "  <tbody>\n",
       "    <tr>\n",
       "      <th>0</th>\n",
       "      <td>1000_0</td>\n",
       "      <td>2018-06-27</td>\n",
       "      <td>1000</td>\n",
       "      <td>2</td>\n",
       "      <td>6</td>\n",
       "      <td>2018</td>\n",
       "    </tr>\n",
       "    <tr>\n",
       "      <th>1</th>\n",
       "      <td>1000_1</td>\n",
       "      <td>2018-10-08</td>\n",
       "      <td>1000</td>\n",
       "      <td>0</td>\n",
       "      <td>10</td>\n",
       "      <td>2018</td>\n",
       "    </tr>\n",
       "    <tr>\n",
       "      <th>2</th>\n",
       "      <td>1000_2</td>\n",
       "      <td>2018-08-04</td>\n",
       "      <td>1000</td>\n",
       "      <td>5</td>\n",
       "      <td>8</td>\n",
       "      <td>2018</td>\n",
       "    </tr>\n",
       "    <tr>\n",
       "      <th>3</th>\n",
       "      <td>1000_3</td>\n",
       "      <td>2018-06-16</td>\n",
       "      <td>1000</td>\n",
       "      <td>5</td>\n",
       "      <td>6</td>\n",
       "      <td>2018</td>\n",
       "    </tr>\n",
       "    <tr>\n",
       "      <th>4</th>\n",
       "      <td>1000_4</td>\n",
       "      <td>2018-12-05</td>\n",
       "      <td>1000</td>\n",
       "      <td>2</td>\n",
       "      <td>12</td>\n",
       "      <td>2018</td>\n",
       "    </tr>\n",
       "  </tbody>\n",
       "</table>\n",
       "</div>"
      ],
      "text/plain": [
       "       id message_date  user_id  day_weekday  day_month  day_year\n",
       "0  1000_0   2018-06-27     1000            2          6      2018\n",
       "1  1000_1   2018-10-08     1000            0         10      2018\n",
       "2  1000_2   2018-08-04     1000            5          8      2018\n",
       "3  1000_3   2018-06-16     1000            5          6      2018\n",
       "4  1000_4   2018-12-05     1000            2         12      2018"
      ]
     },
     "metadata": {},
     "output_type": "display_data"
    },
    {
     "name": "stdout",
     "output_type": "stream",
     "text": [
      "<class 'pandas.core.frame.DataFrame'>\n",
      "RangeIndex: 123036 entries, 0 to 123035\n",
      "Data columns (total 6 columns):\n",
      " #   Column        Non-Null Count   Dtype         \n",
      "---  ------        --------------   -----         \n",
      " 0   id            123036 non-null  object        \n",
      " 1   message_date  123036 non-null  datetime64[ns]\n",
      " 2   user_id       123036 non-null  int64         \n",
      " 3   day_weekday   123036 non-null  int64         \n",
      " 4   day_month     123036 non-null  int64         \n",
      " 5   day_year      123036 non-null  int64         \n",
      "dtypes: datetime64[ns](1), int64(4), object(1)\n",
      "memory usage: 5.6+ MB\n"
     ]
    }
   ],
   "source": [
    "calls['call_date'] = pd.to_datetime(calls['call_date'], format = '%Y-%m-%dT%H:%M:%S')\n",
    "calls['duration'] = calls['duration'].replace(0, 1)\n",
    "calls['duration']= np.ceil(calls['duration'])\n",
    "calls['duration']= calls['duration'].astype('int')\n",
    "calls['day_weekday'] = calls['call_date'].dt.weekday\n",
    "calls['day_month'] = calls['call_date'].dt.month\n",
    "calls['day_year'] = calls['call_date'].dt.year\n",
    "display (calls.head())\n",
    "calls.info()\n",
    "users['reg_date'] = pd.to_datetime(users['reg_date'], format = '%Y-%m-%dT%H:%M:%S')\n",
    "users['churn_date'] = pd.to_datetime(users['churn_date'], format = '%Y-%m-%dT%H:%M:%S')\n",
    "users['churn_date'] = users['churn_date'].fillna(users['churn_date'].max())\n",
    "messages['message_date'] = pd.to_datetime(messages['message_date'], format = '%Y-%m-%dT%H:%M:%S')\n",
    "messages['day_weekday'] = messages['message_date'].dt.weekday\n",
    "messages['day_month'] = messages['message_date'].dt.month\n",
    "messages['day_year'] = messages['message_date'].dt.year\n",
    "display (messages.head())\n",
    "messages.info()\n",
    "internet['session_date'] = pd.to_datetime(internet['session_date'], format = '%Y-%m-%dT%H:%M:%S')\n",
    "internet['day_weekday'] = internet['session_date'].dt.weekday\n",
    "internet['day_month'] = internet['session_date'].dt.month\n",
    "internet['day_year'] = internet['session_date'].dt.year\n"
   ]
  },
  {
   "cell_type": "markdown",
   "metadata": {},
   "source": [
    "<div class=\"alert alert-info\">\n",
    "<font color='black'> <b> Объединим 2 таблицы по общей колонке \"тариф\", предварительно передав ей единое название для обеих таблиц </font> <b> "
   ]
  },
  {
   "cell_type": "code",
   "execution_count": 3,
   "metadata": {},
   "outputs": [
    {
     "data": {
      "text/html": [
       "<div>\n",
       "<style scoped>\n",
       "    .dataframe tbody tr th:only-of-type {\n",
       "        vertical-align: middle;\n",
       "    }\n",
       "\n",
       "    .dataframe tbody tr th {\n",
       "        vertical-align: top;\n",
       "    }\n",
       "\n",
       "    .dataframe thead th {\n",
       "        text-align: right;\n",
       "    }\n",
       "</style>\n",
       "<table border=\"1\" class=\"dataframe\">\n",
       "  <thead>\n",
       "    <tr style=\"text-align: right;\">\n",
       "      <th></th>\n",
       "      <th>user_id</th>\n",
       "      <th>age</th>\n",
       "      <th>churn_date</th>\n",
       "      <th>city</th>\n",
       "      <th>first_name</th>\n",
       "      <th>last_name</th>\n",
       "      <th>reg_date</th>\n",
       "      <th>tariff_name</th>\n",
       "    </tr>\n",
       "  </thead>\n",
       "  <tbody>\n",
       "    <tr>\n",
       "      <th>0</th>\n",
       "      <td>1000</td>\n",
       "      <td>52</td>\n",
       "      <td>2018-12-30</td>\n",
       "      <td>Краснодар</td>\n",
       "      <td>Рафаил</td>\n",
       "      <td>Верещагин</td>\n",
       "      <td>2018-05-25</td>\n",
       "      <td>ultra</td>\n",
       "    </tr>\n",
       "    <tr>\n",
       "      <th>1</th>\n",
       "      <td>1001</td>\n",
       "      <td>41</td>\n",
       "      <td>2018-12-30</td>\n",
       "      <td>Москва</td>\n",
       "      <td>Иван</td>\n",
       "      <td>Ежов</td>\n",
       "      <td>2018-11-01</td>\n",
       "      <td>smart</td>\n",
       "    </tr>\n",
       "    <tr>\n",
       "      <th>2</th>\n",
       "      <td>1002</td>\n",
       "      <td>59</td>\n",
       "      <td>2018-12-30</td>\n",
       "      <td>Стерлитамак</td>\n",
       "      <td>Евгений</td>\n",
       "      <td>Абрамович</td>\n",
       "      <td>2018-06-17</td>\n",
       "      <td>smart</td>\n",
       "    </tr>\n",
       "    <tr>\n",
       "      <th>3</th>\n",
       "      <td>1003</td>\n",
       "      <td>23</td>\n",
       "      <td>2018-12-30</td>\n",
       "      <td>Москва</td>\n",
       "      <td>Белла</td>\n",
       "      <td>Белякова</td>\n",
       "      <td>2018-08-17</td>\n",
       "      <td>ultra</td>\n",
       "    </tr>\n",
       "    <tr>\n",
       "      <th>4</th>\n",
       "      <td>1004</td>\n",
       "      <td>68</td>\n",
       "      <td>2018-12-30</td>\n",
       "      <td>Новокузнецк</td>\n",
       "      <td>Татьяна</td>\n",
       "      <td>Авдеенко</td>\n",
       "      <td>2018-05-14</td>\n",
       "      <td>ultra</td>\n",
       "    </tr>\n",
       "  </tbody>\n",
       "</table>\n",
       "</div>"
      ],
      "text/plain": [
       "   user_id  age churn_date         city first_name  last_name   reg_date  \\\n",
       "0     1000   52 2018-12-30    Краснодар     Рафаил  Верещагин 2018-05-25   \n",
       "1     1001   41 2018-12-30       Москва       Иван       Ежов 2018-11-01   \n",
       "2     1002   59 2018-12-30  Стерлитамак    Евгений  Абрамович 2018-06-17   \n",
       "3     1003   23 2018-12-30       Москва      Белла   Белякова 2018-08-17   \n",
       "4     1004   68 2018-12-30  Новокузнецк    Татьяна   Авдеенко 2018-05-14   \n",
       "\n",
       "  tariff_name  \n",
       "0       ultra  \n",
       "1       smart  \n",
       "2       smart  \n",
       "3       ultra  \n",
       "4       ultra  "
      ]
     },
     "metadata": {},
     "output_type": "display_data"
    }
   ],
   "source": [
    "users.rename(columns = {'tariff':'tariff_name'}, inplace = True) \n",
    "display (users.head())"
   ]
  },
  {
   "cell_type": "code",
   "execution_count": 4,
   "metadata": {},
   "outputs": [
    {
     "data": {
      "text/html": [
       "<div>\n",
       "<style scoped>\n",
       "    .dataframe tbody tr th:only-of-type {\n",
       "        vertical-align: middle;\n",
       "    }\n",
       "\n",
       "    .dataframe tbody tr th {\n",
       "        vertical-align: top;\n",
       "    }\n",
       "\n",
       "    .dataframe thead th {\n",
       "        text-align: right;\n",
       "    }\n",
       "</style>\n",
       "<table border=\"1\" class=\"dataframe\">\n",
       "  <thead>\n",
       "    <tr style=\"text-align: right;\">\n",
       "      <th></th>\n",
       "      <th>user_id</th>\n",
       "      <th>age</th>\n",
       "      <th>churn_date</th>\n",
       "      <th>city</th>\n",
       "      <th>first_name</th>\n",
       "      <th>last_name</th>\n",
       "      <th>reg_date</th>\n",
       "      <th>tariff_name</th>\n",
       "      <th>messages_included</th>\n",
       "      <th>mb_per_month_included</th>\n",
       "      <th>minutes_included</th>\n",
       "      <th>rub_monthly_fee</th>\n",
       "      <th>rub_per_gb</th>\n",
       "      <th>rub_per_message</th>\n",
       "      <th>rub_per_minute</th>\n",
       "    </tr>\n",
       "  </thead>\n",
       "  <tbody>\n",
       "    <tr>\n",
       "      <th>0</th>\n",
       "      <td>1000</td>\n",
       "      <td>52</td>\n",
       "      <td>2018-12-30</td>\n",
       "      <td>Краснодар</td>\n",
       "      <td>Рафаил</td>\n",
       "      <td>Верещагин</td>\n",
       "      <td>2018-05-25</td>\n",
       "      <td>ultra</td>\n",
       "      <td>1000</td>\n",
       "      <td>30720</td>\n",
       "      <td>3000</td>\n",
       "      <td>1950</td>\n",
       "      <td>150</td>\n",
       "      <td>1</td>\n",
       "      <td>1</td>\n",
       "    </tr>\n",
       "    <tr>\n",
       "      <th>1</th>\n",
       "      <td>1001</td>\n",
       "      <td>41</td>\n",
       "      <td>2018-12-30</td>\n",
       "      <td>Москва</td>\n",
       "      <td>Иван</td>\n",
       "      <td>Ежов</td>\n",
       "      <td>2018-11-01</td>\n",
       "      <td>smart</td>\n",
       "      <td>50</td>\n",
       "      <td>15360</td>\n",
       "      <td>500</td>\n",
       "      <td>550</td>\n",
       "      <td>200</td>\n",
       "      <td>3</td>\n",
       "      <td>3</td>\n",
       "    </tr>\n",
       "    <tr>\n",
       "      <th>2</th>\n",
       "      <td>1002</td>\n",
       "      <td>59</td>\n",
       "      <td>2018-12-30</td>\n",
       "      <td>Стерлитамак</td>\n",
       "      <td>Евгений</td>\n",
       "      <td>Абрамович</td>\n",
       "      <td>2018-06-17</td>\n",
       "      <td>smart</td>\n",
       "      <td>50</td>\n",
       "      <td>15360</td>\n",
       "      <td>500</td>\n",
       "      <td>550</td>\n",
       "      <td>200</td>\n",
       "      <td>3</td>\n",
       "      <td>3</td>\n",
       "    </tr>\n",
       "    <tr>\n",
       "      <th>3</th>\n",
       "      <td>1003</td>\n",
       "      <td>23</td>\n",
       "      <td>2018-12-30</td>\n",
       "      <td>Москва</td>\n",
       "      <td>Белла</td>\n",
       "      <td>Белякова</td>\n",
       "      <td>2018-08-17</td>\n",
       "      <td>ultra</td>\n",
       "      <td>1000</td>\n",
       "      <td>30720</td>\n",
       "      <td>3000</td>\n",
       "      <td>1950</td>\n",
       "      <td>150</td>\n",
       "      <td>1</td>\n",
       "      <td>1</td>\n",
       "    </tr>\n",
       "    <tr>\n",
       "      <th>4</th>\n",
       "      <td>1004</td>\n",
       "      <td>68</td>\n",
       "      <td>2018-12-30</td>\n",
       "      <td>Новокузнецк</td>\n",
       "      <td>Татьяна</td>\n",
       "      <td>Авдеенко</td>\n",
       "      <td>2018-05-14</td>\n",
       "      <td>ultra</td>\n",
       "      <td>1000</td>\n",
       "      <td>30720</td>\n",
       "      <td>3000</td>\n",
       "      <td>1950</td>\n",
       "      <td>150</td>\n",
       "      <td>1</td>\n",
       "      <td>1</td>\n",
       "    </tr>\n",
       "  </tbody>\n",
       "</table>\n",
       "</div>"
      ],
      "text/plain": [
       "   user_id  age churn_date         city first_name  last_name   reg_date  \\\n",
       "0     1000   52 2018-12-30    Краснодар     Рафаил  Верещагин 2018-05-25   \n",
       "1     1001   41 2018-12-30       Москва       Иван       Ежов 2018-11-01   \n",
       "2     1002   59 2018-12-30  Стерлитамак    Евгений  Абрамович 2018-06-17   \n",
       "3     1003   23 2018-12-30       Москва      Белла   Белякова 2018-08-17   \n",
       "4     1004   68 2018-12-30  Новокузнецк    Татьяна   Авдеенко 2018-05-14   \n",
       "\n",
       "  tariff_name  messages_included  mb_per_month_included  minutes_included  \\\n",
       "0       ultra               1000                  30720              3000   \n",
       "1       smart                 50                  15360               500   \n",
       "2       smart                 50                  15360               500   \n",
       "3       ultra               1000                  30720              3000   \n",
       "4       ultra               1000                  30720              3000   \n",
       "\n",
       "   rub_monthly_fee  rub_per_gb  rub_per_message  rub_per_minute  \n",
       "0             1950         150                1               1  \n",
       "1              550         200                3               3  \n",
       "2              550         200                3               3  \n",
       "3             1950         150                1               1  \n",
       "4             1950         150                1               1  "
      ]
     },
     "metadata": {},
     "output_type": "display_data"
    }
   ],
   "source": [
    "users_tariffs=users.merge(tariffs, on = ['tariff_name'], how = 'left')\n",
    "display (users_tariffs.head())\n"
   ]
  },
  {
   "cell_type": "markdown",
   "metadata": {},
   "source": [
    "<div class=\"alert alert-info\">\n",
    "<font color='black'> <b> Объединим следующие 2 таблицы \"user_tariffs\" и  \"calls\" по общей колонке \"user_id\"</font> <b> "
   ]
  },
  {
   "cell_type": "code",
   "execution_count": 5,
   "metadata": {},
   "outputs": [
    {
     "data": {
      "text/html": [
       "<div>\n",
       "<style scoped>\n",
       "    .dataframe tbody tr th:only-of-type {\n",
       "        vertical-align: middle;\n",
       "    }\n",
       "\n",
       "    .dataframe tbody tr th {\n",
       "        vertical-align: top;\n",
       "    }\n",
       "\n",
       "    .dataframe thead th {\n",
       "        text-align: right;\n",
       "    }\n",
       "</style>\n",
       "<table border=\"1\" class=\"dataframe\">\n",
       "  <thead>\n",
       "    <tr style=\"text-align: right;\">\n",
       "      <th></th>\n",
       "      <th>user_id</th>\n",
       "      <th>age</th>\n",
       "      <th>churn_date</th>\n",
       "      <th>city</th>\n",
       "      <th>first_name</th>\n",
       "      <th>last_name</th>\n",
       "      <th>reg_date</th>\n",
       "      <th>tariff_name</th>\n",
       "      <th>messages_included</th>\n",
       "      <th>mb_per_month_included</th>\n",
       "      <th>...</th>\n",
       "      <th>rub_monthly_fee</th>\n",
       "      <th>rub_per_gb</th>\n",
       "      <th>rub_per_message</th>\n",
       "      <th>rub_per_minute</th>\n",
       "      <th>id</th>\n",
       "      <th>call_date</th>\n",
       "      <th>duration</th>\n",
       "      <th>day_weekday</th>\n",
       "      <th>day_month</th>\n",
       "      <th>day_year</th>\n",
       "    </tr>\n",
       "  </thead>\n",
       "  <tbody>\n",
       "    <tr>\n",
       "      <th>0</th>\n",
       "      <td>1000</td>\n",
       "      <td>52</td>\n",
       "      <td>2018-12-30</td>\n",
       "      <td>Краснодар</td>\n",
       "      <td>Рафаил</td>\n",
       "      <td>Верещагин</td>\n",
       "      <td>2018-05-25</td>\n",
       "      <td>ultra</td>\n",
       "      <td>1000</td>\n",
       "      <td>30720</td>\n",
       "      <td>...</td>\n",
       "      <td>1950</td>\n",
       "      <td>150</td>\n",
       "      <td>1</td>\n",
       "      <td>1</td>\n",
       "      <td>1000_0</td>\n",
       "      <td>2018-07-25</td>\n",
       "      <td>1.0</td>\n",
       "      <td>2.0</td>\n",
       "      <td>7.0</td>\n",
       "      <td>2018.0</td>\n",
       "    </tr>\n",
       "    <tr>\n",
       "      <th>1</th>\n",
       "      <td>1000</td>\n",
       "      <td>52</td>\n",
       "      <td>2018-12-30</td>\n",
       "      <td>Краснодар</td>\n",
       "      <td>Рафаил</td>\n",
       "      <td>Верещагин</td>\n",
       "      <td>2018-05-25</td>\n",
       "      <td>ultra</td>\n",
       "      <td>1000</td>\n",
       "      <td>30720</td>\n",
       "      <td>...</td>\n",
       "      <td>1950</td>\n",
       "      <td>150</td>\n",
       "      <td>1</td>\n",
       "      <td>1</td>\n",
       "      <td>1000_1</td>\n",
       "      <td>2018-08-17</td>\n",
       "      <td>1.0</td>\n",
       "      <td>4.0</td>\n",
       "      <td>8.0</td>\n",
       "      <td>2018.0</td>\n",
       "    </tr>\n",
       "    <tr>\n",
       "      <th>2</th>\n",
       "      <td>1000</td>\n",
       "      <td>52</td>\n",
       "      <td>2018-12-30</td>\n",
       "      <td>Краснодар</td>\n",
       "      <td>Рафаил</td>\n",
       "      <td>Верещагин</td>\n",
       "      <td>2018-05-25</td>\n",
       "      <td>ultra</td>\n",
       "      <td>1000</td>\n",
       "      <td>30720</td>\n",
       "      <td>...</td>\n",
       "      <td>1950</td>\n",
       "      <td>150</td>\n",
       "      <td>1</td>\n",
       "      <td>1</td>\n",
       "      <td>1000_2</td>\n",
       "      <td>2018-06-11</td>\n",
       "      <td>3.0</td>\n",
       "      <td>0.0</td>\n",
       "      <td>6.0</td>\n",
       "      <td>2018.0</td>\n",
       "    </tr>\n",
       "    <tr>\n",
       "      <th>3</th>\n",
       "      <td>1000</td>\n",
       "      <td>52</td>\n",
       "      <td>2018-12-30</td>\n",
       "      <td>Краснодар</td>\n",
       "      <td>Рафаил</td>\n",
       "      <td>Верещагин</td>\n",
       "      <td>2018-05-25</td>\n",
       "      <td>ultra</td>\n",
       "      <td>1000</td>\n",
       "      <td>30720</td>\n",
       "      <td>...</td>\n",
       "      <td>1950</td>\n",
       "      <td>150</td>\n",
       "      <td>1</td>\n",
       "      <td>1</td>\n",
       "      <td>1000_3</td>\n",
       "      <td>2018-09-21</td>\n",
       "      <td>14.0</td>\n",
       "      <td>4.0</td>\n",
       "      <td>9.0</td>\n",
       "      <td>2018.0</td>\n",
       "    </tr>\n",
       "    <tr>\n",
       "      <th>4</th>\n",
       "      <td>1000</td>\n",
       "      <td>52</td>\n",
       "      <td>2018-12-30</td>\n",
       "      <td>Краснодар</td>\n",
       "      <td>Рафаил</td>\n",
       "      <td>Верещагин</td>\n",
       "      <td>2018-05-25</td>\n",
       "      <td>ultra</td>\n",
       "      <td>1000</td>\n",
       "      <td>30720</td>\n",
       "      <td>...</td>\n",
       "      <td>1950</td>\n",
       "      <td>150</td>\n",
       "      <td>1</td>\n",
       "      <td>1</td>\n",
       "      <td>1000_4</td>\n",
       "      <td>2018-12-15</td>\n",
       "      <td>6.0</td>\n",
       "      <td>5.0</td>\n",
       "      <td>12.0</td>\n",
       "      <td>2018.0</td>\n",
       "    </tr>\n",
       "    <tr>\n",
       "      <th>...</th>\n",
       "      <td>...</td>\n",
       "      <td>...</td>\n",
       "      <td>...</td>\n",
       "      <td>...</td>\n",
       "      <td>...</td>\n",
       "      <td>...</td>\n",
       "      <td>...</td>\n",
       "      <td>...</td>\n",
       "      <td>...</td>\n",
       "      <td>...</td>\n",
       "      <td>...</td>\n",
       "      <td>...</td>\n",
       "      <td>...</td>\n",
       "      <td>...</td>\n",
       "      <td>...</td>\n",
       "      <td>...</td>\n",
       "      <td>...</td>\n",
       "      <td>...</td>\n",
       "      <td>...</td>\n",
       "      <td>...</td>\n",
       "      <td>...</td>\n",
       "    </tr>\n",
       "    <tr>\n",
       "      <th>202610</th>\n",
       "      <td>1499</td>\n",
       "      <td>35</td>\n",
       "      <td>2018-12-30</td>\n",
       "      <td>Пермь</td>\n",
       "      <td>Гектор</td>\n",
       "      <td>Корнилов</td>\n",
       "      <td>2018-09-27</td>\n",
       "      <td>smart</td>\n",
       "      <td>50</td>\n",
       "      <td>15360</td>\n",
       "      <td>...</td>\n",
       "      <td>550</td>\n",
       "      <td>200</td>\n",
       "      <td>3</td>\n",
       "      <td>3</td>\n",
       "      <td>1499_215</td>\n",
       "      <td>2018-12-26</td>\n",
       "      <td>1.0</td>\n",
       "      <td>2.0</td>\n",
       "      <td>12.0</td>\n",
       "      <td>2018.0</td>\n",
       "    </tr>\n",
       "    <tr>\n",
       "      <th>202611</th>\n",
       "      <td>1499</td>\n",
       "      <td>35</td>\n",
       "      <td>2018-12-30</td>\n",
       "      <td>Пермь</td>\n",
       "      <td>Гектор</td>\n",
       "      <td>Корнилов</td>\n",
       "      <td>2018-09-27</td>\n",
       "      <td>smart</td>\n",
       "      <td>50</td>\n",
       "      <td>15360</td>\n",
       "      <td>...</td>\n",
       "      <td>550</td>\n",
       "      <td>200</td>\n",
       "      <td>3</td>\n",
       "      <td>3</td>\n",
       "      <td>1499_216</td>\n",
       "      <td>2018-10-18</td>\n",
       "      <td>19.0</td>\n",
       "      <td>3.0</td>\n",
       "      <td>10.0</td>\n",
       "      <td>2018.0</td>\n",
       "    </tr>\n",
       "    <tr>\n",
       "      <th>202612</th>\n",
       "      <td>1499</td>\n",
       "      <td>35</td>\n",
       "      <td>2018-12-30</td>\n",
       "      <td>Пермь</td>\n",
       "      <td>Гектор</td>\n",
       "      <td>Корнилов</td>\n",
       "      <td>2018-09-27</td>\n",
       "      <td>smart</td>\n",
       "      <td>50</td>\n",
       "      <td>15360</td>\n",
       "      <td>...</td>\n",
       "      <td>550</td>\n",
       "      <td>200</td>\n",
       "      <td>3</td>\n",
       "      <td>3</td>\n",
       "      <td>1499_217</td>\n",
       "      <td>2018-11-10</td>\n",
       "      <td>11.0</td>\n",
       "      <td>5.0</td>\n",
       "      <td>11.0</td>\n",
       "      <td>2018.0</td>\n",
       "    </tr>\n",
       "    <tr>\n",
       "      <th>202613</th>\n",
       "      <td>1499</td>\n",
       "      <td>35</td>\n",
       "      <td>2018-12-30</td>\n",
       "      <td>Пермь</td>\n",
       "      <td>Гектор</td>\n",
       "      <td>Корнилов</td>\n",
       "      <td>2018-09-27</td>\n",
       "      <td>smart</td>\n",
       "      <td>50</td>\n",
       "      <td>15360</td>\n",
       "      <td>...</td>\n",
       "      <td>550</td>\n",
       "      <td>200</td>\n",
       "      <td>3</td>\n",
       "      <td>3</td>\n",
       "      <td>1499_218</td>\n",
       "      <td>2018-10-06</td>\n",
       "      <td>5.0</td>\n",
       "      <td>5.0</td>\n",
       "      <td>10.0</td>\n",
       "      <td>2018.0</td>\n",
       "    </tr>\n",
       "    <tr>\n",
       "      <th>202614</th>\n",
       "      <td>1499</td>\n",
       "      <td>35</td>\n",
       "      <td>2018-12-30</td>\n",
       "      <td>Пермь</td>\n",
       "      <td>Гектор</td>\n",
       "      <td>Корнилов</td>\n",
       "      <td>2018-09-27</td>\n",
       "      <td>smart</td>\n",
       "      <td>50</td>\n",
       "      <td>15360</td>\n",
       "      <td>...</td>\n",
       "      <td>550</td>\n",
       "      <td>200</td>\n",
       "      <td>3</td>\n",
       "      <td>3</td>\n",
       "      <td>1499_219</td>\n",
       "      <td>2018-12-14</td>\n",
       "      <td>20.0</td>\n",
       "      <td>4.0</td>\n",
       "      <td>12.0</td>\n",
       "      <td>2018.0</td>\n",
       "    </tr>\n",
       "  </tbody>\n",
       "</table>\n",
       "<p>202615 rows × 21 columns</p>\n",
       "</div>"
      ],
      "text/plain": [
       "        user_id  age churn_date       city first_name  last_name   reg_date  \\\n",
       "0          1000   52 2018-12-30  Краснодар     Рафаил  Верещагин 2018-05-25   \n",
       "1          1000   52 2018-12-30  Краснодар     Рафаил  Верещагин 2018-05-25   \n",
       "2          1000   52 2018-12-30  Краснодар     Рафаил  Верещагин 2018-05-25   \n",
       "3          1000   52 2018-12-30  Краснодар     Рафаил  Верещагин 2018-05-25   \n",
       "4          1000   52 2018-12-30  Краснодар     Рафаил  Верещагин 2018-05-25   \n",
       "...         ...  ...        ...        ...        ...        ...        ...   \n",
       "202610     1499   35 2018-12-30      Пермь     Гектор   Корнилов 2018-09-27   \n",
       "202611     1499   35 2018-12-30      Пермь     Гектор   Корнилов 2018-09-27   \n",
       "202612     1499   35 2018-12-30      Пермь     Гектор   Корнилов 2018-09-27   \n",
       "202613     1499   35 2018-12-30      Пермь     Гектор   Корнилов 2018-09-27   \n",
       "202614     1499   35 2018-12-30      Пермь     Гектор   Корнилов 2018-09-27   \n",
       "\n",
       "       tariff_name  messages_included  mb_per_month_included  ...  \\\n",
       "0            ultra               1000                  30720  ...   \n",
       "1            ultra               1000                  30720  ...   \n",
       "2            ultra               1000                  30720  ...   \n",
       "3            ultra               1000                  30720  ...   \n",
       "4            ultra               1000                  30720  ...   \n",
       "...            ...                ...                    ...  ...   \n",
       "202610       smart                 50                  15360  ...   \n",
       "202611       smart                 50                  15360  ...   \n",
       "202612       smart                 50                  15360  ...   \n",
       "202613       smart                 50                  15360  ...   \n",
       "202614       smart                 50                  15360  ...   \n",
       "\n",
       "        rub_monthly_fee  rub_per_gb  rub_per_message  rub_per_minute  \\\n",
       "0                  1950         150                1               1   \n",
       "1                  1950         150                1               1   \n",
       "2                  1950         150                1               1   \n",
       "3                  1950         150                1               1   \n",
       "4                  1950         150                1               1   \n",
       "...                 ...         ...              ...             ...   \n",
       "202610              550         200                3               3   \n",
       "202611              550         200                3               3   \n",
       "202612              550         200                3               3   \n",
       "202613              550         200                3               3   \n",
       "202614              550         200                3               3   \n",
       "\n",
       "              id  call_date duration  day_weekday  day_month  day_year  \n",
       "0         1000_0 2018-07-25      1.0          2.0        7.0    2018.0  \n",
       "1         1000_1 2018-08-17      1.0          4.0        8.0    2018.0  \n",
       "2         1000_2 2018-06-11      3.0          0.0        6.0    2018.0  \n",
       "3         1000_3 2018-09-21     14.0          4.0        9.0    2018.0  \n",
       "4         1000_4 2018-12-15      6.0          5.0       12.0    2018.0  \n",
       "...          ...        ...      ...          ...        ...       ...  \n",
       "202610  1499_215 2018-12-26      1.0          2.0       12.0    2018.0  \n",
       "202611  1499_216 2018-10-18     19.0          3.0       10.0    2018.0  \n",
       "202612  1499_217 2018-11-10     11.0          5.0       11.0    2018.0  \n",
       "202613  1499_218 2018-10-06      5.0          5.0       10.0    2018.0  \n",
       "202614  1499_219 2018-12-14     20.0          4.0       12.0    2018.0  \n",
       "\n",
       "[202615 rows x 21 columns]"
      ]
     },
     "metadata": {},
     "output_type": "display_data"
    }
   ],
   "source": [
    "users_tariffs_calls=users_tariffs.merge(calls, on = ['user_id'], how = 'left')\n",
    "display (users_tariffs_calls)"
   ]
  },
  {
   "cell_type": "markdown",
   "metadata": {},
   "source": [
    "<div class=\"alert alert-info\">\n",
    "<font color='black'> <b> Сделаем сводную таблицу для расчета количества звонков и их суммарной длительности </font> <b>"
   ]
  },
  {
   "cell_type": "markdown",
   "metadata": {},
   "source": [
    "<div class=\"alert alert-danger\">\n",
    "<b>Комментарий ревьюера \"ошибка\":</b> По условиям тарифа каждый звонок округляется до целой минуты, поэтому общая продолжительность звонков в месяц должна получиться больше.\n",
    " <div class=\"alert alert-info\"> <b>Комментарий студента:</b> Заменил звонки с нулевой продолжительностью на звонки с минутной продолжительностью и округлил до ближайшего верхнего числа</div>\n"
   ]
  },
  {
   "cell_type": "markdown",
   "metadata": {},
   "source": [
    "<div class=\"alert alert-success\">\n",
    "<b>Комментарий ревьюера ✔️:</b> Отлично!\n",
    "\n",
    "Насчет замены нулевых звонков на минутные, кстати, спорный момент. Кто-то трактует их как пропущенные и округляет только ненулевые звонки. Но это в любом случае не ошибка.</div>"
   ]
  },
  {
   "cell_type": "code",
   "execution_count": 6,
   "metadata": {},
   "outputs": [
    {
     "data": {
      "text/html": [
       "<div>\n",
       "<style scoped>\n",
       "    .dataframe tbody tr th:only-of-type {\n",
       "        vertical-align: middle;\n",
       "    }\n",
       "\n",
       "    .dataframe tbody tr th {\n",
       "        vertical-align: top;\n",
       "    }\n",
       "\n",
       "    .dataframe thead tr th {\n",
       "        text-align: left;\n",
       "    }\n",
       "\n",
       "    .dataframe thead tr:last-of-type th {\n",
       "        text-align: right;\n",
       "    }\n",
       "</style>\n",
       "<table border=\"1\" class=\"dataframe\">\n",
       "  <thead>\n",
       "    <tr>\n",
       "      <th></th>\n",
       "      <th></th>\n",
       "      <th></th>\n",
       "      <th></th>\n",
       "      <th></th>\n",
       "      <th></th>\n",
       "      <th></th>\n",
       "      <th></th>\n",
       "      <th></th>\n",
       "      <th></th>\n",
       "      <th></th>\n",
       "      <th></th>\n",
       "      <th>count</th>\n",
       "      <th>sum</th>\n",
       "    </tr>\n",
       "    <tr>\n",
       "      <th></th>\n",
       "      <th></th>\n",
       "      <th></th>\n",
       "      <th></th>\n",
       "      <th></th>\n",
       "      <th></th>\n",
       "      <th></th>\n",
       "      <th></th>\n",
       "      <th></th>\n",
       "      <th></th>\n",
       "      <th></th>\n",
       "      <th></th>\n",
       "      <th>duration</th>\n",
       "      <th>duration</th>\n",
       "    </tr>\n",
       "    <tr>\n",
       "      <th>user_id</th>\n",
       "      <th>age</th>\n",
       "      <th>city</th>\n",
       "      <th>day_month</th>\n",
       "      <th>tariff_name</th>\n",
       "      <th>rub_monthly_fee</th>\n",
       "      <th>minutes_included</th>\n",
       "      <th>messages_included</th>\n",
       "      <th>rub_per_message</th>\n",
       "      <th>rub_per_gb</th>\n",
       "      <th>rub_per_minute</th>\n",
       "      <th>mb_per_month_included</th>\n",
       "      <th></th>\n",
       "      <th></th>\n",
       "    </tr>\n",
       "  </thead>\n",
       "  <tbody>\n",
       "    <tr>\n",
       "      <th rowspan=\"5\" valign=\"top\">1000</th>\n",
       "      <th rowspan=\"5\" valign=\"top\">52</th>\n",
       "      <th rowspan=\"5\" valign=\"top\">Краснодар</th>\n",
       "      <th>5.0</th>\n",
       "      <th>ultra</th>\n",
       "      <th>1950</th>\n",
       "      <th>3000</th>\n",
       "      <th>1000</th>\n",
       "      <th>1</th>\n",
       "      <th>150</th>\n",
       "      <th>1</th>\n",
       "      <th>30720</th>\n",
       "      <td>22</td>\n",
       "      <td>164.0</td>\n",
       "    </tr>\n",
       "    <tr>\n",
       "      <th>6.0</th>\n",
       "      <th>ultra</th>\n",
       "      <th>1950</th>\n",
       "      <th>3000</th>\n",
       "      <th>1000</th>\n",
       "      <th>1</th>\n",
       "      <th>150</th>\n",
       "      <th>1</th>\n",
       "      <th>30720</th>\n",
       "      <td>43</td>\n",
       "      <td>187.0</td>\n",
       "    </tr>\n",
       "    <tr>\n",
       "      <th>7.0</th>\n",
       "      <th>ultra</th>\n",
       "      <th>1950</th>\n",
       "      <th>3000</th>\n",
       "      <th>1000</th>\n",
       "      <th>1</th>\n",
       "      <th>150</th>\n",
       "      <th>1</th>\n",
       "      <th>30720</th>\n",
       "      <td>47</td>\n",
       "      <td>346.0</td>\n",
       "    </tr>\n",
       "    <tr>\n",
       "      <th>8.0</th>\n",
       "      <th>ultra</th>\n",
       "      <th>1950</th>\n",
       "      <th>3000</th>\n",
       "      <th>1000</th>\n",
       "      <th>1</th>\n",
       "      <th>150</th>\n",
       "      <th>1</th>\n",
       "      <th>30720</th>\n",
       "      <td>52</td>\n",
       "      <td>418.0</td>\n",
       "    </tr>\n",
       "    <tr>\n",
       "      <th>9.0</th>\n",
       "      <th>ultra</th>\n",
       "      <th>1950</th>\n",
       "      <th>3000</th>\n",
       "      <th>1000</th>\n",
       "      <th>1</th>\n",
       "      <th>150</th>\n",
       "      <th>1</th>\n",
       "      <th>30720</th>\n",
       "      <td>58</td>\n",
       "      <td>478.0</td>\n",
       "    </tr>\n",
       "    <tr>\n",
       "      <th>...</th>\n",
       "      <th>...</th>\n",
       "      <th>...</th>\n",
       "      <th>...</th>\n",
       "      <th>...</th>\n",
       "      <th>...</th>\n",
       "      <th>...</th>\n",
       "      <th>...</th>\n",
       "      <th>...</th>\n",
       "      <th>...</th>\n",
       "      <th>...</th>\n",
       "      <th>...</th>\n",
       "      <td>...</td>\n",
       "      <td>...</td>\n",
       "    </tr>\n",
       "    <tr>\n",
       "      <th>1498</th>\n",
       "      <th>68</th>\n",
       "      <th>Владикавказ</th>\n",
       "      <th>10.0</th>\n",
       "      <th>smart</th>\n",
       "      <th>550</th>\n",
       "      <th>500</th>\n",
       "      <th>50</th>\n",
       "      <th>3</th>\n",
       "      <th>200</th>\n",
       "      <th>3</th>\n",
       "      <th>15360</th>\n",
       "      <td>41</td>\n",
       "      <td>258.0</td>\n",
       "    </tr>\n",
       "    <tr>\n",
       "      <th rowspan=\"4\" valign=\"top\">1499</th>\n",
       "      <th rowspan=\"4\" valign=\"top\">35</th>\n",
       "      <th rowspan=\"4\" valign=\"top\">Пермь</th>\n",
       "      <th>9.0</th>\n",
       "      <th>smart</th>\n",
       "      <th>550</th>\n",
       "      <th>500</th>\n",
       "      <th>50</th>\n",
       "      <th>3</th>\n",
       "      <th>200</th>\n",
       "      <th>3</th>\n",
       "      <th>15360</th>\n",
       "      <td>9</td>\n",
       "      <td>71.0</td>\n",
       "    </tr>\n",
       "    <tr>\n",
       "      <th>10.0</th>\n",
       "      <th>smart</th>\n",
       "      <th>550</th>\n",
       "      <th>500</th>\n",
       "      <th>50</th>\n",
       "      <th>3</th>\n",
       "      <th>200</th>\n",
       "      <th>3</th>\n",
       "      <th>15360</th>\n",
       "      <td>68</td>\n",
       "      <td>473.0</td>\n",
       "    </tr>\n",
       "    <tr>\n",
       "      <th>11.0</th>\n",
       "      <th>smart</th>\n",
       "      <th>550</th>\n",
       "      <th>500</th>\n",
       "      <th>50</th>\n",
       "      <th>3</th>\n",
       "      <th>200</th>\n",
       "      <th>3</th>\n",
       "      <th>15360</th>\n",
       "      <td>74</td>\n",
       "      <td>624.0</td>\n",
       "    </tr>\n",
       "    <tr>\n",
       "      <th>12.0</th>\n",
       "      <th>smart</th>\n",
       "      <th>550</th>\n",
       "      <th>500</th>\n",
       "      <th>50</th>\n",
       "      <th>3</th>\n",
       "      <th>200</th>\n",
       "      <th>3</th>\n",
       "      <th>15360</th>\n",
       "      <td>69</td>\n",
       "      <td>505.0</td>\n",
       "    </tr>\n",
       "  </tbody>\n",
       "</table>\n",
       "<p>3174 rows × 2 columns</p>\n",
       "</div>"
      ],
      "text/plain": [
       "                                                                                                                                                                    count  \\\n",
       "                                                                                                                                                                 duration   \n",
       "user_id age city        day_month tariff_name rub_monthly_fee minutes_included messages_included rub_per_message rub_per_gb rub_per_minute mb_per_month_included            \n",
       "1000    52  Краснодар   5.0       ultra       1950            3000             1000              1               150        1              30720                       22   \n",
       "                        6.0       ultra       1950            3000             1000              1               150        1              30720                       43   \n",
       "                        7.0       ultra       1950            3000             1000              1               150        1              30720                       47   \n",
       "                        8.0       ultra       1950            3000             1000              1               150        1              30720                       52   \n",
       "                        9.0       ultra       1950            3000             1000              1               150        1              30720                       58   \n",
       "...                                                                                                                                                                   ...   \n",
       "1498    68  Владикавказ 10.0      smart       550             500              50                3               200        3              15360                       41   \n",
       "1499    35  Пермь       9.0       smart       550             500              50                3               200        3              15360                        9   \n",
       "                        10.0      smart       550             500              50                3               200        3              15360                       68   \n",
       "                        11.0      smart       550             500              50                3               200        3              15360                       74   \n",
       "                        12.0      smart       550             500              50                3               200        3              15360                       69   \n",
       "\n",
       "                                                                                                                                                                      sum  \n",
       "                                                                                                                                                                 duration  \n",
       "user_id age city        day_month tariff_name rub_monthly_fee minutes_included messages_included rub_per_message rub_per_gb rub_per_minute mb_per_month_included           \n",
       "1000    52  Краснодар   5.0       ultra       1950            3000             1000              1               150        1              30720                    164.0  \n",
       "                        6.0       ultra       1950            3000             1000              1               150        1              30720                    187.0  \n",
       "                        7.0       ultra       1950            3000             1000              1               150        1              30720                    346.0  \n",
       "                        8.0       ultra       1950            3000             1000              1               150        1              30720                    418.0  \n",
       "                        9.0       ultra       1950            3000             1000              1               150        1              30720                    478.0  \n",
       "...                                                                                                                                                                   ...  \n",
       "1498    68  Владикавказ 10.0      smart       550             500              50                3               200        3              15360                    258.0  \n",
       "1499    35  Пермь       9.0       smart       550             500              50                3               200        3              15360                     71.0  \n",
       "                        10.0      smart       550             500              50                3               200        3              15360                    473.0  \n",
       "                        11.0      smart       550             500              50                3               200        3              15360                    624.0  \n",
       "                        12.0      smart       550             500              50                3               200        3              15360                    505.0  \n",
       "\n",
       "[3174 rows x 2 columns]"
      ]
     },
     "metadata": {},
     "output_type": "display_data"
    }
   ],
   "source": [
    "month_calls = users_tariffs_calls.pivot_table(index = ['user_id', 'age', 'city', 'day_month', 'tariff_name', 'rub_monthly_fee', 'minutes_included', 'messages_included', 'rub_per_message', 'rub_per_gb', 'rub_per_minute', 'mb_per_month_included'], values = ['duration'], aggfunc=['count', 'sum'])\n",
    "display(month_calls) \n"
   ]
  },
  {
   "cell_type": "markdown",
   "metadata": {},
   "source": [
    "<div class=\"alert alert-danger\">\n",
    "<b>Комментарий ревьюера \"ошибка\":</b> на этом этапе потерялось 8 пользователей!\n",
    "     <div class=\"alert alert-info\"> <b>Комментарий студента:</b> Не понимаю, как исправить   </div>"
   ]
  },
  {
   "cell_type": "markdown",
   "metadata": {},
   "source": [
    "<div class=\"alert alert-warning\">\n",
    "<b>2 Комментарий ревьюера ⚠️:</b> После объединения осталось 492 пользователя - это как раз столько, сколько было в таблице со звонками. Думаю, ты знаешь, как это посмотреть, но на всякий случай:\n",
    "\n",
    "        calls['user_id'].nunique()\n",
    "\n",
    "То есть 8 человек у нас никуда никогда не звонили. Далее ты соединяешь users и calls (how = left), что логично, и в итоговом датафрейме у нас теперь 8 пользователей, которые никому не звонили и часть значений в строках осталась пустыми, что тоже нормально. После всех объединений ты делаешь pivot_table с огромным мульти-индексом. И в этот момент те ребята, у которых были пропуски в столбцах для мультииндекса, выпадают.\n",
    "\n",
    "Самый простой путь исправить это - после объединения таблиц заполнить все пропуски (NaN) нулями. Но, возможно, так просто не получится, потому что пропуски не только в услугах, но и номере месяца, например, и его заменять нулем уже не очень корректно. "
   ]
  },
  {
   "cell_type": "code",
   "execution_count": 7,
   "metadata": {},
   "outputs": [
    {
     "data": {
      "text/html": [
       "<div>\n",
       "<style scoped>\n",
       "    .dataframe tbody tr th:only-of-type {\n",
       "        vertical-align: middle;\n",
       "    }\n",
       "\n",
       "    .dataframe tbody tr th {\n",
       "        vertical-align: top;\n",
       "    }\n",
       "\n",
       "    .dataframe thead th {\n",
       "        text-align: right;\n",
       "    }\n",
       "</style>\n",
       "<table border=\"1\" class=\"dataframe\">\n",
       "  <thead>\n",
       "    <tr style=\"text-align: right;\">\n",
       "      <th></th>\n",
       "      <th>user_id</th>\n",
       "      <th>age</th>\n",
       "      <th>churn_date</th>\n",
       "      <th>city</th>\n",
       "      <th>first_name</th>\n",
       "      <th>last_name</th>\n",
       "      <th>reg_date</th>\n",
       "      <th>tariff_name</th>\n",
       "      <th>messages_included</th>\n",
       "      <th>mb_per_month_included</th>\n",
       "      <th>minutes_included</th>\n",
       "      <th>rub_monthly_fee</th>\n",
       "      <th>rub_per_gb</th>\n",
       "      <th>rub_per_message</th>\n",
       "      <th>rub_per_minute</th>\n",
       "      <th>id</th>\n",
       "      <th>message_date</th>\n",
       "      <th>day_weekday</th>\n",
       "      <th>day_month</th>\n",
       "      <th>day_year</th>\n",
       "    </tr>\n",
       "  </thead>\n",
       "  <tbody>\n",
       "    <tr>\n",
       "      <th>0</th>\n",
       "      <td>1000</td>\n",
       "      <td>52</td>\n",
       "      <td>2018-12-30</td>\n",
       "      <td>Краснодар</td>\n",
       "      <td>Рафаил</td>\n",
       "      <td>Верещагин</td>\n",
       "      <td>2018-05-25</td>\n",
       "      <td>ultra</td>\n",
       "      <td>1000</td>\n",
       "      <td>30720</td>\n",
       "      <td>3000</td>\n",
       "      <td>1950</td>\n",
       "      <td>150</td>\n",
       "      <td>1</td>\n",
       "      <td>1</td>\n",
       "      <td>1000_0</td>\n",
       "      <td>2018-06-27</td>\n",
       "      <td>2.0</td>\n",
       "      <td>6.0</td>\n",
       "      <td>2018.0</td>\n",
       "    </tr>\n",
       "    <tr>\n",
       "      <th>1</th>\n",
       "      <td>1000</td>\n",
       "      <td>52</td>\n",
       "      <td>2018-12-30</td>\n",
       "      <td>Краснодар</td>\n",
       "      <td>Рафаил</td>\n",
       "      <td>Верещагин</td>\n",
       "      <td>2018-05-25</td>\n",
       "      <td>ultra</td>\n",
       "      <td>1000</td>\n",
       "      <td>30720</td>\n",
       "      <td>3000</td>\n",
       "      <td>1950</td>\n",
       "      <td>150</td>\n",
       "      <td>1</td>\n",
       "      <td>1</td>\n",
       "      <td>1000_1</td>\n",
       "      <td>2018-10-08</td>\n",
       "      <td>0.0</td>\n",
       "      <td>10.0</td>\n",
       "      <td>2018.0</td>\n",
       "    </tr>\n",
       "    <tr>\n",
       "      <th>2</th>\n",
       "      <td>1000</td>\n",
       "      <td>52</td>\n",
       "      <td>2018-12-30</td>\n",
       "      <td>Краснодар</td>\n",
       "      <td>Рафаил</td>\n",
       "      <td>Верещагин</td>\n",
       "      <td>2018-05-25</td>\n",
       "      <td>ultra</td>\n",
       "      <td>1000</td>\n",
       "      <td>30720</td>\n",
       "      <td>3000</td>\n",
       "      <td>1950</td>\n",
       "      <td>150</td>\n",
       "      <td>1</td>\n",
       "      <td>1</td>\n",
       "      <td>1000_2</td>\n",
       "      <td>2018-08-04</td>\n",
       "      <td>5.0</td>\n",
       "      <td>8.0</td>\n",
       "      <td>2018.0</td>\n",
       "    </tr>\n",
       "    <tr>\n",
       "      <th>3</th>\n",
       "      <td>1000</td>\n",
       "      <td>52</td>\n",
       "      <td>2018-12-30</td>\n",
       "      <td>Краснодар</td>\n",
       "      <td>Рафаил</td>\n",
       "      <td>Верещагин</td>\n",
       "      <td>2018-05-25</td>\n",
       "      <td>ultra</td>\n",
       "      <td>1000</td>\n",
       "      <td>30720</td>\n",
       "      <td>3000</td>\n",
       "      <td>1950</td>\n",
       "      <td>150</td>\n",
       "      <td>1</td>\n",
       "      <td>1</td>\n",
       "      <td>1000_3</td>\n",
       "      <td>2018-06-16</td>\n",
       "      <td>5.0</td>\n",
       "      <td>6.0</td>\n",
       "      <td>2018.0</td>\n",
       "    </tr>\n",
       "    <tr>\n",
       "      <th>4</th>\n",
       "      <td>1000</td>\n",
       "      <td>52</td>\n",
       "      <td>2018-12-30</td>\n",
       "      <td>Краснодар</td>\n",
       "      <td>Рафаил</td>\n",
       "      <td>Верещагин</td>\n",
       "      <td>2018-05-25</td>\n",
       "      <td>ultra</td>\n",
       "      <td>1000</td>\n",
       "      <td>30720</td>\n",
       "      <td>3000</td>\n",
       "      <td>1950</td>\n",
       "      <td>150</td>\n",
       "      <td>1</td>\n",
       "      <td>1</td>\n",
       "      <td>1000_4</td>\n",
       "      <td>2018-12-05</td>\n",
       "      <td>2.0</td>\n",
       "      <td>12.0</td>\n",
       "      <td>2018.0</td>\n",
       "    </tr>\n",
       "    <tr>\n",
       "      <th>...</th>\n",
       "      <td>...</td>\n",
       "      <td>...</td>\n",
       "      <td>...</td>\n",
       "      <td>...</td>\n",
       "      <td>...</td>\n",
       "      <td>...</td>\n",
       "      <td>...</td>\n",
       "      <td>...</td>\n",
       "      <td>...</td>\n",
       "      <td>...</td>\n",
       "      <td>...</td>\n",
       "      <td>...</td>\n",
       "      <td>...</td>\n",
       "      <td>...</td>\n",
       "      <td>...</td>\n",
       "      <td>...</td>\n",
       "      <td>...</td>\n",
       "      <td>...</td>\n",
       "      <td>...</td>\n",
       "      <td>...</td>\n",
       "    </tr>\n",
       "    <tr>\n",
       "      <th>123105</th>\n",
       "      <td>1499</td>\n",
       "      <td>35</td>\n",
       "      <td>2018-12-30</td>\n",
       "      <td>Пермь</td>\n",
       "      <td>Гектор</td>\n",
       "      <td>Корнилов</td>\n",
       "      <td>2018-09-27</td>\n",
       "      <td>smart</td>\n",
       "      <td>50</td>\n",
       "      <td>15360</td>\n",
       "      <td>500</td>\n",
       "      <td>550</td>\n",
       "      <td>200</td>\n",
       "      <td>3</td>\n",
       "      <td>3</td>\n",
       "      <td>1499_179</td>\n",
       "      <td>2018-12-12</td>\n",
       "      <td>2.0</td>\n",
       "      <td>12.0</td>\n",
       "      <td>2018.0</td>\n",
       "    </tr>\n",
       "    <tr>\n",
       "      <th>123106</th>\n",
       "      <td>1499</td>\n",
       "      <td>35</td>\n",
       "      <td>2018-12-30</td>\n",
       "      <td>Пермь</td>\n",
       "      <td>Гектор</td>\n",
       "      <td>Корнилов</td>\n",
       "      <td>2018-09-27</td>\n",
       "      <td>smart</td>\n",
       "      <td>50</td>\n",
       "      <td>15360</td>\n",
       "      <td>500</td>\n",
       "      <td>550</td>\n",
       "      <td>200</td>\n",
       "      <td>3</td>\n",
       "      <td>3</td>\n",
       "      <td>1499_180</td>\n",
       "      <td>2018-09-28</td>\n",
       "      <td>4.0</td>\n",
       "      <td>9.0</td>\n",
       "      <td>2018.0</td>\n",
       "    </tr>\n",
       "    <tr>\n",
       "      <th>123107</th>\n",
       "      <td>1499</td>\n",
       "      <td>35</td>\n",
       "      <td>2018-12-30</td>\n",
       "      <td>Пермь</td>\n",
       "      <td>Гектор</td>\n",
       "      <td>Корнилов</td>\n",
       "      <td>2018-09-27</td>\n",
       "      <td>smart</td>\n",
       "      <td>50</td>\n",
       "      <td>15360</td>\n",
       "      <td>500</td>\n",
       "      <td>550</td>\n",
       "      <td>200</td>\n",
       "      <td>3</td>\n",
       "      <td>3</td>\n",
       "      <td>1499_181</td>\n",
       "      <td>2018-09-27</td>\n",
       "      <td>3.0</td>\n",
       "      <td>9.0</td>\n",
       "      <td>2018.0</td>\n",
       "    </tr>\n",
       "    <tr>\n",
       "      <th>123108</th>\n",
       "      <td>1499</td>\n",
       "      <td>35</td>\n",
       "      <td>2018-12-30</td>\n",
       "      <td>Пермь</td>\n",
       "      <td>Гектор</td>\n",
       "      <td>Корнилов</td>\n",
       "      <td>2018-09-27</td>\n",
       "      <td>smart</td>\n",
       "      <td>50</td>\n",
       "      <td>15360</td>\n",
       "      <td>500</td>\n",
       "      <td>550</td>\n",
       "      <td>200</td>\n",
       "      <td>3</td>\n",
       "      <td>3</td>\n",
       "      <td>1499_182</td>\n",
       "      <td>2018-11-15</td>\n",
       "      <td>3.0</td>\n",
       "      <td>11.0</td>\n",
       "      <td>2018.0</td>\n",
       "    </tr>\n",
       "    <tr>\n",
       "      <th>123109</th>\n",
       "      <td>1499</td>\n",
       "      <td>35</td>\n",
       "      <td>2018-12-30</td>\n",
       "      <td>Пермь</td>\n",
       "      <td>Гектор</td>\n",
       "      <td>Корнилов</td>\n",
       "      <td>2018-09-27</td>\n",
       "      <td>smart</td>\n",
       "      <td>50</td>\n",
       "      <td>15360</td>\n",
       "      <td>500</td>\n",
       "      <td>550</td>\n",
       "      <td>200</td>\n",
       "      <td>3</td>\n",
       "      <td>3</td>\n",
       "      <td>1499_183</td>\n",
       "      <td>2018-11-16</td>\n",
       "      <td>4.0</td>\n",
       "      <td>11.0</td>\n",
       "      <td>2018.0</td>\n",
       "    </tr>\n",
       "  </tbody>\n",
       "</table>\n",
       "<p>123110 rows × 20 columns</p>\n",
       "</div>"
      ],
      "text/plain": [
       "        user_id  age churn_date       city first_name  last_name   reg_date  \\\n",
       "0          1000   52 2018-12-30  Краснодар     Рафаил  Верещагин 2018-05-25   \n",
       "1          1000   52 2018-12-30  Краснодар     Рафаил  Верещагин 2018-05-25   \n",
       "2          1000   52 2018-12-30  Краснодар     Рафаил  Верещагин 2018-05-25   \n",
       "3          1000   52 2018-12-30  Краснодар     Рафаил  Верещагин 2018-05-25   \n",
       "4          1000   52 2018-12-30  Краснодар     Рафаил  Верещагин 2018-05-25   \n",
       "...         ...  ...        ...        ...        ...        ...        ...   \n",
       "123105     1499   35 2018-12-30      Пермь     Гектор   Корнилов 2018-09-27   \n",
       "123106     1499   35 2018-12-30      Пермь     Гектор   Корнилов 2018-09-27   \n",
       "123107     1499   35 2018-12-30      Пермь     Гектор   Корнилов 2018-09-27   \n",
       "123108     1499   35 2018-12-30      Пермь     Гектор   Корнилов 2018-09-27   \n",
       "123109     1499   35 2018-12-30      Пермь     Гектор   Корнилов 2018-09-27   \n",
       "\n",
       "       tariff_name  messages_included  mb_per_month_included  \\\n",
       "0            ultra               1000                  30720   \n",
       "1            ultra               1000                  30720   \n",
       "2            ultra               1000                  30720   \n",
       "3            ultra               1000                  30720   \n",
       "4            ultra               1000                  30720   \n",
       "...            ...                ...                    ...   \n",
       "123105       smart                 50                  15360   \n",
       "123106       smart                 50                  15360   \n",
       "123107       smart                 50                  15360   \n",
       "123108       smart                 50                  15360   \n",
       "123109       smart                 50                  15360   \n",
       "\n",
       "        minutes_included  rub_monthly_fee  rub_per_gb  rub_per_message  \\\n",
       "0                   3000             1950         150                1   \n",
       "1                   3000             1950         150                1   \n",
       "2                   3000             1950         150                1   \n",
       "3                   3000             1950         150                1   \n",
       "4                   3000             1950         150                1   \n",
       "...                  ...              ...         ...              ...   \n",
       "123105               500              550         200                3   \n",
       "123106               500              550         200                3   \n",
       "123107               500              550         200                3   \n",
       "123108               500              550         200                3   \n",
       "123109               500              550         200                3   \n",
       "\n",
       "        rub_per_minute        id message_date  day_weekday  day_month  \\\n",
       "0                    1    1000_0   2018-06-27          2.0        6.0   \n",
       "1                    1    1000_1   2018-10-08          0.0       10.0   \n",
       "2                    1    1000_2   2018-08-04          5.0        8.0   \n",
       "3                    1    1000_3   2018-06-16          5.0        6.0   \n",
       "4                    1    1000_4   2018-12-05          2.0       12.0   \n",
       "...                ...       ...          ...          ...        ...   \n",
       "123105               3  1499_179   2018-12-12          2.0       12.0   \n",
       "123106               3  1499_180   2018-09-28          4.0        9.0   \n",
       "123107               3  1499_181   2018-09-27          3.0        9.0   \n",
       "123108               3  1499_182   2018-11-15          3.0       11.0   \n",
       "123109               3  1499_183   2018-11-16          4.0       11.0   \n",
       "\n",
       "        day_year  \n",
       "0         2018.0  \n",
       "1         2018.0  \n",
       "2         2018.0  \n",
       "3         2018.0  \n",
       "4         2018.0  \n",
       "...          ...  \n",
       "123105    2018.0  \n",
       "123106    2018.0  \n",
       "123107    2018.0  \n",
       "123108    2018.0  \n",
       "123109    2018.0  \n",
       "\n",
       "[123110 rows x 20 columns]"
      ]
     },
     "metadata": {},
     "output_type": "display_data"
    }
   ],
   "source": [
    "users_tariffs_messages=users_tariffs.merge(messages, on = ['user_id'], how = 'left')\n",
    "display (users_tariffs_messages)"
   ]
  },
  {
   "cell_type": "markdown",
   "metadata": {},
   "source": [
    "<div class=\"alert alert-info\">\n",
    "<font color='black'> <b> Сделаем сводную таблицу для расчета количества сообщений </font> <b>"
   ]
  },
  {
   "cell_type": "code",
   "execution_count": 8,
   "metadata": {},
   "outputs": [
    {
     "data": {
      "text/html": [
       "<div>\n",
       "<style scoped>\n",
       "    .dataframe tbody tr th:only-of-type {\n",
       "        vertical-align: middle;\n",
       "    }\n",
       "\n",
       "    .dataframe tbody tr th {\n",
       "        vertical-align: top;\n",
       "    }\n",
       "\n",
       "    .dataframe thead tr th {\n",
       "        text-align: left;\n",
       "    }\n",
       "\n",
       "    .dataframe thead tr:last-of-type th {\n",
       "        text-align: right;\n",
       "    }\n",
       "</style>\n",
       "<table border=\"1\" class=\"dataframe\">\n",
       "  <thead>\n",
       "    <tr>\n",
       "      <th></th>\n",
       "      <th></th>\n",
       "      <th></th>\n",
       "      <th></th>\n",
       "      <th></th>\n",
       "      <th></th>\n",
       "      <th></th>\n",
       "      <th></th>\n",
       "      <th></th>\n",
       "      <th></th>\n",
       "      <th></th>\n",
       "      <th></th>\n",
       "      <th>count</th>\n",
       "    </tr>\n",
       "    <tr>\n",
       "      <th></th>\n",
       "      <th></th>\n",
       "      <th></th>\n",
       "      <th></th>\n",
       "      <th></th>\n",
       "      <th></th>\n",
       "      <th></th>\n",
       "      <th></th>\n",
       "      <th></th>\n",
       "      <th></th>\n",
       "      <th></th>\n",
       "      <th></th>\n",
       "      <th>id</th>\n",
       "    </tr>\n",
       "    <tr>\n",
       "      <th>user_id</th>\n",
       "      <th>age</th>\n",
       "      <th>city</th>\n",
       "      <th>day_month</th>\n",
       "      <th>tariff_name</th>\n",
       "      <th>rub_monthly_fee</th>\n",
       "      <th>minutes_included</th>\n",
       "      <th>messages_included</th>\n",
       "      <th>rub_per_message</th>\n",
       "      <th>rub_per_gb</th>\n",
       "      <th>rub_per_minute</th>\n",
       "      <th>mb_per_month_included</th>\n",
       "      <th></th>\n",
       "    </tr>\n",
       "  </thead>\n",
       "  <tbody>\n",
       "    <tr>\n",
       "      <th rowspan=\"8\" valign=\"top\">1000</th>\n",
       "      <th rowspan=\"8\" valign=\"top\">52</th>\n",
       "      <th rowspan=\"8\" valign=\"top\">Краснодар</th>\n",
       "      <th>5.0</th>\n",
       "      <th>ultra</th>\n",
       "      <th>1950</th>\n",
       "      <th>3000</th>\n",
       "      <th>1000</th>\n",
       "      <th>1</th>\n",
       "      <th>150</th>\n",
       "      <th>1</th>\n",
       "      <th>30720</th>\n",
       "      <td>22</td>\n",
       "    </tr>\n",
       "    <tr>\n",
       "      <th>6.0</th>\n",
       "      <th>ultra</th>\n",
       "      <th>1950</th>\n",
       "      <th>3000</th>\n",
       "      <th>1000</th>\n",
       "      <th>1</th>\n",
       "      <th>150</th>\n",
       "      <th>1</th>\n",
       "      <th>30720</th>\n",
       "      <td>60</td>\n",
       "    </tr>\n",
       "    <tr>\n",
       "      <th>7.0</th>\n",
       "      <th>ultra</th>\n",
       "      <th>1950</th>\n",
       "      <th>3000</th>\n",
       "      <th>1000</th>\n",
       "      <th>1</th>\n",
       "      <th>150</th>\n",
       "      <th>1</th>\n",
       "      <th>30720</th>\n",
       "      <td>75</td>\n",
       "    </tr>\n",
       "    <tr>\n",
       "      <th>8.0</th>\n",
       "      <th>ultra</th>\n",
       "      <th>1950</th>\n",
       "      <th>3000</th>\n",
       "      <th>1000</th>\n",
       "      <th>1</th>\n",
       "      <th>150</th>\n",
       "      <th>1</th>\n",
       "      <th>30720</th>\n",
       "      <td>81</td>\n",
       "    </tr>\n",
       "    <tr>\n",
       "      <th>9.0</th>\n",
       "      <th>ultra</th>\n",
       "      <th>1950</th>\n",
       "      <th>3000</th>\n",
       "      <th>1000</th>\n",
       "      <th>1</th>\n",
       "      <th>150</th>\n",
       "      <th>1</th>\n",
       "      <th>30720</th>\n",
       "      <td>57</td>\n",
       "    </tr>\n",
       "    <tr>\n",
       "      <th>10.0</th>\n",
       "      <th>ultra</th>\n",
       "      <th>1950</th>\n",
       "      <th>3000</th>\n",
       "      <th>1000</th>\n",
       "      <th>1</th>\n",
       "      <th>150</th>\n",
       "      <th>1</th>\n",
       "      <th>30720</th>\n",
       "      <td>73</td>\n",
       "    </tr>\n",
       "    <tr>\n",
       "      <th>11.0</th>\n",
       "      <th>ultra</th>\n",
       "      <th>1950</th>\n",
       "      <th>3000</th>\n",
       "      <th>1000</th>\n",
       "      <th>1</th>\n",
       "      <th>150</th>\n",
       "      <th>1</th>\n",
       "      <th>30720</th>\n",
       "      <td>58</td>\n",
       "    </tr>\n",
       "    <tr>\n",
       "      <th>12.0</th>\n",
       "      <th>ultra</th>\n",
       "      <th>1950</th>\n",
       "      <th>3000</th>\n",
       "      <th>1000</th>\n",
       "      <th>1</th>\n",
       "      <th>150</th>\n",
       "      <th>1</th>\n",
       "      <th>30720</th>\n",
       "      <td>70</td>\n",
       "    </tr>\n",
       "    <tr>\n",
       "      <th rowspan=\"7\" valign=\"top\">1002</th>\n",
       "      <th rowspan=\"7\" valign=\"top\">59</th>\n",
       "      <th rowspan=\"7\" valign=\"top\">Стерлитамак</th>\n",
       "      <th>6.0</th>\n",
       "      <th>smart</th>\n",
       "      <th>550</th>\n",
       "      <th>500</th>\n",
       "      <th>50</th>\n",
       "      <th>3</th>\n",
       "      <th>200</th>\n",
       "      <th>3</th>\n",
       "      <th>15360</th>\n",
       "      <td>4</td>\n",
       "    </tr>\n",
       "    <tr>\n",
       "      <th>7.0</th>\n",
       "      <th>smart</th>\n",
       "      <th>550</th>\n",
       "      <th>500</th>\n",
       "      <th>50</th>\n",
       "      <th>3</th>\n",
       "      <th>200</th>\n",
       "      <th>3</th>\n",
       "      <th>15360</th>\n",
       "      <td>11</td>\n",
       "    </tr>\n",
       "    <tr>\n",
       "      <th>8.0</th>\n",
       "      <th>smart</th>\n",
       "      <th>550</th>\n",
       "      <th>500</th>\n",
       "      <th>50</th>\n",
       "      <th>3</th>\n",
       "      <th>200</th>\n",
       "      <th>3</th>\n",
       "      <th>15360</th>\n",
       "      <td>13</td>\n",
       "    </tr>\n",
       "    <tr>\n",
       "      <th>9.0</th>\n",
       "      <th>smart</th>\n",
       "      <th>550</th>\n",
       "      <th>500</th>\n",
       "      <th>50</th>\n",
       "      <th>3</th>\n",
       "      <th>200</th>\n",
       "      <th>3</th>\n",
       "      <th>15360</th>\n",
       "      <td>4</td>\n",
       "    </tr>\n",
       "    <tr>\n",
       "      <th>10.0</th>\n",
       "      <th>smart</th>\n",
       "      <th>550</th>\n",
       "      <th>500</th>\n",
       "      <th>50</th>\n",
       "      <th>3</th>\n",
       "      <th>200</th>\n",
       "      <th>3</th>\n",
       "      <th>15360</th>\n",
       "      <td>10</td>\n",
       "    </tr>\n",
       "    <tr>\n",
       "      <th>11.0</th>\n",
       "      <th>smart</th>\n",
       "      <th>550</th>\n",
       "      <th>500</th>\n",
       "      <th>50</th>\n",
       "      <th>3</th>\n",
       "      <th>200</th>\n",
       "      <th>3</th>\n",
       "      <th>15360</th>\n",
       "      <td>16</td>\n",
       "    </tr>\n",
       "    <tr>\n",
       "      <th>12.0</th>\n",
       "      <th>smart</th>\n",
       "      <th>550</th>\n",
       "      <th>500</th>\n",
       "      <th>50</th>\n",
       "      <th>3</th>\n",
       "      <th>200</th>\n",
       "      <th>3</th>\n",
       "      <th>15360</th>\n",
       "      <td>12</td>\n",
       "    </tr>\n",
       "    <tr>\n",
       "      <th rowspan=\"5\" valign=\"top\">1003</th>\n",
       "      <th rowspan=\"5\" valign=\"top\">23</th>\n",
       "      <th rowspan=\"5\" valign=\"top\">Москва</th>\n",
       "      <th>8.0</th>\n",
       "      <th>ultra</th>\n",
       "      <th>1950</th>\n",
       "      <th>3000</th>\n",
       "      <th>1000</th>\n",
       "      <th>1</th>\n",
       "      <th>150</th>\n",
       "      <th>1</th>\n",
       "      <th>30720</th>\n",
       "      <td>37</td>\n",
       "    </tr>\n",
       "    <tr>\n",
       "      <th>9.0</th>\n",
       "      <th>ultra</th>\n",
       "      <th>1950</th>\n",
       "      <th>3000</th>\n",
       "      <th>1000</th>\n",
       "      <th>1</th>\n",
       "      <th>150</th>\n",
       "      <th>1</th>\n",
       "      <th>30720</th>\n",
       "      <td>91</td>\n",
       "    </tr>\n",
       "    <tr>\n",
       "      <th>10.0</th>\n",
       "      <th>ultra</th>\n",
       "      <th>1950</th>\n",
       "      <th>3000</th>\n",
       "      <th>1000</th>\n",
       "      <th>1</th>\n",
       "      <th>150</th>\n",
       "      <th>1</th>\n",
       "      <th>30720</th>\n",
       "      <td>83</td>\n",
       "    </tr>\n",
       "    <tr>\n",
       "      <th>11.0</th>\n",
       "      <th>ultra</th>\n",
       "      <th>1950</th>\n",
       "      <th>3000</th>\n",
       "      <th>1000</th>\n",
       "      <th>1</th>\n",
       "      <th>150</th>\n",
       "      <th>1</th>\n",
       "      <th>30720</th>\n",
       "      <td>94</td>\n",
       "    </tr>\n",
       "    <tr>\n",
       "      <th>12.0</th>\n",
       "      <th>ultra</th>\n",
       "      <th>1950</th>\n",
       "      <th>3000</th>\n",
       "      <th>1000</th>\n",
       "      <th>1</th>\n",
       "      <th>150</th>\n",
       "      <th>1</th>\n",
       "      <th>30720</th>\n",
       "      <td>75</td>\n",
       "    </tr>\n",
       "  </tbody>\n",
       "</table>\n",
       "</div>"
      ],
      "text/plain": [
       "                                                                                                                                                                 count\n",
       "                                                                                                                                                                    id\n",
       "user_id age city        day_month tariff_name rub_monthly_fee minutes_included messages_included rub_per_message rub_per_gb rub_per_minute mb_per_month_included      \n",
       "1000    52  Краснодар   5.0       ultra       1950            3000             1000              1               150        1              30720                    22\n",
       "                        6.0       ultra       1950            3000             1000              1               150        1              30720                    60\n",
       "                        7.0       ultra       1950            3000             1000              1               150        1              30720                    75\n",
       "                        8.0       ultra       1950            3000             1000              1               150        1              30720                    81\n",
       "                        9.0       ultra       1950            3000             1000              1               150        1              30720                    57\n",
       "                        10.0      ultra       1950            3000             1000              1               150        1              30720                    73\n",
       "                        11.0      ultra       1950            3000             1000              1               150        1              30720                    58\n",
       "                        12.0      ultra       1950            3000             1000              1               150        1              30720                    70\n",
       "1002    59  Стерлитамак 6.0       smart       550             500              50                3               200        3              15360                     4\n",
       "                        7.0       smart       550             500              50                3               200        3              15360                    11\n",
       "                        8.0       smart       550             500              50                3               200        3              15360                    13\n",
       "                        9.0       smart       550             500              50                3               200        3              15360                     4\n",
       "                        10.0      smart       550             500              50                3               200        3              15360                    10\n",
       "                        11.0      smart       550             500              50                3               200        3              15360                    16\n",
       "                        12.0      smart       550             500              50                3               200        3              15360                    12\n",
       "1003    23  Москва      8.0       ultra       1950            3000             1000              1               150        1              30720                    37\n",
       "                        9.0       ultra       1950            3000             1000              1               150        1              30720                    91\n",
       "                        10.0      ultra       1950            3000             1000              1               150        1              30720                    83\n",
       "                        11.0      ultra       1950            3000             1000              1               150        1              30720                    94\n",
       "                        12.0      ultra       1950            3000             1000              1               150        1              30720                    75"
      ]
     },
     "metadata": {},
     "output_type": "display_data"
    }
   ],
   "source": [
    "month_messages = users_tariffs_messages.pivot_table(index = ['user_id', 'age', 'city', 'day_month', 'tariff_name', 'rub_monthly_fee', 'minutes_included', 'messages_included', 'rub_per_message', 'rub_per_gb', 'rub_per_minute', 'mb_per_month_included'], values = ['id'], aggfunc=['count']) \n",
    "display(month_messages.head(20)) "
   ]
  },
  {
   "cell_type": "markdown",
   "metadata": {},
   "source": [
    "<div class=\"alert alert-success\">\n",
    "<b>Комментарий ревьюера \"хорошее решение\":</b> Количество звонков найдено верно."
   ]
  },
  {
   "cell_type": "markdown",
   "metadata": {},
   "source": [
    "<div class=\"alert alert-danger\">\n",
    "<b>Комментарий ревьюера \"ошибка\":</b> А здесь их стало ещё меньше - 426.\n",
    "     <div class=\"alert alert-info\"> <b>Комментарий студента:</b> Не понимаю, как исправить. Опять(   </div>\n"
   ]
  },
  {
   "cell_type": "markdown",
   "metadata": {},
   "source": [
    "<div class=\"alert alert-warning\">\n",
    "<b>2 Комментарий ревьюера ⚠️:</b> тут та же причина, что я описала выше"
   ]
  },
  {
   "cell_type": "markdown",
   "metadata": {},
   "source": [
    "<div class=\"alert alert-info\">\n",
    "<font color='black'> <b> Сделаем сводную таблицу для расчета количества сообщений и звонков </font> <b>"
   ]
  },
  {
   "cell_type": "code",
   "execution_count": 9,
   "metadata": {},
   "outputs": [
    {
     "data": {
      "text/html": [
       "<div>\n",
       "<style scoped>\n",
       "    .dataframe tbody tr th:only-of-type {\n",
       "        vertical-align: middle;\n",
       "    }\n",
       "\n",
       "    .dataframe tbody tr th {\n",
       "        vertical-align: top;\n",
       "    }\n",
       "\n",
       "    .dataframe thead tr th {\n",
       "        text-align: left;\n",
       "    }\n",
       "\n",
       "    .dataframe thead tr:last-of-type th {\n",
       "        text-align: right;\n",
       "    }\n",
       "</style>\n",
       "<table border=\"1\" class=\"dataframe\">\n",
       "  <thead>\n",
       "    <tr>\n",
       "      <th></th>\n",
       "      <th></th>\n",
       "      <th></th>\n",
       "      <th></th>\n",
       "      <th></th>\n",
       "      <th></th>\n",
       "      <th></th>\n",
       "      <th></th>\n",
       "      <th></th>\n",
       "      <th></th>\n",
       "      <th></th>\n",
       "      <th></th>\n",
       "      <th>count</th>\n",
       "      <th>sum</th>\n",
       "      <th>count</th>\n",
       "    </tr>\n",
       "    <tr>\n",
       "      <th></th>\n",
       "      <th></th>\n",
       "      <th></th>\n",
       "      <th></th>\n",
       "      <th></th>\n",
       "      <th></th>\n",
       "      <th></th>\n",
       "      <th></th>\n",
       "      <th></th>\n",
       "      <th></th>\n",
       "      <th></th>\n",
       "      <th></th>\n",
       "      <th>duration</th>\n",
       "      <th>duration</th>\n",
       "      <th>id</th>\n",
       "    </tr>\n",
       "    <tr>\n",
       "      <th>user_id</th>\n",
       "      <th>age</th>\n",
       "      <th>city</th>\n",
       "      <th>day_month</th>\n",
       "      <th>tariff_name</th>\n",
       "      <th>rub_monthly_fee</th>\n",
       "      <th>minutes_included</th>\n",
       "      <th>messages_included</th>\n",
       "      <th>rub_per_message</th>\n",
       "      <th>rub_per_gb</th>\n",
       "      <th>rub_per_minute</th>\n",
       "      <th>mb_per_month_included</th>\n",
       "      <th></th>\n",
       "      <th></th>\n",
       "      <th></th>\n",
       "    </tr>\n",
       "  </thead>\n",
       "  <tbody>\n",
       "    <tr>\n",
       "      <th rowspan=\"8\" valign=\"top\">1000</th>\n",
       "      <th rowspan=\"8\" valign=\"top\">52</th>\n",
       "      <th rowspan=\"8\" valign=\"top\">Краснодар</th>\n",
       "      <th>5.0</th>\n",
       "      <th>ultra</th>\n",
       "      <th>1950</th>\n",
       "      <th>3000</th>\n",
       "      <th>1000</th>\n",
       "      <th>1</th>\n",
       "      <th>150</th>\n",
       "      <th>1</th>\n",
       "      <th>30720</th>\n",
       "      <td>22</td>\n",
       "      <td>164.0</td>\n",
       "      <td>22.0</td>\n",
       "    </tr>\n",
       "    <tr>\n",
       "      <th>6.0</th>\n",
       "      <th>ultra</th>\n",
       "      <th>1950</th>\n",
       "      <th>3000</th>\n",
       "      <th>1000</th>\n",
       "      <th>1</th>\n",
       "      <th>150</th>\n",
       "      <th>1</th>\n",
       "      <th>30720</th>\n",
       "      <td>43</td>\n",
       "      <td>187.0</td>\n",
       "      <td>60.0</td>\n",
       "    </tr>\n",
       "    <tr>\n",
       "      <th>7.0</th>\n",
       "      <th>ultra</th>\n",
       "      <th>1950</th>\n",
       "      <th>3000</th>\n",
       "      <th>1000</th>\n",
       "      <th>1</th>\n",
       "      <th>150</th>\n",
       "      <th>1</th>\n",
       "      <th>30720</th>\n",
       "      <td>47</td>\n",
       "      <td>346.0</td>\n",
       "      <td>75.0</td>\n",
       "    </tr>\n",
       "    <tr>\n",
       "      <th>8.0</th>\n",
       "      <th>ultra</th>\n",
       "      <th>1950</th>\n",
       "      <th>3000</th>\n",
       "      <th>1000</th>\n",
       "      <th>1</th>\n",
       "      <th>150</th>\n",
       "      <th>1</th>\n",
       "      <th>30720</th>\n",
       "      <td>52</td>\n",
       "      <td>418.0</td>\n",
       "      <td>81.0</td>\n",
       "    </tr>\n",
       "    <tr>\n",
       "      <th>9.0</th>\n",
       "      <th>ultra</th>\n",
       "      <th>1950</th>\n",
       "      <th>3000</th>\n",
       "      <th>1000</th>\n",
       "      <th>1</th>\n",
       "      <th>150</th>\n",
       "      <th>1</th>\n",
       "      <th>30720</th>\n",
       "      <td>58</td>\n",
       "      <td>478.0</td>\n",
       "      <td>57.0</td>\n",
       "    </tr>\n",
       "    <tr>\n",
       "      <th>10.0</th>\n",
       "      <th>ultra</th>\n",
       "      <th>1950</th>\n",
       "      <th>3000</th>\n",
       "      <th>1000</th>\n",
       "      <th>1</th>\n",
       "      <th>150</th>\n",
       "      <th>1</th>\n",
       "      <th>30720</th>\n",
       "      <td>57</td>\n",
       "      <td>363.0</td>\n",
       "      <td>73.0</td>\n",
       "    </tr>\n",
       "    <tr>\n",
       "      <th>11.0</th>\n",
       "      <th>ultra</th>\n",
       "      <th>1950</th>\n",
       "      <th>3000</th>\n",
       "      <th>1000</th>\n",
       "      <th>1</th>\n",
       "      <th>150</th>\n",
       "      <th>1</th>\n",
       "      <th>30720</th>\n",
       "      <td>43</td>\n",
       "      <td>344.0</td>\n",
       "      <td>58.0</td>\n",
       "    </tr>\n",
       "    <tr>\n",
       "      <th>12.0</th>\n",
       "      <th>ultra</th>\n",
       "      <th>1950</th>\n",
       "      <th>3000</th>\n",
       "      <th>1000</th>\n",
       "      <th>1</th>\n",
       "      <th>150</th>\n",
       "      <th>1</th>\n",
       "      <th>30720</th>\n",
       "      <td>46</td>\n",
       "      <td>341.0</td>\n",
       "      <td>70.0</td>\n",
       "    </tr>\n",
       "    <tr>\n",
       "      <th rowspan=\"2\" valign=\"top\">1001</th>\n",
       "      <th rowspan=\"2\" valign=\"top\">41</th>\n",
       "      <th rowspan=\"2\" valign=\"top\">Москва</th>\n",
       "      <th>11.0</th>\n",
       "      <th>smart</th>\n",
       "      <th>550</th>\n",
       "      <th>500</th>\n",
       "      <th>50</th>\n",
       "      <th>3</th>\n",
       "      <th>200</th>\n",
       "      <th>3</th>\n",
       "      <th>15360</th>\n",
       "      <td>59</td>\n",
       "      <td>444.0</td>\n",
       "      <td>NaN</td>\n",
       "    </tr>\n",
       "    <tr>\n",
       "      <th>12.0</th>\n",
       "      <th>smart</th>\n",
       "      <th>550</th>\n",
       "      <th>500</th>\n",
       "      <th>50</th>\n",
       "      <th>3</th>\n",
       "      <th>200</th>\n",
       "      <th>3</th>\n",
       "      <th>15360</th>\n",
       "      <td>63</td>\n",
       "      <td>430.0</td>\n",
       "      <td>NaN</td>\n",
       "    </tr>\n",
       "    <tr>\n",
       "      <th rowspan=\"7\" valign=\"top\">1002</th>\n",
       "      <th rowspan=\"7\" valign=\"top\">59</th>\n",
       "      <th rowspan=\"7\" valign=\"top\">Стерлитамак</th>\n",
       "      <th>6.0</th>\n",
       "      <th>smart</th>\n",
       "      <th>550</th>\n",
       "      <th>500</th>\n",
       "      <th>50</th>\n",
       "      <th>3</th>\n",
       "      <th>200</th>\n",
       "      <th>3</th>\n",
       "      <th>15360</th>\n",
       "      <td>15</td>\n",
       "      <td>118.0</td>\n",
       "      <td>4.0</td>\n",
       "    </tr>\n",
       "    <tr>\n",
       "      <th>7.0</th>\n",
       "      <th>smart</th>\n",
       "      <th>550</th>\n",
       "      <th>500</th>\n",
       "      <th>50</th>\n",
       "      <th>3</th>\n",
       "      <th>200</th>\n",
       "      <th>3</th>\n",
       "      <th>15360</th>\n",
       "      <td>26</td>\n",
       "      <td>219.0</td>\n",
       "      <td>11.0</td>\n",
       "    </tr>\n",
       "    <tr>\n",
       "      <th>8.0</th>\n",
       "      <th>smart</th>\n",
       "      <th>550</th>\n",
       "      <th>500</th>\n",
       "      <th>50</th>\n",
       "      <th>3</th>\n",
       "      <th>200</th>\n",
       "      <th>3</th>\n",
       "      <th>15360</th>\n",
       "      <td>42</td>\n",
       "      <td>294.0</td>\n",
       "      <td>13.0</td>\n",
       "    </tr>\n",
       "    <tr>\n",
       "      <th>9.0</th>\n",
       "      <th>smart</th>\n",
       "      <th>550</th>\n",
       "      <th>500</th>\n",
       "      <th>50</th>\n",
       "      <th>3</th>\n",
       "      <th>200</th>\n",
       "      <th>3</th>\n",
       "      <th>15360</th>\n",
       "      <td>36</td>\n",
       "      <td>217.0</td>\n",
       "      <td>4.0</td>\n",
       "    </tr>\n",
       "    <tr>\n",
       "      <th>10.0</th>\n",
       "      <th>smart</th>\n",
       "      <th>550</th>\n",
       "      <th>500</th>\n",
       "      <th>50</th>\n",
       "      <th>3</th>\n",
       "      <th>200</th>\n",
       "      <th>3</th>\n",
       "      <th>15360</th>\n",
       "      <td>33</td>\n",
       "      <td>221.0</td>\n",
       "      <td>10.0</td>\n",
       "    </tr>\n",
       "    <tr>\n",
       "      <th>11.0</th>\n",
       "      <th>smart</th>\n",
       "      <th>550</th>\n",
       "      <th>500</th>\n",
       "      <th>50</th>\n",
       "      <th>3</th>\n",
       "      <th>200</th>\n",
       "      <th>3</th>\n",
       "      <th>15360</th>\n",
       "      <td>32</td>\n",
       "      <td>250.0</td>\n",
       "      <td>16.0</td>\n",
       "    </tr>\n",
       "    <tr>\n",
       "      <th>12.0</th>\n",
       "      <th>smart</th>\n",
       "      <th>550</th>\n",
       "      <th>500</th>\n",
       "      <th>50</th>\n",
       "      <th>3</th>\n",
       "      <th>200</th>\n",
       "      <th>3</th>\n",
       "      <th>15360</th>\n",
       "      <td>33</td>\n",
       "      <td>242.0</td>\n",
       "      <td>12.0</td>\n",
       "    </tr>\n",
       "    <tr>\n",
       "      <th rowspan=\"3\" valign=\"top\">1003</th>\n",
       "      <th rowspan=\"3\" valign=\"top\">23</th>\n",
       "      <th rowspan=\"3\" valign=\"top\">Москва</th>\n",
       "      <th>8.0</th>\n",
       "      <th>ultra</th>\n",
       "      <th>1950</th>\n",
       "      <th>3000</th>\n",
       "      <th>1000</th>\n",
       "      <th>1</th>\n",
       "      <th>150</th>\n",
       "      <th>1</th>\n",
       "      <th>30720</th>\n",
       "      <td>55</td>\n",
       "      <td>392.0</td>\n",
       "      <td>37.0</td>\n",
       "    </tr>\n",
       "    <tr>\n",
       "      <th>9.0</th>\n",
       "      <th>ultra</th>\n",
       "      <th>1950</th>\n",
       "      <th>3000</th>\n",
       "      <th>1000</th>\n",
       "      <th>1</th>\n",
       "      <th>150</th>\n",
       "      <th>1</th>\n",
       "      <th>30720</th>\n",
       "      <td>134</td>\n",
       "      <td>990.0</td>\n",
       "      <td>91.0</td>\n",
       "    </tr>\n",
       "    <tr>\n",
       "      <th>10.0</th>\n",
       "      <th>ultra</th>\n",
       "      <th>1950</th>\n",
       "      <th>3000</th>\n",
       "      <th>1000</th>\n",
       "      <th>1</th>\n",
       "      <th>150</th>\n",
       "      <th>1</th>\n",
       "      <th>30720</th>\n",
       "      <td>108</td>\n",
       "      <td>866.0</td>\n",
       "      <td>83.0</td>\n",
       "    </tr>\n",
       "  </tbody>\n",
       "</table>\n",
       "</div>"
      ],
      "text/plain": [
       "                                                                                                                                                                    count  \\\n",
       "                                                                                                                                                                 duration   \n",
       "user_id age city        day_month tariff_name rub_monthly_fee minutes_included messages_included rub_per_message rub_per_gb rub_per_minute mb_per_month_included            \n",
       "1000    52  Краснодар   5.0       ultra       1950            3000             1000              1               150        1              30720                       22   \n",
       "                        6.0       ultra       1950            3000             1000              1               150        1              30720                       43   \n",
       "                        7.0       ultra       1950            3000             1000              1               150        1              30720                       47   \n",
       "                        8.0       ultra       1950            3000             1000              1               150        1              30720                       52   \n",
       "                        9.0       ultra       1950            3000             1000              1               150        1              30720                       58   \n",
       "                        10.0      ultra       1950            3000             1000              1               150        1              30720                       57   \n",
       "                        11.0      ultra       1950            3000             1000              1               150        1              30720                       43   \n",
       "                        12.0      ultra       1950            3000             1000              1               150        1              30720                       46   \n",
       "1001    41  Москва      11.0      smart       550             500              50                3               200        3              15360                       59   \n",
       "                        12.0      smart       550             500              50                3               200        3              15360                       63   \n",
       "1002    59  Стерлитамак 6.0       smart       550             500              50                3               200        3              15360                       15   \n",
       "                        7.0       smart       550             500              50                3               200        3              15360                       26   \n",
       "                        8.0       smart       550             500              50                3               200        3              15360                       42   \n",
       "                        9.0       smart       550             500              50                3               200        3              15360                       36   \n",
       "                        10.0      smart       550             500              50                3               200        3              15360                       33   \n",
       "                        11.0      smart       550             500              50                3               200        3              15360                       32   \n",
       "                        12.0      smart       550             500              50                3               200        3              15360                       33   \n",
       "1003    23  Москва      8.0       ultra       1950            3000             1000              1               150        1              30720                       55   \n",
       "                        9.0       ultra       1950            3000             1000              1               150        1              30720                      134   \n",
       "                        10.0      ultra       1950            3000             1000              1               150        1              30720                      108   \n",
       "\n",
       "                                                                                                                                                                      sum  \\\n",
       "                                                                                                                                                                 duration   \n",
       "user_id age city        day_month tariff_name rub_monthly_fee minutes_included messages_included rub_per_message rub_per_gb rub_per_minute mb_per_month_included            \n",
       "1000    52  Краснодар   5.0       ultra       1950            3000             1000              1               150        1              30720                    164.0   \n",
       "                        6.0       ultra       1950            3000             1000              1               150        1              30720                    187.0   \n",
       "                        7.0       ultra       1950            3000             1000              1               150        1              30720                    346.0   \n",
       "                        8.0       ultra       1950            3000             1000              1               150        1              30720                    418.0   \n",
       "                        9.0       ultra       1950            3000             1000              1               150        1              30720                    478.0   \n",
       "                        10.0      ultra       1950            3000             1000              1               150        1              30720                    363.0   \n",
       "                        11.0      ultra       1950            3000             1000              1               150        1              30720                    344.0   \n",
       "                        12.0      ultra       1950            3000             1000              1               150        1              30720                    341.0   \n",
       "1001    41  Москва      11.0      smart       550             500              50                3               200        3              15360                    444.0   \n",
       "                        12.0      smart       550             500              50                3               200        3              15360                    430.0   \n",
       "1002    59  Стерлитамак 6.0       smart       550             500              50                3               200        3              15360                    118.0   \n",
       "                        7.0       smart       550             500              50                3               200        3              15360                    219.0   \n",
       "                        8.0       smart       550             500              50                3               200        3              15360                    294.0   \n",
       "                        9.0       smart       550             500              50                3               200        3              15360                    217.0   \n",
       "                        10.0      smart       550             500              50                3               200        3              15360                    221.0   \n",
       "                        11.0      smart       550             500              50                3               200        3              15360                    250.0   \n",
       "                        12.0      smart       550             500              50                3               200        3              15360                    242.0   \n",
       "1003    23  Москва      8.0       ultra       1950            3000             1000              1               150        1              30720                    392.0   \n",
       "                        9.0       ultra       1950            3000             1000              1               150        1              30720                    990.0   \n",
       "                        10.0      ultra       1950            3000             1000              1               150        1              30720                    866.0   \n",
       "\n",
       "                                                                                                                                                                 count  \n",
       "                                                                                                                                                                    id  \n",
       "user_id age city        day_month tariff_name rub_monthly_fee minutes_included messages_included rub_per_message rub_per_gb rub_per_minute mb_per_month_included        \n",
       "1000    52  Краснодар   5.0       ultra       1950            3000             1000              1               150        1              30720                  22.0  \n",
       "                        6.0       ultra       1950            3000             1000              1               150        1              30720                  60.0  \n",
       "                        7.0       ultra       1950            3000             1000              1               150        1              30720                  75.0  \n",
       "                        8.0       ultra       1950            3000             1000              1               150        1              30720                  81.0  \n",
       "                        9.0       ultra       1950            3000             1000              1               150        1              30720                  57.0  \n",
       "                        10.0      ultra       1950            3000             1000              1               150        1              30720                  73.0  \n",
       "                        11.0      ultra       1950            3000             1000              1               150        1              30720                  58.0  \n",
       "                        12.0      ultra       1950            3000             1000              1               150        1              30720                  70.0  \n",
       "1001    41  Москва      11.0      smart       550             500              50                3               200        3              15360                   NaN  \n",
       "                        12.0      smart       550             500              50                3               200        3              15360                   NaN  \n",
       "1002    59  Стерлитамак 6.0       smart       550             500              50                3               200        3              15360                   4.0  \n",
       "                        7.0       smart       550             500              50                3               200        3              15360                  11.0  \n",
       "                        8.0       smart       550             500              50                3               200        3              15360                  13.0  \n",
       "                        9.0       smart       550             500              50                3               200        3              15360                   4.0  \n",
       "                        10.0      smart       550             500              50                3               200        3              15360                  10.0  \n",
       "                        11.0      smart       550             500              50                3               200        3              15360                  16.0  \n",
       "                        12.0      smart       550             500              50                3               200        3              15360                  12.0  \n",
       "1003    23  Москва      8.0       ultra       1950            3000             1000              1               150        1              30720                  37.0  \n",
       "                        9.0       ultra       1950            3000             1000              1               150        1              30720                  91.0  \n",
       "                        10.0      ultra       1950            3000             1000              1               150        1              30720                  83.0  "
      ]
     },
     "metadata": {},
     "output_type": "display_data"
    }
   ],
   "source": [
    "table_messages_and_calls_month=month_calls.merge(month_messages, on = ['user_id', 'age', 'city', 'day_month', 'tariff_name', 'rub_monthly_fee', 'minutes_included', 'messages_included', 'rub_per_message', 'rub_per_gb', 'rub_per_minute', 'mb_per_month_included'], how = 'left')\n",
    "display(table_messages_and_calls_month.head(20))"
   ]
  },
  {
   "cell_type": "markdown",
   "metadata": {},
   "source": [
    "<div class=\"alert alert-info\">\n",
    "<font color='black'> <b> Сделаем сводную таблицу для расчета затрат по интернету </font> <b>"
   ]
  },
  {
   "cell_type": "code",
   "execution_count": 10,
   "metadata": {},
   "outputs": [
    {
     "data": {
      "text/html": [
       "<div>\n",
       "<style scoped>\n",
       "    .dataframe tbody tr th:only-of-type {\n",
       "        vertical-align: middle;\n",
       "    }\n",
       "\n",
       "    .dataframe tbody tr th {\n",
       "        vertical-align: top;\n",
       "    }\n",
       "\n",
       "    .dataframe thead th {\n",
       "        text-align: right;\n",
       "    }\n",
       "</style>\n",
       "<table border=\"1\" class=\"dataframe\">\n",
       "  <thead>\n",
       "    <tr style=\"text-align: right;\">\n",
       "      <th></th>\n",
       "      <th>user_id</th>\n",
       "      <th>age</th>\n",
       "      <th>churn_date</th>\n",
       "      <th>city</th>\n",
       "      <th>first_name</th>\n",
       "      <th>last_name</th>\n",
       "      <th>reg_date</th>\n",
       "      <th>tariff_name</th>\n",
       "      <th>messages_included</th>\n",
       "      <th>mb_per_month_included</th>\n",
       "      <th>...</th>\n",
       "      <th>rub_per_gb</th>\n",
       "      <th>rub_per_message</th>\n",
       "      <th>rub_per_minute</th>\n",
       "      <th>Unnamed: 0</th>\n",
       "      <th>id</th>\n",
       "      <th>mb_used</th>\n",
       "      <th>session_date</th>\n",
       "      <th>day_weekday</th>\n",
       "      <th>day_month</th>\n",
       "      <th>day_year</th>\n",
       "    </tr>\n",
       "  </thead>\n",
       "  <tbody>\n",
       "    <tr>\n",
       "      <th>0</th>\n",
       "      <td>1000</td>\n",
       "      <td>52</td>\n",
       "      <td>2018-12-30</td>\n",
       "      <td>Краснодар</td>\n",
       "      <td>Рафаил</td>\n",
       "      <td>Верещагин</td>\n",
       "      <td>2018-05-25</td>\n",
       "      <td>ultra</td>\n",
       "      <td>1000</td>\n",
       "      <td>30720</td>\n",
       "      <td>...</td>\n",
       "      <td>150</td>\n",
       "      <td>1</td>\n",
       "      <td>1</td>\n",
       "      <td>0.0</td>\n",
       "      <td>1000_0</td>\n",
       "      <td>112.95</td>\n",
       "      <td>2018-11-25</td>\n",
       "      <td>6.0</td>\n",
       "      <td>11.0</td>\n",
       "      <td>2018.0</td>\n",
       "    </tr>\n",
       "    <tr>\n",
       "      <th>1</th>\n",
       "      <td>1000</td>\n",
       "      <td>52</td>\n",
       "      <td>2018-12-30</td>\n",
       "      <td>Краснодар</td>\n",
       "      <td>Рафаил</td>\n",
       "      <td>Верещагин</td>\n",
       "      <td>2018-05-25</td>\n",
       "      <td>ultra</td>\n",
       "      <td>1000</td>\n",
       "      <td>30720</td>\n",
       "      <td>...</td>\n",
       "      <td>150</td>\n",
       "      <td>1</td>\n",
       "      <td>1</td>\n",
       "      <td>1.0</td>\n",
       "      <td>1000_1</td>\n",
       "      <td>1052.81</td>\n",
       "      <td>2018-09-07</td>\n",
       "      <td>4.0</td>\n",
       "      <td>9.0</td>\n",
       "      <td>2018.0</td>\n",
       "    </tr>\n",
       "    <tr>\n",
       "      <th>2</th>\n",
       "      <td>1000</td>\n",
       "      <td>52</td>\n",
       "      <td>2018-12-30</td>\n",
       "      <td>Краснодар</td>\n",
       "      <td>Рафаил</td>\n",
       "      <td>Верещагин</td>\n",
       "      <td>2018-05-25</td>\n",
       "      <td>ultra</td>\n",
       "      <td>1000</td>\n",
       "      <td>30720</td>\n",
       "      <td>...</td>\n",
       "      <td>150</td>\n",
       "      <td>1</td>\n",
       "      <td>1</td>\n",
       "      <td>2.0</td>\n",
       "      <td>1000_2</td>\n",
       "      <td>1197.26</td>\n",
       "      <td>2018-06-25</td>\n",
       "      <td>0.0</td>\n",
       "      <td>6.0</td>\n",
       "      <td>2018.0</td>\n",
       "    </tr>\n",
       "    <tr>\n",
       "      <th>3</th>\n",
       "      <td>1000</td>\n",
       "      <td>52</td>\n",
       "      <td>2018-12-30</td>\n",
       "      <td>Краснодар</td>\n",
       "      <td>Рафаил</td>\n",
       "      <td>Верещагин</td>\n",
       "      <td>2018-05-25</td>\n",
       "      <td>ultra</td>\n",
       "      <td>1000</td>\n",
       "      <td>30720</td>\n",
       "      <td>...</td>\n",
       "      <td>150</td>\n",
       "      <td>1</td>\n",
       "      <td>1</td>\n",
       "      <td>3.0</td>\n",
       "      <td>1000_3</td>\n",
       "      <td>550.27</td>\n",
       "      <td>2018-08-22</td>\n",
       "      <td>2.0</td>\n",
       "      <td>8.0</td>\n",
       "      <td>2018.0</td>\n",
       "    </tr>\n",
       "    <tr>\n",
       "      <th>4</th>\n",
       "      <td>1000</td>\n",
       "      <td>52</td>\n",
       "      <td>2018-12-30</td>\n",
       "      <td>Краснодар</td>\n",
       "      <td>Рафаил</td>\n",
       "      <td>Верещагин</td>\n",
       "      <td>2018-05-25</td>\n",
       "      <td>ultra</td>\n",
       "      <td>1000</td>\n",
       "      <td>30720</td>\n",
       "      <td>...</td>\n",
       "      <td>150</td>\n",
       "      <td>1</td>\n",
       "      <td>1</td>\n",
       "      <td>4.0</td>\n",
       "      <td>1000_4</td>\n",
       "      <td>302.56</td>\n",
       "      <td>2018-09-24</td>\n",
       "      <td>0.0</td>\n",
       "      <td>9.0</td>\n",
       "      <td>2018.0</td>\n",
       "    </tr>\n",
       "    <tr>\n",
       "      <th>...</th>\n",
       "      <td>...</td>\n",
       "      <td>...</td>\n",
       "      <td>...</td>\n",
       "      <td>...</td>\n",
       "      <td>...</td>\n",
       "      <td>...</td>\n",
       "      <td>...</td>\n",
       "      <td>...</td>\n",
       "      <td>...</td>\n",
       "      <td>...</td>\n",
       "      <td>...</td>\n",
       "      <td>...</td>\n",
       "      <td>...</td>\n",
       "      <td>...</td>\n",
       "      <td>...</td>\n",
       "      <td>...</td>\n",
       "      <td>...</td>\n",
       "      <td>...</td>\n",
       "      <td>...</td>\n",
       "      <td>...</td>\n",
       "      <td>...</td>\n",
       "    </tr>\n",
       "    <tr>\n",
       "      <th>149394</th>\n",
       "      <td>1499</td>\n",
       "      <td>35</td>\n",
       "      <td>2018-12-30</td>\n",
       "      <td>Пермь</td>\n",
       "      <td>Гектор</td>\n",
       "      <td>Корнилов</td>\n",
       "      <td>2018-09-27</td>\n",
       "      <td>smart</td>\n",
       "      <td>50</td>\n",
       "      <td>15360</td>\n",
       "      <td>...</td>\n",
       "      <td>200</td>\n",
       "      <td>3</td>\n",
       "      <td>3</td>\n",
       "      <td>149391.0</td>\n",
       "      <td>1499_152</td>\n",
       "      <td>318.90</td>\n",
       "      <td>2018-10-03</td>\n",
       "      <td>2.0</td>\n",
       "      <td>10.0</td>\n",
       "      <td>2018.0</td>\n",
       "    </tr>\n",
       "    <tr>\n",
       "      <th>149395</th>\n",
       "      <td>1499</td>\n",
       "      <td>35</td>\n",
       "      <td>2018-12-30</td>\n",
       "      <td>Пермь</td>\n",
       "      <td>Гектор</td>\n",
       "      <td>Корнилов</td>\n",
       "      <td>2018-09-27</td>\n",
       "      <td>smart</td>\n",
       "      <td>50</td>\n",
       "      <td>15360</td>\n",
       "      <td>...</td>\n",
       "      <td>200</td>\n",
       "      <td>3</td>\n",
       "      <td>3</td>\n",
       "      <td>149392.0</td>\n",
       "      <td>1499_153</td>\n",
       "      <td>490.13</td>\n",
       "      <td>2018-12-14</td>\n",
       "      <td>4.0</td>\n",
       "      <td>12.0</td>\n",
       "      <td>2018.0</td>\n",
       "    </tr>\n",
       "    <tr>\n",
       "      <th>149396</th>\n",
       "      <td>1499</td>\n",
       "      <td>35</td>\n",
       "      <td>2018-12-30</td>\n",
       "      <td>Пермь</td>\n",
       "      <td>Гектор</td>\n",
       "      <td>Корнилов</td>\n",
       "      <td>2018-09-27</td>\n",
       "      <td>smart</td>\n",
       "      <td>50</td>\n",
       "      <td>15360</td>\n",
       "      <td>...</td>\n",
       "      <td>200</td>\n",
       "      <td>3</td>\n",
       "      <td>3</td>\n",
       "      <td>149393.0</td>\n",
       "      <td>1499_154</td>\n",
       "      <td>0.00</td>\n",
       "      <td>2018-10-27</td>\n",
       "      <td>5.0</td>\n",
       "      <td>10.0</td>\n",
       "      <td>2018.0</td>\n",
       "    </tr>\n",
       "    <tr>\n",
       "      <th>149397</th>\n",
       "      <td>1499</td>\n",
       "      <td>35</td>\n",
       "      <td>2018-12-30</td>\n",
       "      <td>Пермь</td>\n",
       "      <td>Гектор</td>\n",
       "      <td>Корнилов</td>\n",
       "      <td>2018-09-27</td>\n",
       "      <td>smart</td>\n",
       "      <td>50</td>\n",
       "      <td>15360</td>\n",
       "      <td>...</td>\n",
       "      <td>200</td>\n",
       "      <td>3</td>\n",
       "      <td>3</td>\n",
       "      <td>149394.0</td>\n",
       "      <td>1499_155</td>\n",
       "      <td>1246.32</td>\n",
       "      <td>2018-11-26</td>\n",
       "      <td>0.0</td>\n",
       "      <td>11.0</td>\n",
       "      <td>2018.0</td>\n",
       "    </tr>\n",
       "    <tr>\n",
       "      <th>149398</th>\n",
       "      <td>1499</td>\n",
       "      <td>35</td>\n",
       "      <td>2018-12-30</td>\n",
       "      <td>Пермь</td>\n",
       "      <td>Гектор</td>\n",
       "      <td>Корнилов</td>\n",
       "      <td>2018-09-27</td>\n",
       "      <td>smart</td>\n",
       "      <td>50</td>\n",
       "      <td>15360</td>\n",
       "      <td>...</td>\n",
       "      <td>200</td>\n",
       "      <td>3</td>\n",
       "      <td>3</td>\n",
       "      <td>149395.0</td>\n",
       "      <td>1499_156</td>\n",
       "      <td>544.37</td>\n",
       "      <td>2018-10-26</td>\n",
       "      <td>4.0</td>\n",
       "      <td>10.0</td>\n",
       "      <td>2018.0</td>\n",
       "    </tr>\n",
       "  </tbody>\n",
       "</table>\n",
       "<p>149399 rows × 22 columns</p>\n",
       "</div>"
      ],
      "text/plain": [
       "        user_id  age churn_date       city first_name  last_name   reg_date  \\\n",
       "0          1000   52 2018-12-30  Краснодар     Рафаил  Верещагин 2018-05-25   \n",
       "1          1000   52 2018-12-30  Краснодар     Рафаил  Верещагин 2018-05-25   \n",
       "2          1000   52 2018-12-30  Краснодар     Рафаил  Верещагин 2018-05-25   \n",
       "3          1000   52 2018-12-30  Краснодар     Рафаил  Верещагин 2018-05-25   \n",
       "4          1000   52 2018-12-30  Краснодар     Рафаил  Верещагин 2018-05-25   \n",
       "...         ...  ...        ...        ...        ...        ...        ...   \n",
       "149394     1499   35 2018-12-30      Пермь     Гектор   Корнилов 2018-09-27   \n",
       "149395     1499   35 2018-12-30      Пермь     Гектор   Корнилов 2018-09-27   \n",
       "149396     1499   35 2018-12-30      Пермь     Гектор   Корнилов 2018-09-27   \n",
       "149397     1499   35 2018-12-30      Пермь     Гектор   Корнилов 2018-09-27   \n",
       "149398     1499   35 2018-12-30      Пермь     Гектор   Корнилов 2018-09-27   \n",
       "\n",
       "       tariff_name  messages_included  mb_per_month_included  ...  rub_per_gb  \\\n",
       "0            ultra               1000                  30720  ...         150   \n",
       "1            ultra               1000                  30720  ...         150   \n",
       "2            ultra               1000                  30720  ...         150   \n",
       "3            ultra               1000                  30720  ...         150   \n",
       "4            ultra               1000                  30720  ...         150   \n",
       "...            ...                ...                    ...  ...         ...   \n",
       "149394       smart                 50                  15360  ...         200   \n",
       "149395       smart                 50                  15360  ...         200   \n",
       "149396       smart                 50                  15360  ...         200   \n",
       "149397       smart                 50                  15360  ...         200   \n",
       "149398       smart                 50                  15360  ...         200   \n",
       "\n",
       "        rub_per_message  rub_per_minute  Unnamed: 0        id  mb_used  \\\n",
       "0                     1               1         0.0    1000_0   112.95   \n",
       "1                     1               1         1.0    1000_1  1052.81   \n",
       "2                     1               1         2.0    1000_2  1197.26   \n",
       "3                     1               1         3.0    1000_3   550.27   \n",
       "4                     1               1         4.0    1000_4   302.56   \n",
       "...                 ...             ...         ...       ...      ...   \n",
       "149394                3               3    149391.0  1499_152   318.90   \n",
       "149395                3               3    149392.0  1499_153   490.13   \n",
       "149396                3               3    149393.0  1499_154     0.00   \n",
       "149397                3               3    149394.0  1499_155  1246.32   \n",
       "149398                3               3    149395.0  1499_156   544.37   \n",
       "\n",
       "       session_date  day_weekday day_month  day_year  \n",
       "0        2018-11-25          6.0      11.0    2018.0  \n",
       "1        2018-09-07          4.0       9.0    2018.0  \n",
       "2        2018-06-25          0.0       6.0    2018.0  \n",
       "3        2018-08-22          2.0       8.0    2018.0  \n",
       "4        2018-09-24          0.0       9.0    2018.0  \n",
       "...             ...          ...       ...       ...  \n",
       "149394   2018-10-03          2.0      10.0    2018.0  \n",
       "149395   2018-12-14          4.0      12.0    2018.0  \n",
       "149396   2018-10-27          5.0      10.0    2018.0  \n",
       "149397   2018-11-26          0.0      11.0    2018.0  \n",
       "149398   2018-10-26          4.0      10.0    2018.0  \n",
       "\n",
       "[149399 rows x 22 columns]"
      ]
     },
     "metadata": {},
     "output_type": "display_data"
    }
   ],
   "source": [
    "users_tariffs_internet=users_tariffs.merge(internet, on = ['user_id'], how = 'left')\n",
    "display (users_tariffs_internet)"
   ]
  },
  {
   "cell_type": "code",
   "execution_count": 11,
   "metadata": {},
   "outputs": [
    {
     "data": {
      "text/html": [
       "<div>\n",
       "<style scoped>\n",
       "    .dataframe tbody tr th:only-of-type {\n",
       "        vertical-align: middle;\n",
       "    }\n",
       "\n",
       "    .dataframe tbody tr th {\n",
       "        vertical-align: top;\n",
       "    }\n",
       "\n",
       "    .dataframe thead tr th {\n",
       "        text-align: left;\n",
       "    }\n",
       "\n",
       "    .dataframe thead tr:last-of-type th {\n",
       "        text-align: right;\n",
       "    }\n",
       "</style>\n",
       "<table border=\"1\" class=\"dataframe\">\n",
       "  <thead>\n",
       "    <tr>\n",
       "      <th></th>\n",
       "      <th></th>\n",
       "      <th></th>\n",
       "      <th></th>\n",
       "      <th></th>\n",
       "      <th></th>\n",
       "      <th></th>\n",
       "      <th></th>\n",
       "      <th></th>\n",
       "      <th></th>\n",
       "      <th></th>\n",
       "      <th></th>\n",
       "      <th>sum</th>\n",
       "    </tr>\n",
       "    <tr>\n",
       "      <th></th>\n",
       "      <th></th>\n",
       "      <th></th>\n",
       "      <th></th>\n",
       "      <th></th>\n",
       "      <th></th>\n",
       "      <th></th>\n",
       "      <th></th>\n",
       "      <th></th>\n",
       "      <th></th>\n",
       "      <th></th>\n",
       "      <th></th>\n",
       "      <th>mb_used</th>\n",
       "    </tr>\n",
       "    <tr>\n",
       "      <th>user_id</th>\n",
       "      <th>age</th>\n",
       "      <th>city</th>\n",
       "      <th>day_month</th>\n",
       "      <th>tariff_name</th>\n",
       "      <th>rub_monthly_fee</th>\n",
       "      <th>minutes_included</th>\n",
       "      <th>messages_included</th>\n",
       "      <th>rub_per_message</th>\n",
       "      <th>rub_per_gb</th>\n",
       "      <th>rub_per_minute</th>\n",
       "      <th>mb_per_month_included</th>\n",
       "      <th></th>\n",
       "    </tr>\n",
       "  </thead>\n",
       "  <tbody>\n",
       "    <tr>\n",
       "      <th rowspan=\"8\" valign=\"top\">1000</th>\n",
       "      <th rowspan=\"8\" valign=\"top\">52</th>\n",
       "      <th rowspan=\"8\" valign=\"top\">Краснодар</th>\n",
       "      <th>5.0</th>\n",
       "      <th>ultra</th>\n",
       "      <th>1950</th>\n",
       "      <th>3000</th>\n",
       "      <th>1000</th>\n",
       "      <th>1</th>\n",
       "      <th>150</th>\n",
       "      <th>1</th>\n",
       "      <th>30720</th>\n",
       "      <td>2253.49</td>\n",
       "    </tr>\n",
       "    <tr>\n",
       "      <th>6.0</th>\n",
       "      <th>ultra</th>\n",
       "      <th>1950</th>\n",
       "      <th>3000</th>\n",
       "      <th>1000</th>\n",
       "      <th>1</th>\n",
       "      <th>150</th>\n",
       "      <th>1</th>\n",
       "      <th>30720</th>\n",
       "      <td>23233.77</td>\n",
       "    </tr>\n",
       "    <tr>\n",
       "      <th>7.0</th>\n",
       "      <th>ultra</th>\n",
       "      <th>1950</th>\n",
       "      <th>3000</th>\n",
       "      <th>1000</th>\n",
       "      <th>1</th>\n",
       "      <th>150</th>\n",
       "      <th>1</th>\n",
       "      <th>30720</th>\n",
       "      <td>14003.64</td>\n",
       "    </tr>\n",
       "    <tr>\n",
       "      <th>8.0</th>\n",
       "      <th>ultra</th>\n",
       "      <th>1950</th>\n",
       "      <th>3000</th>\n",
       "      <th>1000</th>\n",
       "      <th>1</th>\n",
       "      <th>150</th>\n",
       "      <th>1</th>\n",
       "      <th>30720</th>\n",
       "      <td>14055.93</td>\n",
       "    </tr>\n",
       "    <tr>\n",
       "      <th>9.0</th>\n",
       "      <th>ultra</th>\n",
       "      <th>1950</th>\n",
       "      <th>3000</th>\n",
       "      <th>1000</th>\n",
       "      <th>1</th>\n",
       "      <th>150</th>\n",
       "      <th>1</th>\n",
       "      <th>30720</th>\n",
       "      <td>14568.91</td>\n",
       "    </tr>\n",
       "    <tr>\n",
       "      <th>10.0</th>\n",
       "      <th>ultra</th>\n",
       "      <th>1950</th>\n",
       "      <th>3000</th>\n",
       "      <th>1000</th>\n",
       "      <th>1</th>\n",
       "      <th>150</th>\n",
       "      <th>1</th>\n",
       "      <th>30720</th>\n",
       "      <td>14702.49</td>\n",
       "    </tr>\n",
       "    <tr>\n",
       "      <th>11.0</th>\n",
       "      <th>ultra</th>\n",
       "      <th>1950</th>\n",
       "      <th>3000</th>\n",
       "      <th>1000</th>\n",
       "      <th>1</th>\n",
       "      <th>150</th>\n",
       "      <th>1</th>\n",
       "      <th>30720</th>\n",
       "      <td>14756.47</td>\n",
       "    </tr>\n",
       "    <tr>\n",
       "      <th>12.0</th>\n",
       "      <th>ultra</th>\n",
       "      <th>1950</th>\n",
       "      <th>3000</th>\n",
       "      <th>1000</th>\n",
       "      <th>1</th>\n",
       "      <th>150</th>\n",
       "      <th>1</th>\n",
       "      <th>30720</th>\n",
       "      <td>9817.61</td>\n",
       "    </tr>\n",
       "    <tr>\n",
       "      <th rowspan=\"2\" valign=\"top\">1001</th>\n",
       "      <th rowspan=\"2\" valign=\"top\">41</th>\n",
       "      <th rowspan=\"2\" valign=\"top\">Москва</th>\n",
       "      <th>11.0</th>\n",
       "      <th>smart</th>\n",
       "      <th>550</th>\n",
       "      <th>500</th>\n",
       "      <th>50</th>\n",
       "      <th>3</th>\n",
       "      <th>200</th>\n",
       "      <th>3</th>\n",
       "      <th>15360</th>\n",
       "      <td>18429.34</td>\n",
       "    </tr>\n",
       "    <tr>\n",
       "      <th>12.0</th>\n",
       "      <th>smart</th>\n",
       "      <th>550</th>\n",
       "      <th>500</th>\n",
       "      <th>50</th>\n",
       "      <th>3</th>\n",
       "      <th>200</th>\n",
       "      <th>3</th>\n",
       "      <th>15360</th>\n",
       "      <td>14036.66</td>\n",
       "    </tr>\n",
       "    <tr>\n",
       "      <th rowspan=\"7\" valign=\"top\">1002</th>\n",
       "      <th rowspan=\"7\" valign=\"top\">59</th>\n",
       "      <th rowspan=\"7\" valign=\"top\">Стерлитамак</th>\n",
       "      <th>6.0</th>\n",
       "      <th>smart</th>\n",
       "      <th>550</th>\n",
       "      <th>500</th>\n",
       "      <th>50</th>\n",
       "      <th>3</th>\n",
       "      <th>200</th>\n",
       "      <th>3</th>\n",
       "      <th>15360</th>\n",
       "      <td>10856.82</td>\n",
       "    </tr>\n",
       "    <tr>\n",
       "      <th>7.0</th>\n",
       "      <th>smart</th>\n",
       "      <th>550</th>\n",
       "      <th>500</th>\n",
       "      <th>50</th>\n",
       "      <th>3</th>\n",
       "      <th>200</th>\n",
       "      <th>3</th>\n",
       "      <th>15360</th>\n",
       "      <td>17580.10</td>\n",
       "    </tr>\n",
       "    <tr>\n",
       "      <th>8.0</th>\n",
       "      <th>smart</th>\n",
       "      <th>550</th>\n",
       "      <th>500</th>\n",
       "      <th>50</th>\n",
       "      <th>3</th>\n",
       "      <th>200</th>\n",
       "      <th>3</th>\n",
       "      <th>15360</th>\n",
       "      <td>20319.26</td>\n",
       "    </tr>\n",
       "    <tr>\n",
       "      <th>9.0</th>\n",
       "      <th>smart</th>\n",
       "      <th>550</th>\n",
       "      <th>500</th>\n",
       "      <th>50</th>\n",
       "      <th>3</th>\n",
       "      <th>200</th>\n",
       "      <th>3</th>\n",
       "      <th>15360</th>\n",
       "      <td>16691.08</td>\n",
       "    </tr>\n",
       "    <tr>\n",
       "      <th>10.0</th>\n",
       "      <th>smart</th>\n",
       "      <th>550</th>\n",
       "      <th>500</th>\n",
       "      <th>50</th>\n",
       "      <th>3</th>\n",
       "      <th>200</th>\n",
       "      <th>3</th>\n",
       "      <th>15360</th>\n",
       "      <td>13888.25</td>\n",
       "    </tr>\n",
       "    <tr>\n",
       "      <th>11.0</th>\n",
       "      <th>smart</th>\n",
       "      <th>550</th>\n",
       "      <th>500</th>\n",
       "      <th>50</th>\n",
       "      <th>3</th>\n",
       "      <th>200</th>\n",
       "      <th>3</th>\n",
       "      <th>15360</th>\n",
       "      <td>18587.28</td>\n",
       "    </tr>\n",
       "    <tr>\n",
       "      <th>12.0</th>\n",
       "      <th>smart</th>\n",
       "      <th>550</th>\n",
       "      <th>500</th>\n",
       "      <th>50</th>\n",
       "      <th>3</th>\n",
       "      <th>200</th>\n",
       "      <th>3</th>\n",
       "      <th>15360</th>\n",
       "      <td>18113.73</td>\n",
       "    </tr>\n",
       "    <tr>\n",
       "      <th rowspan=\"3\" valign=\"top\">1003</th>\n",
       "      <th rowspan=\"3\" valign=\"top\">23</th>\n",
       "      <th rowspan=\"3\" valign=\"top\">Москва</th>\n",
       "      <th>8.0</th>\n",
       "      <th>ultra</th>\n",
       "      <th>1950</th>\n",
       "      <th>3000</th>\n",
       "      <th>1000</th>\n",
       "      <th>1</th>\n",
       "      <th>150</th>\n",
       "      <th>1</th>\n",
       "      <th>30720</th>\n",
       "      <td>8565.21</td>\n",
       "    </tr>\n",
       "    <tr>\n",
       "      <th>9.0</th>\n",
       "      <th>ultra</th>\n",
       "      <th>1950</th>\n",
       "      <th>3000</th>\n",
       "      <th>1000</th>\n",
       "      <th>1</th>\n",
       "      <th>150</th>\n",
       "      <th>1</th>\n",
       "      <th>30720</th>\n",
       "      <td>12468.87</td>\n",
       "    </tr>\n",
       "    <tr>\n",
       "      <th>10.0</th>\n",
       "      <th>ultra</th>\n",
       "      <th>1950</th>\n",
       "      <th>3000</th>\n",
       "      <th>1000</th>\n",
       "      <th>1</th>\n",
       "      <th>150</th>\n",
       "      <th>1</th>\n",
       "      <th>30720</th>\n",
       "      <td>14768.14</td>\n",
       "    </tr>\n",
       "  </tbody>\n",
       "</table>\n",
       "</div>"
      ],
      "text/plain": [
       "                                                                                                                                                                       sum\n",
       "                                                                                                                                                                   mb_used\n",
       "user_id age city        day_month tariff_name rub_monthly_fee minutes_included messages_included rub_per_message rub_per_gb rub_per_minute mb_per_month_included          \n",
       "1000    52  Краснодар   5.0       ultra       1950            3000             1000              1               150        1              30720                   2253.49\n",
       "                        6.0       ultra       1950            3000             1000              1               150        1              30720                  23233.77\n",
       "                        7.0       ultra       1950            3000             1000              1               150        1              30720                  14003.64\n",
       "                        8.0       ultra       1950            3000             1000              1               150        1              30720                  14055.93\n",
       "                        9.0       ultra       1950            3000             1000              1               150        1              30720                  14568.91\n",
       "                        10.0      ultra       1950            3000             1000              1               150        1              30720                  14702.49\n",
       "                        11.0      ultra       1950            3000             1000              1               150        1              30720                  14756.47\n",
       "                        12.0      ultra       1950            3000             1000              1               150        1              30720                   9817.61\n",
       "1001    41  Москва      11.0      smart       550             500              50                3               200        3              15360                  18429.34\n",
       "                        12.0      smart       550             500              50                3               200        3              15360                  14036.66\n",
       "1002    59  Стерлитамак 6.0       smart       550             500              50                3               200        3              15360                  10856.82\n",
       "                        7.0       smart       550             500              50                3               200        3              15360                  17580.10\n",
       "                        8.0       smart       550             500              50                3               200        3              15360                  20319.26\n",
       "                        9.0       smart       550             500              50                3               200        3              15360                  16691.08\n",
       "                        10.0      smart       550             500              50                3               200        3              15360                  13888.25\n",
       "                        11.0      smart       550             500              50                3               200        3              15360                  18587.28\n",
       "                        12.0      smart       550             500              50                3               200        3              15360                  18113.73\n",
       "1003    23  Москва      8.0       ultra       1950            3000             1000              1               150        1              30720                   8565.21\n",
       "                        9.0       ultra       1950            3000             1000              1               150        1              30720                  12468.87\n",
       "                        10.0      ultra       1950            3000             1000              1               150        1              30720                  14768.14"
      ]
     },
     "metadata": {},
     "output_type": "display_data"
    }
   ],
   "source": [
    "month_internet = users_tariffs_internet.pivot_table(index = ['user_id', 'age', 'city', 'day_month', 'tariff_name', 'rub_monthly_fee', 'minutes_included', 'messages_included', 'rub_per_message', 'rub_per_gb', 'rub_per_minute', 'mb_per_month_included'], values = ['mb_used'], aggfunc=['sum'])\n",
    "\n",
    "display(month_internet.head(20)) "
   ]
  },
  {
   "cell_type": "markdown",
   "metadata": {},
   "source": [
    "<div class=\"alert alert-success\">\n",
    "<b>Комментарий ревьюера \"хорошее решение\":</b> Помесячный трафик в Мб посчитан верно. Дальше важно не забыть перевести его в Гб."
   ]
  },
  {
   "cell_type": "markdown",
   "metadata": {},
   "source": [
    "<div class=\"alert alert-info\">\n",
    "<font color='black'> <b> Наконец получим полную таблицу звонков, сообщений и интернета по месяцам  </font> <b>"
   ]
  },
  {
   "cell_type": "code",
   "execution_count": 12,
   "metadata": {},
   "outputs": [
    {
     "data": {
      "text/html": [
       "<div>\n",
       "<style scoped>\n",
       "    .dataframe tbody tr th:only-of-type {\n",
       "        vertical-align: middle;\n",
       "    }\n",
       "\n",
       "    .dataframe tbody tr th {\n",
       "        vertical-align: top;\n",
       "    }\n",
       "\n",
       "    .dataframe thead th {\n",
       "        text-align: right;\n",
       "    }\n",
       "</style>\n",
       "<table border=\"1\" class=\"dataframe\">\n",
       "  <thead>\n",
       "    <tr style=\"text-align: right;\">\n",
       "      <th></th>\n",
       "      <th></th>\n",
       "      <th></th>\n",
       "      <th></th>\n",
       "      <th></th>\n",
       "      <th></th>\n",
       "      <th></th>\n",
       "      <th></th>\n",
       "      <th></th>\n",
       "      <th></th>\n",
       "      <th></th>\n",
       "      <th></th>\n",
       "      <th>duration_count</th>\n",
       "      <th>duration_count_sum</th>\n",
       "      <th>messages</th>\n",
       "      <th>mb_used</th>\n",
       "      <th>gb_used</th>\n",
       "    </tr>\n",
       "    <tr>\n",
       "      <th>user_id</th>\n",
       "      <th>age</th>\n",
       "      <th>city</th>\n",
       "      <th>day_month</th>\n",
       "      <th>tariff_name</th>\n",
       "      <th>rub_monthly_fee</th>\n",
       "      <th>minutes_included</th>\n",
       "      <th>messages_included</th>\n",
       "      <th>rub_per_message</th>\n",
       "      <th>rub_per_gb</th>\n",
       "      <th>rub_per_minute</th>\n",
       "      <th>mb_per_month_included</th>\n",
       "      <th></th>\n",
       "      <th></th>\n",
       "      <th></th>\n",
       "      <th></th>\n",
       "      <th></th>\n",
       "    </tr>\n",
       "  </thead>\n",
       "  <tbody>\n",
       "    <tr>\n",
       "      <th rowspan=\"8\" valign=\"top\">1000</th>\n",
       "      <th rowspan=\"8\" valign=\"top\">52</th>\n",
       "      <th rowspan=\"8\" valign=\"top\">Краснодар</th>\n",
       "      <th>5.0</th>\n",
       "      <th>ultra</th>\n",
       "      <th>1950</th>\n",
       "      <th>3000</th>\n",
       "      <th>1000</th>\n",
       "      <th>1</th>\n",
       "      <th>150</th>\n",
       "      <th>1</th>\n",
       "      <th>30720</th>\n",
       "      <td>22</td>\n",
       "      <td>164.0</td>\n",
       "      <td>22.0</td>\n",
       "      <td>2253.49</td>\n",
       "      <td>3.0</td>\n",
       "    </tr>\n",
       "    <tr>\n",
       "      <th>6.0</th>\n",
       "      <th>ultra</th>\n",
       "      <th>1950</th>\n",
       "      <th>3000</th>\n",
       "      <th>1000</th>\n",
       "      <th>1</th>\n",
       "      <th>150</th>\n",
       "      <th>1</th>\n",
       "      <th>30720</th>\n",
       "      <td>43</td>\n",
       "      <td>187.0</td>\n",
       "      <td>60.0</td>\n",
       "      <td>23233.77</td>\n",
       "      <td>23.0</td>\n",
       "    </tr>\n",
       "    <tr>\n",
       "      <th>7.0</th>\n",
       "      <th>ultra</th>\n",
       "      <th>1950</th>\n",
       "      <th>3000</th>\n",
       "      <th>1000</th>\n",
       "      <th>1</th>\n",
       "      <th>150</th>\n",
       "      <th>1</th>\n",
       "      <th>30720</th>\n",
       "      <td>47</td>\n",
       "      <td>346.0</td>\n",
       "      <td>75.0</td>\n",
       "      <td>14003.64</td>\n",
       "      <td>14.0</td>\n",
       "    </tr>\n",
       "    <tr>\n",
       "      <th>8.0</th>\n",
       "      <th>ultra</th>\n",
       "      <th>1950</th>\n",
       "      <th>3000</th>\n",
       "      <th>1000</th>\n",
       "      <th>1</th>\n",
       "      <th>150</th>\n",
       "      <th>1</th>\n",
       "      <th>30720</th>\n",
       "      <td>52</td>\n",
       "      <td>418.0</td>\n",
       "      <td>81.0</td>\n",
       "      <td>14055.93</td>\n",
       "      <td>14.0</td>\n",
       "    </tr>\n",
       "    <tr>\n",
       "      <th>9.0</th>\n",
       "      <th>ultra</th>\n",
       "      <th>1950</th>\n",
       "      <th>3000</th>\n",
       "      <th>1000</th>\n",
       "      <th>1</th>\n",
       "      <th>150</th>\n",
       "      <th>1</th>\n",
       "      <th>30720</th>\n",
       "      <td>58</td>\n",
       "      <td>478.0</td>\n",
       "      <td>57.0</td>\n",
       "      <td>14568.91</td>\n",
       "      <td>15.0</td>\n",
       "    </tr>\n",
       "    <tr>\n",
       "      <th>10.0</th>\n",
       "      <th>ultra</th>\n",
       "      <th>1950</th>\n",
       "      <th>3000</th>\n",
       "      <th>1000</th>\n",
       "      <th>1</th>\n",
       "      <th>150</th>\n",
       "      <th>1</th>\n",
       "      <th>30720</th>\n",
       "      <td>57</td>\n",
       "      <td>363.0</td>\n",
       "      <td>73.0</td>\n",
       "      <td>14702.49</td>\n",
       "      <td>15.0</td>\n",
       "    </tr>\n",
       "    <tr>\n",
       "      <th>11.0</th>\n",
       "      <th>ultra</th>\n",
       "      <th>1950</th>\n",
       "      <th>3000</th>\n",
       "      <th>1000</th>\n",
       "      <th>1</th>\n",
       "      <th>150</th>\n",
       "      <th>1</th>\n",
       "      <th>30720</th>\n",
       "      <td>43</td>\n",
       "      <td>344.0</td>\n",
       "      <td>58.0</td>\n",
       "      <td>14756.47</td>\n",
       "      <td>15.0</td>\n",
       "    </tr>\n",
       "    <tr>\n",
       "      <th>12.0</th>\n",
       "      <th>ultra</th>\n",
       "      <th>1950</th>\n",
       "      <th>3000</th>\n",
       "      <th>1000</th>\n",
       "      <th>1</th>\n",
       "      <th>150</th>\n",
       "      <th>1</th>\n",
       "      <th>30720</th>\n",
       "      <td>46</td>\n",
       "      <td>341.0</td>\n",
       "      <td>70.0</td>\n",
       "      <td>9817.61</td>\n",
       "      <td>10.0</td>\n",
       "    </tr>\n",
       "    <tr>\n",
       "      <th rowspan=\"2\" valign=\"top\">1001</th>\n",
       "      <th rowspan=\"2\" valign=\"top\">41</th>\n",
       "      <th rowspan=\"2\" valign=\"top\">Москва</th>\n",
       "      <th>11.0</th>\n",
       "      <th>smart</th>\n",
       "      <th>550</th>\n",
       "      <th>500</th>\n",
       "      <th>50</th>\n",
       "      <th>3</th>\n",
       "      <th>200</th>\n",
       "      <th>3</th>\n",
       "      <th>15360</th>\n",
       "      <td>59</td>\n",
       "      <td>444.0</td>\n",
       "      <td>NaN</td>\n",
       "      <td>18429.34</td>\n",
       "      <td>18.0</td>\n",
       "    </tr>\n",
       "    <tr>\n",
       "      <th>12.0</th>\n",
       "      <th>smart</th>\n",
       "      <th>550</th>\n",
       "      <th>500</th>\n",
       "      <th>50</th>\n",
       "      <th>3</th>\n",
       "      <th>200</th>\n",
       "      <th>3</th>\n",
       "      <th>15360</th>\n",
       "      <td>63</td>\n",
       "      <td>430.0</td>\n",
       "      <td>NaN</td>\n",
       "      <td>14036.66</td>\n",
       "      <td>14.0</td>\n",
       "    </tr>\n",
       "    <tr>\n",
       "      <th rowspan=\"5\" valign=\"top\">1002</th>\n",
       "      <th rowspan=\"5\" valign=\"top\">59</th>\n",
       "      <th rowspan=\"5\" valign=\"top\">Стерлитамак</th>\n",
       "      <th>6.0</th>\n",
       "      <th>smart</th>\n",
       "      <th>550</th>\n",
       "      <th>500</th>\n",
       "      <th>50</th>\n",
       "      <th>3</th>\n",
       "      <th>200</th>\n",
       "      <th>3</th>\n",
       "      <th>15360</th>\n",
       "      <td>15</td>\n",
       "      <td>118.0</td>\n",
       "      <td>4.0</td>\n",
       "      <td>10856.82</td>\n",
       "      <td>11.0</td>\n",
       "    </tr>\n",
       "    <tr>\n",
       "      <th>7.0</th>\n",
       "      <th>smart</th>\n",
       "      <th>550</th>\n",
       "      <th>500</th>\n",
       "      <th>50</th>\n",
       "      <th>3</th>\n",
       "      <th>200</th>\n",
       "      <th>3</th>\n",
       "      <th>15360</th>\n",
       "      <td>26</td>\n",
       "      <td>219.0</td>\n",
       "      <td>11.0</td>\n",
       "      <td>17580.10</td>\n",
       "      <td>18.0</td>\n",
       "    </tr>\n",
       "    <tr>\n",
       "      <th>8.0</th>\n",
       "      <th>smart</th>\n",
       "      <th>550</th>\n",
       "      <th>500</th>\n",
       "      <th>50</th>\n",
       "      <th>3</th>\n",
       "      <th>200</th>\n",
       "      <th>3</th>\n",
       "      <th>15360</th>\n",
       "      <td>42</td>\n",
       "      <td>294.0</td>\n",
       "      <td>13.0</td>\n",
       "      <td>20319.26</td>\n",
       "      <td>20.0</td>\n",
       "    </tr>\n",
       "    <tr>\n",
       "      <th>9.0</th>\n",
       "      <th>smart</th>\n",
       "      <th>550</th>\n",
       "      <th>500</th>\n",
       "      <th>50</th>\n",
       "      <th>3</th>\n",
       "      <th>200</th>\n",
       "      <th>3</th>\n",
       "      <th>15360</th>\n",
       "      <td>36</td>\n",
       "      <td>217.0</td>\n",
       "      <td>4.0</td>\n",
       "      <td>16691.08</td>\n",
       "      <td>17.0</td>\n",
       "    </tr>\n",
       "    <tr>\n",
       "      <th>10.0</th>\n",
       "      <th>smart</th>\n",
       "      <th>550</th>\n",
       "      <th>500</th>\n",
       "      <th>50</th>\n",
       "      <th>3</th>\n",
       "      <th>200</th>\n",
       "      <th>3</th>\n",
       "      <th>15360</th>\n",
       "      <td>33</td>\n",
       "      <td>221.0</td>\n",
       "      <td>10.0</td>\n",
       "      <td>13888.25</td>\n",
       "      <td>14.0</td>\n",
       "    </tr>\n",
       "  </tbody>\n",
       "</table>\n",
       "</div>"
      ],
      "text/plain": [
       "                                                                                                                                                                  duration_count  \\\n",
       "user_id age city        day_month tariff_name rub_monthly_fee minutes_included messages_included rub_per_message rub_per_gb rub_per_minute mb_per_month_included                   \n",
       "1000    52  Краснодар   5.0       ultra       1950            3000             1000              1               150        1              30720                              22   \n",
       "                        6.0       ultra       1950            3000             1000              1               150        1              30720                              43   \n",
       "                        7.0       ultra       1950            3000             1000              1               150        1              30720                              47   \n",
       "                        8.0       ultra       1950            3000             1000              1               150        1              30720                              52   \n",
       "                        9.0       ultra       1950            3000             1000              1               150        1              30720                              58   \n",
       "                        10.0      ultra       1950            3000             1000              1               150        1              30720                              57   \n",
       "                        11.0      ultra       1950            3000             1000              1               150        1              30720                              43   \n",
       "                        12.0      ultra       1950            3000             1000              1               150        1              30720                              46   \n",
       "1001    41  Москва      11.0      smart       550             500              50                3               200        3              15360                              59   \n",
       "                        12.0      smart       550             500              50                3               200        3              15360                              63   \n",
       "1002    59  Стерлитамак 6.0       smart       550             500              50                3               200        3              15360                              15   \n",
       "                        7.0       smart       550             500              50                3               200        3              15360                              26   \n",
       "                        8.0       smart       550             500              50                3               200        3              15360                              42   \n",
       "                        9.0       smart       550             500              50                3               200        3              15360                              36   \n",
       "                        10.0      smart       550             500              50                3               200        3              15360                              33   \n",
       "\n",
       "                                                                                                                                                                  duration_count_sum  \\\n",
       "user_id age city        day_month tariff_name rub_monthly_fee minutes_included messages_included rub_per_message rub_per_gb rub_per_minute mb_per_month_included                       \n",
       "1000    52  Краснодар   5.0       ultra       1950            3000             1000              1               150        1              30720                               164.0   \n",
       "                        6.0       ultra       1950            3000             1000              1               150        1              30720                               187.0   \n",
       "                        7.0       ultra       1950            3000             1000              1               150        1              30720                               346.0   \n",
       "                        8.0       ultra       1950            3000             1000              1               150        1              30720                               418.0   \n",
       "                        9.0       ultra       1950            3000             1000              1               150        1              30720                               478.0   \n",
       "                        10.0      ultra       1950            3000             1000              1               150        1              30720                               363.0   \n",
       "                        11.0      ultra       1950            3000             1000              1               150        1              30720                               344.0   \n",
       "                        12.0      ultra       1950            3000             1000              1               150        1              30720                               341.0   \n",
       "1001    41  Москва      11.0      smart       550             500              50                3               200        3              15360                               444.0   \n",
       "                        12.0      smart       550             500              50                3               200        3              15360                               430.0   \n",
       "1002    59  Стерлитамак 6.0       smart       550             500              50                3               200        3              15360                               118.0   \n",
       "                        7.0       smart       550             500              50                3               200        3              15360                               219.0   \n",
       "                        8.0       smart       550             500              50                3               200        3              15360                               294.0   \n",
       "                        9.0       smart       550             500              50                3               200        3              15360                               217.0   \n",
       "                        10.0      smart       550             500              50                3               200        3              15360                               221.0   \n",
       "\n",
       "                                                                                                                                                                  messages  \\\n",
       "user_id age city        day_month tariff_name rub_monthly_fee minutes_included messages_included rub_per_message rub_per_gb rub_per_minute mb_per_month_included             \n",
       "1000    52  Краснодар   5.0       ultra       1950            3000             1000              1               150        1              30720                      22.0   \n",
       "                        6.0       ultra       1950            3000             1000              1               150        1              30720                      60.0   \n",
       "                        7.0       ultra       1950            3000             1000              1               150        1              30720                      75.0   \n",
       "                        8.0       ultra       1950            3000             1000              1               150        1              30720                      81.0   \n",
       "                        9.0       ultra       1950            3000             1000              1               150        1              30720                      57.0   \n",
       "                        10.0      ultra       1950            3000             1000              1               150        1              30720                      73.0   \n",
       "                        11.0      ultra       1950            3000             1000              1               150        1              30720                      58.0   \n",
       "                        12.0      ultra       1950            3000             1000              1               150        1              30720                      70.0   \n",
       "1001    41  Москва      11.0      smart       550             500              50                3               200        3              15360                       NaN   \n",
       "                        12.0      smart       550             500              50                3               200        3              15360                       NaN   \n",
       "1002    59  Стерлитамак 6.0       smart       550             500              50                3               200        3              15360                       4.0   \n",
       "                        7.0       smart       550             500              50                3               200        3              15360                      11.0   \n",
       "                        8.0       smart       550             500              50                3               200        3              15360                      13.0   \n",
       "                        9.0       smart       550             500              50                3               200        3              15360                       4.0   \n",
       "                        10.0      smart       550             500              50                3               200        3              15360                      10.0   \n",
       "\n",
       "                                                                                                                                                                   mb_used  \\\n",
       "user_id age city        day_month tariff_name rub_monthly_fee minutes_included messages_included rub_per_message rub_per_gb rub_per_minute mb_per_month_included             \n",
       "1000    52  Краснодар   5.0       ultra       1950            3000             1000              1               150        1              30720                   2253.49   \n",
       "                        6.0       ultra       1950            3000             1000              1               150        1              30720                  23233.77   \n",
       "                        7.0       ultra       1950            3000             1000              1               150        1              30720                  14003.64   \n",
       "                        8.0       ultra       1950            3000             1000              1               150        1              30720                  14055.93   \n",
       "                        9.0       ultra       1950            3000             1000              1               150        1              30720                  14568.91   \n",
       "                        10.0      ultra       1950            3000             1000              1               150        1              30720                  14702.49   \n",
       "                        11.0      ultra       1950            3000             1000              1               150        1              30720                  14756.47   \n",
       "                        12.0      ultra       1950            3000             1000              1               150        1              30720                   9817.61   \n",
       "1001    41  Москва      11.0      smart       550             500              50                3               200        3              15360                  18429.34   \n",
       "                        12.0      smart       550             500              50                3               200        3              15360                  14036.66   \n",
       "1002    59  Стерлитамак 6.0       smart       550             500              50                3               200        3              15360                  10856.82   \n",
       "                        7.0       smart       550             500              50                3               200        3              15360                  17580.10   \n",
       "                        8.0       smart       550             500              50                3               200        3              15360                  20319.26   \n",
       "                        9.0       smart       550             500              50                3               200        3              15360                  16691.08   \n",
       "                        10.0      smart       550             500              50                3               200        3              15360                  13888.25   \n",
       "\n",
       "                                                                                                                                                                  gb_used  \n",
       "user_id age city        day_month tariff_name rub_monthly_fee minutes_included messages_included rub_per_message rub_per_gb rub_per_minute mb_per_month_included           \n",
       "1000    52  Краснодар   5.0       ultra       1950            3000             1000              1               150        1              30720                      3.0  \n",
       "                        6.0       ultra       1950            3000             1000              1               150        1              30720                     23.0  \n",
       "                        7.0       ultra       1950            3000             1000              1               150        1              30720                     14.0  \n",
       "                        8.0       ultra       1950            3000             1000              1               150        1              30720                     14.0  \n",
       "                        9.0       ultra       1950            3000             1000              1               150        1              30720                     15.0  \n",
       "                        10.0      ultra       1950            3000             1000              1               150        1              30720                     15.0  \n",
       "                        11.0      ultra       1950            3000             1000              1               150        1              30720                     15.0  \n",
       "                        12.0      ultra       1950            3000             1000              1               150        1              30720                     10.0  \n",
       "1001    41  Москва      11.0      smart       550             500              50                3               200        3              15360                     18.0  \n",
       "                        12.0      smart       550             500              50                3               200        3              15360                     14.0  \n",
       "1002    59  Стерлитамак 6.0       smart       550             500              50                3               200        3              15360                     11.0  \n",
       "                        7.0       smart       550             500              50                3               200        3              15360                     18.0  \n",
       "                        8.0       smart       550             500              50                3               200        3              15360                     20.0  \n",
       "                        9.0       smart       550             500              50                3               200        3              15360                     17.0  \n",
       "                        10.0      smart       550             500              50                3               200        3              15360                     14.0  "
      ]
     },
     "metadata": {},
     "output_type": "display_data"
    }
   ],
   "source": [
    "table_messages_calls_internet_month=table_messages_and_calls_month.merge(month_internet, on = ['user_id', 'age', 'city', 'day_month', 'tariff_name', 'rub_monthly_fee', 'minutes_included', 'messages_included', 'rub_per_message', 'rub_per_gb', 'rub_per_minute', 'mb_per_month_included'], how = 'left')\n",
    "table_messages_calls_internet_month.columns = ['duration_count', 'duration_count_sum', 'messages', 'mb_used']\n",
    "table_messages_calls_internet_month['gb_used']=table_messages_calls_internet_month['mb_used']/1024\n",
    "table_messages_calls_internet_month['gb_used']=np.ceil(table_messages_calls_internet_month['gb_used'])\n",
    "display (table_messages_calls_internet_month.head(15))"
   ]
  },
  {
   "cell_type": "markdown",
   "metadata": {},
   "source": [
    "<div class=\"alert alert-info\">\n",
    "<font color='black'> <b> При выводе общей таблицы были замечены пропуски. Установим их  </font> <b>"
   ]
  },
  {
   "cell_type": "code",
   "execution_count": 13,
   "metadata": {},
   "outputs": [
    {
     "data": {
      "text/plain": [
       "duration_count          0\n",
       "duration_count_sum      0\n",
       "messages              496\n",
       "mb_used                11\n",
       "gb_used                11\n",
       "dtype: int64"
      ]
     },
     "execution_count": 13,
     "metadata": {},
     "output_type": "execute_result"
    }
   ],
   "source": [
    "table_messages_calls_internet_month.isna().sum()"
   ]
  },
  {
   "cell_type": "markdown",
   "metadata": {},
   "source": [
    "<div class=\"alert alert-info\">\n",
    "<font color='black'> <b> Пропуски установлены в 2х стобцах - Количество сообщений и потраченных мегабайт интернета. Видимо в этих случаях не было отправлено сообщений и не было выходов в интернет. Заменим на 0   и выведем информацию о пропусках еще раз </font> <b>"
   ]
  },
  {
   "cell_type": "code",
   "execution_count": 14,
   "metadata": {},
   "outputs": [
    {
     "data": {
      "text/plain": [
       "duration_count        0\n",
       "duration_count_sum    0\n",
       "messages              0\n",
       "mb_used               0\n",
       "gb_used               0\n",
       "dtype: int64"
      ]
     },
     "execution_count": 14,
     "metadata": {},
     "output_type": "execute_result"
    }
   ],
   "source": [
    "table_messages_calls_internet_month['messages'] = table_messages_calls_internet_month['messages'].fillna(0)\n",
    "table_messages_calls_internet_month['mb_used'] = table_messages_calls_internet_month['mb_used'].fillna(0)\n",
    "table_messages_calls_internet_month['gb_used'] = table_messages_calls_internet_month['gb_used'].fillna(0)\n",
    "table_messages_calls_internet_month.isna().sum()"
   ]
  },
  {
   "cell_type": "code",
   "execution_count": 15,
   "metadata": {},
   "outputs": [
    {
     "name": "stdout",
     "output_type": "stream",
     "text": [
      "<class 'pandas.core.frame.DataFrame'>\n",
      "MultiIndex: 3174 entries, (1000, 52, 'Краснодар', 5.0, 'ultra', 1950, 3000, 1000, 1, 150, 1, 30720) to (1499, 35, 'Пермь', 12.0, 'smart', 550, 500, 50, 3, 200, 3, 15360)\n",
      "Data columns (total 5 columns):\n",
      " #   Column              Non-Null Count  Dtype  \n",
      "---  ------              --------------  -----  \n",
      " 0   duration_count      3174 non-null   int64  \n",
      " 1   duration_count_sum  3174 non-null   float64\n",
      " 2   messages            3174 non-null   float64\n",
      " 3   mb_used             3174 non-null   float64\n",
      " 4   gb_used             3174 non-null   float64\n",
      "dtypes: float64(4), int64(1)\n",
      "memory usage: 191.5+ KB\n"
     ]
    }
   ],
   "source": [
    "table_messages_calls_internet_month.info()"
   ]
  },
  {
   "cell_type": "markdown",
   "metadata": {},
   "source": [
    "<div class=\"alert alert-success\">\n",
    "<b>Комментарий ревьюера \"хорошее решение\":</b> Верно, пропуски нужно было заменить."
   ]
  },
  {
   "cell_type": "markdown",
   "metadata": {},
   "source": [
    "<div class=\"alert alert-danger\">\n",
    "<b>Комментарий ревьюера \"ошибка\":</b> \n",
    "В целом объединение таблиц прошло успешно, но потерялись некоторые данные. Количество строк в общей таблице должно быть 3214.\n",
    "<div class=\"alert alert-info\"> <b>Комментарий студента:</b> Не понимаю, как исправить   </div>"
   ]
  },
  {
   "cell_type": "markdown",
   "metadata": {},
   "source": [
    "<div class=\"alert alert-warning\">\n",
    "<b>2 Комментарий ревьюера ⚠️:</b> Александр, честно, не хочу тебя мучать этими потерянным строчками. Хотя у нас есть цель исправить все ошибки в проекте, но в твоем случае это действительно будет слишком муторно. Пропавшие строчки не влияют существенно на дальнешие расчеты и выводы, а в них у тебя всё верно. \n",
    "    \n",
    "В идеале, если в будущем ты захочешь разместить этот проект в портфолио, надо пересобрать таблицу с выручкой по другому алгоритму:\n",
    "    \n",
    "- сначала сделать сводные таблицы отдельно по звонкам, сообщениям и интернет-сессиям в размере пользователей и месяцев (index=['user_id', 'month']);\n",
    "- затем объединить их по совпадающим значениям пользователей и месяцев (how='outer') и добавить названия тарифов; заполнить пропуски;\n",
    "- написать функцию, которая построчно рассчитает выручку в зависимости от тарифа;</div>\n",
    "    "
   ]
  },
  {
   "cell_type": "markdown",
   "metadata": {},
   "source": [
    "<div class=\"alert alert-info\">\n",
    "<font color='black'> <b> Выведем колонки со сверхприбылью </font> <b>"
   ]
  },
  {
   "cell_type": "code",
   "execution_count": 16,
   "metadata": {},
   "outputs": [
    {
     "data": {
      "text/html": [
       "<div>\n",
       "<style scoped>\n",
       "    .dataframe tbody tr th:only-of-type {\n",
       "        vertical-align: middle;\n",
       "    }\n",
       "\n",
       "    .dataframe tbody tr th {\n",
       "        vertical-align: top;\n",
       "    }\n",
       "\n",
       "    .dataframe thead th {\n",
       "        text-align: right;\n",
       "    }\n",
       "</style>\n",
       "<table border=\"1\" class=\"dataframe\">\n",
       "  <thead>\n",
       "    <tr style=\"text-align: right;\">\n",
       "      <th></th>\n",
       "      <th>user_id</th>\n",
       "      <th>age</th>\n",
       "      <th>city</th>\n",
       "      <th>day_month</th>\n",
       "      <th>tariff_name</th>\n",
       "      <th>rub_monthly_fee</th>\n",
       "      <th>minutes_included</th>\n",
       "      <th>messages_included</th>\n",
       "      <th>rub_per_message</th>\n",
       "      <th>rub_per_gb</th>\n",
       "      <th>rub_per_minute</th>\n",
       "      <th>mb_per_month_included</th>\n",
       "      <th>duration_count</th>\n",
       "      <th>duration_count_sum</th>\n",
       "      <th>messages</th>\n",
       "      <th>mb_used</th>\n",
       "      <th>gb_used</th>\n",
       "      <th>calls_profit</th>\n",
       "      <th>messages_profit</th>\n",
       "      <th>gb_profit</th>\n",
       "    </tr>\n",
       "  </thead>\n",
       "  <tbody>\n",
       "    <tr>\n",
       "      <th>0</th>\n",
       "      <td>1000</td>\n",
       "      <td>52</td>\n",
       "      <td>Краснодар</td>\n",
       "      <td>5.0</td>\n",
       "      <td>ultra</td>\n",
       "      <td>1950</td>\n",
       "      <td>3000</td>\n",
       "      <td>1000</td>\n",
       "      <td>1</td>\n",
       "      <td>150</td>\n",
       "      <td>1</td>\n",
       "      <td>30720</td>\n",
       "      <td>22</td>\n",
       "      <td>164.0</td>\n",
       "      <td>22.0</td>\n",
       "      <td>2253.49</td>\n",
       "      <td>3.0</td>\n",
       "      <td>-2836.0</td>\n",
       "      <td>-978.0</td>\n",
       "      <td>-4050.0</td>\n",
       "    </tr>\n",
       "    <tr>\n",
       "      <th>1</th>\n",
       "      <td>1000</td>\n",
       "      <td>52</td>\n",
       "      <td>Краснодар</td>\n",
       "      <td>6.0</td>\n",
       "      <td>ultra</td>\n",
       "      <td>1950</td>\n",
       "      <td>3000</td>\n",
       "      <td>1000</td>\n",
       "      <td>1</td>\n",
       "      <td>150</td>\n",
       "      <td>1</td>\n",
       "      <td>30720</td>\n",
       "      <td>43</td>\n",
       "      <td>187.0</td>\n",
       "      <td>60.0</td>\n",
       "      <td>23233.77</td>\n",
       "      <td>23.0</td>\n",
       "      <td>-2813.0</td>\n",
       "      <td>-940.0</td>\n",
       "      <td>-1050.0</td>\n",
       "    </tr>\n",
       "    <tr>\n",
       "      <th>2</th>\n",
       "      <td>1000</td>\n",
       "      <td>52</td>\n",
       "      <td>Краснодар</td>\n",
       "      <td>7.0</td>\n",
       "      <td>ultra</td>\n",
       "      <td>1950</td>\n",
       "      <td>3000</td>\n",
       "      <td>1000</td>\n",
       "      <td>1</td>\n",
       "      <td>150</td>\n",
       "      <td>1</td>\n",
       "      <td>30720</td>\n",
       "      <td>47</td>\n",
       "      <td>346.0</td>\n",
       "      <td>75.0</td>\n",
       "      <td>14003.64</td>\n",
       "      <td>14.0</td>\n",
       "      <td>-2654.0</td>\n",
       "      <td>-925.0</td>\n",
       "      <td>-2400.0</td>\n",
       "    </tr>\n",
       "    <tr>\n",
       "      <th>3</th>\n",
       "      <td>1000</td>\n",
       "      <td>52</td>\n",
       "      <td>Краснодар</td>\n",
       "      <td>8.0</td>\n",
       "      <td>ultra</td>\n",
       "      <td>1950</td>\n",
       "      <td>3000</td>\n",
       "      <td>1000</td>\n",
       "      <td>1</td>\n",
       "      <td>150</td>\n",
       "      <td>1</td>\n",
       "      <td>30720</td>\n",
       "      <td>52</td>\n",
       "      <td>418.0</td>\n",
       "      <td>81.0</td>\n",
       "      <td>14055.93</td>\n",
       "      <td>14.0</td>\n",
       "      <td>-2582.0</td>\n",
       "      <td>-919.0</td>\n",
       "      <td>-2400.0</td>\n",
       "    </tr>\n",
       "    <tr>\n",
       "      <th>4</th>\n",
       "      <td>1000</td>\n",
       "      <td>52</td>\n",
       "      <td>Краснодар</td>\n",
       "      <td>9.0</td>\n",
       "      <td>ultra</td>\n",
       "      <td>1950</td>\n",
       "      <td>3000</td>\n",
       "      <td>1000</td>\n",
       "      <td>1</td>\n",
       "      <td>150</td>\n",
       "      <td>1</td>\n",
       "      <td>30720</td>\n",
       "      <td>58</td>\n",
       "      <td>478.0</td>\n",
       "      <td>57.0</td>\n",
       "      <td>14568.91</td>\n",
       "      <td>15.0</td>\n",
       "      <td>-2522.0</td>\n",
       "      <td>-943.0</td>\n",
       "      <td>-2250.0</td>\n",
       "    </tr>\n",
       "    <tr>\n",
       "      <th>5</th>\n",
       "      <td>1000</td>\n",
       "      <td>52</td>\n",
       "      <td>Краснодар</td>\n",
       "      <td>10.0</td>\n",
       "      <td>ultra</td>\n",
       "      <td>1950</td>\n",
       "      <td>3000</td>\n",
       "      <td>1000</td>\n",
       "      <td>1</td>\n",
       "      <td>150</td>\n",
       "      <td>1</td>\n",
       "      <td>30720</td>\n",
       "      <td>57</td>\n",
       "      <td>363.0</td>\n",
       "      <td>73.0</td>\n",
       "      <td>14702.49</td>\n",
       "      <td>15.0</td>\n",
       "      <td>-2637.0</td>\n",
       "      <td>-927.0</td>\n",
       "      <td>-2250.0</td>\n",
       "    </tr>\n",
       "    <tr>\n",
       "      <th>6</th>\n",
       "      <td>1000</td>\n",
       "      <td>52</td>\n",
       "      <td>Краснодар</td>\n",
       "      <td>11.0</td>\n",
       "      <td>ultra</td>\n",
       "      <td>1950</td>\n",
       "      <td>3000</td>\n",
       "      <td>1000</td>\n",
       "      <td>1</td>\n",
       "      <td>150</td>\n",
       "      <td>1</td>\n",
       "      <td>30720</td>\n",
       "      <td>43</td>\n",
       "      <td>344.0</td>\n",
       "      <td>58.0</td>\n",
       "      <td>14756.47</td>\n",
       "      <td>15.0</td>\n",
       "      <td>-2656.0</td>\n",
       "      <td>-942.0</td>\n",
       "      <td>-2250.0</td>\n",
       "    </tr>\n",
       "    <tr>\n",
       "      <th>7</th>\n",
       "      <td>1000</td>\n",
       "      <td>52</td>\n",
       "      <td>Краснодар</td>\n",
       "      <td>12.0</td>\n",
       "      <td>ultra</td>\n",
       "      <td>1950</td>\n",
       "      <td>3000</td>\n",
       "      <td>1000</td>\n",
       "      <td>1</td>\n",
       "      <td>150</td>\n",
       "      <td>1</td>\n",
       "      <td>30720</td>\n",
       "      <td>46</td>\n",
       "      <td>341.0</td>\n",
       "      <td>70.0</td>\n",
       "      <td>9817.61</td>\n",
       "      <td>10.0</td>\n",
       "      <td>-2659.0</td>\n",
       "      <td>-930.0</td>\n",
       "      <td>-3000.0</td>\n",
       "    </tr>\n",
       "    <tr>\n",
       "      <th>8</th>\n",
       "      <td>1001</td>\n",
       "      <td>41</td>\n",
       "      <td>Москва</td>\n",
       "      <td>11.0</td>\n",
       "      <td>smart</td>\n",
       "      <td>550</td>\n",
       "      <td>500</td>\n",
       "      <td>50</td>\n",
       "      <td>3</td>\n",
       "      <td>200</td>\n",
       "      <td>3</td>\n",
       "      <td>15360</td>\n",
       "      <td>59</td>\n",
       "      <td>444.0</td>\n",
       "      <td>0.0</td>\n",
       "      <td>18429.34</td>\n",
       "      <td>18.0</td>\n",
       "      <td>-168.0</td>\n",
       "      <td>-150.0</td>\n",
       "      <td>600.0</td>\n",
       "    </tr>\n",
       "    <tr>\n",
       "      <th>9</th>\n",
       "      <td>1001</td>\n",
       "      <td>41</td>\n",
       "      <td>Москва</td>\n",
       "      <td>12.0</td>\n",
       "      <td>smart</td>\n",
       "      <td>550</td>\n",
       "      <td>500</td>\n",
       "      <td>50</td>\n",
       "      <td>3</td>\n",
       "      <td>200</td>\n",
       "      <td>3</td>\n",
       "      <td>15360</td>\n",
       "      <td>63</td>\n",
       "      <td>430.0</td>\n",
       "      <td>0.0</td>\n",
       "      <td>14036.66</td>\n",
       "      <td>14.0</td>\n",
       "      <td>-210.0</td>\n",
       "      <td>-150.0</td>\n",
       "      <td>-200.0</td>\n",
       "    </tr>\n",
       "    <tr>\n",
       "      <th>10</th>\n",
       "      <td>1002</td>\n",
       "      <td>59</td>\n",
       "      <td>Стерлитамак</td>\n",
       "      <td>6.0</td>\n",
       "      <td>smart</td>\n",
       "      <td>550</td>\n",
       "      <td>500</td>\n",
       "      <td>50</td>\n",
       "      <td>3</td>\n",
       "      <td>200</td>\n",
       "      <td>3</td>\n",
       "      <td>15360</td>\n",
       "      <td>15</td>\n",
       "      <td>118.0</td>\n",
       "      <td>4.0</td>\n",
       "      <td>10856.82</td>\n",
       "      <td>11.0</td>\n",
       "      <td>-1146.0</td>\n",
       "      <td>-138.0</td>\n",
       "      <td>-800.0</td>\n",
       "    </tr>\n",
       "    <tr>\n",
       "      <th>11</th>\n",
       "      <td>1002</td>\n",
       "      <td>59</td>\n",
       "      <td>Стерлитамак</td>\n",
       "      <td>7.0</td>\n",
       "      <td>smart</td>\n",
       "      <td>550</td>\n",
       "      <td>500</td>\n",
       "      <td>50</td>\n",
       "      <td>3</td>\n",
       "      <td>200</td>\n",
       "      <td>3</td>\n",
       "      <td>15360</td>\n",
       "      <td>26</td>\n",
       "      <td>219.0</td>\n",
       "      <td>11.0</td>\n",
       "      <td>17580.10</td>\n",
       "      <td>18.0</td>\n",
       "      <td>-843.0</td>\n",
       "      <td>-117.0</td>\n",
       "      <td>600.0</td>\n",
       "    </tr>\n",
       "    <tr>\n",
       "      <th>12</th>\n",
       "      <td>1002</td>\n",
       "      <td>59</td>\n",
       "      <td>Стерлитамак</td>\n",
       "      <td>8.0</td>\n",
       "      <td>smart</td>\n",
       "      <td>550</td>\n",
       "      <td>500</td>\n",
       "      <td>50</td>\n",
       "      <td>3</td>\n",
       "      <td>200</td>\n",
       "      <td>3</td>\n",
       "      <td>15360</td>\n",
       "      <td>42</td>\n",
       "      <td>294.0</td>\n",
       "      <td>13.0</td>\n",
       "      <td>20319.26</td>\n",
       "      <td>20.0</td>\n",
       "      <td>-618.0</td>\n",
       "      <td>-111.0</td>\n",
       "      <td>1000.0</td>\n",
       "    </tr>\n",
       "    <tr>\n",
       "      <th>13</th>\n",
       "      <td>1002</td>\n",
       "      <td>59</td>\n",
       "      <td>Стерлитамак</td>\n",
       "      <td>9.0</td>\n",
       "      <td>smart</td>\n",
       "      <td>550</td>\n",
       "      <td>500</td>\n",
       "      <td>50</td>\n",
       "      <td>3</td>\n",
       "      <td>200</td>\n",
       "      <td>3</td>\n",
       "      <td>15360</td>\n",
       "      <td>36</td>\n",
       "      <td>217.0</td>\n",
       "      <td>4.0</td>\n",
       "      <td>16691.08</td>\n",
       "      <td>17.0</td>\n",
       "      <td>-849.0</td>\n",
       "      <td>-138.0</td>\n",
       "      <td>400.0</td>\n",
       "    </tr>\n",
       "    <tr>\n",
       "      <th>14</th>\n",
       "      <td>1002</td>\n",
       "      <td>59</td>\n",
       "      <td>Стерлитамак</td>\n",
       "      <td>10.0</td>\n",
       "      <td>smart</td>\n",
       "      <td>550</td>\n",
       "      <td>500</td>\n",
       "      <td>50</td>\n",
       "      <td>3</td>\n",
       "      <td>200</td>\n",
       "      <td>3</td>\n",
       "      <td>15360</td>\n",
       "      <td>33</td>\n",
       "      <td>221.0</td>\n",
       "      <td>10.0</td>\n",
       "      <td>13888.25</td>\n",
       "      <td>14.0</td>\n",
       "      <td>-837.0</td>\n",
       "      <td>-120.0</td>\n",
       "      <td>-200.0</td>\n",
       "    </tr>\n",
       "    <tr>\n",
       "      <th>15</th>\n",
       "      <td>1002</td>\n",
       "      <td>59</td>\n",
       "      <td>Стерлитамак</td>\n",
       "      <td>11.0</td>\n",
       "      <td>smart</td>\n",
       "      <td>550</td>\n",
       "      <td>500</td>\n",
       "      <td>50</td>\n",
       "      <td>3</td>\n",
       "      <td>200</td>\n",
       "      <td>3</td>\n",
       "      <td>15360</td>\n",
       "      <td>32</td>\n",
       "      <td>250.0</td>\n",
       "      <td>16.0</td>\n",
       "      <td>18587.28</td>\n",
       "      <td>19.0</td>\n",
       "      <td>-750.0</td>\n",
       "      <td>-102.0</td>\n",
       "      <td>800.0</td>\n",
       "    </tr>\n",
       "    <tr>\n",
       "      <th>16</th>\n",
       "      <td>1002</td>\n",
       "      <td>59</td>\n",
       "      <td>Стерлитамак</td>\n",
       "      <td>12.0</td>\n",
       "      <td>smart</td>\n",
       "      <td>550</td>\n",
       "      <td>500</td>\n",
       "      <td>50</td>\n",
       "      <td>3</td>\n",
       "      <td>200</td>\n",
       "      <td>3</td>\n",
       "      <td>15360</td>\n",
       "      <td>33</td>\n",
       "      <td>242.0</td>\n",
       "      <td>12.0</td>\n",
       "      <td>18113.73</td>\n",
       "      <td>18.0</td>\n",
       "      <td>-774.0</td>\n",
       "      <td>-114.0</td>\n",
       "      <td>600.0</td>\n",
       "    </tr>\n",
       "    <tr>\n",
       "      <th>17</th>\n",
       "      <td>1003</td>\n",
       "      <td>23</td>\n",
       "      <td>Москва</td>\n",
       "      <td>8.0</td>\n",
       "      <td>ultra</td>\n",
       "      <td>1950</td>\n",
       "      <td>3000</td>\n",
       "      <td>1000</td>\n",
       "      <td>1</td>\n",
       "      <td>150</td>\n",
       "      <td>1</td>\n",
       "      <td>30720</td>\n",
       "      <td>55</td>\n",
       "      <td>392.0</td>\n",
       "      <td>37.0</td>\n",
       "      <td>8565.21</td>\n",
       "      <td>9.0</td>\n",
       "      <td>-2608.0</td>\n",
       "      <td>-963.0</td>\n",
       "      <td>-3150.0</td>\n",
       "    </tr>\n",
       "    <tr>\n",
       "      <th>18</th>\n",
       "      <td>1003</td>\n",
       "      <td>23</td>\n",
       "      <td>Москва</td>\n",
       "      <td>9.0</td>\n",
       "      <td>ultra</td>\n",
       "      <td>1950</td>\n",
       "      <td>3000</td>\n",
       "      <td>1000</td>\n",
       "      <td>1</td>\n",
       "      <td>150</td>\n",
       "      <td>1</td>\n",
       "      <td>30720</td>\n",
       "      <td>134</td>\n",
       "      <td>990.0</td>\n",
       "      <td>91.0</td>\n",
       "      <td>12468.87</td>\n",
       "      <td>13.0</td>\n",
       "      <td>-2010.0</td>\n",
       "      <td>-909.0</td>\n",
       "      <td>-2550.0</td>\n",
       "    </tr>\n",
       "    <tr>\n",
       "      <th>19</th>\n",
       "      <td>1003</td>\n",
       "      <td>23</td>\n",
       "      <td>Москва</td>\n",
       "      <td>10.0</td>\n",
       "      <td>ultra</td>\n",
       "      <td>1950</td>\n",
       "      <td>3000</td>\n",
       "      <td>1000</td>\n",
       "      <td>1</td>\n",
       "      <td>150</td>\n",
       "      <td>1</td>\n",
       "      <td>30720</td>\n",
       "      <td>108</td>\n",
       "      <td>866.0</td>\n",
       "      <td>83.0</td>\n",
       "      <td>14768.14</td>\n",
       "      <td>15.0</td>\n",
       "      <td>-2134.0</td>\n",
       "      <td>-917.0</td>\n",
       "      <td>-2250.0</td>\n",
       "    </tr>\n",
       "    <tr>\n",
       "      <th>20</th>\n",
       "      <td>1003</td>\n",
       "      <td>23</td>\n",
       "      <td>Москва</td>\n",
       "      <td>11.0</td>\n",
       "      <td>ultra</td>\n",
       "      <td>1950</td>\n",
       "      <td>3000</td>\n",
       "      <td>1000</td>\n",
       "      <td>1</td>\n",
       "      <td>150</td>\n",
       "      <td>1</td>\n",
       "      <td>30720</td>\n",
       "      <td>115</td>\n",
       "      <td>844.0</td>\n",
       "      <td>94.0</td>\n",
       "      <td>11356.89</td>\n",
       "      <td>12.0</td>\n",
       "      <td>-2156.0</td>\n",
       "      <td>-906.0</td>\n",
       "      <td>-2700.0</td>\n",
       "    </tr>\n",
       "    <tr>\n",
       "      <th>21</th>\n",
       "      <td>1003</td>\n",
       "      <td>23</td>\n",
       "      <td>Москва</td>\n",
       "      <td>12.0</td>\n",
       "      <td>ultra</td>\n",
       "      <td>1950</td>\n",
       "      <td>3000</td>\n",
       "      <td>1000</td>\n",
       "      <td>1</td>\n",
       "      <td>150</td>\n",
       "      <td>1</td>\n",
       "      <td>30720</td>\n",
       "      <td>108</td>\n",
       "      <td>822.0</td>\n",
       "      <td>75.0</td>\n",
       "      <td>10121.53</td>\n",
       "      <td>10.0</td>\n",
       "      <td>-2178.0</td>\n",
       "      <td>-925.0</td>\n",
       "      <td>-3000.0</td>\n",
       "    </tr>\n",
       "    <tr>\n",
       "      <th>22</th>\n",
       "      <td>1004</td>\n",
       "      <td>68</td>\n",
       "      <td>Новокузнецк</td>\n",
       "      <td>5.0</td>\n",
       "      <td>ultra</td>\n",
       "      <td>1950</td>\n",
       "      <td>3000</td>\n",
       "      <td>1000</td>\n",
       "      <td>1</td>\n",
       "      <td>150</td>\n",
       "      <td>1</td>\n",
       "      <td>30720</td>\n",
       "      <td>9</td>\n",
       "      <td>37.0</td>\n",
       "      <td>95.0</td>\n",
       "      <td>13403.98</td>\n",
       "      <td>14.0</td>\n",
       "      <td>-2963.0</td>\n",
       "      <td>-905.0</td>\n",
       "      <td>-2400.0</td>\n",
       "    </tr>\n",
       "    <tr>\n",
       "      <th>23</th>\n",
       "      <td>1004</td>\n",
       "      <td>68</td>\n",
       "      <td>Новокузнецк</td>\n",
       "      <td>6.0</td>\n",
       "      <td>ultra</td>\n",
       "      <td>1950</td>\n",
       "      <td>3000</td>\n",
       "      <td>1000</td>\n",
       "      <td>1</td>\n",
       "      <td>150</td>\n",
       "      <td>1</td>\n",
       "      <td>30720</td>\n",
       "      <td>31</td>\n",
       "      <td>177.0</td>\n",
       "      <td>134.0</td>\n",
       "      <td>17600.02</td>\n",
       "      <td>18.0</td>\n",
       "      <td>-2823.0</td>\n",
       "      <td>-866.0</td>\n",
       "      <td>-1800.0</td>\n",
       "    </tr>\n",
       "    <tr>\n",
       "      <th>24</th>\n",
       "      <td>1004</td>\n",
       "      <td>68</td>\n",
       "      <td>Новокузнецк</td>\n",
       "      <td>7.0</td>\n",
       "      <td>ultra</td>\n",
       "      <td>1950</td>\n",
       "      <td>3000</td>\n",
       "      <td>1000</td>\n",
       "      <td>1</td>\n",
       "      <td>150</td>\n",
       "      <td>1</td>\n",
       "      <td>30720</td>\n",
       "      <td>22</td>\n",
       "      <td>137.0</td>\n",
       "      <td>181.0</td>\n",
       "      <td>22229.58</td>\n",
       "      <td>22.0</td>\n",
       "      <td>-2863.0</td>\n",
       "      <td>-819.0</td>\n",
       "      <td>-1200.0</td>\n",
       "    </tr>\n",
       "    <tr>\n",
       "      <th>25</th>\n",
       "      <td>1004</td>\n",
       "      <td>68</td>\n",
       "      <td>Новокузнецк</td>\n",
       "      <td>8.0</td>\n",
       "      <td>ultra</td>\n",
       "      <td>1950</td>\n",
       "      <td>3000</td>\n",
       "      <td>1000</td>\n",
       "      <td>1</td>\n",
       "      <td>150</td>\n",
       "      <td>1</td>\n",
       "      <td>30720</td>\n",
       "      <td>19</td>\n",
       "      <td>138.0</td>\n",
       "      <td>151.0</td>\n",
       "      <td>28584.37</td>\n",
       "      <td>28.0</td>\n",
       "      <td>-2862.0</td>\n",
       "      <td>-849.0</td>\n",
       "      <td>-300.0</td>\n",
       "    </tr>\n",
       "    <tr>\n",
       "      <th>26</th>\n",
       "      <td>1004</td>\n",
       "      <td>68</td>\n",
       "      <td>Новокузнецк</td>\n",
       "      <td>9.0</td>\n",
       "      <td>ultra</td>\n",
       "      <td>1950</td>\n",
       "      <td>3000</td>\n",
       "      <td>1000</td>\n",
       "      <td>1</td>\n",
       "      <td>150</td>\n",
       "      <td>1</td>\n",
       "      <td>30720</td>\n",
       "      <td>26</td>\n",
       "      <td>125.0</td>\n",
       "      <td>146.0</td>\n",
       "      <td>15109.03</td>\n",
       "      <td>15.0</td>\n",
       "      <td>-2875.0</td>\n",
       "      <td>-854.0</td>\n",
       "      <td>-2250.0</td>\n",
       "    </tr>\n",
       "    <tr>\n",
       "      <th>27</th>\n",
       "      <td>1004</td>\n",
       "      <td>68</td>\n",
       "      <td>Новокузнецк</td>\n",
       "      <td>10.0</td>\n",
       "      <td>ultra</td>\n",
       "      <td>1950</td>\n",
       "      <td>3000</td>\n",
       "      <td>1000</td>\n",
       "      <td>1</td>\n",
       "      <td>150</td>\n",
       "      <td>1</td>\n",
       "      <td>30720</td>\n",
       "      <td>29</td>\n",
       "      <td>153.0</td>\n",
       "      <td>165.0</td>\n",
       "      <td>18475.44</td>\n",
       "      <td>19.0</td>\n",
       "      <td>-2847.0</td>\n",
       "      <td>-835.0</td>\n",
       "      <td>-1650.0</td>\n",
       "    </tr>\n",
       "    <tr>\n",
       "      <th>28</th>\n",
       "      <td>1004</td>\n",
       "      <td>68</td>\n",
       "      <td>Новокузнецк</td>\n",
       "      <td>11.0</td>\n",
       "      <td>ultra</td>\n",
       "      <td>1950</td>\n",
       "      <td>3000</td>\n",
       "      <td>1000</td>\n",
       "      <td>1</td>\n",
       "      <td>150</td>\n",
       "      <td>1</td>\n",
       "      <td>30720</td>\n",
       "      <td>19</td>\n",
       "      <td>121.0</td>\n",
       "      <td>158.0</td>\n",
       "      <td>15616.02</td>\n",
       "      <td>16.0</td>\n",
       "      <td>-2879.0</td>\n",
       "      <td>-842.0</td>\n",
       "      <td>-2100.0</td>\n",
       "    </tr>\n",
       "    <tr>\n",
       "      <th>29</th>\n",
       "      <td>1004</td>\n",
       "      <td>68</td>\n",
       "      <td>Новокузнецк</td>\n",
       "      <td>12.0</td>\n",
       "      <td>ultra</td>\n",
       "      <td>1950</td>\n",
       "      <td>3000</td>\n",
       "      <td>1000</td>\n",
       "      <td>1</td>\n",
       "      <td>150</td>\n",
       "      <td>1</td>\n",
       "      <td>30720</td>\n",
       "      <td>21</td>\n",
       "      <td>136.0</td>\n",
       "      <td>162.0</td>\n",
       "      <td>18021.04</td>\n",
       "      <td>18.0</td>\n",
       "      <td>-2864.0</td>\n",
       "      <td>-838.0</td>\n",
       "      <td>-1800.0</td>\n",
       "    </tr>\n",
       "    <tr>\n",
       "      <th>30</th>\n",
       "      <td>1005</td>\n",
       "      <td>67</td>\n",
       "      <td>Набережные Челны</td>\n",
       "      <td>1.0</td>\n",
       "      <td>smart</td>\n",
       "      <td>550</td>\n",
       "      <td>500</td>\n",
       "      <td>50</td>\n",
       "      <td>3</td>\n",
       "      <td>200</td>\n",
       "      <td>3</td>\n",
       "      <td>15360</td>\n",
       "      <td>15</td>\n",
       "      <td>99.0</td>\n",
       "      <td>7.0</td>\n",
       "      <td>2727.97</td>\n",
       "      <td>3.0</td>\n",
       "      <td>-1203.0</td>\n",
       "      <td>-129.0</td>\n",
       "      <td>-2400.0</td>\n",
       "    </tr>\n",
       "    <tr>\n",
       "      <th>31</th>\n",
       "      <td>1005</td>\n",
       "      <td>67</td>\n",
       "      <td>Набережные Челны</td>\n",
       "      <td>2.0</td>\n",
       "      <td>smart</td>\n",
       "      <td>550</td>\n",
       "      <td>500</td>\n",
       "      <td>50</td>\n",
       "      <td>3</td>\n",
       "      <td>200</td>\n",
       "      <td>3</td>\n",
       "      <td>15360</td>\n",
       "      <td>69</td>\n",
       "      <td>470.0</td>\n",
       "      <td>38.0</td>\n",
       "      <td>7383.93</td>\n",
       "      <td>8.0</td>\n",
       "      <td>-90.0</td>\n",
       "      <td>-36.0</td>\n",
       "      <td>-1400.0</td>\n",
       "    </tr>\n",
       "    <tr>\n",
       "      <th>32</th>\n",
       "      <td>1005</td>\n",
       "      <td>67</td>\n",
       "      <td>Набережные Челны</td>\n",
       "      <td>3.0</td>\n",
       "      <td>smart</td>\n",
       "      <td>550</td>\n",
       "      <td>500</td>\n",
       "      <td>50</td>\n",
       "      <td>3</td>\n",
       "      <td>200</td>\n",
       "      <td>3</td>\n",
       "      <td>15360</td>\n",
       "      <td>77</td>\n",
       "      <td>620.0</td>\n",
       "      <td>56.0</td>\n",
       "      <td>11104.25</td>\n",
       "      <td>11.0</td>\n",
       "      <td>360.0</td>\n",
       "      <td>18.0</td>\n",
       "      <td>-800.0</td>\n",
       "    </tr>\n",
       "    <tr>\n",
       "      <th>33</th>\n",
       "      <td>1005</td>\n",
       "      <td>67</td>\n",
       "      <td>Набережные Челны</td>\n",
       "      <td>4.0</td>\n",
       "      <td>smart</td>\n",
       "      <td>550</td>\n",
       "      <td>500</td>\n",
       "      <td>50</td>\n",
       "      <td>3</td>\n",
       "      <td>200</td>\n",
       "      <td>3</td>\n",
       "      <td>15360</td>\n",
       "      <td>101</td>\n",
       "      <td>736.0</td>\n",
       "      <td>41.0</td>\n",
       "      <td>9351.72</td>\n",
       "      <td>10.0</td>\n",
       "      <td>708.0</td>\n",
       "      <td>-27.0</td>\n",
       "      <td>-1000.0</td>\n",
       "    </tr>\n",
       "    <tr>\n",
       "      <th>34</th>\n",
       "      <td>1005</td>\n",
       "      <td>67</td>\n",
       "      <td>Набережные Челны</td>\n",
       "      <td>5.0</td>\n",
       "      <td>smart</td>\n",
       "      <td>550</td>\n",
       "      <td>500</td>\n",
       "      <td>50</td>\n",
       "      <td>3</td>\n",
       "      <td>200</td>\n",
       "      <td>3</td>\n",
       "      <td>15360</td>\n",
       "      <td>73</td>\n",
       "      <td>606.0</td>\n",
       "      <td>42.0</td>\n",
       "      <td>7865.53</td>\n",
       "      <td>8.0</td>\n",
       "      <td>318.0</td>\n",
       "      <td>-24.0</td>\n",
       "      <td>-1400.0</td>\n",
       "    </tr>\n",
       "    <tr>\n",
       "      <th>35</th>\n",
       "      <td>1005</td>\n",
       "      <td>67</td>\n",
       "      <td>Набережные Челны</td>\n",
       "      <td>6.0</td>\n",
       "      <td>smart</td>\n",
       "      <td>550</td>\n",
       "      <td>500</td>\n",
       "      <td>50</td>\n",
       "      <td>3</td>\n",
       "      <td>200</td>\n",
       "      <td>3</td>\n",
       "      <td>15360</td>\n",
       "      <td>80</td>\n",
       "      <td>623.0</td>\n",
       "      <td>47.0</td>\n",
       "      <td>9863.19</td>\n",
       "      <td>10.0</td>\n",
       "      <td>369.0</td>\n",
       "      <td>-9.0</td>\n",
       "      <td>-1000.0</td>\n",
       "    </tr>\n",
       "    <tr>\n",
       "      <th>36</th>\n",
       "      <td>1005</td>\n",
       "      <td>67</td>\n",
       "      <td>Набережные Челны</td>\n",
       "      <td>7.0</td>\n",
       "      <td>smart</td>\n",
       "      <td>550</td>\n",
       "      <td>500</td>\n",
       "      <td>50</td>\n",
       "      <td>3</td>\n",
       "      <td>200</td>\n",
       "      <td>3</td>\n",
       "      <td>15360</td>\n",
       "      <td>77</td>\n",
       "      <td>584.0</td>\n",
       "      <td>56.0</td>\n",
       "      <td>7694.56</td>\n",
       "      <td>8.0</td>\n",
       "      <td>252.0</td>\n",
       "      <td>18.0</td>\n",
       "      <td>-1400.0</td>\n",
       "    </tr>\n",
       "    <tr>\n",
       "      <th>37</th>\n",
       "      <td>1005</td>\n",
       "      <td>67</td>\n",
       "      <td>Набережные Челны</td>\n",
       "      <td>8.0</td>\n",
       "      <td>smart</td>\n",
       "      <td>550</td>\n",
       "      <td>500</td>\n",
       "      <td>50</td>\n",
       "      <td>3</td>\n",
       "      <td>200</td>\n",
       "      <td>3</td>\n",
       "      <td>15360</td>\n",
       "      <td>71</td>\n",
       "      <td>626.0</td>\n",
       "      <td>64.0</td>\n",
       "      <td>7543.63</td>\n",
       "      <td>8.0</td>\n",
       "      <td>378.0</td>\n",
       "      <td>42.0</td>\n",
       "      <td>-1400.0</td>\n",
       "    </tr>\n",
       "    <tr>\n",
       "      <th>38</th>\n",
       "      <td>1005</td>\n",
       "      <td>67</td>\n",
       "      <td>Набережные Челны</td>\n",
       "      <td>9.0</td>\n",
       "      <td>smart</td>\n",
       "      <td>550</td>\n",
       "      <td>500</td>\n",
       "      <td>50</td>\n",
       "      <td>3</td>\n",
       "      <td>200</td>\n",
       "      <td>3</td>\n",
       "      <td>15360</td>\n",
       "      <td>66</td>\n",
       "      <td>488.0</td>\n",
       "      <td>52.0</td>\n",
       "      <td>7016.46</td>\n",
       "      <td>7.0</td>\n",
       "      <td>-36.0</td>\n",
       "      <td>6.0</td>\n",
       "      <td>-1600.0</td>\n",
       "    </tr>\n",
       "    <tr>\n",
       "      <th>39</th>\n",
       "      <td>1005</td>\n",
       "      <td>67</td>\n",
       "      <td>Набережные Челны</td>\n",
       "      <td>10.0</td>\n",
       "      <td>smart</td>\n",
       "      <td>550</td>\n",
       "      <td>500</td>\n",
       "      <td>50</td>\n",
       "      <td>3</td>\n",
       "      <td>200</td>\n",
       "      <td>3</td>\n",
       "      <td>15360</td>\n",
       "      <td>100</td>\n",
       "      <td>745.0</td>\n",
       "      <td>44.0</td>\n",
       "      <td>7800.93</td>\n",
       "      <td>8.0</td>\n",
       "      <td>735.0</td>\n",
       "      <td>-18.0</td>\n",
       "      <td>-1400.0</td>\n",
       "    </tr>\n",
       "    <tr>\n",
       "      <th>40</th>\n",
       "      <td>1005</td>\n",
       "      <td>67</td>\n",
       "      <td>Набережные Челны</td>\n",
       "      <td>11.0</td>\n",
       "      <td>smart</td>\n",
       "      <td>550</td>\n",
       "      <td>500</td>\n",
       "      <td>50</td>\n",
       "      <td>3</td>\n",
       "      <td>200</td>\n",
       "      <td>3</td>\n",
       "      <td>15360</td>\n",
       "      <td>75</td>\n",
       "      <td>562.0</td>\n",
       "      <td>51.0</td>\n",
       "      <td>12666.95</td>\n",
       "      <td>13.0</td>\n",
       "      <td>186.0</td>\n",
       "      <td>3.0</td>\n",
       "      <td>-400.0</td>\n",
       "    </tr>\n",
       "    <tr>\n",
       "      <th>41</th>\n",
       "      <td>1005</td>\n",
       "      <td>67</td>\n",
       "      <td>Набережные Челны</td>\n",
       "      <td>12.0</td>\n",
       "      <td>smart</td>\n",
       "      <td>550</td>\n",
       "      <td>500</td>\n",
       "      <td>50</td>\n",
       "      <td>3</td>\n",
       "      <td>200</td>\n",
       "      <td>3</td>\n",
       "      <td>15360</td>\n",
       "      <td>84</td>\n",
       "      <td>613.0</td>\n",
       "      <td>54.0</td>\n",
       "      <td>8668.19</td>\n",
       "      <td>9.0</td>\n",
       "      <td>339.0</td>\n",
       "      <td>12.0</td>\n",
       "      <td>-1200.0</td>\n",
       "    </tr>\n",
       "    <tr>\n",
       "      <th>42</th>\n",
       "      <td>1006</td>\n",
       "      <td>21</td>\n",
       "      <td>Ульяновск</td>\n",
       "      <td>2.0</td>\n",
       "      <td>smart</td>\n",
       "      <td>550</td>\n",
       "      <td>500</td>\n",
       "      <td>50</td>\n",
       "      <td>3</td>\n",
       "      <td>200</td>\n",
       "      <td>3</td>\n",
       "      <td>15360</td>\n",
       "      <td>3</td>\n",
       "      <td>42.0</td>\n",
       "      <td>0.0</td>\n",
       "      <td>1392.15</td>\n",
       "      <td>2.0</td>\n",
       "      <td>-1374.0</td>\n",
       "      <td>-150.0</td>\n",
       "      <td>-2600.0</td>\n",
       "    </tr>\n",
       "    <tr>\n",
       "      <th>43</th>\n",
       "      <td>1006</td>\n",
       "      <td>21</td>\n",
       "      <td>Ульяновск</td>\n",
       "      <td>3.0</td>\n",
       "      <td>smart</td>\n",
       "      <td>550</td>\n",
       "      <td>500</td>\n",
       "      <td>50</td>\n",
       "      <td>3</td>\n",
       "      <td>200</td>\n",
       "      <td>3</td>\n",
       "      <td>15360</td>\n",
       "      <td>46</td>\n",
       "      <td>296.0</td>\n",
       "      <td>0.0</td>\n",
       "      <td>17287.93</td>\n",
       "      <td>17.0</td>\n",
       "      <td>-612.0</td>\n",
       "      <td>-150.0</td>\n",
       "      <td>400.0</td>\n",
       "    </tr>\n",
       "    <tr>\n",
       "      <th>44</th>\n",
       "      <td>1006</td>\n",
       "      <td>21</td>\n",
       "      <td>Ульяновск</td>\n",
       "      <td>4.0</td>\n",
       "      <td>smart</td>\n",
       "      <td>550</td>\n",
       "      <td>500</td>\n",
       "      <td>50</td>\n",
       "      <td>3</td>\n",
       "      <td>200</td>\n",
       "      <td>3</td>\n",
       "      <td>15360</td>\n",
       "      <td>47</td>\n",
       "      <td>365.0</td>\n",
       "      <td>0.0</td>\n",
       "      <td>13936.70</td>\n",
       "      <td>14.0</td>\n",
       "      <td>-405.0</td>\n",
       "      <td>-150.0</td>\n",
       "      <td>-200.0</td>\n",
       "    </tr>\n",
       "    <tr>\n",
       "      <th>45</th>\n",
       "      <td>1006</td>\n",
       "      <td>21</td>\n",
       "      <td>Ульяновск</td>\n",
       "      <td>5.0</td>\n",
       "      <td>smart</td>\n",
       "      <td>550</td>\n",
       "      <td>500</td>\n",
       "      <td>50</td>\n",
       "      <td>3</td>\n",
       "      <td>200</td>\n",
       "      <td>3</td>\n",
       "      <td>15360</td>\n",
       "      <td>56</td>\n",
       "      <td>381.0</td>\n",
       "      <td>0.0</td>\n",
       "      <td>12965.41</td>\n",
       "      <td>13.0</td>\n",
       "      <td>-357.0</td>\n",
       "      <td>-150.0</td>\n",
       "      <td>-400.0</td>\n",
       "    </tr>\n",
       "    <tr>\n",
       "      <th>46</th>\n",
       "      <td>1006</td>\n",
       "      <td>21</td>\n",
       "      <td>Ульяновск</td>\n",
       "      <td>6.0</td>\n",
       "      <td>smart</td>\n",
       "      <td>550</td>\n",
       "      <td>500</td>\n",
       "      <td>50</td>\n",
       "      <td>3</td>\n",
       "      <td>200</td>\n",
       "      <td>3</td>\n",
       "      <td>15360</td>\n",
       "      <td>53</td>\n",
       "      <td>483.0</td>\n",
       "      <td>0.0</td>\n",
       "      <td>12371.66</td>\n",
       "      <td>13.0</td>\n",
       "      <td>-51.0</td>\n",
       "      <td>-150.0</td>\n",
       "      <td>-400.0</td>\n",
       "    </tr>\n",
       "    <tr>\n",
       "      <th>47</th>\n",
       "      <td>1006</td>\n",
       "      <td>21</td>\n",
       "      <td>Ульяновск</td>\n",
       "      <td>7.0</td>\n",
       "      <td>smart</td>\n",
       "      <td>550</td>\n",
       "      <td>500</td>\n",
       "      <td>50</td>\n",
       "      <td>3</td>\n",
       "      <td>200</td>\n",
       "      <td>3</td>\n",
       "      <td>15360</td>\n",
       "      <td>49</td>\n",
       "      <td>327.0</td>\n",
       "      <td>0.0</td>\n",
       "      <td>19977.60</td>\n",
       "      <td>20.0</td>\n",
       "      <td>-519.0</td>\n",
       "      <td>-150.0</td>\n",
       "      <td>1000.0</td>\n",
       "    </tr>\n",
       "    <tr>\n",
       "      <th>48</th>\n",
       "      <td>1006</td>\n",
       "      <td>21</td>\n",
       "      <td>Ульяновск</td>\n",
       "      <td>8.0</td>\n",
       "      <td>smart</td>\n",
       "      <td>550</td>\n",
       "      <td>500</td>\n",
       "      <td>50</td>\n",
       "      <td>3</td>\n",
       "      <td>200</td>\n",
       "      <td>3</td>\n",
       "      <td>15360</td>\n",
       "      <td>42</td>\n",
       "      <td>285.0</td>\n",
       "      <td>0.0</td>\n",
       "      <td>19303.71</td>\n",
       "      <td>19.0</td>\n",
       "      <td>-645.0</td>\n",
       "      <td>-150.0</td>\n",
       "      <td>800.0</td>\n",
       "    </tr>\n",
       "    <tr>\n",
       "      <th>49</th>\n",
       "      <td>1006</td>\n",
       "      <td>21</td>\n",
       "      <td>Ульяновск</td>\n",
       "      <td>9.0</td>\n",
       "      <td>smart</td>\n",
       "      <td>550</td>\n",
       "      <td>500</td>\n",
       "      <td>50</td>\n",
       "      <td>3</td>\n",
       "      <td>200</td>\n",
       "      <td>3</td>\n",
       "      <td>15360</td>\n",
       "      <td>54</td>\n",
       "      <td>367.0</td>\n",
       "      <td>0.0</td>\n",
       "      <td>15521.53</td>\n",
       "      <td>16.0</td>\n",
       "      <td>-399.0</td>\n",
       "      <td>-150.0</td>\n",
       "      <td>200.0</td>\n",
       "    </tr>\n",
       "  </tbody>\n",
       "</table>\n",
       "</div>"
      ],
      "text/plain": [
       "    user_id  age              city  day_month tariff_name  rub_monthly_fee  \\\n",
       "0      1000   52         Краснодар        5.0       ultra             1950   \n",
       "1      1000   52         Краснодар        6.0       ultra             1950   \n",
       "2      1000   52         Краснодар        7.0       ultra             1950   \n",
       "3      1000   52         Краснодар        8.0       ultra             1950   \n",
       "4      1000   52         Краснодар        9.0       ultra             1950   \n",
       "5      1000   52         Краснодар       10.0       ultra             1950   \n",
       "6      1000   52         Краснодар       11.0       ultra             1950   \n",
       "7      1000   52         Краснодар       12.0       ultra             1950   \n",
       "8      1001   41            Москва       11.0       smart              550   \n",
       "9      1001   41            Москва       12.0       smart              550   \n",
       "10     1002   59       Стерлитамак        6.0       smart              550   \n",
       "11     1002   59       Стерлитамак        7.0       smart              550   \n",
       "12     1002   59       Стерлитамак        8.0       smart              550   \n",
       "13     1002   59       Стерлитамак        9.0       smart              550   \n",
       "14     1002   59       Стерлитамак       10.0       smart              550   \n",
       "15     1002   59       Стерлитамак       11.0       smart              550   \n",
       "16     1002   59       Стерлитамак       12.0       smart              550   \n",
       "17     1003   23            Москва        8.0       ultra             1950   \n",
       "18     1003   23            Москва        9.0       ultra             1950   \n",
       "19     1003   23            Москва       10.0       ultra             1950   \n",
       "20     1003   23            Москва       11.0       ultra             1950   \n",
       "21     1003   23            Москва       12.0       ultra             1950   \n",
       "22     1004   68       Новокузнецк        5.0       ultra             1950   \n",
       "23     1004   68       Новокузнецк        6.0       ultra             1950   \n",
       "24     1004   68       Новокузнецк        7.0       ultra             1950   \n",
       "25     1004   68       Новокузнецк        8.0       ultra             1950   \n",
       "26     1004   68       Новокузнецк        9.0       ultra             1950   \n",
       "27     1004   68       Новокузнецк       10.0       ultra             1950   \n",
       "28     1004   68       Новокузнецк       11.0       ultra             1950   \n",
       "29     1004   68       Новокузнецк       12.0       ultra             1950   \n",
       "30     1005   67  Набережные Челны        1.0       smart              550   \n",
       "31     1005   67  Набережные Челны        2.0       smart              550   \n",
       "32     1005   67  Набережные Челны        3.0       smart              550   \n",
       "33     1005   67  Набережные Челны        4.0       smart              550   \n",
       "34     1005   67  Набережные Челны        5.0       smart              550   \n",
       "35     1005   67  Набережные Челны        6.0       smart              550   \n",
       "36     1005   67  Набережные Челны        7.0       smart              550   \n",
       "37     1005   67  Набережные Челны        8.0       smart              550   \n",
       "38     1005   67  Набережные Челны        9.0       smart              550   \n",
       "39     1005   67  Набережные Челны       10.0       smart              550   \n",
       "40     1005   67  Набережные Челны       11.0       smart              550   \n",
       "41     1005   67  Набережные Челны       12.0       smart              550   \n",
       "42     1006   21         Ульяновск        2.0       smart              550   \n",
       "43     1006   21         Ульяновск        3.0       smart              550   \n",
       "44     1006   21         Ульяновск        4.0       smart              550   \n",
       "45     1006   21         Ульяновск        5.0       smart              550   \n",
       "46     1006   21         Ульяновск        6.0       smart              550   \n",
       "47     1006   21         Ульяновск        7.0       smart              550   \n",
       "48     1006   21         Ульяновск        8.0       smart              550   \n",
       "49     1006   21         Ульяновск        9.0       smart              550   \n",
       "\n",
       "    minutes_included  messages_included  rub_per_message  rub_per_gb  \\\n",
       "0               3000               1000                1         150   \n",
       "1               3000               1000                1         150   \n",
       "2               3000               1000                1         150   \n",
       "3               3000               1000                1         150   \n",
       "4               3000               1000                1         150   \n",
       "5               3000               1000                1         150   \n",
       "6               3000               1000                1         150   \n",
       "7               3000               1000                1         150   \n",
       "8                500                 50                3         200   \n",
       "9                500                 50                3         200   \n",
       "10               500                 50                3         200   \n",
       "11               500                 50                3         200   \n",
       "12               500                 50                3         200   \n",
       "13               500                 50                3         200   \n",
       "14               500                 50                3         200   \n",
       "15               500                 50                3         200   \n",
       "16               500                 50                3         200   \n",
       "17              3000               1000                1         150   \n",
       "18              3000               1000                1         150   \n",
       "19              3000               1000                1         150   \n",
       "20              3000               1000                1         150   \n",
       "21              3000               1000                1         150   \n",
       "22              3000               1000                1         150   \n",
       "23              3000               1000                1         150   \n",
       "24              3000               1000                1         150   \n",
       "25              3000               1000                1         150   \n",
       "26              3000               1000                1         150   \n",
       "27              3000               1000                1         150   \n",
       "28              3000               1000                1         150   \n",
       "29              3000               1000                1         150   \n",
       "30               500                 50                3         200   \n",
       "31               500                 50                3         200   \n",
       "32               500                 50                3         200   \n",
       "33               500                 50                3         200   \n",
       "34               500                 50                3         200   \n",
       "35               500                 50                3         200   \n",
       "36               500                 50                3         200   \n",
       "37               500                 50                3         200   \n",
       "38               500                 50                3         200   \n",
       "39               500                 50                3         200   \n",
       "40               500                 50                3         200   \n",
       "41               500                 50                3         200   \n",
       "42               500                 50                3         200   \n",
       "43               500                 50                3         200   \n",
       "44               500                 50                3         200   \n",
       "45               500                 50                3         200   \n",
       "46               500                 50                3         200   \n",
       "47               500                 50                3         200   \n",
       "48               500                 50                3         200   \n",
       "49               500                 50                3         200   \n",
       "\n",
       "    rub_per_minute  mb_per_month_included  duration_count  duration_count_sum  \\\n",
       "0                1                  30720              22               164.0   \n",
       "1                1                  30720              43               187.0   \n",
       "2                1                  30720              47               346.0   \n",
       "3                1                  30720              52               418.0   \n",
       "4                1                  30720              58               478.0   \n",
       "5                1                  30720              57               363.0   \n",
       "6                1                  30720              43               344.0   \n",
       "7                1                  30720              46               341.0   \n",
       "8                3                  15360              59               444.0   \n",
       "9                3                  15360              63               430.0   \n",
       "10               3                  15360              15               118.0   \n",
       "11               3                  15360              26               219.0   \n",
       "12               3                  15360              42               294.0   \n",
       "13               3                  15360              36               217.0   \n",
       "14               3                  15360              33               221.0   \n",
       "15               3                  15360              32               250.0   \n",
       "16               3                  15360              33               242.0   \n",
       "17               1                  30720              55               392.0   \n",
       "18               1                  30720             134               990.0   \n",
       "19               1                  30720             108               866.0   \n",
       "20               1                  30720             115               844.0   \n",
       "21               1                  30720             108               822.0   \n",
       "22               1                  30720               9                37.0   \n",
       "23               1                  30720              31               177.0   \n",
       "24               1                  30720              22               137.0   \n",
       "25               1                  30720              19               138.0   \n",
       "26               1                  30720              26               125.0   \n",
       "27               1                  30720              29               153.0   \n",
       "28               1                  30720              19               121.0   \n",
       "29               1                  30720              21               136.0   \n",
       "30               3                  15360              15                99.0   \n",
       "31               3                  15360              69               470.0   \n",
       "32               3                  15360              77               620.0   \n",
       "33               3                  15360             101               736.0   \n",
       "34               3                  15360              73               606.0   \n",
       "35               3                  15360              80               623.0   \n",
       "36               3                  15360              77               584.0   \n",
       "37               3                  15360              71               626.0   \n",
       "38               3                  15360              66               488.0   \n",
       "39               3                  15360             100               745.0   \n",
       "40               3                  15360              75               562.0   \n",
       "41               3                  15360              84               613.0   \n",
       "42               3                  15360               3                42.0   \n",
       "43               3                  15360              46               296.0   \n",
       "44               3                  15360              47               365.0   \n",
       "45               3                  15360              56               381.0   \n",
       "46               3                  15360              53               483.0   \n",
       "47               3                  15360              49               327.0   \n",
       "48               3                  15360              42               285.0   \n",
       "49               3                  15360              54               367.0   \n",
       "\n",
       "    messages   mb_used  gb_used  calls_profit  messages_profit  gb_profit  \n",
       "0       22.0   2253.49      3.0       -2836.0           -978.0    -4050.0  \n",
       "1       60.0  23233.77     23.0       -2813.0           -940.0    -1050.0  \n",
       "2       75.0  14003.64     14.0       -2654.0           -925.0    -2400.0  \n",
       "3       81.0  14055.93     14.0       -2582.0           -919.0    -2400.0  \n",
       "4       57.0  14568.91     15.0       -2522.0           -943.0    -2250.0  \n",
       "5       73.0  14702.49     15.0       -2637.0           -927.0    -2250.0  \n",
       "6       58.0  14756.47     15.0       -2656.0           -942.0    -2250.0  \n",
       "7       70.0   9817.61     10.0       -2659.0           -930.0    -3000.0  \n",
       "8        0.0  18429.34     18.0        -168.0           -150.0      600.0  \n",
       "9        0.0  14036.66     14.0        -210.0           -150.0     -200.0  \n",
       "10       4.0  10856.82     11.0       -1146.0           -138.0     -800.0  \n",
       "11      11.0  17580.10     18.0        -843.0           -117.0      600.0  \n",
       "12      13.0  20319.26     20.0        -618.0           -111.0     1000.0  \n",
       "13       4.0  16691.08     17.0        -849.0           -138.0      400.0  \n",
       "14      10.0  13888.25     14.0        -837.0           -120.0     -200.0  \n",
       "15      16.0  18587.28     19.0        -750.0           -102.0      800.0  \n",
       "16      12.0  18113.73     18.0        -774.0           -114.0      600.0  \n",
       "17      37.0   8565.21      9.0       -2608.0           -963.0    -3150.0  \n",
       "18      91.0  12468.87     13.0       -2010.0           -909.0    -2550.0  \n",
       "19      83.0  14768.14     15.0       -2134.0           -917.0    -2250.0  \n",
       "20      94.0  11356.89     12.0       -2156.0           -906.0    -2700.0  \n",
       "21      75.0  10121.53     10.0       -2178.0           -925.0    -3000.0  \n",
       "22      95.0  13403.98     14.0       -2963.0           -905.0    -2400.0  \n",
       "23     134.0  17600.02     18.0       -2823.0           -866.0    -1800.0  \n",
       "24     181.0  22229.58     22.0       -2863.0           -819.0    -1200.0  \n",
       "25     151.0  28584.37     28.0       -2862.0           -849.0     -300.0  \n",
       "26     146.0  15109.03     15.0       -2875.0           -854.0    -2250.0  \n",
       "27     165.0  18475.44     19.0       -2847.0           -835.0    -1650.0  \n",
       "28     158.0  15616.02     16.0       -2879.0           -842.0    -2100.0  \n",
       "29     162.0  18021.04     18.0       -2864.0           -838.0    -1800.0  \n",
       "30       7.0   2727.97      3.0       -1203.0           -129.0    -2400.0  \n",
       "31      38.0   7383.93      8.0         -90.0            -36.0    -1400.0  \n",
       "32      56.0  11104.25     11.0         360.0             18.0     -800.0  \n",
       "33      41.0   9351.72     10.0         708.0            -27.0    -1000.0  \n",
       "34      42.0   7865.53      8.0         318.0            -24.0    -1400.0  \n",
       "35      47.0   9863.19     10.0         369.0             -9.0    -1000.0  \n",
       "36      56.0   7694.56      8.0         252.0             18.0    -1400.0  \n",
       "37      64.0   7543.63      8.0         378.0             42.0    -1400.0  \n",
       "38      52.0   7016.46      7.0         -36.0              6.0    -1600.0  \n",
       "39      44.0   7800.93      8.0         735.0            -18.0    -1400.0  \n",
       "40      51.0  12666.95     13.0         186.0              3.0     -400.0  \n",
       "41      54.0   8668.19      9.0         339.0             12.0    -1200.0  \n",
       "42       0.0   1392.15      2.0       -1374.0           -150.0    -2600.0  \n",
       "43       0.0  17287.93     17.0        -612.0           -150.0      400.0  \n",
       "44       0.0  13936.70     14.0        -405.0           -150.0     -200.0  \n",
       "45       0.0  12965.41     13.0        -357.0           -150.0     -400.0  \n",
       "46       0.0  12371.66     13.0         -51.0           -150.0     -400.0  \n",
       "47       0.0  19977.60     20.0        -519.0           -150.0     1000.0  \n",
       "48       0.0  19303.71     19.0        -645.0           -150.0      800.0  \n",
       "49       0.0  15521.53     16.0        -399.0           -150.0      200.0  "
      ]
     },
     "metadata": {},
     "output_type": "display_data"
    }
   ],
   "source": [
    "table_messages_calls_internet_month.reset_index(inplace=True)\n",
    "table_messages_calls_internet_month['calls_profit'] = ((table_messages_calls_internet_month['duration_count_sum'] - table_messages_calls_internet_month['minutes_included']) * table_messages_calls_internet_month['rub_per_minute'])\n",
    "table_messages_calls_internet_month['messages_profit'] = ((table_messages_calls_internet_month['messages'] - table_messages_calls_internet_month['messages_included']) * table_messages_calls_internet_month['rub_per_message'])\n",
    "table_messages_calls_internet_month['gb_profit'] = ((table_messages_calls_internet_month['gb_used'] - (table_messages_calls_internet_month['mb_per_month_included']/1024)) * table_messages_calls_internet_month['rub_per_gb'])\n",
    "display (table_messages_calls_internet_month.head(50))"
   ]
  },
  {
   "cell_type": "markdown",
   "metadata": {},
   "source": [
    "<div class=\"alert alert-danger\">\n",
    "<b>Комментарий ревьюера \"ошибка\":</b> \n",
    "По условиям тарифа:\n",
    "    \n",
    "    «Мегалайн» всегда округляет секунды до минут, а мегабайты — до гигабайт. Каждый звонок округляется отдельно: даже если он длился всего 1 секунду, будет засчитан как 1 минута.\n",
    "    Для веб-трафика отдельные сессии не считаются. Вместо этого общая сумма за месяц округляется в бо́льшую сторону. Если абонент использует 1025 мегабайт в этом месяце, с него возьмут плату за 2 гигабайта.\n",
    "    \n",
    "Поэтому для корректного расчета выручки нужно перевести помесячный трафик в Гб и округлить до целых значений вверх.\n",
    "    <div class=\"alert alert-info\"> <b>Комментарий студента:</b> Сделал   </div>"
   ]
  },
  {
   "cell_type": "markdown",
   "metadata": {},
   "source": [
    "<div class=\"alert alert-success\">\n",
    "<b>2 Комментарий ревьюера ✔️:</b> Здорово, спасибо!</div>"
   ]
  },
  {
   "cell_type": "code",
   "execution_count": 17,
   "metadata": {},
   "outputs": [
    {
     "data": {
      "text/plain": [
       "492"
      ]
     },
     "execution_count": 17,
     "metadata": {},
     "output_type": "execute_result"
    }
   ],
   "source": [
    "table_messages_calls_internet_month['user_id'].nunique()"
   ]
  },
  {
   "cell_type": "markdown",
   "metadata": {},
   "source": [
    "<div class=\"alert alert-danger\">\n",
    "<b>Комментарий ревьюера \"ошибка\":</b> \n",
    "Количество уникальных пользователей 492, было 500, потеряли 8 человек! На самом деле два могли потеряться, они не пользовались услугами, но не 8."
   ]
  },
  {
   "cell_type": "markdown",
   "metadata": {},
   "source": [
    "<div class=\"alert alert-info\">\n",
    "<font color='black'> <b> Там где нет прибыли сверх тарифа (отрицательные значения) - заменим значения на 0 </font> <b>"
   ]
  },
  {
   "cell_type": "code",
   "execution_count": 18,
   "metadata": {},
   "outputs": [],
   "source": [
    "table_messages_calls_internet_month['messages_profit'] = table_messages_calls_internet_month['messages_profit'].clip(lower = 0)\n",
    "table_messages_calls_internet_month['calls_profit'] = table_messages_calls_internet_month['calls_profit'].clip(lower = 0)\n",
    "table_messages_calls_internet_month['gb_profit'] = table_messages_calls_internet_month['gb_profit'].clip(lower = 0)\n",
    "table_messages_calls_internet_month['gb_profit']=table_messages_calls_internet_month['gb_profit'].astype('int')"
   ]
  },
  {
   "cell_type": "markdown",
   "metadata": {},
   "source": [
    "<div class=\"alert alert-info\">\n",
    "<font color='black'> <b> Создадим колонку для суммарной прибыли </font> <b>"
   ]
  },
  {
   "cell_type": "code",
   "execution_count": 19,
   "metadata": {},
   "outputs": [
    {
     "data": {
      "text/html": [
       "<div>\n",
       "<style scoped>\n",
       "    .dataframe tbody tr th:only-of-type {\n",
       "        vertical-align: middle;\n",
       "    }\n",
       "\n",
       "    .dataframe tbody tr th {\n",
       "        vertical-align: top;\n",
       "    }\n",
       "\n",
       "    .dataframe thead th {\n",
       "        text-align: right;\n",
       "    }\n",
       "</style>\n",
       "<table border=\"1\" class=\"dataframe\">\n",
       "  <thead>\n",
       "    <tr style=\"text-align: right;\">\n",
       "      <th></th>\n",
       "      <th>user_id</th>\n",
       "      <th>age</th>\n",
       "      <th>city</th>\n",
       "      <th>day_month</th>\n",
       "      <th>tariff_name</th>\n",
       "      <th>rub_monthly_fee</th>\n",
       "      <th>minutes_included</th>\n",
       "      <th>messages_included</th>\n",
       "      <th>rub_per_message</th>\n",
       "      <th>rub_per_gb</th>\n",
       "      <th>...</th>\n",
       "      <th>mb_per_month_included</th>\n",
       "      <th>duration_count</th>\n",
       "      <th>duration_count_sum</th>\n",
       "      <th>messages</th>\n",
       "      <th>mb_used</th>\n",
       "      <th>gb_used</th>\n",
       "      <th>calls_profit</th>\n",
       "      <th>messages_profit</th>\n",
       "      <th>gb_profit</th>\n",
       "      <th>profit</th>\n",
       "    </tr>\n",
       "  </thead>\n",
       "  <tbody>\n",
       "    <tr>\n",
       "      <th>0</th>\n",
       "      <td>1000</td>\n",
       "      <td>52</td>\n",
       "      <td>Краснодар</td>\n",
       "      <td>5.0</td>\n",
       "      <td>ultra</td>\n",
       "      <td>1950</td>\n",
       "      <td>3000</td>\n",
       "      <td>1000</td>\n",
       "      <td>1</td>\n",
       "      <td>150</td>\n",
       "      <td>...</td>\n",
       "      <td>30720</td>\n",
       "      <td>22</td>\n",
       "      <td>164.0</td>\n",
       "      <td>22.0</td>\n",
       "      <td>2253.49</td>\n",
       "      <td>3.0</td>\n",
       "      <td>0.0</td>\n",
       "      <td>0.0</td>\n",
       "      <td>0</td>\n",
       "      <td>1950.0</td>\n",
       "    </tr>\n",
       "    <tr>\n",
       "      <th>1</th>\n",
       "      <td>1000</td>\n",
       "      <td>52</td>\n",
       "      <td>Краснодар</td>\n",
       "      <td>6.0</td>\n",
       "      <td>ultra</td>\n",
       "      <td>1950</td>\n",
       "      <td>3000</td>\n",
       "      <td>1000</td>\n",
       "      <td>1</td>\n",
       "      <td>150</td>\n",
       "      <td>...</td>\n",
       "      <td>30720</td>\n",
       "      <td>43</td>\n",
       "      <td>187.0</td>\n",
       "      <td>60.0</td>\n",
       "      <td>23233.77</td>\n",
       "      <td>23.0</td>\n",
       "      <td>0.0</td>\n",
       "      <td>0.0</td>\n",
       "      <td>0</td>\n",
       "      <td>1950.0</td>\n",
       "    </tr>\n",
       "    <tr>\n",
       "      <th>2</th>\n",
       "      <td>1000</td>\n",
       "      <td>52</td>\n",
       "      <td>Краснодар</td>\n",
       "      <td>7.0</td>\n",
       "      <td>ultra</td>\n",
       "      <td>1950</td>\n",
       "      <td>3000</td>\n",
       "      <td>1000</td>\n",
       "      <td>1</td>\n",
       "      <td>150</td>\n",
       "      <td>...</td>\n",
       "      <td>30720</td>\n",
       "      <td>47</td>\n",
       "      <td>346.0</td>\n",
       "      <td>75.0</td>\n",
       "      <td>14003.64</td>\n",
       "      <td>14.0</td>\n",
       "      <td>0.0</td>\n",
       "      <td>0.0</td>\n",
       "      <td>0</td>\n",
       "      <td>1950.0</td>\n",
       "    </tr>\n",
       "    <tr>\n",
       "      <th>3</th>\n",
       "      <td>1000</td>\n",
       "      <td>52</td>\n",
       "      <td>Краснодар</td>\n",
       "      <td>8.0</td>\n",
       "      <td>ultra</td>\n",
       "      <td>1950</td>\n",
       "      <td>3000</td>\n",
       "      <td>1000</td>\n",
       "      <td>1</td>\n",
       "      <td>150</td>\n",
       "      <td>...</td>\n",
       "      <td>30720</td>\n",
       "      <td>52</td>\n",
       "      <td>418.0</td>\n",
       "      <td>81.0</td>\n",
       "      <td>14055.93</td>\n",
       "      <td>14.0</td>\n",
       "      <td>0.0</td>\n",
       "      <td>0.0</td>\n",
       "      <td>0</td>\n",
       "      <td>1950.0</td>\n",
       "    </tr>\n",
       "    <tr>\n",
       "      <th>4</th>\n",
       "      <td>1000</td>\n",
       "      <td>52</td>\n",
       "      <td>Краснодар</td>\n",
       "      <td>9.0</td>\n",
       "      <td>ultra</td>\n",
       "      <td>1950</td>\n",
       "      <td>3000</td>\n",
       "      <td>1000</td>\n",
       "      <td>1</td>\n",
       "      <td>150</td>\n",
       "      <td>...</td>\n",
       "      <td>30720</td>\n",
       "      <td>58</td>\n",
       "      <td>478.0</td>\n",
       "      <td>57.0</td>\n",
       "      <td>14568.91</td>\n",
       "      <td>15.0</td>\n",
       "      <td>0.0</td>\n",
       "      <td>0.0</td>\n",
       "      <td>0</td>\n",
       "      <td>1950.0</td>\n",
       "    </tr>\n",
       "    <tr>\n",
       "      <th>5</th>\n",
       "      <td>1000</td>\n",
       "      <td>52</td>\n",
       "      <td>Краснодар</td>\n",
       "      <td>10.0</td>\n",
       "      <td>ultra</td>\n",
       "      <td>1950</td>\n",
       "      <td>3000</td>\n",
       "      <td>1000</td>\n",
       "      <td>1</td>\n",
       "      <td>150</td>\n",
       "      <td>...</td>\n",
       "      <td>30720</td>\n",
       "      <td>57</td>\n",
       "      <td>363.0</td>\n",
       "      <td>73.0</td>\n",
       "      <td>14702.49</td>\n",
       "      <td>15.0</td>\n",
       "      <td>0.0</td>\n",
       "      <td>0.0</td>\n",
       "      <td>0</td>\n",
       "      <td>1950.0</td>\n",
       "    </tr>\n",
       "    <tr>\n",
       "      <th>6</th>\n",
       "      <td>1000</td>\n",
       "      <td>52</td>\n",
       "      <td>Краснодар</td>\n",
       "      <td>11.0</td>\n",
       "      <td>ultra</td>\n",
       "      <td>1950</td>\n",
       "      <td>3000</td>\n",
       "      <td>1000</td>\n",
       "      <td>1</td>\n",
       "      <td>150</td>\n",
       "      <td>...</td>\n",
       "      <td>30720</td>\n",
       "      <td>43</td>\n",
       "      <td>344.0</td>\n",
       "      <td>58.0</td>\n",
       "      <td>14756.47</td>\n",
       "      <td>15.0</td>\n",
       "      <td>0.0</td>\n",
       "      <td>0.0</td>\n",
       "      <td>0</td>\n",
       "      <td>1950.0</td>\n",
       "    </tr>\n",
       "    <tr>\n",
       "      <th>7</th>\n",
       "      <td>1000</td>\n",
       "      <td>52</td>\n",
       "      <td>Краснодар</td>\n",
       "      <td>12.0</td>\n",
       "      <td>ultra</td>\n",
       "      <td>1950</td>\n",
       "      <td>3000</td>\n",
       "      <td>1000</td>\n",
       "      <td>1</td>\n",
       "      <td>150</td>\n",
       "      <td>...</td>\n",
       "      <td>30720</td>\n",
       "      <td>46</td>\n",
       "      <td>341.0</td>\n",
       "      <td>70.0</td>\n",
       "      <td>9817.61</td>\n",
       "      <td>10.0</td>\n",
       "      <td>0.0</td>\n",
       "      <td>0.0</td>\n",
       "      <td>0</td>\n",
       "      <td>1950.0</td>\n",
       "    </tr>\n",
       "    <tr>\n",
       "      <th>8</th>\n",
       "      <td>1001</td>\n",
       "      <td>41</td>\n",
       "      <td>Москва</td>\n",
       "      <td>11.0</td>\n",
       "      <td>smart</td>\n",
       "      <td>550</td>\n",
       "      <td>500</td>\n",
       "      <td>50</td>\n",
       "      <td>3</td>\n",
       "      <td>200</td>\n",
       "      <td>...</td>\n",
       "      <td>15360</td>\n",
       "      <td>59</td>\n",
       "      <td>444.0</td>\n",
       "      <td>0.0</td>\n",
       "      <td>18429.34</td>\n",
       "      <td>18.0</td>\n",
       "      <td>0.0</td>\n",
       "      <td>0.0</td>\n",
       "      <td>600</td>\n",
       "      <td>1150.0</td>\n",
       "    </tr>\n",
       "    <tr>\n",
       "      <th>9</th>\n",
       "      <td>1001</td>\n",
       "      <td>41</td>\n",
       "      <td>Москва</td>\n",
       "      <td>12.0</td>\n",
       "      <td>smart</td>\n",
       "      <td>550</td>\n",
       "      <td>500</td>\n",
       "      <td>50</td>\n",
       "      <td>3</td>\n",
       "      <td>200</td>\n",
       "      <td>...</td>\n",
       "      <td>15360</td>\n",
       "      <td>63</td>\n",
       "      <td>430.0</td>\n",
       "      <td>0.0</td>\n",
       "      <td>14036.66</td>\n",
       "      <td>14.0</td>\n",
       "      <td>0.0</td>\n",
       "      <td>0.0</td>\n",
       "      <td>0</td>\n",
       "      <td>550.0</td>\n",
       "    </tr>\n",
       "    <tr>\n",
       "      <th>10</th>\n",
       "      <td>1002</td>\n",
       "      <td>59</td>\n",
       "      <td>Стерлитамак</td>\n",
       "      <td>6.0</td>\n",
       "      <td>smart</td>\n",
       "      <td>550</td>\n",
       "      <td>500</td>\n",
       "      <td>50</td>\n",
       "      <td>3</td>\n",
       "      <td>200</td>\n",
       "      <td>...</td>\n",
       "      <td>15360</td>\n",
       "      <td>15</td>\n",
       "      <td>118.0</td>\n",
       "      <td>4.0</td>\n",
       "      <td>10856.82</td>\n",
       "      <td>11.0</td>\n",
       "      <td>0.0</td>\n",
       "      <td>0.0</td>\n",
       "      <td>0</td>\n",
       "      <td>550.0</td>\n",
       "    </tr>\n",
       "    <tr>\n",
       "      <th>11</th>\n",
       "      <td>1002</td>\n",
       "      <td>59</td>\n",
       "      <td>Стерлитамак</td>\n",
       "      <td>7.0</td>\n",
       "      <td>smart</td>\n",
       "      <td>550</td>\n",
       "      <td>500</td>\n",
       "      <td>50</td>\n",
       "      <td>3</td>\n",
       "      <td>200</td>\n",
       "      <td>...</td>\n",
       "      <td>15360</td>\n",
       "      <td>26</td>\n",
       "      <td>219.0</td>\n",
       "      <td>11.0</td>\n",
       "      <td>17580.10</td>\n",
       "      <td>18.0</td>\n",
       "      <td>0.0</td>\n",
       "      <td>0.0</td>\n",
       "      <td>600</td>\n",
       "      <td>1150.0</td>\n",
       "    </tr>\n",
       "    <tr>\n",
       "      <th>12</th>\n",
       "      <td>1002</td>\n",
       "      <td>59</td>\n",
       "      <td>Стерлитамак</td>\n",
       "      <td>8.0</td>\n",
       "      <td>smart</td>\n",
       "      <td>550</td>\n",
       "      <td>500</td>\n",
       "      <td>50</td>\n",
       "      <td>3</td>\n",
       "      <td>200</td>\n",
       "      <td>...</td>\n",
       "      <td>15360</td>\n",
       "      <td>42</td>\n",
       "      <td>294.0</td>\n",
       "      <td>13.0</td>\n",
       "      <td>20319.26</td>\n",
       "      <td>20.0</td>\n",
       "      <td>0.0</td>\n",
       "      <td>0.0</td>\n",
       "      <td>1000</td>\n",
       "      <td>1550.0</td>\n",
       "    </tr>\n",
       "    <tr>\n",
       "      <th>13</th>\n",
       "      <td>1002</td>\n",
       "      <td>59</td>\n",
       "      <td>Стерлитамак</td>\n",
       "      <td>9.0</td>\n",
       "      <td>smart</td>\n",
       "      <td>550</td>\n",
       "      <td>500</td>\n",
       "      <td>50</td>\n",
       "      <td>3</td>\n",
       "      <td>200</td>\n",
       "      <td>...</td>\n",
       "      <td>15360</td>\n",
       "      <td>36</td>\n",
       "      <td>217.0</td>\n",
       "      <td>4.0</td>\n",
       "      <td>16691.08</td>\n",
       "      <td>17.0</td>\n",
       "      <td>0.0</td>\n",
       "      <td>0.0</td>\n",
       "      <td>400</td>\n",
       "      <td>950.0</td>\n",
       "    </tr>\n",
       "    <tr>\n",
       "      <th>14</th>\n",
       "      <td>1002</td>\n",
       "      <td>59</td>\n",
       "      <td>Стерлитамак</td>\n",
       "      <td>10.0</td>\n",
       "      <td>smart</td>\n",
       "      <td>550</td>\n",
       "      <td>500</td>\n",
       "      <td>50</td>\n",
       "      <td>3</td>\n",
       "      <td>200</td>\n",
       "      <td>...</td>\n",
       "      <td>15360</td>\n",
       "      <td>33</td>\n",
       "      <td>221.0</td>\n",
       "      <td>10.0</td>\n",
       "      <td>13888.25</td>\n",
       "      <td>14.0</td>\n",
       "      <td>0.0</td>\n",
       "      <td>0.0</td>\n",
       "      <td>0</td>\n",
       "      <td>550.0</td>\n",
       "    </tr>\n",
       "    <tr>\n",
       "      <th>15</th>\n",
       "      <td>1002</td>\n",
       "      <td>59</td>\n",
       "      <td>Стерлитамак</td>\n",
       "      <td>11.0</td>\n",
       "      <td>smart</td>\n",
       "      <td>550</td>\n",
       "      <td>500</td>\n",
       "      <td>50</td>\n",
       "      <td>3</td>\n",
       "      <td>200</td>\n",
       "      <td>...</td>\n",
       "      <td>15360</td>\n",
       "      <td>32</td>\n",
       "      <td>250.0</td>\n",
       "      <td>16.0</td>\n",
       "      <td>18587.28</td>\n",
       "      <td>19.0</td>\n",
       "      <td>0.0</td>\n",
       "      <td>0.0</td>\n",
       "      <td>800</td>\n",
       "      <td>1350.0</td>\n",
       "    </tr>\n",
       "    <tr>\n",
       "      <th>16</th>\n",
       "      <td>1002</td>\n",
       "      <td>59</td>\n",
       "      <td>Стерлитамак</td>\n",
       "      <td>12.0</td>\n",
       "      <td>smart</td>\n",
       "      <td>550</td>\n",
       "      <td>500</td>\n",
       "      <td>50</td>\n",
       "      <td>3</td>\n",
       "      <td>200</td>\n",
       "      <td>...</td>\n",
       "      <td>15360</td>\n",
       "      <td>33</td>\n",
       "      <td>242.0</td>\n",
       "      <td>12.0</td>\n",
       "      <td>18113.73</td>\n",
       "      <td>18.0</td>\n",
       "      <td>0.0</td>\n",
       "      <td>0.0</td>\n",
       "      <td>600</td>\n",
       "      <td>1150.0</td>\n",
       "    </tr>\n",
       "    <tr>\n",
       "      <th>17</th>\n",
       "      <td>1003</td>\n",
       "      <td>23</td>\n",
       "      <td>Москва</td>\n",
       "      <td>8.0</td>\n",
       "      <td>ultra</td>\n",
       "      <td>1950</td>\n",
       "      <td>3000</td>\n",
       "      <td>1000</td>\n",
       "      <td>1</td>\n",
       "      <td>150</td>\n",
       "      <td>...</td>\n",
       "      <td>30720</td>\n",
       "      <td>55</td>\n",
       "      <td>392.0</td>\n",
       "      <td>37.0</td>\n",
       "      <td>8565.21</td>\n",
       "      <td>9.0</td>\n",
       "      <td>0.0</td>\n",
       "      <td>0.0</td>\n",
       "      <td>0</td>\n",
       "      <td>1950.0</td>\n",
       "    </tr>\n",
       "    <tr>\n",
       "      <th>18</th>\n",
       "      <td>1003</td>\n",
       "      <td>23</td>\n",
       "      <td>Москва</td>\n",
       "      <td>9.0</td>\n",
       "      <td>ultra</td>\n",
       "      <td>1950</td>\n",
       "      <td>3000</td>\n",
       "      <td>1000</td>\n",
       "      <td>1</td>\n",
       "      <td>150</td>\n",
       "      <td>...</td>\n",
       "      <td>30720</td>\n",
       "      <td>134</td>\n",
       "      <td>990.0</td>\n",
       "      <td>91.0</td>\n",
       "      <td>12468.87</td>\n",
       "      <td>13.0</td>\n",
       "      <td>0.0</td>\n",
       "      <td>0.0</td>\n",
       "      <td>0</td>\n",
       "      <td>1950.0</td>\n",
       "    </tr>\n",
       "    <tr>\n",
       "      <th>19</th>\n",
       "      <td>1003</td>\n",
       "      <td>23</td>\n",
       "      <td>Москва</td>\n",
       "      <td>10.0</td>\n",
       "      <td>ultra</td>\n",
       "      <td>1950</td>\n",
       "      <td>3000</td>\n",
       "      <td>1000</td>\n",
       "      <td>1</td>\n",
       "      <td>150</td>\n",
       "      <td>...</td>\n",
       "      <td>30720</td>\n",
       "      <td>108</td>\n",
       "      <td>866.0</td>\n",
       "      <td>83.0</td>\n",
       "      <td>14768.14</td>\n",
       "      <td>15.0</td>\n",
       "      <td>0.0</td>\n",
       "      <td>0.0</td>\n",
       "      <td>0</td>\n",
       "      <td>1950.0</td>\n",
       "    </tr>\n",
       "    <tr>\n",
       "      <th>20</th>\n",
       "      <td>1003</td>\n",
       "      <td>23</td>\n",
       "      <td>Москва</td>\n",
       "      <td>11.0</td>\n",
       "      <td>ultra</td>\n",
       "      <td>1950</td>\n",
       "      <td>3000</td>\n",
       "      <td>1000</td>\n",
       "      <td>1</td>\n",
       "      <td>150</td>\n",
       "      <td>...</td>\n",
       "      <td>30720</td>\n",
       "      <td>115</td>\n",
       "      <td>844.0</td>\n",
       "      <td>94.0</td>\n",
       "      <td>11356.89</td>\n",
       "      <td>12.0</td>\n",
       "      <td>0.0</td>\n",
       "      <td>0.0</td>\n",
       "      <td>0</td>\n",
       "      <td>1950.0</td>\n",
       "    </tr>\n",
       "    <tr>\n",
       "      <th>21</th>\n",
       "      <td>1003</td>\n",
       "      <td>23</td>\n",
       "      <td>Москва</td>\n",
       "      <td>12.0</td>\n",
       "      <td>ultra</td>\n",
       "      <td>1950</td>\n",
       "      <td>3000</td>\n",
       "      <td>1000</td>\n",
       "      <td>1</td>\n",
       "      <td>150</td>\n",
       "      <td>...</td>\n",
       "      <td>30720</td>\n",
       "      <td>108</td>\n",
       "      <td>822.0</td>\n",
       "      <td>75.0</td>\n",
       "      <td>10121.53</td>\n",
       "      <td>10.0</td>\n",
       "      <td>0.0</td>\n",
       "      <td>0.0</td>\n",
       "      <td>0</td>\n",
       "      <td>1950.0</td>\n",
       "    </tr>\n",
       "    <tr>\n",
       "      <th>22</th>\n",
       "      <td>1004</td>\n",
       "      <td>68</td>\n",
       "      <td>Новокузнецк</td>\n",
       "      <td>5.0</td>\n",
       "      <td>ultra</td>\n",
       "      <td>1950</td>\n",
       "      <td>3000</td>\n",
       "      <td>1000</td>\n",
       "      <td>1</td>\n",
       "      <td>150</td>\n",
       "      <td>...</td>\n",
       "      <td>30720</td>\n",
       "      <td>9</td>\n",
       "      <td>37.0</td>\n",
       "      <td>95.0</td>\n",
       "      <td>13403.98</td>\n",
       "      <td>14.0</td>\n",
       "      <td>0.0</td>\n",
       "      <td>0.0</td>\n",
       "      <td>0</td>\n",
       "      <td>1950.0</td>\n",
       "    </tr>\n",
       "    <tr>\n",
       "      <th>23</th>\n",
       "      <td>1004</td>\n",
       "      <td>68</td>\n",
       "      <td>Новокузнецк</td>\n",
       "      <td>6.0</td>\n",
       "      <td>ultra</td>\n",
       "      <td>1950</td>\n",
       "      <td>3000</td>\n",
       "      <td>1000</td>\n",
       "      <td>1</td>\n",
       "      <td>150</td>\n",
       "      <td>...</td>\n",
       "      <td>30720</td>\n",
       "      <td>31</td>\n",
       "      <td>177.0</td>\n",
       "      <td>134.0</td>\n",
       "      <td>17600.02</td>\n",
       "      <td>18.0</td>\n",
       "      <td>0.0</td>\n",
       "      <td>0.0</td>\n",
       "      <td>0</td>\n",
       "      <td>1950.0</td>\n",
       "    </tr>\n",
       "    <tr>\n",
       "      <th>24</th>\n",
       "      <td>1004</td>\n",
       "      <td>68</td>\n",
       "      <td>Новокузнецк</td>\n",
       "      <td>7.0</td>\n",
       "      <td>ultra</td>\n",
       "      <td>1950</td>\n",
       "      <td>3000</td>\n",
       "      <td>1000</td>\n",
       "      <td>1</td>\n",
       "      <td>150</td>\n",
       "      <td>...</td>\n",
       "      <td>30720</td>\n",
       "      <td>22</td>\n",
       "      <td>137.0</td>\n",
       "      <td>181.0</td>\n",
       "      <td>22229.58</td>\n",
       "      <td>22.0</td>\n",
       "      <td>0.0</td>\n",
       "      <td>0.0</td>\n",
       "      <td>0</td>\n",
       "      <td>1950.0</td>\n",
       "    </tr>\n",
       "    <tr>\n",
       "      <th>25</th>\n",
       "      <td>1004</td>\n",
       "      <td>68</td>\n",
       "      <td>Новокузнецк</td>\n",
       "      <td>8.0</td>\n",
       "      <td>ultra</td>\n",
       "      <td>1950</td>\n",
       "      <td>3000</td>\n",
       "      <td>1000</td>\n",
       "      <td>1</td>\n",
       "      <td>150</td>\n",
       "      <td>...</td>\n",
       "      <td>30720</td>\n",
       "      <td>19</td>\n",
       "      <td>138.0</td>\n",
       "      <td>151.0</td>\n",
       "      <td>28584.37</td>\n",
       "      <td>28.0</td>\n",
       "      <td>0.0</td>\n",
       "      <td>0.0</td>\n",
       "      <td>0</td>\n",
       "      <td>1950.0</td>\n",
       "    </tr>\n",
       "    <tr>\n",
       "      <th>26</th>\n",
       "      <td>1004</td>\n",
       "      <td>68</td>\n",
       "      <td>Новокузнецк</td>\n",
       "      <td>9.0</td>\n",
       "      <td>ultra</td>\n",
       "      <td>1950</td>\n",
       "      <td>3000</td>\n",
       "      <td>1000</td>\n",
       "      <td>1</td>\n",
       "      <td>150</td>\n",
       "      <td>...</td>\n",
       "      <td>30720</td>\n",
       "      <td>26</td>\n",
       "      <td>125.0</td>\n",
       "      <td>146.0</td>\n",
       "      <td>15109.03</td>\n",
       "      <td>15.0</td>\n",
       "      <td>0.0</td>\n",
       "      <td>0.0</td>\n",
       "      <td>0</td>\n",
       "      <td>1950.0</td>\n",
       "    </tr>\n",
       "    <tr>\n",
       "      <th>27</th>\n",
       "      <td>1004</td>\n",
       "      <td>68</td>\n",
       "      <td>Новокузнецк</td>\n",
       "      <td>10.0</td>\n",
       "      <td>ultra</td>\n",
       "      <td>1950</td>\n",
       "      <td>3000</td>\n",
       "      <td>1000</td>\n",
       "      <td>1</td>\n",
       "      <td>150</td>\n",
       "      <td>...</td>\n",
       "      <td>30720</td>\n",
       "      <td>29</td>\n",
       "      <td>153.0</td>\n",
       "      <td>165.0</td>\n",
       "      <td>18475.44</td>\n",
       "      <td>19.0</td>\n",
       "      <td>0.0</td>\n",
       "      <td>0.0</td>\n",
       "      <td>0</td>\n",
       "      <td>1950.0</td>\n",
       "    </tr>\n",
       "    <tr>\n",
       "      <th>28</th>\n",
       "      <td>1004</td>\n",
       "      <td>68</td>\n",
       "      <td>Новокузнецк</td>\n",
       "      <td>11.0</td>\n",
       "      <td>ultra</td>\n",
       "      <td>1950</td>\n",
       "      <td>3000</td>\n",
       "      <td>1000</td>\n",
       "      <td>1</td>\n",
       "      <td>150</td>\n",
       "      <td>...</td>\n",
       "      <td>30720</td>\n",
       "      <td>19</td>\n",
       "      <td>121.0</td>\n",
       "      <td>158.0</td>\n",
       "      <td>15616.02</td>\n",
       "      <td>16.0</td>\n",
       "      <td>0.0</td>\n",
       "      <td>0.0</td>\n",
       "      <td>0</td>\n",
       "      <td>1950.0</td>\n",
       "    </tr>\n",
       "    <tr>\n",
       "      <th>29</th>\n",
       "      <td>1004</td>\n",
       "      <td>68</td>\n",
       "      <td>Новокузнецк</td>\n",
       "      <td>12.0</td>\n",
       "      <td>ultra</td>\n",
       "      <td>1950</td>\n",
       "      <td>3000</td>\n",
       "      <td>1000</td>\n",
       "      <td>1</td>\n",
       "      <td>150</td>\n",
       "      <td>...</td>\n",
       "      <td>30720</td>\n",
       "      <td>21</td>\n",
       "      <td>136.0</td>\n",
       "      <td>162.0</td>\n",
       "      <td>18021.04</td>\n",
       "      <td>18.0</td>\n",
       "      <td>0.0</td>\n",
       "      <td>0.0</td>\n",
       "      <td>0</td>\n",
       "      <td>1950.0</td>\n",
       "    </tr>\n",
       "  </tbody>\n",
       "</table>\n",
       "<p>30 rows × 21 columns</p>\n",
       "</div>"
      ],
      "text/plain": [
       "    user_id  age         city  day_month tariff_name  rub_monthly_fee  \\\n",
       "0      1000   52    Краснодар        5.0       ultra             1950   \n",
       "1      1000   52    Краснодар        6.0       ultra             1950   \n",
       "2      1000   52    Краснодар        7.0       ultra             1950   \n",
       "3      1000   52    Краснодар        8.0       ultra             1950   \n",
       "4      1000   52    Краснодар        9.0       ultra             1950   \n",
       "5      1000   52    Краснодар       10.0       ultra             1950   \n",
       "6      1000   52    Краснодар       11.0       ultra             1950   \n",
       "7      1000   52    Краснодар       12.0       ultra             1950   \n",
       "8      1001   41       Москва       11.0       smart              550   \n",
       "9      1001   41       Москва       12.0       smart              550   \n",
       "10     1002   59  Стерлитамак        6.0       smart              550   \n",
       "11     1002   59  Стерлитамак        7.0       smart              550   \n",
       "12     1002   59  Стерлитамак        8.0       smart              550   \n",
       "13     1002   59  Стерлитамак        9.0       smart              550   \n",
       "14     1002   59  Стерлитамак       10.0       smart              550   \n",
       "15     1002   59  Стерлитамак       11.0       smart              550   \n",
       "16     1002   59  Стерлитамак       12.0       smart              550   \n",
       "17     1003   23       Москва        8.0       ultra             1950   \n",
       "18     1003   23       Москва        9.0       ultra             1950   \n",
       "19     1003   23       Москва       10.0       ultra             1950   \n",
       "20     1003   23       Москва       11.0       ultra             1950   \n",
       "21     1003   23       Москва       12.0       ultra             1950   \n",
       "22     1004   68  Новокузнецк        5.0       ultra             1950   \n",
       "23     1004   68  Новокузнецк        6.0       ultra             1950   \n",
       "24     1004   68  Новокузнецк        7.0       ultra             1950   \n",
       "25     1004   68  Новокузнецк        8.0       ultra             1950   \n",
       "26     1004   68  Новокузнецк        9.0       ultra             1950   \n",
       "27     1004   68  Новокузнецк       10.0       ultra             1950   \n",
       "28     1004   68  Новокузнецк       11.0       ultra             1950   \n",
       "29     1004   68  Новокузнецк       12.0       ultra             1950   \n",
       "\n",
       "    minutes_included  messages_included  rub_per_message  rub_per_gb  ...  \\\n",
       "0               3000               1000                1         150  ...   \n",
       "1               3000               1000                1         150  ...   \n",
       "2               3000               1000                1         150  ...   \n",
       "3               3000               1000                1         150  ...   \n",
       "4               3000               1000                1         150  ...   \n",
       "5               3000               1000                1         150  ...   \n",
       "6               3000               1000                1         150  ...   \n",
       "7               3000               1000                1         150  ...   \n",
       "8                500                 50                3         200  ...   \n",
       "9                500                 50                3         200  ...   \n",
       "10               500                 50                3         200  ...   \n",
       "11               500                 50                3         200  ...   \n",
       "12               500                 50                3         200  ...   \n",
       "13               500                 50                3         200  ...   \n",
       "14               500                 50                3         200  ...   \n",
       "15               500                 50                3         200  ...   \n",
       "16               500                 50                3         200  ...   \n",
       "17              3000               1000                1         150  ...   \n",
       "18              3000               1000                1         150  ...   \n",
       "19              3000               1000                1         150  ...   \n",
       "20              3000               1000                1         150  ...   \n",
       "21              3000               1000                1         150  ...   \n",
       "22              3000               1000                1         150  ...   \n",
       "23              3000               1000                1         150  ...   \n",
       "24              3000               1000                1         150  ...   \n",
       "25              3000               1000                1         150  ...   \n",
       "26              3000               1000                1         150  ...   \n",
       "27              3000               1000                1         150  ...   \n",
       "28              3000               1000                1         150  ...   \n",
       "29              3000               1000                1         150  ...   \n",
       "\n",
       "    mb_per_month_included  duration_count  duration_count_sum  messages  \\\n",
       "0                   30720              22               164.0      22.0   \n",
       "1                   30720              43               187.0      60.0   \n",
       "2                   30720              47               346.0      75.0   \n",
       "3                   30720              52               418.0      81.0   \n",
       "4                   30720              58               478.0      57.0   \n",
       "5                   30720              57               363.0      73.0   \n",
       "6                   30720              43               344.0      58.0   \n",
       "7                   30720              46               341.0      70.0   \n",
       "8                   15360              59               444.0       0.0   \n",
       "9                   15360              63               430.0       0.0   \n",
       "10                  15360              15               118.0       4.0   \n",
       "11                  15360              26               219.0      11.0   \n",
       "12                  15360              42               294.0      13.0   \n",
       "13                  15360              36               217.0       4.0   \n",
       "14                  15360              33               221.0      10.0   \n",
       "15                  15360              32               250.0      16.0   \n",
       "16                  15360              33               242.0      12.0   \n",
       "17                  30720              55               392.0      37.0   \n",
       "18                  30720             134               990.0      91.0   \n",
       "19                  30720             108               866.0      83.0   \n",
       "20                  30720             115               844.0      94.0   \n",
       "21                  30720             108               822.0      75.0   \n",
       "22                  30720               9                37.0      95.0   \n",
       "23                  30720              31               177.0     134.0   \n",
       "24                  30720              22               137.0     181.0   \n",
       "25                  30720              19               138.0     151.0   \n",
       "26                  30720              26               125.0     146.0   \n",
       "27                  30720              29               153.0     165.0   \n",
       "28                  30720              19               121.0     158.0   \n",
       "29                  30720              21               136.0     162.0   \n",
       "\n",
       "     mb_used  gb_used  calls_profit  messages_profit  gb_profit  profit  \n",
       "0    2253.49      3.0           0.0              0.0          0  1950.0  \n",
       "1   23233.77     23.0           0.0              0.0          0  1950.0  \n",
       "2   14003.64     14.0           0.0              0.0          0  1950.0  \n",
       "3   14055.93     14.0           0.0              0.0          0  1950.0  \n",
       "4   14568.91     15.0           0.0              0.0          0  1950.0  \n",
       "5   14702.49     15.0           0.0              0.0          0  1950.0  \n",
       "6   14756.47     15.0           0.0              0.0          0  1950.0  \n",
       "7    9817.61     10.0           0.0              0.0          0  1950.0  \n",
       "8   18429.34     18.0           0.0              0.0        600  1150.0  \n",
       "9   14036.66     14.0           0.0              0.0          0   550.0  \n",
       "10  10856.82     11.0           0.0              0.0          0   550.0  \n",
       "11  17580.10     18.0           0.0              0.0        600  1150.0  \n",
       "12  20319.26     20.0           0.0              0.0       1000  1550.0  \n",
       "13  16691.08     17.0           0.0              0.0        400   950.0  \n",
       "14  13888.25     14.0           0.0              0.0          0   550.0  \n",
       "15  18587.28     19.0           0.0              0.0        800  1350.0  \n",
       "16  18113.73     18.0           0.0              0.0        600  1150.0  \n",
       "17   8565.21      9.0           0.0              0.0          0  1950.0  \n",
       "18  12468.87     13.0           0.0              0.0          0  1950.0  \n",
       "19  14768.14     15.0           0.0              0.0          0  1950.0  \n",
       "20  11356.89     12.0           0.0              0.0          0  1950.0  \n",
       "21  10121.53     10.0           0.0              0.0          0  1950.0  \n",
       "22  13403.98     14.0           0.0              0.0          0  1950.0  \n",
       "23  17600.02     18.0           0.0              0.0          0  1950.0  \n",
       "24  22229.58     22.0           0.0              0.0          0  1950.0  \n",
       "25  28584.37     28.0           0.0              0.0          0  1950.0  \n",
       "26  15109.03     15.0           0.0              0.0          0  1950.0  \n",
       "27  18475.44     19.0           0.0              0.0          0  1950.0  \n",
       "28  15616.02     16.0           0.0              0.0          0  1950.0  \n",
       "29  18021.04     18.0           0.0              0.0          0  1950.0  \n",
       "\n",
       "[30 rows x 21 columns]"
      ]
     },
     "metadata": {},
     "output_type": "display_data"
    }
   ],
   "source": [
    "table_messages_calls_internet_month['profit'] = table_messages_calls_internet_month['rub_monthly_fee'] + table_messages_calls_internet_month['calls_profit'] + table_messages_calls_internet_month['messages_profit'] + table_messages_calls_internet_month['gb_profit']\n",
    "display (table_messages_calls_internet_month.head(30))"
   ]
  },
  {
   "cell_type": "markdown",
   "metadata": {},
   "source": [
    "<div class=\"alert alert-warning\">\n",
    "<b>Комментарий ревьюера \"пожелания\":</b> Кстати, display тут не нужен, jupyter hub выведет таблицу и без него</div>"
   ]
  },
  {
   "cell_type": "markdown",
   "metadata": {},
   "source": [
    "<div class=\"alert alert-danger\">\n",
    "<b>Комментарий ревьюера \"ошибка\":</b> Помесячная выручка получилась немного заниженной, так как не проведено округление каждого звонка до целой минуты и помесячного трафика до целых Гб. Потерянные 6 человек тоже минусуют выручку. \n",
    "    \n",
    "Поправь, пожалуйста, расчеты. Для проверки дам контрольную сумму всей выручки - 4914451."
   ]
  },
  {
   "cell_type": "markdown",
   "metadata": {},
   "source": [
    "<div class=\"alert alert-info\">\n",
    "<font color='black'> <b> Получим сводную таблицу по тарифам. Видно, что тариф \"смарт\" приносит больше прибыли </font> <b>"
   ]
  },
  {
   "cell_type": "code",
   "execution_count": 20,
   "metadata": {},
   "outputs": [
    {
     "data": {
      "text/html": [
       "<div>\n",
       "<style scoped>\n",
       "    .dataframe tbody tr th:only-of-type {\n",
       "        vertical-align: middle;\n",
       "    }\n",
       "\n",
       "    .dataframe tbody tr th {\n",
       "        vertical-align: top;\n",
       "    }\n",
       "\n",
       "    .dataframe thead tr th {\n",
       "        text-align: left;\n",
       "    }\n",
       "\n",
       "    .dataframe thead tr:last-of-type th {\n",
       "        text-align: right;\n",
       "    }\n",
       "</style>\n",
       "<table border=\"1\" class=\"dataframe\">\n",
       "  <thead>\n",
       "    <tr>\n",
       "      <th></th>\n",
       "      <th colspan=\"4\" halign=\"left\">sum</th>\n",
       "    </tr>\n",
       "    <tr>\n",
       "      <th></th>\n",
       "      <th>calls_profit</th>\n",
       "      <th>gb_profit</th>\n",
       "      <th>messages_profit</th>\n",
       "      <th>profit</th>\n",
       "    </tr>\n",
       "    <tr>\n",
       "      <th>tariff_name</th>\n",
       "      <th></th>\n",
       "      <th></th>\n",
       "      <th></th>\n",
       "      <th></th>\n",
       "    </tr>\n",
       "  </thead>\n",
       "  <tbody>\n",
       "    <tr>\n",
       "      <th>smart</th>\n",
       "      <td>316056.0</td>\n",
       "      <td>1330000</td>\n",
       "      <td>38784.0</td>\n",
       "      <td>2907490.0</td>\n",
       "    </tr>\n",
       "    <tr>\n",
       "      <th>ultra</th>\n",
       "      <td>0.0</td>\n",
       "      <td>115050</td>\n",
       "      <td>0.0</td>\n",
       "      <td>1969500.0</td>\n",
       "    </tr>\n",
       "  </tbody>\n",
       "</table>\n",
       "</div>"
      ],
      "text/plain": [
       "                     sum                                     \n",
       "            calls_profit gb_profit messages_profit     profit\n",
       "tariff_name                                                  \n",
       "smart           316056.0   1330000         38784.0  2907490.0\n",
       "ultra                0.0    115050             0.0  1969500.0"
      ]
     },
     "metadata": {},
     "output_type": "display_data"
    }
   ],
   "source": [
    "total_profit = table_messages_calls_internet_month.pivot_table(index = ['tariff_name'], values = ['calls_profit', 'messages_profit', 'gb_profit', 'profit'], aggfunc=['sum'])\n",
    "display (total_profit)"
   ]
  },
  {
   "cell_type": "markdown",
   "metadata": {},
   "source": [
    "<div class=\"alert alert-success\">\n",
    "<b>Комментарий ревьюера \"хорошее решение\":</b> Вывод логичный и обоснованный!</div>"
   ]
  },
  {
   "cell_type": "markdown",
   "metadata": {},
   "source": [
    "<div class=\"alert alert-warning\">\n",
    "<b>Комментарий ревьюера \"пожелания\":</b> В проекте очень нестандартный подход к расчету помесячной выручки. В целом он корректный и позволил прийти к верным выводам, хотя в процессе потерялось несколько клиентов и часть выручки.\n",
    "\n",
    "Можно исправить расчеты в рамках уже написанного кода, а можно переделать формирование таблицы полностью. Рекомендуемый алгоритм такой:\n",
    "\n",
    "- сначала сделать сводные таблицы отдельно по звонкам, сообщениям и интернет-сессиям в размере пользователей и месяцев (index=['user_id', 'month']);\n",
    "- затем объединить их по совпадающим значениям пользователей и месяцев (how='outer') и добавить названия тарифов; заполнить пропуски;\n",
    "- написать функцию, которая построчно рассчитает выручку в зависимости от тарифа;</div>"
   ]
  },
  {
   "cell_type": "markdown",
   "metadata": {},
   "source": [
    "## Анализ"
   ]
  },
  {
   "cell_type": "markdown",
   "metadata": {},
   "source": [
    "<div class=\"alert alert-info\">\n",
    "<font color='black'> <b> Сохраним в новых переменных отдельно пользователей разных тарифов </font> <b>"
   ]
  },
  {
   "cell_type": "code",
   "execution_count": 21,
   "metadata": {},
   "outputs": [],
   "source": [
    "smart_tariff=table_messages_calls_internet_month.query('tariff_name==\"smart\"')\n",
    "ultra_tariff=table_messages_calls_internet_month.query('tariff_name==\"ultra\"')"
   ]
  },
  {
   "cell_type": "markdown",
   "metadata": {},
   "source": [
    "<div class=\"alert alert-info\">\n",
    "<font color='black'> <b> Построим гистограммы для звонков, количества сообщений и потраченного интернета для пользователей разных тарифов </font> <b>"
   ]
  },
  {
   "cell_type": "markdown",
   "metadata": {},
   "source": [
    "<div class=\"alert alert-info\">\n",
    "<font color='black'> <b> Тариф \"Смарт\" и Тариф \"Ультра\" звонки.\n",
    "    \n",
    "    Сравним исходные данные по тарифам и полученные значения по гистограммам :   \n",
    "    Вывод по тарифу \"Смарт\"\n",
    "    **Исходные данные: Включено 500 минут разговора **\n",
    "    Наибольшее количество пользователей тратит по 400 минут - близко к значению тарифной сетки\n",
    "    Вывод по тарифу \"Ультра\": \n",
    "    **Исходные данные: Включено 3000 минут разговора**\n",
    "    Наибольшее количество пользователей тратит по 500-700 минут - даже близко не доходит к значению тарифной сетки \n",
    "   "
   ]
  },
  {
   "cell_type": "code",
   "execution_count": 22,
   "metadata": {},
   "outputs": [
    {
     "data": {
      "text/plain": [
       "Text(0.5, 1.0, 'Длительность звонка')"
      ]
     },
     "execution_count": 22,
     "metadata": {},
     "output_type": "execute_result"
    },
    {
     "data": {
      "image/png": "[encoded data removed]",
      "text/plain": [
       "<Figure size 432x288 with 1 Axes>"
      ]
     },
     "metadata": {
      "needs_background": "light"
     },
     "output_type": "display_data"
    }
   ],
   "source": [
    "smart_tariff_d=smart_tariff['duration_count_sum']\n",
    "ultra_tariff_d=ultra_tariff['duration_count_sum']\n",
    "plt.hist([smart_tariff_d, ultra_tariff_d], label = ['smart_tariff', 'ultra_tariff'])\n",
    "plt.legend()\n",
    "plt.title('Длительность звонка')\n"
   ]
  },
  {
   "cell_type": "markdown",
   "metadata": {},
   "source": [
    "<div class=\"alert alert-info\">\n",
    "<font color='black'> <b> Тариф \"Смарт\" и Тариф \"Ультра\" сообщения \n",
    "    \n",
    "    Сравним исходные данные по тарифам и полученные значения по гистограммам :   \n",
    "    Вывод по тарифу \"Смарт\"\n",
    "    **Исходные данные: Включено 50 сообщений **\n",
    "    Наибольшее количество пользователей почти не отправляет сообщения, но есть и много тех, кто превышает лимит тарифной сетки\n",
    "    Вывод по тарифу \"Ультра\": \n",
    "    **Исходные данные: Включено 1000 сообщений**\n",
    "    Наибольшее количество пользователей почти не отправляет сообщения, очень мало тех, кто доходит к значению тарифной сетки. График стремится к 0 уже при значениях в 200 сообщений "
   ]
  },
  {
   "cell_type": "code",
   "execution_count": 23,
   "metadata": {},
   "outputs": [
    {
     "data": {
      "text/plain": [
       "Text(0.5, 1.0, 'Количество отправленных сообщений')"
      ]
     },
     "execution_count": 23,
     "metadata": {},
     "output_type": "execute_result"
    },
    {
     "data": {
      "image/png": "[encoded data removed]",
      "text/plain": [
       "<Figure size 432x288 with 1 Axes>"
      ]
     },
     "metadata": {
      "needs_background": "light"
     },
     "output_type": "display_data"
    }
   ],
   "source": [
    "smart_tariff_m=smart_tariff['messages']\n",
    "ultra_tariff_m=ultra_tariff['messages']\n",
    "plt.hist([smart_tariff_m, ultra_tariff_m], label = ['smart_tariff', 'ultra_tariff'])\n",
    "plt.legend()\n",
    "plt.title('Количество отправленных сообщений')"
   ]
  },
  {
   "cell_type": "markdown",
   "metadata": {},
   "source": [
    "<div class=\"alert alert-info\">\n",
    "<font color='black'> <b> Тариф \"Смарт\" и Тариф \"Ультра\" интернет \n",
    "    \n",
    "     Сравним исходные данные по тарифам и полученные значения по гистограммам :   \n",
    "    Вывод по тарифу \"Смарт\"\n",
    "    **Исходные данные: 15 Гб интернет-трафика **\n",
    "    Наибольшее количество пользователей превышает тарифный лимит по затраченному интернету в 15 Гб\n",
    "    Вывод по тарифу \"Ультра\": \n",
    "    **Исходные данные: 30 Гб интернет-трафика**\n",
    "    Наибольшее количество пользователей не превышает тарифный лимит по затраченному интернету в 30 Гб (пик около 20 Гб), но сравнительно много и тех, кто превышает лимит по интернету"
   ]
  },
  {
   "cell_type": "code",
   "execution_count": 42,
   "metadata": {},
   "outputs": [
    {
     "data": {
      "text/plain": [
       "Text(0.5, 1.0, 'Потрачено гигабайт интернета')"
      ]
     },
     "execution_count": 42,
     "metadata": {},
     "output_type": "execute_result"
    },
    {
     "data": {
      "image/png": "[encoded data removed]",
      "text/plain": [
       "<Figure size 432x288 with 1 Axes>"
      ]
     },
     "metadata": {
      "needs_background": "light"
     },
     "output_type": "display_data"
    }
   ],
   "source": [
    "smart_tariff_i=smart_tariff['gb_used']\n",
    "ultra_tariff_i=ultra_tariff['gb_used']\n",
    "plt.hist([smart_tariff_i, ultra_tariff_i], label = ['smart_tariff', 'ultra_tariff'])\n",
    "plt.legend()\n",
    "plt.title('Потрачено гигабайт интернета')"
   ]
  },
  {
   "cell_type": "markdown",
   "metadata": {},
   "source": [
    "<div class=\"alert alert-success\">\n",
    "<b>Комментарий ревьюера \"хорошее решение\":</b> Очень хорошая практика писать промежуточные выводы</div>"
   ]
  },
  {
   "cell_type": "markdown",
   "metadata": {},
   "source": [
    "<div class=\"alert alert-danger\">\n",
    "<b>Комментарий ревьюера \"ошибка\":</b> Все графики обязательно нужно сопроводить заголовками! <div class=\"alert alert-info\"> <b>Комментарий студента:</b> Сделал   </div>"
   ]
  },
  {
   "cell_type": "markdown",
   "metadata": {},
   "source": [
    "<div class=\"alert alert-success\">\n",
    "<b>2 Комментарий ревьюера ✔️:</b> Здорово! Кстати, если после plt.title() ставить знак точку с запятой, то техническая строка перед графиком скроется и он будет выглядеть ещё лучше :)"
   ]
  },
  {
   "cell_type": "markdown",
   "metadata": {},
   "source": [
    "<div class=\"alert alert-warning\">\n",
    "<b>Комментарий ревьюера \"пожелания\":</b> Рекомендую сделать попарные гистограммы на одних осях, то есть построить совместные гистограммы для звонков на двух тарифах, для сообщений на двух тарифах и т.д. Такие гистограммы позволяют наглядно увидеть различия двух распределений.\n",
    "\n",
    "Пример таких гистограмм есть в тренажере.<div class=\"alert alert-info\"> <b>Комментарий студента:</b> Всё переделал   </div>\n"
   ]
  },
  {
   "cell_type": "markdown",
   "metadata": {},
   "source": [
    "<div class=\"alert alert-success\">\n",
    "<b>2 Комментарий ревьюера ✔️:</b> Александр, круто, гистограммы получились очень наглядными."
   ]
  },
  {
   "cell_type": "markdown",
   "metadata": {},
   "source": [
    " <div class=\"alert alert-info\">\n",
    "<font color='black'> <b> Выведем средние значения для тарифов, дисперсию и стандартное отклонение </font> <b>"
   ]
  },
  {
   "cell_type": "code",
   "execution_count": 25,
   "metadata": {},
   "outputs": [
    {
     "data": {
      "text/html": [
       "<div>\n",
       "<style scoped>\n",
       "    .dataframe tbody tr th:only-of-type {\n",
       "        vertical-align: middle;\n",
       "    }\n",
       "\n",
       "    .dataframe tbody tr th {\n",
       "        vertical-align: top;\n",
       "    }\n",
       "\n",
       "    .dataframe thead tr th {\n",
       "        text-align: left;\n",
       "    }\n",
       "\n",
       "    .dataframe thead tr:last-of-type th {\n",
       "        text-align: right;\n",
       "    }\n",
       "</style>\n",
       "<table border=\"1\" class=\"dataframe\">\n",
       "  <thead>\n",
       "    <tr>\n",
       "      <th></th>\n",
       "      <th colspan=\"3\" halign=\"left\">mean</th>\n",
       "      <th colspan=\"3\" halign=\"left\">var</th>\n",
       "      <th colspan=\"3\" halign=\"left\">std</th>\n",
       "    </tr>\n",
       "    <tr>\n",
       "      <th></th>\n",
       "      <th>duration_count_sum</th>\n",
       "      <th>gb_used</th>\n",
       "      <th>messages</th>\n",
       "      <th>duration_count_sum</th>\n",
       "      <th>gb_used</th>\n",
       "      <th>messages</th>\n",
       "      <th>duration_count_sum</th>\n",
       "      <th>gb_used</th>\n",
       "      <th>messages</th>\n",
       "    </tr>\n",
       "    <tr>\n",
       "      <th>tariff_name</th>\n",
       "      <th></th>\n",
       "      <th></th>\n",
       "      <th></th>\n",
       "      <th></th>\n",
       "      <th></th>\n",
       "      <th></th>\n",
       "      <th></th>\n",
       "      <th></th>\n",
       "      <th></th>\n",
       "    </tr>\n",
       "  </thead>\n",
       "  <tbody>\n",
       "    <tr>\n",
       "      <th>smart</th>\n",
       "      <td>430.609987</td>\n",
       "      <td>16.329735</td>\n",
       "      <td>33.396311</td>\n",
       "      <td>37577.967083</td>\n",
       "      <td>33.092396</td>\n",
       "      <td>798.595792</td>\n",
       "      <td>193.850373</td>\n",
       "      <td>5.752599</td>\n",
       "      <td>28.259437</td>\n",
       "    </tr>\n",
       "    <tr>\n",
       "      <th>ultra</th>\n",
       "      <td>560.113565</td>\n",
       "      <td>19.487907</td>\n",
       "      <td>49.033649</td>\n",
       "      <td>99062.633405</td>\n",
       "      <td>97.820643</td>\n",
       "      <td>2198.733603</td>\n",
       "      <td>314.742170</td>\n",
       "      <td>9.890432</td>\n",
       "      <td>46.890656</td>\n",
       "    </tr>\n",
       "  </tbody>\n",
       "</table>\n",
       "</div>"
      ],
      "text/plain": [
       "                          mean                                      var  \\\n",
       "            duration_count_sum    gb_used   messages duration_count_sum   \n",
       "tariff_name                                                               \n",
       "smart               430.609987  16.329735  33.396311       37577.967083   \n",
       "ultra               560.113565  19.487907  49.033649       99062.633405   \n",
       "\n",
       "                                                   std                       \n",
       "               gb_used     messages duration_count_sum   gb_used   messages  \n",
       "tariff_name                                                                  \n",
       "smart        33.092396   798.595792         193.850373  5.752599  28.259437  \n",
       "ultra        97.820643  2198.733603         314.742170  9.890432  46.890656  "
      ]
     },
     "metadata": {},
     "output_type": "display_data"
    }
   ],
   "source": [
    "variance = table_messages_calls_internet_month.pivot_table(index = ['tariff_name'], values = ['duration_count_sum', 'messages', 'gb_used'], aggfunc=['mean', 'var', 'std'])\n",
    "display(variance)\n"
   ]
  },
  {
   "cell_type": "markdown",
   "metadata": {},
   "source": [
    " <div class=\"alert alert-info\">\n",
    "<font color='black'> <b> Из расчета видно, что по тарифу \"Smart\" пользователи частенько превышают лимиты по всем категориям связи, пользователи \"Ultra\" - наооборот, разве что по количеству мегабайт возможно редкое превышение лимита </font> <b>"
   ]
  },
  {
   "cell_type": "markdown",
   "metadata": {},
   "source": [
    "<div class=\"alert alert-success\">\n",
    "<b>Комментарий ревьюера \"хорошее решение\":</b> Совершенно верный расчет и вывод.</div>\n"
   ]
  },
  {
   "cell_type": "markdown",
   "metadata": {},
   "source": [
    "## Гипотезы"
   ]
  },
  {
   "cell_type": "markdown",
   "metadata": {},
   "source": [
    "<div class=\"alert alert-info\">\n",
    "<font color='black'> <b> Проверим, отличается ли средняя выручка пользователей тарифов \"Смарт\" и \"Ультра\"</font> <b>"
   ]
  },
  {
   "cell_type": "markdown",
   "metadata": {},
   "source": [
    " <div class=\"alert alert-info\">\n",
    "<font color='black'> <b> Сформулируем гипотезы: 1. Ho - средняя выручка пользователей тарифов «Ультра» и «Смарт» равны  2. H1 -   средняя выручка пользователей тарифов «Ультра» и «Смарт» различаются</font> <b>"
   ]
  },
  {
   "cell_type": "markdown",
   "metadata": {},
   "source": [
    "<div class=\"alert alert-danger\">\n",
    "<b>Комментарий ревьюера \"ошибка\":</b> В общем виде формулировки верны, но нужно в данном случае сделать конкретные формулировки. Пример:\n",
    "<div class=\"alert alert-info\"> <b>Комментарий студента:</b> Сделал   </div>\n",
    "    \n",
    "    Н0 - Средняя выручка пользователей тарифов «Ультра» и «Смарт» равны, т.е. средние значения равны.\n",
    "\n",
    "    Н1 - Средняя выручка пользователей тарифов «Ультра» и «Смарт» не равны, т.е. средние значения не равны. \n",
    "    \n",
    "    "
   ]
  },
  {
   "cell_type": "markdown",
   "metadata": {},
   "source": [
    "<div class=\"alert alert-success\">\n",
    "<b>2 Комментарий ревьюера:</b>  👍 👏 </div>"
   ]
  },
  {
   "cell_type": "code",
   "execution_count": 26,
   "metadata": {},
   "outputs": [
    {
     "data": {
      "text/plain": [
       "1307.9127305443094"
      ]
     },
     "metadata": {},
     "output_type": "display_data"
    },
    {
     "data": {
      "text/plain": [
       "2070.9779179810726"
      ]
     },
     "metadata": {},
     "output_type": "display_data"
    },
    {
     "data": {
      "text/plain": [
       "'p-значение:'"
      ]
     },
     "metadata": {},
     "output_type": "display_data"
    },
    {
     "data": {
      "text/plain": [
       "9.508492042148251e-147"
      ]
     },
     "metadata": {},
     "output_type": "display_data"
    },
    {
     "data": {
      "text/plain": [
       "'Отвергаем нулевую гипотезу'"
      ]
     },
     "metadata": {},
     "output_type": "display_data"
    }
   ],
   "source": [
    "smart = smart_tariff['profit']\n",
    "ultra = ultra_tariff['profit']\n",
    "\n",
    "display(smart.mean())\n",
    "display(ultra.mean())\n",
    "\n",
    "alpha = .05\n",
    "\n",
    "results = st.ttest_ind(\n",
    "    smart, \n",
    "    ultra)\n",
    "\n",
    "display('p-значение:', results.pvalue)\n",
    "\n",
    "if (results.pvalue < alpha):\n",
    "    display(\"Отвергаем нулевую гипотезу\")\n",
    "else:\n",
    "    display(\"Не получилось отвергнуть нулевую гипотезу\")"
   ]
  },
  {
   "cell_type": "markdown",
   "metadata": {},
   "source": [
    " <div class=\"alert alert-info\">\n",
    "<font color='black'> <b> Вывод: Средняя выручка по двум тарифам сильно различается. Судя по средней выручке, тариф \"Ultra\" приносит больше прибыли</font> <b>"
   ]
  },
  {
   "cell_type": "markdown",
   "metadata": {},
   "source": [
    "<div class=\"alert alert-success\">\n",
    "<b>Комментарий ревьюера \"хорошее решение\":</b> Верно!</div>"
   ]
  },
  {
   "cell_type": "markdown",
   "metadata": {},
   "source": [
    "<div class=\"alert alert-info\">\n",
    "<font color='black'> <b> Проверим, отличается ли выручка по Москве и по другим городам</font> <b>"
   ]
  },
  {
   "cell_type": "markdown",
   "metadata": {},
   "source": [
    " <div class=\"alert alert-info\">\n",
    "<font color='black'> <b> Сформулируем гипотезы: 1. Ho - средняя выручка пользователей Москвы и других регионов равны  2. H1 -   средняя выручка пользователей Москвы и других регионов различаются</font> <b>"
   ]
  },
  {
   "cell_type": "markdown",
   "metadata": {},
   "source": [
    "<div class=\"alert alert-danger\">\n",
    "<b>Комментарий ревьюера \"ошибка\":</b> Добавь, пожалуйста, полные формулировки гипотез. \n",
    "    <div class=\"alert alert-info\"> <b>Комментарий студента:</b> Сделал   </div>"
   ]
  },
  {
   "cell_type": "markdown",
   "metadata": {},
   "source": [
    "<div class=\"alert alert-success\">\n",
    "<b>2 Комментарий ревьюера:</b>  👍 👏"
   ]
  },
  {
   "cell_type": "code",
   "execution_count": 27,
   "metadata": {},
   "outputs": [
    {
     "data": {
      "text/plain": [
       "1555.8295081967212"
      ]
     },
     "metadata": {},
     "output_type": "display_data"
    },
    {
     "data": {
      "text/plain": [
       "1531.955538221529"
      ]
     },
     "metadata": {},
     "output_type": "display_data"
    },
    {
     "data": {
      "text/plain": [
       "'p-значение:'"
      ]
     },
     "metadata": {},
     "output_type": "display_data"
    },
    {
     "data": {
      "text/plain": [
       "0.5096565401264077"
      ]
     },
     "metadata": {},
     "output_type": "display_data"
    },
    {
     "data": {
      "text/plain": [
       "'Не получилось отвергнуть нулевую гипотезу'"
      ]
     },
     "metadata": {},
     "output_type": "display_data"
    }
   ],
   "source": [
    "moscow_tariff = table_messages_calls_internet_month.query('city == \"Москва\"')\n",
    "other_tariff = table_messages_calls_internet_month.query('city != \"Москва\"')\n",
    "\n",
    "moscow_profit = moscow_tariff['profit']\n",
    "other_profit = other_tariff['profit']\n",
    "\n",
    "display(moscow_profit.mean())\n",
    "display(other_profit.mean())\n",
    "\n",
    "alpha = .05\n",
    "\n",
    "results = st.ttest_ind(\n",
    "    moscow_profit, \n",
    "    other_profit)\n",
    "\n",
    "display('p-значение:', results.pvalue)\n",
    "\n",
    "if (results.pvalue < alpha):\n",
    "    display(\"Отвергаем нулевую гипотезу\")\n",
    "else:\n",
    "    display(\"Не получилось отвергнуть нулевую гипотезу\")"
   ]
  },
  {
   "cell_type": "markdown",
   "metadata": {},
   "source": [
    " <div class=\"alert alert-info\">\n",
    "<font color='black'> <b> Вывод: выручка по Москве и остальным городам сильно не отличается</font> <b>"
   ]
  },
  {
   "cell_type": "markdown",
   "metadata": {},
   "source": [
    "<div class=\"alert alert-success\">\n",
    "<b>Комментарий ревьюера \"хорошее решение\":</b> да, всё так!</div>"
   ]
  },
  {
   "cell_type": "markdown",
   "metadata": {},
   "source": [
    " <div class=\"alert alert-info\">\n",
    "<font color='black'> <b> ОБЩИЙ ВЫВОД:  Тариф Smart приносит больше дохода,  чем тариф Ultra. По тарифу Smart пользователи часто превышают лимиты тарифной сетки по всем категориям связи, по тарифу Ultra такого не наблюдается. Несмотря на то, что больше прибыли приносит тариф Smart, среднняя выручка выше у Ultra. Разница в средней выручки из Москвы и других регионов сильно не отличается</font> <b>"
   ]
  },
  {
   "cell_type": "markdown",
   "metadata": {},
   "source": [
    "<div style=\"border:solid purple 2px; padding: 20px\"> \n",
    "Александр, у тебя оригинальная работа. В первом разделе ты использовал неоптимальный алгоритм расчета помесячной выручки, но видно, что ты хорошо понимаешь, что делаешь, и правильно интерпретируешь полученные разультаты. Ошибки в расчетах не сильно исказили результат и твои выводы логичны и обоснованы.\n",
    "    Тем не менее, есть ряд недочетов, которые нужно исправить, чтобы я могла принять твою работу:\n",
    "    \n",
    "    - Добавь, пожалуйста, небольшое введение и больше заголовков. Так будет намного удобнее и мне проверять твою работу, и тебе в ней ориентироваться (я сама добавила парочку);\n",
    "    - нужно сделать округление длительности каждого звонка до целых минут и помесячного трафика до целых Гб;\n",
    "    - желательно проверить,куда подевались несколько пользователей, а в идеале пересобрать общую таблицу по более оптимальному алгоритму (этот пункт на твое усмотрение, если время поджимает, я не буду настаивать);\n",
    "    - сопроводить все графики заголовками (обязательно) и сделать попарные гистограммы на одних осях (желательно);\n",
    "    - добавить формулировку гипотез.\n",
    "    \n",
    "    \n",
    " С нетерпением жду твой проект на повторную проверку!"
   ]
  },
  {
   "cell_type": "markdown",
   "metadata": {},
   "source": [
    "<div style=\"border:solid purple 2px; padding: 20px\"> \n",
    "    <b>Комментарий ревьюера v2:</b>\n",
    "Александр, спасибо за доработки! Твой крик души я услышала и не буду настаивать на том, чтобы ты снова погрузился в таблицы этого проекта для поиска потерянных смс и звонков :) Я вижу, что ты свободно владеешь инструментами python, верно интерпретируешь полученные данные и графики и пишешь ясные и обоснованные выводы, а это самое главное в работе аналитика.      \n",
    "\n",
    "Держись, впереди будет ещё много сложных проектов (особенно А/В тесты), это не повод отчаиваться! Первая часть курса пройдена, удачи со сборным проектом!"
   ]
  },
  {
   "cell_type": "code",
   "execution_count": null,
   "metadata": {},
   "outputs": [],
   "source": []
  }
 ],
 "metadata": {
  "ExecuteTimeLog": [
   {
    "duration": 124,
    "start_time": "2022-03-25T15:53:01.694Z"
   },
   {
    "duration": 519,
    "start_time": "2022-03-25T15:53:17.299Z"
   },
   {
    "duration": 764,
    "start_time": "2022-03-25T15:53:35.547Z"
   },
   {
    "duration": 581,
    "start_time": "2022-03-25T16:27:57.801Z"
   },
   {
    "duration": 710,
    "start_time": "2022-03-25T16:28:50.280Z"
   },
   {
    "duration": 932,
    "start_time": "2022-03-25T16:29:44.562Z"
   },
   {
    "duration": 796,
    "start_time": "2022-03-25T16:35:37.328Z"
   },
   {
    "duration": 65,
    "start_time": "2022-03-25T17:04:23.091Z"
   },
   {
    "duration": 50,
    "start_time": "2022-03-25T17:04:51.288Z"
   },
   {
    "duration": 132,
    "start_time": "2022-03-25T17:05:24.087Z"
   },
   {
    "duration": 168,
    "start_time": "2022-03-25T17:10:42.395Z"
   },
   {
    "duration": 198,
    "start_time": "2022-03-25T17:16:36.883Z"
   },
   {
    "duration": 225,
    "start_time": "2022-03-25T17:17:02.469Z"
   },
   {
    "duration": 155,
    "start_time": "2022-03-25T17:31:30.068Z"
   },
   {
    "duration": 201,
    "start_time": "2022-03-25T17:32:42.068Z"
   },
   {
    "duration": 378,
    "start_time": "2022-03-25T17:38:52.223Z"
   },
   {
    "duration": 202,
    "start_time": "2022-03-25T17:39:02.522Z"
   },
   {
    "duration": 243,
    "start_time": "2022-03-25T17:39:49.791Z"
   },
   {
    "duration": 287,
    "start_time": "2022-03-25T18:04:20.296Z"
   },
   {
    "duration": 293,
    "start_time": "2022-03-25T18:04:58.985Z"
   },
   {
    "duration": 273,
    "start_time": "2022-03-25T18:05:22.298Z"
   },
   {
    "duration": 191,
    "start_time": "2022-03-25T18:06:05.003Z"
   },
   {
    "duration": 16,
    "start_time": "2022-03-25T18:06:34.809Z"
   },
   {
    "duration": 255,
    "start_time": "2022-03-25T18:06:37.796Z"
   },
   {
    "duration": 115,
    "start_time": "2022-03-25T18:09:24.001Z"
   },
   {
    "duration": 14,
    "start_time": "2022-03-25T18:09:36.105Z"
   },
   {
    "duration": 16,
    "start_time": "2022-03-25T18:09:39.859Z"
   },
   {
    "duration": 52,
    "start_time": "2022-03-25T18:10:04.567Z"
   },
   {
    "duration": 28,
    "start_time": "2022-03-25T18:15:16.813Z"
   },
   {
    "duration": 12,
    "start_time": "2022-03-25T18:16:04.811Z"
   },
   {
    "duration": 26,
    "start_time": "2022-03-25T18:16:17.180Z"
   },
   {
    "duration": 255,
    "start_time": "2022-03-25T18:20:28.424Z"
   },
   {
    "duration": 260,
    "start_time": "2022-03-25T18:20:59.635Z"
   },
   {
    "duration": 343,
    "start_time": "2022-03-25T18:21:13.362Z"
   },
   {
    "duration": 26,
    "start_time": "2022-03-25T18:23:00.784Z"
   },
   {
    "duration": 189,
    "start_time": "2022-03-25T18:23:20.362Z"
   },
   {
    "duration": 204,
    "start_time": "2022-03-25T18:23:29.949Z"
   },
   {
    "duration": 134,
    "start_time": "2022-03-25T18:24:32.635Z"
   },
   {
    "duration": 189,
    "start_time": "2022-03-25T18:25:04.729Z"
   },
   {
    "duration": 24,
    "start_time": "2022-03-25T18:26:59.167Z"
   },
   {
    "duration": 298,
    "start_time": "2022-03-25T18:27:40.200Z"
   },
   {
    "duration": 32,
    "start_time": "2022-03-25T18:31:43.494Z"
   },
   {
    "duration": 251,
    "start_time": "2022-03-25T18:32:09.846Z"
   },
   {
    "duration": 334,
    "start_time": "2022-03-25T18:37:17.330Z"
   },
   {
    "duration": 321,
    "start_time": "2022-03-25T18:37:53.210Z"
   },
   {
    "duration": 264,
    "start_time": "2022-03-25T18:38:05.016Z"
   },
   {
    "duration": 2649,
    "start_time": "2022-03-25T18:38:18.414Z"
   },
   {
    "duration": 324,
    "start_time": "2022-03-25T18:38:23.593Z"
   },
   {
    "duration": 28,
    "start_time": "2022-03-25T18:38:26.789Z"
   },
   {
    "duration": 34,
    "start_time": "2022-03-25T18:38:29.153Z"
   },
   {
    "duration": 277,
    "start_time": "2022-03-25T18:38:32.214Z"
   },
   {
    "duration": 366,
    "start_time": "2022-03-25T18:38:46.089Z"
   },
   {
    "duration": 382,
    "start_time": "2022-03-25T18:38:58.907Z"
   },
   {
    "duration": 374,
    "start_time": "2022-03-25T18:39:06.585Z"
   },
   {
    "duration": 390,
    "start_time": "2022-03-25T18:39:36.073Z"
   },
   {
    "duration": 106,
    "start_time": "2022-03-25T18:45:51.864Z"
   },
   {
    "duration": 33,
    "start_time": "2022-03-25T18:47:46.028Z"
   },
   {
    "duration": 41,
    "start_time": "2022-03-25T18:48:02.854Z"
   },
   {
    "duration": 63,
    "start_time": "2022-03-25T18:48:53.560Z"
   },
   {
    "duration": 42,
    "start_time": "2022-03-25T18:50:26.559Z"
   },
   {
    "duration": 68,
    "start_time": "2022-03-25T18:56:23.214Z"
   },
   {
    "duration": 294,
    "start_time": "2022-03-25T19:02:04.834Z"
   },
   {
    "duration": 523,
    "start_time": "2022-03-25T19:02:29.394Z"
   },
   {
    "duration": 529,
    "start_time": "2022-03-25T19:03:25.816Z"
   },
   {
    "duration": 419,
    "start_time": "2022-03-25T19:04:12.177Z"
   },
   {
    "duration": 306,
    "start_time": "2022-03-25T19:07:22.305Z"
   },
   {
    "duration": 320,
    "start_time": "2022-03-25T19:07:36.105Z"
   },
   {
    "duration": 235,
    "start_time": "2022-03-25T19:08:20.270Z"
   },
   {
    "duration": 311,
    "start_time": "2022-03-25T19:08:28.998Z"
   },
   {
    "duration": 280,
    "start_time": "2022-03-25T19:08:44.543Z"
   },
   {
    "duration": 522,
    "start_time": "2022-03-25T19:08:59.574Z"
   },
   {
    "duration": 74,
    "start_time": "2022-03-25T19:15:27.831Z"
   },
   {
    "duration": 313,
    "start_time": "2022-03-25T19:19:15.702Z"
   },
   {
    "duration": 336,
    "start_time": "2022-03-25T19:24:47.336Z"
   },
   {
    "duration": 231,
    "start_time": "2022-03-25T19:28:29.476Z"
   },
   {
    "duration": 324,
    "start_time": "2022-03-25T19:29:13.949Z"
   },
   {
    "duration": 225,
    "start_time": "2022-03-25T19:31:19.181Z"
   },
   {
    "duration": 234,
    "start_time": "2022-03-25T19:31:33.372Z"
   },
   {
    "duration": 217,
    "start_time": "2022-03-25T19:31:46.431Z"
   },
   {
    "duration": 227,
    "start_time": "2022-03-25T19:31:51.886Z"
   },
   {
    "duration": 209,
    "start_time": "2022-03-25T19:34:09.786Z"
   },
   {
    "duration": 205,
    "start_time": "2022-03-25T19:34:35.522Z"
   },
   {
    "duration": 875,
    "start_time": "2022-03-25T19:35:05.038Z"
   },
   {
    "duration": 123,
    "start_time": "2022-03-25T19:36:18.425Z"
   },
   {
    "duration": 260,
    "start_time": "2022-03-25T19:36:27.011Z"
   },
   {
    "duration": 72,
    "start_time": "2022-03-26T10:30:16.260Z"
   },
   {
    "duration": 2402,
    "start_time": "2022-03-26T10:30:29.249Z"
   },
   {
    "duration": 244,
    "start_time": "2022-03-26T10:30:37.440Z"
   },
   {
    "duration": 18,
    "start_time": "2022-03-26T10:30:40.119Z"
   },
   {
    "duration": 25,
    "start_time": "2022-03-26T10:30:41.983Z"
   },
   {
    "duration": 328,
    "start_time": "2022-03-26T10:30:44.333Z"
   },
   {
    "duration": 321,
    "start_time": "2022-03-26T10:30:52.642Z"
   },
   {
    "duration": 144,
    "start_time": "2022-03-26T10:35:26.440Z"
   },
   {
    "duration": 156,
    "start_time": "2022-03-26T10:36:12.085Z"
   },
   {
    "duration": 69,
    "start_time": "2022-03-26T10:38:29.017Z"
   },
   {
    "duration": 152,
    "start_time": "2022-03-26T10:41:21.223Z"
   },
   {
    "duration": 47,
    "start_time": "2022-03-26T10:41:51.484Z"
   },
   {
    "duration": 1830,
    "start_time": "2022-03-26T10:44:39.089Z"
   },
   {
    "duration": 2062,
    "start_time": "2022-03-26T10:44:48.422Z"
   },
   {
    "duration": 1972,
    "start_time": "2022-03-26T10:44:52.963Z"
   },
   {
    "duration": 1858,
    "start_time": "2022-03-26T10:45:08.321Z"
   },
   {
    "duration": 264,
    "start_time": "2022-03-26T10:45:38.460Z"
   },
   {
    "duration": 12,
    "start_time": "2022-03-26T10:45:49.918Z"
   },
   {
    "duration": 21,
    "start_time": "2022-03-26T10:46:04.327Z"
   },
   {
    "duration": 2160,
    "start_time": "2022-03-26T10:46:16.263Z"
   },
   {
    "duration": 323,
    "start_time": "2022-03-26T10:46:21.253Z"
   },
   {
    "duration": 17,
    "start_time": "2022-03-26T10:46:24.955Z"
   },
   {
    "duration": 26,
    "start_time": "2022-03-26T10:46:31.737Z"
   },
   {
    "duration": 330,
    "start_time": "2022-03-26T10:46:35.275Z"
   },
   {
    "duration": 304,
    "start_time": "2022-03-26T10:46:38.627Z"
   },
   {
    "duration": 80,
    "start_time": "2022-03-26T10:46:42.606Z"
   },
   {
    "duration": 124,
    "start_time": "2022-03-26T10:46:49.489Z"
   },
   {
    "duration": 140,
    "start_time": "2022-03-26T10:52:05.900Z"
   },
   {
    "duration": 252,
    "start_time": "2022-03-26T10:52:24.187Z"
   },
   {
    "duration": 19,
    "start_time": "2022-03-26T10:52:33.672Z"
   },
   {
    "duration": 30,
    "start_time": "2022-03-26T10:52:49.673Z"
   },
   {
    "duration": 113,
    "start_time": "2022-03-26T10:53:40.201Z"
   },
   {
    "duration": 167,
    "start_time": "2022-03-26T10:54:11.270Z"
   },
   {
    "duration": 106,
    "start_time": "2022-03-26T10:54:18.084Z"
   },
   {
    "duration": 105,
    "start_time": "2022-03-26T10:54:24.380Z"
   },
   {
    "duration": 94,
    "start_time": "2022-03-26T10:59:52.029Z"
   },
   {
    "duration": 45,
    "start_time": "2022-03-26T11:11:09.685Z"
   },
   {
    "duration": 6,
    "start_time": "2022-03-26T11:11:18.023Z"
   },
   {
    "duration": 1723,
    "start_time": "2022-03-26T11:11:30.564Z"
   },
   {
    "duration": 3858,
    "start_time": "2022-03-26T11:11:35.554Z"
   },
   {
    "duration": 3650,
    "start_time": "2022-03-26T11:11:49.735Z"
   },
   {
    "duration": 0,
    "start_time": "2022-03-26T11:11:53.387Z"
   },
   {
    "duration": 11,
    "start_time": "2022-03-26T11:12:06.633Z"
   },
   {
    "duration": 515,
    "start_time": "2022-03-26T11:12:13.553Z"
   },
   {
    "duration": 1587,
    "start_time": "2022-03-26T11:12:19.843Z"
   },
   {
    "duration": 4113,
    "start_time": "2022-03-26T11:12:25.622Z"
   },
   {
    "duration": 3972,
    "start_time": "2022-03-26T11:12:36.174Z"
   },
   {
    "duration": 1591,
    "start_time": "2022-03-26T11:12:57.206Z"
   },
   {
    "duration": 3708,
    "start_time": "2022-03-26T11:13:03.475Z"
   },
   {
    "duration": 11,
    "start_time": "2022-03-26T11:13:13.186Z"
   },
   {
    "duration": 17,
    "start_time": "2022-03-26T11:13:16.163Z"
   },
   {
    "duration": 194,
    "start_time": "2022-03-26T11:14:15.727Z"
   },
   {
    "duration": 1705,
    "start_time": "2022-03-26T11:14:25.900Z"
   },
   {
    "duration": 242,
    "start_time": "2022-03-26T11:14:30.471Z"
   },
   {
    "duration": 10,
    "start_time": "2022-03-26T11:14:34.141Z"
   },
   {
    "duration": 15,
    "start_time": "2022-03-26T11:14:36.101Z"
   },
   {
    "duration": 222,
    "start_time": "2022-03-26T11:14:39.182Z"
   },
   {
    "duration": 191,
    "start_time": "2022-03-26T11:14:43.150Z"
   },
   {
    "duration": 70,
    "start_time": "2022-03-26T11:14:46.038Z"
   },
   {
    "duration": 80,
    "start_time": "2022-03-26T11:14:50.030Z"
   },
   {
    "duration": 54,
    "start_time": "2022-03-26T11:14:54.600Z"
   },
   {
    "duration": 229,
    "start_time": "2022-03-26T11:15:01.381Z"
   },
   {
    "duration": 87,
    "start_time": "2022-03-26T11:15:04.439Z"
   },
   {
    "duration": 12,
    "start_time": "2022-03-26T11:17:22.561Z"
   },
   {
    "duration": 41,
    "start_time": "2022-03-26T11:17:45.462Z"
   },
   {
    "duration": 58,
    "start_time": "2022-03-26T11:18:11.719Z"
   },
   {
    "duration": 87,
    "start_time": "2022-03-26T11:19:12.513Z"
   },
   {
    "duration": 85,
    "start_time": "2022-03-26T11:19:23.221Z"
   },
   {
    "duration": 136,
    "start_time": "2022-03-26T11:23:49.270Z"
   },
   {
    "duration": 57,
    "start_time": "2022-03-26T11:24:01.959Z"
   },
   {
    "duration": 60,
    "start_time": "2022-03-26T11:24:09.199Z"
   },
   {
    "duration": 62,
    "start_time": "2022-03-26T11:27:42.661Z"
   },
   {
    "duration": 61,
    "start_time": "2022-03-26T11:28:02.177Z"
   },
   {
    "duration": 52,
    "start_time": "2022-03-26T11:28:12.665Z"
   },
   {
    "duration": 52,
    "start_time": "2022-03-26T11:28:19.524Z"
   },
   {
    "duration": 65,
    "start_time": "2022-03-26T11:28:31.186Z"
   },
   {
    "duration": 36,
    "start_time": "2022-03-26T11:28:43.693Z"
   },
   {
    "duration": 1614,
    "start_time": "2022-03-26T11:28:53.343Z"
   },
   {
    "duration": 240,
    "start_time": "2022-03-26T11:28:58.143Z"
   },
   {
    "duration": 10,
    "start_time": "2022-03-26T11:29:02.275Z"
   },
   {
    "duration": 16,
    "start_time": "2022-03-26T11:29:04.525Z"
   },
   {
    "duration": 219,
    "start_time": "2022-03-26T11:29:06.936Z"
   },
   {
    "duration": 188,
    "start_time": "2022-03-26T11:29:10.364Z"
   },
   {
    "duration": 90,
    "start_time": "2022-03-26T11:29:18.175Z"
   },
   {
    "duration": 1525,
    "start_time": "2022-03-26T11:29:31.054Z"
   },
   {
    "duration": 232,
    "start_time": "2022-03-26T11:29:35.626Z"
   },
   {
    "duration": 11,
    "start_time": "2022-03-26T11:29:39.165Z"
   },
   {
    "duration": 14,
    "start_time": "2022-03-26T11:29:41.223Z"
   },
   {
    "duration": 205,
    "start_time": "2022-03-26T11:29:43.504Z"
   },
   {
    "duration": 189,
    "start_time": "2022-03-26T11:29:46.534Z"
   },
   {
    "duration": 45,
    "start_time": "2022-03-26T11:29:50.345Z"
   },
   {
    "duration": 76,
    "start_time": "2022-03-26T11:29:52.895Z"
   },
   {
    "duration": 36,
    "start_time": "2022-03-26T11:29:56.255Z"
   },
   {
    "duration": 162,
    "start_time": "2022-03-26T11:30:14.784Z"
   },
   {
    "duration": 85,
    "start_time": "2022-03-26T11:30:21.296Z"
   },
   {
    "duration": 36,
    "start_time": "2022-03-26T11:30:24.695Z"
   },
   {
    "duration": 62,
    "start_time": "2022-03-26T11:31:23.484Z"
   },
   {
    "duration": 61,
    "start_time": "2022-03-26T11:31:53.576Z"
   },
   {
    "duration": 52,
    "start_time": "2022-03-26T11:31:57.091Z"
   },
   {
    "duration": 160,
    "start_time": "2022-03-26T11:31:59.864Z"
   },
   {
    "duration": 55,
    "start_time": "2022-03-26T11:32:02.685Z"
   },
   {
    "duration": 58,
    "start_time": "2022-03-26T11:32:07.105Z"
   },
   {
    "duration": 54,
    "start_time": "2022-03-26T11:32:11.543Z"
   },
   {
    "duration": 60,
    "start_time": "2022-03-26T11:32:36.957Z"
   },
   {
    "duration": 66,
    "start_time": "2022-03-26T11:32:54.476Z"
   },
   {
    "duration": 7,
    "start_time": "2022-03-26T11:34:31.935Z"
   },
   {
    "duration": 28,
    "start_time": "2022-03-26T11:34:43.308Z"
   },
   {
    "duration": 6,
    "start_time": "2022-03-26T11:35:05.297Z"
   },
   {
    "duration": 198,
    "start_time": "2022-03-26T11:38:15.910Z"
   },
   {
    "duration": 3536,
    "start_time": "2022-03-26T11:38:32.324Z"
   },
   {
    "duration": 3206,
    "start_time": "2022-03-26T11:39:35.566Z"
   },
   {
    "duration": 8,
    "start_time": "2022-03-26T11:41:04.407Z"
   },
   {
    "duration": 3559,
    "start_time": "2022-03-26T11:41:07.199Z"
   },
   {
    "duration": 8,
    "start_time": "2022-03-26T11:41:35.498Z"
   },
   {
    "duration": 3201,
    "start_time": "2022-03-26T11:41:40.025Z"
   },
   {
    "duration": 3161,
    "start_time": "2022-03-26T11:42:02.064Z"
   },
   {
    "duration": 3500,
    "start_time": "2022-03-26T11:44:42.440Z"
   },
   {
    "duration": 4,
    "start_time": "2022-03-26T11:44:57.926Z"
   },
   {
    "duration": 7,
    "start_time": "2022-03-26T11:45:10.912Z"
   },
   {
    "duration": 52,
    "start_time": "2022-03-26T11:50:33.450Z"
   },
   {
    "duration": 3052,
    "start_time": "2022-03-26T11:53:36.937Z"
   },
   {
    "duration": 2971,
    "start_time": "2022-03-26T11:56:35.171Z"
   },
   {
    "duration": 2951,
    "start_time": "2022-03-26T11:58:48.446Z"
   },
   {
    "duration": 3066,
    "start_time": "2022-03-26T11:59:40.963Z"
   },
   {
    "duration": 3071,
    "start_time": "2022-03-26T12:00:45.633Z"
   },
   {
    "duration": 1631,
    "start_time": "2022-03-26T12:01:20.811Z"
   },
   {
    "duration": 342,
    "start_time": "2022-03-26T12:01:26.989Z"
   },
   {
    "duration": 14,
    "start_time": "2022-03-26T12:01:31.197Z"
   },
   {
    "duration": 19,
    "start_time": "2022-03-26T12:01:33.130Z"
   },
   {
    "duration": 202,
    "start_time": "2022-03-26T12:01:35.313Z"
   },
   {
    "duration": 188,
    "start_time": "2022-03-26T12:01:38.160Z"
   },
   {
    "duration": 63,
    "start_time": "2022-03-26T12:01:42.606Z"
   },
   {
    "duration": 74,
    "start_time": "2022-03-26T12:01:45.604Z"
   },
   {
    "duration": 54,
    "start_time": "2022-03-26T12:01:48.538Z"
   },
   {
    "duration": 162,
    "start_time": "2022-03-26T12:01:51.977Z"
   },
   {
    "duration": 129,
    "start_time": "2022-03-26T12:01:58.858Z"
   },
   {
    "duration": 83,
    "start_time": "2022-03-26T12:02:02.613Z"
   },
   {
    "duration": 7,
    "start_time": "2022-03-26T12:02:08.903Z"
   },
   {
    "duration": 7,
    "start_time": "2022-03-26T12:02:11.877Z"
   },
   {
    "duration": 3204,
    "start_time": "2022-03-26T12:02:18.999Z"
   },
   {
    "duration": 13,
    "start_time": "2022-03-26T12:03:10.387Z"
   },
   {
    "duration": 7,
    "start_time": "2022-03-26T12:04:55.739Z"
   },
   {
    "duration": 24,
    "start_time": "2022-03-26T12:05:47.088Z"
   },
   {
    "duration": 10,
    "start_time": "2022-03-26T12:06:52.545Z"
   },
   {
    "duration": 11,
    "start_time": "2022-03-26T12:07:12.003Z"
   },
   {
    "duration": 13,
    "start_time": "2022-03-26T12:07:22.575Z"
   },
   {
    "duration": 1460,
    "start_time": "2022-03-26T12:07:47.899Z"
   },
   {
    "duration": 240,
    "start_time": "2022-03-26T12:07:52.582Z"
   },
   {
    "duration": 10,
    "start_time": "2022-03-26T12:07:55.792Z"
   },
   {
    "duration": 16,
    "start_time": "2022-03-26T12:07:59.110Z"
   },
   {
    "duration": 215,
    "start_time": "2022-03-26T12:08:01.441Z"
   },
   {
    "duration": 184,
    "start_time": "2022-03-26T12:08:04.469Z"
   },
   {
    "duration": 47,
    "start_time": "2022-03-26T12:08:08.571Z"
   },
   {
    "duration": 75,
    "start_time": "2022-03-26T12:08:11.510Z"
   },
   {
    "duration": 53,
    "start_time": "2022-03-26T12:08:14.422Z"
   },
   {
    "duration": 158,
    "start_time": "2022-03-26T12:08:17.349Z"
   },
   {
    "duration": 82,
    "start_time": "2022-03-26T12:08:20.585Z"
   },
   {
    "duration": 8,
    "start_time": "2022-03-26T12:08:23.269Z"
   },
   {
    "duration": 135,
    "start_time": "2022-03-26T12:08:39.174Z"
   },
   {
    "duration": 51,
    "start_time": "2022-03-26T12:08:42.599Z"
   },
   {
    "duration": 6,
    "start_time": "2022-03-26T12:08:46.599Z"
   },
   {
    "duration": 7,
    "start_time": "2022-03-26T12:08:48.876Z"
   },
   {
    "duration": 11,
    "start_time": "2022-03-26T12:09:07.735Z"
   },
   {
    "duration": 7,
    "start_time": "2022-03-26T12:09:12.581Z"
   },
   {
    "duration": 31,
    "start_time": "2022-03-26T12:09:21.994Z"
   },
   {
    "duration": 198,
    "start_time": "2022-03-26T12:17:38.679Z"
   },
   {
    "duration": 196,
    "start_time": "2022-03-26T12:19:35.732Z"
   },
   {
    "duration": 11,
    "start_time": "2022-03-26T12:19:58.330Z"
   },
   {
    "duration": 3263,
    "start_time": "2022-03-26T12:22:19.658Z"
   },
   {
    "duration": 3116,
    "start_time": "2022-03-26T12:22:35.102Z"
   },
   {
    "duration": 4,
    "start_time": "2022-03-26T12:22:51.753Z"
   },
   {
    "duration": 25,
    "start_time": "2022-03-26T12:26:13.110Z"
   },
   {
    "duration": 42,
    "start_time": "2022-03-26T12:26:38.048Z"
   },
   {
    "duration": 26,
    "start_time": "2022-03-26T12:27:23.833Z"
   },
   {
    "duration": 25,
    "start_time": "2022-03-26T12:27:34.164Z"
   },
   {
    "duration": 12,
    "start_time": "2022-03-26T12:28:41.410Z"
   },
   {
    "duration": 2509,
    "start_time": "2022-03-26T12:28:52.387Z"
   },
   {
    "duration": 265,
    "start_time": "2022-03-26T12:28:57.570Z"
   },
   {
    "duration": 10,
    "start_time": "2022-03-26T12:29:00.752Z"
   },
   {
    "duration": 16,
    "start_time": "2022-03-26T12:29:02.559Z"
   },
   {
    "duration": 212,
    "start_time": "2022-03-26T12:29:05.840Z"
   },
   {
    "duration": 204,
    "start_time": "2022-03-26T12:29:08.770Z"
   },
   {
    "duration": 45,
    "start_time": "2022-03-26T12:29:13.119Z"
   },
   {
    "duration": 92,
    "start_time": "2022-03-26T12:29:15.641Z"
   },
   {
    "duration": 59,
    "start_time": "2022-03-26T12:29:18.391Z"
   },
   {
    "duration": 174,
    "start_time": "2022-03-26T12:29:21.181Z"
   },
   {
    "duration": 95,
    "start_time": "2022-03-26T12:29:26.131Z"
   },
   {
    "duration": 57,
    "start_time": "2022-03-26T12:29:29.150Z"
   },
   {
    "duration": 6,
    "start_time": "2022-03-26T12:29:33.494Z"
   },
   {
    "duration": 8,
    "start_time": "2022-03-26T12:29:36.281Z"
   },
   {
    "duration": 40,
    "start_time": "2022-03-26T12:29:46.389Z"
   },
   {
    "duration": 9,
    "start_time": "2022-03-26T12:30:05.830Z"
   },
   {
    "duration": 25,
    "start_time": "2022-03-26T12:30:07.631Z"
   },
   {
    "duration": 38,
    "start_time": "2022-03-26T12:30:23.109Z"
   },
   {
    "duration": 8,
    "start_time": "2022-03-26T12:30:57.120Z"
   },
   {
    "duration": 32,
    "start_time": "2022-03-26T12:30:59.831Z"
   },
   {
    "duration": 190,
    "start_time": "2022-03-26T12:32:11.520Z"
   },
   {
    "duration": 92,
    "start_time": "2022-03-26T12:32:27.181Z"
   },
   {
    "duration": 12,
    "start_time": "2022-03-26T12:32:59.272Z"
   },
   {
    "duration": 13,
    "start_time": "2022-03-26T12:33:08.870Z"
   },
   {
    "duration": 13,
    "start_time": "2022-03-26T12:33:12.866Z"
   },
   {
    "duration": 2,
    "start_time": "2022-03-26T12:33:38.294Z"
   },
   {
    "duration": 31,
    "start_time": "2022-03-26T12:33:44.098Z"
   },
   {
    "duration": 8,
    "start_time": "2022-03-26T12:35:31.970Z"
   },
   {
    "duration": 32,
    "start_time": "2022-03-26T12:35:36.098Z"
   },
   {
    "duration": 1892,
    "start_time": "2022-03-26T12:35:49.964Z"
   },
   {
    "duration": 267,
    "start_time": "2022-03-26T12:35:54.172Z"
   },
   {
    "duration": 10,
    "start_time": "2022-03-26T12:35:57.373Z"
   },
   {
    "duration": 15,
    "start_time": "2022-03-26T12:35:59.767Z"
   },
   {
    "duration": 214,
    "start_time": "2022-03-26T12:36:01.707Z"
   },
   {
    "duration": 185,
    "start_time": "2022-03-26T12:36:04.101Z"
   },
   {
    "duration": 45,
    "start_time": "2022-03-26T12:36:08.123Z"
   },
   {
    "duration": 73,
    "start_time": "2022-03-26T12:36:10.858Z"
   },
   {
    "duration": 54,
    "start_time": "2022-03-26T12:36:13.774Z"
   },
   {
    "duration": 156,
    "start_time": "2022-03-26T12:36:16.594Z"
   },
   {
    "duration": 85,
    "start_time": "2022-03-26T12:36:21.484Z"
   },
   {
    "duration": 53,
    "start_time": "2022-03-26T12:36:24.170Z"
   },
   {
    "duration": 5,
    "start_time": "2022-03-26T12:36:27.675Z"
   },
   {
    "duration": 7,
    "start_time": "2022-03-26T12:36:29.974Z"
   },
   {
    "duration": 41,
    "start_time": "2022-03-26T12:36:33.435Z"
   },
   {
    "duration": 6,
    "start_time": "2022-03-26T12:36:37.092Z"
   },
   {
    "duration": 35,
    "start_time": "2022-03-26T12:36:40.317Z"
   },
   {
    "duration": 26,
    "start_time": "2022-03-26T12:37:03.514Z"
   },
   {
    "duration": 7,
    "start_time": "2022-03-26T12:38:47.590Z"
   },
   {
    "duration": 28,
    "start_time": "2022-03-26T12:38:50.537Z"
   },
   {
    "duration": 6,
    "start_time": "2022-03-26T12:39:02.182Z"
   },
   {
    "duration": 27,
    "start_time": "2022-03-26T12:39:04.590Z"
   },
   {
    "duration": 27,
    "start_time": "2022-03-26T12:39:12.739Z"
   },
   {
    "duration": 6,
    "start_time": "2022-03-26T12:39:20.450Z"
   },
   {
    "duration": 27,
    "start_time": "2022-03-26T12:39:22.839Z"
   },
   {
    "duration": 657,
    "start_time": "2022-03-26T12:40:31.909Z"
   },
   {
    "duration": 1622,
    "start_time": "2022-03-26T12:42:31.694Z"
   },
   {
    "duration": 245,
    "start_time": "2022-03-26T12:42:35.581Z"
   },
   {
    "duration": 10,
    "start_time": "2022-03-26T12:42:38.185Z"
   },
   {
    "duration": 14,
    "start_time": "2022-03-26T12:42:40.054Z"
   },
   {
    "duration": 215,
    "start_time": "2022-03-26T12:42:42.847Z"
   },
   {
    "duration": 194,
    "start_time": "2022-03-26T12:42:47.256Z"
   },
   {
    "duration": 44,
    "start_time": "2022-03-26T12:42:52.455Z"
   },
   {
    "duration": 74,
    "start_time": "2022-03-26T12:42:56.182Z"
   },
   {
    "duration": 52,
    "start_time": "2022-03-26T12:42:58.815Z"
   },
   {
    "duration": 154,
    "start_time": "2022-03-26T12:43:01.816Z"
   },
   {
    "duration": 88,
    "start_time": "2022-03-26T12:43:05.635Z"
   },
   {
    "duration": 56,
    "start_time": "2022-03-26T12:43:08.337Z"
   },
   {
    "duration": 6,
    "start_time": "2022-03-26T12:43:11.295Z"
   },
   {
    "duration": 6,
    "start_time": "2022-03-26T12:43:13.743Z"
   },
   {
    "duration": 43,
    "start_time": "2022-03-26T12:43:16.104Z"
   },
   {
    "duration": 6,
    "start_time": "2022-03-26T12:43:20.374Z"
   },
   {
    "duration": 31,
    "start_time": "2022-03-26T12:43:22.609Z"
   },
   {
    "duration": 10,
    "start_time": "2022-03-26T12:46:12.947Z"
   },
   {
    "duration": 15,
    "start_time": "2022-03-26T12:46:38.360Z"
   },
   {
    "duration": 7,
    "start_time": "2022-03-26T12:49:36.220Z"
   },
   {
    "duration": 27,
    "start_time": "2022-03-26T12:49:38.654Z"
   },
   {
    "duration": 17,
    "start_time": "2022-03-26T12:49:41.540Z"
   },
   {
    "duration": 47,
    "start_time": "2022-03-27T07:52:32.144Z"
   },
   {
    "duration": 1861,
    "start_time": "2022-03-27T07:52:46.501Z"
   },
   {
    "duration": 255,
    "start_time": "2022-03-27T07:52:50.501Z"
   },
   {
    "duration": 11,
    "start_time": "2022-03-27T07:52:57.511Z"
   },
   {
    "duration": 11,
    "start_time": "2022-03-27T07:53:03.346Z"
   },
   {
    "duration": 1665,
    "start_time": "2022-03-27T07:53:13.298Z"
   },
   {
    "duration": 264,
    "start_time": "2022-03-27T07:53:16.902Z"
   },
   {
    "duration": 11,
    "start_time": "2022-03-27T07:53:19.459Z"
   },
   {
    "duration": 16,
    "start_time": "2022-03-27T07:53:21.285Z"
   },
   {
    "duration": 229,
    "start_time": "2022-03-27T07:53:22.909Z"
   },
   {
    "duration": 196,
    "start_time": "2022-03-27T07:53:25.842Z"
   },
   {
    "duration": 45,
    "start_time": "2022-03-27T07:53:29.301Z"
   },
   {
    "duration": 77,
    "start_time": "2022-03-27T07:53:31.603Z"
   },
   {
    "duration": 54,
    "start_time": "2022-03-27T07:53:34.082Z"
   },
   {
    "duration": 171,
    "start_time": "2022-03-27T07:53:36.836Z"
   },
   {
    "duration": 93,
    "start_time": "2022-03-27T07:53:41.605Z"
   },
   {
    "duration": 59,
    "start_time": "2022-03-27T07:53:43.721Z"
   },
   {
    "duration": 6,
    "start_time": "2022-03-27T07:53:46.737Z"
   },
   {
    "duration": 6,
    "start_time": "2022-03-27T07:53:48.666Z"
   },
   {
    "duration": 44,
    "start_time": "2022-03-27T07:53:50.446Z"
   },
   {
    "duration": 30,
    "start_time": "2022-03-27T07:53:54.577Z"
   },
   {
    "duration": 16,
    "start_time": "2022-03-27T07:53:57.016Z"
   },
   {
    "duration": 9,
    "start_time": "2022-03-27T07:53:59.018Z"
   },
   {
    "duration": 1683,
    "start_time": "2022-03-27T07:54:56.564Z"
   },
   {
    "duration": 259,
    "start_time": "2022-03-27T07:55:00.222Z"
   },
   {
    "duration": 11,
    "start_time": "2022-03-27T07:55:02.843Z"
   },
   {
    "duration": 16,
    "start_time": "2022-03-27T07:55:04.797Z"
   },
   {
    "duration": 224,
    "start_time": "2022-03-27T07:55:06.451Z"
   },
   {
    "duration": 213,
    "start_time": "2022-03-27T07:55:08.618Z"
   },
   {
    "duration": 51,
    "start_time": "2022-03-27T07:55:11.826Z"
   },
   {
    "duration": 84,
    "start_time": "2022-03-27T07:55:13.878Z"
   },
   {
    "duration": 60,
    "start_time": "2022-03-27T07:55:15.950Z"
   },
   {
    "duration": 173,
    "start_time": "2022-03-27T07:55:18.017Z"
   },
   {
    "duration": 96,
    "start_time": "2022-03-27T07:55:21.854Z"
   },
   {
    "duration": 58,
    "start_time": "2022-03-27T07:55:24.134Z"
   },
   {
    "duration": 7,
    "start_time": "2022-03-27T07:55:26.688Z"
   },
   {
    "duration": 8,
    "start_time": "2022-03-27T07:55:28.443Z"
   },
   {
    "duration": 53,
    "start_time": "2022-03-27T07:55:30.187Z"
   },
   {
    "duration": 7,
    "start_time": "2022-03-27T07:55:40.510Z"
   },
   {
    "duration": 33,
    "start_time": "2022-03-27T07:55:42.914Z"
   },
   {
    "duration": 19,
    "start_time": "2022-03-27T07:55:45.144Z"
   },
   {
    "duration": 8,
    "start_time": "2022-03-27T07:55:47.969Z"
   },
   {
    "duration": 806,
    "start_time": "2022-03-27T08:00:47.496Z"
   },
   {
    "duration": 159,
    "start_time": "2022-03-27T08:01:26.531Z"
   },
   {
    "duration": 147,
    "start_time": "2022-03-27T08:01:47.220Z"
   },
   {
    "duration": 170,
    "start_time": "2022-03-27T08:02:48.107Z"
   },
   {
    "duration": 200,
    "start_time": "2022-03-27T08:05:14.510Z"
   },
   {
    "duration": 187,
    "start_time": "2022-03-27T08:05:37.826Z"
   },
   {
    "duration": 508,
    "start_time": "2022-03-27T08:19:28.224Z"
   },
   {
    "duration": 593,
    "start_time": "2022-03-27T08:19:50.281Z"
   },
   {
    "duration": 191,
    "start_time": "2022-03-27T08:31:16.018Z"
   },
   {
    "duration": 21,
    "start_time": "2022-03-27T08:31:24.846Z"
   },
   {
    "duration": 28,
    "start_time": "2022-03-27T08:32:21.265Z"
   },
   {
    "duration": 7,
    "start_time": "2022-03-27T09:20:03.519Z"
   },
   {
    "duration": 6,
    "start_time": "2022-03-27T09:21:48.804Z"
   },
   {
    "duration": 9,
    "start_time": "2022-03-27T09:27:34.494Z"
   },
   {
    "duration": 8,
    "start_time": "2022-03-27T09:27:44.798Z"
   },
   {
    "duration": 516,
    "start_time": "2022-03-27T09:29:41.303Z"
   },
   {
    "duration": 6,
    "start_time": "2022-03-27T09:35:06.930Z"
   },
   {
    "duration": 27,
    "start_time": "2022-03-27T09:35:20.839Z"
   },
   {
    "duration": 51,
    "start_time": "2022-03-27T09:39:12.713Z"
   },
   {
    "duration": 59,
    "start_time": "2022-03-27T09:41:36.510Z"
   },
   {
    "duration": 15,
    "start_time": "2022-03-27T09:41:55.111Z"
   },
   {
    "duration": 1864,
    "start_time": "2022-03-27T09:51:02.219Z"
   },
   {
    "duration": 265,
    "start_time": "2022-03-27T09:51:06.412Z"
   },
   {
    "duration": 13,
    "start_time": "2022-03-27T09:51:09.945Z"
   },
   {
    "duration": 17,
    "start_time": "2022-03-27T09:51:14.202Z"
   },
   {
    "duration": 294,
    "start_time": "2022-03-27T09:51:16.218Z"
   },
   {
    "duration": 307,
    "start_time": "2022-03-27T09:51:18.902Z"
   },
   {
    "duration": 72,
    "start_time": "2022-03-27T09:51:22.786Z"
   },
   {
    "duration": 118,
    "start_time": "2022-03-27T09:51:25.346Z"
   },
   {
    "duration": 92,
    "start_time": "2022-03-27T09:51:28.159Z"
   },
   {
    "duration": 213,
    "start_time": "2022-03-27T09:51:30.483Z"
   },
   {
    "duration": 130,
    "start_time": "2022-03-27T09:51:34.171Z"
   },
   {
    "duration": 91,
    "start_time": "2022-03-27T09:51:36.740Z"
   },
   {
    "duration": 7,
    "start_time": "2022-03-27T09:51:39.688Z"
   },
   {
    "duration": 7,
    "start_time": "2022-03-27T09:51:41.538Z"
   },
   {
    "duration": 68,
    "start_time": "2022-03-27T09:51:43.245Z"
   },
   {
    "duration": 9,
    "start_time": "2022-03-27T09:51:46.629Z"
   },
   {
    "duration": 49,
    "start_time": "2022-03-27T09:51:49.378Z"
   },
   {
    "duration": 24,
    "start_time": "2022-03-27T09:51:54.531Z"
   },
   {
    "duration": 11,
    "start_time": "2022-03-27T09:51:56.476Z"
   },
   {
    "duration": 832,
    "start_time": "2022-03-27T09:51:58.390Z"
   },
   {
    "duration": 570,
    "start_time": "2022-03-27T09:52:15.025Z"
   },
   {
    "duration": 33,
    "start_time": "2022-03-27T09:52:19.245Z"
   },
   {
    "duration": 11,
    "start_time": "2022-03-27T09:52:25.309Z"
   },
   {
    "duration": 16,
    "start_time": "2022-03-27T09:52:29.153Z"
   },
   {
    "duration": 14,
    "start_time": "2022-03-27T10:00:15.452Z"
   },
   {
    "duration": 26,
    "start_time": "2022-03-27T10:00:18.341Z"
   },
   {
    "duration": 1331,
    "start_time": "2022-04-06T18:52:04.212Z"
   },
   {
    "duration": 262,
    "start_time": "2022-04-06T18:52:05.545Z"
   },
   {
    "duration": 11,
    "start_time": "2022-04-06T18:52:05.808Z"
   },
   {
    "duration": 26,
    "start_time": "2022-04-06T18:52:05.821Z"
   },
   {
    "duration": 245,
    "start_time": "2022-04-06T18:52:05.849Z"
   },
   {
    "duration": 218,
    "start_time": "2022-04-06T18:52:06.096Z"
   },
   {
    "duration": 56,
    "start_time": "2022-04-06T18:52:06.316Z"
   },
   {
    "duration": 87,
    "start_time": "2022-04-06T18:52:06.374Z"
   },
   {
    "duration": 56,
    "start_time": "2022-04-06T18:52:06.462Z"
   },
   {
    "duration": 193,
    "start_time": "2022-04-06T18:52:06.520Z"
   },
   {
    "duration": 95,
    "start_time": "2022-04-06T18:52:06.715Z"
   },
   {
    "duration": 65,
    "start_time": "2022-04-06T18:52:06.811Z"
   },
   {
    "duration": 5,
    "start_time": "2022-04-06T18:52:06.878Z"
   },
   {
    "duration": 10,
    "start_time": "2022-04-06T18:52:06.884Z"
   },
   {
    "duration": 64,
    "start_time": "2022-04-06T18:52:06.895Z"
   },
   {
    "duration": 7,
    "start_time": "2022-04-06T18:52:06.960Z"
   },
   {
    "duration": 29,
    "start_time": "2022-04-06T18:52:06.969Z"
   },
   {
    "duration": 35,
    "start_time": "2022-04-06T18:52:06.999Z"
   },
   {
    "duration": 9,
    "start_time": "2022-04-06T18:52:07.035Z"
   },
   {
    "duration": 995,
    "start_time": "2022-04-06T18:52:07.045Z"
   },
   {
    "duration": 534,
    "start_time": "2022-04-06T18:52:08.041Z"
   },
   {
    "duration": 30,
    "start_time": "2022-04-06T18:52:08.577Z"
   },
   {
    "duration": 29,
    "start_time": "2022-04-06T18:52:08.609Z"
   },
   {
    "duration": 16,
    "start_time": "2022-04-06T18:52:08.640Z"
   },
   {
    "duration": 111,
    "start_time": "2022-04-06T19:04:36.983Z"
   },
   {
    "duration": 726,
    "start_time": "2022-04-06T19:04:57.512Z"
   },
   {
    "duration": 116,
    "start_time": "2022-04-06T19:04:59.015Z"
   },
   {
    "duration": 18,
    "start_time": "2022-04-06T19:13:08.184Z"
   },
   {
    "duration": 12,
    "start_time": "2022-04-06T19:13:25.057Z"
   },
   {
    "duration": 6,
    "start_time": "2022-04-06T19:16:51.577Z"
   },
   {
    "duration": 7,
    "start_time": "2022-04-06T19:17:27.577Z"
   },
   {
    "duration": 1836,
    "start_time": "2022-04-06T19:17:55.212Z"
   },
   {
    "duration": 1719,
    "start_time": "2022-04-06T19:18:29.564Z"
   },
   {
    "duration": 17,
    "start_time": "2022-04-06T19:18:50.987Z"
   },
   {
    "duration": 486,
    "start_time": "2022-04-06T19:21:40.705Z"
   },
   {
    "duration": 263,
    "start_time": "2022-04-06T19:21:41.193Z"
   },
   {
    "duration": 12,
    "start_time": "2022-04-06T19:21:41.458Z"
   },
   {
    "duration": 16,
    "start_time": "2022-04-06T19:21:41.472Z"
   },
   {
    "duration": 227,
    "start_time": "2022-04-06T19:21:41.490Z"
   },
   {
    "duration": 185,
    "start_time": "2022-04-06T19:21:41.719Z"
   },
   {
    "duration": 53,
    "start_time": "2022-04-06T19:21:46.109Z"
   },
   {
    "duration": 6,
    "start_time": "2022-04-06T19:22:13.785Z"
   },
   {
    "duration": 86,
    "start_time": "2022-04-06T19:22:55.953Z"
   },
   {
    "duration": 16,
    "start_time": "2022-04-06T19:23:39.698Z"
   },
   {
    "duration": 57,
    "start_time": "2022-04-06T19:25:23.278Z"
   },
   {
    "duration": 443,
    "start_time": "2022-04-06T19:25:28.917Z"
   },
   {
    "duration": 254,
    "start_time": "2022-04-06T19:25:29.363Z"
   },
   {
    "duration": 20,
    "start_time": "2022-04-06T19:25:29.619Z"
   },
   {
    "duration": 24,
    "start_time": "2022-04-06T19:25:29.642Z"
   },
   {
    "duration": 222,
    "start_time": "2022-04-06T19:25:29.668Z"
   },
   {
    "duration": 266,
    "start_time": "2022-04-06T19:25:29.892Z"
   },
   {
    "duration": 80,
    "start_time": "2022-04-06T19:25:30.161Z"
   },
   {
    "duration": 90,
    "start_time": "2022-04-06T19:25:30.243Z"
   },
   {
    "duration": 58,
    "start_time": "2022-04-06T19:25:32.489Z"
   },
   {
    "duration": 143,
    "start_time": "2022-04-06T19:25:41.780Z"
   },
   {
    "duration": 58,
    "start_time": "2022-04-06T19:25:45.038Z"
   },
   {
    "duration": 6,
    "start_time": "2022-04-06T19:25:49.768Z"
   },
   {
    "duration": 8,
    "start_time": "2022-04-06T19:25:55.434Z"
   },
   {
    "duration": 11,
    "start_time": "2022-04-06T19:25:56.811Z"
   },
   {
    "duration": 1645,
    "start_time": "2022-04-06T19:26:28.004Z"
   },
   {
    "duration": 384,
    "start_time": "2022-04-06T19:26:29.652Z"
   },
   {
    "duration": 13,
    "start_time": "2022-04-06T19:26:30.038Z"
   },
   {
    "duration": 37,
    "start_time": "2022-04-06T19:26:30.053Z"
   },
   {
    "duration": 247,
    "start_time": "2022-04-06T19:26:30.092Z"
   },
   {
    "duration": 304,
    "start_time": "2022-04-06T19:26:30.341Z"
   },
   {
    "duration": 70,
    "start_time": "2022-04-06T19:26:30.647Z"
   },
   {
    "duration": 144,
    "start_time": "2022-04-06T19:26:30.719Z"
   },
   {
    "duration": 90,
    "start_time": "2022-04-06T19:26:30.865Z"
   },
   {
    "duration": 233,
    "start_time": "2022-04-06T19:26:30.958Z"
   },
   {
    "duration": 148,
    "start_time": "2022-04-06T19:26:31.193Z"
   },
   {
    "duration": 61,
    "start_time": "2022-04-06T19:26:31.343Z"
   },
   {
    "duration": 6,
    "start_time": "2022-04-06T19:26:31.406Z"
   },
   {
    "duration": 25,
    "start_time": "2022-04-06T19:26:31.414Z"
   },
   {
    "duration": 19,
    "start_time": "2022-04-06T19:26:31.441Z"
   },
   {
    "duration": 55,
    "start_time": "2022-04-06T19:26:31.462Z"
   },
   {
    "duration": 18,
    "start_time": "2022-04-06T19:26:31.519Z"
   },
   {
    "duration": 32,
    "start_time": "2022-04-06T19:26:31.539Z"
   },
   {
    "duration": 27,
    "start_time": "2022-04-06T19:26:31.573Z"
   },
   {
    "duration": 38,
    "start_time": "2022-04-06T19:26:31.602Z"
   },
   {
    "duration": 921,
    "start_time": "2022-04-06T19:26:31.642Z"
   },
   {
    "duration": 551,
    "start_time": "2022-04-06T19:26:32.564Z"
   },
   {
    "duration": 45,
    "start_time": "2022-04-06T19:26:33.117Z"
   },
   {
    "duration": 14,
    "start_time": "2022-04-06T19:26:33.164Z"
   },
   {
    "duration": 53,
    "start_time": "2022-04-06T19:26:33.180Z"
   },
   {
    "duration": 17,
    "start_time": "2022-04-06T19:27:45.583Z"
   },
   {
    "duration": 5,
    "start_time": "2022-04-06T19:28:40.572Z"
   },
   {
    "duration": 5,
    "start_time": "2022-04-06T19:35:28.873Z"
   },
   {
    "duration": 1737,
    "start_time": "2022-04-06T19:45:39.080Z"
   },
   {
    "duration": 6,
    "start_time": "2022-04-06T19:45:59.163Z"
   },
   {
    "duration": 445,
    "start_time": "2022-04-06T20:06:54.271Z"
   },
   {
    "duration": 373,
    "start_time": "2022-04-06T20:06:54.734Z"
   },
   {
    "duration": 24,
    "start_time": "2022-04-06T20:06:55.109Z"
   },
   {
    "duration": 24,
    "start_time": "2022-04-06T20:06:55.135Z"
   },
   {
    "duration": 270,
    "start_time": "2022-04-06T20:06:55.162Z"
   },
   {
    "duration": 274,
    "start_time": "2022-04-06T20:06:55.435Z"
   },
   {
    "duration": 84,
    "start_time": "2022-04-06T20:06:55.711Z"
   },
   {
    "duration": 127,
    "start_time": "2022-04-06T20:06:55.797Z"
   },
   {
    "duration": 85,
    "start_time": "2022-04-06T20:06:55.926Z"
   },
   {
    "duration": 183,
    "start_time": "2022-04-06T20:06:56.013Z"
   },
   {
    "duration": 136,
    "start_time": "2022-04-06T20:06:56.198Z"
   },
   {
    "duration": 80,
    "start_time": "2022-04-06T20:06:56.335Z"
   },
   {
    "duration": 7,
    "start_time": "2022-04-06T20:06:56.432Z"
   },
   {
    "duration": 10,
    "start_time": "2022-04-06T20:06:56.442Z"
   },
   {
    "duration": 17,
    "start_time": "2022-04-06T20:06:56.454Z"
   },
   {
    "duration": 85,
    "start_time": "2022-04-06T20:06:56.473Z"
   },
   {
    "duration": 5,
    "start_time": "2022-04-06T20:06:56.560Z"
   },
   {
    "duration": 8,
    "start_time": "2022-04-06T20:06:56.567Z"
   },
   {
    "duration": 68,
    "start_time": "2022-04-06T20:06:56.577Z"
   },
   {
    "duration": 20,
    "start_time": "2022-04-06T20:06:56.646Z"
   },
   {
    "duration": 9,
    "start_time": "2022-04-06T20:06:56.667Z"
   },
   {
    "duration": 542,
    "start_time": "2022-04-06T20:06:56.678Z"
   },
   {
    "duration": 621,
    "start_time": "2022-04-06T20:06:57.222Z"
   },
   {
    "duration": 30,
    "start_time": "2022-04-06T20:06:57.845Z"
   },
   {
    "duration": 11,
    "start_time": "2022-04-06T20:06:57.877Z"
   },
   {
    "duration": 52,
    "start_time": "2022-04-06T20:06:57.890Z"
   },
   {
    "duration": 1836,
    "start_time": "2022-04-08T16:19:58.532Z"
   },
   {
    "duration": 238,
    "start_time": "2022-04-08T16:23:12.933Z"
   },
   {
    "duration": 472,
    "start_time": "2022-04-08T16:38:07.232Z"
   },
   {
    "duration": 237,
    "start_time": "2022-04-08T16:38:20.579Z"
   },
   {
    "duration": 203,
    "start_time": "2022-04-08T16:39:43.812Z"
   },
   {
    "duration": 98,
    "start_time": "2022-04-08T16:40:35.520Z"
   },
   {
    "duration": 25,
    "start_time": "2022-04-08T16:41:07.960Z"
   },
   {
    "duration": 63,
    "start_time": "2022-04-08T16:41:25.024Z"
   },
   {
    "duration": 23,
    "start_time": "2022-04-08T16:48:04.318Z"
   },
   {
    "duration": 199,
    "start_time": "2022-04-08T16:48:13.542Z"
   },
   {
    "duration": 24,
    "start_time": "2022-04-08T16:49:46.675Z"
   },
   {
    "duration": 188,
    "start_time": "2022-04-08T16:50:46.635Z"
   },
   {
    "duration": 8,
    "start_time": "2022-04-08T16:58:19.762Z"
   },
   {
    "duration": 1305,
    "start_time": "2022-04-08T16:58:41.085Z"
   },
   {
    "duration": 242,
    "start_time": "2022-04-08T16:58:44.684Z"
   },
   {
    "duration": 11,
    "start_time": "2022-04-08T16:58:49.342Z"
   },
   {
    "duration": 15,
    "start_time": "2022-04-08T16:58:52.659Z"
   },
   {
    "duration": 214,
    "start_time": "2022-04-08T16:58:55.571Z"
   },
   {
    "duration": 3346,
    "start_time": "2022-04-08T16:58:59.635Z"
   },
   {
    "duration": 48,
    "start_time": "2022-04-08T16:59:17.915Z"
   },
   {
    "duration": 75,
    "start_time": "2022-04-08T16:59:20.300Z"
   },
   {
    "duration": 54,
    "start_time": "2022-04-08T16:59:24.680Z"
   },
   {
    "duration": 163,
    "start_time": "2022-04-08T16:59:27.850Z"
   },
   {
    "duration": 3205,
    "start_time": "2022-04-08T17:02:03.779Z"
   },
   {
    "duration": 3122,
    "start_time": "2022-04-08T17:02:43.000Z"
   },
   {
    "duration": 3060,
    "start_time": "2022-04-08T17:02:53.764Z"
   },
   {
    "duration": 3128,
    "start_time": "2022-04-08T17:03:52.479Z"
   },
   {
    "duration": 3262,
    "start_time": "2022-04-08T17:04:16.245Z"
   },
   {
    "duration": 164,
    "start_time": "2022-04-08T17:04:42.142Z"
   },
   {
    "duration": 223,
    "start_time": "2022-04-08T17:04:59.918Z"
   },
   {
    "duration": 21,
    "start_time": "2022-04-08T17:30:58.858Z"
   },
   {
    "duration": 15,
    "start_time": "2022-04-08T17:31:03.560Z"
   },
   {
    "duration": 175,
    "start_time": "2022-04-08T17:34:08.640Z"
   },
   {
    "duration": 9,
    "start_time": "2022-04-08T18:14:08.890Z"
   },
   {
    "duration": 1285,
    "start_time": "2022-04-08T18:14:55.027Z"
   },
   {
    "duration": 257,
    "start_time": "2022-04-08T18:14:58.946Z"
   },
   {
    "duration": 11,
    "start_time": "2022-04-08T18:15:01.970Z"
   },
   {
    "duration": 16,
    "start_time": "2022-04-08T18:15:03.717Z"
   },
   {
    "duration": 269,
    "start_time": "2022-04-08T18:15:05.641Z"
   },
   {
    "duration": 221,
    "start_time": "2022-04-08T18:15:11.301Z"
   },
   {
    "duration": 51,
    "start_time": "2022-04-08T18:15:14.661Z"
   },
   {
    "duration": 83,
    "start_time": "2022-04-08T18:15:17.432Z"
   },
   {
    "duration": 57,
    "start_time": "2022-04-08T18:15:21.198Z"
   },
   {
    "duration": 174,
    "start_time": "2022-04-08T18:15:23.884Z"
   },
   {
    "duration": 87,
    "start_time": "2022-04-08T18:15:34.280Z"
   },
   {
    "duration": 77,
    "start_time": "2022-04-08T18:15:42.640Z"
   },
   {
    "duration": 54,
    "start_time": "2022-04-08T18:15:58.123Z"
   },
   {
    "duration": 55,
    "start_time": "2022-04-08T18:17:34.702Z"
   },
   {
    "duration": 3100,
    "start_time": "2022-04-08T18:18:24.416Z"
   },
   {
    "duration": 62,
    "start_time": "2022-04-08T18:18:34.650Z"
   },
   {
    "duration": 44,
    "start_time": "2022-04-08T18:19:31.631Z"
   },
   {
    "duration": 58,
    "start_time": "2022-04-08T18:21:09.739Z"
   },
   {
    "duration": 56,
    "start_time": "2022-04-08T18:35:36.777Z"
   },
   {
    "duration": 231,
    "start_time": "2022-04-08T18:39:27.138Z"
   },
   {
    "duration": 43,
    "start_time": "2022-04-08T18:41:26.392Z"
   },
   {
    "duration": 21,
    "start_time": "2022-04-08T18:46:01.374Z"
   },
   {
    "duration": 12,
    "start_time": "2022-04-08T18:46:42.499Z"
   },
   {
    "duration": 11,
    "start_time": "2022-04-08T18:47:14.342Z"
   },
   {
    "duration": 13,
    "start_time": "2022-04-08T18:47:17.309Z"
   },
   {
    "duration": 275,
    "start_time": "2022-04-08T18:50:18.995Z"
   },
   {
    "duration": 1343,
    "start_time": "2022-04-08T18:51:13.598Z"
   },
   {
    "duration": 237,
    "start_time": "2022-04-08T18:51:22.898Z"
   },
   {
    "duration": 10,
    "start_time": "2022-04-08T18:51:34.389Z"
   },
   {
    "duration": 16,
    "start_time": "2022-04-08T18:51:41.098Z"
   },
   {
    "duration": 220,
    "start_time": "2022-04-08T18:51:45.015Z"
   },
   {
    "duration": 53,
    "start_time": "2022-04-08T18:52:34.434Z"
   },
   {
    "duration": 88,
    "start_time": "2022-04-08T18:52:38.693Z"
   },
   {
    "duration": 81,
    "start_time": "2022-04-08T18:52:46.295Z"
   },
   {
    "duration": 1266,
    "start_time": "2022-04-08T18:53:35.587Z"
   },
   {
    "duration": 251,
    "start_time": "2022-04-08T18:53:39.881Z"
   },
   {
    "duration": 10,
    "start_time": "2022-04-08T18:53:49.421Z"
   },
   {
    "duration": 14,
    "start_time": "2022-04-08T18:53:51.662Z"
   },
   {
    "duration": 216,
    "start_time": "2022-04-08T18:53:54.481Z"
   },
   {
    "duration": 198,
    "start_time": "2022-04-08T18:53:59.675Z"
   },
   {
    "duration": 47,
    "start_time": "2022-04-08T18:54:02.637Z"
   },
   {
    "duration": 73,
    "start_time": "2022-04-08T18:54:06.007Z"
   },
   {
    "duration": 55,
    "start_time": "2022-04-08T18:54:10.359Z"
   },
   {
    "duration": 162,
    "start_time": "2022-04-08T18:54:13.681Z"
   },
   {
    "duration": 86,
    "start_time": "2022-04-08T18:54:18.738Z"
   },
   {
    "duration": 59,
    "start_time": "2022-04-08T18:54:23.220Z"
   },
   {
    "duration": 6,
    "start_time": "2022-04-08T18:54:27.216Z"
   },
   {
    "duration": 6,
    "start_time": "2022-04-08T18:54:35.568Z"
   },
   {
    "duration": 8,
    "start_time": "2022-04-08T18:55:00.698Z"
   },
   {
    "duration": 11,
    "start_time": "2022-04-08T18:55:03.500Z"
   },
   {
    "duration": 45,
    "start_time": "2022-04-08T18:55:08.685Z"
   },
   {
    "duration": 7,
    "start_time": "2022-04-08T18:55:26.629Z"
   },
   {
    "duration": 36,
    "start_time": "2022-04-08T18:55:36.774Z"
   },
   {
    "duration": 17,
    "start_time": "2022-04-08T18:55:54.306Z"
   },
   {
    "duration": 9,
    "start_time": "2022-04-08T18:56:25.549Z"
   },
   {
    "duration": 934,
    "start_time": "2022-04-08T18:56:28.315Z"
   },
   {
    "duration": 478,
    "start_time": "2022-04-08T18:56:33.663Z"
   },
   {
    "duration": 26,
    "start_time": "2022-04-08T18:56:48.668Z"
   },
   {
    "duration": 10,
    "start_time": "2022-04-08T18:56:53.854Z"
   },
   {
    "duration": 15,
    "start_time": "2022-04-08T18:57:27.556Z"
   },
   {
    "duration": 48,
    "start_time": "2022-04-09T08:19:05.286Z"
   },
   {
    "duration": 1779,
    "start_time": "2022-04-09T08:19:22.607Z"
   },
   {
    "duration": 261,
    "start_time": "2022-04-09T08:19:27.730Z"
   },
   {
    "duration": 12,
    "start_time": "2022-04-09T08:19:31.639Z"
   },
   {
    "duration": 16,
    "start_time": "2022-04-09T08:19:33.603Z"
   },
   {
    "duration": 234,
    "start_time": "2022-04-09T08:19:35.689Z"
   },
   {
    "duration": 210,
    "start_time": "2022-04-09T08:19:38.872Z"
   },
   {
    "duration": 50,
    "start_time": "2022-04-09T08:19:41.808Z"
   },
   {
    "duration": 79,
    "start_time": "2022-04-09T08:19:44.278Z"
   },
   {
    "duration": 58,
    "start_time": "2022-04-09T08:19:47.185Z"
   },
   {
    "duration": 181,
    "start_time": "2022-04-09T08:19:49.761Z"
   },
   {
    "duration": 91,
    "start_time": "2022-04-09T08:20:06.568Z"
   },
   {
    "duration": 1564,
    "start_time": "2022-04-09T08:20:16.090Z"
   },
   {
    "duration": 263,
    "start_time": "2022-04-09T08:20:20.388Z"
   },
   {
    "duration": 12,
    "start_time": "2022-04-09T08:20:23.652Z"
   },
   {
    "duration": 18,
    "start_time": "2022-04-09T08:20:25.774Z"
   },
   {
    "duration": 231,
    "start_time": "2022-04-09T08:20:28.024Z"
   },
   {
    "duration": 218,
    "start_time": "2022-04-09T08:20:30.892Z"
   },
   {
    "duration": 51,
    "start_time": "2022-04-09T08:20:33.673Z"
   },
   {
    "duration": 80,
    "start_time": "2022-04-09T08:20:36.812Z"
   },
   {
    "duration": 55,
    "start_time": "2022-04-09T08:20:39.911Z"
   },
   {
    "duration": 176,
    "start_time": "2022-04-09T08:20:42.809Z"
   },
   {
    "duration": 94,
    "start_time": "2022-04-09T08:20:46.734Z"
   },
   {
    "duration": 59,
    "start_time": "2022-04-09T08:20:49.654Z"
   },
   {
    "duration": 7,
    "start_time": "2022-04-09T08:20:52.554Z"
   },
   {
    "duration": 8,
    "start_time": "2022-04-09T08:20:54.877Z"
   },
   {
    "duration": 14,
    "start_time": "2022-04-09T08:21:01.819Z"
   },
   {
    "duration": 49,
    "start_time": "2022-04-09T08:21:04.472Z"
   },
   {
    "duration": 4,
    "start_time": "2022-04-09T08:21:11.134Z"
   },
   {
    "duration": 7,
    "start_time": "2022-04-09T08:21:15.222Z"
   },
   {
    "duration": 40,
    "start_time": "2022-04-09T08:21:17.451Z"
   },
   {
    "duration": 19,
    "start_time": "2022-04-09T08:21:21.076Z"
   },
   {
    "duration": 9,
    "start_time": "2022-04-09T08:21:25.051Z"
   },
   {
    "duration": 173,
    "start_time": "2022-04-09T08:21:27.623Z"
   },
   {
    "duration": 219,
    "start_time": "2022-04-09T08:22:49.585Z"
   },
   {
    "duration": 144,
    "start_time": "2022-04-09T08:23:01.106Z"
   },
   {
    "duration": 156,
    "start_time": "2022-04-09T08:23:11.100Z"
   },
   {
    "duration": 229,
    "start_time": "2022-04-09T08:25:31.159Z"
   },
   {
    "duration": 132,
    "start_time": "2022-04-09T08:25:58.080Z"
   },
   {
    "duration": 159,
    "start_time": "2022-04-09T08:26:10.436Z"
   },
   {
    "duration": 166,
    "start_time": "2022-04-09T08:26:23.239Z"
   },
   {
    "duration": 163,
    "start_time": "2022-04-09T08:30:23.951Z"
   },
   {
    "duration": 220,
    "start_time": "2022-04-09T08:30:42.888Z"
   },
   {
    "duration": 163,
    "start_time": "2022-04-09T08:31:02.190Z"
   },
   {
    "duration": 1535,
    "start_time": "2022-04-09T09:18:39.361Z"
   },
   {
    "duration": 243,
    "start_time": "2022-04-09T09:18:44.214Z"
   },
   {
    "duration": 10,
    "start_time": "2022-04-09T09:18:47.198Z"
   },
   {
    "duration": 16,
    "start_time": "2022-04-09T09:18:49.549Z"
   },
   {
    "duration": 246,
    "start_time": "2022-04-09T09:18:52.317Z"
   },
   {
    "duration": 206,
    "start_time": "2022-04-09T09:18:56.679Z"
   },
   {
    "duration": 51,
    "start_time": "2022-04-09T09:18:59.713Z"
   },
   {
    "duration": 84,
    "start_time": "2022-04-09T09:19:02.762Z"
   },
   {
    "duration": 57,
    "start_time": "2022-04-09T09:19:06.286Z"
   },
   {
    "duration": 180,
    "start_time": "2022-04-09T09:19:09.148Z"
   },
   {
    "duration": 92,
    "start_time": "2022-04-09T09:19:11.345Z"
   },
   {
    "duration": 57,
    "start_time": "2022-04-09T09:19:15.270Z"
   },
   {
    "duration": 6,
    "start_time": "2022-04-09T09:19:30.675Z"
   },
   {
    "duration": 8,
    "start_time": "2022-04-09T09:19:34.317Z"
   },
   {
    "duration": 12,
    "start_time": "2022-04-09T09:19:39.177Z"
   },
   {
    "duration": 51,
    "start_time": "2022-04-09T09:19:41.566Z"
   },
   {
    "duration": 5,
    "start_time": "2022-04-09T09:19:48.444Z"
   },
   {
    "duration": 7,
    "start_time": "2022-04-09T09:19:50.960Z"
   },
   {
    "duration": 38,
    "start_time": "2022-04-09T09:19:53.159Z"
   },
   {
    "duration": 21,
    "start_time": "2022-04-09T09:20:00.769Z"
   },
   {
    "duration": 10,
    "start_time": "2022-04-09T09:20:03.374Z"
   },
   {
    "duration": 212,
    "start_time": "2022-04-09T09:20:05.558Z"
   },
   {
    "duration": 151,
    "start_time": "2022-04-09T09:20:10.709Z"
   },
   {
    "duration": 172,
    "start_time": "2022-04-09T09:20:13.497Z"
   },
   {
    "duration": 30,
    "start_time": "2022-04-09T09:20:20.173Z"
   },
   {
    "duration": 11,
    "start_time": "2022-04-09T09:20:30.515Z"
   },
   {
    "duration": 14,
    "start_time": "2022-04-09T09:20:36.748Z"
   },
   {
    "duration": 1822,
    "start_time": "2022-04-09T19:54:19.659Z"
   },
   {
    "duration": 274,
    "start_time": "2022-04-09T19:54:21.482Z"
   },
   {
    "duration": 10,
    "start_time": "2022-04-09T19:54:21.758Z"
   },
   {
    "duration": 21,
    "start_time": "2022-04-09T19:54:21.771Z"
   },
   {
    "duration": 282,
    "start_time": "2022-04-09T19:54:21.794Z"
   },
   {
    "duration": 232,
    "start_time": "2022-04-09T19:54:22.077Z"
   },
   {
    "duration": 60,
    "start_time": "2022-04-09T19:54:22.310Z"
   },
   {
    "duration": 89,
    "start_time": "2022-04-09T19:54:22.371Z"
   },
   {
    "duration": 57,
    "start_time": "2022-04-09T19:54:22.462Z"
   },
   {
    "duration": 215,
    "start_time": "2022-04-09T19:54:22.522Z"
   },
   {
    "duration": 101,
    "start_time": "2022-04-09T19:54:22.738Z"
   },
   {
    "duration": 58,
    "start_time": "2022-04-09T19:54:22.848Z"
   },
   {
    "duration": 6,
    "start_time": "2022-04-09T19:54:22.907Z"
   },
   {
    "duration": 10,
    "start_time": "2022-04-09T19:54:22.915Z"
   },
   {
    "duration": 29,
    "start_time": "2022-04-09T19:54:22.927Z"
   },
   {
    "duration": 50,
    "start_time": "2022-04-09T19:54:22.957Z"
   },
   {
    "duration": 6,
    "start_time": "2022-04-09T19:54:23.008Z"
   },
   {
    "duration": 8,
    "start_time": "2022-04-09T19:54:23.015Z"
   },
   {
    "duration": 58,
    "start_time": "2022-04-09T19:54:23.024Z"
   },
   {
    "duration": 18,
    "start_time": "2022-04-09T19:54:23.084Z"
   },
   {
    "duration": 8,
    "start_time": "2022-04-09T19:54:23.104Z"
   },
   {
    "duration": 206,
    "start_time": "2022-04-09T19:54:23.113Z"
   },
   {
    "duration": 150,
    "start_time": "2022-04-09T19:54:23.321Z"
   },
   {
    "duration": 176,
    "start_time": "2022-04-09T19:54:23.473Z"
   },
   {
    "duration": 29,
    "start_time": "2022-04-09T19:54:23.651Z"
   },
   {
    "duration": 11,
    "start_time": "2022-04-09T19:54:23.681Z"
   },
   {
    "duration": 15,
    "start_time": "2022-04-09T19:54:23.693Z"
   },
   {
    "duration": 5,
    "start_time": "2022-04-09T19:56:33.381Z"
   },
   {
    "duration": 5,
    "start_time": "2022-04-09T19:59:18.278Z"
   },
   {
    "duration": 4,
    "start_time": "2022-04-09T19:59:27.237Z"
   },
   {
    "duration": 7,
    "start_time": "2022-04-09T19:59:43.763Z"
   },
   {
    "duration": 1991,
    "start_time": "2022-04-09T20:00:16.826Z"
   },
   {
    "duration": 18,
    "start_time": "2022-04-09T20:00:41.237Z"
   },
   {
    "duration": 7,
    "start_time": "2022-04-09T20:01:29.575Z"
   },
   {
    "duration": 36,
    "start_time": "2022-04-09T20:06:41.269Z"
   },
   {
    "duration": 18,
    "start_time": "2022-04-09T20:07:25.550Z"
   },
   {
    "duration": 27,
    "start_time": "2022-04-09T20:07:49.505Z"
   },
   {
    "duration": 223,
    "start_time": "2022-04-09T20:10:10.986Z"
   },
   {
    "duration": 7,
    "start_time": "2022-04-09T20:10:52.879Z"
   },
   {
    "duration": 158,
    "start_time": "2022-04-09T20:58:54.995Z"
   },
   {
    "duration": 159,
    "start_time": "2022-04-09T20:59:00.778Z"
   },
   {
    "duration": 180,
    "start_time": "2022-04-09T21:00:06.688Z"
   }
  ],
  "kernelspec": {
   "display_name": "Python 3 (ipykernel)",
   "language": "python",
   "name": "python3"
  },
  "language_info": {
   "codemirror_mode": {
    "name": "ipython",
    "version": 3
   },
   "file_extension": ".py",
   "mimetype": "text/x-python",
   "name": "python",
   "nbconvert_exporter": "python",
   "pygments_lexer": "ipython3",
   "version": "3.9.5"
  },
  "toc": {
   "base_numbering": 1,
   "nav_menu": {},
   "number_sections": true,
   "sideBar": true,
   "skip_h1_title": true,
   "title_cell": "Table of Contents",
   "title_sidebar": "Contents",
   "toc_cell": false,
   "toc_position": {
    "height": "calc(100% - 180px)",
    "left": "10px",
    "top": "150px",
    "width": "289.6px"
   },
   "toc_section_display": true,
   "toc_window_display": true
  }
 },
 "nbformat": 4,
 "nbformat_minor": 2
}
