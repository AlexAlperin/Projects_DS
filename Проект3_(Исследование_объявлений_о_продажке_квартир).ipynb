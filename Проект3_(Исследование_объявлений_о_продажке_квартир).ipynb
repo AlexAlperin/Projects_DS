{
 "cells": [
  {
   "cell_type": "markdown",
   "metadata": {},
   "source": [
    "<div class=\"alert alert-success\">\n",
    "<b>Комментарий ревьюера v 2.0 ✔️:</b> Отлично, Александр! Ты исправил все значительные недостатки и теперь твой проект конечно же принят. Однако, я всё же отправлю проект тебе ещё раз, вдруг ты захочешь в него добавить что-то еще или просто взглянуть на него. Когда решишь, что ты готов закончить проект, просто отправь мне его и я его сразу приму."
   ]
  },
  {
   "cell_type": "markdown",
   "metadata": {},
   "source": [
    "<div class=\"alert alert-success\">\n",
    "<b>Комментарий ревьюера v 3.0 ✔️:</b> Проект принят. Спасибо за работу!)"
   ]
  },
  {
   "cell_type": "markdown",
   "metadata": {},
   "source": [
    "<div style=\"border:solid green 2px; padding: 20px\">\n",
    "<b>Привет!</b>\n",
    "\n",
    "Меня зовут Михаленко Дмитрий, и я буду проверять твой проект. Предлагаю общаться на «ты» :) Но если это не удобно - дай знать, и мы перейдем на \"вы\". \n",
    "\n",
    "Моя основная цель — не указать на совершенные тобою ошибки, а поделиться своим опытом и помочь тебе стать аналитиком данных. Ты уже проделал большую работу над проектом, но давай сделаем его еще лучше. Ниже ты найдешь мои комментарии - **пожалуйста, не перемещай, не изменяй и не удаляй их**. Увидев у тебя ошибку, в первый раз я лишь укажу на ее наличие и дам тебе возможность самому найти и исправить ее. На реальной работе твой начальник будет поступать так же, а я пытаюсь подготовить тебя именно к работе аналитиком. Но если ты пока не справишься с такой задачей - при следующей проверке я дам более точную подсказку. Я буду использовать цветовую разметку:\n",
    "\n",
    "<div class=\"alert alert-danger\">\n",
    "<b>Комментарий ревьюера ❌:</b> Так выделены самые важные замечания. Без их отработки проект не будет принят. </div>\n",
    "\n",
    "<div class=\"alert alert-warning\">\n",
    "<b>Комментарий ревьюера ⚠️:</b> Так выделены небольшие замечания. Я надеюсь, что их ты тоже учтешь - твой проект от этого станет только лучше. Но настаивать на их отработке не буду.\n",
    "\n",
    "</div>\n",
    "\n",
    "<div class=\"alert alert-success\">\n",
    "<b>Комментарий ревьюера ✔️:</b> Так я выделяю все остальные комментарии.</div>\n",
    "\n",
    "Давай работать над проектом в диалоге: **если ты что-то меняешь в проекте или отвечаешь на мои комментарии — пиши об этом.** Мне будет легче отследить изменения, если ты выделишь свои комментарии:\n",
    "<div class=\"alert alert-info\"> <b>Комментарий студента:</b> Например, вот так.</div>\n",
    "\n",
    "Всё это поможет выполнить повторную проверку твоего проекта оперативнее. "
   ]
  },
  {
   "cell_type": "markdown",
   "metadata": {
    "toc": true
   },
   "source": [
    "<h1>Содержание<span class=\"tocSkip\"></span></h1>\n",
    "<div class=\"toc\"><ul class=\"toc-item\"><li><span><a href=\"#Изучение-данных-из-файла\" data-toc-modified-id=\"Изучение-данных-из-файла-1\"><span class=\"toc-item-num\">1&nbsp;&nbsp;</span>Изучение данных из файла</a></span><ul class=\"toc-item\"><li><span><a href=\"#Вывод\" data-toc-modified-id=\"Вывод-1.1\"><span class=\"toc-item-num\">1.1&nbsp;&nbsp;</span>Вывод</a></span></li></ul></li><li><span><a href=\"#Предобработка-данных\" data-toc-modified-id=\"Предобработка-данных-2\"><span class=\"toc-item-num\">2&nbsp;&nbsp;</span>Предобработка данных</a></span></li><li><span><a href=\"#Расчёты-и-добавление-результатов-в-таблицу\" data-toc-modified-id=\"Расчёты-и-добавление-результатов-в-таблицу-3\"><span class=\"toc-item-num\">3&nbsp;&nbsp;</span>Расчёты и добавление результатов в таблицу</a></span></li><li><span><a href=\"#Исследовательский-анализ-данных\" data-toc-modified-id=\"Исследовательский-анализ-данных-4\"><span class=\"toc-item-num\">4&nbsp;&nbsp;</span>Исследовательский анализ данных</a></span></li><li><span><a href=\"#Общий-вывод\" data-toc-modified-id=\"Общий-вывод-5\"><span class=\"toc-item-num\">5&nbsp;&nbsp;</span>Общий вывод</a></span></li><li><span><a href=\"#Чек-лист-готовности-проекта\" data-toc-modified-id=\"Чек-лист-готовности-проекта-6\"><span class=\"toc-item-num\">6&nbsp;&nbsp;</span>Чек-лист готовности проекта</a></span></li></ul></div>"
   ]
  },
  {
   "cell_type": "markdown",
   "metadata": {},
   "source": [
    "# Исследование объявлений о продаже квартир\n",
    "\n",
    "В вашем распоряжении данные сервиса Яндекc Недвижимость — архив объявлений о продаже квартир в Санкт-Петербурге и соседних населённых пунктах за несколько лет. Нужно научиться определять рыночную стоимость объектов недвижимости. Ваша задача — установить параметры. Это позволит построить автоматизированную систему: она отследит аномалии и мошенническую деятельность. \n",
    "\n",
    "По каждой квартире на продажу доступны два вида данных. Первые вписаны пользователем, вторые получены автоматически на основе картографических данных. Например, расстояние до центра, аэропорта, ближайшего парка и водоёма. "
   ]
  },
  {
   "cell_type": "markdown",
   "metadata": {},
   "source": [
    "<div class=\"alert alert-success\">\n",
    "<b>Комментарий ревьюера ✔️:</b> Объёмная и творческая аналитическая задача, тем интереснее будет с ней справиться! </div>"
   ]
  },
  {
   "cell_type": "markdown",
   "metadata": {},
   "source": [
    "## Изучение данных из файла"
   ]
  },
  {
   "cell_type": "code",
   "execution_count": 1,
   "metadata": {},
   "outputs": [
    {
     "name": "stdout",
     "output_type": "stream",
     "text": [
      "<class 'pandas.core.frame.DataFrame'>\n",
      "RangeIndex: 23699 entries, 0 to 23698\n",
      "Data columns (total 22 columns):\n",
      " #   Column                Non-Null Count  Dtype  \n",
      "---  ------                --------------  -----  \n",
      " 0   total_images          23699 non-null  int64  \n",
      " 1   last_price            23699 non-null  float64\n",
      " 2   total_area            23699 non-null  float64\n",
      " 3   first_day_exposition  23699 non-null  object \n",
      " 4   rooms                 23699 non-null  int64  \n",
      " 5   ceiling_height        14504 non-null  float64\n",
      " 6   floors_total          23613 non-null  float64\n",
      " 7   living_area           21796 non-null  float64\n",
      " 8   floor                 23699 non-null  int64  \n",
      " 9   is_apartment          2775 non-null   object \n",
      " 10  studio                23699 non-null  bool   \n",
      " 11  open_plan             23699 non-null  bool   \n",
      " 12  kitchen_area          21421 non-null  float64\n",
      " 13  balcony               12180 non-null  float64\n",
      " 14  locality_name         23650 non-null  object \n",
      " 15  airports_nearest      18157 non-null  float64\n",
      " 16  cityCenters_nearest   18180 non-null  float64\n",
      " 17  parks_around3000      18181 non-null  float64\n",
      " 18  parks_nearest         8079 non-null   float64\n",
      " 19  ponds_around3000      18181 non-null  float64\n",
      " 20  ponds_nearest         9110 non-null   float64\n",
      " 21  days_exposition       20518 non-null  float64\n",
      "dtypes: bool(2), float64(14), int64(3), object(3)\n",
      "memory usage: 3.7+ MB\n"
     ]
    },
    {
     "data": {
      "text/plain": [
       "0.0"
      ]
     },
     "metadata": {},
     "output_type": "display_data"
    },
    {
     "data": {
      "text/plain": [
       "3.0"
      ]
     },
     "metadata": {},
     "output_type": "display_data"
    },
    {
     "data": {
      "text/plain": [
       "25"
      ]
     },
     "metadata": {},
     "output_type": "display_data"
    },
    {
     "data": {
      "text/html": [
       "<div>\n",
       "<style scoped>\n",
       "    .dataframe tbody tr th:only-of-type {\n",
       "        vertical-align: middle;\n",
       "    }\n",
       "\n",
       "    .dataframe tbody tr th {\n",
       "        vertical-align: top;\n",
       "    }\n",
       "\n",
       "    .dataframe thead th {\n",
       "        text-align: right;\n",
       "    }\n",
       "</style>\n",
       "<table border=\"1\" class=\"dataframe\">\n",
       "  <thead>\n",
       "    <tr style=\"text-align: right;\">\n",
       "      <th></th>\n",
       "      <th>total_images</th>\n",
       "      <th>last_price</th>\n",
       "      <th>total_area</th>\n",
       "      <th>first_day_exposition</th>\n",
       "      <th>rooms</th>\n",
       "      <th>ceiling_height</th>\n",
       "      <th>floors_total</th>\n",
       "      <th>living_area</th>\n",
       "      <th>floor</th>\n",
       "      <th>is_apartment</th>\n",
       "      <th>...</th>\n",
       "      <th>kitchen_area</th>\n",
       "      <th>balcony</th>\n",
       "      <th>locality_name</th>\n",
       "      <th>airports_nearest</th>\n",
       "      <th>cityCenters_nearest</th>\n",
       "      <th>parks_around3000</th>\n",
       "      <th>parks_nearest</th>\n",
       "      <th>ponds_around3000</th>\n",
       "      <th>ponds_nearest</th>\n",
       "      <th>days_exposition</th>\n",
       "    </tr>\n",
       "  </thead>\n",
       "  <tbody>\n",
       "    <tr>\n",
       "      <th>0</th>\n",
       "      <td>20</td>\n",
       "      <td>13000000.0</td>\n",
       "      <td>108.00</td>\n",
       "      <td>2019-03-07T00:00:00</td>\n",
       "      <td>3</td>\n",
       "      <td>2.70</td>\n",
       "      <td>16.0</td>\n",
       "      <td>51.00</td>\n",
       "      <td>8</td>\n",
       "      <td>NaN</td>\n",
       "      <td>...</td>\n",
       "      <td>25.00</td>\n",
       "      <td>NaN</td>\n",
       "      <td>Санкт-Петербург</td>\n",
       "      <td>18863.0</td>\n",
       "      <td>16028.0</td>\n",
       "      <td>1.0</td>\n",
       "      <td>482.0</td>\n",
       "      <td>2.0</td>\n",
       "      <td>755.0</td>\n",
       "      <td>NaN</td>\n",
       "    </tr>\n",
       "    <tr>\n",
       "      <th>1</th>\n",
       "      <td>7</td>\n",
       "      <td>3350000.0</td>\n",
       "      <td>40.40</td>\n",
       "      <td>2018-12-04T00:00:00</td>\n",
       "      <td>1</td>\n",
       "      <td>NaN</td>\n",
       "      <td>11.0</td>\n",
       "      <td>18.60</td>\n",
       "      <td>1</td>\n",
       "      <td>NaN</td>\n",
       "      <td>...</td>\n",
       "      <td>11.00</td>\n",
       "      <td>2.0</td>\n",
       "      <td>посёлок Шушары</td>\n",
       "      <td>12817.0</td>\n",
       "      <td>18603.0</td>\n",
       "      <td>0.0</td>\n",
       "      <td>NaN</td>\n",
       "      <td>0.0</td>\n",
       "      <td>NaN</td>\n",
       "      <td>81.0</td>\n",
       "    </tr>\n",
       "    <tr>\n",
       "      <th>2</th>\n",
       "      <td>10</td>\n",
       "      <td>5196000.0</td>\n",
       "      <td>56.00</td>\n",
       "      <td>2015-08-20T00:00:00</td>\n",
       "      <td>2</td>\n",
       "      <td>NaN</td>\n",
       "      <td>5.0</td>\n",
       "      <td>34.30</td>\n",
       "      <td>4</td>\n",
       "      <td>NaN</td>\n",
       "      <td>...</td>\n",
       "      <td>8.30</td>\n",
       "      <td>0.0</td>\n",
       "      <td>Санкт-Петербург</td>\n",
       "      <td>21741.0</td>\n",
       "      <td>13933.0</td>\n",
       "      <td>1.0</td>\n",
       "      <td>90.0</td>\n",
       "      <td>2.0</td>\n",
       "      <td>574.0</td>\n",
       "      <td>558.0</td>\n",
       "    </tr>\n",
       "    <tr>\n",
       "      <th>3</th>\n",
       "      <td>0</td>\n",
       "      <td>64900000.0</td>\n",
       "      <td>159.00</td>\n",
       "      <td>2015-07-24T00:00:00</td>\n",
       "      <td>3</td>\n",
       "      <td>NaN</td>\n",
       "      <td>14.0</td>\n",
       "      <td>NaN</td>\n",
       "      <td>9</td>\n",
       "      <td>NaN</td>\n",
       "      <td>...</td>\n",
       "      <td>NaN</td>\n",
       "      <td>0.0</td>\n",
       "      <td>Санкт-Петербург</td>\n",
       "      <td>28098.0</td>\n",
       "      <td>6800.0</td>\n",
       "      <td>2.0</td>\n",
       "      <td>84.0</td>\n",
       "      <td>3.0</td>\n",
       "      <td>234.0</td>\n",
       "      <td>424.0</td>\n",
       "    </tr>\n",
       "    <tr>\n",
       "      <th>4</th>\n",
       "      <td>2</td>\n",
       "      <td>10000000.0</td>\n",
       "      <td>100.00</td>\n",
       "      <td>2018-06-19T00:00:00</td>\n",
       "      <td>2</td>\n",
       "      <td>3.03</td>\n",
       "      <td>14.0</td>\n",
       "      <td>32.00</td>\n",
       "      <td>13</td>\n",
       "      <td>NaN</td>\n",
       "      <td>...</td>\n",
       "      <td>41.00</td>\n",
       "      <td>NaN</td>\n",
       "      <td>Санкт-Петербург</td>\n",
       "      <td>31856.0</td>\n",
       "      <td>8098.0</td>\n",
       "      <td>2.0</td>\n",
       "      <td>112.0</td>\n",
       "      <td>1.0</td>\n",
       "      <td>48.0</td>\n",
       "      <td>121.0</td>\n",
       "    </tr>\n",
       "    <tr>\n",
       "      <th>5</th>\n",
       "      <td>10</td>\n",
       "      <td>2890000.0</td>\n",
       "      <td>30.40</td>\n",
       "      <td>2018-09-10T00:00:00</td>\n",
       "      <td>1</td>\n",
       "      <td>NaN</td>\n",
       "      <td>12.0</td>\n",
       "      <td>14.40</td>\n",
       "      <td>5</td>\n",
       "      <td>NaN</td>\n",
       "      <td>...</td>\n",
       "      <td>9.10</td>\n",
       "      <td>NaN</td>\n",
       "      <td>городской посёлок Янино-1</td>\n",
       "      <td>NaN</td>\n",
       "      <td>NaN</td>\n",
       "      <td>NaN</td>\n",
       "      <td>NaN</td>\n",
       "      <td>NaN</td>\n",
       "      <td>NaN</td>\n",
       "      <td>55.0</td>\n",
       "    </tr>\n",
       "    <tr>\n",
       "      <th>6</th>\n",
       "      <td>6</td>\n",
       "      <td>3700000.0</td>\n",
       "      <td>37.30</td>\n",
       "      <td>2017-11-02T00:00:00</td>\n",
       "      <td>1</td>\n",
       "      <td>NaN</td>\n",
       "      <td>26.0</td>\n",
       "      <td>10.60</td>\n",
       "      <td>6</td>\n",
       "      <td>NaN</td>\n",
       "      <td>...</td>\n",
       "      <td>14.40</td>\n",
       "      <td>1.0</td>\n",
       "      <td>посёлок Парголово</td>\n",
       "      <td>52996.0</td>\n",
       "      <td>19143.0</td>\n",
       "      <td>0.0</td>\n",
       "      <td>NaN</td>\n",
       "      <td>0.0</td>\n",
       "      <td>NaN</td>\n",
       "      <td>155.0</td>\n",
       "    </tr>\n",
       "    <tr>\n",
       "      <th>7</th>\n",
       "      <td>5</td>\n",
       "      <td>7915000.0</td>\n",
       "      <td>71.60</td>\n",
       "      <td>2019-04-18T00:00:00</td>\n",
       "      <td>2</td>\n",
       "      <td>NaN</td>\n",
       "      <td>24.0</td>\n",
       "      <td>NaN</td>\n",
       "      <td>22</td>\n",
       "      <td>NaN</td>\n",
       "      <td>...</td>\n",
       "      <td>18.90</td>\n",
       "      <td>2.0</td>\n",
       "      <td>Санкт-Петербург</td>\n",
       "      <td>23982.0</td>\n",
       "      <td>11634.0</td>\n",
       "      <td>0.0</td>\n",
       "      <td>NaN</td>\n",
       "      <td>0.0</td>\n",
       "      <td>NaN</td>\n",
       "      <td>NaN</td>\n",
       "    </tr>\n",
       "    <tr>\n",
       "      <th>8</th>\n",
       "      <td>20</td>\n",
       "      <td>2900000.0</td>\n",
       "      <td>33.16</td>\n",
       "      <td>2018-05-23T00:00:00</td>\n",
       "      <td>1</td>\n",
       "      <td>NaN</td>\n",
       "      <td>27.0</td>\n",
       "      <td>15.43</td>\n",
       "      <td>26</td>\n",
       "      <td>NaN</td>\n",
       "      <td>...</td>\n",
       "      <td>8.81</td>\n",
       "      <td>NaN</td>\n",
       "      <td>посёлок Мурино</td>\n",
       "      <td>NaN</td>\n",
       "      <td>NaN</td>\n",
       "      <td>NaN</td>\n",
       "      <td>NaN</td>\n",
       "      <td>NaN</td>\n",
       "      <td>NaN</td>\n",
       "      <td>189.0</td>\n",
       "    </tr>\n",
       "    <tr>\n",
       "      <th>9</th>\n",
       "      <td>18</td>\n",
       "      <td>5400000.0</td>\n",
       "      <td>61.00</td>\n",
       "      <td>2017-02-26T00:00:00</td>\n",
       "      <td>3</td>\n",
       "      <td>2.50</td>\n",
       "      <td>9.0</td>\n",
       "      <td>43.60</td>\n",
       "      <td>7</td>\n",
       "      <td>NaN</td>\n",
       "      <td>...</td>\n",
       "      <td>6.50</td>\n",
       "      <td>2.0</td>\n",
       "      <td>Санкт-Петербург</td>\n",
       "      <td>50898.0</td>\n",
       "      <td>15008.0</td>\n",
       "      <td>0.0</td>\n",
       "      <td>NaN</td>\n",
       "      <td>0.0</td>\n",
       "      <td>NaN</td>\n",
       "      <td>289.0</td>\n",
       "    </tr>\n",
       "    <tr>\n",
       "      <th>10</th>\n",
       "      <td>5</td>\n",
       "      <td>5050000.0</td>\n",
       "      <td>39.60</td>\n",
       "      <td>2017-11-16T00:00:00</td>\n",
       "      <td>1</td>\n",
       "      <td>2.67</td>\n",
       "      <td>12.0</td>\n",
       "      <td>20.30</td>\n",
       "      <td>3</td>\n",
       "      <td>NaN</td>\n",
       "      <td>...</td>\n",
       "      <td>8.50</td>\n",
       "      <td>NaN</td>\n",
       "      <td>Санкт-Петербург</td>\n",
       "      <td>38357.0</td>\n",
       "      <td>13878.0</td>\n",
       "      <td>1.0</td>\n",
       "      <td>310.0</td>\n",
       "      <td>2.0</td>\n",
       "      <td>553.0</td>\n",
       "      <td>137.0</td>\n",
       "    </tr>\n",
       "    <tr>\n",
       "      <th>11</th>\n",
       "      <td>9</td>\n",
       "      <td>3300000.0</td>\n",
       "      <td>44.00</td>\n",
       "      <td>2018-08-27T00:00:00</td>\n",
       "      <td>2</td>\n",
       "      <td>NaN</td>\n",
       "      <td>5.0</td>\n",
       "      <td>31.00</td>\n",
       "      <td>4</td>\n",
       "      <td>False</td>\n",
       "      <td>...</td>\n",
       "      <td>6.00</td>\n",
       "      <td>1.0</td>\n",
       "      <td>Ломоносов</td>\n",
       "      <td>48252.0</td>\n",
       "      <td>51677.0</td>\n",
       "      <td>0.0</td>\n",
       "      <td>NaN</td>\n",
       "      <td>0.0</td>\n",
       "      <td>NaN</td>\n",
       "      <td>7.0</td>\n",
       "    </tr>\n",
       "    <tr>\n",
       "      <th>12</th>\n",
       "      <td>10</td>\n",
       "      <td>3890000.0</td>\n",
       "      <td>54.00</td>\n",
       "      <td>2016-06-30T00:00:00</td>\n",
       "      <td>2</td>\n",
       "      <td>NaN</td>\n",
       "      <td>5.0</td>\n",
       "      <td>30.00</td>\n",
       "      <td>5</td>\n",
       "      <td>NaN</td>\n",
       "      <td>...</td>\n",
       "      <td>9.00</td>\n",
       "      <td>0.0</td>\n",
       "      <td>Сертолово</td>\n",
       "      <td>NaN</td>\n",
       "      <td>NaN</td>\n",
       "      <td>NaN</td>\n",
       "      <td>NaN</td>\n",
       "      <td>NaN</td>\n",
       "      <td>NaN</td>\n",
       "      <td>90.0</td>\n",
       "    </tr>\n",
       "    <tr>\n",
       "      <th>13</th>\n",
       "      <td>20</td>\n",
       "      <td>3550000.0</td>\n",
       "      <td>42.80</td>\n",
       "      <td>2017-07-01T00:00:00</td>\n",
       "      <td>2</td>\n",
       "      <td>2.56</td>\n",
       "      <td>5.0</td>\n",
       "      <td>27.00</td>\n",
       "      <td>5</td>\n",
       "      <td>NaN</td>\n",
       "      <td>...</td>\n",
       "      <td>5.20</td>\n",
       "      <td>1.0</td>\n",
       "      <td>Петергоф</td>\n",
       "      <td>37868.0</td>\n",
       "      <td>33058.0</td>\n",
       "      <td>1.0</td>\n",
       "      <td>294.0</td>\n",
       "      <td>3.0</td>\n",
       "      <td>298.0</td>\n",
       "      <td>366.0</td>\n",
       "    </tr>\n",
       "    <tr>\n",
       "      <th>14</th>\n",
       "      <td>1</td>\n",
       "      <td>4400000.0</td>\n",
       "      <td>36.00</td>\n",
       "      <td>2016-06-23T00:00:00</td>\n",
       "      <td>1</td>\n",
       "      <td>NaN</td>\n",
       "      <td>6.0</td>\n",
       "      <td>17.00</td>\n",
       "      <td>1</td>\n",
       "      <td>NaN</td>\n",
       "      <td>...</td>\n",
       "      <td>8.00</td>\n",
       "      <td>0.0</td>\n",
       "      <td>Пушкин</td>\n",
       "      <td>20782.0</td>\n",
       "      <td>30759.0</td>\n",
       "      <td>0.0</td>\n",
       "      <td>NaN</td>\n",
       "      <td>1.0</td>\n",
       "      <td>96.0</td>\n",
       "      <td>203.0</td>\n",
       "    </tr>\n",
       "  </tbody>\n",
       "</table>\n",
       "<p>15 rows × 22 columns</p>\n",
       "</div>"
      ],
      "text/plain": [
       "    total_images  last_price  total_area first_day_exposition  rooms  \\\n",
       "0             20  13000000.0      108.00  2019-03-07T00:00:00      3   \n",
       "1              7   3350000.0       40.40  2018-12-04T00:00:00      1   \n",
       "2             10   5196000.0       56.00  2015-08-20T00:00:00      2   \n",
       "3              0  64900000.0      159.00  2015-07-24T00:00:00      3   \n",
       "4              2  10000000.0      100.00  2018-06-19T00:00:00      2   \n",
       "5             10   2890000.0       30.40  2018-09-10T00:00:00      1   \n",
       "6              6   3700000.0       37.30  2017-11-02T00:00:00      1   \n",
       "7              5   7915000.0       71.60  2019-04-18T00:00:00      2   \n",
       "8             20   2900000.0       33.16  2018-05-23T00:00:00      1   \n",
       "9             18   5400000.0       61.00  2017-02-26T00:00:00      3   \n",
       "10             5   5050000.0       39.60  2017-11-16T00:00:00      1   \n",
       "11             9   3300000.0       44.00  2018-08-27T00:00:00      2   \n",
       "12            10   3890000.0       54.00  2016-06-30T00:00:00      2   \n",
       "13            20   3550000.0       42.80  2017-07-01T00:00:00      2   \n",
       "14             1   4400000.0       36.00  2016-06-23T00:00:00      1   \n",
       "\n",
       "    ceiling_height  floors_total  living_area  floor is_apartment  ...  \\\n",
       "0             2.70          16.0        51.00      8          NaN  ...   \n",
       "1              NaN          11.0        18.60      1          NaN  ...   \n",
       "2              NaN           5.0        34.30      4          NaN  ...   \n",
       "3              NaN          14.0          NaN      9          NaN  ...   \n",
       "4             3.03          14.0        32.00     13          NaN  ...   \n",
       "5              NaN          12.0        14.40      5          NaN  ...   \n",
       "6              NaN          26.0        10.60      6          NaN  ...   \n",
       "7              NaN          24.0          NaN     22          NaN  ...   \n",
       "8              NaN          27.0        15.43     26          NaN  ...   \n",
       "9             2.50           9.0        43.60      7          NaN  ...   \n",
       "10            2.67          12.0        20.30      3          NaN  ...   \n",
       "11             NaN           5.0        31.00      4        False  ...   \n",
       "12             NaN           5.0        30.00      5          NaN  ...   \n",
       "13            2.56           5.0        27.00      5          NaN  ...   \n",
       "14             NaN           6.0        17.00      1          NaN  ...   \n",
       "\n",
       "    kitchen_area  balcony              locality_name  airports_nearest  \\\n",
       "0          25.00      NaN            Санкт-Петербург           18863.0   \n",
       "1          11.00      2.0             посёлок Шушары           12817.0   \n",
       "2           8.30      0.0            Санкт-Петербург           21741.0   \n",
       "3            NaN      0.0            Санкт-Петербург           28098.0   \n",
       "4          41.00      NaN            Санкт-Петербург           31856.0   \n",
       "5           9.10      NaN  городской посёлок Янино-1               NaN   \n",
       "6          14.40      1.0          посёлок Парголово           52996.0   \n",
       "7          18.90      2.0            Санкт-Петербург           23982.0   \n",
       "8           8.81      NaN             посёлок Мурино               NaN   \n",
       "9           6.50      2.0            Санкт-Петербург           50898.0   \n",
       "10          8.50      NaN            Санкт-Петербург           38357.0   \n",
       "11          6.00      1.0                  Ломоносов           48252.0   \n",
       "12          9.00      0.0                  Сертолово               NaN   \n",
       "13          5.20      1.0                   Петергоф           37868.0   \n",
       "14          8.00      0.0                     Пушкин           20782.0   \n",
       "\n",
       "   cityCenters_nearest  parks_around3000  parks_nearest  ponds_around3000  \\\n",
       "0              16028.0               1.0          482.0               2.0   \n",
       "1              18603.0               0.0            NaN               0.0   \n",
       "2              13933.0               1.0           90.0               2.0   \n",
       "3               6800.0               2.0           84.0               3.0   \n",
       "4               8098.0               2.0          112.0               1.0   \n",
       "5                  NaN               NaN            NaN               NaN   \n",
       "6              19143.0               0.0            NaN               0.0   \n",
       "7              11634.0               0.0            NaN               0.0   \n",
       "8                  NaN               NaN            NaN               NaN   \n",
       "9              15008.0               0.0            NaN               0.0   \n",
       "10             13878.0               1.0          310.0               2.0   \n",
       "11             51677.0               0.0            NaN               0.0   \n",
       "12                 NaN               NaN            NaN               NaN   \n",
       "13             33058.0               1.0          294.0               3.0   \n",
       "14             30759.0               0.0            NaN               1.0   \n",
       "\n",
       "    ponds_nearest  days_exposition  \n",
       "0           755.0              NaN  \n",
       "1             NaN             81.0  \n",
       "2           574.0            558.0  \n",
       "3           234.0            424.0  \n",
       "4            48.0            121.0  \n",
       "5             NaN             55.0  \n",
       "6             NaN            155.0  \n",
       "7             NaN              NaN  \n",
       "8             NaN            189.0  \n",
       "9             NaN            289.0  \n",
       "10          553.0            137.0  \n",
       "11            NaN              7.0  \n",
       "12            NaN             90.0  \n",
       "13          298.0            366.0  \n",
       "14           96.0            203.0  \n",
       "\n",
       "[15 rows x 22 columns]"
      ]
     },
     "metadata": {},
     "output_type": "display_data"
    }
   ],
   "source": [
    "import pandas as pd\n",
    "data=pd.read_csv('/datasets/real_estate_data.csv', sep='\\t')\n",
    "data.info()\n",
    "display (data.loc[data['ceiling_height']>10]['ceiling_height'].count())\n",
    "display(data.head(15))"
   ]
  },
  {
   "cell_type": "markdown",
   "metadata": {},
   "source": [
    "### Вывод"
   ]
  },
  {
   "cell_type": "markdown",
   "metadata": {},
   "source": [
    "<div class=\"alert alert-info\">\n",
    "<font color='black'> <b> По открытой таблице с данными можно сделать следующие выводы:  \n",
    "   В данных имеетя 22 колонки, количество значений в колонках сильно отличается.\n",
    "   Присутствуют целые числа, дробные числа,значения типа \"object\", а также булевы значения </font> <b> "
   ]
  },
  {
   "cell_type": "markdown",
   "metadata": {},
   "source": [
    "<div class=\"alert alert-success\">\n",
    "<b>Комментарий ревьюера ✔️:</b> Хорошее начало и первый промежуточный вывод, так держать. </div>"
   ]
  },
  {
   "cell_type": "markdown",
   "metadata": {},
   "source": [
    "## Предобработка данных"
   ]
  },
  {
   "cell_type": "code",
   "execution_count": 2,
   "metadata": {},
   "outputs": [
    {
     "data": {
      "text/plain": [
       "0        0\n",
       "1        2\n",
       "2        0\n",
       "3        0\n",
       "4        0\n",
       "        ..\n",
       "23694    0\n",
       "23695    0\n",
       "23696    0\n",
       "23697    2\n",
       "23698    0\n",
       "Name: balcony, Length: 23699, dtype: int64"
      ]
     },
     "metadata": {},
     "output_type": "display_data"
    },
    {
     "data": {
      "text/plain": [
       "2.50    3515\n",
       "2.60    1646\n",
       "2.70    1574\n",
       "3.00    1112\n",
       "2.80     993\n",
       "        ... \n",
       "3.68       1\n",
       "1.75       1\n",
       "5.00       1\n",
       "4.80       1\n",
       "4.65       1\n",
       "Name: ceiling_height, Length: 172, dtype: int64"
      ]
     },
     "metadata": {},
     "output_type": "display_data"
    },
    {
     "data": {
      "text/plain": [
       "0        False\n",
       "1        False\n",
       "2        False\n",
       "3        False\n",
       "4        False\n",
       "         ...  \n",
       "23694    False\n",
       "23695    False\n",
       "23696    False\n",
       "23697    False\n",
       "23698    False\n",
       "Name: is_apartment, Length: 23699, dtype: bool"
      ]
     },
     "metadata": {},
     "output_type": "display_data"
    }
   ],
   "source": [
    "data['balcony'] = data['balcony'].fillna(0).astype('int')\n",
    "display (data['balcony'])\n",
    "data['first_day_exposition'] = pd.to_datetime(data['first_day_exposition'], format = '%Y-%m-%d')\n",
    "median_ceiling_height=data['ceiling_height'].median()\n",
    "data.loc[data['ceiling_height']>10, 'ceiling_height'] = median_ceiling_height\n",
    "display (data['ceiling_height'].value_counts())\n",
    "data['is_apartment'] = data['is_apartment'].fillna(False)\n",
    "display (data['is_apartment'])\n",
    "\n",
    "\n"
   ]
  },
  {
   "cell_type": "markdown",
   "metadata": {},
   "source": [
    "<div class=\"alert alert-info\">\n",
    "<font color='black'> <b> Имеются пропуски типа Nan во многих столбцах: 'balcony' , 'is_apartment' , 'ceiling_height' и других. Разброс по проценту количества пропусков в разных столбцах сильно отличается. Ошибки могли быть вызваны человеческим фактором, либо некорректное считывание, копирование. В столбце 'ceiling_height' найдены аномальные значения - 25 метров и даже 100. Надо заменить на медианное значение. В столбце 'is_apartment' где есть пропущенные значения, можно заменить их на False (вероятно там нет апартаментов). Столбец 'first_day_exposition' надо привести к нормальному формату даты (часы минуты и секунды там нулевые). В столбце 'balcony' там где имеются пропущенные значения, их можно заменить нулями (балкона просто нет), а также привести к целочисленному виду.  </font> <b> "
   ]
  },
  {
   "cell_type": "markdown",
   "metadata": {},
   "source": [
    "<div class=\"alert alert-success\">\n",
    "<b>Комментарий ревьюера ✔️:</b> Все отлично, большинство из этих изменений еще пригодятся далее в проекте"
   ]
  },
  {
   "cell_type": "markdown",
   "metadata": {},
   "source": [
    "## Расчёты и добавление результатов в таблицу"
   ]
  },
  {
   "cell_type": "code",
   "execution_count": 3,
   "metadata": {},
   "outputs": [
    {
     "data": {
      "text/plain": [
       "0        120370\n",
       "1         82920\n",
       "2         92785\n",
       "3        408176\n",
       "4        100000\n",
       "          ...  \n",
       "23694     72490\n",
       "23695     52542\n",
       "23696     44091\n",
       "23697    149511\n",
       "23698     41795\n",
       "Name: price_square_meter, Length: 23699, dtype: int64"
      ]
     },
     "metadata": {},
     "output_type": "display_data"
    },
    {
     "data": {
      "text/html": [
       "<div>\n",
       "<style scoped>\n",
       "    .dataframe tbody tr th:only-of-type {\n",
       "        vertical-align: middle;\n",
       "    }\n",
       "\n",
       "    .dataframe tbody tr th {\n",
       "        vertical-align: top;\n",
       "    }\n",
       "\n",
       "    .dataframe thead th {\n",
       "        text-align: right;\n",
       "    }\n",
       "</style>\n",
       "<table border=\"1\" class=\"dataframe\">\n",
       "  <thead>\n",
       "    <tr style=\"text-align: right;\">\n",
       "      <th></th>\n",
       "      <th>weekday</th>\n",
       "      <th>month</th>\n",
       "      <th>year</th>\n",
       "    </tr>\n",
       "  </thead>\n",
       "  <tbody>\n",
       "    <tr>\n",
       "      <th>0</th>\n",
       "      <td>3</td>\n",
       "      <td>3</td>\n",
       "      <td>2019</td>\n",
       "    </tr>\n",
       "    <tr>\n",
       "      <th>1</th>\n",
       "      <td>1</td>\n",
       "      <td>12</td>\n",
       "      <td>2018</td>\n",
       "    </tr>\n",
       "    <tr>\n",
       "      <th>2</th>\n",
       "      <td>3</td>\n",
       "      <td>8</td>\n",
       "      <td>2015</td>\n",
       "    </tr>\n",
       "    <tr>\n",
       "      <th>3</th>\n",
       "      <td>4</td>\n",
       "      <td>7</td>\n",
       "      <td>2015</td>\n",
       "    </tr>\n",
       "    <tr>\n",
       "      <th>4</th>\n",
       "      <td>1</td>\n",
       "      <td>6</td>\n",
       "      <td>2018</td>\n",
       "    </tr>\n",
       "  </tbody>\n",
       "</table>\n",
       "</div>"
      ],
      "text/plain": [
       "   weekday  month  year\n",
       "0        3      3  2019\n",
       "1        1     12  2018\n",
       "2        3      8  2015\n",
       "3        4      7  2015\n",
       "4        1      6  2018"
      ]
     },
     "metadata": {},
     "output_type": "display_data"
    }
   ],
   "source": [
    "data['price_square_meter'] = data['last_price']/data['total_area']\n",
    "data['price_square_meter'] = data['price_square_meter'].astype('int')\n",
    "display(data['price_square_meter'])\n",
    "data['weekday'] = data['first_day_exposition'].dt.weekday\n",
    "data['month'] = data['first_day_exposition'].dt.month\n",
    "data['year'] = data['first_day_exposition'].dt.year\n",
    "display(data[['weekday','month', 'year']].head())\n",
    "def floor_category(row):\n",
    "    floors_total = row['floors_total']\n",
    "    floor = row['floor']\n",
    "    if floor == 1:\n",
    "        return 'первый'\n",
    "    elif floor == floors_total:\n",
    "        return 'последний'\n",
    "    elif 1 < floor < floors_total:\n",
    "        return 'другой'\n",
    "data['floor_category'] = data.apply(floor_category, axis = 1)    \n",
    "data['area_coef'] = data['living_area']/data['total_area']\n",
    "data['area_coef_kitchen'] = data['kitchen_area']/data['total_area']"
   ]
  },
  {
   "cell_type": "markdown",
   "metadata": {},
   "source": [
    "<div class=\"alert alert-info\">\n",
    "<font color='black'> <b> Добавлены новые столбцы для удобства,  выполнена категоризация данных по этажам </font> <b> "
   ]
  },
  {
   "cell_type": "markdown",
   "metadata": {},
   "source": [
    "<div class=\"alert alert-success\">\n",
    "<b>Комментарий ревьюера ✔️:</b> Великолепно, все пункты задания выполнены в полном объёме"
   ]
  },
  {
   "cell_type": "markdown",
   "metadata": {},
   "source": [
    "## Исследовательский анализ данных"
   ]
  },
  {
   "cell_type": "code",
   "execution_count": 4,
   "metadata": {},
   "outputs": [
    {
     "data": {
      "text/plain": [
       "<AxesSubplot:ylabel='Frequency'>"
      ]
     },
     "execution_count": 4,
     "metadata": {},
     "output_type": "execute_result"
    },
    {
     "data": {
      "image/png": "[encoded data removed]",
      "text/plain": [
       "<Figure size 1008x504 with 1 Axes>"
      ]
     },
     "metadata": {
      "needs_background": "light"
     },
     "output_type": "display_data"
    },
    {
     "data": {
      "image/png": "[encoded data removed]",
      "text/plain": [
       "<Figure size 1008x504 with 1 Axes>"
      ]
     },
     "metadata": {
      "needs_background": "light"
     },
     "output_type": "display_data"
    },
    {
     "data": {
      "image/png": "[encoded data removed]",
      "text/plain": [
       "<Figure size 1008x504 with 1 Axes>"
      ]
     },
     "metadata": {
      "needs_background": "light"
     },
     "output_type": "display_data"
    },
    {
     "data": {
      "image/png": "[encoded data removed]",
      "text/plain": [
       "<Figure size 1008x504 with 1 Axes>"
      ]
     },
     "metadata": {
      "needs_background": "light"
     },
     "output_type": "display_data"
    }
   ],
   "source": [
    "data.plot(y ='total_area', kind = 'hist', bins = 100, grid=True, figsize = (14,7), range = (0,500))\n",
    "data.plot(y ='last_price', kind = 'hist', bins = 100, grid=True, figsize = (14,7), range = (0,30000000))\n",
    "data.plot(y ='rooms', kind = 'hist', bins = 100, grid=True, figsize = (14,7), range = (0,20))\n",
    "data.plot(y ='ceiling_height', kind = 'hist', bins = 50, grid=True, figsize = (14,7), range = (0,8))"
   ]
  },
  {
   "cell_type": "markdown",
   "metadata": {},
   "source": [
    "<div class=\"alert alert-info\">\n",
    "<font color='black'> <b> \n",
    "1. Общая площадь в большинстве случаев колеблется в диапазоне 45-50 м2\n",
    "\n",
    "2. Цены на недвижимость в большинстве случаев составляет 4 млн руб.\n",
    "\n",
    "3. Число комнат в наибольшем количестве случаев это одна комната.\n",
    "\n",
    "4. Высота потолков в наибольшем количестве случаев составляет 2,5 м.\n",
    "\n",
    "Во всех данных есть странные значения, например 0 комнат, высоты потолков в 1 или 100 метров, а также цена квартиры в 12190 рублей. </font> <b> "
   ]
  },
  {
   "cell_type": "markdown",
   "metadata": {},
   "source": [
    "<div class=\"alert alert-success\">\n",
    "<b>Комментарий ревьюера ✔️:</b> Согласен, все верно"
   ]
  },
  {
   "cell_type": "code",
   "execution_count": 5,
   "metadata": {},
   "outputs": [
    {
     "data": {
      "text/plain": [
       "count    20518.000000\n",
       "mean       180.888634\n",
       "std        219.727988\n",
       "min          1.000000\n",
       "25%         45.000000\n",
       "50%         95.000000\n",
       "75%        232.000000\n",
       "max       1580.000000\n",
       "Name: days_exposition, dtype: float64"
      ]
     },
     "execution_count": 5,
     "metadata": {},
     "output_type": "execute_result"
    },
    {
     "data": {
      "image/png": "[encoded data removed]",
      "text/plain": [
       "<Figure size 1008x504 with 1 Axes>"
      ]
     },
     "metadata": {
      "needs_background": "light"
     },
     "output_type": "display_data"
    },
    {
     "data": {
      "image/png": "[encoded data removed]",
      "text/plain": [
       "<Figure size 1008x504 with 1 Axes>"
      ]
     },
     "metadata": {
      "needs_background": "light"
     },
     "output_type": "display_data"
    }
   ],
   "source": [
    "\n",
    "data.plot(y ='days_exposition', kind = 'hist', bins = 100, grid=True, figsize = (14,7))\n",
    "data.plot(y ='days_exposition', kind = 'hist', bins = 100, grid=True, figsize = (14,7), range=(0,100))\n",
    "data['days_exposition'].describe()\n",
    "\n",
    "\n"
   ]
  },
  {
   "cell_type": "markdown",
   "metadata": {},
   "source": [
    "<div class=\"alert alert-info\">\n",
    "<font color='black'> <b> \n",
    "Среднее значение времени продажи - 180 дней, медиана - 95 дней. Есть аномальные пики на 45 и 60 днях. Между квартилями разница около 190, \"усы\" это 1.5*190=285, граница нормальных значений - 190+285=517. Дольше 517 дней - слишком долгая продажа  </font> <b> "
   ]
  },
  {
   "cell_type": "markdown",
   "metadata": {},
   "source": [
    "<div class=\"alert alert-success\">\n",
    "<b>Комментарий ревьюера ✔️:</b> Тут все тоже очень хорошо"
   ]
  },
  {
   "cell_type": "code",
   "execution_count": 6,
   "metadata": {},
   "outputs": [
    {
     "data": {
      "text/plain": [
       "count    19980.000000\n",
       "mean       184.143794\n",
       "std        221.757454\n",
       "min          1.000000\n",
       "25%         44.000000\n",
       "50%        100.000000\n",
       "75%        238.000000\n",
       "max       1580.000000\n",
       "Name: days_exposition, dtype: float64"
      ]
     },
     "execution_count": 6,
     "metadata": {},
     "output_type": "execute_result"
    },
    {
     "data": {
      "image/png": "[encoded data removed]",
      "text/plain": [
       "<Figure size 1008x504 with 1 Axes>"
      ]
     },
     "metadata": {
      "needs_background": "light"
     },
     "output_type": "display_data"
    },
    {
     "data": {
      "image/png": "[encoded data removed]",
      "text/plain": [
       "<Figure size 1008x504 with 1 Axes>"
      ]
     },
     "metadata": {
      "needs_background": "light"
     },
     "output_type": "display_data"
    },
    {
     "data": {
      "image/png": "[encoded data removed]",
      "text/plain": [
       "<Figure size 1008x504 with 1 Axes>"
      ]
     },
     "metadata": {
      "needs_background": "light"
     },
     "output_type": "display_data"
    },
    {
     "data": {
      "image/png": "[encoded data removed]",
      "text/plain": [
       "<Figure size 1008x504 with 1 Axes>"
      ]
     },
     "metadata": {
      "needs_background": "light"
     },
     "output_type": "display_data"
    }
   ],
   "source": [
    "\n",
    "filter_data_last_price = data.query('last_price <20000000')\n",
    "filter_data_last_price.plot(y ='last_price', kind = 'hist', bins = 100, grid=True, figsize = (14,7), range=(0,40000000))\n",
    "\n",
    "filter_data_cityCenters_nearest = data.query('cityCenters_nearest <40000')\n",
    "filter_data_cityCenters_nearest.plot(y ='cityCenters_nearest', kind = 'hist', bins = 100, grid=True, figsize = (14,7), range=(0,90000))\n",
    "\n",
    "filter_data_total_area = data.query('total_area <150')\n",
    "filter_data_total_area.plot(y ='total_area', kind = 'hist', bins = 100, grid=True, figsize = (14,7), range=(0,1000))\n",
    "\n",
    "filter_data = data.query('days_exposition != 60 and days_exposition != 45')\n",
    "filter_data.plot(y ='days_exposition', kind = 'hist', bins = 100, grid=True, figsize = (14,7), range=(0,100))\n",
    "\n",
    "filter_data['days_exposition'].describe()\n"
   ]
  },
  {
   "cell_type": "markdown",
   "metadata": {},
   "source": [
    "<div class=\"alert alert-info\">\n",
    "<font color='black'> <b> \n",
    "Убрав аномальные значения, получаем, что среднее значение времени продажи и медиана увеличились после очистки данных, что логично.   </font> <b> "
   ]
  },
  {
   "cell_type": "markdown",
   "metadata": {},
   "source": [
    "<div class=\"alert alert-danger\">\n",
    "<b>Комментарий ревьюера ❌:</b> \"Редких и выбивающиеся\" значения стоит убрать не только из столбца days_exposition. Дополни пожалуйста этот раздел работы\n",
    "<div class=\"alert alert-info\"> <b>Комментарий студента:</b> Добавил срезы редких значений по цене, площади, расстоянию до центра. Остальные столбцы в либо не нужны в расчетах либо там нет таких редких и выбивающихся значений</div>"
   ]
  },
  {
   "cell_type": "markdown",
   "metadata": {},
   "source": [
    "<div class=\"alert alert-success\">\n",
    "<b>Комментарий ревьюера v 2.0 ✔️:</b> Отлично!"
   ]
  },
  {
   "cell_type": "code",
   "execution_count": 7,
   "metadata": {},
   "outputs": [
    {
     "data": {
      "text/plain": [
       "<AxesSubplot:xlabel='year'>"
      ]
     },
     "execution_count": 7,
     "metadata": {},
     "output_type": "execute_result"
    },
    {
     "data": {
      "image/png": "[encoded data removed]",
      "text/plain": [
       "<Figure size 720x360 with 1 Axes>"
      ]
     },
     "metadata": {
      "needs_background": "light"
     },
     "output_type": "display_data"
    },
    {
     "data": {
      "image/png": "[encoded data removed]",
      "text/plain": [
       "<Figure size 720x360 with 1 Axes>"
      ]
     },
     "metadata": {
      "needs_background": "light"
     },
     "output_type": "display_data"
    },
    {
     "data": {
      "image/png": "[encoded data removed]",
      "text/plain": [
       "<Figure size 720x360 with 1 Axes>"
      ]
     },
     "metadata": {
      "needs_background": "light"
     },
     "output_type": "display_data"
    },
    {
     "data": {
      "image/png": "[encoded data removed]",
      "text/plain": [
       "<Figure size 720x360 with 1 Axes>"
      ]
     },
     "metadata": {
      "needs_background": "light"
     },
     "output_type": "display_data"
    },
    {
     "data": {
      "image/png": "[encoded data removed]",
      "text/plain": [
       "<Figure size 720x360 with 1 Axes>"
      ]
     },
     "metadata": {
      "needs_background": "light"
     },
     "output_type": "display_data"
    },
    {
     "data": {
      "image/png": "[encoded data removed]",
      "text/plain": [
       "<Figure size 720x360 with 1 Axes>"
      ]
     },
     "metadata": {
      "needs_background": "light"
     },
     "output_type": "display_data"
    },
    {
     "data": {
      "image/png": "[encoded data removed]",
      "text/plain": [
       "<Figure size 720x360 with 1 Axes>"
      ]
     },
     "metadata": {
      "needs_background": "light"
     },
     "output_type": "display_data"
    }
   ],
   "source": [
    "pivot_table_total_area = data.pivot_table(index = 'total_area', values = 'price_square_meter', aggfunc='median')\n",
    "pivot_table_total_area.plot(grid=True, figsize=(10, 5), style = 'x')\n",
    "data['total_area'].corr(data['price_square_meter'])  \n",
    "pivot_table_room = data.query('price_square_meter<200000 & rooms<15').pivot_table(index = 'rooms', values = 'price_square_meter')\n",
    "pivot_table_room.plot(grid=True, figsize=(10, 5), style = 'x')\n",
    "data['rooms'].corr(data['price_square_meter'])\n",
    "pivot_table_cityCenters_nearest = data.pivot_table(index = 'cityCenters_nearest', values = 'price_square_meter')\n",
    "pivot_table_cityCenters_nearest.plot(grid=True, figsize=(10, 5), style = 'x')\n",
    "data['cityCenters_nearest'].corr(data['price_square_meter'])\n",
    "pivot_table_floor = data.pivot_table(index = 'floor_category', values = 'price_square_meter')\n",
    "pivot_table_floor.plot(grid=True, figsize=(10, 5))\n",
    "pivot_table_weekday = data.pivot_table(index = 'weekday', values = 'price_square_meter')\n",
    "pivot_table_weekday.plot(grid=True, figsize=(10, 5))\n",
    "pivot_table_month = data.pivot_table(index = 'month', values = 'price_square_meter')\n",
    "pivot_table_month.plot(grid=True, figsize=(10, 5))\n",
    "pivot_table_year = data.pivot_table(index = 'year', values = 'price_square_meter')\n",
    "pivot_table_year.plot(grid=True, figsize=(10, 5))\n",
    "\n",
    "\n"
   ]
  },
  {
   "cell_type": "markdown",
   "metadata": {},
   "source": [
    "<div class=\"alert alert-info\">\n",
    "<font color='black'> <b> \n",
    "Описание полученных зависимостей:\n",
    "    *1*. Зависимость цены от площади: Корреляция составила 0.3 - зависимость минимальная. При увеличении площади квартиры цена далеко не всегда выше\n",
    "    *2*. Зависимость цены от количества комнат: Зависимость имеется при количестве комнат < 6, если количество комнат приближается к 3, то стоимость падает. \n",
    "    *3*. Зависимость цены от удаленность от центра: Корреляция составила -0.31 - зависимость минимальная, но по графику видно, что чем ближе к центру, тем выше стоимость квартиры.  \n",
    "    *4*. Зависимость цены от этажа: Видна четкая зависимость - 1 этаж самый дешевый, последний - дороже, если не первый и не последний - самая высокая цена. \n",
    "    *5*. Зависимость цены от времени продажи: По субботам - самая низкая стоимость. В апреле и августе  - пики цен на квадратный метр (а летом ниже, видимо все в отпусках). С 2014 по 2018 наблюдалось снижение цены                                                                                        \n",
    "                                                                                              </font> <b> "
   ]
  },
  {
   "cell_type": "markdown",
   "metadata": {},
   "source": [
    "<div class=\"alert alert-success\">\n",
    "<b>Комментарий ревьюера ✔️:</b> Все правильно, молодец!"
   ]
  },
  {
   "cell_type": "markdown",
   "metadata": {},
   "source": [
    "<div class=\"alert alert-warning\">\n",
    "<b>Комментарий ревьюера ⚠️:</b> Заметь, ячейки в тетрадке исполняются не по порядку. Перед отправкой проекта на проверку его стоит перезапускать через Kernel - Restart & Runall \n",
    "<div class=\"alert alert-info\"> <b>Комментарий студента:</b> сделано</div>"
   ]
  },
  {
   "cell_type": "markdown",
   "metadata": {},
   "source": [
    "<div class=\"alert alert-success\">\n",
    "<b>Комментарий ревьюера v 2.0 ✔️:</b> Рад помочь)"
   ]
  },
  {
   "cell_type": "code",
   "execution_count": 8,
   "metadata": {},
   "outputs": [
    {
     "data": {
      "text/html": [
       "<div>\n",
       "<style scoped>\n",
       "    .dataframe tbody tr th:only-of-type {\n",
       "        vertical-align: middle;\n",
       "    }\n",
       "\n",
       "    .dataframe tbody tr th {\n",
       "        vertical-align: top;\n",
       "    }\n",
       "\n",
       "    .dataframe thead th {\n",
       "        text-align: right;\n",
       "    }\n",
       "</style>\n",
       "<table border=\"1\" class=\"dataframe\">\n",
       "  <thead>\n",
       "    <tr style=\"text-align: right;\">\n",
       "      <th></th>\n",
       "      <th>count</th>\n",
       "      <th>mean</th>\n",
       "    </tr>\n",
       "    <tr>\n",
       "      <th>locality_name</th>\n",
       "      <th></th>\n",
       "      <th></th>\n",
       "    </tr>\n",
       "  </thead>\n",
       "  <tbody>\n",
       "    <tr>\n",
       "      <th>Санкт-Петербург</th>\n",
       "      <td>15721</td>\n",
       "      <td>114848.565231</td>\n",
       "    </tr>\n",
       "    <tr>\n",
       "      <th>посёлок Мурино</th>\n",
       "      <td>522</td>\n",
       "      <td>85751.733716</td>\n",
       "    </tr>\n",
       "    <tr>\n",
       "      <th>посёлок Шушары</th>\n",
       "      <td>440</td>\n",
       "      <td>78676.904545</td>\n",
       "    </tr>\n",
       "    <tr>\n",
       "      <th>Всеволожск</th>\n",
       "      <td>398</td>\n",
       "      <td>68654.007538</td>\n",
       "    </tr>\n",
       "    <tr>\n",
       "      <th>Пушкин</th>\n",
       "      <td>369</td>\n",
       "      <td>103125.373984</td>\n",
       "    </tr>\n",
       "    <tr>\n",
       "      <th>Колпино</th>\n",
       "      <td>338</td>\n",
       "      <td>75424.150888</td>\n",
       "    </tr>\n",
       "    <tr>\n",
       "      <th>посёлок Парголово</th>\n",
       "      <td>327</td>\n",
       "      <td>90175.489297</td>\n",
       "    </tr>\n",
       "    <tr>\n",
       "      <th>Гатчина</th>\n",
       "      <td>307</td>\n",
       "      <td>68745.693811</td>\n",
       "    </tr>\n",
       "    <tr>\n",
       "      <th>деревня Кудрово</th>\n",
       "      <td>299</td>\n",
       "      <td>92473.086957</td>\n",
       "    </tr>\n",
       "    <tr>\n",
       "      <th>Выборг</th>\n",
       "      <td>237</td>\n",
       "      <td>58141.489451</td>\n",
       "    </tr>\n",
       "  </tbody>\n",
       "</table>\n",
       "</div>"
      ],
      "text/plain": [
       "                   count           mean\n",
       "locality_name                          \n",
       "Санкт-Петербург    15721  114848.565231\n",
       "посёлок Мурино       522   85751.733716\n",
       "посёлок Шушары       440   78676.904545\n",
       "Всеволожск           398   68654.007538\n",
       "Пушкин               369  103125.373984\n",
       "Колпино              338   75424.150888\n",
       "посёлок Парголово    327   90175.489297\n",
       "Гатчина              307   68745.693811\n",
       "деревня Кудрово      299   92473.086957\n",
       "Выборг               237   58141.489451"
      ]
     },
     "metadata": {},
     "output_type": "display_data"
    }
   ],
   "source": [
    "local_pivot_table = data.pivot_table(index = 'locality_name', values = 'price_square_meter', aggfunc=['count', 'mean'])\n",
    "local_pivot_table.columns = ['count', 'mean']\n",
    "local_pivot_table = local_pivot_table.sort_values(by='count', ascending = False).head(10)\n",
    "display(local_pivot_table)"
   ]
  },
  {
   "cell_type": "markdown",
   "metadata": {},
   "source": [
    "<div class=\"alert alert-info\">\n",
    "<font color='black'> <b> \n",
    "Cамая высокая цена за квадратный метр из наиболее частых объявлений - в Санкт-Петербурге, самая низкая - в Выборге.                                   </font> <b> "
   ]
  },
  {
   "cell_type": "markdown",
   "metadata": {},
   "source": [
    "<div class=\"alert alert-success\">\n",
    "<b>Комментарий ревьюера ✔️:</b> Ты верно ответил на вопрос задания"
   ]
  },
  {
   "cell_type": "code",
   "execution_count": 9,
   "metadata": {},
   "outputs": [
    {
     "data": {
      "text/plain": [
       "<AxesSubplot:xlabel='cityCenters_nearest_km'>"
      ]
     },
     "execution_count": 9,
     "metadata": {},
     "output_type": "execute_result"
    },
    {
     "data": {
      "image/png": "[encoded data removed]",
      "text/plain": [
       "<Figure size 720x360 with 1 Axes>"
      ]
     },
     "metadata": {
      "needs_background": "light"
     },
     "output_type": "display_data"
    }
   ],
   "source": [
    "data['cityCenters_nearest_km'] = data['cityCenters_nearest']/1000\n",
    "data['cityCenters_nearest_km'] = data['cityCenters_nearest_km'].fillna(0)\n",
    "data['cityCenters_nearest_km'] = data['cityCenters_nearest_km'].astype('int')\n",
    "pivot_table_km = data.query('locality_name == \"Санкт-Петербург\" and cityCenters_nearest_km !=0').pivot_table(index = 'cityCenters_nearest_km', values = 'price_square_meter', aggfunc = 'mean')\n",
    "pivot_table_km.plot(grid=True, figsize=(10, 5))\n"
   ]
  },
  {
   "cell_type": "markdown",
   "metadata": {},
   "source": [
    "<div class=\"alert alert-info\">\n",
    "<font color='black'> <b> \n",
    "На построенном графике видно, что при значениях около 7 километров цена начинает резко идти наверх - видимо радиус в 7 километра и есть центр города.                                   </font> <b> "
   ]
  },
  {
   "cell_type": "markdown",
   "metadata": {},
   "source": [
    "<div class=\"alert alert-warning\">\n",
    "<b>Комментарий ревьюера ⚠️:</b> Все же значение в 6-7км на графике чуть больше похоже на правду, к тому же 2.5 километра это скорее всего маловато для такого крупного города, как Петербург. Но в целом, твоё решение тоже вполне возможно"
   ]
  },
  {
   "cell_type": "code",
   "execution_count": 10,
   "metadata": {},
   "outputs": [
    {
     "data": {
      "text/plain": [
       "<AxesSubplot:xlabel='year'>"
      ]
     },
     "execution_count": 10,
     "metadata": {},
     "output_type": "execute_result"
    },
    {
     "data": {
      "image/png": "[encoded data removed]",
      "text/plain": [
       "<Figure size 720x360 with 1 Axes>"
      ]
     },
     "metadata": {
      "needs_background": "light"
     },
     "output_type": "display_data"
    },
    {
     "data": {
      "image/png": "[encoded data removed]",
      "text/plain": [
       "<Figure size 720x360 with 1 Axes>"
      ]
     },
     "metadata": {
      "needs_background": "light"
     },
     "output_type": "display_data"
    },
    {
     "data": {
      "image/png": "[encoded data removed]",
      "text/plain": [
       "<Figure size 720x360 with 1 Axes>"
      ]
     },
     "metadata": {
      "needs_background": "light"
     },
     "output_type": "display_data"
    },
    {
     "data": {
      "image/png": "[encoded data removed]",
      "text/plain": [
       "<Figure size 720x360 with 1 Axes>"
      ]
     },
     "metadata": {
      "needs_background": "light"
     },
     "output_type": "display_data"
    },
    {
     "data": {
      "image/png": "[encoded data removed]",
      "text/plain": [
       "<Figure size 720x360 with 1 Axes>"
      ]
     },
     "metadata": {
      "needs_background": "light"
     },
     "output_type": "display_data"
    },
    {
     "data": {
      "image/png": "[encoded data removed]",
      "text/plain": [
       "<Figure size 720x360 with 1 Axes>"
      ]
     },
     "metadata": {
      "needs_background": "light"
     },
     "output_type": "display_data"
    }
   ],
   "source": [
    "spb_centre = data.query('cityCenters_nearest_km <= 3 and locality_name == \"Санкт-Петербург\"')\n",
    "pivot_table_total_area_spb_centre = spb_centre.pivot_table(index = 'total_area', values = 'price_square_meter', aggfunc='median')\n",
    "pivot_table_total_area_spb_centre.plot(grid=True, figsize=(10, 5), style = 'x')\n",
    "\n",
    "pivot_table_room_spb_centre = spb_centre.pivot_table(index = 'rooms', values = 'price_square_meter')\n",
    "pivot_table_room_spb_centre.plot(grid=True, figsize=(10, 5), style = 'x-')\n",
    "\n",
    "\n",
    "pivot_table_floor_spb_centre = spb_centre.pivot_table(index = 'floor_category', values = 'price_square_meter')\n",
    "pivot_table_floor_spb_centre.plot(grid=True, figsize=(10, 5))\n",
    "\n",
    "pivot_table_weekday_spb_centre = spb_centre.pivot_table(index = 'weekday', values = 'price_square_meter')\n",
    "pivot_table_weekday_spb_centre.plot(grid=True, figsize=(10, 5))\n",
    "\n",
    "pivot_table_month_spb_centre = spb_centre.pivot_table(index = 'month', values = 'price_square_meter')\n",
    "pivot_table_month_spb_centre.plot(grid=True, figsize=(10, 5))\n",
    "\n",
    "pivot_table_year_spb_centre = spb_centre.pivot_table(index = 'year', values = 'price_square_meter')\n",
    "pivot_table_year_spb_centre.plot(grid=True, figsize=(10, 5))\n",
    "\n"
   ]
  },
  {
   "cell_type": "markdown",
   "metadata": {},
   "source": [
    "<div class=\"alert alert-info\">\n",
    "<font color='black'> <b> \n",
    "    Описание полученных зависимостей по центру СПБ:\n",
    "    *1*. Зависимость цены от площади: Разницы с общими данными нет\n",
    "    *2*. Зависимость цены от количества комнат: Имеются пики при количестве комнат от 7 до 10, зависимости не видно. \n",
    "    *3*. Зависимость цены от этажа: Видна четкая зависимость - 1 этаж самый дешевый, последний - дороже, если не первый и не последний - самая высокая цена (как и в общих данных) \n",
    "    *4*. Зависимость цены от времени продажи: По пятницам - самая высокая стоимость - не совпадает с общими данными. В апреле и августе  - пики цен на квадратный метр (а летом ниже, видимо все в отпусках - совпадает с общими данными). С 2014 по 2016 наблюдалось снижение цены, в 2017 был рост - не совпадает с общими данными  </font> <b>  "
   ]
  },
  {
   "cell_type": "markdown",
   "metadata": {},
   "source": [
    "<div class=\"alert alert-success\">\n",
    "<b>Комментарий ревьюера ✔️:</b> Молодец, что сравнил результаты по пунктам, все отлично"
   ]
  },
  {
   "cell_type": "markdown",
   "metadata": {},
   "source": []
  },
  {
   "cell_type": "markdown",
   "metadata": {},
   "source": [
    "## Общий вывод"
   ]
  },
  {
   "cell_type": "markdown",
   "metadata": {},
   "source": [
    "<div class=\"alert alert-info\">\n",
    "<font color='black'> <b> Было выявлено, что на стоимость квадратного метра квартиры больше всего влияют количество комнат, этаж квартиры, близость к центру. Незначительно на стоимость квадратного метра влияют день, месяц, год размещения и общая площадь. </font> <b>  "
   ]
  },
  {
   "cell_type": "markdown",
   "metadata": {},
   "source": [
    "<div class=\"alert alert-success\">\n",
    "<b>Комментарий ревьюера ✔️:</b> Супер, хорошие выводы"
   ]
  },
  {
   "cell_type": "markdown",
   "metadata": {},
   "source": [
    "<div class=\"alert alert-success\">\n",
    "<b>Комментарий ревьюера ✔️:</b> Александр, проект отличный! У тебя очень сильные аналитические навыки и владение инструментами для проведения исследования. Но всё же в проекте есть несколько замечаний и я попрошу тебя исправить их, чтобы он стал еще лучше! </div>"
   ]
  },
  {
   "cell_type": "markdown",
   "metadata": {},
   "source": [
    "## Чек-лист готовности проекта\n",
    "\n",
    "Поставьте 'x' в выполненных пунктах. Далее нажмите Shift+Enter."
   ]
  },
  {
   "cell_type": "markdown",
   "metadata": {},
   "source": [
    "- [x]  открыт файл\n",
    "- [x]  файлы изучены (выведены первые строки, метод `info()`)\n",
    "- [x]  определены пропущенные значения\n",
    "- [x]  заполнены пропущенные значения\n",
    "- [x]  есть пояснение, какие пропущенные значения обнаружены\n",
    "- [x]  изменены типы данных\n",
    "- [x]  есть пояснение, в каких столбцах изменены типы и почему\n",
    "- [x]  посчитано и добавлено в таблицу: цена квадратного метра\n",
    "- [x]  посчитано и добавлено в таблицу: день недели, месяц и год публикации объявления\n",
    "- [x]  посчитано и добавлено в таблицу: этаж квартиры; варианты — первый, последний, другой\n",
    "- [x]  посчитано и добавлено в таблицу: соотношение жилой и общей площади, а также отношение площади кухни к общей\n",
    "- [x]  изучены следующие параметры: площадь, цена, число комнат, высота потолков\n",
    "- [x]  построены гистограммы для каждого параметра\n",
    "- [x]  выполнено задание: «Изучите время продажи квартиры. Постройте гистограмму. Посчитайте среднее и медиану. Опишите, сколько обычно занимает продажа. Когда можно считать, что продажи прошли очень быстро, а когда необычно долго?»\n",
    "- [x]  выполнено задание: «Уберите редкие и выбивающиеся значения. Опишите, какие особенности обнаружили».\n",
    "- [x]  выполнено задание: «Какие факторы больше всего влияют на стоимость квартиры? Изучите, зависит ли цена от квадратного метра, числа комнат, этажа (первого или последнего), удалённости от центра. Также изучите зависимость от даты размещения: дня недели, месяца и года». \n",
    "- [x]  выполнено задание: «Выберите 10 населённых пунктов с наибольшим числом объявлений. Посчитайте среднюю цену квадратного метра в этих населённых пунктах. Выделите населённые пункты с самой высокой и низкой стоимостью жилья. Эти данные можно найти по имени в столбце `locality_name`».\n",
    "- [x]  выполнено задание: «Изучите предложения квартир: для каждой квартиры есть информация о расстоянии до центра. Выделите квартиры в Санкт-Петербурге (`locality_name`). Ваша задача — выяснить, какая область входит в центр. Создайте столбец с расстоянием до центра в километрах: округлите до целых значений. После этого посчитайте среднюю цену для каждого километра. Постройте график: он должен показывать, как цена зависит от удалённости от центра. Определите границу, где график сильно меняется — это и будет центральная зона».\n",
    "- [x]  выполнено задание: «Выделите сегмент квартир в центре. Проанализируйте эту территорию и изучите следующие параметры: площадь, цена, число комнат, высота потолков. Также выделите факторы, которые влияют на стоимость квартиры (число комнат, этаж, удалённость от центра, дата размещения объявления). Сделайте выводы. Отличаются ли они от общих выводов по всей базе?»\n",
    "- [x]  в каждом этапе есть выводы\n",
    "- [x]  есть общий вывод"
   ]
  },
  {
   "cell_type": "code",
   "execution_count": null,
   "metadata": {},
   "outputs": [],
   "source": []
  }
 ],
 "metadata": {
  "ExecuteTimeLog": [
   {
    "duration": 749,
    "start_time": "2022-03-10T16:57:37.244Z"
   },
   {
    "duration": 62,
    "start_time": "2022-03-10T16:58:37.197Z"
   },
   {
    "duration": 66,
    "start_time": "2022-03-10T17:00:21.094Z"
   },
   {
    "duration": 687,
    "start_time": "2022-03-10T17:00:29.244Z"
   },
   {
    "duration": 59,
    "start_time": "2022-03-10T17:00:48.609Z"
   },
   {
    "duration": 62,
    "start_time": "2022-03-10T17:01:05.230Z"
   },
   {
    "duration": 61,
    "start_time": "2022-03-10T17:01:12.212Z"
   },
   {
    "duration": 59,
    "start_time": "2022-03-10T17:02:41.576Z"
   },
   {
    "duration": 2182,
    "start_time": "2022-03-10T17:03:10.617Z"
   },
   {
    "duration": 60,
    "start_time": "2022-03-10T17:03:17.080Z"
   },
   {
    "duration": 66,
    "start_time": "2022-03-10T17:03:34.956Z"
   },
   {
    "duration": 80,
    "start_time": "2022-03-10T17:03:55.485Z"
   },
   {
    "duration": 66,
    "start_time": "2022-03-10T17:04:04.290Z"
   },
   {
    "duration": 72,
    "start_time": "2022-03-10T17:04:08.072Z"
   },
   {
    "duration": 75,
    "start_time": "2022-03-10T17:04:25.747Z"
   },
   {
    "duration": 83,
    "start_time": "2022-03-10T17:04:31.535Z"
   },
   {
    "duration": 73,
    "start_time": "2022-03-10T17:04:36.782Z"
   },
   {
    "duration": 4459,
    "start_time": "2022-03-10T17:05:00.301Z"
   },
   {
    "duration": 62,
    "start_time": "2022-03-10T17:05:10.656Z"
   },
   {
    "duration": 59,
    "start_time": "2022-03-10T17:05:31.810Z"
   },
   {
    "duration": 83,
    "start_time": "2022-03-10T17:05:37.397Z"
   },
   {
    "duration": 58,
    "start_time": "2022-03-10T17:06:03.871Z"
   },
   {
    "duration": 65,
    "start_time": "2022-03-10T17:06:12.142Z"
   },
   {
    "duration": 93,
    "start_time": "2022-03-10T17:08:06.484Z"
   },
   {
    "duration": 90,
    "start_time": "2022-03-10T17:08:18.979Z"
   },
   {
    "duration": 217,
    "start_time": "2022-03-10T17:18:28.415Z"
   },
   {
    "duration": 97,
    "start_time": "2022-03-10T17:24:53.006Z"
   },
   {
    "duration": 90,
    "start_time": "2022-03-10T17:25:20.070Z"
   },
   {
    "duration": 88,
    "start_time": "2022-03-10T17:25:28.951Z"
   },
   {
    "duration": 91,
    "start_time": "2022-03-10T17:26:05.967Z"
   },
   {
    "duration": 90,
    "start_time": "2022-03-10T17:26:23.821Z"
   },
   {
    "duration": 98,
    "start_time": "2022-03-10T17:26:44.294Z"
   },
   {
    "duration": 93,
    "start_time": "2022-03-10T17:27:10.297Z"
   },
   {
    "duration": 88,
    "start_time": "2022-03-10T17:27:24.555Z"
   },
   {
    "duration": 103,
    "start_time": "2022-03-10T17:28:04.350Z"
   },
   {
    "duration": 78,
    "start_time": "2022-03-10T17:29:33.793Z"
   },
   {
    "duration": 132,
    "start_time": "2022-03-10T17:29:39.832Z"
   },
   {
    "duration": 109,
    "start_time": "2022-03-10T17:33:05.024Z"
   },
   {
    "duration": 111,
    "start_time": "2022-03-10T17:33:54.655Z"
   },
   {
    "duration": 97,
    "start_time": "2022-03-10T17:33:57.441Z"
   },
   {
    "duration": 97,
    "start_time": "2022-03-10T17:34:32.239Z"
   },
   {
    "duration": 101,
    "start_time": "2022-03-10T17:34:49.263Z"
   },
   {
    "duration": 99,
    "start_time": "2022-03-10T17:37:51.608Z"
   },
   {
    "duration": 97,
    "start_time": "2022-03-10T17:38:18.282Z"
   },
   {
    "duration": 107,
    "start_time": "2022-03-10T17:38:42.415Z"
   },
   {
    "duration": 146,
    "start_time": "2022-03-10T17:39:24.617Z"
   },
   {
    "duration": 99,
    "start_time": "2022-03-10T17:39:47.201Z"
   },
   {
    "duration": 103,
    "start_time": "2022-03-10T17:40:29.598Z"
   },
   {
    "duration": 5889,
    "start_time": "2022-03-10T17:40:51.035Z"
   },
   {
    "duration": 106,
    "start_time": "2022-03-10T17:41:05.760Z"
   },
   {
    "duration": 267,
    "start_time": "2022-03-10T17:43:36.714Z"
   },
   {
    "duration": 262,
    "start_time": "2022-03-10T17:44:06.794Z"
   },
   {
    "duration": 272,
    "start_time": "2022-03-10T17:45:47.858Z"
   },
   {
    "duration": 239,
    "start_time": "2022-03-10T17:57:35.398Z"
   },
   {
    "duration": 276,
    "start_time": "2022-03-10T17:59:22.622Z"
   },
   {
    "duration": 82,
    "start_time": "2022-03-10T17:59:44.097Z"
   },
   {
    "duration": 5660,
    "start_time": "2022-03-10T18:00:16.941Z"
   },
   {
    "duration": 285,
    "start_time": "2022-03-10T18:00:35.616Z"
   },
   {
    "duration": 249,
    "start_time": "2022-03-10T18:01:01.280Z"
   },
   {
    "duration": 237,
    "start_time": "2022-03-10T18:02:06.144Z"
   },
   {
    "duration": 41,
    "start_time": "2022-03-10T18:02:18.006Z"
   },
   {
    "duration": 48,
    "start_time": "2022-03-10T18:02:23.256Z"
   },
   {
    "duration": 40,
    "start_time": "2022-03-10T18:02:48.729Z"
   },
   {
    "duration": 43,
    "start_time": "2022-03-10T18:03:28.890Z"
   },
   {
    "duration": 58,
    "start_time": "2022-03-10T18:04:23.114Z"
   },
   {
    "duration": 41,
    "start_time": "2022-03-10T18:05:10.121Z"
   },
   {
    "duration": 37,
    "start_time": "2022-03-10T18:05:21.162Z"
   },
   {
    "duration": 717,
    "start_time": "2022-03-10T18:05:48.314Z"
   },
   {
    "duration": 55,
    "start_time": "2022-03-10T18:05:56.406Z"
   },
   {
    "duration": 53,
    "start_time": "2022-03-10T18:06:39.648Z"
   },
   {
    "duration": 86,
    "start_time": "2022-03-10T18:07:46.869Z"
   },
   {
    "duration": 99,
    "start_time": "2022-03-10T18:08:28.784Z"
   },
   {
    "duration": 138,
    "start_time": "2022-03-10T18:08:58.212Z"
   },
   {
    "duration": 159,
    "start_time": "2022-03-10T18:09:37.565Z"
   },
   {
    "duration": 231,
    "start_time": "2022-03-10T18:10:58.270Z"
   },
   {
    "duration": 256,
    "start_time": "2022-03-10T18:12:43.979Z"
   },
   {
    "duration": 46,
    "start_time": "2022-03-10T18:16:34.690Z"
   },
   {
    "duration": 702,
    "start_time": "2022-03-10T18:16:57.296Z"
   },
   {
    "duration": 52,
    "start_time": "2022-03-10T18:17:02.479Z"
   },
   {
    "duration": 287,
    "start_time": "2022-03-10T18:18:23.685Z"
   },
   {
    "duration": 313,
    "start_time": "2022-03-10T18:20:11.425Z"
   },
   {
    "duration": 11,
    "start_time": "2022-03-10T18:20:17.765Z"
   },
   {
    "duration": 51,
    "start_time": "2022-03-10T18:20:28.849Z"
   },
   {
    "duration": 99,
    "start_time": "2022-03-10T18:20:43.799Z"
   },
   {
    "duration": 76,
    "start_time": "2022-03-10T18:21:08.830Z"
   },
   {
    "duration": 233,
    "start_time": "2022-03-10T18:25:27.091Z"
   },
   {
    "duration": 49,
    "start_time": "2022-03-10T18:25:45.994Z"
   },
   {
    "duration": 223,
    "start_time": "2022-03-10T18:27:03.706Z"
   },
   {
    "duration": 289,
    "start_time": "2022-03-10T18:27:10.406Z"
   },
   {
    "duration": 9,
    "start_time": "2022-03-10T18:27:17.917Z"
   },
   {
    "duration": 693,
    "start_time": "2022-03-10T18:27:33.472Z"
   },
   {
    "duration": 9,
    "start_time": "2022-03-10T18:27:37.996Z"
   },
   {
    "duration": 3065,
    "start_time": "2022-03-10T18:28:10.605Z"
   },
   {
    "duration": 46,
    "start_time": "2022-03-10T18:28:38.086Z"
   },
   {
    "duration": 19,
    "start_time": "2022-03-10T18:35:00.515Z"
   },
   {
    "duration": 762,
    "start_time": "2022-03-10T18:35:16.213Z"
   },
   {
    "duration": 9,
    "start_time": "2022-03-10T18:35:21.032Z"
   },
   {
    "duration": 9,
    "start_time": "2022-03-10T18:36:23.391Z"
   },
   {
    "duration": 12,
    "start_time": "2022-03-10T18:38:37.179Z"
   },
   {
    "duration": 103,
    "start_time": "2022-03-10T18:42:50.850Z"
   },
   {
    "duration": 16,
    "start_time": "2022-03-10T19:00:20.982Z"
   },
   {
    "duration": 72,
    "start_time": "2022-03-10T19:02:44.596Z"
   },
   {
    "duration": 13,
    "start_time": "2022-03-10T19:04:05.812Z"
   },
   {
    "duration": 16,
    "start_time": "2022-03-10T19:05:00.094Z"
   },
   {
    "duration": 16,
    "start_time": "2022-03-10T19:05:56.940Z"
   },
   {
    "duration": 18,
    "start_time": "2022-03-10T19:07:01.052Z"
   },
   {
    "duration": 16,
    "start_time": "2022-03-10T19:07:18.364Z"
   },
   {
    "duration": 16,
    "start_time": "2022-03-10T19:07:55.244Z"
   },
   {
    "duration": 706,
    "start_time": "2022-03-10T19:08:04.067Z"
   },
   {
    "duration": 21,
    "start_time": "2022-03-10T19:08:07.660Z"
   },
   {
    "duration": 17,
    "start_time": "2022-03-10T19:09:12.296Z"
   },
   {
    "duration": 16,
    "start_time": "2022-03-10T19:13:15.697Z"
   },
   {
    "duration": 19,
    "start_time": "2022-03-10T19:13:43.699Z"
   },
   {
    "duration": 303,
    "start_time": "2022-03-10T19:14:04.004Z"
   },
   {
    "duration": 86,
    "start_time": "2022-03-10T19:14:39.870Z"
   },
   {
    "duration": 21,
    "start_time": "2022-03-10T19:14:46.366Z"
   },
   {
    "duration": 19,
    "start_time": "2022-03-10T19:15:09.502Z"
   },
   {
    "duration": 82,
    "start_time": "2022-03-10T19:18:02.673Z"
   },
   {
    "duration": 98,
    "start_time": "2022-03-10T19:18:18.166Z"
   },
   {
    "duration": 74,
    "start_time": "2022-03-10T19:18:32.274Z"
   },
   {
    "duration": 79,
    "start_time": "2022-03-10T19:19:02.113Z"
   },
   {
    "duration": 715,
    "start_time": "2022-03-10T19:20:59.431Z"
   },
   {
    "duration": 32542,
    "start_time": "2022-03-10T19:21:03.222Z"
   },
   {
    "duration": 292,
    "start_time": "2022-03-10T19:25:27.077Z"
   },
   {
    "duration": 249,
    "start_time": "2022-03-10T19:25:48.589Z"
   },
   {
    "duration": 15,
    "start_time": "2022-03-10T19:26:30.350Z"
   },
   {
    "duration": 16,
    "start_time": "2022-03-10T19:27:16.061Z"
   },
   {
    "duration": 651,
    "start_time": "2022-03-10T19:27:43.297Z"
   },
   {
    "duration": 22,
    "start_time": "2022-03-10T19:27:46.992Z"
   },
   {
    "duration": 15,
    "start_time": "2022-03-10T19:28:12.290Z"
   },
   {
    "duration": 12,
    "start_time": "2022-03-10T19:28:39.250Z"
   },
   {
    "duration": 13,
    "start_time": "2022-03-10T19:28:47.883Z"
   },
   {
    "duration": 14,
    "start_time": "2022-03-10T19:28:52.113Z"
   },
   {
    "duration": 15,
    "start_time": "2022-03-10T19:28:57.808Z"
   },
   {
    "duration": 16,
    "start_time": "2022-03-10T19:29:22.178Z"
   },
   {
    "duration": 17,
    "start_time": "2022-03-10T19:29:27.961Z"
   },
   {
    "duration": 13,
    "start_time": "2022-03-10T19:29:33.241Z"
   },
   {
    "duration": 13,
    "start_time": "2022-03-10T19:29:42.961Z"
   },
   {
    "duration": 707,
    "start_time": "2022-03-10T19:29:48.629Z"
   },
   {
    "duration": 21,
    "start_time": "2022-03-10T19:29:51.939Z"
   },
   {
    "duration": 861,
    "start_time": "2022-03-10T19:30:09.998Z"
   },
   {
    "duration": 21,
    "start_time": "2022-03-10T19:30:13.927Z"
   },
   {
    "duration": 75,
    "start_time": "2022-03-10T19:30:43.956Z"
   },
   {
    "duration": 24,
    "start_time": "2022-03-10T19:30:52.717Z"
   },
   {
    "duration": 3135,
    "start_time": "2022-03-10T19:31:17.944Z"
   },
   {
    "duration": 16,
    "start_time": "2022-03-10T19:31:34.737Z"
   },
   {
    "duration": 790,
    "start_time": "2022-03-10T19:32:13.838Z"
   },
   {
    "duration": 36,
    "start_time": "2022-03-10T19:32:20.062Z"
   },
   {
    "duration": 17,
    "start_time": "2022-03-10T19:32:31.333Z"
   },
   {
    "duration": 19,
    "start_time": "2022-03-10T19:32:39.568Z"
   },
   {
    "duration": 17,
    "start_time": "2022-03-10T19:32:45.731Z"
   },
   {
    "duration": 762,
    "start_time": "2022-03-10T19:32:52.166Z"
   },
   {
    "duration": 19,
    "start_time": "2022-03-10T19:32:55.829Z"
   },
   {
    "duration": 15,
    "start_time": "2022-03-10T19:33:07.141Z"
   },
   {
    "duration": 14,
    "start_time": "2022-03-10T19:33:17.916Z"
   },
   {
    "duration": 14,
    "start_time": "2022-03-10T19:33:25.549Z"
   },
   {
    "duration": 755,
    "start_time": "2022-03-10T19:33:31.436Z"
   },
   {
    "duration": 22,
    "start_time": "2022-03-10T19:33:34.922Z"
   },
   {
    "duration": 16,
    "start_time": "2022-03-10T19:33:44.800Z"
   },
   {
    "duration": 14,
    "start_time": "2022-03-10T19:36:35.392Z"
   },
   {
    "duration": 77,
    "start_time": "2022-03-10T19:39:25.800Z"
   },
   {
    "duration": 17,
    "start_time": "2022-03-10T19:40:23.125Z"
   },
   {
    "duration": 16,
    "start_time": "2022-03-10T19:40:40.911Z"
   },
   {
    "duration": 92,
    "start_time": "2022-03-10T19:44:14.288Z"
   },
   {
    "duration": 85,
    "start_time": "2022-03-10T19:44:55.955Z"
   },
   {
    "duration": 187,
    "start_time": "2022-03-10T19:45:03.994Z"
   },
   {
    "duration": 17,
    "start_time": "2022-03-10T19:45:15.498Z"
   },
   {
    "duration": 17,
    "start_time": "2022-03-10T19:45:26.623Z"
   },
   {
    "duration": 656,
    "start_time": "2022-03-10T19:45:41.280Z"
   },
   {
    "duration": 28,
    "start_time": "2022-03-10T19:45:45.870Z"
   },
   {
    "duration": 18,
    "start_time": "2022-03-10T19:45:53.564Z"
   },
   {
    "duration": 696,
    "start_time": "2022-03-10T19:46:07.639Z"
   },
   {
    "duration": 26,
    "start_time": "2022-03-10T19:46:10.883Z"
   },
   {
    "duration": 17,
    "start_time": "2022-03-10T19:46:44.015Z"
   },
   {
    "duration": 17,
    "start_time": "2022-03-10T19:46:49.899Z"
   },
   {
    "duration": 670,
    "start_time": "2022-03-10T19:46:56.674Z"
   },
   {
    "duration": 27,
    "start_time": "2022-03-10T19:46:59.837Z"
   },
   {
    "duration": 17,
    "start_time": "2022-03-10T19:47:05.130Z"
   },
   {
    "duration": 311,
    "start_time": "2022-03-10T19:56:56.146Z"
   },
   {
    "duration": 19,
    "start_time": "2022-03-10T19:57:07.209Z"
   },
   {
    "duration": 450,
    "start_time": "2022-03-12T14:28:59.531Z"
   },
   {
    "duration": 1010,
    "start_time": "2022-03-12T14:29:17.227Z"
   },
   {
    "duration": 56,
    "start_time": "2022-03-12T14:29:22.350Z"
   },
   {
    "duration": 10,
    "start_time": "2022-03-12T14:29:26.046Z"
   },
   {
    "duration": 10,
    "start_time": "2022-03-12T14:30:57.566Z"
   },
   {
    "duration": 8665,
    "start_time": "2022-03-12T14:31:20.914Z"
   },
   {
    "duration": 9,
    "start_time": "2022-03-12T14:31:38.457Z"
   },
   {
    "duration": 359,
    "start_time": "2022-03-12T14:43:03.921Z"
   },
   {
    "duration": 15,
    "start_time": "2022-03-12T14:43:21.820Z"
   },
   {
    "duration": 17,
    "start_time": "2022-03-12T14:43:42.011Z"
   },
   {
    "duration": 23,
    "start_time": "2022-03-12T14:45:14.255Z"
   },
   {
    "duration": 25,
    "start_time": "2022-03-12T14:46:02.255Z"
   },
   {
    "duration": 34,
    "start_time": "2022-03-12T14:46:08.942Z"
   },
   {
    "duration": 32,
    "start_time": "2022-03-12T14:46:35.205Z"
   },
   {
    "duration": 34,
    "start_time": "2022-03-12T14:52:50.034Z"
   },
   {
    "duration": 943,
    "start_time": "2022-03-12T14:58:36.069Z"
   },
   {
    "duration": 876,
    "start_time": "2022-03-12T15:02:56.425Z"
   },
   {
    "duration": 843,
    "start_time": "2022-03-12T15:03:48.499Z"
   },
   {
    "duration": 705,
    "start_time": "2022-03-12T15:05:51.052Z"
   },
   {
    "duration": 3618,
    "start_time": "2022-03-12T15:06:09.222Z"
   },
   {
    "duration": 303,
    "start_time": "2022-03-12T15:06:17.404Z"
   },
   {
    "duration": 442,
    "start_time": "2022-03-12T15:06:25.686Z"
   },
   {
    "duration": 684,
    "start_time": "2022-03-12T15:06:33.856Z"
   },
   {
    "duration": 953,
    "start_time": "2022-03-12T15:06:42.655Z"
   },
   {
    "duration": 1296,
    "start_time": "2022-03-12T15:06:52.878Z"
   },
   {
    "duration": 595,
    "start_time": "2022-03-12T15:07:01.989Z"
   },
   {
    "duration": 757,
    "start_time": "2022-03-12T15:07:16.426Z"
   },
   {
    "duration": 745,
    "start_time": "2022-03-12T15:07:27.743Z"
   },
   {
    "duration": 896,
    "start_time": "2022-03-12T15:08:11.674Z"
   },
   {
    "duration": 716,
    "start_time": "2022-03-12T15:08:22.176Z"
   },
   {
    "duration": 792,
    "start_time": "2022-03-12T15:08:37.012Z"
   },
   {
    "duration": 1033,
    "start_time": "2022-03-12T15:08:50.904Z"
   },
   {
    "duration": 762,
    "start_time": "2022-03-12T15:09:01.316Z"
   },
   {
    "duration": 779,
    "start_time": "2022-03-12T15:09:13.537Z"
   },
   {
    "duration": 468,
    "start_time": "2022-03-12T15:09:28.220Z"
   },
   {
    "duration": 785,
    "start_time": "2022-03-12T15:09:34.992Z"
   },
   {
    "duration": 1549,
    "start_time": "2022-03-12T15:10:29.155Z"
   },
   {
    "duration": 1765,
    "start_time": "2022-03-12T15:10:44.384Z"
   },
   {
    "duration": 4778,
    "start_time": "2022-03-12T15:11:08.594Z"
   },
   {
    "duration": 1262,
    "start_time": "2022-03-12T15:11:27.391Z"
   },
   {
    "duration": 1549,
    "start_time": "2022-03-12T15:12:12.410Z"
   },
   {
    "duration": 1586,
    "start_time": "2022-03-12T15:12:25.164Z"
   },
   {
    "duration": 1810,
    "start_time": "2022-03-12T15:12:37.497Z"
   },
   {
    "duration": 2343,
    "start_time": "2022-03-12T15:14:23.895Z"
   },
   {
    "duration": 2075,
    "start_time": "2022-03-12T15:15:32.140Z"
   },
   {
    "duration": 2646,
    "start_time": "2022-03-12T15:15:44.024Z"
   },
   {
    "duration": 3182,
    "start_time": "2022-03-12T15:16:42.119Z"
   },
   {
    "duration": 3114,
    "start_time": "2022-03-12T15:17:07.057Z"
   },
   {
    "duration": 3376,
    "start_time": "2022-03-12T15:18:06.656Z"
   },
   {
    "duration": 3577,
    "start_time": "2022-03-12T15:18:48.379Z"
   },
   {
    "duration": 1153,
    "start_time": "2022-03-12T15:55:17.973Z"
   },
   {
    "duration": 725,
    "start_time": "2022-03-12T15:59:32.410Z"
   },
   {
    "duration": 779,
    "start_time": "2022-03-12T16:00:29.937Z"
   },
   {
    "duration": 4061,
    "start_time": "2022-03-12T16:02:59.704Z"
   },
   {
    "duration": 1096,
    "start_time": "2022-03-12T16:03:06.464Z"
   },
   {
    "duration": 2257,
    "start_time": "2022-03-12T16:09:27.499Z"
   },
   {
    "duration": 2153,
    "start_time": "2022-03-12T16:09:57.443Z"
   },
   {
    "duration": 1488,
    "start_time": "2022-03-12T16:11:16.428Z"
   },
   {
    "duration": 1606,
    "start_time": "2022-03-12T16:14:20.512Z"
   },
   {
    "duration": 1592,
    "start_time": "2022-03-12T16:14:48.905Z"
   },
   {
    "duration": 1515,
    "start_time": "2022-03-12T16:23:44.505Z"
   },
   {
    "duration": 1912,
    "start_time": "2022-03-12T16:25:02.250Z"
   },
   {
    "duration": 2478,
    "start_time": "2022-03-12T16:25:19.282Z"
   },
   {
    "duration": 3393,
    "start_time": "2022-03-12T16:27:31.855Z"
   },
   {
    "duration": 2363,
    "start_time": "2022-03-12T16:27:50.332Z"
   },
   {
    "duration": 1441,
    "start_time": "2022-03-12T16:29:04.747Z"
   },
   {
    "duration": 1654,
    "start_time": "2022-03-12T16:29:35.822Z"
   },
   {
    "duration": 1852,
    "start_time": "2022-03-12T16:29:52.415Z"
   },
   {
    "duration": 2377,
    "start_time": "2022-03-12T16:30:22.862Z"
   },
   {
    "duration": 1820,
    "start_time": "2022-03-12T16:30:36.802Z"
   },
   {
    "duration": 1721,
    "start_time": "2022-03-12T16:30:53.143Z"
   },
   {
    "duration": 907,
    "start_time": "2022-03-12T16:31:01.461Z"
   },
   {
    "duration": 37,
    "start_time": "2022-03-12T16:31:04.966Z"
   },
   {
    "duration": 868,
    "start_time": "2022-03-12T16:31:07.809Z"
   },
   {
    "duration": 3135,
    "start_time": "2022-03-12T16:31:10.734Z"
   },
   {
    "duration": 1749,
    "start_time": "2022-03-12T16:31:16.162Z"
   },
   {
    "duration": 1887,
    "start_time": "2022-03-12T16:31:59.855Z"
   },
   {
    "duration": 1780,
    "start_time": "2022-03-12T16:32:06.300Z"
   },
   {
    "duration": 1862,
    "start_time": "2022-03-12T16:32:13.825Z"
   },
   {
    "duration": 1739,
    "start_time": "2022-03-12T16:33:02.478Z"
   },
   {
    "duration": 1884,
    "start_time": "2022-03-12T16:33:20.569Z"
   },
   {
    "duration": 1524,
    "start_time": "2022-03-12T16:33:42.608Z"
   },
   {
    "duration": 19,
    "start_time": "2022-03-12T16:43:11.560Z"
   },
   {
    "duration": 16,
    "start_time": "2022-03-12T16:43:38.883Z"
   },
   {
    "duration": 769,
    "start_time": "2022-03-12T16:44:16.602Z"
   },
   {
    "duration": 894,
    "start_time": "2022-03-12T16:45:28.908Z"
   },
   {
    "duration": 922,
    "start_time": "2022-03-12T16:51:09.495Z"
   },
   {
    "duration": 769,
    "start_time": "2022-03-12T16:51:31.629Z"
   },
   {
    "duration": 112,
    "start_time": "2022-03-12T16:53:26.376Z"
   },
   {
    "duration": 776,
    "start_time": "2022-03-12T16:54:42.875Z"
   },
   {
    "duration": 444,
    "start_time": "2022-03-12T17:01:39.076Z"
   },
   {
    "duration": 8141,
    "start_time": "2022-03-12T17:02:18.336Z"
   },
   {
    "duration": 566,
    "start_time": "2022-03-12T17:04:39.743Z"
   },
   {
    "duration": 375,
    "start_time": "2022-03-12T17:05:35.844Z"
   },
   {
    "duration": 386,
    "start_time": "2022-03-12T17:06:09.024Z"
   },
   {
    "duration": 568,
    "start_time": "2022-03-12T17:06:23.152Z"
   },
   {
    "duration": 397,
    "start_time": "2022-03-12T17:06:39.530Z"
   },
   {
    "duration": 416,
    "start_time": "2022-03-12T17:07:31.424Z"
   },
   {
    "duration": 702,
    "start_time": "2022-03-12T17:09:12.780Z"
   },
   {
    "duration": 8434,
    "start_time": "2022-03-12T17:10:30.648Z"
   },
   {
    "duration": 1128,
    "start_time": "2022-03-12T17:10:41.043Z"
   },
   {
    "duration": 736,
    "start_time": "2022-03-12T17:13:45.040Z"
   },
   {
    "duration": 733,
    "start_time": "2022-03-12T17:13:57.130Z"
   },
   {
    "duration": 1601,
    "start_time": "2022-03-12T17:16:33.711Z"
   },
   {
    "duration": 770,
    "start_time": "2022-03-12T17:17:22.253Z"
   },
   {
    "duration": 728,
    "start_time": "2022-03-12T17:20:42.981Z"
   },
   {
    "duration": 1446,
    "start_time": "2022-03-12T17:23:35.979Z"
   },
   {
    "duration": 1880,
    "start_time": "2022-03-12T17:24:11.710Z"
   },
   {
    "duration": 1224,
    "start_time": "2022-03-12T17:25:36.179Z"
   },
   {
    "duration": 1257,
    "start_time": "2022-03-12T17:26:09.896Z"
   },
   {
    "duration": 1113,
    "start_time": "2022-03-12T17:26:26.156Z"
   },
   {
    "duration": 1167,
    "start_time": "2022-03-12T17:26:42.448Z"
   },
   {
    "duration": 487,
    "start_time": "2022-03-13T06:29:02.724Z"
   },
   {
    "duration": 987,
    "start_time": "2022-03-13T06:29:18.556Z"
   },
   {
    "duration": 40,
    "start_time": "2022-03-13T06:29:22.384Z"
   },
   {
    "duration": 773,
    "start_time": "2022-03-13T06:29:25.213Z"
   },
   {
    "duration": 2972,
    "start_time": "2022-03-13T06:29:28.135Z"
   },
   {
    "duration": 1450,
    "start_time": "2022-03-13T06:29:34.396Z"
   },
   {
    "duration": 776,
    "start_time": "2022-03-13T06:29:40.451Z"
   },
   {
    "duration": 3119,
    "start_time": "2022-03-13T06:29:42.475Z"
   },
   {
    "duration": 1500,
    "start_time": "2022-03-13T06:33:03.862Z"
   },
   {
    "duration": 3013,
    "start_time": "2022-03-13T06:33:45.750Z"
   },
   {
    "duration": 3737,
    "start_time": "2022-03-13T06:34:29.201Z"
   },
   {
    "duration": 2878,
    "start_time": "2022-03-13T06:35:17.512Z"
   },
   {
    "duration": 1418,
    "start_time": "2022-03-13T06:36:39.380Z"
   },
   {
    "duration": 2493,
    "start_time": "2022-03-13T06:37:02.288Z"
   },
   {
    "duration": 1349,
    "start_time": "2022-03-13T06:47:03.233Z"
   },
   {
    "duration": 1342,
    "start_time": "2022-03-13T06:50:14.295Z"
   },
   {
    "duration": 3197,
    "start_time": "2022-03-13T06:52:51.516Z"
   },
   {
    "duration": 2372,
    "start_time": "2022-03-13T06:53:30.259Z"
   },
   {
    "duration": 2574,
    "start_time": "2022-03-13T07:05:31.456Z"
   },
   {
    "duration": 347,
    "start_time": "2022-03-13T07:19:58.717Z"
   },
   {
    "duration": 19,
    "start_time": "2022-03-13T07:20:07.697Z"
   },
   {
    "duration": 29,
    "start_time": "2022-03-13T07:20:21.426Z"
   },
   {
    "duration": 286,
    "start_time": "2022-03-13T07:20:46.968Z"
   },
   {
    "duration": 23,
    "start_time": "2022-03-13T07:21:00.849Z"
   },
   {
    "duration": 376,
    "start_time": "2022-03-13T07:25:15.472Z"
   },
   {
    "duration": 21,
    "start_time": "2022-03-13T07:25:37.532Z"
   },
   {
    "duration": 25,
    "start_time": "2022-03-13T07:26:23.361Z"
   },
   {
    "duration": 334,
    "start_time": "2022-03-13T07:27:43.052Z"
   },
   {
    "duration": 359,
    "start_time": "2022-03-13T07:28:23.312Z"
   },
   {
    "duration": 34,
    "start_time": "2022-03-13T07:28:47.833Z"
   },
   {
    "duration": 33,
    "start_time": "2022-03-13T07:29:28.802Z"
   },
   {
    "duration": 40,
    "start_time": "2022-03-13T07:29:39.584Z"
   },
   {
    "duration": 315,
    "start_time": "2022-03-13T07:32:20.008Z"
   },
   {
    "duration": 313,
    "start_time": "2022-03-13T07:32:36.756Z"
   },
   {
    "duration": 360,
    "start_time": "2022-03-13T07:35:09.580Z"
   },
   {
    "duration": 303,
    "start_time": "2022-03-13T07:35:27.024Z"
   },
   {
    "duration": 343,
    "start_time": "2022-03-13T07:36:05.471Z"
   },
   {
    "duration": 301,
    "start_time": "2022-03-13T07:36:57.355Z"
   },
   {
    "duration": 341,
    "start_time": "2022-03-13T07:37:38.199Z"
   },
   {
    "duration": 436,
    "start_time": "2022-03-13T07:42:20.080Z"
   },
   {
    "duration": 15,
    "start_time": "2022-03-13T07:45:22.668Z"
   },
   {
    "duration": 2494,
    "start_time": "2022-03-13T07:47:10.934Z"
   },
   {
    "duration": 2096,
    "start_time": "2022-03-13T07:49:12.474Z"
   },
   {
    "duration": 2084,
    "start_time": "2022-03-13T07:55:07.065Z"
   },
   {
    "duration": 34,
    "start_time": "2022-03-13T08:04:12.639Z"
   },
   {
    "duration": 31,
    "start_time": "2022-03-13T08:04:22.668Z"
   },
   {
    "duration": 37,
    "start_time": "2022-03-13T08:04:24.920Z"
   },
   {
    "duration": 2170,
    "start_time": "2022-03-13T08:07:58.454Z"
   },
   {
    "duration": 2046,
    "start_time": "2022-03-13T08:08:12.216Z"
   },
   {
    "duration": 2158,
    "start_time": "2022-03-13T08:08:26.845Z"
   },
   {
    "duration": 91,
    "start_time": "2022-03-13T08:10:04.294Z"
   },
   {
    "duration": 99,
    "start_time": "2022-03-13T08:10:40.668Z"
   },
   {
    "duration": 126,
    "start_time": "2022-03-13T08:10:57.238Z"
   },
   {
    "duration": 227,
    "start_time": "2022-03-13T08:11:06.362Z"
   },
   {
    "duration": 50,
    "start_time": "2022-03-23T17:56:53.628Z"
   },
   {
    "duration": 528,
    "start_time": "2022-03-23T17:57:08.792Z"
   },
   {
    "duration": 28,
    "start_time": "2022-03-23T17:57:12.847Z"
   },
   {
    "duration": 359,
    "start_time": "2022-03-23T17:57:15.116Z"
   },
   {
    "duration": 1578,
    "start_time": "2022-03-23T17:57:17.826Z"
   },
   {
    "duration": 644,
    "start_time": "2022-03-23T17:57:25.048Z"
   },
   {
    "duration": 382,
    "start_time": "2022-03-23T17:57:31.398Z"
   },
   {
    "duration": 310,
    "start_time": "2022-03-23T17:57:57.120Z"
   },
   {
    "duration": 280,
    "start_time": "2022-03-23T17:58:01.592Z"
   },
   {
    "duration": 278,
    "start_time": "2022-03-23T17:58:07.193Z"
   },
   {
    "duration": 279,
    "start_time": "2022-03-23T17:58:24.409Z"
   },
   {
    "duration": 279,
    "start_time": "2022-03-23T17:58:28.570Z"
   },
   {
    "duration": 380,
    "start_time": "2022-03-23T17:58:33.289Z"
   },
   {
    "duration": 307,
    "start_time": "2022-03-23T17:58:44.250Z"
   },
   {
    "duration": 290,
    "start_time": "2022-03-23T17:59:25.319Z"
   },
   {
    "duration": 302,
    "start_time": "2022-03-23T17:59:39.782Z"
   },
   {
    "duration": 284,
    "start_time": "2022-03-23T18:00:10.342Z"
   },
   {
    "duration": 417,
    "start_time": "2022-03-23T18:00:25.838Z"
   },
   {
    "duration": 324,
    "start_time": "2022-03-23T18:00:34.091Z"
   },
   {
    "duration": 476,
    "start_time": "2022-03-23T18:00:43.198Z"
   },
   {
    "duration": 347,
    "start_time": "2022-03-23T18:00:50.965Z"
   },
   {
    "duration": 353,
    "start_time": "2022-03-23T18:01:03.430Z"
   },
   {
    "duration": 484,
    "start_time": "2022-03-23T18:01:20.901Z"
   },
   {
    "duration": 408,
    "start_time": "2022-03-23T18:03:30.608Z"
   },
   {
    "duration": 305,
    "start_time": "2022-03-23T18:03:45.551Z"
   },
   {
    "duration": 85,
    "start_time": "2022-03-23T18:03:50.381Z"
   },
   {
    "duration": 398,
    "start_time": "2022-03-23T18:04:00.792Z"
   },
   {
    "duration": 450,
    "start_time": "2022-03-23T18:04:12.277Z"
   },
   {
    "duration": 461,
    "start_time": "2022-03-23T18:04:19.085Z"
   },
   {
    "duration": 384,
    "start_time": "2022-03-23T18:04:28.498Z"
   },
   {
    "duration": 293,
    "start_time": "2022-03-23T18:04:39.182Z"
   },
   {
    "duration": 278,
    "start_time": "2022-03-23T18:04:53.638Z"
   },
   {
    "duration": 300,
    "start_time": "2022-03-23T18:05:01.092Z"
   },
   {
    "duration": 290,
    "start_time": "2022-03-23T18:05:06.333Z"
   },
   {
    "duration": 643,
    "start_time": "2022-03-23T18:07:05.525Z"
   },
   {
    "duration": 577,
    "start_time": "2022-03-23T18:07:14.338Z"
   },
   {
    "duration": 555,
    "start_time": "2022-03-23T18:07:23.692Z"
   },
   {
    "duration": 667,
    "start_time": "2022-03-23T18:07:37.576Z"
   },
   {
    "duration": 561,
    "start_time": "2022-03-23T18:07:46.437Z"
   },
   {
    "duration": 539,
    "start_time": "2022-03-23T18:07:55.372Z"
   },
   {
    "duration": 675,
    "start_time": "2022-03-23T18:07:59.666Z"
   },
   {
    "duration": 570,
    "start_time": "2022-03-23T18:08:08.571Z"
   },
   {
    "duration": 607,
    "start_time": "2022-03-23T18:08:18.507Z"
   },
   {
    "duration": 557,
    "start_time": "2022-03-23T18:08:34.551Z"
   },
   {
    "duration": 1115,
    "start_time": "2022-03-23T18:09:54.356Z"
   },
   {
    "duration": 745,
    "start_time": "2022-03-23T18:10:06.120Z"
   },
   {
    "duration": 576,
    "start_time": "2022-03-23T18:10:41.263Z"
   },
   {
    "duration": 673,
    "start_time": "2022-03-23T18:10:46.867Z"
   },
   {
    "duration": 596,
    "start_time": "2022-03-23T18:11:46.224Z"
   },
   {
    "duration": 575,
    "start_time": "2022-03-23T18:11:52.816Z"
   },
   {
    "duration": 687,
    "start_time": "2022-03-23T18:12:41.153Z"
   },
   {
    "duration": 599,
    "start_time": "2022-03-23T18:12:46.332Z"
   },
   {
    "duration": 579,
    "start_time": "2022-03-23T18:12:53.278Z"
   },
   {
    "duration": 697,
    "start_time": "2022-03-23T18:12:57.881Z"
   },
   {
    "duration": 707,
    "start_time": "2022-03-23T18:13:08.220Z"
   },
   {
    "duration": 578,
    "start_time": "2022-03-23T18:13:27.799Z"
   },
   {
    "duration": 1109,
    "start_time": "2022-03-23T18:17:20.574Z"
   },
   {
    "duration": 966,
    "start_time": "2022-03-23T18:17:28.199Z"
   },
   {
    "duration": 575,
    "start_time": "2022-03-23T18:17:36.512Z"
   },
   {
    "duration": 663,
    "start_time": "2022-03-23T18:17:50.166Z"
   },
   {
    "duration": 568,
    "start_time": "2022-03-23T18:18:24.698Z"
   },
   {
    "duration": 573,
    "start_time": "2022-03-23T18:18:31.743Z"
   },
   {
    "duration": 654,
    "start_time": "2022-03-23T18:18:38.930Z"
   },
   {
    "duration": 558,
    "start_time": "2022-03-23T18:18:47.439Z"
   },
   {
    "duration": 598,
    "start_time": "2022-03-23T18:18:58.952Z"
   },
   {
    "duration": 682,
    "start_time": "2022-03-23T18:19:14.765Z"
   },
   {
    "duration": 554,
    "start_time": "2022-03-23T18:19:55.898Z"
   },
   {
    "duration": 597,
    "start_time": "2022-03-23T18:20:26.106Z"
   },
   {
    "duration": 721,
    "start_time": "2022-03-23T18:20:45.945Z"
   },
   {
    "duration": 956,
    "start_time": "2022-03-23T18:20:53.331Z"
   },
   {
    "duration": 870,
    "start_time": "2022-03-23T18:21:00.472Z"
   },
   {
    "duration": 851,
    "start_time": "2022-03-23T18:21:10.074Z"
   },
   {
    "duration": 585,
    "start_time": "2022-03-23T18:21:17.066Z"
   },
   {
    "duration": 566,
    "start_time": "2022-03-23T18:21:23.987Z"
   },
   {
    "duration": 705,
    "start_time": "2022-03-23T18:21:36.239Z"
   },
   {
    "duration": 602,
    "start_time": "2022-03-23T18:22:03.647Z"
   },
   {
    "duration": 1051,
    "start_time": "2022-03-23T18:23:13.787Z"
   },
   {
    "duration": 888,
    "start_time": "2022-03-23T18:23:37.157Z"
   },
   {
    "duration": 1004,
    "start_time": "2022-03-23T18:24:38.983Z"
   },
   {
    "duration": 973,
    "start_time": "2022-03-23T18:24:56.102Z"
   },
   {
    "duration": 957,
    "start_time": "2022-03-23T18:25:01.338Z"
   },
   {
    "duration": 1030,
    "start_time": "2022-03-23T18:25:25.787Z"
   },
   {
    "duration": 907,
    "start_time": "2022-03-23T18:25:33.044Z"
   },
   {
    "duration": 983,
    "start_time": "2022-03-23T18:25:54.229Z"
   },
   {
    "duration": 894,
    "start_time": "2022-03-23T18:26:26.940Z"
   },
   {
    "duration": 1330,
    "start_time": "2022-03-23T18:26:47.127Z"
   },
   {
    "duration": 936,
    "start_time": "2022-03-23T18:27:01.235Z"
   },
   {
    "duration": 997,
    "start_time": "2022-03-23T18:27:18.361Z"
   },
   {
    "duration": 2405,
    "start_time": "2022-03-23T18:27:37.261Z"
   },
   {
    "duration": 1096,
    "start_time": "2022-03-23T18:27:46.690Z"
   },
   {
    "duration": 852,
    "start_time": "2022-03-23T18:27:54.007Z"
   },
   {
    "duration": 1007,
    "start_time": "2022-03-23T18:28:03.956Z"
   },
   {
    "duration": 913,
    "start_time": "2022-03-23T18:28:14.886Z"
   },
   {
    "duration": 1420,
    "start_time": "2022-03-23T18:28:37.362Z"
   },
   {
    "duration": 1056,
    "start_time": "2022-03-23T18:28:48.636Z"
   },
   {
    "duration": 1009,
    "start_time": "2022-03-23T18:28:56.875Z"
   },
   {
    "duration": 1013,
    "start_time": "2022-03-23T18:29:35.193Z"
   },
   {
    "duration": 916,
    "start_time": "2022-03-23T18:29:57.730Z"
   },
   {
    "duration": 1080,
    "start_time": "2022-03-23T18:30:17.902Z"
   },
   {
    "duration": 1405,
    "start_time": "2022-03-23T18:31:23.760Z"
   },
   {
    "duration": 1056,
    "start_time": "2022-03-23T18:31:45.171Z"
   },
   {
    "duration": 905,
    "start_time": "2022-03-23T18:32:26.420Z"
   },
   {
    "duration": 1603,
    "start_time": "2022-03-23T18:32:31.366Z"
   },
   {
    "duration": 1300,
    "start_time": "2022-03-23T18:32:53.368Z"
   },
   {
    "duration": 1007,
    "start_time": "2022-03-23T18:32:59.964Z"
   },
   {
    "duration": 1640,
    "start_time": "2022-03-23T18:33:06.229Z"
   },
   {
    "duration": 959,
    "start_time": "2022-03-23T18:33:28.704Z"
   },
   {
    "duration": 1160,
    "start_time": "2022-03-23T18:33:42.886Z"
   },
   {
    "duration": 1493,
    "start_time": "2022-03-23T18:33:59.083Z"
   },
   {
    "duration": 1025,
    "start_time": "2022-03-23T18:34:11.180Z"
   },
   {
    "duration": 909,
    "start_time": "2022-03-23T18:34:22.172Z"
   },
   {
    "duration": 1284,
    "start_time": "2022-03-23T18:34:56.278Z"
   },
   {
    "duration": 940,
    "start_time": "2022-03-23T18:35:03.257Z"
   },
   {
    "duration": 1054,
    "start_time": "2022-03-23T18:35:34.711Z"
   },
   {
    "duration": 939,
    "start_time": "2022-03-23T18:35:41.548Z"
   },
   {
    "duration": 1038,
    "start_time": "2022-03-23T18:35:47.012Z"
   },
   {
    "duration": 2502,
    "start_time": "2022-03-23T18:36:04.154Z"
   },
   {
    "duration": 1676,
    "start_time": "2022-03-23T18:36:14.598Z"
   },
   {
    "duration": 1210,
    "start_time": "2022-03-23T18:36:22.175Z"
   },
   {
    "duration": 1263,
    "start_time": "2022-03-23T18:36:56.611Z"
   },
   {
    "duration": 1395,
    "start_time": "2022-03-23T18:37:02.315Z"
   },
   {
    "duration": 1625,
    "start_time": "2022-03-23T18:37:33.301Z"
   },
   {
    "duration": 1080,
    "start_time": "2022-03-23T18:37:40.890Z"
   },
   {
    "duration": 1168,
    "start_time": "2022-03-23T18:37:50.587Z"
   },
   {
    "duration": 1489,
    "start_time": "2022-03-23T18:38:27.953Z"
   },
   {
    "duration": 1095,
    "start_time": "2022-03-23T18:38:37.243Z"
   },
   {
    "duration": 1044,
    "start_time": "2022-03-23T18:38:41.887Z"
   },
   {
    "duration": 939,
    "start_time": "2022-03-23T18:38:51.682Z"
   },
   {
    "duration": 1705,
    "start_time": "2022-03-23T18:39:18.549Z"
   },
   {
    "duration": 959,
    "start_time": "2022-03-23T18:39:24.127Z"
   },
   {
    "duration": 1558,
    "start_time": "2022-03-23T18:39:30.628Z"
   },
   {
    "duration": 974,
    "start_time": "2022-03-23T18:40:05.257Z"
   },
   {
    "duration": 1123,
    "start_time": "2022-03-23T18:40:13.060Z"
   },
   {
    "duration": 953,
    "start_time": "2022-03-23T18:40:20.789Z"
   },
   {
    "duration": 1106,
    "start_time": "2022-03-23T18:40:28.507Z"
   },
   {
    "duration": 914,
    "start_time": "2022-03-23T18:41:24.854Z"
   },
   {
    "duration": 1752,
    "start_time": "2022-03-23T18:41:32.944Z"
   },
   {
    "duration": 923,
    "start_time": "2022-03-23T18:41:57.060Z"
   },
   {
    "duration": 1034,
    "start_time": "2022-03-23T18:42:03.274Z"
   },
   {
    "duration": 1221,
    "start_time": "2022-03-23T18:42:23.503Z"
   },
   {
    "duration": 1474,
    "start_time": "2022-03-23T18:42:30.543Z"
   },
   {
    "duration": 1613,
    "start_time": "2022-03-23T18:43:07.494Z"
   },
   {
    "duration": 928,
    "start_time": "2022-03-23T18:43:11.060Z"
   },
   {
    "duration": 1069,
    "start_time": "2022-03-23T18:43:17.903Z"
   },
   {
    "duration": 918,
    "start_time": "2022-03-23T18:43:43.560Z"
   },
   {
    "duration": 1741,
    "start_time": "2022-03-23T18:43:52.379Z"
   },
   {
    "duration": 919,
    "start_time": "2022-03-23T18:44:10.650Z"
   },
   {
    "duration": 1106,
    "start_time": "2022-03-23T18:44:32.213Z"
   },
   {
    "duration": 929,
    "start_time": "2022-03-23T18:45:01.853Z"
   },
   {
    "duration": 913,
    "start_time": "2022-03-23T18:45:13.184Z"
   },
   {
    "duration": 1095,
    "start_time": "2022-03-23T18:46:22.247Z"
   },
   {
    "duration": 1243,
    "start_time": "2022-03-23T18:46:29.230Z"
   },
   {
    "duration": 1002,
    "start_time": "2022-03-23T18:46:38.614Z"
   },
   {
    "duration": 934,
    "start_time": "2022-03-23T18:46:45.780Z"
   },
   {
    "duration": 1597,
    "start_time": "2022-03-23T18:47:28.598Z"
   },
   {
    "duration": 905,
    "start_time": "2022-03-23T18:47:36.535Z"
   },
   {
    "duration": 1338,
    "start_time": "2022-03-23T18:47:42.518Z"
   },
   {
    "duration": 1404,
    "start_time": "2022-03-23T18:47:53.493Z"
   },
   {
    "duration": 1690,
    "start_time": "2022-03-23T18:48:41.298Z"
   },
   {
    "duration": 896,
    "start_time": "2022-03-23T18:48:46.631Z"
   },
   {
    "duration": 1099,
    "start_time": "2022-03-23T18:49:08.137Z"
   },
   {
    "duration": 1265,
    "start_time": "2022-03-23T18:49:18.019Z"
   },
   {
    "duration": 937,
    "start_time": "2022-03-23T18:50:14.895Z"
   },
   {
    "duration": 1065,
    "start_time": "2022-03-23T18:51:45.416Z"
   },
   {
    "duration": 901,
    "start_time": "2022-03-23T18:51:55.504Z"
   },
   {
    "duration": 1075,
    "start_time": "2022-03-23T18:52:10.761Z"
   },
   {
    "duration": 1420,
    "start_time": "2022-03-23T18:58:17.552Z"
   },
   {
    "duration": 994,
    "start_time": "2022-03-23T18:58:53.294Z"
   },
   {
    "duration": 895,
    "start_time": "2022-03-23T18:59:06.103Z"
   },
   {
    "duration": 1033,
    "start_time": "2022-03-23T18:59:28.275Z"
   },
   {
    "duration": 902,
    "start_time": "2022-03-23T18:59:36.789Z"
   },
   {
    "duration": 893,
    "start_time": "2022-03-23T18:59:41.166Z"
   },
   {
    "duration": 1005,
    "start_time": "2022-03-23T19:01:31.644Z"
   },
   {
    "duration": 865,
    "start_time": "2022-03-23T19:01:47.738Z"
   },
   {
    "duration": 989,
    "start_time": "2022-03-23T19:02:44.277Z"
   },
   {
    "duration": 857,
    "start_time": "2022-03-23T19:02:52.799Z"
   },
   {
    "duration": 744,
    "start_time": "2022-03-23T19:03:52.171Z"
   },
   {
    "duration": 1192,
    "start_time": "2022-03-23T19:04:08.563Z"
   },
   {
    "duration": 1246,
    "start_time": "2022-03-23T19:04:52.907Z"
   },
   {
    "duration": 1150,
    "start_time": "2022-03-23T19:05:06.739Z"
   },
   {
    "duration": 1310,
    "start_time": "2022-03-23T19:06:47.768Z"
   },
   {
    "duration": 1252,
    "start_time": "2022-03-23T19:06:54.650Z"
   },
   {
    "duration": 1143,
    "start_time": "2022-03-23T19:08:42.555Z"
   },
   {
    "duration": 1258,
    "start_time": "2022-03-23T19:08:48.941Z"
   },
   {
    "duration": 1273,
    "start_time": "2022-03-23T19:09:01.477Z"
   },
   {
    "duration": 1404,
    "start_time": "2022-03-23T19:09:55.190Z"
   },
   {
    "duration": 1383,
    "start_time": "2022-03-23T19:10:01.080Z"
   },
   {
    "duration": 2092,
    "start_time": "2022-03-23T19:13:27.494Z"
   },
   {
    "duration": 1173,
    "start_time": "2022-03-23T19:13:40.239Z"
   },
   {
    "duration": 1377,
    "start_time": "2022-03-23T19:14:04.159Z"
   },
   {
    "duration": 2309,
    "start_time": "2022-03-23T19:15:02.143Z"
   },
   {
    "duration": 1279,
    "start_time": "2022-03-23T19:15:33.627Z"
   },
   {
    "duration": 1175,
    "start_time": "2022-03-23T19:15:44.747Z"
   },
   {
    "duration": 1311,
    "start_time": "2022-03-23T19:16:45.060Z"
   },
   {
    "duration": 1236,
    "start_time": "2022-03-23T19:16:54.619Z"
   },
   {
    "duration": 1115,
    "start_time": "2022-03-23T19:17:04.613Z"
   },
   {
    "duration": 1544,
    "start_time": "2022-03-23T19:18:23.675Z"
   },
   {
    "duration": 1594,
    "start_time": "2022-03-23T19:19:12.053Z"
   },
   {
    "duration": 1487,
    "start_time": "2022-03-23T19:19:26.935Z"
   },
   {
    "duration": 536,
    "start_time": "2022-03-23T19:23:32.252Z"
   },
   {
    "duration": 25,
    "start_time": "2022-03-23T19:23:36.851Z"
   },
   {
    "duration": 326,
    "start_time": "2022-03-23T19:23:39.506Z"
   },
   {
    "duration": 1358,
    "start_time": "2022-03-23T19:23:41.650Z"
   },
   {
    "duration": 540,
    "start_time": "2022-03-23T19:23:43.572Z"
   },
   {
    "duration": 1477,
    "start_time": "2022-03-23T19:23:46.623Z"
   },
   {
    "duration": 1013,
    "start_time": "2022-03-23T19:23:51.368Z"
   },
   {
    "duration": 23,
    "start_time": "2022-03-23T19:24:01.062Z"
   },
   {
    "duration": 161,
    "start_time": "2022-03-23T19:24:05.031Z"
   },
   {
    "duration": 977,
    "start_time": "2022-03-23T19:24:08.027Z"
   },
   {
    "duration": 27,
    "start_time": "2022-03-23T19:26:00.045Z"
   },
   {
    "duration": 714,
    "start_time": "2022-03-23T19:26:30.771Z"
   },
   {
    "duration": 26,
    "start_time": "2022-03-23T19:26:34.674Z"
   },
   {
    "duration": 375,
    "start_time": "2022-03-23T19:26:37.556Z"
   },
   {
    "duration": 2186,
    "start_time": "2022-03-23T19:26:40.002Z"
   },
   {
    "duration": 590,
    "start_time": "2022-03-23T19:26:46.169Z"
   },
   {
    "duration": 1314,
    "start_time": "2022-03-23T19:26:50.138Z"
   },
   {
    "duration": 1045,
    "start_time": "2022-03-23T19:26:56.002Z"
   },
   {
    "duration": 40,
    "start_time": "2022-03-23T19:27:01.454Z"
   },
   {
    "duration": 173,
    "start_time": "2022-03-23T19:27:03.966Z"
   },
   {
    "duration": 1022,
    "start_time": "2022-03-23T19:27:06.290Z"
   }
  ],
  "kernelspec": {
   "display_name": "Python 3 (ipykernel)",
   "language": "python",
   "name": "python3"
  },
  "language_info": {
   "codemirror_mode": {
    "name": "ipython",
    "version": 3
   },
   "file_extension": ".py",
   "mimetype": "text/x-python",
   "name": "python",
   "nbconvert_exporter": "python",
   "pygments_lexer": "ipython3",
   "version": "3.9.5"
  },
  "toc": {
   "base_numbering": 1,
   "nav_menu": {},
   "number_sections": true,
   "sideBar": true,
   "skip_h1_title": true,
   "title_cell": "Содержание",
   "title_sidebar": "Contents",
   "toc_cell": true,
   "toc_position": {},
   "toc_section_display": true,
   "toc_window_display": false
  }
 },
 "nbformat": 4,
 "nbformat_minor": 4
}
