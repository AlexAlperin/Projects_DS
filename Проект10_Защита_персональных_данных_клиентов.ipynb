{
 "cells": [
  {
   "cell_type": "markdown",
   "metadata": {},
   "source": [
    "<h1> Комментарий ревьюера </h1>\n",
    "\n",
    "Привет, Александр!\n",
    "Меня зовут Виктория Ильина, и я буду проверять твой проект. Предлагаю общаться на \"ты\", но если тебе будет не комфортно, обязательно сообщи и мы перейдем на \"вы\". \n",
    "\n",
    "Моя основная цель - не указать на совершённые тобой ошибки, а поделиться своим опытом и помочь тебе стать специалистом по Data Science. Ты уже проделал большую работу над проектом, но давай сделаем его ещё лучше. Ниже ты найдёшь мои комментарии - пожалуйста, не перемещай, не изменяй и не удаляй их. Я буду использовать различные цвета, чтобы было легче воспринимать мои комментарии:\n",
    "\n",
    "<div class=\"alert alert-block alert-danger\">\n",
    "<b>Комментарий ревьюера❌:</b> Так выделены самые важные замечания. Без их отработки проект не будет принят.\n",
    "</div>\n",
    "\n",
    "<div class=\"alert alert-block alert-warning\">\n",
    "<b>Комментарий ревьюера🤔:</b> Так выделены небольшие замечания. Одно-два таких замечания в проекте допустимы, но если их будет больше - тебе будет необходимо внести исправления. Однако, если перед нами стоит цель не просто сдать проект и забыть, а приобрести новые знания и успешно применять их в будущем, я бы всё-таки рекомендовала тебе прорабатывать эти недочёты.\n",
    "</div>\n",
    "    \n",
    "<div class=\"alert alert-block alert-success\">\n",
    "<b>Комментарий ревьюера👍:</b> Так я выделю все остальные комментарии.\n",
    "</div>\n",
    "    \n",
    "Давай работать над проектом в диалоге: если ты что-то меняешь в проекте или отвечаешь на мои комментарии - пиши об этом. Мне будет легче отследить изменения, если ты выделишь свои комментарии:\n",
    "\n",
    "<div class=\"alert alert-block alert-info\">\n",
    "<b>Комментарий студента:</b> Например, вот так.\n",
    "</div>\n",
    "\n",
    "Давай посмотрим, что получилось!"
   ]
  },
  {
   "cell_type": "markdown",
   "metadata": {
    "toc": true
   },
   "source": [
    "<h1>Содержание<span class=\"tocSkip\"></span></h1>\n",
    "<div class=\"toc\"><ul class=\"toc-item\"><li><span><a href=\"#Загрузка-данных\" data-toc-modified-id=\"Загрузка-данных-1\"><span class=\"toc-item-num\">1&nbsp;&nbsp;</span>Загрузка данных</a></span></li><li><span><a href=\"#Умножение-матриц\" data-toc-modified-id=\"Умножение-матриц-2\"><span class=\"toc-item-num\">2&nbsp;&nbsp;</span>Умножение матриц</a></span></li><li><span><a href=\"#Алгоритм-преобразования\" data-toc-modified-id=\"Алгоритм-преобразования-3\"><span class=\"toc-item-num\">3&nbsp;&nbsp;</span>Алгоритм преобразования</a></span></li><li><span><a href=\"#Проверка-алгоритма\" data-toc-modified-id=\"Проверка-алгоритма-4\"><span class=\"toc-item-num\">4&nbsp;&nbsp;</span>Проверка алгоритма</a></span></li><li><span><a href=\"#Чек-лист-проверки\" data-toc-modified-id=\"Чек-лист-проверки-5\"><span class=\"toc-item-num\">5&nbsp;&nbsp;</span>Чек-лист проверки</a></span></li></ul></div>"
   ]
  },
  {
   "cell_type": "markdown",
   "metadata": {},
   "source": [
    "# Защита персональных данных клиентов"
   ]
  },
  {
   "cell_type": "markdown",
   "metadata": {},
   "source": [
    "Вам нужно защитить данные клиентов страховой компании «Хоть потоп». Разработайте такой метод преобразования данных, чтобы по ним было сложно восстановить персональную информацию. Обоснуйте корректность его работы.\n",
    "\n",
    "Нужно защитить данные, чтобы при преобразовании качество моделей машинного обучения не ухудшилось. Подбирать наилучшую модель не требуется."
   ]
  },
  {
   "cell_type": "markdown",
   "metadata": {},
   "source": [
    "## Загрузка данных"
   ]
  },
  {
   "cell_type": "code",
   "execution_count": 1,
   "metadata": {},
   "outputs": [],
   "source": [
    "import pandas as pd\n",
    "import numpy as np\n",
    "from sklearn.linear_model import LinearRegression\n",
    "import warnings\n",
    "warnings.filterwarnings('ignore')"
   ]
  },
  {
   "cell_type": "code",
   "execution_count": 2,
   "metadata": {},
   "outputs": [
    {
     "name": "stdout",
     "output_type": "stream",
     "text": [
      "      Пол  Возраст  Зарплата  Члены семьи  Страховые выплаты\n",
      "0       1     41.0   49600.0            1                  0\n",
      "1       0     46.0   38000.0            1                  1\n",
      "2       0     29.0   21000.0            0                  0\n",
      "3       0     21.0   41700.0            2                  0\n",
      "4       1     28.0   26100.0            0                  0\n",
      "...   ...      ...       ...          ...                ...\n",
      "4995    0     28.0   35700.0            2                  0\n",
      "4996    0     34.0   52400.0            1                  0\n",
      "4997    0     20.0   33900.0            2                  0\n",
      "4998    1     22.0   32700.0            3                  0\n",
      "4999    1     28.0   40600.0            1                  0\n",
      "\n",
      "[5000 rows x 5 columns]\n",
      "<class 'pandas.core.frame.DataFrame'>\n",
      "RangeIndex: 5000 entries, 0 to 4999\n",
      "Data columns (total 5 columns):\n",
      " #   Column             Non-Null Count  Dtype  \n",
      "---  ------             --------------  -----  \n",
      " 0   Пол                5000 non-null   int64  \n",
      " 1   Возраст            5000 non-null   float64\n",
      " 2   Зарплата           5000 non-null   float64\n",
      " 3   Члены семьи        5000 non-null   int64  \n",
      " 4   Страховые выплаты  5000 non-null   int64  \n",
      "dtypes: float64(2), int64(3)\n",
      "memory usage: 195.4 KB\n"
     ]
    }
   ],
   "source": [
    "data=pd.read_csv('/datasets/insurance.csv')\n",
    "print (data)\n",
    "data.info()"
   ]
  },
  {
   "cell_type": "markdown",
   "metadata": {},
   "source": [
    "<div class=\"alert alert-info\">\n",
    "<font color='black'> <b> Имеем 5 столбцов с одинаковым количеством строк и не имеющими пропусков. Столбцы с 0 по 3 - признаки, 4 столбец - целевое значение </font> <b>"
   ]
  },
  {
   "cell_type": "markdown",
   "metadata": {},
   "source": [
    "<div class=\"alert alert-block alert-warning\">\n",
    "<b>Комментарий ревьюера🤔:</b> Отсутствуют твои комментарии по поводу данных\n",
    "      <div class=\"alert alert-info\">\n",
    "     Комментарий студента:</h2>  Сделал </div>\n",
    "</div>"
   ]
  },
  {
   "cell_type": "markdown",
   "metadata": {},
   "source": [
    "    \n",
    "<div class=\"alert alert-block alert-success\">\n",
    "<b>Комментарий ревьюера V.2👍:</b> Хорошо =)\n",
    "</div>"
   ]
  },
  {
   "cell_type": "code",
   "execution_count": 3,
   "metadata": {},
   "outputs": [],
   "source": [
    "features = data.drop(\"Страховые выплаты\", axis=1)\n",
    "target = data[\"Страховые выплаты\"]\n"
   ]
  },
  {
   "cell_type": "code",
   "execution_count": 4,
   "metadata": {},
   "outputs": [
    {
     "name": "stdout",
     "output_type": "stream",
     "text": [
      "[[0.52587566 0.82931321 0.22396945 0.45374806]\n",
      " [0.39749096 0.2936987  0.61995496 0.30860666]\n",
      " [0.45326117 0.11831595 0.04991014 0.41904771]\n",
      " [0.00789858 0.14687651 0.20359012 0.25803313]]\n"
     ]
    },
    {
     "data": {
      "text/plain": [
       "array([[ 0.06874472,  1.00058505,  1.30901015, -3.44342484],\n",
       "       [ 1.55825869, -0.48033901, -1.38820856,  0.08876604],\n",
       "       [-0.55943233,  1.77554595, -0.9140281 ,  0.34459683],\n",
       "       [-0.44769323, -1.15813148,  1.47129552,  3.65846043]])"
      ]
     },
     "execution_count": 4,
     "metadata": {},
     "output_type": "execute_result"
    }
   ],
   "source": [
    "A = np.random.rand(4,4)\n",
    "print (A)\n",
    "np.linalg.inv(A)"
   ]
  },
  {
   "cell_type": "code",
   "execution_count": 5,
   "metadata": {},
   "outputs": [
    {
     "name": "stdout",
     "output_type": "stream",
     "text": [
      "0.4249455028666801\n"
     ]
    }
   ],
   "source": [
    "model_1 = LinearRegression()\n",
    "model_1.fit(features, target)\n",
    "r2 = model_1.score(features, target) \n",
    "print (r2)"
   ]
  },
  {
   "cell_type": "code",
   "execution_count": 6,
   "metadata": {},
   "outputs": [
    {
     "name": "stdout",
     "output_type": "stream",
     "text": [
      "0.4249455028666864\n"
     ]
    }
   ],
   "source": [
    "features_1=features @ A\n",
    "model_2 = LinearRegression()\n",
    "model_2.fit(features_1, target)\n",
    "r2_new = model_2.score(features_1, target) \n",
    "print (r2_new)"
   ]
  },
  {
   "cell_type": "markdown",
   "metadata": {},
   "source": [
    "<div class=\"alert alert-info\">\n",
    "<font color='black'> <b> Видно, что при умножении признаков на случайную матрицу метрика R2 не изменилась </font> <b>"
   ]
  },
  {
   "cell_type": "markdown",
   "metadata": {},
   "source": [
    "<div class=\"alert alert-block alert-success\">\n",
    "<b>Комментарий ревьюера👍:</b> Верно, таким образом в случае домножения матрицы признаков на случайную обратимую матрицу можно обеспечить защиту данных, не особо потеряв в качестве модели. (Незначительное отличие вызвано особенностью преобразования матриц и чисел с плавающей точкой, это норма)\n",
    "</div>\n"
   ]
  },
  {
   "cell_type": "markdown",
   "metadata": {},
   "source": [
    "## Умножение матриц"
   ]
  },
  {
   "cell_type": "markdown",
   "metadata": {},
   "source": [
    "В этом задании вы можете записывать формулы в *Jupyter Notebook.*\n",
    "\n",
    "Чтобы записать формулу внутри текста, окружите её символами доллара \\\\$; если снаружи —  двойными символами \\\\$\\\\$. Эти формулы записываются на языке вёрстки *LaTeX.* \n",
    "\n",
    "Для примера мы записали формулы линейной регрессии. Можете их скопировать и отредактировать, чтобы решить задачу.\n",
    "\n",
    "Работать в *LaTeX* необязательно."
   ]
  },
  {
   "cell_type": "markdown",
   "metadata": {},
   "source": [
    "Обозначения:\n",
    "\n",
    "- $X$ — матрица признаков (нулевой столбец состоит из единиц)\n",
    "\n",
    "- $y$ — вектор целевого признака\n",
    "\n",
    "- $P$ — матрица, на которую умножаются признаки\n",
    "\n",
    "- $w$ — вектор весов линейной регрессии (нулевой элемент равен сдвигу)"
   ]
  },
  {
   "cell_type": "markdown",
   "metadata": {},
   "source": [
    "Предсказания:\n",
    "\n",
    "$$\n",
    "a = Xw\n",
    "$$\n",
    "\n",
    "Задача обучения:\n",
    "\n",
    "$$\n",
    "w = \\arg\\min_w MSE(Xw, y)\n",
    "$$\n",
    "\n",
    "Формула обучения:\n",
    "\n",
    "$$\n",
    "w = (X^T X)^{-1} X^T y\n",
    "$$"
   ]
  },
  {
   "cell_type": "markdown",
   "metadata": {},
   "source": [
    "**Ответ:** R2 не изменится\n",
    "\n",
    "**Обоснование:** $$\n",
    "a = X(X^T X)^{-1}X^T y\n",
    "$$\n",
    "$$\n",
    "a1 = X P ((XP)^T X P)^{-1}(X P)^T y= X P (P^T X^TX P)^{-1} (P^T X^T) y = X P P^{-1}(X^TX)^{-1} (P^T)^{-1} (P^T X^T) y= X (X^TX)^{-1}X^T y\n",
    "$$\n",
    "\n"
   ]
  },
  {
   "cell_type": "markdown",
   "metadata": {},
   "source": [
    "<div class=\"alert alert-info\">\n",
    "<font color='black'> <b> Видим, что a=a1, т.е. при умножении X на случайную матрицу P предсказания не изменятся, следовательно и R2 останется прежней </font> <b>"
   ]
  },
  {
   "cell_type": "markdown",
   "metadata": {},
   "source": [
    "<div class=\"alert alert-block alert-danger\">\n",
    "<b>Комментарий ревьюера❌:</b> К сожалению, у тебя допущена ошибка в доказательстве, так как для неквадратных матриц $X$ и $X^T$ обратных матриц не существует, то мы не можем раскрывать $(X^T X)^{-1}$\n",
    "    \n",
    "Теория по обратным матрицам: https://www.berdov.com/works/matrix/obratnaya-matrica/ \n",
    "    <div class=\"alert alert-info\">\n",
    "     Комментарий студента:</h2>  Поправил, проделал операции с P и сократил P,  т.к. P - обратимая матрица </div>\n",
    "\n"
   ]
  },
  {
   "cell_type": "markdown",
   "metadata": {},
   "source": [
    "    \n",
    "<div class=\"alert alert-block alert-success\">\n",
    "<b>Комментарий ревьюера V.2👍:</b> Теперь верно =)\n",
    "</div>"
   ]
  },
  {
   "cell_type": "markdown",
   "metadata": {},
   "source": [
    "## Алгоритм преобразования"
   ]
  },
  {
   "cell_type": "markdown",
   "metadata": {},
   "source": [
    "**Алгоритм**\n",
    "\n",
    "<div class=\"alert alert-info\">\n",
    "<font color='black'> <b> Изменим признаки, умножив их на 25 и вычтем 300. После этого умножим на матрицу А </font> <b>"
   ]
  },
  {
   "cell_type": "markdown",
   "metadata": {},
   "source": [
    "**Обоснование**\n"
   ]
  },
  {
   "cell_type": "code",
   "execution_count": null,
   "metadata": {},
   "outputs": [],
   "source": []
  },
  {
   "cell_type": "markdown",
   "metadata": {},
   "source": [
    "## Проверка алгоритма"
   ]
  },
  {
   "cell_type": "code",
   "execution_count": 7,
   "metadata": {},
   "outputs": [
    {
     "name": "stdout",
     "output_type": "stream",
     "text": [
      "0.4249455028666568\n"
     ]
    }
   ],
   "source": [
    "features_2=(features*25+300) @ A\n",
    "model_3 = LinearRegression()\n",
    "model_3.fit(features_2, target)\n",
    "r2_test = model_3.score(features_2, target) \n",
    "print (r2_test)"
   ]
  },
  {
   "cell_type": "markdown",
   "metadata": {},
   "source": [
    "<div class=\"alert alert-info\">\n",
    "<font color='black'> <b> Метрика R2 не изменилась. Если делать одинаковые операции с каждым числом матрицы признаков, зависимости между ними не изменятся (получившийся множитель можно попросту сократить), поэтому и R2 останется прежней </font> <b>"
   ]
  },
  {
   "cell_type": "markdown",
   "metadata": {},
   "source": [
    "<div class=\"alert alert-block alert-success\">\n",
    "<b>Комментарий ревьюера👍:</b> Да, верно\n",
    "</div>"
   ]
  },
  {
   "cell_type": "markdown",
   "metadata": {},
   "source": [
    "## Чек-лист проверки"
   ]
  },
  {
   "cell_type": "markdown",
   "metadata": {},
   "source": [
    "Поставьте 'x' в выполненных пунктах. Далее нажмите Shift+Enter."
   ]
  },
  {
   "cell_type": "markdown",
   "metadata": {},
   "source": [
    "- [x]  Jupyter Notebook открыт\n",
    "- [x]  Весь код выполняется без ошибок\n",
    "- [x]  Ячейки с кодом расположены в порядке исполнения\n",
    "- [x]  Выполнен шаг 1: данные загружены\n",
    "- [x]  Выполнен шаг 2: получен ответ на вопрос об умножении матриц\n",
    "    - [x]  Указан правильный вариант ответа\n",
    "    - [x]  Вариант обоснован\n",
    "- [x]  Выполнен шаг 3: предложен алгоритм преобразования\n",
    "    - [x]  Алгоритм описан\n",
    "    - [x]  Алгоритм обоснован\n",
    "- [x]  Выполнен шаг 4: алгоритм проверен\n",
    "    - [x]  Алгоритм реализован\n",
    "    - [x]  Проведено сравнение качества моделей до и после преобразования"
   ]
  },
  {
   "cell_type": "markdown",
   "metadata": {},
   "source": [
    "<div class=\"alert alert-block alert-danger\">\n",
    "<b>Комментарий ревьюера❌:</b> Спасибо тебе за проделанную работу, к сожалению, сейчас я не могу принять твой проект, поэтому тебе придётся ещё немного поработать:\n",
    " \n",
    "- добавить твои комментарии по поводу данных;\n",
    "- исправить ошибку в доказательстве.\n",
    "    \n",
    "До скорой встречи, если у тебя есть какие-то вопросы или ты хочешь какую-то подборку статей, то обязательно пиши =)\n",
    "</div>"
   ]
  },
  {
   "cell_type": "markdown",
   "metadata": {},
   "source": [
    "<div class=\"alert alert-block alert-success\">\n",
    "<b>Комментарий ревьюера V.2👍:</b> Дополнительные материалы:\n",
    "\n",
    "Обзоры по применению криптографии в машинном обучении: https://arxiv.org/pdf/1902.04109.pdf, https://www.researchgate.net/publication/342746786_Some_Applications_of_Machine_Learning_in_Cryptography\n",
    "\n",
    "Небольшой обзор на Шифр Хилла: https://habr.com/ru/post/595281/\n",
    "   \n",
    "Примеры использования линейной алгебры в машинном обучении:\n",
    "https://machinelearningmastery.com/examples-of-linear-algebra-in-machine-learning/\n",
    "    \n",
    "Для чего нужна математика в машинном обучении?\n",
    "https://proglib.io/p/dlya-chego-nuzhen-matematicheskiy-analiz-v-mashinnom-obuchenii-2021-02-15\n",
    "\n",
    "Большая статья по векторам:\n",
    "https://neptune.ai/blog/understanding-vectors-from-a-machine-learning-perspective  \n",
    "\n",
    "Можно ещё дополнительно посмотреть лекции от МФТИ https://www.youtube.com/playlist?list=PLk4h7dmY2eYHHTyfLyrl7HmP-H3mMAW08\n",
    "    \n",
    "Классная серия роликов по линейной алгебре на английском (можно включить автоматические русские субтитры): https://www.youtube.com/playlist?list=PLRDl2inPrWQW1QSWhBU0ki-jq_uElkh2a\n",
    "    \n",
    "Удачи в будущих проектах и работе =)\n",
    "</div>\n"
   ]
  }
 ],
 "metadata": {
  "ExecuteTimeLog": [
   {
    "duration": 380,
    "start_time": "2022-06-16T17:11:33.223Z"
   },
   {
    "duration": 77,
    "start_time": "2022-06-16T17:11:35.483Z"
   },
   {
    "duration": 37,
    "start_time": "2022-06-16T17:12:00.948Z"
   },
   {
    "duration": 48,
    "start_time": "2022-06-16T17:12:22.944Z"
   },
   {
    "duration": 16,
    "start_time": "2022-06-16T17:14:58.560Z"
   },
   {
    "duration": 109,
    "start_time": "2022-06-16T17:26:49.799Z"
   },
   {
    "duration": 20,
    "start_time": "2022-06-16T17:27:59.591Z"
   },
   {
    "duration": 78,
    "start_time": "2022-06-16T17:28:11.601Z"
   },
   {
    "duration": 138,
    "start_time": "2022-06-16T17:30:34.096Z"
   },
   {
    "duration": 21,
    "start_time": "2022-06-16T17:30:41.893Z"
   },
   {
    "duration": 19,
    "start_time": "2022-06-16T17:30:59.587Z"
   },
   {
    "duration": 13,
    "start_time": "2022-06-16T17:35:35.315Z"
   },
   {
    "duration": 5,
    "start_time": "2022-06-16T17:36:05.926Z"
   },
   {
    "duration": 4,
    "start_time": "2022-06-16T17:36:13.204Z"
   },
   {
    "duration": 11,
    "start_time": "2022-06-16T17:38:59.211Z"
   },
   {
    "duration": 703,
    "start_time": "2022-06-16T17:39:33.793Z"
   },
   {
    "duration": 41,
    "start_time": "2022-06-16T17:39:34.498Z"
   },
   {
    "duration": 3,
    "start_time": "2022-06-16T17:39:34.542Z"
   },
   {
    "duration": 25,
    "start_time": "2022-06-16T17:39:34.547Z"
   },
   {
    "duration": 205,
    "start_time": "2022-06-16T17:39:34.574Z"
   },
   {
    "duration": 1120,
    "start_time": "2022-06-16T17:39:40.703Z"
   },
   {
    "duration": 43,
    "start_time": "2022-06-16T17:39:41.827Z"
   },
   {
    "duration": 15,
    "start_time": "2022-06-16T17:39:41.871Z"
   },
   {
    "duration": 180,
    "start_time": "2022-06-16T17:39:41.888Z"
   },
   {
    "duration": 135,
    "start_time": "2022-06-16T17:39:42.074Z"
   },
   {
    "duration": 1125,
    "start_time": "2022-06-16T17:40:18.413Z"
   },
   {
    "duration": 48,
    "start_time": "2022-06-16T17:40:19.540Z"
   },
   {
    "duration": 4,
    "start_time": "2022-06-16T17:40:19.590Z"
   },
   {
    "duration": 77,
    "start_time": "2022-06-16T17:40:19.596Z"
   },
   {
    "duration": 117,
    "start_time": "2022-06-16T17:40:19.677Z"
   },
   {
    "duration": 18,
    "start_time": "2022-06-16T17:40:33.137Z"
   },
   {
    "duration": 103,
    "start_time": "2022-06-16T17:41:02.797Z"
   },
   {
    "duration": 19,
    "start_time": "2022-06-16T17:42:19.229Z"
   },
   {
    "duration": 15,
    "start_time": "2022-06-16T17:42:35.079Z"
   },
   {
    "duration": 10,
    "start_time": "2022-06-16T17:43:10.585Z"
   },
   {
    "duration": 1058,
    "start_time": "2022-06-16T17:44:05.168Z"
   },
   {
    "duration": 54,
    "start_time": "2022-06-16T17:44:06.228Z"
   },
   {
    "duration": 4,
    "start_time": "2022-06-16T17:44:06.283Z"
   },
   {
    "duration": 81,
    "start_time": "2022-06-16T17:44:06.289Z"
   },
   {
    "duration": 107,
    "start_time": "2022-06-16T17:44:06.373Z"
   },
   {
    "duration": 254,
    "start_time": "2022-06-16T17:44:06.484Z"
   },
   {
    "duration": 1018,
    "start_time": "2022-06-16T17:44:24.795Z"
   },
   {
    "duration": 41,
    "start_time": "2022-06-16T17:44:25.815Z"
   },
   {
    "duration": 3,
    "start_time": "2022-06-16T17:44:25.858Z"
   },
   {
    "duration": 41,
    "start_time": "2022-06-16T17:44:25.863Z"
   },
   {
    "duration": 172,
    "start_time": "2022-06-16T17:44:25.907Z"
   },
   {
    "duration": 94,
    "start_time": "2022-06-16T17:44:26.081Z"
   },
   {
    "duration": 7,
    "start_time": "2022-06-16T17:45:42.293Z"
   },
   {
    "duration": 100,
    "start_time": "2022-06-16T17:45:46.193Z"
   },
   {
    "duration": 970,
    "start_time": "2022-06-16T17:46:03.558Z"
   },
   {
    "duration": 51,
    "start_time": "2022-06-16T17:46:04.530Z"
   },
   {
    "duration": 5,
    "start_time": "2022-06-16T17:46:04.583Z"
   },
   {
    "duration": 19,
    "start_time": "2022-06-16T17:46:04.591Z"
   },
   {
    "duration": 116,
    "start_time": "2022-06-16T17:46:04.664Z"
   },
   {
    "duration": 304,
    "start_time": "2022-06-16T17:46:04.782Z"
   },
   {
    "duration": 22,
    "start_time": "2022-06-16T17:46:58.947Z"
   },
   {
    "duration": 1058,
    "start_time": "2022-06-16T17:47:11.400Z"
   },
   {
    "duration": 51,
    "start_time": "2022-06-16T17:47:12.460Z"
   },
   {
    "duration": 4,
    "start_time": "2022-06-16T17:47:12.513Z"
   },
   {
    "duration": 128,
    "start_time": "2022-06-16T17:47:12.519Z"
   },
   {
    "duration": 0,
    "start_time": "2022-06-16T17:47:12.648Z"
   },
   {
    "duration": 0,
    "start_time": "2022-06-16T17:47:12.649Z"
   },
   {
    "duration": 15,
    "start_time": "2022-06-16T17:47:29.339Z"
   },
   {
    "duration": 986,
    "start_time": "2022-06-16T17:47:34.821Z"
   },
   {
    "duration": 42,
    "start_time": "2022-06-16T17:47:35.809Z"
   },
   {
    "duration": 4,
    "start_time": "2022-06-16T17:47:35.854Z"
   },
   {
    "duration": 33,
    "start_time": "2022-06-16T17:47:35.860Z"
   },
   {
    "duration": 90,
    "start_time": "2022-06-16T17:47:35.896Z"
   },
   {
    "duration": 196,
    "start_time": "2022-06-16T17:47:35.990Z"
   },
   {
    "duration": 1142,
    "start_time": "2022-06-16T17:50:00.051Z"
   },
   {
    "duration": 45,
    "start_time": "2022-06-16T17:50:01.195Z"
   },
   {
    "duration": 4,
    "start_time": "2022-06-16T17:50:01.242Z"
   },
   {
    "duration": 77,
    "start_time": "2022-06-16T17:50:01.248Z"
   },
   {
    "duration": 140,
    "start_time": "2022-06-16T17:50:01.328Z"
   },
   {
    "duration": 108,
    "start_time": "2022-06-16T17:50:01.475Z"
   },
   {
    "duration": 13,
    "start_time": "2022-06-16T17:52:20.129Z"
   },
   {
    "duration": 102,
    "start_time": "2022-06-16T17:53:21.945Z"
   },
   {
    "duration": 11,
    "start_time": "2022-06-16T17:53:57.140Z"
   },
   {
    "duration": 1071,
    "start_time": "2022-06-16T17:54:02.412Z"
   },
   {
    "duration": 46,
    "start_time": "2022-06-16T17:54:03.485Z"
   },
   {
    "duration": 3,
    "start_time": "2022-06-16T17:54:03.533Z"
   },
   {
    "duration": 30,
    "start_time": "2022-06-16T17:54:03.538Z"
   },
   {
    "duration": 107,
    "start_time": "2022-06-16T17:54:03.570Z"
   },
   {
    "duration": 123,
    "start_time": "2022-06-16T17:54:03.678Z"
   },
   {
    "duration": 10,
    "start_time": "2022-06-16T17:55:39.843Z"
   },
   {
    "duration": 922,
    "start_time": "2022-06-19T09:40:40.068Z"
   },
   {
    "duration": 131,
    "start_time": "2022-06-19T09:40:40.992Z"
   },
   {
    "duration": 4,
    "start_time": "2022-06-19T09:40:41.125Z"
   },
   {
    "duration": 30,
    "start_time": "2022-06-19T09:40:41.131Z"
   },
   {
    "duration": 72,
    "start_time": "2022-06-19T09:40:41.163Z"
   },
   {
    "duration": 200,
    "start_time": "2022-06-19T09:40:41.236Z"
   },
   {
    "duration": 33,
    "start_time": "2022-06-19T10:10:50.548Z"
   },
   {
    "duration": 69,
    "start_time": "2022-06-19T10:17:03.616Z"
   },
   {
    "duration": 25,
    "start_time": "2022-06-19T10:19:20.523Z"
   },
   {
    "duration": 1014,
    "start_time": "2022-06-19T10:24:12.246Z"
   },
   {
    "duration": 45,
    "start_time": "2022-06-19T10:24:13.262Z"
   },
   {
    "duration": 3,
    "start_time": "2022-06-19T10:24:13.309Z"
   },
   {
    "duration": 15,
    "start_time": "2022-06-19T10:24:13.314Z"
   },
   {
    "duration": 95,
    "start_time": "2022-06-19T10:24:13.332Z"
   },
   {
    "duration": 102,
    "start_time": "2022-06-19T10:24:13.429Z"
   },
   {
    "duration": 97,
    "start_time": "2022-06-19T10:24:13.533Z"
   },
   {
    "duration": 1036,
    "start_time": "2022-06-20T19:43:31.357Z"
   },
   {
    "duration": 97,
    "start_time": "2022-06-20T19:43:32.395Z"
   },
   {
    "duration": 4,
    "start_time": "2022-06-20T19:43:32.495Z"
   },
   {
    "duration": 29,
    "start_time": "2022-06-20T19:43:32.501Z"
   },
   {
    "duration": 132,
    "start_time": "2022-06-20T19:43:32.533Z"
   },
   {
    "duration": 92,
    "start_time": "2022-06-20T19:43:32.668Z"
   },
   {
    "duration": 101,
    "start_time": "2022-06-20T19:43:32.762Z"
   }
  ],
  "kernelspec": {
   "display_name": "Python 3 (ipykernel)",
   "language": "python",
   "name": "python3"
  },
  "language_info": {
   "codemirror_mode": {
    "name": "ipython",
    "version": 3
   },
   "file_extension": ".py",
   "mimetype": "text/x-python",
   "name": "python",
   "nbconvert_exporter": "python",
   "pygments_lexer": "ipython3",
   "version": "3.9.5"
  },
  "toc": {
   "base_numbering": 1,
   "nav_menu": {},
   "number_sections": true,
   "sideBar": true,
   "skip_h1_title": true,
   "title_cell": "Содержание",
   "title_sidebar": "Contents",
   "toc_cell": true,
   "toc_position": {
    "height": "calc(100% - 180px)",
    "left": "10px",
    "top": "150px",
    "width": "165px"
   },
   "toc_section_display": true,
   "toc_window_display": true
  }
 },
 "nbformat": 4,
 "nbformat_minor": 2
}
