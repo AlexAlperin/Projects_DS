{
 "cells": [
  {
   "cell_type": "markdown",
   "metadata": {},
   "source": [
    "<div style=\"border:solid blue 2px; padding: 20px\">\n",
    "<font color='blue'>Привет, Александр!</font>\n",
    "\n",
    "Твоё решение проверил <font color='blue'>Александр Цымбалов</font>\n",
    "\n",
    "Если у тебя будут какие-то <font color='blue'>вопросы</font>, то обязательно их <font color='blue'>задавай</font>\n",
    "\n",
    "Я буду обращаться к тебе на \"ты\", т.к. мы здесь все студенты)\n",
    "<br><br>\n",
    "Мои комментарии будут в отдельных ячейках <font color='blue'>Markdown</font> с заголовком «Комментарий ревьюера».\n",
    "\n",
    "**Пожалуйста, не перемещай, не изменяй и не удаляй их**. \n",
    "Я буду использовать цветовую разметку:\n",
    "\n",
    "<div class=\"alert alert-danger\">\n",
    "<b>Комментарий ревьюера ❌:</b> Замечания, которые необходимо обработать, иначе я не смогу принять проект </div>\n",
    "\n",
    "<div class=\"alert alert-warning\">\n",
    "<b>Комментарий ревьюера ⚠️:</b> Небольшие замечания или вопросы по пониманию темы. Если есть желание и время, то у тебя есть возможность сделать проект ещё лучше </div>\n",
    "\n",
    "<div class=\"alert alert-success\">\n",
    "<b>Комментарий ревьюера ✔️:</b> Хвалебные отзывы или другого рода комментарии)</div>\n",
    "\n",
    "**Если ты что-то меняешь в проекте или отвечаешь на мои комментарии — пиши об этом.**\n",
    "\n",
    "Мне будет <font color='blue'> легче </font> отследить изменения, если ты выделишь свои комментарии:\n",
    "<div class=\"alert alert-info\"> <b>Комментарий студента:</b> Лучше в таком формате, но как тебе <font color='blue'> удобно </font></div></font>\n",
    "\n",
    "Версии комментариев я буду нумеровать\n",
    "\n",
    "<br>"
   ]
  },
  {
   "cell_type": "markdown",
   "metadata": {},
   "source": [
    "<div style=\"border:solid blue 2px; padding: 20px\">\n",
    "<font color='blue'>Итоги 1 ревью:</font>\n",
    "\n",
    "Хорошая работа с текстом! <br>Получились правильные функции для очистки и лемматизации, корректное получение признаков TF-IDF и обучение моделей. В работе есть ошибки, которые стоит исправить:\n",
    "    <ul>\n",
    "        <li>Не используется предобработанный текст</li>\n",
    "        <li>Модели не прошли минимальный порог по метрике</li>\n",
    "    </ul>\n",
    "Подробнее с ошибками ты сможешь познакомиться ниже в работе.<br>\n",
    "Что я советую посмотреть в первую очередь, чтобы улучшить показатели моделей:\n",
    "    <ul>\n",
    "        <li>Внимательный подбор параметров для лог. регрессии (`C`) и леса (`n_estimators`)</li>\n",
    "        <li>Посмотреть распределение в целевом признаке</li>\n",
    "        <li>Посмотреть параметры `TfidfVectorizer`</li>\n",
    "    </ul>\n",
    "Успехов! Жду на ревью!"
   ]
  },
  {
   "cell_type": "markdown",
   "metadata": {},
   "source": [
    "<div style=\"border:solid blue 2px; padding: 20px\">\n",
    "<font color='blue'>Итоги 2 ревью:</font>\n",
    "\n",
    "Привет! <br>Теперь в работе верно используется лемматизированный текст для обучения, но не используется очистка.<br>По поводу метрики ниже минимального порога - предлагаю ответить на следующие вопросы: \n",
    "    <ul>\n",
    "        <li>При подборе гиперпараметров учитываются ли базовые гиперпараметры? Насколько большой разброс относительно базового? <br>В случае лог. регрессии советую смотреть только на `C`</li>\n",
    "        <li>Было ли сравнение `ngram_range=(1, 1)` и `ngram_range=(2, 2)` по финальной метрике при прочих равных?</li>\n",
    "        <li>Стоит посмотреть на функцию `clear_text` и `TfidfVectorizer`</li>\n",
    "    </ul>\n",
    "С помощью лог. регрессии уже можно пройти порог по метрике, ты на финишной прямой! <br>Буду ждать на ревью. Удачи!"
   ]
  },
  {
   "cell_type": "markdown",
   "metadata": {},
   "source": [
    "<div style=\"border:solid green 2px; padding: 20px\">\n",
    "<font color='green'>Итоги 3 ревью:</font>\n",
    "\n",
    "Работа завершена успешно! <br>Правки позволили пройти минимальный порог по метрике. <br>Я добавил советы по поводу функции очистки, утечки тестовых данных в кросс-валидации, а также ответил на твои вопросы в конце работы, поэтому прошу ознакомиться. <br>Оставляю для тебя подборку полезных материалов, которые помогут глубже погрузиться в мир `Машинного обучения для текстов`:\n",
    "\n",
    "<br>Полезные материалы:\n",
    "    <ul><li>Про BERT</li>\n",
    "    <ul>\n",
    "        <li>Яндекс Практикум, RuBERT</li>\n",
    "        <li>https://towardsdatascience.com/fine-tuning-bert-for-text-classification-54e7df642894 - Полный туториал-обучение по BERT</li>\n",
    "        <li>https://medium.com/analytics-vidhya/text-classification-with-bert-using-transformers-for-long-text-inputs-f54833994dfd - Тоже туториал про классификации, но для длинных текстов</li>\n",
    "        <li>https://huggingface.co/docs/transformers/tasks/sequence_classification - Официальный пример из документации huggingface</li>\n",
    "        <li>https://colab.research.google.com/github/huggingface/notebooks/blob/main/examples/text_classification.ipynb - <b>Отличный туториал по реальному соревнованию</b></li>\n",
    "    </ul>\n",
    "    <li>Про GPU</li>\n",
    "    <ul>\n",
    "        <li>https://colab.research.google.com/ - Google Colab для эффективного обучения</li>\n",
    "        <li>https://www.tutorialspoint.com/google_colab/google_colab_using_free_gpu.htm - Как включить GPU в Google Colab</li>\n",
    "        <li>https://huggingface.co/docs/transformers/performance - Как BERT обучать на GPU</li>\n",
    "    </ul>\n",
    "            <li>Про catboost</li>\n",
    "    <ul>\n",
    "        <li>https://towardsdatascience.com/10x-times-fast-catboost-training-speed-with-an-nvidia-gpu-5ffefd9b57a6 - Сравнение GPU и CPU + код обучения на GPU</li>\n",
    "        <li>https://colab.research.google.com/github/catboost/tutorials/blob/master/tools/google_colaboratory_cpu_vs_gpu_tutorial.ipynb - Тетрадка туториал по GPU и CPU catboost</li>\n",
    "    </ul>\n",
    "</ul>\n",
    "    \n",
    "Сейчас активно используются RNN (LSTM) и трансформеры (BERT, ELMO, GPT/2/3/n и др.). Они не являются панацеей, так как и TF-IDF или Word2Vec + модели из классического ML тоже могут решать задачи в текстах. \\\n",
    "BERT тяжелый, есть готовые модели, есть надстройки над библиотекой transformers. Если, обучать BERT на GPU (можно в Google Colab или Kaggle), то должно быть побыстрее.\\\n",
    "https://huggingface.co/transformers/model_doc/bert.html \\\n",
    "https://t.me/renat_alimbekov \\\n",
    "https://colah.github.io/posts/2015-08-Understanding-LSTMs/ - Про LSTM \\\n",
    "https://web.stanford.edu/~jurafsky/slp3/10.pdf - про энкодер-декодер модели, этеншены\\\n",
    "https://pytorch.org/tutorials/beginner/transformer_tutorial.html - официальный гайд\n",
    "по трансформеру от создателей pytorch\\\n",
    "https://transformer.huggingface.co/ - поболтать с трансформером \\\n",
    "Библиотеки: allennlp, fairseq, transformers, tensorflow-text — множествореализованных\n",
    "методов для трансформеров методов NLP \\\n",
    "Word2Vec https://radimrehurek.com/gensim/models/word2vec.html \n",
    "\n",
    "<font color='green'>Пример BERT с GPU:\n",
    "```python\n",
    "%%time\n",
    "from tqdm import notebook\n",
    "batch_size = 2 # для примера возьмем такой батч, где будет всего две строки датасета\n",
    "embeddings = [] \n",
    "for i in notebook.tqdm(range(input_ids.shape[0] // batch_size)):\n",
    "        batch = torch.LongTensor(input_ids[batch_size*i:batch_size*(i+1)]).cuda() # закидываем тензор на GPU\n",
    "        attention_mask_batch = torch.LongTensor(attention_mask[batch_size*i:batch_size*(i+1)]).cuda()\n",
    "        \n",
    "        with torch.no_grad():\n",
    "            model.cuda()\n",
    "            batch_embeddings = model(batch, attention_mask=attention_mask_batch)\n",
    "        \n",
    "        embeddings.append(batch_embeddings[0][:,0,:].cpu().numpy()) # перевод обратно на проц, чтобы в нумпай кинуть\n",
    "        del batch\n",
    "        del attention_mask_batch\n",
    "        del batch_embeddings\n",
    "        \n",
    "features = np.concatenate(embeddings) \n",
    "```\n",
    "Можно сделать предварительную проверку на наличие GPU.\\\n",
    "Например, так: ```device = torch.device(\"cuda:0\") if torch.cuda.is_available() else torch.device(\"cpu\")```\\\n",
    "Тогда вместо .cuda() нужно писать .to(device)</font>\n",
    "    \n",
    "Спасибо за работу и удачи на курсе, Александр!"
   ]
  },
  {
   "cell_type": "markdown",
   "metadata": {
    "toc": true
   },
   "source": [
    "<h1>Содержание<span class=\"tocSkip\"></span></h1>\n",
    "<div class=\"toc\"><ul class=\"toc-item\"><li><span><a href=\"#Подготовка\" data-toc-modified-id=\"Подготовка-1\"><span class=\"toc-item-num\">1&nbsp;&nbsp;</span>Подготовка</a></span></li><li><span><a href=\"#Обучение\" data-toc-modified-id=\"Обучение-2\"><span class=\"toc-item-num\">2&nbsp;&nbsp;</span>Обучение</a></span></li><li><span><a href=\"#Выводы\" data-toc-modified-id=\"Выводы-3\"><span class=\"toc-item-num\">3&nbsp;&nbsp;</span>Выводы</a></span></li><li><span><a href=\"#Чек-лист-проверки\" data-toc-modified-id=\"Чек-лист-проверки-4\"><span class=\"toc-item-num\">4&nbsp;&nbsp;</span>Чек-лист проверки</a></span></li></ul></div>"
   ]
  },
  {
   "cell_type": "markdown",
   "metadata": {},
   "source": [
    "# Проект для «Викишоп»"
   ]
  },
  {
   "cell_type": "markdown",
   "metadata": {},
   "source": [
    "Интернет-магазин «Викишоп» запускает новый сервис. Теперь пользователи могут редактировать и дополнять описания товаров, как в вики-сообществах. То есть клиенты предлагают свои правки и комментируют изменения других. Магазину нужен инструмент, который будет искать токсичные комментарии и отправлять их на модерацию. \n",
    "\n",
    "Обучите модель классифицировать комментарии на позитивные и негативные. В вашем распоряжении набор данных с разметкой о токсичности правок.\n",
    "\n",
    "Постройте модель со значением метрики качества *F1* не меньше 0.75. \n",
    "\n",
    "**Инструкция по выполнению проекта**\n",
    "\n",
    "1. Загрузите и подготовьте данные.\n",
    "2. Обучите разные модели. \n",
    "3. Сделайте выводы.\n",
    "\n",
    "Для выполнения проекта применять *BERT* необязательно, но вы можете попробовать.\n",
    "\n",
    "**Описание данных**\n",
    "\n",
    "Данные находятся в файле `toxic_comments.csv`. Столбец *text* в нём содержит текст комментария, а *toxic* — целевой признак."
   ]
  },
  {
   "cell_type": "markdown",
   "metadata": {},
   "source": [
    "## Подготовка"
   ]
  },
  {
   "cell_type": "code",
   "execution_count": 1,
   "metadata": {},
   "outputs": [
    {
     "name": "stderr",
     "output_type": "stream",
     "text": [
      "[nltk_data] Downloading package stopwords to /home/jovyan/nltk_data...\n",
      "[nltk_data]   Package stopwords is already up-to-date!\n",
      "[nltk_data] Downloading package wordnet to /home/jovyan/nltk_data...\n",
      "[nltk_data]   Package wordnet is already up-to-date!\n",
      "[nltk_data] Downloading package punkt to /home/jovyan/nltk_data...\n",
      "[nltk_data]   Package punkt is already up-to-date!\n"
     ]
    }
   ],
   "source": [
    "import pandas as pd\n",
    "import numpy as np\n",
    "import nltk\n",
    "import re\n",
    "import matplotlib.pyplot as plt\n",
    "import time\n",
    "\n",
    "from sklearn.metrics import f1_score\n",
    "from sklearn.model_selection import train_test_split\n",
    "from sklearn.model_selection import GridSearchCV\n",
    "from sklearn.linear_model import LogisticRegression\n",
    "from sklearn.ensemble import RandomForestClassifier\n",
    "from sklearn.feature_extraction.text import TfidfVectorizer\n",
    "from sklearn.feature_extraction.text import CountVectorizer \n",
    "\n",
    "\n",
    "from nltk.corpus import stopwords as nltk_stopwords\n",
    "from nltk.stem import WordNetLemmatizer\n",
    " \n",
    "\n",
    "nltk.download('stopwords')\n",
    "nltk.download('wordnet')\n",
    "nltk.download('punkt')\n",
    "stopwords = set(nltk_stopwords.words('english'))\n",
    "\n",
    "\n"
   ]
  },
  {
   "cell_type": "code",
   "execution_count": 2,
   "metadata": {},
   "outputs": [
    {
     "data": {
      "text/html": [
       "<div>\n",
       "<style scoped>\n",
       "    .dataframe tbody tr th:only-of-type {\n",
       "        vertical-align: middle;\n",
       "    }\n",
       "\n",
       "    .dataframe tbody tr th {\n",
       "        vertical-align: top;\n",
       "    }\n",
       "\n",
       "    .dataframe thead th {\n",
       "        text-align: right;\n",
       "    }\n",
       "</style>\n",
       "<table border=\"1\" class=\"dataframe\">\n",
       "  <thead>\n",
       "    <tr style=\"text-align: right;\">\n",
       "      <th></th>\n",
       "      <th>text</th>\n",
       "      <th>toxic</th>\n",
       "    </tr>\n",
       "  </thead>\n",
       "  <tbody>\n",
       "    <tr>\n",
       "      <th>0</th>\n",
       "      <td>Explanation\\nWhy the edits made under my usern...</td>\n",
       "      <td>0</td>\n",
       "    </tr>\n",
       "    <tr>\n",
       "      <th>1</th>\n",
       "      <td>D'aww! He matches this background colour I'm s...</td>\n",
       "      <td>0</td>\n",
       "    </tr>\n",
       "    <tr>\n",
       "      <th>2</th>\n",
       "      <td>Hey man, I'm really not trying to edit war. It...</td>\n",
       "      <td>0</td>\n",
       "    </tr>\n",
       "    <tr>\n",
       "      <th>3</th>\n",
       "      <td>\"\\nMore\\nI can't make any real suggestions on ...</td>\n",
       "      <td>0</td>\n",
       "    </tr>\n",
       "    <tr>\n",
       "      <th>4</th>\n",
       "      <td>You, sir, are my hero. Any chance you remember...</td>\n",
       "      <td>0</td>\n",
       "    </tr>\n",
       "    <tr>\n",
       "      <th>5</th>\n",
       "      <td>\"\\n\\nCongratulations from me as well, use the ...</td>\n",
       "      <td>0</td>\n",
       "    </tr>\n",
       "    <tr>\n",
       "      <th>6</th>\n",
       "      <td>COCKSUCKER BEFORE YOU PISS AROUND ON MY WORK</td>\n",
       "      <td>1</td>\n",
       "    </tr>\n",
       "    <tr>\n",
       "      <th>7</th>\n",
       "      <td>Your vandalism to the Matt Shirvington article...</td>\n",
       "      <td>0</td>\n",
       "    </tr>\n",
       "    <tr>\n",
       "      <th>8</th>\n",
       "      <td>Sorry if the word 'nonsense' was offensive to ...</td>\n",
       "      <td>0</td>\n",
       "    </tr>\n",
       "    <tr>\n",
       "      <th>9</th>\n",
       "      <td>alignment on this subject and which are contra...</td>\n",
       "      <td>0</td>\n",
       "    </tr>\n",
       "    <tr>\n",
       "      <th>10</th>\n",
       "      <td>\"\\nFair use rationale for Image:Wonju.jpg\\n\\nT...</td>\n",
       "      <td>0</td>\n",
       "    </tr>\n",
       "    <tr>\n",
       "      <th>11</th>\n",
       "      <td>bbq \\n\\nbe a man and lets discuss it-maybe ove...</td>\n",
       "      <td>0</td>\n",
       "    </tr>\n",
       "    <tr>\n",
       "      <th>12</th>\n",
       "      <td>Hey... what is it..\\n@ | talk .\\nWhat is it......</td>\n",
       "      <td>1</td>\n",
       "    </tr>\n",
       "    <tr>\n",
       "      <th>13</th>\n",
       "      <td>Before you start throwing accusations and warn...</td>\n",
       "      <td>0</td>\n",
       "    </tr>\n",
       "    <tr>\n",
       "      <th>14</th>\n",
       "      <td>Oh, and the girl above started her arguments w...</td>\n",
       "      <td>0</td>\n",
       "    </tr>\n",
       "  </tbody>\n",
       "</table>\n",
       "</div>"
      ],
      "text/plain": [
       "                                                 text  toxic\n",
       "0   Explanation\\nWhy the edits made under my usern...      0\n",
       "1   D'aww! He matches this background colour I'm s...      0\n",
       "2   Hey man, I'm really not trying to edit war. It...      0\n",
       "3   \"\\nMore\\nI can't make any real suggestions on ...      0\n",
       "4   You, sir, are my hero. Any chance you remember...      0\n",
       "5   \"\\n\\nCongratulations from me as well, use the ...      0\n",
       "6        COCKSUCKER BEFORE YOU PISS AROUND ON MY WORK      1\n",
       "7   Your vandalism to the Matt Shirvington article...      0\n",
       "8   Sorry if the word 'nonsense' was offensive to ...      0\n",
       "9   alignment on this subject and which are contra...      0\n",
       "10  \"\\nFair use rationale for Image:Wonju.jpg\\n\\nT...      0\n",
       "11  bbq \\n\\nbe a man and lets discuss it-maybe ove...      0\n",
       "12  Hey... what is it..\\n@ | talk .\\nWhat is it......      1\n",
       "13  Before you start throwing accusations and warn...      0\n",
       "14  Oh, and the girl above started her arguments w...      0"
      ]
     },
     "execution_count": 2,
     "metadata": {},
     "output_type": "execute_result"
    }
   ],
   "source": [
    "data = pd.read_csv('/datasets/toxic_comments.csv')\n",
    "data.head(15)"
   ]
  },
  {
   "cell_type": "code",
   "execution_count": 3,
   "metadata": {},
   "outputs": [
    {
     "data": {
      "text/plain": [
       "<bound method DataFrame.info of                                                      text  toxic\n",
       "0       Explanation\\nWhy the edits made under my usern...      0\n",
       "1       D'aww! He matches this background colour I'm s...      0\n",
       "2       Hey man, I'm really not trying to edit war. It...      0\n",
       "3       \"\\nMore\\nI can't make any real suggestions on ...      0\n",
       "4       You, sir, are my hero. Any chance you remember...      0\n",
       "...                                                   ...    ...\n",
       "159566  \":::::And for the second time of asking, when ...      0\n",
       "159567  You should be ashamed of yourself \\n\\nThat is ...      0\n",
       "159568  Spitzer \\n\\nUmm, theres no actual article for ...      0\n",
       "159569  And it looks like it was actually you who put ...      0\n",
       "159570  \"\\nAnd ... I really don't think you understand...      0\n",
       "\n",
       "[159571 rows x 2 columns]>"
      ]
     },
     "execution_count": 3,
     "metadata": {},
     "output_type": "execute_result"
    }
   ],
   "source": [
    "data.info\n"
   ]
  },
  {
   "cell_type": "markdown",
   "metadata": {},
   "source": [
    "<div class=\"alert alert-info\">\n",
    "<font color='black'> <b>  В датафрейме имеются 2 столбца: сам текст и целевой признак </font> <b>"
   ]
  },
  {
   "cell_type": "code",
   "execution_count": 4,
   "metadata": {},
   "outputs": [
    {
     "data": {
      "text/plain": [
       "0    143346\n",
       "1     16225\n",
       "Name: toxic, dtype: int64"
      ]
     },
     "metadata": {},
     "output_type": "display_data"
    }
   ],
   "source": [
    "display (data['toxic'].value_counts(sort = True))"
   ]
  },
  {
   "cell_type": "code",
   "execution_count": 5,
   "metadata": {},
   "outputs": [
    {
     "data": {
      "text/plain": [
       "0"
      ]
     },
     "execution_count": 5,
     "metadata": {},
     "output_type": "execute_result"
    }
   ],
   "source": [
    "data.duplicated().sum()"
   ]
  },
  {
   "cell_type": "markdown",
   "metadata": {},
   "source": [
    "<div class=\"alert alert-info\">\n",
    "<font color='black'> <b>  Проверим данные на дубликаты: дубликаты отсутствуют </font> <b>"
   ]
  },
  {
   "cell_type": "code",
   "execution_count": 6,
   "metadata": {},
   "outputs": [
    {
     "data": {
      "text/plain": [
       "text     0\n",
       "toxic    0\n",
       "dtype: int64"
      ]
     },
     "execution_count": 6,
     "metadata": {},
     "output_type": "execute_result"
    }
   ],
   "source": [
    "data.isna().sum()"
   ]
  },
  {
   "cell_type": "markdown",
   "metadata": {},
   "source": [
    "<div class=\"alert alert-info\">\n",
    "<font color='black'> <b>  Проверим данные на пропуски: пропуски отсутствуют </font> <b>"
   ]
  },
  {
   "cell_type": "markdown",
   "metadata": {},
   "source": [
    "<div class=\"alert alert-success\">\n",
    "<b>1 Комментарий ревьюера ✔️:</b> Правильный вводный анализ датасета</div>\n"
   ]
  },
  {
   "cell_type": "code",
   "execution_count": 7,
   "metadata": {},
   "outputs": [],
   "source": [
    "corpus = data['text']\n",
    " \n",
    "def clear_text(text): \n",
    "    text = re.sub(r'[^a-zA-Z ]', ' ', str(text)) \n",
    " \n",
    "    return \" \".join(text.split()) \n",
    " \n",
    "clear_corpus = corpus.apply(clear_text) "
   ]
  },
  {
   "cell_type": "markdown",
   "metadata": {},
   "source": [
    "\n",
    "<div class=\"alert alert-warning\">\n",
    "<b>2 Комментарий ревьюера ⚠️:</b> \n",
    "    \n",
    "`clear_corpus` - не весь корпус, а только первая запись. Попробуй применить `.apply(clear_text)` к `data['text']`:\n",
    "    \n",
    "```python\n",
    "clear_corpus = corpus.apply(clear_text)\n"
   ]
  },
  {
   "cell_type": "markdown",
   "metadata": {},
   "source": [
    "<div class=\"alert alert-info\">\n",
    "<font color='black'> <b>  Применим очистку текста </font> <b>"
   ]
  },
  {
   "cell_type": "markdown",
   "metadata": {},
   "source": [
    "<div class=\"alert alert-success\">\n",
    "<b>3 Комментарий ревьюера ✔️:</b> Верно!</div>\n"
   ]
  },
  {
   "cell_type": "code",
   "execution_count": 8,
   "metadata": {},
   "outputs": [],
   "source": [
    "lemmatizer = WordNetLemmatizer() \n",
    "def lemmatize(text):\n",
    "    lemmatize_text = []\n",
    "    for sentence in corpus:\n",
    "        word_list = nltk.word_tokenize(sentence)\n",
    "        lemmatize_text.append(' '.join([lemmatizer.lemmatize(w) for w in word_list]))   \n",
    " \n",
    "    return lemmatize_text \n",
    " \n",
    "clear_lem_corpus=lemmatize(clear_corpus)"
   ]
  },
  {
   "cell_type": "markdown",
   "metadata": {},
   "source": [
    "<div class=\"alert alert-info\">\n",
    "<font color='black'> <b>  Применим лемматизацию. Данные подготовлены </font> <b>"
   ]
  },
  {
   "cell_type": "markdown",
   "metadata": {},
   "source": [
    "<div class=\"alert alert-success\">\n",
    "<b>1 Комментарий ревьюера ✔️:</b> Функции для лемматизации и очистки правильные!</div>\n"
   ]
  },
  {
   "cell_type": "markdown",
   "metadata": {},
   "source": [
    "<div class=\"alert alert-danger\">\n",
    "<b>1 Комментарий ревьюера ❌:</b> \n",
    "\n",
    "`corpus` содержит нелемматизированный неочищенный текст. Результаты работы функций не сохраняются\n",
    "<div class=\"alert alert-info\"> <b>Комментарий студента:</b> Сделал </div>\n",
    "</div>\n"
   ]
  },
  {
   "cell_type": "markdown",
   "metadata": {},
   "source": [
    "\n",
    "<div class=\"alert alert-warning\">\n",
    "<b>2 Комментарий ревьюера ⚠️:</b> \n",
    "    \n",
    "Не используешь очищенный текст. Работаешь только с лемматизированным. Посмотри внимательнее используется ли `text` в функции  </div>\n"
   ]
  },
  {
   "cell_type": "markdown",
   "metadata": {},
   "source": [
    "\n",
    "<div class=\"alert alert-warning\">\n",
    "<b>3 Комментарий ревьюера ⚠️:</b> \n",
    "    \n",
    "В функцию `lemmatize` передаешь `clear_text`с именем `text`, но внутри функции в цикле итерируешься по `corpus`, который не `clear_corpus`, т.е. снова не используешь очищенный текст, а только лемматизированный\n",
    "</div>\n"
   ]
  },
  {
   "cell_type": "markdown",
   "metadata": {},
   "source": [
    "## Обучение"
   ]
  },
  {
   "cell_type": "markdown",
   "metadata": {},
   "source": [
    "<div class=\"alert alert-warning\">\n",
    "<b>3 Комментарий ревьюера ⚠️:</b> \n",
    "    \n",
    "Немного про утечку тестовых данных (совет): если делать кросс-валидацию на признаках TF-IDF - произойдет утечка тестовых данных. Чтобы не попадала информация о словах из тест. выборки в тренировочную, мы обучаем `TfidfVectorizer` на тренировочной выборке, после чего трансформируем тест. выборку. <br>**НО!** Наша ситуация ниже: в `GridSearchCV` тренировочная выборка делится на 2-тренировочных фолда и 1-тестовый фолд, но при этом `TfidfVectorizer` обучался на 3-фолдах в сумме. Решение проблемы: [Pipelines](https://stackoverflow.com/questions/46010617/do-i-use-the-same-tfidf-vocabulary-in-k-fold-cross-validation) </div>\n"
   ]
  },
  {
   "cell_type": "code",
   "execution_count": 9,
   "metadata": {},
   "outputs": [],
   "source": [
    "count_tf_idf = TfidfVectorizer(stop_words=stopwords, ngram_range=(1, 1))"
   ]
  },
  {
   "cell_type": "markdown",
   "metadata": {},
   "source": [
    "<div class=\"alert alert-success\">\n",
    "<b>1 Комментарий ревьюера ✔️:</b> Здорово, что ты используешь стоп-слова!</div>\n"
   ]
  },
  {
   "cell_type": "code",
   "execution_count": 10,
   "metadata": {},
   "outputs": [],
   "source": [
    "target=data['toxic']\n",
    "\n",
    "features_train, features_sum, target_train, target_sum= train_test_split(clear_lem_corpus, target, test_size=0.4, random_state=12345)\n",
    "features_val, features_test, target_val, target_test = train_test_split(features_sum, target_sum, test_size=0.5, random_state=12345)\n"
   ]
  },
  {
   "cell_type": "markdown",
   "metadata": {},
   "source": [
    "\n",
    "<div class=\"alert alert-warning\">\n",
    "<b>1 Комментарий ревьюера ⚠️:</b> \n",
    "    \n",
    "На валидацию и тестирование лучше отдать по 20% от датасета (как рекомендуется в курсе)\n",
    "<div class=\"alert alert-info\"> <b>Комментарий студента:</b> Сделал </div></div>\n"
   ]
  },
  {
   "cell_type": "markdown",
   "metadata": {},
   "source": [
    "<div class=\"alert alert-success\">\n",
    "<b>2 Комментарий ревьюера ✔️:</b> Отлично!</div>\n"
   ]
  },
  {
   "cell_type": "code",
   "execution_count": 11,
   "metadata": {},
   "outputs": [],
   "source": [
    "tf_idf_train = count_tf_idf.fit_transform(features_train)\n",
    "tf_idf_val = count_tf_idf.transform(features_val)\n",
    "tf_idf_test = count_tf_idf.transform(features_test)"
   ]
  },
  {
   "cell_type": "markdown",
   "metadata": {},
   "source": [
    "<div class=\"alert alert-success\">\n",
    "<b>1 Комментарий ревьюера ✔️:</b> Не допустил утечку тестовых данных!</div>\n"
   ]
  },
  {
   "cell_type": "code",
   "execution_count": 12,
   "metadata": {},
   "outputs": [
    {
     "name": "stdout",
     "output_type": "stream",
     "text": [
      "Fitting 3 folds for each of 116 candidates, totalling 348 fits\n",
      "[CV 1/3; 1/116] START max_depth=4, n_estimators=1...............................\n",
      "[CV 1/3; 1/116] END .............max_depth=4, n_estimators=1; total time=   0.2s\n",
      "[CV 2/3; 1/116] START max_depth=4, n_estimators=1...............................\n",
      "[CV 2/3; 1/116] END .............max_depth=4, n_estimators=1; total time=   0.2s\n",
      "[CV 3/3; 1/116] START max_depth=4, n_estimators=1...............................\n",
      "[CV 3/3; 1/116] END .............max_depth=4, n_estimators=1; total time=   0.2s\n",
      "[CV 1/3; 2/116] START max_depth=4, n_estimators=2...............................\n",
      "[CV 1/3; 2/116] END .............max_depth=4, n_estimators=2; total time=   0.2s\n",
      "[CV 2/3; 2/116] START max_depth=4, n_estimators=2...............................\n",
      "[CV 2/3; 2/116] END .............max_depth=4, n_estimators=2; total time=   0.2s\n",
      "[CV 3/3; 2/116] START max_depth=4, n_estimators=2...............................\n",
      "[CV 3/3; 2/116] END .............max_depth=4, n_estimators=2; total time=   0.2s\n",
      "[CV 1/3; 3/116] START max_depth=4, n_estimators=3...............................\n",
      "[CV 1/3; 3/116] END .............max_depth=4, n_estimators=3; total time=   0.3s\n",
      "[CV 2/3; 3/116] START max_depth=4, n_estimators=3...............................\n",
      "[CV 2/3; 3/116] END .............max_depth=4, n_estimators=3; total time=   0.3s\n",
      "[CV 3/3; 3/116] START max_depth=4, n_estimators=3...............................\n",
      "[CV 3/3; 3/116] END .............max_depth=4, n_estimators=3; total time=   0.3s\n",
      "[CV 1/3; 4/116] START max_depth=4, n_estimators=4...............................\n",
      "[CV 1/3; 4/116] END .............max_depth=4, n_estimators=4; total time=   0.3s\n",
      "[CV 2/3; 4/116] START max_depth=4, n_estimators=4...............................\n",
      "[CV 2/3; 4/116] END .............max_depth=4, n_estimators=4; total time=   0.3s\n",
      "[CV 3/3; 4/116] START max_depth=4, n_estimators=4...............................\n",
      "[CV 3/3; 4/116] END .............max_depth=4, n_estimators=4; total time=   0.3s\n",
      "[CV 1/3; 5/116] START max_depth=4, n_estimators=5...............................\n",
      "[CV 1/3; 5/116] END .............max_depth=4, n_estimators=5; total time=   0.4s\n",
      "[CV 2/3; 5/116] START max_depth=4, n_estimators=5...............................\n",
      "[CV 2/3; 5/116] END .............max_depth=4, n_estimators=5; total time=   0.4s\n",
      "[CV 3/3; 5/116] START max_depth=4, n_estimators=5...............................\n",
      "[CV 3/3; 5/116] END .............max_depth=4, n_estimators=5; total time=   0.4s\n",
      "[CV 1/3; 6/116] START max_depth=4, n_estimators=6...............................\n",
      "[CV 1/3; 6/116] END .............max_depth=4, n_estimators=6; total time=   0.4s\n",
      "[CV 2/3; 6/116] START max_depth=4, n_estimators=6...............................\n",
      "[CV 2/3; 6/116] END .............max_depth=4, n_estimators=6; total time=   0.4s\n",
      "[CV 3/3; 6/116] START max_depth=4, n_estimators=6...............................\n",
      "[CV 3/3; 6/116] END .............max_depth=4, n_estimators=6; total time=   0.5s\n",
      "[CV 1/3; 7/116] START max_depth=4, n_estimators=7...............................\n",
      "[CV 1/3; 7/116] END .............max_depth=4, n_estimators=7; total time=   0.5s\n",
      "[CV 2/3; 7/116] START max_depth=4, n_estimators=7...............................\n",
      "[CV 2/3; 7/116] END .............max_depth=4, n_estimators=7; total time=   0.5s\n",
      "[CV 3/3; 7/116] START max_depth=4, n_estimators=7...............................\n",
      "[CV 3/3; 7/116] END .............max_depth=4, n_estimators=7; total time=   0.5s\n",
      "[CV 1/3; 8/116] START max_depth=4, n_estimators=8...............................\n",
      "[CV 1/3; 8/116] END .............max_depth=4, n_estimators=8; total time=   0.5s\n",
      "[CV 2/3; 8/116] START max_depth=4, n_estimators=8...............................\n",
      "[CV 2/3; 8/116] END .............max_depth=4, n_estimators=8; total time=   0.5s\n",
      "[CV 3/3; 8/116] START max_depth=4, n_estimators=8...............................\n",
      "[CV 3/3; 8/116] END .............max_depth=4, n_estimators=8; total time=   0.5s\n",
      "[CV 1/3; 9/116] START max_depth=4, n_estimators=9...............................\n",
      "[CV 1/3; 9/116] END .............max_depth=4, n_estimators=9; total time=   0.6s\n",
      "[CV 2/3; 9/116] START max_depth=4, n_estimators=9...............................\n",
      "[CV 2/3; 9/116] END .............max_depth=4, n_estimators=9; total time=   0.6s\n",
      "[CV 3/3; 9/116] START max_depth=4, n_estimators=9...............................\n",
      "[CV 3/3; 9/116] END .............max_depth=4, n_estimators=9; total time=   0.6s\n",
      "[CV 1/3; 10/116] START max_depth=4, n_estimators=10.............................\n",
      "[CV 1/3; 10/116] END ...........max_depth=4, n_estimators=10; total time=   0.6s\n",
      "[CV 2/3; 10/116] START max_depth=4, n_estimators=10.............................\n",
      "[CV 2/3; 10/116] END ...........max_depth=4, n_estimators=10; total time=   0.6s\n",
      "[CV 3/3; 10/116] START max_depth=4, n_estimators=10.............................\n",
      "[CV 3/3; 10/116] END ...........max_depth=4, n_estimators=10; total time=   0.6s\n",
      "[CV 1/3; 11/116] START max_depth=4, n_estimators=11.............................\n",
      "[CV 1/3; 11/116] END ...........max_depth=4, n_estimators=11; total time=   0.7s\n",
      "[CV 2/3; 11/116] START max_depth=4, n_estimators=11.............................\n",
      "[CV 2/3; 11/116] END ...........max_depth=4, n_estimators=11; total time=   0.7s\n",
      "[CV 3/3; 11/116] START max_depth=4, n_estimators=11.............................\n",
      "[CV 3/3; 11/116] END ...........max_depth=4, n_estimators=11; total time=   0.7s\n",
      "[CV 1/3; 12/116] START max_depth=4, n_estimators=12.............................\n",
      "[CV 1/3; 12/116] END ...........max_depth=4, n_estimators=12; total time=   0.7s\n",
      "[CV 2/3; 12/116] START max_depth=4, n_estimators=12.............................\n",
      "[CV 2/3; 12/116] END ...........max_depth=4, n_estimators=12; total time=   0.8s\n",
      "[CV 3/3; 12/116] START max_depth=4, n_estimators=12.............................\n",
      "[CV 3/3; 12/116] END ...........max_depth=4, n_estimators=12; total time=   0.7s\n",
      "[CV 1/3; 13/116] START max_depth=4, n_estimators=13.............................\n",
      "[CV 1/3; 13/116] END ...........max_depth=4, n_estimators=13; total time=   0.7s\n",
      "[CV 2/3; 13/116] START max_depth=4, n_estimators=13.............................\n",
      "[CV 2/3; 13/116] END ...........max_depth=4, n_estimators=13; total time=   0.7s\n",
      "[CV 3/3; 13/116] START max_depth=4, n_estimators=13.............................\n",
      "[CV 3/3; 13/116] END ...........max_depth=4, n_estimators=13; total time=   0.8s\n",
      "[CV 1/3; 14/116] START max_depth=4, n_estimators=14.............................\n",
      "[CV 1/3; 14/116] END ...........max_depth=4, n_estimators=14; total time=   0.8s\n",
      "[CV 2/3; 14/116] START max_depth=4, n_estimators=14.............................\n",
      "[CV 2/3; 14/116] END ...........max_depth=4, n_estimators=14; total time=   0.8s\n",
      "[CV 3/3; 14/116] START max_depth=4, n_estimators=14.............................\n",
      "[CV 3/3; 14/116] END ...........max_depth=4, n_estimators=14; total time=   0.8s\n",
      "[CV 1/3; 15/116] START max_depth=4, n_estimators=15.............................\n",
      "[CV 1/3; 15/116] END ...........max_depth=4, n_estimators=15; total time=   0.8s\n",
      "[CV 2/3; 15/116] START max_depth=4, n_estimators=15.............................\n",
      "[CV 2/3; 15/116] END ...........max_depth=4, n_estimators=15; total time=   0.9s\n",
      "[CV 3/3; 15/116] START max_depth=4, n_estimators=15.............................\n",
      "[CV 3/3; 15/116] END ...........max_depth=4, n_estimators=15; total time=   0.9s\n",
      "[CV 1/3; 16/116] START max_depth=4, n_estimators=16.............................\n",
      "[CV 1/3; 16/116] END ...........max_depth=4, n_estimators=16; total time=   0.9s\n",
      "[CV 2/3; 16/116] START max_depth=4, n_estimators=16.............................\n",
      "[CV 2/3; 16/116] END ...........max_depth=4, n_estimators=16; total time=   1.0s\n",
      "[CV 3/3; 16/116] START max_depth=4, n_estimators=16.............................\n",
      "[CV 3/3; 16/116] END ...........max_depth=4, n_estimators=16; total time=   1.0s\n",
      "[CV 1/3; 17/116] START max_depth=4, n_estimators=17.............................\n",
      "[CV 1/3; 17/116] END ...........max_depth=4, n_estimators=17; total time=   1.0s\n",
      "[CV 2/3; 17/116] START max_depth=4, n_estimators=17.............................\n",
      "[CV 2/3; 17/116] END ...........max_depth=4, n_estimators=17; total time=   1.0s\n",
      "[CV 3/3; 17/116] START max_depth=4, n_estimators=17.............................\n",
      "[CV 3/3; 17/116] END ...........max_depth=4, n_estimators=17; total time=   1.0s\n",
      "[CV 1/3; 18/116] START max_depth=4, n_estimators=18.............................\n",
      "[CV 1/3; 18/116] END ...........max_depth=4, n_estimators=18; total time=   1.0s\n",
      "[CV 2/3; 18/116] START max_depth=4, n_estimators=18.............................\n",
      "[CV 2/3; 18/116] END ...........max_depth=4, n_estimators=18; total time=   1.0s\n",
      "[CV 3/3; 18/116] START max_depth=4, n_estimators=18.............................\n",
      "[CV 3/3; 18/116] END ...........max_depth=4, n_estimators=18; total time=   1.0s\n",
      "[CV 1/3; 19/116] START max_depth=4, n_estimators=19.............................\n",
      "[CV 1/3; 19/116] END ...........max_depth=4, n_estimators=19; total time=   1.1s\n",
      "[CV 2/3; 19/116] START max_depth=4, n_estimators=19.............................\n",
      "[CV 2/3; 19/116] END ...........max_depth=4, n_estimators=19; total time=   1.1s\n",
      "[CV 3/3; 19/116] START max_depth=4, n_estimators=19.............................\n",
      "[CV 3/3; 19/116] END ...........max_depth=4, n_estimators=19; total time=   1.1s\n",
      "[CV 1/3; 20/116] START max_depth=4, n_estimators=20.............................\n",
      "[CV 1/3; 20/116] END ...........max_depth=4, n_estimators=20; total time=   1.1s\n",
      "[CV 2/3; 20/116] START max_depth=4, n_estimators=20.............................\n",
      "[CV 2/3; 20/116] END ...........max_depth=4, n_estimators=20; total time=   1.1s\n",
      "[CV 3/3; 20/116] START max_depth=4, n_estimators=20.............................\n",
      "[CV 3/3; 20/116] END ...........max_depth=4, n_estimators=20; total time=   1.2s\n",
      "[CV 1/3; 21/116] START max_depth=4, n_estimators=21.............................\n",
      "[CV 1/3; 21/116] END ...........max_depth=4, n_estimators=21; total time=   1.2s\n",
      "[CV 2/3; 21/116] START max_depth=4, n_estimators=21.............................\n",
      "[CV 2/3; 21/116] END ...........max_depth=4, n_estimators=21; total time=   1.2s\n",
      "[CV 3/3; 21/116] START max_depth=4, n_estimators=21.............................\n",
      "[CV 3/3; 21/116] END ...........max_depth=4, n_estimators=21; total time=   1.2s\n",
      "[CV 1/3; 22/116] START max_depth=4, n_estimators=22.............................\n",
      "[CV 1/3; 22/116] END ...........max_depth=4, n_estimators=22; total time=   1.2s\n",
      "[CV 2/3; 22/116] START max_depth=4, n_estimators=22.............................\n",
      "[CV 2/3; 22/116] END ...........max_depth=4, n_estimators=22; total time=   1.3s\n",
      "[CV 3/3; 22/116] START max_depth=4, n_estimators=22.............................\n",
      "[CV 3/3; 22/116] END ...........max_depth=4, n_estimators=22; total time=   1.2s\n",
      "[CV 1/3; 23/116] START max_depth=4, n_estimators=23.............................\n",
      "[CV 1/3; 23/116] END ...........max_depth=4, n_estimators=23; total time=   1.3s\n",
      "[CV 2/3; 23/116] START max_depth=4, n_estimators=23.............................\n",
      "[CV 2/3; 23/116] END ...........max_depth=4, n_estimators=23; total time=   1.3s\n",
      "[CV 3/3; 23/116] START max_depth=4, n_estimators=23.............................\n",
      "[CV 3/3; 23/116] END ...........max_depth=4, n_estimators=23; total time=   1.3s\n",
      "[CV 1/3; 24/116] START max_depth=4, n_estimators=24.............................\n",
      "[CV 1/3; 24/116] END ...........max_depth=4, n_estimators=24; total time=   1.3s\n",
      "[CV 2/3; 24/116] START max_depth=4, n_estimators=24.............................\n",
      "[CV 2/3; 24/116] END ...........max_depth=4, n_estimators=24; total time=   1.4s\n",
      "[CV 3/3; 24/116] START max_depth=4, n_estimators=24.............................\n",
      "[CV 3/3; 24/116] END ...........max_depth=4, n_estimators=24; total time=   1.4s\n",
      "[CV 1/3; 25/116] START max_depth=4, n_estimators=25.............................\n",
      "[CV 1/3; 25/116] END ...........max_depth=4, n_estimators=25; total time=   1.5s\n",
      "[CV 2/3; 25/116] START max_depth=4, n_estimators=25.............................\n",
      "[CV 2/3; 25/116] END ...........max_depth=4, n_estimators=25; total time=   1.4s\n",
      "[CV 3/3; 25/116] START max_depth=4, n_estimators=25.............................\n",
      "[CV 3/3; 25/116] END ...........max_depth=4, n_estimators=25; total time=   1.4s\n",
      "[CV 1/3; 26/116] START max_depth=4, n_estimators=26.............................\n",
      "[CV 1/3; 26/116] END ...........max_depth=4, n_estimators=26; total time=   1.5s\n",
      "[CV 2/3; 26/116] START max_depth=4, n_estimators=26.............................\n",
      "[CV 2/3; 26/116] END ...........max_depth=4, n_estimators=26; total time=   1.5s\n",
      "[CV 3/3; 26/116] START max_depth=4, n_estimators=26.............................\n",
      "[CV 3/3; 26/116] END ...........max_depth=4, n_estimators=26; total time=   1.4s\n",
      "[CV 1/3; 27/116] START max_depth=4, n_estimators=27.............................\n",
      "[CV 1/3; 27/116] END ...........max_depth=4, n_estimators=27; total time=   1.5s\n",
      "[CV 2/3; 27/116] START max_depth=4, n_estimators=27.............................\n",
      "[CV 2/3; 27/116] END ...........max_depth=4, n_estimators=27; total time=   1.5s\n",
      "[CV 3/3; 27/116] START max_depth=4, n_estimators=27.............................\n",
      "[CV 3/3; 27/116] END ...........max_depth=4, n_estimators=27; total time=   1.5s\n",
      "[CV 1/3; 28/116] START max_depth=4, n_estimators=28.............................\n",
      "[CV 1/3; 28/116] END ...........max_depth=4, n_estimators=28; total time=   1.6s\n",
      "[CV 2/3; 28/116] START max_depth=4, n_estimators=28.............................\n",
      "[CV 2/3; 28/116] END ...........max_depth=4, n_estimators=28; total time=   1.5s\n",
      "[CV 3/3; 28/116] START max_depth=4, n_estimators=28.............................\n",
      "[CV 3/3; 28/116] END ...........max_depth=4, n_estimators=28; total time=   1.5s\n",
      "[CV 1/3; 29/116] START max_depth=4, n_estimators=29.............................\n",
      "[CV 1/3; 29/116] END ...........max_depth=4, n_estimators=29; total time=   1.5s\n",
      "[CV 2/3; 29/116] START max_depth=4, n_estimators=29.............................\n",
      "[CV 2/3; 29/116] END ...........max_depth=4, n_estimators=29; total time=   1.7s\n",
      "[CV 3/3; 29/116] START max_depth=4, n_estimators=29.............................\n",
      "[CV 3/3; 29/116] END ...........max_depth=4, n_estimators=29; total time=   1.7s\n",
      "[CV 1/3; 30/116] START max_depth=5, n_estimators=1..............................\n",
      "[CV 1/3; 30/116] END ............max_depth=5, n_estimators=1; total time=   0.2s\n",
      "[CV 2/3; 30/116] START max_depth=5, n_estimators=1..............................\n",
      "[CV 2/3; 30/116] END ............max_depth=5, n_estimators=1; total time=   0.2s\n",
      "[CV 3/3; 30/116] START max_depth=5, n_estimators=1..............................\n",
      "[CV 3/3; 30/116] END ............max_depth=5, n_estimators=1; total time=   0.2s\n",
      "[CV 1/3; 31/116] START max_depth=5, n_estimators=2..............................\n",
      "[CV 1/3; 31/116] END ............max_depth=5, n_estimators=2; total time=   0.2s\n",
      "[CV 2/3; 31/116] START max_depth=5, n_estimators=2..............................\n",
      "[CV 2/3; 31/116] END ............max_depth=5, n_estimators=2; total time=   0.2s\n",
      "[CV 3/3; 31/116] START max_depth=5, n_estimators=2..............................\n",
      "[CV 3/3; 31/116] END ............max_depth=5, n_estimators=2; total time=   0.2s\n",
      "[CV 1/3; 32/116] START max_depth=5, n_estimators=3..............................\n",
      "[CV 1/3; 32/116] END ............max_depth=5, n_estimators=3; total time=   0.3s\n",
      "[CV 2/3; 32/116] START max_depth=5, n_estimators=3..............................\n",
      "[CV 2/3; 32/116] END ............max_depth=5, n_estimators=3; total time=   0.3s\n",
      "[CV 3/3; 32/116] START max_depth=5, n_estimators=3..............................\n",
      "[CV 3/3; 32/116] END ............max_depth=5, n_estimators=3; total time=   0.3s\n",
      "[CV 1/3; 33/116] START max_depth=5, n_estimators=4..............................\n",
      "[CV 1/3; 33/116] END ............max_depth=5, n_estimators=4; total time=   0.4s\n",
      "[CV 2/3; 33/116] START max_depth=5, n_estimators=4..............................\n",
      "[CV 2/3; 33/116] END ............max_depth=5, n_estimators=4; total time=   0.3s\n",
      "[CV 3/3; 33/116] START max_depth=5, n_estimators=4..............................\n",
      "[CV 3/3; 33/116] END ............max_depth=5, n_estimators=4; total time=   0.4s\n",
      "[CV 1/3; 34/116] START max_depth=5, n_estimators=5..............................\n",
      "[CV 1/3; 34/116] END ............max_depth=5, n_estimators=5; total time=   0.4s\n",
      "[CV 2/3; 34/116] START max_depth=5, n_estimators=5..............................\n",
      "[CV 2/3; 34/116] END ............max_depth=5, n_estimators=5; total time=   0.4s\n",
      "[CV 3/3; 34/116] START max_depth=5, n_estimators=5..............................\n",
      "[CV 3/3; 34/116] END ............max_depth=5, n_estimators=5; total time=   0.4s\n",
      "[CV 1/3; 35/116] START max_depth=5, n_estimators=6..............................\n",
      "[CV 1/3; 35/116] END ............max_depth=5, n_estimators=6; total time=   0.5s\n",
      "[CV 2/3; 35/116] START max_depth=5, n_estimators=6..............................\n",
      "[CV 2/3; 35/116] END ............max_depth=5, n_estimators=6; total time=   0.5s\n",
      "[CV 3/3; 35/116] START max_depth=5, n_estimators=6..............................\n",
      "[CV 3/3; 35/116] END ............max_depth=5, n_estimators=6; total time=   0.5s\n",
      "[CV 1/3; 36/116] START max_depth=5, n_estimators=7..............................\n",
      "[CV 1/3; 36/116] END ............max_depth=5, n_estimators=7; total time=   0.5s\n",
      "[CV 2/3; 36/116] START max_depth=5, n_estimators=7..............................\n",
      "[CV 2/3; 36/116] END ............max_depth=5, n_estimators=7; total time=   0.5s\n",
      "[CV 3/3; 36/116] START max_depth=5, n_estimators=7..............................\n",
      "[CV 3/3; 36/116] END ............max_depth=5, n_estimators=7; total time=   0.5s\n",
      "[CV 1/3; 37/116] START max_depth=5, n_estimators=8..............................\n",
      "[CV 1/3; 37/116] END ............max_depth=5, n_estimators=8; total time=   0.7s\n",
      "[CV 2/3; 37/116] START max_depth=5, n_estimators=8..............................\n",
      "[CV 2/3; 37/116] END ............max_depth=5, n_estimators=8; total time=   0.6s\n",
      "[CV 3/3; 37/116] START max_depth=5, n_estimators=8..............................\n",
      "[CV 3/3; 37/116] END ............max_depth=5, n_estimators=8; total time=   0.6s\n",
      "[CV 1/3; 38/116] START max_depth=5, n_estimators=9..............................\n",
      "[CV 1/3; 38/116] END ............max_depth=5, n_estimators=9; total time=   0.6s\n",
      "[CV 2/3; 38/116] START max_depth=5, n_estimators=9..............................\n",
      "[CV 2/3; 38/116] END ............max_depth=5, n_estimators=9; total time=   0.7s\n",
      "[CV 3/3; 38/116] START max_depth=5, n_estimators=9..............................\n",
      "[CV 3/3; 38/116] END ............max_depth=5, n_estimators=9; total time=   0.7s\n",
      "[CV 1/3; 39/116] START max_depth=5, n_estimators=10.............................\n",
      "[CV 1/3; 39/116] END ...........max_depth=5, n_estimators=10; total time=   0.7s\n",
      "[CV 2/3; 39/116] START max_depth=5, n_estimators=10.............................\n",
      "[CV 2/3; 39/116] END ...........max_depth=5, n_estimators=10; total time=   0.7s\n",
      "[CV 3/3; 39/116] START max_depth=5, n_estimators=10.............................\n",
      "[CV 3/3; 39/116] END ...........max_depth=5, n_estimators=10; total time=   0.7s\n",
      "[CV 1/3; 40/116] START max_depth=5, n_estimators=11.............................\n",
      "[CV 1/3; 40/116] END ...........max_depth=5, n_estimators=11; total time=   0.8s\n",
      "[CV 2/3; 40/116] START max_depth=5, n_estimators=11.............................\n",
      "[CV 2/3; 40/116] END ...........max_depth=5, n_estimators=11; total time=   0.8s\n",
      "[CV 3/3; 40/116] START max_depth=5, n_estimators=11.............................\n",
      "[CV 3/3; 40/116] END ...........max_depth=5, n_estimators=11; total time=   0.8s\n",
      "[CV 1/3; 41/116] START max_depth=5, n_estimators=12.............................\n",
      "[CV 1/3; 41/116] END ...........max_depth=5, n_estimators=12; total time=   0.8s\n",
      "[CV 2/3; 41/116] START max_depth=5, n_estimators=12.............................\n",
      "[CV 2/3; 41/116] END ...........max_depth=5, n_estimators=12; total time=   0.9s\n",
      "[CV 3/3; 41/116] START max_depth=5, n_estimators=12.............................\n",
      "[CV 3/3; 41/116] END ...........max_depth=5, n_estimators=12; total time=   0.9s\n",
      "[CV 1/3; 42/116] START max_depth=5, n_estimators=13.............................\n",
      "[CV 1/3; 42/116] END ...........max_depth=5, n_estimators=13; total time=   0.9s\n",
      "[CV 2/3; 42/116] START max_depth=5, n_estimators=13.............................\n",
      "[CV 2/3; 42/116] END ...........max_depth=5, n_estimators=13; total time=   1.0s\n",
      "[CV 3/3; 42/116] START max_depth=5, n_estimators=13.............................\n",
      "[CV 3/3; 42/116] END ...........max_depth=5, n_estimators=13; total time=   1.0s\n",
      "[CV 1/3; 43/116] START max_depth=5, n_estimators=14.............................\n",
      "[CV 1/3; 43/116] END ...........max_depth=5, n_estimators=14; total time=   1.1s\n",
      "[CV 2/3; 43/116] START max_depth=5, n_estimators=14.............................\n",
      "[CV 2/3; 43/116] END ...........max_depth=5, n_estimators=14; total time=   1.0s\n",
      "[CV 3/3; 43/116] START max_depth=5, n_estimators=14.............................\n",
      "[CV 3/3; 43/116] END ...........max_depth=5, n_estimators=14; total time=   1.0s\n",
      "[CV 1/3; 44/116] START max_depth=5, n_estimators=15.............................\n",
      "[CV 1/3; 44/116] END ...........max_depth=5, n_estimators=15; total time=   1.0s\n",
      "[CV 2/3; 44/116] START max_depth=5, n_estimators=15.............................\n",
      "[CV 2/3; 44/116] END ...........max_depth=5, n_estimators=15; total time=   1.1s\n",
      "[CV 3/3; 44/116] START max_depth=5, n_estimators=15.............................\n",
      "[CV 3/3; 44/116] END ...........max_depth=5, n_estimators=15; total time=   1.0s\n",
      "[CV 1/3; 45/116] START max_depth=5, n_estimators=16.............................\n",
      "[CV 1/3; 45/116] END ...........max_depth=5, n_estimators=16; total time=   1.2s\n",
      "[CV 2/3; 45/116] START max_depth=5, n_estimators=16.............................\n",
      "[CV 2/3; 45/116] END ...........max_depth=5, n_estimators=16; total time=   1.1s\n",
      "[CV 3/3; 45/116] START max_depth=5, n_estimators=16.............................\n",
      "[CV 3/3; 45/116] END ...........max_depth=5, n_estimators=16; total time=   1.1s\n",
      "[CV 1/3; 46/116] START max_depth=5, n_estimators=17.............................\n",
      "[CV 1/3; 46/116] END ...........max_depth=5, n_estimators=17; total time=   1.2s\n",
      "[CV 2/3; 46/116] START max_depth=5, n_estimators=17.............................\n",
      "[CV 2/3; 46/116] END ...........max_depth=5, n_estimators=17; total time=   1.1s\n",
      "[CV 3/3; 46/116] START max_depth=5, n_estimators=17.............................\n",
      "[CV 3/3; 46/116] END ...........max_depth=5, n_estimators=17; total time=   1.2s\n",
      "[CV 1/3; 47/116] START max_depth=5, n_estimators=18.............................\n",
      "[CV 1/3; 47/116] END ...........max_depth=5, n_estimators=18; total time=   1.2s\n",
      "[CV 2/3; 47/116] START max_depth=5, n_estimators=18.............................\n",
      "[CV 2/3; 47/116] END ...........max_depth=5, n_estimators=18; total time=   1.2s\n",
      "[CV 3/3; 47/116] START max_depth=5, n_estimators=18.............................\n",
      "[CV 3/3; 47/116] END ...........max_depth=5, n_estimators=18; total time=   1.2s\n",
      "[CV 1/3; 48/116] START max_depth=5, n_estimators=19.............................\n",
      "[CV 1/3; 48/116] END ...........max_depth=5, n_estimators=19; total time=   1.3s\n",
      "[CV 2/3; 48/116] START max_depth=5, n_estimators=19.............................\n",
      "[CV 2/3; 48/116] END ...........max_depth=5, n_estimators=19; total time=   1.2s\n",
      "[CV 3/3; 48/116] START max_depth=5, n_estimators=19.............................\n",
      "[CV 3/3; 48/116] END ...........max_depth=5, n_estimators=19; total time=   1.3s\n",
      "[CV 1/3; 49/116] START max_depth=5, n_estimators=20.............................\n",
      "[CV 1/3; 49/116] END ...........max_depth=5, n_estimators=20; total time=   1.3s\n",
      "[CV 2/3; 49/116] START max_depth=5, n_estimators=20.............................\n",
      "[CV 2/3; 49/116] END ...........max_depth=5, n_estimators=20; total time=   1.3s\n",
      "[CV 3/3; 49/116] START max_depth=5, n_estimators=20.............................\n",
      "[CV 3/3; 49/116] END ...........max_depth=5, n_estimators=20; total time=   1.3s\n",
      "[CV 1/3; 50/116] START max_depth=5, n_estimators=21.............................\n",
      "[CV 1/3; 50/116] END ...........max_depth=5, n_estimators=21; total time=   1.3s\n",
      "[CV 2/3; 50/116] START max_depth=5, n_estimators=21.............................\n",
      "[CV 2/3; 50/116] END ...........max_depth=5, n_estimators=21; total time=   1.5s\n",
      "[CV 3/3; 50/116] START max_depth=5, n_estimators=21.............................\n",
      "[CV 3/3; 50/116] END ...........max_depth=5, n_estimators=21; total time=   1.4s\n",
      "[CV 1/3; 51/116] START max_depth=5, n_estimators=22.............................\n",
      "[CV 1/3; 51/116] END ...........max_depth=5, n_estimators=22; total time=   1.5s\n",
      "[CV 2/3; 51/116] START max_depth=5, n_estimators=22.............................\n",
      "[CV 2/3; 51/116] END ...........max_depth=5, n_estimators=22; total time=   1.5s\n",
      "[CV 3/3; 51/116] START max_depth=5, n_estimators=22.............................\n",
      "[CV 3/3; 51/116] END ...........max_depth=5, n_estimators=22; total time=   1.5s\n",
      "[CV 1/3; 52/116] START max_depth=5, n_estimators=23.............................\n",
      "[CV 1/3; 52/116] END ...........max_depth=5, n_estimators=23; total time=   1.5s\n",
      "[CV 2/3; 52/116] START max_depth=5, n_estimators=23.............................\n",
      "[CV 2/3; 52/116] END ...........max_depth=5, n_estimators=23; total time=   1.6s\n",
      "[CV 3/3; 52/116] START max_depth=5, n_estimators=23.............................\n",
      "[CV 3/3; 52/116] END ...........max_depth=5, n_estimators=23; total time=   1.6s\n",
      "[CV 1/3; 53/116] START max_depth=5, n_estimators=24.............................\n",
      "[CV 1/3; 53/116] END ...........max_depth=5, n_estimators=24; total time=   1.6s\n",
      "[CV 2/3; 53/116] START max_depth=5, n_estimators=24.............................\n",
      "[CV 2/3; 53/116] END ...........max_depth=5, n_estimators=24; total time=   1.5s\n",
      "[CV 3/3; 53/116] START max_depth=5, n_estimators=24.............................\n",
      "[CV 3/3; 53/116] END ...........max_depth=5, n_estimators=24; total time=   1.6s\n",
      "[CV 1/3; 54/116] START max_depth=5, n_estimators=25.............................\n",
      "[CV 1/3; 54/116] END ...........max_depth=5, n_estimators=25; total time=   1.6s\n",
      "[CV 2/3; 54/116] START max_depth=5, n_estimators=25.............................\n",
      "[CV 2/3; 54/116] END ...........max_depth=5, n_estimators=25; total time=   1.7s\n",
      "[CV 3/3; 54/116] START max_depth=5, n_estimators=25.............................\n",
      "[CV 3/3; 54/116] END ...........max_depth=5, n_estimators=25; total time=   1.7s\n",
      "[CV 1/3; 55/116] START max_depth=5, n_estimators=26.............................\n",
      "[CV 1/3; 55/116] END ...........max_depth=5, n_estimators=26; total time=   1.6s\n",
      "[CV 2/3; 55/116] START max_depth=5, n_estimators=26.............................\n",
      "[CV 2/3; 55/116] END ...........max_depth=5, n_estimators=26; total time=   1.7s\n",
      "[CV 3/3; 55/116] START max_depth=5, n_estimators=26.............................\n",
      "[CV 3/3; 55/116] END ...........max_depth=5, n_estimators=26; total time=   1.7s\n",
      "[CV 1/3; 56/116] START max_depth=5, n_estimators=27.............................\n",
      "[CV 1/3; 56/116] END ...........max_depth=5, n_estimators=27; total time=   1.7s\n",
      "[CV 2/3; 56/116] START max_depth=5, n_estimators=27.............................\n",
      "[CV 2/3; 56/116] END ...........max_depth=5, n_estimators=27; total time=   1.7s\n",
      "[CV 3/3; 56/116] START max_depth=5, n_estimators=27.............................\n",
      "[CV 3/3; 56/116] END ...........max_depth=5, n_estimators=27; total time=   1.8s\n",
      "[CV 1/3; 57/116] START max_depth=5, n_estimators=28.............................\n",
      "[CV 1/3; 57/116] END ...........max_depth=5, n_estimators=28; total time=   1.8s\n",
      "[CV 2/3; 57/116] START max_depth=5, n_estimators=28.............................\n",
      "[CV 2/3; 57/116] END ...........max_depth=5, n_estimators=28; total time=   1.8s\n",
      "[CV 3/3; 57/116] START max_depth=5, n_estimators=28.............................\n",
      "[CV 3/3; 57/116] END ...........max_depth=5, n_estimators=28; total time=   2.0s\n",
      "[CV 1/3; 58/116] START max_depth=5, n_estimators=29.............................\n",
      "[CV 1/3; 58/116] END ...........max_depth=5, n_estimators=29; total time=   1.9s\n",
      "[CV 2/3; 58/116] START max_depth=5, n_estimators=29.............................\n",
      "[CV 2/3; 58/116] END ...........max_depth=5, n_estimators=29; total time=   1.9s\n",
      "[CV 3/3; 58/116] START max_depth=5, n_estimators=29.............................\n",
      "[CV 3/3; 58/116] END ...........max_depth=5, n_estimators=29; total time=   1.9s\n",
      "[CV 1/3; 59/116] START max_depth=6, n_estimators=1..............................\n",
      "[CV 1/3; 59/116] END ............max_depth=6, n_estimators=1; total time=   0.2s\n",
      "[CV 2/3; 59/116] START max_depth=6, n_estimators=1..............................\n",
      "[CV 2/3; 59/116] END ............max_depth=6, n_estimators=1; total time=   0.2s\n",
      "[CV 3/3; 59/116] START max_depth=6, n_estimators=1..............................\n",
      "[CV 3/3; 59/116] END ............max_depth=6, n_estimators=1; total time=   0.2s\n",
      "[CV 1/3; 60/116] START max_depth=6, n_estimators=2..............................\n",
      "[CV 1/3; 60/116] END ............max_depth=6, n_estimators=2; total time=   0.3s\n",
      "[CV 2/3; 60/116] START max_depth=6, n_estimators=2..............................\n",
      "[CV 2/3; 60/116] END ............max_depth=6, n_estimators=2; total time=   0.3s\n",
      "[CV 3/3; 60/116] START max_depth=6, n_estimators=2..............................\n",
      "[CV 3/3; 60/116] END ............max_depth=6, n_estimators=2; total time=   0.3s\n",
      "[CV 1/3; 61/116] START max_depth=6, n_estimators=3..............................\n",
      "[CV 1/3; 61/116] END ............max_depth=6, n_estimators=3; total time=   0.3s\n",
      "[CV 2/3; 61/116] START max_depth=6, n_estimators=3..............................\n",
      "[CV 2/3; 61/116] END ............max_depth=6, n_estimators=3; total time=   0.3s\n",
      "[CV 3/3; 61/116] START max_depth=6, n_estimators=3..............................\n",
      "[CV 3/3; 61/116] END ............max_depth=6, n_estimators=3; total time=   0.3s\n",
      "[CV 1/3; 62/116] START max_depth=6, n_estimators=4..............................\n",
      "[CV 1/3; 62/116] END ............max_depth=6, n_estimators=4; total time=   0.4s\n",
      "[CV 2/3; 62/116] START max_depth=6, n_estimators=4..............................\n",
      "[CV 2/3; 62/116] END ............max_depth=6, n_estimators=4; total time=   0.4s\n",
      "[CV 3/3; 62/116] START max_depth=6, n_estimators=4..............................\n",
      "[CV 3/3; 62/116] END ............max_depth=6, n_estimators=4; total time=   0.4s\n",
      "[CV 1/3; 63/116] START max_depth=6, n_estimators=5..............................\n",
      "[CV 1/3; 63/116] END ............max_depth=6, n_estimators=5; total time=   0.5s\n",
      "[CV 2/3; 63/116] START max_depth=6, n_estimators=5..............................\n",
      "[CV 2/3; 63/116] END ............max_depth=6, n_estimators=5; total time=   0.5s\n",
      "[CV 3/3; 63/116] START max_depth=6, n_estimators=5..............................\n",
      "[CV 3/3; 63/116] END ............max_depth=6, n_estimators=5; total time=   0.5s\n",
      "[CV 1/3; 64/116] START max_depth=6, n_estimators=6..............................\n",
      "[CV 1/3; 64/116] END ............max_depth=6, n_estimators=6; total time=   0.5s\n",
      "[CV 2/3; 64/116] START max_depth=6, n_estimators=6..............................\n",
      "[CV 2/3; 64/116] END ............max_depth=6, n_estimators=6; total time=   0.5s\n",
      "[CV 3/3; 64/116] START max_depth=6, n_estimators=6..............................\n",
      "[CV 3/3; 64/116] END ............max_depth=6, n_estimators=6; total time=   0.5s\n",
      "[CV 1/3; 65/116] START max_depth=6, n_estimators=7..............................\n",
      "[CV 1/3; 65/116] END ............max_depth=6, n_estimators=7; total time=   0.6s\n",
      "[CV 2/3; 65/116] START max_depth=6, n_estimators=7..............................\n",
      "[CV 2/3; 65/116] END ............max_depth=6, n_estimators=7; total time=   0.7s\n",
      "[CV 3/3; 65/116] START max_depth=6, n_estimators=7..............................\n",
      "[CV 3/3; 65/116] END ............max_depth=6, n_estimators=7; total time=   0.6s\n",
      "[CV 1/3; 66/116] START max_depth=6, n_estimators=8..............................\n",
      "[CV 1/3; 66/116] END ............max_depth=6, n_estimators=8; total time=   0.7s\n",
      "[CV 2/3; 66/116] START max_depth=6, n_estimators=8..............................\n",
      "[CV 2/3; 66/116] END ............max_depth=6, n_estimators=8; total time=   0.7s\n",
      "[CV 3/3; 66/116] START max_depth=6, n_estimators=8..............................\n",
      "[CV 3/3; 66/116] END ............max_depth=6, n_estimators=8; total time=   0.7s\n",
      "[CV 1/3; 67/116] START max_depth=6, n_estimators=9..............................\n",
      "[CV 1/3; 67/116] END ............max_depth=6, n_estimators=9; total time=   0.8s\n",
      "[CV 2/3; 67/116] START max_depth=6, n_estimators=9..............................\n",
      "[CV 2/3; 67/116] END ............max_depth=6, n_estimators=9; total time=   0.8s\n",
      "[CV 3/3; 67/116] START max_depth=6, n_estimators=9..............................\n",
      "[CV 3/3; 67/116] END ............max_depth=6, n_estimators=9; total time=   0.8s\n",
      "[CV 1/3; 68/116] START max_depth=6, n_estimators=10.............................\n",
      "[CV 1/3; 68/116] END ...........max_depth=6, n_estimators=10; total time=   0.8s\n",
      "[CV 2/3; 68/116] START max_depth=6, n_estimators=10.............................\n",
      "[CV 2/3; 68/116] END ...........max_depth=6, n_estimators=10; total time=   0.8s\n",
      "[CV 3/3; 68/116] START max_depth=6, n_estimators=10.............................\n",
      "[CV 3/3; 68/116] END ...........max_depth=6, n_estimators=10; total time=   0.8s\n",
      "[CV 1/3; 69/116] START max_depth=6, n_estimators=11.............................\n",
      "[CV 1/3; 69/116] END ...........max_depth=6, n_estimators=11; total time=   0.9s\n",
      "[CV 2/3; 69/116] START max_depth=6, n_estimators=11.............................\n",
      "[CV 2/3; 69/116] END ...........max_depth=6, n_estimators=11; total time=   0.9s\n",
      "[CV 3/3; 69/116] START max_depth=6, n_estimators=11.............................\n",
      "[CV 3/3; 69/116] END ...........max_depth=6, n_estimators=11; total time=   1.0s\n",
      "[CV 1/3; 70/116] START max_depth=6, n_estimators=12.............................\n",
      "[CV 1/3; 70/116] END ...........max_depth=6, n_estimators=12; total time=   1.0s\n",
      "[CV 2/3; 70/116] START max_depth=6, n_estimators=12.............................\n",
      "[CV 2/3; 70/116] END ...........max_depth=6, n_estimators=12; total time=   1.0s\n",
      "[CV 3/3; 70/116] START max_depth=6, n_estimators=12.............................\n",
      "[CV 3/3; 70/116] END ...........max_depth=6, n_estimators=12; total time=   1.0s\n",
      "[CV 1/3; 71/116] START max_depth=6, n_estimators=13.............................\n",
      "[CV 1/3; 71/116] END ...........max_depth=6, n_estimators=13; total time=   1.1s\n",
      "[CV 2/3; 71/116] START max_depth=6, n_estimators=13.............................\n",
      "[CV 2/3; 71/116] END ...........max_depth=6, n_estimators=13; total time=   1.0s\n",
      "[CV 3/3; 71/116] START max_depth=6, n_estimators=13.............................\n",
      "[CV 3/3; 71/116] END ...........max_depth=6, n_estimators=13; total time=   1.1s\n",
      "[CV 1/3; 72/116] START max_depth=6, n_estimators=14.............................\n",
      "[CV 1/3; 72/116] END ...........max_depth=6, n_estimators=14; total time=   1.1s\n",
      "[CV 2/3; 72/116] START max_depth=6, n_estimators=14.............................\n",
      "[CV 2/3; 72/116] END ...........max_depth=6, n_estimators=14; total time=   1.1s\n",
      "[CV 3/3; 72/116] START max_depth=6, n_estimators=14.............................\n",
      "[CV 3/3; 72/116] END ...........max_depth=6, n_estimators=14; total time=   1.2s\n",
      "[CV 1/3; 73/116] START max_depth=6, n_estimators=15.............................\n",
      "[CV 1/3; 73/116] END ...........max_depth=6, n_estimators=15; total time=   1.2s\n",
      "[CV 2/3; 73/116] START max_depth=6, n_estimators=15.............................\n",
      "[CV 2/3; 73/116] END ...........max_depth=6, n_estimators=15; total time=   1.2s\n",
      "[CV 3/3; 73/116] START max_depth=6, n_estimators=15.............................\n",
      "[CV 3/3; 73/116] END ...........max_depth=6, n_estimators=15; total time=   1.2s\n",
      "[CV 1/3; 74/116] START max_depth=6, n_estimators=16.............................\n",
      "[CV 1/3; 74/116] END ...........max_depth=6, n_estimators=16; total time=   1.2s\n",
      "[CV 2/3; 74/116] START max_depth=6, n_estimators=16.............................\n",
      "[CV 2/3; 74/116] END ...........max_depth=6, n_estimators=16; total time=   1.3s\n",
      "[CV 3/3; 74/116] START max_depth=6, n_estimators=16.............................\n",
      "[CV 3/3; 74/116] END ...........max_depth=6, n_estimators=16; total time=   1.3s\n",
      "[CV 1/3; 75/116] START max_depth=6, n_estimators=17.............................\n",
      "[CV 1/3; 75/116] END ...........max_depth=6, n_estimators=17; total time=   1.3s\n",
      "[CV 2/3; 75/116] START max_depth=6, n_estimators=17.............................\n",
      "[CV 2/3; 75/116] END ...........max_depth=6, n_estimators=17; total time=   1.4s\n",
      "[CV 3/3; 75/116] START max_depth=6, n_estimators=17.............................\n",
      "[CV 3/3; 75/116] END ...........max_depth=6, n_estimators=17; total time=   1.4s\n",
      "[CV 1/3; 76/116] START max_depth=6, n_estimators=18.............................\n",
      "[CV 1/3; 76/116] END ...........max_depth=6, n_estimators=18; total time=   1.4s\n",
      "[CV 2/3; 76/116] START max_depth=6, n_estimators=18.............................\n",
      "[CV 2/3; 76/116] END ...........max_depth=6, n_estimators=18; total time=   1.4s\n",
      "[CV 3/3; 76/116] START max_depth=6, n_estimators=18.............................\n",
      "[CV 3/3; 76/116] END ...........max_depth=6, n_estimators=18; total time=   1.4s\n",
      "[CV 1/3; 77/116] START max_depth=6, n_estimators=19.............................\n",
      "[CV 1/3; 77/116] END ...........max_depth=6, n_estimators=19; total time=   1.4s\n",
      "[CV 2/3; 77/116] START max_depth=6, n_estimators=19.............................\n",
      "[CV 2/3; 77/116] END ...........max_depth=6, n_estimators=19; total time=   1.5s\n",
      "[CV 3/3; 77/116] START max_depth=6, n_estimators=19.............................\n",
      "[CV 3/3; 77/116] END ...........max_depth=6, n_estimators=19; total time=   1.5s\n",
      "[CV 1/3; 78/116] START max_depth=6, n_estimators=20.............................\n",
      "[CV 1/3; 78/116] END ...........max_depth=6, n_estimators=20; total time=   1.5s\n",
      "[CV 2/3; 78/116] START max_depth=6, n_estimators=20.............................\n",
      "[CV 2/3; 78/116] END ...........max_depth=6, n_estimators=20; total time=   1.5s\n",
      "[CV 3/3; 78/116] START max_depth=6, n_estimators=20.............................\n",
      "[CV 3/3; 78/116] END ...........max_depth=6, n_estimators=20; total time=   1.6s\n",
      "[CV 1/3; 79/116] START max_depth=6, n_estimators=21.............................\n",
      "[CV 1/3; 79/116] END ...........max_depth=6, n_estimators=21; total time=   1.6s\n",
      "[CV 2/3; 79/116] START max_depth=6, n_estimators=21.............................\n",
      "[CV 2/3; 79/116] END ...........max_depth=6, n_estimators=21; total time=   1.6s\n",
      "[CV 3/3; 79/116] START max_depth=6, n_estimators=21.............................\n",
      "[CV 3/3; 79/116] END ...........max_depth=6, n_estimators=21; total time=   1.6s\n",
      "[CV 1/3; 80/116] START max_depth=6, n_estimators=22.............................\n",
      "[CV 1/3; 80/116] END ...........max_depth=6, n_estimators=22; total time=   1.8s\n",
      "[CV 2/3; 80/116] START max_depth=6, n_estimators=22.............................\n",
      "[CV 2/3; 80/116] END ...........max_depth=6, n_estimators=22; total time=   1.6s\n",
      "[CV 3/3; 80/116] START max_depth=6, n_estimators=22.............................\n",
      "[CV 3/3; 80/116] END ...........max_depth=6, n_estimators=22; total time=   1.7s\n",
      "[CV 1/3; 81/116] START max_depth=6, n_estimators=23.............................\n",
      "[CV 1/3; 81/116] END ...........max_depth=6, n_estimators=23; total time=   1.8s\n",
      "[CV 2/3; 81/116] START max_depth=6, n_estimators=23.............................\n",
      "[CV 2/3; 81/116] END ...........max_depth=6, n_estimators=23; total time=   1.8s\n",
      "[CV 3/3; 81/116] START max_depth=6, n_estimators=23.............................\n",
      "[CV 3/3; 81/116] END ...........max_depth=6, n_estimators=23; total time=   1.8s\n",
      "[CV 1/3; 82/116] START max_depth=6, n_estimators=24.............................\n",
      "[CV 1/3; 82/116] END ...........max_depth=6, n_estimators=24; total time=   1.9s\n",
      "[CV 2/3; 82/116] START max_depth=6, n_estimators=24.............................\n",
      "[CV 2/3; 82/116] END ...........max_depth=6, n_estimators=24; total time=   1.8s\n",
      "[CV 3/3; 82/116] START max_depth=6, n_estimators=24.............................\n",
      "[CV 3/3; 82/116] END ...........max_depth=6, n_estimators=24; total time=   1.8s\n",
      "[CV 1/3; 83/116] START max_depth=6, n_estimators=25.............................\n",
      "[CV 1/3; 83/116] END ...........max_depth=6, n_estimators=25; total time=   1.9s\n",
      "[CV 2/3; 83/116] START max_depth=6, n_estimators=25.............................\n",
      "[CV 2/3; 83/116] END ...........max_depth=6, n_estimators=25; total time=   1.9s\n",
      "[CV 3/3; 83/116] START max_depth=6, n_estimators=25.............................\n",
      "[CV 3/3; 83/116] END ...........max_depth=6, n_estimators=25; total time=   2.0s\n",
      "[CV 1/3; 84/116] START max_depth=6, n_estimators=26.............................\n",
      "[CV 1/3; 84/116] END ...........max_depth=6, n_estimators=26; total time=   1.9s\n",
      "[CV 2/3; 84/116] START max_depth=6, n_estimators=26.............................\n",
      "[CV 2/3; 84/116] END ...........max_depth=6, n_estimators=26; total time=   2.0s\n",
      "[CV 3/3; 84/116] START max_depth=6, n_estimators=26.............................\n",
      "[CV 3/3; 84/116] END ...........max_depth=6, n_estimators=26; total time=   2.0s\n",
      "[CV 1/3; 85/116] START max_depth=6, n_estimators=27.............................\n",
      "[CV 1/3; 85/116] END ...........max_depth=6, n_estimators=27; total time=   2.1s\n",
      "[CV 2/3; 85/116] START max_depth=6, n_estimators=27.............................\n",
      "[CV 2/3; 85/116] END ...........max_depth=6, n_estimators=27; total time=   2.1s\n",
      "[CV 3/3; 85/116] START max_depth=6, n_estimators=27.............................\n",
      "[CV 3/3; 85/116] END ...........max_depth=6, n_estimators=27; total time=   2.0s\n",
      "[CV 1/3; 86/116] START max_depth=6, n_estimators=28.............................\n",
      "[CV 1/3; 86/116] END ...........max_depth=6, n_estimators=28; total time=   2.1s\n",
      "[CV 2/3; 86/116] START max_depth=6, n_estimators=28.............................\n",
      "[CV 2/3; 86/116] END ...........max_depth=6, n_estimators=28; total time=   2.1s\n",
      "[CV 3/3; 86/116] START max_depth=6, n_estimators=28.............................\n",
      "[CV 3/3; 86/116] END ...........max_depth=6, n_estimators=28; total time=   2.1s\n",
      "[CV 1/3; 87/116] START max_depth=6, n_estimators=29.............................\n",
      "[CV 1/3; 87/116] END ...........max_depth=6, n_estimators=29; total time=   2.2s\n",
      "[CV 2/3; 87/116] START max_depth=6, n_estimators=29.............................\n",
      "[CV 2/3; 87/116] END ...........max_depth=6, n_estimators=29; total time=   2.2s\n",
      "[CV 3/3; 87/116] START max_depth=6, n_estimators=29.............................\n",
      "[CV 3/3; 87/116] END ...........max_depth=6, n_estimators=29; total time=   2.1s\n",
      "[CV 1/3; 88/116] START max_depth=7, n_estimators=1..............................\n",
      "[CV 1/3; 88/116] END ............max_depth=7, n_estimators=1; total time=   0.2s\n",
      "[CV 2/3; 88/116] START max_depth=7, n_estimators=1..............................\n",
      "[CV 2/3; 88/116] END ............max_depth=7, n_estimators=1; total time=   0.2s\n",
      "[CV 3/3; 88/116] START max_depth=7, n_estimators=1..............................\n",
      "[CV 3/3; 88/116] END ............max_depth=7, n_estimators=1; total time=   0.2s\n",
      "[CV 1/3; 89/116] START max_depth=7, n_estimators=2..............................\n",
      "[CV 1/3; 89/116] END ............max_depth=7, n_estimators=2; total time=   0.3s\n",
      "[CV 2/3; 89/116] START max_depth=7, n_estimators=2..............................\n",
      "[CV 2/3; 89/116] END ............max_depth=7, n_estimators=2; total time=   0.3s\n",
      "[CV 3/3; 89/116] START max_depth=7, n_estimators=2..............................\n",
      "[CV 3/3; 89/116] END ............max_depth=7, n_estimators=2; total time=   0.3s\n",
      "[CV 1/3; 90/116] START max_depth=7, n_estimators=3..............................\n",
      "[CV 1/3; 90/116] END ............max_depth=7, n_estimators=3; total time=   0.4s\n",
      "[CV 2/3; 90/116] START max_depth=7, n_estimators=3..............................\n",
      "[CV 2/3; 90/116] END ............max_depth=7, n_estimators=3; total time=   0.4s\n",
      "[CV 3/3; 90/116] START max_depth=7, n_estimators=3..............................\n",
      "[CV 3/3; 90/116] END ............max_depth=7, n_estimators=3; total time=   0.4s\n",
      "[CV 1/3; 91/116] START max_depth=7, n_estimators=4..............................\n",
      "[CV 1/3; 91/116] END ............max_depth=7, n_estimators=4; total time=   0.4s\n",
      "[CV 2/3; 91/116] START max_depth=7, n_estimators=4..............................\n",
      "[CV 2/3; 91/116] END ............max_depth=7, n_estimators=4; total time=   0.4s\n",
      "[CV 3/3; 91/116] START max_depth=7, n_estimators=4..............................\n",
      "[CV 3/3; 91/116] END ............max_depth=7, n_estimators=4; total time=   0.5s\n",
      "[CV 1/3; 92/116] START max_depth=7, n_estimators=5..............................\n",
      "[CV 1/3; 92/116] END ............max_depth=7, n_estimators=5; total time=   0.5s\n",
      "[CV 2/3; 92/116] START max_depth=7, n_estimators=5..............................\n",
      "[CV 2/3; 92/116] END ............max_depth=7, n_estimators=5; total time=   0.5s\n",
      "[CV 3/3; 92/116] START max_depth=7, n_estimators=5..............................\n",
      "[CV 3/3; 92/116] END ............max_depth=7, n_estimators=5; total time=   0.5s\n",
      "[CV 1/3; 93/116] START max_depth=7, n_estimators=6..............................\n",
      "[CV 1/3; 93/116] END ............max_depth=7, n_estimators=6; total time=   0.6s\n",
      "[CV 2/3; 93/116] START max_depth=7, n_estimators=6..............................\n",
      "[CV 2/3; 93/116] END ............max_depth=7, n_estimators=6; total time=   0.6s\n",
      "[CV 3/3; 93/116] START max_depth=7, n_estimators=6..............................\n",
      "[CV 3/3; 93/116] END ............max_depth=7, n_estimators=6; total time=   0.6s\n",
      "[CV 1/3; 94/116] START max_depth=7, n_estimators=7..............................\n",
      "[CV 1/3; 94/116] END ............max_depth=7, n_estimators=7; total time=   0.7s\n",
      "[CV 2/3; 94/116] START max_depth=7, n_estimators=7..............................\n",
      "[CV 2/3; 94/116] END ............max_depth=7, n_estimators=7; total time=   0.7s\n",
      "[CV 3/3; 94/116] START max_depth=7, n_estimators=7..............................\n",
      "[CV 3/3; 94/116] END ............max_depth=7, n_estimators=7; total time=   0.7s\n",
      "[CV 1/3; 95/116] START max_depth=7, n_estimators=8..............................\n",
      "[CV 1/3; 95/116] END ............max_depth=7, n_estimators=8; total time=   0.8s\n",
      "[CV 2/3; 95/116] START max_depth=7, n_estimators=8..............................\n",
      "[CV 2/3; 95/116] END ............max_depth=7, n_estimators=8; total time=   0.8s\n",
      "[CV 3/3; 95/116] START max_depth=7, n_estimators=8..............................\n",
      "[CV 3/3; 95/116] END ............max_depth=7, n_estimators=8; total time=   0.8s\n",
      "[CV 1/3; 96/116] START max_depth=7, n_estimators=9..............................\n",
      "[CV 1/3; 96/116] END ............max_depth=7, n_estimators=9; total time=   0.9s\n",
      "[CV 2/3; 96/116] START max_depth=7, n_estimators=9..............................\n",
      "[CV 2/3; 96/116] END ............max_depth=7, n_estimators=9; total time=   0.9s\n",
      "[CV 3/3; 96/116] START max_depth=7, n_estimators=9..............................\n",
      "[CV 3/3; 96/116] END ............max_depth=7, n_estimators=9; total time=   0.9s\n",
      "[CV 1/3; 97/116] START max_depth=7, n_estimators=10.............................\n",
      "[CV 1/3; 97/116] END ...........max_depth=7, n_estimators=10; total time=   0.9s\n",
      "[CV 2/3; 97/116] START max_depth=7, n_estimators=10.............................\n",
      "[CV 2/3; 97/116] END ...........max_depth=7, n_estimators=10; total time=   0.9s\n",
      "[CV 3/3; 97/116] START max_depth=7, n_estimators=10.............................\n",
      "[CV 3/3; 97/116] END ...........max_depth=7, n_estimators=10; total time=   0.9s\n",
      "[CV 1/3; 98/116] START max_depth=7, n_estimators=11.............................\n",
      "[CV 1/3; 98/116] END ...........max_depth=7, n_estimators=11; total time=   1.0s\n",
      "[CV 2/3; 98/116] START max_depth=7, n_estimators=11.............................\n",
      "[CV 2/3; 98/116] END ...........max_depth=7, n_estimators=11; total time=   1.0s\n",
      "[CV 3/3; 98/116] START max_depth=7, n_estimators=11.............................\n",
      "[CV 3/3; 98/116] END ...........max_depth=7, n_estimators=11; total time=   1.0s\n",
      "[CV 1/3; 99/116] START max_depth=7, n_estimators=12.............................\n",
      "[CV 1/3; 99/116] END ...........max_depth=7, n_estimators=12; total time=   1.1s\n",
      "[CV 2/3; 99/116] START max_depth=7, n_estimators=12.............................\n",
      "[CV 2/3; 99/116] END ...........max_depth=7, n_estimators=12; total time=   1.1s\n",
      "[CV 3/3; 99/116] START max_depth=7, n_estimators=12.............................\n",
      "[CV 3/3; 99/116] END ...........max_depth=7, n_estimators=12; total time=   1.1s\n",
      "[CV 1/3; 100/116] START max_depth=7, n_estimators=13............................\n",
      "[CV 1/3; 100/116] END ..........max_depth=7, n_estimators=13; total time=   1.2s\n",
      "[CV 2/3; 100/116] START max_depth=7, n_estimators=13............................\n",
      "[CV 2/3; 100/116] END ..........max_depth=7, n_estimators=13; total time=   1.2s\n",
      "[CV 3/3; 100/116] START max_depth=7, n_estimators=13............................\n",
      "[CV 3/3; 100/116] END ..........max_depth=7, n_estimators=13; total time=   1.2s\n",
      "[CV 1/3; 101/116] START max_depth=7, n_estimators=14............................\n",
      "[CV 1/3; 101/116] END ..........max_depth=7, n_estimators=14; total time=   1.2s\n",
      "[CV 2/3; 101/116] START max_depth=7, n_estimators=14............................\n",
      "[CV 2/3; 101/116] END ..........max_depth=7, n_estimators=14; total time=   1.3s\n",
      "[CV 3/3; 101/116] START max_depth=7, n_estimators=14............................\n",
      "[CV 3/3; 101/116] END ..........max_depth=7, n_estimators=14; total time=   1.3s\n",
      "[CV 1/3; 102/116] START max_depth=7, n_estimators=15............................\n",
      "[CV 1/3; 102/116] END ..........max_depth=7, n_estimators=15; total time=   1.3s\n",
      "[CV 2/3; 102/116] START max_depth=7, n_estimators=15............................\n",
      "[CV 2/3; 102/116] END ..........max_depth=7, n_estimators=15; total time=   1.4s\n",
      "[CV 3/3; 102/116] START max_depth=7, n_estimators=15............................\n",
      "[CV 3/3; 102/116] END ..........max_depth=7, n_estimators=15; total time=   1.5s\n",
      "[CV 1/3; 103/116] START max_depth=7, n_estimators=16............................\n",
      "[CV 1/3; 103/116] END ..........max_depth=7, n_estimators=16; total time=   1.4s\n",
      "[CV 2/3; 103/116] START max_depth=7, n_estimators=16............................\n",
      "[CV 2/3; 103/116] END ..........max_depth=7, n_estimators=16; total time=   1.4s\n",
      "[CV 3/3; 103/116] START max_depth=7, n_estimators=16............................\n",
      "[CV 3/3; 103/116] END ..........max_depth=7, n_estimators=16; total time=   1.5s\n",
      "[CV 1/3; 104/116] START max_depth=7, n_estimators=17............................\n",
      "[CV 1/3; 104/116] END ..........max_depth=7, n_estimators=17; total time=   1.5s\n",
      "[CV 2/3; 104/116] START max_depth=7, n_estimators=17............................\n",
      "[CV 2/3; 104/116] END ..........max_depth=7, n_estimators=17; total time=   1.5s\n",
      "[CV 3/3; 104/116] START max_depth=7, n_estimators=17............................\n",
      "[CV 3/3; 104/116] END ..........max_depth=7, n_estimators=17; total time=   1.7s\n",
      "[CV 1/3; 105/116] START max_depth=7, n_estimators=18............................\n",
      "[CV 1/3; 105/116] END ..........max_depth=7, n_estimators=18; total time=   1.6s\n",
      "[CV 2/3; 105/116] START max_depth=7, n_estimators=18............................\n",
      "[CV 2/3; 105/116] END ..........max_depth=7, n_estimators=18; total time=   1.6s\n",
      "[CV 3/3; 105/116] START max_depth=7, n_estimators=18............................\n",
      "[CV 3/3; 105/116] END ..........max_depth=7, n_estimators=18; total time=   1.6s\n",
      "[CV 1/3; 106/116] START max_depth=7, n_estimators=19............................\n",
      "[CV 1/3; 106/116] END ..........max_depth=7, n_estimators=19; total time=   1.8s\n",
      "[CV 2/3; 106/116] START max_depth=7, n_estimators=19............................\n",
      "[CV 2/3; 106/116] END ..........max_depth=7, n_estimators=19; total time=   1.7s\n",
      "[CV 3/3; 106/116] START max_depth=7, n_estimators=19............................\n",
      "[CV 3/3; 106/116] END ..........max_depth=7, n_estimators=19; total time=   1.8s\n",
      "[CV 1/3; 107/116] START max_depth=7, n_estimators=20............................\n",
      "[CV 1/3; 107/116] END ..........max_depth=7, n_estimators=20; total time=   1.8s\n",
      "[CV 2/3; 107/116] START max_depth=7, n_estimators=20............................\n",
      "[CV 2/3; 107/116] END ..........max_depth=7, n_estimators=20; total time=   1.8s\n",
      "[CV 3/3; 107/116] START max_depth=7, n_estimators=20............................\n",
      "[CV 3/3; 107/116] END ..........max_depth=7, n_estimators=20; total time=   1.8s\n",
      "[CV 1/3; 108/116] START max_depth=7, n_estimators=21............................\n",
      "[CV 1/3; 108/116] END ..........max_depth=7, n_estimators=21; total time=   1.8s\n",
      "[CV 2/3; 108/116] START max_depth=7, n_estimators=21............................\n",
      "[CV 2/3; 108/116] END ..........max_depth=7, n_estimators=21; total time=   1.8s\n",
      "[CV 3/3; 108/116] START max_depth=7, n_estimators=21............................\n",
      "[CV 3/3; 108/116] END ..........max_depth=7, n_estimators=21; total time=   1.9s\n",
      "[CV 1/3; 109/116] START max_depth=7, n_estimators=22............................\n",
      "[CV 1/3; 109/116] END ..........max_depth=7, n_estimators=22; total time=   2.0s\n",
      "[CV 2/3; 109/116] START max_depth=7, n_estimators=22............................\n",
      "[CV 2/3; 109/116] END ..........max_depth=7, n_estimators=22; total time=   2.0s\n",
      "[CV 3/3; 109/116] START max_depth=7, n_estimators=22............................\n",
      "[CV 3/3; 109/116] END ..........max_depth=7, n_estimators=22; total time=   1.9s\n",
      "[CV 1/3; 110/116] START max_depth=7, n_estimators=23............................\n",
      "[CV 1/3; 110/116] END ..........max_depth=7, n_estimators=23; total time=   2.0s\n",
      "[CV 2/3; 110/116] START max_depth=7, n_estimators=23............................\n",
      "[CV 2/3; 110/116] END ..........max_depth=7, n_estimators=23; total time=   2.1s\n",
      "[CV 3/3; 110/116] START max_depth=7, n_estimators=23............................\n",
      "[CV 3/3; 110/116] END ..........max_depth=7, n_estimators=23; total time=   2.0s\n",
      "[CV 1/3; 111/116] START max_depth=7, n_estimators=24............................\n",
      "[CV 1/3; 111/116] END ..........max_depth=7, n_estimators=24; total time=   2.1s\n",
      "[CV 2/3; 111/116] START max_depth=7, n_estimators=24............................\n",
      "[CV 2/3; 111/116] END ..........max_depth=7, n_estimators=24; total time=   2.1s\n",
      "[CV 3/3; 111/116] START max_depth=7, n_estimators=24............................\n",
      "[CV 3/3; 111/116] END ..........max_depth=7, n_estimators=24; total time=   2.0s\n",
      "[CV 1/3; 112/116] START max_depth=7, n_estimators=25............................\n",
      "[CV 1/3; 112/116] END ..........max_depth=7, n_estimators=25; total time=   2.2s\n",
      "[CV 2/3; 112/116] START max_depth=7, n_estimators=25............................\n",
      "[CV 2/3; 112/116] END ..........max_depth=7, n_estimators=25; total time=   2.3s\n",
      "[CV 3/3; 112/116] START max_depth=7, n_estimators=25............................\n",
      "[CV 3/3; 112/116] END ..........max_depth=7, n_estimators=25; total time=   2.2s\n",
      "[CV 1/3; 113/116] START max_depth=7, n_estimators=26............................\n",
      "[CV 1/3; 113/116] END ..........max_depth=7, n_estimators=26; total time=   2.2s\n",
      "[CV 2/3; 113/116] START max_depth=7, n_estimators=26............................\n",
      "[CV 2/3; 113/116] END ..........max_depth=7, n_estimators=26; total time=   2.3s\n",
      "[CV 3/3; 113/116] START max_depth=7, n_estimators=26............................\n",
      "[CV 3/3; 113/116] END ..........max_depth=7, n_estimators=26; total time=   2.3s\n",
      "[CV 1/3; 114/116] START max_depth=7, n_estimators=27............................\n",
      "[CV 1/3; 114/116] END ..........max_depth=7, n_estimators=27; total time=   2.4s\n",
      "[CV 2/3; 114/116] START max_depth=7, n_estimators=27............................\n",
      "[CV 2/3; 114/116] END ..........max_depth=7, n_estimators=27; total time=   2.4s\n",
      "[CV 3/3; 114/116] START max_depth=7, n_estimators=27............................\n",
      "[CV 3/3; 114/116] END ..........max_depth=7, n_estimators=27; total time=   2.5s\n",
      "[CV 1/3; 115/116] START max_depth=7, n_estimators=28............................\n",
      "[CV 1/3; 115/116] END ..........max_depth=7, n_estimators=28; total time=   2.4s\n",
      "[CV 2/3; 115/116] START max_depth=7, n_estimators=28............................\n",
      "[CV 2/3; 115/116] END ..........max_depth=7, n_estimators=28; total time=   2.5s\n",
      "[CV 3/3; 115/116] START max_depth=7, n_estimators=28............................\n",
      "[CV 3/3; 115/116] END ..........max_depth=7, n_estimators=28; total time=   2.4s\n",
      "[CV 1/3; 116/116] START max_depth=7, n_estimators=29............................\n",
      "[CV 1/3; 116/116] END ..........max_depth=7, n_estimators=29; total time=   2.5s\n",
      "[CV 2/3; 116/116] START max_depth=7, n_estimators=29............................\n",
      "[CV 2/3; 116/116] END ..........max_depth=7, n_estimators=29; total time=   2.5s\n",
      "[CV 3/3; 116/116] START max_depth=7, n_estimators=29............................\n",
      "[CV 3/3; 116/116] END ..........max_depth=7, n_estimators=29; total time=   2.5s\n",
      "CPU times: user 6min 21s, sys: 8.5 s, total: 6min 29s\n",
      "Wall time: 6min 30s\n"
     ]
    }
   ],
   "source": [
    "%%time\n",
    "model_rf = RandomForestClassifier(random_state=12345)\n",
    "parameters_rf = {'n_estimators':list(range(1, 30)),\"max_depth\": list(range(4, 8))}\n",
    "rf_grid = GridSearchCV(estimator=model_rf, param_grid = parameters_rf, cv = 3, n_jobs=-1, verbose=10)\n",
    "rf_grid.fit(tf_idf_train, target_train)\n",
    "params_rf = rf_grid.best_params_\n",
    "rf_best = RandomForestClassifier(**params_rf, random_state=12345)\n",
    "rf_best.fit(tf_idf_train, target_train)\n",
    "predictions_rf = rf_best.predict(tf_idf_val)"
   ]
  },
  {
   "cell_type": "markdown",
   "metadata": {},
   "source": [
    "\n",
    "<div class=\"alert alert-warning\">\n",
    "<b>1 Комментарий ревьюера ⚠️:</b> \n",
    "    \n",
    "Советую в первую очередь подбирать `n_estimators`\n",
    "<div class=\"alert alert-info\"> <b>Комментарий студента:</b> Сделал </div>\n",
    "</div></div>\n"
   ]
  },
  {
   "cell_type": "markdown",
   "metadata": {},
   "source": [
    "<div class=\"alert alert-success\">\n",
    "<b>2 Комментарий ревьюера ✔️:</b> Верно!</div>\n"
   ]
  },
  {
   "cell_type": "code",
   "execution_count": 13,
   "metadata": {},
   "outputs": [
    {
     "data": {
      "text/plain": [
       "{'max_depth': 7, 'n_estimators': 1}"
      ]
     },
     "metadata": {},
     "output_type": "display_data"
    }
   ],
   "source": [
    "display (params_rf)"
   ]
  },
  {
   "cell_type": "code",
   "execution_count": 14,
   "metadata": {},
   "outputs": [
    {
     "data": {
      "text/plain": [
       "0.005447941888619855"
      ]
     },
     "execution_count": 14,
     "metadata": {},
     "output_type": "execute_result"
    }
   ],
   "source": [
    "f1_score(target_val, predictions_rf)"
   ]
  },
  {
   "cell_type": "markdown",
   "metadata": {},
   "source": [
    "<div class=\"alert alert-info\">\n",
    "<font color='black'> <b>  При использовании модели случайного  леса метрика f1 получена далёкой от требуемой </font> <b>"
   ]
  },
  {
   "cell_type": "code",
   "execution_count": 15,
   "metadata": {},
   "outputs": [
    {
     "name": "stdout",
     "output_type": "stream",
     "text": [
      "Fitting 3 folds for each of 3 candidates, totalling 9 fits\n",
      "[CV 1/3; 1/3] START C=2.........................................................\n"
     ]
    },
    {
     "name": "stderr",
     "output_type": "stream",
     "text": [
      "/opt/conda/lib/python3.9/site-packages/sklearn/linear_model/_logistic.py:763: ConvergenceWarning: lbfgs failed to converge (status=1):\n",
      "STOP: TOTAL NO. of ITERATIONS REACHED LIMIT.\n",
      "\n",
      "Increase the number of iterations (max_iter) or scale the data as shown in:\n",
      "    https://scikit-learn.org/stable/modules/preprocessing.html\n",
      "Please also refer to the documentation for alternative solver options:\n",
      "    https://scikit-learn.org/stable/modules/linear_model.html#logistic-regression\n",
      "  n_iter_i = _check_optimize_result(\n"
     ]
    },
    {
     "name": "stdout",
     "output_type": "stream",
     "text": [
      "[CV 1/3; 1/3] END .......................................C=2; total time=  42.4s\n",
      "[CV 2/3; 1/3] START C=2.........................................................\n",
      "[CV 2/3; 1/3] END .......................................C=2; total time=  24.8s\n",
      "[CV 3/3; 1/3] START C=2.........................................................\n"
     ]
    },
    {
     "name": "stderr",
     "output_type": "stream",
     "text": [
      "/opt/conda/lib/python3.9/site-packages/sklearn/linear_model/_logistic.py:763: ConvergenceWarning: lbfgs failed to converge (status=1):\n",
      "STOP: TOTAL NO. of ITERATIONS REACHED LIMIT.\n",
      "\n",
      "Increase the number of iterations (max_iter) or scale the data as shown in:\n",
      "    https://scikit-learn.org/stable/modules/preprocessing.html\n",
      "Please also refer to the documentation for alternative solver options:\n",
      "    https://scikit-learn.org/stable/modules/linear_model.html#logistic-regression\n",
      "  n_iter_i = _check_optimize_result(\n"
     ]
    },
    {
     "name": "stdout",
     "output_type": "stream",
     "text": [
      "[CV 3/3; 1/3] END .......................................C=2; total time=  45.4s\n",
      "[CV 1/3; 2/3] START C=3.........................................................\n"
     ]
    },
    {
     "name": "stderr",
     "output_type": "stream",
     "text": [
      "/opt/conda/lib/python3.9/site-packages/sklearn/linear_model/_logistic.py:763: ConvergenceWarning: lbfgs failed to converge (status=1):\n",
      "STOP: TOTAL NO. of ITERATIONS REACHED LIMIT.\n",
      "\n",
      "Increase the number of iterations (max_iter) or scale the data as shown in:\n",
      "    https://scikit-learn.org/stable/modules/preprocessing.html\n",
      "Please also refer to the documentation for alternative solver options:\n",
      "    https://scikit-learn.org/stable/modules/linear_model.html#logistic-regression\n",
      "  n_iter_i = _check_optimize_result(\n"
     ]
    },
    {
     "name": "stdout",
     "output_type": "stream",
     "text": [
      "[CV 1/3; 2/3] END .......................................C=3; total time=  42.6s\n",
      "[CV 2/3; 2/3] START C=3.........................................................\n",
      "[CV 2/3; 2/3] END .......................................C=3; total time=  29.1s\n",
      "[CV 3/3; 2/3] START C=3.........................................................\n",
      "[CV 3/3; 2/3] END .......................................C=3; total time=  30.7s\n",
      "[CV 1/3; 3/3] START C=4.........................................................\n"
     ]
    },
    {
     "name": "stderr",
     "output_type": "stream",
     "text": [
      "/opt/conda/lib/python3.9/site-packages/sklearn/linear_model/_logistic.py:763: ConvergenceWarning: lbfgs failed to converge (status=1):\n",
      "STOP: TOTAL NO. of ITERATIONS REACHED LIMIT.\n",
      "\n",
      "Increase the number of iterations (max_iter) or scale the data as shown in:\n",
      "    https://scikit-learn.org/stable/modules/preprocessing.html\n",
      "Please also refer to the documentation for alternative solver options:\n",
      "    https://scikit-learn.org/stable/modules/linear_model.html#logistic-regression\n",
      "  n_iter_i = _check_optimize_result(\n"
     ]
    },
    {
     "name": "stdout",
     "output_type": "stream",
     "text": [
      "[CV 1/3; 3/3] END .......................................C=4; total time=  43.6s\n",
      "[CV 2/3; 3/3] START C=4.........................................................\n"
     ]
    },
    {
     "name": "stderr",
     "output_type": "stream",
     "text": [
      "/opt/conda/lib/python3.9/site-packages/sklearn/linear_model/_logistic.py:763: ConvergenceWarning: lbfgs failed to converge (status=1):\n",
      "STOP: TOTAL NO. of ITERATIONS REACHED LIMIT.\n",
      "\n",
      "Increase the number of iterations (max_iter) or scale the data as shown in:\n",
      "    https://scikit-learn.org/stable/modules/preprocessing.html\n",
      "Please also refer to the documentation for alternative solver options:\n",
      "    https://scikit-learn.org/stable/modules/linear_model.html#logistic-regression\n",
      "  n_iter_i = _check_optimize_result(\n"
     ]
    },
    {
     "name": "stdout",
     "output_type": "stream",
     "text": [
      "[CV 2/3; 3/3] END .......................................C=4; total time=  43.1s\n",
      "[CV 3/3; 3/3] START C=4.........................................................\n"
     ]
    },
    {
     "name": "stderr",
     "output_type": "stream",
     "text": [
      "/opt/conda/lib/python3.9/site-packages/sklearn/linear_model/_logistic.py:763: ConvergenceWarning: lbfgs failed to converge (status=1):\n",
      "STOP: TOTAL NO. of ITERATIONS REACHED LIMIT.\n",
      "\n",
      "Increase the number of iterations (max_iter) or scale the data as shown in:\n",
      "    https://scikit-learn.org/stable/modules/preprocessing.html\n",
      "Please also refer to the documentation for alternative solver options:\n",
      "    https://scikit-learn.org/stable/modules/linear_model.html#logistic-regression\n",
      "  n_iter_i = _check_optimize_result(\n"
     ]
    },
    {
     "name": "stdout",
     "output_type": "stream",
     "text": [
      "[CV 3/3; 3/3] END .......................................C=4; total time=  42.6s\n"
     ]
    },
    {
     "name": "stderr",
     "output_type": "stream",
     "text": [
      "/opt/conda/lib/python3.9/site-packages/sklearn/linear_model/_logistic.py:763: ConvergenceWarning: lbfgs failed to converge (status=1):\n",
      "STOP: TOTAL NO. of ITERATIONS REACHED LIMIT.\n",
      "\n",
      "Increase the number of iterations (max_iter) or scale the data as shown in:\n",
      "    https://scikit-learn.org/stable/modules/preprocessing.html\n",
      "Please also refer to the documentation for alternative solver options:\n",
      "    https://scikit-learn.org/stable/modules/linear_model.html#logistic-regression\n",
      "  n_iter_i = _check_optimize_result(\n"
     ]
    },
    {
     "name": "stdout",
     "output_type": "stream",
     "text": [
      "CPU times: user 3min 6s, sys: 4min 10s, total: 7min 16s\n",
      "Wall time: 7min 17s\n"
     ]
    },
    {
     "name": "stderr",
     "output_type": "stream",
     "text": [
      "/opt/conda/lib/python3.9/site-packages/sklearn/linear_model/_logistic.py:763: ConvergenceWarning: lbfgs failed to converge (status=1):\n",
      "STOP: TOTAL NO. of ITERATIONS REACHED LIMIT.\n",
      "\n",
      "Increase the number of iterations (max_iter) or scale the data as shown in:\n",
      "    https://scikit-learn.org/stable/modules/preprocessing.html\n",
      "Please also refer to the documentation for alternative solver options:\n",
      "    https://scikit-learn.org/stable/modules/linear_model.html#logistic-regression\n",
      "  n_iter_i = _check_optimize_result(\n"
     ]
    }
   ],
   "source": [
    "%%time\n",
    "model_lf = LogisticRegression(random_state=12345, class_weight='balanced')\n",
    "parameters_lf = {\"C\": list(range(2,5))}\n",
    "lf_grid = GridSearchCV(estimator=model_lf, param_grid = parameters_lf, cv = 3, n_jobs=-1, verbose=10)\n",
    "lf_grid.fit(tf_idf_train, target_train)\n",
    "params_lf = lf_grid.best_params_\n",
    "lf_best = LogisticRegression(**params_lf, random_state=12345)\n",
    "lf_best.fit(tf_idf_train, target_train)\n",
    "predictions_lf = lf_best.predict(tf_idf_val)"
   ]
  },
  {
   "cell_type": "code",
   "execution_count": 16,
   "metadata": {},
   "outputs": [
    {
     "data": {
      "text/plain": [
       "{'C': 4}"
      ]
     },
     "metadata": {},
     "output_type": "display_data"
    }
   ],
   "source": [
    "display (params_lf)"
   ]
  },
  {
   "cell_type": "code",
   "execution_count": 17,
   "metadata": {},
   "outputs": [
    {
     "data": {
      "text/plain": [
       "0.7641875220303137"
      ]
     },
     "execution_count": 17,
     "metadata": {},
     "output_type": "execute_result"
    }
   ],
   "source": [
    "f1_score(target_val, predictions_lf)"
   ]
  },
  {
   "cell_type": "markdown",
   "metadata": {},
   "source": [
    "<div class=\"alert alert-info\">\n",
    "<font color='black'> <b>  При использовании модели логистической регрессии метрика f1 получена в пределах допустимого значения. Применим эту модель на тестовых данных </font> <b>"
   ]
  },
  {
   "cell_type": "markdown",
   "metadata": {},
   "source": [
    "<div class=\"alert alert-success\">\n",
    "<b>3 Комментарий ревьюера ✔️:</b> Отличный результат!</div>\n"
   ]
  },
  {
   "cell_type": "code",
   "execution_count": 19,
   "metadata": {},
   "outputs": [],
   "source": [
    "predictions_lf_test = lf_best.predict(tf_idf_test)"
   ]
  },
  {
   "cell_type": "code",
   "execution_count": 20,
   "metadata": {},
   "outputs": [
    {
     "data": {
      "text/plain": [
       "0.7563896336014299"
      ]
     },
     "execution_count": 20,
     "metadata": {},
     "output_type": "execute_result"
    }
   ],
   "source": [
    "f1_score(target_test, predictions_lf_test)"
   ]
  },
  {
   "cell_type": "markdown",
   "metadata": {},
   "source": [
    "<div class=\"alert alert-info\">\n",
    "<font color='black'> <b>  При использовании модели логистической регрессии на тестовых данных метрика f1 получена в пределах допустимого значения - 0.756 </font> <b>"
   ]
  },
  {
   "cell_type": "markdown",
   "metadata": {},
   "source": [
    "<div class=\"alert alert-success\">\n",
    "<b>3 Комментарий ревьюера ✔️:</b> Порог пройден!</div>\n"
   ]
  },
  {
   "cell_type": "markdown",
   "metadata": {},
   "source": [
    "## Выводы"
   ]
  },
  {
   "cell_type": "markdown",
   "metadata": {},
   "source": [
    "<div class=\"alert alert-info\">\n",
    "<font color='black'> <b>  Лучше всего в решении задачи показала себя модель логистической регрессии. Метрика f1 в пределах допустимого </font> <b>"
   ]
  },
  {
   "cell_type": "markdown",
   "metadata": {},
   "source": [
    "\n",
    "<div class=\"alert alert-warning\">\n",
    "<b>1 Комментарий ревьюера ⚠️:</b> По поводу нуля спорно. Лог. регрессия показывает неплохие результаты. Остальное в итогах 1 ревью \n",
    "<div class=\"alert alert-info\"> <b>Комментарий студента:</b> Вроде учел все советы, но ничего не вышло(( где главная ошибка? (0.3 далеко от 0.75) Нужно применить \"upsample\"/\"downsample\"? Еще что-то? Приходится ждать работу моделей около часа в сумме</div>\n",
    "</div>\n"
   ]
  },
  {
   "cell_type": "markdown",
   "metadata": {},
   "source": [
    "\n",
    "<div class=\"alert alert-warning\">\n",
    "<b>2 Комментарий ревьюера ⚠️:</b> В итогах 2 ревью\n",
    " <div class=\"alert alert-info\"> <b>Комментарий студента:</b> Достиг требуемого результата! Пара вопросов: 1) Лемматизацию я применяю не ко всему тексту. Это корректно? (если применять apply, то считает очень долго и ядро через час умирает) 2) Расскажи пожалуйста про параметр \"С\" логистической регрессии. Не совсем понял, что от него зависит</div>"
   ]
  },
  {
   "cell_type": "markdown",
   "metadata": {},
   "source": [
    "<div class=\"alert alert-warning\">\n",
    "<b>3 Комментарий ревьюера ⚠️:</b>\n",
    "\n",
    "<ol>\n",
    "<li> Правильно применять твой способ лемматизацию не к тексту целиком, а ко словам, поэтому всё верно</li>\n",
    "<li> <b>C</b> - это обратная сила регуляризации. Меньшие значения определяют более сильную регуляризацию.\n",
    "    Очень советую посмотреть про регуляризацию <a href=\"https://neerc.ifmo.ru/wiki/index.php?title=%D0%A0%D0%B5%D0%B3%D1%83%D0%BB%D1%8F%D1%80%D0%B8%D0%B7%D0%B0%D1%86%D0%B8%D1%8F\">здесь</a>, т.к. тут есть пример с лог. регрессией</li>\n",
    "</ol>"
   ]
  },
  {
   "cell_type": "markdown",
   "metadata": {},
   "source": [
    "## Чек-лист проверки"
   ]
  },
  {
   "cell_type": "markdown",
   "metadata": {},
   "source": [
    "- [x]  Jupyter Notebook открыт\n",
    "- [x]  Весь код выполняется без ошибок\n",
    "- [x]  Ячейки с кодом расположены в порядке исполнения\n",
    "- [x]  Данные загружены и подготовлены\n",
    "- [x]  Модели обучены\n",
    "- [x]  Значение метрики *F1* не меньше 0.75\n",
    "- [x]  Выводы написаны"
   ]
  }
 ],
 "metadata": {
  "ExecuteTimeLog": [
   {
    "duration": 3091,
    "start_time": "2022-07-23T17:02:30.687Z"
   },
   {
    "duration": 167,
    "start_time": "2022-07-23T17:03:19.805Z"
   },
   {
    "duration": 34,
    "start_time": "2022-07-23T17:04:21.417Z"
   },
   {
    "duration": 39,
    "start_time": "2022-07-23T17:04:25.761Z"
   },
   {
    "duration": 44,
    "start_time": "2022-07-23T17:04:46.485Z"
   },
   {
    "duration": 43,
    "start_time": "2022-07-23T17:05:43.451Z"
   },
   {
    "duration": 3,
    "start_time": "2022-07-23T17:05:54.362Z"
   },
   {
    "duration": 42,
    "start_time": "2022-07-23T17:05:58.170Z"
   },
   {
    "duration": 413,
    "start_time": "2022-07-23T17:06:04.098Z"
   },
   {
    "duration": 104,
    "start_time": "2022-07-23T17:06:04.513Z"
   },
   {
    "duration": 68,
    "start_time": "2022-07-23T17:06:16.165Z"
   },
   {
    "duration": 514,
    "start_time": "2022-07-23T17:06:35.910Z"
   },
   {
    "duration": 119,
    "start_time": "2022-07-23T17:06:36.426Z"
   },
   {
    "duration": 14,
    "start_time": "2022-07-23T17:07:30.818Z"
   },
   {
    "duration": 485,
    "start_time": "2022-07-23T17:08:10.318Z"
   },
   {
    "duration": 91,
    "start_time": "2022-07-23T17:08:10.806Z"
   },
   {
    "duration": 2006,
    "start_time": "2022-07-23T17:09:10.025Z"
   },
   {
    "duration": 191,
    "start_time": "2022-07-23T17:09:12.033Z"
   },
   {
    "duration": 2558,
    "start_time": "2022-07-23T17:14:10.640Z"
   },
   {
    "duration": 10,
    "start_time": "2022-07-23T17:14:33.546Z"
   },
   {
    "duration": 2007,
    "start_time": "2022-07-23T17:14:38.800Z"
   },
   {
    "duration": 965,
    "start_time": "2022-07-23T17:14:40.810Z"
   },
   {
    "duration": 966,
    "start_time": "2022-07-23T17:25:23.245Z"
   },
   {
    "duration": 869,
    "start_time": "2022-07-23T17:31:54.637Z"
   },
   {
    "duration": 6,
    "start_time": "2022-07-23T17:32:54.113Z"
   },
   {
    "duration": 984,
    "start_time": "2022-07-23T17:32:56.460Z"
   },
   {
    "duration": 7,
    "start_time": "2022-07-23T17:33:12.213Z"
   },
   {
    "duration": 975,
    "start_time": "2022-07-23T17:33:15.665Z"
   },
   {
    "duration": 9,
    "start_time": "2022-07-23T17:33:52.371Z"
   },
   {
    "duration": 888,
    "start_time": "2022-07-23T17:33:55.032Z"
   },
   {
    "duration": 9,
    "start_time": "2022-07-23T17:34:23.408Z"
   },
   {
    "duration": 8,
    "start_time": "2022-07-23T17:35:45.887Z"
   },
   {
    "duration": 6,
    "start_time": "2022-07-23T17:37:07.040Z"
   },
   {
    "duration": 7,
    "start_time": "2022-07-23T17:37:19.590Z"
   },
   {
    "duration": 7,
    "start_time": "2022-07-23T17:37:22.526Z"
   },
   {
    "duration": 150,
    "start_time": "2022-07-23T17:37:34.685Z"
   },
   {
    "duration": 10,
    "start_time": "2022-07-23T17:37:43.208Z"
   },
   {
    "duration": 16,
    "start_time": "2022-07-23T17:37:47.049Z"
   },
   {
    "duration": 6,
    "start_time": "2022-07-23T17:37:52.711Z"
   },
   {
    "duration": 9,
    "start_time": "2022-07-23T17:38:05.910Z"
   },
   {
    "duration": 6,
    "start_time": "2022-07-23T17:38:29.241Z"
   },
   {
    "duration": 8,
    "start_time": "2022-07-23T17:39:07.327Z"
   },
   {
    "duration": 222,
    "start_time": "2022-07-23T17:47:11.700Z"
   },
   {
    "duration": 30,
    "start_time": "2022-07-23T17:47:27.289Z"
   },
   {
    "duration": 15,
    "start_time": "2022-07-23T17:59:04.229Z"
   },
   {
    "duration": 21,
    "start_time": "2022-07-23T17:59:15.984Z"
   },
   {
    "duration": 1931,
    "start_time": "2022-07-23T18:00:35.540Z"
   },
   {
    "duration": 948,
    "start_time": "2022-07-23T18:00:37.474Z"
   },
   {
    "duration": 8,
    "start_time": "2022-07-23T18:00:38.424Z"
   },
   {
    "duration": 17,
    "start_time": "2022-07-23T18:00:38.434Z"
   },
   {
    "duration": 257,
    "start_time": "2022-07-23T18:00:38.454Z"
   },
   {
    "duration": 38,
    "start_time": "2022-07-23T18:00:38.712Z"
   },
   {
    "duration": 180,
    "start_time": "2022-07-23T18:00:38.752Z"
   },
   {
    "duration": 51,
    "start_time": "2022-07-23T18:04:23.745Z"
   },
   {
    "duration": 1956,
    "start_time": "2022-07-23T18:04:36.745Z"
   },
   {
    "duration": 1016,
    "start_time": "2022-07-23T18:04:38.704Z"
   },
   {
    "duration": 8,
    "start_time": "2022-07-23T18:04:39.721Z"
   },
   {
    "duration": 20,
    "start_time": "2022-07-23T18:04:39.731Z"
   },
   {
    "duration": 250,
    "start_time": "2022-07-23T18:04:39.753Z"
   },
   {
    "duration": 43,
    "start_time": "2022-07-23T18:04:40.004Z"
   },
   {
    "duration": 49,
    "start_time": "2022-07-23T18:04:40.049Z"
   },
   {
    "duration": 1790,
    "start_time": "2022-07-23T18:07:05.788Z"
   },
   {
    "duration": 897,
    "start_time": "2022-07-23T18:07:07.580Z"
   },
   {
    "duration": 7,
    "start_time": "2022-07-23T18:07:08.479Z"
   },
   {
    "duration": 10,
    "start_time": "2022-07-23T18:07:08.488Z"
   },
   {
    "duration": 265,
    "start_time": "2022-07-23T18:07:08.500Z"
   },
   {
    "duration": 32,
    "start_time": "2022-07-23T18:07:08.767Z"
   },
   {
    "duration": 1889,
    "start_time": "2022-07-23T18:08:19.853Z"
   },
   {
    "duration": 945,
    "start_time": "2022-07-23T18:08:21.744Z"
   },
   {
    "duration": 8,
    "start_time": "2022-07-23T18:08:22.691Z"
   },
   {
    "duration": 12,
    "start_time": "2022-07-23T18:08:22.700Z"
   },
   {
    "duration": 265,
    "start_time": "2022-07-23T18:08:22.715Z"
   },
   {
    "duration": 32,
    "start_time": "2022-07-23T18:08:22.982Z"
   },
   {
    "duration": 3431,
    "start_time": "2022-07-23T18:09:00.947Z"
   },
   {
    "duration": 949,
    "start_time": "2022-07-23T18:09:04.380Z"
   },
   {
    "duration": 7,
    "start_time": "2022-07-23T18:09:05.331Z"
   },
   {
    "duration": 35,
    "start_time": "2022-07-23T18:09:05.346Z"
   },
   {
    "duration": 256,
    "start_time": "2022-07-23T18:09:05.384Z"
   },
   {
    "duration": 36,
    "start_time": "2022-07-23T18:09:05.642Z"
   },
   {
    "duration": 2133,
    "start_time": "2022-07-23T18:09:05.680Z"
   },
   {
    "duration": 135757,
    "start_time": "2022-07-23T18:09:07.815Z"
   },
   {
    "duration": 2633,
    "start_time": "2022-07-24T16:09:47.951Z"
   },
   {
    "duration": 2378,
    "start_time": "2022-07-24T16:09:50.586Z"
   },
   {
    "duration": 7,
    "start_time": "2022-07-24T16:09:52.966Z"
   },
   {
    "duration": 10,
    "start_time": "2022-07-24T16:09:52.976Z"
   },
   {
    "duration": 237,
    "start_time": "2022-07-24T16:09:52.988Z"
   },
   {
    "duration": 27,
    "start_time": "2022-07-24T16:09:53.226Z"
   },
   {
    "duration": 1941,
    "start_time": "2022-07-24T16:09:53.261Z"
   },
   {
    "duration": 125741,
    "start_time": "2022-07-24T16:09:55.204Z"
   },
   {
    "duration": 14,
    "start_time": "2022-07-24T16:12:00.946Z"
   },
   {
    "duration": 1856,
    "start_time": "2022-07-24T16:12:24.325Z"
   },
   {
    "duration": 2414,
    "start_time": "2022-07-24T16:12:26.186Z"
   },
   {
    "duration": 7,
    "start_time": "2022-07-24T16:12:28.602Z"
   },
   {
    "duration": 13,
    "start_time": "2022-07-24T16:12:28.611Z"
   },
   {
    "duration": 220,
    "start_time": "2022-07-24T16:12:28.626Z"
   },
   {
    "duration": 28,
    "start_time": "2022-07-24T16:12:28.848Z"
   },
   {
    "duration": 1936,
    "start_time": "2022-07-24T16:12:28.877Z"
   },
   {
    "duration": 126302,
    "start_time": "2022-07-24T16:12:30.815Z"
   },
   {
    "duration": 3,
    "start_time": "2022-07-24T16:14:37.118Z"
   },
   {
    "duration": 48,
    "start_time": "2022-07-24T16:14:59.326Z"
   },
   {
    "duration": 1915,
    "start_time": "2022-07-24T16:15:27.733Z"
   },
   {
    "duration": 2413,
    "start_time": "2022-07-24T16:15:29.650Z"
   },
   {
    "duration": 7,
    "start_time": "2022-07-24T16:15:32.065Z"
   },
   {
    "duration": 28,
    "start_time": "2022-07-24T16:15:32.074Z"
   },
   {
    "duration": 224,
    "start_time": "2022-07-24T16:15:32.104Z"
   },
   {
    "duration": 31,
    "start_time": "2022-07-24T16:15:32.330Z"
   },
   {
    "duration": 1632,
    "start_time": "2022-07-24T16:15:41.514Z"
   },
   {
    "duration": 881,
    "start_time": "2022-07-24T16:15:43.148Z"
   },
   {
    "duration": 9,
    "start_time": "2022-07-24T16:15:44.032Z"
   },
   {
    "duration": 22,
    "start_time": "2022-07-24T16:15:44.042Z"
   },
   {
    "duration": 239,
    "start_time": "2022-07-24T16:15:44.067Z"
   },
   {
    "duration": 32,
    "start_time": "2022-07-24T16:15:44.309Z"
   },
   {
    "duration": 1983,
    "start_time": "2022-07-24T16:15:44.343Z"
   },
   {
    "duration": 1596,
    "start_time": "2022-07-24T16:18:32.757Z"
   },
   {
    "duration": 880,
    "start_time": "2022-07-24T16:18:34.355Z"
   },
   {
    "duration": 11,
    "start_time": "2022-07-24T16:18:35.237Z"
   },
   {
    "duration": 16,
    "start_time": "2022-07-24T16:18:35.260Z"
   },
   {
    "duration": 225,
    "start_time": "2022-07-24T16:18:35.278Z"
   },
   {
    "duration": 30,
    "start_time": "2022-07-24T16:18:35.505Z"
   },
   {
    "duration": 1976,
    "start_time": "2022-07-24T16:18:35.537Z"
   },
   {
    "duration": 128448,
    "start_time": "2022-07-24T16:18:37.514Z"
   },
   {
    "duration": 3,
    "start_time": "2022-07-24T16:21:02.318Z"
   },
   {
    "duration": 1840,
    "start_time": "2022-07-24T16:29:41.643Z"
   },
   {
    "duration": 2377,
    "start_time": "2022-07-24T16:29:43.485Z"
   },
   {
    "duration": 7,
    "start_time": "2022-07-24T16:29:45.864Z"
   },
   {
    "duration": 19,
    "start_time": "2022-07-24T16:29:45.873Z"
   },
   {
    "duration": 210,
    "start_time": "2022-07-24T16:29:45.895Z"
   },
   {
    "duration": 27,
    "start_time": "2022-07-24T16:29:46.107Z"
   },
   {
    "duration": 1943,
    "start_time": "2022-07-24T16:29:46.136Z"
   },
   {
    "duration": 125940,
    "start_time": "2022-07-24T16:29:48.081Z"
   },
   {
    "duration": 3,
    "start_time": "2022-07-24T16:31:54.022Z"
   },
   {
    "duration": 58,
    "start_time": "2022-07-24T16:32:11.774Z"
   },
   {
    "duration": 1810,
    "start_time": "2022-07-24T17:01:26.271Z"
   },
   {
    "duration": 2372,
    "start_time": "2022-07-24T17:01:28.082Z"
   },
   {
    "duration": 17,
    "start_time": "2022-07-24T17:01:30.456Z"
   },
   {
    "duration": 35,
    "start_time": "2022-07-24T17:01:30.476Z"
   },
   {
    "duration": 234,
    "start_time": "2022-07-24T17:01:30.513Z"
   },
   {
    "duration": 28,
    "start_time": "2022-07-24T17:01:30.749Z"
   },
   {
    "duration": 14,
    "start_time": "2022-07-24T17:01:30.779Z"
   },
   {
    "duration": 122198,
    "start_time": "2022-07-24T17:01:30.795Z"
   },
   {
    "duration": 2,
    "start_time": "2022-07-24T17:03:32.995Z"
   },
   {
    "duration": 67,
    "start_time": "2022-07-24T17:03:32.999Z"
   },
   {
    "duration": 7196,
    "start_time": "2022-07-24T17:03:33.068Z"
   },
   {
    "duration": 161,
    "start_time": "2022-07-24T17:03:40.266Z"
   },
   {
    "duration": 227712,
    "start_time": "2022-07-24T17:04:53.013Z"
   },
   {
    "duration": 1601,
    "start_time": "2022-07-24T17:09:27.524Z"
   },
   {
    "duration": 811,
    "start_time": "2022-07-24T17:09:29.128Z"
   },
   {
    "duration": 7,
    "start_time": "2022-07-24T17:09:29.941Z"
   },
   {
    "duration": 21,
    "start_time": "2022-07-24T17:09:29.950Z"
   },
   {
    "duration": 229,
    "start_time": "2022-07-24T17:09:29.974Z"
   },
   {
    "duration": 24,
    "start_time": "2022-07-24T17:09:30.205Z"
   },
   {
    "duration": 32,
    "start_time": "2022-07-24T17:09:30.230Z"
   },
   {
    "duration": 125318,
    "start_time": "2022-07-24T17:09:30.264Z"
   },
   {
    "duration": 3,
    "start_time": "2022-07-24T17:11:35.584Z"
   },
   {
    "duration": 75,
    "start_time": "2022-07-24T17:11:35.589Z"
   },
   {
    "duration": 7286,
    "start_time": "2022-07-24T17:11:35.666Z"
   },
   {
    "duration": 231963,
    "start_time": "2022-07-24T17:11:42.954Z"
   },
   {
    "duration": 11,
    "start_time": "2022-07-24T17:16:00.864Z"
   },
   {
    "duration": 149,
    "start_time": "2022-07-24T17:20:05.377Z"
   },
   {
    "duration": 4,
    "start_time": "2022-07-24T17:20:19.286Z"
   },
   {
    "duration": 4,
    "start_time": "2022-07-24T17:21:06.891Z"
   },
   {
    "duration": 1703,
    "start_time": "2022-07-24T17:24:30.187Z"
   },
   {
    "duration": 860,
    "start_time": "2022-07-24T17:24:31.892Z"
   },
   {
    "duration": 9,
    "start_time": "2022-07-24T17:24:32.754Z"
   },
   {
    "duration": 25,
    "start_time": "2022-07-24T17:24:32.770Z"
   },
   {
    "duration": 218,
    "start_time": "2022-07-24T17:24:32.797Z"
   },
   {
    "duration": 28,
    "start_time": "2022-07-24T17:24:33.017Z"
   },
   {
    "duration": 18,
    "start_time": "2022-07-24T17:24:33.046Z"
   },
   {
    "duration": 129237,
    "start_time": "2022-07-24T17:24:33.075Z"
   },
   {
    "duration": 2,
    "start_time": "2022-07-24T17:26:42.314Z"
   },
   {
    "duration": 67,
    "start_time": "2022-07-24T17:26:42.318Z"
   },
   {
    "duration": 7577,
    "start_time": "2022-07-24T17:26:42.387Z"
   },
   {
    "duration": 237616,
    "start_time": "2022-07-24T17:26:49.966Z"
   },
   {
    "duration": 5,
    "start_time": "2022-07-24T17:30:47.586Z"
   },
   {
    "duration": 15,
    "start_time": "2022-07-24T17:30:47.595Z"
   },
   {
    "duration": 200,
    "start_time": "2022-07-24T17:37:24.388Z"
   },
   {
    "duration": 86746,
    "start_time": "2022-07-24T17:37:33.162Z"
   },
   {
    "duration": 86,
    "start_time": "2022-07-24T17:39:01.925Z"
   },
   {
    "duration": 645232,
    "start_time": "2022-07-24T17:40:22.659Z"
   },
   {
    "duration": 2457,
    "start_time": "2022-07-24T17:51:55.861Z"
   },
   {
    "duration": 0,
    "start_time": "2022-07-24T17:51:58.321Z"
   },
   {
    "duration": 0,
    "start_time": "2022-07-24T17:51:58.323Z"
   },
   {
    "duration": 0,
    "start_time": "2022-07-24T17:51:58.324Z"
   },
   {
    "duration": 0,
    "start_time": "2022-07-24T17:51:58.325Z"
   },
   {
    "duration": 0,
    "start_time": "2022-07-24T17:51:58.327Z"
   },
   {
    "duration": 0,
    "start_time": "2022-07-24T17:51:58.328Z"
   },
   {
    "duration": 0,
    "start_time": "2022-07-24T17:51:58.329Z"
   },
   {
    "duration": 0,
    "start_time": "2022-07-24T17:51:58.331Z"
   },
   {
    "duration": 0,
    "start_time": "2022-07-24T17:51:58.332Z"
   },
   {
    "duration": 0,
    "start_time": "2022-07-24T17:51:58.334Z"
   },
   {
    "duration": 0,
    "start_time": "2022-07-24T17:51:58.335Z"
   },
   {
    "duration": 0,
    "start_time": "2022-07-24T17:51:58.336Z"
   },
   {
    "duration": 0,
    "start_time": "2022-07-24T17:51:58.361Z"
   },
   {
    "duration": 0,
    "start_time": "2022-07-24T17:51:58.363Z"
   },
   {
    "duration": 0,
    "start_time": "2022-07-24T17:51:58.364Z"
   },
   {
    "duration": 0,
    "start_time": "2022-07-24T17:51:58.365Z"
   },
   {
    "duration": 1646,
    "start_time": "2022-07-24T17:52:41.115Z"
   },
   {
    "duration": 865,
    "start_time": "2022-07-24T17:52:42.763Z"
   },
   {
    "duration": 6,
    "start_time": "2022-07-24T17:52:43.630Z"
   },
   {
    "duration": 23,
    "start_time": "2022-07-24T17:52:43.638Z"
   },
   {
    "duration": 222,
    "start_time": "2022-07-24T17:52:43.662Z"
   },
   {
    "duration": 27,
    "start_time": "2022-07-24T17:52:43.886Z"
   },
   {
    "duration": 6,
    "start_time": "2022-07-24T17:52:43.915Z"
   },
   {
    "duration": 121642,
    "start_time": "2022-07-24T17:52:43.922Z"
   },
   {
    "duration": 151,
    "start_time": "2022-07-24T17:54:45.565Z"
   },
   {
    "duration": 0,
    "start_time": "2022-07-24T17:54:45.717Z"
   },
   {
    "duration": 0,
    "start_time": "2022-07-24T17:54:45.718Z"
   },
   {
    "duration": 0,
    "start_time": "2022-07-24T17:54:45.719Z"
   },
   {
    "duration": 0,
    "start_time": "2022-07-24T17:54:45.720Z"
   },
   {
    "duration": 0,
    "start_time": "2022-07-24T17:54:45.722Z"
   },
   {
    "duration": 0,
    "start_time": "2022-07-24T17:54:45.723Z"
   },
   {
    "duration": 0,
    "start_time": "2022-07-24T17:54:45.723Z"
   },
   {
    "duration": 0,
    "start_time": "2022-07-24T17:54:45.724Z"
   },
   {
    "duration": 1714,
    "start_time": "2022-07-24T17:54:59.823Z"
   },
   {
    "duration": 910,
    "start_time": "2022-07-24T17:55:01.539Z"
   },
   {
    "duration": 25,
    "start_time": "2022-07-24T17:55:02.450Z"
   },
   {
    "duration": 19,
    "start_time": "2022-07-24T17:55:02.477Z"
   },
   {
    "duration": 240,
    "start_time": "2022-07-24T17:55:02.498Z"
   },
   {
    "duration": 41,
    "start_time": "2022-07-24T17:55:02.740Z"
   },
   {
    "duration": 11,
    "start_time": "2022-07-24T17:55:02.783Z"
   },
   {
    "duration": 133603,
    "start_time": "2022-07-24T17:55:02.796Z"
   },
   {
    "duration": 4,
    "start_time": "2022-07-24T17:57:16.402Z"
   },
   {
    "duration": 110,
    "start_time": "2022-07-24T17:57:16.408Z"
   },
   {
    "duration": 7873,
    "start_time": "2022-07-24T17:57:16.520Z"
   },
   {
    "duration": 125729,
    "start_time": "2022-07-24T17:57:24.395Z"
   },
   {
    "duration": 4,
    "start_time": "2022-07-24T17:59:30.126Z"
   },
   {
    "duration": 29,
    "start_time": "2022-07-24T17:59:30.132Z"
   },
   {
    "duration": 23,
    "start_time": "2022-07-24T17:59:30.163Z"
   },
   {
    "duration": 140,
    "start_time": "2022-07-24T17:59:30.187Z"
   },
   {
    "duration": 0,
    "start_time": "2022-07-24T17:59:30.328Z"
   },
   {
    "duration": 51,
    "start_time": "2022-07-24T18:19:33.948Z"
   },
   {
    "duration": 6545,
    "start_time": "2022-07-25T16:36:42.023Z"
   },
   {
    "duration": 2154,
    "start_time": "2022-07-25T16:38:43.535Z"
   },
   {
    "duration": 6,
    "start_time": "2022-07-25T16:38:45.691Z"
   },
   {
    "duration": 10,
    "start_time": "2022-07-25T16:38:45.699Z"
   },
   {
    "duration": 208,
    "start_time": "2022-07-25T16:38:45.892Z"
   },
   {
    "duration": 25,
    "start_time": "2022-07-25T16:38:46.495Z"
   },
   {
    "duration": 5,
    "start_time": "2022-07-25T16:38:49.229Z"
   },
   {
    "duration": 5,
    "start_time": "2022-07-25T16:39:18.022Z"
   },
   {
    "duration": 5,
    "start_time": "2022-07-25T16:39:27.801Z"
   },
   {
    "duration": 3,
    "start_time": "2022-07-25T16:43:44.169Z"
   },
   {
    "duration": 123119,
    "start_time": "2022-07-25T16:43:53.868Z"
   },
   {
    "duration": 5,
    "start_time": "2022-07-25T16:46:22.693Z"
   },
   {
    "duration": 120,
    "start_time": "2022-07-25T16:46:34.281Z"
   },
   {
    "duration": 4,
    "start_time": "2022-07-25T16:46:36.728Z"
   },
   {
    "duration": 5,
    "start_time": "2022-07-25T16:46:41.077Z"
   },
   {
    "duration": 75,
    "start_time": "2022-07-25T16:46:50.778Z"
   },
   {
    "duration": 3,
    "start_time": "2022-07-25T16:46:54.475Z"
   },
   {
    "duration": 5,
    "start_time": "2022-07-25T16:46:56.330Z"
   },
   {
    "duration": 4,
    "start_time": "2022-07-25T16:47:00.057Z"
   },
   {
    "duration": 4,
    "start_time": "2022-07-25T16:47:10.001Z"
   },
   {
    "duration": 5,
    "start_time": "2022-07-25T16:47:22.354Z"
   },
   {
    "duration": 4,
    "start_time": "2022-07-25T16:47:31.139Z"
   },
   {
    "duration": 7,
    "start_time": "2022-07-25T16:47:39.062Z"
   },
   {
    "duration": 4,
    "start_time": "2022-07-25T16:48:00.534Z"
   },
   {
    "duration": 4,
    "start_time": "2022-07-25T16:48:02.396Z"
   },
   {
    "duration": 4,
    "start_time": "2022-07-25T16:48:06.666Z"
   },
   {
    "duration": 4,
    "start_time": "2022-07-25T16:48:08.804Z"
   },
   {
    "duration": 5,
    "start_time": "2022-07-25T16:48:17.074Z"
   },
   {
    "duration": 3,
    "start_time": "2022-07-25T16:52:09.571Z"
   },
   {
    "duration": 44,
    "start_time": "2022-07-25T16:52:32.567Z"
   },
   {
    "duration": 7162,
    "start_time": "2022-07-25T16:52:32.919Z"
   },
   {
    "duration": 2044,
    "start_time": "2022-07-25T16:53:05.108Z"
   },
   {
    "duration": 8,
    "start_time": "2022-07-25T16:53:08.593Z"
   },
   {
    "duration": 606396,
    "start_time": "2022-07-25T16:53:14.647Z"
   },
   {
    "duration": 93,
    "start_time": "2022-07-25T17:03:21.046Z"
   },
   {
    "duration": 12,
    "start_time": "2022-07-25T17:03:21.141Z"
   },
   {
    "duration": 5,
    "start_time": "2022-07-25T17:04:59.993Z"
   },
   {
    "duration": 3,
    "start_time": "2022-07-25T17:06:41.630Z"
   },
   {
    "duration": 4,
    "start_time": "2022-07-25T17:06:51.524Z"
   },
   {
    "duration": 3,
    "start_time": "2022-07-25T17:06:57.725Z"
   },
   {
    "duration": 4,
    "start_time": "2022-07-25T17:06:59.728Z"
   },
   {
    "duration": 4,
    "start_time": "2022-07-25T17:07:01.945Z"
   },
   {
    "duration": 4,
    "start_time": "2022-07-25T17:07:09.051Z"
   },
   {
    "duration": 4,
    "start_time": "2022-07-25T17:07:56.883Z"
   },
   {
    "duration": 5,
    "start_time": "2022-07-25T17:08:15.784Z"
   },
   {
    "duration": 2817,
    "start_time": "2022-07-26T17:36:14.734Z"
   },
   {
    "duration": 2321,
    "start_time": "2022-07-26T17:36:17.554Z"
   },
   {
    "duration": 8,
    "start_time": "2022-07-26T17:36:19.877Z"
   },
   {
    "duration": 17,
    "start_time": "2022-07-26T17:36:19.887Z"
   },
   {
    "duration": 261,
    "start_time": "2022-07-26T17:36:19.906Z"
   },
   {
    "duration": 34,
    "start_time": "2022-07-26T17:36:20.172Z"
   },
   {
    "duration": 7,
    "start_time": "2022-07-26T17:36:20.209Z"
   },
   {
    "duration": 5,
    "start_time": "2022-07-26T17:36:53.604Z"
   },
   {
    "duration": 115940,
    "start_time": "2022-07-26T17:37:32.877Z"
   },
   {
    "duration": 4,
    "start_time": "2022-07-26T17:44:04.721Z"
   },
   {
    "duration": 83,
    "start_time": "2022-07-26T17:44:06.562Z"
   },
   {
    "duration": 6598,
    "start_time": "2022-07-26T17:44:22.327Z"
   },
   {
    "duration": 30,
    "start_time": "2022-07-26T17:48:17.650Z"
   },
   {
    "duration": 155,
    "start_time": "2022-07-26T17:48:28.255Z"
   },
   {
    "duration": 10365,
    "start_time": "2022-07-26T17:49:05.508Z"
   },
   {
    "duration": 41326,
    "start_time": "2022-07-26T17:49:37.584Z"
   },
   {
    "duration": 5,
    "start_time": "2022-07-26T17:52:36.084Z"
   },
   {
    "duration": 320999,
    "start_time": "2022-07-26T17:52:54.892Z"
   },
   {
    "duration": 4,
    "start_time": "2022-07-26T17:58:20.687Z"
   },
   {
    "duration": 15,
    "start_time": "2022-07-26T17:58:25.082Z"
   },
   {
    "duration": 28,
    "start_time": "2022-07-26T18:07:07.255Z"
   },
   {
    "duration": 25,
    "start_time": "2022-07-26T18:07:37.268Z"
   },
   {
    "duration": 52,
    "start_time": "2022-07-26T18:07:45.054Z"
   },
   {
    "duration": 30,
    "start_time": "2022-07-26T18:07:58.254Z"
   },
   {
    "duration": 25,
    "start_time": "2022-07-26T18:08:07.616Z"
   },
   {
    "duration": 32,
    "start_time": "2022-07-26T18:09:21.276Z"
   },
   {
    "duration": 2203,
    "start_time": "2022-07-26T18:09:48.358Z"
   },
   {
    "duration": 3238,
    "start_time": "2022-07-26T18:11:18.157Z"
   },
   {
    "duration": 20,
    "start_time": "2022-07-26T18:13:47.016Z"
   },
   {
    "duration": 1643,
    "start_time": "2022-07-26T18:14:12.616Z"
   },
   {
    "duration": 764,
    "start_time": "2022-07-26T18:14:14.261Z"
   },
   {
    "duration": 7,
    "start_time": "2022-07-26T18:14:15.026Z"
   },
   {
    "duration": 16,
    "start_time": "2022-07-26T18:14:15.035Z"
   },
   {
    "duration": 260,
    "start_time": "2022-07-26T18:14:15.053Z"
   },
   {
    "duration": 29,
    "start_time": "2022-07-26T18:14:15.315Z"
   },
   {
    "duration": 9,
    "start_time": "2022-07-26T18:14:15.346Z"
   },
   {
    "duration": 112230,
    "start_time": "2022-07-26T18:14:15.356Z"
   },
   {
    "duration": 2,
    "start_time": "2022-07-26T18:16:07.588Z"
   },
   {
    "duration": 86,
    "start_time": "2022-07-26T18:16:07.592Z"
   },
   {
    "duration": 19071,
    "start_time": "2022-07-26T18:16:07.680Z"
   },
   {
    "duration": 1038817,
    "start_time": "2022-07-26T18:16:26.753Z"
   },
   {
    "duration": 6,
    "start_time": "2022-07-26T18:33:45.573Z"
   },
   {
    "duration": 15,
    "start_time": "2022-07-26T18:33:45.580Z"
   },
   {
    "duration": 576823,
    "start_time": "2022-07-26T18:33:45.597Z"
   },
   {
    "duration": 80,
    "start_time": "2022-07-26T18:43:22.422Z"
   },
   {
    "duration": 0,
    "start_time": "2022-07-26T18:43:22.503Z"
   },
   {
    "duration": 19294,
    "start_time": "2022-07-26T18:43:23.701Z"
   },
   {
    "duration": 213422,
    "start_time": "2022-07-26T18:43:43.874Z"
   },
   {
    "duration": 2181789,
    "start_time": "2022-07-26T18:47:18.086Z"
   },
   {
    "duration": 4,
    "start_time": "2022-07-26T19:23:39.876Z"
   },
   {
    "duration": 11,
    "start_time": "2022-07-26T19:24:01.158Z"
   },
   {
    "duration": 59,
    "start_time": "2022-07-26T19:24:49.116Z"
   },
   {
    "duration": 8,
    "start_time": "2022-07-26T19:24:58.241Z"
   },
   {
    "duration": 11,
    "start_time": "2022-07-26T19:25:00.182Z"
   },
   {
    "duration": 3219,
    "start_time": "2022-07-27T16:54:33.270Z"
   },
   {
    "duration": 3492,
    "start_time": "2022-07-27T16:54:36.491Z"
   },
   {
    "duration": 6,
    "start_time": "2022-07-27T16:54:39.984Z"
   },
   {
    "duration": 7,
    "start_time": "2022-07-27T16:54:39.992Z"
   },
   {
    "duration": 226,
    "start_time": "2022-07-27T16:54:40.000Z"
   },
   {
    "duration": 25,
    "start_time": "2022-07-27T16:54:40.228Z"
   },
   {
    "duration": 5,
    "start_time": "2022-07-27T16:54:49.460Z"
   },
   {
    "duration": 3,
    "start_time": "2022-07-27T16:54:52.936Z"
   },
   {
    "duration": 11143,
    "start_time": "2022-07-27T16:55:19.418Z"
   },
   {
    "duration": 3,
    "start_time": "2022-07-27T16:55:32.767Z"
   },
   {
    "duration": 32,
    "start_time": "2022-07-27T17:22:34.350Z"
   },
   {
    "duration": 724,
    "start_time": "2022-07-27T17:22:34.763Z"
   },
   {
    "duration": 6,
    "start_time": "2022-07-27T17:22:35.489Z"
   },
   {
    "duration": 5,
    "start_time": "2022-07-27T17:22:37.104Z"
   },
   {
    "duration": 216,
    "start_time": "2022-07-27T17:22:37.533Z"
   },
   {
    "duration": 27,
    "start_time": "2022-07-27T17:22:40.607Z"
   },
   {
    "duration": 4,
    "start_time": "2022-07-27T17:22:41.204Z"
   },
   {
    "duration": 3,
    "start_time": "2022-07-27T17:22:41.556Z"
   },
   {
    "duration": 111381,
    "start_time": "2022-07-27T17:22:43.290Z"
   },
   {
    "duration": 2,
    "start_time": "2022-07-27T17:24:34.673Z"
   },
   {
    "duration": 71,
    "start_time": "2022-07-27T17:26:46.782Z"
   },
   {
    "duration": 46,
    "start_time": "2022-07-27T17:26:53.214Z"
   },
   {
    "duration": 10,
    "start_time": "2022-07-27T17:26:56.805Z"
   },
   {
    "duration": 3,
    "start_time": "2022-07-27T17:27:01.353Z"
   },
   {
    "duration": 21,
    "start_time": "2022-07-27T17:27:06.265Z"
   },
   {
    "duration": 19143,
    "start_time": "2022-07-27T17:27:32.619Z"
   },
   {
    "duration": 14,
    "start_time": "2022-07-27T17:29:11.989Z"
   },
   {
    "duration": 126484,
    "start_time": "2022-07-27T17:29:25.404Z"
   },
   {
    "duration": 12,
    "start_time": "2022-07-27T17:32:43.435Z"
   },
   {
    "duration": 7,
    "start_time": "2022-07-27T17:32:51.184Z"
   },
   {
    "duration": 12,
    "start_time": "2022-07-27T17:32:51.399Z"
   },
   {
    "duration": 108111,
    "start_time": "2022-07-27T17:33:04.563Z"
   },
   {
    "duration": 11,
    "start_time": "2022-07-27T17:35:18.641Z"
   },
   {
    "duration": 8,
    "start_time": "2022-07-27T17:35:22.187Z"
   },
   {
    "duration": 11,
    "start_time": "2022-07-27T17:35:22.530Z"
   },
   {
    "duration": 71106,
    "start_time": "2022-07-27T17:35:43.104Z"
   },
   {
    "duration": 3,
    "start_time": "2022-07-27T17:37:28.275Z"
   },
   {
    "duration": 1770,
    "start_time": "2022-07-27T17:38:28.958Z"
   },
   {
    "duration": 176,
    "start_time": "2022-07-27T17:39:02.357Z"
   },
   {
    "duration": 80,
    "start_time": "2022-07-27T17:39:03.339Z"
   },
   {
    "duration": 16121,
    "start_time": "2022-07-27T17:39:05.279Z"
   },
   {
    "duration": 100476,
    "start_time": "2022-07-27T17:39:21.402Z"
   },
   {
    "duration": 23,
    "start_time": "2022-07-27T17:41:01.880Z"
   },
   {
    "duration": 7,
    "start_time": "2022-07-27T17:41:01.905Z"
   },
   {
    "duration": 19,
    "start_time": "2022-07-27T17:41:01.913Z"
   },
   {
    "duration": 174,
    "start_time": "2022-07-27T17:41:30.058Z"
   },
   {
    "duration": 72,
    "start_time": "2022-07-27T17:41:31.726Z"
   },
   {
    "duration": 6003,
    "start_time": "2022-07-27T17:41:36.834Z"
   },
   {
    "duration": 20706,
    "start_time": "2022-07-27T17:41:45.896Z"
   },
   {
    "duration": 12,
    "start_time": "2022-07-27T17:42:06.604Z"
   },
   {
    "duration": 14,
    "start_time": "2022-07-27T17:42:06.618Z"
   },
   {
    "duration": 14,
    "start_time": "2022-07-27T17:42:06.633Z"
   },
   {
    "duration": 36282,
    "start_time": "2022-07-27T17:42:12.921Z"
   },
   {
    "duration": 100,
    "start_time": "2022-07-27T17:42:49.206Z"
   },
   {
    "duration": 5,
    "start_time": "2022-07-27T17:42:49.308Z"
   },
   {
    "duration": 14,
    "start_time": "2022-07-27T17:42:49.315Z"
   },
   {
    "duration": 4,
    "start_time": "2022-07-27T17:43:11.351Z"
   },
   {
    "duration": 110903,
    "start_time": "2022-07-27T17:43:12.431Z"
   },
   {
    "duration": 14,
    "start_time": "2022-07-27T17:45:03.336Z"
   },
   {
    "duration": 122,
    "start_time": "2022-07-27T17:45:03.352Z"
   },
   {
    "duration": 18976,
    "start_time": "2022-07-27T17:45:03.477Z"
   },
   {
    "duration": 3,
    "start_time": "2022-07-27T17:45:22.455Z"
   },
   {
    "duration": 109,
    "start_time": "2022-07-27T17:45:22.460Z"
   },
   {
    "duration": 0,
    "start_time": "2022-07-27T17:45:22.571Z"
   },
   {
    "duration": 0,
    "start_time": "2022-07-27T17:45:22.573Z"
   },
   {
    "duration": 13,
    "start_time": "2022-07-27T17:49:16.089Z"
   },
   {
    "duration": 132927,
    "start_time": "2022-07-27T17:49:28.283Z"
   },
   {
    "duration": 8,
    "start_time": "2022-07-27T17:51:41.212Z"
   },
   {
    "duration": 11,
    "start_time": "2022-07-27T17:51:41.222Z"
   },
   {
    "duration": 2907,
    "start_time": "2022-07-28T17:12:49.269Z"
   },
   {
    "duration": 2231,
    "start_time": "2022-07-28T17:12:52.178Z"
   },
   {
    "duration": 7,
    "start_time": "2022-07-28T17:12:54.411Z"
   },
   {
    "duration": 11,
    "start_time": "2022-07-28T17:12:54.420Z"
   },
   {
    "duration": 216,
    "start_time": "2022-07-28T17:12:54.433Z"
   },
   {
    "duration": 26,
    "start_time": "2022-07-28T17:12:54.651Z"
   },
   {
    "duration": 1978,
    "start_time": "2022-07-28T17:12:54.679Z"
   },
   {
    "duration": 2030,
    "start_time": "2022-07-28T18:38:04.819Z"
   },
   {
    "duration": 2343,
    "start_time": "2022-07-28T18:38:06.851Z"
   },
   {
    "duration": 8,
    "start_time": "2022-07-28T18:38:09.197Z"
   },
   {
    "duration": 13,
    "start_time": "2022-07-28T18:38:09.208Z"
   },
   {
    "duration": 224,
    "start_time": "2022-07-28T18:38:09.222Z"
   },
   {
    "duration": 26,
    "start_time": "2022-07-28T18:38:09.448Z"
   },
   {
    "duration": 2002,
    "start_time": "2022-07-28T18:38:09.476Z"
   },
   {
    "duration": 124447,
    "start_time": "2022-07-28T18:38:11.479Z"
   },
   {
    "duration": 2,
    "start_time": "2022-07-28T18:40:15.928Z"
   },
   {
    "duration": 98,
    "start_time": "2022-07-28T18:40:15.932Z"
   },
   {
    "duration": 7731,
    "start_time": "2022-07-28T18:40:16.032Z"
   },
   {
    "duration": 390847,
    "start_time": "2022-07-28T18:40:23.764Z"
   },
   {
    "duration": 3,
    "start_time": "2022-07-28T18:46:54.613Z"
   },
   {
    "duration": 34,
    "start_time": "2022-07-28T18:46:54.618Z"
   },
   {
    "duration": 437186,
    "start_time": "2022-07-28T18:46:54.653Z"
   },
   {
    "duration": 5,
    "start_time": "2022-07-28T18:54:11.841Z"
   },
   {
    "duration": 17,
    "start_time": "2022-07-28T18:54:11.848Z"
   },
   {
    "duration": 166,
    "start_time": "2022-07-28T18:54:11.867Z"
   },
   {
    "duration": 0,
    "start_time": "2022-07-28T18:54:12.037Z"
   },
   {
    "duration": 6,
    "start_time": "2022-07-28T19:01:29.329Z"
   },
   {
    "duration": 11,
    "start_time": "2022-07-28T19:01:32.176Z"
   }
  ],
  "kernelspec": {
   "display_name": "Python 3 (ipykernel)",
   "language": "python",
   "name": "python3"
  },
  "language_info": {
   "codemirror_mode": {
    "name": "ipython",
    "version": 3
   },
   "file_extension": ".py",
   "mimetype": "text/x-python",
   "name": "python",
   "nbconvert_exporter": "python",
   "pygments_lexer": "ipython3",
   "version": "3.9.5"
  },
  "toc": {
   "base_numbering": 1,
   "nav_menu": {},
   "number_sections": true,
   "sideBar": true,
   "skip_h1_title": true,
   "title_cell": "Содержание",
   "title_sidebar": "Contents",
   "toc_cell": true,
   "toc_position": {
    "height": "calc(100% - 180px)",
    "left": "10px",
    "top": "150px",
    "width": "302.391px"
   },
   "toc_section_display": true,
   "toc_window_display": false
  }
 },
 "nbformat": 4,
 "nbformat_minor": 2
}
